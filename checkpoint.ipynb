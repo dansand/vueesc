{
 "cells": [
  {
   "cell_type": "markdown",
   "metadata": {
    "collapsed": true
   },
   "source": [
    "\n",
    "Viscoplastic thermal convection in a 2-D square box\n",
    "=======\n",
    "\n",
    "Benchmarks from Tosi et al. 2015\n",
    "--------\n",
    "\n"
   ]
  },
  {
   "cell_type": "markdown",
   "metadata": {
    "collapsed": true
   },
   "source": [
    "This notebook generates models from the <a name=\"ref-1\"/>[(Tosi et al., 2015)](#cite-tosi2015community) in Underworld2. The Underworld2 results are compared to the model run on Fenics. Input files for the Fenics models were provided by Petra Maierova.\n",
    "\n",
    "This example uses the RT PIC solver with classic and nearest neighbour\n",
    "\n",
    "\n",
    "References\n",
    "====\n",
    "\n",
    "<a name=\"cite-tosi2015community\"/><sup>[^](#ref-1) </sup>Tosi, Nicola and Stein, Claudia and Noack, Lena and H&uuml;ttig, Christian and Maierov&aacute;, Petra and Samuel, Henri and Davies, DR and Wilson, CR and Kramer, SC and Thieulot, Cedric and others. 2015. _A community benchmark for viscoplastic thermal convection in a 2-D square box_.\n",
    "\n"
   ]
  },
  {
   "cell_type": "code",
   "execution_count": 78,
   "metadata": {
    "collapsed": false
   },
   "outputs": [],
   "source": [
    "#pwd"
   ]
  },
  {
   "cell_type": "markdown",
   "metadata": {},
   "source": [
    "Load python functions needed for underworld. Some additional python functions from os, math and numpy used later on."
   ]
  },
  {
   "cell_type": "code",
   "execution_count": 79,
   "metadata": {
    "collapsed": false
   },
   "outputs": [],
   "source": [
    "import underworld as uw\n",
    "import math\n",
    "from underworld import function as fn\n",
    "import glucifer\n",
    "#import matplotlib.pyplot as pyplot\n",
    "import time\n",
    "import numpy as np\n",
    "import os\n",
    "import sys\n",
    "import natsort\n",
    "\n",
    "from mpi4py import MPI\n",
    "comm = MPI.COMM_WORLD\n",
    "rank = comm.Get_rank()"
   ]
  },
  {
   "cell_type": "code",
   "execution_count": 80,
   "metadata": {
    "collapsed": false
   },
   "outputs": [],
   "source": [
    "############\n",
    "#Need to manually set these two\n",
    "############\n",
    "Model = \"T\"\n",
    "ModNum = 5\n",
    "\n",
    "if len(sys.argv) == 1:\n",
    "    ModIt = \"Base\"\n",
    "elif sys.argv[1] == '-f':\n",
    "    ModIt = \"Base\"\n",
    "else:\n",
    "    ModIt = str(sys.argv[1])\n"
   ]
  },
  {
   "cell_type": "code",
   "execution_count": null,
   "metadata": {
    "collapsed": true
   },
   "outputs": [],
   "source": []
  },
  {
   "cell_type": "markdown",
   "metadata": {},
   "source": [
    "Set physical constants and parameters, including the Rayleigh number (*RA*). "
   ]
  },
  {
   "cell_type": "code",
   "execution_count": 81,
   "metadata": {
    "collapsed": true
   },
   "outputs": [],
   "source": [
    "#Do you want to write hdf5 files - Temp, RMS, viscosity, stress?\n",
    "writeFiles = True\n",
    "loadTemp = False\n",
    "refineMesh = True"
   ]
  },
  {
   "cell_type": "code",
   "execution_count": 82,
   "metadata": {
    "collapsed": false
   },
   "outputs": [],
   "source": [
    "ETA_T = 1e5\n",
    "newvisc= math.exp(math.log(ETA_T)*0.53)\n"
   ]
  },
  {
   "cell_type": "code",
   "execution_count": 83,
   "metadata": {
    "collapsed": false
   },
   "outputs": [
    {
     "data": {
      "text/plain": [
       "446.6835921509633"
      ]
     },
     "execution_count": 83,
     "metadata": {},
     "output_type": "execute_result"
    }
   ],
   "source": [
    "newvisc"
   ]
  },
  {
   "cell_type": "code",
   "execution_count": 84,
   "metadata": {
    "collapsed": false
   },
   "outputs": [],
   "source": [
    "###########\n",
    "#Constants\n",
    "###########\n",
    "RA  = 1e2*newvisc       # Rayleigh number\n",
    "TS  = 0          # surface temperature\n",
    "TB  = 1          # bottom boundary temperature (melting point)\n",
    "ETA_T = 1e5\n",
    "ETA_Y = 10\n",
    "ETA0 = 1e-3*newvisc\n",
    "YSTRESS = 1.*newvisc\n",
    "D = 2890.\n",
    "\n",
    "MINX = -1.\n",
    "ALPHA = 11.\n",
    "\n",
    "stickyAir = False"
   ]
  },
  {
   "cell_type": "code",
   "execution_count": 85,
   "metadata": {
    "collapsed": false
   },
   "outputs": [],
   "source": [
    "\n",
    "    \n",
    "if MINX == 0.:\n",
    "    squareModel = True\n",
    "else: \n",
    "    squareModel = False\n"
   ]
  },
  {
   "cell_type": "code",
   "execution_count": 86,
   "metadata": {
    "collapsed": false
   },
   "outputs": [],
   "source": [
    "##########\n",
    "#variables, these can be defined with STDIN,\n",
    "##########\n",
    "#The == '-f': check is just to check if we're running a notebook - careful, haven't tested\n",
    "    \n",
    "#Watch the type assignemnt on sys.argv[1]\n",
    "\n",
    "DEFAULT = 128\n",
    "ModIt   = str(DEFAULT)\n",
    "    \n",
    "    \n",
    "if len(sys.argv) == 1:\n",
    "    RES = DEFAULT\n",
    "elif sys.argv[1] == '-f':\n",
    "    RES = DEFAULT\n",
    "else:\n",
    "    RES = int(sys.argv[1])\n",
    "    "
   ]
  },
  {
   "cell_type": "code",
   "execution_count": 87,
   "metadata": {
    "collapsed": true
   },
   "outputs": [],
   "source": [
    "outputPath = \"results\" + \"/\" +  str(Model) + \"/\" + str(ModNum) + \"/\"\n",
    "imagePath = outputPath + 'images/'\n",
    "filePath = outputPath + 'files/'\n",
    "checkpointPath = outputPath + 'checkpoint/'\n",
    "dbPath = outputPath + 'gldbs/'\n",
    "outputFile = 'results_model' + Model + '_' + str(ModNum) + '_' + str(ModIt) + '.dat'\n",
    "\n",
    "if uw.rank()==0:\n",
    "    # make directories if they don't exist\n",
    "    if not os.path.isdir(outputPath):\n",
    "        os.makedirs(outputPath)\n",
    "    if not os.path.isdir(checkpointPath):\n",
    "        os.makedirs(checkpointPath)\n",
    "    if not os.path.isdir(imagePath):\n",
    "        os.makedirs(imagePath)\n",
    "    if not os.path.isdir(dbPath):\n",
    "        os.makedirs(dbPath)\n",
    "    if not os.path.isdir(filePath):\n",
    "        os.makedirs(filePath)"
   ]
  },
  {
   "cell_type": "code",
   "execution_count": 88,
   "metadata": {
    "collapsed": false
   },
   "outputs": [],
   "source": [
    "dim = 2          # number of spatial dimensions\n",
    "\n",
    "\n",
    "if MINX == 0.:\n",
    "    Xres = RES\n",
    "else:\n",
    "    Xres = 2*RES\n",
    "    \n",
    "if stickyAir:\n",
    "    Yres = RES + 8\n",
    "    MAXY = float(Yres)/RES\n",
    "    \n",
    "else:\n",
    "    Yres = RES\n",
    "    MAXY = 1.\n",
    "    "
   ]
  },
  {
   "cell_type": "code",
   "execution_count": 89,
   "metadata": {
    "collapsed": false
   },
   "outputs": [
    {
     "data": {
      "text/plain": [
       "1.0"
      ]
     },
     "execution_count": 89,
     "metadata": {},
     "output_type": "execute_result"
    }
   ],
   "source": [
    "MAXY"
   ]
  },
  {
   "cell_type": "code",
   "execution_count": 90,
   "metadata": {
    "collapsed": false
   },
   "outputs": [
    {
     "data": {
      "text/plain": [
       "(256, 128)"
      ]
     },
     "execution_count": 90,
     "metadata": {},
     "output_type": "execute_result"
    }
   ],
   "source": [
    "Xres, Yres"
   ]
  },
  {
   "cell_type": "code",
   "execution_count": 91,
   "metadata": {
    "collapsed": false
   },
   "outputs": [
    {
     "data": {
      "text/plain": [
       "(1.0, 0.0078125, 22.578125)"
      ]
     },
     "execution_count": 91,
     "metadata": {},
     "output_type": "execute_result"
    }
   ],
   "source": [
    "yelsize = MAXY/Yres\n",
    "MAXY, yelsize, yelsize*D"
   ]
  },
  {
   "cell_type": "markdown",
   "metadata": {},
   "source": [
    "Select which case of viscosity from Tosi et al (2015) to use. Adjust the yield stress to be =1 for cases 1-4, or between 3.0 and 5.0 (in increments of 0.1) in case 5."
   ]
  },
  {
   "cell_type": "markdown",
   "metadata": {},
   "source": [
    "Set output file and directory for results"
   ]
  },
  {
   "cell_type": "markdown",
   "metadata": {},
   "source": [
    "Create mesh objects. These store the indices and spatial coordiates of the grid points on the mesh."
   ]
  },
  {
   "cell_type": "code",
   "execution_count": 92,
   "metadata": {
    "collapsed": false
   },
   "outputs": [],
   "source": [
    "elementMesh = uw.mesh.FeMesh_Cartesian( elementType=(\"Q1/dQ0\"), \n",
    "                                         elementRes=(Xres, Yres), \n",
    "                                           minCoord=(MINX,0.), \n",
    "                                           maxCoord=(1.,MAXY), periodic=[True,False] )\n",
    "linearMesh   = elementMesh\n",
    "constantMesh = elementMesh.subMesh "
   ]
  },
  {
   "cell_type": "markdown",
   "metadata": {},
   "source": [
    "Create Finite Element (FE) variables for the velocity, pressure and temperature fields. The last two of these are scalar fields needing only one value at each mesh point, while the velocity field contains a vector of *dim* dimensions at each mesh point."
   ]
  },
  {
   "cell_type": "code",
   "execution_count": 93,
   "metadata": {
    "collapsed": false
   },
   "outputs": [],
   "source": [
    "velocityField    = uw.fevariable.FeVariable( feMesh=linearMesh,   nodeDofCount=dim )\n",
    "pressureField    = uw.fevariable.FeVariable( feMesh=constantMesh, nodeDofCount=1 )\n",
    "temperatureField = uw.fevariable.FeVariable( feMesh=linearMesh,   nodeDofCount=1 )\n",
    "temperatureDotField = uw.fevariable.FeVariable( feMesh=linearMesh,      nodeDofCount=1 )"
   ]
  },
  {
   "cell_type": "markdown",
   "metadata": {},
   "source": [
    "Create some dummy fevariables for doing top and bottom boundary calculations."
   ]
  },
  {
   "cell_type": "markdown",
   "metadata": {},
   "source": [
    "##Refine mesh"
   ]
  },
  {
   "cell_type": "markdown",
   "metadata": {
    "collapsed": true
   },
   "source": [
    "if refineMesh:\n",
    "    alpha=ALPHA\n",
    "    newys = []\n",
    "    newxs = []\n",
    "    for index, coord in enumerate(linearMesh.data):\n",
    "        y0 = coord[1]\n",
    "        x0 = abs(coord[0])\n",
    "        if y0 >= 1.0:\n",
    "            newy = y0\n",
    "        else:\n",
    "            newy = (math.log(alpha*y0 + math.e) - 1)*(1/(math.log(alpha + math.e) - 1))\n",
    "        newx = (math.log((alpha/2.)*x0 + math.e) - 1)*(1/(math.log((alpha/2.) + math.e) - 1))\n",
    "        if coord[0] <= 0:\n",
    "            newx = -1.*newx\n",
    "        newys.append(newy)\n",
    "        newxs.append(newx)\n",
    "        \n",
    "    with linearMesh.deform_mesh():\n",
    "        linearMesh.data[:,1] = newys\n",
    "        linearMesh.data[:,0] = newxs"
   ]
  },
  {
   "cell_type": "code",
   "execution_count": 94,
   "metadata": {
    "collapsed": true
   },
   "outputs": [],
   "source": [
    "#THis one for the rectangular mesh\n",
    "\n",
    "if refineMesh:\n",
    "    alpha = ALPHA\n",
    "    newys = []\n",
    "    newxs = []\n",
    "    for index, coord in enumerate(linearMesh.data):\n",
    "        y0 = coord[1]\n",
    "        x0 = abs(coord[0])\n",
    "        if y0 >= 1.0:\n",
    "            newy = y0\n",
    "        else:\n",
    "            newy = (math.log(alpha*y0 + math.e) - 1)*(1/(math.log(alpha + math.e) - 1))\n",
    "        if coord[0] > 0:\n",
    "            newx = (math.e**(x0*(math.log((alpha/2.) + math.e) - 1) + 1 ) - math.e)/(alpha/2.)     \n",
    "        else:\n",
    "            newx = -1.*(math.e**(x0*(math.log((alpha/2.) + math.e) - 1) + 1 ) - math.e)/(alpha/2.)\n",
    "        newys.append(newy)\n",
    "        newxs.append(newx)\n",
    "        #print y0,newy\n",
    "        \n",
    "    with linearMesh.deform_mesh():\n",
    "            linearMesh.data[:,1] = newys\n",
    "            linearMesh.data[:,0] = newxs"
   ]
  },
  {
   "cell_type": "markdown",
   "metadata": {},
   "source": [
    "#ICs and BCs"
   ]
  },
  {
   "cell_type": "code",
   "execution_count": 95,
   "metadata": {
    "collapsed": false
   },
   "outputs": [],
   "source": [
    "# Initialise data.. Note that we are also setting boundary conditions here\n",
    "velocityField.data[:] = [0.,0.]\n",
    "pressureField.data[:] = 0.\n",
    "temperatureField.data[:] = 0.\n",
    "temperatureDotField.data[:] = 0.\n",
    "\n",
    "# Setup temperature initial condition via numpy arrays\n",
    "A = 0.01\n",
    "#Note that width = height = 1\n",
    "tempNump = temperatureField.data\n",
    "for index, coord in enumerate(linearMesh.data):\n",
    "    pertCoeff = (1- coord[1]) + A*math.cos( math.pi * abs(1. - coord[0]) ) * math.sin( math.pi * coord[1] )\n",
    "    tempNump[index] = pertCoeff;\n",
    "    if coord[1] > 1:\n",
    "        tempNump[index] = 0."
   ]
  },
  {
   "cell_type": "code",
   "execution_count": null,
   "metadata": {
    "collapsed": false
   },
   "outputs": [],
   "source": []
  },
  {
   "cell_type": "code",
   "execution_count": 96,
   "metadata": {
    "collapsed": false
   },
   "outputs": [],
   "source": [
    "#For notebook runs\n",
    "ModIt = \"128\""
   ]
  },
  {
   "cell_type": "code",
   "execution_count": 97,
   "metadata": {
    "collapsed": false
   },
   "outputs": [],
   "source": [
    "########################################\n",
    "#No sticky air, square models\n",
    "########################################\n",
    "\n",
    "if (loadTemp == True) and (refineMesh == False) and (squareModel == True) and (stickyAir == False):\n",
    "    if ModIt == str(96):\n",
    "        temperatureField.load('temp_ics/1.0_96_init_temp.hdf5')\n",
    "    elif ModIt == str(128):\n",
    "        temperatureField.load('temp_ics/1.0_128_init_temp.hdf5')\n",
    "    elif ModIt == str(144):\n",
    "        temperatureField.load('temp_ics/1.0_144_init_temp.hdf5')\n",
    "    elif ModIt == str(192):\n",
    "        temperatureField.load('temp_ics/1.0_192_init_temp.hdf5')\n",
    "    elif ModIt == str(256):\n",
    "        temperatureField.load('temp_ics/1.0_256_init_temp.hdf5')\n",
    "elif (loadTemp == True) and (refineMesh == True) and (squareModel == True) and (stickyAir == False):\n",
    "    if ModIt == str(96):\n",
    "        temperatureField.load('temp_ics/r11_1.0_96_init_temp.hdf5')\n",
    "    elif ModIt == str(128):\n",
    "        temperatureField.load('temp_ics/r11_1.0_128_init_temp.hdf5')\n",
    "    elif ModIt == str(144):\n",
    "        temperatureField.load('temp_ics/r11_1.0_144_init_temp.hdf5')\n",
    "    elif ModIt == str(192):\n",
    "        temperatureField.load('temp_ics/r11_1.0_192_init_temp.hdf5')\n",
    "    elif ModIt == str(256):\n",
    "        temperatureField.load('temp_ics/r11_1.0_256_init_temp.hdf5') "
   ]
  },
  {
   "cell_type": "code",
   "execution_count": 98,
   "metadata": {
    "collapsed": false
   },
   "outputs": [],
   "source": [
    "########################################\n",
    "#Sticky air, square models\n",
    "########################################\n",
    "if (loadTemp == True) and (refineMesh == False) and (squareModel == True) and (stickyAir == True):\n",
    "    print \"True\"\n",
    "    if ModIt == str(96):\n",
    "        temperatureField.load('temp_ics/sqa_96_init_temp.hdf5')\n",
    "    elif ModIt == str(128):\n",
    "        temperatureField.load('temp_ics/sqa_128_init_temp.hdf5')\n",
    "    elif ModIt == str(144):\n",
    "        temperatureField.load('temp_ics/sqa_144_init_temp.hdf5')\n",
    "    elif ModIt == str(192):\n",
    "        temperatureField.load('temp_ics/sqa_192_init_temp.hdf5')\n",
    "    elif ModIt == str(256):\n",
    "        temperatureField.load('temp_ics/sqa_256_init_temp.hdf5')\n",
    "elif (loadTemp == True) and (refineMesh == True) and (squareModel == True) and (stickyAir == True):\n",
    "    print \"True\"\n",
    "    if ModIt == str(96):\n",
    "        temperatureField.load('temp_ics/r11_sqa_96_init_temp.hdf5')\n",
    "    elif ModIt == str(128):\n",
    "        temperatureField.load('temp_ics/r11_sqa_128_init_temp.hdf5')\n",
    "    elif ModIt == str(144):\n",
    "        temperatureField.load('temp_ics/r11_sqa_144_init_temp.hdf5')\n",
    "    elif ModIt == str(192):\n",
    "        temperatureField.load('temp_ics/r11_sqa_192_init_temp.hdf5')\n",
    "    elif ModIt == str(256):\n",
    "        temperatureField.load('temp_ics/r11_sqa_256_init_temp.hdf5') "
   ]
  },
  {
   "cell_type": "code",
   "execution_count": 99,
   "metadata": {
    "collapsed": false
   },
   "outputs": [
    {
     "data": {
      "text/plain": [
       "'128'"
      ]
     },
     "execution_count": 99,
     "metadata": {},
     "output_type": "execute_result"
    }
   ],
   "source": [
    "ModIt"
   ]
  },
  {
   "cell_type": "code",
   "execution_count": 100,
   "metadata": {
    "collapsed": false
   },
   "outputs": [],
   "source": [
    "########################################\n",
    "#Sticky air, rectangular models\n",
    "########################################\n",
    "\n",
    "if (loadTemp == True) and (refineMesh == False) and (squareModel == False) and (stickyAir == True):\n",
    "    print \"True\"\n",
    "    if ModIt == str(96):\n",
    "        temperatureField.load('temp_ics/sa_96_init_temp.hdf5')\n",
    "    elif ModIt == str(128):\n",
    "        temperatureField.load('temp_ics/sa_128_init_temp.hdf5')\n",
    "    elif ModIt == str(144):\n",
    "        temperatureField.load('temp_ics/sa_144_init_temp.hdf5')\n",
    "    elif ModIt == str(192):\n",
    "        temperatureField.load('temp_ics/sa_192_init_temp.hdf5')\n",
    "    elif ModIt == str(256):\n",
    "        temperatureField.load('temp_ics/sa_256_init_temp.hdf5')\n",
    "elif (loadTemp == True) and (refineMesh == True) and (squareModel == False) and (stickyAir == True):\n",
    "    print \"True\"\n",
    "    if ModIt == str(96):\n",
    "        temperatureField.load('temp_ics/r11_sa_96_init_temp.hdf5')\n",
    "    elif ModIt == str(128):\n",
    "        temperatureField.load('temp_ics/r11_sa_128_init_temp.hdf5')\n",
    "    elif ModIt == str(144):\n",
    "        temperatureField.load('temp_ics/r11_sa_144_init_temp.hdf5')\n",
    "    elif ModIt == str(192):\n",
    "        temperatureField.load('temp_ics/r11_sa_192_init_temp.hdf5')\n",
    "    elif ModIt == str(256):\n",
    "        temperatureField.load('temp_ics/r11_sa_256_init_temp.hdf5')"
   ]
  },
  {
   "cell_type": "markdown",
   "metadata": {
    "collapsed": true
   },
   "source": [
    "dres = 96\n",
    "dummyelementMesh = uw.mesh.FeMesh_Cartesian( elementType = (\"Q1/dQ0\"), \n",
    "                                         elementRes = (dres, dres), \n",
    "                                           minCoord = (0., 0.), \n",
    "                                           maxCoord = (1., 1.))\n",
    "\n",
    "dummytemperatureMesh = dummyelementMesh \n",
    "dummytemperatureField = uw.fevariable.FeVariable( feMesh=dummytemperatureMesh, nodeDofCount=1 )\n",
    "dummytemperatureField.load('temp_ics/temperatureField_4_10200.hdf5')\n",
    "\n",
    "for index, coord in enumerate(linearMesh.data):\n",
    "    #This bit determines whether you see a reflected image or not\n",
    "    #xpos, ypos = (1.- abs(coord[0])), coord[1]\n",
    "    xpos, ypos = (abs(coord[0])), coord[1]\n",
    "    if ypos >= 1:\n",
    "        temperatureField.data[index] = 0.\n",
    "    else:\n",
    "        #print(dummytemperatureField.evaluate((xpos, ypos)))\n",
    "        #randpert = np.random.rand(1)[0]*(50./2500)\n",
    "        randpert = 0.\n",
    "        #Don't know mesh partitions in advance, and possible diferent between 'real' and 'dummy' mesh\n",
    "        try:\n",
    "            temperatureField.data[index] = dummytemperatureField.evaluate((xpos, ypos))  + randpert\n",
    "        except:\n",
    "            pass\n",
    "            \n",
    "temperatureField.save('temp_ics/r11_1.0_144_init_temp.hdf5')"
   ]
  },
  {
   "cell_type": "markdown",
   "metadata": {
    "collapsed": true
   },
   "source": []
  },
  {
   "cell_type": "code",
   "execution_count": null,
   "metadata": {
    "collapsed": true
   },
   "outputs": [],
   "source": []
  },
  {
   "cell_type": "code",
   "execution_count": 101,
   "metadata": {
    "collapsed": false
   },
   "outputs": [],
   "source": [
    "#icfnam= \"R(11)_\" + \"2_\" + str(RES) + \"_init_temp.hdf5\"\n",
    "#icpath = \"temp_ics/\" + icfnam \n",
    "#icfnam= str(Model) + str(ModIt) + \"_init_temp.hdf5\"\n",
    "#temperatureField.save(icpath)\n",
    "#icfnam\n",
    "#icpath"
   ]
  },
  {
   "cell_type": "code",
   "execution_count": 102,
   "metadata": {
    "collapsed": false
   },
   "outputs": [],
   "source": [
    "# Get the actual sets \n",
    "#\n",
    "#  HJJJJJJH\n",
    "#  I      I\n",
    "#  I      I\n",
    "#  I      I\n",
    "#  HJJJJJJH\n",
    "#  \n",
    "#  Note that H = I & J \n",
    "\n",
    "# Note that we use operator overloading to combine sets\n",
    "IWalls = linearMesh.specialSets[\"MinI_VertexSet\"] + linearMesh.specialSets[\"MaxI_VertexSet\"]\n",
    "JWalls = linearMesh.specialSets[\"MinJ_VertexSet\"] + linearMesh.specialSets[\"MaxJ_VertexSet\"]\n",
    "TWalls = linearMesh.specialSets[\"MaxJ_VertexSet\"]\n",
    "BWalls = linearMesh.specialSets[\"MinJ_VertexSet\"]"
   ]
  },
  {
   "cell_type": "code",
   "execution_count": null,
   "metadata": {
    "collapsed": true
   },
   "outputs": [],
   "source": []
  },
  {
   "cell_type": "code",
   "execution_count": 103,
   "metadata": {
    "collapsed": true
   },
   "outputs": [],
   "source": [
    "# Now setup the dirichlet boundary condition\n",
    "# Note that through this object, we are flagging to the system \n",
    "# that these nodes are to be considered as boundary conditions. \n",
    "# Also note that we provide a tuple of sets.. One for the Vx, one for Vy.\n",
    "freeslipBC = uw.conditions.DirichletCondition(     variable=velocityField, \n",
    "                                              nodeIndexSets=(None, JWalls) )\n",
    "\n",
    "# also set dirichlet for temp field\n",
    "tempBC = uw.conditions.DirichletCondition(     variable=temperatureField, \n",
    "                                              nodeIndexSets=(JWalls,) )"
   ]
  },
  {
   "cell_type": "markdown",
   "metadata": {},
   "source": [
    "##Add Random 125 K temp perturbation\n"
   ]
  },
  {
   "cell_type": "code",
   "execution_count": 104,
   "metadata": {
    "collapsed": true
   },
   "outputs": [],
   "source": [
    "tempNump = temperatureField.data\n",
    "for index, coord in enumerate(linearMesh.data):\n",
    "    pertCoeff = (0.05*np.random.rand(1)[0])\n",
    "    ict = tempNump[index]\n",
    "    tempNump[index] = ict + pertCoeff"
   ]
  },
  {
   "cell_type": "markdown",
   "metadata": {},
   "source": [
    "##Reset bottom Dirichlet conds."
   ]
  },
  {
   "cell_type": "code",
   "execution_count": 105,
   "metadata": {
    "collapsed": false
   },
   "outputs": [],
   "source": [
    "# Set temp boundaries \n",
    "# on the boundaries\n",
    "for index in linearMesh.specialSets[\"MinJ_VertexSet\"]:\n",
    "    temperatureField.data[index] = TB\n",
    "for index in linearMesh.specialSets[\"MaxJ_VertexSet\"]:\n",
    "    temperatureField.data[index] = TS"
   ]
  },
  {
   "cell_type": "markdown",
   "metadata": {},
   "source": [
    "#Check if starting from checkpoint"
   ]
  },
  {
   "cell_type": "code",
   "execution_count": 106,
   "metadata": {
    "collapsed": false
   },
   "outputs": [
    {
     "name": "stdout",
     "output_type": "stream",
     "text": [
      "results/T/5/checkpoint/ is empty\n"
     ]
    }
   ],
   "source": [
    "for dirpath, dirnames, files in os.walk(checkpointPath):\n",
    "    if files:\n",
    "        print dirpath, 'has files'\n",
    "        checkpointLoad = True\n",
    "    if not files:\n",
    "        print dirpath, 'is empty'\n",
    "        checkpointLoad = False"
   ]
  },
  {
   "cell_type": "code",
   "execution_count": null,
   "metadata": {
    "collapsed": false
   },
   "outputs": [],
   "source": []
  },
  {
   "cell_type": "markdown",
   "metadata": {},
   "source": [
    "#Particles"
   ]
  },
  {
   "cell_type": "code",
   "execution_count": 107,
   "metadata": {
    "collapsed": false
   },
   "outputs": [],
   "source": [
    "gSwarm = uw.swarm.Swarm( feMesh=elementMesh )\n",
    "materialVariable = gSwarm.add_variable( dataType=\"char\", count=1 )\n",
    "rockIntVar = gSwarm.add_variable( dataType=\"double\", count=1 )\n",
    "airIntVar = gSwarm.add_variable( dataType=\"double\", count=1 )\n",
    "lithIntVar = gSwarm.add_variable( dataType=\"double\", count=1 )\n",
    "\n",
    "varlist = [materialVariable, rockIntVar, airIntVar, lithIntVar]\n",
    "varnames = ['materialVariable', 'rockIntVar', 'airIntVar', 'lithIntVar']"
   ]
  },
  {
   "cell_type": "markdown",
   "metadata": {},
   "source": [
    "#Swarm checkpoint load"
   ]
  },
  {
   "cell_type": "code",
   "execution_count": 108,
   "metadata": {
    "collapsed": false
   },
   "outputs": [],
   "source": [
    "#import mpi4py\n",
    "#gSwarm.save(\"swarm.h5\") \n",
    "#materialVariable.save(\"filename\", \"swarm.h5\")\n",
    "\n",
    "#gSwarm.load(\"swarm.h5\") # must load swarm first\n",
    "#materialVariable.load(\"filename\")"
   ]
  },
  {
   "cell_type": "code",
   "execution_count": 109,
   "metadata": {
    "collapsed": true
   },
   "outputs": [],
   "source": [
    "mantleIndex = 0\n",
    "lithosphereIndex = 1\n",
    "crustIndex = 2\n",
    "airIndex = 3\n",
    "\n",
    "#All depth conditions are given as (km/D) where D is the length scale, \n",
    "#note that 'model depths' are used, e.g. 1-z, where z is the vertical Underworld coordinate\n",
    "#All temp conditions are in dimensionless temp. [0. - 1.]\n",
    "\n",
    "#A few paramters defining lengths scales\n",
    "\n",
    "Crust = 27.\n",
    "CrustM = Crust/D\n",
    "\n",
    "#######Setup some variables which help define condtions\n",
    "#rock-air topography limits\n",
    "dz = 50./D\n",
    "\n",
    "avgtemp = 0.5"
   ]
  },
  {
   "cell_type": "code",
   "execution_count": 110,
   "metadata": {
    "collapsed": false
   },
   "outputs": [],
   "source": [
    "if checkpointLoad:\n",
    "    checkpointLoadDir = natsort.natsort(dirnames[-1])\n",
    "    temperatureField.load(os.path.join(checkpointPath, checkpointLoadDir, \"temperatureField\" + \".hdf5\"))\n",
    "    pressureField.load(os.path.join(checkpointPath, checkpointLoadDir, \"pressureField\" + \".hdf5\"))\n",
    "    velocityField.load(os.path.join(checkpointPath, checkpointLoadDir, \"velocityField\" + \".hdf5\"))\n",
    "    gSwarm.load(os.path.join(checkpointPath, checkpointLoadDir, \"swarm\" + \".hdf5\"))\n",
    "\n",
    "else:\n",
    "\n",
    "    # Layouts are used to populate the swarm across the whole domain\n",
    "    # Create the layout object\n",
    "    #layout = uw.swarm.layouts.GlobalSpaceFillerLayout( swarm=gSwarm, particlesPerCell=20)\n",
    "    layout = uw.swarm.layouts.PerCellRandomLayout(swarm=gSwarm, particlesPerCell=15)\n",
    "    # Now use it to populate.\n",
    "    gSwarm.populate_using_layout( layout=layout )\n",
    "\n",
    "    # Lets initialise the 'materialVariable' data to represent different materials\n",
    "    # Set the material to heavy everywhere via the numpy array\n",
    "    materialVariable.data[:] = mantleIndex\n",
    "    \n",
    "    \n",
    "    #Set initial air and crust materials (allow the graph to take care of lithsophere)\n",
    "    #########\n",
    "    #This initial material setup will be model dependent\n",
    "    #########\n",
    "    for particleID in range(gSwarm.particleCoordinates.data.shape[0]):\n",
    "        if (1. - gSwarm.particleCoordinates.data[particleID][1]) < 0:\n",
    "                 materialVariable.data[particleID] = airIndex\n",
    "        elif (1. - gSwarm.particleCoordinates.data[particleID][1]) < CrustM:\n",
    "                 materialVariable.data[particleID] = crustIndex\n"
   ]
  },
  {
   "cell_type": "markdown",
   "metadata": {},
   "source": [
    "#Material Graphs"
   ]
  },
  {
   "cell_type": "code",
   "execution_count": 111,
   "metadata": {
    "collapsed": false
   },
   "outputs": [],
   "source": [
    "##############\n",
    "#Important: This is a quick fix for a bug that arises in parallel runs\n",
    "##############\n",
    "material_list = [0,1,2,3]\n"
   ]
  },
  {
   "cell_type": "code",
   "execution_count": null,
   "metadata": {
    "collapsed": true
   },
   "outputs": [],
   "source": [
    "\n",
    "\n",
    "\n",
    "\n",
    "\n",
    "\n"
   ]
  },
  {
   "cell_type": "code",
   "execution_count": 112,
   "metadata": {
    "collapsed": true
   },
   "outputs": [],
   "source": [
    "import networkx as nx\n",
    "\n",
    "#######Graph object\n",
    "DG = nx.DiGraph(field=\"Depth\")\n",
    "\n",
    "#######Nodes\n",
    "#Note that the order of materials, deepest to shallowest is important \n",
    "DG.add_node(0, mat='mantle')\n",
    "DG.add_node(1, mat='lithosphere')\n",
    "DG.add_node(2, mat='crust')\n",
    "DG.add_node(3, mat='air')\n",
    "\n",
    "\n",
    "labels=dict((n,d['mat']) for n,d in DG.nodes(data=True))\n",
    "pos=nx.spring_layout(DG) \n",
    "\n",
    "\n",
    "#######Edges\n",
    "#anything to air\n",
    "DG.add_edges_from([(0,3),(1,3), (2,3)])\n",
    "DG[0][3]['depthcondition'] = -1*dz\n",
    "DG[1][3]['depthcondition'] = -1*dz\n",
    "DG[2][3]['depthcondition'] = -1*dz\n",
    "\n",
    "\n",
    "#Anything to mantle\n",
    "DG.add_edges_from([(2,0), (3,0), (1,0)])\n",
    "DG[3][0]['depthcondition'] = dz\n",
    "DG[2][0]['depthcondition'] = (300./D)\n",
    "DG[1][0]['depthcondition'] = (660./D) #This means we're going to kill lithosphere at the 660.\n",
    "\n",
    "\n",
    "#Anything to lithsphere\n",
    "DG.add_edges_from([(0,1),(3,1)])\n",
    "DG[0][1]['depthcondition'] = 200./D\n",
    "DG[0][1]['avgtempcondition'] = 0.75*avgtemp #definition of thermal lithosphere\n",
    "\n",
    "\n",
    "#Anything to crust\n",
    "DG.add_edges_from([(0,2), (1,2)])\n",
    "DG[0][2]['depthcondition'] = CrustM\n",
    "DG[1][2]['depthcondition'] = CrustM"
   ]
  },
  {
   "cell_type": "code",
   "execution_count": 113,
   "metadata": {
    "collapsed": false
   },
   "outputs": [
    {
     "data": {
      "text/plain": [
       "[0, 1, 2, 3]"
      ]
     },
     "execution_count": 113,
     "metadata": {},
     "output_type": "execute_result"
    }
   ],
   "source": [
    "DG.nodes()"
   ]
  },
  {
   "cell_type": "code",
   "execution_count": 114,
   "metadata": {
    "collapsed": false
   },
   "outputs": [],
   "source": [
    "remove_nodes = []\n",
    "for node in DG.nodes():\n",
    "    if not node in material_list:\n",
    "        remove_nodes.append(node)\n",
    "        \n",
    "for rmnode in remove_nodes:\n",
    "    DG.remove_node(rmnode)"
   ]
  },
  {
   "cell_type": "code",
   "execution_count": 115,
   "metadata": {
    "collapsed": false
   },
   "outputs": [
    {
     "data": {
      "text/plain": [
       "[0, 1, 2, 3]"
      ]
     },
     "execution_count": 115,
     "metadata": {},
     "output_type": "execute_result"
    }
   ],
   "source": [
    "DG.nodes()"
   ]
  },
  {
   "cell_type": "code",
   "execution_count": 116,
   "metadata": {
    "collapsed": false
   },
   "outputs": [],
   "source": [
    "#remove_nodes = []\n",
    "#for node in DG.nodes_iter():\n",
    "#    if not node in material_list:\n",
    "#        remove_nodes.append(node)\n",
    "        \n",
    "#for rmnode in remove_nodes:\n",
    "#    DG.remove_node(rmnode)"
   ]
  },
  {
   "cell_type": "code",
   "execution_count": 117,
   "metadata": {
    "collapsed": true
   },
   "outputs": [],
   "source": [
    "#A Dictionary to map strings in the graph (e.g. 'depthcondition') to particle data arrays\n",
    "\n",
    "particledepths = 1. - gSwarm.particleCoordinates.data[:,1]\n",
    "particletemps = temperatureField.evaluate(gSwarm)[:,0]\n",
    "\n",
    "conditionmap = {}\n",
    "\n",
    "conditionmap['depthcondition'] = {}\n",
    "conditionmap['depthcondition']['data'] = particledepths\n",
    "conditionmap['avgtempcondition'] = {}\n",
    "conditionmap['avgtempcondition']['data'] = particletemps"
   ]
  },
  {
   "cell_type": "code",
   "execution_count": 118,
   "metadata": {
    "collapsed": true
   },
   "outputs": [],
   "source": [
    "def update_swarm(graph, particleIndex):\n",
    "    \"\"\"\n",
    "    This function takes the materials graph (networkx.DiGraph), and a particle index,\n",
    "    then determines if a material update is required \n",
    "    and if so, returns the new materialindex\n",
    "    Args:\n",
    "        graph (networkx.DiGraph): Directed multigraph representing the transformation of material types\n",
    "        particleIndex (int): the particle index as corressponding to the index in the swarm data arrays\n",
    "    Returns:\n",
    "        if update is required the function returns the the new material variable (int) \n",
    "        else returns None\n",
    "    Raises:\n",
    "        TypeError: not implemented\n",
    "        ValueError: not implemented\n",
    "    \"\"\"\n",
    "    ##Egde gives links to other materials, we then query the conditions to see if we should change materials\n",
    "    matId = materialVariable.data[particleIndex][0]\n",
    "    innerchange = False\n",
    "    outerchange = False\n",
    "    for edge in graph[matId]:\n",
    "        if outerchange:\n",
    "            break\n",
    "        for cond in graph[matId][edge].keys():\n",
    "            outerchange = False\n",
    "            if innerchange: #found a complete transition, break inner loop\n",
    "                break\n",
    "            currentparticlevalue = conditionmap[cond]['data'][particleIndex]\n",
    "            crossover = graph[matId][edge][cond]\n",
    "            if ((matId > edge) and (currentparticlevalue > crossover)):\n",
    "                innerchange = False # continue on, \n",
    "                if graph[matId][edge].keys()[-1] == cond:\n",
    "                    outerchange = True\n",
    "                    innerchange = edge\n",
    "                    break\n",
    "            elif ((matId < edge) and (currentparticlevalue < crossover)):\n",
    "                innerchange = False\n",
    "                if graph[matId][edge].keys()[-1] == cond:\n",
    "                    outerchange = True\n",
    "                    innerchange = edge\n",
    "                    break\n",
    "            else:\n",
    "                #condition not met, break outer loop, go to next edge, outerchange should still be False\n",
    "                break\n",
    "    if type(innerchange) == int:\n",
    "        return innerchange"
   ]
  },
  {
   "cell_type": "markdown",
   "metadata": {},
   "source": [
    "for particleID in range(gSwarm.particleCoordinates.data.shape[0]):\n",
    "                check = update_swarm(DG, particleID)\n",
    "                #print check\n",
    "                if check > -1:\n",
    "                    #number_updated += 1\n",
    "                    materialVariable.data[particleID] = check"
   ]
  },
  {
   "cell_type": "code",
   "execution_count": 119,
   "metadata": {
    "collapsed": false
   },
   "outputs": [],
   "source": [
    "#Cleanse the swarm of its sins\n",
    "#For some Material Graphs, the graph may have to be treaversed more than once\n",
    "\n",
    "check = -1\n",
    "number_updated = 1\n",
    "\n",
    "while number_updated != 0:\n",
    "    number_updated = 0\n",
    "    for particleID in range(gSwarm.particleCoordinates.data.shape[0]):\n",
    "                check = update_swarm(DG, particleID)\n",
    "                if check > -1:\n",
    "                    number_updated += 1\n",
    "                    materialVariable.data[particleID] = check"
   ]
  },
  {
   "cell_type": "code",
   "execution_count": 120,
   "metadata": {
    "collapsed": false
   },
   "outputs": [],
   "source": [
    "#figtemp = plt.Figure()\n",
    "#tempminmax = fn.view.min_max(temperatureField)\n",
    "#figtemp.Surface(temperatureField, linearMesh)\n",
    "#figtemp.VectorArrows(velocityField, linearMesh, lengthScale=0.5/velmax, arrowHeadSize=0.2 )\n",
    "#figtemp.Points( swarm=gSwarm, colourVariable=materialVariable , pointSize=1.0)\n",
    "#figtemp.Mesh(linearMesh, colourBar=False)\n",
    "#figtemp.show()\n",
    "#figtemp.save_database('test.gldb')"
   ]
  },
  {
   "cell_type": "markdown",
   "metadata": {},
   "source": [
    "##Set the values for the masking swarms"
   ]
  },
  {
   "cell_type": "code",
   "execution_count": 121,
   "metadata": {
    "collapsed": false
   },
   "outputs": [],
   "source": [
    "#Setup up a masking Swarm variable for the integrations.\n",
    "#Two possible problems? \n",
    "#does it work in parallel,\n",
    "#How do we mange advecting this swarm?\n",
    "#(might be best to just rebuild it every timestep, that way we only focus on advecting the material swarm)\n",
    "\n",
    "rockIntVar.data[:] = 0.\n",
    "notair = np.where(materialVariable.data != airIndex)\n",
    "rockIntVar.data[notair] = 1.\n",
    "\n",
    "airIntVar.data[:] = 0.\n",
    "notrock = np.where(materialVariable.data == airIndex)\n",
    "airIntVar.data[notrock] = 1.\n",
    "\n",
    "lithIntVar.data[:] = 0.\n",
    "islith = np.where((materialVariable.data == lithosphereIndex) | (materialVariable.data == crustIndex))\n",
    "lithIntVar.data[islith] = 1."
   ]
  },
  {
   "cell_type": "markdown",
   "metadata": {
    "collapsed": true
   },
   "source": [
    "##Set up a swarm for surface integrations¶\n"
   ]
  },
  {
   "cell_type": "code",
   "execution_count": 122,
   "metadata": {
    "collapsed": false
   },
   "outputs": [
    {
     "data": {
      "text/plain": [
       "24.0"
      ]
     },
     "execution_count": 122,
     "metadata": {},
     "output_type": "execute_result"
    }
   ],
   "source": [
    "np.floor(10.*156/64)"
   ]
  },
  {
   "cell_type": "code",
   "execution_count": 123,
   "metadata": {
    "collapsed": false
   },
   "outputs": [],
   "source": [
    "snum = 1000.\n",
    "dx = (linearMesh.data[:,0].max()- linearMesh.data[:,0].min())/snum\n",
    "yp = 0.9947 #1. - yelsize/2. at res = 96\n",
    "\n",
    "linearMesh.data[:,0].max()\n",
    "xps = np.linspace(linearMesh.data[:,0].min(),linearMesh.data[:,0].max(), snum)\n",
    "yps = [yp for i in xps]\n",
    "\n",
    "surfintswarm = uw.swarm.Swarm( feMesh=elementMesh )\n",
    "dumout = surfintswarm.add_particles_with_coordinates(np.array((xps,yps)).T)\n",
    "\n",
    "yps = [ 1.- yp  for i in xps]\n",
    "\n",
    "baseintswarm = uw.swarm.Swarm( feMesh=elementMesh )\n",
    "dumout = baseintswarm.add_particles_with_coordinates(np.array((xps,yps)).T)"
   ]
  },
  {
   "cell_type": "code",
   "execution_count": 124,
   "metadata": {
    "collapsed": false
   },
   "outputs": [],
   "source": [
    "# visualise\n",
    "#fig1 = plt.Figure()\n",
    "#fig1.Points( swarm=surfintswarm, pointSize=10.0)\n",
    "#fig1.Points( swarm=baseintswarm, pointSize=10.0)\n",
    "#fig1.Points( swarm=gSwarm,colourVariable=rockIntVar)\n",
    "#fig1.VectorArrows(velocityField, linearMesh, lengthScale=0.0002)\n",
    "#fig1.Surface(temperatureField, linearMesh)\n",
    "#\n",
    "#fig1.Mesh(linearMesh, colourBar=False)\n",
    "#fig1.show()"
   ]
  },
  {
   "cell_type": "code",
   "execution_count": null,
   "metadata": {
    "collapsed": false
   },
   "outputs": [],
   "source": [
    "\n"
   ]
  },
  {
   "cell_type": "markdown",
   "metadata": {
    "collapsed": false
   },
   "source": [
    "#Material properties\n"
   ]
  },
  {
   "cell_type": "code",
   "execution_count": null,
   "metadata": {
    "collapsed": true
   },
   "outputs": [],
   "source": []
  },
  {
   "cell_type": "code",
   "execution_count": 125,
   "metadata": {
    "collapsed": false
   },
   "outputs": [],
   "source": [
    "#Make variables required for plasticity\n",
    "\n",
    "secinvCopy = fn.tensor.second_invariant( \n",
    "                    fn.tensor.symmetric( \n",
    "                        velocityField.gradientFn ))\n",
    "\n",
    "coordinate = fn.input()\n",
    "\n",
    "depth = 1. - coordinate[1]\n"
   ]
  },
  {
   "cell_type": "code",
   "execution_count": 126,
   "metadata": {
    "collapsed": false
   },
   "outputs": [],
   "source": [
    "depthField = uw.fevariable.FeVariable( feMesh=linearMesh,   nodeDofCount=1 )\n",
    "\n",
    "depthField.data[:] = depth.evaluate(linearMesh)\n",
    "depthField.data[np.where(depthField.data[:] < 0.)[0]] = 0.\n",
    "#depthdata = depth.evaluate(linearMesh)"
   ]
  },
  {
   "cell_type": "code",
   "execution_count": null,
   "metadata": {
    "collapsed": false
   },
   "outputs": [],
   "source": [
    "\n"
   ]
  },
  {
   "cell_type": "code",
   "execution_count": 127,
   "metadata": {
    "collapsed": false
   },
   "outputs": [],
   "source": [
    "\n",
    "viscosityl2 = newvisc*fn.math.exp((math.log(ETA_T)*-1*temperatureField) + (depthField*math.log(ETA_Y)))\n",
    "\n",
    "viscosityFn1 = viscosityl2 #This one always gets passed to the first velcotity solve\n",
    "\n",
    "#Von Mises effective viscosity\n",
    "viscosityp = ETA0 + YSTRESS/(secinvCopy/math.sqrt(0.5)) #extra factor to account for underworld second invariant form\n",
    "\n",
    "\n",
    "viscosityFn2 = 2./(1./viscosityl2 + 1./viscosityp)\n"
   ]
  },
  {
   "cell_type": "code",
   "execution_count": 128,
   "metadata": {
    "collapsed": false
   },
   "outputs": [],
   "source": [
    "#Compositional Rayligh number of rock-water \n",
    "\n",
    "g = 9.81\n",
    "rho = 3300\n",
    "a = 1.25*10**-5\n",
    "kappa = 10**-6\n",
    "dT = 2500\n",
    "eta0 = rho*g*a*dT*((D*1e3)**3)/(RA*kappa)\n",
    "#Composisitional Rayleigh number\n",
    "Rc = (3300*g*(D*1000)**3)/(eta0*kappa)\n"
   ]
  },
  {
   "cell_type": "code",
   "execution_count": 129,
   "metadata": {
    "collapsed": true
   },
   "outputs": [],
   "source": [
    "CompRAfact = Rc/RA\n",
    "\n",
    "airviscosity = 0.001\n",
    "airdensity = RA*CompRAfact"
   ]
  },
  {
   "cell_type": "code",
   "execution_count": 130,
   "metadata": {
    "collapsed": true
   },
   "outputs": [],
   "source": [
    "##This block sets up rheolgoy for models with crust rheology;\n",
    "\n",
    "viscreduct = 0.1\n",
    "\n",
    "#Von Mises effective viscosity\n",
    "crustviscosityp = viscreduct*ETA0 + ((viscreduct*YSTRESS)/(secinvCopy/math.sqrt(0.5))) #extra factor to account for underworld second invariant form\n",
    "crustviscosityFn2 = 2./(1./viscosityl2 + 1./crustviscosityp)\n"
   ]
  },
  {
   "cell_type": "markdown",
   "metadata": {},
   "source": [
    "Set up simulation parameters and functions\n",
    "====\n",
    "\n",
    "Here the functions for density, viscosity etc. are set. These functions and/or values are preserved for the entire simulation time. "
   ]
  },
  {
   "cell_type": "code",
   "execution_count": 131,
   "metadata": {
    "collapsed": false
   },
   "outputs": [],
   "source": [
    "# Here we set a viscosity value of '1.' for both materials\n",
    "viscosityMapFn = fn.branching.map( fn_key = materialVariable,\n",
    "                         mapping = {airIndex:airviscosity, lithosphereIndex:viscosityFn2, crustIndex:crustviscosityFn2,mantleIndex:viscosityFn2} )\n",
    "\n",
    "densityMapFn = fn.branching.map( fn_key = materialVariable,\n",
    "                         mapping = {airIndex:airdensity, lithosphereIndex:RA*temperatureField, crustIndex:RA*temperatureField, mantleIndex:RA*temperatureField} )\n",
    "\n",
    "# Define our gravity using a python tuple (this will be automatically converted to a function)\n",
    "gravity = ( 0.0, 1.0 )\n",
    "\n",
    "buoyancyFn = gravity*densityMapFn"
   ]
  },
  {
   "cell_type": "markdown",
   "metadata": {},
   "source": [
    "Build the Stokes system, solvers, advection-diffusion\n",
    "------\n",
    "\n",
    "Setup linear Stokes system to get the initial velocity."
   ]
  },
  {
   "cell_type": "code",
   "execution_count": 132,
   "metadata": {
    "collapsed": false
   },
   "outputs": [],
   "source": [
    "#We first set up a l\n",
    "stokesPIC = uw.systems.Stokes(velocityField=velocityField, \n",
    "                              pressureField=pressureField,\n",
    "                              conditions=[freeslipBC,],\n",
    "#                              viscosityFn=viscosityFn1, \n",
    "                              viscosityFn=fn.exception.SafeMaths(viscosityFn1), \n",
    "                              bodyForceFn=buoyancyFn)"
   ]
  },
  {
   "cell_type": "markdown",
   "metadata": {},
   "source": [
    "We do one solve with linear viscosity to get the initial strain rate invariant. This solve step also calculates a 'guess' of the the velocity field based on the linear system, which is used later in the non-linear solver."
   ]
  },
  {
   "cell_type": "code",
   "execution_count": 133,
   "metadata": {
    "collapsed": false
   },
   "outputs": [],
   "source": [
    "stokesPIC.solve()"
   ]
  },
  {
   "cell_type": "code",
   "execution_count": 134,
   "metadata": {
    "collapsed": false
   },
   "outputs": [],
   "source": [
    "#Switch particle escape on, this will also trigger the inflow population control \n",
    "gSwarm.particleEscape = True"
   ]
  },
  {
   "cell_type": "code",
   "execution_count": 152,
   "metadata": {
    "collapsed": false
   },
   "outputs": [
    {
     "ename": "RuntimeError",
     "evalue": "Divide by zero encountered while evaluating function.",
     "output_type": "error",
     "traceback": [
      "\u001b[0;31m---------------------------------------------------------------------------\u001b[0m",
      "\u001b[0;31mRuntimeError\u001b[0m                              Traceback (most recent call last)",
      "\u001b[0;32m<ipython-input-152-c207c7fb7295>\u001b[0m in \u001b[0;36m<module>\u001b[0;34m()\u001b[0m\n\u001b[1;32m      4\u001b[0m                               \u001b[0mconditions\u001b[0m\u001b[0;34m=\u001b[0m\u001b[0;34m[\u001b[0m\u001b[0mfreeslipBC\u001b[0m\u001b[0;34m,\u001b[0m\u001b[0;34m]\u001b[0m\u001b[0;34m,\u001b[0m\u001b[0;34m\u001b[0m\u001b[0m\n\u001b[1;32m      5\u001b[0m                               \u001b[0mviscosityFn\u001b[0m\u001b[0;34m=\u001b[0m\u001b[0mfn\u001b[0m\u001b[0;34m.\u001b[0m\u001b[0mexception\u001b[0m\u001b[0;34m.\u001b[0m\u001b[0mSafeMaths\u001b[0m\u001b[0;34m(\u001b[0m\u001b[0mviscosityMapFn\u001b[0m\u001b[0;34m)\u001b[0m\u001b[0;34m,\u001b[0m\u001b[0;34m\u001b[0m\u001b[0m\n\u001b[0;32m----> 6\u001b[0;31m                               bodyForceFn=buoyancyFn, swarm = gSwarm)\n\u001b[0m",
      "\u001b[0;32m/Users/dansandiford/Documents/programming/checkpoint/underworld2/underworld/_stgermain.pyc\u001b[0m in \u001b[0;36m__call__\u001b[0;34m(cls, *args, **kwargs)\u001b[0m\n\u001b[1;32m     89\u001b[0m         \u001b[0;31m# create the instance as normal.  this will invoke the class's\u001b[0m\u001b[0;34m\u001b[0m\u001b[0;34m\u001b[0m\u001b[0m\n\u001b[1;32m     90\u001b[0m         \u001b[0;31m# __init__'s as expected.\u001b[0m\u001b[0;34m\u001b[0m\u001b[0;34m\u001b[0m\u001b[0m\n\u001b[0;32m---> 91\u001b[0;31m         \u001b[0mself\u001b[0m \u001b[0;34m=\u001b[0m \u001b[0msuper\u001b[0m\u001b[0;34m(\u001b[0m\u001b[0m_SetupClass\u001b[0m\u001b[0;34m,\u001b[0m \u001b[0mcls\u001b[0m\u001b[0;34m)\u001b[0m\u001b[0;34m.\u001b[0m\u001b[0m__call__\u001b[0m\u001b[0;34m(\u001b[0m\u001b[0;34m*\u001b[0m\u001b[0margs\u001b[0m\u001b[0;34m,\u001b[0m \u001b[0;34m**\u001b[0m\u001b[0mkwargs\u001b[0m\u001b[0;34m)\u001b[0m\u001b[0;34m\u001b[0m\u001b[0m\n\u001b[0m\u001b[1;32m     92\u001b[0m \u001b[0;34m\u001b[0m\u001b[0m\n\u001b[1;32m     93\u001b[0m         \u001b[0;31m# this steps through the MRO in ascending order (so that child\u001b[0m\u001b[0;34m\u001b[0m\u001b[0;34m\u001b[0m\u001b[0m\n",
      "\u001b[0;32m/Users/dansandiford/Documents/programming/checkpoint/underworld2/underworld/systems/_stokes.pyc\u001b[0m in \u001b[0;36m__init__\u001b[0;34m(self, velocityField, pressureField, viscosityFn, bodyForceFn, swarm, conditions, rtolerance, **kwargs)\u001b[0m\n\u001b[1;32m    106\u001b[0m         self._constitMatTerm = sle.ConstitutiveMatrixTerm(  integrationSwarm=swarmguy,\n\u001b[1;32m    107\u001b[0m                                                             \u001b[0massembledObject\u001b[0m\u001b[0;34m=\u001b[0m\u001b[0mself\u001b[0m\u001b[0;34m.\u001b[0m\u001b[0m_kmatrix\u001b[0m\u001b[0;34m,\u001b[0m\u001b[0;34m\u001b[0m\u001b[0m\n\u001b[0;32m--> 108\u001b[0;31m                                                             fn=viscosityFn)\n\u001b[0m\u001b[1;32m    109\u001b[0m         self._forceVecTerm   = sle.VectorAssemblyTerm_NA__Fn(   integrationSwarm=swarmguy,\n\u001b[1;32m    110\u001b[0m                                                                 \u001b[0massembledObject\u001b[0m\u001b[0;34m=\u001b[0m\u001b[0mself\u001b[0m\u001b[0;34m.\u001b[0m\u001b[0m_fvector\u001b[0m\u001b[0;34m,\u001b[0m\u001b[0;34m\u001b[0m\u001b[0m\n",
      "\u001b[0;32m/Users/dansandiford/Documents/programming/checkpoint/underworld2/underworld/_stgermain.pyc\u001b[0m in \u001b[0;36m__call__\u001b[0;34m(cls, *args, **kwargs)\u001b[0m\n\u001b[1;32m    101\u001b[0m                 \u001b[0m_setup\u001b[0m \u001b[0;34m=\u001b[0m \u001b[0m_setup\u001b[0m\u001b[0;34m.\u001b[0m\u001b[0m__get__\u001b[0m\u001b[0;34m(\u001b[0m\u001b[0mself\u001b[0m\u001b[0;34m,\u001b[0m \u001b[0mcls\u001b[0m\u001b[0;34m)\u001b[0m\u001b[0;34m\u001b[0m\u001b[0m\n\u001b[1;32m    102\u001b[0m             \u001b[0;32mif\u001b[0m \u001b[0mcallable\u001b[0m\u001b[0;34m(\u001b[0m\u001b[0m_setup\u001b[0m\u001b[0;34m)\u001b[0m\u001b[0;34m:\u001b[0m\u001b[0;34m\u001b[0m\u001b[0m\n\u001b[0;32m--> 103\u001b[0;31m                 \u001b[0m_setup\u001b[0m\u001b[0;34m(\u001b[0m\u001b[0;34m)\u001b[0m\u001b[0;34m\u001b[0m\u001b[0m\n\u001b[0m\u001b[1;32m    104\u001b[0m \u001b[0;34m\u001b[0m\u001b[0m\n\u001b[1;32m    105\u001b[0m         \u001b[0;32mreturn\u001b[0m \u001b[0mself\u001b[0m\u001b[0;34m\u001b[0m\u001b[0m\n",
      "\u001b[0;32m/Users/dansandiford/Documents/programming/checkpoint/underworld2/underworld/systems/sle/_assemblyterm.pyc\u001b[0m in \u001b[0;36m_setup\u001b[0;34m(self)\u001b[0m\n\u001b[1;32m    131\u001b[0m     \u001b[0;32mdef\u001b[0m \u001b[0m_setup\u001b[0m\u001b[0;34m(\u001b[0m\u001b[0mself\u001b[0m\u001b[0;34m)\u001b[0m\u001b[0;34m:\u001b[0m\u001b[0;34m\u001b[0m\u001b[0m\n\u001b[1;32m    132\u001b[0m         \u001b[0;31m# lets setup fn tings\u001b[0m\u001b[0;34m\u001b[0m\u001b[0;34m\u001b[0m\u001b[0m\n\u001b[0;32m--> 133\u001b[0;31m         \u001b[0mlibUnderworld\u001b[0m\u001b[0;34m.\u001b[0m\u001b[0mUnderworld\u001b[0m\u001b[0;34m.\u001b[0m\u001b[0m_ConstitutiveMatrixCartesian_SetFn\u001b[0m\u001b[0;34m(\u001b[0m \u001b[0mself\u001b[0m\u001b[0;34m.\u001b[0m\u001b[0m_cself\u001b[0m\u001b[0;34m,\u001b[0m \u001b[0mself\u001b[0m\u001b[0;34m.\u001b[0m\u001b[0m_fn\u001b[0m\u001b[0;34m.\u001b[0m\u001b[0m_fncself\u001b[0m \u001b[0;34m)\u001b[0m\u001b[0;34m\u001b[0m\u001b[0m\n\u001b[0m\u001b[1;32m    134\u001b[0m \u001b[0;34m\u001b[0m\u001b[0m\n\u001b[1;32m    135\u001b[0m     \u001b[0;34m@\u001b[0m\u001b[0mproperty\u001b[0m\u001b[0;34m\u001b[0m\u001b[0m\n",
      "\u001b[0;31mRuntimeError\u001b[0m: Divide by zero encountered while evaluating function."
     ]
    }
   ],
   "source": [
    "# Setup the Stokes system again, now with linear or nonlinear visocity viscosity.\n",
    "stokesPIC2 = uw.systems.Stokes(velocityField=velocityField, \n",
    "                              pressureField=pressureField,\n",
    "                              conditions=[freeslipBC,],\n",
    "                              viscosityFn=fn.exception.SafeMaths(viscosityMapFn), \n",
    "                              bodyForceFn=buoyancyFn, swarm = gSwarm)"
   ]
  },
  {
   "cell_type": "markdown",
   "metadata": {
    "collapsed": false
   },
   "source": [
    "solver = uw.systems.Solver(stokesPIC2) # altered from PIC2\n",
    "\n",
    "solver.options.main.Q22_pc_type='uwscale'  # also try 'gtkg', 'gkgdiag' and 'uwscale'\n",
    "solver.options.main.penalty = 1.0\n",
    "solver.options.A11.ksp_rtol=1e-6\n",
    "solver.options.scr.ksp_rtol=1e-5\n",
    "solver.options.scr.use_previous_guess = True\n",
    "solver.options.scr.ksp_set_min_it_converge = 1\n",
    "solver.options.scr.ksp_set_max_it = 100\n",
    "solver.options.mg.levels = 4\n",
    "solver.options.mg.mg_levels_ksp_type = 'chebyshev'\n",
    "solver.options.mg_accel.mg_accelerating_smoothing = True\n",
    "solver.options.mg_accel.mg_accelerating_smoothing_view = False\n",
    "solver.options.mg_accel.mg_smooths_to_start = 1"
   ]
  },
  {
   "cell_type": "code",
   "execution_count": null,
   "metadata": {
    "collapsed": true
   },
   "outputs": [],
   "source": [
    "solver = uw.systems.Solver(stokesPIC2) # altered from PIC2\n"
   ]
  },
  {
   "cell_type": "markdown",
   "metadata": {},
   "source": [
    "Solve for initial pressure and velocity using a quick non-linear Picard iteration\n"
   ]
  },
  {
   "cell_type": "code",
   "execution_count": 151,
   "metadata": {
    "collapsed": false
   },
   "outputs": [
    {
     "ename": "RuntimeError",
     "evalue": "Divide by zero encountered while evaluating function.",
     "output_type": "error",
     "traceback": [
      "\u001b[0;31m---------------------------------------------------------------------------\u001b[0m",
      "\u001b[0;31mRuntimeError\u001b[0m                              Traceback (most recent call last)",
      "\u001b[0;32m<ipython-input-151-c177e1a59d57>\u001b[0m in \u001b[0;36m<module>\u001b[0;34m()\u001b[0m\n\u001b[0;32m----> 1\u001b[0;31m \u001b[0msolver\u001b[0m\u001b[0;34m.\u001b[0m\u001b[0msolve\u001b[0m\u001b[0;34m(\u001b[0m\u001b[0mnonLinearIterate\u001b[0m\u001b[0;34m=\u001b[0m\u001b[0mTrue\u001b[0m\u001b[0;34m)\u001b[0m\u001b[0;34m\u001b[0m\u001b[0m\n\u001b[0m",
      "\u001b[0;32m/Users/dansandiford/Documents/programming/checkpoint/underworld2/underworld/systems/_bsscr.pyc\u001b[0m in \u001b[0;36msolve\u001b[0;34m(self, nonLinearIterate, **kwargs)\u001b[0m\n\u001b[1;32m    304\u001b[0m         \u001b[0;31m# solve\u001b[0m\u001b[0;34m\u001b[0m\u001b[0;34m\u001b[0m\u001b[0m\n\u001b[1;32m    305\u001b[0m         \u001b[0;32mif\u001b[0m \u001b[0mnonLinear\u001b[0m \u001b[0;32mand\u001b[0m \u001b[0mnonLinearIterate\u001b[0m\u001b[0;34m:\u001b[0m\u001b[0;34m\u001b[0m\u001b[0m\n\u001b[0;32m--> 306\u001b[0;31m             \u001b[0mlibUnderworld\u001b[0m\u001b[0;34m.\u001b[0m\u001b[0mStgFEM\u001b[0m\u001b[0;34m.\u001b[0m\u001b[0mSystemLinearEquations_NonLinearExecute\u001b[0m\u001b[0;34m(\u001b[0m\u001b[0mself\u001b[0m\u001b[0;34m.\u001b[0m\u001b[0m_stokesSLE\u001b[0m\u001b[0;34m.\u001b[0m\u001b[0m_cself\u001b[0m\u001b[0;34m,\u001b[0m \u001b[0mNone\u001b[0m\u001b[0;34m)\u001b[0m\u001b[0;34m\u001b[0m\u001b[0m\n\u001b[0m\u001b[1;32m    307\u001b[0m         \u001b[0;32melse\u001b[0m\u001b[0;34m:\u001b[0m\u001b[0;34m\u001b[0m\u001b[0m\n\u001b[1;32m    308\u001b[0m             \u001b[0mlibUnderworld\u001b[0m\u001b[0;34m.\u001b[0m\u001b[0mStgFEM\u001b[0m\u001b[0;34m.\u001b[0m\u001b[0mSystemLinearEquations_ExecuteSolver\u001b[0m\u001b[0;34m(\u001b[0m\u001b[0mself\u001b[0m\u001b[0;34m.\u001b[0m\u001b[0m_stokesSLE\u001b[0m\u001b[0;34m.\u001b[0m\u001b[0m_cself\u001b[0m\u001b[0;34m,\u001b[0m \u001b[0mNone\u001b[0m\u001b[0;34m)\u001b[0m\u001b[0;34m\u001b[0m\u001b[0m\n",
      "\u001b[0;31mRuntimeError\u001b[0m: Divide by zero encountered while evaluating function."
     ]
    }
   ],
   "source": [
    "solver.solve(nonLinearIterate=True)"
   ]
  },
  {
   "cell_type": "markdown",
   "metadata": {},
   "source": [
    "Create an advective-diffusive system\n",
    "=====\n",
    "\n",
    "Setup the system in underworld by flagging the temperature and velocity field variables."
   ]
  },
  {
   "cell_type": "code",
   "execution_count": 60,
   "metadata": {
    "collapsed": true
   },
   "outputs": [],
   "source": [
    "uw.systems.AdvectionDiffusion?"
   ]
  },
  {
   "cell_type": "code",
   "execution_count": 137,
   "metadata": {
    "collapsed": false
   },
   "outputs": [],
   "source": [
    "#Create advdiff system\n",
    "advDiff = uw.systems.AdvectionDiffusion( temperatureField, temperatureDotField, velocityField, diffusivity=1., conditions=[tempBC,] )\n",
    "\n",
    "advector = uw.systems.SwarmAdvector( swarm=gSwarm, velocityField=velocityField, order=1)"
   ]
  },
  {
   "cell_type": "markdown",
   "metadata": {},
   "source": [
    "Metrics for benchmark\n",
    "=====\n",
    "\n",
    "Define functions to be used in the time loop. For cases 1-4, participants were asked to report a number of diagnostic quantities to be measured after reaching steady state:\n",
    "\n",
    "* Average temp... $$  \\langle T \\rangle  = \\int^1_0 \\int^1_0 T \\, dxdy $$\n",
    "* Top and bottom Nusselt numbers... $$N = \\int^1_0 \\frac{\\partial T}{\\partial y} \\rvert_{y=0/1} \\, dx$$\n",
    "* RMS velocity over the whole domain, surface and max velocity at surface\n",
    "* max and min viscosity over the whole domain\n",
    "* average rate of work done against gravity...$$\\langle W \\rangle = \\int^1_0 \\int^1_0 T u_y \\, dx dy$$\n",
    "* and the average rate of viscous dissipation...$$\\langle \\Phi \\rangle = \\int^1_0 \\int^1_0 \\tau_{ij} \\dot \\epsilon_{ij} \\, dx dy$$\n",
    "\n",
    "* In steady state, if thermal energy is accurately conserved, the difference between $\\langle W \\rangle$ and $\\langle \\Phi \\rangle / Ra$ must vanish, so also reported is the percentage error: \n",
    "\n",
    "$$ \\delta = \\frac{\\lvert \\langle W \\rangle - \\frac{\\langle \\Phi \\rangle}{Ra} \\rvert}{max \\left(  \\langle W \\rangle,  \\frac{\\langle \\Phi \\rangle}{Ra}\\right)} \\times 100% $$"
   ]
  },
  {
   "cell_type": "code",
   "execution_count": null,
   "metadata": {
    "collapsed": false
   },
   "outputs": [],
   "source": [
    "#Setup some Integrals. We want these outside the main loop...\n",
    "tempVariable = gSwarm.add_variable( dataType=\"double\", count=1 )\n",
    "tempVariable.data[:] = temperatureField.evaluate(gSwarm)[:]\n",
    "tempint = uw.utils.Integral((tempVariable*rockIntVar), linearMesh)\n",
    "\n",
    "\n",
    "areaint = uw.utils.Integral((1.*rockIntVar),linearMesh)\n",
    "\n",
    "v2int = uw.utils.Integral(fn.math.dot(velocityField,velocityField)*rockIntVar, linearMesh)\n",
    "\n",
    "\n",
    "dwint = uw.utils.Integral(temperatureField*velocityField[1]*rockIntVar, linearMesh)\n",
    "\n",
    "secinv = fn.tensor.second_invariant(\n",
    "                    fn.tensor.symmetric(\n",
    "                        velocityField.gradientFn ))\n",
    "\n",
    "sinner = fn.math.dot(secinv,secinv)\n",
    "vdint = uw.utils.Integral((4.*viscosityFn2*sinner)*rockIntVar, linearMesh)\n",
    "vdintair = uw.utils.Integral((4.*viscosityFn2*sinner)*airIntVar, linearMesh)\n",
    "vdintlith = uw.utils.Integral((4.*viscosityFn2*sinner)*lithIntVar, linearMesh)"
   ]
  },
  {
   "cell_type": "code",
   "execution_count": null,
   "metadata": {
    "collapsed": false
   },
   "outputs": [],
   "source": [
    "def avg_temp():\n",
    "    return tempint.evaluate()[0]\n",
    "\n",
    "#This one gets cleaned up when Surface integrals are available\n",
    "def nusselt(tempfield, swarm, dx):\n",
    "    #Update the swarm variable\n",
    "    tempgrad = tempfield.gradientFn\n",
    "    valcheck = tempgrad[1].evaluate(swarm)\n",
    "    if valcheck is None:\n",
    "        vals = np.array(0, dtype='float64')\n",
    "    else:\n",
    "        vals = valcheck.sum()*dx\n",
    "    return vals\n",
    "\n",
    "def rms():\n",
    "    return math.sqrt(v2int.evaluate()[0])\n",
    "\n",
    "#This one gets cleaned up when Surface integrals are available\n",
    "def rms_surf(swarm, dx):\n",
    "    rmsmaxfn = fn.math.sqrt(fn.math.dot(velocityField,velocityField))\n",
    "    rmscheck = rmsmaxfn.evaluate(swarm)\n",
    "    if rmscheck is None:\n",
    "        rmsvals = np.array(0, dtype='float64')\n",
    "    else:\n",
    "        rmsvals = rmscheck.sum()*dx\n",
    "    return rmsvals\n",
    "\n",
    "def max_vx_surf(velfield, swarm):\n",
    "    surfvelxmaxfn = fn.view.min_max(velfield[0])\n",
    "    surfvelxmaxfn.evaluate(swarm)\n",
    "    return surfvelxmaxfn.max_global()\n",
    "\n",
    "def max_vy_surf(velfield, swarm):\n",
    "    surfvelxmaxfn = fn.view.min_max(velfield[1])\n",
    "    surfvelxmaxfn.evaluate(swarm)\n",
    "    return surfvelxmaxfn.max_global()\n",
    "\n",
    "def gravwork(workfn):\n",
    "    return workfn.evaluate()[0]\n",
    "\n",
    "def viscdis(vdissfn):\n",
    "    return vdissfn.evaluate()[0]\n",
    "\n",
    "def visc_extr(viscfn):\n",
    "    vuviscfn = fn.view.min_max(viscfn)\n",
    "    vuviscfn.evaluate(linearMesh)\n",
    "    return vuviscfn.max_global(), vuviscfn.min_global()"
   ]
  },
  {
   "cell_type": "code",
   "execution_count": null,
   "metadata": {
    "collapsed": false
   },
   "outputs": [],
   "source": [
    "#Fields for saving data / fields\n",
    "\n",
    "rmsField = uw.fevariable.FeVariable( feMesh=linearMesh,   nodeDofCount=1)\n",
    "rmsfn = fn.math.sqrt(fn.math.dot(velocityField,velocityField))\n",
    "rmsdata = rmsfn.evaluate(linearMesh)\n",
    "rmsField.data[:] = rmsdata \n",
    "\n",
    "viscField = uw.fevariable.FeVariable( feMesh=linearMesh,   nodeDofCount=1)\n",
    "viscdata = viscosityFn2.evaluate(linearMesh)\n",
    "viscField.data[:] = viscdata\n",
    "\n",
    "\n",
    "stressField = uw.fevariable.FeVariable( feMesh=linearMesh,   nodeDofCount=1)\n",
    "srtdata = fn.tensor.second_invariant( \n",
    "                    fn.tensor.symmetric( \n",
    "                        velocityField.gradientFn ))\n",
    "rostfield = srtdata.evaluate(linearMesh)\n",
    "stressinv = 2*viscdata*rostfield[:]\n",
    "stressField.data[:] = stressinv\n",
    "\n",
    "\n",
    "\n",
    "##Gldbs:\n",
    "\n",
    "viscVariable = gSwarm.add_variable( dataType=\"float\", count=1 )\n",
    "viscVariable.data[:] = viscosityMapFn.evaluate(gSwarm)\n",
    "figEta = glucifer.Figure()\n",
    "figEta + glucifer.objects.Points(gSwarm,materialVariable, colours='brown white red blue')\n",
    "figEta + glucifer.objects.Points(gSwarm,viscVariable)\n",
    "\n",
    "\n",
    "\n"
   ]
  },
  {
   "cell_type": "markdown",
   "metadata": {},
   "source": [
    "Main simulation loop\n",
    "=======\n",
    "\n",
    "The main time stepping loop begins here. Before this the time and timestep are initialised to zero and the output statistics arrays are set up. Also the frequency of outputting basic statistics to the screen is set in steps_output.\n"
   ]
  },
  {
   "cell_type": "code",
   "execution_count": null,
   "metadata": {
    "collapsed": true
   },
   "outputs": [],
   "source": [
    "pics = uw.swarm.PICIntegrationSwarm(gSwarm)"
   ]
  },
  {
   "cell_type": "code",
   "execution_count": null,
   "metadata": {
    "collapsed": false
   },
   "outputs": [],
   "source": [
    "steps_end = 5\n",
    "steps_display_info = 20\n",
    "swarm_update = 10\n",
    "swarm_repop = 100\n",
    "files_output = 400\n",
    "gldbs_output = 1e6\n",
    "checkpoint_every = 10000\n",
    "metric_output = np.floor(10.*RES/64)"
   ]
  },
  {
   "cell_type": "code",
   "execution_count": null,
   "metadata": {
    "collapsed": true
   },
   "outputs": [],
   "source": [
    "def checkpoint(step, checkpointPath, swarm, filename, varlist = [materialVariable], varnames = ['materialVariable']):\n",
    "    path = checkpointPath + \"/\" + str(step) \n",
    "    velfile = \"velocityField\" + \".hdf5\"\n",
    "    tempfile = \"temperatureField\" + \".hdf5\"\n",
    "    pressfile = \"pressureField\" + \".hdf5\"\n",
    "    swarmfile = \"materialSwarm\" + \".hdf5\"\n",
    "    velocityField.save(os.path.join(path, velfile))\n",
    "    temperatureField.save(os.path.join(path, tempfile))\n",
    "    pressureField.save(os.path.join(path, pressfile))\n",
    "    swarm.save(\"swarm.h5\") \n",
    "    for ix in range(len(varlist)):\n",
    "        varb = varlist[ix]\n",
    "        varb.save(varnames[ix] + \".h5\", \"swarm.h5\")\n",
    "    ##Finally save the file\n",
    "    if uw.rank()==0:\n",
    "        filename.write((13*'%-15s ' + '\\n') % (realtime, Viscdis, float(Nu0glob), float(Nu1glob), Avg_temp, \n",
    "                                              Rms,Rmsurfglob,Max_vx_surf,Gravwork, etamax, etamin, Viscdisair, Viscdislith))\n"
   ]
  },
  {
   "cell_type": "code",
   "execution_count": null,
   "metadata": {
    "collapsed": false
   },
   "outputs": [],
   "source": [
    "int(checkpointLoadDir)"
   ]
  },
  {
   "cell_type": "code",
   "execution_count": null,
   "metadata": {
    "collapsed": false
   },
   "outputs": [],
   "source": [
    "# initialise timer for computation\n",
    "start = time.clock()\n",
    "# setup summary output file (name above)\n",
    "if checkpointLoad:\n",
    "    os.rename(os.path.join(checkpointPath, checkpointLoadDir, outputFile), outputPath+outputFile)\n",
    "    f_o = open(os.path.join(outputPath, outputFile), 'a')\n",
    "    prevdata = np.genfromtxt(os.path.join(outputPath, outputFile), skip_header=0, skip_footer=0)\n",
    "    realtime = prevdata[prevdata.shape[1], 0]\n",
    "    step = int(checkpointLoadDir)\n",
    "else:\n",
    "    f_o = open(outputPath+outputFile, 'w')\n",
    "    realtime = 0.\n",
    "    step = 0\n",
    "    timevals = [0.]\n",
    "# Perform steps\n",
    "while realtime < 0.4:\n",
    "#while step < 5:\n",
    "    #Enter non-linear loop\n",
    "    print step\n",
    "    solver.solve(nonLinearIterate=True)\n",
    "    dt = advDiff.get_max_dt()\n",
    "    if step == 0:\n",
    "        dt = 0.\n",
    "    advDiff.integrate(dt)\n",
    "    # Advect swarm using this timestep size\n",
    "    advector.integrate(dt)\n",
    "    # Increment\n",
    "    realtime += dt\n",
    "    step += 1\n",
    "    timevals.append(realtime)\n",
    "    #Update any swarm variables and temperature field in the air region\n",
    "    tempVariable.data[:] = temperatureField.evaluate(gSwarm)[:]\n",
    "    for index, coord in enumerate(linearMesh.data):\n",
    "        if coord[1] >= 1.:\n",
    "            temperatureField.data[index] = 0.   \n",
    "    # Calculate the Metrics, only on 1 of the processors:\n",
    "    if (step % metric_output == 0):\n",
    "        tempVariable.data[:] = temperatureField.evaluate(gSwarm)[:]\n",
    "        Avg_temp = avg_temp()\n",
    "        Rms = rms()\n",
    "        Max_vx_surf = max_vx_surf(velocityField, surfintswarm)\n",
    "        Gravwork = gravwork(dwint)\n",
    "        Viscdis = viscdis(vdint)\n",
    "        Viscdisair = viscdis(vdintair)\n",
    "        Viscdislith = viscdis(vdintlith)\n",
    "        etamax, etamin = visc_extr(viscosityFn2)\n",
    "        #These are the ones that need mpi4py treatment\n",
    "        Nu0loc = nusselt(temperatureField, baseintswarm, dx)\n",
    "        Nu1loc = nusselt(temperatureField, surfintswarm, dx)\n",
    "        Rmsurfloc = rms_surf(surfintswarm, dx)\n",
    "        #Setup the global output arrays\n",
    "        dTp = Nu0loc.dtype\n",
    "        Nu0glob = np.array(0, dtype=dTp)\n",
    "        dTp = Nu1loc.dtype\n",
    "        Nu1glob = np.array(0, dtype=dTp)\n",
    "        dTp = Rmsurfloc.dtype\n",
    "        Rmsurfglob = np.array(0, dtype=dTp)\n",
    "        #Do global sum\n",
    "        comm.Allreduce(Nu0loc, Nu0glob, op=MPI.SUM)\n",
    "        comm.Allreduce(Nu1loc, Nu1glob, op=MPI.SUM)\n",
    "        comm.Allreduce(Rmsurfloc, Rmsurfglob, op=MPI.SUM)\n",
    "        # output to summary text file\n",
    "        if uw.rank()==0:\n",
    "            f_o.write((13*'%-15s ' + '\\n') % (realtime, Viscdis, float(Nu0glob), float(Nu1glob), Avg_temp, \n",
    "                                              Rms,Rmsurfglob,Max_vx_surf,Gravwork, etamax, etamin, Viscdisair, Viscdislith))\n",
    "    #if step %  steps_display_info == 0:\n",
    "    # output image to file\n",
    "    if (step % files_output == 0) & (writeFiles == True):\n",
    "        ##Files to save\n",
    "        fnametemp = \"temperatureField\" + \"_\" + str(ModIt) + \"_\" + str(step) + \".hdf5\"\n",
    "        fullpath = os.path.join(outputPath + \"files/\" + fnametemp)\n",
    "        temperatureField.save(fullpath)\n",
    "        #RMS\n",
    "        fnamerms = \"rmsField\" + \"_\" + str(ModIt) + \"_\" + str(step) + \".hdf5\"\n",
    "        fullpath = os.path.join(outputPath + \"files/\" + fnamerms)\n",
    "        rmsField.save(fullpath)\n",
    "     \n",
    "    if (step % gldbs_output == 0) & (writeFiles == True):\n",
    "        #Rebuild any necessary swarm variables\n",
    "        viscVariable.data[:] = viscosityMapFn.evaluate(gSwarm)\n",
    "        #Write gldbs\n",
    "        fnamedb = \"viscFig\" + \"_\" + str(ModIt) + \"_\" + str(step) + \".gldb\"\n",
    "        fullpath = os.path.join(outputPath + \"gldbs/\" + fnamedb)\n",
    "        figEta.save_database(fullpath)\n",
    "    ################\n",
    "    #Particle update\n",
    "    ###############\n",
    "    particledepths = 1. - gSwarm.particleCoordinates.data[:,1]\n",
    "    particletemps = temperatureField.evaluate(gSwarm)[:,0]\n",
    "    conditionmap['depthcondition']['data'] = particledepths\n",
    "    conditionmap['avgtempcondition']['data'] = particletemps\n",
    "    if step % swarm_update == 0:\n",
    "        number_updated = 0\n",
    "        for particleID in range(gSwarm.particleCoordinates.data.shape[0]):\n",
    "            check = update_swarm(DG, particleID)\n",
    "            if check > -1:\n",
    "                number_updated += 1\n",
    "                #if check == 0:\n",
    "                #    print \"from \" + str(materialVariable.data[particleID]) + \" to \" + str(check)\n",
    "                materialVariable.data[particleID] = check\n",
    "            else:\n",
    "                pass\n",
    "        #Also update those integration swarms\n",
    "        rockIntVar.data[:] = 0.\n",
    "        notair = np.where(materialVariable.data != airIndex)\n",
    "        rockIntVar.data[notair] = 1.\n",
    "        airIntVar.data[:] = 0.\n",
    "        notrock = np.where(materialVariable.data == airIndex)\n",
    "        airIntVar.data[notrock] = 1.\n",
    "        lithIntVar.data[:] = 0.\n",
    "        islith = np.where((materialVariable.data == lithosphereIndex) | (materialVariable.data == crustIndex))\n",
    "        lithIntVar.data[islith] = 1.\n",
    "    #Also repopulate\n",
    "    if step % swarm_repop == 0:\n",
    "        pics.repopulate()\n",
    "        \n",
    "f_o.close()\n",
    "#checkpoint(step, checkpointPath)"
   ]
  },
  {
   "cell_type": "code",
   "execution_count": null,
   "metadata": {
    "collapsed": true
   },
   "outputs": [],
   "source": [
    "viscVariable = gSwarm.add_variable( dataType=\"float\", count=1 )\n",
    "viscVariable.data[:] = viscosityMapFn.evaluate(gSwarm)"
   ]
  },
  {
   "cell_type": "code",
   "execution_count": 144,
   "metadata": {
    "collapsed": true
   },
   "outputs": [],
   "source": [
    "densVariable = gSwarm.add_variable( dataType=\"float\", count=1 )\n",
    "densVariable.data[:] = densityMapFn.evaluate(gSwarm)"
   ]
  },
  {
   "cell_type": "code",
   "execution_count": 147,
   "metadata": {
    "collapsed": true
   },
   "outputs": [],
   "source": [
    "testVariable = gSwarm.add_variable( dataType=\"float\", count=1 )\n",
    "testVariable.data[:] = densityMapFn.evaluate(gSwarm)*viscosityMapFn.evaluate(gSwarm)"
   ]
  },
  {
   "cell_type": "code",
   "execution_count": 148,
   "metadata": {
    "collapsed": false
   },
   "outputs": [
    {
     "data": {
      "text/html": [
       "<img src='data:image/png;base64,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'>"
      ],
      "text/plain": [
       "<IPython.core.display.HTML object>"
      ]
     },
     "execution_count": 148,
     "metadata": {},
     "output_type": "execute_result"
    }
   ],
   "source": [
    "\n",
    "figEta = glucifer.Figure()\n",
    "figEta + glucifer.objects.Points(gSwarm,testVariable,colours='white yellow red green blue black')\n",
    "#figEta + glucifer.objects.VectorArrows(linearMesh,velocityField, arrowHeadSize=0.002,lengthScale=0.0000002)\n",
    "#figEta + glucifer.objects.Points(gSwarm,materialVariable, colours='brown white blue')\n",
    "#figEta + glucifer.objects.Points(gSwarm,rockIntVar, colours='red black')\n",
    "#figEta + glucifer.objects.Points( swarm=surfintswarm,  pointSize=2.0)\n",
    "\n",
    "#figEta + glucifer.objects.Mesh(linearMesh)\n",
    "#\n",
    "\n",
    "\n",
    "\n",
    "\n",
    "#figEta.Points(gSwarm,materialVariable)\n",
    "figEta.show()\n",
    "#figEta.save_database('test.gldb')"
   ]
  },
  {
   "cell_type": "code",
   "execution_count": null,
   "metadata": {
    "collapsed": true
   },
   "outputs": [],
   "source": [
    "#figEta.save_database('test.gldb')"
   ]
  },
  {
   "cell_type": "code",
   "execution_count": 142,
   "metadata": {
    "collapsed": false
   },
   "outputs": [],
   "source": [
    "\n",
    "fig3 = glucifer.Figure()\n",
    "#velmagfield = uw.function.math.sqrt( uw.function.math.dot(velocityField,velocityField) )\n",
    "fig3 + glucifer.objects.VectorArrows( elementMesh, velocityField, arrowHead=0.3, scaling=0.05, glyphs=3, )\n",
    "#fig3 + glucifer.objects.Points(gSwarm,materialVariable, colours='brown white blue red')\n",
    "fig3 + glucifer.objects.Surface(elementMesh, temperatureField)\n",
    "#fig3 + glucifer.objects.Mesh(linearMesh)\n",
    "fig3.show()\n",
    "#fig3.save_database('test.gldb')\n",
    " "
   ]
  },
  {
   "cell_type": "code",
   "execution_count": null,
   "metadata": {
    "collapsed": false
   },
   "outputs": [],
   "source": [
    "machine_time = (time.clock()-start)\n",
    "print(\"total time is: \" + str(machine_time))"
   ]
  },
  {
   "cell_type": "code",
   "execution_count": null,
   "metadata": {
    "collapsed": false
   },
   "outputs": [],
   "source": [
    "#print(\"velocity max on horizontal bounds is: \" + str(velocityField[0].evaluate(IWalls).max()))\n"
   ]
  },
  {
   "cell_type": "code",
   "execution_count": null,
   "metadata": {
    "collapsed": false
   },
   "outputs": [],
   "source": [
    "#velocityField[0].evaluate(IWalls)"
   ]
  }
 ],
 "metadata": {
  "kernelspec": {
   "display_name": "Python 2",
   "language": "python",
   "name": "python2"
  },
  "language_info": {
   "codemirror_mode": {
    "name": "ipython",
    "version": 2
   },
   "file_extension": ".py",
   "mimetype": "text/x-python",
   "name": "python",
   "nbconvert_exporter": "python",
   "pygments_lexer": "ipython2",
   "version": "2.7.10"
  }
 },
 "nbformat": 4,
 "nbformat_minor": 0
}
