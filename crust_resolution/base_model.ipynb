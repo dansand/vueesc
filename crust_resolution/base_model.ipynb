{
 "cells": [
  {
   "cell_type": "markdown",
   "metadata": {
    "collapsed": true
   },
   "source": [
    "\n",
    "Viscoplastic thermal convection in a 2-D square box\n",
    "=======\n",
    "\n",
    "Benchmarks from Tosi et al. 2015\n",
    "--------\n",
    "\n"
   ]
  },
  {
   "cell_type": "markdown",
   "metadata": {
    "collapsed": true
   },
   "source": [
    "This notebook generates models from the <a name=\"ref-1\"/>[(Tosi et al., 2015)](#cite-tosi2015community) in Underworld2. The Underworld2 results are compared to the model run on Fenics. Input files for the Fenics models were provided by Petra Maierova.\n",
    "\n",
    "This example uses the RT PIC solver with classic and nearest neighbour\n",
    "\n",
    "\n",
    "References\n",
    "====\n",
    "\n",
    "<a name=\"cite-tosi2015community\"/><sup>[^](#ref-1) </sup>Tosi, Nicola and Stein, Claudia and Noack, Lena and H&uuml;ttig, Christian and Maierov&aacute;, Petra and Samuel, Henri and Davies, DR and Wilson, CR and Kramer, SC and Thieulot, Cedric and others. 2015. _A community benchmark for viscoplastic thermal convection in a 2-D square box_.\n",
    "\n"
   ]
  },
  {
   "cell_type": "markdown",
   "metadata": {},
   "source": [
    "Load python functions needed for underworld. Some additional python functions from os, math and numpy used later on."
   ]
  },
  {
   "cell_type": "code",
   "execution_count": 119,
   "metadata": {
    "collapsed": false
   },
   "outputs": [],
   "source": [
    "#!pip install natsort\n",
    "#!pip install networkx"
   ]
  },
  {
   "cell_type": "code",
   "execution_count": 120,
   "metadata": {
    "collapsed": false
   },
   "outputs": [],
   "source": [
    "import networkx as nx\n",
    "import underworld as uw\n",
    "import math\n",
    "from underworld import function as fn\n",
    "import glucifer\n",
    "#import matplotlib.pyplot as pyplot\n",
    "import time\n",
    "import numpy as np\n",
    "import os\n",
    "import sys\n",
    "import natsort\n",
    "import shutil\n",
    "from easydict import EasyDict as edict\n",
    "\n",
    "\n",
    "from mpi4py import MPI\n",
    "comm = MPI.COMM_WORLD\n",
    "rank = comm.Get_rank()"
   ]
  },
  {
   "cell_type": "code",
   "execution_count": 121,
   "metadata": {
    "collapsed": false
   },
   "outputs": [
    {
     "name": "stdout",
     "output_type": "stream",
     "text": [
      "/Users/dansandiford/Documents/programming/earthsci_code/python/vueesc/crust_resolution\r\n",
      "\u001b[1m\u001b[34m8100\u001b[m\u001b[m              base_model.py     \u001b[1m\u001b[34mresults\u001b[m\u001b[m\r\n",
      "base_model.ipynb  raijin_single.pbs\r\n"
     ]
    }
   ],
   "source": [
    "#Display working directory info if in nb mode\n",
    "if (len(sys.argv) > 1):\n",
    "    if (sys.argv[1] == '-f'):\n",
    "        !pwd && ls"
   ]
  },
  {
   "cell_type": "code",
   "execution_count": 122,
   "metadata": {
    "collapsed": false
   },
   "outputs": [],
   "source": [
    "############\n",
    "#Model name.  \n",
    "############\n",
    "Model = \"R\"\n",
    "ModNum = 0\n",
    "\n",
    "if len(sys.argv) == 1:\n",
    "    ModIt = \"Base\"\n",
    "elif sys.argv[1] == '-f':\n",
    "    ModIt = \"Base\"\n",
    "else:\n",
    "    ModIt = str(sys.argv[1])\n"
   ]
  },
  {
   "cell_type": "code",
   "execution_count": 123,
   "metadata": {
    "collapsed": true
   },
   "outputs": [],
   "source": [
    "###########\n",
    "#Standard output directory setup\n",
    "###########\n",
    "\n",
    "\n",
    "outputPath = \"results\" + \"/\" +  str(Model) + \"/\" + str(ModNum) + \"/\" + str(ModIt) + \"/\"\n",
    "imagePath = outputPath + 'images/'\n",
    "filePath = outputPath + 'files/'\n",
    "checkpointPath = outputPath + 'checkpoint/'\n",
    "dbPath = outputPath + 'gldbs/'\n",
    "outputFile = 'results_model' + Model + '_' + str(ModNum) + '_' + str(ModIt) + '.dat'\n",
    "\n",
    "if uw.rank()==0:\n",
    "    # make directories if they don't exist\n",
    "    if not os.path.isdir(outputPath):\n",
    "        os.makedirs(outputPath)\n",
    "    if not os.path.isdir(checkpointPath):\n",
    "        os.makedirs(checkpointPath)\n",
    "    if not os.path.isdir(imagePath):\n",
    "        os.makedirs(imagePath)\n",
    "    if not os.path.isdir(dbPath):\n",
    "        os.makedirs(dbPath)\n",
    "    if not os.path.isdir(filePath):\n",
    "        os.makedirs(filePath)\n",
    "        \n",
    "comm.Barrier() #Barrier here so not procs run the check in the next cell too early "
   ]
  },
  {
   "cell_type": "code",
   "execution_count": 124,
   "metadata": {
    "collapsed": false
   },
   "outputs": [
    {
     "name": "stdout",
     "output_type": "stream",
     "text": [
      "results/R/0/Base/checkpoint/ is empty\n"
     ]
    }
   ],
   "source": [
    "###########\n",
    "#Check if starting from checkpoint\n",
    "###########\n",
    "\n",
    "checkdirs = []\n",
    "for dirpath, dirnames, files in os.walk(checkpointPath):\n",
    "    if files:\n",
    "        print dirpath, 'has files'\n",
    "        checkpointLoad = True\n",
    "        checkdirs.append(dirpath)\n",
    "    if not files:\n",
    "        print dirpath, 'is empty'\n",
    "        checkpointLoad = False\n",
    "        \n",
    "\n",
    "        "
   ]
  },
  {
   "cell_type": "markdown",
   "metadata": {},
   "source": [
    "Set physical constants and parameters, including the Rayleigh number (*RA*). "
   ]
  },
  {
   "cell_type": "code",
   "execution_count": 125,
   "metadata": {
    "collapsed": false
   },
   "outputs": [],
   "source": [
    "###########\n",
    "#Physical parameters\n",
    "###########\n",
    "\n",
    "#The Slippy rheology class will contain dimensional and nondimensional values, linked in a self-consistent way by scaling paramters\n",
    "#lowermantle.nondimensional['cohesion']\n",
    "#Where lowermantle is a material class (generated within a rheology class); and non dimensional is a dictionary\n",
    "\n",
    "#UW naming conventions: \n",
    "#module_name, package_name, ClassName, function_name, method_name, \n",
    "#ExceptionName, propertyName GLOBAL_CONSTANT_NAME, globalVarName, instanceVarName, functionParameterName, localVarName\n",
    "###########\n",
    "\n",
    "\n",
    "newvisc= math.exp(math.log(1e5)*0.53) #A factor that appears because I rescale the reference viscosity, compared to the one used in Tosi et al.\n",
    "#Where 1e5 = ETAT, and 0.53 is the steady state average temp of the system \n",
    "\n",
    "#dimensional parameter dictionary\n",
    "dp = edict({'LS':2890.*1e3,\n",
    "           'rho':3300,\n",
    "           'g':9.81, \n",
    "           'kappa':10**-6,\n",
    "           'alpha':1.25*10**-5, \n",
    "           'deltaT':2500})\n",
    "\n",
    "#non-dimensional parameter dictionary\n",
    "ndp = edict({'RA':1e2*newvisc, \n",
    "              'LS':1., \n",
    "              'etaT':1e5, \n",
    "              'etaY':10., \n",
    "              'eta0':1e-3*newvisc, \n",
    "              'TS':0.,\n",
    "              'TB':1., \n",
    "              'cohesion':4.6*newvisc}) #4.6 is the transistion from periodic to stagnant lid.\n",
    "\n",
    "\n",
    "#dimsional values used in this model\n",
    "D = dp.LS\n",
    "g = dp.g\n",
    "rho = dp.rho\n",
    "a = dp.alpha\n",
    "kappa = dp.kappa\n",
    "dT = dp.deltaT\n",
    "\n",
    "#nondimensional values used in this model\n",
    "#RA  = nondim.RA      # Rayleigh number\n",
    "#TS  = nondim.TS          # surface temperature\n",
    "#TB  = nondim.TB           # bottom boundary temperature (melting point)\n",
    "#ETA_T = nondim.etaT\n",
    "#ETA_Y = nondim.etaY\n",
    "#ETA0 = nondim.eta0\n",
    "#YSTRESS = nondim.cohesion\n",
    "\n",
    "#A few paramters defining lengths scales, affects materal transistions etc.\n",
    "MANTLETOCRUST = (27.*1e3)/D #Crust depth\n",
    "CRUSTTOMANTLE = (300.*1e3)/D\n",
    "LITHTOMANTLE = (660.*1e3)/D\n",
    "MANTLETOLITH = (200.*1e3)/D\n",
    "TOPOHEIGHT = (15.*1e3)/D #rock-air topography limits\n",
    "AVGTEMP = 0.53 #Used to define lithosphere\n",
    "\n",
    "\n",
    "\n",
    "#Compositional Rayliegh number of rock-air\n",
    "ETAREF = rho*g*a*dT*((D*1e3)**3)/(ndp.RA*kappa) #equivalent dimesnional reference viscosity\n",
    "RC = (3300*g*(D*1000)**3)/(ETAREF *kappa) #Composisitional Rayleigh number for rock-air buoyancy force\n",
    "COMP_RA_FACT = RC/ndp.RA\n",
    "\n",
    "\n",
    "#Additional dimensionless paramters\n",
    "AIRVISCOSITY = 0.001\n",
    "AIRDENSITY = ndp.RA*COMP_RA_FACT\n",
    "\n"
   ]
  },
  {
   "cell_type": "code",
   "execution_count": 126,
   "metadata": {
    "collapsed": false
   },
   "outputs": [],
   "source": [
    "###########\n",
    "#Model setup parameters\n",
    "###########\n",
    "\n",
    "stickyAir = False\n",
    "\n",
    "MINX = -1.\n",
    "MINY = 0.\n",
    "MAXX = 1.0\n",
    "\n",
    "#MAXY = 1.035\n",
    "MAXY = 1.\n",
    "\n",
    "if MINX == 0.:\n",
    "    squareModel = True\n",
    "else: \n",
    "    squareModel = False\n",
    "    \n",
    "    \n",
    "dim = 2          # number of spatial dimensions\n",
    "\n",
    "\n",
    "#MESH STUFF\n",
    "\n",
    "RES = 64\n",
    "\n",
    "\n",
    "\n",
    "\n",
    "#######################To be replaced soon\n",
    "#Physical parameters that can be defined with STDIN,\n",
    "#The == '-f': check is a a hack check to see cover the notebook case\n",
    "\n",
    "\n",
    "if len(sys.argv) == 1:\n",
    "    RES = RES\n",
    "elif sys.argv[1] == '-f':\n",
    "    RES = RES\n",
    "else:\n",
    "    RES = int(sys.argv[1])\n",
    "\n",
    "if MINX == 0.:\n",
    "    Xres = RES\n",
    "else:\n",
    "    Xres = 2*RES\n",
    "\n",
    "Yres = RES\n",
    "\n",
    "\n",
    "periodic = [False,False]\n",
    "elementType = \"Q1/dQ0\"\n",
    "#elementType =\"Q2/DPC1\"\n",
    "\n",
    "refineMesh = False\n",
    "\n",
    "s = 1.2 #Mesh refinement parameter\n",
    "ALPHA = 11. #Mesh refinement parameter\n",
    "\n",
    "#System/Solver stuff\n",
    "\n",
    "PIC_integration=False"
   ]
  },
  {
   "cell_type": "code",
   "execution_count": 127,
   "metadata": {
    "collapsed": false
   },
   "outputs": [],
   "source": [
    "###########\n",
    "#Model Runtime parameters\n",
    "###########\n",
    "\n",
    "swarm_update = 25\n",
    "swarm_repop = 25\n",
    "files_output = 1e6\n",
    "gldbs_output = 1000\n",
    "images_output = 1e6\n",
    "checkpoint_every = 200\n",
    "metric_output = 100\n",
    "sticky_air_temp = 1e6\n",
    "\n",
    "comm.Barrier() #Barrier here so not procs run the check in the next cell too early \n",
    "\n",
    "assert metric_output <= checkpoint_every, 'Checkpointing should run less or as ofen as metric output'\n",
    "assert (metric_output >= swarm_update), 'Swarm update is needed before checkpointing'\n",
    "assert metric_output >= sticky_air_temp, 'Sticky air temp should be updated more frequently that metrics'\n"
   ]
  },
  {
   "cell_type": "code",
   "execution_count": 128,
   "metadata": {
    "collapsed": false
   },
   "outputs": [],
   "source": [
    "###########\n",
    "#Model output parameters\n",
    "###########\n",
    "\n",
    "#Do you want to write hdf5 files - Temp, RMS, viscosity, stress?\n",
    "writeFiles = True\n",
    "loadTemp = True\n",
    "\n",
    "    "
   ]
  },
  {
   "cell_type": "code",
   "execution_count": 129,
   "metadata": {
    "collapsed": false
   },
   "outputs": [],
   "source": [
    "mesh = uw.mesh.FeMesh_Cartesian( elementType = (\"Q1/dQ0\"),\n",
    "                                 elementRes  = (Xres, Yres), \n",
    "                                 minCoord    = (MINX,MINY), \n",
    "                                 maxCoord=(MAXX,MAXY), periodic=periodic)\n",
    "\n",
    "\n",
    "\n",
    "velocityField       = uw.mesh.MeshVariable( mesh=mesh,         nodeDofCount=dim )\n",
    "pressureField       = uw.mesh.MeshVariable( mesh=mesh.subMesh, nodeDofCount=1 )\n",
    "temperatureField    = uw.mesh.MeshVariable( mesh=mesh,         nodeDofCount=1 )\n",
    "temperatureDotField = uw.mesh.MeshVariable( mesh=mesh,         nodeDofCount=1 )"
   ]
  },
  {
   "cell_type": "code",
   "execution_count": 130,
   "metadata": {
    "collapsed": false
   },
   "outputs": [
    {
     "data": {
      "text/plain": [
       "(128, -1.0, [False, False], 'Q1/dQ0')"
      ]
     },
     "execution_count": 130,
     "metadata": {},
     "output_type": "execute_result"
    }
   ],
   "source": [
    "Xres, MINX, periodic, elementType"
   ]
  },
  {
   "cell_type": "markdown",
   "metadata": {},
   "source": [
    "Create Finite Element (FE) variables for the velocity, pressure and temperature fields. The last two of these are scalar fields needing only one value at each mesh point, while the velocity field contains a vector of *dim* dimensions at each mesh point."
   ]
  },
  {
   "cell_type": "markdown",
   "metadata": {},
   "source": [
    "Create some dummy fevariables for doing top and bottom boundary calculations."
   ]
  },
  {
   "cell_type": "markdown",
   "metadata": {},
   "source": [
    "##Refine mesh"
   ]
  },
  {
   "cell_type": "markdown",
   "metadata": {},
   "source": [
    "#ICs and BCs"
   ]
  },
  {
   "cell_type": "code",
   "execution_count": 131,
   "metadata": {
    "collapsed": false
   },
   "outputs": [],
   "source": [
    "# Initialise data.. Note that we are also setting boundary conditions here\n",
    "velocityField.data[:] = [0.,0.]\n",
    "pressureField.data[:] = 0.\n",
    "temperatureField.data[:] = 0.\n",
    "temperatureDotField.data[:] = 0.\n",
    "\n",
    "# Setup temperature initial condition via numpy arrays\n",
    "A = 0.01\n",
    "#Note that width = height = 1\n",
    "tempNump = temperatureField.data\n",
    "for index, coord in enumerate(mesh.data):\n",
    "    pertCoeff = (1- coord[1]) + A*math.cos( math.pi * abs(1. - coord[0]) ) * math.sin( math.pi * coord[1] )\n",
    "    tempNump[index] = pertCoeff;\n",
    "    if coord[1] > 1:\n",
    "        tempNump[index] = 0."
   ]
  },
  {
   "cell_type": "code",
   "execution_count": 132,
   "metadata": {
    "collapsed": false
   },
   "outputs": [],
   "source": [
    "\n",
    "#For notebook runs\n",
    "#ModIt = \"96\""
   ]
  },
  {
   "cell_type": "markdown",
   "metadata": {
    "collapsed": true
   },
   "source": [
    "## Temp ICs"
   ]
  },
  {
   "cell_type": "code",
   "execution_count": 133,
   "metadata": {
    "collapsed": false
   },
   "outputs": [],
   "source": [
    "dummymesh = uw.mesh.FeMesh_Cartesian( elementType = (\"Q1/dQ0\"),\n",
    "                                 elementRes  = (128, 64), \n",
    "                                 minCoord    = (MINX,MINY), \n",
    "                                 maxCoord=(MAXX,MAXY), periodic=periodic)\n",
    "    \n",
    "dummytemperatureField = uw.mesh.MeshVariable(mesh=dummymesh, nodeDofCount=1 )\n",
    "\n",
    "dummytemperatureField.load(\"8100/temperatureField.hdf5\")"
   ]
  },
  {
   "cell_type": "code",
   "execution_count": null,
   "metadata": {
    "collapsed": true
   },
   "outputs": [],
   "source": [
    "if not checkpointLoad:\n",
    "    for index, coord in enumerate(mesh.data):\n",
    "        #Don't know mesh partitions in advance, and possible diferent between 'real' and 'dummy' mesh\n",
    "        try:\n",
    "            temperatureField.data[index] = dummytemperatureField.evaluate(coord)\n",
    "        except:\n",
    "            pass\n"
   ]
  },
  {
   "cell_type": "markdown",
   "metadata": {
    "collapsed": true
   },
   "source": []
  },
  {
   "cell_type": "code",
   "execution_count": null,
   "metadata": {
    "collapsed": false
   },
   "outputs": [],
   "source": [
    "# Get the actual sets \n",
    "#\n",
    "#  HJJJJJJH\n",
    "#  I      I\n",
    "#  I      I\n",
    "#  I      I\n",
    "#  HJJJJJJH\n",
    "#  \n",
    "#  Note that H = I & J \n",
    "\n",
    "# Note that we use operator overloading to combine sets\n",
    "# send boundary condition information to underworld\n",
    "IWalls = mesh.specialSets[\"MinI_VertexSet\"] + mesh.specialSets[\"MaxI_VertexSet\"]\n",
    "JWalls = mesh.specialSets[\"MinJ_VertexSet\"] + mesh.specialSets[\"MaxJ_VertexSet\"]\n",
    "TWalls = mesh.specialSets[\"MaxJ_VertexSet\"]\n",
    "BWalls = mesh.specialSets[\"MinJ_VertexSet\"]"
   ]
  },
  {
   "cell_type": "code",
   "execution_count": null,
   "metadata": {
    "collapsed": true
   },
   "outputs": [],
   "source": []
  },
  {
   "cell_type": "code",
   "execution_count": null,
   "metadata": {
    "collapsed": false
   },
   "outputs": [],
   "source": [
    "# Now setup the dirichlet boundary condition\n",
    "# Note that through this object, we are flagging to the system \n",
    "# that these nodes are to be considered as boundary conditions. \n",
    "# Also note that we provide a tuple of sets.. One for the Vx, one for Vy.\n",
    "freeslipBC = uw.conditions.DirichletCondition(     variable=velocityField, \n",
    "                                              indexSetsPerDof=(IWalls, JWalls) )\n",
    "\n",
    "# also set dirichlet for temp field\n",
    "tempBC = uw.conditions.DirichletCondition(     variable=temperatureField, \n",
    "                                              indexSetsPerDof=(JWalls,) )"
   ]
  },
  {
   "cell_type": "markdown",
   "metadata": {},
   "source": [
    "##Add Random 125 K temp perturbation\n"
   ]
  },
  {
   "cell_type": "markdown",
   "metadata": {
    "collapsed": true
   },
   "source": [
    "tempNump = temperatureField.data\n",
    "\n",
    "#In gerneral we only want to do this on the initial setup, not restarts\n",
    "\n",
    "if not checkpointLoad:\n",
    "    for index, coord in enumerate(mesh.data):\n",
    "        pertCoeff = (0.05*(np.random.rand(1)[0] - 0.5)) #this should create values between [-0.5,0.5] from uniform dist.\n",
    "        ict = tempNump[index]\n",
    "        tempNump[index] = ict + pertCoeff"
   ]
  },
  {
   "cell_type": "markdown",
   "metadata": {},
   "source": [
    "##Reset bottom Dirichlet conds."
   ]
  },
  {
   "cell_type": "code",
   "execution_count": 24,
   "metadata": {
    "collapsed": false
   },
   "outputs": [],
   "source": [
    "# Set temp boundaries \n",
    "# on the boundaries\n",
    "for index in mesh.specialSets[\"MinJ_VertexSet\"]:\n",
    "    temperatureField.data[index] = ndp.TB\n",
    "for index in mesh.specialSets[\"MaxJ_VertexSet\"]:\n",
    "    temperatureField.data[index] = ndp.TS"
   ]
  },
  {
   "cell_type": "code",
   "execution_count": 117,
   "metadata": {
    "collapsed": false
   },
   "outputs": [],
   "source": [
    "#checkdirs"
   ]
  },
  {
   "cell_type": "code",
   "execution_count": null,
   "metadata": {
    "collapsed": true
   },
   "outputs": [],
   "source": []
  },
  {
   "cell_type": "markdown",
   "metadata": {},
   "source": [
    "# Particles"
   ]
  },
  {
   "cell_type": "code",
   "execution_count": 26,
   "metadata": {
    "collapsed": false
   },
   "outputs": [],
   "source": [
    "###########\n",
    "#Material Swarm and variables\n",
    "###########\n",
    "\n",
    "gSwarm = uw.swarm.Swarm(mesh=mesh)\n",
    "materialVariable = gSwarm.add_variable( dataType=\"char\", count=1 )\n",
    "rockIntVar = gSwarm.add_variable( dataType=\"double\", count=1 )\n",
    "airIntVar = gSwarm.add_variable( dataType=\"double\", count=1 )\n",
    "lithIntVar = gSwarm.add_variable( dataType=\"double\", count=1 )\n",
    "\n",
    "varlist = [materialVariable, rockIntVar, airIntVar, lithIntVar]\n",
    "varnames = ['materialVariable', 'rockIntVar', 'airIntVar', 'lithIntVar']"
   ]
  },
  {
   "cell_type": "code",
   "execution_count": 27,
   "metadata": {
    "collapsed": false
   },
   "outputs": [],
   "source": [
    "###########\n",
    "#Swarms for surface intragrals when using Sticky air\n",
    "###########\n",
    "\n",
    "snum = 1000.\n",
    "dx = (mesh.data[:,0].max()- mesh.data[:,0].min())/snum\n",
    "yp = 0.9947 #1. - yelsize/2. at res = 96\n",
    "\n",
    "mesh.data[:,0].max()\n",
    "xps = np.linspace(mesh.data[:,0].min(),mesh.data[:,0].max(), snum)\n",
    "yps = [yp for i in xps]\n",
    "\n",
    "surfintswarm = uw.swarm.Swarm( mesh=mesh )\n",
    "dumout = surfintswarm.add_particles_with_coordinates(np.array((xps,yps)).T)\n",
    "\n",
    "yps = [ 1.- yp  for i in xps]\n",
    "\n",
    "baseintswarm = uw.swarm.Swarm( mesh=mesh)\n",
    "dumout = baseintswarm.add_particles_with_coordinates(np.array((xps,yps)).T)"
   ]
  },
  {
   "cell_type": "markdown",
   "metadata": {},
   "source": [
    "#Initialise swarm variables, or Swarm checkpoint load"
   ]
  },
  {
   "cell_type": "code",
   "execution_count": 28,
   "metadata": {
    "collapsed": false
   },
   "outputs": [],
   "source": [
    "mantleIndex = 0\n",
    "lithosphereIndex = 1\n",
    "crustIndex = 2\n",
    "airIndex = 3\n",
    "\n",
    "\n",
    "if checkpointLoad:\n",
    "    checkpointLoadDir = natsort.natsorted(checkdirs)[-1]\n",
    "    temperatureField.load(os.path.join(checkpointLoadDir, \"temperatureField\" + \".hdf5\"))\n",
    "    pressureField.load(os.path.join(checkpointLoadDir, \"pressureField\" + \".hdf5\"))\n",
    "    velocityField.load(os.path.join(checkpointLoadDir, \"velocityField\" + \".hdf5\"))\n",
    "    gSwarm.load(os.path.join(checkpointLoadDir, \"swarm\" + \".h5\"))\n",
    "    for ix in range(len(varlist)):\n",
    "        varb = varlist[ix]\n",
    "        varb.load(os.path.join(checkpointLoadDir,varnames[ix] + \".h5\"))\n",
    "\n",
    "else:\n",
    "\n",
    "    # Layouts are used to populate the swarm across the whole domain\n",
    "    # Create the layout object\n",
    "    #layout = uw.swarm.layouts.GlobalSpaceFillerLayout( swarm=gSwarm, particlesPerCell=20)\n",
    "    layout = uw.swarm.layouts.PerCellRandomLayout(swarm=gSwarm, particlesPerCell=15)\n",
    "    # Now use it to populate.\n",
    "    gSwarm.populate_using_layout( layout=layout )\n",
    "\n",
    "    # Lets initialise the 'materialVariable' data to represent different materials\n",
    "    # Set the material to heavy everywhere via the numpy array\n",
    "    materialVariable.data[:] = mantleIndex\n",
    "    \n",
    "    \n",
    "    #Set initial air and crust materials (allow the graph to take care of lithsophere)\n",
    "    #########\n",
    "    #This initial material setup will be model dependent\n",
    "    #########\n",
    "    for particleID in range(gSwarm.particleCoordinates.data.shape[0]):\n",
    "        if (1. - gSwarm.particleCoordinates.data[particleID][1]) < 0:\n",
    "                 materialVariable.data[particleID] = airIndex\n",
    "        elif (1. - gSwarm.particleCoordinates.data[particleID][1]) < MANTLETOCRUST:\n",
    "                 materialVariable.data[particleID] = crustIndex\n"
   ]
  },
  {
   "cell_type": "markdown",
   "metadata": {},
   "source": [
    "#Material Graphs"
   ]
  },
  {
   "cell_type": "code",
   "execution_count": 29,
   "metadata": {
    "collapsed": false
   },
   "outputs": [],
   "source": [
    "##############\n",
    "#Important: This is a quick fix for a bug that arises in parallel runs\n",
    "##############\n",
    "material_list = [0,1,2,3]\n"
   ]
  },
  {
   "cell_type": "code",
   "execution_count": 30,
   "metadata": {
    "collapsed": false
   },
   "outputs": [
    {
     "name": "stdout",
     "output_type": "stream",
     "text": [
      "unique values after swarm has loaded:[0 1 2]\n"
     ]
    }
   ],
   "source": [
    "print( \"unique values after swarm has loaded:\" + str(np.unique(materialVariable.data[:])))\n"
   ]
  },
  {
   "cell_type": "code",
   "execution_count": 31,
   "metadata": {
    "collapsed": false
   },
   "outputs": [],
   "source": [
    "\n",
    "\n",
    "#All depth conditions are given as (km/D) where D is the length scale, \n",
    "#note that 'model depths' are used, e.g. 1-z, where z is the vertical Underworld coordinate\n",
    "#All temp conditions are in dimensionless temp. [0. - 1.]\n",
    "\n",
    "#######Graph object\n",
    "DG = nx.DiGraph(field=\"Depth\")\n",
    "\n",
    "#######Nodes\n",
    "#Note that the order of materials, deepest to shallowest is important \n",
    "DG.add_node(0, mat='mantle')\n",
    "DG.add_node(1, mat='lithosphere')\n",
    "DG.add_node(2, mat='crust')\n",
    "DG.add_node(3, mat='air')\n",
    "\n",
    "\n",
    "labels=dict((n,d['mat']) for n,d in DG.nodes(data=True))\n",
    "pos=nx.spring_layout(DG) \n",
    "\n",
    "\n",
    "#######Edges\n",
    "#anything to air\n",
    "DG.add_edges_from([(0,3),(1,3), (2,3)])\n",
    "DG[0][3]['depthcondition'] = -1*TOPOHEIGHT\n",
    "DG[1][3]['depthcondition'] = -1*TOPOHEIGHT\n",
    "DG[2][3]['depthcondition'] = -1*TOPOHEIGHT\n",
    "\n",
    "\n",
    "#Anything to mantle\n",
    "DG.add_edges_from([(2,0), (3,0), (1,0)])\n",
    "DG[3][0]['depthcondition'] = TOPOHEIGHT\n",
    "DG[2][0]['depthcondition'] = CRUSTTOMANTLE\n",
    "DG[1][0]['depthcondition'] = LITHTOMANTLE #This means we're going to kill lithosphere at the 660.\n",
    "\n",
    "\n",
    "#Anything to lithsphere\n",
    "DG.add_edges_from([(0,1),(3,1)])\n",
    "DG[0][1]['depthcondition'] = MANTLETOLITH\n",
    "DG[0][1]['avgtempcondition'] = 0.75*AVGTEMP #definition of thermal lithosphere\n",
    "\n",
    "\n",
    "#Anything to crust\n",
    "DG.add_edges_from([(0,2), (1,2)])\n",
    "DG[0][2]['depthcondition'] = MANTLETOCRUST\n",
    "DG[1][2]['depthcondition'] = MANTLETOCRUST"
   ]
  },
  {
   "cell_type": "code",
   "execution_count": 32,
   "metadata": {
    "collapsed": false
   },
   "outputs": [
    {
     "data": {
      "text/plain": [
       "[0, 1, 2, 3]"
      ]
     },
     "execution_count": 32,
     "metadata": {},
     "output_type": "execute_result"
    }
   ],
   "source": [
    "DG.nodes()"
   ]
  },
  {
   "cell_type": "code",
   "execution_count": 33,
   "metadata": {
    "collapsed": false
   },
   "outputs": [],
   "source": [
    "remove_nodes = []\n",
    "for node in DG.nodes():\n",
    "    if not node in material_list:\n",
    "        remove_nodes.append(node)\n",
    "        \n",
    "for rmnode in remove_nodes:\n",
    "    DG.remove_node(rmnode)"
   ]
  },
  {
   "cell_type": "code",
   "execution_count": 34,
   "metadata": {
    "collapsed": false
   },
   "outputs": [
    {
     "data": {
      "text/plain": [
       "[0, 1, 2, 3]"
      ]
     },
     "execution_count": 34,
     "metadata": {},
     "output_type": "execute_result"
    }
   ],
   "source": [
    "DG.nodes()"
   ]
  },
  {
   "cell_type": "code",
   "execution_count": 35,
   "metadata": {
    "collapsed": true
   },
   "outputs": [],
   "source": [
    "#A Dictionary to map strings in the graph (e.g. 'depthcondition') to particle data arrays\n",
    "\n",
    "particledepths = 1. - gSwarm.particleCoordinates.data[:,1]\n",
    "particletemps = temperatureField.evaluate(gSwarm)[:,0]\n",
    "\n",
    "conditionmap = {}\n",
    "\n",
    "conditionmap['depthcondition'] = {}\n",
    "conditionmap['depthcondition']['data'] = particledepths\n",
    "conditionmap['avgtempcondition'] = {}\n",
    "conditionmap['avgtempcondition']['data'] = particletemps"
   ]
  },
  {
   "cell_type": "code",
   "execution_count": 36,
   "metadata": {
    "collapsed": true
   },
   "outputs": [],
   "source": [
    "def update_swarm(graph, particleIndex):\n",
    "    \"\"\"\n",
    "    This function takes the materials graph (networkx.DiGraph), and a particle index,\n",
    "    then determines if a material update is required \n",
    "    and if so, returns the new materialindex\n",
    "    Args:\n",
    "        graph (networkx.DiGraph): Directed multigraph representing the transformation of material types\n",
    "        particleIndex (int): the particle index as corressponding to the index in the swarm data arrays\n",
    "    Returns:\n",
    "        if update is required the function returns the the new material variable (int) \n",
    "        else returns None\n",
    "    Raises:\n",
    "        TypeError: not implemented\n",
    "        ValueError: not implemented\n",
    "    \"\"\"\n",
    "    ##Egde gives links to other materials, we then query the conditions to see if we should change materials\n",
    "    matId = materialVariable.data[particleIndex][0]\n",
    "    innerchange = False\n",
    "    outerchange = False\n",
    "    for edge in graph[matId]:\n",
    "        if outerchange:\n",
    "            break\n",
    "        for cond in graph[matId][edge].keys():\n",
    "            outerchange = False\n",
    "            if innerchange: #found a complete transition, break inner loop\n",
    "                break\n",
    "            currentparticlevalue = conditionmap[cond]['data'][particleIndex]\n",
    "            crossover = graph[matId][edge][cond]\n",
    "            if ((matId > edge) and (currentparticlevalue > crossover)):\n",
    "                innerchange = False # continue on, \n",
    "                if graph[matId][edge].keys()[-1] == cond:\n",
    "                    outerchange = True\n",
    "                    innerchange = edge\n",
    "                    break\n",
    "            elif ((matId < edge) and (currentparticlevalue < crossover)):\n",
    "                innerchange = False\n",
    "                if graph[matId][edge].keys()[-1] == cond:\n",
    "                    outerchange = True\n",
    "                    innerchange = edge\n",
    "                    break\n",
    "            else:\n",
    "                #condition not met, break outer loop, go to next edge, outerchange should still be False\n",
    "                break\n",
    "    if type(innerchange) == int:\n",
    "        return innerchange"
   ]
  },
  {
   "cell_type": "code",
   "execution_count": 37,
   "metadata": {
    "collapsed": false
   },
   "outputs": [],
   "source": [
    "#Cleanse the swarm of its sins\n",
    "#For some Material Graphs, the graph may have to be treaversed more than once\n",
    "\n",
    "check = -1\n",
    "number_updated = 1\n",
    "\n",
    "while number_updated != 0:\n",
    "    number_updated = 0\n",
    "    for particleID in range(gSwarm.particleCoordinates.data.shape[0]):\n",
    "                check = update_swarm(DG, particleID)\n",
    "                if check > -1:\n",
    "                    number_updated += 1\n",
    "                    materialVariable.data[particleID] = check"
   ]
  },
  {
   "cell_type": "markdown",
   "metadata": {},
   "source": [
    "##Set the values for the masking swarms"
   ]
  },
  {
   "cell_type": "code",
   "execution_count": 38,
   "metadata": {
    "collapsed": false
   },
   "outputs": [],
   "source": [
    "#Setup up a masking Swarm variable for the integrations.\n",
    "#These should be rebuilt at same frequency as the metric calcualtions\n",
    "\n",
    "rockIntVar.data[:] = 0.\n",
    "notair = np.where(materialVariable.data != airIndex)\n",
    "rockIntVar.data[notair] = 1.\n",
    "\n",
    "airIntVar.data[:] = 0.\n",
    "notrock = np.where(materialVariable.data == airIndex)\n",
    "airIntVar.data[notrock] = 1.\n",
    "\n",
    "lithIntVar.data[:] = 0.\n",
    "islith = np.where((materialVariable.data == lithosphereIndex) | (materialVariable.data == crustIndex))\n",
    "lithIntVar.data[islith] = 1.\n"
   ]
  },
  {
   "cell_type": "markdown",
   "metadata": {
    "collapsed": false
   },
   "source": [
    "#Material properties\n"
   ]
  },
  {
   "cell_type": "code",
   "execution_count": 39,
   "metadata": {
    "collapsed": false
   },
   "outputs": [],
   "source": [
    "#Make variables required for plasticity\n",
    "\n",
    "# The yeilding of the upper slab is dependent on the strain rate.\n",
    "strainRate_2ndInvariant = fn.tensor.second_invariant( \n",
    "                            fn.tensor.symmetric( \n",
    "                            velocityField.fn_gradient ))\n",
    "\n",
    "\n",
    "coordinate = fn.input()\n",
    "depth = 1. - coordinate[1]\n",
    "depthField = uw.mesh.MeshVariable( mesh=mesh,   nodeDofCount=1 )\n",
    "depthField.data[:] = depth.evaluate(mesh)\n",
    "depthField.data[np.where(depthField.data[:] < 0.)[0]] = 0."
   ]
  },
  {
   "cell_type": "code",
   "execution_count": 40,
   "metadata": {
    "collapsed": false
   },
   "outputs": [],
   "source": [
    "##Basic mantle viscosity Functions\n",
    "viscosityl2 = newvisc*fn.math.exp((math.log(ndp.etaT)*-1*temperatureField) + (depthField*math.log(ndp.etaY)))\n",
    "viscosityFn1 = viscosityl2 #This one always gets passed to the first velcotity solve\n",
    "\n",
    "#Von Mises effective viscosity\n",
    "viscosityp = ndp.eta0 + ndp.cohesion/(strainRate_2ndInvariant/math.sqrt(0.5)) #extra factor to account for underworld second invariant form\n",
    "viscosityFn2 = 2./(1./viscosityl2 + 1./viscosityp)\n",
    "\n",
    "\n",
    "##Now setup rheolgy for models with crust rheology;\n",
    "\n",
    "viscreduct = 0.1\n",
    "crustviscosityp = viscreduct*ndp.eta0+ ((viscreduct*ndp.cohesion)/(strainRate_2ndInvariant/math.sqrt(0.5))) #extra factor to account for underworld second invariant form\n",
    "crustviscosityFn2 = 2./(1./viscosityl2 + 1./crustviscosityp)"
   ]
  },
  {
   "cell_type": "markdown",
   "metadata": {},
   "source": [
    "Set up simulation parameters and functions\n",
    "====\n",
    "\n",
    "Here the functions for density, viscosity etc. are set. These functions and/or values are preserved for the entire simulation time. "
   ]
  },
  {
   "cell_type": "code",
   "execution_count": 41,
   "metadata": {
    "collapsed": false
   },
   "outputs": [],
   "source": [
    "# Here we set a viscosity value of '1.' for both materials\n",
    "viscosityMapFn = fn.branching.map( fn_key = materialVariable,\n",
    "                         mapping = {airIndex:AIRVISCOSITY, \n",
    "                                    lithosphereIndex:viscosityFn2, \n",
    "                                    crustIndex:crustviscosityFn2,\n",
    "                                    mantleIndex:viscosityFn2} )\n",
    "\n",
    "densityMapFn = fn.branching.map( fn_key = materialVariable,\n",
    "                         mapping = {airIndex:AIRDENSITY, \n",
    "                                    lithosphereIndex:ndp.RA*temperatureField, \n",
    "                                    crustIndex:ndp.RA*temperatureField, \n",
    "                                    mantleIndex:ndp.RA*temperatureField} )\n",
    "\n",
    "# Define our gravity using a python tuple (this will be automatically converted to a function)\n",
    "gravity = ( 0.0, 1.0 )\n",
    "\n",
    "buoyancyFn = gravity*densityMapFn"
   ]
  },
  {
   "cell_type": "markdown",
   "metadata": {},
   "source": [
    "Build the Stokes system, solvers, advection-diffusion\n",
    "------\n",
    "\n",
    "Setup linear Stokes system to get the initial velocity."
   ]
  },
  {
   "cell_type": "code",
   "execution_count": 42,
   "metadata": {
    "collapsed": false
   },
   "outputs": [],
   "source": [
    "#We first set up a l\n",
    "stokesPIC = uw.systems.Stokes(velocityField=velocityField, \n",
    "                              pressureField=pressureField,\n",
    "                              conditions=[freeslipBC,],\n",
    "#                              viscosityFn=viscosityFn1, \n",
    "                              fn_viscosity=fn.exception.SafeMaths(viscosityFn1), \n",
    "                              fn_bodyforce=buoyancyFn)"
   ]
  },
  {
   "cell_type": "markdown",
   "metadata": {},
   "source": [
    "We do one solve with linear viscosity to get the initial strain rate invariant. This solve step also calculates a 'guess' of the the velocity field based on the linear system, which is used later in the non-linear solver."
   ]
  },
  {
   "cell_type": "code",
   "execution_count": 43,
   "metadata": {
    "collapsed": false
   },
   "outputs": [
    {
     "data": {
      "text/plain": [
       "True"
      ]
     },
     "execution_count": 43,
     "metadata": {},
     "output_type": "execute_result"
    }
   ],
   "source": [
    "checkpointLoad"
   ]
  },
  {
   "cell_type": "code",
   "execution_count": 44,
   "metadata": {
    "collapsed": false
   },
   "outputs": [],
   "source": [
    "if not checkpointLoad:\n",
    "    solver = uw.systems.Solver(stokesPIC)\n",
    "    solver.solve() "
   ]
  },
  {
   "cell_type": "code",
   "execution_count": 45,
   "metadata": {
    "collapsed": false
   },
   "outputs": [],
   "source": [
    "#Switch particle escape on, this will also trigger the inflow population control \n",
    "gSwarm.particleEscape = True"
   ]
  },
  {
   "cell_type": "code",
   "execution_count": 46,
   "metadata": {
    "collapsed": false
   },
   "outputs": [],
   "source": [
    "# Setup the Stokes system again, now with linear or nonlinear visocity viscosity.\n",
    "\n",
    "if PIC_integration:\n",
    "    swarm = gSwarm\n",
    "else:\n",
    "    swarm = False\n",
    "\n",
    "stokesPIC2 = uw.systems.Stokes(velocityField=velocityField, \n",
    "                              pressureField=pressureField,\n",
    "                              conditions=[freeslipBC,],\n",
    "                              fn_viscosity=fn.exception.SafeMaths(viscosityMapFn), \n",
    "                              fn_bodyforce=buoyancyFn, swarm = swarm)"
   ]
  },
  {
   "cell_type": "code",
   "execution_count": 47,
   "metadata": {
    "collapsed": false
   },
   "outputs": [],
   "source": [
    "solver = uw.systems.Solver(stokesPIC2) # altered from PIC2\n",
    "\n",
    "\n",
    "\n",
    "#Set more advanced solver option\n",
    "solver.options.main.Q22_pc_type='uw'\n",
    "solver.options.A11.ksp_rtol=1e-5\n",
    "solver.options.scr.ksp_rtol=1e-5\n",
    "#solver.options.A11.ksp_type=\"cg\"\n",
    "solver.options.scr.use_previous_guess = True\n",
    "solver.options.scr.ksp_set_min_it_converge = 1\n",
    "\n",
    "solver.options.mg.levels = 3\n",
    "\n",
    "#solver.options.A11.ksp_monitor=''\n",
    "#solver.options.A11.ksp_converged_reason='"
   ]
  },
  {
   "cell_type": "markdown",
   "metadata": {},
   "source": [
    "Solve for initial pressure and velocity using a quick non-linear Picard iteration\n"
   ]
  },
  {
   "cell_type": "code",
   "execution_count": 48,
   "metadata": {
    "collapsed": false
   },
   "outputs": [],
   "source": [
    "solver.solve(nonLinearIterate=True)"
   ]
  },
  {
   "cell_type": "markdown",
   "metadata": {},
   "source": [
    "Create an advective-diffusive system\n",
    "=====\n",
    "\n",
    "Setup the system in underworld by flagging the temperature and velocity field variables."
   ]
  },
  {
   "cell_type": "code",
   "execution_count": 49,
   "metadata": {
    "collapsed": false
   },
   "outputs": [],
   "source": [
    "#Create advdiff system\n",
    "\n",
    "\n",
    "\n",
    "advDiff = uw.systems.AdvectionDiffusion( phiField       = temperatureField, \n",
    "                                         phiDotField    = temperatureDotField, \n",
    "                                         velocityField  = velocityField, \n",
    "                                         fn_diffusivity = 1.0, \n",
    "                                         conditions     = [tempBC,] )\n",
    "\n",
    "\n",
    "\n",
    "advector = uw.systems.SwarmAdvector( swarm         = gSwarm, \n",
    "                                     velocityField = velocityField, \n",
    "                                     order         = 1)"
   ]
  },
  {
   "cell_type": "markdown",
   "metadata": {},
   "source": [
    "Metrics for benchmark\n",
    "=====\n",
    "\n",
    "Define functions to be used in the time loop. For cases 1-4, participants were asked to report a number of diagnostic quantities to be measured after reaching steady state:\n",
    "\n",
    "* Average temp... $$  \\langle T \\rangle  = \\int^1_0 \\int^1_0 T \\, dxdy $$\n",
    "* Top and bottom Nusselt numbers... $$N = \\int^1_0 \\frac{\\partial T}{\\partial y} \\rvert_{y=0/1} \\, dx$$\n",
    "* RMS velocity over the whole domain, surface and max velocity at surface\n",
    "* max and min viscosity over the whole domain\n",
    "* average rate of work done against gravity...$$\\langle W \\rangle = \\int^1_0 \\int^1_0 T u_y \\, dx dy$$\n",
    "* and the average rate of viscous dissipation...$$\\langle \\Phi \\rangle = \\int^1_0 \\int^1_0 \\tau_{ij} \\dot \\epsilon_{ij} \\, dx dy$$\n",
    "\n",
    "* In steady state, if thermal energy is accurately conserved, the difference between $\\langle W \\rangle$ and $\\langle \\Phi \\rangle / Ra$ must vanish, so also reported is the percentage error: \n",
    "\n",
    "$$ \\delta = \\frac{\\lvert \\langle W \\rangle - \\frac{\\langle \\Phi \\rangle}{Ra} \\rvert}{max \\left(  \\langle W \\rangle,  \\frac{\\langle \\Phi \\rangle}{Ra}\\right)} \\times 100% $$"
   ]
  },
  {
   "cell_type": "code",
   "execution_count": 50,
   "metadata": {
    "collapsed": false
   },
   "outputs": [],
   "source": [
    "#Setup some Integrals. We want these outside the main loop...\n",
    "tempVariable = gSwarm.add_variable( dataType=\"double\", count=1 )\n",
    "tempVariable.data[:] = temperatureField.evaluate(gSwarm)[:]\n",
    "tempint = uw.utils.Integral((tempVariable*rockIntVar), mesh)\n",
    "\n",
    "\n",
    "areaint = uw.utils.Integral((1.*rockIntVar),mesh)\n",
    "\n",
    "v2int = uw.utils.Integral(fn.math.dot(velocityField,velocityField)*rockIntVar, mesh)\n",
    "\n",
    "\n",
    "dwint = uw.utils.Integral(temperatureField*velocityField[1]*rockIntVar, mesh)\n",
    "\n",
    "\n",
    "sinner = fn.math.dot(strainRate_2ndInvariant,strainRate_2ndInvariant)\n",
    "vdint = uw.utils.Integral((4.*viscosityFn2*sinner)*rockIntVar, mesh)\n",
    "vdintair = uw.utils.Integral((4.*viscosityFn2*sinner)*airIntVar, mesh)\n",
    "vdintlith = uw.utils.Integral((4.*viscosityFn2*sinner)*lithIntVar, mesh)"
   ]
  },
  {
   "cell_type": "code",
   "execution_count": 51,
   "metadata": {
    "collapsed": false
   },
   "outputs": [
    {
     "data": {
      "text/plain": [
       "[12541.279562078826]"
      ]
     },
     "execution_count": 51,
     "metadata": {},
     "output_type": "execute_result"
    }
   ],
   "source": [
    "v2int.evaluate()"
   ]
  },
  {
   "cell_type": "markdown",
   "metadata": {},
   "source": [
    "\\begin{equation}  \\langle T \\rangle  = \\int^1_0 \\int^1_0 T \\, dxdy \\end{equation}"
   ]
  },
  {
   "cell_type": "code",
   "execution_count": 52,
   "metadata": {
    "collapsed": false
   },
   "outputs": [],
   "source": [
    "def avg_temp():\n",
    "    return tempint.evaluate()[0]/areaint.evaluate()[0]\n",
    "\n",
    "#This one gets cleaned up when Surface integrals are available\n",
    "def nusselt(tempfield, swarm, dx):\n",
    "    #Update the swarm variable\n",
    "    tempgrad = tempfield.fn_gradient\n",
    "    valcheck = tempgrad[1].evaluate(swarm)\n",
    "    if valcheck is None:\n",
    "        vals = np.array(0, dtype='float64')\n",
    "    else:\n",
    "        vals = valcheck.sum()*dx\n",
    "    return vals\n",
    "\n",
    "def rms():\n",
    "    return math.sqrt(v2int.evaluate()[0]/areaint.evaluate()[0])\n",
    "\n",
    "#This one gets cleaned up when Surface integrals are available\n",
    "def rms_surf(swarm, dx):\n",
    "    rmsmaxfn = fn.math.dot(velocityField,velocityField)\n",
    "    rmscheck = rmsmaxfn.evaluate(swarm)\n",
    "    if rmscheck is None:\n",
    "        #print \"watch out\"\n",
    "        rmsvals = np.array(0, dtype='float64')\n",
    "    else:\n",
    "        rmsvals = np.sqrt(rmscheck.sum()*dx)\n",
    "        #print \"okay\"\n",
    "    return rmsvals\n",
    "\n",
    "def max_vx_surf(velfield, swarm):\n",
    "    check = velfield[0].evaluate(swarm)\n",
    "    if check is None:\n",
    "        return 0.\n",
    "    else:\n",
    "        return check.max()\n",
    "\n",
    "\n",
    "#def max_vy_surf(velfield, swarm):\n",
    "#    surfvelxmaxfn = fn.view.min_max(velfield[1])\n",
    "#    surfvelxmaxfn.evaluate(swarm)\n",
    "#    return surfvelxmaxfn.max_global()\n",
    "\n",
    "def gravwork(workfn):\n",
    "    return workfn.evaluate()[0]\n",
    "\n",
    "def viscdis(vdissfn):\n",
    "    return vdissfn.evaluate()[0]\n",
    "\n",
    "def visc_extr(viscfn):\n",
    "    vuviscfn = fn.view.min_max(viscfn)\n",
    "    vuviscfn.evaluate(gSwarm)\n",
    "    return vuviscfn.max_global(), vuviscfn.min_global()"
   ]
  },
  {
   "cell_type": "code",
   "execution_count": 53,
   "metadata": {
    "collapsed": false
   },
   "outputs": [],
   "source": [
    "#Fields for saving data / fields\n",
    "\n",
    "rmsField = uw.mesh.MeshVariable( mesh=mesh,   nodeDofCount=1)\n",
    "rmsfn = fn.math.sqrt(fn.math.dot(velocityField,velocityField))\n",
    "rmsdata = rmsfn.evaluate(mesh)\n",
    "rmsField.data[:] = rmsdata \n",
    "\n",
    "viscField = uw.mesh.MeshVariable( mesh=mesh,   nodeDofCount=1)\n",
    "viscdata = viscosityFn2.evaluate(mesh)\n",
    "viscField.data[:] = viscdata\n",
    "\n",
    "\n",
    "strainrateField = uw.mesh.MeshVariable( mesh=mesh,   nodeDofCount=1)\n",
    "srtdata = fn.tensor.second_invariant( \n",
    "                    fn.tensor.symmetric( \n",
    "                        velocityField.fn_gradient ))\n",
    "rostfield = srtdata.evaluate(mesh)\n",
    "strainrateField.data[:] = rostfield\n",
    "\n",
    "viscVariable = gSwarm.add_variable( dataType=\"float\", count=1 )\n",
    "viscVariable.data[:] = viscosityMapFn.evaluate(gSwarm)\n"
   ]
  },
  {
   "cell_type": "code",
   "execution_count": 54,
   "metadata": {
    "collapsed": false
   },
   "outputs": [],
   "source": [
    "#Images\n",
    "figEta = glucifer.Figure()\n",
    "figEta.append( glucifer.objects.Points(gSwarm,viscVariable, logScale=True))\n",
    "\n",
    "\n",
    "figMat = glucifer.Figure()\n",
    "figMat.append( glucifer.objects.Points(gSwarm,materialVariable, colours='brown white blue red'))\n",
    "figMat.append( glucifer.objects.Mesh(mesh))\n",
    "\n",
    "\n",
    "figStrainRate = glucifer.Figure()\n",
    "figStrainRate.append( glucifer.objects.Surface(mesh, strainRate_2ndInvariant, logScale=True))\n",
    "\n",
    "\n",
    "figVelocityMag = glucifer.Figure()\n",
    "figVelocityMag.append( glucifer.objects.Surface(mesh, fn.math.dot(velocityField,velocityField))\n",
    ")\n",
    "figTemp = glucifer.Figure()\n",
    "figTemp.append( glucifer.objects.Surface(mesh, temperatureField))\n",
    "\n",
    "\n",
    "\n",
    "#Pack some stuff into a database as well\n",
    "figDb = glucifer.Figure()\n",
    "figDb.append( glucifer.objects.Points(gSwarm,viscVariable, logScale=True, colours='brown white blue'))\n",
    "figDb.append( glucifer.objects.Points(gSwarm,materialVariable, colours='brown white blue red'))\n",
    "figDb.append( glucifer.objects.Mesh(mesh))\n",
    "figDb.append( glucifer.objects.VectorArrows(mesh,velocityField, arrowHead=0.2, scaling=0.01))\n",
    "figDb.append( glucifer.objects.Surface(mesh, strainRate_2ndInvariant, logScale=True, colours='brown white blue'))\n",
    "                           "
   ]
  },
  {
   "cell_type": "code",
   "execution_count": 55,
   "metadata": {
    "collapsed": true
   },
   "outputs": [],
   "source": [
    "\n",
    "pics = uw.swarm.PICIntegrationSwarm(gSwarm)"
   ]
  },
  {
   "cell_type": "code",
   "execution_count": 56,
   "metadata": {
    "collapsed": false
   },
   "outputs": [],
   "source": [
    "def checkpoint1(step, checkpointPath,filename, filewrites):\n",
    "    path = checkpointPath + str(step) \n",
    "    os.mkdir(path)\n",
    "    ##Write and save the file, if not already a writing step\n",
    "    if not step % filewrites == 0:\n",
    "        filename.write((13*'%-15s ' + '\\n') % (realtime, Viscdis, float(Nu0glob), float(Nu1glob), Avg_temp, \n",
    "                                              Rms,Rmsurfglob,Max_vx_surf,Gravwork, etamax, etamin, Viscdisair, Viscdislith))\n",
    "    filename.close()\n",
    "    shutil.copyfile(os.path.join(outputPath, outputFile), os.path.join(path, outputFile))\n",
    "\n",
    "\n",
    "def checkpoint2(step, checkpointPath, swarm, filename, varlist = [materialVariable], varnames = ['materialVariable']):\n",
    "    path = checkpointPath + str(step) \n",
    "    velfile = \"velocityField\" + \".hdf5\"\n",
    "    tempfile = \"temperatureField\" + \".hdf5\"\n",
    "    pressfile = \"pressureField\" + \".hdf5\"\n",
    "    velocityField.save(os.path.join(path, velfile))\n",
    "    temperatureField.save(os.path.join(path, tempfile))\n",
    "    pressureField.save(os.path.join(path, pressfile))\n",
    "    swarm.save(os.path.join(path, \"swarm.h5\") ) \n",
    "    for ix in range(len(varlist)):\n",
    "        varb = varlist[ix]\n",
    "        varb.save(os.path.join(path,varnames[ix] + \".h5\"))\n",
    "        \n",
    "    "
   ]
  },
  {
   "cell_type": "code",
   "execution_count": 57,
   "metadata": {
    "collapsed": true
   },
   "outputs": [],
   "source": [
    "###########\n",
    "#Open file for writing metrics\n",
    "###########\n",
    "\n",
    "if checkpointLoad:\n",
    "    if uw.rank() == 0:\n",
    "        shutil.copyfile(os.path.join(checkpointLoadDir, outputFile), outputPath+outputFile)\n",
    "    comm.Barrier()\n",
    "    #os.rename(os.path.join(checkpointLoadDir, outputFile), outputPath+outputFile)\n",
    "    f_o = open(os.path.join(outputPath, outputFile), 'a')\n",
    "    prevdata = np.genfromtxt(os.path.join(outputPath, outputFile), skip_header=0, skip_footer=0)\n",
    "    realtime = prevdata[prevdata.shape[0]-1, 0]\n",
    "    step = int(checkpointLoadDir.split('/')[-1])\n",
    "    timevals = [0.]\n",
    "else:\n",
    "    f_o = open(outputPath+outputFile, 'w')\n",
    "    realtime = 0.\n",
    "    step = 0\n",
    "    timevals = [0.]"
   ]
  },
  {
   "cell_type": "markdown",
   "metadata": {},
   "source": [
    "Main simulation loop\n",
    "=======\n",
    "\n",
    "The main time stepping loop begins here. Before this the time and timestep are initialised to zero and the output statistics arrays are set up. Also the frequency of outputting basic statistics to the screen is set in steps_output.\n"
   ]
  },
  {
   "cell_type": "code",
   "execution_count": null,
   "metadata": {
    "collapsed": false
   },
   "outputs": [
    {
     "data": {
      "text/plain": [
       "88.013740898160236"
      ]
     },
     "execution_count": 58,
     "metadata": {},
     "output_type": "execute_result"
    }
   ],
   "source": [
    "max_vx_surf(velocityField, surfintswarm) "
   ]
  },
  {
   "cell_type": "code",
   "execution_count": null,
   "metadata": {
    "collapsed": false
   },
   "outputs": [
    {
     "name": "stdout",
     "output_type": "stream",
     "text": [
      "8100\n",
      "8101\n",
      "8102\n",
      "8103\n",
      "8104\n",
      "8105\n",
      "8106\n",
      "8107\n",
      "8108\n",
      "8109\n",
      "8110\n",
      "8111\n",
      "8112\n",
      "8113\n",
      "8114\n",
      "8115\n",
      "8116\n",
      "8117\n",
      "8118\n",
      "8119\n",
      "8120\n",
      "8121\n",
      "8122\n",
      "8123\n",
      "8124\n",
      "8125\n",
      "8126\n",
      "8127\n",
      "8128\n",
      "8129\n",
      "8130\n",
      "8131\n",
      "8132\n",
      "8133\n",
      "8134\n",
      "8135\n",
      "8136\n",
      "8137\n",
      "8138\n",
      "8139\n",
      "8140\n",
      "8141\n",
      "8142\n",
      "8143\n",
      "8144\n",
      "8145\n",
      "8146\n",
      "8147\n",
      "8148\n",
      "8149\n",
      "8150\n",
      "8151\n",
      "8152\n",
      "8153\n",
      "8154\n",
      "8155\n",
      "8156\n",
      "8157\n",
      "8158\n",
      "8159\n",
      "8160\n",
      "8161\n",
      "8162\n",
      "8163\n",
      "8164"
     ]
    }
   ],
   "source": [
    "# initialise timer for computation\n",
    "startMain = time.clock()\n",
    "# Perform steps\n",
    "while realtime < 0.05:\n",
    "#while step < 5:\n",
    "    #Enter non-linear loop\n",
    "    print step\n",
    "    solver.solve(nonLinearIterate=True)\n",
    "    dt = advDiff.get_max_dt()\n",
    "    if step == 0:\n",
    "        dt = 0.\n",
    "    #start = time.clock()\n",
    "    advDiff.integrate(dt)\n",
    "    #machine_time = (time.clock()-start)\n",
    "    #print(\"total advDiff time is: \" + str(machine_time))\n",
    "    # Advect swarm using this timestep size\n",
    "    #start = time.clock()\n",
    "    advector.integrate(dt)\n",
    "    #machine_time = (time.clock()-start)\n",
    "    #print(\"total advector time is: \" + str(machine_time))\n",
    "    # Increment\n",
    "    realtime += dt\n",
    "    step += 1\n",
    "    timevals.append(realtime)\n",
    "    \n",
    "    ################\n",
    "    #Update temperature field in the air region\n",
    "    ################\n",
    "    if (step % sticky_air_temp == 0):\n",
    "        for index, coord in enumerate(mesh.data):\n",
    "            if coord[1] >= 1.:\n",
    "                temperatureField.data[index] = 0.\n",
    " \n",
    "    ################\n",
    "    #Particle update\n",
    "    ###############\n",
    "    if (step % swarm_update == 0) or (step % metric_output == 0): #These updates should be done before any metric output\n",
    "        #These swarm variables get updated first, as they are used to determine material changes\n",
    "        particledepths = 1. - gSwarm.particleCoordinates.data[:,1]\n",
    "        particletemps = temperatureField.evaluate(gSwarm)[:,0]\n",
    "        conditionmap['depthcondition']['data'] = particledepths\n",
    "        conditionmap['avgtempcondition']['data'] = particletemps\n",
    "        ################\n",
    "        number_updated = 0\n",
    "        for particleID in range(gSwarm.particleCoordinates.data.shape[0]):\n",
    "            check = update_swarm(DG, particleID)\n",
    "            if check > -1:\n",
    "                number_updated += 1\n",
    "                #if check == 0:\n",
    "                #    print \"from \" + str(materialVariable.data[particleID]) + \" to \" + str(check)\n",
    "                materialVariable.data[particleID] = check\n",
    "            else:\n",
    "                pass\n",
    "        #Also update those integration swarms\n",
    "        rockIntVar.data[:] = 0.\n",
    "        notair = np.where(materialVariable.data != airIndex)\n",
    "        rockIntVar.data[notair] = 1.\n",
    "        airIntVar.data[:] = 0.\n",
    "        notrock = np.where(materialVariable.data == airIndex)\n",
    "        airIntVar.data[notrock] = 1.\n",
    "        lithIntVar.data[:] = 0.\n",
    "        islith = np.where((materialVariable.data == lithosphereIndex) | (materialVariable.data == crustIndex))\n",
    "        lithIntVar.data[islith] = 1.\n",
    "\n",
    "    ################            \n",
    "    # Calculate the Metrics, only on 1 of the processors:\n",
    "    ################\n",
    "    if (step % metric_output == 0):\n",
    "        ###############\n",
    "        #Swarm - based Metrics\n",
    "        ###############\n",
    "        tempVariable.data[:] = temperatureField.evaluate(gSwarm)[:]\n",
    "        Avg_temp = avg_temp()\n",
    "        Rms = rms()\n",
    "        Gravwork = gravwork(dwint)\n",
    "        Viscdis = viscdis(vdint)\n",
    "        Viscdisair = viscdis(vdintair)\n",
    "        Viscdislith = viscdis(vdintlith)\n",
    "        etamax, etamin = visc_extr(viscosityFn2)\n",
    "        #These are the ones that need mpi4py treatment\n",
    "        Nu0loc = nusselt(temperatureField, baseintswarm, dx)\n",
    "        Nu1loc = nusselt(temperatureField, surfintswarm, dx)\n",
    "        Rmsurfloc = rms_surf(surfintswarm, dx)\n",
    "        Max_vx_surfloc = np.array(max_vx_surf(velocityField, surfintswarm),'d') #This float needed to be an array to play with mpi4py\n",
    "        #Setup the global output arrays\n",
    "        dTp = Nu0loc.dtype\n",
    "        Nu0glob = np.array(0, dtype=dTp)\n",
    "        dTp = Nu1loc.dtype\n",
    "        Nu1glob = np.array(0, dtype=dTp)\n",
    "        dTp = Rmsurfloc.dtype\n",
    "        Rmsurfglob = np.array(0, dtype=dTp)\n",
    "        dTp = Max_vx_surfloc.dtype\n",
    "        Max_vx_surfglob = np.array(0.0,dtype=dTp)   \n",
    "        #Do global operation ... sum, or max\n",
    "        comm.Allreduce(Nu0loc, Nu0glob, op=MPI.SUM)\n",
    "        comm.Allreduce(Nu1loc, Nu1glob, op=MPI.SUM)\n",
    "        comm.Allreduce(Rmsurfloc, Rmsurfglob, op=MPI.SUM)\n",
    "        comm.Allreduce([Max_vx_surfloc, MPI.DOUBLE],[Max_vx_surfglob, MPI.DOUBLE],op=MPI.MAX)      \n",
    "        # output to summary text file\n",
    "        if uw.rank()==0:\n",
    "            f_o.write((13*'%-15s ' + '\\n') % (realtime, Viscdis, float(Nu0glob), float(Nu1glob), Avg_temp, \n",
    "                                              Rms,Rmsurfglob,Max_vx_surfglob,Gravwork, etamax, etamin, Viscdisair, Viscdislith))\n",
    "        #test = max_vx_surf(velocityField, surfintswarm)    \n",
    "        #if uw.rank()==0:\n",
    "         #   print(Rmsurfglob,MRms_surf, Max_vx_surfglob, MMax_vx_surf, etamax, Metamax)\n",
    "        #print(Rmsurfloc, test)\n",
    "    ################\n",
    "    #Gldb output\n",
    "    ################ \n",
    "    if (step % gldbs_output == 0) & (writeFiles == True):\n",
    "        #Rebuild any necessary swarm variables\n",
    "        viscVariable.data[:] = viscosityMapFn.evaluate(gSwarm)\n",
    "        #Write gldbs\n",
    "        fnamedb = \"dbFig\" + \"_\" + str(ModIt) + \"_\" + str(step) + \".gldb\"\n",
    "        fullpath = os.path.join(outputPath + \"gldbs/\" + fnamedb)\n",
    "        figDb.show()\n",
    "        figDb.save_database(fullpath)\n",
    "    ################\n",
    "    #Also repopulate entire swarm periodically\n",
    "    ################\n",
    "    if step % swarm_repop == 0:\n",
    "        pics.repopulate()\n",
    "    ################\n",
    "    #Checkpoint\n",
    "    ################\n",
    "    if step % checkpoint_every == 0:\n",
    "        if uw.rank() == 0:\n",
    "            checkpoint1(step, checkpointPath,f_o, metric_output)           \n",
    "        checkpoint2(step, checkpointPath, gSwarm, f_o, varlist = varlist, varnames = varnames)\n",
    "        f_o = open(os.path.join(outputPath, outputFile), 'a') #is this line supposed to be here?\n",
    "     \n",
    "    \n",
    "f_o.close()\n",
    "#print 'step =',step, '; dt =', dt, '; CPU time =', time.clock()-startMain"
   ]
  },
  {
   "cell_type": "code",
   "execution_count": null,
   "metadata": {
    "collapsed": false
   },
   "outputs": [],
   "source": [
    "figEta = glucifer.Figure(figsize=(1024,384))\n",
    "figEta.append( glucifer.objects.Points(gSwarm,viscVariable, logScale=True))\n",
    "figEta.show()\n",
    "#figEta.save_database('test.gldb')\n"
   ]
  },
  {
   "cell_type": "code",
   "execution_count": null,
   "metadata": {
    "collapsed": false
   },
   "outputs": [],
   "source": [
    "glucifer.objects.Points?"
   ]
  },
  {
   "cell_type": "code",
   "execution_count": null,
   "metadata": {
    "collapsed": false
   },
   "outputs": [],
   "source": [
    "\n",
    "figMat = glucifer.Figure()\n",
    "figMat.append( glucifer.objects.Points(gSwarm,materialVariable, colours='brown white blue red'))\n",
    "figMat.append( glucifer.objects.Points(surfintswarm,materialVariable, pointSize= 5.))\n",
    "#figMat.append( glucifer.objects.Mesh(linearMesh))\n",
    "figMat.save_database('test.gldb')\n",
    "figMat.show()\n",
    "\n",
    " "
   ]
  },
  {
   "cell_type": "code",
   "execution_count": 66,
   "metadata": {
    "collapsed": false
   },
   "outputs": [
    {
     "data": {
      "text/html": [
       "<img src='data:image/png;base64,iVBORw0KGgoAAAANSUhEUgAAAoAAAAHgCAIAAAC6s0uzAAAgAElEQVR42uy9XbbjvK4thulb4+QmvclL2pQmpU15SXfuTc4x8mCJxC9JyfLPWgsYtWv7c8myLJGcxAQwAWamsrKysrKysvfarW5BWVlZWVlZAXBZWVlZWVkBcFlZWVlZWVkBcFlZWVlZWQFwWVlZWVlZWQFwWVlZWVlZAXBZWVlZWVlZAXBZWVlZWVkBcFlZWVlZWVkBcFlZWVlZWQFwWVlZWVlZAXBZWVlZWVlZAXBZWVlZWVkBcFlZWVlZWVkBcFlZWVlZWQFwWVlZWVlZWQFwWVlZWVlZAXBZWVlZWVlZAXBZWVlZWVkBcFlZWVlZWQFwWVlZWVlZWQFwWVlZWVlZAXBZWVlZWVlZAXBZWVlZWVkBcFlZWVlZWVkBcFlZWVlZWQFwWVlZWVlZWQFwWVlZWVlZAXBZWVlZWVkBcFlZWVlZWVkBcFlZWVlZWQFwWVlZWVlZWQFwWVlZWVlZAXBZWVlZWVlZAXBZWVlZWVkBcFlZWVlZWVkBcFlZWVlZWQFwWVlZWVlZAXBZWVlZWVlZAXBZWVlZWVkBcFlZWVlZWVkBcFlZWVlZWQFwWVlZWVlZWQFwWVlZWVlZAXBZWVlZWVlZAXBZWVlZWVkBcFlZWVlZWQFwWVlZWVlZWQFwWVlZWVlZAXBZWVlZWVlZAXBZWVlZWVkBcFlZWVlZWVkBcFlZWVlZWQFwWVlZWVlZWQFwWVlZWVlZAXBZWVlZWVkBcFlZWVlZWVkBcFlZWVlZWQFwWVlZWVlZWQFwWVlZWVlZAXBZWVlZWVlZAXBZWVlZWVkBcFlZWVlZWVkBcFlZWVlZWQFwWVlZWVlZAXBZWVlZWVlZAXBZWVlZWVkBcFlZWVlZWVkBcFlZWVlZWQFwWVlZWVlZWQFwWVlZWVlZAXBZWVlZWVlZAXBZWVlZWVkBcFlZWVlZWQFwWVlZWVlZWQFwWVlZWVlZAXBZWVlZWVlZAXBZWVlZWVkBcFlZWVlZWVkBcFlZWVlZWQFwWVlZWVlZWQFwWVlZWVlZAXBZWVlZWVkBcFlZWVlZWVkBcFlZWVlZWQFwWVlZWVlZWQFwWVlZWVlZAXBZWVlZWVlZAXBZWVlZWVkBcFlZWVlZWVkBcFlZWVlZWQFwWVlZWVlZWQFwWVlZWVlZAXBZWVlZWVkBcFlZWVlZWdmr7N9Lzw6gbnFZWVlZ2U80Zv7BAExE//v/9X+/8W5N3yAivOa005PggpO4j506CV52b795In1mJDCf+Zb1e3tiixt9hF/xRdM7+LP257jsIH7JxeCSk/C7boL/BD+/Sl1r/8//+X/8bA+YiP7jP/6T3nNfzyLE0haH7U/gM9eA9esUV4WX3RY8cyp+6pLw2vVp6VlzNizTIQH7aVx02QqnsY0wvuiphzi3CMOLGLlw2PmTvwA++fTEugKB+CoEze7wysmHx/DgGWFlvGPhPax9DtfMgu+0lwPw/6IAGAcw75l7ydP3gvnIx87p9oo8+v7AEwqgEcNLwlMbjvh4PHNX+eklgq949ifm2T4CkW0u5jcTdhigDQy5x4EhsRAOfojTbAdAXByf8WXNv8I9bcQ7SY6X3eETOwKlvPiRVzhbGM65yzB4uL3E638FRgMsOGjqCiM+nlcucXk3MFrtTqAwcHp5+EUA/B//8V/n/c6jgMEL/5L5srxwmoEfzAF8xqdy21/OPsL5vpQntNHo9s4++xQGz0Eay1ueQ1MHhy+13yZkzyL9gWIFgvspj5nfHgHweI22/mZrITMRsUSmx0lW4A1Ixhn0dyD8CIfLFpYAe+wnzccacN0oWERDHFv9j4Esxh85CDPL9xw5w5XdAT9ngHTFRfzZNWID4wcx9d35nBv8/TGO91PQz2AweG0+Mk9GNYdourRkp59iMcWGiIjE6bLjkEOXcYFSZj4EnDiCWPmeYBX5ePU8x5bifGik14NsILLbJ3EEvdueC8If1rgrENQ4wmYpbkedgd6xr4PdQwoWUKQfbFjrcX1GaC/yq/xOJ3iFbj3omHJ4D2ffzobbmDmFE9cDC78iOAbzY8RF+ndGXuYSd7JAax/lYH4oBr8cgP87/t8xiXcUhRkgTnweRr7VTBwdEBO0x4OJh5d/hOV/eh+PHVVkPC32kUjEPzDZxJiZuobEOOg1zrBzyUvGyKU/6AWdCbRz2yYlx2vINfDO3Bdf7QTDxV/BbH4pxOgB6xHTHgdwbJ8KTxvC4gQsAPPkYHCMrzi+xKczjBaQbJY1sIbEsxjkYXIYM1YOi87ciLDlgNtAeuuwBGPxAdBLCALflOffaM8w9/5BPJjA0P+GI4iBGZeAT/PTLwfg/+3+P/j4qsrjm83h3bOcsPg41OBFX1of/8k7O8jRc2G3PGjE7c4Ca6Blz7A4d1ktr5y54yvv5Hy4d0KHXPoCfJ51gvtnc9ReiVXzYNiwXyGXYJgz0oJZj0VmhY7YRwiYeF8u2W0ygLZ/krjO0I/g8TU6inyQbo045ARfzWHba5jFDpmLHK/pCTvKEz8v4VpnoHgsoek1Z+OU7E1JYF7mhwOGK2aDwZj7f5w9OCDYhaDPj+19SEcBZHwRbDcwgW3KELct6Dy6Wm680IBFTLdDsQP96wH4f/2v/0EngnnoPkeWJsEsR1AYVe0bTovEsFjLUOtN+iI8RtB8LP5J/h3ypNz5ajWijO/LHvNStFBR7Tl2Ds+TDVHvmh+EbR5SxuHF8EGwh9/vxMc0lA34BovrzBZueP+3HaX3Y0AB57wjHDPEJxTGs6Ovj3t1asdoyGQEx2zLXJsTaCMdJnLMGtFj/wxzB3fF1+Tjqby8mFgLTD51DqeH1O7CFiQnqP0Fa9+OEbHE/tslVxE8SkpesH0Hao9vDnN/c4TEnH8dBWtZP4bVYoCMKeF8kJxhT/4KAMM9gZQkYL2QcHwGta/mvguySNx91hiG1XpjHV/eJwGrM7DDYA69fLaTz6O+hw1OHAfvWzuSmWdEt/UjHZHu9xEz3t5sjYacImefitar0X/F85Ek5Lb9t3A8EQEw7e4tN791Y5ObE8wP2gW8f7HaCrT9IrdBh0Y7Q8KwDgCvp0CHDmt3eR2fvB2gEJoFTu+rLYgCdzmLE/M4xIgJ6Rqg1PNonWWEjUnpMbqH55yiMnLSM2KAA5dXuonKhdXYHPO6gryB3WtL4GybQY2OzFCergZddujL2sFVMz9BdxuKi17bUJz22nmFSuFkRPw6AP7v//k/ljYZMdsMzlYXotw9NZ9VqMZ2kVDvyGMMNncchT7V7iywWPMEBS0wWHHUff1jVkuC4bclZ97RHfswc3uUmB6Xx/DEo3UENae5wY5o5YX9pT9dhsc8gPBkTgW+Lsf8proMljOXDR8mkJqJwRtIPrZcLDEYvP+9L4+8QXMKw8wQL7aNwf5qhYIW9y7ycduA6u8jcGElGKt3aBQSRhQkTiLE0XXO/NeFgOgBtziHW17PE54l9AZnG9P1hv5C5Ob2sbgD8D6GSLmGIYJqxIXKMJSuM4Ot56op5fgAAavitKwZaYvELE4upx+5r3NvysHAMQwjZ9jmxRK/0gNeKk2nfCccBZEE0kBDOCIHuq9JbD8VMMwGXB0AK2Brp91RHOKL9r8B5Wf3T4XEtT7SHwPn0FvXGWbXwoM86tgJniArM5lobq42xQtffYhktgxznuel3V1Jh5hjmPUqwewiU8w9OMKdcCYw+LEcYD9m/xvdT25wxnwchomW/GBoelmAqHFn3TESquFI6QUKesUhxtxFXgXjcWHrafxGlLs5/epD1z9i78MXHMCSIIEzLpcTLIy92O0/WX7Kn6e/o0CUObok79EGuA41D/3vTV6wd4sjojtZQVIY5l8HwP/9P//nCtPOMbkI+58I4Dnih80eUnnDTALM4KhmgcGs1ypWXF53nY2PK3xiWBdZucL6NYIvDV5LAE63DvsyzEk8G1E6mFiCGG5sIwwQqIodnjs14SYg5aV5+B9B7DzwcAPPPo6Rs3WzjQfMe/qydHO3gO72HyT8X5Hp1wO7zIJwNt4w76lc+4s9Lo2pdofabVoOWUVzufHJwQEYO8TkYslMUVAZZjjAclg4Eii9wgmWvFLo5nIGwMiWKDCYnI/gxyIjxGCV3jKigiMiV5DD7NngCCDN6w1o5X8qoLVgbN43oKvOr/Ge3c/xceK+ISAahZbDrQb5RCEEqUPf6wq/HoD/638eJttBUdAUIQcU5yF3dPQfjNKvtNPpHWULgVCUsgNa+2I77Y6dATDD46t7LY7h1KGHzf/SNAD7aBVH9Dubx6RpeZM4DHcky4mSZrxE5dojfzpa05hiJRM4j1rBGPeoL3weNIt7waxiscbBZUUCCNAV+NxDxPoY3r3hB8QmGExZ6W0IxgH6Sig1eCygV7y5RErDbXGT9x2qYV4qk5XrrMdTB74pog1hsLJzBLc6OwU+fNsDQ4Hrts9eyUawg2FLz0qg1bBkoTd2akNXdQfUxG1VEA71dTM8Zu/aKh9a/y42EWsRmVbvaNfWCCbYxFFMVRf+NgDP9d/YTVO1xfFBkhEmhWS1J28VwdvCt5HHKWBVEsuaZOZ96ZK4rsAYYOM3u5OsfFHwq4XD7X8j+VwzNqif3zpPdyN4RgwQ0eAxRWOAZ5S4Rs9JSbQ/xr5jQ7w9DwssI7bS/Y3+bqFfbmi8/a3RN4HhtmY7DKY9m3oJegX6anyl2LU1Xm9DFCABb5uipdKkYRMnUqJ1yt8uELxrJPAUvyPHFzYFV/rxCizDPKMIANSZFZ3LATGrwazjUwDDs8irp5dJwap9EbrO7VLT03qHmEO3u5PYCH91EioevxM8NbLFUQG3wXRaXeuHAfA//v8Wgr4Ij4iqcnVucFQQbBOVQQsFRZi5winhbOO76BDL+xqmXsiTwL2jTh5z1AGP7Ylux1r77G5GwASEaWiOLUCUWB7dZwxythGKCZm8Co6HjfLgffopNzdUhzNY8NLsCpA2BCVmRfX1tGXeIVn9rTG452AJt5h7QtZe/suPBHje3F9SBHcnp/NIMAI1BguQQMAwT6EXMN5wAt4S9cHRhiBN2rJrIsTQAQ+C+VBeJiOgroN8EoSRLZP0FEUQdaowU5ToFDLGaUyXYzCOQZS5f1fqUDL8v7JwVU34tqEgc/TC+s3SD24H2FMNSWnLfvdJO8qIdqR0EAAewjBTGKYK8IZ/NQDf/99R3HcUGI5S7INdJuwB9s5bpLEvgMh7816pooW7iwyfJ2UwtcGheBFmbDkievsWZLhrkq77p+SRwg01vLrL/EKMoKPdjCsDk560Wo7Eymqcbzc5ggVTgaKakZGchHzuG50uV3ef56z8Y+6BWZ1RpV3e/rdgpHd3F5EgKTp0GAwmwv6K8UiwJg3D+STRgVXpBwfouw+NBpwP6O1Blf4RC7cKmAWZLNOqET/wKGnLyTXA89Uii2FPPTdzmM3sB4e5JUxslLE5jprIZFrNbbYdWUgO62zeuPDGHwabKhxCewRXWYBWYKTCS+bgs/pFAL0yWswB+TzJ1eJ+/YZzJk8MsJvZ8qFw+H4cEgZFcrLDPJQ/5wHne48oZJhKRe6OHQ9K66FZJLJZwTp6ur+TJB53DllnWkUwrFA2jxDzgGEG7IsZCx17z3qfkWVysdro+LKow5S+eodNeRXFJ2GKeWw9Hlx4O95k7G5gU3mUco+7P8zoO/C2BG3I1/xmSPd3o5ZZEM6tBFjAsKGkZSIXCYdYxZl3P7hR4ZzLUiKC3s5CtyEZo+/jnY7B2v2VGMzKpXbhYcdXRwDsKI8suxV+5VUyXhxk3HjHyFewsCQwnacrwDVKCNInoTDPaFBv074uO4n3HdVpJZKFH9F+bfwOBZDMEdyS4aLli/FpB++0KLKhBPQ2i0NCwhwTs8rBaV3qxzdFf98EwP+N//MZAA4DxibBjYVSgKWjHO761dxBMuS06g4xO6aXu1PbJTi4L3st38IEfR/MYF62pFG8+8HeORaQz7IsKqHQAeXsio+07CqbH85kc9yYTDK2cktgi/oyNtvGApjiVK9BKhm7gDS7XDwms1+xpP0WrH2gJiRT3FzeBqBgk2Sl37PDuQeBuwctPF4S/+Ex2IeLyTZ4MB6w2oE40JVeL4kXGyndyOrMG4Y6p8/MkoHnBwA4R/a+Tyad9WN5SOVF6XWWXd4TR86l4DGI0qzagLEM8ndcXq5B3CDXN7qqhKmOs5STrKjsHZct1ePHKWSKA0RA16VWJXHiNMkrrRjW/0oR5cAj9KWgupeTHHWN0BOM+e11wGMAXnOCV96JUrSSd/IXUjZS0UsqQYm1D8oCjST6cmebLRh3RjoO2TonmCwRLcuWYDCe1CWl5U8awln7x04epLmAinkev7Mm4Tk+iWQ4oiSy/cd63lsSGBxw8iqlfPfamSCUNjpASpcXTVzjkSvFDoaz1CkpV9nCIqLyV3LRJHOyonaH5BSeJTkcEs7K6xXHwLrFgaNMCxgscoP31T929UIsoahgNInURsWjCaAGSzYG51mE+Tgbi8caTy63OXAc44gvj0pyfdLyDqujyiIfAxbfIncSLqZrYXuEvp4G0ACc3VImy1QTheW/ke50EL9Iwze/HYBvMwCm407wDJIxfidloZUTrPB4G5lQ77B7h5q2Bmu31fjBvMow+9rixpAzXLKYxdEgLO0pa4u+UNUB+gD7TsIwRyy0d4uhSensJNlpWb/DTlmFHc3OUbJ6VLfdKYrOIG/pUMy9mJdZeMPY5Diks+sp6C1orI8JMLj3W+oYbNYbp4mhi8CVm2uhFyTQ1zm+Cpsd4srKpZ7kRUqiDcwbrmuek2bUpadn1Y44xUJ2RLFnKVN/FCOIHfHPPok3ch8VqCBwoBP+mcfHGADmSFKjbYxCF7n9U55IpajjhsoNQbUXPvB3mRz/LAE4e/ScpdFFABzIEDgAntLRf88DHt8Nh7XDDkha90oyk4QpDAcpWnpV88LO9u89mmjeF9yy9r22vSkecO69Z4HW2CG/g3p0DMXH2NMKntZGrzULHXHOgo138ExOAMTnPMeeK+ugAFzCDRzXLX194abHzDzkPRecxP6COwaDuzeMJj/JDywEdRgW4hpK3ETi6+4sd2K7u8/ycBYtHEQ1MDoYq8kQKDN3qtlQ0HuMdnd2G3Ai9YD381gS+3Gxty00u5eU7ChrvSgbOBS+kS1dlSlIMVCFiU5D5zUUu5iqIY70EaNKVuv4IoAfS7MrB9coTDHHhAH7hKyoLmgkuBHkaok3Q67bPZfu5jr3XXvAAefMYTkvD4hom4oVYzBRRH4oJJ47up+pSnonAK+rUSbtj1wncfYBAt8OxhZ9raKvOIlTf0vAOIDnfYmXAGwPY63aoTlt1e+hx25FBZRBaMNCC7CJMFJIaPkYsyKHhRMZQaAnkH2GdovR5u8YPBbhTYnQXuQLbutgor+sKQHu5IR8seFu/0M7DOOR/xzCcB9ZLJKh77Jt4TbF5aB8SON34bFAiGP/Lk4ara2hb4vmNqDd3hF4HAJwSErvmNoc3P6OYp4F+kbKD5Gav8CGSeMdJ31MY4n/PMQIHp82Kxyi5eIijo/hJKCbpS7bBGYyKdDmDOJfBdZ67Ixrh0wFUQTA2huWTrDVzlz2dKG7jKU7pyUYDl3etcbSv4uC/q+jvi9PjsGYgs6kHiJSWh45ZqcXsHaL76VHbtDL+4roTxIS11DgoZBY0qocRXPR2PLAhbUYCR8SXqGpPV0sThuBsaeLg3ckHvurNS64dNzVbTHx4N63avsIIF8wS6yFBWPQveO0jOMaMN7z0G4QZcdd9oq2GLN7Z2+MFKhiIZoe9oaRaWoEERJBiKyk3kELZah32CdI3zaGmVu5i0Bl6/ImabRxCrFYtRM/mENpiyNE8do71huOVI4XMqLjUKj/yUH2sld5NKjJPngsgJAN8gWp1PkxI8I54qgt4eyA08Nw2oUwSngetErMXNi4vcCfa8YgAHhVT2/cNYltPxKw0mgFe/bIYDBIt5mBTfPxq7wHYPhPiT4lMVR7V1geo07LGcvdKGV2vLGHSXZZ04wwT1g3VUSYHa3TpxGRw6LkOkLNMMWa0wcXtZRgV3xsUq5Yw/Cew6X8e26cfCMVthw3ibh35w0T3Rr6Pthp3iqPZKyXKE5hlnxYDwC3omAtDB0oU1qv1zUfdLW2LVj7yKLaxyB2lHWoLGlnSVnfeMs0MFh7U7jbCE/7jotT+kxaE81lpEWxRFnBT99ZJ6W34T+l7fDybripgkR0wexAK1eaNN7qpLyHYxSUUOoh0DvETucyzKLKneCox8PcD064BPK6nvm/uiMzoOXvzMB6DwDfQ0c2lAHGhIIW+37xCRB1UQBxEvausyuboZ6aGh8QuLMB9Qr7TgzbcThZtXxgcaTPhwopbuW22g+ywNSUj23rAFwGtSs6UhFfs1OBSXRSi54KObMNY2bJVh2VoQhq0zYjgGHh5tob1Vno5vgSMe4QTvCWXfX4c7vv+7wHKt9x2znlzZGFwuMtV1q5vwah9+a/e97WBrvURSkVBsfLhXOC4XtpWifYercOgPU7xP1Pc3z5EQb2jm/gE1N/h8gx0oJupTg3OE+YmoSE4yiyKTficTu/UHhydDE2BJvgunJYKUtszip5wlgvxbHbGP+ExhYPOXMTGuAhppr6MfNokhokznxcGqeyjwhnXozs8sdTsV4OwKD7mFC2MhpI7wkcmQwiI9oKMc9gWWuhbBD5wTEwZBnRKfWqfNam3gMJqxx1KvQnMe+MI9Cs8NWmHcEdI/hYcqnF2mFFyidzcB8MZy63SlIB1xRYe+95kvYcSliz+Dls/GBzo1ruVfdxkfrBD6TFnQiEO+GBxBsMb01aTeaz94OlHMf+5t7uaP/VPQvayETLfWobsEoBymmXSUxVRWE7o9hdYY24pP/ztgPw48WNGXTfIHZD4nur/ZVI3JKA4L1eE7aUfhiHqVhGYfEIvRz42TTOo55T3zmZ7HOO1Nl45g3n8lKeOvaA7fKkRpDpYTj5FbxAJk+ivP6YhKam0znPMz+Y1rKg+ZcB8LT1kf7Nu4MZ3T9E/nDE9QkRwseyCCGEhH2EQCfQ9n/alsleXbmViVCDUtL+iziGId8xeNn6XgMwjCh2ENpPO3vHx5iFtyqKfKy3HX8KZq+ptT4ijzMQl25snCbGfY4bd7WpRB80S1n3xUXmN+qNCAOGgpZ5ztSAVgR97xqVieRrkU8OgPlOt93FU5odPMTgfcw3QS7IWPJKvoSIuSglrF5fpBvQij8sX9+2d0xJUkfuGxh8v7GE4TtYOsH3TkezTshika4lyM9R3q+pN+W82QBHDHOeIRXrfiwDbXJ+zpoRxZ50VKfkqpNdS4Y0ojzyksXBcc1xgu5DxM3d2eaC06h3QirBEcQRUp1ni99rWDNNv/ql3ZDA9wNgrQK1PnucZzCssmBaIaU7Rix00D3BmoS/eEHA7jp3JR/1AhDCgck7pq8wN5Jz/6KVk4SnJSmCa6hssgoh2gm2/qUMrwacbQNmEnqNIxTsywg8XjolMvbtmSlMjtsT2SgMk7PZXux5VaofhkhyJh303ZhnBuPh7PZgMPm6MhAT7nRrW73WFjj3gyl7IUubzN/hEmFKgYUQ1X513sEViHuzb2peeq/6vW208/3GAoAfrjAzaHvfJGFBAXCUFE3kc2jTIhwTfOXnuOXl5Oc86uyJYlHAoDOfs264+mqzzcSswmfmLiv1jNRXDvLFLISnJVu24CqL2gomOa814kzTisJ2hLbTyxBKl+O+/IsAOKCgMf/ZLdAK37OhubMZMLM6sK+MCuOht797DpDvHtc8m1a62TUYdMNW4ZuyQMf2qSYID4u+2JLLdmRtoUD7jjqtDGD3FwmV3SGcyUlvxvKc8d+sOecWKjYQy7LqN4Fhdcy+85bENSNtidgcaCYrUWLwmEUCeS//9RVHgEu/AuOOjsEWgHEjvt9xu9F9g2Egiks1xa99s+fQFwK8H7IcBoM9BW2aUDQM7hnO4m+58O1/VEerDrrtU2AQ3Xav9/aAXuIb3zv6csfjzkh36N1TrmyWlmsIHxewxvinAy2xH5zSy/IkT6g3J5obo/Y+Yg/BJlkp4mkD2B6AKFa54pheHiVk+eQpm7bGIY08jQs4MA5cYU9BI+ecVzKc/1wWNJJ08Fnkm0kSxchRtlPHoX/cxHMRnYSERBF1NAx8lF5V+gBBKADb/Z49wVUgdATGW38AgAx4qJQi7CVJM1Lav4g/RTqyK/1m0ED8GTHVrLRHrLAG2xpfE2PWGSp5VrOtL7Jhb+nmBky7+dsoUGZ/oB3iOwPAnW6g+51AdGO671ucDYP1UBd6ViRAFySKgY3vyxQ0SDZH6sQryT+3O9Q1v9WfRjtTJ5y7+ys7S4Fox9QWAL7fmG+bB7z7wSz84C0MzMoVZuUKk03OIil5mFa4GsfX6zk7bUvKs52jUOtEhysrRtInZ3Kd5JPAqv8iBY1pNHTRG3asuG9GlCJ0cDcCX3mwC4kjtXGOFSfMcAbSlMtEDzKqxq7wHwHgNKjFA4e4+0sWxAcstHkMe+YolP8RfATGR4kIQ4ilUHPaEGHXhrhk9fo3jzUC4+4Ee1yUlUUrFPSMuDZ8tfoiGb32RUHORVbbBYIW1pAo69shaBjuy8Igq1lFlCMXmQONSYPEnnwe/0HH4NudCHy/A2RgmIlwI7rfcVPNf1hyxKLMt8V9I3AFyYYNoltwmAUN2wZYqIwL99dR0CL3ylLQDyrmccjm6e5ZVw6At+jvrfu495v0d9lx0a4+WJDPViRrIRkqkr+wWZ1ZoNfqGJ9pc6TWqviATA8r4mND1tf/luy0iduaE8W5p5t+i0HiwY6Hwm0KD8CVA3+X5yHhAFB4iW3+K2VI0yQszu4Ojz6PmUPNpuApoh7kAYzhUaJoBLqXXJMYbKKDcSpsm8sg2f+0YzNBwrnIFBOEMwd5WHaPMOPDs0/RnpayL5wAACAASURBVByu2e/Odbu+vJlESZ78DJur5dFUwKdLYJ6T0r2+yMNwb8+skBj3h1fIAQZvtcIbuwHijr5Ed6Yb4U5Mj/8kIpkXLQfxYwcks65MHtaGu609EywGBxS0diA6BkumvF9DjzVCwBVMEtaDeeae9izR97YhrnB22YSE70FVksJgy0IHTeMDV9ikGXsPjDJxjExvctFDHfLJWdva2OFLBChsdlWgdOHc69D9TfzXIZW9po8RfteIlE4yrfJjPIG8LPU8AZOpwCTjzwJwk5sf3R4ZBRaLEMNkonBy2r3qgyHLJfe2q9TjvrJtu+T+YDjxiBzsGzbsMKIPifcLGt29dj/Y4ve+yvZwMumwNHoLvNYbYNeikEnapDK6ZVo1C/jfztsrvqLPutOKBDqknR97GhcP20Qmf6viKApEx8a0M/VuVCwIZwfDtBUB32+7X3lngG433Ilvd7qDbgDj8YL5Rvc73biDLyQCE3XN5z1ZutMqcG2D23ADId57Qg0/oIOxI6G7HIdwhTeM6XKS2PDyEe5F55+3nOcb328Cd7dE6P1NNHbaATD5dGju8WZKABhJuyEKNTQCoBqJZsi0qVwsOoFbTto8RBlYlDc/NtCLpeIcK181lbxYwW/MA7fK2SVK74AmPjnLogK7dKo4lyoMEq8zzwvFvvyxguB/r/+K1IOdQK87RvRI3ZYO1+3CfKSTwC1iz7IGWCBxy7oSy2IP30kMDUJz7hjpIsfOMcOy32HnnID93l3iBrS+dArajaaefCUDz935YvLVTSDFkNPuqVv2W3HdJOhSXWA9z/aKkrASObAgFO0VsCUM6wJfMvzzJoHxgOGbhGFZq33n243uW9B3x2AiJroT3YiYcL/zDXS/0e3ebzKL9ZbbLeQWkyfosEt3kpsixz4kMaGgKdB8thnO1B3lXRSa+3/SfhjTrUPpvWVB3wTENjC2IeFUoGPPhe4Q291iMsWpiboybGXOoOglyo3Ks50jEE2JU8++kss6JlczgwSPGxhTroccO6/Mw2vjPBY+EqgahLoHPPwYkrPPIsHLzFeOznmEoB4B7QcY6X/0GePp3dAean+HZTq0iC9GceXGK7MsSxIJVUKB18IwsTwJQxaJxB9hyD05VsjwSTqaCDkjBGYWtVYTnCbpKLPxmMknaYvcceiM8baFcbXROXENs5q1/F3WmApVEqZbLHSVj7a14r0VoJEhE2zzY5PAO6Zyez+QemZ65DM351jkW906vj6Cvny74c5E4NuOUg9vGIKv4N5ZuVEDkRPcohgyhWEbUOIMfR7A9rsGvIYNm79tO8Kdkb4JD3hPpNq82I185pYFvdcE812DsSpV0vobDoBdVZLvlzfMxmIaVANzHH1EgrtZPQwW/DztjMY8cEBTT5nhacA1cGG9/7rmClMM/GOwRK5LtcAeu45VI+qYB7C68M7XKW98TxJWyCcHN8rgroPhriGUIFt3glU/N/GpCFPNF3X9BPOvEoYbhsg26uKrRUasVLBmH3XW5UU9CN0pypDr7qlUzStXNxMay2VLARaSTKwzyNSLvcueuJO7WwlqBIMirj0Se5qat+QjEQhAb2bAYaPiBsOsGgYpH3cPabPoHLX7uBaDtxRhvrVOwI/sqhvTne63R8SXbne+P1joO90eIsnUPRh+VL63KG5LoWKWFUdCgbLDsIipGB1LaLpMPFXoxwv3DkkV6J0MwaY1QkZs8uG/PiB2h96djub77gS3MqR795KFLkd3gp1EJSmX1wt0xK1+8hLeEMMGPtwkO3qAkVOHD5zQv+sdfjQFbXoSID6todATp5mX4H+liCjMDiMrBUpZgW/IMKfh2LQqaf6O+k/+XjD+R580zyenvuFHYVjE6vRXPwPD1LNjEd8cT1MHeV4t0NvcX2qKhqN0MPQaqp4xzu0/t1vCcVU0GdEwlUTW29QriTGZeq1oap223ZPPuN9SIVItGkaxDxUzZWnPm66y8Ia3PspsIr5M9wdC34Eb34jujBsx8UY13wk3Ir5zK5a9gwm4qVSjLbDeGg3uRV7cw7rsYhAQ7LRwgtNlwwhxSFTulHLPhd42GNvJZdZVQ1+oOqIdeh9g3F1hyIzorkapCGpYV5goVMUyCVl5X9uMkTZYddTHPZu4mxG2XrIqdp3npC7TMGfKI3oE8BP+fCGaOz+GF3jg4BgkMHyUXsZB/pkWUoP/CABrzsHyyRfCsC9ASslfCB/XsNAs2jU9DcMi8ws84aGDaKH8j6h0ip0PbV6wy/Myt0XImGjhEXkSFf8NZEy0FgpUIF/JmOyuMxRDTthjoH0rIJSTm1bX1uV+57Efaca851hxd3nxSDPiHujdYLgFcu9N2epGdMf9xrc73W+43XeO9PY4HDeiLQWaoXsVPPS+H7lU2/9tTrCEYbhH0zQ6Wi0SseuGpNBXCnE4gU7pBJPYDqm9Ltt2C7uu5M1Arw4GC/S9W/dX1QFHClmqDtjIboRN402Xe99V1zpkcNAbUcf+mEkcdHBMwvrGzvSUlI6O4XSrEbqSvBqsnScwrx0z4IFT3avcGb2EcE60OPhrUO8TWdA8zDWbObKnYTgPslqQDjGYDF4mMNyV9Hsm1xEY1udRa7MFXU6QFQJNOTyAbDjZoi97mhqNO2+o2zpDss8K55bslh2TXUwnvR9Rae6uIO3vCHWRvVRnV2xkMDrWPrro9Re89d+F/tFMwI3BuN2ZCHTj+551RXfcwTeiO3C7kaCg6d6g90ZMfCdRWgT6bw8w3h1b5QQDAeiqu8eNxwfvvzueL3JTBpHt3CK+PQWaSWpEGxeZuzfcVK6gM6o2/pl7arQgnGV9sEHfu4be5uM6XpqcWDTHDfLICi/nYMkT723qKK91zQtPm3vAad9cB42+XHiYAjak0EfY2S/Ptsdxvimv4Hrmnq4A7WEwHhPOU4nKD4aBP+ABe7x8JQyLBkhHMDi/2gyGZTaNoo+PwHD7ydzizR6GRVVKhGqKuJbh2yZYJcnPpKeFo6lDkEAXK0tQhHqXvcWr7XFrbv/WvqlR8A+nkmH6H+8+N2/x4044ozPPkoI2TvCj3Oh2377mTnwD0Q33Rwr0QwyrJWE9ynX2YXFroVACc8vJ2l3zfQsj0q+YQmEs7mrStHv+rhWSJujgUssB1fhox1oRBnarXvdcHfSC7xDakwp0e2HSQI7DdmWQHQmD5kgctIiPKlsO5yoPMGPpJN7r9XwszxOXxifx1cmLe4sAUDmEwEGu8jTx+HDC8xBonz0GS17vF7m830JBL8Hw8ZunfVbqYcynr3Z2WhFJNagpNpZoKVRRYpffeezQ3qHIY7nJ9MaelyTR0TWy02TzQgdm1lDRW+Z1FloyzMIPFjR1zof7Y+yGoBUkQ+Sg9YyzLWVLVmdBsOGs0fxBEDe3+CHjTHtR0f3hDRPTHfcb3e5Mj5QrKVC8l//+t4a7vHuQhtdtfMJGCTQyuFEDfvsiWiupFkmqX4kU/A4p6Jb5LNZN9JolEa7uYeCbZ6TZ0dS9JYNE37vqE6z6Fe73ZMBFR1VGrmseLaQrH5CJOHZM7i6PnGPXk9h1LKD1HGxaTkUm8i2D2LepR46py2wtJMF1Ic274gr/dPtwDPhFMPypMDblQh1sf3Wa2OVgONDeIhFVJIvuYxjunfLQ6Fxo0ZJO0QZcd3fCAy0RDZ/oObw8p6AXaGoB9o61VsMF3MkCFgQ2PxoEOHy/4f7whh85zwy688PT3V7ciW4byXy7d53k7aE0/1I0M1DN4dVNgaTxZIazblD48J4VgAcrk1p5Iwo6hF5qetEBNFrEfehhbanR1CFW9yVU6BvlYVHYMYmi/khhD75IpILCvKQBIs5au087B8Ru6IRt5iTMrHbD61z0GHqDr6BBrJQH2U/HwE/u9b9+oZ4g/V8B4N8Iw5RhMNl+TyYEGMJwp9A1Kb1HqTVUn4ZhkQsGciolGXvcBTzCY9jFpEUsOaKgV2jqLH9uL3re48EEpQW21/WquK/vZnmj+x03Yrrh4QrfaH9xx06fYtO9IiLQvaVcdaFl2v3g/eYYedL2xDhfrxCuiBqGQyEOR0HrAzow7ydppV6s3NwugBWlaIlcrbt+U1HQXpeDdEuGnYKOOxJmchOHpKnWgsE01a6K/nMpZ1hj5JywPVJueyzxOEfigaO8qHShmEEpNVj27QCc0bxXkBbnjnnPDmkSfu4hW+jYKpFsiXgJDIsgdP/VELtuf6EcSXYH2eeqTEpifExBc9IvyLq/Novb/O3rlxvecI/7PnDy4fLuF90xmOiOhybU9qI16QPzDXzfEJfTP8yCOe/tBvuWS9LLcsBBOsFs5V1slLEFcXURsKKgyUCvaD7YsJACzrmHhO+6QkkR1E0I+uZAOlLFIorUocn2KKSosvZ4unKQpeUPW0n91cC24JKOw6vD3KInE49pCqK5fxzSy3JDyDxaE2MMNg1wotPatl9Wx7AA+DmYeR+S/xwwXsLgBP4kuFwCw7ufGTlaslYqwFpWS3+A2Wx/Ics+FAkFzaQbH5MVJNH8rvgbMDC8R6d3tS62zuYNdG+fFgXJj/cfLx4naIlUNjhKhrnddgro8WlFZQjfNFIg2JK/eSvqnlDQ6h1BQUtQJ8NFo3fyIoT1SEE21ubmqn9SMBx1CE5BV/YrJNGX3jempbBnrSdpMaOXx8HXQb4Vci56ILIxo8GToh2mpHZ2GKbl0GV/MpLqI1Na0iCnbzwpLT7lT5usLcoZeJtj/SbI//fGH/NOGMYCauI4rK6c9tVgLL/XO7KnYVhqfkV8p2yInF2QTdLO9w6ygQXtTr72jLm7zXsZdipIEt4nC8NS1ALEDzdXonbD4Bvzfdvg3Ilu2N/ZxBqJ6fGfCPxd9Qcb+qK3/FWNCplHMQvT9tIvCwA5BSILt94J7i/QNbJGfjw5MA7Q965eNOiNEq8o6srQAZil9H8uGpUnFWOYP/UEmRyBJR9jhhNme9oLaIVeXkw8Po80rLM+11b2wJF1HWTnp+UPYPBvo6DfD8NBXDliYXDoIxSHq+GG3YsweC2cbGE40tEUHaIcX+SnREd3HYp188oph+hs8OiLAmkRN278afuPYfQmQikMtx/54JxvfI8xmIjooYC11SJjjwN0LHmEgQVEkXrRVmfeFbkJe0xapow1LZIoC7p/PYUUtBfi6AyzwAOYJbvdRdZ/mybJTB10dcekhFi+UVIHnPLP+oX1epNO75y2f1/hbxMYm7ibSBvIe0o8ZZhXYDhceN6GN0urT++0Dq+9P/ChVQAtJ64pJ5xDDP4AqPxYAP7wHeNoWZ9B7wkwnn/kglkQJ+UQ6Tg6pNJUJuDFQdepPC+a+keQtYBU15G0bow/QlZUU9Q7WdD1MEymeNoBOEx8+cZd96pz0UR3bGIfW3kMelsEyOqdXbxC1x01/Ohqi0wKQSGqj/IsaIIQw1I+kiOW5bPYGWb2BUiEmPlxGwiGRmvHRVMIrkcxmMgmQpPrJZA3BBwKSbKNkYcdag2ZnPO9tq8RxfIOCcTyzEONhTLo/RqKnIeZogXIAKr5KHtSWgmdJ8R19CIF4xOg8lX9GD7bDQlv/D486eMmn8Ik2vLiLWkEw5kgSZxujbCVcp4XrRejQEfTVB771o1kO9za02pt62DELMCwuWW2jBmE+37Eje+bBlbH4Psdt9t+3vsDIdD6SvGjsQOgoWVv+ST84OZfNzCWgiuDTiXiyK4abalKib7QCpSD2t+9tTFpX5MkBlPk3PdcLU0p37L+gzkGk9XZCKCXTOOjuP3AwM3lvDL1LOE8YYaHMHzktFFq0kr/+Xcs0wr8XChlAT5DH3oKxhkfnjLb5QG/2akVpRUHNkD2Uyv0cv5inaNeOubqrS2PuyH6BlAGy5Z1wdZVssmkW/sCZacl0iLZExi2AtkclFTvn7wDtx2pN2zkXd3ioSi9Q8ijqKn786Lq12RgNWDenM89cs3yl9vlS1HTvhipw7DA3f4pp74aUNCmZJk64bx3unDRX2ItWqk0rYhcUW+WEE6WA283jUjtWmz7gYm287A9wCC8usA505Hk4emRJ0Wawtl7HD6jvOIgGSHflyfvuO1kGPeVH4mpteM4/ePt3+/4GeywkIdRDIqc10k8GHP0tWdIGrR+FIznTYnDdhQDEdDnYFj2wKWBTshRGN73xqK/k/wlbneBPYYuXmwRWAHDWj2Ke72vai0gwbhlHnX2WVYftVRw/ZB4AYbFQ/Mw3P5IanrvhsQuBkwacUnEfalJN4tCYdVYMOrsS5EIJWnH2sIwabbZNOkb1RpZwWQKKo44ZZufZ4bJ1RHQITWMVzKH47zil8FwluQcJJdMeHXFdf82MP4NAGzQly3mTYdrCKU45DcvstanoBcvuWdDGG4qklrJmV4Dw9JT46tg2BQoy2xibvIjqofFHiIVPx1b/94Gw1rUCUZGSvp23FogoPvKPR6suxNSqkbpWlC5ccEEi8Hen4aI/uq/g9B1z1V2ed3ETZ1KyUnGec5M/e/+foq+PsN5IR2aXOLxJJp7FTO89s7pk1wCwyN61gPqdTDcAlNhqMv6x1mGs971yzbknP3MAuCXRiMwg64xRz12lLGAf77T2yr0rvm4h6H3mXE3y1zk3pgXWHagj8EwufzqFdXMEIa1QHT3X5Ual/gW4weLHsXcYBgiH1lkXbW8aoLCM+kBG6+uO8Ey87l1APb++NbBAVq4ox2Efrcg2GaTBe1JaXW1LEOw3POf42Ik0zqJhC50hME2eGwTxds7pKK/Se3vKMn5XHuAkc7GCuF8qjHttWZncJRZoI5ZAdSef9G5haMwjF45GJ/E5kUPMFgSPY7ZnoeK/zoAP3NjeA1WD3rJoaPsXjjCmSNc9Jzz82DMmGAzXwrGKxqfrjnVZTBsp/ER8WoRV5VzeleghGhpv/dyEKhsBS7RMZFJd19o1UBbpU5DFxZwIlr7yTUdIikbEuxZdMqCEgZX6psi3Ms+pCG0NQShvSGx6lQoK4Abgu4/vGU1q3ok8SVOqYPCtgo+A4s4Ql82DreD3qTDoCGcR24xL6hNcdYlnvKKIPevvAS9eO0Sew0Mu7MOEPQZGNblRrtra7ixQVlwIs1xJQa/LZPrHR7whTLO03TlhW/x7HGYvYWnCWecKyA+MRj4Nc8IaVHTlTDsp+4CDO9dclUDZgnGYNYY3OQdG6xpgUuIBoCdgkZz9R5ctJat2Ds7NKTRcLVfir2l27uQLRlsf47AJbBS4W3f4LKxLGwI6SvZtoFM811dj9RKj2j/IxKyVEY0WQxW5DOxoAq6fzzOgj5AOIclv2MKOmOGsbLeHPSDz7rCR+HkNAyPWDB+CQx7rUqfbxWUBXMizXGp01cU9Fm/dpFe5tkxR1jrFTDG8jZrJWD87r1aUtRkGiaaO3AMhv15IvZbwvCeYsW0w2LX4pAys1INWiY/yQYEonZY9efdanB7xRG62wfZd4FMKpPGhu45AQcWUeRJJ1CdptymEXbrqP1gUQKLDU1NvzwfDPYUdGuoJ5op7Z9K5DlJ7FGob1m0H5yIb0R0NA2b6dKi3vK1QPtSzyXCOT//12FYEgXAaI0xCEpaeXaR3DbscYTBkeDlj6aXfz8AR6xvRC9HCcysKbwh9FKcJj0nnOPkarcVn0AvfxqM3wnDJgHbdWZUv31vsLuhcOsHjBkGm/ndV5pWILUvOtx5WoZbqVQjBJEjbXzKXmOjHd/w6cFlQVPi3WKQtwCbj9/bMChIa9y16X/QXw8o6D0vRvqyW3DX/JFRYWImpT2ZVh+RaDI4JZwjMvlos6AZHb1GOH8nDAfjh01xPgVFvwaGlSvS+6IOYTjsWd6nZJYXzX8AjG9vBMqrToCxy8jO5Z2Ee23Ma5cq0GSyO60/Zvqp0IMP187RMRyMQRysfj4Pw3pvbFciBMuZZvnY9gnXXmOSocpsWr3a3jjcG9JppSp5fr3ua2AgX8nK8pqFLys0JUxok7pElEEy5cw5ZeZgTUFUYuQO4L66jqkWzVebBDEBRb4yWJLP25tWlKNjsODhJQttJ55gC4IOgAaPl7KgI+7B0MvH0Decan6En6WXzS58pVLDL1AwF8rjXZj7VxaZAtEKRgGjYh8pdg2ayfopZfD2f+18pFkqOWMow84lS9BQHvDhYPDIlRze9Dnh7F5g6L9OWWuavkOjWDWe8Gjx9AFvfsq2/6DfykcFS90T2pU1Zd0wnOvc2iVtDrDo3sCmRzHJRku709uFJ3lj36CTmcOn23vTIlMv6vBp6D8pCt0vLOtXSB6eZe4VD7aoEsPQ1su9/Ff34SGtSdnD207SmVR9sMi9oiAL2jccJCQYTLkm87Sid5FefrWd5Yqn3nDAHnNMqYx+u/nqIC/aX61NaRZZGbnyRpT2rGO9k7zotWN+lHzHByjo4zlZh2qH4hcevDWDGHjJEeE8O8Yy2x7UMzJ5mko2wtGEx6YFZvujT9lHoGYwTF1Zk0hXBUKXJCkuusPqlnIcqtZ2eN4LoB+0M2gXZW5wgkxoiURaL/WuhfA+mZLEokRKRLZOCnkP7UGxRWIM2oL4WlsyQtCWP3ceZP+lnoJmVSRNUnjLZTgrVGamcd89tg0nQvS1YMzz8fjSvepZrthTTX4W+xp9P16C70e+A+BEbB7HYdglE5qKXpdv5Up+F07ijpn0fvioj/IRCvpFv5mHLu8CeIf0ckY4Hz0GHCTJ0JRKOk4v4zuHGVbakTK7jT+T8tLYsX8MJkyoS3LZtkQ9AOkoaLFlgma5ITw2GLY2kJQi1bnWbPRUZHSWG2DqXxF3Am60NkYQa97xKEgu+usFpFjnD3e2uXP1+kYZ71kLcRCSXooyZAD/6OeJVNNQSPbOifUHR9er4xOcNFeczTNIBi5npIdUtv2ihY/MSOmYT4Z0G1oVXZq4k50kfH5sb+33MtK/RIpS3/cp4ayXxAm9vEI4T45Z8Wj5zCjBj3oyAxUtX+NkveFQHVO0P2Lb39hfQ3N/ueV0ykaI+/b5wZE/ZJ/BECy3p3ZDCtrtA9RBllUWTTJUe7dQhJKEcGY0AkDDHd9jV9h6V/Z9CQ26+uwBeMM8S2jU+d4u/Qo52rkorxf7MmzzaGNBJylofm5wgybBYE/hzr3hKVe8sCZkOXyTRGgWWhyIqg1N8GTqDbOaqj3UIo6hMC9avlhpCbzaS64A+KVu1ySeD/AUfU8QzsGnTtHLuACM+fhHnt/dvwyGTT9DUzJrQr7A3kqXLR3dJjnt6c3serv06HQveXrIUUpHkFkzt8F2CxQgZb+gTopKPUx3q5gHgvUADWBY3uhNGjo6AIlfSzYPbkvIIp38TDLrTXvYM/fPZ96xQVxy/ZEcMFOcUcUDLH8JGF8KwzS4Kl4paCPVpYxHLAtSKhtWCSA6rewyFsNwrxgUbcsNDAsJdl7JgtYh5Djc+xQY85vixx+joJ8AmFCdikLXloO8O0zT7U6Q0hwl8s3oZeSk9PNE79d6zwsVlhxHHK38AtvFWrmeTFm+jwRRUxVjPNc2XCiCloCC3o73YhER14qUfYX418UsaKgWhDz7lsBHR5PmbljLkVfNTpBS0tds+D8pd2VIeBJ3PmTd/d/k/GlGLLvxAVd4bf6uFDU8P8dbhvOIuE5iZGZZk+sYPEctVlSEpPQulwqR8So6b7WVXNSCMsG5IinL+KPLkn6aB4x5cJedA8eKBw4Cxk21iB2Kjwhnk/qy0p0wKC3EpQ4ojiwWhz+1tvu+csPFYjvbWKy+r5X+6qRjW98QY6d9m8qyJqZlWnU/LZiNjFRKQe/OAGLi1HZLHG9Pxht4aLbFij9jTtIi8U19cVOwnHdFDvFBZkoi61J3miJJLJqkU47aFtFBuYxX9v5c9IZXkJ+nl4yJI4wIewc6lEyelO7vMMX9B0fesOzGOSwL7pOy5VI1jZxoA9E+At2DtACYhkTLpd6wTHPh/maW86wcYvlPw7zoiHC2nw1H82Ks97Cg5tV38qt5D70IuXiwHWICNQMKGh7/djJYk2G0df/FJt68f9lDRkpJOAWbK7TmhjrdV5PhyH6v31Nw+vTSLGjIgAx4MLxCOjrPghaQzF0uwyRhRSlvbZYK9A2EOCjvTuhhdaX1wkeoHlxxGQux4dFMxoDHxlARhgOamk/BsFKTRdANybYiMfHgLQTEvaloeLd1XdPPsNv7RuPBYcdzwiHIZw7R1xyj0RfmxQLhDEM4ixUOOb08qHPHET4Kl6AmX3Sei1DW/WjmwTYhXqZ5xF4GFLT9I5cdyprkIK47CsOTnPZ/toocLksZHVZloBfpLnSkBa38YKa0apZdXbz6XuvUat/b6Efqr1W7E323AyGOIMUMyd3OdpEvQt8TDNCpoFI26zFeYXn1JH3jxhhfXqS8oVePBVL60YnafFwNt8YscZIXLXhs+kLxg99KQQ/o5TmZ47hiOHp5miadEs5+eWmd4Xi8MkyckEMbFjx/d/k7BmsgZhlUCQ/8YJWuHP0oS0EPDtCdV0BRdnFCQZsHOA9UAcEFMCtPWCZOYzAEsL4AMwQa+vZHAwoacw+DQziA5+qjL/K7q4u29ddA8lqpLq3xXtdQiTj2I10uJML5EtDUKrvqsDcsNaV9phWSHEuVs7iWVAVHIRUAP83khDCczm6XVLWC0zzKefZqHjPATpH1zbnHn/+ip2EYhNG8C4VifRBXoi/iBYsjDlidvzUz6PWsIOP8IUDi0WUn6/wuBbJ1JPS8QK7IteI9BS3/Zq2wl9wtXnjKEoOzuC8P6OXoiz5NOC/VCF3gjSR3fJ13tXjte6Jkv+giGOYu4R7XF9ljOIgTz7Ogi4I+wbGsjBtP2CLbuCc5z56sHmfoqXc4krllxahk9PKEjLqIrbrkbn8ehtWN4fEi6wnnPRuIMzYyIFQlGkEQyBNVYX1YBFq2vc/8DiROqMyxss2CVnVwbbaw2SvYAiQ1KFm5ztpVjZSnFsdZFu4NiTYR1QAAIABJREFUM5wv825f0c5kppjxwknDcZBrmRNRT9szzHYdyxfMkJRWWy+T80xxuYpaotOlG+N74v2xV1Ejv8IDxnQaOJ5s1NAyLElq0YjwoZJR/ebYIR4RzgtNf4O86M+5pz8iXrLIP0XZSywXgTTpSRAdTYhyK3oRG3/LSItUI5s1HzG67BxfITbi3H6vy6HgeeCkThg6RkAI2xZJSo2SW6pUx0XZo0KKNsC3QuLMY+aF9wYZzq9gdS9oX/4hDA6bkq2gDJOuVmP/Djiu4OcuoTr0hg1L5X3ZyA9ecut3Sotjwpl7B7Jcx4M/BsZfSEGvd9KFY5i315yirw/KhbuktPfDsGXhQei9GGh/UOrfe8B4Wyk2FuuRSblcky9kPbZefkymrJJ1rhBrpKdQKVpmQeun5vVGdqzjFBe8EAdS32a6/nqQc8IaLH3fVioduL9WF1FWIjGvcBi+/HfIkXwjDH9iYmCEU4qtsT+W1Y2N3xH7w91VAk9heJPhsKoasnu3x+D2AKy0exTi1Z1W8tDvTEvrA4/73yfWzRd+wTAXGhHokgPmKQxj1ssofieiR/4siJ7ZX/DCvw5eiPlOURQYIT3HwvENB7NxcHu6CfXItS0IxtYYGeIzbo4wWfVNhQu9vy9G+9ZpwpTrDbyOcFFh1DgI2p+ET00/5uddPYJ+DwyP4Lnrr/IAwvOOC/a2bP86hOFNAdZh8JbmEBTGcwbSrDqjRLjy08LB/967br6iJjhGsQRrzYuMlI5gGJkuh13oWOw5w8WQD21d3+EHM73hkVx0Fj6OwWSgjrMW95jdpfZnJImAvjRxH4JgRUHDamwwexhuKWPpdk7m5gOUdRLc1CibZkkOacgFI/3uxLe+yO8Yu8xnQxXw64fiuZpafNVcenoGctY8bdCRcNwcaQDDOf2LXXSawSaXapbGvE+OxlHzXLHmrwJwNOrfo5jtHdyBWzyvSkpEsiZ88kJS9Df4wT9ppx/i6/iYyBs2svDTkblCd2tPVOAuhNsqQTD/CUtzBGpzSFKRA5Z+POBcGl3orKyIVEejxcHDrucS0VLO88dh+Ke7v+0XpVVLTzYGDmHYjWM2Ylgy5zmfEM4V3vqqUPOGQ+2aAuAn2BL7wvqXTriqr3I8gVhECgUUATOFLQ4jr3cKvZe0PyoY3tbrsDmSmPLBfHSC7nxFq7Ilf/GofwS5HA0WJeEEw7QaUc4lueZKjEjRYuo8yQSuDL8jR/mQl8Zv8TC/FoZf9IUc/aIAjFsrJKRFSnEhk1ed1A16m9YrkxXDAhPLQf+o6QdAnXC2eVsstLTox1YifXUd8NBbVaNmpPNMJuX9KCl9BHojaYu1zKxP+sFY0Jv9SRgcq0N3hdskufh5B+Opw30WNGROycpyDesZh3tXrJcspQDJI9ff9R/Es2Myu3t8wTi6+NF+ZDyt/E4MT+6SnBFAr26SIjOlDQw7LUlR4LvLqsda0P5v2uvhHR0UB52ijK0C4AtgOHNkLaBKjEwWoWMlaM7hXvV6TyRFf/AO48cmmyyrQ7/H2V9r0zJTDlza2+eNC7octJ0H3mXnExjZXOFcxyrYGywz4Stg/Etyo97jB/NkWxMnOZMpbdpyuEymtBV/HmMwCW3o9nX6I4mAjpPmkNvUPLn6q8U6vgWA+fDQBOdgGR5Jo45JGFQlcRzdU9dj3pmmQNNlYpN83SP42TB8cKD15Ce3p0ZfhnjSzTz7FlfVY3ruyu4w4DDBhSfoq4jlmJ1ZG2Eca2ODLxlcYfx4/dS/ezS+m3DSQZdjYLwud8UE0bmM01ZIewaWYjDZerFJyRBpkuhQjWEB8MkJh9mn5CKUiVMuCXEw2eXNOaxGiGMhKZpeIbuBa6a4zrw47Yk+R3J8Zv3jER23VVOY3s6QhUZJ83lYMCabBb3FwXoTxMz5XaiId7FeOU7bH9bB8IUxg8tm8/N4/o1gfM3Qxfwf+Lpv4CXxylCdY1V1kpvLKoSdhWC7iP6CN5a5QapIyHKtzM6zRe9Zyn48AB9BYg+xU+cy5bEp6GB4QBqaTqVAv8cPXsolCbWGf7MPzfHSJMLJWyNCat0JzdGc5AwHfqpkaFUWNOTOZ/9qyagNVxXvZyvnBgn5srxYJerWzzvE8hGccIV/n1uM9wx3eGeAR35wpM4xh2GRDGnjvqJdCqnoLx4tubm1AU6eMwYVzI6U/gF2e+cQwxXrpZbJ8WKhpsOg+Ts+m/ahMZaG9v0KvQRr3nlw5Sb5P3Tkg/OVbwTDT6vovVHR+utW0EU189noFrCNdEMDyAKkZbDcNSPB/NDKTvYTJybl6Wn9hgrgbx4475ssUY8q7ApvWJvRc/HnMHjHgKg/zjpvqTXWLePgOetwNhLzIXu9B9wKLk9wBO6BzWYqTHCXV+S8bc5zWOkkU0thV7PM68WqH7zgzC6OJ8aZk5PXGsbKk301NfeL3Bm5xoTZmdDh551z6+7D4JvgWgIjX919m94nZPkud0w/CcMX8ck4+5Pe1gYtHhPB0nG2FVKUe7VJxEFlefm0qSbfQVHdkZe0zICAf0RB8Fs8YFYCsGfDS9bHiFxhuXsiDZyTVOoBTsebPhsWfLUfvHqXzjqg8Aoh/Hp3+a85wQceo/OJV/IHsj4Nwx2bbb2AM312L4nvPu9Slx98/gKCpcPN8RVv2DgeQUs6bGjNcTAR7Pxgc5c4KHsJJwa+nF3599OGKZk+SBRnRWHfkQWtGo6ir0uzsuUVx4WgX+4jng3HeqWb2VJ+RfD4D5iKfcLIhWQRL+csrwnI8aKThU/O3nf4sm9PR8AbPnJ63Vi8G8Gtc3N87A0/IPYh2kyiMpi0WxyXG7Vap16sZPOcfbh3kgUtu58UAF83wi309i0S3BYJBmtn9cSR8jO7L53kPKfLIV40x8xMWz/PWIuDo5+CIe3mKawyV44uEj91+JeyxekAhzTa+i+36eUrspevxKv3YNVkuznf7JyTj8Zn78ZE/NnmWx2CYck9N3IYTGYjOmpQ6JKkx+rvZhtLul1SAfA1MxdBdioiVQLHafCsnphHAljn1Cjf5Aef2P6vfUTNybclV//oAeqyrVmXIIOjuxvHiQ0MJx2lE4zgqVe6BsbX4y5+78N/6UfO9oTi6VqEqFx+H7JLMCxrgmkrNOJQ9ErWGpHIkd40sFgDLVhsVDMnOMyC1qBfADweiEnOM5lEOPcOopBwMMSNJ7LYj2HhnQGsvnudKRj+uL+r8ooPb7WidoRk6slZSkDDbDjTDvYvd23LXumj44plYeTAT/WfdxiW64CBYdUMRTPMsvSoq0Nrr9u4readtpiglx9T9s5X23d6wCr4ygP312Iw+VR19sJYWohj0BL4aCnwHIwxn0L8/ORjPjrDI/ZpvHcONzQ8uto/BsNOImMnYdIsaIu94u94n+OaIKkmwSKFj9H7DBboznaKazNxfUYuzkE+k5Z6EoxXtDh8MwahY/X4D95HnCxmD9oO5mDcvODeeXNv+it83wCG963pD4fh99UBL6+8A5GNwCHWK5tF6AbGpj8SzWuTLAXtuzJ4IY6LsqDnVOB8HcHRKNQ8d3rhmIVU6t+WO73YuJ4x/qjmrGVZkSqwDEtIkDE78VjDEyPrC2HyGxi7J2H1VOXCkysJukba8KpMzmmQBb2lNE+4Q1cErJfiXVtOtNF2Vb9wqz3IhiPNpgQL+TaHtls/GIBJ1iPxwSG+2g5mQFD7Lx7WJkEMOPkk2zv0AiGOguGfjsGDJ+NFX0QRx9GHL4fhF68vL8RgfL5u5wpYBb0beg/fzNn6tuFrb0adY3BefWR9J3KrLs34znOqLvjo7Pj3sfUKJ0b8yohMC8WiEqPmcYTuAxkhjiTD+agQB669kZN/yVQ1eJKLAZrrbAyPWahoOrKGfjeAcOfURhfLmn6WkpOiwkIoEODR3/y5RUIQ0fyrMp6eDGrMU5oXmxU+7QcvkMmXpFsfXijSZKv2jtJNfbDHxIqLNsckMpMte4tcJwahSKOOIdNwieS3kJ6RS9PkA2vM7XOr1YkK6XH9BVZeNEheoKCJUj/YC3FgwQ9+W7n9BT7o+7zh32Q9vYmJ0+XZpcAwJO0Sj8eowZ9QnQEWdzU/6wkslFx93hV+Dn3P4yhevlBMhDiCtZF3KjgL4XEXaQia0SUqwka9LXCavezGjyB/bj9rcXM5z2HnoiUMFh1uzAu7/q0RztrZCEYJPrE0FAx/I5iELNtBdzY4p8/JGp8BP+y2lezahxaKgzC8LacqNoz9tAOFYCXSkIioesHgySz5chj+9/pny3RxtSucCGUQFZiB8VgVywhY0lrOc5PmwJOE1SX3PFu2+Ar2KdvmP0tK/42ljpNcaGjqrGd9JlJZ6OOOnB/M2yI0CxXjh92/xdzkRfb42M24prJ/Sc3jzGM5usweWygmFcDkWiE9NoO9FVJe9dQGeEg7syace0lvcvOCCgMWcnOLEq2/ygM+Ra8Pdr5w7XUhc+0UNkNvr2AwNVZ+9k6zy4L2e8CV5q3vWO7OZX8c3/aWN3zlDEHkHEdjfHmphmuTrXZXTLo26fW6VJesbTgHt9/Kg3xyU3RioTCNj/xJolZIYFiWcVOENsuvUTA0edEquR966VjK0v3CdebLlbAUlE4YCTjMNvqUj2R3eVqkAeCB6JVPix+KRR+eY3xgFj7pki54pRMZ2Iu94d/jqk2eGo4cxkQ4exvCRodt4zPt9LCyNGeFzU/9+OPXciKJ6S3+7igkgIWrfbLWaP4NR+r+l/SwsmrgPSHLq78JYSxwIsRBsoOxIIZ69tabd0k/yQO+Do8jb3jflAnlZ9mJYa8qg/AogCATZkF2g+N3EB3wrB/MSx3TX1IL8Slv+A/YtKOm8nybmsczKZoyC9p+NRs/oh1zaEXDM3fhT/If613RPnYB01rK0Bv2L7R/EvW/ARRziR7LE54SWGwKhD8dVK/8ILv9pHULZt8dwOdewS3xGPqxqQQ8l4a3jRhOlD2kWxwpgVyPNwXDr1yAwK85dR+b3IeUyYtG6JjmT9vAsEmcDrKgU843+gp+PhTwJlXFHxWzAJ1UpcXnLu8wDGstmERLfyzEoWOFehzraCMGbKjvoPPtePyTmjGoXTMov+M+vVTHHjz6anHKqFZYesyTzKxRNSieYxJ5QupigWv6blL60D25ZsV/HQZLjxPJQVAPtonRpykjSHtSOS1oc47vRS3TAerAjMB4vlw9ol5GOF8DyfzE/T++dES9QXhEQQv9yDATsbdVoEBWmnRpcXwZopuhX23GTZPKA16fJzCcQ1CPlNSQZaMsrQmWG0B2pZp8ptzoiX3ZvGrI+wfer/1mb/jJLdrJhYxftl+WIsybJnOUcdBvajjGx7/kkeOyncFpQeOnOI9n+gX/EG/4B7hiHGfZHxT4g21Px2HqDCjviRX2l3M3ELuvhRGtxdYro297ELevmnt8YuzqJFFXoeTx2Lq/i1fIaZpqilivYpYWdPjeB8PvhdgXrHE+mORzLJ99blhwV+A6ajot6JhngaFjlF8SjUR+21L0tmzeL4HhH5/TcA6GrTKlrsaMAsNGJTDQMWRbOmydq+7hIsvSPU0TvG80/fv049ayfFGTotnIDndkniUOBUjzv5FtxjHasiXNjnhpkTr41Bc0Jh2DiQVmacAQLrF/dKoT4qULPp7wqDQS6zIdfloPch8mYDX+Mc4OBkaR4cV1de+J9GYVjvfR37w2OC4mVN5FOPOBr166RfMMabaHgw4oU7IYuY6U9s2Add/frs7asqJbbbGM1jyELwnHuvx+kTjH7Y3zYmnr4SSlshDvBJ51S+BBKdgKHvtvwRD+z+3NL0rRsjkR55il495wDGYfya4aPOLVtZjDflx43hVmKB9gdXlHHkWebjYQiV++10vFzxPg+u1+8HxpWggzTeUQ8g7rWNAuDFrpmMJUqebKpzdavxqAKep3MLkR01oNDuj+R3ctnRfdFzwpxGE+rqShw/bAU82NcDTzu2bvG2F4Pkun+/23APOYvXhuzuHiqdET880YNy+yWJYpeg87UMcbYj69W2S6vr3w8lYdJUv5xTA8b47Edp23jXMStWe5+KcDg48Njw97w//e+KBbnpzM81xbn6LhkrxAKz0iI1QJtwXrxWfQrReSxczkBSADmOeX6hMDKG83JFJs6RpSOvHU+BAN9G6a+qdItLfpwTY/NF+cFnY+SaWTg9FToHpKXgNhgZRkJhfmCJ+eQSe3m8c32SeaMfA1X42DiwinH16ofRDvjJojDSho3Q3JiE221ZuxNOpw7BF9aFX4QBIWekDtwPrLw7tl91YwXkDPzevZogp90dQlBYqTkVjjkS7H6bXrYr7rm73hcG16P039zRgMZIRc0AB4xEBLlxqqMu+ACgwfuJ98ctDOY6X8BfKuf8MwYfWWvGFHQevmSLH2/iS6F7Jor1sY3reW3756MKhFA2wjSSDI+mu4AYSoY7NJ0gtruu0YOgW0+NTMWYThhW34rOpg7Va8oTyJZ1u0pwciVp40Dp10p46B0VfCjE1FTctYMkcf4TdvC+VWmK88W0mqfS8Mj/NjUgoaZLlGQBWtoKsq6S9S+0mOVTh+hlrLG7ohXXEjMNu3YDAbwek4GOQ8r7Q/8o85rETCE7/7RL/kA6T0+iI4qsG/KC96fAwf5tMu93RxdoQOZwcmwpSBPgV4+qOds/sOGGZNn5vrwxPnJNt3/SVb3oWd4iVfehXh/NI9R7CUwbVQ85nSrrZlmAUNZgK4xyUfnDU21pp4jxzyLj/tpVQxe/3N9g4P+Nnd6VToAr4rQ7op4/hFSvwNyRa8OlvklGt4QRvgtSt5SV70k95whr4XyQ6PfF2c9YZXnkk6ksDTLQfi28NvmPSc5G28cTqUXbnBYi+IAazNg5yCBnTQEFKSRuf0+BY7k5H95VItP7EZg6ej+yPhoHKJBq7tIJw8oKCj9fCFJNiL1h3OO8w+95TwfHu4l/xk0y8LeMZ9ya8wLIiYUMFBcCBCcrupxMBl0sM9Kqu/RFzk9GPigJ0qcP2RMOy6MiDoW4OBSGd/+E49CbLQqDU3dAMZYkYfmNpx8dPvEuLgV9Rt0KyhjO4fGS8ZTEvtCP34yEDrpe04XpQ2zMEif4mveJjrzn7yuX8dTTos0W7DBWiCZVp+kvVX8i4vgHCyAPwg3LglPyPNrYdD3xSJ+fqJfYQfHi+D76DHT47hq7/obYTz81vYwTMNsqBVj0LZf5BMXjQzEKjQCCJ6z3Zm3Ziw9SKkvUshsqHUwyC8Mv7CpfyXecB8+YnYboIylzRp0JGjLwdouugHv50Feok3jNd5wy9jEc9mbgfj5/qmVaIn4Og7gGh4Jg/EoC9mNRlxssrTz5tjZetzaIGf2FTu7zi7a96wGXRBXrRsSTfUkQl734E3PxiTBPnJhjtdu9+W1Hf7jsfcZmByr4eMvwFjtsKhNHBtE9mNiJZ4BT69EIZfEgle+aIPbSNmdwOH3REtS/nWXWieBf0ZVXk+rG8QXCJrdqrsF8FwICIzzK0Z+1SD5ijBUjwYnPwdy/XA/n3Zk1ZIzMNs+DzzxASDkemtjChoZJv6Q4QzTt2AY07DQo+/i/OiV77oout/Bolhg75LNx3+NK6f7xODO20zmP6YKAv6nH/+bCKa3hPzcb+COoXYf9wnceXqfd61n3rPL7pstvq1RchBm2iKIZy9NIcfKvEKyWvhM0FiE39Epv6jHvDhLMjsAy7DLdA2s8GyLrghvd5FCtp816tZihd5k9/uDb9gyIU+5N6iL6oDcX+ganUvnAgXKZTizNquCwVOOkNjXFmSuI7UB78CZspOrTZjTylQGPTdd0z0wQtPRokXiPaYWHe1/wgAX/TD4XPe9HmhJKf3Om4BvUr1IG1zxJMxh9dX4H2G1L2ojujzg/uSacYXX5HaOoqqCk6CuHHjBLF6MUFElMGNuAFyMNxlScEEPoXEa2kPfFoVIe4Xe/1oL7sUhn1jYGQYHGGqP4fv7Ju9GerwH93YfQaa/33sCT4zf5DeOaOx0rfYcGHguOHgqKfveOt3dAXH0o/8AKl7karGpa7jFTDMxz/7is0ERBa0IGEZQG/h1vRwo6EUpDM49AUYxMQ86AdMRMT8FJQF5HhAmfNh6n1p+A/G4SXwfJHOc+hITL/obVMHp+/BXKJHhbe2sSHSmwMiWmfWN86oscdMdizBqEObJf7UvP+FHvD5H8kRy9H3S0hUKuVuCtq7Dfxgn3uJMRg/P0mW9Sw/Q+pOI9wXesMvjcYlPRhGpbD8wtXO9AFk5xD3AbsWE2BgnA4xzT/jCzYaUK59lE15wgdJQwblDb8Rnk8o5yCT4peLrYn9qb/7fAgHkualkaX2H3WFf7UW9FEk4SQbK3pnZZkeCXHwCHheO7dfB8PTk7zvqxcCzHzsmZ6s/uLjqEBnNSKGN05T0Mf8pVfsU9g1a38q35oPX50JExqV4HfIiZddC8O+e4190AAPKvIbrEIuy0oMXbXLvi4y+M5h9HotaOa98V/n3E6kP7Kbh3xsblMmxDFI+HqGYQ7WTj6QQJj/oovTld/31Qvp1sdIRZybLOCTlMaZbVnfQiJ2iMew0YUJnktUn0pfyXbdYk+AQ5NVqiocvDrOzib1hGlNTvzZIfqCTfZrTvu2LO7VRSDsUTiWapHSHKzDLx0s8GB5+BG80QsX+lL92NA6vehvtjd5wLigRy5si7VWi63FKXV/pLQamK0rPFHhuEBzY967/m1Nlk57w89/81Kj1rXFxffJOJETfEiI4zgG80pTDt4SBGmUFGyGzzmwwPC3Cei9Zg07yzSkLZXKzf0R3nBCO8WyG16aQ2fwbNsw2Wo24kQPXOGfA+DXjQAZUot82XF/BYu+71DhuAaGX3RrP1aM9AQMZ+vyQF5n8eLfP4158RH5xGkZNh5lQV85DTsplfMTMHmtpXL1R2DYTk/VFXg6N4Mqo57uA4W7vvqIX6Si8wL79wvGAgfQOxXisPsv8urhweBAtMQ84Qg+S0q/DIbpM9Ica8i6dPzTfSbO4feTv9VpEswI6gx9t8QXlpu6izpCiSGKJYIaikXmK4fH6wbSE8/9e3YYK2zTM2c8/hD3XGen5GwzorVUtJPm2GsEYKsFZCtM2xXxz3rA0y5px0aPS2TVFDR8iNcLcfgGLCdynl+enfRhb/jtO+Wrl55BZzSoJI5LF6npCeYjKZSHOfuglspensa2SUcjTSF+JVyVLQ3lFR3xYd90UTMXFKFg4AeT9K8ssxKGelI2SzjXkxq/XwDAFDYMX16hMZAumuF86NQOeOlPAMY1xO/PmrQvGVsnfALWI5ITVTW+5upUb+J9vWFMAevJncj7NnE4uhBEXnm1JvwNMBzlRXvpfq/R0fAbC4NtvpMTOrLgaPWHmozv3hX+++hDJOicE0yYQ4wWUPVcxxT04i5p6hO/wONk/sWT9tqRffZOIcQ61tvqsLT24E6CtQSFaqSGnWgWSZ2Au1e8EXB7DugzRIT1QV4NwxOdFkR/k0qi/gEU4k+cg08xKjwuoPBFFq4joXvQ4oUU5aAVLWg38MYDBlLKw94bJkr/9cd7wPORAIy3WmN0DEhFUdOdSqBx1FecP9FncGn0H/AzvlQJiOlCcntGsxwodFaazww8u4qlX8b6ROx+D2dbQkBqbqzfI/EVzE/s8Y+SQys5dNNWcUa07rKxXXZ+gcK0gMLrcmSuTpppYVwpGnbTWio1iA54f6LH93jA2W2BVD+JnnHeFCEATbipHuoGIZvbHJwcX3O/TtbUXuu2nvmiE+4+sDB61IRyUjtE80ykd2VB88k8JBz3Xk01utEAOdCWCXKHwGu/z/o9yfXJtJvsq3u6zUJnHpwe7WUn5u9sofC+6dxblVlXmZpp4oXz06zJm8bCyz3gg4sZ7AYFg61W3jBSbdPAIgOeR97SJIbxfUUU54TizgxGnh9z/IsuCH4nMZ1gJgUYzBeO3Eum+QtnPWcqmKvNkXqMHGz7mqwMjIGAnczbxvqAKfWrn+ANL86swXQLxs9a76MP1hN+DQA/93Qp8F/hpemM/sbgAWTKz+EjH/MqXwXD80XwcrC47IvOY/AgBcMX+9OpVLtL5jBHOwUOrv6JDcwKmRay3GfuuUFK0beRD3KAyT8eqzEtGP42GB7nRUdVoxG9E0/TVDmHYyftpR7js/Yj6oBF5bV44fWqZlnQ6A7xtMJjgXA+NO1R/NbXbVawXAoHcezJDn7Mex4WWA8vJh3pkBWRtFoxHswDvNqn3h3ijT4GmLknjsV3ob+Iyj3pmUbFb9z5/S74vPA8nHdGUoGD3sLIZGCR/N82HwbSktANkNi7CidLud+1Wn+/ElaMvsLxjctFpqID7HZP55zL2qf/ZAw+NxSf7qW5JUOxc9s564Y0YOvbP6FtL6lvUPH6m8k+CgDMOCbTIWcxQl/2w7zhsDzJYFzW+JpVOzuE6UGzstJvt3cA8D7DLpaZtT5K0kCQU/GNjJ8s+4Z5e8YbO/fB6TtutI1U7ub9HNQo7IsPFkoDJvcJnGzg+cnBza5geuFOom8HspuEpRWz8PjHTedxXnQiyWKmmE6MtUIuKveW3+eyXmxvoqD3VMgHQ4UXf1W458JQhnS+EJT/+g4YvmIVPqjqAFtHvrRPRGM1PBj7rtS84I/r+qRRA/tvoE5ZBoJ5umU5UL5pikHlzcHnf3UtAsemIUbjBwRmArg9bpvA7GuC5ZTgPU6DR+RjI7bPYPGnKpE+kQV9qinrWSReWceXhDjKftC0p7mii8FgmBjBQsPeC/gupL9gtZL5zWCcqpFMbgaS3JlsDWz7G3VSLm/4B85HXpkGGL3LQcs7I0h8QUnvR/jrD8SAkTwXjpOnaOSqQrojAwdotN3heJ9b6PuKbdhVyyjGNQzTwTD2blmMrkuikhHy8GxbmPHJ88kFO9dO8AjP1tytKcXOLyIQWPjt0q2/YsaUUhCoAAAgAElEQVSbgjEaTNhdMcmW7A8n9XRhzyIl37WFewMFzUMeIlgZxR+wFvP0z8+vlWuPanJBxlf/VjdvsHh+m6vgUyKf3WwG8joqrwdj2eGFtLuXaJEKjmw5+bcnjR64PSYPC0dyshjE3GcirlsFIqXJxRumj//t0q1f7NRidZ2xzwh66ssXJvpAQS8w7D2UMFSD6XT0eIjxNwyet3VD4jVEmQTLQhje01dat0hf8n+46U2RXS+D4Wu94XEHyYkM1hEhjqzQ8InLPbS1Ah93hcmgL2n/eIVSeL6HL9NSt9CTXnl5w58G46V2XRhrbuDITKCmBuH23BH8I3GITcnSh5b7N2ZBX8Pqdhg24pSJspXpxOBp5x+cwv6LpvGz439egA8vTYrjM399F8cpq5LKwSy0RYMKjALDPWbfbrDsPrNv/wP3BaszGGZ/Q7mYa1nB8NocD+qL8l0nCEcITswQRc9N+j1CHLpt90VtTUxwfrwKmk4MUatVFPp+BQyfnEPZeUBxk1EM3MyrkFiM/v5C/K0FCMxPbBIczNGscYsSsHBH+qxgm9yyOunUJGb781oSarvvfHZ28/UdkMpRfgJf1w/DQhesZybSbMCcGTYfdMLekgUdSkc+KYaX7JjI5svZI6NG5+CYvawZ++W21BBJPVBkMoqWgr1UF8KfZq9pfACsp2jdzhB5frFVo8SSf74tlCyu7USnJUvyB+nlUVnWkzO97Ad7w8dz8cDxqn5+jz7+5F/Igj43z21+lgXLQCbFJuZc+Mz+Kubh+y5jfaWG6fgdSdRK9IWNU14GCmeSgoetmph6ppVSo8S1Xv2VhMc0QhR/MGAAysH9chgWz8h3nzMdcdZTBDj4Az4WCuHp+HqdfVgLethneQ6WnGh862ONN3G6XgxHnuJfcD35LUPjNIE0aoukuZAAod2RIth5JQabvNATtybW8oLIgt4/9e5m4wu/wwamJhIk7mfDLPGndkBlr4NhMqQ0tlRmobABoQ6tdNChJaMpbjuYDq0WxlkbC59RQb19z1ycNUbA7OYJjgJGqwx5G+arHLs/SFmf/sm49BoG6DtGYvWC4504OclSUjoAn6KuVsG4OcGTLOj3Ihai0m2fopF9Lz7jrZRd4w3bSBDHWYmm1tSEF1f4qGdkht80sm5vXyMuOdkk+OcDeDxaeb+86W+B92Ry8HAwfAwbh4vEJV50nAX9gqWDY55gZwujdoQM25Vp1qyMdGNguTTXJP1rq0ILKWZVizaDh0/jD8fQUu0IV24oxnd1ir6eMHnh5qHsidvLx0uGeGkX/CYfFokAAUXi09yourVL2ioeWXmU1zqtZhHURDGYWLQjRM+EfmR3gbH/VOawRIyjn2S5SrJJtpeHQmq+f3xBEGOfRGPLoIoG+0Fb/vOu0hExJgwhMc7TJeZ3ZUG/ROoap5ZOhOjLWdJs2RfPVV7T9HAZVZTnz79hIV6qNcSRFC3gfWOW0/2NvsNtT9EFE3a1bWS6KGC/YLis9XCXXCz0LzP2w1p3JHR1Kz5ONKOMvmMX9r4Y8BoGB0vqgvzQSmI63nK3C7Y/4jpjmWqegdWLuqLwccGd1tk3wRcgRW5MOgfSkfly/XieslN86pwFw9+NqaPYLac7vKlk7M9eb9+pBR1Kez4Liqyd2gWJKyT6DAf2/mvbiFoQ3oDCXnhy+nDXPN1XIDE3eg2HxC+Aw8rZIgv6SelMPjrVxzNFKCbAaIN7yZJnHPSy74ThPQ3QakHLhOdMWQPDWXKx2tMv8oDt/mZYqj0grZFtfTgu9h/3GTyfBb22qpUr/I4hlW2zFpB4DYHUOfDkVe5vnuoMlFTAToddPGOe9Ywpqiw4RhSNCz2P3KOaaz9p46zr+uhooJLPjwQ+NdB/OAC7TkWs+QVeQuLHfh57qbUV4766K+tlMPwXN7mvFgTmwxMyiTvC1clK/fA+cD3LYkU8ssGBpV3poaE0achLI56d9U3hYxNE5ifrFzybTXtUD1oK1ER5ByVkK8GFguEftoFeSF0+1LtlPRuCMRz/bxtJL6egh3TAliLZy68XfeLdHWFoN+WSrcJBB4Hf+8B+FNd0visiH29gdXSb1XN/WlrQ4wXMVn0bZowg0YPzbTukaHKKSl4vpqkTjLOg+Qgc8c5I2x7HBxSbe/poV31+tH1zcz2YR7bB3DY6xAnTCxnkj2dPuTbG73ZqT89UtqQKLz/xFao5OEYXoTOeXlm+3QOO/AW9lVGKuLz2sG0XWFmA6DdZr64HLW/4U97w+BEknb1tRT8rUpSiIInEZqiC14WtRFwLxekvQLgfmCx7KWULt/cnClzZ1bUT0e/Yt1q8mmcKdyqIuk/T0XncdPKnecO80oTqly0nGPwnD2erWPClFkfWIT5c7TEe1/t5P3DP35sF/eL1WCys8VMMWxYWcP7YyQztqpKRmRwqP3xgnYuxZSwwfwRKcDK0fIzsoVS64CXIx9ETXBP7/WIYZtsNHrG4N48fN34wTsPrbLxirF7ryF9unxDiWNd7Pe73DDp+G8Ezs4/m4R7tkyRF2WQTHbtHK0KGcgjxi2kSz4VBcrKcVkXxvkwl+gGMFIP5QmomuVKZsMzspBNw6bJhTrgW5hiQ0p+G5yZXPLrWSYxLqpR8aCY+ebK9LuDqFfU0zvzybkhPbGEw9H1XXKW4TOXU8K2w73c5wYZqIb3NUuWxcW9MkCWiiRZ55vNX34IvPO+HPGz5gyeG8olNZdDnYbaFZUtXTD1sGhSMHpy83+0Nz1eWacj/+73hUSyFdfRhoRloHw+DX87HRz1esHf8MAA/+Uuibfyk703Zl+2lrow8LOY8W71i0+IXTVsnxZWoze1lAQudBsLr+PC4cAz10J/fNaxz2arJA/w8Nb2noG9vzE6RCe8hCDyfvesfWCsqP3vlTiTJOgioHpV720TIn2gz4op0flEWtBDoPMEyDPnDQYtf/ClsXm659UkX/kkM5sUJPoryQuZS8WTYpiGMC1cjTp7jLlk7dXhH99onRJy452MSz4hm8C67q2d7eyqScW8t5/qPhc4Ztx3reuI0nlYX+ZgD+P2BqxPzlI/d8UFuc9yOkMUQ0ueQh4D4UAvC6Y/4Ld2Q3G/hZ07DSQpGnoE1XTfxs2by3/ShB67q1BXW+2u1p+apRovfiT81U3nyT8cqqxhjr/XqrCyepx8fcoMwFskJLj9SROGfMxPxR+dvcBtm2exxF7FOp4U6MEC2ET84E960U3ofBR3kkh9M/ublJTgPHixmToKdEjVXz4YPsFWiWKgNF4DjfqLhOdD/Ho8rL8RxZMFcQLrlQ/j0LUu+orvwfPbk6xIZWIPeAZsVZov7ELLFYK6Z+MMmuHSlLqn7X5RtUWPKCyi+0z7eDck0h7ls36Hn7aIw4eogKBj+lB/MLueZVwO0SB4yCGCIRj1ddgOHRuSCPhevOvBHkpeheu8GWdCwQhzPb/A9Bo/z2jBMYl9VIozqoAqGf49//AKvEyfEKX9rFjQfOAAjxunoV45dYb7sx2DhF9bqcMlEshQWu7qyOEG6aaglW17lXXU5jF0Ma22LzStZnA+UTxYf2dQI6+HvxanCx7huHk0rk2M1ZdhpoASf6IvNSOkoGlUT7WtR9oybFu/F10nsA9f4Zi3of594CuvKArjwZvDCYsWv/4VPajT+XnwdPIilCmDDSPv8qUTVeXnkbJ6xOi1f8MuDAle2AS5+6m5eNHU5725Eq9WWo6Y3NK82Vsk7/OKJVii+7nusHL6w+puxQDPZUc7/89L16Cd7wING6bx0KwDtvlw1hnDUf33+N9cm/To/GPodRM7TCJXlkxKZfRFnBem32cDzMIh1NKjr1CifiNm+KKy10s13jQqSqeahSt1861wT7adxVwejK8FwnhbC/KTH/TYKmmf/ycvPI6cZw0iTIrHBJ5OzXnRTPjlW+LIJ9u6rzV1PUA4PSczSTmzOu4Jzd4KPBkd44Wg+ek8Rk9h80TNNVzfZo0J/JVg0WuIhp5iSHAgmiIr0b8nfByQwC4a/EIanDhKni+Ray82F1SqUq30nO/nvPffeN9nmi5YGF4gyd1pO7COEczuYfzNXfFErp6MljgsPAofTj2f7Yop2b+AhzPtcgRyJj00BHl7Z8W69xl3m+RJ4cgZTl5vcGiIBTATe+pkxGIQHic7qA2H1NSspwl0vANx6Jdlq4P18DwwGSy56Mg75Y/vsXwCfF56HP7dSJdNB17C+U0HiY1nQs06qvCxmK6Pxe3INtIsD+LZvqz1lxwKAvwWG+eoh/Z5VIHqI0/3yVAuaMnbUf7VC4kuXNBzxg6PXks0+TdJNou+yZTLZLKo+E/dOjqMbxUIAay88g9lGs++6sU9Pft84LLtqImNlaXrDDgZu+cC79k0f0YLmg6vAMS+KD294F6K/EQzz0kXiLTcUa81hnt2n81IpHq6bouGvi7sh8ZJKWsdXKyHrudNT7NnZEczZyoO0Te76E+PBOOCVVQ9IJpdLF8+GSq+UwhGZSTgqK1KHBgjgT0y9skswmA+uQsPdc/vP/V+Cs/MQhvhtrMW/Tz+Jl/SzP8znYw2lXFeatat/kwjdQtrnNVeyls14BOkxLAdyvzFamuXONfxbObV9jQay7YXThL16TeckPCPekhqN5/dN6Upl/xkutVhdI3apwP1Z7JdHQmYSLFQDFQW9kdK7P8yC036gJ0slQkU4z140aCcwv3/qHUSf378z4PlaYB5inB5/Yj6lo5uXtppvttuXPbWLhTgO5qVgdf7gRF7f93jD11wJv3bkjjUWUik7F8QlTSaHcV8pxKHkOPQHjw+VE8vV4YojPgvJq9PHr1Lu5pBrtECBlplxoKFqunSDWNWPgSfNr/Q4QWe8yxv+Ics6XvFd0eh9wDB/Dwa/sRsSL7RmPXyvT5dNP594FC79P2ieY+k3Ak/PrsvB2NbgD3vpxDwHBw5xOocpwJUJpZaBIpi1RtUGoqlc9TL6bjKT/JTEzFL5EIa/T1yZSVLTiRrTTNdsAx0oMPBSWUXB8NfDMDShBcpdHbxsEeQrv2Bm/95x46GIBmpZj5KAeGodH7RfW+0TfDWw/aLc6WE7+FNe2zP6J3GB77aUQzUD1n+LdR/SRcbQgR6kYsEuFsNSdRAzYzukj3+GhB/ZAkaycmtI7PmBCx1i03dmMNEFE8iiUQ0e7q4QGfHCGrJrWsxMms2Qyot2UzqKlVw+Pa8hk06c9kxS9zXs9/n5y9PQlUiA7/n2tCDL8exP6u00f5UU5WNjDhbE1b71NTTi043EoSUGDyUlXb47/nXb7a/IBs/QlxLJ/jD7HlFrHftHnxk5nLmY9C4inTqsbvyLJYAzmY81P3jPSuac/L3o/o8dEdYsdPOb2/KWq5UNtlChpwueEW3lDX+bKzwfksr3lYUtaLl+kfrsBZcmczF/AwDTrBPDK/3FlJm8aDl6DSZ9Dur4K64tk84ZBwLNg7Z4bLqJ8vZnuOOFcBqilGV+4b1XVU4z3JUXuNDseHopLTSLeAMghTgs543xTxpR0MOuVge2ZRRFgguGfxgGP4kt44/xCF/fWQf87ixoQSfYNt6v/MkYektP4yW9QK/jRaddmxtYubYrYX6aBQ1K2yHEWdA7QsimST7oa1tPxgu0dm1XK8ifukMwudAri4V2GfiCEdgbnEf3ZqfPmbcMZxKN1IUQB5sBnVHQzakVWdDiPqCdcVUfuNHew+F9+WC+eL689Np4uRj3zPK1fX4QsLhw3cciQw2VkEG/PAs6lAx6Rf/B5UF5qRP8GW8Yb5i6nw5ig4adBynNgh7SHlvBqKIruTvE/c8oQqH6I10Ow3xucvmRoYUqz04WGH/X+8pB8TQnyhimIdKYgvaPUmyA1rsOL3rDZa+bypO18YpJdMIJ3kcHf7I1zpu1oPn0jYzSIL+RWuGD83xFQ+MEe7YszYFPw/BIv3t2YWk7BFeKALPd4ybPhJEvGRWzBXiXrCDPMZxLy9K84h0LFdsJw58526CF3oJr4za4+yx067J+DC7dGzwbRQXDXw7DGVrwi1efaMS8b1y8Tws6otfiI8d50e9R62SlzcEHP6suboXUXWmddiKlc60j2/Qkp7dKq7usPKNnRb0r8pPsO5qChvJlY/Td1Z1yygTDPebrCoXPLFkrqYk79ysTsc2k7QdIMnkoFQKtyRD2jwvmOgMgJn5cSdP/YFFRYYd3NNrt2N5IaX9rL4z14ITk3LViy689yTPK7SKOsDrw5eB4bZDyV3rA0b76AOWA2b/wpW0En/AmB9hwsTd8fMJc4A2/2D9e8YOxdrezkHCQBLRX42LKQvNoL4ZhYQZO9AbEsalxoXwNjoxtGPFnXtsbc9BWMthC8S7NYbdZoEhI/4g37G/ZH5B8/x5feKY/+vR29AmUfWcGFr2Ngh5Ef9/8g6MrWlx0znU0w4vrnS6/LS+FYRyZBfGd5+PJ7bES04w75YCC9u0Or3m4yGEYiUdLvvb3Sn8bhr0365OnoFt1VQ8QOJKfTUnSI7QM+0zzbHbKJBqoYPhnYfBrPE8cRVkOXuCNmkpvoKA7UyWyI7d5xuBdnuON4RhkUuCrxe840S9OLSNfLtZxmF3mMxTW0KNFjMTKWwIGeMyBnKHXoQw6AZueSHFJrajYjy4VT956EYgZaUEj9/0vGQasKV8bTOqqCQBY9BRs5LHN434ctn9WaUHz/mx0jEpR0LYvYVApoGbWEintbxpeKE1/+hF9TnaDXiZYpLSgr8+LXbt0mw34XvuMFnSUeqFkCt4OM8d8l9Pe8CVJOvymGXKBf3zqPFFZp3WCLZYP0JejFNxH1i7rRGgpHMGhqqJTo2TrEV7zLI5AKT+jKzYbRFGuchwvFz0H93u704yBH0yRFjRDbaqGVIdKSudXeMNl7/MSrqdBMXO088Kcfcz9mnaE8idNmvGyaCT1I5mV14gnL7V/uCQv+p0wnO5RTPKUrj4Cz2U30okW1MbomccYyeFwmsR7YlnbcEoXC/H63sqVBUnPnE/OUhoo5lguQUpqu4eFaKOjjo+0oOONFEGWdMcSYVww/ALo/R13Y00T0VJav4SCButQlS6wtw8cOwxfXaT9bhimJfFkPHfal+VFX8xKLWSWIXO83DvkQzZ97Q60oM1qm1DQfubp/kimbOk6JI4ngKBuVyZB0AAG56orh0SgIIHJzGmy2chCgqxR0GDRlUaJXuucanMX9g83Ge39u/xg9soby6S0v5uf1Ivm46kStNhL45TLGzaHXv8ifB7KOej0vbCj/Q0e8KPYmYQW7kDhvv945jfeh5fAMC+NdRw97Td5w69YfQL01drCsqYo9ZxMOo8sPWKtfpVQ0OlEtAXE13DODLUErFZCYnbO41MI8pPDZhV+zfUi2P5uywxzOFlpX0imvd6NtUbCkZz2ht/M9Pwkd/H5Bfj1q8162/eBOg0vHPMjATimCZcKFjhkyL6CHTmroTGZ6kurw8+A4cWWGANlBqJAbX/aiYE0Bu/tfslXAGP8vKb/aRxPvnJ+XEIQtoDOocgOtB+dKm9E9ycpu0J7EI/lDYJkBuvgwgSD1daqYPids/ViSOALzkEnFDvG0PPbtKAjWotbhsaszRQ31om4BZV6viSI+YVdBec7rLMaGtk38vppLySl37mzTuKcExg2GoQ8aQaMtuh3t3iv99WnR9RpB2FaVngwX+Ux7AoXJBJ/dd3Ak4vVoRWvXUHLWCbRGdBwzvsHWqdRTTiT1NDY/5UfcV3w1qlQcc9y5ehxKZ0FjZZPTX2XcQkp/TyL8woHcYFwBp5e6M783mfWkEs7AfBqN6y3PdqPe8BDIY7gFmBtt4R338FT3iQ8fTedRTjspF7hDX90Z22dYB7A8BL6RiLDO/O8V6OK5CBYv40xekYcLT2JF372lvnE35xSOwb+GobHQRDXRhC5AKTOG926I6NXAwtPWlcDQzcoVGLdLgmgSYqG4Ql6sTf8C3zcFY/yJfdhLFlK1/cWU2DsvpsxKKN/I7v6MSGO6BhGer+u+mY8fbaDMBzkRR/OvfyxMHwUesP2roMOuZkY5ANxBQa3eDxaC8KefiVgWAd/kFHQtjJYQ85FyZQHSWmMdwpzxB+KmUBqgSlk3XY2UDx8qCwW5Le3yiX0yP3GVEOlu7PHYAx6dRQMH574J4JlJzD4/bcX8znGcL/tbVf5Vgp6Rer5sQbOeOlXbQCPnOcIKT1TDKAFmvpqUnqw5F+9rZ7JzoVNDoaEc7a1QtbHkDpIGNAVqUOi7eAOAK0BeEpBk0mKHvf/OjV3Gtm6usc85YbLJGckzxFsBlXmOXAfj7wz0OjRaKkusklMb/odIvkZvDU7bGy46lT4wGCGaFAYUNBnSelv81ZPEM68QC/zykKwwOQddIW1wMs7LNhgn/YVf5IHHP6eheRMvuj38wJg4Owvw7HRH+RFI5oPT2dOLXnDl2xvFwsSMPO9LAU9C/eCXS707twEFLRAZQj/TMGwc9S0E4yBTwzrJpoDBN7P3cvxneKDe6aDbrTvmmzJeXMrYvltc8ndRZbpVxTqqyAqAnaDQVHQCChoetob/qU2TzrjK2b9iXX5eqc++W0I9qf89pjmGz1gipOthJLdtkAhu8sXbZNW4v3zbsGHUpyykTc7yRXlvEg20XxpvslyNQ4fuu2Y5jxDOta9GcD+Ptt4MHQZzCovZzeMEG4xVOENPztHTP173LMc/Lo1zTAQjGDEgsNuQn2eM5IB3H8d2q1k7Xxb4UmtGgDNGLWPK/94SDLF3rCnpt6Mw2s1NIerb9e+CKdn9NduLqbBH1WkyH1VBL+7uOb1HjDvmwvmrOcbLYQKnx4OfOQJTk70fGx17SSvqSO6XnH+yeuUMTxD8y5lXYlWPK1OlEi4xazO3y9J43EQvFRZ0LCq0dnT5AvWEYZ1YHltNF0Jw9mPGl6NrDUKBLCEzklvReWe7NJKkGQMGA5+7g2fZYx+t6P8G9B3ABxRxZvu5sW/Roij/TCOOyAlnYnGsnx8ymu7sHEbLfDJ0VSfnYR/EgwfTrMKV3knu6G0Gjh4QZnsRj9GCQv3bN7efFDVICEIBmdYG7QNNo/vcP/BfHXg/Fp82kgkTX1wSjDS0RhuO3j0A6w0h+T5m6u5R+Il5yy7RiJKe1bDg205GZyab8Hw+jKJ77lQBIsuIwjmjB05npAG7L7oXa7wuyjovdhveyFYJaFH17joRjZxUmbJIt3I0FNv6Nl8rO7WEl8LeVIrXVwW2aejNPUTxAIWb+AgnYQpbFTVs5rJNhBL+zEowIbTaUJfu5kgM3IH9y5q2HAB3K6MPM5WE75gl8l+fIvOZY8Ji727EXdpyR5DsvRwGFXZmh5tJ9wekV4XNmIZj05pYDf897Vjy9ZqBcSPQuW9gKwx0qb5+zxFKw3cRE7F2cd5zTjha4M+T3zRJHn0ChhOFconLBGfFuj4JUlYwc97zEEvNthXTda9TjnZcFsZFARZMu/gZ854wwvbbT7uDV/mH7/cD7a4xQ59XZpV8CLrx+DFC0lgbSDEsfmPXTbLZkEjbsf0TlcAs5ur+YGlxK5oqNhGT/tZgj5IHPvB0JuYnZQWhDNBJmdtD4VNf0nfHAkky5MCbxiBNzwvTzoxR35w5+Bvq0U8NgWQLP4RLzPga/gb0Jc+1I7Q7uZD1Ay5tW8ex7wmhv67YPhMpW+yNUmlFcIsaAvG6OmyUm1Dym6QkHHoebk2C9qSvCp7ebi/49VCXL70dnN+8AIGR5iaa2KDg+pnpZ/buyPDh3474cwRCUHkMJgsBg9hmEIYpmMwfGSaAJmm6Reg2gmJq9f9ELz0RgS9XHbuQ/p7lDQpsR/nV17xmylon9a5rK3Hhnx7VePmp0bM4XJeeoKUJlpJ1/yI6uSKdwjz/xwUO05Fr0g3prVNF1rIkMnIbjQPjAQeiw0QSCzoCPiWqD9SeOR0N9Z/ydbHHl+xmCXDLxqNybW0iBLvd30v/33kmG6P5/GrCbSxzOC9aRpc/rPJi6aW/7xR1TIRWk4rS0rTqErYMMtHveGNs38dmXzV1FspJub5KBux9B/3lIKuAWwWjr4x1Y0IPyDE8QYPuLd5WfuRAVGA/Pl/R7rem7zhc+z3xzfjnLbEye7GJAvaZ2P1nGeLvk12QwpxNDymLr1kanadkNP/396VZbuu60bA6w0mc81HppYhZCSufEgk0ZKU7O3dHCBvnfhqy7LcSEUUCoV0jcPGTelODVYMCsO928177luOXs7fF2eTcxSpcKbFbJY70gNLm5QNyVVk8+l+D8wj545+SHvZsESdGxltMBr5J+XB/AWHna3efoJyzSEOtNMiJDwZDP5b84BTSUY3vbE724su2kHMF+1rWDmVAfs3KLz3S59LPN6RDe+l3fzmN7fxYV4Xa3j/xNSKcj68HS4bDqXRJLqB3Um5bJjzFSV5geb9WzCL7E3/hudjse/VZcIfxuTXEq882AmsdFOuo65YdAif/8XyARGYGYfES2my5OfStoiEmEQenYxYmGTDJLaY98w3bhL4UBsxv2OfLzzNNwhiYdRVVv3TLrbMSRoeiUnZ9GQUNCh0Wf+lAExOoAyBvqzuPmO3xXAkO0xpeau69rv5KTDsT2zqGIDvJIQsnmHGg/GUQ1OaZ4PKU81zZwNHFRmmfCjWuAlksm2eYZvEr5b8NxMIA8N6hbr0z7vWB+y8JG8JpwfDDH2dt7einTxYIN/5NncxeOiiaQyL6p9O00UzmhBgCsPq92ZNPqOPI/UIyj8cvOE62r018Yx73D0s758VLt5O+fX7McLX1xM2AY7bh0zWi1DYyM2Ig19a3f7ADLh3GcEagMpbTHvc7WaJbDOSd8vylWXKK1afTIXfBMPBUd8wf/Crl97YvZg5exby9Nd1IjkJNJP0wBIu/xJ0SQuwPUM+epO0cJqviAP4tVEMm2tK1Sh8pQ+YES3XePeCYLVkUiCrjqDlC+rWcvcAACAASURBVAqG1ZqjPZelF/zRoNTrwQc/jbP7qf8qrsGw+ojkIgTJ6jVOhae3lU+P+PyZefB7YFh+5PAzuM/vXCzG0y7eEFwNBp+/jU/R6B/pAwb4vCLaA5PvAuKaahcNq5EMPOaMdn96nv+UfkAp4i/B8D3oXUg8sIbhCHpZ2UwGdV9tsSQ4avnANrGkJUCrghaSaUVfM97kNC4n6vJ2Wfgtt1KckxDOXBGh7tFmva70I3r9eUiuOjsdsO4Ng236q4H+3MLUxgmvYdhzzrEgazQVa1J6p/rzpTiGr7xmv/G26Pgb7D/dLROxlQFgq6/vk/EpChogZvVAw7Be9PdFM1hQ9W3aN2Tx+GMDNSZSVcZ2rqAgdr7Y24PhDZr6Cy6dV/LgKNNlzp5oNM/kJ/6yYZ47HvfysLJMahlt31mMwJO9SX6aXjpLYzyLOGsbe+XaEWzupyJe3sK7urM4xQifh99Os8vAUDEvMJi4p7/HrKQOuldgWI131vYd4cQUK2neuaw+dxda/FxeV2nQ1ZnlLy4YdHXWoilfYJP0xBOkdpLWxOdbE7UPiLDcZYazR4Ed4SNIaVn/OmC4EdStTYEYx8Xcye0sk/gMNl+H4Z319cbQhVV+/AMo6Em7UUg4T1JhOf6I5MRf8ujrkmCDvoOgHvbFmnn2b4QDvjpKlNnrul/63KcTCb+CKhSpsC31CDmVyIPlbAWhy+oTfM/BgscyXFd/vRAkviA06G7DsFwlexet9P68migaYw5/5bfzG+IC95ZfHtA0xCxt5agH0A3rwuSy4u/7cP/zjd/SQUexgt4+O7Qlu4gpOHmxDSlIF1g07ko40v2bMLx/8fLdKy27RzBNDJJy8hluNKGwAuaQgoZuTxLoS0TGiEN1JZF4MBwVIhy1cMu8Lv+ZZh6egvFezVfCMH/NTdOURhEtZlkzr0oqM4a9ttbek4IW1d3BMXsMhqwSw3UG227g6IGDYX95GhimxNLTKqVT1KY5cf0N6+BbT/nmKVAc/xWqnXes8GCMscLrSiAxpDSaIzd3nh3qbwEwgXRVSC5eRsG3/zOyXqWChu5lMgax8r4hF/T4uk/4q2H4Rt60bxGAVy9m7wmgsGLqvKH/k5XYSryZOA8mh8EDm1m487M8pbFFj+w1wxukOZRGVs5bj5yRGwaRTgjX3Nu6q3cv2D0VRYgMKwIimvQPTNSuRdH3ROFzINp5IfaL/GSYGzemuOgXMPgSDJPvh9Sstd7Gmcbno2aleAfQ3hBXf837CGjntOdAKJ8DnE4gXGOwelEJ0h/24vjPpz5iXvwF5yg5RvcNg0qFz385OWz0WNi2H3eAE31NF8OvguEby17ERM0OdXwvD95G2XRLNINdEs4qEetpMUetR14RLUrOLM0RDeh23yuFoHqYj0qUw+W3p6btX3fo4M/lLOxoEy9WGv5Wg2Z2rdV67kLLZ48/tGkPx/+R0FsphllkzGqd3l6UEww2OfoODJtbthmBvPnFbF5olQdPX9v6UrHC174WlqorcOxQbmGYz7xZjg8IAPtjTcD0MREWqdnaXU51pqTsppHzKLYguUNIi7rjsezwG3cFnRBjnE674caKsD8Fw55Pu5H4rgnnJajDmphFLhxMVvmsoHc4Bo8KjnbhkG6UsspLcd23jwfIW4/Y34o5XHl4svq2O1LizvHqtQjtB9lxjPZKNch8PBridnFWS3RPXrn1DaOrP5oHpcZgOtofbH/wgNfOTIsrXCL3SLHVPZ3h7vJgaX4dgHF+Jc6um4C4/jXQ+410aPZZCRLKgiu0aUZnmyGn/jT6yyzd0+YHBpEit385ALNIOFtfA7Pq94Xmtqihb+iabVJhcRyjwLB5MgRbZmD4azXVmXyap7rKfVcNvvZLf2MePCtFbkMv6zVnonAWW0yhlyjesoO+vZQrhgSzyWu1XWVgqIl00NOL1IIFjC/haQZGhgyz/BVGfTuwUqzOPDMNWdYBs+0Cxkh/SQ8kRdgW3JDVzj7s0xAVDGusRT8XN8O0vwkvh1baaWyzegvi+uNI/C56Wd7B+GsH5cInu1HWO+pFTMGMeW7Gk+cO0mQjyRuMp/zfqQEb65qOwaQT354HsxCa6DxYGXEYEw8Jv2MlHV4JoxfZMNXvSza/Mj9+ga1cXHt38+CrnQ/ebJI8XPmsV/K3vtfIgzFGlTeG4TF0Qae8Mgk2JWGiWH6VSqZT868fkXQY/zmAMwczxvRnKaBX5MHci7594m+jkyUG49RkRRT02N6wOXK11TDsE1/hQ6k7GC30yjxYa6fnF8Imcf3tSfAbFgR7d623nJluKxIDZ89/h+LNG2uMbFgt71s2LK02BoRL9MWfqgEv/LDYmtsM3zk+813vnzWg2plhESnwjqk1/hnK/iswPCe+7l9euGYTxreOY7NeoWfW+wxR1Qx6yYyJpWvoK404kNv0+9mIIm+yo4Xh5vd9Mm4MAHZfqOspEiqqExmVwlk93eGZzTh5B4MVoEbG0boteJBh4lne83LbDtptCWjqxeW5Iq7/QlyCYQ4mfJKbgjAZwAOm2ADrTKjOPKtbUULfUwyKw66ObRr911TQMqk92V4Pw+065WaM1e07Os/QLTgG7RwyTlp5FHDcyEwFvgC3Nn+XewPprKvA3Sz2Btd5r8E/FkVLiFXAnBPOpCXEcwp6DGPIYHiQyYEvdNjCC1niVVhnYZjG2KWP4m4Iw7dOhMdX2roC+/BACb3wXboW/HLfK4XBZvIoy7YH0U2orTmaWYdsI/ZFKNslrGB4MGSBQfSCpo5udKDZ4L8flAfTxTvPe7LhZAYRyA4vgsh3FQVt5FEsRv/G9hpq4gL0/ahjtvzrn1NBy7kLoOE32YBWeewqKVbv5W1GHCzM3TUFDSmyoqSvAF+Awa9xgFe7e3eYsVfP58V9li4c0aQ51uWdOOvdgd7dJFgOR9KZq0uIffrLtvjtYXhg9h1AfUW3dTcJdl17GmLln9CSYxYGWLqMLFfGGoMFmSwwuBk+C4jNe4scIeNhWNzlY7OOscZA1ClgCaeIpo5oPnXY94Plj82Gr96OHMgZYFZiZlbMwmn7bMDYpbC6ad8pqNkaZvnk+w+poCmc9AJwy3eZ5W0OJC139GDupnlG0zxjOGfpi4e9jYqd2aDR3JHYPxWGyTBjX7ZwWq7eJzNSErkDO8MNMQFKppUh9M4paDWLMEDfganjgWQcefQXGe8OM92WeoZ9ZQg0vsX5bmOBGRYvfDOPJKPHVwPx4aG391JPbUlkuEGvkcBgQxs2O+pTq2WGI3kKWsDwSGohVxddhCJ+ZRIrDX7vgXF8Qc/HOvPPcLX6TJWT909Hk8xqMFHXMEOSFNBTfofnhlAUQY1occ51yQzgz31B//n8TaD1II3xDKyq610Xia567OUoZqD9e+zVXCqNGx4jOIEBujwklWN2WoLQP/hi4I/dxedgzMkNJpgzmOS4u9BLE81zA8sZDLffhnygWLg+ynA0DcsEl0kXen3RFxu3GUzXqW9uQGLZMWvmDW3iMcO5S44F7rjmugLrbPWlZqbR8FnjpcbgAbHK0pKVZx6pqQw+9+XRfUyuSiVhWC68YjUWMGv/TaYWUqzB0lfGT1PkTc7n9lqBXzwjuWpFA9ox7Eiu2Q36eh9KRWj7iSsf5py/hYI2S3BZxFXXWntg/Upa9xFrkDyhlw8wdjaxQggdkW2j4Zgp34H+3eDJlZEmwbzhN8krCjrOeokmhDPpUUgyUeZkH3ZjClndkuddSaaFAX498T7G6K1XY+uSDTTPVpvRvh3ZMNRcbSC6cZU7dAfAs3J8+l1R1O+bY3Cr9RLMcrmBLk3AkCVpqXqQQAbLw6ZhklOYOJiCemFqYXg5fJLkfGXpf4+fC99a7sTUbWbnz1KtRzzS4jYJWFlLnoIsPmmZJs6S/xM5gW+R/GtWlCET1qGUR5uX6jISXb+Gozo+weNG0MtGQ+nVBm8jJ069ZJrffLP7VciaX0C8cYUFvbx6t+EnRXMKOofesZvznhyZboS+LRvWubLIa2WCq2c2tBxXmHUILl3cptmOdcLLDUhfgcGhbTL5ByODVUlzs3Y+MfaEQpHi9iS5m2zQCcTcLWbVqjcZEq6wvI0BVilpCrr6vZKy47HTx0XbFGVdSY6mzsD4kl8HiFaji37Q8IW7MBxyyxT3DkFhJwu8FCVbeC/JwVSPp9ieYHJtjq2RCR34/2wfsB8GHGqg+u+b/eQVtfwZqbDYSzh8UOO6RMsf645fWBgeN4XhCH+zn4Tfew29Ms/9Da8QYWp2N3Fr2mB4nzHfUCnjgnDu0KsHM6h5R9TrtQqGWTtTSimWg2FEWzq42kkMTCZvpmjGIrSz5j0wTrEcL95YJwAos9umgrZdQayht4M0degVTcAtsx2Xm75KG1U+NFlSdnkHhuXgcO3z02nqhILu0tqMpnZq6i06f6M7+DMOHp+BYQG68EUYGIqYSCsk3d3I+DkPU0k02lmdXcuMz1tDA3LYzCByvvxQQ+FHKGg9DJh8URbyOqF2wSIo/YrasC/ZQtealak85HDSnlLzZrL+fT/6O9fiPUuNOawuyauorzeloCnIcf1BksmD50HUVIYZBS0SZUk4U4y1fWKSbGQaKCt0HZqCJvum3k5lfVkFcVw4XnZscmVEuwnT5jbyl4UHZQbxosTLnf8IlgFNh+U0XBnonrm5sdYydEIfdbpFQZPXV1+UPdvBZLx1Yf64IYTJdLrFk7S4SXYfeS9JgbWQjUZeBT1gWACtIJ9FEsFqvqHyke4/g+EUHtQZfjsFDTHwpMmaD47qUEFzy2WYtTnPyHqHFrodzeif5YXOowQkMLp5yGcTHcikxT+kDLwPw/fuzjeaizxHDaZs7SgzCdlfO1BtXKmmjOoJ5w69IhV2FHTQpBSbRXsKOhjBBIuy2idE7z+9q/Lryc3bYbijn5Qrm4yndxmx8eYgu//oYmBZC2YxXOEUWY767tAnw4wy627V3ATM8diGCJjHkCVK+5SO3xJjl4KO1FhL2XM8PdJ7U19fJf+OGcFGWsw+D1Z42Za4ECPK0Ou+JP4a6JxZZsNuKvBUhKX65pn+1jCGTAU9LolzNYxTZso4kuCGuMcy+NgCOv9lkq35EXAaQk298HpA4WVdNN5GIb98tfH7wVj27eT0cvrq+wrniJRWswihnmUbkLLm4Dn6CqKYPbiqqUom2Y2/6+XExre5uLzr19WVUUSj1kt20JCQY4kHpJNmXfEVeq/eB3y2/I4FQGsCVuqumzAcGnEwlDeWZpjPvshslcPhMtiqqZOvacZl2jP5Wmrs3u0JbwQCeWWPhHV8VpBjFTqgdtOrZkbUTDMgDJ813JpZKDwbfOT//ZwZ1odU0KriCoiWe2ZuiEtDS9lXKFqKdX7EGK5YJExVWmegWFibKS/cphGKAYUQ2Tj9DRHWjXeBdfWanWVcBLG8wz9vgnFKOFM+Iskrs8gQ1GzmFWpbafbTDBXcSgV1sLAQH9TerY83UPGjXAsLpbTqIRLiZzFUaTwQC7QmpJAVX2fs3DNUPWoQzeFDNPsKg44tGDbKNWu1CcMww3xr8J7SFPlNWjX1/LLiWI1lue7r0IlXvu4NpOG93rqMcI7XjpH1FThYz6oZR2LKwlBBNxhGN4g+t2Bk0qfSqom2eKA4eTvMT9rJfi4DdrYXUoXRKOgGvUfFl6fo65zpmqStYfCYvzJOg8W6WCfJA399I+aXTw7+HjDmfZ6ZTDooiJt8PIMZf+vxeC28mhHODoyD6q+dV8h2XiFJdw5TV+7pPuvVw1rzLI7D72iJ5M+lwhKqWAzQVeLnjpP6AXWRBwQGtw5gcamp67YjaGjsbAg0Hi48PWeFnXJGuuxkfvBw7LEFVtsfMR0WOpnz6fJpzOiq23nwLcDAm7Npe1jD5SI0fHbOzy79VVmpKiELJTNY1BFMNhyMHRTCaTbQGzhR//oMWPXzmcT/2KhbhI+EmLvMwzT+ys+3XV6Aeh30dvuw62JcNL39sGfFfVi4qIEZSu3PZL0L+MxgmNfPkqgTN+RsmGxoKZYhnMlloizcM7LG39g5K3ggxdUDhlVv0kTzTOI45Nw3vy5V+brflbqMbCdvz0CZpLuknFIo/ZyRWVl1IaUgpU1bsHHeaMVjqAYh/YATrhgRRrIDY7HwYmBujBUOLzdLUo4mgu5ZXaYr6N7tdZ1+fi8Mr9F33/lZpr8CdOHlV3xCaQNjjEpwS4IjAx3BhOvz+dql7TdkwEOLzCrrZPUALNzjTq6Az0z36PfFgMqhiG6r3MCHm4SFTrs/jJ//KACP/qhuk0mkxyZ6S9ofg7v0emXaHwQTrmyDYc6g13HURCn0aq/WNOslk/UGNliCZ7ZMNWtl1hi6QBQZSsdviv37vV9wewdjiNWKWDXdmX9Fc65ab6rV7Dm/rMGobHJoD2zjrzSpg5qmMMyflSclxKxgMZvBmz8r+dUEhkmOLJQH8RCoVO7dr8NORopIaZv1RmA85Zxvg/Etl/gAhvnarwscg26QTbJUS4kCMNPo4uUx40gMEJSdwSAjsGKbNBs6mhRfreY6aN2HWhP8NQpalXZID9XuMkH2qHwIrzQRLVbl/a4hjOEVUzEmgbYXYslv5e7QwVsYYs6vJJyxU5RJIZb3MDiBYdYr68m58Zp/TjDY89gB9AoKl7IRSYjajchVf2P05UwXTQJ0JTbrHqeAcKa0EvgFa67r61/zb+/fjXYe2mUmIEiChWoimNrLgoKW/LGaZij670c2TN7wDs6aYwnDwfClyHmDtDIr4Yq9K3b/HGLY8geJ2pXXnLNjv7dAMbvDTIH54gx0+Nd1oIswCdbcgZBWsSScIU02+sAiUdAV/pRET1KZsfqfnLvAMPJRjAUB7Bhg/jsiLOjpotQlzW2cAolLkkZXUmOnwTT8n7UX9HHxnuVeDqYOjuoueRNbJqmC1u7QNGGb1fDwb2KkseUTufOstc8zVmsIBF7QPM2D7eRBn/WCsskNsS/H1ogki75Rf7C1jx6dynYChL4XGSHHR2eKvrAclJYXLgke+CpTZ/VXq6PQYKwYa91TEDTvnjw2BH6Tqf6w7uvfhWE5kI2CTuJI9hwqpd33akcZkhZ/tYPkpPSSuN7Ia3csMjZGB16DYYO+PEuCQwqaeGS6Enq98zN8D5LsOOIQbuW1CKWU9lx3byPmef7xaylos0YUaNdU0GA9J3jwzdyXPAaD2wJREhfdI0u6rqpiDvRklKGCbkIRuUXy5WYA4qh5aYt2vBtWL9dot2hqTnLfy/RyyFFbB8qFwpkoz3oRjhDW/pSJ7YZvBSbds9R/N0ymxsxsCr0efYP0N1/Y3JuD9P6W34TbMb/dyDtKyqG1ayXJ1l5MMFgmu6QAFRTNH7QDgpVKdQHDOgGAaYXIietBZMyU0nKLJWMdGLNImxcm0shKDUIunv4a3gfDuHR34VndN0RfPy9BQ2+QwoKl8Mq4bUidM7Qyi5TM6rSagIRbX/p92bjuZ2XAjgQjp4LmPl1UwDBb81iwU2CdPyYewisMrGRtssQmG24YLFx8YLuWul38sNai3FvnDpsT3V75a8CYF0kwVntOVFRzetlT0AhyZTaZMUIKWnt3TKYTJlvI2b66nuPh/KyuxNDcg+yhsn3ug/F3jdCBm2NAXsDcu/TbIlZ6SQ4MpmCKkZr7S9Ds9HjA8ue0A8NRyVy1OsBJtCwEcqCUnminFdFmX7vNX0M8TAkWkS0ay+uS+z3uq2E4XK1jyUpHKW8Hv/7DH6VfdoVblfKmrLJwwkLQSay7ksiBsV5Qk9pnVsn7nRkwZMKZO3Iopogb0DHLSQmWjm58WPetPBVxnS8alnGMeHXfGxy70qO1N3ZdtL64OKow+fHj9zmM/XagS/tg54WYX9wnMoJmi82kWicmwqvb0wlpNjQphWcKWowYYV3NCq/mGCxXDOq7+F0wbDp6uTs8e3f30RhsBcwp5clKM2km+O7DMGlJM/TvTwpDQB59c8KZA9MM9aWcdwEzlZwQ09QWVKNlgwNr8ZSPwzCyqrPbaFPeaAvpOq5IrqChV4OxTo4dDDcVdBd5acAmUsCvwFj/lejPqKBHNtprtS4h7iTU0Q2M05qjJcfNMI7VPIaW9Z4qrSfRQ0KvAETlrkOx7EqRX0Z/2eaCq5/auQwei24zIuIDtMI+9M723+tE4gR4QsLZ7yNSSbY7YElB73l3WKI4Mslaps7R8Wfp9R79sLbd2Jx99BYY9mqsQBct2oRCUloS16Gg+tRpyeEKrvvIktLOZHo0RkCMSOnkVdA3HHg7G/sOsv6XMZ98zoIibQedGETLhmmJaoJSSxuheslDTLedwXB/yltg+GI5y/pJTbxYOUdlhrGK1OrlEHphH0iTjch7Ep1w7qmw0j+r7mHz1vGHMuABpX0FeVJQ0g1L4m7rLhwENBNAT6YH7DqIiPAgPPsU4b4K7WrlbnZpV9WGFQ8GtEFdz8bkUpSdeNoC8QHE5Uw3EE9ruVrTzYGc3fXNAQZzmBBTwAxHhPMO9C4IZ/ZI7KYFc6ixmqa2zPQ+rcb+/MHX1+ax3Xk4XEjgq+osCmb3OgyWSafLfdWzur07t9ELZlnAY0qigGFSDs+cqpFDGBacLk+WOCZ3lxS0dt8UuMvmrw2Gc8K509QMT2TjszC8TziP2mqW8sr/NDVgmfIa9LVZL0D0zGBYGGP17U/VMTymIY12I5a0s2hGeo9V7M/KgPu1O6QJ3CzmutEcyXpwN9VpplZoK2fpQymLCkRjJDBGrYSJ6Ul4GGMc3YnUbzU2/fXzixG5Q0e66Ldj8NXLJQDLl3JfmuW+BoN9Ejx36gg0z1egd0pBTzlqnoqlp7cigb78ds3z5wlnhYWkc1ZLOKuxvqyV0ko3NTms6s2dUNASp9uAYohKkIdhxydn9h26EtzW7Y49Nl4cyk3PwLBNfx0MO9ZXZ7qduTH78MdhGEsw5muaZ2W7kaIvDPo+fesRCao58puU+qwnKfsOUrVnkErKDZX3qU7gTw5jsNURMpZYw5/5/ERwLknOpqVD+Tz+FSrzdlE9iR9ET8aD+CCl20fbKWhrCjIGGXoVtN4ykvc9XfRlDMbNLTyHTP+LWltZkTLkQ5hPM6/RPWolsj/1u4TzEnp3tVo8m2BIC10VR8nM5hXxI0Zepkic4Gv8s+4XBg/hcWePJ74f7oVOZSRAHqcnMxhEbVhkyaRtu/KGJXI+GyF73NXIzinPwnBm8UGBoUcwoxABVC9gOEjnF8QJUmFD8pTMW8NrntV2mNzX9tpyhMSsG41GauuqwmzE0hDOTqqF6fxShGllYFT54RbCz1lRSuwjuzw23lhditVqw810lsTSiboISxV9MfzeRk0WROo8bGlL/PBCXfRolWigjA1d9FeBcUI4e5XyZej1I4konIDEEYhaGI66eC0F/QLh7FnrhILOtVqxfZoaemhdnZOnGMPq343ByWUswVi2ArerozlTDo+Oxh73KUvMvltLEeGKgqageLyC4ajjCFsw3BcSDWEDGG77jJ2SVohIO+2YbRqSbJWo3IPhoQWfSKuQlTBSSw33rLnGikQOGpHPAozNlAWiINNNCsAHDD9nSAwrhCZJQaN3ISt9VljV/vUUtC6/kuxel+4crckfzKxtotGJ6JaCHt/Tk/gQXgFE2gL6SH+PhJj6g47BalEg0rJMF93Hs6myMgtp6FsxGPtg/CYyOaaXOcVU0qhpIHmqcCZTFX4h63XIN6n1Bolyso8obEcuPqzuPepfposw/JPBeJKnipqs/Gt3kmwuO4o9pkCTNco9rJkpIPTrmI4B1igoh6usYdhS0PawfR06ElYPw4aaHhqJqXZavLTC1NvZMF1TOIdD+lLN81LhrGRQsfdkr7wqb2e7cfHgKAmLfwlMeFgM1hOQRjfwoKDbsGHdp/TH5gFL0FLZZhcvMLN+wC3V5HaxEwN4Mj8ANIgdG1UePF7hScwSjAMM3tNFk30Q1MOkLjrE4OGKaVomAm3pHXXEJim9QThPJM1BQuy1hEnWa2YacvbAYm0y+y/KPk0bfZzfixw3bd5Nm3ovEs4fqwRz4gXCb7uOQbpAOvqDxdUhm4OJ9NQjIcM06qrRccBjFGKond6AYQVjwhSTM2COK7iepk5geIKOfTV/9ZZ+STzCqzahBFEwqek6MXCU+8JtxyzrJVXrJc8zk4VYxzw3uG1136fYYWie5eCjMQEJ6m2yvu/wMOf6QxnwmFBGen07QKitf48LrSfBbSXNYmwCn5nPoasC6EkgPvPgJ9GDjn4k+dsaXPQJxmEeDE4x2ClKVhjcTjTLg1mptI2g453J0C3C2UsQ2LDfkfbKe2VMen8TbI4ANR+7u8Tg9FAaQZns+mNpqfFRmmoOwxzN1knKdW+EYesFTYGGMaCppR+k9lsebs2jf5haykzxKKQ9GNZtybKr6U0wzEmSGvUHfDHFgX3ojeu+QhIcTgxUlhps/nW1XgJsQuw1zzrBpTjT9TAsHaGfDbmfYvpCjMEcmGiKZQTw4Ub7z6igW2VIGpk3L8oz5e0l1UZBPxpgCild3+FQG/TEF8RPHMKr8a+spTdUBhE/mRhNF72DweFYlhAs1dQ1rYsOzDqgJqAlDvIBGDPu9Klt6JltT1FAONMG4Uwzwtmw1juAusRgUrl1dtjEHyPgsTc/xh8Ew1PC0KYy/CYMJqfSapLpqMdpQxc9jjKsHwVcyhGItA/DwthuXLnvgWFRX6PwWeznqH2wzLAC43yUQpAETwhn6uPuKRt2FPb+wqquKMLaVhJ+Hs1Ipv1XQLjTZzXEfQjolRItS6TL3PdTSPzZaUiyF0ktCmEQjpuog0939qbDGg6yvfXoSUSEB3fcPZHueXz47cV6Pfh41dGbZERiI3E/+6GYrFJ6tCTw8NAMEmJTTpazYEYiJmA4yqFTDKY3t4tnWBsATyjXjwq3CS8dHyRnhuN6AWeAFQAAIABJREFUsHqKZc6ZadEuTNYXOsTppBj88i00cbaAGHt3Jxv+0uTKAOqsjh1Rx8JgbjEP0RWANE0d7DM4pXCL6GiAFF9KG60ILP2bVAuCWNYxGh13D3upTJuIQK6R0un4BKdn9jsbDHZ5MKWEM7msl2gOpSO11dlw/8+nBWyT/hrCuT14YGAwBeYhfywDVpeukFBqhWPU239icE+aPR3d4ZbpcS6UDiIaDyJqvDTpenDH4BNiW9Y9Hqif3PDKVL3xrbYt3sNoeB5M9SYMjzZH21tsFis6FSY9RPX9SByPNpJ+znHeydG8oPQgcemXOD5satxBNPO3CvJX1lXt3EWS5zrRFzGYlHYXbjj8FVLxg2CssVP9okVteGS6Y2iDWoPDHjMUYYhOZEV6k5jeICDWbGnre5YeATFGrlFTktxkwbjDl+h/xJeBMZb7TqBXumBm042ifToGSwFzCsCu8TdA4qOaS1HHEaXo6zhqWQAe/yrbDYpI6TgF+VsZsJq2wmIyIQlXDu7zdnu7Q/uxsr1rHs2+o/XoATwVBX32ARM13G0UNBFLaw7zQNuGYNAVWiltYNioqUkYCmzCMPdRElLGBesyb0YlKveCL/nqAiROIDnTPMdJ8OJBPotQVpE9e5xpnqPU2TLe00+A49zhbR+7NR9cwvA2+r6ZTIunC7ss1pE2sqVWz0BkjZE5BstScozBrY1QId+5RU4hVi2zKUaOCYzhp6zekf8KbZ/iGzAY09r/5uSifcJ5x2Qj0TyPLYHPs0finIJ+kkPfh1ZjSRW0Hp0kir4wiBsUib8lCf5gBgy1Am39amo8qBzlyDR0WI3oJUFBEwvnjQNxH3goDKYnmIkeLGH4LKA+GaxJ6XgsSniHDGHY0NQUwXCgixbu1UJbupi5ZMatuFL0rqnhGzQfWUFpRUHPYXi37pscLT7VKfp66813m1uZZWjs/OhIjhSG+U569EmNifphxrAdYrBIZEN9BYl682YKq+cc510Psxw6vE98UQcZZsUhBZADepN6v0XQDH3ZTrJeTBVMTTagpw06aZXuPlpT0E1aJdHXqLHIpb8Y6a8u+hqUDbLhv6eC7v5WIDWejOVQYFiP6HMGw6mCHl1JnYh+MJ5EAQaf1d/jWj1g+NGI5JH+gojwbAqwVu4dVpgMeki7jSUMk5SmkGnT4wxZzUJ5AqJ+XOLKJP9zYIygbcnwWdYOegLDu1ny9GiZY4bGs+Sw/AlcugrD94lKUG579HWpsKmfwCOxXhp4rriVYTKTdp/svo7Bsxw6sPCJwJg+gMQsvlaFkVgWgFcuklhkvVOTDTIpL+nuXj1i4akp6DAJfrZnGfQdzPNDoW+AwSRtNwB7dxjoC8ZH+Wf6oAq6IakEmtZ/JKcySKx9gJ8sBNK9b5ik53NHvIbB9HgeaucjIW4HAD2acvGo/qZtwe0yf/YKSCOloUr7Eeh6qA46mTovLdJfGq5hkzuIddob857YyXmYP5wQU1Du9TcS/yNf5K+XYDibAJjd25R0qxcewDTRDV+09w717XQdhvdqvTtdKOFtHW9BYrqSGibTIMS1wsIXNjpsrz1fKbXaaxHKL4iSw3obr+zr0PutFk9LdPQHsZrDcUtMnn6LXs40z4EOC0Z1ZZ2thFjaVXxnSfCzabhS9BUPyJHPLg8GJBKHdytxL/hDNeDpBRjejwfWHhT0o3lwPJkOYCZ6PsDgx3MAqsXgYwfQ85hZiOMraF1OR5oNy0VLO+ouhO7/aXbQM1gi4po1KyTvwa5oFFSLzRbS85yGs9iYNc5eUhtisJbU3kmms9apvEHrG0MaLoGy2uqqHjFu3jmfu+eMFtDL2hk4XtG9Ar1BczC8Ax+2iuGLNiwE65xvjdX5I/pYjOOE+QARQKD8MBGnp9Mc1B0cixzXvS4o9jR2+2NFLwuIpVFJNUYcps2XOJA6x0lwA2DFJ1NY3zXWVz33HQQyCc9n/a+6fbv/aV7uwz6Un6sB06yHQWaYioIWRhyGoKYH6Hmmrs8HM+jxNFw0PRrbJc2wzpIw+Kmh9wRjgbISQY9c+yUYNluSAaRvgGFQNx06byW+I9k75yU2+/fBeILB3w3GGC7jjJ31oSzwK0rUlfwvgbGCYZ9F8WRI+xSJsQDj7o5rqoaMnaHrN2D43Xq1r4NhRGsRmJ5RCc8ULF/Cj9dbZGAGw5wcxO6MaX0X8GXjTOQ8g14gtN0gI3UGuRlHZNt/zexerYKOdVjK68r0+1JjoU/Z8yPEYEVKu39JibDoj7UheVL0lPuyrIAqGRNTL/cyt9xXlH7pmP77AD3HDe15OmOdIPZQaudW/T1YbYyib5AHN9EURu7bxLVgOBgmrZQOYDhUSlOIzt2XZAnDFHKZrb4FYekXqan9OHFTFdD+QVNmO3ffdH6FN8H4krE2x7XJOcTqGc/yhcRcPBI/XfXWoH7B/d5nLVZgP3/9FRiMUk1qWR7M4Wp2Rm8GiZGHh8xdK6NAPf85IVpVu8uUHQ+dRbMn8MzL6fIygtvp2dPGKgleYKRE6DwV9vRyvDIIhhFtZNjQiB5ZUkgAhk6Ctf1kYLIBa/UscJf82EEKkmCveQ4bgsnCcNNbnW2+DWUfBms9+kJacxjW4fcDMDmfgS6EFu6UZlJvn33Uy6UH8wwCPxjP01zL3IcPVH42DvtIiM924oOL7nqrDsYAEx04/eRzMDsfsmuQJaUF8dgnKHIIw6PXWZh1uNxr1KAHeisY1iLp7J4YdVZCQjAp5x8kHiB9GBzpwSxK/OWZbeO+KcD+BCrw3J6TtQX/XnptvnuftTutgT2IRWrM1hCSYzfuhmS80jzDzPYbCeazxioCZ7zBGZwg+GXY+zJ8RXBChIph5srSyOG02kdhg2Agg+SMXf5tMjN3/itm2B8kHkm7RqnsIBH0ztLTyemRd8OAOzi8Icb6xCgdFNiv7KAliSOfZ9X1q/ytVFm3lQud23NkgBXJoU1Z99RePWz7ry76Hvfugb4wvb+ecNbzB4VQy35Bf4eCdtrd7g4tmgYxrCqVhU7rPjoTM4PBD8ZT3XiPfQj8fNKxy5HdPjoXffhQgukEY+I2QphxoO/pvtVhmG2DyjDJ6ut4OBiGyo7aFsgGY1ei0WuJGIbJZ3z2lmtBF6Rttdo4G0QeIMOmQMOw9vCLmG2zBf2LpNHtHZHhE4zcTn8hZgBcOj6McXH49NjN2Pr7Wx+JCQwH0Mtmi/6it7Q/Fro91cIJBbqTRCbwEACtzxrDvI1d/s1RRp7JiywYw8EnIpp9A319Q47HsPEAMQudEc6cnJ4GwvDImCucPSMdIDSCFQZBTxIMJFc9BYfOeslBL5HTMyeEs3N+Jtlx5Jlnjb5HXtvyYIG+x/Yl4QxyA4AZ2hsL+AsA7JIGkn3A/Q7J4h7YuDpmMQCtk6N9z4eYR/g8AWo0+z4G1azzYDq6hE+B1cFwoyEugZke6s7aiEdIQRYZr0qOYBhy+I9uWMIw6CSYSUQahmVt2NWMKZrlTYteKaMOE6Arue4Ow6Qd+8jwFCDZ0e247rGMQEaqK2v/yVwpqKxa/lA0oAYHEZ4qnZ/ohx2VkXQfA8ZwH8sg5j1DKvyB2UpzRx4MeUOdkR3TVBiOK8Z8H3aHN/dxQcZqnQ6s/igQ6cDCg01JQ99/OJwzVdjVYecV1lQw7DHeIPeUXp6w1payjohffyYuvV7Jm5eiKr8igVxqYDJfYWAznM+GSYsVmUyOcLYCZpMWq74jJb+ihrty8JEo+iq2WeEuDXBVteH+OWh3aPmD/ysiLOH5PO7vtv21GWT1288x26g9OO+6DyIceTC1wYTAo3Elz9Hs22q6Jg8+wJgY/AAI1Cc+nIlvo0wfLhseMNwSQeYzP+5fYkdl3dogGqF3tkCYhQmtVZweeagOXUHMGBe2ErMw83LFYluCtJ72hv1eCsoGeaskZhQcZEWq68Omw6k6zT7AduSkg5BR78iem/pYIolcgsRQdl5xnwyuqUF8lsxX5NCWt4RLyCBxaOAHRQJgzjJUuFQSQWI6c0N02t34sNN8dwm9KUbuVXbDg+jvyOJfzA9LUMfMt1l8a+EnBr9+okTPTAgz4DkMmxowuWSXhPj5mflviGz4qTNdYcHRDZybokpmwGPiQmv/fWjOWWqeJWDntfM/I8LyN33nA6V1SvL+yU2BhQcz6Cz9Hlw0GE9qfxq7EXD8Ih5o0Gvz4OMLwrM5XXboPb8X3oXh442cMNzAoUu0uoO0XHhguiUSCdn5EKFQV9PUPOocyp9afvqBOgyU0ON6gBy7Tpn7MCxZ7QjqUhhuEzqGub98Ib1esew3iw9zjMxzLxTCsOKKxfnL9xhgnv4w431mlYXLFPQShqe6aEt4soOlpPDpBU0WmTgGs12KOCWuMX8W4u6dKTN8FXqpJ1KLDyr7EBakdD4oMEvKLRdNWvPsZxk5wjmA4bD3l3z77/CbfIaEcwTDT6+L1kVfkmKr8z81yfwwhDPG22StM2f3lYXKiV+fAUc3/UFhsp6WdG6BnVp24jGhpb+nIhp0ZL30AIH4JC/AIg8+Wo96HnxIrp6yxHugbIPe85sSMJzWho/sCk20dezAxMOzi7t75oka8LmvQuJem7D14y5oaqKfZIKimZbWnTpIIzHErFTSsxKDwauJetkk0JS3YAWS7WQHDWxs2moWz7r8QmySlOmzWBaGWObuaVuw/7SX2u++NIF43c3F7oxYjuTQWnAre1XhMmNwmt6FiiTTrBJQr9FBprQwArhl3E9504OsUHbrIPFLe4J9pVXeyJWlriolomMJm9czU+ZvFemwkOqwfOtRXPeFq/tms4HpoZHV8M8Z+rLsd8cYAEzC/UqroOljpq2fU0GTtYvqwKDqeo9GL5OFjCGpkemvR+WDskajYACAAH6Iui+ABxyagiX0qscWhukck4iW/ja1Uc+G9ddqWesxtXCUGq0miMZB5HVNqseoy/rUMFRv7GNNhZha4b2hut1C3aUMkRjKya80n6wLqAbR3WGbWT5LJJPDdYyvvfplmImvAu3UeMhzjLwoXevxsazcl8bZdrmg/qD6Vcp99mR/12a6Q2N7wAM7VFEhAePmqoI91NUbONkhcBJWPKesXAY8M4e1Rkx6csyk1ewg1uBwokUa6BsrtBMw9mCP5LB5Nulk2HYLBxXrXLHs+4nVYjNZmmBl74y1s9VUPQexVhi9QxaJJb3s4NnKrzZgWLtwkEuOlbHzQ7f5PiiQWbHSRZMmsRUFPVqBAfrsPIZPqKBJt1gYKyh2+dsD9BTSVCd1JpH+8lOjMogBgAlHl/C4hT+Jug5ruGzxDRim7pV5sNnHYXu+Oyr6p6F18z7rHLWarDjq/bJ4jDYAVWfM0gZjaJ65o4+bnqTq76PS3sDYStK9Lg4OR5PG4iaVs6OdA+iNwHjAaxs6N7xLSUy0kJ3jEC1EGnpJgOIoeTTUbx/CCak3wFgs9kSLUvv/du61ckuRLpdDVp3SXshMOLBRD147YamVfiwgguuRzXU9iKW5GxT0hBTdEUBlYLzSV18r7mK6j8wjFwJm30y8opfhHDOivBkOszFDYrdqGVnvjHyWJV5f9J2ooCP0pQiGH37KgqvdKv1zlPKaKQsPKDA2FLReun2Mgf5cBqxgWOpMRao0bqcOg8/K69Pc24nOoi8ZuO2kNHCiIzqynlNY6AGT3U5huNeJO6BSF2Q18lnsdiAJi1z2uI9zQx0OBpKfSSELR0nmvlhn9jRw959st3FuXS92wDDJgUsC8OTo8j7pra3jgZ6Lsh54LrYMDO6sPUl1tLSNkjPS2w4g1gm3Ggk9/DUd2B8vNFCzvyMiu8UObO9dU9rWn02unM94J/FC0hqt66xMqbvV2JVyXSwYMKk7zRlr0Fq2hbzWa/lqyc5FGp8UexLJtNqiW36nGOxlTZdfaK9UvKdknuTBaTmZ4mm7PvX3jIXxrnJfSnwQtxiaGjubYjDCoQvTSUeBpUYkfs6bkQjBDspkA6F7hhBhxSlvmDETkVF9GyRW6Pt3VNCkBxPogqcaVCJHGwg3iyEDfqATy20dBX7SKdcC8bEFhFYP5kZBKxg+EbNjrYLhh4HhAb1gnDfrlvvCJMSHvlZMgz5vydzn/LQbuc6DqQ1dPGnqvljhhqO91tqLyg0uRXdph+0GWX3Fw1o01YlxyDmr3KcS65QSOgu1mJoNQjhTaP9cXrPfgB7uC3l8HkONzrPF/hwbsWWgrzA/E31DO4cdpWFdWTZXcVsaIVAoLhLb9a0glW7GRDQSInqCbZaai50i4i1wxHLESGvo8snZzgvF5hsquUk4ZM7J8IQDT2brTkTL+Z+krC+fzot02WHoaGSWGqGTs/rMD9QMgdk0GmkLaGPvPBJiZ83hYFhYdqiBvioDDjLasBhMLseVemmyfcDQvhyzVoJfC8DW1UG13UzX7K53CcZx6LwZPk6UFeh7bumV4AkMs4Nh+GxYFHqb/IobBiv5FTVx1vjPVjOm/nSBkTzgBB1UWHw+PGYsSDBuDUeAhmEJsSDzQuLHNgqRPIwgmieHgFjD7JoH0DAcYbYZwYuGmjyEyCv2m6PjU1tenOcgPEX2ZruO9Yl5FsnUn8cNOTmIKbbH/lZDWO0kakj6BhagvKOFnntxxH6NOzVRCr04KPOCiCTBa+cN67UUvlCG9LHaa27x4VJk7Mi297wwg2aqOSPtCecNsL9KL0dCOatwDjXPJBTOMLw0+ZquGNJAad1XqqV0i1Hvis6gNx/ra7qViEhnxsoVy1x4f2sakobhkz+UlTJrIEhy1gCflV0GAa3W+3QWSXy6Q/csacDwc6R54BUMj+JuS4Ih6sedT0ZfY7GQPQ8wGPTGCavtDtDYS1ZJbR8/0aVZzCSxtnlajjSXh9NHB1qVIwp0H4VI7qrlvgZiEpKwcVhZvB++n41KBaupf2wcGmyiLOYDMk1G/w7WVh1fPWDVK+9HEJrXmr6QXiWIxi8Mh1Rx2EHdsD4rcucpV6F2uFFirvxO2sn9J8wlmcmkOawm2gxSZmNTdfRqSyBcColo4PIL+eNjz3zDy4Mp8K6yrCYot4S0+8RMcvpCykB7kQH781/Qy3Y3l+ySk0C7cq9mpBMYHkltRDjHdhkKXwWrPCGc1fQFCeFyH6tp+IZRSJ+rARsYhjOLEJIUIW4xTTXaB+lw5Di/zPbggfb9D966qXro6Os+Mh4Dw6RgmAztrLhoEgyzwdqTc268V0drAatNioWe+7JQBDVMYnHbURnkyKigi3Q8LJVYz4UQD0YXq4DeBjascVQ+URO/oxW2j6+HWkFGkBknxGS2Y8jFCNNDzfE1ejm3c6tC26ejr0nGHRuy/9fsYM4QnVkwiigWSMVJhvuWax9bdDQozuGCNHciXXb3ryVRHPHb3o7DNfY4KjjXUWenHXh3IOu7hR914NP6WX0XaUGXkr7eoL6LOPeNWGVX4ISTXHkiGqE+K3S8EgVgGPkVOS30ccBn2JtEClwlBotU1aOs2Ie0IMs4csian+9EkqZX4ofxaeb5e2rArRgotDPdMZkki9c55NZuRKTkSnLKjnvAEoNpB4Ylfe2gV2unNcPcofeAt3PV1ZGy51ghBd2AjHkwnCSIa5XUaiMXk9EqRDyFxSMJ5jFjXNx4WTWEsRwiMeCZmVxCyRHqu4yQ51hIWfrrctmm0AqOhr2jpYfVwBSkwp2ClrdxdqkIh68YEs7BnG8QO3i8B8OeXqZMBR1XGa0caTUyL4AQWlPQF1XQmzzw3ENjUwUd2EhdFB5HiBjsEzQ9T41EKOMkMBkagXjUYEAvD5Q1fHUAxikMyzJwqM+ijHBWDb4IIHb4/apZC7nmGaP8LzuRiDRIS+0VcFV58btU0FKKRWSGH3ldtCj3PkgJWrvvERqE+gdtYo+A4VM0PGBYi7mozT5q+fTIcc8vWjwwDHO45YRJBc9tYQeRwvZG3vYeGRLMWN4PGf5fdvU4jYLzfNRsVyilrCWygwQvrdJ0TNA3fyDATxJ7UAqphousmEWw5UoHiLZngZ2Gl5P32KdXCGTRGd/kpQlsPiJyqG/v/K/2/yMhnDMkRpKfzfEgtl0ktxybKZbZOX6wF0Clr+VgDy5bjd0uHZKBKBrq55t5aDY3yQqeOaYWEl56nMxyQJPD1NSHMhVbBRLoSJCV2nHAG1IOZFUWlXI6oRpKGBV3vcxKZr2aOg7oZQfG5AvDWvPsxnB9lHz+nAiLWOmt5DRZM//O6aKVJOsA5AZso4n0eaqMLAyz0GGdP4Ez2R2ojKa5EUnwIVRgGn3AFMCwznrbPadvIQXhsgg10Fo+RexAnRplU2VrvtOCjobJorTchBRueZBT+MoaPpUo4dZBJIXONiFBDucK6pgNkasqwR6Moc/QbGki5pEHc3hYncqrBYHCpuSF1EIhLfRyUPoFXlyCw70YltkwJz58mbIpngIU20pQ7iOd4KvN1RYkM+119E6ycO2AkdZWGUTLCYY5HLoXygvGSWWaYn47sd3AeksoraIlAJtisJn1qzunBUdNQxpN2h5SVOgD6LWJrNtZei8I0CWnmianebYNSH9xHKFwbSBd5B1dR5DzCWlku9RdFo4qr5zvzqfgmR4tG/YwfDQbQfglNfRFF/vobPhMwQUYM7GF4S68gtC9G2S1EH72DZP4zy7OEgwzJwgqUY0tzdueFTDAearq8HW2DzteM+By44OwbgNJ8uY0sQ45WyVOJidX7ljratUw56a3sHpFwzDrbD4ogauVEGI+GbLyDgq1V+9qQbRL2Nkku74PODnInm1FNOP9gvA4r4lOnSBvSJE9PUs7hHOqgUoJ5+VBKDva7gtNfa+QKq1SGJ5UfxM1lq7yEqmaq8JFgpo+ZIyaaUY4R/vYw+pU2CXBlGS9TOF0zr9CQTeJFUR5stPQYsHdTfpYqVnGmCBoiNUwjN5PIknpNmanrTwVTa3IZ4nEJDcCcopGh8mhAWaJo0b2rOrBQ4XX2WMW0iqvDc6AlpfQFR0hpp2D1DPbByKR3WCS47fg0bf7guTrAAqETvFBpIRoYKou4kqa1oii7Rtny7DC+iyzA2bWt0mf5nIm9gC9sQ4Vtfk6l0q26bnPACZZL3zqPBsImLUJrZBmaQBJYQl2tU9qsAwsunUXUmSKBxD519pbItDEf2M2A3hS9w17nfXII43KOgnu+1Dkh0VSyUzkOGTdjzv+0z5Q0EsTUhqk763iHCjSPMMRzvg07n4yA9YSKwvDYhSfnqvXIVeOFmDhG8EJDAdcNAFi/p2H6uPEzsKtoKI6GPfTglRCtVKuk2LZ6q8s9zZa1Se+Oh8woKu4ZZHhBRhgipqWWRmdqUZ8BAd77JB1uQ+C2rNGZQvSsW2FAXJVo9WV17CATS6R4JBaj1loyy1rfLVctF/KaHxFODPwwsiVuHmJ9wDYpU1EoSM0/IxCh2p5549/oRBBfa03zPxoPnaeZoYV+fB5ogt08X2I3YThMNOdsOuzBUoCwwsK2s8fFLlvYkJJqqZrYU/rm2QmatDRCJLDp8CM6dXIHZR+5aou0jwb1ZVfgOYO6r89A/Z20BaGyThkQfeykvLN7egrYbiZYLRBdTbTPXqIBylNokuYTs0UFBJzh95eKm4rww7ANDRTLg8Oy712S7fK0mkrZ+ljN7IG1qqrN3LOtw7i97lz2PMLj3TCiFLtGZXNDn2Jgrl8+tO2yT3rDDiASXaXMjvC8fJSO6Omd3on7D6z9qGoSLxVZJ2mm9uVVP+tkLeqwMzmYssKY5153zlbTluG1hC7f7a+NpyaaN5x4aCccLasdZx62mSXdLocSZEdR+1wlMgUhrP6rp4sEvo8s4VeS/z8oXnA9hISFLSGYW5twpoxaz6BJG0SudkVSrFVS3DRvbIEfAqlo4RVsoRzB9qBxHTOeDgr061YJB9As8eyPtpJZvknD7FZ7ZYbuTrv5AmsLaYgJyEtJZDdobbrvlaNy+CU6B43AaYZiIKkyIvCvl6XkduzhVc/cYRwdi6fbO1VyTd72p8UCztJhfnylY5ljrzIg8PlBtynkGLq3C8ieaG9xlnx03S4DnNYR30HGfZMCSVS7WCWYnTOMf2bGGvMzTcoF1XxJGUPhFexBCwdRxgaRPt+YjVogRwAkzf6cBP9oO9rcR5MikC2JV6N00ETkSGlVXlPSQdId5JozbPRkdKn4wMqaHM/cJVgA8OdZNYwPHpTGwxLUpplgtvmEKB7HmokFgyLhV60F1RPaSMDOhi3VJhbkbjl04L41Z4S8b8egDEr4oqfENusl6aNsBHyxTiaV2HvUMfwt00Os0YhImOLLMHIWs7rxEjeCyuf1xjp08OyESeP/cEzIOeMQ/ZWVFdpL07waYbEPN8yS4LTCXqGOs5faJF6kh8LodVGCY5KzJ7i5XQfCvOh2OsxzW6TAna0HFmBa7CqWGqwZ2cCkyJnXUwa3kCmpcG7o6jsITY8UXmwTVg1fiMgkHWCIhJixIRzuL+B3uA/6Rsk0B/NgOV1GwiyzBZJOOcwLJwrRndv7xIe0NuJaAGr6sGAVeUHo3Ll8aBB76nxog7DwgY59ZQAT8F1tQVpVVU/hqFbAwB2OVmAdrqT9Vb51iEx0mRXJrJRomzukDx7IftBqd7c+4dNEsXgWclU70gUfRODd1JhrPjqxC8a4T5InuXzxeSFdjp5DHJjCZmYn23ekoTsc1hWmi+8I4SLHlz+WG4CcKg7m1l52OlAbg5HhoWx+TZR1AUEm5vC57uWcI5OZo9wXma9+LsUdDhKbQnDckkO7jMDTkmzmP3eM2AaM4J6enogsd6HoHjmjJQ2YCwblvpyAGMevJRMdzixswrOLWBRqxH6Kc46c6RGmpKKJgcZbQAnZhgee6hDSEZyrpHuFz6zAxVzJ7fdLgYLEdwAvYUyBzdJkWsi5l8Y7k7rDh4wst6e3SfoEdbyjp7ZqczebQeNCRcddD+tkBjhc+OcEtlSx71mAAAM2UlEQVTLIc10p6XfjHB2+eVWoXd98NSPE/P1AVl1DwjZx24z+GyJEAnUfSU42MfT+7yaWqhZtfmWGLNDADaVXYqGUIkycEo4k8t9Xyac/zoFTaT1MySTnGsw3L2hu5ZKdBJ3k2hTysXoTgELryvxGzfoK7ozJSktsVYZn+tJeRkM2wfn7EJIqANFwuMgsVPo6JF7BcMRNzYrnc55XY7X+v38OUUmIK4xi1e2XhYxd23twEIYst296hbqATVcGaihRuE1m685Jtc4Ry1Cb7v65BnEIwi3kNgmYUQRGNhXWRZrgxeFl2r7/ac0dfKigfPz6iWWzbjRafD8Y1kuGjwzD0Tv3X47HC2eIpjJK+W2RhsYlHJgHSoLvTP6NwFRr8maEc7+Tc2z3h3C+d0L4J+UAZOeGkuBM+Uahs8sduANeJgCjhuwkWuZom/PWMUoWS0WNFvgBn3JLRDoTg3Xh79/G9M7ODI/nb4jKKC4dpPvui2K5yTn35TCMGXNtRhUasq4eoSGyX0jfjXNoQPuWmWTPOFp7YWj+69CgZW9eJOOoGsvRDSr8mZbfC6cHPZ1/F1hag7DbvkwaREOk+B0nxkNjg2stac3JcbTFHN1egj24eQt6NR5PYAhu+lPitwZVHB6IcEldljuE/gyupc2OXEAt67XdkUdB8z25rM8iDJWQLvKg/8eAI9+XpkiRKycKf3KwbL9s4IYmHSOke2gyMx2Pquu/ob/Sqim0fJLnmE2yWjvJx77tLcwnoLe6QSHYTTm0bJMbZ3AFBRNviNta5xBToN5pEgzzhkUTsdDzAMPC8aUfWUyg5tCbtaeEvNydr0l3lmTjulznWkGZjAZLxHIeWRO5w+tMVi+3Et3gmAVn5Qh99DXcrk0T0lD5Euyt3QeIuWkawSiYR4cuhohX5FMs2GkALwB+fn5g/J94v9kzME7qeUErqIpYDvr7OAEpow0Wasgt2XFbwdnInnp+MTyp4RLEEqKvn9OhOXMd2AQVqchQuTsf9gjze3Qy2LQwph42O5lTIhxVzhUG1QTlzIL0CWhpTLTbUd3lNwSAjPs5EVxpxnOTSYbJrIWE2p1DsVqcXI/1lc9Ty5/pkijQrGhhAbscPaAaXvhCSBxfFh/mTBNWbeMENZb2JT8UhBFxifzDsO8xGn/jJdcoKd/v4G+gV3lisc26BXvv9G/FKL4tLEqZaRpnSXbmxXyMgPSH0cIzIgph3zJhvQKSQdP0fpsQ0Y6R6loJseSkd46wppAtvvDVapmWWxEA05/hBcuzt+ZAZPhnIXSVad5LD9E8wkZhplV1js4Z0Fliy0t0SSyIixxE+aY45VGsWMf2NnvDnQbMMf7aNko93RZ/DQGORzrPUT6BnfvRnqHVrrRePwOfJ69cWTwKs9i+7HzDmhtsKHkfivL42CB04ZkDnJ3JOuD2bOiJJvn/713oWGngrUURW+AHFa/rzka2cJ7iHN7SfksTZ/9wFfJ/RK247s8LYw/01v8xWdh9dI07zHLLW/gKy4r1hrsqzur9Do68sZxMDty/iz/QeHKN/LbM+AJGEPdfj1N3ZdLEJmPbUgyWW+zyoKBZ/Hbgq7FgMlVZ1oWy+w4astCuy0GJrnXgkmz4gGOssIYYVOsAD+6SzGxARVapoOwIwF4457N2LxZprpfldNPXy7PgJOTxYUmH16B3ZpA1tDBqyR0ucN7L3xsvAZWZ5ClYki/gcUnuLkCiLZjnpgiBk5M390scQwV4PHRePK72DuBnHvB7AxpawDlhCYyWOWpdY48ZZxCO3Z2dFqwOCkPGWnyybRbaO7XxSm0X/0OxP18BozwOmK35pvQ1KSNEmDhQ2S9Lg8m2MSRzVWFQNwU5sEdxg0LbVhll1hr8o9hprXD1ISEZQQoWBzE5CDifAvZwp3jaTxzLS5cgrjxirMjbM4kwEXCFivY25m+Pc+LdtTDtL00+Y7Aeu2P9RXNG99/3pW1O3wxMi5ZUq8T7ffW8mfnCLuIjvVnNR8ZuZNP2ysSqzGU0ZtNOGpMVwAzgV6UryP0g+Xo1zLJhnMaAH4JuMVq/D0A3iWlNaRNaOpMfhqS0mILSRdMmeX6JS70SiCEZ91iJNYSsJMD4IhdQb0iKusSZbN0wisYtJ32DdC6YcNkf8O3APiF4+xkkGZ33jxD3DoOXX/vNCkYfyL7jRdvl86Co/x4J5ffKXlucwLYOjKWvzJ6y3G2yADc+KgvrWYuQQtWakPQmmaPtdbBU5aV8ogh978TXqstFh87b/x4/lgGPLuAwp+F99TdMQsSwitFShtuFqtbVqwAie6eiHZopUFMx92wTMsRpqchwmIJFXuUKSZ3mPzz4fhw07bXbYBYSYP2D+7zY7wAVZdebqlhBv3QcN1XuH1p3wFj4NarrJLga96eWJzASqpzaZbO3kIHOX1EO9cQb6N+ZJ+p/jQXKO64vvFyiTA1g+QV08QrCuufpKCxoqCzxFjWfbF7mSvhVVbcTS9ngFc0o00+OcUjTG7HmCmkVkALXt+OcOXa383b+MIR9oDt1s+eb47vvAp+uHiNYmPv7R/yB5LgjSXcDk7g9qtcSdPxruPjxintFLMvJcRvgGe8+3vUC/4Nrnvsz/vvZWPuPeMt8oVl1lYUdIBbbDOdVm3cmIQKMk1Nll7GeikJXMSViSSUVxlr+ERe02S4gppvutNvdqrv6PnflQWCb14y904Ad37oP6Tce/294k2/mzc8EXzrO7v/WltExxf+fPjSPutv6g7jytvrz50VGO/cTrC7xOWrnyFm38U/SkFPP+K8TXj1q8tbCe/cdhFu4s0LC7dSPazS9NeW+i8nJG+Bz3cysRe7Zj9GAv9YtvmLMewLDgv87vOnrzl/fNXZXlWr3T0TfMX3xT/md/I7AJjztHKWJ/6y2yi+5Am//B6PD/3EKv5GoH4cP/oKwb0zwb/1KX0SgIHTn6qioqKioqJCoT6A+hQqKioqKio+HI/6CCoqKioqKgqAKyoqKioqCoArKioqKioqCoArKioqKioKgCsqKioqKioKgCsqKioqKgqAKyoqKioqKgqAKyoqKioqCoArKioqKioqCoArKioqKioKgCsqKioqKgqAKyoqKioqKgqAKyoqKioqCoArKioqKioqCoArKioqKioKgCsqKioqKioKgCsqKioqKgqAKyoqKioqKgqAKyoqKioqCoArKioqKioKgCsqKioqKioKgCsqKioqKgqAKyoqKioqKgqAKyoqKioqCoArKioqKioqCoArKioqKioKgCsqKioqKioKgCsqKioqKgqAKyoqKioqCoArKioqKioqCoArKioqKioKgCsqKioqKioKgCsqKioqKgqAKyoqKioqKgqAKyoqKioqCoArKioqKioqCoArKioqKioKgCsqKioqKgqAKyoqKioqKgqAKyoqKioqCoArKioqKioqCoArKioqKioKgCsqKioqKioKgCsqKioqKgqAKyoqKioqKgqAKyoqKioqCoArKioqKioKgCsqKioqKioKgCsqKioqKgqAKyoqKioqKgqAKyoqKioqCoArKioqKioqCoArKioqKioKgCsqKioqKioKgCsqKioqKgqAKyoqKioqCoArKioqKioqCoArKioqKioKgCsqKioqKioKgCsqKioqKgqAKyoqKioqKgqAKyoqKioqCoArKioqKioqCoArKioqKioKgCsqKioqKgqAKyoqKioqKgqAKyoqKioqCoArKioqKioq3hz/+dVnz8z1FVZUVFT8mwGgAPg747/+53+JiJmI0B4c2Iz24PymmIjGX93+hOOvbbdk/7Yx3n/8lYjz/YmI8/2JiIkJ7UGyP0H81e1PGIsTzveXn4/ff/55yo8OxOcnAEb/NMBEBDCdL8cAicdmHxJHOPdpRz4eh0c+Hpsjn/tHRz7310f+9ecv/qq2HN+j31NvV2cVbe/vxe7pto93kWz35/n7z5/6tzb+8/wqxdU69iTzXPGlj/3bBbd5QIjn7hwQ+mTEHSw6oHt344DjhjN7d8sDmne3PCCI6PHf//fb8aso6IqKioqKigLgioqKioqKAuCKioqKioqKAuCKioqKiooC4IqKioqKiooC4IqKioqKigLgioqKioqKigLgioqKioqKnxf8q51EygmroqKi4p+NcsKqL6CioqKiohKwy1EUdEVFRUVFRQFwRUVFRUVFAXBFRUVFRUXFFwVXDbWioqKioqIy4IqKioqKin8ifrcKuqvgKo+vqKio+NfigIDfe/9//OqPHsDx0VdDcEVFRcU/iL6/Ov4CBV3pb0VFRcW/Fn/gzl814IqKioqKigLgioqKioqKAuCKioqKioqKAuCKioqKiooC4J8UJYGuqKioqPh18Yv7gAFUH3BFRUVFxS+N/wfNXrVxT615hAAAAABJRU5ErkJggg=='>"
      ],
      "text/plain": [
       "<IPython.core.display.HTML object>"
      ]
     },
     "execution_count": 66,
     "metadata": {},
     "output_type": "execute_result"
    }
   ],
   "source": [
    "figTemp = glucifer.Figure()\n",
    "figTemp.append( glucifer.objects.Surface(mesh, temperatureField))\n",
    "figTemp.show()"
   ]
  },
  {
   "cell_type": "code",
   "execution_count": null,
   "metadata": {
    "collapsed": false
   },
   "outputs": [],
   "source": [
    "figStrainRate = glucifer.Figure()\n",
    "figStrainRate.append( glucifer.objects.Surface(elementMesh, strainRate_2ndInvariant, logScale=True))\n",
    "figStrainRate.show()\n",
    "#figStrainRate.save_database('test.gldb')\n"
   ]
  },
  {
   "cell_type": "code",
   "execution_count": null,
   "metadata": {
    "collapsed": false
   },
   "outputs": [],
   "source": [
    "figVelocityMag = glucifer.Figure()\n",
    "figVelocityMag.append( glucifer.objects.Surface(elementMesh, temperatureField))\n",
    "figVelocityMag.append( glucifer.objects.VectorArrows(elementMesh,velocityField, arrowHead=0.2, scaling=0.2))\n",
    "figVelocityMag.show()"
   ]
  },
  {
   "cell_type": "code",
   "execution_count": null,
   "metadata": {
    "collapsed": false
   },
   "outputs": [],
   "source": [
    "machine_time = (time.clock()-start)\n",
    "print(\"total time is: \" + str(machine_time))"
   ]
  },
  {
   "cell_type": "code",
   "execution_count": null,
   "metadata": {
    "collapsed": false
   },
   "outputs": [],
   "source": [
    "figDb.save_database('test.gldb')"
   ]
  },
  {
   "cell_type": "code",
   "execution_count": null,
   "metadata": {
    "collapsed": false
   },
   "outputs": [],
   "source": [
    "velocityField.evaluate(IWalls)[:,1].max()"
   ]
  },
  {
   "cell_type": "code",
   "execution_count": null,
   "metadata": {
    "collapsed": false
   },
   "outputs": [],
   "source": [
    "velocityField.evaluate(TWalls)[:,0].max()"
   ]
  },
  {
   "cell_type": "code",
   "execution_count": null,
   "metadata": {
    "collapsed": false
   },
   "outputs": [],
   "source": [
    "solver.options.A11.list()"
   ]
  },
  {
   "cell_type": "code",
   "execution_count": null,
   "metadata": {
    "collapsed": false
   },
   "outputs": [],
   "source": [
    "10**(-6.5)"
   ]
  },
  {
   "cell_type": "code",
   "execution_count": null,
   "metadata": {
    "collapsed": false
   },
   "outputs": [],
   "source": [
    "varlist[0]"
   ]
  },
  {
   "cell_type": "code",
   "execution_count": null,
   "metadata": {
    "collapsed": false
   },
   "outputs": [],
   "source": [
    "varb = varlist[ix]\n",
    "varb.save(os.path.join(checkpointPath,varnames[ix] + \".h5\"))"
   ]
  },
  {
   "cell_type": "code",
   "execution_count": null,
   "metadata": {
    "collapsed": false
   },
   "outputs": [],
   "source": [
    "checkpointPath"
   ]
  },
  {
   "cell_type": "code",
   "execution_count": null,
   "metadata": {
    "collapsed": false
   },
   "outputs": [],
   "source": [
    "checkpointPath"
   ]
  },
  {
   "cell_type": "code",
   "execution_count": null,
   "metadata": {
    "collapsed": false
   },
   "outputs": [],
   "source": [
    "step = 250\n",
    "path = checkpointPath + str(step) \n",
    "varb.save(os.path.join(path,varnames[ix] + \".h5\"))\n"
   ]
  },
  {
   "cell_type": "code",
   "execution_count": null,
   "metadata": {
    "collapsed": false
   },
   "outputs": [],
   "source": [
    "if step % checkpoint_every == 0:\n",
    "    if uw.rank() == 0:\n",
    "        checkpoint1(step, checkpointPath,f_o, metric_output)           \n",
    "    checkpoint2(step, checkpointPath, gSwarm, f_o, varlist = varlist, varnames = varnames)\n",
    "    f_o = open(os.path.join(outputPath, outputFile), 'a') #is this line supposed to be here?"
   ]
  },
  {
   "cell_type": "code",
   "execution_count": null,
   "metadata": {
    "collapsed": true
   },
   "outputs": [],
   "source": []
  }
 ],
 "metadata": {
  "kernelspec": {
   "display_name": "Python 2",
   "language": "python",
   "name": "python2"
  },
  "language_info": {
   "codemirror_mode": {
    "name": "ipython",
    "version": 2
   },
   "file_extension": ".py",
   "mimetype": "text/x-python",
   "name": "python",
   "nbconvert_exporter": "python",
   "pygments_lexer": "ipython2",
   "version": "2.7.11"
  }
 },
 "nbformat": 4,
 "nbformat_minor": 0
}
