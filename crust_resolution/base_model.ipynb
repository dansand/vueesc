{
 "cells": [
  {
   "cell_type": "markdown",
   "metadata": {
    "collapsed": true
   },
   "source": [
    "\n",
    "Viscoplastic thermal convection in a 2-D square box\n",
    "=======\n",
    "\n",
    "Benchmarks from Tosi et al. 2015\n",
    "--------\n",
    "\n"
   ]
  },
  {
   "cell_type": "markdown",
   "metadata": {
    "collapsed": true
   },
   "source": [
    "This notebook generates models from the <a name=\"ref-1\"/>[(Tosi et al., 2015)](#cite-tosi2015community) in Underworld2. The Underworld2 results are compared to the model run on Fenics. Input files for the Fenics models were provided by Petra Maierova.\n",
    "\n",
    "This example uses the RT PIC solver with classic and nearest neighbour\n",
    "\n",
    "\n",
    "References\n",
    "====\n",
    "\n",
    "<a name=\"cite-tosi2015community\"/><sup>[^](#ref-1) </sup>Tosi, Nicola and Stein, Claudia and Noack, Lena and H&uuml;ttig, Christian and Maierov&aacute;, Petra and Samuel, Henri and Davies, DR and Wilson, CR and Kramer, SC and Thieulot, Cedric and others. 2015. _A community benchmark for viscoplastic thermal convection in a 2-D square box_.\n",
    "\n"
   ]
  },
  {
   "cell_type": "markdown",
   "metadata": {},
   "source": [
    "Load python functions needed for underworld. Some additional python functions from os, math and numpy used later on."
   ]
  },
  {
   "cell_type": "code",
   "execution_count": 2,
   "metadata": {
    "collapsed": false
   },
   "outputs": [],
   "source": [
    "#!pip install natsort\n",
    "#!pip install networkx"
   ]
  },
  {
   "cell_type": "code",
   "execution_count": 3,
   "metadata": {
    "collapsed": false
   },
   "outputs": [],
   "source": [
    "import networkx as nx\n",
    "import underworld as uw\n",
    "import math\n",
    "from underworld import function as fn\n",
    "import glucifer\n",
    "#import matplotlib.pyplot as pyplot\n",
    "import time\n",
    "import numpy as np\n",
    "import os\n",
    "import sys\n",
    "import natsort\n",
    "import shutil\n",
    "from easydict import EasyDict as edict\n",
    "import slippy2 as sp\n",
    "\n",
    "\n",
    "\n",
    "from mpi4py import MPI\n",
    "comm = MPI.COMM_WORLD\n",
    "rank = comm.Get_rank()"
   ]
  },
  {
   "cell_type": "code",
   "execution_count": 4,
   "metadata": {
    "collapsed": false
   },
   "outputs": [
    {
     "name": "stdout",
     "output_type": "stream",
     "text": [
      "/Users/dansandiford/Documents/programming/earthsci_code/python/vueesc/crust_resolution\r\n",
      "\u001b[1m\u001b[34m8100\u001b[m\u001b[m              base_model.ipynb  raijin_single.pbs \u001b[1m\u001b[34msaved_models\u001b[m\u001b[m\r\n",
      "R2.py             base_model.py     \u001b[1m\u001b[34mresults\u001b[m\u001b[m           test.gldb\r\n"
     ]
    }
   ],
   "source": [
    "#Display working directory info if in nb mode\n",
    "if (len(sys.argv) > 1):\n",
    "    if (sys.argv[1] == '-f'):\n",
    "        !pwd && ls"
   ]
  },
  {
   "cell_type": "code",
   "execution_count": 5,
   "metadata": {
    "collapsed": false
   },
   "outputs": [],
   "source": [
    "############\n",
    "#Model name.  \n",
    "############\n",
    "Model = \"R\"\n",
    "ModNum = 5\n",
    "\n",
    "if len(sys.argv) == 1:\n",
    "    ModIt = \"Base\"\n",
    "elif sys.argv[1] == '-f':\n",
    "    ModIt = \"Base\"\n",
    "else:\n",
    "    ModIt = str(sys.argv[1])\n"
   ]
  },
  {
   "cell_type": "code",
   "execution_count": 6,
   "metadata": {
    "collapsed": true
   },
   "outputs": [],
   "source": [
    "###########\n",
    "#Standard output directory setup\n",
    "###########\n",
    "\n",
    "\n",
    "outputPath = \"results\" + \"/\" +  str(Model) + \"/\" + str(ModNum) + \"/\" + str(ModIt) + \"/\"\n",
    "imagePath = outputPath + 'images/'\n",
    "filePath = outputPath + 'files/'\n",
    "checkpointPath = outputPath + 'checkpoint/'\n",
    "dbPath = outputPath + 'gldbs/'\n",
    "outputFile = 'results_model' + Model + '_' + str(ModNum) + '_' + str(ModIt) + '.dat'\n",
    "\n",
    "if uw.rank()==0:\n",
    "    # make directories if they don't exist\n",
    "    if not os.path.isdir(outputPath):\n",
    "        os.makedirs(outputPath)\n",
    "    if not os.path.isdir(checkpointPath):\n",
    "        os.makedirs(checkpointPath)\n",
    "    if not os.path.isdir(imagePath):\n",
    "        os.makedirs(imagePath)\n",
    "    if not os.path.isdir(dbPath):\n",
    "        os.makedirs(dbPath)\n",
    "    if not os.path.isdir(filePath):\n",
    "        os.makedirs(filePath)\n",
    "        \n",
    "comm.Barrier() #Barrier here so not procs run the check in the next cell too early "
   ]
  },
  {
   "cell_type": "code",
   "execution_count": 7,
   "metadata": {
    "collapsed": false
   },
   "outputs": [
    {
     "name": "stdout",
     "output_type": "stream",
     "text": [
      "results/R/2/Base/checkpoint/ is empty\n"
     ]
    }
   ],
   "source": [
    "###########\n",
    "#Check if starting from checkpoint\n",
    "###########\n",
    "\n",
    "checkdirs = []\n",
    "for dirpath, dirnames, files in os.walk(checkpointPath):\n",
    "    if files:\n",
    "        print dirpath, 'has files'\n",
    "        checkpointLoad = True\n",
    "        checkdirs.append(dirpath)\n",
    "    if not files:\n",
    "        print dirpath, 'is empty'\n",
    "        checkpointLoad = False\n",
    "        \n",
    "\n",
    "        "
   ]
  },
  {
   "cell_type": "markdown",
   "metadata": {},
   "source": [
    "Set physical constants and parameters, including the Rayleigh number (*RA*). "
   ]
  },
  {
   "cell_type": "code",
   "execution_count": 8,
   "metadata": {
    "collapsed": false
   },
   "outputs": [],
   "source": [
    "###########\n",
    "#Physical parameters\n",
    "###########\n",
    "\n",
    "#The Slippy rheology class will contain dimensional and nondimensional values, linked in a self-consistent way by scaling paramters\n",
    "#lowermantle.nondimensional['cohesion']\n",
    "#Where lowermantle is a material class (generated within a rheology class); and non dimensional is a dictionary\n",
    "\n",
    "#UW naming conventions: \n",
    "#module_name, package_name, ClassName, function_name, method_name, \n",
    "#ExceptionName, propertyName GLOBAL_CONSTANT_NAME, globalVarName, instanceVarName, functionParameterName, localVarName\n",
    "###########\n",
    "\n",
    "\n",
    "newvisc= math.exp(math.log(1e5)*0.53) #A factor that appears because I rescale the reference viscosity, compared to the one used in Tosi et al.\n",
    "#Where 1e5 = ETAT, and 0.53 is the steady state average temp of the system \n",
    "\n",
    "#dimensional parameter dictionary\n",
    "dp = edict({'LS':2890.*1e3,\n",
    "           'rho':3300,\n",
    "           'g':9.81, \n",
    "           'kappa':10**-6,\n",
    "           'alpha':1.25*10**-5, \n",
    "           'deltaT':2500})\n",
    "\n",
    "#non-dimensional parameter dictionary\n",
    "ndp = edict({'RA':1e2*newvisc, \n",
    "              'LS':1., \n",
    "              'etaT':1e5, \n",
    "              'etaY':10., \n",
    "              'eta0':1e-3*newvisc, \n",
    "              'TS':0.,\n",
    "              'TB':1., \n",
    "              'cohesion':7.*newvisc}) #4.6 is the transistion from periodic to stagnant lid.\n",
    "\n",
    "\n",
    "#dimsional values used in this model\n",
    "D = dp.LS\n",
    "g = dp.g\n",
    "rho = dp.rho\n",
    "a = dp.alpha\n",
    "kappa = dp.kappa\n",
    "dT = dp.deltaT\n",
    "\n",
    "#nondimensional values used in this model\n",
    "#RA  = nondim.RA      # Rayleigh number\n",
    "#TS  = nondim.TS          # surface temperature\n",
    "#TB  = nondim.TB           # bottom boundary temperature (melting point)\n",
    "#ETA_T = nondim.etaT\n",
    "#ETA_Y = nondim.etaY\n",
    "#ETA0 = nondim.eta0\n",
    "#YSTRESS = nondim.cohesion\n",
    "\n",
    "#A few paramters defining lengths scales, affects materal transistions etc.\n",
    "MANTLETOCRUST = (18.*1e3)/D #Crust depth\n",
    "CRUSTTOMANTLE = (300.*1e3)/D\n",
    "LITHTOMANTLE = (660.*1e3)/D\n",
    "MANTLETOLITH = (200.*1e3)/D\n",
    "TOPOHEIGHT = (15.*1e3)/D #rock-air topography limits\n",
    "AVGTEMP = 0.53 #Used to define lithosphere\n",
    "\n",
    "\n",
    "\n",
    "#Compositional Rayliegh number of rock-air\n",
    "ETAREF = rho*g*a*dT*((D*1e3)**3)/(ndp.RA*kappa) #equivalent dimesnional reference viscosity\n",
    "RC = (3300*g*(D*1000)**3)/(ETAREF *kappa) #Composisitional Rayleigh number for rock-air buoyancy force\n",
    "COMP_RA_FACT = RC/ndp.RA\n",
    "\n",
    "\n",
    "#Additional dimensionless paramters\n",
    "AIRVISCOSITY = 0.001\n",
    "AIRDENSITY = ndp.RA*COMP_RA_FACT\n",
    "\n"
   ]
  },
  {
   "cell_type": "code",
   "execution_count": 11,
   "metadata": {
    "collapsed": false
   },
   "outputs": [
    {
     "data": {
      "text/plain": [
       "44668.35921509633"
      ]
     },
     "execution_count": 11,
     "metadata": {},
     "output_type": "execute_result"
    }
   ],
   "source": [
    "ndp.RA"
   ]
  },
  {
   "cell_type": "code",
   "execution_count": 8,
   "metadata": {
    "collapsed": false
   },
   "outputs": [],
   "source": [
    "###########\n",
    "#Model setup parameters\n",
    "###########\n",
    "\n",
    "stickyAir = False\n",
    "\n",
    "MINX = -1.\n",
    "MINY = 0.\n",
    "MAXX = 1.0\n",
    "\n",
    "#MAXY = 1.035\n",
    "MAXY = 1.\n",
    "\n",
    "if MINX == 0.:\n",
    "    squareModel = True\n",
    "else: \n",
    "    squareModel = False\n",
    "    \n",
    "    \n",
    "dim = 2          # number of spatial dimensions\n",
    "\n",
    "\n",
    "#MESH STUFF\n",
    "\n",
    "RES = 96\n",
    "\n",
    "\n",
    "\n",
    "#######################To be replaced soon\n",
    "#Physical parameters that can be defined with STDIN,\n",
    "#The == '-f': check is a a hack check to see cover the notebook case\n",
    "\n",
    "\n",
    "if len(sys.argv) == 1:\n",
    "    RES = RES\n",
    "elif sys.argv[1] == '-f':\n",
    "    RES = RES\n",
    "else:\n",
    "    RES = int(sys.argv[1])\n",
    "\n",
    "if MINX == 0.:\n",
    "    Xres = RES\n",
    "else:\n",
    "    Xres = 2*RES\n",
    "\n",
    "Yres = RES\n",
    "\n",
    "\n",
    "periodic = [False,False]\n",
    "elementType = \"Q1/dQ0\"\n",
    "#elementType =\"Q2/DPC1\"\n",
    "\n",
    "refineMesh = True\n",
    "\n",
    "\n",
    "#System/Solver stuff\n",
    "\n",
    "PIC_integration=True\n",
    "ppc = 25"
   ]
  },
  {
   "cell_type": "code",
   "execution_count": 9,
   "metadata": {
    "collapsed": false
   },
   "outputs": [],
   "source": [
    "###########\n",
    "#Model Runtime parameters\n",
    "###########\n",
    "\n",
    "swarm_update = 10\n",
    "swarm_repop = 10\n",
    "files_output = 1e6\n",
    "gldbs_output = 100\n",
    "images_output = 1e6\n",
    "checkpoint_every = 200\n",
    "metric_output = 10\n",
    "sticky_air_temp = 1e6\n",
    "\n",
    "comm.Barrier() #Barrier here so not procs run the check in the next cell too early \n",
    "\n",
    "#assert metric_output <= checkpoint_every, 'Checkpointing should run less or as ofen as metric output'\n",
    "#assert (metric_output >= swarm_update), 'Swarm update is needed before checkpointing'\n",
    "#assert metric_output >= sticky_air_temp, 'Sticky air temp should be updated more frequently that metrics'\n"
   ]
  },
  {
   "cell_type": "code",
   "execution_count": 10,
   "metadata": {
    "collapsed": false
   },
   "outputs": [],
   "source": [
    "###########\n",
    "#Model output parameters\n",
    "###########\n",
    "\n",
    "#Do you want to write hdf5 files - Temp, RMS, viscosity, stress?\n",
    "writeFiles = True\n",
    "loadTemp = True\n",
    "\n",
    "    "
   ]
  },
  {
   "cell_type": "code",
   "execution_count": 11,
   "metadata": {
    "collapsed": false
   },
   "outputs": [],
   "source": [
    "mesh = uw.mesh.FeMesh_Cartesian( elementType = elementType,\n",
    "                                 elementRes  = (Xres, Yres), \n",
    "                                 minCoord    = (MINX,MINY), \n",
    "                                 maxCoord=(MAXX,MAXY), periodic=periodic)\n",
    "\n",
    "\n",
    "\n",
    "velocityField       = uw.mesh.MeshVariable( mesh=mesh,         nodeDofCount=dim )\n",
    "pressureField       = uw.mesh.MeshVariable( mesh=mesh.subMesh, nodeDofCount=1 )\n",
    "temperatureField    = uw.mesh.MeshVariable( mesh=mesh,         nodeDofCount=1 )\n",
    "temperatureDotField = uw.mesh.MeshVariable( mesh=mesh,         nodeDofCount=1 )"
   ]
  },
  {
   "cell_type": "code",
   "execution_count": 12,
   "metadata": {
    "collapsed": false
   },
   "outputs": [
    {
     "data": {
      "text/plain": [
       "(192, -1.0, [False, False], 'Q1/dQ0')"
      ]
     },
     "execution_count": 12,
     "metadata": {},
     "output_type": "execute_result"
    }
   ],
   "source": [
    "Xres, MINX, periodic, elementType"
   ]
  },
  {
   "cell_type": "markdown",
   "metadata": {},
   "source": [
    "Create Finite Element (FE) variables for the velocity, pressure and temperature fields. The last two of these are scalar fields needing only one value at each mesh point, while the velocity field contains a vector of *dim* dimensions at each mesh point."
   ]
  },
  {
   "cell_type": "markdown",
   "metadata": {},
   "source": [
    "Create some dummy fevariables for doing top and bottom boundary calculations."
   ]
  },
  {
   "cell_type": "markdown",
   "metadata": {},
   "source": [
    "## Refine mesh"
   ]
  },
  {
   "cell_type": "code",
   "execution_count": 13,
   "metadata": {
    "collapsed": false
   },
   "outputs": [
    {
     "name": "stdout",
     "output_type": "stream",
     "text": [
      "Min\n",
      "(192, 0.0052093750000000924, 1.5002000000000015, 0.99960000000002935)\n",
      "('edges', 192)\n",
      "-- iteration 0 --\n",
      "| F( p_n ) |^2: 5.53616016077e-05\n",
      "| p_n+1 - p_n |^2: 1.60109555606\n",
      "-- iteration 1 --\n",
      "| F( p_n ) |^2: 5.94558647957e-31\n",
      "Min, Max element width: \n",
      "0.00521\n",
      "0.01562\n"
     ]
    }
   ],
   "source": [
    "#X-Axis\n",
    "\n",
    "if refineMesh:\n",
    "    mesh.reset()\n",
    "    axis = 0\n",
    "    origcoords = np.linspace(mesh.minCoord[axis], mesh.maxCoord[axis], mesh.elementRes[axis] + 1)\n",
    "    edge_rest_lengths = np.diff(origcoords)\n",
    "\n",
    "    deform_lengths = edge_rest_lengths.copy()\n",
    "    min_point =  (abs(mesh.maxCoord[axis]) - abs(mesh.minCoord[axis]))/2.\n",
    "    el_reduction = 0.5001\n",
    "    dx = mesh.maxCoord[axis] - min_point\n",
    "\n",
    "    deform_lengths = deform_lengths - \\\n",
    "                                    ((1.-el_reduction) *deform_lengths[0]) + \\\n",
    "                                    abs((origcoords[1:] - min_point))*((0.5*deform_lengths[0])/dx)\n",
    "\n",
    "    #print(edge_rest_lengths.shape, deform_lengths.shape)\n",
    "\n",
    "    sp.deform_1d(deform_lengths, mesh,axis = 'x',norm = 'Min', constraints = [])"
   ]
  },
  {
   "cell_type": "code",
   "execution_count": 14,
   "metadata": {
    "collapsed": false
   },
   "outputs": [
    {
     "name": "stdout",
     "output_type": "stream",
     "text": [
      "Min\n",
      "(96, 0.0052093750000000742, 0.74749583333333336, 1.0206484210526607)\n",
      "('edges', 96)\n",
      "-- iteration 0 --\n",
      "| F( p_n ) |^2: 5.53734945404e-05\n",
      "| p_n+1 - p_n |^2: 0.816603998686\n",
      "-- iteration 1 --\n",
      "| F( p_n ) |^2: 6.59245819964e-31\n",
      "Min, Max element width: \n",
      "0.00521\n",
      "0.01562\n"
     ]
    }
   ],
   "source": [
    "#Y-Axis\n",
    "if refineMesh:\n",
    "    #Y-Axis\n",
    "    axis = 1\n",
    "    origcoords = np.linspace(mesh.minCoord[axis], mesh.maxCoord[axis], mesh.elementRes[axis] + 1)\n",
    "    edge_rest_lengths = np.diff(origcoords)\n",
    "\n",
    "    deform_lengths = edge_rest_lengths.copy()\n",
    "    min_point =  (mesh.maxCoord[axis])\n",
    "    el_reduction = 0.5001\n",
    "    dx = mesh.maxCoord[axis]\n",
    "\n",
    "    deform_lengths = deform_lengths - \\\n",
    "                                    ((1.-el_reduction)*deform_lengths[0]) + \\\n",
    "                                    abs((origcoords[1:] - min_point))*((0.5*deform_lengths[0])/dx)\n",
    "\n",
    "    #print(edge_rest_lengths.shape, deform_lengths.shape)\n",
    "\n",
    "    sp.deform_1d(deform_lengths, mesh,axis = 'y',norm = 'Min', constraints = [])"
   ]
  },
  {
   "cell_type": "code",
   "execution_count": null,
   "metadata": {
    "collapsed": true
   },
   "outputs": [],
   "source": []
  },
  {
   "cell_type": "markdown",
   "metadata": {},
   "source": [
    "# ICs and BCs"
   ]
  },
  {
   "cell_type": "code",
   "execution_count": 15,
   "metadata": {
    "collapsed": false
   },
   "outputs": [],
   "source": [
    "# Initialise data.. Note that we are also setting boundary conditions here\n",
    "velocityField.data[:] = [0.,0.]\n",
    "pressureField.data[:] = 0.\n",
    "temperatureField.data[:] = 0.\n",
    "temperatureDotField.data[:] = 0.\n",
    "\n",
    "# Setup temperature initial condition via numpy arrays\n",
    "A = 0.01\n",
    "#Note that width = height = 1\n",
    "tempNump = temperatureField.data\n",
    "for index, coord in enumerate(mesh.data):\n",
    "    pertCoeff = (1- coord[1]) + A*math.cos( math.pi * abs(1. - coord[0]) ) * math.sin( math.pi * coord[1] )\n",
    "    tempNump[index] = pertCoeff;\n",
    "    if coord[1] > 1:\n",
    "        tempNump[index] = 0."
   ]
  },
  {
   "cell_type": "code",
   "execution_count": 16,
   "metadata": {
    "collapsed": false
   },
   "outputs": [],
   "source": [
    "\n",
    "#For notebook runs\n",
    "#ModIt = \"96\""
   ]
  },
  {
   "cell_type": "markdown",
   "metadata": {
    "collapsed": true
   },
   "source": [
    "## Temp ICs"
   ]
  },
  {
   "cell_type": "code",
   "execution_count": 17,
   "metadata": {
    "collapsed": false
   },
   "outputs": [],
   "source": [
    "dummymesh = uw.mesh.FeMesh_Cartesian( elementType = (\"Q1/dQ0\"),\n",
    "                                 elementRes  = (128, 64), \n",
    "                                 minCoord    = (-1.,0.), \n",
    "                                 maxCoord=(1.,1.), periodic=False, partitioned=False)\n",
    "\n",
    "dummytemperatureField = uw.mesh.MeshVariable(mesh=dummymesh, nodeDofCount=1 )\n",
    "\n",
    "dummytemperatureField.load(\"8100/temperatureField.hdf5\")"
   ]
  },
  {
   "cell_type": "code",
   "execution_count": 18,
   "metadata": {
    "collapsed": false
   },
   "outputs": [],
   "source": [
    "if not checkpointLoad:\n",
    "    for index, coord in enumerate(mesh.data):\n",
    "        #Don't know mesh partitions in advance, and possible diferent between 'real' and 'dummy' mesh\n",
    "        try:\n",
    "            temperatureField.data[index] = dummytemperatureField.evaluate([coord[0], coord[1]])\n",
    "        except:\n",
    "            pass\n"
   ]
  },
  {
   "cell_type": "markdown",
   "metadata": {
    "collapsed": true
   },
   "source": []
  },
  {
   "cell_type": "code",
   "execution_count": 19,
   "metadata": {
    "collapsed": false
   },
   "outputs": [],
   "source": [
    "# Get the actual sets \n",
    "#\n",
    "#  HJJJJJJH\n",
    "#  I      I\n",
    "#  I      I\n",
    "#  I      I\n",
    "#  HJJJJJJH\n",
    "#  \n",
    "#  Note that H = I & J \n",
    "\n",
    "# Note that we use operator overloading to combine sets\n",
    "# send boundary condition information to underworld\n",
    "IWalls = mesh.specialSets[\"MinI_VertexSet\"] + mesh.specialSets[\"MaxI_VertexSet\"]\n",
    "JWalls = mesh.specialSets[\"MinJ_VertexSet\"] + mesh.specialSets[\"MaxJ_VertexSet\"]\n",
    "TWalls = mesh.specialSets[\"MaxJ_VertexSet\"]\n",
    "BWalls = mesh.specialSets[\"MinJ_VertexSet\"]"
   ]
  },
  {
   "cell_type": "code",
   "execution_count": null,
   "metadata": {
    "collapsed": true
   },
   "outputs": [],
   "source": []
  },
  {
   "cell_type": "code",
   "execution_count": 20,
   "metadata": {
    "collapsed": false
   },
   "outputs": [],
   "source": [
    "# Now setup the dirichlet boundary condition\n",
    "# Note that through this object, we are flagging to the system \n",
    "# that these nodes are to be considered as boundary conditions. \n",
    "# Also note that we provide a tuple of sets.. One for the Vx, one for Vy.\n",
    "freeslipBC = uw.conditions.DirichletCondition(     variable=velocityField, \n",
    "                                              indexSetsPerDof=(IWalls, JWalls) )\n",
    "\n",
    "# also set dirichlet for temp field\n",
    "tempBC = uw.conditions.DirichletCondition(     variable=temperatureField, \n",
    "                                              indexSetsPerDof=(JWalls,) )"
   ]
  },
  {
   "cell_type": "markdown",
   "metadata": {},
   "source": [
    "##Add Random 125 K temp perturbation\n"
   ]
  },
  {
   "cell_type": "markdown",
   "metadata": {
    "collapsed": true
   },
   "source": [
    "tempNump = temperatureField.data\n",
    "\n",
    "#In gerneral we only want to do this on the initial setup, not restarts\n",
    "\n",
    "if not checkpointLoad:\n",
    "    for index, coord in enumerate(mesh.data):\n",
    "        pertCoeff = (0.05*(np.random.rand(1)[0] - 0.5)) #this should create values between [-0.5,0.5] from uniform dist.\n",
    "        ict = tempNump[index]\n",
    "        tempNump[index] = ict + pertCoeff"
   ]
  },
  {
   "cell_type": "markdown",
   "metadata": {},
   "source": [
    "##Reset bottom Dirichlet conds."
   ]
  },
  {
   "cell_type": "code",
   "execution_count": 21,
   "metadata": {
    "collapsed": false
   },
   "outputs": [],
   "source": [
    "# Set temp boundaries \n",
    "# on the boundaries\n",
    "for index in mesh.specialSets[\"MinJ_VertexSet\"]:\n",
    "    temperatureField.data[index] = ndp.TB\n",
    "for index in mesh.specialSets[\"MaxJ_VertexSet\"]:\n",
    "    temperatureField.data[index] = ndp.TS"
   ]
  },
  {
   "cell_type": "code",
   "execution_count": 22,
   "metadata": {
    "collapsed": false
   },
   "outputs": [],
   "source": [
    "#checkdirs"
   ]
  },
  {
   "cell_type": "code",
   "execution_count": null,
   "metadata": {
    "collapsed": true
   },
   "outputs": [],
   "source": []
  },
  {
   "cell_type": "markdown",
   "metadata": {},
   "source": [
    "# Particles"
   ]
  },
  {
   "cell_type": "code",
   "execution_count": 23,
   "metadata": {
    "collapsed": false
   },
   "outputs": [],
   "source": [
    "###########\n",
    "#Material Swarm and variables\n",
    "###########\n",
    "\n",
    "gSwarm = uw.swarm.Swarm(mesh=mesh)\n",
    "materialVariable = gSwarm.add_variable( dataType=\"char\", count=1 )\n",
    "rockIntVar = gSwarm.add_variable( dataType=\"double\", count=1 )\n",
    "airIntVar = gSwarm.add_variable( dataType=\"double\", count=1 )\n",
    "lithIntVar = gSwarm.add_variable( dataType=\"double\", count=1 )\n",
    "\n",
    "varlist = [materialVariable, rockIntVar, airIntVar, lithIntVar]\n",
    "varnames = ['materialVariable', 'rockIntVar', 'airIntVar', 'lithIntVar']"
   ]
  },
  {
   "cell_type": "code",
   "execution_count": 24,
   "metadata": {
    "collapsed": false
   },
   "outputs": [],
   "source": [
    "###########\n",
    "#Swarms for surface intragrals when using Sticky air\n",
    "###########\n",
    "\n",
    "snum = 1000.\n",
    "dx = (mesh.data[:,0].max()- mesh.data[:,0].min())/snum\n",
    "yp = 0.9947 #1. - yelsize/2. at res = 96\n",
    "\n",
    "mesh.data[:,0].max()\n",
    "xps = np.linspace(mesh.data[:,0].min(),mesh.data[:,0].max(), snum)\n",
    "yps = [yp for i in xps]\n",
    "\n",
    "surfintswarm = uw.swarm.Swarm( mesh=mesh )\n",
    "dumout = surfintswarm.add_particles_with_coordinates(np.array((xps,yps)).T)\n",
    "\n",
    "yps = [ 1.- yp  for i in xps]\n",
    "\n",
    "baseintswarm = uw.swarm.Swarm( mesh=mesh)\n",
    "dumout = baseintswarm.add_particles_with_coordinates(np.array((xps,yps)).T)"
   ]
  },
  {
   "cell_type": "markdown",
   "metadata": {},
   "source": [
    "#Initialise swarm variables, or Swarm checkpoint load"
   ]
  },
  {
   "cell_type": "code",
   "execution_count": 25,
   "metadata": {
    "collapsed": false
   },
   "outputs": [],
   "source": [
    "mantleIndex = 0\n",
    "lithosphereIndex = 1\n",
    "crustIndex = 2\n",
    "airIndex = 3\n",
    "\n",
    "\n",
    "if checkpointLoad:\n",
    "    checkpointLoadDir = natsort.natsorted(checkdirs)[-1]\n",
    "    temperatureField.load(os.path.join(checkpointLoadDir, \"temperatureField\" + \".hdf5\"))\n",
    "    pressureField.load(os.path.join(checkpointLoadDir, \"pressureField\" + \".hdf5\"))\n",
    "    velocityField.load(os.path.join(checkpointLoadDir, \"velocityField\" + \".hdf5\"))\n",
    "    gSwarm.load(os.path.join(checkpointLoadDir, \"swarm\" + \".h5\"))\n",
    "    for ix in range(len(varlist)):\n",
    "        varb = varlist[ix]\n",
    "        varb.load(os.path.join(checkpointLoadDir,varnames[ix] + \".h5\"))\n",
    "\n",
    "else:\n",
    "\n",
    "    # Layouts are used to populate the swarm across the whole domain\n",
    "    # Create the layout object\n",
    "    layout = uw.swarm.layouts.PerCellRandomLayout(swarm=gSwarm, particlesPerCell=ppc)\n",
    "    # Now use it to populate.\n",
    "    gSwarm.populate_using_layout( layout=layout )\n",
    "\n",
    "    # Lets initialise the 'materialVariable' data to represent different materials\n",
    "    # Set the material to heavy everywhere via the numpy array\n",
    "    materialVariable.data[:] = mantleIndex\n",
    "    \n",
    "    \n",
    "    #Set initial air and crust materials (allow the graph to take care of lithsophere)\n",
    "    #########\n",
    "    #This initial material setup will be model dependent\n",
    "    #########\n",
    "    for particleID in range(gSwarm.particleCoordinates.data.shape[0]):\n",
    "        if (1. - gSwarm.particleCoordinates.data[particleID][1]) < 0:\n",
    "                 materialVariable.data[particleID] = airIndex\n",
    "        elif (1. - gSwarm.particleCoordinates.data[particleID][1]) < MANTLETOCRUST:\n",
    "                 materialVariable.data[particleID] = crustIndex\n"
   ]
  },
  {
   "cell_type": "markdown",
   "metadata": {},
   "source": [
    "#Material Graphs"
   ]
  },
  {
   "cell_type": "code",
   "execution_count": 26,
   "metadata": {
    "collapsed": false
   },
   "outputs": [],
   "source": [
    "##############\n",
    "#Important: This is a quick fix for a bug that arises in parallel runs\n",
    "##############\n",
    "material_list = [0,1,2,3]\n"
   ]
  },
  {
   "cell_type": "code",
   "execution_count": 27,
   "metadata": {
    "collapsed": false
   },
   "outputs": [
    {
     "name": "stdout",
     "output_type": "stream",
     "text": [
      "unique values after swarm has loaded:[0 2]\n"
     ]
    }
   ],
   "source": [
    "print( \"unique values after swarm has loaded:\" + str(np.unique(materialVariable.data[:])))\n"
   ]
  },
  {
   "cell_type": "code",
   "execution_count": 28,
   "metadata": {
    "collapsed": false
   },
   "outputs": [],
   "source": [
    "\n",
    "\n",
    "#All depth conditions are given as (km/D) where D is the length scale, \n",
    "#note that 'model depths' are used, e.g. 1-z, where z is the vertical Underworld coordinate\n",
    "#All temp conditions are in dimensionless temp. [0. - 1.]\n",
    "\n",
    "#######Graph object\n",
    "DG = nx.DiGraph(field=\"Depth\")\n",
    "\n",
    "#######Nodes\n",
    "#Note that the order of materials, deepest to shallowest is important \n",
    "DG.add_node(0, mat='mantle')\n",
    "DG.add_node(1, mat='lithosphere')\n",
    "DG.add_node(2, mat='crust')\n",
    "DG.add_node(3, mat='air')\n",
    "\n",
    "\n",
    "labels=dict((n,d['mat']) for n,d in DG.nodes(data=True))\n",
    "pos=nx.spring_layout(DG) \n",
    "\n",
    "\n",
    "#######Edges\n",
    "#anything to air\n",
    "DG.add_edges_from([(0,3),(1,3), (2,3)])\n",
    "DG[0][3]['depthcondition'] = -1*TOPOHEIGHT\n",
    "DG[1][3]['depthcondition'] = -1*TOPOHEIGHT\n",
    "DG[2][3]['depthcondition'] = -1*TOPOHEIGHT\n",
    "\n",
    "\n",
    "#Anything to mantle\n",
    "DG.add_edges_from([(2,0), (3,0), (1,0)])\n",
    "DG[3][0]['depthcondition'] = TOPOHEIGHT\n",
    "DG[2][0]['depthcondition'] = CRUSTTOMANTLE\n",
    "DG[1][0]['depthcondition'] = LITHTOMANTLE #This means we're going to kill lithosphere at the 660.\n",
    "\n",
    "\n",
    "#Anything to lithsphere\n",
    "DG.add_edges_from([(0,1),(3,1)])\n",
    "DG[0][1]['depthcondition'] = MANTLETOLITH\n",
    "DG[0][1]['avgtempcondition'] = 0.75*AVGTEMP #definition of thermal lithosphere\n",
    "\n",
    "\n",
    "#Anything to crust\n",
    "DG.add_edges_from([(0,2), (1,2)])\n",
    "DG[0][2]['depthcondition'] = MANTLETOCRUST\n",
    "DG[1][2]['depthcondition'] = MANTLETOCRUST"
   ]
  },
  {
   "cell_type": "code",
   "execution_count": 29,
   "metadata": {
    "collapsed": false
   },
   "outputs": [
    {
     "data": {
      "text/plain": [
       "[0, 1, 2, 3]"
      ]
     },
     "execution_count": 29,
     "metadata": {},
     "output_type": "execute_result"
    }
   ],
   "source": [
    "DG.nodes()"
   ]
  },
  {
   "cell_type": "code",
   "execution_count": 30,
   "metadata": {
    "collapsed": false
   },
   "outputs": [],
   "source": [
    "remove_nodes = []\n",
    "for node in DG.nodes():\n",
    "    if not node in material_list:\n",
    "        remove_nodes.append(node)\n",
    "        \n",
    "for rmnode in remove_nodes:\n",
    "    DG.remove_node(rmnode)"
   ]
  },
  {
   "cell_type": "code",
   "execution_count": 31,
   "metadata": {
    "collapsed": false
   },
   "outputs": [
    {
     "data": {
      "text/plain": [
       "[0, 1, 2, 3]"
      ]
     },
     "execution_count": 31,
     "metadata": {},
     "output_type": "execute_result"
    }
   ],
   "source": [
    "DG.nodes()"
   ]
  },
  {
   "cell_type": "code",
   "execution_count": 32,
   "metadata": {
    "collapsed": true
   },
   "outputs": [],
   "source": [
    "#A Dictionary to map strings in the graph (e.g. 'depthcondition') to particle data arrays\n",
    "\n",
    "particledepths = 1. - gSwarm.particleCoordinates.data[:,1]\n",
    "particletemps = temperatureField.evaluate(gSwarm)[:,0]\n",
    "\n",
    "conditionmap = {}\n",
    "\n",
    "conditionmap['depthcondition'] = {}\n",
    "conditionmap['depthcondition']['data'] = particledepths\n",
    "conditionmap['avgtempcondition'] = {}\n",
    "conditionmap['avgtempcondition']['data'] = particletemps"
   ]
  },
  {
   "cell_type": "code",
   "execution_count": 33,
   "metadata": {
    "collapsed": true
   },
   "outputs": [],
   "source": [
    "def update_swarm(graph, particleIndex):\n",
    "    \"\"\"\n",
    "    This function takes the materials graph (networkx.DiGraph), and a particle index,\n",
    "    then determines if a material update is required \n",
    "    and if so, returns the new materialindex\n",
    "    Args:\n",
    "        graph (networkx.DiGraph): Directed multigraph representing the transformation of material types\n",
    "        particleIndex (int): the particle index as corressponding to the index in the swarm data arrays\n",
    "    Returns:\n",
    "        if update is required the function returns the the new material variable (int) \n",
    "        else returns None\n",
    "    Raises:\n",
    "        TypeError: not implemented\n",
    "        ValueError: not implemented\n",
    "    \"\"\"\n",
    "    ##Egde gives links to other materials, we then query the conditions to see if we should change materials\n",
    "    matId = materialVariable.data[particleIndex][0]\n",
    "    innerchange = False\n",
    "    outerchange = False\n",
    "    for edge in graph[matId]:\n",
    "        if outerchange:\n",
    "            break\n",
    "        for cond in graph[matId][edge].keys():\n",
    "            outerchange = False\n",
    "            if innerchange: #found a complete transition, break inner loop\n",
    "                break\n",
    "            currentparticlevalue = conditionmap[cond]['data'][particleIndex]\n",
    "            crossover = graph[matId][edge][cond]\n",
    "            if ((matId > edge) and (currentparticlevalue > crossover)):\n",
    "                innerchange = False # continue on, \n",
    "                if graph[matId][edge].keys()[-1] == cond:\n",
    "                    outerchange = True\n",
    "                    innerchange = edge\n",
    "                    break\n",
    "            elif ((matId < edge) and (currentparticlevalue < crossover)):\n",
    "                innerchange = False\n",
    "                if graph[matId][edge].keys()[-1] == cond:\n",
    "                    outerchange = True\n",
    "                    innerchange = edge\n",
    "                    break\n",
    "            else:\n",
    "                #condition not met, break outer loop, go to next edge, outerchange should still be False\n",
    "                break\n",
    "    if type(innerchange) == int:\n",
    "        return innerchange"
   ]
  },
  {
   "cell_type": "code",
   "execution_count": 34,
   "metadata": {
    "collapsed": false
   },
   "outputs": [],
   "source": [
    "#Cleanse the swarm of its sins\n",
    "#For some Material Graphs, the graph may have to be treaversed more than once\n",
    "\n",
    "check = -1\n",
    "number_updated = 1\n",
    "\n",
    "while number_updated != 0:\n",
    "    number_updated = 0\n",
    "    for particleID in range(gSwarm.particleCoordinates.data.shape[0]):\n",
    "                check = update_swarm(DG, particleID)\n",
    "                if check > -1:\n",
    "                    number_updated += 1\n",
    "                    materialVariable.data[particleID] = check"
   ]
  },
  {
   "cell_type": "code",
   "execution_count": null,
   "metadata": {
    "collapsed": true
   },
   "outputs": [],
   "source": [
    "## Here we'll play around with some different crust-perturbations\n",
    "##Voul inlude this is the Graph update function, but for now keep it seperate\n",
    "\n",
    "#MANTLETOCRUST\n",
    "centre = 0.0\n",
    "#CRUSTTOMANTLE\n",
    "\n",
    "square_shape = np.array([ (MANTLETOCRUST ,1. ), (-1.*MANTLETOCRUST ,1. ), ((-1.*MANTLETOCRUST) , \n",
    "                       (1.0 - 1.5*CRUSTTOMANTLE) ), ((MANTLETOCRUST),(1.0 - 1.5*CRUSTTOMANTLE))])\n",
    "square_shape = fn.shape.Polygon( square_shape)\n",
    "\n",
    "#sub_zone1 = np.array([ ((2*MANTLETOCRUST + 0.5*MANTLETOLITH),1. ), ((-2.*MANTLETOCRUST + 0.5*MANTLETOLITH) ,1. ), \n",
    "#                     ((-2.*MANTLETOCRUST - 0.5*MANTLETOLITH ) ,(1.0 - CRUSTTOMANTLE/2.) ), ((2*MANTLETOCRUST - 0.5*MANTLETOLITH ),(1.0 - CRUSTTOMANTLE/2. )) ])\n",
    "#shape1 = fn.shape.Polygon( sub_zone1)\n",
    "\n",
    "\n",
    "if not checkpointLoad:\n",
    "    for particleID in range( gSwarm.particleCoordinates.data.shape[0] ):\n",
    "        if square_shape.evaluate(tuple(gSwarm.particleCoordinates.data[particleID])):\n",
    "    #        #print \"true\"\n",
    "            materialVariable.data[particleID] = crustIndex\n",
    "        #elif shape2.evaluate(tuple(gSwarm.particleCoordinates.data[particleID])):\n",
    "        #    materialVariable.data[particleID] = crustIndex\n"
   ]
  },
  {
   "cell_type": "markdown",
   "metadata": {},
   "source": [
    "##Set the values for the masking swarms"
   ]
  },
  {
   "cell_type": "code",
   "execution_count": 35,
   "metadata": {
    "collapsed": false
   },
   "outputs": [],
   "source": [
    "#Setup up a masking Swarm variable for the integrations.\n",
    "#These should be rebuilt at same frequency as the metric calcualtions\n",
    "\n",
    "rockIntVar.data[:] = 0.\n",
    "notair = np.where(materialVariable.data != airIndex)\n",
    "rockIntVar.data[notair] = 1.\n",
    "\n",
    "airIntVar.data[:] = 0.\n",
    "notrock = np.where(materialVariable.data == airIndex)\n",
    "airIntVar.data[notrock] = 1.\n",
    "\n",
    "lithIntVar.data[:] = 0.\n",
    "islith = np.where((materialVariable.data == lithosphereIndex) | (materialVariable.data == crustIndex))\n",
    "lithIntVar.data[islith] = 1.\n"
   ]
  },
  {
   "cell_type": "markdown",
   "metadata": {
    "collapsed": false
   },
   "source": [
    "#Material properties\n"
   ]
  },
  {
   "cell_type": "code",
   "execution_count": 36,
   "metadata": {
    "collapsed": false
   },
   "outputs": [],
   "source": [
    "#Make variables required for plasticity\n",
    "\n",
    "# The yeilding of the upper slab is dependent on the strain rate.\n",
    "strainRate_2ndInvariant = fn.tensor.second_invariant( \n",
    "                            fn.tensor.symmetric( \n",
    "                            velocityField.fn_gradient ))\n",
    "\n",
    "\n",
    "coordinate = fn.input()\n",
    "depth = 1. - coordinate[1]\n",
    "depthField = uw.mesh.MeshVariable( mesh=mesh,   nodeDofCount=1 )\n",
    "depthField.data[:] = depth.evaluate(mesh)\n",
    "depthField.data[np.where(depthField.data[:] < 0.)[0]] = 0."
   ]
  },
  {
   "cell_type": "code",
   "execution_count": 37,
   "metadata": {
    "collapsed": false
   },
   "outputs": [],
   "source": [
    "##Basic mantle viscosity Functions\n",
    "viscosityl2 = newvisc*fn.math.exp((math.log(ndp.etaT)*-1*temperatureField) + (depthField*math.log(ndp.etaY)))\n",
    "viscosityFn1 = viscosityl2 #This one always gets passed to the first velcotity solve\n",
    "\n",
    "#Von Mises effective viscosity\n",
    "viscosityp = ndp.eta0 + ndp.cohesion/(strainRate_2ndInvariant/math.sqrt(0.5)) #extra factor to account for underworld second invariant form\n",
    "viscosityFn2 = 2./(1./viscosityl2 + 1./viscosityp)\n",
    "\n",
    "\n",
    "##Now setup rheolgy for models with crust rheology;\n",
    "\n",
    "viscreduct = 0.1\n",
    "crustviscosityp = viscreduct*ndp.eta0+ ((viscreduct*ndp.cohesion)/(strainRate_2ndInvariant/math.sqrt(0.5))) #extra factor to account for underworld second invariant form\n",
    "crustviscosityFn2 = 2./(1./viscosityl2 + 1./crustviscosityp)"
   ]
  },
  {
   "cell_type": "markdown",
   "metadata": {},
   "source": [
    "Set up simulation parameters and functions\n",
    "====\n",
    "\n",
    "Here the functions for density, viscosity etc. are set. These functions and/or values are preserved for the entire simulation time. "
   ]
  },
  {
   "cell_type": "code",
   "execution_count": 38,
   "metadata": {
    "collapsed": false
   },
   "outputs": [],
   "source": [
    "# Here we set a viscosity value of '1.' for both materials\n",
    "viscosityMapFn = fn.branching.map( fn_key = materialVariable,\n",
    "                         mapping = {airIndex:AIRVISCOSITY, \n",
    "                                    lithosphereIndex:viscosityFn2, \n",
    "                                    crustIndex:crustviscosityFn2,\n",
    "                                    mantleIndex:viscosityFn2} )\n",
    "\n",
    "densityMapFn = fn.branching.map( fn_key = materialVariable,\n",
    "                         mapping = {airIndex:AIRDENSITY, \n",
    "                                    lithosphereIndex:ndp.RA*temperatureField, \n",
    "                                    crustIndex:ndp.RA*temperatureField, \n",
    "                                    mantleIndex:ndp.RA*temperatureField} )\n",
    "\n",
    "# Define our gravity using a python tuple (this will be automatically converted to a function)\n",
    "gravity = ( 0.0, 1.0 )\n",
    "\n",
    "buoyancyFn = gravity*densityMapFn"
   ]
  },
  {
   "cell_type": "markdown",
   "metadata": {},
   "source": [
    "Build the Stokes system, solvers, advection-diffusion\n",
    "------\n",
    "\n",
    "Setup linear Stokes system to get the initial velocity."
   ]
  },
  {
   "cell_type": "code",
   "execution_count": 39,
   "metadata": {
    "collapsed": false
   },
   "outputs": [],
   "source": [
    "#We first set up a l\n",
    "stokesPIC = uw.systems.Stokes(velocityField=velocityField, \n",
    "                              pressureField=pressureField,\n",
    "                              conditions=[freeslipBC,],\n",
    "#                              viscosityFn=viscosityFn1, \n",
    "                              fn_viscosity=fn.exception.SafeMaths(viscosityFn1), \n",
    "                              fn_bodyforce=buoyancyFn)"
   ]
  },
  {
   "cell_type": "markdown",
   "metadata": {},
   "source": [
    "We do one solve with linear viscosity to get the initial strain rate invariant. This solve step also calculates a 'guess' of the the velocity field based on the linear system, which is used later in the non-linear solver."
   ]
  },
  {
   "cell_type": "code",
   "execution_count": 40,
   "metadata": {
    "collapsed": false
   },
   "outputs": [
    {
     "data": {
      "text/plain": [
       "False"
      ]
     },
     "execution_count": 40,
     "metadata": {},
     "output_type": "execute_result"
    }
   ],
   "source": [
    "checkpointLoad"
   ]
  },
  {
   "cell_type": "code",
   "execution_count": 41,
   "metadata": {
    "collapsed": false
   },
   "outputs": [],
   "source": [
    "if not checkpointLoad:\n",
    "    solver = uw.systems.Solver(stokesPIC)\n",
    "    solver.solve() "
   ]
  },
  {
   "cell_type": "code",
   "execution_count": 42,
   "metadata": {
    "collapsed": false
   },
   "outputs": [],
   "source": [
    "#Switch particle escape on, this will also trigger the inflow population control \n",
    "gSwarm.particleEscape = True"
   ]
  },
  {
   "cell_type": "code",
   "execution_count": 43,
   "metadata": {
    "collapsed": false
   },
   "outputs": [],
   "source": [
    "# Setup the Stokes system again, now with linear or nonlinear visocity viscosity.\n",
    "\n",
    "if PIC_integration:\n",
    "    swarm = gSwarm\n",
    "else:\n",
    "    swarm = False\n",
    "\n",
    "stokesPIC2 = uw.systems.Stokes(velocityField=velocityField, \n",
    "                              pressureField=pressureField,\n",
    "                              conditions=[freeslipBC,],\n",
    "                              fn_viscosity=fn.exception.SafeMaths(viscosityMapFn), \n",
    "                              fn_bodyforce=buoyancyFn, swarm = swarm)"
   ]
  },
  {
   "cell_type": "markdown",
   "metadata": {
    "collapsed": false
   },
   "source": [
    "solver = uw.systems.Solver(stokesPIC2) # altered from PIC2\n",
    "\n",
    "\n",
    "\n",
    "#Set more advanced solver option\n",
    "solver.options.main.Q22_pc_type='uw'\n",
    "solver.options.A11.ksp_rtol=1e-5\n",
    "solver.options.scr.ksp_rtol=1e-5\n",
    "#solver.options.A11.ksp_type=\"cg\"\n",
    "solver.options.scr.use_previous_guess = True\n",
    "solver.options.scr.ksp_set_min_it_converge = 1\n",
    "\n",
    "solver.options.mg.levels = 3\n",
    "\n",
    "#solver.options.A11.ksp_monitor=''\n",
    "#solver.options.A11.ksp_converged_reason='"
   ]
  },
  {
   "cell_type": "code",
   "execution_count": 44,
   "metadata": {
    "collapsed": true
   },
   "outputs": [],
   "source": [
    "solver = uw.systems.Solver(stokesPIC2) # altered from PIC2\n",
    "\n",
    "#Set more advanced solver option\n",
    "solver.options.main.Q22_pc_type='gkgdiag'\n",
    "#solver.options.A11.ksp_rtol=1e-2\n",
    "#solver.options.scr.ksp_rtol=1e-3\n",
    "#solver.options.A11.ksp_type=\"cg\"\n",
    "solver.options.scr.use_previous_guess = True\n",
    "#solver.options.scr.ksp_set_min_it_converge = 1\n",
    "#solver.options.main.penalty=10.0\n",
    "\n",
    "#solver.options.mg.levels = 3\n",
    "#solver.options.main.remove_constant_pressure_null_space=True\n",
    "#solver.options.main.penalty = 1e2\n",
    "\n",
    "solver.options.A11.ksp_rtol=1e-4\n",
    "solver.options.scr.ksp_rtol=1e-4\n",
    "\n",
    "solver.options.A11.ksp_monitor=''\n",
    "solver.options.A11.ksp_converged_reason=''"
   ]
  },
  {
   "cell_type": "markdown",
   "metadata": {},
   "source": [
    "Solve for initial pressure and velocity using a quick non-linear Picard iteration\n"
   ]
  },
  {
   "cell_type": "code",
   "execution_count": 45,
   "metadata": {
    "collapsed": false
   },
   "outputs": [],
   "source": [
    "solver.solve(nonLinearIterate=True)"
   ]
  },
  {
   "cell_type": "markdown",
   "metadata": {},
   "source": [
    "Create an advective-diffusive system\n",
    "=====\n",
    "\n",
    "Setup the system in underworld by flagging the temperature and velocity field variables."
   ]
  },
  {
   "cell_type": "code",
   "execution_count": null,
   "metadata": {
    "collapsed": false
   },
   "outputs": [],
   "source": []
  },
  {
   "cell_type": "code",
   "execution_count": 46,
   "metadata": {
    "collapsed": false
   },
   "outputs": [],
   "source": [
    "#Create advdiff system\n",
    "\n",
    "\n",
    "\n",
    "advDiff = uw.systems.AdvectionDiffusion( phiField       = temperatureField, \n",
    "                                         phiDotField    = temperatureDotField, \n",
    "                                         velocityField  = velocityField, \n",
    "                                         fn_diffusivity = 1.0, \n",
    "                                         conditions     = [tempBC,] )\n",
    "\n",
    "\n",
    "\n",
    "advector = uw.systems.SwarmAdvector( swarm         = gSwarm, \n",
    "                                     velocityField = velocityField, \n",
    "                                     order         = 1)"
   ]
  },
  {
   "cell_type": "markdown",
   "metadata": {},
   "source": [
    "Metrics for benchmark\n",
    "=====\n",
    "\n",
    "Define functions to be used in the time loop. For cases 1-4, participants were asked to report a number of diagnostic quantities to be measured after reaching steady state:\n",
    "\n",
    "* Average temp... $$  \\langle T \\rangle  = \\int^1_0 \\int^1_0 T \\, dxdy $$\n",
    "* Top and bottom Nusselt numbers... $$N = \\int^1_0 \\frac{\\partial T}{\\partial y} \\rvert_{y=0/1} \\, dx$$\n",
    "* RMS velocity over the whole domain, surface and max velocity at surface\n",
    "* max and min viscosity over the whole domain\n",
    "* average rate of work done against gravity...$$\\langle W \\rangle = \\int^1_0 \\int^1_0 T u_y \\, dx dy$$\n",
    "* and the average rate of viscous dissipation...$$\\langle \\Phi \\rangle = \\int^1_0 \\int^1_0 \\tau_{ij} \\dot \\epsilon_{ij} \\, dx dy$$\n",
    "\n",
    "* In steady state, if thermal energy is accurately conserved, the difference between $\\langle W \\rangle$ and $\\langle \\Phi \\rangle / Ra$ must vanish, so also reported is the percentage error: \n",
    "\n",
    "$$ \\delta = \\frac{\\lvert \\langle W \\rangle - \\frac{\\langle \\Phi \\rangle}{Ra} \\rvert}{max \\left(  \\langle W \\rangle,  \\frac{\\langle \\Phi \\rangle}{Ra}\\right)} \\times 100% $$"
   ]
  },
  {
   "cell_type": "code",
   "execution_count": 47,
   "metadata": {
    "collapsed": false
   },
   "outputs": [],
   "source": [
    "#Setup some Integrals. We want these outside the main loop...\n",
    "tempVariable = gSwarm.add_variable( dataType=\"double\", count=1 )\n",
    "tempVariable.data[:] = temperatureField.evaluate(gSwarm)[:]\n",
    "tempint = uw.utils.Integral((tempVariable*rockIntVar), mesh)\n",
    "\n",
    "\n",
    "areaint = uw.utils.Integral((1.*rockIntVar),mesh)\n",
    "\n",
    "v2int = uw.utils.Integral(fn.math.dot(velocityField,velocityField)*rockIntVar, mesh)\n",
    "\n",
    "\n",
    "dwint = uw.utils.Integral(temperatureField*velocityField[1]*rockIntVar, mesh)\n",
    "\n",
    "\n",
    "sinner = fn.math.dot(strainRate_2ndInvariant,strainRate_2ndInvariant)\n",
    "vdint = uw.utils.Integral((4.*viscosityMapFn*sinner)*rockIntVar, mesh)\n",
    "vdintair = uw.utils.Integral((4.*viscosityMapFn*sinner)*airIntVar, mesh)\n",
    "vdintlith = uw.utils.Integral((4.*viscosityMapFn*sinner)*lithIntVar, mesh)"
   ]
  },
  {
   "cell_type": "code",
   "execution_count": 48,
   "metadata": {
    "collapsed": false
   },
   "outputs": [
    {
     "name": "stdout",
     "output_type": "stream",
     "text": [
      "93925.9035407\n",
      "92571.9270013\n",
      "0.0\n",
      "0.0\n",
      "9614.73370339\n",
      "8260.75716399\n"
     ]
    }
   ],
   "source": [
    "#These should differ if the the map function assigns different properties to bulk mantle\n",
    "\n",
    "print(uw.utils.Integral((4.*viscosityFn2*sinner)*rockIntVar, mesh).evaluate()[0])\n",
    "print(uw.utils.Integral((4.*viscosityMapFn*sinner)*rockIntVar, mesh).evaluate()[0])\n",
    "\n",
    "print(uw.utils.Integral((4.*viscosityFn2*sinner)*airIntVar, mesh).evaluate()[0])\n",
    "print(uw.utils.Integral((4.*viscosityMapFn*sinner)*airIntVar, mesh).evaluate()[0])\n",
    "\n",
    "print(uw.utils.Integral((4.*viscosityFn2*sinner)*lithIntVar, mesh).evaluate()[0])\n",
    "print(uw.utils.Integral((4.*viscosityMapFn*sinner)*lithIntVar, mesh).evaluate()[0])"
   ]
  },
  {
   "cell_type": "markdown",
   "metadata": {},
   "source": [
    "\\begin{equation}  \\langle T \\rangle  = \\int^1_0 \\int^1_0 T \\, dxdy \\end{equation}"
   ]
  },
  {
   "cell_type": "code",
   "execution_count": 49,
   "metadata": {
    "collapsed": false
   },
   "outputs": [],
   "source": [
    "def avg_temp():\n",
    "    return tempint.evaluate()[0]/areaint.evaluate()[0]\n",
    "\n",
    "#This one gets cleaned up when Surface integrals are available\n",
    "def nusselt(tempfield, swarm, dx):\n",
    "    #Update the swarm variable\n",
    "    tempgrad = tempfield.fn_gradient\n",
    "    valcheck = tempgrad[1].evaluate(swarm)\n",
    "    if valcheck is None:\n",
    "        vals = np.array(0, dtype='float64')\n",
    "    else:\n",
    "        vals = valcheck.sum()*dx\n",
    "    return vals\n",
    "\n",
    "def rms():\n",
    "    return math.sqrt(v2int.evaluate()[0]/areaint.evaluate()[0])\n",
    "\n",
    "#This one gets cleaned up when Surface integrals are available\n",
    "def rms_surf(swarm, dx):\n",
    "    rmsmaxfn = fn.math.dot(velocityField,velocityField)\n",
    "    rmscheck = rmsmaxfn.evaluate(swarm)\n",
    "    if rmscheck is None:\n",
    "        #print \"watch out\"\n",
    "        rmsvals = np.array(0, dtype='float64')\n",
    "    else:\n",
    "        rmsvals = np.sqrt(rmscheck.sum()*dx)\n",
    "        #print \"okay\"\n",
    "    return rmsvals\n",
    "\n",
    "def max_vx_surf(velfield, swarm):\n",
    "    check = velfield[0].evaluate(swarm)\n",
    "    if check is None:\n",
    "        return 0.\n",
    "    else:\n",
    "        return check.max()\n",
    "\n",
    "\n",
    "#def max_vy_surf(velfield, swarm):\n",
    "#    surfvelxmaxfn = fn.view.min_max(velfield[1])\n",
    "#    surfvelxmaxfn.evaluate(swarm)\n",
    "#    return surfvelxmaxfn.max_global()\n",
    "\n",
    "def gravwork(workfn):\n",
    "    return workfn.evaluate()[0]\n",
    "\n",
    "def viscdis(vdissfn):\n",
    "    return vdissfn.evaluate()[0]\n",
    "\n",
    "def visc_extr(viscfn):\n",
    "    vuviscfn = fn.view.min_max(viscfn)\n",
    "    vuviscfn.evaluate(gSwarm)\n",
    "    return vuviscfn.max_global(), vuviscfn.min_global()"
   ]
  },
  {
   "cell_type": "code",
   "execution_count": 50,
   "metadata": {
    "collapsed": false
   },
   "outputs": [],
   "source": [
    "#Fields for saving data / fields\n",
    "\n",
    "rmsField = uw.mesh.MeshVariable( mesh=mesh,   nodeDofCount=1)\n",
    "rmsfn = fn.math.sqrt(fn.math.dot(velocityField,velocityField))\n",
    "rmsdata = rmsfn.evaluate(mesh)\n",
    "rmsField.data[:] = rmsdata \n",
    "\n",
    "viscField = uw.mesh.MeshVariable( mesh=mesh,   nodeDofCount=1)\n",
    "viscdata = viscosityFn2.evaluate(mesh)\n",
    "viscField.data[:] = viscdata\n",
    "\n",
    "\n",
    "strainrateField = uw.mesh.MeshVariable( mesh=mesh,   nodeDofCount=1)\n",
    "srtdata = fn.tensor.second_invariant( \n",
    "                    fn.tensor.symmetric( \n",
    "                        velocityField.fn_gradient ))\n",
    "rostfield = srtdata.evaluate(mesh)\n",
    "strainrateField.data[:] = rostfield\n",
    "\n",
    "viscVariable = gSwarm.add_variable( dataType=\"float\", count=1 )\n",
    "viscVariable.data[:] = viscosityMapFn.evaluate(gSwarm)\n"
   ]
  },
  {
   "cell_type": "code",
   "execution_count": 51,
   "metadata": {
    "collapsed": false
   },
   "outputs": [],
   "source": [
    "#Images\n",
    "figEta = glucifer.Figure()\n",
    "figEta.append( glucifer.objects.Points(gSwarm,viscVariable, logScale=True))\n",
    "\n",
    "\n",
    "figMat = glucifer.Figure()\n",
    "figMat.append( glucifer.objects.Points(gSwarm,materialVariable, colours='brown white blue red'))\n",
    "figMat.append( glucifer.objects.Mesh(mesh))\n",
    "\n",
    "\n",
    "figStrainRate = glucifer.Figure()\n",
    "figStrainRate.append( glucifer.objects.Surface(mesh, strainRate_2ndInvariant, logScale=True))\n",
    "\n",
    "\n",
    "figVelocityMag = glucifer.Figure()\n",
    "figVelocityMag.append( glucifer.objects.Surface(mesh, fn.math.dot(velocityField,velocityField))\n",
    ")\n",
    "figTemp = glucifer.Figure()\n",
    "figTemp.append( glucifer.objects.Surface(mesh, temperatureField))\n",
    "\n",
    "\n",
    "\n",
    "#Pack some stuff into a database as well\n",
    "figDb = glucifer.Figure()\n",
    "figDb.append( glucifer.objects.Points(gSwarm,viscVariable, logScale=True, colours='brown white blue'))\n",
    "figDb.append( glucifer.objects.Points(gSwarm,materialVariable, colours='brown white blue red'))\n",
    "figDb.append( glucifer.objects.Mesh(mesh))\n",
    "figDb.append( glucifer.objects.VectorArrows(mesh,velocityField, arrowHead=0.2, scaling=0.01))\n",
    "figDb.append( glucifer.objects.Surface(mesh, strainRate_2ndInvariant, logScale=True, colours='brown white blue'))\n",
    "figDb.append( glucifer.objects.Surface(mesh, temperatureField))\n",
    "                           "
   ]
  },
  {
   "cell_type": "code",
   "execution_count": 52,
   "metadata": {
    "collapsed": true
   },
   "outputs": [],
   "source": [
    "\n",
    "pics = uw.swarm.PICIntegrationSwarm(gSwarm)"
   ]
  },
  {
   "cell_type": "code",
   "execution_count": 53,
   "metadata": {
    "collapsed": false
   },
   "outputs": [],
   "source": [
    "def checkpoint1(step, checkpointPath,filename, filewrites):\n",
    "    path = checkpointPath + str(step) \n",
    "    os.mkdir(path)\n",
    "    ##Write and save the file, if not already a writing step\n",
    "    if not step % filewrites == 0:\n",
    "        filename.write((13*'%-15s ' + '\\n') % (realtime, Viscdis, float(Nu0glob), float(Nu1glob), Avg_temp, \n",
    "                                              Rms,Rmsurfglob,Max_vx_surf,Gravwork, etamax, etamin, Viscdisair, Viscdislith))\n",
    "    filename.close()\n",
    "    shutil.copyfile(os.path.join(outputPath, outputFile), os.path.join(path, outputFile))\n",
    "\n",
    "\n",
    "def checkpoint2(step, checkpointPath, swarm, filename, varlist = [materialVariable], varnames = ['materialVariable']):\n",
    "    path = checkpointPath + str(step) \n",
    "    velfile = \"velocityField\" + \".hdf5\"\n",
    "    tempfile = \"temperatureField\" + \".hdf5\"\n",
    "    pressfile = \"pressureField\" + \".hdf5\"\n",
    "    velocityField.save(os.path.join(path, velfile))\n",
    "    temperatureField.save(os.path.join(path, tempfile))\n",
    "    pressureField.save(os.path.join(path, pressfile))\n",
    "    swarm.save(os.path.join(path, \"swarm.h5\") ) \n",
    "    for ix in range(len(varlist)):\n",
    "        varb = varlist[ix]\n",
    "        varb.save(os.path.join(path,varnames[ix] + \".h5\"))\n",
    "        \n",
    "    "
   ]
  },
  {
   "cell_type": "code",
   "execution_count": 54,
   "metadata": {
    "collapsed": true
   },
   "outputs": [],
   "source": [
    "###########\n",
    "#Open file for writing metrics\n",
    "###########\n",
    "\n",
    "if checkpointLoad:\n",
    "    if uw.rank() == 0:\n",
    "        shutil.copyfile(os.path.join(checkpointLoadDir, outputFile), outputPath+outputFile)\n",
    "    comm.Barrier()\n",
    "    #os.rename(os.path.join(checkpointLoadDir, outputFile), outputPath+outputFile)\n",
    "    f_o = open(os.path.join(outputPath, outputFile), 'a')\n",
    "    prevdata = np.genfromtxt(os.path.join(outputPath, outputFile), skip_header=0, skip_footer=0)\n",
    "    realtime = prevdata[prevdata.shape[0]-1, 0]\n",
    "    step = int(checkpointLoadDir.split('/')[-1])\n",
    "    timevals = [0.]\n",
    "else:\n",
    "    f_o = open(outputPath+outputFile, 'w')\n",
    "    realtime = 0.\n",
    "    step = 0\n",
    "    timevals = [0.]"
   ]
  },
  {
   "cell_type": "markdown",
   "metadata": {},
   "source": [
    "Main simulation loop\n",
    "=======\n",
    "\n",
    "The main time stepping loop begins here. Before this the time and timestep are initialised to zero and the output statistics arrays are set up. Also the frequency of outputting basic statistics to the screen is set in steps_output.\n"
   ]
  },
  {
   "cell_type": "code",
   "execution_count": 55,
   "metadata": {
    "collapsed": false
   },
   "outputs": [
    {
     "name": "stdout",
     "output_type": "stream",
     "text": [
      "0\n",
      "1\n",
      "2\n",
      "3\n",
      "4\n",
      "5\n",
      "6\n",
      "7\n",
      "8\n",
      "9\n",
      "10\n",
      "11\n",
      "12\n",
      "13\n",
      "14\n",
      "15\n",
      "16\n",
      "17\n",
      "18\n",
      "19\n",
      "20\n",
      "21\n",
      "22\n",
      "23\n",
      "24\n"
     ]
    }
   ],
   "source": [
    "# initialise timer for computation\n",
    "startMain = time.clock()\n",
    "# Perform steps\n",
    "while realtime < 0.05:\n",
    "#while step < 1:\n",
    "    #Enter non-linear loop\n",
    "    print step\n",
    "    solver.solve(nonLinearIterate=True)\n",
    "    dt = advDiff.get_max_dt()\n",
    "    if step == 0:\n",
    "        dt = 0.\n",
    "    #start = time.clock()\n",
    "    advDiff.integrate(dt)\n",
    "    #machine_time = (time.clock()-start)\n",
    "    #print(\"total advDiff time is: \" + str(machine_time))\n",
    "    # Advect swarm using this timestep size\n",
    "    #start = time.clock()\n",
    "    advector.integrate(dt)\n",
    "    #machine_time = (time.clock()-start)\n",
    "    #print(\"total advector time is: \" + str(machine_time))\n",
    "    # Increment\n",
    "    realtime += dt\n",
    "    step += 1\n",
    "    timevals.append(realtime)\n",
    "    \n",
    "    ################\n",
    "    #Update temperature field in the air region\n",
    "    ################\n",
    "    if (step % sticky_air_temp == 0):\n",
    "        for index, coord in enumerate(mesh.data):\n",
    "            if coord[1] >= 1.:\n",
    "                temperatureField.data[index] = 0.\n",
    " \n",
    "    ################\n",
    "    #Particle update\n",
    "    ###############\n",
    "    if (step % swarm_update == 0) or (step % metric_output == 0): #These updates should be done before any metric output\n",
    "        #These swarm variables get updated first, as they are used to determine material changes\n",
    "        particledepths = 1. - gSwarm.particleCoordinates.data[:,1]\n",
    "        particletemps = temperatureField.evaluate(gSwarm)[:,0]\n",
    "        conditionmap['depthcondition']['data'] = particledepths\n",
    "        conditionmap['avgtempcondition']['data'] = particletemps\n",
    "        ################\n",
    "        number_updated = 0\n",
    "        for particleID in range(gSwarm.particleCoordinates.data.shape[0]):\n",
    "            check = update_swarm(DG, particleID)\n",
    "            if check > -1:\n",
    "                number_updated += 1\n",
    "                #if check == 0:\n",
    "                #    print \"from \" + str(materialVariable.data[particleID]) + \" to \" + str(check)\n",
    "                materialVariable.data[particleID] = check\n",
    "            else:\n",
    "                pass\n",
    "        #Also update those integration swarms\n",
    "        rockIntVar.data[:] = 0.\n",
    "        notair = np.where(materialVariable.data != airIndex)\n",
    "        rockIntVar.data[notair] = 1.\n",
    "        airIntVar.data[:] = 0.\n",
    "        notrock = np.where(materialVariable.data == airIndex)\n",
    "        airIntVar.data[notrock] = 1.\n",
    "        lithIntVar.data[:] = 0.\n",
    "        islith = np.where((materialVariable.data == lithosphereIndex) | (materialVariable.data == crustIndex))\n",
    "        lithIntVar.data[islith] = 1.\n",
    "\n",
    "    ################            \n",
    "    # Calculate the Metrics, only on 1 of the processors:\n",
    "    ################\n",
    "    if (step % metric_output == 0):\n",
    "        ###############\n",
    "        #Swarm - based Metrics\n",
    "        ###############\n",
    "        tempVariable.data[:] = temperatureField.evaluate(gSwarm)[:]\n",
    "        Avg_temp = avg_temp()\n",
    "        Rms = rms()\n",
    "        Gravwork = gravwork(dwint)\n",
    "        Viscdis = viscdis(vdint)\n",
    "        Viscdisair = viscdis(vdintair)\n",
    "        Viscdislith = viscdis(vdintlith)\n",
    "        etamax, etamin = visc_extr(viscosityMapFn)\n",
    "        #These are the ones that need mpi4py treatment\n",
    "        Nu0loc = nusselt(temperatureField, baseintswarm, dx)\n",
    "        Nu1loc = nusselt(temperatureField, surfintswarm, dx)\n",
    "        Rmsurfloc = rms_surf(surfintswarm, dx)\n",
    "        Max_vx_surfloc = np.array(max_vx_surf(velocityField, surfintswarm),'d') #This float needed to be an array to play with mpi4py\n",
    "        #Setup the global output arrays\n",
    "        dTp = Nu0loc.dtype\n",
    "        Nu0glob = np.array(0, dtype=dTp)\n",
    "        dTp = Nu1loc.dtype\n",
    "        Nu1glob = np.array(0, dtype=dTp)\n",
    "        dTp = Rmsurfloc.dtype\n",
    "        Rmsurfglob = np.array(0, dtype=dTp)\n",
    "        dTp = Max_vx_surfloc.dtype\n",
    "        Max_vx_surfglob = np.array(0.0,dtype=dTp)   \n",
    "        #Do global operation ... sum, or max\n",
    "        comm.Allreduce(Nu0loc, Nu0glob, op=MPI.SUM)\n",
    "        comm.Allreduce(Nu1loc, Nu1glob, op=MPI.SUM)\n",
    "        comm.Allreduce(Rmsurfloc, Rmsurfglob, op=MPI.SUM)\n",
    "        comm.Allreduce([Max_vx_surfloc, MPI.DOUBLE],[Max_vx_surfglob, MPI.DOUBLE],op=MPI.MAX)      \n",
    "        # output to summary text file\n",
    "        if uw.rank()==0:\n",
    "            f_o.write((13*'%-15s ' + '\\n') % (realtime, Viscdis, float(Nu0glob), float(Nu1glob), Avg_temp, \n",
    "                                              Rms,Rmsurfglob,Max_vx_surfglob,Gravwork, etamax, etamin, Viscdisair, Viscdislith))\n",
    "        #test = max_vx_surf(velocityField, surfintswarm)    \n",
    "        #if uw.rank()==0:\n",
    "         #   print(Rmsurfglob,MRms_surf, Max_vx_surfglob, MMax_vx_surf, etamax, Metamax)\n",
    "        #print(Rmsurfloc, test)\n",
    "    ################\n",
    "    #Gldb output\n",
    "    ################ \n",
    "    if (step % gldbs_output == 0) & (writeFiles == True):\n",
    "        #Rebuild any necessary swarm variables\n",
    "        viscVariable.data[:] = viscosityMapFn.evaluate(gSwarm)\n",
    "        #Write gldbs\n",
    "        fnamedb = \"dbFig\" + \"_\" + str(ModIt) + \"_\" + str(step) + \".gldb\"\n",
    "        fullpath = os.path.join(outputPath + \"gldbs/\" + fnamedb)\n",
    "        figDb.show()\n",
    "        figDb.save_database(fullpath)\n",
    "    ################\n",
    "    #Also repopulate entire swarm periodically\n",
    "    ################\n",
    "    if step % swarm_repop == 0:\n",
    "        pics.repopulate()\n",
    "    ################\n",
    "    #Checkpoint\n",
    "    ################\n",
    "    if step % checkpoint_every == 0:\n",
    "        if uw.rank() == 0:\n",
    "            checkpoint1(step, checkpointPath,f_o, metric_output)           \n",
    "        checkpoint2(step, checkpointPath, gSwarm, f_o, varlist = varlist, varnames = varnames)\n",
    "        f_o = open(os.path.join(outputPath, outputFile), 'a') #is this line supposed to be here?\n",
    "     \n",
    "    \n",
    "f_o.close()\n",
    "#print 'step =',step, '; dt =', dt, '; CPU time =', time.clock()-startMain"
   ]
  },
  {
   "cell_type": "code",
   "execution_count": 56,
   "metadata": {
    "collapsed": false
   },
   "outputs": [],
   "source": [
    "#figEta = glucifer.Figure(figsize=(1024,384))\n",
    "#figEta.append( glucifer.objects.Points(gSwarm,viscVariable, logScale=True))\n",
    "#figEta.save_database('test.gldb')\n",
    "#figEta.show()\n",
    "\n"
   ]
  },
  {
   "cell_type": "code",
   "execution_count": 57,
   "metadata": {
    "collapsed": false
   },
   "outputs": [],
   "source": [
    "\n",
    "##figMat = glucifer.Figure()\n",
    "#figMat.append( glucifer.objects.Points(gSwarm,materialVariable, colours='brown white blue red'))\n",
    "#figMat.append( glucifer.objects.Points(surfintswarm,materialVariable, pointSize= 5.))\n",
    "#figMat.append( glucifer.objects.Mesh(linearMesh))\n",
    "#figMat.save_database('test.gldb')\n",
    "#figMat.show()\n",
    "\n",
    " "
   ]
  },
  {
   "cell_type": "code",
   "execution_count": 61,
   "metadata": {
    "collapsed": false
   },
   "outputs": [
    {
     "data": {
      "text/plain": [
       "0.5257324838925858"
      ]
     },
     "execution_count": 61,
     "metadata": {},
     "output_type": "execute_result"
    }
   ],
   "source": [
    "avg_temp()"
   ]
  },
  {
   "cell_type": "code",
   "execution_count": 59,
   "metadata": {
    "collapsed": false
   },
   "outputs": [
    {
     "data": {
      "text/html": [
       "<img src='data:image/png;base64,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'>"
      ],
      "text/plain": [
       "<IPython.core.display.HTML object>"
      ]
     },
     "execution_count": 59,
     "metadata": {},
     "output_type": "execute_result"
    }
   ],
   "source": [
    "#figTemp = glucifer.Figure()\n",
    "#figTemp.append( glucifer.objects.Surface(mesh, temperatureField))\n",
    "#figTemp.append( glucifer.objects.Mesh(mesh))\n",
    "#figTemp.save_database('test.gldb')\n",
    "#figTemp.show()"
   ]
  },
  {
   "cell_type": "code",
   "execution_count": 60,
   "metadata": {
    "collapsed": false
   },
   "outputs": [],
   "source": [
    "#figStrainRate = glucifer.Figure()\n",
    "#figStrainRate.append( glucifer.objects.Surface(elementMesh, strainRate_2ndInvariant, logScale=True))\n",
    "#figStrainRate.show()\n",
    "#figStrainRate.save_database('test.gldb')\n"
   ]
  },
  {
   "cell_type": "code",
   "execution_count": null,
   "metadata": {
    "collapsed": false
   },
   "outputs": [],
   "source": [
    "machine_time = (time.clock()-startMain)\n",
    "print(\"total time is: \" + str(machine_time))"
   ]
  },
  {
   "cell_type": "code",
   "execution_count": null,
   "metadata": {
    "collapsed": false
   },
   "outputs": [],
   "source": [
    "#velocityField.evaluate(IWalls)[:,1].max()"
   ]
  },
  {
   "cell_type": "code",
   "execution_count": null,
   "metadata": {
    "collapsed": false
   },
   "outputs": [],
   "source": [
    "#velocityField.evaluate(TWalls)[:,0].max()"
   ]
  }
 ],
 "metadata": {
  "kernelspec": {
   "display_name": "Python 2",
   "language": "python",
   "name": "python2"
  },
  "language_info": {
   "codemirror_mode": {
    "name": "ipython",
    "version": 2
   },
   "file_extension": ".py",
   "mimetype": "text/x-python",
   "name": "python",
   "nbconvert_exporter": "python",
   "pygments_lexer": "ipython2",
   "version": "2.7.11"
  }
 },
 "nbformat": 4,
 "nbformat_minor": 0
}
