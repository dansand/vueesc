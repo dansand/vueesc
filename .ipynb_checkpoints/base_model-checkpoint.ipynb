{
 "cells": [
  {
   "cell_type": "markdown",
   "metadata": {
    "collapsed": true
   },
   "source": [
    "\n",
    "Viscoplastic thermal convection in a 2-D square box\n",
    "=======\n",
    "\n",
    "Benchmarks from Tosi et al. 2015\n",
    "--------\n",
    "\n"
   ]
  },
  {
   "cell_type": "markdown",
   "metadata": {
    "collapsed": true
   },
   "source": [
    "This notebook generates models from the <a name=\"ref-1\"/>[(Tosi et al., 2015)](#cite-tosi2015community) in Underworld2. The Underworld2 results are compared to the model run on Fenics. Input files for the Fenics models were provided by Petra Maierova.\n",
    "\n",
    "This example uses the RT PIC solver with classic and nearest neighbour\n",
    "\n",
    "\n",
    "References\n",
    "====\n",
    "\n",
    "<a name=\"cite-tosi2015community\"/><sup>[^](#ref-1) </sup>Tosi, Nicola and Stein, Claudia and Noack, Lena and H&uuml;ttig, Christian and Maierov&aacute;, Petra and Samuel, Henri and Davies, DR and Wilson, CR and Kramer, SC and Thieulot, Cedric and others. 2015. _A community benchmark for viscoplastic thermal convection in a 2-D square box_.\n",
    "\n"
   ]
  },
  {
   "cell_type": "code",
   "execution_count": 1,
   "metadata": {
    "collapsed": false
   },
   "outputs": [],
   "source": [
    "#pwd"
   ]
  },
  {
   "cell_type": "markdown",
   "metadata": {},
   "source": [
    "Load python functions needed for underworld. Some additional python functions from os, math and numpy used later on."
   ]
  },
  {
   "cell_type": "code",
   "execution_count": 60,
   "metadata": {
    "collapsed": false
   },
   "outputs": [],
   "source": [
    "import underworld as uw\n",
    "import math\n",
    "from underworld import function as fn\n",
    "import glucifer\n",
    "#import matplotlib.pyplot as pyplot\n",
    "import time\n",
    "import numpy as np\n",
    "import os\n",
    "import sys\n",
    "\n",
    "from mpi4py import MPI\n",
    "comm = MPI.COMM_WORLD\n",
    "rank = comm.Get_rank()"
   ]
  },
  {
   "cell_type": "code",
   "execution_count": 3,
   "metadata": {
    "collapsed": false
   },
   "outputs": [],
   "source": [
    "############\n",
    "#Need to manually set these two\n",
    "############\n",
    "Model = \"T\"\n",
    "ModNum = 4\n",
    "\n",
    "if len(sys.argv) == 1:\n",
    "    ModIt = \"Base\"\n",
    "elif sys.argv[1] == '-f':\n",
    "    ModIt = \"Base\"\n",
    "else:\n",
    "    ModIt = str(sys.argv[1])\n"
   ]
  },
  {
   "cell_type": "code",
   "execution_count": null,
   "metadata": {
    "collapsed": true
   },
   "outputs": [],
   "source": []
  },
  {
   "cell_type": "markdown",
   "metadata": {},
   "source": [
    "Set physical constants and parameters, including the Rayleigh number (*RA*). "
   ]
  },
  {
   "cell_type": "code",
   "execution_count": 4,
   "metadata": {
    "collapsed": true
   },
   "outputs": [],
   "source": [
    "#Do you want to write hdf5 files - Temp, RMS, viscosity, stress?\n",
    "writeFiles = True\n",
    "loadTemp = False\n",
    "refineMesh = False"
   ]
  },
  {
   "cell_type": "code",
   "execution_count": 5,
   "metadata": {
    "collapsed": false
   },
   "outputs": [],
   "source": [
    "ETA_T = 1e5\n",
    "newvisc= math.exp(math.log(ETA_T)*0.53)\n"
   ]
  },
  {
   "cell_type": "code",
   "execution_count": 6,
   "metadata": {
    "collapsed": false
   },
   "outputs": [
    {
     "data": {
      "text/plain": [
       "446.6835921509633"
      ]
     },
     "execution_count": 6,
     "metadata": {},
     "output_type": "execute_result"
    }
   ],
   "source": [
    "newvisc"
   ]
  },
  {
   "cell_type": "code",
   "execution_count": 7,
   "metadata": {
    "collapsed": false
   },
   "outputs": [],
   "source": [
    "###########\n",
    "#Constants\n",
    "###########\n",
    "RA  = 1e2*newvisc       # Rayleigh number\n",
    "TS  = 0          # surface temperature\n",
    "TB  = 1          # bottom boundary temperature (melting point)\n",
    "ETA_T = 1e5\n",
    "ETA_Y = 10\n",
    "ETA0 = 1e-3*newvisc\n",
    "RES = 40\n",
    "YSTRESS = 1.*newvisc\n",
    "D = 2890.\n",
    "\n",
    "MINX = 0.\n",
    "ALPHA = 11.\n",
    "\n",
    "stickyAir = True"
   ]
  },
  {
   "cell_type": "code",
   "execution_count": 8,
   "metadata": {
    "collapsed": false
   },
   "outputs": [],
   "source": [
    "\n",
    "    \n",
    "if MINX == 0.:\n",
    "    squareModel = True\n",
    "else: \n",
    "    squareModel = False\n"
   ]
  },
  {
   "cell_type": "code",
   "execution_count": 9,
   "metadata": {
    "collapsed": false
   },
   "outputs": [],
   "source": [
    "##########\n",
    "#variables, these can be defined with STDIN,\n",
    "##########\n",
    "#The == '-f': check is just to check if we're running a notebook - careful, haven't tested\n",
    "    \n",
    "#Watch the type assignemnt on sys.argv[1]\n",
    "\n",
    "DEFAULT = 144\n",
    "ModIt   = str(DEFAULT)\n",
    "    \n",
    "    \n",
    "if len(sys.argv) == 1:\n",
    "    RES = DEFAULT\n",
    "elif sys.argv[1] == '-f':\n",
    "    RES = DEFAULT\n",
    "else:\n",
    "    RES = int(sys.argv[1])\n",
    "    "
   ]
  },
  {
   "cell_type": "code",
   "execution_count": 10,
   "metadata": {
    "collapsed": true
   },
   "outputs": [],
   "source": [
    "outputPath = str(Model) + \"/\" + str(ModNum) + \"/\"\n",
    "imagePath = outputPath + 'images/'\n",
    "filePath = outputPath + 'files/'\n",
    "checkpointPath = outputPath + 'checkpoint/'\n",
    "dbPath = outputPath + 'gldbs/'\n",
    "outputFile = 'results_model' + Model + '_' + str(ModNum) + '_' + str(ModIt) + '.dat'\n",
    "\n",
    "if uw.rank()==0:\n",
    "    # make directories if they don't exist\n",
    "    if not os.path.isdir(outputPath):\n",
    "        os.makedirs(outputPath)\n",
    "    if not os.path.isdir(checkpointPath):\n",
    "        os.makedirs(checkpointPath)\n",
    "    if not os.path.isdir(imagePath):\n",
    "        os.makedirs(imagePath)\n",
    "    if not os.path.isdir(dbPath):\n",
    "        os.makedirs(dbPath)\n",
    "    if not os.path.isdir(filePath):\n",
    "        os.makedirs(filePath)"
   ]
  },
  {
   "cell_type": "code",
   "execution_count": 11,
   "metadata": {
    "collapsed": false
   },
   "outputs": [],
   "source": [
    "dim = 2          # number of spatial dimensions\n",
    "\n",
    "\n",
    "if MINX == 0.:\n",
    "    Xres = RES\n",
    "else:\n",
    "    Xres = 2*RES\n",
    "    \n",
    "if stickyAir:\n",
    "    Yres = RES + 8\n",
    "    MAXY = float(Yres)/RES\n",
    "    \n",
    "else:\n",
    "    Yres = RES\n",
    "    MAXY = 1.\n",
    "    "
   ]
  },
  {
   "cell_type": "code",
   "execution_count": 12,
   "metadata": {
    "collapsed": false
   },
   "outputs": [
    {
     "data": {
      "text/plain": [
       "1.0555555555555556"
      ]
     },
     "execution_count": 12,
     "metadata": {},
     "output_type": "execute_result"
    }
   ],
   "source": [
    "MAXY"
   ]
  },
  {
   "cell_type": "code",
   "execution_count": 13,
   "metadata": {
    "collapsed": false
   },
   "outputs": [
    {
     "data": {
      "text/plain": [
       "(144, 152)"
      ]
     },
     "execution_count": 13,
     "metadata": {},
     "output_type": "execute_result"
    }
   ],
   "source": [
    "Xres, Yres"
   ]
  },
  {
   "cell_type": "code",
   "execution_count": 14,
   "metadata": {
    "collapsed": false
   },
   "outputs": [
    {
     "data": {
      "text/plain": [
       "(1.0555555555555556, 0.006944444444444445, 20.069444444444446)"
      ]
     },
     "execution_count": 14,
     "metadata": {},
     "output_type": "execute_result"
    }
   ],
   "source": [
    "yelsize = MAXY/Yres\n",
    "MAXY, yelsize, yelsize*D"
   ]
  },
  {
   "cell_type": "markdown",
   "metadata": {},
   "source": [
    "Select which case of viscosity from Tosi et al (2015) to use. Adjust the yield stress to be =1 for cases 1-4, or between 3.0 and 5.0 (in increments of 0.1) in case 5."
   ]
  },
  {
   "cell_type": "markdown",
   "metadata": {},
   "source": [
    "Set output file and directory for results"
   ]
  },
  {
   "cell_type": "markdown",
   "metadata": {},
   "source": [
    "Create mesh objects. These store the indices and spatial coordiates of the grid points on the mesh."
   ]
  },
  {
   "cell_type": "code",
   "execution_count": 15,
   "metadata": {
    "collapsed": false
   },
   "outputs": [],
   "source": [
    "elementMesh = uw.mesh.FeMesh_Cartesian( elementType=(\"Q1/dQ0\"), \n",
    "                                         elementRes=(Xres, Yres), \n",
    "                                           minCoord=(MINX,0.), \n",
    "                                           maxCoord=(1.,MAXY), periodic=[False,False] )\n",
    "linearMesh   = elementMesh\n",
    "constantMesh = elementMesh.subMesh "
   ]
  },
  {
   "cell_type": "markdown",
   "metadata": {},
   "source": [
    "Create Finite Element (FE) variables for the velocity, pressure and temperature fields. The last two of these are scalar fields needing only one value at each mesh point, while the velocity field contains a vector of *dim* dimensions at each mesh point."
   ]
  },
  {
   "cell_type": "code",
   "execution_count": 16,
   "metadata": {
    "collapsed": true
   },
   "outputs": [],
   "source": [
    "velocityField    = uw.fevariable.FeVariable( feMesh=linearMesh,   nodeDofCount=dim )\n",
    "pressureField    = uw.fevariable.FeVariable( feMesh=constantMesh, nodeDofCount=1 )\n",
    "temperatureField = uw.fevariable.FeVariable( feMesh=linearMesh,   nodeDofCount=1 )"
   ]
  },
  {
   "cell_type": "markdown",
   "metadata": {},
   "source": [
    "Create some dummy fevariables for doing top and bottom boundary calculations."
   ]
  },
  {
   "cell_type": "markdown",
   "metadata": {},
   "source": [
    "##Refine mesh"
   ]
  },
  {
   "cell_type": "code",
   "execution_count": 17,
   "metadata": {
    "collapsed": true
   },
   "outputs": [],
   "source": [
    "if refineMesh:\n",
    "    alpha=ALPHA\n",
    "    newys = []\n",
    "    newxs = []\n",
    "    for index, coord in enumerate(linearMesh.data):\n",
    "        y0 = coord[1]\n",
    "        x0 = abs(coord[0])\n",
    "        if y0 >= 1.0:\n",
    "            newy = y0\n",
    "        else:\n",
    "            newy = (math.log(alpha*y0 + math.e) - 1)*(1/(math.log(alpha + math.e) - 1))\n",
    "        newx = (math.log((alpha/2.)*x0 + math.e) - 1)*(1/(math.log((alpha/2.) + math.e) - 1))\n",
    "        if coord[0] <= 0:\n",
    "            newx = -1.*newx\n",
    "        newys.append(newy)\n",
    "        newxs.append(newx)\n",
    "        \n",
    "    with linearMesh.deform_mesh():\n",
    "        linearMesh.data[:,1] = newys\n",
    "        linearMesh.data[:,0] = newxs"
   ]
  },
  {
   "cell_type": "markdown",
   "metadata": {
    "collapsed": false
   },
   "source": [
    "#THis one for the rectangular mesh\n",
    "\n",
    "if refineMesh:\n",
    "    alpha = ALPHA\n",
    "    newys = []\n",
    "    newxs = []\n",
    "    for index, coord in enumerate(linearMesh.data):\n",
    "        y0 = coord[1]\n",
    "        x0 = abs(coord[0])\n",
    "        if y0 >= 1.0:\n",
    "            newy = y0\n",
    "        else:\n",
    "            newy = (math.log(alpha*y0 + math.e) - 1)*(1/(math.log(alpha + math.e) - 1))\n",
    "        if coord[0] > 0:\n",
    "            newx = (math.e**(x0*(math.log((alpha/2.) + math.e) - 1) + 1 ) - math.e)/(alpha/2.)     \n",
    "        else:\n",
    "            newx = -1.*(math.e**(x0*(math.log((alpha/2.) + math.e) - 1) + 1 ) - math.e)/(alpha/2.)\n",
    "        newys.append(newy)\n",
    "        newxs.append(newx)\n",
    "        #print y0,newy\n",
    "        \n",
    "    with linearMesh.deform_mesh():\n",
    "            linearMesh.data[:,1] = newys\n",
    "            linearMesh.data[:,0] = newxs"
   ]
  },
  {
   "cell_type": "markdown",
   "metadata": {},
   "source": [
    "#ICs and BCs"
   ]
  },
  {
   "cell_type": "code",
   "execution_count": 18,
   "metadata": {
    "collapsed": false
   },
   "outputs": [],
   "source": [
    "# Initialise data.. Note that we are also setting boundary conditions here\n",
    "velocityField.data[:] = [0.,0.]\n",
    "pressureField.data[:] = 0.\n",
    "temperatureField.data[:] = 0.\n",
    "\n",
    "# Setup temperature initial condition via numpy arrays\n",
    "A = 0.01\n",
    "#Note that width = height = 1\n",
    "tempNump = temperatureField.data\n",
    "for index, coord in enumerate(linearMesh.data):\n",
    "    pertCoeff = (1- coord[1]) + A*math.cos( math.pi * abs(1. - coord[0]) ) * math.sin( math.pi * coord[1] )\n",
    "    tempNump[index] = pertCoeff;\n",
    "    if coord[1] > 1:\n",
    "        tempNump[index] = 0."
   ]
  },
  {
   "cell_type": "code",
   "execution_count": 19,
   "metadata": {
    "collapsed": false
   },
   "outputs": [],
   "source": [
    "#For notebook runs\n",
    "#ModIt = \"96\""
   ]
  },
  {
   "cell_type": "code",
   "execution_count": 20,
   "metadata": {
    "collapsed": false
   },
   "outputs": [],
   "source": [
    "########################################\n",
    "#No sticky air, square models\n",
    "########################################\n",
    "\n",
    "if (loadTemp == True) and (refineMesh == False) and (squareModel == True) and (stickyAir == False):\n",
    "    if ModIt == str(96):\n",
    "        temperatureField.load('temp_ics/1.0_96_init_temp.hdf5')\n",
    "    elif ModIt == str(128):\n",
    "        temperatureField.load('temp_ics/1.0_128_init_temp.hdf5')\n",
    "    elif ModIt == str(144):\n",
    "        temperatureField.load('temp_ics/1.0_144_init_temp.hdf5')\n",
    "    elif ModIt == str(192):\n",
    "        temperatureField.load('temp_ics/1.0_192_init_temp.hdf5')\n",
    "    elif ModIt == str(256):\n",
    "        temperatureField.load('temp_ics/1.0_256_init_temp.hdf5')\n",
    "elif (loadTemp == True) and (refineMesh == True) and (squareModel == True) and (stickyAir == False):\n",
    "    if ModIt == str(96):\n",
    "        temperatureField.load('temp_ics/r11_1.0_96_init_temp.hdf5')\n",
    "    elif ModIt == str(128):\n",
    "        temperatureField.load('temp_ics/r11_1.0_128_init_temp.hdf5')\n",
    "    elif ModIt == str(144):\n",
    "        temperatureField.load('temp_ics/r11_1.0_144_init_temp.hdf5')\n",
    "    elif ModIt == str(192):\n",
    "        temperatureField.load('temp_ics/r11_1.0_192_init_temp.hdf5')\n",
    "    elif ModIt == str(256):\n",
    "        temperatureField.load('temp_ics/r11_1.0_256_init_temp.hdf5') "
   ]
  },
  {
   "cell_type": "code",
   "execution_count": 21,
   "metadata": {
    "collapsed": false
   },
   "outputs": [],
   "source": [
    "########################################\n",
    "#Sticky air, square models\n",
    "########################################\n",
    "if (loadTemp == True) and (refineMesh == False) and (squareModel == True) and (stickyAir == True):\n",
    "    print \"True\"\n",
    "    if ModIt == str(96):\n",
    "        temperatureField.load('temp_ics/sqa_96_init_temp.hdf5')\n",
    "    elif ModIt == str(128):\n",
    "        temperatureField.load('temp_ics/sqa_128_init_temp.hdf5')\n",
    "    elif ModIt == str(144):\n",
    "        temperatureField.load('temp_ics/sqa_144_init_temp.hdf5')\n",
    "    elif ModIt == str(192):\n",
    "        temperatureField.load('temp_ics/sqa_192_init_temp.hdf5')\n",
    "    elif ModIt == str(256):\n",
    "        temperatureField.load('temp_ics/sqa_256_init_temp.hdf5')\n",
    "elif (loadTemp == True) and (refineMesh == True) and (squareModel == True) and (stickyAir == True):\n",
    "    print \"True\"\n",
    "    if ModIt == str(96):\n",
    "        temperatureField.load('temp_ics/r11_sqa_96_init_temp.hdf5')\n",
    "    elif ModIt == str(128):\n",
    "        temperatureField.load('temp_ics/r11_sqa_128_init_temp.hdf5')\n",
    "    elif ModIt == str(144):\n",
    "        temperatureField.load('temp_ics/r11_sqa_144_init_temp.hdf5')\n",
    "    elif ModIt == str(192):\n",
    "        temperatureField.load('temp_ics/r11_sqa_192_init_temp.hdf5')\n",
    "    elif ModIt == str(256):\n",
    "        temperatureField.load('temp_ics/r11_sqa_256_init_temp.hdf5') "
   ]
  },
  {
   "cell_type": "code",
   "execution_count": 22,
   "metadata": {
    "collapsed": false
   },
   "outputs": [
    {
     "data": {
      "text/plain": [
       "'144'"
      ]
     },
     "execution_count": 22,
     "metadata": {},
     "output_type": "execute_result"
    }
   ],
   "source": [
    "ModIt"
   ]
  },
  {
   "cell_type": "code",
   "execution_count": 23,
   "metadata": {
    "collapsed": false
   },
   "outputs": [],
   "source": [
    "########################################\n",
    "#Sticky air, rectangular models\n",
    "########################################\n",
    "\n",
    "if (loadTemp == True) and (refineMesh == False) and (squareModel == False) and (stickyAir == True):\n",
    "    print \"True\"\n",
    "    if ModIt == str(96):\n",
    "        temperatureField.load('temp_ics/sa_96_init_temp.hdf5')\n",
    "    elif ModIt == str(128):\n",
    "        temperatureField.load('temp_ics/sa_128_init_temp.hdf5')\n",
    "    elif ModIt == str(144):\n",
    "        temperatureField.load('temp_ics/sa_144_init_temp.hdf5')\n",
    "    elif ModIt == str(192):\n",
    "        temperatureField.load('temp_ics/sa_192_init_temp.hdf5')\n",
    "    elif ModIt == str(256):\n",
    "        temperatureField.load('temp_ics/sa_256_init_temp.hdf5')\n",
    "elif (loadTemp == True) and (refineMesh == True) and (squareModel == False) and (stickyAir == True):\n",
    "    print \"True\"\n",
    "    if ModIt == str(96):\n",
    "        temperatureField.load('temp_ics/r11_sa_96_init_temp.hdf5')\n",
    "    elif ModIt == str(128):\n",
    "        temperatureField.load('temp_ics/r11_sa_128_init_temp.hdf5')\n",
    "    elif ModIt == str(144):\n",
    "        temperatureField.load('temp_ics/r11_sa_144_init_temp.hdf5')\n",
    "    elif ModIt == str(192):\n",
    "        temperatureField.load('temp_ics/r11_sa_192_init_temp.hdf5')\n",
    "    elif ModIt == str(256):\n",
    "        temperatureField.load('temp_ics/r11_sa_256_init_temp.hdf5')"
   ]
  },
  {
   "cell_type": "markdown",
   "metadata": {
    "collapsed": true
   },
   "source": [
    "dres = 96\n",
    "dummyelementMesh = uw.mesh.FeMesh_Cartesian( elementType = (\"Q1/dQ0\"), \n",
    "                                         elementRes = (dres, dres), \n",
    "                                           minCoord = (0., 0.), \n",
    "                                           maxCoord = (1., 1.))\n",
    "\n",
    "dummytemperatureMesh = dummyelementMesh \n",
    "dummytemperatureField = uw.fevariable.FeVariable( feMesh=dummytemperatureMesh, nodeDofCount=1 )\n",
    "dummytemperatureField.load('temp_ics/temperatureField_4_10200.hdf5')\n",
    "\n",
    "for index, coord in enumerate(linearMesh.data):\n",
    "    #This bit determines whether you see a reflected image or not\n",
    "    xpos, ypos = (1.- abs(coord[0])), coord[1]\n",
    "    #xpos, ypos = (abs(coord[0])), coord[1]\n",
    "    if ypos >= 1:\n",
    "        temperatureField.data[index] = 0.\n",
    "    else:\n",
    "        #print(dummytemperatureField.evaluate((xpos, ypos)))\n",
    "        #randpert = np.random.rand(1)[0]*(50./2500)\n",
    "        randpert = 0.\n",
    "        #Don't know mesh partitions in advance, and possible diferent between 'real' and 'dummy' mesh\n",
    "        try:\n",
    "            temperatureField.data[index] = dummytemperatureField.evaluate((xpos, ypos))  + randpert\n",
    "        except:\n",
    "            pass\n",
    "            \n",
    "temperatureField.save('temp_ics/r11_sa_144_init_temp.hdf5')"
   ]
  },
  {
   "cell_type": "markdown",
   "metadata": {
    "collapsed": true
   },
   "source": []
  },
  {
   "cell_type": "code",
   "execution_count": 24,
   "metadata": {
    "collapsed": false
   },
   "outputs": [],
   "source": [
    "#icfnam= \"R(11)_\" + \"2_\" + str(RES) + \"_init_temp.hdf5\"\n",
    "#icpath = \"temp_ics/\" + icfnam \n",
    "#icfnam= str(Model) + str(ModIt) + \"_init_temp.hdf5\"\n",
    "#temperatureField.save(icpath)\n",
    "#icfnam\n",
    "#icpath"
   ]
  },
  {
   "cell_type": "code",
   "execution_count": 25,
   "metadata": {
    "collapsed": false
   },
   "outputs": [],
   "source": [
    "# Get the actual sets \n",
    "#\n",
    "#  HJJJJJJH\n",
    "#  I      I\n",
    "#  I      I\n",
    "#  I      I\n",
    "#  HJJJJJJH\n",
    "#  \n",
    "#  Note that H = I & J \n",
    "\n",
    "# Note that we use operator overloading to combine sets\n",
    "IWalls = linearMesh.specialSets[\"MinI_VertexSet\"] + linearMesh.specialSets[\"MaxI_VertexSet\"]\n",
    "JWalls = linearMesh.specialSets[\"MinJ_VertexSet\"] + linearMesh.specialSets[\"MaxJ_VertexSet\"]\n",
    "TWalls = linearMesh.specialSets[\"MaxJ_VertexSet\"]\n",
    "BWalls = linearMesh.specialSets[\"MinJ_VertexSet\"]"
   ]
  },
  {
   "cell_type": "code",
   "execution_count": null,
   "metadata": {
    "collapsed": true
   },
   "outputs": [],
   "source": []
  },
  {
   "cell_type": "code",
   "execution_count": 26,
   "metadata": {
    "collapsed": true
   },
   "outputs": [],
   "source": [
    "# Now setup the dirichlet boundary condition\n",
    "# Note that through this object, we are flagging to the system \n",
    "# that these nodes are to be considered as boundary conditions. \n",
    "# Also note that we provide a tuple of sets.. One for the Vx, one for Vy.\n",
    "freeslipBC = uw.conditions.DirichletCondition(     variable=velocityField, \n",
    "                                              nodeIndexSets=(IWalls + TWalls,JWalls) )\n",
    "\n",
    "# also set dirichlet for temp field\n",
    "tempBC = uw.conditions.DirichletCondition(     variable=temperatureField, \n",
    "                                              nodeIndexSets=(JWalls,) )"
   ]
  },
  {
   "cell_type": "code",
   "execution_count": 27,
   "metadata": {
    "collapsed": false
   },
   "outputs": [],
   "source": [
    "# Set temp boundaries \n",
    "# on the boundaries\n",
    "for index in linearMesh.specialSets[\"MinJ_VertexSet\"]:\n",
    "    temperatureField.data[index] = TB\n",
    "for index in linearMesh.specialSets[\"MaxJ_VertexSet\"]:\n",
    "    temperatureField.data[index] = TS"
   ]
  },
  {
   "cell_type": "markdown",
   "metadata": {},
   "source": [
    "#Particles"
   ]
  },
  {
   "cell_type": "code",
   "execution_count": 28,
   "metadata": {
    "collapsed": false
   },
   "outputs": [],
   "source": [
    "# We create swarms of particles which can advect, and which may determine 'materials'\n",
    "gSwarm = uw.swarm.Swarm( feMesh=elementMesh )\n",
    "\n",
    "# Now we add a data variable which will store an index to determine material\n",
    "materialVariable = gSwarm.add_variable( dataType=\"char\", count=1 )\n",
    "tempVariableVis = gSwarm.add_variable( dataType=\"float\", count=1 )\n",
    "rockIntVar = gSwarm.add_variable( dataType=\"double\", count=1 )\n",
    "airIntVar = gSwarm.add_variable( dataType=\"double\", count=1 )\n",
    "lithIntVar = gSwarm.add_variable( dataType=\"double\", count=1 )\n",
    "\n",
    "\n",
    "# Layouts are used to populate the swarm across the whole domain\n",
    "# Create the layout object\n",
    "#layout = uw.swarm.layouts.GlobalSpaceFillerLayout( swarm=gSwarm, particlesPerCell=20)\n",
    "layout = uw.swarm.layouts.PerCellRandomLayout(swarm=gSwarm, particlesPerCell=10)\n",
    "# Now use it to populate.\n",
    "gSwarm.populate_using_layout( layout=layout )\n",
    "\n",
    "\n",
    "# Lets initialise the 'materialVariable' data to represent different materials.\n",
    "\n",
    "temp = temperatureField.evaluate(gSwarm)\n",
    "tempVariableVis.data[:] = temp[:]\n",
    "\n",
    "\n",
    "\n",
    "mantleIndex = 0\n",
    "lithosphereIndex = 1\n",
    "crustIndex = 2\n",
    "airIndex = 3\n",
    "\n",
    "\n",
    "# Set the material to heavy everywhere via the numpy array\n",
    "materialVariable.data[:] = mantleIndex\n"
   ]
  },
  {
   "cell_type": "markdown",
   "metadata": {},
   "source": [
    "#Material Graphs"
   ]
  },
  {
   "cell_type": "code",
   "execution_count": null,
   "metadata": {
    "collapsed": true
   },
   "outputs": [],
   "source": []
  },
  {
   "cell_type": "code",
   "execution_count": 29,
   "metadata": {
    "collapsed": false
   },
   "outputs": [],
   "source": [
    "##############\n",
    "#Important: This is a quick fix for a bug that arises in parallel runs\n",
    "##############\n",
    "material_list = [0,1,2,3]\n"
   ]
  },
  {
   "cell_type": "code",
   "execution_count": 30,
   "metadata": {
    "collapsed": true
   },
   "outputs": [],
   "source": [
    "#All depth conditions are given as (km/D) where D is the length scale, \n",
    "#note that 'model depths' are used, e.g. 1-z, where z is the vertical Underworld coordinate\n",
    "#All temp conditions are in dimensionless temp. [0. - 1.]\n",
    "\n",
    "#A few paramters defining lengths scales\n",
    "\n",
    "Crust = 27.\n",
    "CrustM = Crust/D\n",
    "\n",
    "#Set initial air and crust materials (allow the graph to take care of lithsophere)\n",
    "\n",
    "#########\n",
    "#This initial material setup will be model dependent\n",
    "#########\n",
    "for particleID in range(gSwarm.particleCoordinates.data.shape[0]):\n",
    "    if (1. - gSwarm.particleCoordinates.data[particleID][1]) < 0:\n",
    "             materialVariable.data[particleID] = airIndex\n",
    "    elif (1. - gSwarm.particleCoordinates.data[particleID][1]) < CrustM:\n",
    "             materialVariable.data[particleID] = crustIndex\n",
    "\n",
    "\n",
    "\n",
    "#######Setup some variables which help define condtions\n",
    "#rock-air topography limits\n",
    "dz = 50./D\n",
    "\n",
    "avgtemp = 0.5"
   ]
  },
  {
   "cell_type": "code",
   "execution_count": 31,
   "metadata": {
    "collapsed": true
   },
   "outputs": [],
   "source": [
    "import networkx as nx\n",
    "\n",
    "#######Graph object\n",
    "DG = nx.DiGraph(field=\"Depth\")\n",
    "\n",
    "#######Nodes\n",
    "#Note that the order of materials, deepest to shallowest is important \n",
    "DG.add_node(0, mat='mantle')\n",
    "DG.add_node(1, mat='lithosphere')\n",
    "DG.add_node(2, mat='crust')\n",
    "DG.add_node(3, mat='air')\n",
    "\n",
    "\n",
    "labels=dict((n,d['mat']) for n,d in DG.nodes(data=True))\n",
    "pos=nx.spring_layout(DG) \n",
    "\n",
    "\n",
    "#######Edges\n",
    "#anything to air\n",
    "DG.add_edges_from([(0,3),(1,3), (2,3)])\n",
    "DG[0][3]['depthcondition'] = -1*dz\n",
    "DG[1][3]['depthcondition'] = -1*dz\n",
    "DG[2][3]['depthcondition'] = -1*dz\n",
    "\n",
    "\n",
    "#Anything to mantle\n",
    "DG.add_edges_from([(2,0), (3,0), (1,0)])\n",
    "DG[3][0]['depthcondition'] = dz\n",
    "DG[2][0]['depthcondition'] = (300./D)\n",
    "DG[1][0]['depthcondition'] = (660./D) #This means we're going to kill lithosphere at the 660.\n",
    "\n",
    "\n",
    "#Anything to lithsphere\n",
    "DG.add_edges_from([(0,1),(3,1)])\n",
    "DG[0][1]['depthcondition'] = 200./D\n",
    "DG[0][1]['avgtempcondition'] = 0.75*avgtemp #definition of thermal lithosphere\n",
    "\n",
    "\n",
    "#Anything to crust\n",
    "DG.add_edges_from([(0,2), (1,2)])\n",
    "DG[0][2]['depthcondition'] = CrustM\n",
    "DG[1][2]['depthcondition'] = CrustM"
   ]
  },
  {
   "cell_type": "code",
   "execution_count": 32,
   "metadata": {
    "collapsed": false
   },
   "outputs": [
    {
     "data": {
      "text/plain": [
       "[0, 1, 2, 3]"
      ]
     },
     "execution_count": 32,
     "metadata": {},
     "output_type": "execute_result"
    }
   ],
   "source": [
    "DG.nodes()"
   ]
  },
  {
   "cell_type": "code",
   "execution_count": 33,
   "metadata": {
    "collapsed": false
   },
   "outputs": [],
   "source": [
    "remove_nodes = []\n",
    "for node in DG.nodes():\n",
    "    if not node in material_list:\n",
    "        remove_nodes.append(node)\n",
    "        \n",
    "for rmnode in remove_nodes:\n",
    "    DG.remove_node(rmnode)"
   ]
  },
  {
   "cell_type": "code",
   "execution_count": 34,
   "metadata": {
    "collapsed": false
   },
   "outputs": [
    {
     "data": {
      "text/plain": [
       "[0, 1, 2, 3]"
      ]
     },
     "execution_count": 34,
     "metadata": {},
     "output_type": "execute_result"
    }
   ],
   "source": [
    "DG.nodes()"
   ]
  },
  {
   "cell_type": "code",
   "execution_count": 35,
   "metadata": {
    "collapsed": false
   },
   "outputs": [],
   "source": [
    "#remove_nodes = []\n",
    "#for node in DG.nodes_iter():\n",
    "#    if not node in material_list:\n",
    "#        remove_nodes.append(node)\n",
    "        \n",
    "#for rmnode in remove_nodes:\n",
    "#    DG.remove_node(rmnode)"
   ]
  },
  {
   "cell_type": "code",
   "execution_count": 36,
   "metadata": {
    "collapsed": true
   },
   "outputs": [],
   "source": [
    "#A Dictionary to map strings in the graph (e.g. 'depthcondition') to particle data arrays\n",
    "\n",
    "particledepths = 1. - gSwarm.particleCoordinates.data[:,1]\n",
    "particletemps = temperatureField.evaluate(gSwarm)[:,0]\n",
    "\n",
    "conditionmap = {}\n",
    "\n",
    "conditionmap['depthcondition'] = {}\n",
    "conditionmap['depthcondition']['data'] = particledepths\n",
    "conditionmap['avgtempcondition'] = {}\n",
    "conditionmap['avgtempcondition']['data'] = particletemps"
   ]
  },
  {
   "cell_type": "code",
   "execution_count": 37,
   "metadata": {
    "collapsed": true
   },
   "outputs": [],
   "source": [
    "def update_swarm(graph, particleIndex):\n",
    "    \"\"\"\n",
    "    This function takes the materials graph (networkx.DiGraph), and a particle index,\n",
    "    then determines if a material update is required \n",
    "    and if so, returns the new materialindex\n",
    "    Args:\n",
    "        graph (networkx.DiGraph): Directed multigraph representing the transformation of material types\n",
    "        particleIndex (int): the particle index as corressponding to the index in the swarm data arrays\n",
    "    Returns:\n",
    "        if update is required the function returns the the new material variable (int) \n",
    "        else returns None\n",
    "    Raises:\n",
    "        TypeError: not implemented\n",
    "        ValueError: not implemented\n",
    "    \"\"\"\n",
    "    ##Egde gives links to other materials, we then query the conditions to see if we should change materials\n",
    "    matId = materialVariable.data[particleIndex][0]\n",
    "    innerchange = False\n",
    "    outerchange = False\n",
    "    for edge in graph[matId]:\n",
    "        if outerchange:\n",
    "            break\n",
    "        for cond in graph[matId][edge].keys():\n",
    "            outerchange = False\n",
    "            if innerchange: #found a complete transition, break inner loop\n",
    "                break\n",
    "            currentparticlevalue = conditionmap[cond]['data'][particleIndex]\n",
    "            crossover = graph[matId][edge][cond]\n",
    "            if ((matId > edge) and (currentparticlevalue > crossover)):\n",
    "                innerchange = False # continue on, \n",
    "                if graph[matId][edge].keys()[-1] == cond:\n",
    "                    outerchange = True\n",
    "                    innerchange = edge\n",
    "                    break\n",
    "            elif ((matId < edge) and (currentparticlevalue < crossover)):\n",
    "                innerchange = False\n",
    "                if graph[matId][edge].keys()[-1] == cond:\n",
    "                    outerchange = True\n",
    "                    innerchange = edge\n",
    "                    break\n",
    "            else:\n",
    "                #condition not met, break outer loop, go to next edge, outerchange should still be False\n",
    "                break\n",
    "    if type(innerchange) == int:\n",
    "        return innerchange"
   ]
  },
  {
   "cell_type": "markdown",
   "metadata": {},
   "source": [
    "for particleID in range(gSwarm.particleCoordinates.data.shape[0]):\n",
    "                check = update_swarm(DG, particleID)\n",
    "                #print check\n",
    "                if check > -1:\n",
    "                    #number_updated += 1\n",
    "                    materialVariable.data[particleID] = check"
   ]
  },
  {
   "cell_type": "code",
   "execution_count": 38,
   "metadata": {
    "collapsed": false
   },
   "outputs": [],
   "source": [
    "#Cleanse the swarm of its sins\n",
    "#For some Material Graphs, the graph may have to be treaversed more than once\n",
    "\n",
    "check = -1\n",
    "number_updated = 1\n",
    "\n",
    "while number_updated != 0:\n",
    "    number_updated = 0\n",
    "    for particleID in range(gSwarm.particleCoordinates.data.shape[0]):\n",
    "                check = update_swarm(DG, particleID)\n",
    "                if check > -1:\n",
    "                    number_updated += 1\n",
    "                    materialVariable.data[particleID] = check"
   ]
  },
  {
   "cell_type": "code",
   "execution_count": 39,
   "metadata": {
    "collapsed": false
   },
   "outputs": [],
   "source": [
    "#figtemp = plt.Figure()\n",
    "#tempminmax = fn.view.min_max(temperatureField)\n",
    "#figtemp.Surface(temperatureField, linearMesh)\n",
    "#figtemp.VectorArrows(velocityField, linearMesh, lengthScale=0.5/velmax, arrowHeadSize=0.2 )\n",
    "#figtemp.Points( swarm=gSwarm, colourVariable=materialVariable , pointSize=1.0)\n",
    "#figtemp.Mesh(linearMesh, colourBar=False)\n",
    "#figtemp.show()\n",
    "#figtemp.save_database('test.gldb')"
   ]
  },
  {
   "cell_type": "markdown",
   "metadata": {},
   "source": [
    "##Set the values for the masking swarms"
   ]
  },
  {
   "cell_type": "code",
   "execution_count": 40,
   "metadata": {
    "collapsed": false
   },
   "outputs": [],
   "source": [
    "#Setup up a masking Swarm variable for the integrations.\n",
    "#Two possible problems? \n",
    "#does it work in parallel,\n",
    "#How do we mange advecting this swarm?\n",
    "#(might be best to just rebuild it every timestep, that way we only focus on advecting the material swarm)\n",
    "\n",
    "rockIntVar.data[:] = 0.\n",
    "notair = np.where(materialVariable.data != airIndex)\n",
    "rockIntVar.data[notair] = 1.\n",
    "\n",
    "airIntVar.data[:] = 0.\n",
    "notrock = np.where(materialVariable.data == airIndex)\n",
    "airIntVar.data[notrock] = 1.\n",
    "\n",
    "lithIntVar.data[:] = 0.\n",
    "islith = np.where((materialVariable.data == lithosphereIndex) | (materialVariable.data == crustIndex))\n",
    "lithIntVar.data[islith] = 1."
   ]
  },
  {
   "cell_type": "markdown",
   "metadata": {
    "collapsed": true
   },
   "source": [
    "##Set up a swarm for surface integrations¶\n"
   ]
  },
  {
   "cell_type": "code",
   "execution_count": 41,
   "metadata": {
    "collapsed": false
   },
   "outputs": [
    {
     "data": {
      "text/plain": [
       "24.0"
      ]
     },
     "execution_count": 41,
     "metadata": {},
     "output_type": "execute_result"
    }
   ],
   "source": [
    "np.floor(10.*156/64)"
   ]
  },
  {
   "cell_type": "code",
   "execution_count": 42,
   "metadata": {
    "collapsed": false
   },
   "outputs": [],
   "source": [
    "snum = 1000.\n",
    "dx = (linearMesh.data[:,0].max()- linearMesh.data[:,0].min())/snum\n",
    "yp = 0.9947 #1. - yelsize/2. at res = 96\n",
    "\n",
    "linearMesh.data[:,0].max()\n",
    "xps = np.linspace(linearMesh.data[:,0].min(),linearMesh.data[:,0].max(), snum)\n",
    "yps = [yp for i in xps]\n",
    "\n",
    "surfintswarm = uw.swarm.Swarm( feMesh=elementMesh )\n",
    "dumout = surfintswarm.add_particles_with_coordinates(np.array((xps,yps)).T)\n",
    "\n",
    "yps = [ 1.- yp  for i in xps]\n",
    "\n",
    "baseintswarm = uw.swarm.Swarm( feMesh=elementMesh )\n",
    "dumout = baseintswarm.add_particles_with_coordinates(np.array((xps,yps)).T)"
   ]
  },
  {
   "cell_type": "code",
   "execution_count": 43,
   "metadata": {
    "collapsed": false
   },
   "outputs": [],
   "source": [
    "# visualise\n",
    "#fig1 = plt.Figure()\n",
    "#fig1.Points( swarm=surfintswarm, pointSize=10.0)\n",
    "#fig1.Points( swarm=baseintswarm, pointSize=10.0)\n",
    "#fig1.Points( swarm=gSwarm,colourVariable=rockIntVar)\n",
    "#fig1.VectorArrows(velocityField, linearMesh, lengthScale=0.0002)\n",
    "#fig1.Surface(temperatureField, linearMesh)\n",
    "#\n",
    "#fig1.Mesh(linearMesh, colourBar=False)\n",
    "#fig1.show()"
   ]
  },
  {
   "cell_type": "markdown",
   "metadata": {
    "collapsed": false
   },
   "source": [
    "#Material properties\n"
   ]
  },
  {
   "cell_type": "code",
   "execution_count": null,
   "metadata": {
    "collapsed": true
   },
   "outputs": [],
   "source": []
  },
  {
   "cell_type": "code",
   "execution_count": 44,
   "metadata": {
    "collapsed": false
   },
   "outputs": [],
   "source": [
    "#Make variables required for plasticity\n",
    "\n",
    "secinvCopy = fn.tensor.second_invariant( \n",
    "                    fn.tensor.symmetric( \n",
    "                        velocityField.gradientFn ))\n",
    "\n",
    "coordinate = fn.input()\n",
    "\n",
    "depth = 1. - coordinate[1]\n"
   ]
  },
  {
   "cell_type": "code",
   "execution_count": 45,
   "metadata": {
    "collapsed": false
   },
   "outputs": [],
   "source": [
    "depthField = uw.fevariable.FeVariable( feMesh=linearMesh,   nodeDofCount=1 )\n",
    "\n",
    "depthField.data[:] = depth.evaluate(linearMesh)\n",
    "depthField.data[np.where(depthField.data[:] < 0.)[0]] = 0.\n",
    "#depthdata = depth.evaluate(linearMesh)"
   ]
  },
  {
   "cell_type": "code",
   "execution_count": null,
   "metadata": {
    "collapsed": false
   },
   "outputs": [],
   "source": [
    "\n"
   ]
  },
  {
   "cell_type": "code",
   "execution_count": 46,
   "metadata": {
    "collapsed": false
   },
   "outputs": [],
   "source": [
    "\n",
    "viscosityl2 = newvisc*fn.math.exp((math.log(ETA_T)*-1*temperatureField) + (depthField*math.log(ETA_Y)))\n",
    "\n",
    "viscosityFn1 = viscosityl2 #This one always gets passed to the first velcotity solve\n",
    "\n",
    "#Von Mises effective viscosity\n",
    "viscosityp = ETA0 + YSTRESS/(secinvCopy/math.sqrt(0.5)) #extra factor to account for underworld second invariant form\n",
    "\n",
    "\n",
    "viscosityFn2 = 2./(1./viscosityl2 + 1./viscosityp)\n"
   ]
  },
  {
   "cell_type": "code",
   "execution_count": 47,
   "metadata": {
    "collapsed": false
   },
   "outputs": [],
   "source": [
    "#Compositional Rayligh number of rock-water \n",
    "\n",
    "g = 9.81\n",
    "rho = 3300\n",
    "a = 1.25*10**-5\n",
    "kappa = 10**-6\n",
    "dT = 2500\n",
    "eta0 = rho*g*a*dT*((D*1e3)**3)/(RA*kappa)\n",
    "#Composisitional Rayleigh number\n",
    "Rc = (3300*g*(D*1000)**3)/(eta0*kappa)\n"
   ]
  },
  {
   "cell_type": "code",
   "execution_count": 48,
   "metadata": {
    "collapsed": true
   },
   "outputs": [],
   "source": [
    "CompRAfact = Rc/RA\n",
    "\n",
    "airviscosity = 0.001\n",
    "airdensity = RA*CompRAfact"
   ]
  },
  {
   "cell_type": "code",
   "execution_count": 49,
   "metadata": {
    "collapsed": true
   },
   "outputs": [],
   "source": [
    "##This block sets up rheolgoy for models with crust rheology;\n",
    "\n",
    "viscreduct = 0.1\n",
    "\n",
    "#Von Mises effective viscosity\n",
    "crustviscosityp = viscreduct*ETA0 + ((viscreduct*YSTRESS)/(secinvCopy/math.sqrt(0.5))) #extra factor to account for underworld second invariant form\n",
    "crustviscosityFn2 = 2./(1./viscosityl2 + 1./crustviscosityp)\n"
   ]
  },
  {
   "cell_type": "markdown",
   "metadata": {},
   "source": [
    "Set up simulation parameters and functions\n",
    "====\n",
    "\n",
    "Here the functions for density, viscosity etc. are set. These functions and/or values are preserved for the entire simulation time. "
   ]
  },
  {
   "cell_type": "code",
   "execution_count": 50,
   "metadata": {
    "collapsed": true
   },
   "outputs": [],
   "source": [
    "# Here we set a viscosity value of '1.' for both materials\n",
    "viscosityMapFn = fn.branching.map( keyFunc = materialVariable,\n",
    "                         mappingDict = {airIndex:airviscosity, lithosphereIndex:viscosityFn2, crustIndex:viscosityFn2,mantleIndex:viscosityFn2} )\n",
    "\n",
    "densityMapFn = fn.branching.map( keyFunc = materialVariable,\n",
    "                         mappingDict = {airIndex:airdensity, lithosphereIndex:RA*temperatureField, crustIndex:RA*temperatureField, mantleIndex:RA*temperatureField} )\n",
    "\n",
    "# Define our gravity using a python tuple (this will be automatically converted to a function)\n",
    "gravity = ( 0.0, 1.0 )\n",
    "\n",
    "buoyancyFn = gravity*densityMapFn"
   ]
  },
  {
   "cell_type": "markdown",
   "metadata": {},
   "source": [
    "Build the Stokes system, solvers, advection-diffusion\n",
    "------\n",
    "\n",
    "Setup linear Stokes system to get the initial velocity."
   ]
  },
  {
   "cell_type": "code",
   "execution_count": 51,
   "metadata": {
    "collapsed": false
   },
   "outputs": [],
   "source": [
    "#We first set up a l\n",
    "stokesPIC = uw.systems.Stokes(velocityField=velocityField, \n",
    "                              pressureField=pressureField,\n",
    "                              conditions=[freeslipBC,],\n",
    "#                              viscosityFn=viscosityFn1, \n",
    "                              viscosityFn=fn.exception.SafeMaths(viscosityFn1), \n",
    "                              bodyForceFn=buoyancyFn)"
   ]
  },
  {
   "cell_type": "markdown",
   "metadata": {},
   "source": [
    "We do one solve with linear viscosity to get the initial strain rate invariant. This solve step also calculates a 'guess' of the the velocity field based on the linear system, which is used later in the non-linear solver."
   ]
  },
  {
   "cell_type": "code",
   "execution_count": 52,
   "metadata": {
    "collapsed": false
   },
   "outputs": [],
   "source": [
    "stokesPIC.solve()"
   ]
  },
  {
   "cell_type": "code",
   "execution_count": 53,
   "metadata": {
    "collapsed": false
   },
   "outputs": [],
   "source": [
    "#Switch particle escape on, this will also trigger the inflow population control \n",
    "gSwarm.particleEscape = True"
   ]
  },
  {
   "cell_type": "code",
   "execution_count": 54,
   "metadata": {
    "collapsed": false
   },
   "outputs": [],
   "source": [
    "# Setup the Stokes system again, now with linear or nonlinear visocity viscosity.\n",
    "stokesPIC2 = uw.systems.Stokes(velocityField=velocityField, \n",
    "                              pressureField=pressureField,\n",
    "                              conditions=[freeslipBC,],\n",
    "                              viscosityFn=fn.exception.SafeMaths(viscosityMapFn), \n",
    "                              bodyForceFn=buoyancyFn, swarm = gSwarm)"
   ]
  },
  {
   "cell_type": "code",
   "execution_count": 55,
   "metadata": {
    "collapsed": false
   },
   "outputs": [],
   "source": [
    "solver = uw.systems.Solver(stokesPIC2) # altered from PIC2\n",
    "\n",
    "solver.options.main.Q22_pc_type='uwscale'  # also try 'gtkg', 'gkgdiag' and 'uwscale'\n",
    "solver.options.main.penalty = 1.0\n",
    "solver.options.A11.ksp_rtol=1e-6\n",
    "solver.options.scr.ksp_rtol=1e-5\n",
    "solver.options.scr.use_previous_guess = True\n",
    "solver.options.scr.ksp_set_min_it_converge = 1\n",
    "solver.options.scr.ksp_set_max_it = 100\n",
    "solver.options.mg.levels = 4\n",
    "solver.options.mg.mg_levels_ksp_type = 'chebyshev'\n",
    "solver.options.mg_accel.mg_accelerating_smoothing = True\n",
    "solver.options.mg_accel.mg_accelerating_smoothing_view = False\n",
    "solver.options.mg_accel.mg_smooths_to_start = 1"
   ]
  },
  {
   "cell_type": "markdown",
   "metadata": {},
   "source": [
    "Solve for initial pressure and velocity using a quick non-linear Picard iteration\n"
   ]
  },
  {
   "cell_type": "code",
   "execution_count": 56,
   "metadata": {
    "collapsed": false
   },
   "outputs": [],
   "source": [
    "solver.solve(nonLinearIterate=True)"
   ]
  },
  {
   "cell_type": "markdown",
   "metadata": {},
   "source": [
    "Create an advective-diffusive system\n",
    "=====\n",
    "\n",
    "Setup the system in underworld by flagging the temperature and velocity field variables."
   ]
  },
  {
   "cell_type": "code",
   "execution_count": 125,
   "metadata": {
    "collapsed": false
   },
   "outputs": [],
   "source": [
    "#Create advdiff system\n",
    "advDiff = uw.systems.AdvectionDiffusion( temperatureField, velocityField, diffusivity=1., conditions=[tempBC,] )\n",
    "\n",
    "advector = uw.systems.SwarmAdvector( swarm=gSwarm, velocityField=velocityField, order=1)"
   ]
  },
  {
   "cell_type": "markdown",
   "metadata": {},
   "source": [
    "Metrics for benchmark\n",
    "=====\n",
    "\n",
    "Define functions to be used in the time loop. For cases 1-4, participants were asked to report a number of diagnostic quantities to be measured after reaching steady state:\n",
    "\n",
    "* Average temp... $$  \\langle T \\rangle  = \\int^1_0 \\int^1_0 T \\, dxdy $$\n",
    "* Top and bottom Nusselt numbers... $$N = \\int^1_0 \\frac{\\partial T}{\\partial y} \\rvert_{y=0/1} \\, dx$$\n",
    "* RMS velocity over the whole domain, surface and max velocity at surface\n",
    "* max and min viscosity over the whole domain\n",
    "* average rate of work done against gravity...$$\\langle W \\rangle = \\int^1_0 \\int^1_0 T u_y \\, dx dy$$\n",
    "* and the average rate of viscous dissipation...$$\\langle \\Phi \\rangle = \\int^1_0 \\int^1_0 \\tau_{ij} \\dot \\epsilon_{ij} \\, dx dy$$\n",
    "\n",
    "* In steady state, if thermal energy is accurately conserved, the difference between $\\langle W \\rangle$ and $\\langle \\Phi \\rangle / Ra$ must vanish, so also reported is the percentage error: \n",
    "\n",
    "$$ \\delta = \\frac{\\lvert \\langle W \\rangle - \\frac{\\langle \\Phi \\rangle}{Ra} \\rvert}{max \\left(  \\langle W \\rangle,  \\frac{\\langle \\Phi \\rangle}{Ra}\\right)} \\times 100% $$"
   ]
  },
  {
   "cell_type": "code",
   "execution_count": 57,
   "metadata": {
    "collapsed": false
   },
   "outputs": [],
   "source": [
    "#Setup some Integrals. We want these outside the main loop...\n",
    "tempVariable = gSwarm.add_variable( dataType=\"double\", count=1 )\n",
    "tempVariable.data[:] = temperatureField.evaluate(gSwarm)[:]\n",
    "tempint = uw.utils.Integral((tempVariable*rockIntVar), linearMesh)\n",
    "\n",
    "\n",
    "areaint = uw.utils.Integral((1.*rockIntVar),linearMesh)\n",
    "\n",
    "v2int = uw.utils.Integral(fn.math.dot(velocityField,velocityField)*rockIntVar, linearMesh)\n",
    "\n",
    "\n",
    "dwint = uw.utils.Integral(temperatureField*velocityField[1]*rockIntVar, linearMesh)\n",
    "\n",
    "secinv = fn.tensor.second_invariant(\n",
    "                    fn.tensor.symmetric(\n",
    "                        velocityField.gradientFn ))\n",
    "\n",
    "sinner = fn.math.dot(secinv,secinv)\n",
    "vdint = uw.utils.Integral((4.*viscosityFn2*sinner)*rockIntVar, linearMesh)\n",
    "vdintair = uw.utils.Integral((4.*viscosityFn2*sinner)*airIntVar, linearMesh)\n",
    "vdintlith = uw.utils.Integral((4.*viscosityFn2*sinner)*lithIntVar, linearMesh)"
   ]
  },
  {
   "cell_type": "code",
   "execution_count": 58,
   "metadata": {
    "collapsed": false
   },
   "outputs": [],
   "source": [
    "def avg_temp():\n",
    "    return tempint.evaluate()[0]\n",
    "\n",
    "#This one gets cleaned up when Surface integrals are available\n",
    "def nusselt(tempfield, swarm, dx):\n",
    "    #Update the swarm variable\n",
    "    tempgrad = tempfield.gradientFn\n",
    "    valcheck = tempgrad[1].evaluate(swarm)\n",
    "    if valcheck is None:\n",
    "        vals = np.array(0, dtype='float64')\n",
    "    else:\n",
    "        vals = valcheck.sum()*dx\n",
    "    return vals\n",
    "\n",
    "def rms():\n",
    "    return math.sqrt(v2int.evaluate()[0])\n",
    "\n",
    "#This one gets cleaned up when Surface integrals are available\n",
    "def rms_surf(swarm, dx):\n",
    "    rmsmaxfn = fn.math.sqrt(fn.math.dot(velocityField,velocityField))\n",
    "    rmscheck = rmsmaxfn.evaluate(swarm)\n",
    "    if rmscheck is None:\n",
    "        rmsvals = np.array(0, dtype='float64')\n",
    "    else:\n",
    "        rmsvals = rmscheck.sum()*dx\n",
    "    return rmsvals\n",
    "\n",
    "def max_vx_surf(velfield, swarm):\n",
    "    surfvelxmaxfn = fn.view.min_max(velfield[0])\n",
    "    surfvelxmaxfn.evaluate(swarm)\n",
    "    return surfvelxmaxfn.max_global()\n",
    "\n",
    "def max_vy_surf(velfield, swarm):\n",
    "    surfvelxmaxfn = fn.view.min_max(velfield[1])\n",
    "    surfvelxmaxfn.evaluate(swarm)\n",
    "    return surfvelxmaxfn.max_global()\n",
    "\n",
    "def gravwork(workfn):\n",
    "    return workfn.evaluate()[0]\n",
    "\n",
    "def viscdis(vdissfn):\n",
    "    return vdissfn.evaluate()[0]\n",
    "\n",
    "def visc_extr(viscfn):\n",
    "    vuviscfn = fn.view.min_max(viscfn)\n",
    "    vuviscfn.evaluate(linearMesh)\n",
    "    return vuviscfn.max_global(), vuviscfn.min_global()"
   ]
  },
  {
   "cell_type": "code",
   "execution_count": 59,
   "metadata": {
    "collapsed": false
   },
   "outputs": [
    {
     "data": {
      "text/plain": [
       "<glucifer.pylab._drawing.Points at 0x10c4e7ad0>"
      ]
     },
     "execution_count": 59,
     "metadata": {},
     "output_type": "execute_result"
    }
   ],
   "source": [
    "#Fields for saving data / fields\n",
    "\n",
    "rmsField = uw.fevariable.FeVariable( feMesh=linearMesh,   nodeDofCount=1)\n",
    "rmsfn = fn.math.sqrt(fn.math.dot(velocityField,velocityField))\n",
    "rmsdata = rmsfn.evaluate(linearMesh)\n",
    "rmsField.data[:] = rmsdata \n",
    "\n",
    "viscField = uw.fevariable.FeVariable( feMesh=linearMesh,   nodeDofCount=1)\n",
    "viscdata = viscosityFn2.evaluate(linearMesh)\n",
    "viscField.data[:] = viscdata\n",
    "\n",
    "\n",
    "stressField = uw.fevariable.FeVariable( feMesh=linearMesh,   nodeDofCount=1)\n",
    "srtdata = fn.tensor.second_invariant( \n",
    "                    fn.tensor.symmetric( \n",
    "                        velocityField.gradientFn ))\n",
    "rostfield = srtdata.evaluate(linearMesh)\n",
    "stressinv = 2*viscdata*rostfield[:]\n",
    "stressField.data[:] = stressinv\n",
    "\n",
    "\n",
    "\n",
    "##Gldbs:\n",
    "\n",
    "viscVariable = gSwarm.add_variable( dataType=\"float\", count=1 )\n",
    "viscVariable.data[:] = viscosityMapFn.evaluate(gSwarm)\n",
    "figEta = glucifer.Figure()\n",
    "figEta + glucifer.objects.Points(gSwarm,materialVariable, colours='brown white red blue')\n",
    "figEta + glucifer.objects.Points(gSwarm,viscVariable)\n"
   ]
  },
  {
   "cell_type": "markdown",
   "metadata": {},
   "source": [
    "Main simulation loop\n",
    "=======\n",
    "\n",
    "The main time stepping loop begins here. Before this the time and timestep are initialised to zero and the output statistics arrays are set up. Also the frequency of outputting basic statistics to the screen is set in steps_output.\n"
   ]
  },
  {
   "cell_type": "code",
   "execution_count": 60,
   "metadata": {
    "collapsed": false
   },
   "outputs": [],
   "source": [
    "realtime = 0.\n",
    "step = 0\n",
    "timevals = [0.]\n",
    "steps_end = 5\n",
    "steps_display_info = 20\n",
    "swarm_update = min(20, np.floor(10.*RES/64))\n",
    "files_output = 400\n",
    "gldbs_output = 1000\n",
    "checkpoint_every = 10000\n",
    "metric_output = np.floor(10.*RES/64)"
   ]
  },
  {
   "cell_type": "code",
   "execution_count": 133,
   "metadata": {
    "collapsed": true
   },
   "outputs": [],
   "source": [
    "def checkpoint(step, path):\n",
    "    velfile = \"velocityField\" + str(step) + \".hdf5\"\n",
    "    tempfile = \"temperatureField\" + str(step) + \".hdf5\"\n",
    "    pressfile = \"pressureField\" + str(step) + \".hdf5\"\n",
    "    swarmfile = \"materialSwarm\" + str(step) + \".hdf5\"\n",
    "    velocityField.save(os.path.join(path, velfile))\n",
    "    temperatureField.save(os.path.join(path, tempfile))\n",
    "    pressureField.save(os.path.join(path, pressfile))\n",
    "    gSwarm.save(os.path.join(path, swarmfile))"
   ]
  },
  {
   "cell_type": "code",
   "execution_count": 57,
   "metadata": {
    "collapsed": false
   },
   "outputs": [
    {
     "name": "stdout",
     "output_type": "stream",
     "text": [
      "0\n",
      "1\n"
     ]
    }
   ],
   "source": [
    "# initialise timer for computation\n",
    "start = time.clock()\n",
    "# setup summary output file (name above)\n",
    "f_o = open(outputPath+outputFile, 'w')\n",
    "# Perform steps\n",
    "while realtime < 0.05:\n",
    "#while step < 2:\n",
    "    #Enter non-linear loop\n",
    "    solver.solve(nonLinearIterate=True)\n",
    "    dt = advDiff.get_max_dt()\n",
    "    if step == 0:\n",
    "        dt = 0.\n",
    "    advDiff.integrate(dt)\n",
    "    # Advect swarm using this timestep size\n",
    "    advector.integrate(dt)\n",
    "    # Increment\n",
    "    realtime += dt\n",
    "    step += 1\n",
    "    timevals.append(realtime)\n",
    "    #Update any swarm variables and temperature field in the air region\n",
    "    tempVariable.data[:] = temperatureField.evaluate(gSwarm)[:]\n",
    "    for index, coord in enumerate(linearMesh.data):\n",
    "        if coord[1] >= 1.:\n",
    "            temperatureField.data[index] = 0.   \n",
    "    # Calculate the Metrics, only on 1 of the processors:\n",
    "    if (step % metric_output == 0):\n",
    "        tempVariable.data[:] = temperatureField.evaluate(gSwarm)[:]\n",
    "        Avg_temp = avg_temp()\n",
    "        Rms = rms()\n",
    "        Max_vx_surf = max_vx_surf(velocityField, surfintswarm)\n",
    "        Gravwork = gravwork(dwint)\n",
    "        Viscdis = viscdis(vdint)\n",
    "        Viscdisair = viscdis(vdintair)\n",
    "        Viscdislith = viscdis(vdintlith)\n",
    "        etamax, etamin = visc_extr(viscosityFn2)\n",
    "        #These are the ones that need mpi4py treatment\n",
    "        Nu0loc = nusselt(temperatureField, baseintswarm, dx)\n",
    "        Nu1loc = nusselt(temperatureField, surfintswarm, dx)\n",
    "        Rmsurfloc = rms_surf(surfintswarm, dx)\n",
    "        #Setup the global output arrays\n",
    "        dTp = Nu0loc.dtype\n",
    "        Nu0glob = np.array(0, dtype=dTp)\n",
    "        dTp = Nu1loc.dtype\n",
    "        Nu1glob = np.array(0, dtype=dTp)\n",
    "        dTp = Rmsurfloc.dtype\n",
    "        Rmsurfglob = np.array(0, dtype=dTp)\n",
    "        #Do global sum\n",
    "        comm.Allreduce(Nu0loc, Nu0glob, op=MPI.SUM)\n",
    "        comm.Allreduce(Nu1loc, Nu1glob, op=MPI.SUM)\n",
    "        comm.Allreduce(Rmsurfloc, Rmsurfglob, op=MPI.SUM)\n",
    "        # output to summary text file\n",
    "        if uw.rank()==0:\n",
    "            f_o.write((13*'%-15s ' + '\\n') % (realtime, Viscdis, float(Nu0glob), float(Nu1glob), Avg_temp, \n",
    "                                              Rms,Rmsurfglob,Max_vx_surf,Gravwork, etamax, etamin, Viscdisair, Viscdislith))\n",
    "    #if step %  steps_display_info == 0:\n",
    "    # output image to file\n",
    "    if (step % files_output == 0) & (writeFiles == True):\n",
    "        ##Files to save\n",
    "        fnametemp = \"temperatureField\" + \"_\" + str(ModIt) + \"_\" + str(step) + \".hdf5\"\n",
    "        fullpath = os.path.join(outputPath + \"files/\" + fnametemp)\n",
    "        temperatureField.save(fullpath)\n",
    "        #RMS\n",
    "        fnamerms = \"rmsField\" + \"_\" + str(ModIt) + \"_\" + str(step) + \".hdf5\"\n",
    "        fullpath = os.path.join(outputPath + \"files/\" + fnamerms)\n",
    "        rmsField.save(fullpath)\n",
    "     \n",
    "    if (step % gldbs_output == 0) & (writeFiles == True):\n",
    "        #Rebuild any necessary swarm variables\n",
    "        viscVariable.data[:] = viscosityMapFn.evaluate(gSwarm)\n",
    "        #Write gldbs\n",
    "        fnamedb = \"viscFig\" + \"_\" + str(ModIt) + \"_\" + str(step) + \".gldb\"\n",
    "        fullpath = os.path.join(outputPath + \"gldbs/\" + fnamedb)\n",
    "        figEta.save_database(fullpath)\n",
    "    ################\n",
    "    #Particle update\n",
    "    ###############\n",
    "    particledepths = 1. - gSwarm.particleCoordinates.data[:,1]\n",
    "    particletemps = temperatureField.evaluate(gSwarm)[:,0]\n",
    "    conditionmap['depthcondition']['data'] = particledepths\n",
    "    conditionmap['avgtempcondition']['data'] = particletemps\n",
    "    if step % swarm_update == 0:\n",
    "        number_updated = 0\n",
    "        for particleID in range(gSwarm.particleCoordinates.data.shape[0]):\n",
    "            check = update_swarm(DG, particleID)\n",
    "            if check > -1:\n",
    "                number_updated += 1\n",
    "                #if check == 0:\n",
    "                #    print \"from \" + str(materialVariable.data[particleID]) + \" to \" + str(check)\n",
    "                materialVariable.data[particleID] = check\n",
    "            else:\n",
    "                pass\n",
    "        #Also update those integration swarms\n",
    "        rockIntVar.data[:] = 0.\n",
    "        notair = np.where(materialVariable.data != airIndex)\n",
    "        rockIntVar.data[notair] = 1.\n",
    "        airIntVar.data[:] = 0.\n",
    "        notrock = np.where(materialVariable.data == airIndex)\n",
    "        airIntVar.data[notrock] = 1.\n",
    "        lithIntVar.data[:] = 0.\n",
    "        islith = np.where((materialVariable.data == lithosphereIndex) | (materialVariable.data == crustIndex))\n",
    "        lithIntVar.data[islith] = 1.\n",
    "        #Also print some info at this step increment\n",
    "        #print('steps = {0:6d}; time = {1:.3e}; v_rms = {2:.3f}; Nu0 = {3:.3f}; Nu1 = {3:.3f}'\n",
    "        #  .format(step, realtime, Rms, float(Nu0glob), float(Nu1glob)))\n",
    "        \n",
    "f_o.close()\n",
    "checkpoint(step, checkpointPath)"
   ]
  },
  {
   "cell_type": "code",
   "execution_count": 58,
   "metadata": {
    "collapsed": false
   },
   "outputs": [],
   "source": [
    "#vdfield = densityMapFn\n",
    "#vdVariable = gSwarm.add_variable( dataType=\"float\", count=1)\n",
    "#vd = vdfield.evaluate(gSwarm)\n",
    "#vdVariable.data[:] = vd[:]\n",
    "\n",
    "#fig1 = plt.Figure()\n",
    "#fig1.Surface(buoyancyFn[1], elementMesh)\n",
    "#fig1.Surface(velocityField[1], elementMesh)\n",
    "#fig1.Points( swarm=gSwarm, colourVariable=vdVariable , pointSize=3.0)\n",
    "#fig1.VectorArrows(velocityField, linearMesh, lengthScale=0.1)\n",
    "#fig1.show()"
   ]
  },
  {
   "cell_type": "code",
   "execution_count": 53,
   "metadata": {
    "collapsed": false
   },
   "outputs": [
    {
     "data": {
      "text/plain": [
       "0.089336718430192585"
      ]
     },
     "execution_count": 53,
     "metadata": {},
     "output_type": "execute_result"
    }
   ],
   "source": [
    "viscosityFn2.evaluate(linearMesh).min()"
   ]
  },
  {
   "cell_type": "code",
   "execution_count": 54,
   "metadata": {
    "collapsed": false,
    "scrolled": true
   },
   "outputs": [],
   "source": [
    "#fig1 = plt.Figure()\n",
    "#fig1.Surface(buoyancyFn[1], elementMesh)\n",
    "#fig1.Surface(viscosityFn2, elementMesh, logScale=True)\n",
    "#fig1.Points( swarm=gSwarm, colourVariable=materialVariable , pointSize=0.5, colours='white blue red black')\n",
    "#fig1.Mesh(linearMesh)\n",
    "#fig1.VectorArrows(velocityField, linearMesh, lengthScale=0.002)\n",
    "#fig1.Points( swarm=surfintswarm,  pointSize=2.0)\n",
    "\n",
    "#fig1.show()\n",
    "#fig1.save_database('test_mesh_refine.gldb')\n"
   ]
  },
  {
   "cell_type": "code",
   "execution_count": 60,
   "metadata": {
    "collapsed": false
   },
   "outputs": [],
   "source": [
    "#visplot = viscosityMapFn.evaluate(linearMesh)"
   ]
  },
  {
   "cell_type": "code",
   "execution_count": null,
   "metadata": {
    "collapsed": true
   },
   "outputs": [],
   "source": [
    "plt.objects."
   ]
  },
  {
   "cell_type": "code",
   "execution_count": 61,
   "metadata": {
    "collapsed": false
   },
   "outputs": [
    {
     "data": {
      "text/html": [
       "<img src='data:image/png;base64,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'>"
      ],
      "text/plain": [
       "<IPython.core.display.HTML object>"
      ]
     },
     "execution_count": 61,
     "metadata": {},
     "output_type": "execute_result"
    }
   ],
   "source": [
    "viscVariable = gSwarm.add_variable( dataType=\"float\", count=1 )\n",
    "viscVariable.data[:] = viscosityMapFn.evaluate(gSwarm)\n",
    "figEta = glucifer.Figure()\n",
    "figEta + glucifer.objects.Points(gSwarm,viscVariable,colours='white yellow red green blue black')\n",
    "#figEta.VectorArrows(velocityField, linearMesh, lengthScale=0.002)\n",
    "#figEta.Points(gSwarm,materialVariable, colours='brown white blue')\n",
    "#figEta.Points(gSwarm,rockIntVar, colours='red black')\n",
    "#figEta.Points( swarm=surfintswarm,  pointSize=2.0)\n",
    "\n",
    "#figEta.Mesh(linearMesh)\n",
    "#figEta.save_database('test_mesh_refine.gldb')\n",
    "\n",
    "\n",
    "\n",
    "\n",
    "#figEta.Points(gSwarm,materialVariable)\n",
    "figEta.show()"
   ]
  },
  {
   "cell_type": "code",
   "execution_count": null,
   "metadata": {
    "collapsed": true
   },
   "outputs": [],
   "source": [
    "machine_time = (time.clock()-start)\n",
    "print(\"total time is: \" + str(machine_time))"
   ]
  }
 ],
 "metadata": {
  "kernelspec": {
   "display_name": "Python 2",
   "language": "python",
   "name": "python2"
  },
  "language_info": {
   "codemirror_mode": {
    "name": "ipython",
    "version": 2
   },
   "file_extension": ".py",
   "mimetype": "text/x-python",
   "name": "python",
   "nbconvert_exporter": "python",
   "pygments_lexer": "ipython2",
   "version": "2.7.10"
  }
 },
 "nbformat": 4,
 "nbformat_minor": 0
}
