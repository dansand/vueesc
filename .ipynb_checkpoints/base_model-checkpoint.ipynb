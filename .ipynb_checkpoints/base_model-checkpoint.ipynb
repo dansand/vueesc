{
 "cells": [
  {
   "cell_type": "markdown",
   "metadata": {
    "collapsed": true
   },
   "source": [
    "\n",
    "Viscoplastic thermal convection in a 2-D square box\n",
    "=======\n",
    "\n",
    "Benchmarks from Tosi et al. 2015\n",
    "--------\n",
    "\n"
   ]
  },
  {
   "cell_type": "markdown",
   "metadata": {
    "collapsed": true
   },
   "source": [
    "This notebook generates models from the <a name=\"ref-1\"/>[(Tosi et al., 2015)](#cite-tosi2015community) in Underworld2. The Underworld2 results are compared to the model run on Fenics. Input files for the Fenics models were provided by Petra Maierova.\n",
    "\n",
    "This example uses the RT PIC solver with classic and nearest neighbour\n",
    "\n",
    "\n",
    "References\n",
    "====\n",
    "\n",
    "<a name=\"cite-tosi2015community\"/><sup>[^](#ref-1) </sup>Tosi, Nicola and Stein, Claudia and Noack, Lena and H&uuml;ttig, Christian and Maierov&aacute;, Petra and Samuel, Henri and Davies, DR and Wilson, CR and Kramer, SC and Thieulot, Cedric and others. 2015. _A community benchmark for viscoplastic thermal convection in a 2-D square box_.\n",
    "\n"
   ]
  },
  {
   "cell_type": "markdown",
   "metadata": {},
   "source": [
    "Load python functions needed for underworld. Some additional python functions from os, math and numpy used later on."
   ]
  },
  {
   "cell_type": "code",
   "execution_count": 1,
   "metadata": {
    "collapsed": false
   },
   "outputs": [],
   "source": [
    "#!pip install natsort\n",
    "#!pip install networkx"
   ]
  },
  {
   "cell_type": "code",
   "execution_count": 2,
   "metadata": {
    "collapsed": false
   },
   "outputs": [],
   "source": [
    "import networkx as nx\n",
    "import underworld as uw\n",
    "import math\n",
    "from underworld import function as fn\n",
    "import glucifer\n",
    "#import matplotlib.pyplot as pyplot\n",
    "import time\n",
    "import numpy as np\n",
    "import os\n",
    "import sys\n",
    "import natsort\n",
    "import shutil\n",
    "from easydict import EasyDict as edict\n",
    "import slippy2 as sp\n",
    "\n",
    "\n",
    "\n",
    "from mpi4py import MPI\n",
    "comm = MPI.COMM_WORLD\n",
    "rank = comm.Get_rank()"
   ]
  },
  {
   "cell_type": "code",
   "execution_count": 3,
   "metadata": {
    "collapsed": false
   },
   "outputs": [
    {
     "name": "stdout",
     "output_type": "stream",
     "text": [
      "/Users/dansandiford/Documents/programming/earthsci_code/python/vueesc/sticky_air_tests\r\n",
      "base_model.ipynb base_model.py    \u001b[1m\u001b[34mresults\u001b[m\u001b[m\r\n"
     ]
    }
   ],
   "source": [
    "#Display working directory info if in nb mode\n",
    "if (len(sys.argv) > 1):\n",
    "    if (sys.argv[1] == '-f'):\n",
    "        !pwd && ls"
   ]
  },
  {
   "cell_type": "code",
   "execution_count": 4,
   "metadata": {
    "collapsed": false
   },
   "outputs": [],
   "source": [
    "############\n",
    "#Model name.  \n",
    "############\n",
    "Model = \"T\"\n",
    "ModNum = 0\n",
    "\n",
    "if len(sys.argv) == 1:\n",
    "    ModIt = \"Base\"\n",
    "elif sys.argv[1] == '-f':\n",
    "    ModIt = \"Base\"\n",
    "else:\n",
    "    ModIt = str(sys.argv[1])\n"
   ]
  },
  {
   "cell_type": "code",
   "execution_count": 5,
   "metadata": {
    "collapsed": true
   },
   "outputs": [],
   "source": [
    "###########\n",
    "#Standard output directory setup\n",
    "###########\n",
    "\n",
    "\n",
    "outputPath = \"results\" + \"/\" +  str(Model) + \"/\" + str(ModNum) + \"/\" + str(ModIt) + \"/\"\n",
    "imagePath = outputPath + 'images/'\n",
    "filePath = outputPath + 'files/'\n",
    "checkpointPath = outputPath + 'checkpoint/'\n",
    "dbPath = outputPath + 'gldbs/'\n",
    "outputFile = 'results_model' + Model + '_' + str(ModNum) + '_' + str(ModIt) + '.dat'\n",
    "\n",
    "if uw.rank()==0:\n",
    "    # make directories if they don't exist\n",
    "    if not os.path.isdir(outputPath):\n",
    "        os.makedirs(outputPath)\n",
    "    if not os.path.isdir(checkpointPath):\n",
    "        os.makedirs(checkpointPath)\n",
    "    if not os.path.isdir(imagePath):\n",
    "        os.makedirs(imagePath)\n",
    "    if not os.path.isdir(dbPath):\n",
    "        os.makedirs(dbPath)\n",
    "    if not os.path.isdir(filePath):\n",
    "        os.makedirs(filePath)\n",
    "        \n",
    "comm.Barrier() #Barrier here so not procs run the check in the next cell too early "
   ]
  },
  {
   "cell_type": "code",
   "execution_count": 6,
   "metadata": {
    "collapsed": false
   },
   "outputs": [
    {
     "name": "stdout",
     "output_type": "stream",
     "text": [
      "results/R/8/Base/checkpoint/ is empty\n"
     ]
    }
   ],
   "source": [
    "###########\n",
    "#Check if starting from checkpoint\n",
    "###########\n",
    "\n",
    "checkdirs = []\n",
    "for dirpath, dirnames, files in os.walk(checkpointPath):\n",
    "    if files:\n",
    "        print dirpath, 'has files'\n",
    "        checkpointLoad = True\n",
    "        checkdirs.append(dirpath)\n",
    "    if not files:\n",
    "        print dirpath, 'is empty'\n",
    "        checkpointLoad = False\n",
    "        \n",
    "\n",
    "        "
   ]
  },
  {
   "cell_type": "markdown",
   "metadata": {},
   "source": [
    "Set physical constants and parameters, including the Rayleigh number (*RA*). "
   ]
  },
  {
   "cell_type": "code",
   "execution_count": 7,
   "metadata": {
    "collapsed": false
   },
   "outputs": [],
   "source": [
    "###########\n",
    "#Physical parameters\n",
    "###########\n",
    "\n",
    "#The Slippy rheology class will contain dimensional and nondimensional values, linked in a self-consistent way by scaling paramters\n",
    "#lowermantle.nondimensional['cohesion']\n",
    "#Where lowermantle is a material class (generated within a rheology class); and non dimensional is a dictionary\n",
    "\n",
    "#UW naming conventions: \n",
    "#module_name, package_name, ClassName, function_name, method_name, \n",
    "#ExceptionName, propertyName GLOBAL_CONSTANT_NAME, globalVarName, instanceVarName, functionParameterName, localVarName\n",
    "###########\n",
    "\n",
    "#RA = 1e6\n",
    "#newvisc= math.exp(math.log(1e5)*0.53)*RA/(math.exp(math.log(1e5)*0.53)*1e2)\n",
    "\n",
    "newvisc= math.exp(math.log(1e5)*0.53) #A factor that appears because I rescale the reference viscosity, compared to the one used in Tosi et al.\n",
    "#Where 1e5 = ETAT, and 0.53 is the steady state average temp of the system \n",
    "\n",
    "\n",
    "\n",
    "#dimensional parameter dictionary\n",
    "dp = edict({'LS':2890.*1e3,\n",
    "           'rho':3300,\n",
    "           'g':9.81, \n",
    "           'kappa':10**-6,\n",
    "           'alpha':1.25*10**-5, \n",
    "           'deltaT':2500,\n",
    "           'StALS': 100e3})\n",
    "\n",
    "#non-dimensional parameter dictionary\n",
    "ndp = edict({'RA':1e2*newvisc, \n",
    "              'LS':1., \n",
    "              'etaT':1e5, \n",
    "              'etaY':10., \n",
    "              'eta0':1e-3*newvisc,\n",
    "              'StAeta0':5e-3,\n",
    "              'TS':0.,\n",
    "              'TB':1., \n",
    "              'cohesion':1.*newvisc}) #4.6 is the transistion from periodic to stagnant lid.\n",
    "\n",
    "\n",
    "#dimsional values used in this model\n",
    "D = dp.LS\n",
    "g = dp.g\n",
    "rho = dp.rho\n",
    "a = dp.alpha\n",
    "kappa = dp.kappa\n",
    "dT = dp.deltaT\n",
    "\n",
    "#nondimensional values used in this model\n",
    "#RA  = nondim.RA      # Rayleigh number\n",
    "#TS  = nondim.TS          # surface temperature\n",
    "#TB  = nondim.TB           # bottom boundary temperature (melting point)\n",
    "#ETA_T = nondim.etaT\n",
    "#ETA_Y = nondim.etaY\n",
    "#ETA0 = nondim.eta0\n",
    "#YSTRESS = nondim.cohesion\n",
    "\n",
    "#A few paramters defining lengths scales, affects materal transistions etc.\n",
    "MANTLETOCRUST = (18.*1e3)/D #Crust depth\n",
    "CRUSTTOMANTLE = (300.*1e3)/D\n",
    "LITHTOMANTLE = (660.*1e3)/D\n",
    "MANTLETOLITH = (200.*1e3)/D\n",
    "TOPOHEIGHT = (10.*1e3)/D #rock-air topography limits\n",
    "AVGTEMP = 0.53 #Used to define lithosphere\n",
    "\n",
    "\n",
    "\n",
    "#Compositional Rayliegh number of rock-air\n",
    "ETAREF = rho*g*a*dT*((D*1e3)**3)/(ndp.RA*kappa) #equivalent dimesnional reference viscosity\n",
    "#RC = (3300*g*(D*1000)**3)/(ETAREF *kappa) #Composisitional Rayleigh number for rock-air buoyancy force\n",
    "RC = (1650*g*(D*1000)**3)/(ETAREF *kappa) #Composisitional Rayleigh number for rock-air buoyancy force\n",
    "\n",
    "COMP_RA_FACT = RC/ndp.RA\n",
    "\n",
    "\n",
    "#Additional dimensionless paramters\n",
    "#AIRVISCOSITY = 0.001\n",
    "\n",
    "AIRDENSITY = ndp.RA*COMP_RA_FACT\n",
    "ndp[\"StA\"] = ndp.RA*COMP_RA_FACT\n",
    "\n"
   ]
  },
  {
   "cell_type": "code",
   "execution_count": 8,
   "metadata": {
    "collapsed": false
   },
   "outputs": [],
   "source": [
    "###########\n",
    "#Model setup parameters\n",
    "###########\n",
    "\n",
    "stickyAir = True\n",
    "\n",
    "MINX = -1.\n",
    "MINY = 0.\n",
    "MAXX = 1.0\n",
    "\n",
    "#MAXY = 1.035\n",
    "MAXY = 1.\n",
    "\n",
    "if MINX == 0.:\n",
    "    squareModel = True\n",
    "else: \n",
    "    squareModel = False\n",
    "    \n",
    "    \n",
    "dim = 2          # number of spatial dimensions\n",
    "\n",
    "\n",
    "#MESH STUFF\n",
    "\n",
    "RES = 128\n",
    "\n",
    "#######################To be replaced soon\n",
    "#Physical parameters that can be defined with STDIN,\n",
    "#The == '-f': check is a a hack check to see cover the notebook case\n",
    "if len(sys.argv) == 1:\n",
    "    RES = RES\n",
    "elif sys.argv[1] == '-f':\n",
    "    RES = RES\n",
    "else:\n",
    "    RES = int(sys.argv[1])\n",
    "\n",
    "\n",
    "if MINX == 0.:\n",
    "    Xres = RES\n",
    "else:\n",
    "    Xres = 2*RES\n",
    "\n",
    "if stickyAir:\n",
    "    Yres = RES\n",
    "    MAXY = 1. + dp.StALS/dp.LS #150km\n",
    "    \n",
    "else:\n",
    "    Yres = RES\n",
    "    MAXY = 1.\n",
    "\n",
    "\n",
    "periodic = [True, False]\n",
    "elementType = \"Q1/dQ0\"\n",
    "#elementType =\"Q2/DPC1\"\n",
    "\n",
    "refineMesh = True\n",
    "\n",
    "\n",
    "#System/Solver stuff\n",
    "\n",
    "PIC_integration=True\n",
    "ppc = 25"
   ]
  },
  {
   "cell_type": "code",
   "execution_count": 9,
   "metadata": {
    "collapsed": false
   },
   "outputs": [],
   "source": [
    "###########\n",
    "#Model Runtime parameters\n",
    "###########\n",
    "\n",
    "swarm_update = 10\n",
    "swarm_repop = 10\n",
    "files_output = 1e6\n",
    "gldbs_output = 10\n",
    "images_output = 1e6\n",
    "checkpoint_every = 20\n",
    "metric_output = 1\n",
    "sticky_air_temp = 1e6\n",
    "\n",
    "comm.Barrier() #Barrier here so not procs run the check in the next cell too early \n",
    "\n",
    "#assert metric_output <= checkpoint_every, 'Checkpointing should run less or as ofen as metric output'\n",
    "#assert (metric_output >= swarm_update), 'Swarm update is needed before checkpointing'\n",
    "#assert metric_output >= sticky_air_temp, 'Sticky air temp should be updated more frequently that metrics'\n"
   ]
  },
  {
   "cell_type": "code",
   "execution_count": null,
   "metadata": {
    "collapsed": true
   },
   "outputs": [],
   "source": []
  },
  {
   "cell_type": "code",
   "execution_count": 10,
   "metadata": {
    "collapsed": false
   },
   "outputs": [],
   "source": [
    "###########\n",
    "#Model output parameters\n",
    "###########\n",
    "\n",
    "#Do you want to write hdf5 files - Temp, RMS, viscosity, stress?\n",
    "writeFiles = True\n",
    "loadTemp = True\n",
    "\n",
    "    "
   ]
  },
  {
   "cell_type": "code",
   "execution_count": 11,
   "metadata": {
    "collapsed": false
   },
   "outputs": [],
   "source": [
    "mesh = uw.mesh.FeMesh_Cartesian( elementType = elementType,\n",
    "                                 elementRes  = (Xres, Yres), \n",
    "                                 minCoord    = (MINX,MINY), \n",
    "                                 maxCoord=(MAXX,MAXY), periodic=periodic)\n",
    "\n",
    "\n",
    "\n",
    "velocityField       = uw.mesh.MeshVariable( mesh=mesh,         nodeDofCount=dim )\n",
    "pressureField       = uw.mesh.MeshVariable( mesh=mesh.subMesh, nodeDofCount=1 )\n",
    "temperatureField    = uw.mesh.MeshVariable( mesh=mesh,         nodeDofCount=1 )\n",
    "temperatureDotField = uw.mesh.MeshVariable( mesh=mesh,         nodeDofCount=1 )"
   ]
  },
  {
   "cell_type": "code",
   "execution_count": 12,
   "metadata": {
    "collapsed": false
   },
   "outputs": [
    {
     "data": {
      "text/plain": [
       "(128, -1.0, [True, False], 'Q1/dQ0')"
      ]
     },
     "execution_count": 12,
     "metadata": {},
     "output_type": "execute_result"
    }
   ],
   "source": [
    "Xres, MINX, periodic, elementType"
   ]
  },
  {
   "cell_type": "markdown",
   "metadata": {},
   "source": [
    "Create Finite Element (FE) variables for the velocity, pressure and temperature fields. The last two of these are scalar fields needing only one value at each mesh point, while the velocity field contains a vector of *dim* dimensions at each mesh point."
   ]
  },
  {
   "cell_type": "markdown",
   "metadata": {},
   "source": [
    "Create some dummy fevariables for doing top and bottom boundary calculations."
   ]
  },
  {
   "cell_type": "markdown",
   "metadata": {},
   "source": [
    "## Refine mesh"
   ]
  },
  {
   "cell_type": "code",
   "execution_count": 13,
   "metadata": {
    "collapsed": false
   },
   "outputs": [
    {
     "name": "stdout",
     "output_type": "stream",
     "text": [
      "Min\n",
      "(128, 0.0078140624999999998, 1.5001999999999998, 0.99960000000000093)\n",
      "('edges', 128)\n",
      "-- iteration 0 --\n",
      "| F( p_n ) |^2: 0.000125834660797\n",
      "| p_n+1 - p_n |^2: 1.06884342198\n",
      "-- iteration 1 --\n",
      "| F( p_n ) |^2: 4.05552698039e-31\n",
      "Min, Max element width: \n",
      "0.00781\n",
      "0.02344\n"
     ]
    }
   ],
   "source": [
    "#X-Axis\n",
    "\n",
    "if refineMesh:\n",
    "    mesh.reset()\n",
    "    axis = 0\n",
    "    origcoords = np.linspace(mesh.minCoord[axis], mesh.maxCoord[axis], mesh.elementRes[axis] + 1)\n",
    "    edge_rest_lengths = np.diff(origcoords)\n",
    "\n",
    "    deform_lengths = edge_rest_lengths.copy()\n",
    "    min_point =  (abs(mesh.maxCoord[axis]) - abs(mesh.minCoord[axis]))/2.\n",
    "    el_reduction = 0.5001\n",
    "    dx = mesh.maxCoord[axis] - min_point\n",
    "\n",
    "    deform_lengths = deform_lengths - \\\n",
    "                                    ((1.-el_reduction) *deform_lengths[0]) + \\\n",
    "                                    abs((origcoords[1:] - min_point))*((0.5*deform_lengths[0])/dx)\n",
    "\n",
    "    #print(edge_rest_lengths.shape, deform_lengths.shape)\n",
    "\n",
    "    sp.deform_1d(deform_lengths, mesh,axis = 'x',norm = 'Min', constraints = [])"
   ]
  },
  {
   "cell_type": "code",
   "execution_count": 14,
   "metadata": {
    "collapsed": false
   },
   "outputs": [],
   "source": [
    "axis = 1\n",
    "orgs = np.linspace(mesh.minCoord[axis], mesh.maxCoord[axis], mesh.elementRes[axis] + 1)\n",
    "\n",
    "value_to_constrain = 1.\n",
    "\n",
    "\n",
    "yconst = [(sp.find_closest(orgs, value_to_constrain), np.array([1.,0]))]\n"
   ]
  },
  {
   "cell_type": "code",
   "execution_count": 15,
   "metadata": {
    "collapsed": false
   },
   "outputs": [
    {
     "name": "stdout",
     "output_type": "stream",
     "text": [
      "Min\n",
      "(64, 0.0082196366782007774, 0.78492352941176458, 1.031339682539705)\n",
      "('edges', 64)\n",
      "-- iteration 0 --\n",
      "| F( p_n ) |^2: 0.000179712044064\n",
      "| p_n+1 - p_n |^2: 0.466191352915\n",
      "-- iteration 1 --\n",
      "| F( p_n ) |^2: 0.000163633783576\n",
      "| p_n+1 - p_n |^2: 8.94744922445e-30\n",
      "Min, Max element width: \n",
      "0.00857\n",
      "0.02422\n"
     ]
    }
   ],
   "source": [
    "#Y-Axis\n",
    "if refineMesh:\n",
    "    #Y-Axis\n",
    "    axis = 1\n",
    "    origcoords = np.linspace(mesh.minCoord[axis], mesh.maxCoord[axis], mesh.elementRes[axis] + 1)\n",
    "    edge_rest_lengths = np.diff(origcoords)\n",
    "\n",
    "    deform_lengths = edge_rest_lengths.copy()\n",
    "    min_point =  (mesh.maxCoord[axis])\n",
    "    el_reduction = 0.5001\n",
    "    dx = mesh.maxCoord[axis]\n",
    "\n",
    "    deform_lengths = deform_lengths - \\\n",
    "                                    ((1.-el_reduction)*deform_lengths[0]) + \\\n",
    "                                    abs((origcoords[1:] - min_point))*((0.5*deform_lengths[0])/dx)\n",
    "\n",
    "    #print(edge_rest_lengths.shape, deform_lengths.shape)\n",
    "\n",
    "    sp.deform_1d(deform_lengths, mesh,axis = 'y',norm = 'Min', constraints = yconst)"
   ]
  },
  {
   "cell_type": "code",
   "execution_count": null,
   "metadata": {
    "collapsed": true
   },
   "outputs": [],
   "source": []
  },
  {
   "cell_type": "markdown",
   "metadata": {},
   "source": [
    "# ICs and BCs"
   ]
  },
  {
   "cell_type": "code",
   "execution_count": 16,
   "metadata": {
    "collapsed": true
   },
   "outputs": [],
   "source": [
    "# Initialise data.. Note that we are also setting boundary conditions here\n",
    "velocityField.data[:] = [0.,0.]\n",
    "pressureField.data[:] = 0.\n",
    "temperatureField.data[:] = 0.\n",
    "temperatureDotField.data[:] = 0.\n"
   ]
  },
  {
   "cell_type": "markdown",
   "metadata": {},
   "source": [
    "## Temp ICs"
   ]
  },
  {
   "cell_type": "code",
   "execution_count": 17,
   "metadata": {
    "collapsed": true
   },
   "outputs": [],
   "source": [
    "\n",
    "# Setup temperature initial condition via numpy arrays\n",
    "A = 0.01\n",
    "#Note that width = height = 1\n",
    "tempNump = temperatureField.data\n",
    "for index, coord in enumerate(mesh.data):\n",
    "    pertCoeff = (1- coord[1]) + A*math.cos( math.pi * abs(1. - coord[0]) ) * math.sin( math.pi * coord[1] )\n",
    "    tempNump[index] = pertCoeff;\n",
    "    if coord[1] > 1:\n",
    "        tempNump[index] = 0."
   ]
  },
  {
   "cell_type": "code",
   "execution_count": 21,
   "metadata": {
    "collapsed": false
   },
   "outputs": [],
   "source": [
    "#figTemp = glucifer.Figure()\n",
    "#figTemp.append( glucifer.objects.Surface(mesh, temperatureField))\n",
    "#figTemp.append( glucifer.objects.Mesh(mesh))\n",
    "#figTemp.save_database('test.gldb')\n",
    "#figTemp.show()"
   ]
  },
  {
   "cell_type": "markdown",
   "metadata": {
    "collapsed": true
   },
   "source": []
  },
  {
   "cell_type": "code",
   "execution_count": 22,
   "metadata": {
    "collapsed": false
   },
   "outputs": [],
   "source": [
    "# Get the actual sets \n",
    "#\n",
    "#  HJJJJJJH\n",
    "#  I      I\n",
    "#  I      I\n",
    "#  I      I\n",
    "#  HJJJJJJH\n",
    "#  \n",
    "#  Note that H = I & J \n",
    "\n",
    "# Note that we use operator overloading to combine sets\n",
    "# send boundary condition information to underworld\n",
    "IWalls = mesh.specialSets[\"MinI_VertexSet\"] + mesh.specialSets[\"MaxI_VertexSet\"]\n",
    "JWalls = mesh.specialSets[\"MinJ_VertexSet\"] + mesh.specialSets[\"MaxJ_VertexSet\"]\n",
    "TWalls = mesh.specialSets[\"MaxJ_VertexSet\"]\n",
    "BWalls = mesh.specialSets[\"MinJ_VertexSet\"]"
   ]
  },
  {
   "cell_type": "code",
   "execution_count": null,
   "metadata": {
    "collapsed": true
   },
   "outputs": [],
   "source": []
  },
  {
   "cell_type": "code",
   "execution_count": 23,
   "metadata": {
    "collapsed": false
   },
   "outputs": [],
   "source": [
    "# Now setup the dirichlet boundary condition\n",
    "# Note that through this object, we are flagging to the system \n",
    "# that these nodes are to be considered as boundary conditions. \n",
    "# Also note that we provide a tuple of sets.. One for the Vx, one for Vy.\n",
    "freeslipBC = uw.conditions.DirichletCondition(     variable=velocityField, \n",
    "                                              indexSetsPerDof=(TWalls, JWalls) )\n",
    "\n",
    "# also set dirichlet for temp field\n",
    "tempBC = uw.conditions.DirichletCondition(     variable=temperatureField, \n",
    "                                              indexSetsPerDof=(JWalls,) )"
   ]
  },
  {
   "cell_type": "markdown",
   "metadata": {},
   "source": [
    "##Add Random 125 K temp perturbation\n"
   ]
  },
  {
   "cell_type": "markdown",
   "metadata": {
    "collapsed": true
   },
   "source": [
    "tempNump = temperatureField.data\n",
    "\n",
    "#In gerneral we only want to do this on the initial setup, not restarts\n",
    "\n",
    "if not checkpointLoad:\n",
    "    for index, coord in enumerate(mesh.data):\n",
    "        pertCoeff = (0.05*(np.random.rand(1)[0] - 0.5)) #this should create values between [-0.5,0.5] from uniform dist.\n",
    "        ict = tempNump[index]\n",
    "        tempNump[index] = ict + pertCoeff"
   ]
  },
  {
   "cell_type": "markdown",
   "metadata": {},
   "source": [
    "##Reset bottom Dirichlet conds."
   ]
  },
  {
   "cell_type": "code",
   "execution_count": 24,
   "metadata": {
    "collapsed": false
   },
   "outputs": [],
   "source": [
    "# Set temp boundaries \n",
    "# on the boundaries\n",
    "for index in mesh.specialSets[\"MinJ_VertexSet\"]:\n",
    "    temperatureField.data[index] = ndp.TB\n",
    "for index in mesh.specialSets[\"MaxJ_VertexSet\"]:\n",
    "    temperatureField.data[index] = ndp.TS"
   ]
  },
  {
   "cell_type": "code",
   "execution_count": 25,
   "metadata": {
    "collapsed": false
   },
   "outputs": [],
   "source": [
    "#checkdirs"
   ]
  },
  {
   "cell_type": "code",
   "execution_count": null,
   "metadata": {
    "collapsed": true
   },
   "outputs": [],
   "source": []
  },
  {
   "cell_type": "markdown",
   "metadata": {},
   "source": [
    "# Particles"
   ]
  },
  {
   "cell_type": "code",
   "execution_count": 26,
   "metadata": {
    "collapsed": false
   },
   "outputs": [],
   "source": [
    "###########\n",
    "#Material Swarm and variables\n",
    "###########\n",
    "\n",
    "gSwarm = uw.swarm.Swarm(mesh=mesh)\n",
    "materialVariable = gSwarm.add_variable( dataType=\"char\", count=1 )\n",
    "rockIntVar = gSwarm.add_variable( dataType=\"double\", count=1 )\n",
    "airIntVar = gSwarm.add_variable( dataType=\"double\", count=1 )\n",
    "lithIntVar = gSwarm.add_variable( dataType=\"double\", count=1 )\n",
    "\n",
    "varlist = [materialVariable, rockIntVar, airIntVar, lithIntVar]\n",
    "varnames = ['materialVariable', 'rockIntVar', 'airIntVar', 'lithIntVar']"
   ]
  },
  {
   "cell_type": "code",
   "execution_count": 27,
   "metadata": {
    "collapsed": false
   },
   "outputs": [],
   "source": [
    "###########\n",
    "#Swarms for surface intragrals when using Sticky air\n",
    "###########\n",
    "\n",
    "snum = 1000.\n",
    "dx = (mesh.data[:,0].max()- mesh.data[:,0].min())/snum\n",
    "yp = 0.9947 #1. - yelsize/2. at res = 96\n",
    "\n",
    "mesh.data[:,0].max()\n",
    "xps = np.linspace(mesh.data[:,0].min(),mesh.data[:,0].max(), snum)\n",
    "yps = [yp for i in xps]\n",
    "\n",
    "surfintswarm = uw.swarm.Swarm( mesh=mesh )\n",
    "dumout = surfintswarm.add_particles_with_coordinates(np.array((xps,yps)).T)\n",
    "\n",
    "yps = [ 1.- yp  for i in xps]\n",
    "\n",
    "baseintswarm = uw.swarm.Swarm( mesh=mesh)\n",
    "dumout = baseintswarm.add_particles_with_coordinates(np.array((xps,yps)).T)"
   ]
  },
  {
   "cell_type": "markdown",
   "metadata": {},
   "source": [
    "#Initialise swarm variables, or Swarm checkpoint load"
   ]
  },
  {
   "cell_type": "code",
   "execution_count": 28,
   "metadata": {
    "collapsed": false
   },
   "outputs": [],
   "source": [
    "mantleIndex = 0\n",
    "lithosphereIndex = 1\n",
    "crustIndex = 2\n",
    "airIndex = 3\n",
    "\n",
    "\n",
    "if checkpointLoad:\n",
    "    checkpointLoadDir = natsort.natsorted(checkdirs)[-1]\n",
    "    temperatureField.load(os.path.join(checkpointLoadDir, \"temperatureField\" + \".hdf5\"))\n",
    "    pressureField.load(os.path.join(checkpointLoadDir, \"pressureField\" + \".hdf5\"))\n",
    "    velocityField.load(os.path.join(checkpointLoadDir, \"velocityField\" + \".hdf5\"))\n",
    "    gSwarm.load(os.path.join(checkpointLoadDir, \"swarm\" + \".h5\"))\n",
    "    for ix in range(len(varlist)):\n",
    "        varb = varlist[ix]\n",
    "        varb.load(os.path.join(checkpointLoadDir,varnames[ix] + \".h5\"))\n",
    "\n",
    "else:\n",
    "\n",
    "    # Layouts are used to populate the swarm across the whole domain\n",
    "    # Create the layout object\n",
    "    layout = uw.swarm.layouts.PerCellRandomLayout(swarm=gSwarm, particlesPerCell=ppc)\n",
    "    # Now use it to populate.\n",
    "    gSwarm.populate_using_layout( layout=layout )\n",
    "\n",
    "    # Lets initialise the 'materialVariable' data to represent different materials\n",
    "    # Set the material to heavy everywhere via the numpy array\n",
    "    materialVariable.data[:] = mantleIndex\n",
    "    \n",
    "    \n",
    "    #Set initial air and crust materials (allow the graph to take care of lithsophere)\n",
    "    #########\n",
    "    #This initial material setup will be model dependent\n",
    "    #########\n",
    "    for particleID in range(gSwarm.particleCoordinates.data.shape[0]):\n",
    "        if (1. - gSwarm.particleCoordinates.data[particleID][1]) < 0:\n",
    "                 materialVariable.data[particleID] = airIndex\n",
    "        elif (1. - gSwarm.particleCoordinates.data[particleID][1]) < MANTLETOCRUST:\n",
    "                 materialVariable.data[particleID] = crustIndex\n"
   ]
  },
  {
   "cell_type": "markdown",
   "metadata": {},
   "source": [
    "#Material Graphs"
   ]
  },
  {
   "cell_type": "code",
   "execution_count": 29,
   "metadata": {
    "collapsed": false
   },
   "outputs": [],
   "source": [
    "##############\n",
    "#Important: This is a quick fix for a bug that arises in parallel runs\n",
    "##############\n",
    "material_list = [0,1,2,3]\n"
   ]
  },
  {
   "cell_type": "code",
   "execution_count": 30,
   "metadata": {
    "collapsed": false
   },
   "outputs": [
    {
     "name": "stdout",
     "output_type": "stream",
     "text": [
      "unique values after swarm has loaded:[0 2 3]\n"
     ]
    }
   ],
   "source": [
    "print( \"unique values after swarm has loaded:\" + str(np.unique(materialVariable.data[:])))\n"
   ]
  },
  {
   "cell_type": "code",
   "execution_count": 31,
   "metadata": {
    "collapsed": false
   },
   "outputs": [],
   "source": [
    "\n",
    "\n",
    "#All depth conditions are given as (km/D) where D is the length scale, \n",
    "#note that 'model depths' are used, e.g. 1-z, where z is the vertical Underworld coordinate\n",
    "#All temp conditions are in dimensionless temp. [0. - 1.]\n",
    "\n",
    "#######Graph object\n",
    "DG = nx.DiGraph(field=\"Depth\")\n",
    "\n",
    "#######Nodes\n",
    "#Note that the order of materials, deepest to shallowest is important \n",
    "DG.add_node(0, mat='mantle')\n",
    "DG.add_node(1, mat='lithosphere')\n",
    "DG.add_node(2, mat='crust')\n",
    "DG.add_node(3, mat='air')\n",
    "\n",
    "\n",
    "labels=dict((n,d['mat']) for n,d in DG.nodes(data=True))\n",
    "pos=nx.spring_layout(DG) \n",
    "\n",
    "\n",
    "#######Edges\n",
    "#anything to air\n",
    "DG.add_edges_from([(0,3),(1,3), (2,3)])\n",
    "DG[0][3]['depthcondition'] = -1*TOPOHEIGHT\n",
    "DG[1][3]['depthcondition'] = -1*TOPOHEIGHT\n",
    "DG[2][3]['depthcondition'] = -1*TOPOHEIGHT\n",
    "\n",
    "\n",
    "#Anything to mantle\n",
    "DG.add_edges_from([(2,0), (3,0), (1,0)])\n",
    "DG[3][0]['depthcondition'] = TOPOHEIGHT\n",
    "DG[2][0]['depthcondition'] = CRUSTTOMANTLE\n",
    "DG[1][0]['depthcondition'] = LITHTOMANTLE #This means we're going to kill lithosphere at the 660.\n",
    "\n",
    "\n",
    "#Anything to lithsphere\n",
    "DG.add_edges_from([(0,1),(3,1)])\n",
    "DG[0][1]['depthcondition'] = MANTLETOLITH\n",
    "DG[0][1]['avgtempcondition'] = 0.75*AVGTEMP #definition of thermal lithosphere\n",
    "\n",
    "\n",
    "#Anything to crust\n",
    "DG.add_edges_from([(0,2), (1,2)])\n",
    "DG[0][2]['depthcondition'] = MANTLETOCRUST\n",
    "DG[1][2]['depthcondition'] = MANTLETOCRUST"
   ]
  },
  {
   "cell_type": "code",
   "execution_count": 32,
   "metadata": {
    "collapsed": false
   },
   "outputs": [
    {
     "data": {
      "text/plain": [
       "[0, 1, 2, 3]"
      ]
     },
     "execution_count": 32,
     "metadata": {},
     "output_type": "execute_result"
    }
   ],
   "source": [
    "DG.nodes()"
   ]
  },
  {
   "cell_type": "code",
   "execution_count": 33,
   "metadata": {
    "collapsed": false
   },
   "outputs": [],
   "source": [
    "remove_nodes = []\n",
    "for node in DG.nodes():\n",
    "    if not node in material_list:\n",
    "        remove_nodes.append(node)\n",
    "        \n",
    "for rmnode in remove_nodes:\n",
    "    DG.remove_node(rmnode)"
   ]
  },
  {
   "cell_type": "code",
   "execution_count": 34,
   "metadata": {
    "collapsed": false
   },
   "outputs": [
    {
     "data": {
      "text/plain": [
       "[0, 1, 2, 3]"
      ]
     },
     "execution_count": 34,
     "metadata": {},
     "output_type": "execute_result"
    }
   ],
   "source": [
    "DG.nodes()"
   ]
  },
  {
   "cell_type": "code",
   "execution_count": 35,
   "metadata": {
    "collapsed": true
   },
   "outputs": [],
   "source": [
    "#A Dictionary to map strings in the graph (e.g. 'depthcondition') to particle data arrays\n",
    "\n",
    "particledepths = 1. - gSwarm.particleCoordinates.data[:,1]\n",
    "particletemps = temperatureField.evaluate(gSwarm)[:,0]\n",
    "\n",
    "conditionmap = {}\n",
    "\n",
    "conditionmap['depthcondition'] = {}\n",
    "conditionmap['depthcondition']['data'] = particledepths\n",
    "conditionmap['avgtempcondition'] = {}\n",
    "conditionmap['avgtempcondition']['data'] = particletemps"
   ]
  },
  {
   "cell_type": "code",
   "execution_count": 36,
   "metadata": {
    "collapsed": true
   },
   "outputs": [],
   "source": [
    "def update_swarm(graph, particleIndex):\n",
    "    \"\"\"\n",
    "    This function takes the materials graph (networkx.DiGraph), and a particle index,\n",
    "    then determines if a material update is required \n",
    "    and if so, returns the new materialindex\n",
    "    Args:\n",
    "        graph (networkx.DiGraph): Directed multigraph representing the transformation of material types\n",
    "        particleIndex (int): the particle index as corressponding to the index in the swarm data arrays\n",
    "    Returns:\n",
    "        if update is required the function returns the the new material variable (int) \n",
    "        else returns None\n",
    "    Raises:\n",
    "        TypeError: not implemented\n",
    "        ValueError: not implemented\n",
    "    \"\"\"\n",
    "    ##Egde gives links to other materials, we then query the conditions to see if we should change materials\n",
    "    matId = materialVariable.data[particleIndex][0]\n",
    "    innerchange = False\n",
    "    outerchange = False\n",
    "    for edge in graph[matId]:\n",
    "        if outerchange:\n",
    "            break\n",
    "        for cond in graph[matId][edge].keys():\n",
    "            outerchange = False\n",
    "            if innerchange: #found a complete transition, break inner loop\n",
    "                break\n",
    "            currentparticlevalue = conditionmap[cond]['data'][particleIndex]\n",
    "            crossover = graph[matId][edge][cond]\n",
    "            if ((matId > edge) and (currentparticlevalue > crossover)):\n",
    "                innerchange = False # continue on, \n",
    "                if graph[matId][edge].keys()[-1] == cond:\n",
    "                    outerchange = True\n",
    "                    innerchange = edge\n",
    "                    break\n",
    "            elif ((matId < edge) and (currentparticlevalue < crossover)):\n",
    "                innerchange = False\n",
    "                if graph[matId][edge].keys()[-1] == cond:\n",
    "                    outerchange = True\n",
    "                    innerchange = edge\n",
    "                    break\n",
    "            else:\n",
    "                #condition not met, break outer loop, go to next edge, outerchange should still be False\n",
    "                break\n",
    "    if type(innerchange) == int:\n",
    "        return innerchange"
   ]
  },
  {
   "cell_type": "code",
   "execution_count": 37,
   "metadata": {
    "collapsed": false
   },
   "outputs": [],
   "source": [
    "#Cleanse the swarm of its sins\n",
    "#For some Material Graphs, the graph may have to be treaversed more than once\n",
    "\n",
    "check = -1\n",
    "number_updated = 1\n",
    "\n",
    "while number_updated != 0:\n",
    "    number_updated = 0\n",
    "    for particleID in range(gSwarm.particleCoordinates.data.shape[0]):\n",
    "                check = update_swarm(DG, particleID)\n",
    "                if check > -1:\n",
    "                    number_updated += 1\n",
    "                    materialVariable.data[particleID] = check"
   ]
  },
  {
   "cell_type": "markdown",
   "metadata": {},
   "source": [
    "##Set the values for the masking swarms"
   ]
  },
  {
   "cell_type": "code",
   "execution_count": 38,
   "metadata": {
    "collapsed": false
   },
   "outputs": [],
   "source": [
    "#Setup up a masking Swarm variable for the integrations.\n",
    "#These should be rebuilt at same frequency as the metric calcualtions\n",
    "\n",
    "rockIntVar.data[:] = 0.\n",
    "notair = np.where(materialVariable.data != airIndex)\n",
    "rockIntVar.data[notair] = 1.\n",
    "\n",
    "airIntVar.data[:] = 0.\n",
    "notrock = np.where(materialVariable.data == airIndex)\n",
    "airIntVar.data[notrock] = 1.\n",
    "\n",
    "lithIntVar.data[:] = 0.\n",
    "islith = np.where((materialVariable.data == lithosphereIndex) | (materialVariable.data == crustIndex))\n",
    "lithIntVar.data[islith] = 1.\n"
   ]
  },
  {
   "cell_type": "markdown",
   "metadata": {
    "collapsed": false
   },
   "source": [
    "#Material properties\n"
   ]
  },
  {
   "cell_type": "code",
   "execution_count": 60,
   "metadata": {
    "collapsed": false
   },
   "outputs": [],
   "source": [
    "#Make variables required for plasticity\n",
    "\n",
    "# The yeilding of the upper slab is dependent on the strain rate.\n",
    "strainRate_2ndInvariant = fn.tensor.second_invariant( \n",
    "                            fn.tensor.symmetric( \n",
    "                            velocityField.fn_gradient ))\n",
    "\n",
    "\n",
    "coordinate = fn.input()\n",
    "depth = 1. - coordinate[1]\n",
    "depthField = uw.mesh.MeshVariable( mesh=mesh,   nodeDofCount=1 )\n",
    "depthField.data[:] = depth.evaluate(mesh)\n",
    "depthField.data[np.where(depthField.data[:] < 0.)[0]] = 0."
   ]
  },
  {
   "cell_type": "code",
   "execution_count": 41,
   "metadata": {
    "collapsed": false
   },
   "outputs": [],
   "source": [
    "##Basic mantle viscosity Functions\n",
    "viscosityl2 = newvisc*fn.math.exp((math.log(ndp.etaT)*-1*temperatureField) + (depthField*math.log(ndp.etaY)))\n",
    "viscosityFn1 = viscosityl2 #This one always gets passed to the first velcotity solve\n",
    "\n",
    "#Von Mises effective viscosity\n",
    "viscosityp = ndp.eta0 + ndp.cohesion/(strainRate_2ndInvariant/math.sqrt(0.5)) #extra factor to account for underworld second invariant form\n",
    "viscosityFn2 = 2./(1./viscosityl2 + 1./viscosityp)\n",
    "\n",
    "\n",
    "##Now setup rheolgy for models with crust rheology;\n",
    "\n",
    "viscreduct = 0.1\n",
    "crustviscosityp = viscreduct*ndp.eta0+ ((viscreduct*ndp.cohesion)/(strainRate_2ndInvariant/math.sqrt(0.5))) #extra factor to account for underworld second invariant form\n",
    "crustviscosityFn2 = 2./(1./viscosityl2 + 1./crustviscosityp)"
   ]
  },
  {
   "cell_type": "markdown",
   "metadata": {},
   "source": [
    "Set up simulation parameters and functions\n",
    "====\n",
    "\n",
    "Here the functions for density, viscosity etc. are set. These functions and/or values are preserved for the entire simulation time. "
   ]
  },
  {
   "cell_type": "code",
   "execution_count": 42,
   "metadata": {
    "collapsed": false
   },
   "outputs": [],
   "source": [
    "# Here we set a viscosity value of '1.' for both materials\n",
    "viscosityMapFn = fn.branching.map( fn_key = materialVariable,\n",
    "                         mapping = {airIndex:ndp.StAeta0, \n",
    "                                    lithosphereIndex:viscosityFn2, \n",
    "                                    crustIndex:crustviscosityFn2,\n",
    "                                    mantleIndex:viscosityFn2} )\n",
    "\n",
    "densityMapFn = fn.branching.map( fn_key = materialVariable,\n",
    "                         mapping = {airIndex:AIRDENSITY, \n",
    "                                    lithosphereIndex:ndp.RA*temperatureField, \n",
    "                                    crustIndex:ndp.RA*temperatureField, \n",
    "                                    mantleIndex:ndp.RA*temperatureField} )\n",
    "\n",
    "# Define our gravity using a python tuple (this will be automatically converted to a function)\n",
    "gravity = ( 0.0, 1.0 )\n",
    "\n",
    "buoyancyFn = gravity*densityMapFn"
   ]
  },
  {
   "cell_type": "markdown",
   "metadata": {},
   "source": [
    "Build the Stokes system, solvers, advection-diffusion\n",
    "------\n",
    "\n",
    "Setup linear Stokes system to get the initial velocity."
   ]
  },
  {
   "cell_type": "code",
   "execution_count": 43,
   "metadata": {
    "collapsed": false
   },
   "outputs": [],
   "source": [
    "#We first set up a l\n",
    "stokesPIC = uw.systems.Stokes(velocityField=velocityField, \n",
    "                              pressureField=pressureField,\n",
    "                              conditions=[freeslipBC,],\n",
    "#                              viscosityFn=viscosityFn1, \n",
    "                              fn_viscosity=fn.exception.SafeMaths(viscosityFn1), \n",
    "                              fn_bodyforce=buoyancyFn)"
   ]
  },
  {
   "cell_type": "markdown",
   "metadata": {},
   "source": [
    "We do one solve with linear viscosity to get the initial strain rate invariant. This solve step also calculates a 'guess' of the the velocity field based on the linear system, which is used later in the non-linear solver."
   ]
  },
  {
   "cell_type": "code",
   "execution_count": 44,
   "metadata": {
    "collapsed": false
   },
   "outputs": [],
   "source": [
    "if not checkpointLoad:\n",
    "    solver = uw.systems.Solver(stokesPIC)\n",
    "    solver.solve() "
   ]
  },
  {
   "cell_type": "code",
   "execution_count": 45,
   "metadata": {
    "collapsed": false
   },
   "outputs": [],
   "source": [
    "#Switch particle escape on, this will also trigger the inflow population control \n",
    "gSwarm.particleEscape = True"
   ]
  },
  {
   "cell_type": "code",
   "execution_count": 46,
   "metadata": {
    "collapsed": false
   },
   "outputs": [],
   "source": [
    "# Setup the Stokes system again, now with linear or nonlinear visocity viscosity.\n",
    "\n",
    "if PIC_integration:\n",
    "    swarm = gSwarm\n",
    "else:\n",
    "    swarm = False\n",
    "\n",
    "stokesPIC2 = uw.systems.Stokes(velocityField=velocityField, \n",
    "                              pressureField=pressureField,\n",
    "                              conditions=[freeslipBC,],\n",
    "                              fn_viscosity=fn.exception.SafeMaths(viscosityMapFn), \n",
    "                              fn_bodyforce=buoyancyFn, swarm = swarm)"
   ]
  },
  {
   "cell_type": "markdown",
   "metadata": {
    "collapsed": false
   },
   "source": [
    "solver = uw.systems.Solver(stokesPIC2) # altered from PIC2\n",
    "\n",
    "\n",
    "\n",
    "#Set more advanced solver option\n",
    "solver.options.main.Q22_pc_type='uw'\n",
    "solver.options.A11.ksp_rtol=1e-5\n",
    "solver.options.scr.ksp_rtol=1e-5\n",
    "#solver.options.A11.ksp_type=\"cg\"\n",
    "solver.options.scr.use_previous_guess = True\n",
    "solver.options.scr.ksp_set_min_it_converge = 1\n",
    "\n",
    "solver.options.mg.levels = 3\n",
    "\n",
    "#solver.options.A11.ksp_monitor=''\n",
    "#solver.options.A11.ksp_converged_reason='"
   ]
  },
  {
   "cell_type": "code",
   "execution_count": 47,
   "metadata": {
    "collapsed": true
   },
   "outputs": [],
   "source": [
    "solver = uw.systems.Solver(stokesPIC2) # altered from PIC2\n",
    "\n",
    "#Set more advanced solver option\n",
    "solver.options.main.Q22_pc_type='gkgdiag'\n",
    "#solver.options.A11.ksp_rtol=1e-2\n",
    "#solver.options.scr.ksp_rtol=1e-3\n",
    "#solver.options.A11.ksp_type=\"cg\"\n",
    "solver.options.scr.use_previous_guess = True\n",
    "#solver.options.scr.ksp_set_min_it_converge = 1\n",
    "#solver.options.main.penalty=10.0\n",
    "\n",
    "#solver.options.mg.levels = 3\n",
    "#solver.options.main.remove_constant_pressure_null_space=True\n",
    "#solver.options.main.penalty = 1e2\n",
    "\n",
    "solver.options.A11.ksp_rtol=1e-4\n",
    "solver.options.scr.ksp_rtol=1e-4\n",
    "\n",
    "solver.options.A11.ksp_monitor=''\n",
    "solver.options.A11.ksp_converged_reason=''"
   ]
  },
  {
   "cell_type": "markdown",
   "metadata": {},
   "source": [
    "Solve for initial pressure and velocity using a quick non-linear Picard iteration\n"
   ]
  },
  {
   "cell_type": "code",
   "execution_count": 48,
   "metadata": {
    "collapsed": false
   },
   "outputs": [],
   "source": [
    "solver.solve(nonLinearIterate=True)"
   ]
  },
  {
   "cell_type": "markdown",
   "metadata": {},
   "source": [
    "Create an advective-diffusive system\n",
    "=====\n",
    "\n",
    "Setup the system in underworld by flagging the temperature and velocity field variables."
   ]
  },
  {
   "cell_type": "code",
   "execution_count": null,
   "metadata": {
    "collapsed": false
   },
   "outputs": [],
   "source": []
  },
  {
   "cell_type": "code",
   "execution_count": 49,
   "metadata": {
    "collapsed": false
   },
   "outputs": [],
   "source": [
    "#Create advdiff system\n",
    "\n",
    "\n",
    "\n",
    "advDiff = uw.systems.AdvectionDiffusion( phiField       = temperatureField, \n",
    "                                         phiDotField    = temperatureDotField, \n",
    "                                         velocityField  = velocityField, \n",
    "                                         fn_diffusivity = 1.0, \n",
    "                                         conditions     = [tempBC,] )\n",
    "\n",
    "\n",
    "\n",
    "advector = uw.systems.SwarmAdvector( swarm         = gSwarm, \n",
    "                                     velocityField = velocityField, \n",
    "                                     order         = 1)"
   ]
  },
  {
   "cell_type": "markdown",
   "metadata": {},
   "source": [
    "Metrics for benchmark\n",
    "=====\n",
    "\n",
    "Define functions to be used in the time loop. For cases 1-4, participants were asked to report a number of diagnostic quantities to be measured after reaching steady state:\n",
    "\n",
    "* Average temp... $$  \\langle T \\rangle  = \\int^1_0 \\int^1_0 T \\, dxdy $$\n",
    "* Top and bottom Nusselt numbers... $$N = \\int^1_0 \\frac{\\partial T}{\\partial y} \\rvert_{y=0/1} \\, dx$$\n",
    "* RMS velocity over the whole domain, surface and max velocity at surface\n",
    "* max and min viscosity over the whole domain\n",
    "* average rate of work done against gravity...$$\\langle W \\rangle = \\int^1_0 \\int^1_0 T u_y \\, dx dy$$\n",
    "* and the average rate of viscous dissipation...$$\\langle \\Phi \\rangle = \\int^1_0 \\int^1_0 \\tau_{ij} \\dot \\epsilon_{ij} \\, dx dy$$\n",
    "\n",
    "* In steady state, if thermal energy is accurately conserved, the difference between $\\langle W \\rangle$ and $\\langle \\Phi \\rangle / Ra$ must vanish, so also reported is the percentage error: \n",
    "\n",
    "$$ \\delta = \\frac{\\lvert \\langle W \\rangle - \\frac{\\langle \\Phi \\rangle}{Ra} \\rvert}{max \\left(  \\langle W \\rangle,  \\frac{\\langle \\Phi \\rangle}{Ra}\\right)} \\times 100% $$"
   ]
  },
  {
   "cell_type": "code",
   "execution_count": 50,
   "metadata": {
    "collapsed": false
   },
   "outputs": [],
   "source": [
    "#Setup some Integrals. We want these outside the main loop...\n",
    "tempVariable = gSwarm.add_variable( dataType=\"double\", count=1 )\n",
    "tempVariable.data[:] = temperatureField.evaluate(gSwarm)[:]\n",
    "tempint = uw.utils.Integral((tempVariable*rockIntVar), mesh)\n",
    "\n",
    "\n",
    "areaint = uw.utils.Integral((1.*rockIntVar),mesh)\n",
    "\n",
    "v2int = uw.utils.Integral(fn.math.dot(velocityField,velocityField)*rockIntVar, mesh)\n",
    "\n",
    "\n",
    "dwint = uw.utils.Integral(temperatureField*velocityField[1]*rockIntVar, mesh)\n",
    "\n",
    "\n",
    "sinner = fn.math.dot(strainRate_2ndInvariant,strainRate_2ndInvariant)\n",
    "vdint = uw.utils.Integral((4.*viscosityMapFn*sinner)*rockIntVar, mesh)\n",
    "vdintair = uw.utils.Integral((4.*viscosityMapFn*sinner)*airIntVar, mesh)\n",
    "vdintlith = uw.utils.Integral((4.*viscosityMapFn*sinner)*lithIntVar, mesh)"
   ]
  },
  {
   "cell_type": "code",
   "execution_count": 51,
   "metadata": {
    "collapsed": false
   },
   "outputs": [
    {
     "name": "stdout",
     "output_type": "stream",
     "text": [
      "983414.981651\n",
      "768402.549584\n",
      "14672752.5364\n",
      "15015.2134592\n",
      "327207.544615\n",
      "112195.112547\n"
     ]
    }
   ],
   "source": [
    "#These should differ if the the map function assigns different properties to bulk mantle\n",
    "\n",
    "print(uw.utils.Integral((4.*viscosityFn2*sinner)*rockIntVar, mesh).evaluate()[0])\n",
    "print(uw.utils.Integral((4.*viscosityMapFn*sinner)*rockIntVar, mesh).evaluate()[0])\n",
    "\n",
    "print(uw.utils.Integral((4.*viscosityFn2*sinner)*airIntVar, mesh).evaluate()[0])\n",
    "print(uw.utils.Integral((4.*viscosityMapFn*sinner)*airIntVar, mesh).evaluate()[0])\n",
    "\n",
    "print(uw.utils.Integral((4.*viscosityFn2*sinner)*lithIntVar, mesh).evaluate()[0])\n",
    "print(uw.utils.Integral((4.*viscosityMapFn*sinner)*lithIntVar, mesh).evaluate()[0])"
   ]
  },
  {
   "cell_type": "markdown",
   "metadata": {},
   "source": [
    "\\begin{equation}  \\langle T \\rangle  = \\int^1_0 \\int^1_0 T \\, dxdy \\end{equation}"
   ]
  },
  {
   "cell_type": "code",
   "execution_count": 52,
   "metadata": {
    "collapsed": false
   },
   "outputs": [],
   "source": [
    "def avg_temp():\n",
    "    return tempint.evaluate()[0]/areaint.evaluate()[0]\n",
    "\n",
    "#This one gets cleaned up when Surface integrals are available\n",
    "def nusselt(tempfield, swarm, dx):\n",
    "    #Update the swarm variable\n",
    "    tempgrad = tempfield.fn_gradient\n",
    "    valcheck = tempgrad[1].evaluate(swarm)\n",
    "    if valcheck is None:\n",
    "        vals = np.array(0, dtype='float64')\n",
    "    else:\n",
    "        vals = valcheck.sum()*dx\n",
    "    return vals\n",
    "\n",
    "def rms():\n",
    "    return math.sqrt(v2int.evaluate()[0]/areaint.evaluate()[0])\n",
    "\n",
    "#This one gets cleaned up when Surface integrals are available\n",
    "def rms_surf(swarm, dx):\n",
    "    rmsmaxfn = fn.math.dot(velocityField,velocityField)\n",
    "    rmscheck = rmsmaxfn.evaluate(swarm)\n",
    "    if rmscheck is None:\n",
    "        #print \"watch out\"\n",
    "        rmsvals = np.array(0, dtype='float64')\n",
    "    else:\n",
    "        rmsvals = np.sqrt(rmscheck.sum()*dx)\n",
    "        #print \"okay\"\n",
    "    return rmsvals\n",
    "\n",
    "def max_vx_surf(velfield, swarm):\n",
    "    check = velfield[0].evaluate(swarm)\n",
    "    if check is None:\n",
    "        return 0.\n",
    "    else:\n",
    "        return check.max()\n",
    "\n",
    "\n",
    "#def max_vy_surf(velfield, swarm):\n",
    "#    surfvelxmaxfn = fn.view.min_max(velfield[1])\n",
    "#    surfvelxmaxfn.evaluate(swarm)\n",
    "#    return surfvelxmaxfn.max_global()\n",
    "\n",
    "def gravwork(workfn):\n",
    "    return workfn.evaluate()[0]\n",
    "\n",
    "def viscdis(vdissfn):\n",
    "    return vdissfn.evaluate()[0]\n",
    "\n",
    "def visc_extr(viscfn):\n",
    "    vuviscfn = fn.view.min_max(viscfn)\n",
    "    vuviscfn.evaluate(gSwarm)\n",
    "    return vuviscfn.max_global(), vuviscfn.min_global()"
   ]
  },
  {
   "cell_type": "code",
   "execution_count": 53,
   "metadata": {
    "collapsed": false
   },
   "outputs": [],
   "source": [
    "#Fields for saving data / fields\n",
    "\n",
    "rmsField = uw.mesh.MeshVariable( mesh=mesh,   nodeDofCount=1)\n",
    "rmsfn = fn.math.sqrt(fn.math.dot(velocityField,velocityField))\n",
    "rmsdata = rmsfn.evaluate(mesh)\n",
    "rmsField.data[:] = rmsdata \n",
    "\n",
    "viscField = uw.mesh.MeshVariable( mesh=mesh,   nodeDofCount=1)\n",
    "viscdata = viscosityFn2.evaluate(mesh)\n",
    "viscField.data[:] = viscdata\n",
    "\n",
    "\n",
    "strainrateField = uw.mesh.MeshVariable( mesh=mesh,   nodeDofCount=1)\n",
    "srtdata = fn.tensor.second_invariant( \n",
    "                    fn.tensor.symmetric( \n",
    "                        velocityField.fn_gradient ))\n",
    "rostfield = srtdata.evaluate(mesh)\n",
    "strainrateField.data[:] = rostfield\n",
    "\n",
    "viscVariable = gSwarm.add_variable( dataType=\"float\", count=1 )\n",
    "viscVariable.data[:] = viscosityMapFn.evaluate(gSwarm)\n"
   ]
  },
  {
   "cell_type": "code",
   "execution_count": 54,
   "metadata": {
    "collapsed": false
   },
   "outputs": [],
   "source": [
    "#Images\n",
    "figEta = glucifer.Figure()\n",
    "figEta.append( glucifer.objects.Points(gSwarm,viscVariable, logScale=True))\n",
    "\n",
    "\n",
    "figMat = glucifer.Figure()\n",
    "figMat.append( glucifer.objects.Points(gSwarm,materialVariable, colours='brown white blue red'))\n",
    "figMat.append( glucifer.objects.Mesh(mesh))\n",
    "\n",
    "\n",
    "figStrainRate = glucifer.Figure()\n",
    "figStrainRate.append( glucifer.objects.Surface(mesh, strainRate_2ndInvariant, logScale=True))\n",
    "\n",
    "\n",
    "figVelocityMag = glucifer.Figure()\n",
    "figVelocityMag.append( glucifer.objects.Surface(mesh, fn.math.dot(velocityField,velocityField))\n",
    ")\n",
    "figTemp = glucifer.Figure()\n",
    "figTemp.append( glucifer.objects.Surface(mesh, temperatureField))\n",
    "\n",
    "\n",
    "\n",
    "#Pack some stuff into a database as well\n",
    "figDb = glucifer.Figure()\n",
    "figDb.append( glucifer.objects.Points(gSwarm,viscVariable, logScale=True, colours='brown white blue'))\n",
    "figDb.append( glucifer.objects.Points(gSwarm,materialVariable, colours='brown white blue red'))\n",
    "figDb.append( glucifer.objects.Mesh(mesh))\n",
    "figDb.append( glucifer.objects.VectorArrows(mesh,velocityField, arrowHead=0.2, scaling=0.01))\n",
    "figDb.append( glucifer.objects.Surface(mesh, strainRate_2ndInvariant, logScale=True, colours='brown white blue'))\n",
    "figDb.append( glucifer.objects.Surface(mesh, temperatureField))\n",
    "                           "
   ]
  },
  {
   "cell_type": "code",
   "execution_count": 55,
   "metadata": {
    "collapsed": true
   },
   "outputs": [],
   "source": [
    "\n",
    "pics = uw.swarm.PICIntegrationSwarm(gSwarm)"
   ]
  },
  {
   "cell_type": "code",
   "execution_count": 56,
   "metadata": {
    "collapsed": false
   },
   "outputs": [],
   "source": [
    "def checkpoint1(step, checkpointPath,filename, filewrites):\n",
    "    path = checkpointPath + str(step) \n",
    "    os.mkdir(path)\n",
    "    ##Write and save the file, if not already a writing step\n",
    "    if not step % filewrites == 0:\n",
    "        filename.write((13*'%-15s ' + '\\n') % (realtime, Viscdis, float(Nu0glob), float(Nu1glob), Avg_temp, \n",
    "                                              Rms,Rmsurfglob,Max_vx_surf,Gravwork, etamax, etamin, Viscdisair, Viscdislith))\n",
    "    filename.close()\n",
    "    shutil.copyfile(os.path.join(outputPath, outputFile), os.path.join(path, outputFile))\n",
    "\n",
    "\n",
    "def checkpoint2(step, checkpointPath, swarm, filename, varlist = [materialVariable], varnames = ['materialVariable']):\n",
    "    path = checkpointPath + str(step) \n",
    "    velfile = \"velocityField\" + \".hdf5\"\n",
    "    tempfile = \"temperatureField\" + \".hdf5\"\n",
    "    pressfile = \"pressureField\" + \".hdf5\"\n",
    "    velocityField.save(os.path.join(path, velfile))\n",
    "    temperatureField.save(os.path.join(path, tempfile))\n",
    "    pressureField.save(os.path.join(path, pressfile))\n",
    "    swarm.save(os.path.join(path, \"swarm.h5\") ) \n",
    "    for ix in range(len(varlist)):\n",
    "        varb = varlist[ix]\n",
    "        varb.save(os.path.join(path,varnames[ix] + \".h5\"))\n",
    "        \n",
    "    "
   ]
  },
  {
   "cell_type": "code",
   "execution_count": 57,
   "metadata": {
    "collapsed": false
   },
   "outputs": [],
   "source": [
    "###########\n",
    "#Open file for writing metrics\n",
    "###########\n",
    "\n",
    "if checkpointLoad:\n",
    "    if uw.rank() == 0:\n",
    "        shutil.copyfile(os.path.join(checkpointLoadDir, outputFile), outputPath+outputFile)\n",
    "    comm.Barrier()\n",
    "    #os.rename(os.path.join(checkpointLoadDir, outputFile), outputPath+outputFile)\n",
    "    f_o = open(os.path.join(outputPath, outputFile), 'a')\n",
    "    prevdata = np.genfromtxt(os.path.join(outputPath, outputFile), skip_header=0, skip_footer=0)\n",
    "    realtime = prevdata[prevdata.shape[0]-1, 0]\n",
    "    step = int(checkpointLoadDir.split('/')[-1])\n",
    "    timevals = [0.]\n",
    "else:\n",
    "    f_o = open(outputPath+outputFile, 'w')\n",
    "    realtime = 0.\n",
    "    step = 0\n",
    "    timevals = [0.]"
   ]
  },
  {
   "cell_type": "markdown",
   "metadata": {},
   "source": [
    "Main simulation loop\n",
    "=======\n",
    "\n",
    "The main time stepping loop begins here. Before this the time and timestep are initialised to zero and the output statistics arrays are set up. Also the frequency of outputting basic statistics to the screen is set in steps_output.\n"
   ]
  },
  {
   "cell_type": "code",
   "execution_count": 222,
   "metadata": {
    "collapsed": false
   },
   "outputs": [
    {
     "name": "stdout",
     "output_type": "stream",
     "text": [
      "0\n",
      "1\n"
     ]
    }
   ],
   "source": [
    "# initialise timer for computation\n",
    "startMain = time.clock()\n",
    "# Perform steps#\n",
    "#while realtime < 0.05:\n",
    "while step < 25:\n",
    "    #Enter non-linear loop\n",
    "    print step\n",
    "    solver.solve(nonLinearIterate=True)\n",
    "    dt = advDiff.get_max_dt()\n",
    "    if step == 0:\n",
    "        dt = 0.\n",
    "    #start = time.clock()\n",
    "    advDiff.integrate(dt)\n",
    "    #machine_time = (time.clock()-start)\n",
    "    #print(\"total advDiff time is: \" + str(machine_time))\n",
    "    # Advect swarm using this timestep size\n",
    "    #start = time.clock()\n",
    "    advector.integrate(dt)\n",
    "    #machine_time = (time.clock()-start)\n",
    "    #print(\"total advector time is: \" + str(machine_time))\n",
    "    # Increment\n",
    "    realtime += dt\n",
    "    step += 1\n",
    "    timevals.append(realtime)\n",
    "    \n",
    "    ################\n",
    "    #Update temperature field in the air region\n",
    "    ################\n",
    "    if (step % sticky_air_temp == 0):\n",
    "        for index, coord in enumerate(mesh.data):\n",
    "            if coord[1] >= 1.:\n",
    "                temperatureField.data[index] = 0.\n",
    " \n",
    "    ################\n",
    "    #Particle update\n",
    "    ###############\n",
    "    if (step % swarm_update == 0) or (step % metric_output == 0): #These updates should be done before any metric output\n",
    "        #These swarm variables get updated first, as they are used to determine material changes\n",
    "        particledepths = 1. - gSwarm.particleCoordinates.data[:,1]\n",
    "        particletemps = temperatureField.evaluate(gSwarm)[:,0]\n",
    "        conditionmap['depthcondition']['data'] = particledepths\n",
    "        conditionmap['avgtempcondition']['data'] = particletemps\n",
    "        ################\n",
    "        number_updated = 0\n",
    "        for particleID in range(gSwarm.particleCoordinates.data.shape[0]):\n",
    "            check = update_swarm(DG, particleID)\n",
    "            if check > -1:\n",
    "                number_updated += 1\n",
    "                #if check == 0:\n",
    "                #    print \"from \" + str(materialVariable.data[particleID]) + \" to \" + str(check)\n",
    "                materialVariable.data[particleID] = check\n",
    "            else:\n",
    "                pass\n",
    "        #Also update those integration swarms\n",
    "        rockIntVar.data[:] = 0.\n",
    "        notair = np.where(materialVariable.data != airIndex)\n",
    "        rockIntVar.data[notair] = 1.\n",
    "        airIntVar.data[:] = 0.\n",
    "        notrock = np.where(materialVariable.data == airIndex)\n",
    "        airIntVar.data[notrock] = 1.\n",
    "        lithIntVar.data[:] = 0.\n",
    "        islith = np.where((materialVariable.data == lithosphereIndex) | (materialVariable.data == crustIndex))\n",
    "        lithIntVar.data[islith] = 1.\n",
    "\n",
    "    ################            \n",
    "    # Calculate the Metrics, only on 1 of the processors:\n",
    "    ################\n",
    "    if (step % metric_output == 0):\n",
    "        ###############\n",
    "        #Swarm - based Metrics\n",
    "        ###############\n",
    "        tempVariable.data[:] = temperatureField.evaluate(gSwarm)[:]\n",
    "        Avg_temp = avg_temp()\n",
    "        Rms = rms()\n",
    "        Gravwork = gravwork(dwint)\n",
    "        Viscdis = viscdis(vdint)\n",
    "        Viscdisair = viscdis(vdintair)\n",
    "        Viscdislith = viscdis(vdintlith)\n",
    "        etamax, etamin = visc_extr(viscosityMapFn)\n",
    "        #These are the ones that need mpi4py treatment\n",
    "        Nu0loc = nusselt(temperatureField, baseintswarm, dx)\n",
    "        Nu1loc = nusselt(temperatureField, surfintswarm, dx)\n",
    "        Rmsurfloc = rms_surf(surfintswarm, dx)\n",
    "        Max_vx_surfloc = np.array(max_vx_surf(velocityField, surfintswarm),'d') #This float needed to be an array to play with mpi4py\n",
    "        #Setup the global output arrays\n",
    "        dTp = Nu0loc.dtype\n",
    "        Nu0glob = np.array(0, dtype=dTp)\n",
    "        dTp = Nu1loc.dtype\n",
    "        Nu1glob = np.array(0, dtype=dTp)\n",
    "        dTp = Rmsurfloc.dtype\n",
    "        Rmsurfglob = np.array(0, dtype=dTp)\n",
    "        dTp = Max_vx_surfloc.dtype\n",
    "        Max_vx_surfglob = np.array(0.0,dtype=dTp)   \n",
    "        #Do global operation ... sum, or max\n",
    "        comm.Allreduce(Nu0loc, Nu0glob, op=MPI.SUM)\n",
    "        comm.Allreduce(Nu1loc, Nu1glob, op=MPI.SUM)\n",
    "        comm.Allreduce(Rmsurfloc, Rmsurfglob, op=MPI.SUM)\n",
    "        comm.Allreduce([Max_vx_surfloc, MPI.DOUBLE],[Max_vx_surfglob, MPI.DOUBLE],op=MPI.MAX)      \n",
    "        # output to summary text file\n",
    "        if uw.rank()==0:\n",
    "            f_o.write((13*'%-15s ' + '\\n') % (realtime, Viscdis, float(Nu0glob), float(Nu1glob), Avg_temp, \n",
    "                                              Rms,Rmsurfglob,Max_vx_surfglob,Gravwork, etamax, etamin, Viscdisair, Viscdislith))\n",
    "        #test = max_vx_surf(velocityField, surfintswarm)    \n",
    "        #if uw.rank()==0:\n",
    "         #   print(Rmsurfglob,MRms_surf, Max_vx_surfglob, MMax_vx_surf, etamax, Metamax)\n",
    "        #print(Rmsurfloc, test)\n",
    "    ################\n",
    "    #Gldb output\n",
    "    ################ \n",
    "    if (step % gldbs_output == 0) & (writeFiles == True):\n",
    "        #Rebuild any necessary swarm variables\n",
    "        viscVariable.data[:] = viscosityMapFn.evaluate(gSwarm)\n",
    "        #Write gldbs\n",
    "        fnamedb = \"dbFig\" + \"_\" + str(ModIt) + \"_\" + str(step) + \".gldb\"\n",
    "        fullpath = os.path.join(outputPath + \"gldbs/\" + fnamedb)\n",
    "        figDb.show()\n",
    "        figDb.save_database(fullpath)\n",
    "    ################\n",
    "    #Also repopulate entire swarm periodically\n",
    "    ################\n",
    "    if step % swarm_repop == 0:\n",
    "        pics.repopulate()\n",
    "    ################\n",
    "    #Checkpoint\n",
    "    ################\n",
    "    if step % checkpoint_every == 0:\n",
    "        if uw.rank() == 0:\n",
    "            checkpoint1(step, checkpointPath,f_o, metric_output)           \n",
    "        checkpoint2(step, checkpointPath, gSwarm, f_o, varlist = varlist, varnames = varnames)\n",
    "        f_o = open(os.path.join(outputPath, outputFile), 'a') #is this line supposed to be here?\n",
    "     \n",
    "    \n",
    "f_o.close()\n",
    "#print 'step =',step, '; dt =', dt, '; CPU time =', time.clock()-startMain"
   ]
  },
  {
   "cell_type": "code",
   "execution_count": null,
   "metadata": {
    "collapsed": false
   },
   "outputs": [],
   "source": [
    "#figEta = glucifer.Figure(figsize=(1024,384))\n",
    "#figEta.append( glucifer.objects.Points(gSwarm,viscVariable, logScale=True))\n",
    "#figEta.save_database('test.gldb')\n",
    "#figEta.show()\n",
    "\n"
   ]
  },
  {
   "cell_type": "code",
   "execution_count": 64,
   "metadata": {
    "collapsed": false
   },
   "outputs": [
    {
     "data": {
      "text/plain": [
       "array([[-0.99437325,  0.01625448],\n",
       "       [-0.99626228,  0.01714438],\n",
       "       [-0.98303273,  0.00212936],\n",
       "       ..., \n",
       "       [ 0.98299173,  1.04479155],\n",
       "       [ 0.99442712,  1.04212992],\n",
       "       [ 0.98953241,  1.03829164]])"
      ]
     },
     "execution_count": 64,
     "metadata": {},
     "output_type": "execute_result"
    }
   ],
   "source": [
    "gSwarm.particleCoordinates.data"
   ]
  },
  {
   "cell_type": "code",
   "execution_count": 42,
   "metadata": {
    "collapsed": true
   },
   "outputs": [],
   "source": [
    "#Cleanse the swarm of its sins\n",
    "#For some Material Graphs, the graph may have to be treaversed more than once\n",
    "\n",
    "check = -1\n",
    "number_updated = 1\n",
    "\n",
    "while number_updated != 0:\n",
    "    number_updated = 0\n",
    "    for particleID in range(gSwarm.particleCoordinates.data.shape[0]):\n",
    "                check = update_swarm(DG, particleID)\n",
    "                if check > -1:\n",
    "                    number_updated += 1\n",
    "                    materialVariable.data[particleID] = check"
   ]
  },
  {
   "cell_type": "code",
   "execution_count": 44,
   "metadata": {
    "collapsed": true
   },
   "outputs": [],
   "source": [
    "for index, coord in enumerate(gSwarm.particleCoordinates.data):\n",
    "        if coord[1] < 0.2:\n",
    "            materialVariable.data[index] = 2"
   ]
  },
  {
   "cell_type": "code",
   "execution_count": 45,
   "metadata": {
    "collapsed": false
   },
   "outputs": [
    {
     "data": {
      "text/html": [
       "<img src='data:image/png;base64,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'>"
      ],
      "text/plain": [
       "<IPython.core.display.HTML object>"
      ]
     },
     "execution_count": 45,
     "metadata": {},
     "output_type": "execute_result"
    }
   ],
   "source": [
    "\n",
    "figMat = glucifer.Figure()\n",
    "figMat.append( glucifer.objects.Points(gSwarm,materialVariable, colours='brown white blue red'))\n",
    "#figMat.append( glucifer.objects.Points(surfintswarm,materialVariable, pointSize= 5.))\n",
    "figMat.append( glucifer.objects.Mesh(mesh))\n",
    "#figMat.save_database('test.gldb')\n",
    "figMat.show()\n",
    "\n",
    " "
   ]
  },
  {
   "cell_type": "code",
   "execution_count": null,
   "metadata": {
    "collapsed": false
   },
   "outputs": [],
   "source": [
    "#avg_temp()"
   ]
  },
  {
   "cell_type": "code",
   "execution_count": null,
   "metadata": {
    "collapsed": false
   },
   "outputs": [],
   "source": []
  },
  {
   "cell_type": "code",
   "execution_count": 63,
   "metadata": {
    "collapsed": false
   },
   "outputs": [
    {
     "data": {
      "text/html": [
       "<img src='data:image/png;base64,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'>"
      ],
      "text/plain": [
       "<IPython.core.display.HTML object>"
      ]
     },
     "execution_count": 63,
     "metadata": {},
     "output_type": "execute_result"
    }
   ],
   "source": [
    "#figStrainRate = glucifer.Figure()\n",
    "#figStrainRate.append( glucifer.objects.Surface(mesh, strainRate_2ndInvariant, logScale=True))\n",
    "#figStrainRate.show()\n",
    "#figStrainRate.save_database('test.gldb')\n"
   ]
  },
  {
   "cell_type": "code",
   "execution_count": null,
   "metadata": {
    "collapsed": false
   },
   "outputs": [],
   "source": [
    "machine_time = (time.clock()-startMain)\n",
    "print(\"total machine time is: \" + str(machine_time))"
   ]
  },
  {
   "cell_type": "code",
   "execution_count": null,
   "metadata": {
    "collapsed": true
   },
   "outputs": [],
   "source": [
    "print(\"dimensionless time is: \" + str(realtime))"
   ]
  },
  {
   "cell_type": "code",
   "execution_count": 61,
   "metadata": {
    "collapsed": false
   },
   "outputs": [
    {
     "data": {
      "text/plain": [
       "17.138831881665546"
      ]
     },
     "execution_count": 61,
     "metadata": {},
     "output_type": "execute_result"
    }
   ],
   "source": [
    "#velocityField.evaluate(IWalls)[:,0].max()"
   ]
  },
  {
   "cell_type": "code",
   "execution_count": 62,
   "metadata": {
    "collapsed": false
   },
   "outputs": [
    {
     "data": {
      "text/plain": [
       "0.0"
      ]
     },
     "execution_count": 62,
     "metadata": {},
     "output_type": "execute_result"
    }
   ],
   "source": [
    "#velocityField.evaluate(TWalls)[:,0].max()"
   ]
  }
 ],
 "metadata": {
  "kernelspec": {
   "display_name": "Python 2",
   "language": "python",
   "name": "python2"
  },
  "language_info": {
   "codemirror_mode": {
    "name": "ipython",
    "version": 2
   },
   "file_extension": ".py",
   "mimetype": "text/x-python",
   "name": "python",
   "nbconvert_exporter": "python",
   "pygments_lexer": "ipython2",
   "version": "2.7.11"
  }
 },
 "nbformat": 4,
 "nbformat_minor": 0
}
