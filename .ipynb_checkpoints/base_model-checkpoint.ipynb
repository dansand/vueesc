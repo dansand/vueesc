{
 "cells": [
  {
   "cell_type": "markdown",
   "metadata": {
    "collapsed": true
   },
   "source": [
    "\n",
    "Viscoplastic thermal convection in a 2-D square box\n",
    "=======\n",
    "\n",
    "Benchmarks from Tosi et al. 2015\n",
    "--------\n",
    "\n"
   ]
  },
  {
   "cell_type": "markdown",
   "metadata": {
    "collapsed": true
   },
   "source": [
    "This notebook generates models from the <a name=\"ref-1\"/>[(Tosi et al., 2015)](#cite-tosi2015community) in Underworld2. The Underworld2 results are compared to the model run on Fenics. Input files for the Fenics models were provided by Petra Maierova.\n",
    "\n",
    "This example uses the RT PIC solver with classic and nearest neighbour\n",
    "\n",
    "\n",
    "References\n",
    "====\n",
    "\n",
    "<a name=\"cite-tosi2015community\"/><sup>[^](#ref-1) </sup>Tosi, Nicola and Stein, Claudia and Noack, Lena and H&uuml;ttig, Christian and Maierov&aacute;, Petra and Samuel, Henri and Davies, DR and Wilson, CR and Kramer, SC and Thieulot, Cedric and others. 2015. _A community benchmark for viscoplastic thermal convection in a 2-D square box_.\n",
    "\n"
   ]
  },
  {
   "cell_type": "code",
   "execution_count": 2,
   "metadata": {
    "collapsed": false
   },
   "outputs": [],
   "source": [
    "#pwd"
   ]
  },
  {
   "cell_type": "markdown",
   "metadata": {},
   "source": [
    "Load python functions needed for underworld. Some additional python functions from os, math and numpy used later on."
   ]
  },
  {
   "cell_type": "code",
   "execution_count": 3,
   "metadata": {
    "collapsed": false
   },
   "outputs": [],
   "source": [
    "import underworld as uw\n",
    "import math\n",
    "from underworld import function as fn\n",
    "import glucifer\n",
    "#import matplotlib.pyplot as pyplot\n",
    "import time\n",
    "import numpy as np\n",
    "import os\n",
    "import sys\n",
    "\n",
    "from mpi4py import MPI\n",
    "comm = MPI.COMM_WORLD\n",
    "rank = comm.Get_rank()"
   ]
  },
  {
   "cell_type": "code",
   "execution_count": 4,
   "metadata": {
    "collapsed": false
   },
   "outputs": [],
   "source": [
    "############\n",
    "#Need to manually set these two\n",
    "############\n",
    "Model = \"T\"\n",
    "ModNum = 5\n",
    "\n",
    "if len(sys.argv) == 1:\n",
    "    ModIt = \"Base\"\n",
    "elif sys.argv[1] == '-f':\n",
    "    ModIt = \"Base\"\n",
    "else:\n",
    "    ModIt = str(sys.argv[1])\n"
   ]
  },
  {
   "cell_type": "code",
   "execution_count": null,
   "metadata": {
    "collapsed": true
   },
   "outputs": [],
   "source": []
  },
  {
   "cell_type": "markdown",
   "metadata": {},
   "source": [
    "Set physical constants and parameters, including the Rayleigh number (*RA*). "
   ]
  },
  {
   "cell_type": "code",
   "execution_count": 5,
   "metadata": {
    "collapsed": true
   },
   "outputs": [],
   "source": [
    "#Do you want to write hdf5 files - Temp, RMS, viscosity, stress?\n",
    "writeFiles = True\n",
    "loadTemp = False\n",
    "refineMesh = True"
   ]
  },
  {
   "cell_type": "code",
   "execution_count": 6,
   "metadata": {
    "collapsed": false
   },
   "outputs": [],
   "source": [
    "ETA_T = 1e5\n",
    "newvisc= math.exp(math.log(ETA_T)*0.53)\n"
   ]
  },
  {
   "cell_type": "code",
   "execution_count": 7,
   "metadata": {
    "collapsed": false
   },
   "outputs": [
    {
     "data": {
      "text/plain": [
       "446.6835921509633"
      ]
     },
     "execution_count": 7,
     "metadata": {},
     "output_type": "execute_result"
    }
   ],
   "source": [
    "newvisc"
   ]
  },
  {
   "cell_type": "code",
   "execution_count": 8,
   "metadata": {
    "collapsed": false
   },
   "outputs": [],
   "source": [
    "###########\n",
    "#Constants\n",
    "###########\n",
    "RA  = 1e2*newvisc       # Rayleigh number\n",
    "TS  = 0          # surface temperature\n",
    "TB  = 1          # bottom boundary temperature (melting point)\n",
    "ETA_T = 1e5\n",
    "ETA_Y = 10\n",
    "ETA0 = 1e-3*newvisc\n",
    "RES = 40\n",
    "YSTRESS = 1.*newvisc\n",
    "D = 2890.\n",
    "\n",
    "MINX = -1.\n",
    "ALPHA = 11.\n",
    "\n",
    "stickyAir = True"
   ]
  },
  {
   "cell_type": "code",
   "execution_count": 9,
   "metadata": {
    "collapsed": false
   },
   "outputs": [],
   "source": [
    "\n",
    "    \n",
    "if MINX == 0.:\n",
    "    squareModel = True\n",
    "else: \n",
    "    squareModel = False\n"
   ]
  },
  {
   "cell_type": "code",
   "execution_count": 10,
   "metadata": {
    "collapsed": false
   },
   "outputs": [],
   "source": [
    "##########\n",
    "#variables, these can be defined with STDIN,\n",
    "##########\n",
    "#The == '-f': check is just to check if we're running a notebook - careful, haven't tested\n",
    "    \n",
    "#Watch the type assignemnt on sys.argv[1]\n",
    "\n",
    "DEFAULT = 128\n",
    "ModIt   = str(DEFAULT)\n",
    "    \n",
    "    \n",
    "if len(sys.argv) == 1:\n",
    "    RES = DEFAULT\n",
    "elif sys.argv[1] == '-f':\n",
    "    RES = DEFAULT\n",
    "else:\n",
    "    RES = int(sys.argv[1])\n",
    "    "
   ]
  },
  {
   "cell_type": "code",
   "execution_count": 11,
   "metadata": {
    "collapsed": true
   },
   "outputs": [],
   "source": [
    "outputPath = str(Model) + \"/\" + str(ModNum) + \"/\"\n",
    "imagePath = outputPath + 'images/'\n",
    "filePath = outputPath + 'files/'\n",
    "checkpointPath = outputPath + 'checkpoint/'\n",
    "dbPath = outputPath + 'gldbs/'\n",
    "outputFile = 'results_model' + Model + '_' + str(ModNum) + '_' + str(ModIt) + '.dat'\n",
    "\n",
    "if uw.rank()==0:\n",
    "    # make directories if they don't exist\n",
    "    if not os.path.isdir(outputPath):\n",
    "        os.makedirs(outputPath)\n",
    "    if not os.path.isdir(checkpointPath):\n",
    "        os.makedirs(checkpointPath)\n",
    "    if not os.path.isdir(imagePath):\n",
    "        os.makedirs(imagePath)\n",
    "    if not os.path.isdir(dbPath):\n",
    "        os.makedirs(dbPath)\n",
    "    if not os.path.isdir(filePath):\n",
    "        os.makedirs(filePath)"
   ]
  },
  {
   "cell_type": "code",
   "execution_count": 12,
   "metadata": {
    "collapsed": false
   },
   "outputs": [],
   "source": [
    "dim = 2          # number of spatial dimensions\n",
    "\n",
    "\n",
    "if MINX == 0.:\n",
    "    Xres = RES\n",
    "else:\n",
    "    Xres = 2*RES\n",
    "    \n",
    "if stickyAir:\n",
    "    Yres = RES + 8\n",
    "    MAXY = float(Yres)/RES\n",
    "    \n",
    "else:\n",
    "    Yres = RES\n",
    "    MAXY = 1.\n",
    "    "
   ]
  },
  {
   "cell_type": "code",
   "execution_count": 13,
   "metadata": {
    "collapsed": false
   },
   "outputs": [
    {
     "data": {
      "text/plain": [
       "1.0833333333333333"
      ]
     },
     "execution_count": 13,
     "metadata": {},
     "output_type": "execute_result"
    }
   ],
   "source": [
    "MAXY"
   ]
  },
  {
   "cell_type": "code",
   "execution_count": 14,
   "metadata": {
    "collapsed": false
   },
   "outputs": [
    {
     "data": {
      "text/plain": [
       "(192, 104)"
      ]
     },
     "execution_count": 14,
     "metadata": {},
     "output_type": "execute_result"
    }
   ],
   "source": [
    "Xres, Yres"
   ]
  },
  {
   "cell_type": "code",
   "execution_count": 15,
   "metadata": {
    "collapsed": false
   },
   "outputs": [
    {
     "data": {
      "text/plain": [
       "(1.0833333333333333, 0.010416666666666666, 30.104166666666664)"
      ]
     },
     "execution_count": 15,
     "metadata": {},
     "output_type": "execute_result"
    }
   ],
   "source": [
    "yelsize = MAXY/Yres\n",
    "MAXY, yelsize, yelsize*D"
   ]
  },
  {
   "cell_type": "markdown",
   "metadata": {},
   "source": [
    "Select which case of viscosity from Tosi et al (2015) to use. Adjust the yield stress to be =1 for cases 1-4, or between 3.0 and 5.0 (in increments of 0.1) in case 5."
   ]
  },
  {
   "cell_type": "markdown",
   "metadata": {},
   "source": [
    "Set output file and directory for results"
   ]
  },
  {
   "cell_type": "markdown",
   "metadata": {},
   "source": [
    "Create mesh objects. These store the indices and spatial coordiates of the grid points on the mesh."
   ]
  },
  {
   "cell_type": "code",
   "execution_count": 16,
   "metadata": {
    "collapsed": false
   },
   "outputs": [],
   "source": [
    "elementMesh = uw.mesh.FeMesh_Cartesian( elementType=(\"Q1/dQ0\"), \n",
    "                                         elementRes=(Xres, Yres), \n",
    "                                           minCoord=(MINX,0.), \n",
    "                                           maxCoord=(1.,MAXY), periodic=[True,False] )\n",
    "linearMesh   = elementMesh\n",
    "constantMesh = elementMesh.subMesh "
   ]
  },
  {
   "cell_type": "markdown",
   "metadata": {},
   "source": [
    "Create Finite Element (FE) variables for the velocity, pressure and temperature fields. The last two of these are scalar fields needing only one value at each mesh point, while the velocity field contains a vector of *dim* dimensions at each mesh point."
   ]
  },
  {
   "cell_type": "code",
   "execution_count": 17,
   "metadata": {
    "collapsed": true
   },
   "outputs": [],
   "source": [
    "velocityField    = uw.fevariable.FeVariable( feMesh=linearMesh,   nodeDofCount=dim )\n",
    "pressureField    = uw.fevariable.FeVariable( feMesh=constantMesh, nodeDofCount=1 )\n",
    "temperatureField = uw.fevariable.FeVariable( feMesh=linearMesh,   nodeDofCount=1 )"
   ]
  },
  {
   "cell_type": "markdown",
   "metadata": {},
   "source": [
    "Create some dummy fevariables for doing top and bottom boundary calculations."
   ]
  },
  {
   "cell_type": "markdown",
   "metadata": {},
   "source": [
    "##Refine mesh"
   ]
  },
  {
   "cell_type": "markdown",
   "metadata": {
    "collapsed": true
   },
   "source": [
    "if refineMesh:\n",
    "    alpha=ALPHA\n",
    "    newys = []\n",
    "    newxs = []\n",
    "    for index, coord in enumerate(linearMesh.data):\n",
    "        y0 = coord[1]\n",
    "        x0 = abs(coord[0])\n",
    "        if y0 >= 1.0:\n",
    "            newy = y0\n",
    "        else:\n",
    "            newy = (math.log(alpha*y0 + math.e) - 1)*(1/(math.log(alpha + math.e) - 1))\n",
    "        newx = (math.log((alpha/2.)*x0 + math.e) - 1)*(1/(math.log((alpha/2.) + math.e) - 1))\n",
    "        if coord[0] <= 0:\n",
    "            newx = -1.*newx\n",
    "        newys.append(newy)\n",
    "        newxs.append(newx)\n",
    "        \n",
    "    with linearMesh.deform_mesh():\n",
    "        linearMesh.data[:,1] = newys\n",
    "        linearMesh.data[:,0] = newxs"
   ]
  },
  {
   "cell_type": "code",
   "execution_count": 18,
   "metadata": {
    "collapsed": true
   },
   "outputs": [],
   "source": [
    "#THis one for the rectangular mesh\n",
    "\n",
    "if refineMesh:\n",
    "    alpha = ALPHA\n",
    "    newys = []\n",
    "    newxs = []\n",
    "    for index, coord in enumerate(linearMesh.data):\n",
    "        y0 = coord[1]\n",
    "        x0 = abs(coord[0])\n",
    "        if y0 >= 1.0:\n",
    "            newy = y0\n",
    "        else:\n",
    "            newy = (math.log(alpha*y0 + math.e) - 1)*(1/(math.log(alpha + math.e) - 1))\n",
    "        if coord[0] > 0:\n",
    "            newx = (math.e**(x0*(math.log((alpha/2.) + math.e) - 1) + 1 ) - math.e)/(alpha/2.)     \n",
    "        else:\n",
    "            newx = -1.*(math.e**(x0*(math.log((alpha/2.) + math.e) - 1) + 1 ) - math.e)/(alpha/2.)\n",
    "        newys.append(newy)\n",
    "        newxs.append(newx)\n",
    "        #print y0,newy\n",
    "        \n",
    "    with linearMesh.deform_mesh():\n",
    "            linearMesh.data[:,1] = newys\n",
    "            linearMesh.data[:,0] = newxs"
   ]
  },
  {
   "cell_type": "markdown",
   "metadata": {},
   "source": [
    "#ICs and BCs"
   ]
  },
  {
   "cell_type": "code",
   "execution_count": 19,
   "metadata": {
    "collapsed": false
   },
   "outputs": [],
   "source": [
    "# Initialise data.. Note that we are also setting boundary conditions here\n",
    "velocityField.data[:] = [0.,0.]\n",
    "pressureField.data[:] = 0.\n",
    "temperatureField.data[:] = 0.\n",
    "\n",
    "# Setup temperature initial condition via numpy arrays\n",
    "A = 0.01\n",
    "#Note that width = height = 1\n",
    "tempNump = temperatureField.data\n",
    "for index, coord in enumerate(linearMesh.data):\n",
    "    pertCoeff = (1- coord[1]) + A*math.cos( math.pi * abs(1. - coord[0]) ) * math.sin( math.pi * coord[1] )\n",
    "    tempNump[index] = pertCoeff;\n",
    "    if coord[1] > 1:\n",
    "        tempNump[index] = 0."
   ]
  },
  {
   "cell_type": "code",
   "execution_count": null,
   "metadata": {
    "collapsed": false
   },
   "outputs": [],
   "source": []
  },
  {
   "cell_type": "code",
   "execution_count": 20,
   "metadata": {
    "collapsed": false
   },
   "outputs": [],
   "source": [
    "#For notebook runs\n",
    "ModIt = \"144\""
   ]
  },
  {
   "cell_type": "code",
   "execution_count": 21,
   "metadata": {
    "collapsed": false
   },
   "outputs": [],
   "source": [
    "########################################\n",
    "#No sticky air, square models\n",
    "########################################\n",
    "\n",
    "if (loadTemp == True) and (refineMesh == False) and (squareModel == True) and (stickyAir == False):\n",
    "    if ModIt == str(96):\n",
    "        temperatureField.load('temp_ics/1.0_96_init_temp.hdf5')\n",
    "    elif ModIt == str(128):\n",
    "        temperatureField.load('temp_ics/1.0_128_init_temp.hdf5')\n",
    "    elif ModIt == str(144):\n",
    "        temperatureField.load('temp_ics/1.0_144_init_temp.hdf5')\n",
    "    elif ModIt == str(192):\n",
    "        temperatureField.load('temp_ics/1.0_192_init_temp.hdf5')\n",
    "    elif ModIt == str(256):\n",
    "        temperatureField.load('temp_ics/1.0_256_init_temp.hdf5')\n",
    "elif (loadTemp == True) and (refineMesh == True) and (squareModel == True) and (stickyAir == False):\n",
    "    if ModIt == str(96):\n",
    "        temperatureField.load('temp_ics/r11_1.0_96_init_temp.hdf5')\n",
    "    elif ModIt == str(128):\n",
    "        temperatureField.load('temp_ics/r11_1.0_128_init_temp.hdf5')\n",
    "    elif ModIt == str(144):\n",
    "        temperatureField.load('temp_ics/r11_1.0_144_init_temp.hdf5')\n",
    "    elif ModIt == str(192):\n",
    "        temperatureField.load('temp_ics/r11_1.0_192_init_temp.hdf5')\n",
    "    elif ModIt == str(256):\n",
    "        temperatureField.load('temp_ics/r11_1.0_256_init_temp.hdf5') "
   ]
  },
  {
   "cell_type": "code",
   "execution_count": 22,
   "metadata": {
    "collapsed": false
   },
   "outputs": [],
   "source": [
    "########################################\n",
    "#Sticky air, square models\n",
    "########################################\n",
    "if (loadTemp == True) and (refineMesh == False) and (squareModel == True) and (stickyAir == True):\n",
    "    print \"True\"\n",
    "    if ModIt == str(96):\n",
    "        temperatureField.load('temp_ics/sqa_96_init_temp.hdf5')\n",
    "    elif ModIt == str(128):\n",
    "        temperatureField.load('temp_ics/sqa_128_init_temp.hdf5')\n",
    "    elif ModIt == str(144):\n",
    "        temperatureField.load('temp_ics/sqa_144_init_temp.hdf5')\n",
    "    elif ModIt == str(192):\n",
    "        temperatureField.load('temp_ics/sqa_192_init_temp.hdf5')\n",
    "    elif ModIt == str(256):\n",
    "        temperatureField.load('temp_ics/sqa_256_init_temp.hdf5')\n",
    "elif (loadTemp == True) and (refineMesh == True) and (squareModel == True) and (stickyAir == True):\n",
    "    print \"True\"\n",
    "    if ModIt == str(96):\n",
    "        temperatureField.load('temp_ics/r11_sqa_96_init_temp.hdf5')\n",
    "    elif ModIt == str(128):\n",
    "        temperatureField.load('temp_ics/r11_sqa_128_init_temp.hdf5')\n",
    "    elif ModIt == str(144):\n",
    "        temperatureField.load('temp_ics/r11_sqa_144_init_temp.hdf5')\n",
    "    elif ModIt == str(192):\n",
    "        temperatureField.load('temp_ics/r11_sqa_192_init_temp.hdf5')\n",
    "    elif ModIt == str(256):\n",
    "        temperatureField.load('temp_ics/r11_sqa_256_init_temp.hdf5') "
   ]
  },
  {
   "cell_type": "code",
   "execution_count": 23,
   "metadata": {
    "collapsed": false
   },
   "outputs": [
    {
     "data": {
      "text/plain": [
       "'144'"
      ]
     },
     "execution_count": 23,
     "metadata": {},
     "output_type": "execute_result"
    }
   ],
   "source": [
    "ModIt"
   ]
  },
  {
   "cell_type": "code",
   "execution_count": 24,
   "metadata": {
    "collapsed": false
   },
   "outputs": [],
   "source": [
    "########################################\n",
    "#Sticky air, rectangular models\n",
    "########################################\n",
    "\n",
    "if (loadTemp == True) and (refineMesh == False) and (squareModel == False) and (stickyAir == True):\n",
    "    print \"True\"\n",
    "    if ModIt == str(96):\n",
    "        temperatureField.load('temp_ics/sa_96_init_temp.hdf5')\n",
    "    elif ModIt == str(128):\n",
    "        temperatureField.load('temp_ics/sa_128_init_temp.hdf5')\n",
    "    elif ModIt == str(144):\n",
    "        temperatureField.load('temp_ics/sa_144_init_temp.hdf5')\n",
    "    elif ModIt == str(192):\n",
    "        temperatureField.load('temp_ics/sa_192_init_temp.hdf5')\n",
    "    elif ModIt == str(256):\n",
    "        temperatureField.load('temp_ics/sa_256_init_temp.hdf5')\n",
    "elif (loadTemp == True) and (refineMesh == True) and (squareModel == False) and (stickyAir == True):\n",
    "    print \"True\"\n",
    "    if ModIt == str(96):\n",
    "        temperatureField.load('temp_ics/r11_sa_96_init_temp.hdf5')\n",
    "    elif ModIt == str(128):\n",
    "        temperatureField.load('temp_ics/r11_sa_128_init_temp.hdf5')\n",
    "    elif ModIt == str(144):\n",
    "        temperatureField.load('temp_ics/r11_sa_144_init_temp.hdf5')\n",
    "    elif ModIt == str(192):\n",
    "        temperatureField.load('temp_ics/r11_sa_192_init_temp.hdf5')\n",
    "    elif ModIt == str(256):\n",
    "        temperatureField.load('temp_ics/r11_sa_256_init_temp.hdf5')"
   ]
  },
  {
   "cell_type": "markdown",
   "metadata": {
    "collapsed": true
   },
   "source": [
    "dres = 96\n",
    "dummyelementMesh = uw.mesh.FeMesh_Cartesian( elementType = (\"Q1/dQ0\"), \n",
    "                                         elementRes = (dres, dres), \n",
    "                                           minCoord = (0., 0.), \n",
    "                                           maxCoord = (1., 1.))\n",
    "\n",
    "dummytemperatureMesh = dummyelementMesh \n",
    "dummytemperatureField = uw.fevariable.FeVariable( feMesh=dummytemperatureMesh, nodeDofCount=1 )\n",
    "dummytemperatureField.load('temp_ics/temperatureField_4_10200.hdf5')\n",
    "\n",
    "for index, coord in enumerate(linearMesh.data):\n",
    "    #This bit determines whether you see a reflected image or not\n",
    "    #xpos, ypos = (1.- abs(coord[0])), coord[1]\n",
    "    xpos, ypos = (abs(coord[0])), coord[1]\n",
    "    if ypos >= 1:\n",
    "        temperatureField.data[index] = 0.\n",
    "    else:\n",
    "        #print(dummytemperatureField.evaluate((xpos, ypos)))\n",
    "        #randpert = np.random.rand(1)[0]*(50./2500)\n",
    "        randpert = 0.\n",
    "        #Don't know mesh partitions in advance, and possible diferent between 'real' and 'dummy' mesh\n",
    "        try:\n",
    "            temperatureField.data[index] = dummytemperatureField.evaluate((xpos, ypos))  + randpert\n",
    "        except:\n",
    "            pass\n",
    "            \n",
    "temperatureField.save('temp_ics/r11_1.0_144_init_temp.hdf5')"
   ]
  },
  {
   "cell_type": "markdown",
   "metadata": {
    "collapsed": true
   },
   "source": []
  },
  {
   "cell_type": "code",
   "execution_count": 25,
   "metadata": {
    "collapsed": false
   },
   "outputs": [],
   "source": [
    "#icfnam= \"R(11)_\" + \"2_\" + str(RES) + \"_init_temp.hdf5\"\n",
    "#icpath = \"temp_ics/\" + icfnam \n",
    "#icfnam= str(Model) + str(ModIt) + \"_init_temp.hdf5\"\n",
    "#temperatureField.save(icpath)\n",
    "#icfnam\n",
    "#icpath"
   ]
  },
  {
   "cell_type": "code",
   "execution_count": 26,
   "metadata": {
    "collapsed": false
   },
   "outputs": [],
   "source": [
    "# Get the actual sets \n",
    "#\n",
    "#  HJJJJJJH\n",
    "#  I      I\n",
    "#  I      I\n",
    "#  I      I\n",
    "#  HJJJJJJH\n",
    "#  \n",
    "#  Note that H = I & J \n",
    "\n",
    "# Note that we use operator overloading to combine sets\n",
    "IWalls = linearMesh.specialSets[\"MinI_VertexSet\"] + linearMesh.specialSets[\"MaxI_VertexSet\"]\n",
    "JWalls = linearMesh.specialSets[\"MinJ_VertexSet\"] + linearMesh.specialSets[\"MaxJ_VertexSet\"]\n",
    "TWalls = linearMesh.specialSets[\"MaxJ_VertexSet\"]\n",
    "BWalls = linearMesh.specialSets[\"MinJ_VertexSet\"]"
   ]
  },
  {
   "cell_type": "code",
   "execution_count": null,
   "metadata": {
    "collapsed": true
   },
   "outputs": [],
   "source": []
  },
  {
   "cell_type": "code",
   "execution_count": 27,
   "metadata": {
    "collapsed": true
   },
   "outputs": [],
   "source": [
    "# Now setup the dirichlet boundary condition\n",
    "# Note that through this object, we are flagging to the system \n",
    "# that these nodes are to be considered as boundary conditions. \n",
    "# Also note that we provide a tuple of sets.. One for the Vx, one for Vy.\n",
    "freeslipBC = uw.conditions.DirichletCondition(     variable=velocityField, \n",
    "                                              nodeIndexSets=(None, JWalls) )\n",
    "\n",
    "# also set dirichlet for temp field\n",
    "tempBC = uw.conditions.DirichletCondition(     variable=temperatureField, \n",
    "                                              nodeIndexSets=(JWalls,) )"
   ]
  },
  {
   "cell_type": "markdown",
   "metadata": {},
   "source": [
    "##Add Random 125 K temp perturbation\n"
   ]
  },
  {
   "cell_type": "raw",
   "metadata": {},
   "source": []
  },
  {
   "cell_type": "code",
   "execution_count": 28,
   "metadata": {
    "collapsed": false
   },
   "outputs": [],
   "source": [
    "tempNump = temperatureField.data\n",
    "for index, coord in enumerate(linearMesh.data):\n",
    "    pertCoeff = math.sin(math.pi*coord[1])*(0.05*np.random.rand(1)[0])\n",
    "    ict = tempNump[index]\n",
    "    tempNump[index] = ict + pertCoeff"
   ]
  },
  {
   "cell_type": "code",
   "execution_count": 29,
   "metadata": {
    "collapsed": false
   },
   "outputs": [
    {
     "name": "stdout",
     "output_type": "stream",
     "text": [
      "0.0482775232937\n",
      "0.0421899174119\n",
      "0.0490084696003\n",
      "0.0226151826781\n",
      "0.0104151987948\n",
      "0.0324913626433\n",
      "0.0070331828583\n",
      "0.00267481130441\n",
      "0.00879087809457\n",
      "0.0250262456811\n"
     ]
    }
   ],
   "source": [
    "for i in range(10):\n",
    "    print 0.05*np.random.rand(1)[0]"
   ]
  },
  {
   "cell_type": "markdown",
   "metadata": {},
   "source": [
    "##Reset bottom Dirichlet conds."
   ]
  },
  {
   "cell_type": "code",
   "execution_count": 30,
   "metadata": {
    "collapsed": false
   },
   "outputs": [],
   "source": [
    "# Set temp boundaries \n",
    "# on the boundaries\n",
    "for index in linearMesh.specialSets[\"MinJ_VertexSet\"]:\n",
    "    temperatureField.data[index] = TB\n",
    "for index in linearMesh.specialSets[\"MaxJ_VertexSet\"]:\n",
    "    temperatureField.data[index] = TS"
   ]
  },
  {
   "cell_type": "markdown",
   "metadata": {},
   "source": [
    "#Particles"
   ]
  },
  {
   "cell_type": "code",
   "execution_count": 31,
   "metadata": {
    "collapsed": false
   },
   "outputs": [],
   "source": [
    "# We create swarms of particles which can advect, and which may determine 'materials'\n",
    "gSwarm = uw.swarm.Swarm( feMesh=elementMesh )\n",
    "\n",
    "# Now we add a data variable which will store an index to determine material\n",
    "materialVariable = gSwarm.add_variable( dataType=\"char\", count=1 )\n",
    "tempVariableVis = gSwarm.add_variable( dataType=\"float\", count=1 )\n",
    "rockIntVar = gSwarm.add_variable( dataType=\"double\", count=1 )\n",
    "airIntVar = gSwarm.add_variable( dataType=\"double\", count=1 )\n",
    "lithIntVar = gSwarm.add_variable( dataType=\"double\", count=1 )\n",
    "\n",
    "\n",
    "# Layouts are used to populate the swarm across the whole domain\n",
    "# Create the layout object\n",
    "#layout = uw.swarm.layouts.GlobalSpaceFillerLayout( swarm=gSwarm, particlesPerCell=20)\n",
    "layout = uw.swarm.layouts.PerCellRandomLayout(swarm=gSwarm, particlesPerCell=15)\n",
    "# Now use it to populate.\n",
    "gSwarm.populate_using_layout( layout=layout )\n",
    "\n",
    "\n",
    "# Lets initialise the 'materialVariable' data to represent different materials.\n",
    "\n",
    "temp = temperatureField.evaluate(gSwarm)\n",
    "tempVariableVis.data[:] = temp[:]\n",
    "\n",
    "\n",
    "\n",
    "mantleIndex = 0\n",
    "lithosphereIndex = 1\n",
    "crustIndex = 2\n",
    "airIndex = 3\n",
    "\n",
    "\n",
    "# Set the material to heavy everywhere via the numpy array\n",
    "materialVariable.data[:] = mantleIndex\n"
   ]
  },
  {
   "cell_type": "markdown",
   "metadata": {},
   "source": [
    "#Material Graphs"
   ]
  },
  {
   "cell_type": "code",
   "execution_count": null,
   "metadata": {
    "collapsed": true
   },
   "outputs": [],
   "source": []
  },
  {
   "cell_type": "code",
   "execution_count": 32,
   "metadata": {
    "collapsed": false
   },
   "outputs": [],
   "source": [
    "##############\n",
    "#Important: This is a quick fix for a bug that arises in parallel runs\n",
    "##############\n",
    "material_list = [0,1,2,3]\n"
   ]
  },
  {
   "cell_type": "code",
   "execution_count": 33,
   "metadata": {
    "collapsed": true
   },
   "outputs": [],
   "source": [
    "#All depth conditions are given as (km/D) where D is the length scale, \n",
    "#note that 'model depths' are used, e.g. 1-z, where z is the vertical Underworld coordinate\n",
    "#All temp conditions are in dimensionless temp. [0. - 1.]\n",
    "\n",
    "#A few paramters defining lengths scales\n",
    "\n",
    "Crust = 27.\n",
    "CrustM = Crust/D\n",
    "\n",
    "#Set initial air and crust materials (allow the graph to take care of lithsophere)\n",
    "\n",
    "#########\n",
    "#This initial material setup will be model dependent\n",
    "#########\n",
    "for particleID in range(gSwarm.particleCoordinates.data.shape[0]):\n",
    "    if (1. - gSwarm.particleCoordinates.data[particleID][1]) < 0:\n",
    "             materialVariable.data[particleID] = airIndex\n",
    "    elif (1. - gSwarm.particleCoordinates.data[particleID][1]) < CrustM:\n",
    "             materialVariable.data[particleID] = crustIndex\n",
    "\n",
    "\n",
    "\n",
    "#######Setup some variables which help define condtions\n",
    "#rock-air topography limits\n",
    "dz = 50./D\n",
    "\n",
    "avgtemp = 0.5"
   ]
  },
  {
   "cell_type": "code",
   "execution_count": 34,
   "metadata": {
    "collapsed": true
   },
   "outputs": [],
   "source": [
    "import networkx as nx\n",
    "\n",
    "#######Graph object\n",
    "DG = nx.DiGraph(field=\"Depth\")\n",
    "\n",
    "#######Nodes\n",
    "#Note that the order of materials, deepest to shallowest is important \n",
    "DG.add_node(0, mat='mantle')\n",
    "DG.add_node(1, mat='lithosphere')\n",
    "DG.add_node(2, mat='crust')\n",
    "DG.add_node(3, mat='air')\n",
    "\n",
    "\n",
    "labels=dict((n,d['mat']) for n,d in DG.nodes(data=True))\n",
    "pos=nx.spring_layout(DG) \n",
    "\n",
    "\n",
    "#######Edges\n",
    "#anything to air\n",
    "DG.add_edges_from([(0,3),(1,3), (2,3)])\n",
    "DG[0][3]['depthcondition'] = -1*dz\n",
    "DG[1][3]['depthcondition'] = -1*dz\n",
    "DG[2][3]['depthcondition'] = -1*dz\n",
    "\n",
    "\n",
    "#Anything to mantle\n",
    "DG.add_edges_from([(2,0), (3,0), (1,0)])\n",
    "DG[3][0]['depthcondition'] = dz\n",
    "DG[2][0]['depthcondition'] = (300./D)\n",
    "DG[1][0]['depthcondition'] = (660./D) #This means we're going to kill lithosphere at the 660.\n",
    "\n",
    "\n",
    "#Anything to lithsphere\n",
    "DG.add_edges_from([(0,1),(3,1)])\n",
    "DG[0][1]['depthcondition'] = 200./D\n",
    "DG[0][1]['avgtempcondition'] = 0.75*avgtemp #definition of thermal lithosphere\n",
    "\n",
    "\n",
    "#Anything to crust\n",
    "DG.add_edges_from([(0,2), (1,2)])\n",
    "DG[0][2]['depthcondition'] = CrustM\n",
    "DG[1][2]['depthcondition'] = CrustM"
   ]
  },
  {
   "cell_type": "code",
   "execution_count": 35,
   "metadata": {
    "collapsed": false
   },
   "outputs": [
    {
     "data": {
      "text/plain": [
       "[0, 1, 2, 3]"
      ]
     },
     "execution_count": 35,
     "metadata": {},
     "output_type": "execute_result"
    }
   ],
   "source": [
    "DG.nodes()"
   ]
  },
  {
   "cell_type": "code",
   "execution_count": 36,
   "metadata": {
    "collapsed": false
   },
   "outputs": [],
   "source": [
    "remove_nodes = []\n",
    "for node in DG.nodes():\n",
    "    if not node in material_list:\n",
    "        remove_nodes.append(node)\n",
    "        \n",
    "for rmnode in remove_nodes:\n",
    "    DG.remove_node(rmnode)"
   ]
  },
  {
   "cell_type": "code",
   "execution_count": 37,
   "metadata": {
    "collapsed": false
   },
   "outputs": [
    {
     "data": {
      "text/plain": [
       "[0, 1, 2, 3]"
      ]
     },
     "execution_count": 37,
     "metadata": {},
     "output_type": "execute_result"
    }
   ],
   "source": [
    "DG.nodes()"
   ]
  },
  {
   "cell_type": "code",
   "execution_count": 38,
   "metadata": {
    "collapsed": false
   },
   "outputs": [],
   "source": [
    "#remove_nodes = []\n",
    "#for node in DG.nodes_iter():\n",
    "#    if not node in material_list:\n",
    "#        remove_nodes.append(node)\n",
    "        \n",
    "#for rmnode in remove_nodes:\n",
    "#    DG.remove_node(rmnode)"
   ]
  },
  {
   "cell_type": "code",
   "execution_count": 39,
   "metadata": {
    "collapsed": true
   },
   "outputs": [],
   "source": [
    "#A Dictionary to map strings in the graph (e.g. 'depthcondition') to particle data arrays\n",
    "\n",
    "particledepths = 1. - gSwarm.particleCoordinates.data[:,1]\n",
    "particletemps = temperatureField.evaluate(gSwarm)[:,0]\n",
    "\n",
    "conditionmap = {}\n",
    "\n",
    "conditionmap['depthcondition'] = {}\n",
    "conditionmap['depthcondition']['data'] = particledepths\n",
    "conditionmap['avgtempcondition'] = {}\n",
    "conditionmap['avgtempcondition']['data'] = particletemps"
   ]
  },
  {
   "cell_type": "code",
   "execution_count": 40,
   "metadata": {
    "collapsed": true
   },
   "outputs": [],
   "source": [
    "def update_swarm(graph, particleIndex):\n",
    "    \"\"\"\n",
    "    This function takes the materials graph (networkx.DiGraph), and a particle index,\n",
    "    then determines if a material update is required \n",
    "    and if so, returns the new materialindex\n",
    "    Args:\n",
    "        graph (networkx.DiGraph): Directed multigraph representing the transformation of material types\n",
    "        particleIndex (int): the particle index as corressponding to the index in the swarm data arrays\n",
    "    Returns:\n",
    "        if update is required the function returns the the new material variable (int) \n",
    "        else returns None\n",
    "    Raises:\n",
    "        TypeError: not implemented\n",
    "        ValueError: not implemented\n",
    "    \"\"\"\n",
    "    ##Egde gives links to other materials, we then query the conditions to see if we should change materials\n",
    "    matId = materialVariable.data[particleIndex][0]\n",
    "    innerchange = False\n",
    "    outerchange = False\n",
    "    for edge in graph[matId]:\n",
    "        if outerchange:\n",
    "            break\n",
    "        for cond in graph[matId][edge].keys():\n",
    "            outerchange = False\n",
    "            if innerchange: #found a complete transition, break inner loop\n",
    "                break\n",
    "            currentparticlevalue = conditionmap[cond]['data'][particleIndex]\n",
    "            crossover = graph[matId][edge][cond]\n",
    "            if ((matId > edge) and (currentparticlevalue > crossover)):\n",
    "                innerchange = False # continue on, \n",
    "                if graph[matId][edge].keys()[-1] == cond:\n",
    "                    outerchange = True\n",
    "                    innerchange = edge\n",
    "                    break\n",
    "            elif ((matId < edge) and (currentparticlevalue < crossover)):\n",
    "                innerchange = False\n",
    "                if graph[matId][edge].keys()[-1] == cond:\n",
    "                    outerchange = True\n",
    "                    innerchange = edge\n",
    "                    break\n",
    "            else:\n",
    "                #condition not met, break outer loop, go to next edge, outerchange should still be False\n",
    "                break\n",
    "    if type(innerchange) == int:\n",
    "        return innerchange"
   ]
  },
  {
   "cell_type": "markdown",
   "metadata": {},
   "source": [
    "for particleID in range(gSwarm.particleCoordinates.data.shape[0]):\n",
    "                check = update_swarm(DG, particleID)\n",
    "                #print check\n",
    "                if check > -1:\n",
    "                    #number_updated += 1\n",
    "                    materialVariable.data[particleID] = check"
   ]
  },
  {
   "cell_type": "code",
   "execution_count": 41,
   "metadata": {
    "collapsed": false
   },
   "outputs": [],
   "source": [
    "#Cleanse the swarm of its sins\n",
    "#For some Material Graphs, the graph may have to be treaversed more than once\n",
    "\n",
    "check = -1\n",
    "number_updated = 1\n",
    "\n",
    "while number_updated != 0:\n",
    "    number_updated = 0\n",
    "    for particleID in range(gSwarm.particleCoordinates.data.shape[0]):\n",
    "                check = update_swarm(DG, particleID)\n",
    "                if check > -1:\n",
    "                    number_updated += 1\n",
    "                    materialVariable.data[particleID] = check"
   ]
  },
  {
   "cell_type": "code",
   "execution_count": 42,
   "metadata": {
    "collapsed": false
   },
   "outputs": [],
   "source": [
    "#figtemp = plt.Figure()\n",
    "#tempminmax = fn.view.min_max(temperatureField)\n",
    "#figtemp.Surface(temperatureField, linearMesh)\n",
    "#figtemp.VectorArrows(velocityField, linearMesh, lengthScale=0.5/velmax, arrowHeadSize=0.2 )\n",
    "#figtemp.Points( swarm=gSwarm, colourVariable=materialVariable , pointSize=1.0)\n",
    "#figtemp.Mesh(linearMesh, colourBar=False)\n",
    "#figtemp.show()\n",
    "#figtemp.save_database('test.gldb')"
   ]
  },
  {
   "cell_type": "markdown",
   "metadata": {},
   "source": [
    "##Set the values for the masking swarms"
   ]
  },
  {
   "cell_type": "code",
   "execution_count": 43,
   "metadata": {
    "collapsed": false
   },
   "outputs": [],
   "source": [
    "#Setup up a masking Swarm variable for the integrations.\n",
    "#Two possible problems? \n",
    "#does it work in parallel,\n",
    "#How do we mange advecting this swarm?\n",
    "#(might be best to just rebuild it every timestep, that way we only focus on advecting the material swarm)\n",
    "\n",
    "rockIntVar.data[:] = 0.\n",
    "notair = np.where(materialVariable.data != airIndex)\n",
    "rockIntVar.data[notair] = 1.\n",
    "\n",
    "airIntVar.data[:] = 0.\n",
    "notrock = np.where(materialVariable.data == airIndex)\n",
    "airIntVar.data[notrock] = 1.\n",
    "\n",
    "lithIntVar.data[:] = 0.\n",
    "islith = np.where((materialVariable.data == lithosphereIndex) | (materialVariable.data == crustIndex))\n",
    "lithIntVar.data[islith] = 1."
   ]
  },
  {
   "cell_type": "markdown",
   "metadata": {
    "collapsed": true
   },
   "source": [
    "##Set up a swarm for surface integrations¶\n"
   ]
  },
  {
   "cell_type": "code",
   "execution_count": 44,
   "metadata": {
    "collapsed": false
   },
   "outputs": [
    {
     "data": {
      "text/plain": [
       "24.0"
      ]
     },
     "execution_count": 44,
     "metadata": {},
     "output_type": "execute_result"
    }
   ],
   "source": [
    "np.floor(10.*156/64)"
   ]
  },
  {
   "cell_type": "code",
   "execution_count": 45,
   "metadata": {
    "collapsed": false
   },
   "outputs": [],
   "source": [
    "snum = 1000.\n",
    "dx = (linearMesh.data[:,0].max()- linearMesh.data[:,0].min())/snum\n",
    "yp = 0.9947 #1. - yelsize/2. at res = 96\n",
    "\n",
    "linearMesh.data[:,0].max()\n",
    "xps = np.linspace(linearMesh.data[:,0].min(),linearMesh.data[:,0].max(), snum)\n",
    "yps = [yp for i in xps]\n",
    "\n",
    "surfintswarm = uw.swarm.Swarm( feMesh=elementMesh )\n",
    "dumout = surfintswarm.add_particles_with_coordinates(np.array((xps,yps)).T)\n",
    "\n",
    "yps = [ 1.- yp  for i in xps]\n",
    "\n",
    "baseintswarm = uw.swarm.Swarm( feMesh=elementMesh )\n",
    "dumout = baseintswarm.add_particles_with_coordinates(np.array((xps,yps)).T)"
   ]
  },
  {
   "cell_type": "code",
   "execution_count": 46,
   "metadata": {
    "collapsed": false
   },
   "outputs": [],
   "source": [
    "# visualise\n",
    "#fig1 = plt.Figure()\n",
    "#fig1.Points( swarm=surfintswarm, pointSize=10.0)\n",
    "#fig1.Points( swarm=baseintswarm, pointSize=10.0)\n",
    "#fig1.Points( swarm=gSwarm,colourVariable=rockIntVar)\n",
    "#fig1.VectorArrows(velocityField, linearMesh, lengthScale=0.0002)\n",
    "#fig1.Surface(temperatureField, linearMesh)\n",
    "#\n",
    "#fig1.Mesh(linearMesh, colourBar=False)\n",
    "#fig1.show()"
   ]
  },
  {
   "cell_type": "markdown",
   "metadata": {
    "collapsed": false
   },
   "source": [
    "#Material properties\n"
   ]
  },
  {
   "cell_type": "code",
   "execution_count": null,
   "metadata": {
    "collapsed": true
   },
   "outputs": [],
   "source": []
  },
  {
   "cell_type": "code",
   "execution_count": 47,
   "metadata": {
    "collapsed": false
   },
   "outputs": [],
   "source": [
    "#Make variables required for plasticity\n",
    "\n",
    "secinvCopy = fn.tensor.second_invariant( \n",
    "                    fn.tensor.symmetric( \n",
    "                        velocityField.gradientFn ))\n",
    "\n",
    "coordinate = fn.input()\n",
    "\n",
    "depth = 1. - coordinate[1]\n"
   ]
  },
  {
   "cell_type": "code",
   "execution_count": 48,
   "metadata": {
    "collapsed": false
   },
   "outputs": [],
   "source": [
    "depthField = uw.fevariable.FeVariable( feMesh=linearMesh,   nodeDofCount=1 )\n",
    "\n",
    "depthField.data[:] = depth.evaluate(linearMesh)\n",
    "depthField.data[np.where(depthField.data[:] < 0.)[0]] = 0.\n",
    "#depthdata = depth.evaluate(linearMesh)"
   ]
  },
  {
   "cell_type": "code",
   "execution_count": null,
   "metadata": {
    "collapsed": false
   },
   "outputs": [],
   "source": [
    "\n"
   ]
  },
  {
   "cell_type": "code",
   "execution_count": 49,
   "metadata": {
    "collapsed": false
   },
   "outputs": [],
   "source": [
    "\n",
    "viscosityl2 = newvisc*fn.math.exp((math.log(ETA_T)*-1*temperatureField) + (depthField*math.log(ETA_Y)))\n",
    "\n",
    "viscosityFn1 = viscosityl2 #This one always gets passed to the first velcotity solve\n",
    "\n",
    "#Von Mises effective viscosity\n",
    "viscosityp = ETA0 + YSTRESS/(secinvCopy/math.sqrt(0.5)) #extra factor to account for underworld second invariant form\n",
    "\n",
    "\n",
    "viscosityFn2 = 2./(1./viscosityl2 + 1./viscosityp)\n"
   ]
  },
  {
   "cell_type": "code",
   "execution_count": 50,
   "metadata": {
    "collapsed": false
   },
   "outputs": [],
   "source": [
    "#Compositional Rayligh number of rock-water \n",
    "\n",
    "g = 9.81\n",
    "rho = 3300\n",
    "a = 1.25*10**-5\n",
    "kappa = 10**-6\n",
    "dT = 2500\n",
    "eta0 = rho*g*a*dT*((D*1e3)**3)/(RA*kappa)\n",
    "#Composisitional Rayleigh number\n",
    "Rc = (3300*g*(D*1000)**3)/(eta0*kappa)\n"
   ]
  },
  {
   "cell_type": "code",
   "execution_count": 51,
   "metadata": {
    "collapsed": true
   },
   "outputs": [],
   "source": [
    "CompRAfact = Rc/RA\n",
    "\n",
    "airviscosity = 0.001\n",
    "airdensity = RA*CompRAfact"
   ]
  },
  {
   "cell_type": "code",
   "execution_count": 52,
   "metadata": {
    "collapsed": true
   },
   "outputs": [],
   "source": [
    "##This block sets up rheolgoy for models with crust rheology;\n",
    "\n",
    "viscreduct = 0.1\n",
    "\n",
    "#Von Mises effective viscosity\n",
    "crustviscosityp = viscreduct*ETA0 + ((viscreduct*YSTRESS)/(secinvCopy/math.sqrt(0.5))) #extra factor to account for underworld second invariant form\n",
    "crustviscosityFn2 = 2./(1./viscosityl2 + 1./crustviscosityp)\n"
   ]
  },
  {
   "cell_type": "markdown",
   "metadata": {},
   "source": [
    "Set up simulation parameters and functions\n",
    "====\n",
    "\n",
    "Here the functions for density, viscosity etc. are set. These functions and/or values are preserved for the entire simulation time. "
   ]
  },
  {
   "cell_type": "code",
   "execution_count": 53,
   "metadata": {
    "collapsed": true
   },
   "outputs": [],
   "source": [
    "# Here we set a viscosity value of '1.' for both materials\n",
    "viscosityMapFn = fn.branching.map( keyFunc = materialVariable,\n",
    "                         mappingDict = {airIndex:airviscosity, lithosphereIndex:viscosityFn2, crustIndex:crustviscosityFn2,mantleIndex:viscosityFn2} )\n",
    "\n",
    "densityMapFn = fn.branching.map( keyFunc = materialVariable,\n",
    "                         mappingDict = {airIndex:airdensity, lithosphereIndex:RA*temperatureField, crustIndex:RA*temperatureField, mantleIndex:RA*temperatureField} )\n",
    "\n",
    "# Define our gravity using a python tuple (this will be automatically converted to a function)\n",
    "gravity = ( 0.0, 1.0 )\n",
    "\n",
    "buoyancyFn = gravity*densityMapFn"
   ]
  },
  {
   "cell_type": "markdown",
   "metadata": {},
   "source": [
    "Build the Stokes system, solvers, advection-diffusion\n",
    "------\n",
    "\n",
    "Setup linear Stokes system to get the initial velocity."
   ]
  },
  {
   "cell_type": "code",
   "execution_count": 54,
   "metadata": {
    "collapsed": false
   },
   "outputs": [],
   "source": [
    "#We first set up a l\n",
    "stokesPIC = uw.systems.Stokes(velocityField=velocityField, \n",
    "                              pressureField=pressureField,\n",
    "                              conditions=[freeslipBC,],\n",
    "#                              viscosityFn=viscosityFn1, \n",
    "                              viscosityFn=fn.exception.SafeMaths(viscosityFn1), \n",
    "                              bodyForceFn=buoyancyFn)"
   ]
  },
  {
   "cell_type": "markdown",
   "metadata": {},
   "source": [
    "We do one solve with linear viscosity to get the initial strain rate invariant. This solve step also calculates a 'guess' of the the velocity field based on the linear system, which is used later in the non-linear solver."
   ]
  },
  {
   "cell_type": "code",
   "execution_count": 55,
   "metadata": {
    "collapsed": false
   },
   "outputs": [],
   "source": [
    "stokesPIC.solve()"
   ]
  },
  {
   "cell_type": "code",
   "execution_count": 56,
   "metadata": {
    "collapsed": false
   },
   "outputs": [],
   "source": [
    "#Switch particle escape on, this will also trigger the inflow population control \n",
    "gSwarm.particleEscape = True"
   ]
  },
  {
   "cell_type": "code",
   "execution_count": 57,
   "metadata": {
    "collapsed": false
   },
   "outputs": [],
   "source": [
    "# Setup the Stokes system again, now with linear or nonlinear visocity viscosity.\n",
    "stokesPIC2 = uw.systems.Stokes(velocityField=velocityField, \n",
    "                              pressureField=pressureField,\n",
    "                              conditions=[freeslipBC,],\n",
    "                              viscosityFn=fn.exception.SafeMaths(viscosityMapFn), \n",
    "                              bodyForceFn=buoyancyFn, swarm = gSwarm)"
   ]
  },
  {
   "cell_type": "code",
   "execution_count": 58,
   "metadata": {
    "collapsed": false
   },
   "outputs": [],
   "source": [
    "solver = uw.systems.Solver(stokesPIC2) # altered from PIC2\n",
    "\n",
    "solver.options.main.Q22_pc_type='uwscale'  # also try 'gtkg', 'gkgdiag' and 'uwscale'\n",
    "solver.options.main.penalty = 1.0\n",
    "solver.options.A11.ksp_rtol=1e-6\n",
    "solver.options.scr.ksp_rtol=1e-5\n",
    "solver.options.scr.use_previous_guess = True\n",
    "solver.options.scr.ksp_set_min_it_converge = 1\n",
    "solver.options.scr.ksp_set_max_it = 100\n",
    "solver.options.mg.levels = 4\n",
    "solver.options.mg.mg_levels_ksp_type = 'chebyshev'\n",
    "solver.options.mg_accel.mg_accelerating_smoothing = True\n",
    "solver.options.mg_accel.mg_accelerating_smoothing_view = False\n",
    "solver.options.mg_accel.mg_smooths_to_start = 1"
   ]
  },
  {
   "cell_type": "markdown",
   "metadata": {},
   "source": [
    "Solve for initial pressure and velocity using a quick non-linear Picard iteration\n"
   ]
  },
  {
   "cell_type": "code",
   "execution_count": 59,
   "metadata": {
    "collapsed": false
   },
   "outputs": [],
   "source": [
    "solver.solve(nonLinearIterate=True)"
   ]
  },
  {
   "cell_type": "markdown",
   "metadata": {},
   "source": [
    "Create an advective-diffusive system\n",
    "=====\n",
    "\n",
    "Setup the system in underworld by flagging the temperature and velocity field variables."
   ]
  },
  {
   "cell_type": "code",
   "execution_count": 60,
   "metadata": {
    "collapsed": false
   },
   "outputs": [],
   "source": [
    "#Create advdiff system\n",
    "advDiff = uw.systems.AdvectionDiffusion( temperatureField, velocityField, diffusivity=1., conditions=[tempBC,] )\n",
    "\n",
    "advector = uw.systems.SwarmAdvector( swarm=gSwarm, velocityField=velocityField, order=1)"
   ]
  },
  {
   "cell_type": "markdown",
   "metadata": {},
   "source": [
    "Metrics for benchmark\n",
    "=====\n",
    "\n",
    "Define functions to be used in the time loop. For cases 1-4, participants were asked to report a number of diagnostic quantities to be measured after reaching steady state:\n",
    "\n",
    "* Average temp... $$  \\langle T \\rangle  = \\int^1_0 \\int^1_0 T \\, dxdy $$\n",
    "* Top and bottom Nusselt numbers... $$N = \\int^1_0 \\frac{\\partial T}{\\partial y} \\rvert_{y=0/1} \\, dx$$\n",
    "* RMS velocity over the whole domain, surface and max velocity at surface\n",
    "* max and min viscosity over the whole domain\n",
    "* average rate of work done against gravity...$$\\langle W \\rangle = \\int^1_0 \\int^1_0 T u_y \\, dx dy$$\n",
    "* and the average rate of viscous dissipation...$$\\langle \\Phi \\rangle = \\int^1_0 \\int^1_0 \\tau_{ij} \\dot \\epsilon_{ij} \\, dx dy$$\n",
    "\n",
    "* In steady state, if thermal energy is accurately conserved, the difference between $\\langle W \\rangle$ and $\\langle \\Phi \\rangle / Ra$ must vanish, so also reported is the percentage error: \n",
    "\n",
    "$$ \\delta = \\frac{\\lvert \\langle W \\rangle - \\frac{\\langle \\Phi \\rangle}{Ra} \\rvert}{max \\left(  \\langle W \\rangle,  \\frac{\\langle \\Phi \\rangle}{Ra}\\right)} \\times 100% $$"
   ]
  },
  {
   "cell_type": "code",
   "execution_count": 61,
   "metadata": {
    "collapsed": false
   },
   "outputs": [],
   "source": [
    "#Setup some Integrals. We want these outside the main loop...\n",
    "tempVariable = gSwarm.add_variable( dataType=\"double\", count=1 )\n",
    "tempVariable.data[:] = temperatureField.evaluate(gSwarm)[:]\n",
    "tempint = uw.utils.Integral((tempVariable*rockIntVar), linearMesh)\n",
    "\n",
    "\n",
    "areaint = uw.utils.Integral((1.*rockIntVar),linearMesh)\n",
    "\n",
    "v2int = uw.utils.Integral(fn.math.dot(velocityField,velocityField)*rockIntVar, linearMesh)\n",
    "\n",
    "\n",
    "dwint = uw.utils.Integral(temperatureField*velocityField[1]*rockIntVar, linearMesh)\n",
    "\n",
    "secinv = fn.tensor.second_invariant(\n",
    "                    fn.tensor.symmetric(\n",
    "                        velocityField.gradientFn ))\n",
    "\n",
    "sinner = fn.math.dot(secinv,secinv)\n",
    "vdint = uw.utils.Integral((4.*viscosityFn2*sinner)*rockIntVar, linearMesh)\n",
    "vdintair = uw.utils.Integral((4.*viscosityFn2*sinner)*airIntVar, linearMesh)\n",
    "vdintlith = uw.utils.Integral((4.*viscosityFn2*sinner)*lithIntVar, linearMesh)"
   ]
  },
  {
   "cell_type": "code",
   "execution_count": 62,
   "metadata": {
    "collapsed": false
   },
   "outputs": [],
   "source": [
    "def avg_temp():\n",
    "    return tempint.evaluate()[0]\n",
    "\n",
    "#This one gets cleaned up when Surface integrals are available\n",
    "def nusselt(tempfield, swarm, dx):\n",
    "    #Update the swarm variable\n",
    "    tempgrad = tempfield.gradientFn\n",
    "    valcheck = tempgrad[1].evaluate(swarm)\n",
    "    if valcheck is None:\n",
    "        vals = np.array(0, dtype='float64')\n",
    "    else:\n",
    "        vals = valcheck.sum()*dx\n",
    "    return vals\n",
    "\n",
    "def rms():\n",
    "    return math.sqrt(v2int.evaluate()[0])\n",
    "\n",
    "#This one gets cleaned up when Surface integrals are available\n",
    "def rms_surf(swarm, dx):\n",
    "    rmsmaxfn = fn.math.sqrt(fn.math.dot(velocityField,velocityField))\n",
    "    rmscheck = rmsmaxfn.evaluate(swarm)\n",
    "    if rmscheck is None:\n",
    "        rmsvals = np.array(0, dtype='float64')\n",
    "    else:\n",
    "        rmsvals = rmscheck.sum()*dx\n",
    "    return rmsvals\n",
    "\n",
    "def max_vx_surf(velfield, swarm):\n",
    "    surfvelxmaxfn = fn.view.min_max(velfield[0])\n",
    "    surfvelxmaxfn.evaluate(swarm)\n",
    "    return surfvelxmaxfn.max_global()\n",
    "\n",
    "def max_vy_surf(velfield, swarm):\n",
    "    surfvelxmaxfn = fn.view.min_max(velfield[1])\n",
    "    surfvelxmaxfn.evaluate(swarm)\n",
    "    return surfvelxmaxfn.max_global()\n",
    "\n",
    "def gravwork(workfn):\n",
    "    return workfn.evaluate()[0]\n",
    "\n",
    "def viscdis(vdissfn):\n",
    "    return vdissfn.evaluate()[0]\n",
    "\n",
    "def visc_extr(viscfn):\n",
    "    vuviscfn = fn.view.min_max(viscfn)\n",
    "    vuviscfn.evaluate(linearMesh)\n",
    "    return vuviscfn.max_global(), vuviscfn.min_global()"
   ]
  },
  {
   "cell_type": "code",
   "execution_count": 63,
   "metadata": {
    "collapsed": false
   },
   "outputs": [
    {
     "data": {
      "text/plain": [
       "<glucifer._glucifer.Figure at 0x11d131310>"
      ]
     },
     "execution_count": 63,
     "metadata": {},
     "output_type": "execute_result"
    }
   ],
   "source": [
    "#Fields for saving data / fields\n",
    "\n",
    "rmsField = uw.fevariable.FeVariable( feMesh=linearMesh,   nodeDofCount=1)\n",
    "rmsfn = fn.math.sqrt(fn.math.dot(velocityField,velocityField))\n",
    "rmsdata = rmsfn.evaluate(linearMesh)\n",
    "rmsField.data[:] = rmsdata \n",
    "\n",
    "viscField = uw.fevariable.FeVariable( feMesh=linearMesh,   nodeDofCount=1)\n",
    "viscdata = viscosityFn2.evaluate(linearMesh)\n",
    "viscField.data[:] = viscdata\n",
    "\n",
    "\n",
    "stressField = uw.fevariable.FeVariable( feMesh=linearMesh,   nodeDofCount=1)\n",
    "srtdata = fn.tensor.second_invariant( \n",
    "                    fn.tensor.symmetric( \n",
    "                        velocityField.gradientFn ))\n",
    "rostfield = srtdata.evaluate(linearMesh)\n",
    "stressinv = 2*viscdata*rostfield[:]\n",
    "stressField.data[:] = stressinv\n",
    "\n",
    "\n",
    "\n",
    "##Gldbs:\n",
    "\n",
    "viscVariable = gSwarm.add_variable( dataType=\"float\", count=1 )\n",
    "viscVariable.data[:] = viscosityMapFn.evaluate(gSwarm)\n",
    "figEta = glucifer.Figure()\n",
    "figEta + glucifer.objects.Points(gSwarm,materialVariable, colours='brown white red blue')\n",
    "figEta + glucifer.objects.Points(gSwarm,viscVariable)\n",
    "\n",
    "\n",
    "\n"
   ]
  },
  {
   "cell_type": "markdown",
   "metadata": {},
   "source": [
    "Main simulation loop\n",
    "=======\n",
    "\n",
    "The main time stepping loop begins here. Before this the time and timestep are initialised to zero and the output statistics arrays are set up. Also the frequency of outputting basic statistics to the screen is set in steps_output.\n"
   ]
  },
  {
   "cell_type": "code",
   "execution_count": 64,
   "metadata": {
    "collapsed": true
   },
   "outputs": [],
   "source": [
    "pics = uw.swarm.PICIntegrationSwarm(gSwarm)"
   ]
  },
  {
   "cell_type": "code",
   "execution_count": 65,
   "metadata": {
    "collapsed": false
   },
   "outputs": [],
   "source": [
    "realtime = 0.\n",
    "step = 0\n",
    "timevals = [0.]\n",
    "steps_end = 5\n",
    "steps_display_info = 20\n",
    "swarm_update = 10\n",
    "swarm_repop = 100\n",
    "files_output = 400\n",
    "gldbs_output = 1e6\n",
    "checkpoint_every = 10000\n",
    "metric_output = np.floor(10.*RES/64)"
   ]
  },
  {
   "cell_type": "code",
   "execution_count": 66,
   "metadata": {
    "collapsed": true
   },
   "outputs": [],
   "source": [
    "def checkpoint(step, path):\n",
    "    velfile = \"velocityField\" + str(step) + \".hdf5\"\n",
    "    tempfile = \"temperatureField\" + str(step) + \".hdf5\"\n",
    "    pressfile = \"pressureField\" + str(step) + \".hdf5\"\n",
    "    swarmfile = \"materialSwarm\" + str(step) + \".hdf5\"\n",
    "    velocityField.save(os.path.join(path, velfile))\n",
    "    temperatureField.save(os.path.join(path, tempfile))\n",
    "    pressureField.save(os.path.join(path, pressfile))\n",
    "    gSwarm.save(os.path.join(path, swarmfile))"
   ]
  },
  {
   "cell_type": "code",
   "execution_count": 67,
   "metadata": {
    "collapsed": false
   },
   "outputs": [
    {
     "name": "stdout",
     "output_type": "stream",
     "text": [
      "0\n"
     ]
    }
   ],
   "source": [
    "# initialise timer for computation\n",
    "start = time.clock()\n",
    "# setup summary output file (name above)\n",
    "f_o = open(outputPath+outputFile, 'w')\n",
    "# Perform steps\n",
    "#while realtime < 0.4:\n",
    "while step < 1:\n",
    "    #Enter non-linear loop\n",
    "    print step\n",
    "    solver.solve(nonLinearIterate=True)\n",
    "    dt = advDiff.get_max_dt()\n",
    "    if step == 0:\n",
    "        dt = 0.\n",
    "    advDiff.integrate(dt)\n",
    "    # Advect swarm using this timestep size\n",
    "    advector.integrate(dt)\n",
    "    # Increment\n",
    "    realtime += dt\n",
    "    step += 1\n",
    "    timevals.append(realtime)\n",
    "    #Update any swarm variables and temperature field in the air region\n",
    "    tempVariable.data[:] = temperatureField.evaluate(gSwarm)[:]\n",
    "    for index, coord in enumerate(linearMesh.data):\n",
    "        if coord[1] >= 1.:\n",
    "            temperatureField.data[index] = 0.   \n",
    "    # Calculate the Metrics, only on 1 of the processors:\n",
    "    if (step % metric_output == 0):\n",
    "        tempVariable.data[:] = temperatureField.evaluate(gSwarm)[:]\n",
    "        Avg_temp = avg_temp()\n",
    "        Rms = rms()\n",
    "        Max_vx_surf = max_vx_surf(velocityField, surfintswarm)\n",
    "        Gravwork = gravwork(dwint)\n",
    "        Viscdis = viscdis(vdint)\n",
    "        Viscdisair = viscdis(vdintair)\n",
    "        Viscdislith = viscdis(vdintlith)\n",
    "        etamax, etamin = visc_extr(viscosityFn2)\n",
    "        #These are the ones that need mpi4py treatment\n",
    "        Nu0loc = nusselt(temperatureField, baseintswarm, dx)\n",
    "        Nu1loc = nusselt(temperatureField, surfintswarm, dx)\n",
    "        Rmsurfloc = rms_surf(surfintswarm, dx)\n",
    "        #Setup the global output arrays\n",
    "        dTp = Nu0loc.dtype\n",
    "        Nu0glob = np.array(0, dtype=dTp)\n",
    "        dTp = Nu1loc.dtype\n",
    "        Nu1glob = np.array(0, dtype=dTp)\n",
    "        dTp = Rmsurfloc.dtype\n",
    "        Rmsurfglob = np.array(0, dtype=dTp)\n",
    "        #Do global sum\n",
    "        comm.Allreduce(Nu0loc, Nu0glob, op=MPI.SUM)\n",
    "        comm.Allreduce(Nu1loc, Nu1glob, op=MPI.SUM)\n",
    "        comm.Allreduce(Rmsurfloc, Rmsurfglob, op=MPI.SUM)\n",
    "        # output to summary text file\n",
    "        if uw.rank()==0:\n",
    "            f_o.write((13*'%-15s ' + '\\n') % (realtime, Viscdis, float(Nu0glob), float(Nu1glob), Avg_temp, \n",
    "                                              Rms,Rmsurfglob,Max_vx_surf,Gravwork, etamax, etamin, Viscdisair, Viscdislith))\n",
    "    #if step %  steps_display_info == 0:\n",
    "    # output image to file\n",
    "    if (step % files_output == 0) & (writeFiles == True):\n",
    "        ##Files to save\n",
    "        fnametemp = \"temperatureField\" + \"_\" + str(ModIt) + \"_\" + str(step) + \".hdf5\"\n",
    "        fullpath = os.path.join(outputPath + \"files/\" + fnametemp)\n",
    "        temperatureField.save(fullpath)\n",
    "        #RMS\n",
    "        fnamerms = \"rmsField\" + \"_\" + str(ModIt) + \"_\" + str(step) + \".hdf5\"\n",
    "        fullpath = os.path.join(outputPath + \"files/\" + fnamerms)\n",
    "        rmsField.save(fullpath)\n",
    "     \n",
    "    if (step % gldbs_output == 0) & (writeFiles == True):\n",
    "        #Rebuild any necessary swarm variables\n",
    "        viscVariable.data[:] = viscosityMapFn.evaluate(gSwarm)\n",
    "        #Write gldbs\n",
    "        fnamedb = \"viscFig\" + \"_\" + str(ModIt) + \"_\" + str(step) + \".gldb\"\n",
    "        fullpath = os.path.join(outputPath + \"gldbs/\" + fnamedb)\n",
    "        figEta.save_database(fullpath)\n",
    "    ################\n",
    "    #Particle update\n",
    "    ###############\n",
    "    particledepths = 1. - gSwarm.particleCoordinates.data[:,1]\n",
    "    particletemps = temperatureField.evaluate(gSwarm)[:,0]\n",
    "    conditionmap['depthcondition']['data'] = particledepths\n",
    "    conditionmap['avgtempcondition']['data'] = particletemps\n",
    "    if step % swarm_update == 0:\n",
    "        number_updated = 0\n",
    "        for particleID in range(gSwarm.particleCoordinates.data.shape[0]):\n",
    "            check = update_swarm(DG, particleID)\n",
    "            if check > -1:\n",
    "                number_updated += 1\n",
    "                #if check == 0:\n",
    "                #    print \"from \" + str(materialVariable.data[particleID]) + \" to \" + str(check)\n",
    "                materialVariable.data[particleID] = check\n",
    "            else:\n",
    "                pass\n",
    "        #Also update those integration swarms\n",
    "        rockIntVar.data[:] = 0.\n",
    "        notair = np.where(materialVariable.data != airIndex)\n",
    "        rockIntVar.data[notair] = 1.\n",
    "        airIntVar.data[:] = 0.\n",
    "        notrock = np.where(materialVariable.data == airIndex)\n",
    "        airIntVar.data[notrock] = 1.\n",
    "        lithIntVar.data[:] = 0.\n",
    "        islith = np.where((materialVariable.data == lithosphereIndex) | (materialVariable.data == crustIndex))\n",
    "        lithIntVar.data[islith] = 1.\n",
    "    #Also repopulate\n",
    "    if step % swarm_repop == 0:\n",
    "        pics.repopulate()\n",
    "        \n",
    "f_o.close()\n",
    "#checkpoint(step, checkpointPath)"
   ]
  },
  {
   "cell_type": "code",
   "execution_count": 68,
   "metadata": {
    "collapsed": false
   },
   "outputs": [],
   "source": [
    "#viscVariable = gSwarm.add_variable( dataType=\"float\", count=1 )\n",
    "#viscVariable.data[:] = viscosityMapFn.evaluate(gSwarm)\n",
    "#figEta = glucifer.Figure()\n",
    "#figEta + glucifer.objects.Points(gSwarm,viscVariable,colours='white yellow red green blue black')\n",
    "#figEta + glucifer.objects.VectorArrows(linearMesh,velocityField, arrowHeadSize=0.002,lengthScale=0.0000002)\n",
    "#figEta + glucifer.objects.Points(gSwarm,materialVariable, colours='brown white blue')\n",
    "#figEta + glucifer.objects.Points(gSwarm,rockIntVar, colours='red black')\n",
    "#figEta + glucifer.objects.Points( swarm=surfintswarm,  pointSize=2.0)\n",
    "\n",
    "#figEta + glucifer.objects.Mesh(linearMesh)\n",
    "#figEta.save_database('test_mesh_refine.gldb')\n",
    "\n",
    "\n",
    "\n",
    "\n",
    "#figEta.Points(gSwarm,materialVariable)\n",
    "#figEta.show()"
   ]
  },
  {
   "cell_type": "code",
   "execution_count": 69,
   "metadata": {
    "collapsed": true
   },
   "outputs": [],
   "source": [
    "#figEta.save_database('test.gldb')"
   ]
  },
  {
   "cell_type": "code",
   "execution_count": 70,
   "metadata": {
    "collapsed": false
   },
   "outputs": [],
   "source": [
    "tempgrad = temperatureField.gradientFn"
   ]
  },
  {
   "cell_type": "code",
   "execution_count": 77,
   "metadata": {
    "collapsed": false
   },
   "outputs": [
    {
     "data": {
      "text/html": [
       "<img src='data:image/png;base64,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'>"
      ],
      "text/plain": [
       "<IPython.core.display.HTML object>"
      ]
     },
     "execution_count": 77,
     "metadata": {},
     "output_type": "execute_result"
    }
   ],
   "source": [
    "\n",
    "fig3 = glucifer.Figure()\n",
    "#velmagfield = uw.function.math.sqrt( uw.function.math.dot(velocityField,velocityField) )\n",
    "#fig3 + glucifer.objects.VectorArrows( elementMesh, velocityField, arrowHead=0.3, scaling=0.05, glyphs=3, )\n",
    "#fig3 + glucifer.objects.Points(gSwarm,materialVariable, colours='brown white blue red')\n",
    "fig3 + glucifer.objects.Points(surfintswarm)\n",
    "fig3 + glucifer.objects.Points(baseintswarm)\n",
    "fig3 + glucifer.objects.Surface(elementMesh, temperatureField)\n",
    "fig3 + glucifer.objects.Mesh(linearMesh)\n",
    "fig3.show()\n",
    "#fig3.save_database('test.gldb')\n",
    " "
   ]
  },
  {
   "cell_type": "code",
   "execution_count": 72,
   "metadata": {
    "collapsed": false
   },
   "outputs": [
    {
     "name": "stdout",
     "output_type": "stream",
     "text": [
      "total time is: 78.027435\n"
     ]
    }
   ],
   "source": [
    "machine_time = (time.clock()-start)\n",
    "print(\"total time is: \" + str(machine_time))"
   ]
  },
  {
   "cell_type": "code",
   "execution_count": 73,
   "metadata": {
    "collapsed": false
   },
   "outputs": [],
   "source": [
    "#print(\"velocity max on horizontal bounds is: \" + str(velocityField[0].evaluate(IWalls).max()))\n"
   ]
  },
  {
   "cell_type": "code",
   "execution_count": 74,
   "metadata": {
    "collapsed": false
   },
   "outputs": [],
   "source": [
    "#velocityField[0].evaluate(IWalls)"
   ]
  },
  {
   "cell_type": "code",
   "execution_count": 75,
   "metadata": {
    "collapsed": false
   },
   "outputs": [
    {
     "name": "stdout",
     "output_type": "stream",
     "text": [
      "(-1.8390352725367354, -2.1636552598795133)\n"
     ]
    }
   ],
   "source": [
    "Nu0loc = nusselt(temperatureField, baseintswarm, dx)\n",
    "Nu1loc = nusselt(temperatureField, surfintswarm, dx)\n",
    "print(Nu0loc, Nu1loc)"
   ]
  },
  {
   "cell_type": "code",
   "execution_count": null,
   "metadata": {
    "collapsed": true
   },
   "outputs": [],
   "source": []
  }
 ],
 "metadata": {
  "kernelspec": {
   "display_name": "Python 2",
   "language": "python",
   "name": "python2"
  },
  "language_info": {
   "codemirror_mode": {
    "name": "ipython",
    "version": 2
   },
   "file_extension": ".py",
   "mimetype": "text/x-python",
   "name": "python",
   "nbconvert_exporter": "python",
   "pygments_lexer": "ipython2",
   "version": "2.7.10"
  }
 },
 "nbformat": 4,
 "nbformat_minor": 0
}
