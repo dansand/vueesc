{
 "cells": [
  {
   "cell_type": "markdown",
   "metadata": {
    "collapsed": true
   },
   "source": [
    "\n",
    "Viscoplastic thermal convection in a 2-D square box\n",
    "=======\n",
    "\n",
    "Benchmarks from Tosi et al. 2015\n",
    "--------\n",
    "\n"
   ]
  },
  {
   "cell_type": "markdown",
   "metadata": {
    "collapsed": true
   },
   "source": [
    "This notebook generates models from the <a name=\"ref-1\"/>[(Tosi et al., 2015)](#cite-tosi2015community) in Underworld2. The Underworld2 results are compared to the model run on Fenics. Input files for the Fenics models were provided by Petra Maierova.\n",
    "\n",
    "This example uses the RT PIC solver with classic and nearest neighbour\n",
    "\n",
    "\n",
    "References\n",
    "====\n",
    "\n",
    "<a name=\"cite-tosi2015community\"/><sup>[^](#ref-1) </sup>Tosi, Nicola and Stein, Claudia and Noack, Lena and H&uuml;ttig, Christian and Maierov&aacute;, Petra and Samuel, Henri and Davies, DR and Wilson, CR and Kramer, SC and Thieulot, Cedric and others. 2015. _A community benchmark for viscoplastic thermal convection in a 2-D square box_.\n",
    "\n"
   ]
  },
  {
   "cell_type": "code",
   "execution_count": 1,
   "metadata": {
    "collapsed": false
   },
   "outputs": [],
   "source": [
    "#pwd"
   ]
  },
  {
   "cell_type": "markdown",
   "metadata": {},
   "source": [
    "Load python functions needed for underworld. Some additional python functions from os, math and numpy used later on."
   ]
  },
  {
   "cell_type": "code",
   "execution_count": 2,
   "metadata": {
    "collapsed": false
   },
   "outputs": [],
   "source": [
    "import underworld as uw\n",
    "import math\n",
    "from underworld import function as fn\n",
    "import glucifer\n",
    "#import matplotlib.pyplot as pyplot\n",
    "import time\n",
    "import numpy as np\n",
    "import os\n",
    "import sys\n",
    "\n",
    "from mpi4py import MPI\n",
    "comm = MPI.COMM_WORLD\n",
    "rank = comm.Get_rank()"
   ]
  },
  {
   "cell_type": "code",
   "execution_count": 3,
   "metadata": {
    "collapsed": false
   },
   "outputs": [],
   "source": [
    "############\n",
    "#Need to manually set these two\n",
    "############\n",
    "Model = \"T\"\n",
    "ModNum = 5\n",
    "\n",
    "if len(sys.argv) == 1:\n",
    "    ModIt = \"Base\"\n",
    "elif sys.argv[1] == '-f':\n",
    "    ModIt = \"Base\"\n",
    "else:\n",
    "    ModIt = str(sys.argv[1])\n"
   ]
  },
  {
   "cell_type": "code",
   "execution_count": null,
   "metadata": {
    "collapsed": true
   },
   "outputs": [],
   "source": []
  },
  {
   "cell_type": "markdown",
   "metadata": {},
   "source": [
    "Set physical constants and parameters, including the Rayleigh number (*RA*). "
   ]
  },
  {
   "cell_type": "code",
   "execution_count": 4,
   "metadata": {
    "collapsed": true
   },
   "outputs": [],
   "source": [
    "#Do you want to write hdf5 files - Temp, RMS, viscosity, stress?\n",
    "writeFiles = True\n",
    "loadTemp = False\n",
    "refineMesh = True"
   ]
  },
  {
   "cell_type": "code",
   "execution_count": 5,
   "metadata": {
    "collapsed": false
   },
   "outputs": [],
   "source": [
    "ETA_T = 1e5\n",
    "newvisc= math.exp(math.log(ETA_T)*0.53)\n"
   ]
  },
  {
   "cell_type": "code",
   "execution_count": 6,
   "metadata": {
    "collapsed": false
   },
   "outputs": [
    {
     "data": {
      "text/plain": [
       "446.6835921509633"
      ]
     },
     "execution_count": 6,
     "metadata": {},
     "output_type": "execute_result"
    }
   ],
   "source": [
    "newvisc"
   ]
  },
  {
   "cell_type": "code",
   "execution_count": 7,
   "metadata": {
    "collapsed": false
   },
   "outputs": [],
   "source": [
    "###########\n",
    "#Constants\n",
    "###########\n",
    "RA  = 1e2*newvisc       # Rayleigh number\n",
    "TS  = 0          # surface temperature\n",
    "TB  = 1          # bottom boundary temperature (melting point)\n",
    "ETA_T = 1e5\n",
    "ETA_Y = 10\n",
    "ETA0 = 1e-3*newvisc\n",
    "RES = 40\n",
    "YSTRESS = 1.*newvisc\n",
    "D = 2890.\n",
    "\n",
    "MINX = -1.\n",
    "ALPHA = 11.\n",
    "\n",
    "stickyAir = True"
   ]
  },
  {
   "cell_type": "code",
   "execution_count": 8,
   "metadata": {
    "collapsed": false
   },
   "outputs": [],
   "source": [
    "\n",
    "    \n",
    "if MINX == 0.:\n",
    "    squareModel = True\n",
    "else: \n",
    "    squareModel = False\n"
   ]
  },
  {
   "cell_type": "code",
   "execution_count": 9,
   "metadata": {
    "collapsed": false
   },
   "outputs": [],
   "source": [
    "##########\n",
    "#variables, these can be defined with STDIN,\n",
    "##########\n",
    "#The == '-f': check is just to check if we're running a notebook - careful, haven't tested\n",
    "    \n",
    "#Watch the type assignemnt on sys.argv[1]\n",
    "\n",
    "DEFAULT = 96\n",
    "ModIt   = str(DEFAULT)\n",
    "    \n",
    "    \n",
    "if len(sys.argv) == 1:\n",
    "    RES = DEFAULT\n",
    "elif sys.argv[1] == '-f':\n",
    "    RES = DEFAULT\n",
    "else:\n",
    "    RES = int(sys.argv[1])\n",
    "    "
   ]
  },
  {
   "cell_type": "code",
   "execution_count": 10,
   "metadata": {
    "collapsed": true
   },
   "outputs": [],
   "source": [
    "outputPath = str(Model) + \"/\" + str(ModNum) + \"/\"\n",
    "imagePath = outputPath + 'images/'\n",
    "filePath = outputPath + 'files/'\n",
    "checkpointPath = outputPath + 'checkpoint/'\n",
    "dbPath = outputPath + 'gldbs/'\n",
    "outputFile = 'results_model' + Model + '_' + str(ModNum) + '_' + str(ModIt) + '.dat'\n",
    "\n",
    "if uw.rank()==0:\n",
    "    # make directories if they don't exist\n",
    "    if not os.path.isdir(outputPath):\n",
    "        os.makedirs(outputPath)\n",
    "    if not os.path.isdir(checkpointPath):\n",
    "        os.makedirs(checkpointPath)\n",
    "    if not os.path.isdir(imagePath):\n",
    "        os.makedirs(imagePath)\n",
    "    if not os.path.isdir(dbPath):\n",
    "        os.makedirs(dbPath)\n",
    "    if not os.path.isdir(filePath):\n",
    "        os.makedirs(filePath)"
   ]
  },
  {
   "cell_type": "code",
   "execution_count": 11,
   "metadata": {
    "collapsed": false
   },
   "outputs": [],
   "source": [
    "dim = 2          # number of spatial dimensions\n",
    "\n",
    "\n",
    "if MINX == 0.:\n",
    "    Xres = RES\n",
    "else:\n",
    "    Xres = 2*RES\n",
    "    \n",
    "if stickyAir:\n",
    "    Yres = RES + 8\n",
    "    MAXY = float(Yres)/RES\n",
    "    \n",
    "else:\n",
    "    Yres = RES\n",
    "    MAXY = 1.\n",
    "    "
   ]
  },
  {
   "cell_type": "code",
   "execution_count": 12,
   "metadata": {
    "collapsed": false
   },
   "outputs": [
    {
     "data": {
      "text/plain": [
       "1.0555555555555556"
      ]
     },
     "execution_count": 12,
     "metadata": {},
     "output_type": "execute_result"
    }
   ],
   "source": [
    "MAXY"
   ]
  },
  {
   "cell_type": "code",
   "execution_count": 13,
   "metadata": {
    "collapsed": false
   },
   "outputs": [
    {
     "data": {
      "text/plain": [
       "(288, 152)"
      ]
     },
     "execution_count": 13,
     "metadata": {},
     "output_type": "execute_result"
    }
   ],
   "source": [
    "Xres, Yres"
   ]
  },
  {
   "cell_type": "code",
   "execution_count": 14,
   "metadata": {
    "collapsed": false
   },
   "outputs": [
    {
     "data": {
      "text/plain": [
       "(1.0555555555555556, 0.006944444444444445, 20.069444444444446)"
      ]
     },
     "execution_count": 14,
     "metadata": {},
     "output_type": "execute_result"
    }
   ],
   "source": [
    "yelsize = MAXY/Yres\n",
    "MAXY, yelsize, yelsize*D"
   ]
  },
  {
   "cell_type": "markdown",
   "metadata": {},
   "source": [
    "Select which case of viscosity from Tosi et al (2015) to use. Adjust the yield stress to be =1 for cases 1-4, or between 3.0 and 5.0 (in increments of 0.1) in case 5."
   ]
  },
  {
   "cell_type": "markdown",
   "metadata": {},
   "source": [
    "Set output file and directory for results"
   ]
  },
  {
   "cell_type": "markdown",
   "metadata": {},
   "source": [
    "Create mesh objects. These store the indices and spatial coordiates of the grid points on the mesh."
   ]
  },
  {
   "cell_type": "code",
   "execution_count": 15,
   "metadata": {
    "collapsed": false
   },
   "outputs": [],
   "source": [
    "elementMesh = uw.mesh.FeMesh_Cartesian( elementType=(\"Q1/dQ0\"), \n",
    "                                         elementRes=(Xres, Yres), \n",
    "                                           minCoord=(MINX,0.), \n",
    "                                           maxCoord=(1.,MAXY), periodic=[True,False] )\n",
    "linearMesh   = elementMesh\n",
    "constantMesh = elementMesh.subMesh "
   ]
  },
  {
   "cell_type": "markdown",
   "metadata": {},
   "source": [
    "Create Finite Element (FE) variables for the velocity, pressure and temperature fields. The last two of these are scalar fields needing only one value at each mesh point, while the velocity field contains a vector of *dim* dimensions at each mesh point."
   ]
  },
  {
   "cell_type": "code",
   "execution_count": 16,
   "metadata": {
    "collapsed": true
   },
   "outputs": [],
   "source": [
    "velocityField    = uw.fevariable.FeVariable( feMesh=linearMesh,   nodeDofCount=dim )\n",
    "pressureField    = uw.fevariable.FeVariable( feMesh=constantMesh, nodeDofCount=1 )\n",
    "temperatureField = uw.fevariable.FeVariable( feMesh=linearMesh,   nodeDofCount=1 )"
   ]
  },
  {
   "cell_type": "markdown",
   "metadata": {},
   "source": [
    "Create some dummy fevariables for doing top and bottom boundary calculations."
   ]
  },
  {
   "cell_type": "markdown",
   "metadata": {},
   "source": [
    "##Refine mesh"
   ]
  },
  {
   "cell_type": "markdown",
   "metadata": {
    "collapsed": true
   },
   "source": [
    "if refineMesh:\n",
    "    alpha=ALPHA\n",
    "    newys = []\n",
    "    newxs = []\n",
    "    for index, coord in enumerate(linearMesh.data):\n",
    "        y0 = coord[1]\n",
    "        x0 = abs(coord[0])\n",
    "        if y0 >= 1.0:\n",
    "            newy = y0\n",
    "        else:\n",
    "            newy = (math.log(alpha*y0 + math.e) - 1)*(1/(math.log(alpha + math.e) - 1))\n",
    "        newx = (math.log((alpha/2.)*x0 + math.e) - 1)*(1/(math.log((alpha/2.) + math.e) - 1))\n",
    "        if coord[0] <= 0:\n",
    "            newx = -1.*newx\n",
    "        newys.append(newy)\n",
    "        newxs.append(newx)\n",
    "        \n",
    "    with linearMesh.deform_mesh():\n",
    "        linearMesh.data[:,1] = newys\n",
    "        linearMesh.data[:,0] = newxs"
   ]
  },
  {
   "cell_type": "code",
   "execution_count": 17,
   "metadata": {
    "collapsed": true
   },
   "outputs": [],
   "source": [
    "#THis one for the rectangular mesh\n",
    "\n",
    "if refineMesh:\n",
    "    alpha = ALPHA\n",
    "    newys = []\n",
    "    newxs = []\n",
    "    for index, coord in enumerate(linearMesh.data):\n",
    "        y0 = coord[1]\n",
    "        x0 = abs(coord[0])\n",
    "        if y0 >= 1.0:\n",
    "            newy = y0\n",
    "        else:\n",
    "            newy = (math.log(alpha*y0 + math.e) - 1)*(1/(math.log(alpha + math.e) - 1))\n",
    "        if coord[0] > 0:\n",
    "            newx = (math.e**(x0*(math.log((alpha/2.) + math.e) - 1) + 1 ) - math.e)/(alpha/2.)     \n",
    "        else:\n",
    "            newx = -1.*(math.e**(x0*(math.log((alpha/2.) + math.e) - 1) + 1 ) - math.e)/(alpha/2.)\n",
    "        newys.append(newy)\n",
    "        newxs.append(newx)\n",
    "        #print y0,newy\n",
    "        \n",
    "    with linearMesh.deform_mesh():\n",
    "            linearMesh.data[:,1] = newys\n",
    "            linearMesh.data[:,0] = newxs"
   ]
  },
  {
   "cell_type": "markdown",
   "metadata": {},
   "source": [
    "#ICs and BCs"
   ]
  },
  {
   "cell_type": "code",
   "execution_count": 18,
   "metadata": {
    "collapsed": false
   },
   "outputs": [],
   "source": [
    "# Initialise data.. Note that we are also setting boundary conditions here\n",
    "velocityField.data[:] = [0.,0.]\n",
    "pressureField.data[:] = 0.\n",
    "temperatureField.data[:] = 0.\n",
    "\n",
    "# Setup temperature initial condition via numpy arrays\n",
    "A = 0.01\n",
    "#Note that width = height = 1\n",
    "tempNump = temperatureField.data\n",
    "for index, coord in enumerate(linearMesh.data):\n",
    "    pertCoeff = (1- coord[1]) + A*math.cos( math.pi * abs(1. - coord[0]) ) * math.sin( math.pi * coord[1] )\n",
    "    tempNump[index] = pertCoeff;\n",
    "    if coord[1] > 1:\n",
    "        tempNump[index] = 0."
   ]
  },
  {
   "cell_type": "code",
   "execution_count": null,
   "metadata": {
    "collapsed": false
   },
   "outputs": [],
   "source": []
  },
  {
   "cell_type": "code",
   "execution_count": 19,
   "metadata": {
    "collapsed": false
   },
   "outputs": [],
   "source": [
    "#For notebook runs\n",
    "ModIt = \"144\""
   ]
  },
  {
   "cell_type": "code",
   "execution_count": 20,
   "metadata": {
    "collapsed": false
   },
   "outputs": [],
   "source": [
    "########################################\n",
    "#No sticky air, square models\n",
    "########################################\n",
    "\n",
    "if (loadTemp == True) and (refineMesh == False) and (squareModel == True) and (stickyAir == False):\n",
    "    if ModIt == str(96):\n",
    "        temperatureField.load('temp_ics/1.0_96_init_temp.hdf5')\n",
    "    elif ModIt == str(128):\n",
    "        temperatureField.load('temp_ics/1.0_128_init_temp.hdf5')\n",
    "    elif ModIt == str(144):\n",
    "        temperatureField.load('temp_ics/1.0_144_init_temp.hdf5')\n",
    "    elif ModIt == str(192):\n",
    "        temperatureField.load('temp_ics/1.0_192_init_temp.hdf5')\n",
    "    elif ModIt == str(256):\n",
    "        temperatureField.load('temp_ics/1.0_256_init_temp.hdf5')\n",
    "elif (loadTemp == True) and (refineMesh == True) and (squareModel == True) and (stickyAir == False):\n",
    "    if ModIt == str(96):\n",
    "        temperatureField.load('temp_ics/r11_1.0_96_init_temp.hdf5')\n",
    "    elif ModIt == str(128):\n",
    "        temperatureField.load('temp_ics/r11_1.0_128_init_temp.hdf5')\n",
    "    elif ModIt == str(144):\n",
    "        temperatureField.load('temp_ics/r11_1.0_144_init_temp.hdf5')\n",
    "    elif ModIt == str(192):\n",
    "        temperatureField.load('temp_ics/r11_1.0_192_init_temp.hdf5')\n",
    "    elif ModIt == str(256):\n",
    "        temperatureField.load('temp_ics/r11_1.0_256_init_temp.hdf5') "
   ]
  },
  {
   "cell_type": "code",
   "execution_count": 21,
   "metadata": {
    "collapsed": false
   },
   "outputs": [],
   "source": [
    "########################################\n",
    "#Sticky air, square models\n",
    "########################################\n",
    "if (loadTemp == True) and (refineMesh == False) and (squareModel == True) and (stickyAir == True):\n",
    "    print \"True\"\n",
    "    if ModIt == str(96):\n",
    "        temperatureField.load('temp_ics/sqa_96_init_temp.hdf5')\n",
    "    elif ModIt == str(128):\n",
    "        temperatureField.load('temp_ics/sqa_128_init_temp.hdf5')\n",
    "    elif ModIt == str(144):\n",
    "        temperatureField.load('temp_ics/sqa_144_init_temp.hdf5')\n",
    "    elif ModIt == str(192):\n",
    "        temperatureField.load('temp_ics/sqa_192_init_temp.hdf5')\n",
    "    elif ModIt == str(256):\n",
    "        temperatureField.load('temp_ics/sqa_256_init_temp.hdf5')\n",
    "elif (loadTemp == True) and (refineMesh == True) and (squareModel == True) and (stickyAir == True):\n",
    "    print \"True\"\n",
    "    if ModIt == str(96):\n",
    "        temperatureField.load('temp_ics/r11_sqa_96_init_temp.hdf5')\n",
    "    elif ModIt == str(128):\n",
    "        temperatureField.load('temp_ics/r11_sqa_128_init_temp.hdf5')\n",
    "    elif ModIt == str(144):\n",
    "        temperatureField.load('temp_ics/r11_sqa_144_init_temp.hdf5')\n",
    "    elif ModIt == str(192):\n",
    "        temperatureField.load('temp_ics/r11_sqa_192_init_temp.hdf5')\n",
    "    elif ModIt == str(256):\n",
    "        temperatureField.load('temp_ics/r11_sqa_256_init_temp.hdf5') "
   ]
  },
  {
   "cell_type": "code",
   "execution_count": 22,
   "metadata": {
    "collapsed": false
   },
   "outputs": [
    {
     "data": {
      "text/plain": [
       "'144'"
      ]
     },
     "execution_count": 22,
     "metadata": {},
     "output_type": "execute_result"
    }
   ],
   "source": [
    "ModIt"
   ]
  },
  {
   "cell_type": "code",
   "execution_count": 23,
   "metadata": {
    "collapsed": false
   },
   "outputs": [],
   "source": [
    "########################################\n",
    "#Sticky air, rectangular models\n",
    "########################################\n",
    "\n",
    "if (loadTemp == True) and (refineMesh == False) and (squareModel == False) and (stickyAir == True):\n",
    "    print \"True\"\n",
    "    if ModIt == str(96):\n",
    "        temperatureField.load('temp_ics/sa_96_init_temp.hdf5')\n",
    "    elif ModIt == str(128):\n",
    "        temperatureField.load('temp_ics/sa_128_init_temp.hdf5')\n",
    "    elif ModIt == str(144):\n",
    "        temperatureField.load('temp_ics/sa_144_init_temp.hdf5')\n",
    "    elif ModIt == str(192):\n",
    "        temperatureField.load('temp_ics/sa_192_init_temp.hdf5')\n",
    "    elif ModIt == str(256):\n",
    "        temperatureField.load('temp_ics/sa_256_init_temp.hdf5')\n",
    "elif (loadTemp == True) and (refineMesh == True) and (squareModel == False) and (stickyAir == True):\n",
    "    print \"True\"\n",
    "    if ModIt == str(96):\n",
    "        temperatureField.load('temp_ics/r11_sa_96_init_temp.hdf5')\n",
    "    elif ModIt == str(128):\n",
    "        temperatureField.load('temp_ics/r11_sa_128_init_temp.hdf5')\n",
    "    elif ModIt == str(144):\n",
    "        temperatureField.load('temp_ics/r11_sa_144_init_temp.hdf5')\n",
    "    elif ModIt == str(192):\n",
    "        temperatureField.load('temp_ics/r11_sa_192_init_temp.hdf5')\n",
    "    elif ModIt == str(256):\n",
    "        temperatureField.load('temp_ics/r11_sa_256_init_temp.hdf5')"
   ]
  },
  {
   "cell_type": "markdown",
   "metadata": {
    "collapsed": true
   },
   "source": [
    "dres = 96\n",
    "dummyelementMesh = uw.mesh.FeMesh_Cartesian( elementType = (\"Q1/dQ0\"), \n",
    "                                         elementRes = (dres, dres), \n",
    "                                           minCoord = (0., 0.), \n",
    "                                           maxCoord = (1., 1.))\n",
    "\n",
    "dummytemperatureMesh = dummyelementMesh \n",
    "dummytemperatureField = uw.fevariable.FeVariable( feMesh=dummytemperatureMesh, nodeDofCount=1 )\n",
    "dummytemperatureField.load('temp_ics/temperatureField_4_10200.hdf5')\n",
    "\n",
    "for index, coord in enumerate(linearMesh.data):\n",
    "    #This bit determines whether you see a reflected image or not\n",
    "    #xpos, ypos = (1.- abs(coord[0])), coord[1]\n",
    "    xpos, ypos = (abs(coord[0])), coord[1]\n",
    "    if ypos >= 1:\n",
    "        temperatureField.data[index] = 0.\n",
    "    else:\n",
    "        #print(dummytemperatureField.evaluate((xpos, ypos)))\n",
    "        #randpert = np.random.rand(1)[0]*(50./2500)\n",
    "        randpert = 0.\n",
    "        #Don't know mesh partitions in advance, and possible diferent between 'real' and 'dummy' mesh\n",
    "        try:\n",
    "            temperatureField.data[index] = dummytemperatureField.evaluate((xpos, ypos))  + randpert\n",
    "        except:\n",
    "            pass\n",
    "            \n",
    "temperatureField.save('temp_ics/1.0_144_init_temp.hdf5')"
   ]
  },
  {
   "cell_type": "markdown",
   "metadata": {
    "collapsed": true
   },
   "source": []
  },
  {
   "cell_type": "code",
   "execution_count": 24,
   "metadata": {
    "collapsed": false
   },
   "outputs": [],
   "source": [
    "#icfnam= \"R(11)_\" + \"2_\" + str(RES) + \"_init_temp.hdf5\"\n",
    "#icpath = \"temp_ics/\" + icfnam \n",
    "#icfnam= str(Model) + str(ModIt) + \"_init_temp.hdf5\"\n",
    "#temperatureField.save(icpath)\n",
    "#icfnam\n",
    "#icpath"
   ]
  },
  {
   "cell_type": "code",
   "execution_count": 25,
   "metadata": {
    "collapsed": false
   },
   "outputs": [],
   "source": [
    "# Get the actual sets \n",
    "#\n",
    "#  HJJJJJJH\n",
    "#  I      I\n",
    "#  I      I\n",
    "#  I      I\n",
    "#  HJJJJJJH\n",
    "#  \n",
    "#  Note that H = I & J \n",
    "\n",
    "# Note that we use operator overloading to combine sets\n",
    "IWalls = linearMesh.specialSets[\"MinI_VertexSet\"] + linearMesh.specialSets[\"MaxI_VertexSet\"]\n",
    "JWalls = linearMesh.specialSets[\"MinJ_VertexSet\"] + linearMesh.specialSets[\"MaxJ_VertexSet\"]\n",
    "TWalls = linearMesh.specialSets[\"MaxJ_VertexSet\"]\n",
    "BWalls = linearMesh.specialSets[\"MinJ_VertexSet\"]"
   ]
  },
  {
   "cell_type": "code",
   "execution_count": null,
   "metadata": {
    "collapsed": true
   },
   "outputs": [],
   "source": []
  },
  {
   "cell_type": "code",
   "execution_count": 26,
   "metadata": {
    "collapsed": true
   },
   "outputs": [],
   "source": [
    "# Now setup the dirichlet boundary condition\n",
    "# Note that through this object, we are flagging to the system \n",
    "# that these nodes are to be considered as boundary conditions. \n",
    "# Also note that we provide a tuple of sets.. One for the Vx, one for Vy.\n",
    "freeslipBC = uw.conditions.DirichletCondition(     variable=velocityField, \n",
    "                                              nodeIndexSets=(None, JWalls) )\n",
    "\n",
    "# also set dirichlet for temp field\n",
    "tempBC = uw.conditions.DirichletCondition(     variable=temperatureField, \n",
    "                                              nodeIndexSets=(JWalls,) )"
   ]
  },
  {
   "cell_type": "markdown",
   "metadata": {},
   "source": [
    "##Add Random 125 K temp perturbation\n"
   ]
  },
  {
   "cell_type": "raw",
   "metadata": {},
   "source": []
  },
  {
   "cell_type": "code",
   "execution_count": 27,
   "metadata": {
    "collapsed": false
   },
   "outputs": [],
   "source": [
    "tempNump = temperatureField.data\n",
    "for index, coord in enumerate(linearMesh.data):\n",
    "    pertCoeff = math.sin(math.pi*coord[1])*(0.05*np.random.rand(1)[0])\n",
    "    ict = tempNump[index]\n",
    "    tempNump[index] = ict + pertCoeff"
   ]
  },
  {
   "cell_type": "code",
   "execution_count": 28,
   "metadata": {
    "collapsed": false
   },
   "outputs": [
    {
     "name": "stdout",
     "output_type": "stream",
     "text": [
      "0.0372873023512\n",
      "0.0409519593369\n",
      "0.0369819786907\n",
      "0.0093751992632\n",
      "0.03879841643\n",
      "0.0193644424481\n",
      "0.0116010448513\n",
      "0.0325711478263\n",
      "0.037070977699\n",
      "0.0262668338862\n"
     ]
    }
   ],
   "source": [
    "for i in range(10):\n",
    "    print 0.05*np.random.rand(1)[0]"
   ]
  },
  {
   "cell_type": "markdown",
   "metadata": {},
   "source": [
    "##Reset bottom Dirichlet conds."
   ]
  },
  {
   "cell_type": "code",
   "execution_count": 29,
   "metadata": {
    "collapsed": false
   },
   "outputs": [],
   "source": [
    "# Set temp boundaries \n",
    "# on the boundaries\n",
    "for index in linearMesh.specialSets[\"MinJ_VertexSet\"]:\n",
    "    temperatureField.data[index] = TB\n",
    "for index in linearMesh.specialSets[\"MaxJ_VertexSet\"]:\n",
    "    temperatureField.data[index] = TS"
   ]
  },
  {
   "cell_type": "markdown",
   "metadata": {},
   "source": [
    "#Particles"
   ]
  },
  {
   "cell_type": "code",
   "execution_count": 30,
   "metadata": {
    "collapsed": false
   },
   "outputs": [],
   "source": [
    "# We create swarms of particles which can advect, and which may determine 'materials'\n",
    "gSwarm = uw.swarm.Swarm( feMesh=elementMesh )\n",
    "\n",
    "# Now we add a data variable which will store an index to determine material\n",
    "materialVariable = gSwarm.add_variable( dataType=\"char\", count=1 )\n",
    "tempVariableVis = gSwarm.add_variable( dataType=\"float\", count=1 )\n",
    "rockIntVar = gSwarm.add_variable( dataType=\"double\", count=1 )\n",
    "airIntVar = gSwarm.add_variable( dataType=\"double\", count=1 )\n",
    "lithIntVar = gSwarm.add_variable( dataType=\"double\", count=1 )\n",
    "\n",
    "\n",
    "# Layouts are used to populate the swarm across the whole domain\n",
    "# Create the layout object\n",
    "#layout = uw.swarm.layouts.GlobalSpaceFillerLayout( swarm=gSwarm, particlesPerCell=20)\n",
    "layout = uw.swarm.layouts.PerCellRandomLayout(swarm=gSwarm, particlesPerCell=15)\n",
    "# Now use it to populate.\n",
    "gSwarm.populate_using_layout( layout=layout )\n",
    "\n",
    "\n",
    "# Lets initialise the 'materialVariable' data to represent different materials.\n",
    "\n",
    "temp = temperatureField.evaluate(gSwarm)\n",
    "tempVariableVis.data[:] = temp[:]\n",
    "\n",
    "\n",
    "\n",
    "mantleIndex = 0\n",
    "lithosphereIndex = 1\n",
    "crustIndex = 2\n",
    "airIndex = 3\n",
    "\n",
    "\n",
    "# Set the material to heavy everywhere via the numpy array\n",
    "materialVariable.data[:] = mantleIndex\n"
   ]
  },
  {
   "cell_type": "markdown",
   "metadata": {},
   "source": [
    "#Material Graphs"
   ]
  },
  {
   "cell_type": "code",
   "execution_count": null,
   "metadata": {
    "collapsed": true
   },
   "outputs": [],
   "source": []
  },
  {
   "cell_type": "code",
   "execution_count": 31,
   "metadata": {
    "collapsed": false
   },
   "outputs": [],
   "source": [
    "##############\n",
    "#Important: This is a quick fix for a bug that arises in parallel runs\n",
    "##############\n",
    "material_list = [0,1,2,3]\n"
   ]
  },
  {
   "cell_type": "code",
   "execution_count": 32,
   "metadata": {
    "collapsed": true
   },
   "outputs": [],
   "source": [
    "#All depth conditions are given as (km/D) where D is the length scale, \n",
    "#note that 'model depths' are used, e.g. 1-z, where z is the vertical Underworld coordinate\n",
    "#All temp conditions are in dimensionless temp. [0. - 1.]\n",
    "\n",
    "#A few paramters defining lengths scales\n",
    "\n",
    "Crust = 27.\n",
    "CrustM = Crust/D\n",
    "\n",
    "#Set initial air and crust materials (allow the graph to take care of lithsophere)\n",
    "\n",
    "#########\n",
    "#This initial material setup will be model dependent\n",
    "#########\n",
    "for particleID in range(gSwarm.particleCoordinates.data.shape[0]):\n",
    "    if (1. - gSwarm.particleCoordinates.data[particleID][1]) < 0:\n",
    "             materialVariable.data[particleID] = airIndex\n",
    "    elif (1. - gSwarm.particleCoordinates.data[particleID][1]) < CrustM:\n",
    "             materialVariable.data[particleID] = crustIndex\n",
    "\n",
    "\n",
    "\n",
    "#######Setup some variables which help define condtions\n",
    "#rock-air topography limits\n",
    "dz = 50./D\n",
    "\n",
    "avgtemp = 0.5"
   ]
  },
  {
   "cell_type": "code",
   "execution_count": 33,
   "metadata": {
    "collapsed": true
   },
   "outputs": [],
   "source": [
    "import networkx as nx\n",
    "\n",
    "#######Graph object\n",
    "DG = nx.DiGraph(field=\"Depth\")\n",
    "\n",
    "#######Nodes\n",
    "#Note that the order of materials, deepest to shallowest is important \n",
    "DG.add_node(0, mat='mantle')\n",
    "DG.add_node(1, mat='lithosphere')\n",
    "DG.add_node(2, mat='crust')\n",
    "DG.add_node(3, mat='air')\n",
    "\n",
    "\n",
    "labels=dict((n,d['mat']) for n,d in DG.nodes(data=True))\n",
    "pos=nx.spring_layout(DG) \n",
    "\n",
    "\n",
    "#######Edges\n",
    "#anything to air\n",
    "DG.add_edges_from([(0,3),(1,3), (2,3)])\n",
    "DG[0][3]['depthcondition'] = -1*dz\n",
    "DG[1][3]['depthcondition'] = -1*dz\n",
    "DG[2][3]['depthcondition'] = -1*dz\n",
    "\n",
    "\n",
    "#Anything to mantle\n",
    "DG.add_edges_from([(2,0), (3,0), (1,0)])\n",
    "DG[3][0]['depthcondition'] = dz\n",
    "DG[2][0]['depthcondition'] = (300./D)\n",
    "DG[1][0]['depthcondition'] = (660./D) #This means we're going to kill lithosphere at the 660.\n",
    "\n",
    "\n",
    "#Anything to lithsphere\n",
    "DG.add_edges_from([(0,1),(3,1)])\n",
    "DG[0][1]['depthcondition'] = 200./D\n",
    "DG[0][1]['avgtempcondition'] = 0.75*avgtemp #definition of thermal lithosphere\n",
    "\n",
    "\n",
    "#Anything to crust\n",
    "DG.add_edges_from([(0,2), (1,2)])\n",
    "DG[0][2]['depthcondition'] = CrustM\n",
    "DG[1][2]['depthcondition'] = CrustM"
   ]
  },
  {
   "cell_type": "code",
   "execution_count": 34,
   "metadata": {
    "collapsed": false
   },
   "outputs": [
    {
     "data": {
      "text/plain": [
       "[0, 1, 2, 3]"
      ]
     },
     "execution_count": 34,
     "metadata": {},
     "output_type": "execute_result"
    }
   ],
   "source": [
    "DG.nodes()"
   ]
  },
  {
   "cell_type": "code",
   "execution_count": 35,
   "metadata": {
    "collapsed": false
   },
   "outputs": [],
   "source": [
    "remove_nodes = []\n",
    "for node in DG.nodes():\n",
    "    if not node in material_list:\n",
    "        remove_nodes.append(node)\n",
    "        \n",
    "for rmnode in remove_nodes:\n",
    "    DG.remove_node(rmnode)"
   ]
  },
  {
   "cell_type": "code",
   "execution_count": 36,
   "metadata": {
    "collapsed": false
   },
   "outputs": [
    {
     "data": {
      "text/plain": [
       "[0, 1, 2, 3]"
      ]
     },
     "execution_count": 36,
     "metadata": {},
     "output_type": "execute_result"
    }
   ],
   "source": [
    "DG.nodes()"
   ]
  },
  {
   "cell_type": "code",
   "execution_count": 37,
   "metadata": {
    "collapsed": false
   },
   "outputs": [],
   "source": [
    "#remove_nodes = []\n",
    "#for node in DG.nodes_iter():\n",
    "#    if not node in material_list:\n",
    "#        remove_nodes.append(node)\n",
    "        \n",
    "#for rmnode in remove_nodes:\n",
    "#    DG.remove_node(rmnode)"
   ]
  },
  {
   "cell_type": "code",
   "execution_count": 38,
   "metadata": {
    "collapsed": true
   },
   "outputs": [],
   "source": [
    "#A Dictionary to map strings in the graph (e.g. 'depthcondition') to particle data arrays\n",
    "\n",
    "particledepths = 1. - gSwarm.particleCoordinates.data[:,1]\n",
    "particletemps = temperatureField.evaluate(gSwarm)[:,0]\n",
    "\n",
    "conditionmap = {}\n",
    "\n",
    "conditionmap['depthcondition'] = {}\n",
    "conditionmap['depthcondition']['data'] = particledepths\n",
    "conditionmap['avgtempcondition'] = {}\n",
    "conditionmap['avgtempcondition']['data'] = particletemps"
   ]
  },
  {
   "cell_type": "code",
   "execution_count": 39,
   "metadata": {
    "collapsed": true
   },
   "outputs": [],
   "source": [
    "def update_swarm(graph, particleIndex):\n",
    "    \"\"\"\n",
    "    This function takes the materials graph (networkx.DiGraph), and a particle index,\n",
    "    then determines if a material update is required \n",
    "    and if so, returns the new materialindex\n",
    "    Args:\n",
    "        graph (networkx.DiGraph): Directed multigraph representing the transformation of material types\n",
    "        particleIndex (int): the particle index as corressponding to the index in the swarm data arrays\n",
    "    Returns:\n",
    "        if update is required the function returns the the new material variable (int) \n",
    "        else returns None\n",
    "    Raises:\n",
    "        TypeError: not implemented\n",
    "        ValueError: not implemented\n",
    "    \"\"\"\n",
    "    ##Egde gives links to other materials, we then query the conditions to see if we should change materials\n",
    "    matId = materialVariable.data[particleIndex][0]\n",
    "    innerchange = False\n",
    "    outerchange = False\n",
    "    for edge in graph[matId]:\n",
    "        if outerchange:\n",
    "            break\n",
    "        for cond in graph[matId][edge].keys():\n",
    "            outerchange = False\n",
    "            if innerchange: #found a complete transition, break inner loop\n",
    "                break\n",
    "            currentparticlevalue = conditionmap[cond]['data'][particleIndex]\n",
    "            crossover = graph[matId][edge][cond]\n",
    "            if ((matId > edge) and (currentparticlevalue > crossover)):\n",
    "                innerchange = False # continue on, \n",
    "                if graph[matId][edge].keys()[-1] == cond:\n",
    "                    outerchange = True\n",
    "                    innerchange = edge\n",
    "                    break\n",
    "            elif ((matId < edge) and (currentparticlevalue < crossover)):\n",
    "                innerchange = False\n",
    "                if graph[matId][edge].keys()[-1] == cond:\n",
    "                    outerchange = True\n",
    "                    innerchange = edge\n",
    "                    break\n",
    "            else:\n",
    "                #condition not met, break outer loop, go to next edge, outerchange should still be False\n",
    "                break\n",
    "    if type(innerchange) == int:\n",
    "        return innerchange"
   ]
  },
  {
   "cell_type": "markdown",
   "metadata": {},
   "source": [
    "for particleID in range(gSwarm.particleCoordinates.data.shape[0]):\n",
    "                check = update_swarm(DG, particleID)\n",
    "                #print check\n",
    "                if check > -1:\n",
    "                    #number_updated += 1\n",
    "                    materialVariable.data[particleID] = check"
   ]
  },
  {
   "cell_type": "code",
   "execution_count": 40,
   "metadata": {
    "collapsed": false
   },
   "outputs": [],
   "source": [
    "#Cleanse the swarm of its sins\n",
    "#For some Material Graphs, the graph may have to be treaversed more than once\n",
    "\n",
    "check = -1\n",
    "number_updated = 1\n",
    "\n",
    "while number_updated != 0:\n",
    "    number_updated = 0\n",
    "    for particleID in range(gSwarm.particleCoordinates.data.shape[0]):\n",
    "                check = update_swarm(DG, particleID)\n",
    "                if check > -1:\n",
    "                    number_updated += 1\n",
    "                    materialVariable.data[particleID] = check"
   ]
  },
  {
   "cell_type": "code",
   "execution_count": 41,
   "metadata": {
    "collapsed": false
   },
   "outputs": [],
   "source": [
    "#figtemp = plt.Figure()\n",
    "#tempminmax = fn.view.min_max(temperatureField)\n",
    "#figtemp.Surface(temperatureField, linearMesh)\n",
    "#figtemp.VectorArrows(velocityField, linearMesh, lengthScale=0.5/velmax, arrowHeadSize=0.2 )\n",
    "#figtemp.Points( swarm=gSwarm, colourVariable=materialVariable , pointSize=1.0)\n",
    "#figtemp.Mesh(linearMesh, colourBar=False)\n",
    "#figtemp.show()\n",
    "#figtemp.save_database('test.gldb')"
   ]
  },
  {
   "cell_type": "markdown",
   "metadata": {},
   "source": [
    "##Set the values for the masking swarms"
   ]
  },
  {
   "cell_type": "code",
   "execution_count": 42,
   "metadata": {
    "collapsed": false
   },
   "outputs": [],
   "source": [
    "#Setup up a masking Swarm variable for the integrations.\n",
    "#Two possible problems? \n",
    "#does it work in parallel,\n",
    "#How do we mange advecting this swarm?\n",
    "#(might be best to just rebuild it every timestep, that way we only focus on advecting the material swarm)\n",
    "\n",
    "rockIntVar.data[:] = 0.\n",
    "notair = np.where(materialVariable.data != airIndex)\n",
    "rockIntVar.data[notair] = 1.\n",
    "\n",
    "airIntVar.data[:] = 0.\n",
    "notrock = np.where(materialVariable.data == airIndex)\n",
    "airIntVar.data[notrock] = 1.\n",
    "\n",
    "lithIntVar.data[:] = 0.\n",
    "islith = np.where((materialVariable.data == lithosphereIndex) | (materialVariable.data == crustIndex))\n",
    "lithIntVar.data[islith] = 1."
   ]
  },
  {
   "cell_type": "markdown",
   "metadata": {
    "collapsed": true
   },
   "source": [
    "##Set up a swarm for surface integrations¶\n"
   ]
  },
  {
   "cell_type": "code",
   "execution_count": 43,
   "metadata": {
    "collapsed": false
   },
   "outputs": [
    {
     "data": {
      "text/plain": [
       "24.0"
      ]
     },
     "execution_count": 43,
     "metadata": {},
     "output_type": "execute_result"
    }
   ],
   "source": [
    "np.floor(10.*156/64)"
   ]
  },
  {
   "cell_type": "code",
   "execution_count": 44,
   "metadata": {
    "collapsed": false
   },
   "outputs": [],
   "source": [
    "snum = 1000.\n",
    "dx = (linearMesh.data[:,0].max()- linearMesh.data[:,0].min())/snum\n",
    "yp = 0.9947 #1. - yelsize/2. at res = 96\n",
    "\n",
    "linearMesh.data[:,0].max()\n",
    "xps = np.linspace(linearMesh.data[:,0].min(),linearMesh.data[:,0].max(), snum)\n",
    "yps = [yp for i in xps]\n",
    "\n",
    "surfintswarm = uw.swarm.Swarm( feMesh=elementMesh )\n",
    "dumout = surfintswarm.add_particles_with_coordinates(np.array((xps,yps)).T)\n",
    "\n",
    "yps = [ 1.- yp  for i in xps]\n",
    "\n",
    "baseintswarm = uw.swarm.Swarm( feMesh=elementMesh )\n",
    "dumout = baseintswarm.add_particles_with_coordinates(np.array((xps,yps)).T)"
   ]
  },
  {
   "cell_type": "code",
   "execution_count": 45,
   "metadata": {
    "collapsed": false
   },
   "outputs": [],
   "source": [
    "# visualise\n",
    "#fig1 = plt.Figure()\n",
    "#fig1.Points( swarm=surfintswarm, pointSize=10.0)\n",
    "#fig1.Points( swarm=baseintswarm, pointSize=10.0)\n",
    "#fig1.Points( swarm=gSwarm,colourVariable=rockIntVar)\n",
    "#fig1.VectorArrows(velocityField, linearMesh, lengthScale=0.0002)\n",
    "#fig1.Surface(temperatureField, linearMesh)\n",
    "#\n",
    "#fig1.Mesh(linearMesh, colourBar=False)\n",
    "#fig1.show()"
   ]
  },
  {
   "cell_type": "markdown",
   "metadata": {
    "collapsed": false
   },
   "source": [
    "#Material properties\n"
   ]
  },
  {
   "cell_type": "code",
   "execution_count": null,
   "metadata": {
    "collapsed": true
   },
   "outputs": [],
   "source": []
  },
  {
   "cell_type": "code",
   "execution_count": 46,
   "metadata": {
    "collapsed": false
   },
   "outputs": [],
   "source": [
    "#Make variables required for plasticity\n",
    "\n",
    "secinvCopy = fn.tensor.second_invariant( \n",
    "                    fn.tensor.symmetric( \n",
    "                        velocityField.gradientFn ))\n",
    "\n",
    "coordinate = fn.input()\n",
    "\n",
    "depth = 1. - coordinate[1]\n"
   ]
  },
  {
   "cell_type": "code",
   "execution_count": 47,
   "metadata": {
    "collapsed": false
   },
   "outputs": [],
   "source": [
    "depthField = uw.fevariable.FeVariable( feMesh=linearMesh,   nodeDofCount=1 )\n",
    "\n",
    "depthField.data[:] = depth.evaluate(linearMesh)\n",
    "depthField.data[np.where(depthField.data[:] < 0.)[0]] = 0.\n",
    "#depthdata = depth.evaluate(linearMesh)"
   ]
  },
  {
   "cell_type": "code",
   "execution_count": null,
   "metadata": {
    "collapsed": false
   },
   "outputs": [],
   "source": [
    "\n"
   ]
  },
  {
   "cell_type": "code",
   "execution_count": 48,
   "metadata": {
    "collapsed": false
   },
   "outputs": [],
   "source": [
    "\n",
    "viscosityl2 = newvisc*fn.math.exp((math.log(ETA_T)*-1*temperatureField) + (depthField*math.log(ETA_Y)))\n",
    "\n",
    "viscosityFn1 = viscosityl2 #This one always gets passed to the first velcotity solve\n",
    "\n",
    "#Von Mises effective viscosity\n",
    "viscosityp = ETA0 + YSTRESS/(secinvCopy/math.sqrt(0.5)) #extra factor to account for underworld second invariant form\n",
    "\n",
    "\n",
    "viscosityFn2 = 2./(1./viscosityl2 + 1./viscosityp)\n"
   ]
  },
  {
   "cell_type": "code",
   "execution_count": 49,
   "metadata": {
    "collapsed": false
   },
   "outputs": [],
   "source": [
    "#Compositional Rayligh number of rock-water \n",
    "\n",
    "g = 9.81\n",
    "rho = 3300\n",
    "a = 1.25*10**-5\n",
    "kappa = 10**-6\n",
    "dT = 2500\n",
    "eta0 = rho*g*a*dT*((D*1e3)**3)/(RA*kappa)\n",
    "#Composisitional Rayleigh number\n",
    "Rc = (3300*g*(D*1000)**3)/(eta0*kappa)\n"
   ]
  },
  {
   "cell_type": "code",
   "execution_count": 50,
   "metadata": {
    "collapsed": true
   },
   "outputs": [],
   "source": [
    "CompRAfact = Rc/RA\n",
    "\n",
    "airviscosity = 0.001\n",
    "airdensity = RA*CompRAfact"
   ]
  },
  {
   "cell_type": "code",
   "execution_count": 51,
   "metadata": {
    "collapsed": true
   },
   "outputs": [],
   "source": [
    "##This block sets up rheolgoy for models with crust rheology;\n",
    "\n",
    "viscreduct = 0.1\n",
    "\n",
    "#Von Mises effective viscosity\n",
    "crustviscosityp = viscreduct*ETA0 + ((viscreduct*YSTRESS)/(secinvCopy/math.sqrt(0.5))) #extra factor to account for underworld second invariant form\n",
    "crustviscosityFn2 = 2./(1./viscosityl2 + 1./crustviscosityp)\n"
   ]
  },
  {
   "cell_type": "markdown",
   "metadata": {},
   "source": [
    "Set up simulation parameters and functions\n",
    "====\n",
    "\n",
    "Here the functions for density, viscosity etc. are set. These functions and/or values are preserved for the entire simulation time. "
   ]
  },
  {
   "cell_type": "code",
   "execution_count": null,
   "metadata": {
    "collapsed": true
   },
   "outputs": [],
   "source": [
    "# Here we set a viscosity value of '1.' for both materials\n",
    "viscosityMapFn = fn.branching.map( keyFunc = materialVariable,\n",
    "                         mappingDict = {airIndex:airviscosity, lithosphereIndex:viscosityFn2, crustIndex:crustviscosityFn2,mantleIndex:viscosityFn2} )\n",
    "\n",
    "densityMapFn = fn.branching.map( keyFunc = materialVariable,\n",
    "                         mappingDict = {airIndex:airdensity, lithosphereIndex:RA*temperatureField, crustIndex:RA*temperatureField, mantleIndex:RA*temperatureField} )\n",
    "\n",
    "# Define our gravity using a python tuple (this will be automatically converted to a function)\n",
    "gravity = ( 0.0, 1.0 )\n",
    "\n",
    "buoyancyFn = gravity*densityMapFn"
   ]
  },
  {
   "cell_type": "markdown",
   "metadata": {},
   "source": [
    "Build the Stokes system, solvers, advection-diffusion\n",
    "------\n",
    "\n",
    "Setup linear Stokes system to get the initial velocity."
   ]
  },
  {
   "cell_type": "code",
   "execution_count": null,
   "metadata": {
    "collapsed": false
   },
   "outputs": [],
   "source": [
    "#We first set up a l\n",
    "stokesPIC = uw.systems.Stokes(velocityField=velocityField, \n",
    "                              pressureField=pressureField,\n",
    "                              conditions=[freeslipBC,],\n",
    "#                              viscosityFn=viscosityFn1, \n",
    "                              viscosityFn=fn.exception.SafeMaths(viscosityFn1), \n",
    "                              bodyForceFn=buoyancyFn)"
   ]
  },
  {
   "cell_type": "markdown",
   "metadata": {},
   "source": [
    "We do one solve with linear viscosity to get the initial strain rate invariant. This solve step also calculates a 'guess' of the the velocity field based on the linear system, which is used later in the non-linear solver."
   ]
  },
  {
   "cell_type": "code",
   "execution_count": null,
   "metadata": {
    "collapsed": false
   },
   "outputs": [],
   "source": [
    "stokesPIC.solve()"
   ]
  },
  {
   "cell_type": "code",
   "execution_count": null,
   "metadata": {
    "collapsed": false
   },
   "outputs": [],
   "source": [
    "#Switch particle escape on, this will also trigger the inflow population control \n",
    "gSwarm.particleEscape = True"
   ]
  },
  {
   "cell_type": "code",
   "execution_count": null,
   "metadata": {
    "collapsed": false
   },
   "outputs": [],
   "source": [
    "# Setup the Stokes system again, now with linear or nonlinear visocity viscosity.\n",
    "stokesPIC2 = uw.systems.Stokes(velocityField=velocityField, \n",
    "                              pressureField=pressureField,\n",
    "                              conditions=[freeslipBC,],\n",
    "                              viscosityFn=fn.exception.SafeMaths(viscosityMapFn), \n",
    "                              bodyForceFn=buoyancyFn, swarm = gSwarm)"
   ]
  },
  {
   "cell_type": "code",
   "execution_count": null,
   "metadata": {
    "collapsed": false
   },
   "outputs": [],
   "source": [
    "solver = uw.systems.Solver(stokesPIC2) # altered from PIC2\n",
    "\n",
    "solver.options.main.Q22_pc_type='uwscale'  # also try 'gtkg', 'gkgdiag' and 'uwscale'\n",
    "solver.options.main.penalty = 1.0\n",
    "solver.options.A11.ksp_rtol=1e-6\n",
    "solver.options.scr.ksp_rtol=1e-5\n",
    "solver.options.scr.use_previous_guess = True\n",
    "solver.options.scr.ksp_set_min_it_converge = 1\n",
    "solver.options.scr.ksp_set_max_it = 100\n",
    "solver.options.mg.levels = 4\n",
    "solver.options.mg.mg_levels_ksp_type = 'chebyshev'\n",
    "solver.options.mg_accel.mg_accelerating_smoothing = True\n",
    "solver.options.mg_accel.mg_accelerating_smoothing_view = False\n",
    "solver.options.mg_accel.mg_smooths_to_start = 1"
   ]
  },
  {
   "cell_type": "markdown",
   "metadata": {},
   "source": [
    "Solve for initial pressure and velocity using a quick non-linear Picard iteration\n"
   ]
  },
  {
   "cell_type": "code",
   "execution_count": null,
   "metadata": {
    "collapsed": false
   },
   "outputs": [],
   "source": [
    "solver.solve(nonLinearIterate=True)"
   ]
  },
  {
   "cell_type": "markdown",
   "metadata": {},
   "source": [
    "Create an advective-diffusive system\n",
    "=====\n",
    "\n",
    "Setup the system in underworld by flagging the temperature and velocity field variables."
   ]
  },
  {
   "cell_type": "code",
   "execution_count": null,
   "metadata": {
    "collapsed": false
   },
   "outputs": [],
   "source": [
    "#Create advdiff system\n",
    "advDiff = uw.systems.AdvectionDiffusion( temperatureField, velocityField, diffusivity=1., conditions=[tempBC,] )\n",
    "\n",
    "advector = uw.systems.SwarmAdvector( swarm=gSwarm, velocityField=velocityField, order=1)"
   ]
  },
  {
   "cell_type": "markdown",
   "metadata": {},
   "source": [
    "Metrics for benchmark\n",
    "=====\n",
    "\n",
    "Define functions to be used in the time loop. For cases 1-4, participants were asked to report a number of diagnostic quantities to be measured after reaching steady state:\n",
    "\n",
    "* Average temp... $$  \\langle T \\rangle  = \\int^1_0 \\int^1_0 T \\, dxdy $$\n",
    "* Top and bottom Nusselt numbers... $$N = \\int^1_0 \\frac{\\partial T}{\\partial y} \\rvert_{y=0/1} \\, dx$$\n",
    "* RMS velocity over the whole domain, surface and max velocity at surface\n",
    "* max and min viscosity over the whole domain\n",
    "* average rate of work done against gravity...$$\\langle W \\rangle = \\int^1_0 \\int^1_0 T u_y \\, dx dy$$\n",
    "* and the average rate of viscous dissipation...$$\\langle \\Phi \\rangle = \\int^1_0 \\int^1_0 \\tau_{ij} \\dot \\epsilon_{ij} \\, dx dy$$\n",
    "\n",
    "* In steady state, if thermal energy is accurately conserved, the difference between $\\langle W \\rangle$ and $\\langle \\Phi \\rangle / Ra$ must vanish, so also reported is the percentage error: \n",
    "\n",
    "$$ \\delta = \\frac{\\lvert \\langle W \\rangle - \\frac{\\langle \\Phi \\rangle}{Ra} \\rvert}{max \\left(  \\langle W \\rangle,  \\frac{\\langle \\Phi \\rangle}{Ra}\\right)} \\times 100% $$"
   ]
  },
  {
   "cell_type": "code",
   "execution_count": null,
   "metadata": {
    "collapsed": false
   },
   "outputs": [],
   "source": [
    "#Setup some Integrals. We want these outside the main loop...\n",
    "tempVariable = gSwarm.add_variable( dataType=\"double\", count=1 )\n",
    "tempVariable.data[:] = temperatureField.evaluate(gSwarm)[:]\n",
    "tempint = uw.utils.Integral((tempVariable*rockIntVar), linearMesh)\n",
    "\n",
    "\n",
    "areaint = uw.utils.Integral((1.*rockIntVar),linearMesh)\n",
    "\n",
    "v2int = uw.utils.Integral(fn.math.dot(velocityField,velocityField)*rockIntVar, linearMesh)\n",
    "\n",
    "\n",
    "dwint = uw.utils.Integral(temperatureField*velocityField[1]*rockIntVar, linearMesh)\n",
    "\n",
    "secinv = fn.tensor.second_invariant(\n",
    "                    fn.tensor.symmetric(\n",
    "                        velocityField.gradientFn ))\n",
    "\n",
    "sinner = fn.math.dot(secinv,secinv)\n",
    "vdint = uw.utils.Integral((4.*viscosityFn2*sinner)*rockIntVar, linearMesh)\n",
    "vdintair = uw.utils.Integral((4.*viscosityFn2*sinner)*airIntVar, linearMesh)\n",
    "vdintlith = uw.utils.Integral((4.*viscosityFn2*sinner)*lithIntVar, linearMesh)"
   ]
  },
  {
   "cell_type": "code",
   "execution_count": null,
   "metadata": {
    "collapsed": false
   },
   "outputs": [],
   "source": [
    "def avg_temp():\n",
    "    return tempint.evaluate()[0]\n",
    "\n",
    "#This one gets cleaned up when Surface integrals are available\n",
    "def nusselt(tempfield, swarm, dx):\n",
    "    #Update the swarm variable\n",
    "    tempgrad = tempfield.gradientFn\n",
    "    valcheck = tempgrad[1].evaluate(swarm)\n",
    "    if valcheck is None:\n",
    "        vals = np.array(0, dtype='float64')\n",
    "    else:\n",
    "        vals = valcheck.sum()*dx\n",
    "    return vals\n",
    "\n",
    "def rms():\n",
    "    return math.sqrt(v2int.evaluate()[0])\n",
    "\n",
    "#This one gets cleaned up when Surface integrals are available\n",
    "def rms_surf(swarm, dx):\n",
    "    rmsmaxfn = fn.math.sqrt(fn.math.dot(velocityField,velocityField))\n",
    "    rmscheck = rmsmaxfn.evaluate(swarm)\n",
    "    if rmscheck is None:\n",
    "        rmsvals = np.array(0, dtype='float64')\n",
    "    else:\n",
    "        rmsvals = rmscheck.sum()*dx\n",
    "    return rmsvals\n",
    "\n",
    "def max_vx_surf(velfield, swarm):\n",
    "    surfvelxmaxfn = fn.view.min_max(velfield[0])\n",
    "    surfvelxmaxfn.evaluate(swarm)\n",
    "    return surfvelxmaxfn.max_global()\n",
    "\n",
    "def max_vy_surf(velfield, swarm):\n",
    "    surfvelxmaxfn = fn.view.min_max(velfield[1])\n",
    "    surfvelxmaxfn.evaluate(swarm)\n",
    "    return surfvelxmaxfn.max_global()\n",
    "\n",
    "def gravwork(workfn):\n",
    "    return workfn.evaluate()[0]\n",
    "\n",
    "def viscdis(vdissfn):\n",
    "    return vdissfn.evaluate()[0]\n",
    "\n",
    "def visc_extr(viscfn):\n",
    "    vuviscfn = fn.view.min_max(viscfn)\n",
    "    vuviscfn.evaluate(linearMesh)\n",
    "    return vuviscfn.max_global(), vuviscfn.min_global()"
   ]
  },
  {
   "cell_type": "code",
   "execution_count": null,
   "metadata": {
    "collapsed": false
   },
   "outputs": [],
   "source": [
    "#Fields for saving data / fields\n",
    "\n",
    "rmsField = uw.fevariable.FeVariable( feMesh=linearMesh,   nodeDofCount=1)\n",
    "rmsfn = fn.math.sqrt(fn.math.dot(velocityField,velocityField))\n",
    "rmsdata = rmsfn.evaluate(linearMesh)\n",
    "rmsField.data[:] = rmsdata \n",
    "\n",
    "viscField = uw.fevariable.FeVariable( feMesh=linearMesh,   nodeDofCount=1)\n",
    "viscdata = viscosityFn2.evaluate(linearMesh)\n",
    "viscField.data[:] = viscdata\n",
    "\n",
    "\n",
    "stressField = uw.fevariable.FeVariable( feMesh=linearMesh,   nodeDofCount=1)\n",
    "srtdata = fn.tensor.second_invariant( \n",
    "                    fn.tensor.symmetric( \n",
    "                        velocityField.gradientFn ))\n",
    "rostfield = srtdata.evaluate(linearMesh)\n",
    "stressinv = 2*viscdata*rostfield[:]\n",
    "stressField.data[:] = stressinv\n",
    "\n",
    "\n",
    "\n",
    "##Gldbs:\n",
    "\n",
    "viscVariable = gSwarm.add_variable( dataType=\"float\", count=1 )\n",
    "viscVariable.data[:] = viscosityMapFn.evaluate(gSwarm)\n",
    "figEta = glucifer.Figure()\n",
    "figEta + glucifer.objects.Points(gSwarm,materialVariable, colours='brown white red blue')\n",
    "figEta + glucifer.objects.Points(gSwarm,viscVariable)\n",
    "\n",
    "\n",
    "\n"
   ]
  },
  {
   "cell_type": "markdown",
   "metadata": {},
   "source": [
    "Main simulation loop\n",
    "=======\n",
    "\n",
    "The main time stepping loop begins here. Before this the time and timestep are initialised to zero and the output statistics arrays are set up. Also the frequency of outputting basic statistics to the screen is set in steps_output.\n"
   ]
  },
  {
   "cell_type": "code",
   "execution_count": null,
   "metadata": {
    "collapsed": true
   },
   "outputs": [],
   "source": [
    "pics = uw.swarm.PICIntegrationSwarm(gSwarm)"
   ]
  },
  {
   "cell_type": "code",
   "execution_count": null,
   "metadata": {
    "collapsed": false
   },
   "outputs": [],
   "source": [
    "realtime = 0.\n",
    "step = 0\n",
    "timevals = [0.]\n",
    "steps_end = 5\n",
    "steps_display_info = 20\n",
    "swarm_update = 10\n",
    "swarm_repop = 100\n",
    "files_output = 400\n",
    "gldbs_output = 1e6\n",
    "checkpoint_every = 10000\n",
    "metric_output = np.floor(10.*RES/64)"
   ]
  },
  {
   "cell_type": "code",
   "execution_count": null,
   "metadata": {
    "collapsed": true
   },
   "outputs": [],
   "source": [
    "def checkpoint(step, path):\n",
    "    velfile = \"velocityField\" + str(step) + \".hdf5\"\n",
    "    tempfile = \"temperatureField\" + str(step) + \".hdf5\"\n",
    "    pressfile = \"pressureField\" + str(step) + \".hdf5\"\n",
    "    swarmfile = \"materialSwarm\" + str(step) + \".hdf5\"\n",
    "    velocityField.save(os.path.join(path, velfile))\n",
    "    temperatureField.save(os.path.join(path, tempfile))\n",
    "    pressureField.save(os.path.join(path, pressfile))\n",
    "    gSwarm.save(os.path.join(path, swarmfile))"
   ]
  },
  {
   "cell_type": "code",
   "execution_count": 67,
   "metadata": {
    "collapsed": false
   },
   "outputs": [
    {
     "name": "stdout",
     "output_type": "stream",
     "text": [
      "0\n"
     ]
    }
   ],
   "source": [
    "# initialise timer for computation\n",
    "start = time.clock()\n",
    "# setup summary output file (name above)\n",
    "f_o = open(outputPath+outputFile, 'w')\n",
    "# Perform steps\n",
    "#while realtime < 0.4:\n",
    "while step < 5:\n",
    "    #Enter non-linear loop\n",
    "    print step\n",
    "    solver.solve(nonLinearIterate=True)\n",
    "    dt = advDiff.get_max_dt()\n",
    "    if step == 0:\n",
    "        dt = 0.\n",
    "    advDiff.integrate(dt)\n",
    "    # Advect swarm using this timestep size\n",
    "    advector.integrate(dt)\n",
    "    # Increment\n",
    "    realtime += dt\n",
    "    step += 1\n",
    "    timevals.append(realtime)\n",
    "    #Update any swarm variables and temperature field in the air region\n",
    "    tempVariable.data[:] = temperatureField.evaluate(gSwarm)[:]\n",
    "    for index, coord in enumerate(linearMesh.data):\n",
    "        if coord[1] >= 1.:\n",
    "            temperatureField.data[index] = 0.   \n",
    "    # Calculate the Metrics, only on 1 of the processors:\n",
    "    if (step % metric_output == 0):\n",
    "        tempVariable.data[:] = temperatureField.evaluate(gSwarm)[:]\n",
    "        Avg_temp = avg_temp()\n",
    "        Rms = rms()\n",
    "        Max_vx_surf = max_vx_surf(velocityField, surfintswarm)\n",
    "        Gravwork = gravwork(dwint)\n",
    "        Viscdis = viscdis(vdint)\n",
    "        Viscdisair = viscdis(vdintair)\n",
    "        Viscdislith = viscdis(vdintlith)\n",
    "        etamax, etamin = visc_extr(viscosityFn2)\n",
    "        #These are the ones that need mpi4py treatment\n",
    "        Nu0loc = nusselt(temperatureField, baseintswarm, dx)\n",
    "        Nu1loc = nusselt(temperatureField, surfintswarm, dx)\n",
    "        Rmsurfloc = rms_surf(surfintswarm, dx)\n",
    "        #Setup the global output arrays\n",
    "        dTp = Nu0loc.dtype\n",
    "        Nu0glob = np.array(0, dtype=dTp)\n",
    "        dTp = Nu1loc.dtype\n",
    "        Nu1glob = np.array(0, dtype=dTp)\n",
    "        dTp = Rmsurfloc.dtype\n",
    "        Rmsurfglob = np.array(0, dtype=dTp)\n",
    "        #Do global sum\n",
    "        comm.Allreduce(Nu0loc, Nu0glob, op=MPI.SUM)\n",
    "        comm.Allreduce(Nu1loc, Nu1glob, op=MPI.SUM)\n",
    "        comm.Allreduce(Rmsurfloc, Rmsurfglob, op=MPI.SUM)\n",
    "        # output to summary text file\n",
    "        if uw.rank()==0:\n",
    "            f_o.write((13*'%-15s ' + '\\n') % (realtime, Viscdis, float(Nu0glob), float(Nu1glob), Avg_temp, \n",
    "                                              Rms,Rmsurfglob,Max_vx_surf,Gravwork, etamax, etamin, Viscdisair, Viscdislith))\n",
    "    #if step %  steps_display_info == 0:\n",
    "    # output image to file\n",
    "    if (step % files_output == 0) & (writeFiles == True):\n",
    "        ##Files to save\n",
    "        fnametemp = \"temperatureField\" + \"_\" + str(ModIt) + \"_\" + str(step) + \".hdf5\"\n",
    "        fullpath = os.path.join(outputPath + \"files/\" + fnametemp)\n",
    "        temperatureField.save(fullpath)\n",
    "        #RMS\n",
    "        fnamerms = \"rmsField\" + \"_\" + str(ModIt) + \"_\" + str(step) + \".hdf5\"\n",
    "        fullpath = os.path.join(outputPath + \"files/\" + fnamerms)\n",
    "        rmsField.save(fullpath)\n",
    "     \n",
    "    if (step % gldbs_output == 0) & (writeFiles == True):\n",
    "        #Rebuild any necessary swarm variables\n",
    "        viscVariable.data[:] = viscosityMapFn.evaluate(gSwarm)\n",
    "        #Write gldbs\n",
    "        fnamedb = \"viscFig\" + \"_\" + str(ModIt) + \"_\" + str(step) + \".gldb\"\n",
    "        fullpath = os.path.join(outputPath + \"gldbs/\" + fnamedb)\n",
    "        figEta.save_database(fullpath)\n",
    "    ################\n",
    "    #Particle update\n",
    "    ###############\n",
    "    particledepths = 1. - gSwarm.particleCoordinates.data[:,1]\n",
    "    particletemps = temperatureField.evaluate(gSwarm)[:,0]\n",
    "    conditionmap['depthcondition']['data'] = particledepths\n",
    "    conditionmap['avgtempcondition']['data'] = particletemps\n",
    "    if step % swarm_update == 0:\n",
    "        number_updated = 0\n",
    "        for particleID in range(gSwarm.particleCoordinates.data.shape[0]):\n",
    "            check = update_swarm(DG, particleID)\n",
    "            if check > -1:\n",
    "                number_updated += 1\n",
    "                #if check == 0:\n",
    "                #    print \"from \" + str(materialVariable.data[particleID]) + \" to \" + str(check)\n",
    "                materialVariable.data[particleID] = check\n",
    "            else:\n",
    "                pass\n",
    "        #Also update those integration swarms\n",
    "        rockIntVar.data[:] = 0.\n",
    "        notair = np.where(materialVariable.data != airIndex)\n",
    "        rockIntVar.data[notair] = 1.\n",
    "        airIntVar.data[:] = 0.\n",
    "        notrock = np.where(materialVariable.data == airIndex)\n",
    "        airIntVar.data[notrock] = 1.\n",
    "        lithIntVar.data[:] = 0.\n",
    "        islith = np.where((materialVariable.data == lithosphereIndex) | (materialVariable.data == crustIndex))\n",
    "        lithIntVar.data[islith] = 1.\n",
    "    #Also repopulate\n",
    "    if step % swarm_repop == 0:\n",
    "        pics.repopulate()\n",
    "        \n",
    "f_o.close()\n",
    "#checkpoint(step, checkpointPath)"
   ]
  },
  {
   "cell_type": "code",
   "execution_count": 68,
   "metadata": {
    "collapsed": false
   },
   "outputs": [],
   "source": [
    "#viscVariable = gSwarm.add_variable( dataType=\"float\", count=1 )\n",
    "#viscVariable.data[:] = viscosityMapFn.evaluate(gSwarm)\n",
    "#figEta = glucifer.Figure()\n",
    "#figEta + glucifer.objects.Points(gSwarm,viscVariable,colours='white yellow red green blue black')\n",
    "#figEta + glucifer.objects.VectorArrows(linearMesh,velocityField, arrowHeadSize=0.002,lengthScale=0.0000002)\n",
    "#figEta + glucifer.objects.Points(gSwarm,materialVariable, colours='brown white blue')\n",
    "#figEta + glucifer.objects.Points(gSwarm,rockIntVar, colours='red black')\n",
    "#figEta + glucifer.objects.Points( swarm=surfintswarm,  pointSize=2.0)\n",
    "\n",
    "#figEta + glucifer.objects.Mesh(linearMesh)\n",
    "#figEta.save_database('test_mesh_refine.gldb')\n",
    "\n",
    "\n",
    "\n",
    "\n",
    "#figEta.Points(gSwarm,materialVariable)\n",
    "#figEta.show()"
   ]
  },
  {
   "cell_type": "code",
   "execution_count": 69,
   "metadata": {
    "collapsed": true
   },
   "outputs": [],
   "source": [
    "#figEta.save_database('test.gldb')"
   ]
  },
  {
   "cell_type": "code",
   "execution_count": 70,
   "metadata": {
    "collapsed": false
   },
   "outputs": [],
   "source": [
    "tempgrad = temperatureField.gradientFn"
   ]
  },
  {
   "cell_type": "code",
   "execution_count": 283,
   "metadata": {
    "collapsed": false
   },
   "outputs": [
    {
     "data": {
      "text/html": [
       "<img src='data:image/png;base64,iVBORw0KGgoAAAANSUhEUgAAAoAAAAHgCAIAAAC6s0uzAAAgAElEQVR42uyd52MUV5runwJm7r+yO3t3ZyfPOGIbGzA5GxsbMGDAYMA2xphsjG2Uc845qyV1CxFEtj1hZ3bv37MzqO6HE+rE6upWCwvN+34ovd1d51R1dXVVn5+e87xBGIagoKCgoKCgeLqxjA4BBQUFBQUF3YApKCgoKCjoBkxBQUFBQUFBN2AKCgoKCgq6AVNQUFBQUFDQDZiCgoKCgoJuwBQUFBQUFBR0A6agoKCgoKAbMAUFBQUFBQXdgCkoKCgoKOgGTEFBQUFBQTdgCgoKCgoKCroBU1BQUFBQ0A2YgoKCgoKCgm7AFBQUFBQUdAOmoKCgoKCgoBswBQUFBQUF3YApKCgoKCgo6AZMQUFBQUFBN2AKCgoKCgq6AVNQUFBQUFDQDZiCgoKCgoJuwBQUFBQUFBR0A6agoKCgoKAbMAUFBQUFBQXdgCkoKCgoKOgGTEFBQUFBQUE3YAoKCgoKCroBU1BQUFBQ0A2YgoKCgoKCYoFjBR2CwkYQBHQQKCgolmSEYUgHgUbAdPeloKCgoEsc3YAplPiPur/+R91fC5Is9t5q//oftWby77V/BfDvOSbi4d8A/Hvt3+aZ8Ic1fwPw7zU8+b81f/u/eSXzaZtDb9V/A/B/qx3Jv1X/N4B/q/5vO/E9n19SgE6q/vvfqnhiPGTJz6r++2d5JfNpm3tv//Ozqv9JniRds/J/flbpTv618n/+VSTGw3km6sN/qfiff6lgyf/7l4r/l0dCl/fC/6AhpEA/DykoKCgSBt0yaAS8eON37T/8rv2HfJK2PwL4XdsfZWI8tJPftv0RwG+TJe7nW//421Z38pvWP/7GkfwJgFz+puVPAH7TYia/bvnTr3NJPM//+dctf+ZJ858B/LrZkfyq+c8AfqUk2sOmP/+q6c8Aftn051/6ksY//7LRnfyCL//yi8a/aEnDX37R4E7+s+Ev/+lPsq7Ak/q//Ge9kfzXz+v/C8DPlcR4OM9kXp3U/ReAn9f99ed1f2WJ8fDni4DfWMQlJsmNuOQGQtyc428A5NJIflb1t59VySTnsf6/Vv43gH+tlIl30KyMkh0JXd4LHiTCKvQBXfEkr2TO+VK+vT1ZmN60nVyxfH69LdcS+XD58jmRPMkxCWRzpZMCJPpDtpVQPBMlofWMM4lbYZm322WeTWfdnNatkvBuxTMsMR7mkIQs4Tspe2NrBDn1FrgT9SHvVjyTMGF8im0oW5Mwp/7lzue6S9G+IQDA9lByNE8i9y1QX4olc+YglrV1rknjW0LQhKApKCgoCEETgqbIJVYN3181fL8gifP514buvzaUQ/Lq0AMAcmkmgw9eHXQnrww+eMWbPATwysDDVwbMZGX/QwAr+83k5f6HL9tJ30MAYvno5b5HLHmp7xGAl9Sk9xGAl3p58mLv4xd7HwN4sefxiz1a8oJY8qT78Qvd3wF4ofu757u/A/C8nXR993yXmTzX9R0Avuz87rnO7wE81/n9Hzq/B/AHmXR8/4cOLfl9x/e/58kPv+/4QUva+TL7vyTafvhdm50k+7dCvv9o0B62/PE3Le7k1y1//DVP/P9WaOZLX/Kr5j/9KpfE87zjHxBxifjXQ5Z/SahJ418A/LLxL780/gehJGyZ0/8XfDD/P+r4UiQxnPxvDvqtk20/x46j1havjhK6vBOCXqoI+qlA4/l2MqdBY2vN5cv9TVbMMUq5YrnsRHDdFXNymZAMr1j+JGQ81tNq+TIbGs+FxprKOqy3ZctNHMqY7bLlnEkui9230NqivaEsnSxzvhSo+xCts2zOeCio8hyMZLlExFkIcPQwURMNOJvN9efnz6KdaDo3Fq0g6GW5NMm62wbfBrBsGWe5Doy8DGzH7S0uW2Y0ce4bI8+h6D+MwHLAsaa6RUmV7T2J4dXqyjTiJQRNCJqCgoKCEDQhaAp/bJvIbJvIFCQBsG0ys22SJ1snpwFsnZjeOuFNtkxMA9hiJZtTN9gya7Jp4sYmlqRubErNANiUmmHJxtTNjambLAGwIXVzgydZP35r/fgtI1k3fgvAuvFb68ZvA1g3fpslb/LlnbXjdwCsHbuzdkxL1ozdWTM2C2DN2CxLVo/NrubJ3TfG7gJ4Y/TuG6M8AfD6yL3XR+4ZyaqRewBWyWT43qphltx/jeH9YZPhvyqWXj4/8OCVAS1ZOfBgJU8erhwwgbwG4fsiCG8ksfj90Yss6eFLkUQQ/gVf0v34hW4vmc+Dz4vk++e6vjcSRuy96D5JouB9P+3/wU37nUl79I+A3+X2j4A//s6D9/3oXsHyDoTuhd4AftH4Zym/d3Fsk1or4Fqbly9htSHDVlTW0QTuhJpqCkLQizp+Gv69gMlP5/7Ofm3+ZM5c4Sf+RO2EYamf4u9yqSY/wT+M5KfhP0LPS0aiPmRbWQGOoH8S8JdWBE+M5CfBk9D10gr5vACnKwRTlcly6yUXsw19dJdTax2TqqjWprgC8yoIOvR1YguM55zrRCss94JNubeul7TmOhCOSezeQhRMBS02FGhJtl2SawZusKxLix3AVsiVk7JohScnQtDLnFs0oHFoNgk5Ig4M9B3tJOTBD8PAhsMuBK0NQf08OdQQtHhSrBNaVDmUJDQwnqEgBE0ImoKCgoIQNCFoikRxaLT30GjvPJK+Q6N9LOEPx/oAHBzrOyiSA2P9AA6M9WdN3h8beH98AMB+sRTJ4P7xQQD7xgf3mcnQ3tQQgPdSw++lhvVk5L2JEQDvToyyJUv2TIy9MzkG4J3JKHl7cgzA25Pjb0+OA9g9mdo9mQKweyr11tQEgLemJliya2oSwM701I70FIAd6fSOdBrA9nRmezoDYHsmsy2TAbA1M701Mw1gS+bGlswNAJunb2yengGweXqGJZumb7LlxsxNABszPNmQvrUhfQvA+vSt9UYydXv91G0A6yZvr5s0EwBvTtx+c+IOgDcn7rBkberO2hRLZtemZlmyZnwWwJpxnqwen10tk7G7DJgDeENi87EImxvJ66N3Xx+9B+D10Xs8ESx9lcLSVZD+2vA9H0jXVfECqrNEgerwSd8HYmD7Qw7b+x2wPYsY3sTvfhm8DuHtJMLyUeLQyb/g1Mm7+TxPbPz+vInfvzP5ucHJ23/wQW+VY6tadCkmV6n1L5v+pMJqVYZtYGpLU82tSFQptc8bxPYAMcxKKQhBL+r4P3P/m28S2C/9VD588r8Maf1UsGhnJ+ynqVznp1G3f5dL9XllzSgJE6yjUXGNkwcAfjIn6HTcOmpiPtSTf5htQ3tDcp1/AFghnl8RihWiRKBvmeAfrLcVwRNG4JYLls6SFYKsLoew+5DPCJC+PJhjH5Dy0lzELbldw5yGr5fFIOgwRCImnGuT0EGPI6juliIHCVi0Lplm8DYQzwdOAXNgYN45qe8NjJU9th4xZNiJkdVu3WuGZidBgPg3Io04Ik1yIJ8P1LYaJxeYWvSGUEPQJnnWobTWFg61s+xfUmXTskNtzml1qP6lIARNCJqCgoKCEDQhaIqE8UVv9Re91Z6k5oveGmdytrfmrJUAONtbe7a3FsDZvtrP+2oBfC6SM311Z/rqnMlnffWf9dUD+Ky//nR/AwC5ZMmnAw2fDjQC+GSg8ROeNH0y0KQmHw80fzzYDODUYMupwRaWnBxsBXByqBXAiaG2E0NtAD4aavtoqA3A8eH248PtAI4Pdxwb7gDw4XDHhzzpPDrSCeDoSNfRkS4AR0a7j4x2Azg82sOWHzAIP9Z7aKxXUHedqCsIfd/4EIB9KQ7M9wpO/m6KQ/I9HI/z5J2JsXcmxgC8PTH+9sQ4gN0Tqd0TKQBvTabempwAsGtyYtfkJICdk5M7JycB7JicYkuWbJ9Mb59MQ1Gnb53MbJ2aBrB1apolW6ZubJm8AWDz1I1NUzcAbJqa2ZSeAcCWG9M3N6YZFb/JqPiGqVsbphgMv8VgeETFp26vc+DxOwDeFEsTj0/cWTth4nEjWZOaXSMTQc4BrB6/u3r8rpaM3ZX83Egilj56743ReyyR5Jzzc0uLboN0oUWPROlOU5rXYsXqFlq/bzvMvKLCdoWorzTk6zHk3ALmEoYLabrQokcc+7sXpLDcwNea3tuh0P5t2w9SdC0Y9Z+YE/uvW0w3EoVO//kXive4avcRA6X/veavyGZhTZd3QtCLPXzAVuXJ9kv/JwK/2ktRkyd2k/8Nvb39Lxc/PzF6Eys8+bsPVnt2O9Do9JO/A/jpk/9lhC5a84mExmZvNlj+6ZO/q1Bd4uWfPvk7AkmtdVgtmjhYt9B7M9S8wgHDbRbNqfUKFUoH7Fsh6fQTtrSV21z4HQg9tkqeDRa9bE7llsqaUoocceAweoY1sfXDUvo7x5eBsYL07phTLJoBn1xZIczLl82FoXu7KiI2MaxcZ9lcoDQPgjnGPXNn0Y4kpskyN3kO4xC0QsuDWJDufklH3JrmWaf9GjCP5NCGUhqq+7SOoA3n59Bw1dAIs8DI7F8egUWbY6A0CN4RgiYETUFBQUEImhA0RT5R3PZVcdtX2ZJrxW3X1KSo7VqRlQAoav/6evvXAK5bybft33zb/g1Lvmn/BsA3UfLtN+3fAvim4/rXHdcBsOW1juvXWNJZdK2zCMBXnUVfdRYDuNpZfJUlXSVXu0oAfNlV8mVXKYAvu0qvdJUCuNJddrm7DMDl7nIAl7rLL3WXA7jYXXGxuwLAhe7KCz2VAM73VJ3vqQJwrrfqnM7hz/bWnO2rESy9DsCZfrasP9PPsLnNySMqfmqwGcDJwZaTgy0ATgy1cgw+3PbRMMfgAI5J9D3S+aGBvke6D492A/hAQu/RCHpzGfm4oR4XEvGUKRF/d2LE1oTvmZBS8HEAb0+O72ZS8KkUdPn3rvQkgF3pyZ1pLgXfaUjBp9Lbp7RkWzqzLZ0BsHUqo6LvrenprelpAFvS01vSAoZPcRi+mSczm6dmWLJpaobjcZ7cBLBx6uZGPdkwdZPh8Q2Tt9ZP3gKwPkpur5+MVY9P3n6TJyYndwFzKSw3kzV8aerMI8F5ZMxiJrbCXNGZM8+Wu1487lSY65bsrw7qYnIpEdfwta7uluJtjVdzlbXKqKW4WlqOuBTUZg3QyPVaL6Zpy6R/7qrVyBIni6bLOyHoxR4O5ulILB6ri3hloiqBjUQhtM7+A7t5tBWBebM2gSIwXmHqll1vJwjciNixIe0lFRorh4L3xnlv+A8G2X4y9w/BouW+GcfNfH7F3D84Xg7/wTSiP5l7EurPrBBbjHoLn/AVxPMSdPNdmpP4WqwTyi0+kYhb3ZkVc/9gR0m+neWyk7lozZCvw59ZrnDyUMHjkWA7FArt0NJsw3xmmXhmGaQPxhzD46Fui7E8sKh4Ejm06d7MWbSmFjZY9DKvmUbUW+CmuzY0DpZl8bJeptkvaypre5diqg0K92bLiCM6FAjhxtQKmTcQNKKtmCtEL3ETDwggLwTM8hlYwDnC13zVyH/DgHcx/iQUhKAJQVNQUFAQgiYETaFEY+OZxsYzeSWfA2ho/LxBJOLhWQD1jWfrHckXAOoav6gzk3N1jecA1Dadq206D4Ata5rO17Ck+Xx18wUA1c0XWFLVfLGq+SKAypaLlS2XAFS2XKpouQSgouVyRctlAOWtV8pbrwAoa70CoLT1y9LWLwGUtl4tab0KoKT1KmPsEUjXyPk3gpwzPP6tAOMShhcJGF4C4MvOUsbAr3SVXuni6JtD756Kiz0VAC70VJ7vqRSsu4qxbgBf9NYw9XgkGu+vixD3AEPcjRJxf8wQ9yBH3FLvfWKoFarMe6j9+FCHiriPjkTq7iMj3Qxxs+TwaM8Hoz0APlDsVjTQLWxS3h8feH98EJpBytA+ru4e2qvbobw7MfLuxAgAU+YduaCMS/T9NjM/ES4ob01OCBeUSeZ/skskDH3vTE8x9B0x8Ex6e4Yl3A5lWyazLTMNly9KlEwzm5QZwyZlc2Zmc2YGwKbMzCae3NyUuQlgkxCHb7SSDZFonFFxLhpXk/VTBh7niULF7zD1ONeQTzipeBat+OrxWUMcbjqoRBxbhdUPnJj6lYEHKyNxdaSpfrFXMQnpfgzVAMQJpdt+gFpiUvHxgGo0rdZS5IUR/+s/OYuODKX9BRD/Spd3QtCLPZYL1LlcoMjESWC/tFwBm6GnyQp/tysEKVV605inviZUpmpvWnG3eKKxVlVOrCNihQA/iQiwDm+ZLPkngu5qLDeMNicIsLEnKiePjsaKCBEL3quw4jAMjF3iR0ki6Aga6whaeV7Zk8CNiOdMesyS5WK7y1UEHejvNHzChhkSLGu7pKwcbdexuTnYOyC6DQ1wPffE3SQ6H6wm1ls2Nm28cc7AQ3vfNCquAHOhMGeIWFhERPxcZdSh9ozLMUNTccdS5TC0ewscrBiaFzRH9xKkOxXOOodXwXJEmAPFzDkUz4g9iLqNRqL6OoFVjlABzoHaRMXWEjATaiYETQiagoKCghA0IWiKXKKr9sOu2g8BdNUd66o7ljzprDsGoDNKjrOlkXTUfdRR95EnOdFRdwJAe92JdiOpPwmgrf5kW/0pAG31p0TycWv9xwBa6z9urf8EQEv9Jy0NnwBobvi0ueFTljQ1nAbQ1HBaJJ8BaGz4rLGB8/OGxjMqP3fg8aZztU2Mip/nPLz5QnXzRUa/AVQ2X6ps5sS7nBHvlitlAnGXMsTddrWEycjbrxW1X4OpCedkG8DXQv59Tcq8I3V36ZXuUgCXu8uknPtidzmACz0VlopbAG2u3K4RdijC86S//rP+ejCTE0G2P/GIt5mfycnBVoNsfzTUdnyIG5gcH5aIuxPA0eHOo8MccUsVtzAwkVruHiha7kORbXj/QYt1m2bgqYh1A9ibGubEe4L7fr8niLeKvoW3yajf+purvg3ht53sUmD4TgbDp6Z2Tk0B2DE1tWOK83AA29Pp7WmmA09vSwtBOKfi05yKR1LwG1vSNwBsztxg0HuzAr3ZUriF39qYuaUm0jY88g93uIXfeVOgbLY0vMHXjM+uEbBaYOp7b8jKmExcPXTvNcORW3hrM98P6Yb9Ym9Ua/L57sfQldK/56bT3xtVFKWzNLfsaJLqaD+L1qoccoG0TOjyTgh60SPonMkzACzzvKQ+DBPg6zCWbCtI0G6ivBQa0Ns0T17OMa9JKSPwazeZU4G24L1B4ADaQgAseamqK0ags2gFDkOHxqEkq4HGil0I+omB37XmahPrANpkWyHMDvBrva9A573qM4F5kAPozZ9oO69RazMJI/IcOAnzCgMau8mzcT7Mebv1IWh1l2STQAfLGosOACxjvUVEWlkz1JtEKm65TuRbor6k+HLY5iQOjh1aL6mS5iAIGf2K99CQrDjgcm4+mjQweKBQ5ch/Q5JjT8lCBAh0Q+cgInMGcPay6GgVsf8UhKAJQVNQUFAQgiYETREbg1X7Bqv2ARis3j9YvT8+GajeP+BN3mdLI+mvPtBffcCTHOyvPgigr/pgH0tqDvXVHGIJgN6aQ701HwDorflAJId7aw4D6Kk50lNzhCXdNUcBdNce7a49qkH12g+7ao8BYMvO2uOdtcc9DPxke91JAG11J9vqOPR2sW6GuCXfFmTbAbTPcqDd9AW4uvscgOpIzn1RomwAlVK53XJZKLe5Zjvi2EKqbXubfNPx7dcd3wJgviWRXUlXseFScqWr7HJXGVRbkp6Kiz2VUBTaDqDdK61IuFRbuHlzoB25kfQ7XLs/HmgG8HEk2GZkWyq3LY/uoXaGuI9pHt0CcQsVN1QJ90jP4ZEeFXF/YJfO1Epk9gE4MNb/vnDt9hDvQUa8VfRtyLwV6C29TTSHkz3S1ltB37tl1UsOvaOql7t02xPpeSLLX27Xy19uk+UvbaCdvrFZ2HozlC102k5YbZSwjOi0YRIizUBWDWtVI18ZfMChdL8CpXsfQamiGFlMd34XCaTbv2csGsBvRa3DX7f86deCRds1DX/hqWmoJnR5pxEwjYApKCgoaARMI2AKK0Yr3xmtfCdhMlL1zkjVHgAjVXvsRH/47kjVuwCGq94dNpP3hqveM5Khqr0Ahqr28qR6H1sOVrPRuUyiQblvqN1Xc7Cv5qBInOPpw721hwH01B7pqT2ijp67a48ao2dFTXZcjpvVQXO7phRjg+ZPxKD505b6TwE0158W4+bPmpgQrOHzxgY2c5pNkv6iXhd/1TSdr2k+D6C6+YJL9nUFQHnLFZaow2VwD1E+rblITGv+Vrp++mRfnY7hMoDLXdzR85JrWrNUgZ3r4dOa+czmPi4EO9tXe1YIwaDNb1bkYP3GROdGIQfjM55PRTOem+UAGqq151DbR0wXZo2epUDsw2Fu86n6fR7hI+kuAIdHueunMiW654OxHpg1r+Qw2ix+JUfS6jDaHk/vdVuESu2YOWEayrTpSDgmBs27pibkWNl0BpWD48z01ulpWDOepbYrfkzMLTYjK03dJjNSaUnDS9Ph8qW+Ry/1yrnC3MYymissZFnQNVlyfrBVQCkaCv+nfyhMl/eCB4mwCv2LRshMXMmcP3G3il3B+RIrhTLHBSbQ1ome19pqTQL1JWYf6Nl/+TAQkzuXCWWN2iSUTQJti8b+yybqToYwmohu8YQpxRwv6b0tUzREob5dWxC0TJnhKkRYTExkN5lzSZ8C9aXl4Zxrzqv6vDIHN9D2RJc1BQCWaesovc3NhYGxA3a3cges2bf6SzFrLrdOA0VcZn5SigjLOoX0Js49cb603LHCXJisrefstVcIrG7NdUJPb1GBI64Ls5014ZBl6TN3JZeUCi/hKhlNERYOlAiFb2VoCKjAFWG2wEoKuGJGsUTxCEETgqagoKAgBE0ImiKXmKzYPlmxPZdkB4CJih0TVqI/3DlRsVNNUhU7Uyyp3JWq3GUk45W7AIxXvjVe+RaA8crdbDlWuRvAWJS8PVb5NktGq94BMFr1Dkt0Km5CbwBDVe8NVTO+vZclg9X7FHGZANo17wMYqDnQX3MAQH8EtCNFGIDeWi/HliqwzrpjclZ0h5gVLSc6i7nOp8ClXh+DSb3qtWnNitrrDJvH3ND4uXT3jEw9+azlcwBqms/XWFIvia+F2uuKX+0lCHabhq+/VatXCY7NjDmvCWPOrzqLr3YV6xxbFKcy7DnFbOaL3RUXeioAnO+pZOIvCbTPSaDdW/NFLwPacmZzLYAzYn7zmf46IQerP22Q7f7GT/s1sv3JQNPHgybZhiIQOzHYckJYe37kcPdkc6Dbjw0bSjFJtjnfFkox4fo52m1Nhu4RArHegzriVsk2gP3jAxJom6WuJobfEyqwPZOjAPYovNouaQVgR3pqR2bKYNTMlXNTRsi1FDodA6UBrB6bfWNMlGwS4ixZfOmVQZtFC1mW7lspNVl2AaU8WDRbUhCCJgTtwMs+ipsAQTM8xUupBxad9u2tnIUZxAA6OVNToZShwck5xHsSeyi0PcmKqZc7YLiNiE0orcJVPqmXwc+5ORsROwhtaBs0Bk4EbeyAPU93mbrFMHDCYQO2L/fsvPYG5/i/FSTHNt77cv+5ujyMs7p07uRy6wjovQXZtxgGyXpTEbSfPAfq+SbmB7s5tk2eAw6WwzAOQYdzDINJBK2aU/JCSQ4oLRGa7UwZqlBaTvbVqyHJucKBzpz16cUR0JazlolFE4ImBE1BQUFBCJoQNMU8Y7ps43TZxmzJpumyTc4kU7Ypw5JyvhTJ5kz5ZivZAiBdviVtJVPlWwFMlW8VyTa2ZMlkuQOG29CbI+6KXakKibgZ0OZYe9wC2qOVb0OTeTtV3Ixgc4W2mDa9T9Fj85nQUo8tpjUfFALsaB5zT40JrgF0R3OXj3UK9bVJraPJyqdaI3At5ihzuTWfqcxF142fiepVUdEqga/NOcqq7lqWnAJQ2XKpsuWyia8N9bUoMFXc9lVUYEp33xTVpSS+ltWlrpvTl6MCUyVfSj9OOY+ZS7K5MPuiBNpcmM2Btmtac5WY2VwtgHatCrQ/76vlUm2nc2d/A0s+NTXbTYpmWwPap8wZz9zU80QEtNuEZjsC2h+aQLtLxddq0aoPInwtqPU4p9b7TUyt1aR6Z4LPSN49lXprKgVgl6Kg3s6hNC8VJU0xN2ZubrSU0iqRXq3MGH59lBVZuseKLL06FM+iuS4awB86v2Nelb9r/0Gy6GhmsGTRTdlZNF3eCUEv+kGwxD5xyVxswlhWKJcq5lUSztBcnYRB9FIgX9LWDM3eRJNoJwOjW7nFcI4vuYmg9MmbC6LNBSoitt/gMuEsyFh6EPKa7fp2A+3tiHVk22jlUDMyVDsJdGqt7yR75gkjfMo70npT0bok2xaljABppNE1Fb9z0DTDpnZ3mVNK7UkiBB16mkQce87YN+2/CQrm1chq6G/i0R5LxG1jXnjf8pxfBa2hYI9c2eg2ZNrgJLplm1GH+nfBgaA93aormAnmGPhdBoVj8xMPiOBwRH0VdbRCg0N3+SYHi4bQRWcjybamOoZFE90jBE0ImoKCgoIQNCFoClfcLH3zZumb80vWAbhZtg7ATNm6GW+yfqZsvTO5UbbhRtkGANNlGyT9tmD4JgDTbsS9BUAmAtpb04Jjc4JdsQ0uLfekpdlW8bUA11yYPVa5e4zz6rfhUV8bTiNDVarcep+PVwPorznYX6OZcUbUuvawpbKO3EI6TbcQbhVia63bImdN7hbC5db1nyomIZ8BaBJy60ZBrblbSNMX9U3cLUSKrkWpqPOSWleJmlFV3GXzUmULF2A78XWpwNclrVdLWrkM2zDdVJXYehUpJ8cWemwDaHdxoC2F2Ze7yi538QJTAC51V1zsrgBwUSSq08j53ioA53urGcc+J5JIod0rLUd0hXZf/Wd90nukAcDpgagUlfQeYZYjHw82Cc/O5lOK5cjJIaUm1XAbuAxb9+kc6eSOIiOR3JqprKVtCNNU7xsf3DcunEAEmo6E05MpsIca0JsAACAASURBVHJPaa6U5lB6+gbz8VDtO1QiraqjOYses1i0rYvufcRLJwlRNKub9PuO73/fwcsl/VZYc5gulbEsmi7vhKCXBoKOT0IXgrYShdDKtmFs/76tuF+CvSGVRTPqG6hNRPlwd5PAscWo0HrUm8rYg9BJzm3RqcHhbWIvAWAQcgQdUUTlLQcKY5eAMQjnOIXTutUZu1gnQo6qyYnSXKeUFh0NTLcQsbIb5y73IFaria0fdnhNOJuEDuga+HmyCmb9Qnrlo0SybjX8G7ibuN67+Y6WiW9WYG03OtScY4chP0U5kA/CMAgc2ullEGtaeumoSXRizHFWrFJlHUGHYeBm0QCMb3eAQLRVObZ6SUK0gt5E1j5SKx8RxSMETQiagoKCghA0IWiKHOJOyeo7JasLkgC4XbLmdskad1K65nbpGgC3StfeKl3rTBSyvY4tWTJTum6GJ+tnSg2OvWGmbIPKsW9YKu5MJNjWhNmKDHurIsNmuuttk1KAXW7orpnBiIDVFbtSFTas9qisKyOVtW4SIkywreJUjrpSise1wqt5kSi27K49ImD1UQ1W1x7jJaFqj5u8uu5km1BZS3sQuLXWp5vrTwNojqj1Z5xaN5zhHtcNZxsauFsIs7nmZteN5+oaGb4+z/F104XqpgsAqpsuVjdxfC2KRF2qEALsckGwy1q+ZASb4etSjq+/kvg6kmEzjt329fU2m2ObjiJQ/bE7ipjBSMSxu0qEUXapNMpm1iKywNTlLukxwjn2BcaxuxWO7dBjVwM46yg5JZTYfT7HbK6+lnYiJ4daJKY+PtwGxQc7otOj3WAVosZ6ARwY58Lp/eOD+1KDDEq/m9KgtDSd3pmeYhbTWzPT3FOaq6NvbcxkY9EOjw5ZOunRy32PAEgQ/Xz3YwDPdanlkgSLbv0jgN+0/Ok3LX8C8GthzfGrZo6gJYtmSwpC0Iv9B2IBkyBmhWjavQMjGyxaIuIY9B3q/SttpWzYBNocnDn2xKTTcbCd02N1K6EHttuJ9MG19d4GAzeJvQKlQ1EI3dyi0FRLg1/RBKpoXLyL0FRxBwY5F71B16hHom4Jq8XRUKSzJlxlb015XoXtMJqEtulEoL2jCPPqOvDlriZmt+rhUsCyISZHvD8GzH8WLEMkIzcPRai3lZxZ/+BUwqweUvgUzjrZjuTQFj1eJoaBDGhrKxjiZyHMjs5V9d9Jch5BKFg0/2YF8Swahkba/Jrrjh8xdFmH3pJOg2TPhKAJQVNQUFAQgiYETZEoZotXzRavKkgCYLbk9dmS19XkTsnrd3jyxp2SNzzJ6tucYMvExNcuau3WYzt4del6ADdK198ojYHVuq9I2eZ02WYA6TLVNoRjahgmIYxRl2+fLJfeINwHW8HUuwCMV7w1XmFiamiVH/eMVO4BMFIpnUDei7ysJaaudmPqAcaoqw/2m04gh0wnkJojjFd31x4xLKxVMxBwSxAGqz/qMC1BolKMrQ5T608BtNR/Kng101qfltQ68rjmcuuzTG7doFDrukZDdx2Ba46vI/X1JbhcryuE7rq85UqZJcDmBLuNLTm+Lm67Juo5XnPIsDu+AfBNh1XYUQHXGr7uLPlSyLCv6P7Yl7vLLlmlHhUjkSoA0hb7nITVQmtt+GCf7m/4dKABiuu1rN54YqhVelmDCadHOgEcifTSvYeYm8d4P1dKp4b28lKJo3t0Z+md6ckd6SkAzEd6y/QNVtxwYyaqaah4dPAKhqvHeO3C10fuA3ht6P6rgw8AvDLwQFpzAHix59ELPaZHNJdDK9YckkUrNtGaLvpXhKAJQT8Dg+CCJhJSufqP4UtSjQwngkYIBbrKMmUGhuXITFkntPYkNPB44GhrvBSaRrUR0NbwL1QWHcRwbFi82ikRjxCxg4FLIw6pxA4CZd9Ud5QQuguKz65E4dWCrnNNteJnoku4Fems0iSwYX4k1ZYcWB4BCT9dLiuWAlwnwJL6RtpguFwvdAMWF8UN42G4ZPgeObQDXOtY3nhfocWTQ8mTjf8aGKp7W+GsnktBhJFhkGcFvyse0dHBd81fCIz/VihQOnB/KVzYWPffENrmyDga0P6lEqmgI9sNyFKGoXHFUSXTESelCzshaELQFBQUFISgCUFTeOJe8av3il8tSALgbvFrd4tfA3C35LW7JVoyW7JqtmSVlfh4tU2tVwO4U7r6dulqALejhIurb5euuWWqrN+UmFqF1RGj9luC3FAsQSJD7HLV9Xpz2pRSc0ataKq3TZkW1jsmTesPrUTjeOVbimG1KLzotf6wMTWrt7hviDNqp2G1Yf0RaaplvUWhqc5Sb1GB1ceEEwjn1e2KuJrz6sgSRIPVisr60xbdy7q54XSzzqsjk5CGz9myoeFzQa3PatTaJbeu4XLrC1JuzW1DWkzPEANfl7VeEbprh3+IobsuEtT6uiG67nD6YHNq/ZUlt5ZuIQAuCYn1pe5yaRLCzK6lpvpsb83ZvhqVTn/WXy+10xxKDzQDODko9NLDbceHGZTuPMpl0txr+uBYHxdIpwb3pYYAvDsxwsodqiwawLZMemtmGsDmae4arVYwfHPiDoC1qVlWu/CNsbtvjHI59KphKYd+AECC6BeZR3Q3r1f4XNd3z3E59A+SRYtKhS6baMGi6fJOCPoZ+IFoJfMB2qEJgUIoaCtQXwpCExaZQNsCzgjDwOxE4DAJv0Nz24FjJzXshtABWBTULAhzqLw1YYwA7fe19PcwmsidNAWl0u4jtAGgAcP96xgEW18hVPdW+YBcmDoILXqsbtev7naxbkPXvSz0G5iY5Nx283a7rATRwYkcTgJzuxZYjmwoNOty+VDRFcs6kqpRBnTCrJT80wsIRlsxjTiil7jkOHS4kcv+oRXTlORZ8vkIL4cRnQY0qxZh1gGPYU50rsojaQLnZeA7Zwik5Rc5QIhA0zPDEj8H0P5pZKyjfWGD+GuSBaWNzdGlnRA0IWgKCgoKQtCEoCkccb945f3ilXryyv3iV/JI2DKGUXM6LTF1xKtX3S1ZxRJJp52MWoHVFp0WliC3VU21oNM6ml5rOVrbjh8mplbpNHSXj8joQ/epjq+3KHyqNXvqOAW1w+hDxdTvMEwdz6iHhT21gqn3K5j6fdg+1dUH+zw+1T2Rppon3bWqB8iHglcfY7waim21Wm9RodYnGbWW4uo2h7iau4Ko1LpFOFpHpRhVlbWg1g263Lq+8QvNJMTSWtc2nY/k1k262XXLxUoPuC5vvcKWZZbWuqTN4xaiqKwZpv5GYmpubR3VajQ01ZdFiUZpYS0dP77orY6gdD+H0oJINzIizUw8pEz6mBRIj3Yfzsaid0+OA9g1FYmiGYveND3DzKJVa443J2YBrBkXcujRe6tMOfRDAC/3Rb4chjv0Hzq/tyoVelk0W1IQgl4CUDpMTnQCPzbyvqRopwPvzphdKXrrMObXr7OJtScR6w79O68qvCPzAbVFaPQW+t+7hcE5hgUccmuHr4i+chg4/xHgcCkJha2ubX5iC7xDo0lM//6dNIB2JBoPYtYMfTJyHbZr7ytrk0g/HJFnVT3ucMyOEG7gcL3QKK4iOZ6DXiXQ8se2XNAVgXRgeDIb6nGNKmtAWHEpESpoKVPXxfyazYslbA585NnaovwEg1D78kaJJX6GwNTRF8bjBY1Afl1DeYLLUoM0rCUETQiagoKCghA0IWiKvOJB0csPil72JCsfFK3UkuKVD4rNRBLshLA6Rkqt0mkfmhbJ6xaddvh7aD7Vil7a5UrthtIRnVYk02x5Q/eg1vTSrHiipNMuKC0l0yqRnirfJq2nFSitCafd/h68eKKGpkdtM2pBp4cVM+qITnOjj71DzI/adKVWGTWj0wf6qk0pdQymBvOprvFWV+yKDKuP+TE1F1dDswQ51VbHqPXHLgtrzqub/SprAE2NZxobWR3GM0opRoNan41MrQ1vkObzNc0XALBldfPFaj+sNsTVZa1flgozkBLLDERl1KoByLVOXoGROX582VUifaovC1fqiz0VAM73Vp7rrQJgyKRP99cL7w5eBvHkUOsJZtmhsGhDF70vNbg3NQRgzwQD0am3JrlZ9PYMN4venLkBYGPmpmHNsTZ1R8qhXxdyaFapkJcpHHj4cv8jAC/1PX6xV7pDfwfNHdqUQ/+2jSNoyaLZkoJGwDQCpqCgoKARMI2AKXIYAbuSYvdQOA8lV/xQmA+IxQj4brY5xPH6LOiarJih8E3/UNgYAec0FJ42h8Kb5VCYjYPTejmmqfJtUxXboM0h5mPiSWtMLIfCymRiW64lCzRxuZYQasXMKtYqNQ1WSwtMnthj4oGaA/01xjxjOSY2RsYfiHnGh3tqfROOj0YTjutMDReAzrqPOk2bTDFErj/Zbs48PqUMjlnySasq6Wr4tKVBGyIr848/a2o4A6Cp4UxTJOmSxplnAdQ3fVHfxMVcbFnbdA5ATdP5mmY2RObGmdVCyeUUcDENV1nrl6LQk2aTKd0xVVNMKdf6qrMIymTiK12lfBpxd7kcCoNXYdLEWacHGliRpY8Hm09x98q2j9gU4RE+RfiD0R5mV/n++MD+cV46CcA7E2NvCzXWTkONlZFqrFtGoaTVY3ffGL0LYNXIPTYCfnWIj4BXDvAJwS/1PQbwQk80An7OYU7JR8CGGotGwAsRJML68X9PugfTeYy/YRlXZtucLpJK8sM2TLbzMfosDb/4mvu3HvgOVwh7ArH+fGgfJWNms6X20pu4diw0zEEV+0C7OJX27lxmos450EYnPgtP2M6g8GxREYLNhdre+puEcaWu3KW0PPOqvU1C/S3rs4qlSmuZOsVWTi/WixRFiifrGVNyZZU80vxNA31P3FPDI1dOhwjLVlppz4SOfXMYrEodlUiMswqRxiqInnSbViJLpSP9EkH6LELQhKApKCgoCEETgqaIi4dFLz0sesmX5ESnnYw6CZTObmyZC4t2ll2CZ35wfiwaHj9Lg0XfKNt4w8eiFX0W3CqtrYqxpYDS5V4oLR0uETuHeLxyNxNqjStziK2KTBGdVtH0SNW7Qq4VOV/KAk1sVvFQ9b4hMavYqtTE5xaz6cV90fRir4CrV5tnLGs3cUyNeHfM2mOdtcdVai2VXB11H7XrvLpNFneqs+cff8JgtZxwbPhlqphaTDjmjFrxy+SwWs4/FgKuc8Im83xN03kA1c0XuHSrOaLTBppmuq2StqusiFNx+zVhfumE0tzh8ks+aZiLsy70VAI4L20sXSyaVVL6aIjbVR4d6Toy0g3g0GjvwbE+ABJEvzsxAmZROcksKqe2p1mhpJlN04Y55R1mTrkmNbt6/C6AN0bvvT5yD4CUYq0ceADg5f6HvD5S72NeH6k7QtBSjcUmBKtqLJ4QgiYE/cwPkfPwpwxz5rGxcCnI1u1ieu/+rsJ5vHezrFMoJqVa/A0OeGvsgD012TVrOQzhQMQxTVSg7pxMDAcrDo3ddnRrAu3oQCZtAqt0j5+Th/7D6N0TdwUtvTd75q4DBZsUV5t+rXlGGjtg20la6xhepE68vMxi0UEci442bU8Hl+XLEIbc2DJQPjLz7DWvDIZ7pf2SwplDifECowgS0b2FuCoSTyjk0SQETUFBsaSDbhkFDELQBY54BO1L4hB07izaj6Bd7pX5ImjNqzIBgmbJ/BB0xKJjdNFQEHROLFpJIigNV80lG0qnKpxQ2pxGDB1N88nElXtGKjmdFpOJTTo9rNJp16xip/OlNL/sr85Kp41JxkcYo+6pPWLR6aNdFqY2Jhx31B5ny45IU23XdDoFPuHYlFK3RBOOOaYG0Fx/urn+tEjsmk5ynrEmpa5r/MIo4sSE01W2cLr1sqmXdiml2aThax1CIN3J1NFlTB19sbviomDRX/RWQ9FFRwWUBltODLYCOD7Ufmy4A8CRkcilEsD+cW5RuWdi9J3JMQBvTU1IOfSWzA0AmzI3N2b0CcETd9akZH2kuwBWDd8D8OrQfWVCsKyPxBB0vBxaJG0/AGBLisIGIehn6ZdndrBcyG6fjYOCwrFodZ1AM6NM5IUpmpgEVT5palwjaau3ibK3YWDiXMDrfGkBbc67ojI7Tl23S/wcVXcPPevoLwUOMOtC0EDoe8kpF/dsTm8SAtkIM7eiFPJvN3nWm7ihdGh8svyNh1GRJb2JxaLlJxPYn2m0FfHph25HVShlkYzzSvlm2Gha1j7yzERQxc/E9RYOmhJPKOTRJARNQUGxxAcCdMsoWBCCLnDkh6CdLBpONO0yrTRYdG4Iuvg1zA9B3/kREPQGgaBNFm14VaqJYlrpN+uwEmgy6R2Kdwdn0aZ3R8Wu8UpDKR35eEA38cjqcDlStUeB0obVpS6crt4rhdODel2mAYtOD9QcGDD9PTSXj76aQ30CTXNGXXu4t9Yw+jjMjD56FCm1xNQwGDX3/Tjmqt2UxfFDLG1TTKmglrWbIijdpGunVck0TFsP081DKqVl/SUmkC5q4wJphUVfB3C1szhi0aySUg/XRZ8TBZTO9NWx0kmfDDR9PNAM4MQgr5j04bC05ugFcGCs//3xAQB7FTn0W1MTALan09syGQCbMzObMjehyKEVR45ZhqClFvrVofsAVg48EI4cXA79gqs+km1OKVk0Xd4LHoSgFwKKGsmiHrPn2kAuY96nLVHOLlpOtCdBUigWhgk6NIlcsg83pgAUItLrshkJogJNOhlWVgiNmk4RAYZzu4GKl4X9BbdkCG03ErH/io9EqOyz/v8IvT6SVXMesVs0vwth1p2M2ZBsIt+ETsXVbgPj2EYqaxVcJ5E66+sEcCFoR8GrUCPb2YpfOWpeBcrnEDjE8EwFbU8EUAXS7m8Yx+MuvBzoZ6DdimJBLsDEEwp6OyMETUFBsaRHGHTLKFwQgi5wPCx68WHRi1aSD4vGU0DQORtx6F7QHhW0Czi/mcWIQyHPWY04FBW0B0FbdZNcCJonU+Vbp/wsGm7LjhgWvTMVJaZ9BziR5jLpcQ+Utt08VCgtfTygoekYW4+9hum0UzsNTTh9gKFplVG7MHVcpaZuC013WwrqTtXoo85t9GG7fHCjD8uMWlZqUqD0acN9mhPphohIK1CamXhckErpyuZLAMpbrrBqS6WtV1mRpWKFRQP4uuNbyaK/7CoBcLm77FJ3OYALPZXnRd2kz/tqAZzuN22iPxqWcuguAIdGew+M9QPYNz60NzUMYI9wh96ZntyeFvWRpmcAbMzcYvWR1k3e5o4c47Orx7gjB/TiSK8MPITmyPFIOnI83yXk0J3fw8Oi6fJe8CAE/ZR+NT5Dw/j5NEnmjxEs2J48zQ80Cb4Oc38+8KEqS9TKj5HPzVsDjWHo25Bqc6HJcUPTHdr2HjFeyq6ptui0Z4sBLLWzYyuK0th4ST1cgcvJRGXIptmFooG3Nx3aLFox4rY1z3BKwU2Fe6gqmQOH1DkUrteRP4ZDwx84vjdBILXWgoar1hyWphqBVxdNUfirLfGEQh5NOkkpKCiW9mCCbhmFC0LQBQ4Pgs6ZRRcKQUvmjCzi56gK4R2/+FkyZ+ia51u5k+eZMnc5Qqftxg0TOG9M6AWdWAWdK4KOWLQoZZiIRcOljradpW0W7bKYdlc/1N08jHqIEZRmbh5D1dx0WmHUXuvpiE5Xuyskqgl0l4/eyIP6MIDuGgedjrGhBtBZa3tQq7YezH36lHSftiokRlAaOpFubOQyaVsgnYRFA7je/rVg0devdRQB+LKz5EpXKVjhwu4KAOcUa44YOTSAw6M9h0Z7Abw/PrBvfAjAuxMjeyakI8ckWIHCaVag8ObGtHTkuAPdkQPA6yP3VonqhC5HjkcAXug25dDPdX33B5NFf0+Xd7oBP/M/H5+JkXyOzwP5kOcCwupF8oEmYtFBggFEXA1Hr/w89B81xQ/Z09xlAGI2CTzFKPVutV01Nqd2pfhjh55WoVmfUVglB1atRt/eqjUT1SNvQ2MoAmkJloU5s8MMxEDQcoVA35xSuBB25UpLGA8ohReDUO4SlHch9j9yAsla0jTMcn4q/92IdjKgke7CX2qJJxTyaBKCpqCgWNpjCLpl0Ah40UY2BJ2URS8wgl51t9iteZ4ted0mz5HhBkfQyd02HJrnmVJT7SweJiHPMeUIOWqGG0FvWRgEvV1B0JpftI6guVkH3DUN82TR8MqkbWdp08RjyPLxgGbiYSf7B3xQuuZAf41MVFsPUzjdW3OoV/f36KmRth5HFFsPE0rDEE5zWw8HlO4woHT9SaUSIldKA2ixvDsaG85IFt0gfKQNsw6NRbdeARCJotuuQTeLvtpZDOBKVymzib7QU3m+xy2HPjXYcnKoFcDx4Q4AR0e6Do8wa+h4R45pKI4c0hQ6cuQYnwXwxuhd7sgxdP9VjqAfrBQI+qXeRwBejBw5HkdyaJYIBM2WFIUNUkEvBnSZ/5A7Z05r+MZqtegY1vJ6aIT6BkNr01nacsJlSqZDx3aNVhEVC/U9Ca1Ca6G53cA63N5n7CPJ+g8dYCOxJUg8fcqGTGIKL9pFFeUxko4VgbmvkbdFYCqK+egm0HtT5NJWE6iAVGxasbkIQqN35cRRdynUHDngV1Mr+Fc28bheR5Ym0S6xo62cGZp3h2rjrGyI73YYmmrnMIwsUxRLjYgM23g8q5m2sBNx6bFNRw61/GQoiHGQ8KoRWmeXUZdQVdcT1ltAaEo8oZBHkxA0BQXF0h460C2jcEEIusCRGEGzZJ4IWqtCmAhBl6yC5r8RZ/hsGW5Esmdo5NmreY4cni3yrKqd4SbPm7xS57LNMWUH4XLbUKsQWuR5m88L2gbOLiOOPBF0NhZtmHU4WDRbGiw63rsjxr4DpkxaS5xQ2lZK+2w9+vxuHgaU7q05zCXTCpSG6eZhQelaG0p77TvgNpQ+rRQ35AJpzqKbJIu+wFm0KGLIQXTr1RJWuLDt6+uRHFqz5rjUXX6xR8ihLXfoU4PNAE4Ma9bQh0Z7DwpHjvdSwwDemRzbPZkCsDM9tT2TBrAlc2NTZgaaKfRthqDXRAiaVSe8/9rQfQCvCAT9ct/Dl/oeAnix99GLPY/B5dDfAXi+S1hzdH7PrDmeIwRNN2CKLD9OC4mLgty3EmheAt7egphuw/zpfPBUmvx4n633PYQ+uuVrHnh6jlFfu14xawvGozarrc9Qwt1tTC1IF4IG4PHQDo0NKbbburhavigFzIqHhqm1Vli0VDjrnUQvAaHpCm7+K8h8F6H1Rpyid9Nnw/cRBkHMF0A/tqSFXlBoSjyhkEeTEDQFBcXS/pVPtwwaAS/aeFT04qOiF9WksAj6viZ+dpNn23BDLmdN52cHgr5tkGfNcIOrnWECZ65wjjF2tshzZOwMReGscOZNmfLktQWjBIkVzjHaZpnARZ4nkvpvFBBBO/yijYfJWLTXvgO6TFrRS7uh9FBVHJSGC01rXtPVhtd0HJRmy54aTqRjobRXIC1dO8AsO7Kx6MaGM7KUoeEXXd18QdYuhFK4sLjtK0MO/ZUqh+4WcmjuDl17pq8OwKcDjR8PNAE4MdQK4Nhwx4cjnVAcOfaPD+xLDQHYMznKTKF3pSd3ZKYAbM1Mb8ncALAxc9M2hYaGoO8xBP3q4INXBh4AWNn/8OW+hwBe6hWOHEIO/UI3l0NHLLrrO7q80wiYRsAUFBQUNAKmETBFghFw7FD4KY+AncaThvZKqXHkne/rcZcsXW/N8d1gze7dYE/qRXal1RYAmfItmWzSKrn0jXf1ZHuyEXCM5Orpj4B3+0bAlldlbkNh8KnD7zmHwon1WdzJEsCAa+pwsrJLctIwt7SE4WepTx1WZgwfjWwsPXOFTfdKxbSyRZpW1ut2lY2fy9JJdY2aSyUbAVe0XGYWlSWtV4vbvoJiTnmt4/pXnUXqCPhiT8WFnkoAX/TWfN5XB+B0f8MnA00ATg62ADg+3H5spAPA4dHuD4Qn5f7xQQDvToy+MzkGYNfUxM70FIBtmYxvBLw2NQtg9djdN0b5CJh7Ug6KCcH9lidlD6+PpJpTyqEwXd4LHjQP+BkYVkfLPH6uKjNZQ4dFoT0rV+qonLoQ+QzfObEVGGuF6pRIzxY9DnhRYk3qtXtzJ2YpHKX/qGK7a3avcxpx6Nj5wL9vgT9xfCiFP1/8U4cTNncebK8hJa/8I6fYGlO13U2MIZVYagWmXM31evVRk0h7JVVSgTm9WJmqqzzUJt3CLoIEfR0Y5pGGuCxQD0Bgns6h9Q3023wm+nLb1wmRhM4LCZ/jq8w7DqzLjDm+DZ6pWm7P3NWdeEJB75WEoCkoKJZy0C2jgEEIusARg6Af5YegxazfBx7jyfvFr8hZvzaClqor6OR5VifPt1XyXOomz6rqCgZ5TqC0mvaKreZpHmnO5UVigVUSwozcObMPNcul34GyAAg6bxaNZCWV4vRZorbSkEecNVi9P1aWpSXqpGFofpbSxvKDHqPIUi0vsqSw6A9lSaXOWs6ioWuy2rKz6DOMRUculYoaC0Bly6WKlssAylq/LG29CqCo7dr19q8BfNPx7ded1wFc7eL1kS52cwR9rrf6i94aAJ/115/uZ56UzQA+Gmo7NtwB4MhI9wejPQAOjPUzBP1eVBYpFZVFykwD2DR9c2OGlUW6xTwpuSHl2F2jLJL0pNQnBD8CmxDc+xhMjdXzGMDz3d89300Imm7AFF4OlUeRophZuUGCnnOeIhwqU4TDLD6OAUx87ZxVHD/hOEgyWdmYeRy6+ol/vwkPy7N0NuXyZnz1kWK79dU+SrRX1uF2z29WXwrsf1AA2j8lohdDz3uXNp/qZOJ4v0zFPNKw+bTeclTsyHyjoTnHNyqLlP0DElRZ6SQIHd9y/NOc3YsQmhJPKOTRJARNQUGxtH/x0y2DRsCLNh4VvbDACDoBeS6JLCclfAZwx6V55n6TpauVyb5e8ix9JRE7x1evX6SLnCPPyM36zF0VOBuekQ4BjajgFAAAIABJREFU82SFlzDDO2HX7Rk5kbtuOSaJB8uIrX2kJmP+6b+5zgPOBUHvKQyL9sqkIxZtJI4iSxJKC5m0j0VLgXRvMhYNoKPuuMGipVdlNpfKz6HLocGqJOkTgkvavio2JgR3Fl3tLAFwubvsYncFgPO9VQxBq56UAE4Mth0fagdwdKTryEg3gINjfe+PaWWRdk+ldqUnAGzPpA0ErXhS8tnAqxmCHr27ipVFGr7/KvOkHHywcuABgJf71AnBjwG82MsRtGTRTBRNQTfgZ4nj/VhD8QTkKJh3E/UNZ28Sxm0xYRP1+Oa8k4v201rsXCfROmEBD7bXXDOuuUaPs7HoiPra2Fm1k/RtWmJk5R8hvOZSkJWKR4WYTE21eZQUYByp06UCPMz5HA8SfMZBFj9LioJ+uYgnFPJo0jlLQUGxtIcXdMugEfCijUdFLzwqegEeFv10ELTiNLlKyp5hImiTPN9OQJ5nyjh8BnCjbP0NP3nmCudy007SWacIPmFzRRYl84RXt5wEL+/k9LhyV6qS0eNd41aC7HLlLAJmVckMU89sCptzSpAMOM8TQbsKKGVn0XB6dwiZdK4sGopTx/xZNJgo2jLoENYcJ4VL5SeSRTc3aNYcDQ2RHBqKM2VFy2Umh5b1kSJHjs6irzyelJ/31Z7p556UAE4Otn40xMsiMQR9aKz3wFg/gL0pXhbp7cnxt6ZSAHak09syGXAEfRMqgp68A2BNanZ15EnJEfRrAkEbnpQv9z18qZfJoR9zFt0TsWi6vNMN+Bn7sfgM8cVYAbOPR+bRxNc8RthsN4nXRavCZrvbwNY2hwnWSXAkc22S5BA9axBofpA5brUwWdWmBCxaXTPwF1DS1g89O2aXS/LtYRg6hNOh80sV+jxMAsc6od0q4dmmff0C75EnrLeA3xfiCYU8moSgKSgolvaogm4ZNAJetKEjaDeL1k2hFxRBv64jaMvwOZY835Tk2TTc0OydVVfnqJCRbq9hi5xV1AzVOqN8+ySzaC6PjDJiBMyWRUYSufJbAFIVb7EkmW7ZTZVzSgpFnhcNgo4zjkasfXSuLBq6KDo5i9Y9OphfdEzdJLc1hyKH/kwUSorcoQHUNp2vacriyPF1ZApdYphCn+2t+byvFgJBnxpsOTHUBuDYcMfRkS4AH4z1HhzrA7AvNcgQ9DuTY7unUgB2pqe2ZzIANk/PbHIh6LWpWV4WaezuG6P3YJRFYqbQAw+lI8fLfY8AvNT7iLPonscv9nAWTZd3ugE/q78a/cAxfCqb95k5J3Tb0KiVps10PG+sbwK20POSa0+C5AcozN0u48f2ICBeklw+rQ3BkjUPnd+1nLYYmFvJsmnl5HYIjwOPfN8GzjE76bPI1pJAfacmY4dqHJ2d6tF4dyHPf+IJhTyahKApKCiW9mCCbhk0Al604UHQObNoiaDv524BrYqfpeyZLY1Sg1k0z6bhRuTwDMVbY7psk2HjnMRVw1f0PsYxwyFgdvlgIKlc2WmzbCbI5oaRKzTOybQ5PkH+xQd/bASdI4uG0z46EYs+rPhF89qFALprP4wKF9aacmiOoOtOtdVxObThyNHYcKax8XMAljW06chR3HatSJhCX+u4DuDLTmEKrdUlrAVwur8BwMeDzSeHWsERdCeAD8Z6GILenxrcmxoGsGdy7O2pcQA705M7MmkAW6ZvbM7MANiQuble1CUEsDZ1Z804M4WeZXUJXx+5t2r4HjRT6IcrBx4CeLmfI+iX+x6ZLLqXEDTdgJ/9n4+F62g+bhsxXMnbrc/+IkzmtpEAEQcJnklIznLd0EI0yfVDXEIoKJ/zfIFYdJhwb122G47+A8slw4KKduceH4ww+zlnVrsME3whc/uoQnOngwJ+phRZDz/xhAIeTULQFBQUS3sMQbcMGgEv2nicBUGzpAAI2mUBvequ6b8RyZ7Z8nYpFz/7NM83FbcNX21BTp7LveQ5plygSp6tkn8cOHsL/DmMMty65XiqbPPkUY6CHYn+ME9WzJMqvjSSXFmxBxrnl0SoGS7ynB+CjvGI9iPoOL9o6KLoPFi0lEP31HIQHSOHVtyhGYIW7tANkSNHo3DkAFDXeK7WcuQoa70CoKTtqyJmCt3xzdcd1wFc7Sy+0lUC4FJ3uUTQZ/tqAXzGEPRA86nBFgDHh9s/HO4A8MFoz6GxXgD7xwf3pYYA7JkYe3tyHMCu9OSOzBSArdPTmzM3AGzM3NyQFUFbptBSDv0yl0MLBN336CXBounyTjfgZ4K/LeZdyFnzrCY+2pxHScTQ46ShcDWnTDqLEUeYvXBhkm4DqxxhAT5VUf0wMJIl/V0oGIuO6yoBi7afT7ZvWdTIgbOUpf6dUXqyWHQoOgldO6Zqqs01lXXCBbjykPj56XxBiCcU8mgSgqagoFjSQbcMGgEv3nhc9MLjoheQhUXnh6C5+NmFoGXxQS5+tp03ANwuibHdWHfTctuwyTMvKViWlTyrBQSFq0a57arBPTSgkWcpbH5LOmaMV2QVMC+o0njPaOWe+ScFgsbPEoKWoug4Fl29D9lYNDwGHT4W3aewaMWag7NoAD2KL0ckh67zyKEtR44mxZEDQH3jFzaCLm+5AqCk9Wpx21cAvm3/5mtel7D4S4GgWV3Cc73VZ3trAMiihKcGmwF8NNR+bLgDwOHR7g9GewC8Pz6wb3wQwLsTo+9MjgHYNTWxM80R9BYdQcuihGtTHEHzuoQjpim04sjxIJJD9z+EiqD7CEEXPlbQIVhI/rYAPz/9HYdx5QKzdRuIbgNHk6hn3WA39MFqCeaiCf+B1W2gwrsQ1g5YCSKKm+Uwh87D5XIHdu6tkYT+XcopiduD/JN82oYeda3f2SG+2/kOqfynbZBzVxGFSmg3Ha0XhFwOLY9P4NkldZ3kx8L2fM7jfxB5f8mDgB9pmdjdBlY3QfSWKRbgHkE8oZBHkxA0BQXFkg66ZRQwCEEXOFQE/XgBEPS9yH9DiJ8FgnaR58h5A8CtEi5+vlW6VhE/vwlgpmydRZ432ORZyp4RS54VqfOOyYod4OTZNG2WHhrQnTR8DsyxAuYs9hQjlfPEvFkIbcKkIJ3MvzcnT4aXM3uLDxYGQety6KEIQUcsGrEIWi1cyJK+moN9nEUf6rXk0AB6aniZwu7ao92WHLqDs+gTXA5df0oWKOSOHPWRIweA+sazdU1fAKhpPl/dfAEKgi4VCPp6+9ffCAR9tasEwOXuskvd5QDO9VZ9oSHoRoGg2xiCPiIQ9IHx/v0cQY8wBP3W1MTO9CSAbZnM1sw0gE1pN4JeM84RtKxLGJlCR44cD14ZeAhgZb/qDs110XR5pxEwjYApKCgoaARMI2CKBR8B29N/lRFwiTH916G9khN/4dJezZQ5Z/2yga+oceSa7wsgrQ58K7xzfC07SXtSbw4Cq2i8a82pTShNih3kZR0X5jYKjB8X/vP0VtgR8GD1/lxGwAdtc0o2DlZGwEc9I2BlQjAfAX/cUv8JGwE3x46AK1suyRFwiRgBf9v+DYBrnUXGCPi8GAGfESPgj8UI+Phwu3ME/N7EyJ7JUTYC3mWMgDMzGzM3s4yAZVmk4Xt8BCwnBA88UEfAK4Uaiy0pChskwnr2htkFWi2mKL3Wg690UkI5WOipaBS6t44YTzxr62orr+lmBHtyOBo+oRPFIvkOhHl8bUL3KaJKvWKmGuf8ZUs4cTlmV5V9DgPPSSiVXAEKcVAimBeGYQA6+xf6TCaeUMijSQiagoJiSQfdMgoYhKALHDaCdrHoeATN5VdwI2hl+q9A0K7pv9rEXwVB81m/RqUj6TcZkeeyTTHzfaFKrsojyZUxxzflmt2rTOo1Kg4lmbm7B6aiKpE0iaAxlhCCttVYBoLutxB0X82hPjEhGKxKEkfQ5oTgzrpjWT0pm+ulJ+UZAA2NZ+sbvwBQ2xQh6IqWywDKWr9kCLpIIuiOoq86i2Ei6GoIBP2pQNAnBII+OtJ1mCHoMRNB755KMQS9XSDozRGC5oaUb05wBL1mfBbAG6N332AIWi2LxBH0/VciNdYD6CyaLu8FD0LQi5eyJaQ/PkQMx/NZahnJgTzUKby+5oGD5UVkRekKyjxja1Ks2SSMOQiyOLg1Edmaz+pD03FTXUPHNNkg5vn8kh+xtwUfG3n27Uf8Avm/K7l9C8NcjgJfBtk7D3PYQ6scU7ZWBo9zTv/NvksBqAzSAp6lxBMKeTQJQVNQUCzpoFtGAYMQdIHj8fXnH19/Hh4WnQOCLl7JlnEOlCWvQal9JMXPt0tWi+m/a24J+AzdeHKm1E+eyzchm9MkvJpnDTi7qhVJkbNmHukEzjG+iTH6ZLhLxL+XQ5V4JcmjyeLvbYEQ9Lz2rdAIOqY+EjiCdntSdtYd66xjcmjpSXmyve4UgDZZFilC0J8BaGj8vKHxLIDapnM1TRcAVDZnR9BXuksvdZcBON9bKRB0HQwEPSQQ9Eg3gINjfe+PDQB4LzW8Z0Ii6AkA2zPprZkMFAQtayK9OSHLIs0CWD12NyqLJBC08KQUE4KV+kgrBwhB0w2YfnjmUK8+hkxlQdseoB2nCg5zUxoneV9ADs6ahZKFUyzicz/7pxvm2GJhGJh72+GCbUvrPsjjeCaX+dMXaCE+ROIJhTyahKApKCiW9q8humXQCHjRRoSgXSzacOTICUEL/41XhQOl13/jdulqIXteI+EzWMmjyHbDqHS0McP9JjfFOU0Kww1omuedFnneJcnzWOVb8LpqROaRMYV6YsrvDFW9N2TAz2q+9CWDDsIZl+TRpLC9GcWC1MT3/DOJx+MQtHyYsyflU0bQdU3naprOA6hqvljRcgkcQV8FUNR+7Xr7NwC+7rj+VWcR4hB0w8cDTQBODLX6EPTe1PC7EyMA3p4cf2tqAsCOdHobQ9DTM5um4xG06Un52vD914Y1T0pZH0nKodmSorBBKuglDeb8GmD/mkEMn/IZcfh8MPKq3RSD1rIJsx37nASPL0jFoUKVD8pnuLFkSUxeLPpHqi2fvwxbKqjDfE6ZPGTLziZE857GSUI8oZBHkxA0BQXF0v7dT7eMwgUh6AKHA0ErLDpXBC3Fz04EPSsQtFn7qHSN5bzxJoCZ0nWG7caNso1RpaOyzQDSZZu9NY6E4YaXPEcmG7sNe41RR9miPdJVA9mtM5h2d++wCTD3DVXt0xIPmLU1tAmT+bRN0BvbtzxZNHwIOi8WjWcAQWsfpRNBsyRC0NUHZFkkHUF/wMsi1R4RjhxHLQR9XCDoE+11J8ER9MdIhqArOYK+oiDorwF83XH9WmcRgC+7Si93lwG40FN5rrcawOd9dQA+7W/4hCHowdaPhtqQHUGnoCDoLRmOoDdmeE2kdZO3AbyZurM2ZSPou+Cm0AJBczn0g0gOTQh6wYIQ9LOC3oKc1vHX29aeCY1i9XDRy0CsFvi3qHcfV8Vd1vaWrDDQzKJD//sKbesPOzGaJDXiiDO1WDDrDAS5IO4wW2+OxPBUyZrYzy88NfrRB3RyH9gpGWSxhA4W70Uift/EG3M6csS9dzJEX7jTn3hCQS8mdJJSUFAs6cEA3TIKF4SgCxxxCPr684+uPw83gn5JIugHLgSt+W8UvwZgtjiygDb8N6T4+ZbivAFgpjQSP0vbDY6gy23yvNUw3FBrC8Igz5HmWZM6a64alT6Rs9fewUcpdUKbCBrH4Mr4ZD5tE/ZWaDyeHWgP5QG0FwhBu7a4MAj6oBtB1xzuqTHrEvoR9CmBoD9pbvgUyRB0aQyC7hIIuidC0KcFgj4pEPSHI51HsiPoKYGgb7gR9ARH0GpdQsuR4x535FALFAoWTZf3ggch6MVGkYJYhJS1iUaLwhy26JAT+3w8wtx33rWTWd5mbJPsuuLFYEec/EMPyG93kX0khewkLOQ+Rf+6Sf5lsPeJUN3iCELQBT2ahKApKCiW9o8TumUULghBFzjyRtAPil4C8KDoZYagXVUIWfHB11z+G6b4WZDnN6XzBoAZW/ysGT6bbhs2eZa1BaG5bez2kucq08/Z596sOmlYAmaTPQ5W70+IeVUUmV9SkE58vRUWaBdCoZ0nvs5Hoe1P8vCCLjCCZnLo2vkh6OZLAMpbrpS2XgVQ1DZPBN0F4NBY74GxfgD7UkPvTYwAeGdyfPdUCsDO9NT27Aia1yVczeoSKqbQzJFj1TBH0K9ZcuhXCUHTDZhgWM6Ew+wqJzAbwNXceDW2gprbxCP2DQZZ33u4VAhaYd9ISGBxAYZ7BcNjP97VIjuYCxwr08n0FIIQdEGPJiFoCgqKJf6bhG4ZNAJerFFwBH1PIOi7AkHPZkfQb9rOG9Ccn03xc7p8q4KgTatnSZ5TlbzIIJKSZ9XPWXdvVlya2dIvdt0/ECXZCHMNXyqJLEsnUWQOSR5N+sQW+61Eezg/oJ0HtZ635YjxAT01D+0fD0HXHkeBEHRx4RH0MIB3JscUBJ0GsCVzY/P0DABWlHB9+tb6qdsA1k3eeXPiDoC147NrJIIeuwvg9dF7r4/eA7Bq5N6qYY6gTRY9dJ8u73QDXvSD4KcoZw3n0cQWCfvk0Lrns/t5q0m8n7PDaTmb5jlXL4DgGbAPmB8vyQM4z5tRE+BZpINS9asWZP32J4DM6rlJn/oCXgOIJxT0ikrnKgUFxZK+29Mtg0bAiza+u/7cd9efQyyLnh+Cti2gV0sLaMN/Y6Z0vYqgp23nZ1X8bBk++ww3/G4bexS3DYM87/W7aiQBjAy6HhjISmj9+PcpI2gni3bv2/w01YVi0chBOM0+OELQBUTQVcgbQU+OA9iZntyeTgPYmplWEfSG9K31U7Iu4R1odQnvRqbQEkFzOfR9m0XT5Z1GwDQCpqCgoKARMI2AKfwj4Lih8HxHwMyB8g1lBCxrH60Fm/4bjYC5/ApMe1XuMZ6s2DbJtVfbmfYqJbVXrvm+bBnVNfJIroal5EoMfJ0ukklHM4qiqj/LmPWQUYY972SBe8tBwGUPl5FYrpXrrOJ5132a58B3vvaiz+wIuDaPEfDbk+MAdk1N7tBHwJtiRsCsLJLTk1JMCOYj4OH7rw3TCJhuwEtsrKwsF+RXai5ulLDEWepu+rpKUHyJrRPEHoNE78JuEmY5tM/WieD9OJyYJe+TgYIi27kWBslOQ4rCfP+JJxTyaBKCpqCgWNp3bLpl0Ah40UZCBP246AUAj9wIeiUEgr5X/IpRBEki6DsCQd9WELSsfTRTug7AjdL1Qn61iS0V40mJoG3jSa69GueWk7LG0W6puoKivRqplJIrfyGjqn1DVfvgAozJlFY+RdXTh8YL1Fs+LBq5Tx1+upWaCEHniaA/HWhENgS914GgpwBszUxvmb4BBUFvSGuelGtTvCzS6vHZ1WOz0BD03dcjBC3MKQWLpst7wYOqIS3e4XTeFEmZZ2t4SXrrJiHO99GzS4HoMLCnDgfKOgbYUoG2w6gytGq7yHryMVaaRuGZ0CqpNJ+ksL3FftyBdZR4iXS7sg4/LJFzoJJ4xig57lJua8aew/kl/7Tf/FAc7TDr0Qisb26QjR0HAR/FxqypnkTsS0xwb0E+a+IJhTyahKApKCiWdNAto4BBCLrAYSPo764/lxeClkWQJIL2OFCWrLlVsgaq+LkscqCU+mcAmbLIeHJKTP+dLLfFz7vAETSf9csQ9Kgie4anwJFBnp2FjAx+aE/k9c/cdcJbThQlWjQezjNZuN5yxNfeOcqFml6MxHrpxAh6f6ESPG0EfQw/HoL+rL+eIehTgy0nvAh6cG9qGMAeC0FvixD0DFwIWi2LJCcEcwQ9yhG0Wh9Jsmi6vNMN+FllSlkhXfYfnjmwvixgOfSTxphnrOamqaSn9hF7KYLDYT666GDex+/ZP4lyPTEWTC9NsuqnOeC0vuGh/qmHPnYfBP6zIPFXjaDewn6riScU8mjS2UpBQbG0fxHQLYNGwIs2nAhaJA4E/Ugg6IfZEPRsseVAWao5UN4sXXezdB2AmbL1kfekcN5ANvGzLHkkbTfGbcvJqncAKOQ5q9uGLGTkr19UfQAmYnVj2Fi6e7i35jBL1Ic9NYd75pdkXcHYoifJGWjP39bDraDOZmyZE4uOkUxjwRC0cwdi3lfOCLruWGfdMQCddcc76j7Cj4ygWwEcG+k4OtIF4IOxnoNjfQD2jw/uTQ0B2DMx+s7kGIC3piZ26ghaGFK6EPTEHQBrUrM+T8rXR+/ZLJou73QDXgo0qXB95S1MDSxts7PekY9LG00CeLSyoQHPkjCvnN9U8Cx8qE/HPSNBk+CfDTL/eP+8CADd2GLhT7Rw/teZwHOEiO4tyDlCPKGQR5NOUgoKiqU9jKBbBo2AF218d/0PfgT93GNpzTFvBH27ZPXtUsMCWvhvlG2Q/huZ8k0ApPg5rYufJ6T4uXJXqpLbboiSR4I8V0XkWcJnGOS5OjF5dtk4QyOEh3r9wNmLgmsP99QeASCXMumuZYAxz8R4aPfvTTxAOxZW56CpzkNBPU9bj5ygNBLrpRcEQfs9W+T/LHpqD6ufV+ERdMslAGWtHEEXzRdBdyI7gp4EsC2T2To9jQhB37QQNDeFdiJoIYe+x1n0SMSi6fJON+Bn4zdiYXhSDtsLYNLjhJt16qUTKaJVvGy0jYHS+qYdQNu1A4HPfyMrUQx/hI/2qZ1kQSF3PggWZouLgQn92P+kCJ7qXrjMnN1oOnZ2Bg1zn8qHRTyhkEeTEDQFBcXSHl7QLYNGwIs2vrv+h++u/wEeFv1Yd4d+VPRC7gj6DRtBi+KD62ZKuf/GdNlGABnF/Bmq+Ll8+2T5DgATVs1Bafgsqw3ahhum5rkqieb5oPRzjlfzOoXNsZJmkwBD44oFRtDzZNHqw/mzaCTWSydh0cgmk86JRSN3744FQ9DmCQYdQTPy7ELQH+WKoGtdCLqk7SqAovanhKC3Rwj6BoCNmZsbMzcBrJ+6tX5KQ9BrU5Ejh4Gg1QKFhKAXLsgLeoExYSGG1QkJYSzjEhQsMQ2LN47WKFUARAxcJ8+2sbOHb7vtnbmO1GF3LCym3TbR4XxdiH3GJlESuhif+yM39j8I7CaB97PM6uw7LxYdt7fZthjmZlfuddW2aadz5adAsxNsIolhNd/bhR4nBtb5Yf4/KTQ/2JixK/tK2esEQWh+lykK+CESTyjk0SQETUFBsbRHFXTLKFwQgi5wfH/9D99HCJol80PQJXYVQm4BLRC0tIBeLyygN0rz54zQP4OJnyuY8/MO4fy8K1Uhxc+W7Qb3fH5XqTbIrZ6Ro+bZSQKd9hQaXvbTXYsJH5Ug0Xg4zyTBmjlgasQy6lyhNHL37oh3lk5o2ZGk3CHmYeKRsFRiYRF0V+2HXawKoQNBn2yvOwWgrf7j1vpPALTUf9rccBpuBH0BQGXzpYqWywDKWr8sAIIediDofakhAO9OjO6ZHAOweyq1iyHodHprZhrA5oyGoDekOYJeN+lA0EIO7WfRo4Sg6QZM4SB1OdNIlz9GEAMqc+8tD7j3DIOP2COT0weaz1YW6iA/XZzzz+AvXYD3GOb8clCws5wGvgtw7SCeUNBLFiFoCgqKJf0zgm4ZNAJetCERtMKi54Wg75a8BmBWQdC3S1YDuFUiLaDfFP4bwgK6fJOwgJbmz0L8rDs/S9uNcVX8XGWLn5nnMzfcGOLked9gIreNGD/nyL3ZaakRw5kTQmPJFXNNCg20c7T1sPTeTjqNxJYdSaA0Elt2JGHRyNdQOommOsZXfDEj6G/bvwHwdcf1rzqLYSLoasQi6A9HOgEcHu05NNYH4H03gp4AsCOd3pbJANiSuQFg07QDQa+bvAN3XUKOoGWBQpVF0+WdbsD/xD88k1AifWW/X3Tg6zxG/BzmA7ee1QqDhSaiOfqEFBSlhPP9pCie8qkVzPNCUCCeR5/Vwh9k4gkFPWXpnKWgoFjSPyDolkEj4EUbLgQdyaGTIOj7bgT9+h2OoFcLBL32Vumb4BbQ3H/jBvPfKI/8N6bKtwJgzs+T5cL5uWJnjPjZsN0YrnpvSIifBXy2/RCyum180GeR517TniJG6pynbjlvBC0TFF5TfaRQLBo5enckK25YGBaNxYigI/V4j0DQ3X4E3aEg6La6UwBaHQj6DICGxrP1jV8AqG0670fQXzMEfa2jiCHoK12ll7udCLohDkGPMgQ9IBD0yJ4JjqDfmuIIeruBoKdvAtiQubU+fQs6ghZyaIGgx2dXG+7QY4SgaQRMI2AKCgoKGgHTCJgidgT8+++v/37+I+B7xa8AuFv82t0SrQjSnVK1CJIxAt4oRsCb2Qh4qnzrVMU2AFJ7ZU3/3S1HwNx4stLUXknLySHFchLG5Et9bKSOq6zRmBj46rNjkyitko9Z5z/wTd5bIWYV8/c+79pKOVRSijcEVecH98cMhWNHwM75wU9nBKxPdDZGwNos8yQj4DZlBNxS/wmAZnsE3MRHwNWOEfBX7hFwtzIC7s1jBDwoRsCjAHZPmiPgrb4RcFQWKRoBr03NgnlSyqHw2CwfAY/RCJhuwBT2T1FlaY/GEft8mL1akdmzIunyGTSavYVxNY6WzKfwVEuuxzYp4BEOEu3VM4B8gqfYapGe5kEuuxb43gjRvYX4aIgnFPJoEoKmoKBY2r/76ZZBI+BFGwqC5snCIWirCNLG6QhBi/JHJoLeCSBVsWu8Qqt9NFr1jjL9V2qv3gMwVL1XkmcJnwEM1Bzw1Ty3ybMyzVfVWDllU0e7EgHnYwC6ao/Zie/5HJP5Au28jC0T6LMS1VbKh0Ujm2llTiwa2bwq80bQbvJs/hMkOid7rSpbyIKgj3fWHQfQUfdRe90J5ISgm89XN18AUNlSIAQ9mBRBvz05LhD01PZMGgqC3jR9E8DGzK0N6VsA1k/dWpfVk9JSY7ElBd2AKdwcMrSeSTDX1qbHahWXwNOtTSa95DnMx5ySqrj7jnPC1YhFP41jvvj2KUzYJsi2DqG8p3T/a9jPAAAgAElEQVSVIZ5QyKNJCJqCgmJp/9ynWwaNgBdt2Aha9aScP4K+XWoVQSpdf6N0A4Dpso2Zsk0A0uWbpQOljqDF9N+Kt8YrdPGz03hSr3o0IMrUWH6TCchzzRFjmu+8Z+4uNIJWe/uwUCwaSfXSiVg0sptW5sCikbiAUpKZwUhcN+lHQtDmeagi6A6OoE/EIOimhtMAGhvOAKhvPFvnQdClhULQw53gCLoXwPvjA/tTgwDeUxD07qkUgJ3pqR0cQU8D2Dw9YyNoxZOSy6E5gk7dWSPk0GsIQS98rKBDUPDfhzE4riAD5KgIUpC9UHaolamP9Mth9q3YOx5kA14WebZQd45E2ie3DgzqbiS+5+OTGLShJD/az//kLDpYYJQYFugczinJUW2eX4mqwIe2XGdCbp2Hi/Bcsd6ifX4HQRiGBPYWDJoSTyjk0SQETUFBscSHGHTLKFgQgi5w/PDt73749ndwIejvr//hu0IgaFkE6WbZOgAzZRtYEaRM2SaBoKUD5TapfwYTP1fuAhc/7wYwWvmORNDDhvi5au9Q1T7o4mdB/EyLg5w0z05tcK6cubP2GIBOV+J7PnmSAGjnyaKRs3tlHIuGx6AjPxaNxAjay6ITI+hck+xrJraCkf8TUYxfPlQ/XAeCrj/VVv8xgNb6T1rqPwXQXH+a1UEyEHSNC0EXt30F4HphEHQ3Q9AHxvv3j3ME/a6BoKemdqTTALYJBL15egbAxszNGAStyKFnAaxJzdosmi7vdAOmUOhFRJuST7U31wwdJY+CeI4VxuG4Z1TznPPBXzzU5Ufc4TDPnVlkQ7pn8UwI83mNc+YgvxONBr4LcREnnlDIiyEhaAoKiqUcdMugEfDijWwIWsqhkyLo2ZJVAO6UvHGnZDU0BL1upowXQZo2iyBtlUWQJiq2A0hV7AQwXrFrvJL7b4xWvg1F/DyiOj9Xe8XP/TXcaBfJfJ7tQkZ+v+XcODOzSpCeCWrie96bJADaOXl3LExtJQ+CTlY3KQmLRrZySTmxaDwFBK2VPDLFz8kRNBc/yw89NwT9OXQEXdV8EUBFy+XylisASluvLgiCHut/f3wAwN7U8LsTI9AQ9OSO9BSAbZkMFAS9KXNzY+YWgA3pWxvStwGsn/Ii6LUWgmZLCroBLwXEFWSnV27JcRi3ZpDXkzHQKvD3kND5IViyH2G+bzZcoGNCLLqQ7yXX/V+C6Ito3tM4yMQTCnoNpJOWgoJiSY8n6JZBI+BFGxJB//Dt72xHDomguRy66IVHRS/AjaBfhY6gb5esBq9CaCDojdNlmwBkpP9GRWQBLfXPYP4blbb/Bhc/Kwh6H4DB6v0DlvhZSkwB9EZwj9c2j9E8u3ispjRWAWA+GHk+CDoWShsPE7DopMUN5ymHdhQuTCSHZokbQffWfJAAQXtZtMqEka1eYaERtHdvlXfKztLD4hR1I2hZhTAXBP1FXdM5ADXNF5Ig6KudxQAud5dd6i7HvBH0ezqC3jU1uVNB0FumbygI+iZ0BL0+MoXWHDlkgcKIRacIQdMN+FnDC4nRXZicA4WWRbPVRR6i6BiLDD9p9L6r7N0ucpSR9QP7/+yd95sc1Z3u3+LZf+XaawMmSmSDAzYmIyQBQhISQkggoQQojzQ5p56c84wmabIQ2YDJYDA2zmvvXnuv13f37t67/wB1f6hzTp1YXd1dPZoZvt/n0Tylnq7qqlPVXf39zHveN4FOIreRyVMbkvD5WolMyMvbk7PcSCJj7mV2RaT9o4Gf7BBQue4RxBMS/LSha5WKimotF90yqANeuSUjaFMObSDoWziCvs2KoF+v/uHrNXdCRdDCAlpD0Iv1D3EE/bCZPwhgpkH23zDEz4Hzc2rHeIigFevd0aan5Og6xXajRRM/xzF2XsEIWmLRcKijc0fQmbNo3ZEDGoJ2W3PER9CZyKF3p0fQCbFoZI+gwwMU5jDawLoQdF/rwb7WgwB62w71tB0G0J0lgi4FUNlXXtFfARuCPjWcyh1BPz5/fsvCDIBHFuYCBL0xRNAvAXhg6SJD0KEjx6uGI4ceUCizaPp4pxswVWZ8zNcZlxdzsxEY2f/6QKlsWHTGgxN7PL3lvHKy6Y2yGslL+2bxY9jIpN2aHzVJwRgfbxnOnL88Z5Uq14uSeEKiH9eEoKmoqNZy0S2DOuCVWx9U3PDB8iHo+5AGQW+ebXwEgPDfON+4BcB049apxiB8kIufm54Yd4ifrcluUAmnQUfTi591pXFS0DhZBC3+mxCLRuzgwjgsGlYEbWPRIzHk0MgZQcssGta8wmxZNGzkWX1dZd9Uxs4OORgNSfwsLlHlCuxvfa6PI+je1oMAetoOMwTd/nxX+wsAOttf7Gw/Co6gWztOtHSeBNAUiaDL+ysAlAxUFw/WICsEvXd66OlYCHoewMalRUQj6MVX7l14BTYEfffca3fP6iyaPt7pBkylsyEbQ/McpCq9fXS6L7deugfXKANYqWzjUmuhM07lW7UeHV5243/JUwg98DRBL8M3p3cpD+VrUoSgk/2UJgRNRUW1pr/30y2DOuAVWwJBhyw6GQT941dr7gLwSu3dL9feA+Bi7b1BCuGFugeW6gILaJ5C2LBxnvtvzPL8QQDTjVumU0r44ERqeyB+nrA6P4cIWhOUMkMDN3l+Jj15jgGNuR/CcxktWB9PBmivPAQt+3Jk5Q5tR9C5s2hYPaIjFtzZgkbU4FOjmSBobRCyRdBHoCLojo6jANo7jkNF0I1dZwDUdxfWdRcBqOEIuiIbBN11cLwHwP7JvlgIen4GwKMLc48shAh6w4ULD114CcCDFy4+cOFlSLmE90UjaINF08c7dcDUAVNRUVFRB0wdMFWcDrjihve5J2VeO+CF+g0L9YED5SbhQCnkVwim/7IOeBvvgPn036Yd41x7JXXATxldxR6pA9YbX5v2Su8LL1UH3N/6XJ464IFM8pHy1wEPxZsQPJxhB5xhK6x3wKPxO2BZn5WvDnhv7A74AO+ADwUdcHd0B9x5sqXzlKMDLqnKqQPuDjrgfZP9vAMeBvBU2AFPuDrgTYvODliKRWITgoMO+J55WwccLFAHTDfg1fulMbEthQue9oj6nLTxRNqCOevXGcAdqdBZuQzgUkxf9i7lZr2Vcrxxr/7l3uE013n2B5Kf1Z3HEP3xkuGrep6/2t7Zq7gIQSc6moSgqaio1ng3QbcM6oBXan1oRdDBhOAKpsZ6t/Km+Aj6tZo7Abxa8+NXau4C8HLt3Rdr7wHwUu19F+ruB7BU9+CiiqAlB8pHOYIOpv8+Pp1SHSibdkyYxpPNyvRfa+oRdDM/O3m2MFsH5s2UM2eBoLNj0UgXl5QRi0YyCJotIBpBx1JjJYugQxaNdHFJGS3AjqCdOxCJoINxC6/VgZbgCtyvhSD1tR7iCPpIgKC72oUD5dGOjmOwIOiCCARdxhF0kYagR1InJAT9QhSCHuQIenTXzBiAHbMTT8xOAtg6N/34/HmYCHrpwkNL6RG05klpZdH08U434NXQBy8PhPIsMM32asokXdvU4fSMLsa+r6bWfw2x6LhkZsWMPFbwyEdf515Sr+zn+zLxk7pqqNPN/9VJPCHRDzpC0FRUVGu56JZBHfDKrQ8rbvgwAkFX6Aj6Z/ERdG2AoO+5WHcPgJfqOIKuf5A5UNbrIUgzDY8K/TOAqcatU6ltUBwoxfRfSfzcbBc/i9Qjt9/kvvjRRhlB42QRdEYzg5EMgmYzg3FJEHTL3jgTghGJoEean84dQcdk0a5ZxRHk2bbb3IHSiOqCHUGLECSGoHsVBP083Ai6pfNkc+cpAKmugsbuMwDqewrreooA1PTqCLo4AkGPJYCgH5uffXRhDsCmxQUADy8tbVi6gMwRNJ8ZTAiabsCr6gtiXjGZ9HTdb9L3MtiezyKP9EfSrft1jUWiSvR057+HyskeNeH3cADGvOU74CwPm2rZixB0oqNJCJqKimptfw+jWwZ1wCu2PqxY/2HFeqiOHO8zFu1E0O+4EHTNnTYEfS+CEKT6BwAs1T+0GDpQ8hCkhkdgQdBR/hvMeLJJzj5i4meOoAXE2wvdbzK92wYh6JWNoHVRdI5yaEQi6GgWnQSC3iP93YQNgjxug5EIOnCg7G091ONG0O0dxwC0dZwA0NJ5qrnrFIBUtw1B95UBqOivKOuvRN4Q9La56a0qgt68uABg49LSw0sXwGKRLgJ44MLLLBYpRNCvBAjaZNGEoPNa/0BDkD8i5BssyDN+FZcteV58pOR7ERDKSwOwPPYv5I0eX3Yjbj2NPCrH3kOmx57pgMXFjJ5HAS/L9yZwnQXngu0yiH9y0z/ifNzzot8r0dfqqvy7jOd08xBaaBJF52XgiSckOZqEoKmoqNZ00S0jwSIEnXB9VL7+o/L1sMuhb3y/gsUivVd5M4B3YyHoHwF4tfauV2p/AuDluvQIerZxswhBEhYcYAh6OxiC3gFgvGknQ9DNbvGzRDIdEO/ZgazIcwxofABAf+sBvpAkgo7JokEIOnsEvTs+i45cSP9y2k7K3iOSafYz8lmQTpyKoNsO9rYdBNDbdqin7TCA7lgI+jSAVPeZhu6zAOp6imp7igFU95auPAR98YElHou09DKAexdfuTcdiw5+UtENeK1TOy8WcHMgO7tA2kI+wtU9F6Dz9f+m9ZdeBlJGtTqv6uXbvhfvpb3VdL1FAXo/3U77wXO84K9JsH9eUF2aNwbxhCRHkxA0FRXVmi66ZVAHvHJLQtC6HDoegr7jp9XfA/BmzQ8QiaAv1N2/VP8AgMX6hxZCBL0JwGzjI7PcAno6tQXAVGorgElhAZ3aMZ7aAdl/Q0HQ3PnZETtoip8HWu3kOZIAC7CsceZMFwhBr3wEnSmLjrU1205y8XOLLH62Xr36RSv+5CEh6MMcQT/PEfSLHEEfCyw44iPo8lwQ9ARH0FODe3QEPf7E7ASAbXNTW+enAWyZn3lsYRbA5sV5ABuXFh9eWoKWS7h0EcyRI64cmhA03YCpXKAsgXxAF+XynbQrJ6+D/OBHqpV/rS7PljO6ODMCscti6xHx2j69MdbQ+4F4QpKjSQiaiopqTRfdMqgDXrklEPRH5SaCvkFC0DcBeLfylp9V3oJoBF2rIOiLFgTNUgjnGzbNcQQ9EyLoxxEi6O3MfyO1Yzyl+G+MGeGDUnxbCPEGVYgnIegMNM9JI2hdIA1C0OkQ9HAOCDomi073hMQRtHI4Vun+kBIKGSJoPYWw7WBvW+C/ESLorrYXAHS2v9jZfhRAe8cxEUQIoLnzVFPXaQCNNgRdqSPomqLBWgBnhuoLhhqQCYJ+Zmpwz9QQgN3To7vOjwHYOTu+QyDoOQVBi1DCjQaCDuTQhKAveZERR17xAgNBvo6jfM6H/MxBUXYz/T0NtvmZwTEvAqzZTA8SQOJroFXIA4NMfucu1ZsjxoJrz72EXjrO9lfs5ep7wb7xjxDlcybe2fU8pO1mQ1cSont5uUcQT0hwNOkipaKiWtvfK+mWkVwRgk64ZAStOXKEuYSVN3IEfTND0JXxEfS9L9XdB+BC3QNL9Q8CWOAIOkwhbHw0QNDTIYIOUgifmGgKLKB3nmvaiSB8MLCA5txPtTJQ5KNSgtuzUOhrluR5rSNoC2rGikHQwzkj6OiAQsTWS2eqqXbskh1By8Ml4LN20eophG2HetqEBfQRqAi6gyPoNhlBd51u6iqADUFXxUDQJ7NB0CNPnR8FsHOGIejtc1PbBIKeVxH04iKAh5cubFAR9AMXXuYBhQxB37eoI2h5gT7e6Qa8mvvjLFeKky1okieXI0ccXwIvL4eyAkeXau31Z87H82IjI/6U4+ewb3m7ps0/NKXfBfJ8XtaPLeIJSY4mIWgqKqq1/RWHbhnUAa/Y+tiNoD/IBkH/6LXaHwN4pfYnL9feDTuCfnieI+hZjqBFCqHQPyOwgG7aAYagn4SCoKXwwRYXxHtWgXitMsRzkWcnNBbEr8/4r2shJotG/hC0jTxHaJ7zhqDDUMivA4J270C489pxWaX74k8nkBC0nELY1yosoBUE3dX+Qld7gKCPdrQfA9DecZxbcJwE0NR1OtVVAKCh+2x9dyGA2p7imp4SAFW9ZRV95QDK+itKOYIujIegD493HRrvBvBclgh6DsCmxQWOoJc2XNBzCQWCvn+JIegIFk0f79QBUwdMRUVFRR0wdcBUtg74Y70DDicEJ9gBLykd8EYAsw2bZxv0ECRrBxw6UDbtGmt6Su6Ah5v3DLcIB0ql9xqM6oAzkFxRB7xmOuCICcGXrgPe6+6A98kdsMA2/DI7KHXAh40O+EVHB3zK2QH3ah1wZWl/FYAiSwfclLYD3u/sgM/tmBmXO+DHeQcsMpE2iQ54ydUBv2x2wHxmMHXAeSyaB7z62uzwq2gSG4sTVK4JWPzYOxkvbv1SjSN9kV+pPRazXMwkECyAT14MLaHbd9KPXjHmznvhz8zf114uo8ZDznwvy/Wt++VnuT2qOGedeEKSo0kImoqKam1/PaJbRnJFCDrh+rh83cfl6yAj6NCTcv0HsRH0G04Efd9LdfcDWKp7cLH+IUQi6KnGrXwGMA9BUhH0qNWBskXIWHTyPCBDvCgEbeHMEQu4FAg6mjwTgs6RRSMH8mxu3/pyyuGoh2ydvC7+dKJdtGz6b+vB3taDUBwoj/AQJB1Bt+kIuiDVXQCgoedsXU8hgJre4ureEgCVfTERdDOAY2OtyBpBz05um5sC8Pjc+S3zM1AQ9AKAh5eWHg4Q9JIVQQeelC/rCHrxlXs5i6aPd7oBr8K2GCvTi9BLjH0tH5mkokr8+o/1HNeMWumnF3d7XsKH4cV733g5vodofnA+rkLiCUmOJiFoKiqqNV10y6AOeOXWJxxBW1n0BxXrAbxfccN7FTciBoJ+LWcEPZnaBiAMQWpSQpBkoalG81Txs0g9CiFefwzxs40nM62pvKD+N0cWvfoQdKYOlPlE0HuSYtHIXOocsVnYxM/y4RijYZm8riLo57QQpF4pBKk7DEF6HiwE6UUAHR3H2jsCBH2itYPlIAFIdRU0dp8BUN9TGIWgB6oAFA1KCHo4VwT95My5nTPjAJ6wIOhZAJsX5wMEvXFp8eEgFmkpjEVKi6DlBfp4pxvwKmdbmX93jCc5zpRtefFIk7nZFREUQ9/AqfLwlvXivWW8dJd/VizaS+ww6M20mq484glJjiYhaCoqqjVddMugDnjl1ifl6z4pXweJRSsIujxjBP2qiqBfMhD0fP3GuYZNAGYbHglCkM43bplufBwWBG1xoOQAkHv4NVvEzxKCDsFsnMijrBB0LBZNCHolI+gIg478IGiTPOvuMQMt+wZatKvX5b9x2AxB6mw/CoagjyNA0EEOUudp6Ai6CDYEXdpfWSIQ9FAtgDPDEoIeTQBBb5+bArB1bvrx+fMARCbS5sUFAJuWFjdyBB14UsqxSAGCjnDkIASdjyIjjuUAW8l+Y/TjECj22l5cXhWZhu6nZ1UKU/NjbneVn1lE2zlQqxReD+kXkMXV5TlpcIQs2c8m7MvL6hrxbLu/Iq5eny34YjQI3l2ac0E8IcnRpKuYiopqbX+voltGckUIOuGSEfQnTA4tOXJwBP1+Dgj6ggNBzzQyBD2d2jKdehzAZGqbcIGGgqCfGlUtoEdarOJnwe70DHPoUNfl83zQTZjTIuiDKxZBD2ZInr+eCDr3jQjmDCt5lg4wwrdc+qvBfnGFyJdobysTP+v+G20vcAQtLKAZgm7tPMFykBiCPtPYfRYKgi6p7i0FUNlXXt5fAaB0oKpkoBpA4WDt2aE6AAXDDaczR9B7pwaRIYJ+ZGEewKbFxY1LgSn0BXcsEkPQ1nwk+ninG/Ba+zaZiSNxHtvrDL/TUqNPtXI5VEaPZ3vlK3jZj/VnmuV+KwWfLZl7nlODu4wXK/GEJEeTEDQVFdXabhrolkEd8IqtT8vWfVqWBkF/wBH0e5U3vVt5M4B3Km99u+o2pEHQ94Ah6AcALNU9tFi/AWkRdNN2AEEK4XiTjqBDW92WPUMxELRIcIOKf/uyIs+rAEEbmmdC0MuCoHXmDBt5lo9dGhyndH+g1YKge00E3f58VzuzgGb+G0YKYWvnSRFECKCx60xD91kAdT1FtT1FAKp7S6p6SwFUpEHQjcgKQT89Pbz7/AiAJ2fGds6cA/DE7MT2uUlICFo4QnMEvcAR9FIkgnayaPp4pxvwmoJiSW80rSNHrB3x1/rIUX09R97P+KBiR396q2DoPLu8W8HUnrdSPwnW6tuMeEKSo0kImoqKak0X3TKoA165JRD0p2XrPmEsev3H5esBfJQDgn659m4NQS/WP7QQIOiGjXMNmwHMND460/gYgOnU49OprQAmU9snmrYDCFMIm3cBGGt+SnM/GJZMdAdVC+iB1n1SgpsLQdsxsoh4i16Q/5sRiyYEnTcEnSuLznyV8KVN5gw7eQ7HZDBC/KzmD4aXUBvz3xAW0D2B/0aIoF8UCLqdpRCeaOtkKYQiiBBAY7eMoIsBVPeWVvWWIR6CPjHSdHy0GcDRfCLozYsLmxYXAWxcWnr4whKAhy68JEyhI1k0W6CPd7oBryZyl2w77Du36uVh35fnmHLdN/oqfqlGfqV3aQkfl8yirRYiXoQ1tL8CI0mZU4nb1IdY3vK8u4gnJDmadNlSUVGt6aJbBnXAK7d+Xrbu5xxBu+TQ2SHoi7X3ALhQd7+BoDeZCHoqRNBPQELQY816CuEIp3xGfJtA0Ps1iHcpEHQad2hC0HlD0FmyaCwrgjYuWsM9Rpz3UPzcdgiKBfQRCUELC+gAQR9rb1csoFs6TzV3MRdoAA3dZ+t7ChEg6F4NQVeU9VcCKBmoLh6oAVA4WJcggt41M/akQNCzLgQ9B4agFwBsXFxiuYQXLhgImgUUWlk0fbwnXuQF/TWBel7iq/hu3EffkNONbBYOCf6lHt2kTM01ob5nObyAJHnKr0yDcduIyP4YHmKMsm/g5QixdNpzkIMjh32XshpZ3/HyfhafA54H6njz+KYinpDkaBKCpqKiWtNFt4wEixB0wvXzsut/XnY97Ah6HXPkqLjhgxwQ9JKKoOcUBL0FEoKeCBH0TtgR9B43gt5nIOjnZAStcuBsyPPXFkFnCJyDhb0mc8ayIujMWDTimWzYsgX3mMwZNvI8aJDn6ItW5A8C6G01xM9tzzMLaO6/0dn+YkeQQsgRdGsHs4Bu7jzVZEPQtT3FNb0lAKp6Syt7ywCUGwj6bDoE/fxYx5FznQAOjXcfHO+BhKCfdSPoHbMTT8xOAtg2N7V1bhoSgn6UIeh5jqAXH+a5hA8tpUHQMoumj3fqgKkDpqKioqIOmDpgKncH/POy620d8DoAH1as/6DiBt4B35R7BzzLO+DzrAPeOpXaFt0Bj/AOeFjtgK0B5kYTqRtPOrtbPskyasGxbkatMHXA2XXAciscuwOOtRDzmY5oI73ltY6JPLD6mbJ0wOHlmq4DfpF3wEdZByxCkEQH3HWamVB2n1E64F6pA+4rA1DeH6cDbj4+2gLg6Fhbgh0wy0RamA064EcW5zfzDjjwpNywdGHDkuJJ+aC7Aw5+UtENeGU3wcqyjzSyh7x8l/Ttu5Ply0dKQqjjp1ptDVzmb2jfDEFKe/F7oS+sv8LeJZ76AWUuUy3fuSCekORoEoKmoqJa299g6JZBHfCKrc/Krv+MI+hQjcUR9Mc6gr7xvcqbAPys8pZ3GIK+PRME/TAkBH2+8bEAQU+FCPoJkYME4FzTLglBPw0GACNCkJQJlELG0m9EHuWEoDmINjcSPyhJnpSMtYmgn8kJQQcLbgQ9vLoRtHyC9OwjbbZ6cHX1tB7q4Qi624GgO9qPRYQgpbgJJYD6nsK6niLICLqvrLKvHEBZf2XpQBWA4oHqokGGoM8M1QM4Pdx4ajiFHBH0+YwR9CaOoB9eWhII2uVJSQiabsBrBHuF5Me3hhZl+r0yg2gjB0OL3vLydvMEDxI64zlfp6t6KCKm8No9XG3zgDPYAW2zftRcYW/ZhsY1gdrcFXrXXeLrmHhCojcRup6pqKjWdDdBtwzqgFds2RF0IIcuYwj6o/L1H5bfAOD9ChlB3wrgrarb36q+A8Cb6RH0Bo6gN882PAIHghYmlADGmnaNNT8FYFQKQRoOQ5A4zWtVdKQyvBXgF9EIOh55VhC0JIpOAkEfSMuiVyGCzsGKMgaLdj2eBYJOK7o2ybMq89YPGQ7yLAZfO3H9NvFzH784wcTPhwF0tx0R039tDpQ8BKmDhSA1d54G0NRVkOpi+mcAdT1FAYKu6S2p7i0BUNlXVsERdAlD0DVFg7XIG4LeOTO+Y3YCwPa5qW0Bgp47D+Cx+dlH5+cAPLIQIuhNSzwWaekCgA0hgpbl0DqLpo93ugGvduBwqSHj6vquvWaPy1tFw7WSzoKX6Xj6MZ7mOzYYmmLGOGXp/8rjLddQW9h3Wt9Y39xH+ixaljsC8YQER5MQNBUV1dr+Wky3DOqAV2x9XnpdgKAlFh0i6E/K0iDot1cPglZ0y5kA5/gIOpJFOz0pEQ9Bx2LReU5DShZB58iiERMax1uAQ+EcI9rIonaGjTwPtEaQ5+c0u5je1oO9rQw+Q/Xf6NIdKJn/Rns799/oZCFIzVIIkoaga3uCEKSSqt5SABV95eV9FZAQdNFgTWGAoIcYgj413HhyJAXg+EjzsdEWAC9yBH04FwQ9O7ltbgrA1jmWifTY/CyARxbmNi/OA9i0uMAR9KKIRdpwwS6Hllk0fbzTDXh1UAUahIS/dK/Z4/JouHJ5q8X7lWd/m6pPiCUWlmGuZ32uZzvFhlI6cp6BvxwXgp9uZP04o0yV+82C7hbJjSYhaCoqqrX9bZhuGdQBr9j6vPS6z0uvA/B5qS6HVhH0ejAEfSNiIui6e5EQgh6REPRQFILWLaCXA0G7WXRMU2gkiKA5iM4Tgg4Wsu1Uh6oAACAASURBVJVDOxF0diwaKxFBW8ctfeSRuACkhK5DMoIW4ufuthe62jTx81GX/4awgE51FzALju5CALU9RTW9xQCq+0qr+soQIOj+CgCl/VUlA9UAigZrAwR9Zqi+YLgBwKmR1MmRJgDHRxUEfYQj6IM2BP1MBgiaZSIFCPrRhblHFuYBbF5cYLFIS2EsEkfQFwIEbWXR9PGeeP0DDUFeCSOkHHNboHk2EdmXAgl5l3wPqJJFkCa9CX8mteB52m7YxLiebbd1iwz5mX6MC1VxvnHxXg/QSbI6CO7x9LWNS09gqmLP85N46/ru4/STuD7CY6W29lIUIehER5MQNBUV1dr+Vke3jOSKEHTC9YvS637BEfTnpUwOLRw5DAR9A0fQN2eAoOsfRICgG0wE/TiAqdTWSTuCfmpURdACAA5GIegDmptun+n8nA8E3XYoi4DCvCBoSRS9khC0M6YwOxaNmLA6861F7pvluEzmLI9wdOaghTzzy4nrn7nzc7vw32Di5041fFD139AtoAP9s5RCWAygqs9MIawqHqgGUDhYe3awDkDBUIOBoFtcCPrAeA+A/RN9+yb7ATzDEfSe6eGnz48AeOr86K6ZMUQi6C3zM5AR9MJCaAq9uATJFHrDEiFougETNcz1eV7mZrne2hma/B+Xv+yvmOPLrcieJbFLMZ7bhud6JFIrrAmh7RvxcxO0+8t12XgWe2jf8RyqZXkPEE9IcjQJQVNRUa3tFoFuGdQBr9j6giNowaJNBP1x+fqPLAj6FgBvV303JoJeqN8w70TQ2yZT2wFMpHYYCHo3gJHmpwN5qoSgn5VsdeMh6GyBc9YIOo4c2kDQuZpCw4ags2bRiGTUWSHoZzJi0a6F+Hg55mYR22TDPSwhc4aNPPe37tdOZZ/IHGwzyXPovAGgq810fg7FzwJBt3YE/hunAwvoVFdBqpv5bwT6Z24BXSwsoA0EXV08WINIBH1stOXoWCuAF8baARw5lxOCfmJ2crsNQYe5hAvzwpFj4yLLJdTk0BsMOXTwk4puwCu+D3Y+4sdjbY4p8Jl/78wWbcW1zL1UlHKVsOgVMVar8EDiH4ueJGg7rmzyN0MZtvHWdbw5vVivuKr+zkMsejkudOIJSY4mIWgqKqo1XXTLoA545dYXpdd9oSLoz7kp9Kdl139adj2Aj8vXBQj6g4ob3q+4ARqCrrodwJvV3wfwes2drzm8oOMg6PHUjnNNOwGMNe0CMBoi6D0SghYkMAB9EYFuB4T+GZFUWWS9xVlIz6hbD2XkDg07gj6QnRxaf9xwh04QQWfKopG5d0dsaJyZbjn+vqUFzqYbuWH4bCXPqjlM26EeS+zgEQCm+LnDED+3hv4bDEE3dRUASHWdEf4bTP/cUwyWQlgKKYXQhqDrzg4xBH16uBHAyZHUCQ1BnwsQdGciCJqFEs6fj0DQmxZFLqEqhzbcoQlB0w14dXxBzII/RaiWOUfO07dOL/vjWVYe6WV0LHnc59UNOdYGoYlDnuH6W1CsUEJP2YjvWTarb0f1gva517SfznVkhVxm3op7238tihB0sh/OhKCpqKjWdIdBtwzqgFdsfVF67Rel10Jz5OCm0BKCXgfgg4r1AYJ+t/Kmn1U6EHTNjwC8UvuTlxmCvi9E0PW5I+hn0iJo2W+5Nw8IWoDoWMLpGHJoqKLoHK054JJJx5JDZ4mgY7Jo5OAjfYkQ9LPxELT9DwEu8tyn6OS1K5CTZyl2EJL4udMQPyvhg27/DaZ/ZimEzAK6sq+8op+lEJb2VwEoHqguGqyBlEJ4eqjx1HAjgBMjTcdHmmFF0ONdAA6O9xyY0BH03oQRNDOF3sgR9MPckSNg0YSgqQOmDpiKioqKOmDqgKki65clrAOW1Fi6J+Un5es+zrkDdqQhXZoOOKN+19oBy5qsGLKsCDXWAThSkuKrsfpbn0vfARszg+OosTLtgAdbns1PB5yXrWVypKav5D7XILsb3wOSGepBg8EcMTrgoPcVHfBRAB3tx2zZR6wDbhLTf7sKADR0n23oOQugrqdIyK8AVPUyB8qK/goWgjRQVTJQBaBooKZosFbpgIcbTw2nWAc82gzg6GhrYEL5/LkOAIfPdR4a7wJwYLznwESvtQN+OrcO+JFFPRZp45IxIVhVYwU/qegGvPKpAo1B3lFD+H08q/XTf82PqZeJtSc5ztBdY1glQQdKL97q1lQlT4s28uOaelpzkKyulkG2krB/9Py0AU2Wl2M//eU+SfQptjw3C+IJSd4XCEFTUVGt5aJbBnXAK7d+WXLtL0uuBWPRqidlKfek5Aj6w4r1H4QI+mYAb1fd9jVH0LmzaNgQdF+2M4ORzqsyIxaNzBF0BIvGqkTQZrSRc2zF6TDOqTYv3BJ5FKYeCe9JhqBV48n249r035bOk7r2ik//beg+K6b/1vYy+RVs039LB6pKBqoBFA3WFg7WAjgzVF8w1ADg1HDq1EgKwInR5uOjLQCOjjkR9HMTvQD2TfQ/O9kPYK+EoHebCHpmHDYE/fj8eQCPLcw+tjAL4JGFOYGgw1ikpWBCsKzGWgIh6DzXP9AQJM7XfAkvyI94ElHyPOdal+yL7epkDuDfx/1sRtTL356489i97E67Rkqt/+UXl5/zxeBlsRB5pPw9oQ2Op8PbyM2qj4sJ4hLmdTzNBlVNDuw50LCXGabGpfjDgQdfMr31rU/w+ZD54ZveU06MnZF6q/YDYsV/gBFPSPR2QAiaiopqLRfdMhIsQtAJ169Krv0VR9ABi/5CmhD8WakSi/RROUPQ71Xe9G7lzQDeqbrtrarvInsEvQUqgh6PjaA5Qd3f70TQB5cTQWfNomFLSXIg6DQsOgME7U5MkucKI7ZpZZwF5C1bKetdEiJnx5HKY6JLnV1nwUmew8vgsBl5pKUedbW/IOAzgPb2Y+0duviZTf/tOtXcxcTPjV0i+ygQP7Ppv7U9xYH+mSNoafrvQBUCB8qBGjAEXQcVQZ/UEXTbi2PtMBH0RAYI+smZczsZgp7YPjsJYNvcFCQEvWVhJkDQjy7MPbIwB2DzouFJucgQ9MalJZ1FLxGCphvw2muanY/4rudTl53dAPuZnYdsQaKXWPxUrp3Kir5SvMwPwal5lr0e/QxGQ6fKftSlomqnPWWzoUrZ2EdJwGxxe3SInL28XCBxLTFdnzzU+ObhbUA8IcnRJARNRUW1potuGdQBr9z6MkME/WHFDQDer7zpPY6g3676LoCfVn8PwOs1P9QQ9Et1911Ij6C3TqW2AZhIPTHetAPAuaYnkQiC5nYHWEYEHYtFa3jc4lWZJYtG7NykOCwaTtPK9DaWuRtbJrQ1525rRyqZbOyPMNmQxpadBU3B3usgzz3KhaeS5/bnOXkOLSeF8wbSiZ+buk4jED938eyj7kIAtT1FgfhZxB8FDpQVfaH/RoCgiwd1/42CoYbTQ41gCLoJwPHR5mOjLQBeHGsTJpQADo93HRrvhoygJ5NA0PMzj80zBB16Ui6onpSGHFpm0fTxTjfg1dkZR7KdZUOTHp2E9KchUV10fMBHpyvDwCv1vyZ5tjhj+Gk8QNwKaoNO+3AS8Sjyr6uJL9Ep9p3D6mkDRpXvi554QpKjSQiaiopqTRfdMqgDXrn1Zcm1X5ZcC+BXEoIWjhyfl14H4Odl10sIej2A9ytu5Aj6VhlBv1Hzw9dr7gRD0HdDQdAPcQS9KSaCHrsECPqIsOR1L2RMraODkqAS6RxZNGLnJsVZQKRM2roQgamRAdBOv4DYeDlciD7SkDPvjxhJwzLlYB+7zMT15iLPwm3jSHc7SzrSNM9Wz2cAbVbnZ0P8zLKPusPso5reYgBVvaVVfUz/DIf/BkfQ9ZoF9MmRphMjzQCOj7YcG22FgaAPjXcdtCDoATAEPYSYCHp2CsDWuWkNQT82L5lCL2iOHFwOvWRh0fTxTjfgVYAUnGArDW7zI6iPF4aCZ4Uzvx78Iebz4g3fSoEZa+Ice+6ji/Bz9hzvIfMMeu7Nmp7PyuO+9cU1kbNn+Z26NYGX9X3z8yVH93K/hiKEzSrTp8+ZPN4vaHATvAUQgqaiolrLRbcM6oBXbv26+JpfF18DXQ6tI+hPy64H8HH5uo9CBH0TgJ9V3vp21W0wEPSrtXe9YkHQG8AQ9GZkhqCf5gh6r+kFvewI+giyVVBbWTRsCDprFo10wYUZsWjEs+yIyaJxiRF0+iM1huuAS+oszots7NzLzjL7aWiej7jcNiTybPF8BtDawW03Ok/pzs/dZwR5Dpyf5fDB6iB/sI/lD5b3Gf4bgy7/DZFC2BykEB4bbT062gbgxbH2F851ADgyHiDo7gBBPzfRayDoIY6gR3afHwWw6/xYWgS9dW4awJb5GZZLyBG06sghEDRzhzZZNH28J17kBZ1XduhpDEcANV+lO7I7q8ee5a9wKhnDCjg7pJYERRAowotOqUvr3pzNaMS1LDB3MnJB20nrf+MuCAdmdcH1uGOXdAdml0813HsSPtk4/76qZLa4bXieaxWFoTowtq9eclZQbNM8q0/2cvqAMMw6nNdVFm8k43HfJxeflQZNiSckOZqEoKmoqNZ2Y0G3jOSKEHTCJSHoa74suQaqHJrlEpaxXMJPytd9VL4ewAcVN75fESDoW96puhXAW9V3AHij5gcGgr73Qt39sCPoR7NC0HsRN45QQdCRiDgWeVYRtPUJ2bBopJNJR7BobcEg0ulZdDSURubCacuC1ewio4WE9i1iEByX0IE+dfBtxs7mXzSUC0Ny20hPnjvajwXkWfZ8BtDSeaql8xSA5s7TTZ0FAFLcdkOIn+uE+LmXOz/3lQbOG5V95RX9TP8M2X9jgPlvFA7WnRUIepghaGYBzRG0nELIXKDHuxAg6IkeAM9N9O6f7APw7ORAfAS9Y3biidlJANtVBP34/HmBoCNNoRUWTQiabsCrvzPOiVK5NhVibS9XGLYGR84KKJbjVXKAhzkfyMo/O14u4+bHsOzWdNEhS3fwcJkDGxv0XMA/3r6p78tIOx4/9sj5eTiFXiY7QpXk+BNPSPSDkRA0FRXVWi66ZVAHvHLrN8VXBwjalENniKBvB/BG9fdfr/khgFdrfvxK7U8AXKy796W6+wEs1T24WP8QgPmGjXMNmwHMpEfQu8aan8IyIujutiPdMRbk/+bOopHGNfpQDIH0QYFM4UDT8TMN0zpL52TrkRvQjr9vkQtsEOSB0v4bDnXbQet56THIs3GFZEKeO44JzbOWNmjabjDxc5ckfu4uhCR+rubi58q+skpm/lxezvMHofpvFKr+GwVDDaeHGwGcGtEtoGUEfeRcB4AghfDgePcBA0E/MzUAYO/00J7pIQC7E0LQhiPH/CaHHDr4SUU34BXfB7uTBPPzjVQHR14OO7lyBzXJLcVxaV4pqYKr+bx4NoFxFn8ISEuePZ08y6uo8Na3pBB6Ab/SVvHdL+rreYieto++7dX9RN7rX9trbU2+f4gnJDmahKCpqKjWdNEtgzrglVu/Kb76N8VXA/iNhKC/5I4cgSn05xKC/rh8HYAPKm54v+JGAO9W3vwzCUG/Wf39N2p+AIag7wJwsfbel+rug4yg6zfONWwCMNP46EzjYwCmOYKeTD0xYUPQo81PjzQ/DWA4RNDPBGFzlxxB586iEY2gM2TRSCeTzohFI3+2HhkvZLFvypFGDIsYvd5WMdR8gZ2Fw5H2Gow5d3GfjeAnWwgTBk23DYM8d5wwZc9QyXNjNxM/C/IciJ9rhfg5dH4uq+grB1DWX8ngc38gfmb+G4WDtYVDiv/G6eHGU8ONYBbQTQCOjbYcFRbQY+1gCJq5QAM4ON4TIOj9E337JvshIeg9AkGfH3mKI+gnZ87BjaC3GQh6y/yME0EvOB05CEFTB0wdMBUVFRV1wNQBU9nqt8VX/5Z3wL8J1FhSPtIXJdcC+Lz0us+CDrjs+qAD/rDihg/UDvhttQN+reZHr7IO+B53B/wI74Afn05tBTCZ2j7R9ASA8aadrg54uGUvgKGwA963XB0w09Twn+l75ehIJbkDjhuglG6usPjZZ1Fp6XKtOM2x4/HspE+5yKYs3pDxu1upwbUjBCO/KNaUcXE9aNFGneynaHyPmpN9OzpY0hHrgDtF4xuGHQW9b1OXfdZvfQ+b9VvbU1zbK4wnSwFU9ZUF038r+kPtVdD7Btqr4oGaosEaAGcH684O1SHQXg1p03+buAOl3gEfOdcpTCgBHJzoOTDRa3TAg9Ed8M6Z8Uw74McWZl0d8GZjQnDwk4puwKvvG6PFZdHXIr19h09fvM47/OmnfVp2L7HqT0JM1YoXR5/lHld8jYc4xphEPMeiirI80/64D8/tgin9yrFV33CXtAm1It9OntWZ1T4/3+rhar8+M5z7m5VvpQ+HJJNo3nK8T4gnJDmahKCpqKjWeENBtwzqgFdqCQT9W0ONJTwpRSzSp2XXf8IQ9PoPKm4A8G7lTT+rvAXA21XfRYCgqxUE/XLtPRfr7gWwVPdAgKAX6h+er98IYLbhkZnGRwFMp7ZYEfS5pifHmncBGG3ezRB08x4NQQ+27BtoDdwKLbM8hWsgIrliTPKsIujnIxcygNKILdeKA6WRjlHHw9SxJF2ZLiS6Nfs+y1SZg+WDruHqaTvUwxeMMRec2TyVzwPobjfJcyi2AgPOAXk+Jib7CvIcSK7aOk+0dp4AI89MctXcFZDn0xw+s8ijxpA8FwKo7SmSyHMJgKre0qrewHiSaa/K+yt078kw+yiY/lsXTP89PdwYTP89OZwKEPTxET79d5RN/31hrD1woDxyrlOYUAI4MNEThCDtn2QI+pmpQQlBD8OBoHfMTCBDBG2qsQJPys2LC4JFiwX6eKcb8MpHCk6Gk1V37LsesQPn0DHPj7tl5xN9L/5OXSKkmQUZzhHZRdhArqq+QDYwjTm2cTxPPWf2kL5seWYcp8noX/nS4fiOtyY3p/R8Y99Nv0nfeBUHQBZvSM98ozr335H7hNyu6qQaXfowX5b7BfGEBEeTEDQVFdWaLrplUAe8cut3RVf/rogh6N8aE4J/pSLon5dd/2n5OgAflTME/V7lje9W3gzg7arbAPy0+ntvVn8fAYKu+TGAl2vvDhD0hbr7l+ofhIKgN882PALgfOOW6cbHAUymtk02bYcdQe9GgKCZJ+UzQy3PQEHQYqqorIyVtMGW1Jr8IegMWDQynzqcAYLOjUUjXgpTzgg6PQyP3jdl5m6raxCsc3kPw51wJZ9KY3avSZ4Fcz6KYI4vm+x7vL09mOx7vI3P+jXIs9A8C/J8JtV1BkBAnhu6z9b3FEKa9Ssij6p6S6t6lVm/5X0V5X1M/BxM/y2RvCcBFA4x8fOZ4TD76NRICmz6LxM/Bwj6xdE2zYHy8HiXmAEM4LmJ3gBB75vsFwh6L0PQw09njqC3cQT9+Px5BAh63oWg54Qnpcmi6eM98foHGoK8sQUnw/VkvuNrACzWV1ADFnnWR8QLRQS1+PpG/PiYK8Y+e0mjM5eyVGOGphWhF4nbPLiD5V24I/ypLqio0wi9d8PMLBainiAIp33Bs+ybGXHvReytBVbyvTKfoGzZfCETU/v6UPPnePKbTDkc6VVCc0pfvVjdVNnToLHDz9JCsH3pdPjaZWDxvDSV0vYLEolmanlZYuXsZ2dQxbhNEE9IcDQJQVNRUa3poltGgkUIOuH6fdFVvy+6ChKLFo4cXxZfY8YifVq2DsDH5es/LF8P4L2KG9+tvAnAOwxB3xEg6Ndr7nyNIeifXKy9BwGCrnsAwEL9hvn6hwHMhQj6MRGLNJnaDiAwpBxvevJc8y4AY827R5t3Axhp3jPSvAfMkzJA0M8OxkbQrgT1aOCcG4J2LWSUraR7d0QbW2bs5pEWaLvxdUYLaZ6Q3b6lt86waJtNF0nX+RJBRl0Oe41O2V6jnYmcIZtsSAFHLdxto1knzwUhee4OyHMYdgSgrrtI2G7U9DC/yWpOnisZeS7XyLNIPRLOG4H4+QzPPpKMJ1n20YnR5uOjLQCOjbYeHTP8N7gDJdM/cwS9f6IPwL7J/mcnBwDsnRrcOzUE4OkcEPRWCUGHsUjzCoJ+lCNoOR+Js+h5+nhPvAhB578thh/BkaKV0p6vh4LL0NiLSPYRa2hiTx8qo7UBZz8S6K6ub+src9eTJCWeeyGL7XhZvWIIZo3xt3PyiOkCLnuKCNsKZfvh9ADBey2rKETa8LsI/y7kMOsIGb6bFbs4vK9sVl3wtMO5NJ9X9KG9fKNNPCHRz1VC0FRUVGu56JaRYBGCTrj+wBG0YNHCkePXxdd8WXwNpFikz3gs0sfl6z4qXw/g/Yob36u8CQDLRKq6/afV3wPwRvUPX6u5E8ArtT95ufZuAC/V3Xeh7n4Ai/UPLagIeoYj6OlGFos0kWJ2HDwW6SmOoJ+2IGiHKXS/JK9FJIK2ql7zjKDTbu1IdrFLyIDHJpfUFBsa97i16Fnsm+rMHGHNbR9kAZY1ztzV/oKUX+T2c3YYOwvy3NpxEow8n4IacNTU5cw4ElbPQvYMRp6LAVQL242+0srA8LmvXNhuSOTZSD0aZKlHAAqGGkLx8zBzfg6yj46PthwbbQVwlIufQ/+N8dB/4+BEN4DnTAtojqD3qAj6qfOjeULQLhYd/KSiG/CK74NjPMK8oH0/BjSUlJ4wJdDacwT38p3P0rfjp3nldA+t2tOS7PNjNxAJb9nLz04m+Yq+xYgj8s3hhtJQqa8kulZRsGzO7Fl04z7CPwS4NM+Wd4jEZ331mGzqaC/msPjan5K8WINt2e2ELyzqdPP/qUQ8IcnRJARNRUW1potuGdQBr9z6Q9FVfyi6ChKLluXQX3JTaD2XsHxdkEv4QcUN71fcCEA4Qr9VfQeAN6p/8HrNDwG8WnPXK7U/AXCx9t6X6u4HsFT/4GL9BgDzDRvnGjYDmGl8lOUSNj4+ldoKgaBTO8+JXMKmIJeQm0K37LHkErbsg46gQ9/g1Yags2TRSBpBS5rq0Mgiu4XMdyBCE25kApoC5oAzC+sMc0F1b44JnANXDWGv0S7bawRq5w5HsGBnQVMns3d2kuduFjJY11NUGxhuhOQ5iBq0kGeWOThQGRg+lwxUFzPbjZrAeUOOHYQkfj41kjLCB1tF+OCLY+1g/hudYP4bLH/w4ATTP0OygBYphHunhiQEPQLgqfOju86PAXjy/LlMEbQwhRYIWuQSRrNo+nhPvEgFnQekwPtgw+wiA6GqEVwopNSysNd3L1hpUixRsEgo8x3+Hnn5Wu2wrchuwfc8z/k93SkbVhWtoaF2pEFHFgte2pOX0QJU+Bnp3ZFmaz7cRhymD4ay4DkuPu2lPU0ubbH+MJXG/P2kW2oYjhwmedb4s/pCQKTbhg0Rp3GuDqXOnnTgLvfpTJFw4h9W0ns8AjgTi87v/YJGIbHRJARNRUW1potuGQkWIeiE64+F3/lj4XcgsejfF131+yIRUGjkEpZdD+BTjqA/rFgfIOjAEfqdqtveqrodSi7hj1+pvQvAxdp7Xqq7D8CFugeXglzChofnGzYCmG3kuYSNW6ZTgSn0dgATqR2hKXQTM4UWjhzDLZop9LODLcyRgyPo52QX4t7WgzEQ9JGY0FhWzOa4IP83d38PpLG2juP4EeFTndMC7CYY2QiYI/TMbusMeYF5aHRK7s0mcG5vD4XNnDOHwLmNA+dWw14DQBOXOjd1nU5xzXNj1xkADV0MODd0nw18NkTIYF1PUW1PMYCanpLA6jlC82ySZ2a7wcmzED+f5c4bAYI+NdwoyPOJ0UD8zMMHx+TwwcB/o4P7b3QLBH1gohfAcxN9APaHFtAMQe+ZYimET0+PJIigQzl0aAodxaLp4z3xIgSdP7YgIzJfY0mSF7TPeJZnBz4G/5H9NzhF8/n/dLMBLXTQ16mlRLY9Pw6d1r8Mx/nGfCm/rUex6EvD/fJ3xWWyYLfI8KMk/J6f/hX168tugmFj+BK81Z/jq+jb8ocA+Vee8zm+60h18qxfu77ytlb31uJAov2hQT9A3VvHIvM2lr3s3k6x//C0ir12VvttgnhCgqNJCJqKimpNF90yEixC0AnXPxV+558KvwPgj4VX/bFQlUNzR44vS67huYTXBrmEn5Zd/0nZOgAfhrmEgSP0rW9XfRcslzBA0FIuYWgKHeQSbghyCecaNs82MlPo6RQzhQYwkdo+0fQEgHPCkaP5qbHm3QBGhSNH814TQUuOHHIQnjAfPtSjGwhbuWhc04YEEXSOC8uu0M5ta+0Zw/xOp275xUgls9tDI1hQnTTaOo4HeFlwZqFwbpH8nKUkwVNgSYKMOUOWOnczqbNs78wcnnm2YG1vcU1vMYCaXkGew5BBpCHPwvC5umhA2G7UAjg7VBc6b3D9M4CTw0L83GyKnwPn5+fHePjguc5D57j/xjjz3xAWHJAsoKUUwiFhAb37fHwEPQlg29zUtrkpAFvnp50IOnTkIARNN+C11xnDJE3Mg9aLZHkq9fNdCMoLt+bDvQXHq0QoqH0Dg/nIHlbRF+c8tyb5woheho+be2LzSfZ0ew3BY33P4bzhuQ06HBjZtzlvOFbRYbvv9oLWj8mDaQliJCSmfz/Y/hCwrFDNo/foMt8aiCckOZqEoKmoqNb29zy6ZVAHvGJLIOh/4nLoP3I59O+Krv5tETeFLrkGwC9LQ1PoT5kp9PoPJQT9s8pbWC5hlZxL+CMwU+h7oJtCbwAw17BpljtynOeOHAAmU9smUtsBjDftCB05mlVHjmbdkWOwZZ8hh2YIWqQTujLsbELcDBB0DC5qWchilWAh30B7ebaW3bF3WPCyypk7mEVzR8exdsOr2UwMBNDWeaKtk+UGtnYqZhoKcO7SgXOAmlPdBaluxpwhAeeG7rMNPbq9s0aeQ4fnXqZ2FiGD6cnzYBg1GEGeT3PnDQAnR5pOjDSDOT8H4ufQ+fkFEOfOPAAAIABJREFULn4+HIYPdgE4ON59gPtvBAja9N9wpRDmCUE/Ni/k0ISgqQOmDpiKioqKOmDqgKni1J8Kr/xT4ZXQ1Fh8QvDviuyxSJ/LsUgV6wG8XxnMBr7lHTUW6fXqH0odsBKLtFT/4GL9Q2CelJsAzDQ8InfAU43bwgnBKeFJuYt3wLtZB9wcTAg21FgtoRoLQJ8UjuSOc19NHbC1FV4hHXBuR3pUm6drVVTBKqcSVpG2NteUVrG5vJ0n1cb3lCawau481dR5Wm58hcYq1VUgWl7hKwl1jq/e+PYU13LJlWh8heRKqK7K+yqC3hdAWX9l2YCRdMT9JgtVv8kzQ/UFQQc83MAa3+GU6H0BnBhtPj7agkB7NaZqr87x7KNznYfHWQccaK8OTPSwDniyd/9kX9gBT0kd8LTuQClCkPLaAUszg6kDzmPRPODl+dKoNsrGgpiH54m5tb7xHO4QKS2ALzg7b08RUpn539I8YDa92I+p5bHMZnY8zclevqbAIDP3Sj+BzYqzHsdK0/VM51xhVyi9bzFulJ7pwb6W596aK6/es+ybZYqzZ30ccE2G9uyzpdVfme9v40oPnxMrv8h3fnLk+ink6W6eMD4HSCu5vJ8FxBOSHE1C0FRUVGu7m6BbRnJFCDrh+vNZhqBlFq1NCDY9KT8vve6z0usBfFK27uPy9QCC2cDvVt6sxSK9Wf2DN1gs0o9ZLFId86QUCDr0pGzYPMMnBAOYCsORtrN8pHBC8K7R5qcAjEhqrKHmvWAImqmxAgQ9wKVYMdRYZsC7JcUdKwxBL9fWnGQ4mhV36HaP2sIx5/RcYQlp009p/3Xh5bbOEy7CLC8AaO48HcQWNXedbuoqANDUVdDUpeQXpbotwJnN7uWo2VBaFfE5vrLkKog2KqvikqsKLrkSqquy/koAGZLnBijkuVFSXTHLSQDHhPZqNDSeDBC0MJ48fE7SXo33ADgw0SPijwIE/Sx3oNwbOlAyBL1bQ9AzYwF5fnImNoKem946Nw3g8QhPSjeLDn5S0Q145VOFGGhJx8guqujL3zzlrYSzfv1wa+YMxLTzgGNEnbi8+WwTiP30hNSEMF/Da2SFb9aPN8fX9FB0eCt6rgtEprtp5/v6zlU835Fx5JpVHI88G/vvSTzZg22zliN1YWo3oveSOllp33Gm022c9zJVcjcL4gkJjiYhaCoqqjVddMugDnjl1j+fvfLPZ6+ExKKFHPoPhVf9oZBNCDY8Ka/jnpTrPilfD0DMBhaxSG9X3Q7Jk/L1mh+9Vqt4Ur5Ud/+F+gcALNZvWKh/GMB8w6a5YEJww6MAzjduEROCI/KRTDn0oGFOCeZMyVh0mI8UsOgM85GQAIIOmS3SkduMFhLZiGNr6VmxbO7I/R3FNFz9v2mn51oIM5+qyyfsnmhVZ+7apvCGnLm5ixHm5i5d0gxF2Hwm1aVwZgU465N6C7m2uai2l83uhQ6cWaJRVZ8qde4vr+hXp/ly8lwqZRwBKB6sLh6sQXryzMKOBHlmsufQclKJPBLi5xfGmPj58LlOMf1XFz9PhOJnoX+G7EAphSC5EPTOmfGds+MAdsxO7JiNhaC3zoVy6GBBQtAzIYI2FujjPfEiFXTyXxCFvtPjnMuHspCOMfkOFGUyLQ+KCtrnT3Hpov2Qewj85tv3Xw3rdmIqFYDGyvcmtpXlhZXt820LOim1/aXCfNEoMuzAoR7cwJZfKA4DVk9aXX48SoltiWzyLZuFJakpSvPs2f7cYoHGVooeLFtAcZTjZDYsmmr1QVPiCUmOJiFoKiqqtf1FkG4ZyRUh6ITrX85e8S9nr4DEov9UeOWfmCPHdwSCljwprwXwRel1vyi9DsDPeSzSR0wLfSPzpKy6NfCkfKv6DubIUcMcOV6tveuV2rsBXKy7V5NDz9dvnG/YBGC24REAMw2PCV+OqUaHHLrpKS6HfprJoVv2DBnmlAAGWvb3qyy6T7DottCaI9Kcco0h6PQ8GZmS59i65TYl4t7hj8EziFo7TrR26IQZNs5ssc7oPM09NAxJswgsCoBz15mGLm4e2a0s1HfrwNnmqlFczYKMFG+Nqt7Syl7hLsnIcwCcQ6lzfyUnz7ramZPn2lhuG8MBeU6d4ORZt5w0Io8C8vy8ED8bxpOm+HnfVL+AzwD2Tg0GDpR7hAPl9MjuaeZAmRZBPzE7mTWC3kIIenmLEHQevymGXgPGtHcpisWH6krhyJGROHPA5nwj2Nv3g7wXT6LTvg4aPW3jvmO3Q57shykymq1HqD01qJ+vr5KGqq5aX46IUPpMrhUH/EyrRo6w1LABW/M5yiPW9HjXRiKfw//rOQ7H051mJJ8KRA9CxGZtC/pR6ypoC3l2nmX1/Rasbo88ithaHG+TtJdKPi9oanCX8eODeEKSo0kImoqKam03FnTLSK4IQSdc//PMFf/zzBWQWPSfC6/8c+jI8R0wU+irAPym+OpfC1PokmsBfFZ6HTeFZnYc71cEptA3/6zqVgBvV98uHDleF44cNXcBuFh7z8XaewFcqLt/ScihGx4GIKyhZxofBTBtyqGbQjn0ueZdAMaanxpt3g3GovcAGObu0EMMRD87YGHRqjUHd4eOZtFweERHkmenYQVyQMRZQOM4kmOX2UV8d2XrAtLIlfXoIStYZl4ZqjNzk9s6o7HrjCDMmnWGvICAM3cXQsLL8kJtTxEkbbMMnE0/Z6iuzsxkg5NnGTgLqTNTOw+EaueiwVoAhYN1iOu2kTrpJs/C8xks8kgnz4fHuwAcGu9m4udxSfw8oYufA/jMEPR06L/x9HklBCm0gJb8N5JF0K4FQtD5KELQywAZ4KdrjGVGJkNjT2bGvuDM7P8e7MBZAnm+ptrkT/C1BcUB2lfkop60MdmHwLr/EqLz+Gbj6KJXKw3zl12napPj2lGneX4icKjvUClHKJwj/mSQ1h06pqF09LKyEYeztHTJuh43VrStollz6GYdnmQA4jlXiXly/fxcYF5u0w8ITefn7kA8IcHRJARNRUW1potuGQkWIeiE6y8cQUss+sp/ZnLo0JFDMoUOHDmYKfQvSq/7rOx6AJ+UMy30hxXrAbxXcSN35Lj17arvgjlyfB/A6zV3agGFF+vue0kLKKzfCGCuYTOTQzdKcmiLO3TAoneNNT8FYLR592jz0wBGJGsOSB7RA5JHdL9hE93rZNGhNQccCDqSRUfH6uVqjBwTGmdKj9l/O3UTjLQ+GFbCjGi83MWy7oVRRrNCmPUQQPbf7gLYHDMsXs2cMMumzcK3GYwzF0ONC6zpLZEXIlw1ZD9n2KTOpf1Vpf1VYFLnagAl3F6jeLBGVzsPhcwZwJmhhgif59Btw02emeHGuSBzsOOIsN3g5PnQeDeAg9x248BEry5+nux/dnIAwDNS/iCAPdNDofj5vCOFMHMEvW1uepsDQcdk0fTxnngRgs5DH+ykDWHmYIicVJ4Mxwx8D77vMpeVMK/GI6VX9BXQKK+iuoXA93kfL+NrVUTti13SZN6y8Fv/2gxd5u3HVw6vZPyVBSR0Gj7Ac7ls+w4Bs40VW5XAQIyQQcU+wrmTccFyhNtGRpt1Sqndv1KO3bMdqeVVvPR432HW4Ue972G6kWQhfl6ezyiq5T4RxBOSHE1C0FRUVGu66JaRYBGCTrj+cuaKv5y5AhKLDuXQZ6/809nAkeOqP8Zw5ADwcfm6jyqYHPq9ihsB/KzylneqbgXwVtXtP62+A8Ab1T94vVoEFN4F4GVJDn2h/kEAi/UboPpyaO7QU6mtk6ltACZST0ykdkCx5ghZtEgqBDDERdGSR7SFRZs20WZkIRwxhRqLjvDfuFQIOgI4q64XbAFAa0e0XNnwW9Z1y6dl3bL4b+iP0Xm6qdPujxF6MstK5q4zAKIcMwLOLC3UdWvWGRJq5gsAanpC4FzNPTS4mUZZVWCm0VsmXDX0AMG+0M8ZQFl/ZalKniWpcwicudS5lqmdJfIcwOeAPJ8ebgzdNtSEwRMjTRbNMzfcELLnwHDjCPsZGj4L242D4wp5fm6iT3d+nhx4hiHo0PwZmv9Gzgh6u4Ggt9lyCeOwaPp4T7wIQecBSaoLshe0yA30hdGtuqKmVPTC75uSP4avOnIonNbTX9qX89NC8bN4USPB0JdYtLYRtqJn2VUdj5tEXZJbezYm5udC5LJQeMbx/Yjlj+EpWws361rwTBAY4aEh/0ZZ3fds509FqTpzNPMvHT4i0lHoTwiPFPor+tpzZOLqKUNh7raFV3tKtqAvrKE9/bLzPX3opJPr+cZmlVeU9cyeeYBeOmJr7pKnjIl5Ko1zalNKJ8DS0m5i1brfrCFoSjwhydGkq5mKimptdxh0y0iuCEEnXH89c/lfz1wO4C9nLv/LmcsRyKGZO/QVgTu06shxNYDfFF8TOHL8quTaL0qvAxBooT8tX/dx+ToAH1as/6DiBgDvVt70s8pbALxdddtbLKDw+zygUJdDvyS5Q0Py5QhjChu5NUdqy3RKSyqMYtEARlr2DHOP6CxYdI9kzQFFFO1k0XG8oOMj6JjaZqQTNseRK6u65VORthi6P4ZhkVEgLDKQzpBZc8xo7D5jOmbEt84IvZoZYQ49NLSgwAA4V/eWMvLcV1YVmmkonDkEzkaAoGDOJcxbo6pYeGsMVIN5ayhS58LBurODOnAuGFbUzi7yfHw0TBiMIM+a57Np+HxwgmUOcvLMbDf2T/QF5FkSPw9qzhs8fHD46ekRMAStWkBLCHrnzDiAnTPjIoVQQ9BPcAS93YGgt2bIounjPfEiBJ10E2wLH7Q40moLshc0d4fmHNjjWwshmbygUi5PAY3cAySEeb7Cw8K9lZ4p7b9mM6B5BAjQaMqhkZZFez58Oyt1sugcMXVeuoGEV7cQYZci1xUjGNPjwvWrTOTKEZpqvuxpl78eKZhGxe3FPAppwYt3IJ5VwBzbWsQzfDZirogsczp9Ui6vyfsF8YQkR5MQNBUV1ZouumUkWISgE65/Lfj2vxZcDuBfCy7/a0HAorkc+swV/yzk0EFAYdFVfyhicmjmyFF8za+4IweAz8qu/7TsegAfla8LHDner7zhvUohh74NTA79PUhy6Ndqfvwqk0PffbHuHgCaL8dC/YZ57hE9y1j0o8yaI8WsOSZT24VN9ETTDgDnmp4ca9oFYKxJGHQkw6KhiqJzYdE5ImindYamcI4CzjphllEzbHrmCAfm9JF/bqMMeUFXMkvWGYIww26dITiz6aFRqmub+0qFhwaASpkz91cAqOivqOBmGrqNc39l6QADzpw5VwvmDAU41xQKqfOQbrJxRo0UVNTOPFsQTOqskOfjoy3HRlsBHB0L3TZ08nwuJM9C9ozAdmNCsd14TrLdEOTZJX7eOz0k4DOAp88z8fPu8yGC1sTPy4ag5QX6eKcOmDpgKioqKuqAqQOmMup/FXz7fxV8O+iAg1b4r2cu/ws3p/yXM4Ea68pQjVV0FYDfF13922I+Ibj4GgBBONLnkjNlmI9UyfORmBrru4Ea683q77+hqrFerb3rFWZOyacF1wUpSQ8tBDODGzbOiZnBjcHM4MemG7cAmEptnUptAzCZemKyiblUBolJog8e1eYHt+wVrfAgS0zaN9AatML7B/TEpLAVhi0uydoKx5gZ/CLihSAl1QG3pOuAZWkV1Im8LoGVbQqvRVoVt991T+GVpVXBz5qeYtisImWBVbU5l9dmHlneV1HeZ+93lcaXTepljW9x2PjWFA2wlpf1u7zxPeue4xtIrk4PN57SGt9hYTDZBOD4iNz4tgA4xiVXR43G94Wx9ufHWOPLVFfnRNhRF4CDE90Hud/kAa690jrgZycHAu3Vs5MDz0wGxpN8+m/YAYvGV5n+a3bAO2fGM++Ap0QHvI064JVRJMLKWzcsKYaM6ZeSC6NvN3G0tdJce+X76jYNqZSytch5wJKQSkpIV54M+HyipZi+zPfZ94xVtEMWzwlnLfvqNOJQo+L5SDd50cvm23diX9jNSZO2UHrxK0Pa4ylzRuW5qrYd9cx1lWvIxC3qNNaIKbzSEWnrIr2lojrxXL2sPWUfrBexPn1ZyLI8aWva5Fp7ClPk1GHnTkpTe1VPSnNWru28W+KP1K37nrpLEScIiDnfNzkFlu8EoUTvLsltgnhCkqNJFzEVFdWaLrplJFiEoBOuvxV8+28F34bMoqWZwcKcMlBj/anwSpaPVMTykX5TfLWYEAzgF6XXfc6dKT8N85FuAPB+xY3vVd4E2Zyymqmx3qz5wRs1gRrrR6/W/hjAK7U/AXCx7t6LdfcBuFD3wFLdgwAW6jcs1Cszg2OyaKiarGxZNJNlAehrPdin5yZlyaKharJcLDoLBO2Y4+sCzhbUjNhKK80qUhZbWWfu1ndbIonSz+UNNVbaRN4SfS4vV1pZ04q0ubxRwHnADpxljVWR7itZB+sc32HLHF9GnkdSJ9k035RpMAlJcnXMmOwbJh2Z5JnP9z003nUwCDsaZ7N+Q/I8qUcehQh6agDy9N+pob2G9ySA3edHNPJsd6DMBkHnxKLp451uwKvyG6MJ7VwEylMpmuf7IeFi5Dl0gvQ4ixbQi63r+wifA3lrgkVLppJ8wrH4lcV4UplG7KkbgTSh11xFeo5vMDz5ETF32YeW3WQDaBqLjheXlP45KyR2yY8xITXZ1X3LlciGzHc8J1aQkcGIJOCchnVDj6YHvDg77wg7gmcNujeDjHzbRGRjxn36nY+4/i7JRebFeC941N0u80khnpDkaBKCpqKiWuMNBd0yqANeqfVvp78VIGiTRf9VMqdk+UiFV/6p8EoAfyz8DpsQXMzk0F+WXAPglyXXflFql0MLc8r3Km96t/JmAO9U3fp21XcBvFV9B5sZXPPD12vuBPBqDQPRL3NRNLOozJZFA5ho2iFYdERuki066VkAAy37BloCFu1QR7cdNFj0Yc6ij3SbULqNQengp5tFZyaHRv4RdEie403qFfAZjhm9rkm9tb1idq+cU8SYM4Cq3hIxo7eqzw2c+8sBVPSzBYuL5EAlgNKBqgA4i4Uwv2hQ5BfJs3u52nmoFkAhFzlrUuczw6HUWfOVPDWSCqTOUrRR8wmudj7O1M5c8zymaJ4FeZYn+wryLDTPhzh5FpaTkDXPRuTRvql+Tp4HnpkagC5+zj+Cnp3cnjmLti7Qx3viRSrovFAFx+OwaJM1fSUPC9K0lZpYFXq+kPitgXNVcSiHa7KLpLIQVxdtl2FbcpOYcJobT8pJUEwO7duxmORVaebfyP/VpebW/1pXieR1l+Brvh/3aRlLZ33H9g2pdnqq7HueezfSI2JDbRvHYNJzjVImxpnKK/rKQvxR9eIAeffjMcF1fkGaI8eM6tLcLOgEJDeahKCpqKjWdNEtI8EiBJ1w/f30t/7t9LcA/Nvpb/2bwaL/VTWnlBw5rpTykZgcGsCXJcyZ8ovS636hyqE/Ll/3kbDmqODWHFUiKOm7AH5a/b03q78P4HUhilZZ9EsZsujzjVsATDOvym2aV+V4085zDEqHLJrZVTY/HbDo4Za9Qy17AQxygfRAYFrZYlFHByy6r+1gX5sikJbMOg53h1CasWhI6ujcWTQy99+Ij6B1k43uWLFFQvYMh+a5VpU61/ZY7CQNVw271Dkitsgkz6U8v0iQ5wA4h+R5QJBnpnA2g4zODlrsNYKfwYLFXZKbbJzkUucTI81M8zwiyHMrc5pkPy2aZ4Ggj5zrAHD4XOfhc11g4uduAIfGu7n4mVlOCgRtRh4x8fNUhPiZIWg5/gjAbsN/IxpBBwsSgp6wI+icWTR9vCdehKDzQnjEd0UHZfSlgHUgTT66jqZ932VYETpm8N9zgbRvJKYLABKbRUv5SKqthy+vwl/XF1tTEbGNfvOd11bx5TAd/kJK3BMkTbimkQ7TpXQ0Ha6oYcNQ/u3wJVA3a55ZLzuAmJGwWQq3d5Fb4w8Shr2G70pb8jwnuLcNiG5Dob6Q1SjD9n5w+ZOoa5nWFqbTSIxX1O1QjFWiQL04QIutR1bnPjnarF608hvESZltLNqP8YlEhSTPGo1CYqNJCJqKimpNF90yEixC0AnX/z79rf99+lsA/n76W39XWbQph/6Xs1f8y9krIecjSXJoSL4cvyy5VnOH/rRs3SeaNUelYc0h2UQjiEvKhkWHftGzjY8CmOG5SdOpxwFMpbZNprYBmEg9MZEKnDokgXTzLgBjzU8JFs3NOvYMtzCBNJyWHYxFBwLp/tYDgVlHX6sVSh8BoFl2yCzasOw42hnDLxoSkc40DSkmgpbtnV0I2mq4gdgmG+mDjHIgz2WcPMtBRnBqnnXyXMiMnbnIeajeZM6w2juPuMmzpHmWDDcYc4aDPOviZ46gD413M/HzRE/g+XyQO28w/w1uu2HJPopC0MPCAjpA0E/HRtByGpLJop/gLBqSKDo2i9YWwgwl+ninG/Dq6YbVL40azJHSyY3Z+b4f/jRXkRdCfsfkxJqZhjC70Lw7FH8Mt0eHh6/AzEA0jw5lFSi2HtD2BL7+HOkVdSbMnqnqoiXLDtnF2gSolmWx89BfBQgHB5n6EpiPW3XakUpsla3aiTDsm/JX4DXuRR1n7Mez7Mkyf8VImTTSYlc/192M+8wINb7zV77vZXQwhJcv4VuIeEKSo0kImoqKak0X3TKoA1659e+n/jFA0DKLDnTRf+MeHTHl0AB+W3Q1k0MXMzn0L7kc+vOy6z8rWwfg0zLTmuPGd3UWfTskUXQEixYeHcIvWmQXLjRsnG/YBCBQR880PsrV0VumGx8HMNUonDq2S2YdOwCca9opzDpGm3SBNICR5j3DzYxFS5Yd+xBA6Zb9cGYaHgTQ23qwt5WxaKhEWofSbemhtESnGZF2segQSnecaO04gXQsGkr44Okmd9RghP+GrIK2Gj4HKmgZQTsjBfvKqvrKggXEQ9CKw7NquCEx5wi3DRYpGCycDd02JATNHZ6F4QYkBH0y9HluCn2emdsGCxk8FoYMtnDZc+uLoyxkMPj5wjk7eT4y3hnYbkj+GyGCFuJnYf6MuAh6gCPowXQI2hlHmCmLBhNFp2PRBpS2LtDHO92AVwdVsBIewYolyiTbOLPneOoqgjN7vq/wJR8amPWMBSgsWobJUSzas7Bo3S8amhe0A32rq5gW0zJJc+4ATIMRvqzSY18dfJM862bXBsrzs/bIdcrXDVqo6oyd5iFO+h3L0XqZuKIT3vpZbCqnVfzkdj62z4ncFOb2iYH05zo7Fm3dZS+KrVN3u9w3Cxrx5EaTEDQVFdWaLrplUAe8cuvfT/3jv5/6R9hY9L8JFi2SCgsu/2uB0x0azJfjajAWfQ2AL0uu1aw5Piu7/udl66DYRN9gsmgoBh13vBmYRUss+jWdRd9zse5eABfq7r9Q9wCApfoHF+sfAmCoozfPNDwC5tTxGIDpRlMgvZ0JpFOygzRLMwQw2rRbl0kLKN38jOYjrULpQCkdQmkAfZxI97YeYgvucMOutheEj7QJpaESaaaObj/e3u4QSHMW3dpxorVDc+2wm0U3dZrWHBZdtOYOHYqiHSzalEObaYOhCpqDaO78HAtBG1bPYchg8DM+gj6TOYI+ISHo4zEQtIgdRLT4mZNnK4I+aEPQ+yf6mBGHiaAnB56dHADwrIKgmRw6QNAyi4ZEpGVT6DgsWltgIHpmfAdbmNgxo7lGh3rpJwwTD3OBPt4TLzLiSLoJltiUgTotqEii03wV3QvaT8M8fYY1wwXF6EOxzgh3TPgH+BoQ/oqta3h0yMAcioxZbPYrvvOhN4cm9PUUww1pa3wV+ZmhN0j4K83WIzxkXxsW3W7b93QQZ7H10H5lIuK0q5iu3fDheVZQGp4mX9eE+3oSXnzwGIk6fXjR1DZhhrPiuyWX6Ur897vy1o5hNB75EZF8YmZ0FqptW0b0Iqmk83r50SgkNpqEoKmoqNZ00S0jwSIEnXD9x6l//I9T/xgsCBb975xFM2sOJanwcqjWHP989goAAYj+p8Lv/LHwKgC/L7o6YNG/Kb7m1yXXAPhVybW/LLkWwC9Kr/tcZ9HrTRaNwCyas+i3OYsOggvfrP7BGzU/APB6zZ2v1fwIwKu1d71S+xMAL3MW/VLdfS/V3Q9gqf4BAIv1DwkiPV+/EcBcw6ZZJpA27aMfn0ptheba0RS4djgzDS1QusVUSj8LYLA1tO+AZCgtwg37Wg8yvbQl5dCA0u3Pd7UzHw8wNP0igC6LiYew7Dhm+kgb9h3pZdLNTCAtJxWeAZDqOpMyWDRs6uh41hwWFg1JFG3KoW1GHIxFy7GD3IiDgWjBootUFm1TQdcJBM0soDmC1sMHQxV0KlRBjzRBQtDHR5uPhUYcLTAQtMMCuhP2FMLu0AuaG3FwFs1A9HPcCzpg0WEc4WQ/Q9CcRZuOHHunwlxCSOmET0+PCHfo3edHEenRsWtmzGTRiJRJ75wd3zEb6KXNhQkt5TD4SZVsEYJOugmW0I1EEVXAyD2TQ3dl3/CUjQCPvsNHOmTRgmMrptOWAMEQSX7l+TqqVX2kJXDtmwjaQNwh83RsRLBovjXfeFyzp9ZWUUY7FIdrEF4XRYfmJ76vkWFpb1WCqqziuVcRDiqqhbXy0sHO63xbMxgJXa+lTEb9V5nhcf24PNU3OBy98MpUKKXnaxYoctakb9us6gTutjRxuna74LD0Ktlog7N6U0cfiGSTnv64zPMinRrHXyJsI6wlfsI3/jbki7+A6PMOfNVJ3PONjx3fNxbo050QNCFoKioqKkLQhKCpzPrPk9/8z5PfBPB/Tn3z/5z6pgylhS767waL/teCb//1TGDNcbmw5gDw57Pf4R7RVzGP6KKrf1t8NYBfF1/zZQmziXaz6NCjA8D7lTe+z1n0u5W3AHiHs+i3qm//afUdAN6s/t4bNSzB8LWaOwG8WvvjV2vvAvBK7d1MIF3LiPSFgEgq4Z4EAAAgAElEQVTXPbBUr1h2zDdsnG8IoPRmBqUbHg0cpM83btGgdJSPtIDSqnfHKIfSI817gpTDISnlEJKJh+rd8ZyVTktQ+pDk43EYgJl1mF3coZBMBz91E4/QUDrCR7rADDFEZIKhNanQgNJhQCFsBh0R1hwVfeURUBqqKDpHFg1VFJ0di06LoHVHjngsOgDRubFooYsehBRTuGd6iLPoEEqbftHaQgilY+ulrQs7jdxD+ninDpg6YCoqKirqgKkDpnJ3wP958pv/eUpvhQNZllBj/d2YGRyqsXSLSqHG4jODi7lLZQl3qSy59ovApbL0us9Lrwfw87J1n5atAyD6YJabVHGjJst6p+q2t6tuA/BWlWiFv/9GdSDL+uHrNXcCeK32x6/WsrnCAF6uvedi7T2QxFkX6sNWeJG5Vz7MW+FNgYHlbIOhz2rcAmAqJdtYbgcw0fTERNMOAONNO8/xnniMZytZhFotLGRJbojDkKXWfYNMpbWP98T7+zVjyzYRsnSwl6ctyQ2xJNfiPXH7893taXriTqknBtDRcayjg0Ut6T1x54m2znQ9cZcQahlyLVWlFfbEPWcbetL1xL3Fwc8azbSyr7SqTwlKkhdYK9xfXtGvzxUGUDpQWcq9KoU4q5h7VQZ2lWYrXDhUK1phMUUYwJnh+oLhekcr3HiKt8LhFOFRrRUWM4NbARwdaz3KW+FwZrBqTqnIssb1KcKsFZ6wpyQ9N9HLXCqlKcKBXaXSE08NQLWrDDpj1hBPD+3lrbBQae1Re2LhWykviJ4Y1jnEM2O7ZuIuaJIuqmSLRFhJN8HK5E7zt+w7pOfIdfd8e8K3NMcXimpG+hWEoIlLQjQtkhAKyZNxuYPjV+Ez9V8J7dVXytZgiLAcci1oQi2h4fJkm8xw4y7dVuis6X8Vyn8cki4+VEwKo6wSbl9VVJm/UidJyxoZX5VcyRolXR2jTUG2rsLVc5adlAPjVX2W2EOooVixNmugMG3nwwHUVvG1q12SZakCMUXzZU7gtq0i74OkTBT7BmUADQWc9PZhoj6b7ow90xcL+ipR4jjrsZuPy46kntDTmefUt59TJtL0HapAmzhOOe/S+9EzzpflMjD9W33Y3hRUhKAJQVNRUVERgiYETaXVf538xn+d/AaA/zr5zf8yWPR/nPomJLvKcGbw6W/97fS3oAQlcYvKM1cA+LPMoosYi/59FIsWsqzrAYjcpE/K1wH4qHz9R+XrAXxQccP7wUThipverbwZQYBS5a0A3q76Ls9QEnOFBZS+E8BrNUKcpbtXhlC67sE4UBp6tpKA0trU4e186jALWRrnIUvnmncJOh2g6RHnHOK9wRxiZTKxhU4zxRbkycQSmhaTiXtV3VZP25FuMavYoNMAutpf7AoZ9VGNUTvpdIdOpzVGLeRazUra0mnIaUvdsrElV2xxOh38jB+pJNtYSnSa6bMCNG2qtEr7dShdInwrBxQoLftWwqXSckHp4cZTI8K3sgksOqkZAM9NajkeThTmXpVjrTqUDoRa56Kik2BVaU2YM4ZFkpKg073PTep0Gk4bS8aog4W9Bqa28mqdWp8fBvD0eXlhxMWxzQX6eCcEvZq+KZos2jCuCycEG5jIvopkHmlgNxlT+1B5tfZ4CPHCKcKGE6SOoGXLycC00vfSPFN5jsmxffYc5XHhhfmVNJs5+Lbo+74vP0fKUPpK5smWGc8CfUsw3I86dli2Zs4/xlfmhGMxpJq5JhyZTtGr6CdIxYb2ud26KabJ2KU/Usjc1UDQKuG0z7FWnE3l6829SvinARjPcW7NoPECGltOtz4+GoB1XCHOIdUZvjqkUX988V0mqZoRrOuPO5Dxu+dHnFP7grLPvrqREN3H3RoVIWhC0FRUVFSEoAlBU6n1f09+4/+e/Ia8IKD0f578RloW/bfT3/rbaRaUBOCvBZf/5cwVThZdeBWAPxgs+tclbIrwr0qu/SVn0QA+L7v+s7JAHX39p+XKROGPJIH0+5U3QZkrfOs7VbcpULoqSFIKiTRzr4wFpR9YqtOcLDdA9bNkaJr7Wc7wkKXzjVumGx8HMM3p9CSn05MibalpB4BzknCaZS4ZwunR5t1iMvFI8x4Aw4p2mtFpAIMt+4JZxWoKkza9WHheHuCel4cMEbUipe7hs4q7257vdsYxvRiRyAR7HFPIqJ2YuvN0U6cmoubhS1165pKIXarrdkwm7ikWk4k5pi4Nflb1spClKjVkqVyaQ1ymzSHul40tGZ0GUDRQk4ufpaDTxhziJtcc4uhIJYGpZVj9/JiuoD58rvOwPpm4K5xMbIQsybBaSKnDtKVITbU04ZgRbI1jc601m38sL+w1ZiTvtc1RpiIEvdraYtnVT/WklFk0VHNKG/ZUt2aGIIUsWrKilHwrPVMxq3Bsn2NeQDeY9E1ofFmoQZXosQqlL/N93zPXtRBmm+ia42UJ85qSaQOYB/v2lR8KZX074rbDW9ieIwNhO2wHvvLMV/S8yK2Zq5ib9Q1wLe+kZZXL8JUbzMoLnrm6jSqHq3iOX4XXTAiW02ztMv5e0FaJQMGXGaFYEX8aSPsrT6i7zevBl45LO3bLc76Kz7Gdm1V30lxXvp7TH7KWWhZ5TuE6QPcCFSFoQtBUVFRUhKAJQVNJ9f9OfOP/nfiGvJARi/67xKIhiaKjWfQ/FX6Hs+jArvKq3xUH0UlX/7qYsWhITh2yaWUApT8tW/dJ+XoAH3OB9IcVN3xQcSOA9ytvfI9Dae7aIWTS3wXw06o7Aiht8e6o+ZHw7uD2HXe/XHsPgIu1975Udx+ACyGafhDAYl0YsrRQ/zCA+YaNcw2bIBlbzjY8MtvgoNONinB6MrV9IrD1SIW2Htzqkiuom3YxTN30lOZ5qTPq5j3DzXsBDDeHsHqIYepnBa8eCFwwW/Yb0Uz2gKa+1oO9rYcA9Lbq1Lq77bBkh6lGNgXUus1JrTs6jnZ0BAvH2lVxtZVX67BalVJLFphnGK+WpdRGIpMVVluMPuzml4rnJVdQh7C6VE1hElLqkkgpdeEQ49UarC5IJ6WWefVJzquPjzCrS9g01cc4rD7KYfWLY20vqrza6oIJxQKzU/h+mPj6EMPX3ZIHiCa3Fv/the6X6VjgZHu/bYE+3glBr3zgLGeeZ8yiRYiK5r8RyaL5KlGE2TceF9tkL+f5dn8Pi5mGr5FhnSpf5vsCpAdPVhmar/LqrxS6qzzucUrpG7RQwbzK6oDnf+V5Bob1Q0bNj4Kt4kcKsPkeanYiJqg3ELHvGa+ojZtKtkOd6lcSIvYN8hyuHgqnzVV8Q3kuP0fj1apiVjx+mSSC9dStibN8me9rFhOX+V/BoaT1+Co6F1X2Tf9jhL4nnn1PQmbrG3YuhlWLF16iKiLmni2XSat4+l9bfNXsItwTsfOep60b/l3GOPbwpdX/6kchb196jm+8ENRz6kdvVj4LHpTzbi5QEYImBE1FRUVFCJoQNJVU/33if/z3if8B4L9PfOO/HSz6/8Zj0bAZdPy14HLNo0P4Rf+Js+g/SmYdvyu6CkAYoMSJtA1KB5YdPEnJgNIfVNzwQeDaUXkjgPcquXdH1S0cSvNsparbf1p1B4A3q7/3ZvX3AbxR84M3an4ITTJdwyTTCpquu/elunsBXOBpS6qbh06n5w06DWC24VHTcTpg1Ka/x2Rq+2TqCUiJTBOp0OgDUi7TuaZdYwxW7zJhtYtXy8bU0AxAdGrNVNayE4gLXGuWID1GlJPkXC1CnJ4XZiCmyhqyxLrjmOQEolHrE60dJwN83WKAay6udlDrLuYEYlFZGx4gtT3FNTyySaPW3ACk1BXZJFl/VHBxdQiuYU1qGpRV1pxaM3tqi8q6QE9qaoSitU6dGk4BODWcOsWdQDi+bmaWICPNgmMLgh3g62MO0fWLEUD7XMcLXIAtlNjaf59XEXfUwjizv5YX6OOdEPTKR9DhN0UJSnOoy38jXAgiWLQdCEM22YDOkwW+5qvL8/e90JY2Ug6ti04RkisvhFGqINOX2Z0AdKEK2jdU0DLvlRm1BME4V/wq2P/LFFasIcGvJFFrgH9hRd+X+V8J8bZngbqmnFt5XU+n8V8x6Aq+WYNXh8PiK7rlyM1KJNNGnsOzYCW37lWEQlt/RTFuGuoMpdr8V/j/7Z35l5TVmce/b1XB3yGLC6uIyCI4cRITzeiocUsmxqOTSRyTTE48ZqAbGuhm626gaXZxOaJoPNHEqLgr6hiRVaPiITojieKJSNyiQXHrqrrzw3uX5z733reqEaOtz/eHOk+/de+tt6rpKt5Pfe/3od8vgDJ2+9rac8vYcfOPymFewuez4OXKCNAuOcxLH0WxuywDLxoT/Fg8xb1cSnETtYPG8SkhqG/0iPxlZFMQm8J+Cz7Qrod/p2xkRosMkCAOQdCCoEUikUgQtCBoUbM6MPPIAzOPZIWB0rqgULqARQN4ve0Yy6JZ48JX54z6y9w8NXr0K4ZFv9w+BsBLHWP/3DEWvkFaE+n5fmTH/OP+6EPpXQvGP+v3NLRQ2kZJ78wDpU12x7auSVs1lJ78BPNLdwchHktOZu0OH1mi0bRterip51QAD/WcRuh0QaxHTqfPzun03SbWgzBqm+9xPoA7ll/A0qepldrw6gstr85hNW+VaHI/bl15SWCutrz6h4RX/weAm3USyI9uXp3C15fexPG15dWmryIB1wA2mPzqaDZI3mbx+gi+tlnWlydCQq4gISEN+i1eRbOs85aL65jputXh66tnAlhztcbXq69uW63xdVsqwnrltV6QtcXXy69ttxHWrM1iz3XzbIR1XtAIa5Aga9JdUePrrvWR7oqkwSIn2Jpjb1iac+z5mmP35Bx73oaejg3LAHRscN0VWVrI3Bt75xqUnd/O9oF2mwHas5wf22Vcz/KDRGba1GvHtz3QbT3btGhxLu5kIW/vgqAHOpf2OHMxi2aIOIiP9kI2EM3vpXQ66oI2UxwfswkJBEpzv6jB2obQ6ikRNyxJb858fmhRs8uCzjgNc1Mcisx81u0gZwC047jPQWNVUxwwWsrqTc/SzDBDjVmdS6oGn6UTrlsPTzX6mlg67dPCLMSGEcwbPxP23DmHN+dWNIX9XmLMs0ahd+Tk7VcDwZRSgqD6rxuKi7J9EerWkO/uMkWNjixHz0QhPreu/ymGqwVTYs9LeXeVI3fVE8+rFhTRu7LgGUWOh6uVIusnC5EgaEHQIpFIJAhaELSI6L3W4e+1Do8WIZQuZtEA3rRh0W3HvD57BIC/Ehb9mmHRr2oWzcM6KJRmRNpB6TxHet64F+bFoTR1Sj+7cAKAZ0ygtEbTnRZN0xAPkyzdZS3Thk4v5hHTAB5b/LXHluSM+p//Z8nXATy69BuPLPViPR5e+q3cQb2p59RIvsey3ER9OoD7lumUj/uWnXlv75kA7u09697eswHc42D1d2wM9V3L47zaplLfsYJT69s1tTYu65Xfv21lnlN94W9XWrt1Dq4vsuAawK2rdFPFW1ddbApnuuYhIat/+GvdZtH1WzSh1gmOvebSX63Jo63/8yZdXHbTGg9o07DrDWt/CuAG15DxZ1GgvX7tz13Y9ZW6OeN67cT+BXFiX26Btpcisu4KANeusy0af2nyQ/77aj9I5Kp1Nj9khskPaTEcu9UvjDHbpV7Pyv3YayzZJkEiJvU6NGYn40RMkIg1ZpvCdWn0HdrrFy5ez8i2zhXpXt9pAka6uvwujTQQG9qwbdOwc+K9xCaNsO6N829YOv+GpbrwXdzcy+2KZZaK50X7hmXtTRTy9i4IeoDRZk4bzCVy1gSLzu/IXE9Dn1F7gc/woDElzySjgxFpaJu0wcgGrqrMg9I2o6Nkc6qDHzOfY1uPKM2LzjLPYMy9wQZOUnc0x8twXNQ8Yk3F2KY3hedUOIJqfgs1cko+bkU9fpw6S7OUY5YA88ycpO9fTTJwxQlqyuzqT0GjKQF1j7xu8SklwuehwjOJ4PHiKSpBnsvhI6p6wXEDnMGhbmJZhnnLSkeOlAOOXa7X8l9cOWDR5BFr/vEa9BTOir0zUVnibGupKc0gaKWQQNDpKU2TZ0HQgqAFQYtEIpEgaEHQopjebx3+futwWjTDov8eC44G8Hbb0ZZFv9l2DIA3DIu2HQytQXqfNUjPDaB0+2gAey2Rbh/DbNJ75h2bZ3fY5ob/a6D08/PHPT//OPhdDhFLln5m4YSnF5p2h4t0u8OQTjvvdE6nu2z3wxMBbO6eujlog0gw9ckGU3vp048sOcUGfQDYZGA16ZCoPdUPWk91z+n3u+iPnFdbc/WZ9y47C0DeOfGeXpoEcg6Au3vPuauR3dpPrv5ujrKLOXZow75t5YW3aSf2D0JLNjxjtkkRWWVTrx3Z/vXhdWinyfaNXhtHZ9je4BC39mxfzxE37+e4/spf2LARxNs72qQR49l2iJt6thning4SlL3OBWW3rPMR99qrZq7ViHvmGoe4vWL1NTnobsuLiIXbebm1i3vFte059F7h7Nwdy00aCfxMkoCBm1Rt2wvyugW2FyRpCqnbQYKmbdsAE9sm8rpFtui+bhGAblr4ISf5rUgQ9BccQQf5G02waJDGZCrzwjwC4GyczFGrc8aSfi0lDsiz8sgz2W7vOLYhwLBhGpnNyGXm58zmb3hTSkqRaA74ZNti6rpHUD0HcgaWcaF8X7TLsnAYOT1Fj7ROYzig7T80CDv1ciQcmnb42sBwsGXdA9X8CAg3Jfpw4RSf7mrIWUKt6Skm0QI1pJ6pqvG5mb8snaLMmbjnzpat+XNrzCRMvl8wL4Kq2X8AAf2uIWqcJk+H3xX4e0lRR8z3W3Ju4eAuHziHRSNym2mg3RDz1plvWR+vxFlxZqdE76r451aJ+KX53AotVHBEJAhaELRIJBIJghYELeI62DrsYOuwoEhA6SC1w4V18NToo9+epd3Rb7Udw6G038owktoxdxSAv8zVOdI2u2Nv++i97WOQB0p36EBpQ6eP3dNxLIAXO5xlWrc7DNI8wojp5xYeD2DXwuN1rIfpe/iHRRP+oBsgTnhq0YQcUwPY2XmCZtSdE7f70dPOSt01ZUvXiQCe6J76RPdUAJsXT9u8eBqAx00MtYbVSxysftTAap1KveQbumfiklMe9uOpNy391qalp2pwrQsPX9tIkAcsvu454/6ePBuE+K4Djq1R9rKz89t7ln0HJNo6BNqObPeet7H3PAAbe8/f2Hs+Aof2ncsvuFPHX2vQffvy792e92pc/m+3L48j7t9ZxL3iQt3AUd9e9NsVFxnQ7SHu37ig7ItvXXkJgFtWXnKLLrR5+5ZV/36LQdw+8bYNH22Y9o9uzsO0V/345lU56/7xr4JUbQu9Ady0+jLTC/InN63+iY++f0qg98809LZNIdf8V15cn+dsr/k5YnElsTaRl7s2kWtZzrbD4Ig3i/yl6xd5Zdgv0m8cSZJMAiqeO8BbDBVvXcvwuMs2iXBy9uPqIPyEFauublvFimvaVmm63iZv73IFLFfAIpFIJFfAcgUsCvRBy7APWoZFC3tN/H7rMGvU4v6s1uH2Uhh0o/BMZ87626yj82vit/Q1Mb8Ujm4aBnVpzRmleyvNJXmW7cE1cd5kqd0FW+7R24j1ZmJ9QWw2Ez9vromfN5uJdy8Yv3vB+Pzi+LmF4wHsWhhat44H8LS7RD7hKdeOSRu4dnZOBLCjc9KOzkkAtndO3tY1GcA2ss94S/cUAFu62SWy7tT0+OKTfh9auhZ/DcBjS07OLV3U22Uvl/VFs78j2Zq8IhfNPacZ29e3je3r2+a6WV89532fHug5Pb96vn/ZGSRiU19GEzuYDt3k19NmWzNrFXV37zkmj/Mccxl97kbfKbZx+fmmixS/nr7Dv56+I7CMRfZAr/j+bcw7lgd5rrDGMb0lOgz1/I0L9byYFbfwnlShlSy8sDZdquwVtnGTUVsZeOonKy67cXXSXBb4y1g/K3fBfcNadqkdNrZy19zX5RGha7191X6rq8uht1YHe6zzYp3ebH3NuiuuMZutobdcpwpnVQu2ZUcKeXs/7BIT1j+SNmjfkd2wi2hKJdmz69IltfUqstmXhFO6RRDb+OsnUNrjxiSlbTJkd682+9i2SM5jhZjVq6RcFqa1XJkxtg0O7wpeQuq4Ap8SJhoqFQQlIvfv8K441NHjFbE0R8/LQx4u9PiQKVnK/kOX9d1AGdDAMcQfsUxdS+njaOBIqkbvik5RhVPg+Zi8MeX08/LPNkNhLGJJVREPUKyyI2Rja9UsWw3uqqEwfJEsG65fjdqXSkUPVw1+g9XU66YtXfWa8XxVAzdWNf0Eq2YMfejIgIKi0sQYkSBoQdAikUgkCFoQtIjow5ZhH7YMixYOSrcO+yDhz6JQGtycdZSG0rOOAvDurABKm03Db8V2D4NsHbZoev/sEa/xJksjNZ0Oui29Mnf03vY84XI0gJccox7DGPWejmNfNAYug6nH6czL+eNeYJhaw+rjLKw2Tq7jdy2wEZiWWk8A8PRCx6tZp6aAWk/c0cX2H1N8PQXA1q4pW7tOzPF1TrC3GIL9RPc0AJu7p23OC7M1+fHFJz1uPF8caJtMzcdM3ydLthnffnTJ1x/1EfcjS+1uZmcQszGcDzvorQsAm5aeqhl4j97x/FDPaQ/6DPwBwsAdBjfJnffrwsLwf2UwXDPw3rPu7T2LFff0sn3SLuaTw/Dl5wK4a/m5pDgvSsU3OirOAkEvyDdS22TQO1Z81+Dx75FCc/LfhXusV+ahoXaDtU0M/UFQ2AxRDsz1rmsXI5rce02MaXwTNil4zihI2iiJHeUgnRSX3rz6UlpQF1t+W1CwLd3Fhby9C4IeAP9BTBVZMCSzvNcN9qC0tz03MyOVIc/woTRZlk83P1pYbeeyfcaOJ0Pj3RJoJqVD0PZ4yRDvyIZgSp4zjpo12nL4OqDW/aDTXlFWKtbSnOX/8Sbq5XhDoejxehRsNsN7o/RVBUxVJRYJEHRTU/gpmY25jLsWUOWygZ+JJxjBuWXHSzl9LUWgbjVGgLMYgnYDVATDZtFFyqpqnnJjMKsSdNcV9SqhxFEg3Nc8+GWzwrkV1aeSy/axoqL6zPn3RQfQRUx6ZcEYXogEQQuCFolEIkHQgqBFRB+1DP2oZWhxEYHSLRRK507p+NbhA7Gtw++arcPv+LuH/0a2EQN4a1ZkD3HYbYltJt5v2i7tmzNy35xRAAJGrbcXv+K2F4+xVmobfql5tQm//FPH2D91HJvzavgNmmwWpqXWxlxtQjHNzuPdhlfTLcgAnlt4POngpL3Wz/g7kp8OtiZbA/ZTnSc8RYD2kwZoh2R7hyHbNGLTbF+etDUvuidv7Z6cFwC2EsO28WzrGE5S6DzOzYun5hud7Y7nzYtPshjcwPC8+Kffh1TcwPB8V7QtKBUvxuO2J5WPx7/p4/FvhuZwAJt6Tt3Uw/E4K6hX3GaFPsiB+b8AeGCZxeZnEGCui/u4jVynivrbsnOWfmaUn9Pibm4sdxGkPIs0gtZzw/m5GxOM/c4YY7/DYHYD2y9gsN3kmEape6qwEL6gMD72lbapV7KQt3dB0F/4i+AYSQ7HqGAwMTkTaByONCw3gqw9KM0KLzzSEm+KkV2uJDxoTCzN1O3MOHAWZ8WUDGfpu6Jo2jmcY5w5CwabwqfK3nHwLutZ6i5F7oo1dVdkJLurbkigUrFZiSkZW9agzqDwu/qUIzDcnoDpulNvttdNxOVr59YNDq17JluflFY9/229yuaW6wUEtVpASs3czFvEK9hd6dXqVTqyUjd0N1it4o0JHjqDHVMJTqkSXwTsCKfH/mqHpWhm5CDVl//Ta2awSBC0IGiRSCQSBC0IWkT0yYyhn8wYmhcfzxgK4ONY8dGMFJ0ear3TlFEfbBl20KR5vG8Y9fuJEA/SZMkEW5pYj3dmphj1UQ5Tm+JNbaU+Ogj6GJHfMk/1a7NHvjZ7ZF7sC6h1JPrDmKuhA0C0xfplhq87wphM28Rp7J55vJsTaEjI/HE2OPOFoLCxIZZs/9FZsjXiZnzbIG6bK6JZ964AetOkkWcW5WEjXuQIKU54etEJIKZu6u7WVHzRxKcWTdRF58QcjEfx+M7OiTs7JwHY2TnJFnmAyY7OyTs6JwPY3jV5excv4FvEt3VNAbCta8o25xXnhWHpU4x73EF1kDgUR9SD4vHF00xSCi08um4SVHiUCi2cBZ0VBL8bUzqH8CaslKeWxv3qvDiF8vlHnH29KVDPiod4EqqLRA0s7qcF6D5SUKRfXBCfvE6JCQt5excEPSBxdPN30YyOFNC2GR2mERA5zgM3+BQTPYEYrDZg2Syb8egP3Q0psz+aRA4b2WGJd8aCMpA2Ofsu6HKCUfO7suSYAjSdmOIB57CIHlcJKF0JHrGslPHfqmLgXImw7gZFuX9TGiBov+tO1niKit9VcUAbaJT8oJoYg37biauMFQer9aXPpC99Jn1Rt3P4KP6ALFhEFyp2V3i8rPqgvNUqRcTee8R+OZwr4oIWBC0IWiQSiQRBC4IW9RdBD/lkxpBU8fGMIQA+Lio0pv7I3ObFhy1DP2zxigidNgWN9XifxHq81zr8vdYjARxoPfJAaxJWu/Rpw6vfCVozgTRoentWGACi8bV1Wft2a967CbSDU5xjexHWrwYGbFrA82Nrsr23ffTLDnF7rNs6tF9qH/Nnzbpt4RFvkjRCC+3lTjWPogVIdLa1eTu/97xxLwQFcYDzwG2KzYuL3SbzxPStOo65xzljjxW7FowHsIsWLt9bA3mL3xG1oAdFDMhHbOpRPk8Lx+dTRSdH9092TgLwZOckWxB0PxnAzs7JqcLCfHM7ZUfnFFZs75oCYHuXLU7c3nVicbFN307d1jW1uNjaNXVrspi2tWtaXrAfC4ot3dMAbOmetqX7JABbuk8KC3l7FwQ9YLBzIT0uANGOAPukAinzc6RQPFoeOWYAAAZqSURBVPqjBAaT3bJZlmLRZi6JsM4INM7isNr7b13Js1vroA+waA7/4cpkCkvbKIMHcZSTQRyhwzmKl1UCLCsf8xYM4ItUlB5USQDtitJIOiTbqSmJom6odUbnFixi8XilrvLfWcV/ocJFKuFcepdiR+p0lj0+KDpXn4kOxK4EHN4Wg9wzxaEXde8IGVALH07xu3gxyLD6ikb31chI3tC+an5TRcv6qyWLQUVjPEzdzGoVk1IyqF5VWYPBIkHQgqBFIpFIELQgaBFR34whfTOGFBfFmNoUCQd1y9CPeb7HsI9ahtEimked35ow6uEftA4HcLB1+EFTcGo9c/h7M+NFmATy90Txrg0JmXnkO5G+innBgTYr3goaL4ZBIrQVowbdJv6aBYyExf7ZI/bPHglg/2wdOfLaHFfQH/fNGZWbuvcRGF5Q5JzcGr/Zj1F+bhD6qFfCon0UgFfadeNIe0v6SDYuAg4/xnrOQQznBQXh8wUFR/epYk+c6o8F8GLH2BdN4f/oksYbFqkvAmLHx/1f4quB4i8LUt8dvDAv/O7gOBDXfbRo/muF1PcLtACwe/743fPHN1sEyTbsSwqRIOiBiqCj+RvpIuFn9noa6pHK4Ws3Nyy85OegIKHQmjxbBO1YNMG5mcvfcP+bU0ixaDiXdQxBl31TNC0clE7Ha7gjZrUCaKwiUNqAa4WQYEfyMfpTMBxa9jltY8zLeG/dY6qVukHQdQt1+1P458YWjxaD3JGC9et05KCC1VSzRfMjvSI4h0+1mikGG0zdcLXBdTPSnUmtuBhsok4SA7J+vm4e325QmAcanC5EgqAFQYtEIpEgaEHQIqLa9CNq049IFdXpRwCoNlUMAdA3vTHQ7msKaGus/Uk6G8S6r5vIsh6K4n6LgTE7UpBEESQaMjYsDrQOP8CKRlQ8isdjhQbmoIbwsAgiTYqL/PZtF35yCIVD9HFQ32Th+9UZ22+mCC3utADwRtuIN9pG0OL1thGvH1JxyHPJNw4j/zp7ZF6wH1PF/tkj9zcqrGO/qOBfZHB7Py0aDkhF3ESLhgOSxdxRr87lhby9C4L+MgDqjGZtNByvmqfWDQoSAZ0cWWriEUsGESu+bDxkI14kwi5KzTmBVeGYcv/sxEmDdKWRN7hcaBuOFocwBZ/SaZwG2mRWv53GgwpZevGUQygOHUFnEdzaDI8dbKzOxWPsbbJQoGB5cCPMO7gJDmzJdoOHbmJAvBAELQhaELRIJBIJghYELWpK9elH1KcfcViK/k4ppt/+j0Nq04cUF9UZQ6ozkkXDAc0XzTD2fhXwE7k/ZdHkSOtOLy6aH/kPW81+v4DmmmnGCu7DD39sxqj/YSMP/+EqPt/VvCakQdFwAGtganc0RIuGA/pVyNu7IOiBAZkPHzTux5RSI5c1s1gXFyXVoGg4oMni8EHjz3O15jFy5dMi6M9ktUFK2dv+F4cVGn/ZVxvcqBjc5Eh1GIF2PwqRIGih0CKRSCT8WT6ARSKRSCQS9VPyHbBIJBKJRPIBLBKJRCKRfACLRCKRSCSSD2CRSCQSib48GtjbkMRyLBKJRF9ZDXQT8YDfB3zM8meBvKu8MkX+2Ww2tuojira5j4yHbs5jhiXGm4Px8e5e3aQ+Ph5Alh4PIDP7cbP0eChybzAeKiPbfpPj6esTji9+PelLp5DpV0Blyr4aKgOgVGbbMeVtlEzNxoCsYNo36ZXzOrpyXrOV9fjYynq8v/KAP39yr3ck/z2GI/3j3lnFjtvnwkcGx92zSBwPz3Pgnz9AG4vZPwr9N03+mvRIIGx3psgA9yjNL6j4Xv8GCyr/ZMg7WGzB4Nm5Bd0bTtGza7gge3YNF1QASkv3DvTPL0HQIpFIJBLJB7BIJBKJRPIBLBKJRCKRSD6ARSKRSCSSD2CRSCQSiUTyASwSiUQikXwAi0QikUgkkg9gkUgkEom+eBrY7QglCUskEom+spIkLPkFiEQikUguwPotQdAikUgkEskHsEgkEolE8gEsEolEIpHoM1Im36GKRCKRSCRXwP3870OWiRFaJBKJvqJXkAP8/b80oF96pZRSSj6DRSKRSD595QNYJBKJRKLPXF+C70/lA1gkEolEIvkAFolEIpFIPoBFIpFIJBJ9RhrAUZTWfiU7qUQikUg04CT7gEUikUgk+hwkCFokEolEIvkAFolEIpHoq6H/BxckNpe/lY9jAAAAAElFTkSuQmCC'>"
      ],
      "text/plain": [
       "<IPython.core.display.HTML object>"
      ]
     },
     "execution_count": 283,
     "metadata": {},
     "output_type": "execute_result"
    }
   ],
   "source": [
    "\n",
    "fig3 = glucifer.Figure()\n",
    "#velmagfield = uw.function.math.sqrt( uw.function.math.dot(velocityField,velocityField) )\n",
    "#fig3 + glucifer.objects.VectorArrows( elementMesh, velocityField, arrowHead=0.3, scaling=0.05, glyphs=3, )\n",
    "#fig3 + glucifer.objects.Points(gSwarm,materialVariable, colours='brown white blue red')\n",
    "#fig3 + glucifer.objects.Points(surfintswarm)\n",
    "#fig3 + glucifer.objects.Points(baseintswarm)\n",
    "fig3 + glucifer.objects.Surface(elementMesh, temperatureField)\n",
    "fig3 + glucifer.objects.Mesh(linearMesh)\n",
    "fig3.show()\n",
    "#fig3.save_database('test.gldb')\n",
    " "
   ]
  },
  {
   "cell_type": "code",
   "execution_count": 72,
   "metadata": {
    "collapsed": false
   },
   "outputs": [
    {
     "name": "stdout",
     "output_type": "stream",
     "text": [
      "total time is: 78.027435\n"
     ]
    }
   ],
   "source": [
    "machine_time = (time.clock()-start)\n",
    "print(\"total time is: \" + str(machine_time))"
   ]
  },
  {
   "cell_type": "code",
   "execution_count": 73,
   "metadata": {
    "collapsed": false
   },
   "outputs": [],
   "source": [
    "#print(\"velocity max on horizontal bounds is: \" + str(velocityField[0].evaluate(IWalls).max()))\n"
   ]
  },
  {
   "cell_type": "code",
   "execution_count": 74,
   "metadata": {
    "collapsed": false
   },
   "outputs": [],
   "source": [
    "#velocityField[0].evaluate(IWalls)"
   ]
  },
  {
   "cell_type": "code",
   "execution_count": 75,
   "metadata": {
    "collapsed": false
   },
   "outputs": [
    {
     "name": "stdout",
     "output_type": "stream",
     "text": [
      "(-1.8390352725367354, -2.1636552598795133)\n"
     ]
    }
   ],
   "source": [
    "Nu0loc = nusselt(temperatureField, baseintswarm, dx)\n",
    "Nu1loc = nusselt(temperatureField, surfintswarm, dx)\n",
    "print(Nu0loc, Nu1loc)"
   ]
  },
  {
   "cell_type": "code",
   "execution_count": null,
   "metadata": {
    "collapsed": true
   },
   "outputs": [],
   "source": []
  }
 ],
 "metadata": {
  "kernelspec": {
   "display_name": "Python 2",
   "language": "python",
   "name": "python2"
  },
  "language_info": {
   "codemirror_mode": {
    "name": "ipython",
    "version": 2
   },
   "file_extension": ".py",
   "mimetype": "text/x-python",
   "name": "python",
   "nbconvert_exporter": "python",
   "pygments_lexer": "ipython2",
   "version": "2.7.10"
  }
 },
 "nbformat": 4,
 "nbformat_minor": 0
}
