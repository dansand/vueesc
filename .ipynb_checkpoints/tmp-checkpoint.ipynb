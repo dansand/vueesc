{
 "cells": [
  {
   "cell_type": "markdown",
   "metadata": {
    "collapsed": true
   },
   "source": [
    "\n",
    "Viscoplastic thermal convection in a 2-D square box\n",
    "=======\n",
    "\n",
    "Benchmarks from Tosi et al. 2015\n",
    "--------\n",
    "\n"
   ]
  },
  {
   "cell_type": "markdown",
   "metadata": {
    "collapsed": true
   },
   "source": [
    "This notebook generates models from the <a name=\"ref-1\"/>[(Tosi et al., 2015)](#cite-tosi2015community) in Underworld2. The Underworld2 results are compared to the model run on Fenics. Input files for the Fenics models were provided by Petra Maierova.\n",
    "\n",
    "This example uses the RT PIC solver with classic and nearest neighbour\n",
    "\n",
    "\n",
    "References\n",
    "====\n",
    "\n",
    "<a name=\"cite-tosi2015community\"/><sup>[^](#ref-1) </sup>Tosi, Nicola and Stein, Claudia and Noack, Lena and H&uuml;ttig, Christian and Maierov&aacute;, Petra and Samuel, Henri and Davies, DR and Wilson, CR and Kramer, SC and Thieulot, Cedric and others. 2015. _A community benchmark for viscoplastic thermal convection in a 2-D square box_.\n",
    "\n"
   ]
  },
  {
   "cell_type": "markdown",
   "metadata": {},
   "source": [
    "Load python functions needed for underworld. Some additional python functions from os, math and numpy used later on."
   ]
  },
  {
   "cell_type": "code",
   "execution_count": 1,
   "metadata": {
    "collapsed": false
   },
   "outputs": [],
   "source": [
    "#!pip install natsort\n",
    "#!pip install networkx"
   ]
  },
  {
   "cell_type": "code",
   "execution_count": 2,
   "metadata": {
    "collapsed": false
   },
   "outputs": [],
   "source": [
    "import networkx as nx\n",
    "import underworld as uw\n",
    "import math\n",
    "from underworld import function as fn\n",
    "import glucifer\n",
    "#import matplotlib.pyplot as pyplot\n",
    "import time\n",
    "import numpy as np\n",
    "import os\n",
    "import sys\n",
    "import natsort\n",
    "import shutil\n",
    "from easydict import EasyDict as edict\n",
    "import slippy2 as sp\n",
    "\n",
    "\n",
    "\n",
    "from mpi4py import MPI\n",
    "comm = MPI.COMM_WORLD\n",
    "rank = comm.Get_rank()"
   ]
  },
  {
   "cell_type": "code",
   "execution_count": 3,
   "metadata": {
    "collapsed": false
   },
   "outputs": [
    {
     "name": "stdout",
     "output_type": "stream",
     "text": [
      "/Users/dansandiford/Documents/programming/earthsci_code/python/vueesc\r\n",
      "\u001b[1m\u001b[34mA\u001b[m\u001b[m                base_model.ipynb \u001b[1m\u001b[34mmetrics_test\u001b[m\u001b[m     test.gldb\r\n",
      "R0.py            base_model.py    \u001b[1m\u001b[34mmodels\u001b[m\u001b[m           tmp.ipynb\r\n",
      "README.md        \u001b[1m\u001b[34mcrust_resolution\u001b[m\u001b[m \u001b[1m\u001b[34mresults\u001b[m\u001b[m\r\n",
      "\u001b[1m\u001b[34mT\u001b[m\u001b[m                \u001b[1m\u001b[34mhpc_scripts\u001b[m\u001b[m      \u001b[1m\u001b[34mspeedtest\u001b[m\u001b[m\r\n",
      "analysis.ipynb   \u001b[1m\u001b[34mmagnus_scripts\u001b[m\u001b[m   \u001b[1m\u001b[34mtemp_ics\u001b[m\u001b[m\r\n"
     ]
    }
   ],
   "source": [
    "#Display working directory info if in nb mode\n",
    "if (len(sys.argv) > 1):\n",
    "    if (sys.argv[1] == '-f'):\n",
    "        !pwd && ls"
   ]
  },
  {
   "cell_type": "code",
   "execution_count": 4,
   "metadata": {
    "collapsed": false
   },
   "outputs": [],
   "source": [
    "############\n",
    "#Model name.  \n",
    "############\n",
    "Model = \"R\"\n",
    "ModNum = 1\n",
    "\n",
    "if len(sys.argv) == 1:\n",
    "    ModIt = \"Base\"\n",
    "elif sys.argv[1] == '-f':\n",
    "    ModIt = \"Base\"\n",
    "else:\n",
    "    ModIt = str(sys.argv[1])\n"
   ]
  },
  {
   "cell_type": "code",
   "execution_count": 5,
   "metadata": {
    "collapsed": true
   },
   "outputs": [],
   "source": [
    "###########\n",
    "#Standard output directory setup\n",
    "###########\n",
    "\n",
    "\n",
    "outputPath = \"results\" + \"/\" +  str(Model) + \"/\" + str(ModNum) + \"/\" + str(ModIt) + \"/\"\n",
    "imagePath = outputPath + 'images/'\n",
    "filePath = outputPath + 'files/'\n",
    "checkpointPath = outputPath + 'checkpoint/'\n",
    "dbPath = outputPath + 'gldbs/'\n",
    "outputFile = 'results_model' + Model + '_' + str(ModNum) + '_' + str(ModIt) + '.dat'\n",
    "\n",
    "if uw.rank()==0:\n",
    "    # make directories if they don't exist\n",
    "    if not os.path.isdir(outputPath):\n",
    "        os.makedirs(outputPath)\n",
    "    if not os.path.isdir(checkpointPath):\n",
    "        os.makedirs(checkpointPath)\n",
    "    if not os.path.isdir(imagePath):\n",
    "        os.makedirs(imagePath)\n",
    "    if not os.path.isdir(dbPath):\n",
    "        os.makedirs(dbPath)\n",
    "    if not os.path.isdir(filePath):\n",
    "        os.makedirs(filePath)\n",
    "        \n",
    "comm.Barrier() #Barrier here so not procs run the check in the next cell too early "
   ]
  },
  {
   "cell_type": "code",
   "execution_count": 6,
   "metadata": {
    "collapsed": false
   },
   "outputs": [
    {
     "name": "stdout",
     "output_type": "stream",
     "text": [
      "results/R/1/Base/checkpoint/ is empty\n"
     ]
    }
   ],
   "source": [
    "###########\n",
    "#Check if starting from checkpoint\n",
    "###########\n",
    "\n",
    "checkdirs = []\n",
    "for dirpath, dirnames, files in os.walk(checkpointPath):\n",
    "    if files:\n",
    "        print dirpath, 'has files'\n",
    "        checkpointLoad = True\n",
    "        checkdirs.append(dirpath)\n",
    "    if not files:\n",
    "        print dirpath, 'is empty'\n",
    "        checkpointLoad = False\n",
    "        \n",
    "\n",
    "        "
   ]
  },
  {
   "cell_type": "markdown",
   "metadata": {},
   "source": [
    "Set physical constants and parameters, including the Rayleigh number (*RA*). "
   ]
  },
  {
   "cell_type": "code",
   "execution_count": 7,
   "metadata": {
    "collapsed": false
   },
   "outputs": [],
   "source": [
    "###########\n",
    "#Physical parameters\n",
    "###########\n",
    "\n",
    "#The Slippy rheology class will contain dimensional and nondimensional values, linked in a self-consistent way by scaling paramters\n",
    "#lowermantle.nondimensional['cohesion']\n",
    "#Where lowermantle is a material class (generated within a rheology class); and non dimensional is a dictionary\n",
    "\n",
    "#UW naming conventions: \n",
    "#module_name, package_name, ClassName, function_name, method_name, \n",
    "#ExceptionName, propertyName GLOBAL_CONSTANT_NAME, globalVarName, instanceVarName, functionParameterName, localVarName\n",
    "###########\n",
    "\n",
    "\n",
    "newvisc= math.exp(math.log(1e5)*0.53) #A factor that appears because I rescale the reference viscosity, compared to the one used in Tosi et al.\n",
    "#Where 1e5 = ETAT, and 0.53 is the steady state average temp of the system \n",
    "\n",
    "#dimensional parameter dictionary\n",
    "dp = edict({'LS':2890.*1e3,\n",
    "           'rho':3300,\n",
    "           'g':9.81, \n",
    "           'kappa':10**-6,\n",
    "           'alpha':1.25*10**-5, \n",
    "           'deltaT':2500,\n",
    "           'StALS': 150e3})\n",
    "\n",
    "#non-dimensional parameter dictionary\n",
    "ndp = edict({'RA':1e2*newvisc, \n",
    "              'LS':1., \n",
    "              'etaT':1e5, \n",
    "              'etaY':10., \n",
    "              'eta0':1e-3*newvisc,\n",
    "              'StAeta0':1e-2,\n",
    "              'TS':0.,\n",
    "              'TB':1., \n",
    "              'cohesion':1.*newvisc}) #4.6 is the transistion from periodic to stagnant lid.\n",
    "\n",
    "\n",
    "#dimsional values used in this model\n",
    "D = dp.LS\n",
    "g = dp.g\n",
    "rho = dp.rho\n",
    "a = dp.alpha\n",
    "kappa = dp.kappa\n",
    "dT = dp.deltaT\n",
    "\n",
    "#nondimensional values used in this model\n",
    "#RA  = nondim.RA      # Rayleigh number\n",
    "#TS  = nondim.TS          # surface temperature\n",
    "#TB  = nondim.TB           # bottom boundary temperature (melting point)\n",
    "#ETA_T = nondim.etaT\n",
    "#ETA_Y = nondim.etaY\n",
    "#ETA0 = nondim.eta0\n",
    "#YSTRESS = nondim.cohesion\n",
    "\n",
    "#A few paramters defining lengths scales, affects materal transistions etc.\n",
    "MANTLETOCRUST = (18.*1e3)/D #Crust depth\n",
    "CRUSTTOMANTLE = (300.*1e3)/D\n",
    "LITHTOMANTLE = (660.*1e3)/D\n",
    "MANTLETOLITH = (200.*1e3)/D\n",
    "TOPOHEIGHT = (10.*1e3)/D #rock-air topography limits\n",
    "AVGTEMP = 0.53 #Used to define lithosphere\n",
    "\n",
    "\n",
    "\n",
    "#Compositional Rayliegh number of rock-air\n",
    "ETAREF = rho*g*a*dT*((D*1e3)**3)/(ndp.RA*kappa) #equivalent dimesnional reference viscosity\n",
    "RC = (3300*g*(D*1000)**3)/(ETAREF *kappa) #Composisitional Rayleigh number for rock-air buoyancy force\n",
    "COMP_RA_FACT = RC/ndp.RA\n",
    "\n",
    "\n",
    "#Additional dimensionless paramters\n",
    "AIRVISCOSITY = 0.001\n",
    "AIRDENSITY = ndp.RA*COMP_RA_FACT\n",
    "\n",
    "ndp[\"StA\"] = ndp.RA*COMP_RA_FACT\n",
    "\n"
   ]
  },
  {
   "cell_type": "code",
   "execution_count": 8,
   "metadata": {
    "collapsed": false
   },
   "outputs": [
    {
     "data": {
      "text/plain": [
       "44668.35921509633"
      ]
     },
     "execution_count": 8,
     "metadata": {},
     "output_type": "execute_result"
    }
   ],
   "source": [
    "ndp.RA"
   ]
  },
  {
   "cell_type": "code",
   "execution_count": 9,
   "metadata": {
    "collapsed": false
   },
   "outputs": [],
   "source": [
    "###########\n",
    "#Model setup parameters\n",
    "###########\n",
    "\n",
    "stickyAir = True\n",
    "\n",
    "MINX = -1.\n",
    "MINY = 0.\n",
    "MAXX = 1.0\n",
    "\n",
    "#MAXY = 1.035\n",
    "MAXY = 1.\n",
    "\n",
    "if MINX == 0.:\n",
    "    squareModel = True\n",
    "else: \n",
    "    squareModel = False\n",
    "    \n",
    "    \n",
    "dim = 2          # number of spatial dimensions\n",
    "\n",
    "\n",
    "#MESH STUFF\n",
    "\n",
    "RES = 64\n",
    "\n",
    "\n",
    "if MINX == 0.:\n",
    "    Xres = RES\n",
    "else:\n",
    "    Xres = 2*RES\n",
    "\n",
    "if stickyAir:\n",
    "    Yres = RES\n",
    "    MAXY = 1. + dp.StALS/dp.LS #150km\n",
    "    \n",
    "else:\n",
    "    Yres = RES\n",
    "    MAXY = 1.\n",
    "\n",
    "\n",
    "periodic = [False,False]\n",
    "elementType = \"Q1/dQ0\"\n",
    "#elementType =\"Q2/DPC1\"\n",
    "\n",
    "refineMesh = True\n",
    "\n",
    "\n",
    "#System/Solver stuff\n",
    "\n",
    "PIC_integration=True\n",
    "ppc = 25"
   ]
  },
  {
   "cell_type": "code",
   "execution_count": 10,
   "metadata": {
    "collapsed": false
   },
   "outputs": [],
   "source": [
    "###########\n",
    "#Model Runtime parameters\n",
    "###########\n",
    "\n",
    "swarm_update = 25\n",
    "swarm_repop = 10\n",
    "files_output = 1e6\n",
    "gldbs_output = 1\n",
    "images_output = 1e6\n",
    "checkpoint_every = 25\n",
    "metric_output = 25\n",
    "sticky_air_temp = 1e6\n",
    "\n",
    "comm.Barrier() #Barrier here so not procs run the check in the next cell too early \n",
    "\n",
    "#assert metric_output <= checkpoint_every, 'Checkpointing should run less or as ofen as metric output'\n",
    "#assert (metric_output >= swarm_update), 'Swarm update is needed before checkpointing'\n",
    "#assert metric_output >= sticky_air_temp, 'Sticky air temp should be updated more frequently that metrics'\n"
   ]
  },
  {
   "cell_type": "code",
   "execution_count": 11,
   "metadata": {
    "collapsed": false
   },
   "outputs": [],
   "source": [
    "###########\n",
    "#Model output parameters\n",
    "###########\n",
    "\n",
    "#Do you want to write hdf5 files - Temp, RMS, viscosity, stress?\n",
    "writeFiles = True\n",
    "loadTemp = True\n",
    "\n",
    "    "
   ]
  },
  {
   "cell_type": "code",
   "execution_count": 12,
   "metadata": {
    "collapsed": false
   },
   "outputs": [],
   "source": [
    "mesh = uw.mesh.FeMesh_Cartesian( elementType = elementType,\n",
    "                                 elementRes  = (Xres, Yres), \n",
    "                                 minCoord    = (MINX,MINY), \n",
    "                                 maxCoord=(MAXX,MAXY), periodic=periodic)\n",
    "\n",
    "\n",
    "\n",
    "velocityField       = uw.mesh.MeshVariable( mesh=mesh,         nodeDofCount=dim )\n",
    "pressureField       = uw.mesh.MeshVariable( mesh=mesh.subMesh, nodeDofCount=1 )\n",
    "temperatureField    = uw.mesh.MeshVariable( mesh=mesh,         nodeDofCount=1 )\n",
    "temperatureDotField = uw.mesh.MeshVariable( mesh=mesh,         nodeDofCount=1 )"
   ]
  },
  {
   "cell_type": "code",
   "execution_count": 13,
   "metadata": {
    "collapsed": false
   },
   "outputs": [
    {
     "data": {
      "text/plain": [
       "(128, -1.0, [False, False], 'Q1/dQ0')"
      ]
     },
     "execution_count": 13,
     "metadata": {},
     "output_type": "execute_result"
    }
   ],
   "source": [
    "Xres, MINX, periodic, elementType"
   ]
  },
  {
   "cell_type": "markdown",
   "metadata": {},
   "source": [
    "Create Finite Element (FE) variables for the velocity, pressure and temperature fields. The last two of these are scalar fields needing only one value at each mesh point, while the velocity field contains a vector of *dim* dimensions at each mesh point."
   ]
  },
  {
   "cell_type": "markdown",
   "metadata": {},
   "source": [
    "Create some dummy fevariables for doing top and bottom boundary calculations."
   ]
  },
  {
   "cell_type": "markdown",
   "metadata": {},
   "source": [
    "## Refine mesh"
   ]
  },
  {
   "cell_type": "code",
   "execution_count": 14,
   "metadata": {
    "collapsed": false
   },
   "outputs": [
    {
     "name": "stdout",
     "output_type": "stream",
     "text": [
      "Min\n",
      "(128, 0.0078140624999999998, 1.5001999999999998, 0.99960000000000093)\n",
      "('edges', 128)\n",
      "-- iteration 0 --\n",
      "| F( p_n ) |^2: 0.000125834660797\n",
      "| p_n+1 - p_n |^2: 1.06884342198\n",
      "-- iteration 1 --\n",
      "| F( p_n ) |^2: 4.05552698039e-31\n",
      "Min, Max element width: \n",
      "0.00781\n",
      "0.02344\n"
     ]
    }
   ],
   "source": [
    "#X-Axis\n",
    "\n",
    "if refineMesh:\n",
    "    mesh.reset()\n",
    "    axis = 0\n",
    "    origcoords = np.linspace(mesh.minCoord[axis], mesh.maxCoord[axis], mesh.elementRes[axis] + 1)\n",
    "    edge_rest_lengths = np.diff(origcoords)\n",
    "\n",
    "    deform_lengths = edge_rest_lengths.copy()\n",
    "    min_point =  (abs(mesh.maxCoord[axis]) - abs(mesh.minCoord[axis]))/2.\n",
    "    el_reduction = 0.5001\n",
    "    dx = mesh.maxCoord[axis] - min_point\n",
    "\n",
    "    deform_lengths = deform_lengths - \\\n",
    "                                    ((1.-el_reduction) *deform_lengths[0]) + \\\n",
    "                                    abs((origcoords[1:] - min_point))*((0.5*deform_lengths[0])/dx)\n",
    "\n",
    "    #print(edge_rest_lengths.shape, deform_lengths.shape)\n",
    "\n",
    "    sp.deform_1d(deform_lengths, mesh,axis = 'x',norm = 'Min', constraints = [])"
   ]
  },
  {
   "cell_type": "code",
   "execution_count": 15,
   "metadata": {
    "collapsed": false
   },
   "outputs": [],
   "source": [
    "axis = 1\n",
    "orgs = np.linspace(mesh.minCoord[axis], mesh.maxCoord[axis], mesh.elementRes[axis] + 1)\n",
    "\n",
    "value_to_constrain = 1.\n",
    "\n",
    "\n",
    "yconst = [(sp.find_closest(orgs, value_to_constrain), np.array([1.,0]))]\n"
   ]
  },
  {
   "cell_type": "code",
   "execution_count": 16,
   "metadata": {
    "collapsed": false
   },
   "outputs": [
    {
     "name": "stdout",
     "output_type": "stream",
     "text": [
      "Min\n",
      "(64, 0.0082196366782007774, 0.78492352941176458, 1.031339682539705)\n",
      "('edges', 64)\n",
      "-- iteration 0 --\n",
      "| F( p_n ) |^2: 0.000179712044064\n",
      "| p_n+1 - p_n |^2: 0.466191352915\n",
      "-- iteration 1 --\n",
      "| F( p_n ) |^2: 0.000163633783576\n",
      "| p_n+1 - p_n |^2: 8.94744922445e-30\n",
      "Min, Max element width: \n",
      "0.00857\n",
      "0.02422\n"
     ]
    }
   ],
   "source": [
    "#Y-Axis\n",
    "if refineMesh:\n",
    "    #Y-Axis\n",
    "    axis = 1\n",
    "    origcoords = np.linspace(mesh.minCoord[axis], mesh.maxCoord[axis], mesh.elementRes[axis] + 1)\n",
    "    edge_rest_lengths = np.diff(origcoords)\n",
    "\n",
    "    deform_lengths = edge_rest_lengths.copy()\n",
    "    min_point =  (mesh.maxCoord[axis])\n",
    "    el_reduction = 0.5001\n",
    "    dx = mesh.maxCoord[axis]\n",
    "\n",
    "    deform_lengths = deform_lengths - \\\n",
    "                                    ((1.-el_reduction)*deform_lengths[0]) + \\\n",
    "                                    abs((origcoords[1:] - min_point))*((0.5*deform_lengths[0])/dx)\n",
    "\n",
    "    #print(edge_rest_lengths.shape, deform_lengths.shape)\n",
    "\n",
    "    sp.deform_1d(deform_lengths, mesh,axis = 'y',norm = 'Min', constraints = yconst  )"
   ]
  },
  {
   "cell_type": "code",
   "execution_count": null,
   "metadata": {
    "collapsed": true
   },
   "outputs": [],
   "source": []
  },
  {
   "cell_type": "markdown",
   "metadata": {},
   "source": [
    "# ICs and BCs"
   ]
  },
  {
   "cell_type": "code",
   "execution_count": null,
   "metadata": {
    "collapsed": true
   },
   "outputs": [],
   "source": [
    "# Initialise data.. Note that we are also setting boundary conditions here\n",
    "velocityField.data[:] = [0.,0.]\n",
    "pressureField.data[:] = 0.\n",
    "temperatureField.data[:] = 0.\n",
    "temperatureDotField.data[:] = 0.\n"
   ]
  },
  {
   "cell_type": "markdown",
   "metadata": {
    "collapsed": false
   },
   "source": [
    "\n",
    "# Setup temperature initial condition via numpy arrays\n",
    "A = 0.01\n",
    "#Note that width = height = 1\n",
    "tempNump = temperatureField.data\n",
    "for index, coord in enumerate(mesh.data):\n",
    "    pertCoeff = (1- coord[1]) + A*math.cos( math.pi * abs(1. - coord[0]) ) * math.sin( math.pi * coord[1] )\n",
    "    tempNump[index] = pertCoeff;\n",
    "    if coord[1] > 1:\n",
    "        tempNump[index] = 0."
   ]
  },
  {
   "cell_type": "markdown",
   "metadata": {},
   "source": [
    "## Temp ICs"
   ]
  },
  {
   "cell_type": "code",
   "execution_count": 18,
   "metadata": {
    "collapsed": false
   },
   "outputs": [],
   "source": [
    "dummymesh = uw.mesh.FeMesh_Cartesian( elementType = (\"Q1/dQ0\"),\n",
    "                                 elementRes  = (128, 64), \n",
    "                                 minCoord    = (-1.,0.), \n",
    "                                 maxCoord=(1.,1.), periodic=False)\n",
    "    \n",
    "dummytemperatureField = uw.mesh.MeshVariable(mesh=dummymesh, nodeDofCount=1 )\n",
    "\n",
    "dummytemperatureField.load(\"crust_resolution/8100/temperatureField.hdf5\")"
   ]
  },
  {
   "cell_type": "code",
   "execution_count": 19,
   "metadata": {
    "collapsed": false
   },
   "outputs": [],
   "source": [
    "if not checkpointLoad:\n",
    "    temperatureDotField.data[:] = 0.\n",
    "    for index, coord in enumerate(mesh.data):\n",
    "        if coord[1] > 1:\n",
    "            temperatureField.data[index] = 0.\n",
    "        #Don't know mesh partitions in advance, and possible diferent between 'real' and 'dummy' mesh\n",
    "        else:\n",
    "            try:\n",
    "                temperatureField.data[index] = dummytemperatureField.evaluate([coord[0], coord[1]])\n",
    "            except:\n",
    "                pass"
   ]
  },
  {
   "cell_type": "code",
   "execution_count": 20,
   "metadata": {
    "collapsed": false
   },
   "outputs": [
    {
     "data": {
      "text/plain": [
       "1.0519031141868511"
      ]
     },
     "execution_count": 20,
     "metadata": {},
     "output_type": "execute_result"
    }
   ],
   "source": [
    "MAXY"
   ]
  },
  {
   "cell_type": "code",
   "execution_count": 21,
   "metadata": {
    "collapsed": false
   },
   "outputs": [
    {
     "data": {
      "text/html": [
       "<img src='data:image/png;base64,iVBORw0KGgoAAAANSUhEUgAAAoAAAAHgCAIAAAC6s0uzAAAgAElEQVR42uz9W9rrug4tiGE4qyqVtCSP6Vpakq7lMT1JUnWOkQdLJK4kJcu3fwLf3HN7ecqyLJEcxAAwAGamsrKysrKysvfarW5BWVlZWVlZAXBZWVlZWVkBcFlZWVlZWVkBcFlZWVlZWQFwWVlZWVlZWQFwWVlZWVlZAXBZWVlZWVlZAXBZWVlZWVkBcFlZWVlZWVkBcFlZWVlZWQFwWVlZWVlZAXBZWVlZWVlZAXBZWVlZWVkBcFlZWVlZWVkBcFlZWVlZWQFwWVlZWVlZWQFwWVlZWVlZAXBZWVlZWVlZAXBZWVlZWVkBcFlZWVlZWQFwWVlZWVlZWQFwWVlZWVlZAXBZWVlZWVlZAXBZWVlZWVkBcFlZWVlZWVkBcFlZWVlZWQFwWVlZWVlZWQFwWVlZWVlZAXBZWVlZWVkBcFlZWVlZWVkBcFlZWVlZWQFwWVlZWVlZWQFwWVlZWVlZAXBZWVlZWVlZAXBZWVlZWVkBcFlZWVlZWVkBcFlZWVlZWQFwWVlZWVlZAXBZWVlZWVlZAXBZWVlZWVkBcFlZWVlZWVkBcFlZWVlZWQFwWVlZWVlZWQFwWVlZWVlZAXBZWVlZWVlZAXBZWVlZWVkBcFlZWVlZWQFwWVlZWVlZWQFwWVlZWVlZAXBZWVlZWVlZAXBZWVlZWVkBcFlZWVlZWVkBcFlZWVlZWQFwWVlZWVlZWQFwWVlZWVlZAXBZWVlZWVkBcFlZWVlZWVkBcFlZWVlZWQFwWVlZWVlZWQFwWVlZWVlZAXBZWVlZWVlZAXBZWVlZWVkBcFlZWVlZWVkBcFlZWVlZWQFwWVlZWVlZAXBZWVlZWVlZAXBZWVlZWVkBcFlZWVlZWVkBcFlZWVlZWQFwWVlZWVlZWQFwWVlZWVlZAXBZWVlZWVlZAXBZWVlZWVkBcFlZWVlZWQFwWVlZWVlZWQFwWVlZWVlZAXBZWVlZWVlZAXBZWVlZWVkBcFlZWVlZWVkBcFlZWVlZWQFwWVlZWVlZWQFwWVlZWVlZAXBZWVlZWVkBcFlZWVlZWVkBcFlZWVlZWQFwWVlZWVlZWQFwWVlZWVnZX7H/Xv0FAOoul5WVlZX9nDHzDwMwgP/b//P/VU+xrKysrOy37P/9//i/v/orioIuKysrKyv7gBUAl5WVlZWVFQCXlZWVlZUVAJeVlZWVlZUVAJeVlZWVlRUAl5WVlZWVlRUAl5WVlZWVFQCXlZWVlZWVFQCXlZWVlZUVAJeVlZWVlZUVAJeVlZWVlRUAl5WVlZWV/TP2hm5IXHf5g8Z1+7/O3t8frAbBdw+I6hhXAPxtAPxlyIGfntsFw1+1KfrpEVVW9lWbvJ/evrwcgP/77/6HHDiEI40/N8j5zP2spf+lYw9rZ+a37O34+FJ15meXD3d2rPDR5//ZW518e6HvtwLw//q//o/PLYXJmshPjh2cAcL0I0dG0Pr3zo/E9FOf3Pzwk/9+EhrPjL3zuyK89zbz4poFHL6qs+sgX//8vmZFxuq1MU5d/MF7Hm29j9+r/Ev5iQfCzzy18oBH9n8+BcB8xUG8gDHxaRhLX6W9C15cvtkOTl77dbw4pA/gAa5yrJ+95uNfz+eu79gvxQCD2XuwPH1jfxf2y5mvXEUW4j4cLluIBv5sgVs5JhkEZ380Ljgi2pq8DM6HZ+ZT94cPYRIWZmR+kYd5lHAPt/LUsDKz8czd/uc84P95zWI+Xjp5/kT4KGDwgUvyYD+D3mDNVSc5uFE4+OuSsfm8B8wvB+AnfikdDCL0YK18mo/X+zIEfSCxgHlsA4/NRg3kz/YsGMPtAxHcdXbLaOwWA9nxJwF4ikDnFk1c7A0nt/655XsGq3zot28LE47twOQDmoIxhiso5ldoV1wsubDHthSTO1Ae8MP+l//lf1x4Nk5G4+gjvLCZHPDDGaJYb6of6f0ee355JCeb4SllzQfuCa8z0s94wyse8BXsfbwzXzoJH9sz7R5r+ydmtRawS6gCPxbUx1NgAbdwXq9dWR7Q+2ThADQp42E4Wp1joPV+TAS0YwiP0PoKh/UQbbvuWWJtp7pMRSxMzukxmDzipe9F/gOTf0owb3Lz9T8Fe4vRwJhyLTj1KHD6Af7DHvBk/q2wlFNPwlGSHEwQMMcruXbB/VQAj4GQA+9qm1ITlELmYfM5V49zUmwJNVfAlcPvOhtrYD7nvnM2jjDarPCDsFW3PYLPbYHBwwuG+bE8coKe8INDUAzWQQQOh/5s56XF+zxYzQcAHB62Ar2LbG3kcq3DMB/4dvMpnAxFH/l2NY/97gGz8/jNU7tFoNEGaz/5bNcFOzrzU5l3eGGvsMRCH0bTRX77jwHw/4b/3xWnQeZzDMegdTE5n7gcwyS8N8x6GrFGO1boIt5HRFmr1dz8RgyAg/UtyPESqx7wCQzmmT86cuL5vLetUe0MIx38WE5/Fzc0s66w+fADpJn5sTowEwEgYvbQy82T3r1efzaewvDYwYIehmg+MZI1GiEMZ260u5WY4bFDsiPQm++2DlKRwLMwvBTwxmCLMM+HWgAqHrCycM4x9O4B6anUgIO+RUg3eeZTAyeYkXqlQyd4n1b2VDjw6EdLwF8F4P/r//j/HIXYMUfKA2KCUu4mPcZtt7iPXJg5yirOBnYbYzaOrDpmG8KSEpfgzbnrw270sve8PSPNBzGYhtlnPEDfhJLg7Enxc0T0CvRi4fo5PNKyFNBxB4gX+9YK4uZje8QANuht73g/mHkfgNwX5gdK8ro3kPvBfc2CWIJhMRI2cszCYWK7+CJY4uV/+hihx7xnQsKYLxLz9eVJGJ4/F4RotAiu7mbm+JT9EETfCLk9Ek4A1PzfxwkHK4La4W2fdSdvp00ieVB5EmbpSQslt08hvJJ8t/TdGPwlAIzobiED1ICPNdu8eKct4BBmJEj4BIsPsppwHTVZbfzA+it4OyEk9rPyOMD+qhwYJ2wzdE5QDLF8xhVOUs9G5+HUJQlOxVdQ0LzgfHNwQOzEsx1FbGFbHsXyRfNv0fboEoNH0Gs2TRvHzX1UPsbWyv0ZkHiQpCIMuHrCeVviIb2iPsZH0WV4ehaJZ/ysS7rMA2OJhQYmdDdWtztz9ngptS0lgfkAc9s3Xn1NNUgJuwKywWCIxQXswLW/4Ba6QzsDR3gcv5BoLRGAQXnmi/oVTDMPLCGfP4/BLwfg/8v/+P8u08wIl3JOAdgPVah9VAC95gCxzOgDWGIt5H5OHvAYlg6GAd6HLoulbntHrIIZGHO4DWY098vMyBCDOYVM8IAZ5jFnyymQ89Ah5oCDXfCZB/8MdtcRzD7mMXPO6n9mA8TMKqNT8MbxC34kYck7RVDxB97p6Y7Vj/e4wfB2HWDeBwqvQW9EKTMk8QjlBHeGWbvCEL4vKGKtHbg6kFbO9yr4reHfJGl2wZGdQn7oZOdQHdCznrdHvIHwHH70T7FPbPONQf5xsFkp0XkzlqMCLAB1X1O2p88Wj/tn+wGsADvA1DaU2Xu9iA/o/geihYZCDParP/G/S0H/X/7n//cQP292camzq3FLHmlHnINhVsl8YFKCNN55VWuVgGHl4EoXGc2NRnBC7Cy3/ZYdqgUE7uHEvkllE9mT2wgmjesayBFR3yqknZdFaS83CFEHDjHW/deBN50zyekXBenhjMz3VXH6nVNmda0dlTdMdKBLEn2hMBgmhwAmbVr6vHvREiiE4QnMhF4p7D9BusLQ7rJwizUGG3dZzLAcgAHnCg/x7IwfPM6bxfHPYuwwDdyEiOUOvmjHGGgU4SBLOaJktedqeDPjFzIbJ9i4jA1WNcqy2NHvGMwethWWB2cwGE8G4/1uQDvo7Dht5nRroiJzPPKA+d+joCMPeIV+nKNvg0YLyRh6wAr5NDOseGbIuBYnyCoAD2bBC48RPjS4fzXkt1uu23jk7LxnuBfZPsMAMEZ8uPAyQwKcEwBuX8ELeVucc93+zSzSz0FEyV9gyqIzm7DUI43K4PT+qDo5rEF3ZyZ29EX3coOwVD/oAdHMW7qWqB3WMLzCtUaEs8BUx0JLP9hkYLW/IwxutJH4ihyAgYw95iGhug7GOYTTUqaxd20xY2TC7ULkIYsFSYRdLaCyD8RKKPWwJ3FRea7Wf2VHOAdOsHRe7fvg6Bj9jv4iFvyzYrDlZ10EWhHXOorMaqeSYLAntTQAh0z1P0BB/2//M8yCXpDqcbkfnPhnBixJZ9r5tGQJ24oiXsPgjqwSa2E/0s7cYDXwrWH8aY/E5lNE6Lx335h66IXw1xkehjliBbQfjJgC6+QugsVGjGrltrFxRIcBTo4iEaOkKyeBEVLW1o+H/rb9AN6TPVTK1e77dm/YubzYUqCJG/w2/rnHhfcUaDyqmzT2cntYBoaXPDwYwtmOYoO42uXl2AkGdyS259QOtKE6o1zrIW5NHdOYOQlyvkIiUg7rTCYCbrHGqDIYc85Zwwli7LHgJMjbDIoivlcFcaVjitQlVcjdD2AFwN0Vzj+i3ndXMneFl4/xaApHe2HgJQ94tk8g8evrgP/n/z7etw8lROM8LBvddKwsI+OrNZgZh9i4qkAQDA6RFQ/sVPjKORIbZ5ch4VxuCLx/TPYA+CQveJddbmjcxsXdEO1PmxvOFO41TdzPk+Qx0R3KhbItIOWxKmT3YolyqolNkXejl5WXy6J6zb1gSKCU6PvIKmVIT4f1CxVEh1Ck3PzfHbJF+pWB4XClMPdY+awKRPddYsPUHVndiw2ePWVt48QaifUQSIqaAqcWAydyZZHwaVlsd4Dwm3+2RTIIZfBsSJIH/jQikscHQW0yVODkcUgm9w9yeMDOzOx46T1UBB9X39j/yVwGhxisXWQ2edEe0TsVPHORZdoX04gwiLxhu/XyE+hbCoJfD8D3/301ShP7NxjsaTknmW0o1IJ0iGoKgHV+lovaInCCtZsboS/iwHBD3/0aIpy25LngoofoHm4j8ryzfFujY+EmAiV8NZiH5fdDAR8+kEncq2rDAcN2S9tpc5fMzOryBPDuPv0Wi5OJzT10C+IdYxmCcH78HQHvDH136lmGjNmlX2FWlurivg0vpS/bxotwczc/OILe9vGBi8z25BELHRc7JZFUHA4Jc+DxsI+e+nxNUdbCjGiliat0ODwzjVJ5yacvTd2+jmEIzhNTx/pTO6YKGFb0sqOazQv/XQ16hYMuoV1/vG8IzFfLPAt2jLr9pe7ZcUA8RLulOfryPwDA/8v9fz+HvjrQG/rNoHQd92W7KnjFURQ5zplS5UMIkU/gsXgReMmbZ5x8kSCiHSOtPyL8WqR5XikjTTPK2jnH/R1OSWzBhFuHuNcyOIIveIE4VOF3BmqYNN9AklBMNgrewVnkwzdXmEmC4v5C4TGHSExkCGf5orHTcNlayv3F9h/NFX7cjsEqYapRRbKVh09qDAt2yqbhsSelG5APcDdPpaY4uTrM7kAUscuSoRBnKATRVpfCEHmxCaBaFBz7rMZdU16s9/mGlHLuQUYHKPBbiOBqiI1OQizc2ST0211q4RMbSI646D1yxpYVyJGY0lRnRoSmUalShrT/jAf83/3/mEJs9i8c7VwtV5SszqYOjaEet4qMsWWk274zA+DYFVYI6uhlCb0dmB3hDCiH2OC9rl+yjrKj0HniwU92IfbGsn0nwGATPuBwVwRHKqmSfU7CcewPMDOSw0pr8vsM6fWwLTFiEXV2Oc8sXmwYiwdv/EhRZw3DJBKzSJxmT3sGCfDt/9W2Eo8iOLeJz/ScoRkHQNHIAjUtEm8v2sH9UyvR4gSAxTNXzg2CsjldfkqRAxpVxIcrtStcQXY82wXdAIPD4LBUpicHGZY4AmCmONHXuICsjmEKsU2czSVDBZnM2ouNeeaGst5zFf+kMDuA3tiHbnsO9lDKYUa0R2hy5cWBv8sDD/i71ChfD8D8f6y4uSmvGLXeGLm/rGsVyYRmhI/AiesMMZviqiR1TJQa3RDRA3MUEg6o7MD3TQlnTn13D9jC03W5XYaNZ+Q0csCHK456cG+ZrMIJhxEH5SGM/eC22TLlWOYCxE/m/Sf3Gh+tMdlzsiQ8SwxuuNqSsLoTvMOwRt+weJhEAvX2WzYFrZabNdNdiuuI9jXbAOoOtxx4veJfOzwnNLXBXf3a+qOSIwUF8JxH+BhDIjEheElxNcR2nxgs1uy9ZEzOzCFaY3SM52aJwlCuCZ1ynr3cCWcOw7FxJHjH2hbKzY6JosWm9EgjvaTZ04A3p08tJSeYIh0uCwt5Pzt8H/p+EoBX2tHvK+FAqyaCYQ6DvmRS+sUaHey5ZakjKxUOOE61x3GNRxu8cKw1xf4xTMDYHxP43zZz2+dzaZCWJ2HPPw/C6lFA+vEO+8gx0pNAJUwIzShQUs/NjvNTZdwcpHOrn8xxGTc3hOnBbOYtURkGfWmvMuLoheTEO/qyyNOCxGAR+H3Q4mik9CZoybxEQccssXFndx8XBomdp9scZXtk6AErolvsAGRYei/kgq1U8Yk5CW0bEWLRR/Ri7QUXh19tATjMnOKUlx4FdBMCmWyNzYj7zVlo/yLLVXZ+8O77Up4LHYWHnV5HoKXFcTRXF1aFAEwcxQsWYsDpLi3O2PrrAHzj/3GSgqZQV5LCGgSdTIswx8dGPfuLJLGIXBIW+VJddKKwQSDvqx3vgMoS6gxjHGZ1WU83/SfoA4x3btxos59AEBJmCnYnhoefOc15Ghfrf2KhvA27DMpjbFaX8JVZLIn9h5hSKLZV18xwFP1+DLcnxQ+iQqPvVm0kA7uAaM8EKwrWh6/MU9urkGgP+pKQlRZ6ls2fdvEZJ5w0QN8NZUG9hLeDrjnMu8gRKU2i6qlRlyKF1Rd96uXeu4lpZDQRCmYzCUnrLSwLO9gEZhCdKIkxvzRwoCPPNcuRzqO8Mfms/WCRomxymCPv1lfuQtLF+zkNNy5d5+5qhw5rAsAhvrbL8ABMiUqJ8a5oPQnrX1DC+j+NAHiKvnMA5tAt7u12skStyD+jzGkWJDDDArCYFEqXgxtFrNBXnir3gIW37TOlKUq97qf1OU0KWjp2ssfsWHIkltvkmNwmK/QRxYC9/8qu9JJDsI9zX1hke6lvtzdcwDDrQHvD4JbBji27mbfOChJfDfqiEfBRmHJPct4Atqdvbf71w/3d3N5HTJn0lw7rUEWKk60RMq4tGVd4U0KCcI63f40xWHixojIY4B2DJYooJNDelc8bSvHSQCDF/QDItyXJiOK1dzLNClqQVFRVNzo/wgNw8DMjejks543Tr3Tlbpi9bAEVziuFo5E15Gf4GiWvsfeJfWpVcA990hxRzFVID3gUqkjCwPinAJiXfjLk8sVHwsAZQR3hrouYqq/uiRH+7xSGO2qK9GaRS6HENESqzA7hQmeDXeDZuNQC3Q2Kky78tdQ3W/FLS9gmX01KHdPKZbuU6ajmWGdEK/+VYomP2Mclyynasiu239v2QyzUuYVbDBaExJ4N1zGYwfvTMUDb0Bd7ApdOfLZ1R7LoaEfcrY9h14YWgJ/rcMBmA6niXeH7NhztyVaCZJZ/9yO3f1WHbR6wSGwGGPw4vsNwo0P9im+pTuYBC+15XU9UOtrWLc3HcpLtASlDTjGBTL6il5WDmznBSXZVHMeNqWxWPmunHKLor/h2Dnhjje5EYdA3wVeXWuULf0N8DQPAHoMdDPuOs3PQHTZK+lMU9H3o4Oa7EMHXBb3u3aFKOYvBTpSGVUWl4aK9AJYhVGOdSLJpw11gdXf12scHhHY7bXPLOtb2r+B9ZdVYosqcGBEZq/0/gVWsUzgj91Rqabls58j11AnngtC2QDvwg0WpiiHMoyivIsOZbJ6aEA5TtxfC3+U9/5xhX0DC8+4vyEhwQDhb3DUYTLTJX5mWwyKZq4lZMiNoyQAYGCZEAs4i68qir6hBYqjwMMuM6PZm95uZQXzrbta+pre8nuYNC/RVpKjPobWen5N5cqQxBcIU4fpONIdJMmUwUR5W+pHcOWboNOZZfS3FRbrOCQ5w2sV3tYPbUVBhuQnoxuHbIL4rkNvklMUwLJ4g+7LpPMobpKknDRjY+WdLyc8fz8x6PQDT/zzEM8fbmrgOWP0nfCED/Eci9lLnK6npYEqHGfYksvKHdVoWCycYEV+tMbj7zdyktQTo+ngz60CyppctInL/VE9KUohof6BFTRkc9RltDr85OknwDsgUF4VkckwvS31skxTGLl2co6Q2SURzA2mNwYx794a3f7ojZJslDKPXEYcjn+XmYQsyb+lcAqNVTbBv4u5hWGSRNzmklj9F/T8HAOwd4v1TxER0253dG913BqajrETfICSpQo8DJeEZ4FlHx9LCkupcIYopy3k+IuFEobYih4Szh+FRrZFRfIzCsbEMpCaTw/QuG0smV4hskV58REVto21BoJTCATxTUnqUeKtsWlAc09+I3T7+owCceMDD320YSKvOwG4xMklYMv4XfcRQ1jtqTilTQkR9ewTSXi9gThJy2gqD5ZGsQ8vtkjpkal+ZHefMOrcoIWz9edx9kJ50FE2f8sDxaWUU2TrKSycRDpLZEgWKYw2JBeKShd7N6bs/AsB0e0DvfT8GhLseUGDShDPpCiPVqBChQ7zXNrWEaYnBIssTFn1N3yHhEPesK9IoG6KvCP2Kd1pseP9X5hsx6H6j3fGVHrCEZEOE6sSfQEY4ckbXk6XpGF085LrnaVwLV9u12plGydKhLxuw0GHDokzZKuvQEPHJPIzXmneCWinSoVzbFokiNOUkpjBnoeNQ8eiYIf788W5IN5pQ0IO22Wyh1fRy60QljJsr+GjxEVkeAamWgx3JEOTvtGOi5oP7f2u/TQCwkPUIABigoHOw2A1rllhwxVDlUjILWlyzdJ1NFDknbGGbUrAjln0GFpHx1HWjqn3Xa98xTSPI6mLy6CSm/JdJNV12Ee4NVtueZofezkjfez759gcEphvTfUfi7g3T7hDfdcNf6QezpqP3eq8diWXMhDuQk/iAbOPQVplHrDhUm/IF3qKQV/2h/nrgAT/W0x1riYj4tgHt/UY7GFsAZqF9yEHoUaNvHA3lOJcnEdw48k6qNhyU8yb6iDTo82NSuzULzbn4YkzkKjEp55IG6JjD8EpYV+w2UoY5KvklU1xkvugsDMtAfpb8zGm+FdNCwjN/Nhvr5QCMxANG6gQjKNVyQNvoJUywWbJ0rBG9B4b7yXfAa3ALRKFiKX0jfHTpByvS2NUFgYJ6YkkC70U4UKBLujUnZVHqONgsYVjhroIxSpK6hdfLUacHdo2bfL01O0Fp984uv5ydJCac9W3v1L25CdrZbX7w5vUCwgne/9yJmW7YXm++LwNEN+4aW4+7t6PlnXS/RRHuhaGhsacrbPAslLVkpZLZs7Jzgm1dWEgm90Wqx3QF1kafahWlt+7UPmLAdzgAvm3eniSinXIh2/IYoSARJAN7pHT8LR3KcEbeh8ehwmpA2qSYzQnnNOYdR3kzYJu5tiMYDkPIA/45dqwVMRC1Qhr6tcMMOyJXyR0lWMksoRURSlrIz/pLAEz3hWMoCtPGFDOr0G5fnWEON4qwmqvblsue72I+tTlPIFfbSk6Cg/vHoQhzeO8ZiLAzJJNZu9E04bGTBLEIpBmRN9zlkZUjq1Df8sCBOmaYO0a6C1P4Tkwm6w2H/oh+x6SgO8LZiKUIwplaBhYZ6G1OMDPhTjcAd35g8A10v3fJFNxZ1NjeaFPlYBUS3scg29qkR33SXnLcWj204LDP8qKo3RCRqvTdM/EdBY0eGoR+cYOmpokB3t3fjru3jXa+3zT0Gj848oADvQgNyT6Oa52zQc5UFEVezq/mQSkUhVVD0Wk9sM05Zwf5HLwzc2QTGM5UMmK/NnzHObI8vb1z95fDADDnLYw8eIfNqUZNyBM3928DcOgBY+Du84wSMAE2scz1zjLuGBOZ66sh2QrPXkSMHaCVl9zX0Q35VekgBKwKdEeL79GG07196g7h4EB4a3NmdhSPXN79UzCJY0L4GnoroDlk136YXGaZLP7hDHTDT/lWDck7Af/stKON7wsdMDabEk84+wwsTTibP9gx+IG+N7rvzPON9td33Lb9EQzrJaB3L1KKehHa6K5IqW4iXMys8gnZaj6TjOkSaecVhoJ2JLN4QRBQ2iK+O9beBPMskrA6KS3AuPW2E4Fh8zqqcA1rf6PmBJN0LUpUHhM0TT1a7wcnnqh013wElyLRYx6GmVV4NSm0ZbjiXV/O6yj9OXKnlUWcwTA5PZNhLyPO8qdUZDdoA5D6wdE7zDOv7/PKlG/wgDnBUF51iUe8NQRhiR5Jk6lXBrZlgVILKlLrVLe305G+sZaJxY5w0PO0g7RwYaXvuyfXoHU24LYTefDSLhjcYBKCYu3npL58Se+5FfqY9gwQ4ASBYb4rkQpjt+mQMMM8IJyVK0w2gTl4x5HbIQUNkiVbRF6VWuevsWowpQU3Aq9X1ATr4mApnEIguhHdieiOG2BSrnrUA5R1JCTpBBMJ+Q2Gao6k9SiDBvIQ650MVkC3xZJLVQdmBcMPmLwJ9vgBtLcNemXo965933vkB7fcK0tBZym+Qes6hSuBZ7lKQQduKNkM6pXO8Hq7IAPDQdqX5c+Deh4adHGgaaYxB22UAkZ9ydnNT2Ivw1LooVObZKFnfjAlZWY2KMmc8cwp88xTLvqPZkFjkAWNo05wV9C1EMsJxJKD5NaoJj5Gt5OTIgfSCWHVZ9V2oGPRTB2g1miO2KS1Qvh23UmNwVjEoQT6km6G2HUdVWRa/a04dqZ1jTBDHXvWOiKTLSNtQsUZI80Tjtp3yIhdeU046+RnLb6hEp4F/7y/2A4gujHdafeJiW5E3GDYRkK6jgaclysAu5HPPSguGyzDkDly9ogGwIpy7i6vyohWnRWaOrhIKSNRIboh8Y0f4Hq/sQn9dm9YRoXd3wRy/HOujxh1mJ+QuicSoa38FhtXOJUBcXJwMvEAACAASURBVB+JVCbGfu0Sn+zDogaPdQPgMXweIa4j9zeO8lJ8Z1LlMoz84CiHmccpV4vv8BRb8TlX+EMesAM+Djxcs+bAnI3jdxiT06qULXZn3ju2OpxnCpNoVCmydbt7LA8q5aaFkG2H9t2PF5qF7R2RMSZTsnehe2ad3NQ3GoA4Yz8GgoXeWu/07LOWaCvp68Z1k8wVj7jrEA7TXsIctpVU9HKCrOyqjDIAJql4Rd7HBfGdbkx36/vixkyMOzHudLvhfmfc6Ebbi8d9uRHfiehON4Gye2rV3n1hH2Y6MsIBHdY7M7QwMBvQ1uir2h9pPwDSFTaO766WRf315u829N3+8/6A4Q1oYwAWRHTkBIO9PmLcLl7X7fgsJEPzriY/641k8nEXP0buxoV7hUi5ekDPZjA8+lSoKZ041pSoLnPG8FNSwpv4wbGvPNoERDdnxirn8pPBp9JcrS+E4f/ok8Yu8wp6ZZJE2xR69TucQC+0Q+0gf9j6rcnwOxj2GKxVf0nq7TfpQU16t9WapBDe3u+uYaRqtoN2QE+oJUeGB9FokodA/CzsDXvU2SDVxKBS0G0LJhYt/5x76nPExm2UUumxns9s+zZKz0507zWSk0xB0Pd+D8nnRyU3bsT3ByTf+X57vNggh27Y6WjCjXDHLWJuWKQgoO/zdbqJeOTtb5apVogGJsl29H0YUS/w9f6ZDA/vLRY2XckH6O6CG7sTvKNvJ6LvPQXapl/dVSkwdwCGUYFg9iVJiRBVxB7TmaRo5CnQMYI69UpKLyDmgZ1/nLmt2TXHsVWJvsPEK3GG9Ff7cO9AKjIuH1LOehSSj4hiXuCWE093wi3zON/q7zdjOLStcHwxDE63tKm5H5ydlvtwQHJAD6butCFaa0R1jHzMzv1leYA+RvZsh33fJcqq1QaqmfyjD7xJ+BIvBGu9J4vBJ35rwrwT160Ey5+2Z5iDXK44ckI7xlceHkM239vTy1Jgsvm7zCLXrLm5zhve5K4c7kJKbW+EM8B8I/mCiHAjut+JwLcb7sS3O9GN73cRMIaiUUQgpXHr8u42t1gSH48RaDThdFcitRTuxb796N0PFoVJpKqEm+gV7wrPAfreb7S7v455vrHPf47oaOkKs0LiQTYWouReGiVCT0jpsfjGCp8cxyxHFK5nVj0MO7GtA6flLAs6RmKaJzAHv3F2o5xUWSymkTiyhwhnXsmlwhfD8Bs8YF7/gbKrWwi02rGVGBm+A/kAWEk8Q1DVSohX6hTvBU6sqek9r7XFfN0xhugOIZqdUIjfDnQtQtPXvVWp9ITt9hmTzm1EhZkIYeL3FjOGcK9ZBKqhneBO+GPf1UC0KjBp3o7ZZkWGGySOcsGYfG9EdkVHyrv11Ueu2REL9MWuy/Ho0LC9+fB6b4Q7M4hud9xvfCOiO+7gW2sBdCMm8H2Hrsd+R27RFAUtwh3cC45ExFc0QNS9DsXjBquumTvKwmnkqlojw0U3UBTdFFrcd/dcVQD49oBebslZDJsOrQD41pKwFB0ddn3PdI9Jt1RiWmqEEAFAUlyUJTPHTKwNc4ZJWJk/rU8b19p6PzjjiiO/kwK56QApnYRIRFkPc5VT3zffndhTUdhecEYyc+LjjpGVvyr6+7YkrKiZQp52BZdu4n1c6ou++hTDvGPgWlLOm+eYw3Bb4tjAcDuSdqcECQwrMjyAYVHYaX1wOGbbwKfxyQXpzZru7mVUzWNW1Lc+hlVzHeosdZut+oPSvebdo3f/Sk1+RDDb6BS3qyZi84Jzh5jR6HeQoprJdEqOCpAeYhq8aT4TbgqJb0x3wo35TjsYPzAYfLu109PD631EUrcPP0IGHX1ZO8G96wLB5Vs1GWmRBa07C8MpnUMNdCGg0aO/raQcEsw2CZOt1VPnivkBw1v10U1mQT+gtydnbTXBvhr4xqY3g6pKchpYRpRDdoanKIdZFAUtpECT/Titeag0EJEesK/LGBnw2BkQDvKKdYcDg/Gjy8g0rsPugeSbMY+aRabtI2Vu1Cn1qzlBnUc5v8sPfosH7KOvEWXPwX1J/GCxA2LXNYmh+p5LGIZVt8xg2JzWwjCZdnF70WbsKIvbYGDY8gPWG3YYrBrFImS2iWSad7t0NhR0kO+NniCux7mlvjVnihYP3s4GtU3Rad6C2WajBgqjPTolqx9u66ONXzuf7c+Y5mE9/um+5zwTEd2w6Wdsyc243/l2ozsDtIPxA4MJ905B041VM76HN0x3WZ+++/+dX95ugnh88M+RrISW0SKH9Q8UQ40uEgrRWU90RqLWFfghOLJhsBJ5vj/KjSDQd4PegIK+w6ZlkSelXbNCUYCkM6VNF3pKJCYCKnXYzt3T1LEPx0nzpWU+Fqk/7WE1Tdv2ucfTTO+16/enTdz0YRoURj7uVDNyREofiARPkPUoR/0nk7CYxzCM4OaxW1WsPnT0jjwPizJfJB/Z45jpMa3glDN0x54e1WhYz2w/ZhpTg2obh4YjKx053QULBQ1tQLxfLcniVNOqVlPQ2LoCPDjRkCxnFRM375NgtluL+uQmRDdK30l9EpFALtWRVWpVEBjeVbg3Rhr8oJofV6D4Z+yClIw7QIwbwI9QLu53vtH+AnS/aT+41epskWIixq03XejVwbuSZ7u9YvsGshQ0mSJghh3c0NF7Et0G/VKoo78iA6vXGgnQvYPvePi4QvTqwTZvWVe7OvRNlQLfAwpauMUUgHHUEMl1TIrY40SiMvF9EUUos1Bu2CmPaEn0I4nLhqlbvOJMD2tw597w5Mzk86sXeiQEGJl+HY16JPAhCJyGck9AL/19CtrkGvN0MyL9pUMwDI7hvHueOXIPjpHy+C02rGBYcbm7mG/GbCPJ0LZFKpymcO/loirI2NdxiPgyG6+blehIT6VWzDbEHiBQziaf+G3d7p1VcDcB8kbJjVFEhouT7OnAW38g4hboTf9ujHTX4ngQnTuw8ZaywpssMt94T1pnpkes12Aw8e1Od+C2kagbgN13lvf2AC3esK3dVtnSV4VxdcyjU9DYN1oNg+PaeJDpSrV1Be6qzn1adMDeM7A6cj+QEqr295FyBUFBm2znLSQsErK6QIeXg87FKWH6yUtvuJcnUZidmytQUti0boyjK35wHqYdgXFjjwMfNIH8rJDXo/gBKjgWJ7HZahMmOc9VHsSA56d9ymFlFfT8HTB+hwfs8XIhcszHYTh0ZM3CNUBuTmlqf1pVjcQBqTtittMMbV8rSlEKd8Rji2Ra7vW6JvkWUixMXtuI2SZzWkr9Y9IiJz61jcEy8TuQHhOEecST95ylVpTV4r727wiJm9fbYgWPvr4PNY2mNPnIeX7U/t6YiHYM3nKDibGFge9ExHQDdNoRbf0MN34cnahgJpk1LvRDDYnhRl2gxNGLv6CFy7bqI5F4hT0M3EZwx2kBwzfhDd/2OuAbixrf5unuotA3FhlYXgzLvdB+cKOdtR/MFLcNjkBxkRmm1WzeVT+YjuROpx7wRVeLBHcXE6NwgCterc19moJeBMXf9oPfR0GfgeHD98bTpBaDT4axHSx5aHde454hjCGz7VhnmdV1lMcOgZ2HUiSS2RaqTM4ta9nXloI2L4w0t1c/3roTtwxrWH0ofZKNrJb3lo0Q9x6+FInDG+G8xYh3t5p1zvPm7PJGSt/uvIWBHyHe5v7eaHuH6Q7cbntm2L23tuWeSGz/QO7zerKaiGEEQRMtx8IcTAmDvq3YV+TWS89Y5WR1ZWbzE0QSlvqzYS0LIeidr+6pzveQedY9CpUih1amJNVh3okqI8iQGklFSh83YWJpXMM6dQQxJV3T5Cb5wGfs8VDQETStx6VxpjGOccUTf/S6eCp/CUb+lRhw/njGqHwQhgVNigvz2hKhqxkGu+Dx3O32WV1TGCaxkut08YAqwjguz5rQFiHHnIJ2DnmX5s4VklvXeZ3apl7AKplgr2BStVVNioR6t0HsdcCgBrGtRSW3wt/mFt/5voV+QTdHQd+I9gIkvqNX0XTOmdI/JJBUVE73gnP2oXTuTQl9S2DVIlsTfJ2FJil01f1jSP23nt2+Z0Fz8iuYveBGl+OQ+pShJqWTxCKL/aTTnoOuO6bxgGePx8xw6oRx6j5GXd95mgYcYaQE2hwdeeLFatGueZSXOINeBf8hwq1xxURpSPgSsJijL04u5s+f5DcB+LRzfNwbllKRfOlNXgLjYfA4I8x1wrbydFMYJtnJTgNgCryx9ki7qghfJxS0c7qjwLB6wbLpxeAYI05COz51h1iKR+3udU+Q3l5scV9u8hqGxNg1ne83urUsaLJ+MBPzpna1KXf2JCw2oAUJwKRvH7NIKw8Fn8PmgwEMQw6r7v7qzacUee7usklJ6BjJDBYOq4Phm8Jj0xj4Lo83jDSZeLDpyqBTsVykM9YrXiGlo1Cucf4oT9c6xgwH5Oo0XfkM1z1lhk9mGs8EI5fA+NK8Yn4dxv9zHvAYhvlZmMQILq897WuAPGC2FdiQhmHJdbNolxQg8ZjZNnHrFFqVgHGgKWLixiYf2z8KDk4bhhXY9m5mCJ+PjRO5x+k78ywrtB+/VmZBM+OOGzHdQA9XuAV9t94L2Mtj0CHktt8H5/Iq529XVWtCKp3k1wW+oksHWJQTi3aECoatEAd8MFl2CCalgSUIc9E6kFUAWFLQGoaVCrRsWaiLgJ0f3P/01gsh9Arm1jqjXvRxJU+KJsrDQVXuin+JVdCS9fWu9y0fKqLlFVWKKVccRmqPeDbyq9gKG4xiYulHzGlZFJt83FX9XQDmd983vPRh4TU35xCzTaZ0x9cre2phgdnusWHXr0dPcU5gslW7rnDdfn7ysE90Q2Ij5627X4mfscOwQN/HT+354wKyb3x/YPADFFvdEeGG3sGRdf4z3fYLcs3tRZSRtcSoyrZXz8suTtxEOVj6voPbiE5BK+iVnxIYTEIb0rHNNHxTaGBJ9BW4e9fxYFJyHOy6ExoJp1giyhC/S6nLmBxDM7WmtOIoYo+n5LB13wdx3xA7Y347TmBeB+OTbikOLvTsMJiMbFF0Wooa5Lwetv6OB/x2DPaMyFef9hCzbdRIlmCYJSTHzLbtB0+JhnaemG7Fr4P5YzW049vgvyia+kkpVG+AIbtFNwpadvqzdqP7nXCj230DzEcYmAHa1LCaB6za5UryGd0P3kB662wEo8tm/juoA59Q0Ls8StwNxoC0dIL7CwjMZvIwvMlgkcvPIiEzadE3rgZWuVdOkaP1rDWdD6LGQbEmM02ziGfHxHLEs7Z6Y2ab8k0AAod1nT1eZ4ZDMOarkMar94dqgDPkdvKC0TGt+r884Es2TJecFONNi3fV3Dtg8szd86d94TBxSbNk04wdDJsoewTDc3TfK1z8aTum6EKppOZqRDgHpDTFaiT9i8Iz2L/bebdSYrpHX9/dr9ZhavtPi7uAglvLP6vU6E1EBGYz1DHV7r2wq62QFuJQMKzDvU2IQ2dBNz/YCGaJ6zS0MAsR0R2Yewp0Kx8yaK0Z6fhvjcHkYsBhayCKe/bRSCZi3smHMpVj8skTiQwyZZ2RErzMWV+e9eDjc0tnkvFq+Jae4Bd5ABFXnOYj8AiDdSahm3xgilIzorV37DEXAL8bhhfxb4iaWETW7wHjmXCYELK4FIY1uhN16tllaPt5MuGxHac2USMJCqN5xmG3FWVTkjRSIjDtGx/pwUSqaQENcp5l4lX/GU3nBN3Pda6qcIJ7jtZWvKT6IEE5wYaQ7FocUL010ZUp7c1O055NKhaT7ndEPRs8R9+brUGivlPZG/iIrgwD0WOfikVj3SWrihweFrPHgcaTRO4ceu3ZPJ88DL7y7Bh+bs2wM32yE8y54gSGLQarmxN8JLi86AWNTnuQYsXnCOePA/BLYNhhZIh/g2OwcMyJ0xIdrHs+PaWMVr+EYdf6aQTDnNYrhzBsFMHIZmiT84PnPPZKznb/ZgPDQ1aa1P56i/sSY3eFpdfbI9ob4j5QuWct8QSAdU3wLlgt2G+0ftD5ZgGiW3CrZnMUNBF1nQ2hOil7MIjmg1rAUj4+EcZWrjw9YJhJNGlwdcOSW85TsUgcRq77ghB74oEwsmkSnDimgQLzQfY4a6I3Y60tDMd08fA/efjmVeyxB1SlkZdwxTSE4QBEOfiI+qI1MCYaesw/6gp/MAv6FYHhlROa3kxzCnrtzJh9UXDMhfA8JG72itKk5Ima9nBPkx7BcJ+K4hwmkGMaYKgDWLc0DjcOQsfLoXvi+2odsa5LGb0jURoKn/slbeTxBoISYyDxNeRyOz5tCphNdktQBbk/oI6TvcIkDOuwLpJ+L7AwsGWQUb946kDIKolMtke21LoQldRvUsY/q9pf6/iScn/HHfqYk1bzRgGD4srXuVhx0IyPFjri5UJO45Z5/LoVdrxyuZAqevEAyRpqTFqwQ6wGEWvtPhJ8UbCkyYzQEQa/FlT+KgC/2rDwL0co6CC5Ghn0Zl/ELwDj6V4xje/oSRpVK8kFQlKnpt9id9HC4gFHbgc8NkUlTxJiPese+74+lXon47uXK3tqCGXMlicN0T4Ku+9Lsm/uHv0lDcOknMjulNrGmbKUKMr8lm2xOUjIYkdBk6Kgo8Udu+6I6P23h2BZClGlWdCt3zt5mUkPzO5vCcDidrFuW8vBizilORDD8oSwZlbGaVBOByqljsdN9GJPOqqlsR3gXgHGB13DLDk5bkznYLiVMU5PkjDb493on7O/CsAr6coT9J35wVj0g6fv8HXJ1WtyJUmq/xCGXQTWzajWhyKPNpkoDrXuuFDLk4ZYRTiHMOw1tJsAFlxW17ZLEEIpEMi877xb9wS0wl+CipX2PkNqL9byn8l5xipjzIpbhUXhUEhMUatOiKfikbijfnCAaMErXGHtDRu3nkQ1EY0wOM1Na618Ox67EO84FStuq0dLScJEM/3FKIF5wv3mCo4ha73uB1+JOScY2iXQda4tdykBzj9iV4lZ7rRoeVNZ0J/jrA8D1ULOM0Jw5SGce0d2LRXrBE2Nxam1TEfLZQKc8DcShl1LDKWpaXhs0l0okDjBhtwWedFx/6ihN4y9zwFvuhumg6GhoHsDKWi4bo2KCE2UZEPfFiB/ZOoyKaEr4wpT9yZ3jBQunVLbaAppEfqyasfon6xOXdirey3nCdghLjYNrQyXDEya06u8M3YKVjYMrCQnW3ZVl5zUSViJxFWagTXA4CP0MiUyGgMIXynyWRFGPoe+flrbd7g1+Uy2bR7hdKhHzlozcynnk61r2xJPBPPgcHp3mAcYbD3mlLX+YVT+agDmFWQFFrFqmPOMBfZ4DsMiGnoGjPVikB9w6o6d9ph166eJAy0AFVkXinC3u7nba/LXUSNhteVm2c6AWb3jw8C9kSPLF9hZcqF+BRg/2ClvyBRotJ6HW/smSeW3iiOrWip6iuzC0CoiEDvBHW4j8Q3tGbNoe0AdC1vaM1t2XfzZhoQOdZMr8yWnQCm7/LIJ/Zq8KlGS5N3QoOPvrItR4qSOpJKfZ4/5BaIBMQ9CaTg2OMaFaKLmqDBjZ+eKeQLD2hUewzC0aHzqB4fJJRjmS1/OoP4wAOMUMMxQeey/ztHXn4Qn3icSFBz7yseg91o/+MJntPUWHnaHjGB4rswV8thjGOa+xpiehujtkgRUgyA8aG4rCny9RcfEpnvVOiDKxKveZlfhmchyIllHi74+9WZPUL6vawTJZLKmnVCrzYLuj4Cl5KQUpIRu7oym4yHqeRIKWol1UC8TEk0GdZsj6ze3zYqmoHUWdCD1PNXQCDvML9PLlKthZHPrKj/4/TAcls+mU1j0rRb1BwEMM0aMdADDFmiDBOzIY56w1q8C47/gAV91S5KpME5gnlDQ+Ttz8OYcQXn+DtFxeObRj3pqA4cFV5hck2YkxbrCFxnBMC1VJyv560Ta2mJwB+yO3K17FEMI2qJrXMqdBsAMAFsOuewExdSFrphkQtPuWrVYplvkRLgdTtnKoIFZpkxptN4TIgj0NuiVpCtrV1iir1DkaCDN1AqQPAW9A7MIJzO3u7S7wuqLKEqBppEMltwcpDVCg468tNRo70xb2RBZT8Cto44jejlQriBMYThIcySd4UyDA7RqDvWsDAXD9krCwDCxqqEI4HOSF51isL1pkM1MC4DfyldjSFPnFDSQ09Q5DGMOw+QjcjmOzsB4Rd8Djv+6mE3xMIxcM2MMw0zpSRIYthyUgGFytUUCevWK1l3LLlVJHXz3U++FuNhErzZlKzjOmWQAOJLdV2ywS7/SOCr2Ef2qEa/vCxR00hqdefsmZtPUQeB055+NK7zvQvoLo2wFTb+T4gnC6O9Q/HnY7C8ipWkxBpzB83HC+Vk3d0odU16YGyXnsR8B8hzg/Lf5kwTscS9tHCZbpTnPmQv7tPKzZbYLgN8DvQPoQgKKB0hpXqKyM4d18g5Nrn/VD35nIOMSGPYfmYmEWEkQDcOyx4LdKZv29jIBDYqX3rO3Ngoabb+/d/TbobdxsBKM4VOZRBh4d3WAkRyQ+nk8JCKTLGhDOCs/GJJ6lS6mKQoim1mmnF2ZBU0dg0VjwV0IJCjTIoO+7AuQ0nyrSVOEIZ88paAv9IPfCcMryVbRBp3Bk5PQs8lWSznP/pjZr1hcpFYUPz5st7d9E579xCCBWU0Xr7PBglHzOMoWa4N3REln/KnO6onRw7N3QuiNHN8x+uLN6Gtg2CxGGC1he/iQWX+E3UmMx9aij32lliUrQRaPdbMkAascu3ZVui18V0NEc/j6wQyLXntak2NQB48cSIlQ3z4hesLcxjIgy604+hbdo8nek3afH6NQvt7BlfuNalnQ5MLAfTUW5ZtG87L/XtfRCHEvQtbzm4VmpBoMYvwYveUp+s739ufQ92iEiEUAf7AIjNeBhdUG+xf5RWy6jpmTqG93ixj2vZVdfs2K2vLDOEt9xaK78uaF8Ec84CcSspYSmHl+TPr4j/zTwJleJJOXZDfWBbl4abh9ql1E9vNUY8GxN7zx1Xtfo0Y2i85+e98h0uyaClI3eU6wLzhulUsq+XlrByg0sEhDuAUY2qOeAMmU9rb+9K4upkUjq06OGxWNni8dYqrV8MR8xYHrfLfLPs8SuZWU1bYDk7qPIqmKuzKmar1A5JW5lMizH/emEaHq1DslnCOG9QPOUBJt5VPe8IQ9nmQ4ex7be63JeWQZIC8kW1EePGYxeZWUe9eKTdKsFhKnf8g+QEEfh+Ej5UMzPnmFTI5hOCoxmlDQOJkFvcYwOzryy2xhjbFdgkMYNu2Qd5KYZKtivUoxK5hD05JseVgGfSXsNf0N3vOweOuhJCpqAOP+BmucbOfQkrb6ZbkUGbUV0D8ZsY4C4s0hC13oJPkvAi0Q2XTuWPuJlQ/dc7JIaV0xSye4k8w8xWArdOUFMbCAviekLV49hXhGHa/B8GSqLWc4+6z6KAtaqWv32nlaznn2MLwX+nHr47IHXoCmjMMj1nrpmBeysz9IQb/gN3seOHaLZXc1t8kOCeeYptbvGGYmo27IfeQpZilxlPG1Y2zetZTZhDoNpMWZrkrs12gZ+qW85+l0YNBpQQZmNBFKLnlYftZDl0jo5RDAeEYvN8aOdbuknKNOsqATT9FqRENz5p2ztcOLdbVPo+jbQwm/wkd/jQxWiLU9voCUXs4a/PEkNhW/cwJTcWi1OzHBE1I6/JbBFyFao8xhcBcD/dWyWSUSjlqS0uFiiC3ZufXnEg0wOwuDVaeIhkOhPOA3QfkaKS2PHJUkRWW+E2bbfxE5t3vYK+/YTF4eZ1/iGVsJLfuTnTdsBDI5qpdtVO2e0Lw33w06E/ak6uYQS8q376O3Mz0YYFXgtC/9JhHae3JmHxA9FUh1A8utDksadWffKP1qsLQ3v3zDQjbIGikk79FfQTLLYl/vnpotjhIC0/FXm37lN1Xh1g0pdq54vde3FaJ5MBhHE6me84bVgMLwGApqioOKJvG9rZYPyeztPcUy7Y7d2aWe+GhK+ZcSp9NV5le6Mvz3lpX3tTBgnWCMSektHMc5VLcSI3a7V/NFPIRhiiuV53zyHwVjOxKWYTiQrWKBwSTY5l2FY+urIEqSgB4Tpt4eSs1mFZntJcWtNolMPl6Xm/BRDqREqPwy9ev6AiZ1OKRmSBabybKg9z/bO5E3BNv7L6GglbvEku9UElcW+DmD3gx9YV1Ydq2NpjDsYWVRZOM8GC/AcJzP7I8ZN6xdcIU9dbw4H4lcaXqvEbDwj0CpowMzJ0XDURZ0k8wRvVRYR2QSDDaFD9eB8btKmG7vXXwvIa3xBCkNTUcHpAq7FyHhHH0REmYm42riacx0jGtau7n4JleYRow0kQuNJi3QeeAh9ZMkfWm6V0c6yVl4daoZn2MvJWA0Z1HpWhhGFEv3hNPhDp/Gw0muNS9suzhzfIUsZXAGkVpFUOjrwgQ6JV4LcbR6Yq9gxeZBz9DXMqkIid7Xu8Jr83eBcD5FU7sYhs9wDs8pF6jg+s077rSIc55VnfwjewIDPnkfK/p9YFDAEpEeq8KIRUG/BIazLGhOd4LzLOiBNMcKKZ3PxqcTrw7fsZ980iLPU+Y8UxdMhmSuhNvq/GbhBIvWiV0MqxHTRlFr+xvcKtTg/SoFP727cCw1zNnD6epc22vBsQcUITnQdWVgweYDynFvhXfcio7MBSKo2mq+aavllZ4xR2VmHHoYeVsFWumsMN/MfWaPedgbXmMOcdTJUZ1Cl75HZk7Zd7pLqk4b6zx70eYhn5xEXUb3CTZ7i8id59slsf77yVV5ttMZRu99E1+b4ZwF/GeqGo61xhSG3wfGfMlJgI88cJ/kTKI2qT0fTrA2eketPdzXK6MRhMY5P/5t+0+jP+W793S5EZNjbHhSo2u0X1cX37RJpIZqjoCqpSLv8CnTodn72UwjCpqj8SepabaUAxsK2rl2+hqkIKXXc16p2QWHfv/Hc54x2yJctHthoAAAIABJREFUpfGeJDW7jcwUeqEaKAcxIxkiEjnPXhpa90bR7ySh3BA70TuGDgUmf7Qk6fZNFzPqsBvRiHPCQeRbQdIjQ2ZjLtaxRkp3Jd1DZPLT7FN2H77XFQ5Z6MHICNwmVoy0zulNKGiTBc2d/W6gEuEBCbKaIx9UfISDBGmPc/ENsY0WKEhZFTCMASUUTpoBBS2uOaCge+RYTk4pgr0v++yFOCzDPCMQYynNT7nCz29A12JMJ1bOaYbz4FMkuGLwQliNZTeareZ9vFqOhDhyulE7S4dvmw84lge8ir7gaC85WFEGGe3s3FOzLOTJz0tZ0CvtgYdRW6zPXvqjtpaQFfjBC85BSkGHR6YU9HA1S2Z5GNxtV+IckPC8POQyRipGM5eKs5QgznZ/oR8cb3FYf40loDjbJ8221RfUDj3FDC+lIj/PUV/mxvB8X2LlpVmx1nacyjrcFg/RyVa+hfd+DMf6Gy4p2qdQhYTzAf7vO5fO/75tGfbzfSX8PkFfTM4T4PRKFrTndTHsCTEBYxyaYn8SjBMY3uv1E06Pg6IjhV9xADgYA44TFqnELAtsONiVI17pUgoalNKRTBb8Y1hAShHIP8hcpHyjEMlgZdm5nFMOOjwcKZYEiWyrk+EoevGhZWgFhhdcMP6O/XSTxsD4/kCLRfuB2UQ2hKD6ERgGiVQLGw/aA8zYjrKIm70zhV6EqdRFQR/ziadbvOQFEi7adF2jPAuaVrKgo2PAqzqrOLKQ4A+7whSWl/DYS0wiiPnyh5SiU9LEUYtZcziHegd6jxbDG800ooH0zGKLyJdybM4PZkMdK3UOBClmNu/MhVjCguOs9e/i3OAX5NrgkpyJ96dNJGTsUjiMJ4yKEtloa6DWmzGktO6dvZ+EAkZaL8JQBORQffQwg/g96+evZ0Gv/B0ORwrqgyeRYIroa0po6vk7U+6oLOOHDwKKLKTFEmcHotacNBp58PsDWH+3B3p5mmaHwU8GmPPuklAVIoRBe5DuDOks6GTOqOVTrq/NO+IBfqsaJBx+1spvW8+CPvE1WFpwrmo1iBfPkQMglN3PiB43N0GKbDRBSNk5OPCGWbQyox7UyQhn+WLs/u567aeo6QLgp51jrCNx23+RF6SkUVw5gV5gRWfD50Uf7Y4yvQnr0jifmfSvAuPsn9zfLFYV51by6PyPTsC9VEICjKJqWW7qRP++3i53pr+ieXcrZk2ZcLQmRMGB59K0OGTwORqPg30rVBMctp4nXzcoOHB1IlWs98PwU8P/9a4wjhwajCjfeTBvEtzbGUKx1XamteYmrhJpR+LDhHNEQeNji9G/AsDjhM6FcWn/1hQ0zVtlxV4vKL0ezBoVvwkuXy5F9nm3+KgLzS75KY4uY2/94AvgKFCaZJ/TJAqWGDxM2Jdb/6iI0cBwxAX5niPaD0YAb1hA4igRO5NX4ukkPLJSxlnQXzNHzpWZ4vXL5JofDPJSkfoOw22LPAxT22KyE44V7jJn7X67RCynIV6mSIpWPIXWNRz8S67wf+9dLlcHX1a8O8xwjt+ZKnTzUAuaopR6Mzp5BMPRivgO1/SvwfBYl8OX8QdFhRyp2M5vzxLMD2MeQs6p0W+wYnvEyXdFMNzenTVIjYc/gmIeTiqF5ss9BnNLRI4Xs6Bfxrmc07545rT40Cw5cOucUofJgvTZhkapIxCqbLW/QtVZFQ1H0pJzCnrfm3Y92fBvSR59L4v3NgDGJNF0EYYXvWGb88wJNkcVZlm10irhrEOGI374I37w58faxTBs9sQqvXn6Iokpj8lt+QfnHh6MQoGaJiLf23oC/uG1ka5GMyT/YtsRBsXHvuQ3FN3MfggOOKZxFrRe5ddGKD8zlldh+PVO7fv94LFShy036iyzHHJklDpgYZi7iMzuY/cPyn/TOs9zwrlPhiaucxVFwR9bHf9776I5WfyGMIwkYQrjzmTac/Xkc+ZJjxoGU9AYOE3ams2Myr16dkRpDDbKlFnZD4tuwie9XhrStvnxCDFY/qqcaZOusPQ9wvHEOaaGjm+snenhM+LheRlkTNND+V1z0atXrUkf80o/5gc7d98GZdrDgGiqxGqzhQCGt+7bZIK+Kvo7Ipx1WfDAWWnb76ErPG7Y8HH7lhjw2XuzREpPv4g1kNMwAMwLMHxEFPqzm+K/ZezZh6BEGCPGsO8O+TgG05CMxUF0DwLBHpTdi8PDiN2ffFCGKlQYOsHrF5PnPL+o0+urYfg799bTfoWuWSEaQ5hHgnW9ryCcKZXdCBC3CbI3gdnWHFRnJf6VBe3rkrD4qU+NhDhoGE62Z0AMqBwRzjxR3jjoB+MV9/T5k/IvuOrcN8XgCMIwkMKI3N9FsJxjsGxfGKpxjYQ4sgzgXI0SdLzAPHOSR751DMOw7YlOoMSr0fd9MMlv+ZZT03nQr9ARzsP+vqRiJwEMJ7IbQbiFsSU/QmpBswnxEr6+0cJPAvBZJI7zrRJv2FLQPMyLHjjBK+lXn/eDITe758/CX9NtZh2L89WnPeVh3JdHIlynhrDvBLF03YGzFrEtWxvg+RWtBcZ4BJAS4EMpKx+MWcyCzuW1f5HO+VI/mHPSwqyorvTIw3DP1dJZjhsMQ7RScO4vxais0rN8VRRM1+wC4LcN5axEInRtZ+w0iNJELRqmQ6/Gfb8kC7pnDT8Faq/TsH3nvi4uf2THVId+JBI5GAkwUUhVvdi3/VsWqnky6KybkttzDDQHOYKUY7Dyu1WzhNeMzpzX/kdiIt/VUXQguzF6KBxXAEP03jC7cy+7oahjJlmlRBEGN2dX7oJNTpZMiVZZWj8Eya8H4Mb/v3BwB+vhqEkD1DtdJg1eGIuMOjSNsrGcWAdGMPbGjXOQunP4y5gPXv/PLJC84jWzzTHOMJii9CK4b4TtD7y9B+y43BV+7JISuL6wFcCNlFZ/RKAFp6bW02D823Zy5GNy//h9gz3+j20jFii9ZNIcSqMNSy2BiUJZq0SIQ/wdYLCeu2FxQ6etT92pNz2Tt3jAw7Y2l0JvTLNIlHWh3w7JLvFqLEtpHd+op8KXZEFfUQF5hQP9fa4wHc2C9mJY5j+j+L+qgmUyni7tlcEs1PtZKN2DJbcXDP1Iwy2fcDI7fFz7i+vHKLtI0b/gCn+PH5w1ORIOg9tqZ7KUjzwYkIfhoAGwq/3ViKvzoqOVXLXIzpxgfVpbNfxPesDrIDAeOFA4x8JhZTFW2OZVBV0Ix0kdC/VF8M0EebZkfYHXiOme+9+D4XfiPc/97ImDbmA4F+JYGwSmxcLxng7Pp0fxi5D4a2IlX1UfHCwCUUhGVfZSTFPL7oTYQigssqD3vWMf8BCaqjFY9rmR5DwvVfgHswcwnaf/RQCm/D4tUDdQUOrF+GDnHg+bP+eyWcfUoclxzlHG41dVA9vkxmRRHHfyTji1AuYDiIVzq2awA4yxc4RqgzD2QUy9PDfqehh+8YqG5R+AK+4CXrEIREntkeyG2vIJeY2tKUJvNWhguHPIW0oWR6lYGQUtiejnYJiZvix3+gNJWOO7NfkoyDi4DIrg0yxUQY3vQILD5V4tSXPQUgHSV/jBswRIOslal3+8tPZhkW5YW/wZT5SwRTnMfNBxvMR/XSGnfte+0Q8+kwWtOOqWwMwiCctWALecB3WkVJFNQ7yL6HEEhr/PFf7vO0fq4kQcUtBSllJAKVbEpSnpVUkLHQkp5KhfNuv4iTVvStMVDD8zjjncFZpWC11U12ZBq78z9BX/yc4lexXBW7Y8W3FuVr5xPzjpThgsFHqCR43uwTJvYa78jO5DM3f1DTyqAUS4d9OSHrzzY/bfF49sLO+HtWMKxNKSAoyF95zUIIGiHK4gyXlCSp+YY4cG0al8+yi5MT1gpRdbCsP2E89sF34Sg4M+BNwynkOVjZiA45ETvKEvbML+9qV7zS4f78t7ZerySqfuL3uE19DLfGZivxWMYXswxAsFfD0FK6fTxGv3DGeaZGCp5r4bj93aiG59lLjnYYlMCCGY9Zs7zP++dOGKC4omI5U9GBOUdyBqirK86NAPpoji9uW/rkLp9ezTKZGNqe+7lsOCOQyHK9q/5ByPsqDZaXTlDzPmIhxhJAWigTCyy8dTk16CxPRHZND/sh9s1oFgWeikrhI4h4TtvY3mGgaTUKAkrUlJe7USeWBmiMaHv1MoefuVYW6iuRyo7IW1SXB9YVQOV9hYKWShNTxDO77gAG6nOoBI/pzaquPMJOf5ASuNm+BX68uv9osH5qIW9OISnUdF7L1e8KxwLaa+ZOeEt4z2n0J0fHRAY6yt6w4Ao7GJfcg6HSTnSiHta6eyfMgwl9nuBL+4s/vvF4aj2eoPQC58AoHshn6QnouOPNplwpnJ9dBccOLPrkuWFFrrt8zO1x9RTzQ7JvOGRz/pT62hq/0Y9hcDVh+Jb/AEYv1NnHqaTZmNwHPVCtM965J7hvnXPSstO1oWAkd27ByLuG/PbXDj2Lm/W21S2HzQVPHaHKtYDloVIf8A03b7oQlHdpckIRkrGOzwmAYUNA+d4H1BVW5r5DK+2g8+7oAuLT1YWUeO/lj+27lAXXiRKVV5nKX7ZmmI0a29unPfDz6cP+sNv9wPjoRXzM3EzPelgAvEloUjziBpyESaMBjKcYDPMKCTmvevHxtvBODHqnTZoLTCGglTkcp0zChoM4aIcnh+DnpfMl0v4YGfgOGDM/8PQ3ImDi7Kh3ywNs1XQtSI0Pwn4qb32bb0u9H3q1jFC+YLHY/pfACGA6fCviN/rIPh5pwIjx+jpFeRQxhT0OFg4BVSYfbQEMyU982F/14/ZnVEvBVVn0lMsEA7paBDwjnxhoMmDZzsvyhrgoRsNGDmdOD07R18CydrK47weCsJWZ6PmvpY/DXL6pvXb8jnshdayBkRthcf+gb2NXSDTYhc6HUc+KbbdlY4YMj68OoTOzNb1yBhGpl601NyC0SkwkFGCdWkPctFwCZFq1aDHLYEHvVaIJdfbcBeN06a/53dgPdLp93eMoF04uXGzp0vT3TljdNA/UDzxadbw/vBrBqvYY2QeYcffDpP6mXe8NWe+l/EYEra8wEHh0IkCidPBVNPt2dB/yYS08cTlC71g/HFvxRhqqlcKLivutBdWWkopA/eT+L8YHDCeSRSSH5NAwfM6Dln5k0r0+diwHx0sQpGJ0N7xtvSAveOYDbQBhbyJsHxZpaPxXqzd57Oeb6C++JXwfBrEqe/cSG+eMVz/QQZpoZuir6RHxPPty0e9NgZP16cvqE4OuN5aY4f9G6vj/bhZS7pLw3dYMqnMCzAW0SC4yzoEIMxcp+cqLDhJEa849eK0Xx5FrQJuWd4Rpk6tHpUTohj62gp3omaAec9kWaE85HE1eM5z8us14AZDjjqRyr1c6T0M2XEr+ADv25NmyqxWE36SWVjrm7BYqpwtvE56xDjBD/McTLZS0jmYxv+aJM6vStrKc2YXckFydUv2BMO2yIFQhyyK/CuSMnDLOhYiGNbf3gvIZZjQ+uBtJVWRnFw7Jl/1H6sDpjjZFBYdWhosgLOWUBHXw7QFysdCT/hB+M1Rf1uZQb4aW/4Ii7ukCeNnxnIB3diyAQ0MIdPWMhlivmH7hAflFjDM3eBg13E9zxH/LNlX0shNhc1McT1TjgPs6D9lnpf0gkUFrnoBNv2NwZ0aQHwfAfPBycwBRXc5DKf3b8G/RsU+s7CGEvQyzNW5J2LwslQ8RoMX7Fzf/8kkdos6Rjjs45hH5u8b/Fi6QuOMHLklEB+xLLWiR+4Mq8uKJp8X8bQRzrYv2yqfjXAL8CwKT2yxzxCgUJ80AgUIkyMbcnYIs7onavgPvNPbZ6+sRkDJwVeSQUlhiGlBIMVNqRCHOSkpClvWTiYUcOUSJxdEzPZjauZ4RkpfV3v1Sd7Rp9cUnlGwzVB5/WlH+rT5LfxnIKL6r9GM6VuCfYjDKa/lu02zqLns4Phgt0kDsdKzoqs4JknjNV7HM9x/c5GOO+gmvRpAPZ+hWzeYZU+DX0Gqb1BTfmZFfvT2xfv3R38inQg0vE23L5957zKGw1lGDxwfydSWaEQB4WlbIFYx4RPXnM985mMEzW1UzWMl3jDT/3St3rDGQbPVUROXBoUiHMmWxp7z/PtQef59iGjEqotQch/EIZ/4Qfh28p/abUK65QQhy4VIe/twNV8YsQXbsmzELQzVB5uRmtF1arf5RPfvnZeBUW3sDd6RS1lVqcUPHXWdUdZP+Dp8L0GkM7D8DFmaWlROBUY5nf0Qz29fkGreS+cCk//GEwIgz3/eemWY7A1DVfa92Wv/TAp/d58gs+gAr8IhjGrRKJIdgNyoUYSSRTrKp5sH42nNicX2bdnQedIMD3eAiHbYANRLs1BoKT1L6XFnEPBi2cf7ILO86PniPl6HGSW8rsadwMdLF44/EVXAV32WJeWXX4NQkFBJhoXBjyyPkep0XiW3+/lvxcXwC397jctZ/z0cMpA91AIic9+y/hqeXmVOHnfmIdXgOnSwYEQs+8EHGdBa+Vn2dzXym44tpn4l9Pkbj91tfvSMa/IUHsoCeE8WpHDTohI9gE4cs3v2rE6d3mFoz4joXeqaPg6mvrEOns4be0Efi8MBRYNCnnKLwAX7AUwZLbxtmn7Zui/yA/mfyQL+pqlI24lR4OeSBPfiSjNeZ5SPQXAr5/SDC32Da3TvUcupTRHqD0ZpVUfGmeHY7FfAMNH1xqc0+74xKIWwucXxoF6SMsKboDH48kUaAAjzyVapviZG2FyupdUeZdd2KN6aq9D34tWqr8Pw2bgMsYYTESZ8jPRpPmg288BOlD4S/bt7Qiz/U48+fc1qemqyGfGLWVFJT8P8BgZfsg1z+fTnCu0P0qzrfb742PyywsiG/MvWl/d3im+anbQ/MVroI4ksNbgHTzxyHufIN2zd0IzgTim/RdVZZkGdrM9Fp8mPM7g6xLhfEIxZuG0V2hZL64tPuAV0dRq/rqkaH6sxpukxmEKmpLmg2RzxuO8Zhx3jD8jlnV717pHz8/zAefger40xxddjV6S0qKD9Dr6hk0/KNBBfd0W+Hi/v6Ut7WHm7ZyS5WucjA+NyJehr3Jw+6aR0/V1v/GPj4hdpRA2mPC/V87NvVXO+KRzNiJUv3nZ1vYNjN2PXeTaYuJXSL0ZBIxi4CIFfab5oPW7zrs3b1se3kNBN7LrREN6U2EtRVWaYEpaAhQyGzJJz+mzHKCgeb6rxUfm8yIM0xkNjYUpehBlL2GkebYze/oB4eS/JdeIBRhWgBrDsKWRnevLo9RAeumCcwFqLmPwPypW9TEYtp0SZmFgeOhVWoTUIoYSfRECtu8xnK3/l+wqX2tvo6BZMJU4nBmJ0fZ9D6OFA2ilt4bhommVgo64m5X3l6cCH1/ghoRzwBVPtC8iohjzL1o6z5kDzjm4/OyStHoQhuPfMmcCZQ/w96l4V+4ir/PM/Cp2/nSqqmMvX+gKL8i6XfK9VxHOr9t2xN8OxaYjX0mQCTg75edN6bwpz6DTz3saNSnZDdGgUMlwIHnx5fZyDxgH1ZrmgyHyynRbJPO1QT1ZlHUVdMXieQHcCxNGTrmGONX16IR2x5mORhfJR59H3+cc4qWeBQvZ5H3HaEJtQIrrWPWtOf8xRzJGL4LhLFfrjTOi7MJdlL7/8UoyeREn4osCQhbUZia7wctTnr47LetNWdBwCxCE1xppsg9OFJYGCQ0UBHJa5lEP4r4UlAvHCMQrW4PLB/11W+wTElpLXwR84icvADPWt3VYAGnQcO3BEVZDdXhb2yCYrIbR4uZS97CY/sYHxtjr2IWyb4Nhu5IgFkRS74Aobf/au28KOppU01iI/B614IsXgJnpPJCh0UsCFibpK+y/Tz5Hy1qoB8wx+2bjwSvLVHh+mmRdDbQwV/oPvmTQXz4yIvb4CuWEU3nRyTznIyvCtGx3Wldrep1m+wPitEtm77MrRChxcFKkGZ6px4GFJ30p+rWbgKWk5finyr6LL1Xt+FsSnO/4yTiyHGnFeCvEYfKi9ePuf7M6nkycC8CDjR6FMNUXhlPLMzKcCRT/DQAe0/Kc/OpJxHd2i8DJRszDatYn3KYpYckFfOmmnp/XRFqC4YuaIlwBw0dasS57sZjfkH1TDwY909DGpIjw0j1jfiwyrQApeSDQP2ggXWnTVC4bRJdApmkZ+6IpdEHR0RkH8dQXvSjYfGpZOJC30YatjP5KeayV1UUqYYn92baUtDHPIkY8GZuPHaJY+TFKmHgrOfPNWtBezWqEwesNCjXKztsRJhsCvBl9hft1kZTdpE/4Yj4zji8ur7hLZs+EI5eH8S3ktcYxR4CIZ1nQOz8GxmxTinXgGDaBmGnjDvbEU405OcCwUJ5U1PT3LMWTLrHuADCs58NuyWUMIoB+32iHKot+hYdU9x1MxOW//243pHDmh9lPfuHLfFn3wrUjFIMjklI7lrL0rllxvKPRWtXQ8a9+UX/i65weYFAAy2fm7dnRzPasOoNw4Tt38Z/Y050rpp/7BeAzC5SPB+HJ0oCyTxhW8sM9g8hpKhayfRunq268zhzoofKV9t8PXWtS6xn3nxo2KKSQ91YDCKG3cLSUFqd+5TGy63B/X3Nll+lY4TXX/zz+6p31DJT4Gh83+rwrm1DcWPILWHddXf3pkMP9muqiFvRlynpHwOV2ELmmrRTRjB/ZxZ7f0j3xKf6uX3TlbPXDdKWKTAyDLBhxIB0EPxXuf58Qx/HV2X0Ghg2D7s7bpDk0MwbPgRDFavspBX2J23fKabjQGx7ifOxSnVHq4O9aNfTPgaG24NDl9RtIDu6Z6NNwwIOe9Wj2vUtE1gmfHZ9YHB6DkTAs6MInB0zZqdXG7TBwKOnVE9HWlSIbW4zn78+5wrf3PbiTHl6oeNL/X/kupkoMVqKeYUi6Qd86vB16n9pov0JP6vSP/bjScigh7jTRXvsrQIRkJ4CnHjuHuwWAl76L+1wB80LC1snuyE/UYoJmiW9VEPx9MIxBw7QpBrvqdas96fGYhoW/x0fIZ0Ti//vYEzzs56VznkMtaENBwwUkVnsaThy+a8mlJ1ORLyF1k9qkExfzFWskpw938Nwv047oW8jOpj1oZw7rv5rEEJblsdAFzqmnb2ucTlOgmYcLFebiJXxgJBwYEgsKYa/GYF6ecQfHxGdVrg59ER9cbXy/hE3KSrdV8IPBlKSxHF0+C1qsUapXSVTQwWcXor+jBX3ND/O7IdK5cJFGhxnxe3YpkGdBr880vP7WnHNA8bxXfcmiwK9bxQ52LM+biYZCsrjyiSpqrF8CZkv0oKwo+d3zbUPcG5j5qqJRxvnZnmsklbP7KcNKHGomUgSTjZG0I5Q50m2SDCjofsygVcORteUDzYV/qx+w1D05ukz7LkaUxB4+nuH8upZKh8UjL3puS22D+WRuLXn9d/eTcWrFwakzrD8JmQV9fF18gVbYkaVHZboGRQpNtA7r0zMQiCWbT1v2GzDse8fZB41BrAG9PlCn/qhz2t5huG5uvsleTkE/dE8eacV8jTTj4joxECNFsNGOEq+edeSnayQfabt7jT7GmVYKl8Ew0QqpGFLoHGfrDDTwLimszzD4qqk+y4Le6egrNnWj8LdMqFjcE/gGwElWM4QyUtYzgpPzk5Z0eLFMIF4yD150xfxuaQ5Mf18gzTHLgt7bAkMEXpwQBx5hFmb0PRqLsSWGyaOt8M9sbd7hAcdt6w8/76Qc2/1hLeacCHHYxkdj9H0V/4zjjQUvc4U/5w0vrCzHxUZCXwrjrdjx5eYcBi/R8DvbyseeIpam3sr16Ezsw+VkoRAH26E+4EKCvQ4H+TXlCn+hfzx6Rj4Dy/z98NCsFrSRf4FI1PIUt60vh+dR/l0APrryLSx8IqFFLGBh1uvYIfZOgeG7Xp4FjVftu0+i4wUXgzd3ofid/S4ns+BsypfrpGTDxvy9y08YlS/7k7a1BEaIwYM1RC/R2PwrdpnSXqmNI+mYLxxmn8mCPiIgO8+OMe0v9K6cIiGOUJky1CIa+sEXpodcI5tM33Qx1whK89v6x78DcXqOc5QRbJulrudvevQFNtHbVIX1hTN7cX4H9DW9LHn+U7IbX+WbvmIS4eDRbFke24zhkBY0AWDDgate22IhA75v2fiAEMehIshQAI/NLsk0qEJKQUfvxJr+/DYW+noH9FIY/g5v+Og4u/baLpyyqyiIAz7xCqe7oTLzM3B0NpfN/xJcQIqVfRGTcagk4eEN+yBRlroRqv0YQZhY5XCwvGcX++Zx+TVCHEgXFU50cgeV/hkFHZHS4//8AIr8HLl0UCf2S3wCHViitFfZ0xgcF0eYLGiErsKGnXzhBglqK7yegL3nM+PKtWC+cSj7GYNrN5cmRUeVReHSPZaDvqh9EZOvnnvb4PvvDY8l6c8Ysk3I8pIGMDxozJBlYM22O9H7qA37CIbpuE7spzHY0jLsamb4qW3EvBOwnxRGZ4A3Ao5f9vt5FVX7tT6aowzbsg5vCr5GpOWf9FZPMyqPU/DiKKFJUrRRfpZxF0c4R3LibrrQc80xmXi71HeOzNvnRsJ09w3dxAZkVQ0MACSKHFoLmmMHdwVcv8cPxhdN1+Pe8HXk9kU3E3u7ra4mgaHK3UUMEKv3oYqDV3/kE/fypDpsF9a6Qvp0+PXxbahE6I+uPZgpefkKC6MfmSpCOy1oCrWgFxKD8MEF5ScAeCEYBrNKDu4VwufCkPyd0oJ2z169+IXsHrxHLPdV7PGz0e4JY+GIEJvxzh+fiZcQ3Ibz2yFc3A6mU0IfF40co1hETpoDGsuTlRS+d3VpQX8XDF+jHaQ+hCwVItwT8xFv6nt8qc+3I5yrzWIQjp13U/da0Nzjf5lW+HkXkNTa955tDI+vB1f0ocOLpjHRuuTx8kYulBddzBPJenV8Dc8Qft7Vt2Ovy4MdkO/fXoJ9mUKj17c5zvmlNaUFO1qOyba84VE/BnfFAAAgAElEQVT8KJReNH+PawdBRySkFjSJjOawk2f2jRSFPVP9F1ptJvLnPOBwtZuJCkDI6YZIvAtxQKv7RlrQPgt6Vv57GIzftUnHG67khYlU55cA5wDaaWVK+202AE8qEdP/5KueE18x6zN1GUUGqWK913kAvOTqw/m+zRuebXqAS7C27EXzN9cOms41REM6FlnipEDm6No4uLK/kwWN608Ezawh5ygwXkD5xZdcq8M5RutlvgvMfi8ADJUojI4N+gycRCuixg4ivtv9VYZwVeE2ocBkfwK8p7R3dCe5Z671fItDjyyKC+AVyQdl75y/nLQIVKsiVOsuOypaR7vVulWwbgF2zmd48zD67xeftuCz4vaQNBLDWiuxXMh5XtZper2G7V/cSp+DWD4+xVit4wFSs+NR/LSnHIl3hm5L/AQxM4AHGiO4uNaNTbxY38i/bQWRWtC8KSLwQ7mXHp2GcSZxfGctgVO9OF9KvRTMz+8nhzrzXdDbSEO3qWCUWFS2vJwIQdXu9Uvr2/KAXu4Bv2xpUBqhbDmKpC+hYyZz2uTy1ao26Ue91fd8y65v53Xs4KQjlVt6pmR/d7rZgDuJqO2K+5v5wR+5peyL7FuHOBw++Tg2VPbr3nBcDQyI2KJHQ0gtcU4zgX5P3eV9MWAw75sjzmYgHy3Sh17WgintdSizvU5J87x0G3ZBDDU/4YFndzQL+pLMJczbHPJVN1pnQRsQ5JX7w+4es2sddmT7reaj082nwRad6dK7U/Y5GB4+1lWFBjbhxX18PxMK+ay9gYJmHbx90G+jGXXEHwVL1c9krurUm9Ann3ds+qZt+II84TcuWbi2DWIwe5EBXNBDejkL+mIM8HLJjke7QBcZbV3SQ2LxdAxi7ntiP2NZrnLzWA5LYV7Y8YBhJr8VJyn7JRimuDlgRDivZi+bNRkiX1qI1xxRJf+c+trbtKDZu5zjW8PzJRJ9sZDnw3TVXulSV/KTb3KF+dkThluodJtFYUPo+TADPZHZkXmPmLvo/PwdN63C8MQTS+/AhIOIU5c5oKAmK2G5wr835WeyLQnJBMcfyXRol2nr3d+4QdjqhP87AIwUXnm6I2GRbjrMcJMx4IEyi0+6Q/K8y97q0fOlZ4jhyxa9fPZB8+TXY54UDAxnmcswFnOjC+8tzNaRw8C2gy8WnimOLx668yJqhv7Wttu0t8FsZxZ1zZFVdH9lif7vHevMPLkVhyfhaDsMEfr1MOwl0IIE1+/v5PwnYfjwRm6GbNGZcawh17vmhlxVtoaFnVjjseM6wSPrVLNES7iABZavXhOJ21W2az+wDNinwHM5ha/q4PlvzdOxyBTnz1Qmt5vHGrYj7OM+isrgDxAib8mCZitKtLBmPr84YrmICBwEgMsP/o2d9SL6prlUoKh299NEQOAqpBqp0CmJIzBWzA9LAIPuX4OD85uCkr+AtOeTzzdnp8ob/j545rWFdzbc1NA3RS7cUqZ/vEfO7dcuOIvXZisvwkr/midP3H/8wvBY/ReOaRUjGE48p2PW3G+RCTXYlabhUAHDQMC7g3z91POq06ejY6N2coMiBV7dpxQM/9DK0Z9RUmB2KBEKrQD1WGaGo0xw0Vg/Z+8T4jiYlba6IoRCHAMMfsni/s+lhuC7f7WUr5rP6kEwlp2fpxjsA3PUqQtoyQmiEXPn1Dp4OgJlFnST3HpuWVnNTU2Gih8zAcnsKcfxU4OnAjJSuhD6Caf2ShjeZDeUIkdrSpgMlSVs4S1hf1mzh3nAtPxxD/gJTyqI14oSQzg6Td1P/rZfU97wC53gyJOMMjhy6I2ljJeLYjP+u3XWZaKnUp61HxxsNSX6Pv4V19/nc66wmcU+RWN+V8ob/sl1A+Gjv2q7cOg49nvav98PGIePVfEkDrgLeER4lGYz1PT254/Cbnj5z/rHZ+Dh5RvDdxYbgioR0+wyFvtRricQJ9vql/EHfD1DM2H5RAUI04r8Ahan0XkxrILhTzvN609ZPmKZs89JR0KebbV5tOCHrrDZv76P2/tmLejJqspj6Qwhb7/dVxyoEC1M/a5t2Ch+v8obiVmdgVLYOfyyX+sI3FCQ41IMfiXKwzvjQgu69RicfzDYJ3HT//XqwUfkFY6qi9d8vxiG6YgoECcdCinVpjEaLaxzqhsIwGVYv33CfJUHfGqlxsJhXS/UFQ4O5l6WEVCz8cv95pOCzNFs8wohQSXix3YfX7SkLjoIoBl1TFOZTwRcZeVR/kFveDaWgizopcl0yBWOujf9SQDGqX/k1QMoIfPPsRP/yLr66zPc+qwL7SaTiENayoPLRwnWnDes9cZVKgUvXztgUNbe8IfnA0S/M8iCHgV9MSc8uBSyfm8zHT1dkzU5coIQ6TIttC6ZQcub87A+3A84CcTBbLf54GqYRJvmqTcX7f0Lhj/gjbmHbhRX8J1PSvA23P7s/8RTDJYHePFMvP7+R+pyjlpAGHRXhfj6xSEF34LhP4DBosQAepBgXd/06WuKMox+G4AX2xHiwCeWsqWmMnh89uEVDP+aEyzJZBwXW/zA3jTE4AyGAYl08gz8elQCJalS23dDd2JH6gOdy4J+gbp42XegMxDIQQPjwNNTT/8T4Y3bV93zs4fjSYkAPvWwap4ndwbvmaDDsbOm6Y+wyx4kj8qqpd+ReHAsAbVS7pT+0wiGhcOQ3SkcmBdjtPc1xdMPkhAQyRpYHb+eguGfXRaYzIwzqmq6ix3cQE9n+lN75z8oxOET2170XFfPjPlNXq7lfveO6Ycm28tbImJlysyilYlsC3mpcASLxbiLHno65j72uSUHwwwiWX3DvZFbIEowZ6TjXeo5VEJXeqZdo3dv9/bwcTcFhKFSBxOaBsPe3HA/rDetC5eK9S51GG92yt7iPfH6ssD6saErQpNRP+fx5i5FmJOAg3cNnTdQ0G2vzC9KMg6FOBa2MpdVHNV2O5tvr/eG1zesmWIaCOCHWyaA1mdB8+4Nk+rHkgpKqlyj4It5OJSerYswJfGwvTr5yO0NkzTkvQodFOzKmUHpFwP7SgxBstO4SnDtcdd++HvAOFsW/BQZsUB88hp+YCS8rR+wup84vLxseRwiqmS7y2XJOFHP0Ql/de7JFQYvUk/Pz2pOCslmUzroMDrQnswvAHRcjDHSmE7zEHouNmY5jCMl1vDH8FkxLC8lhrNrJZZuc1LasJDy+t0ZGMzm0SPUpVjzbb4VgzH3MOddBXEwyjv1tb7ujr1NiMMVUvO+GjX9TizsYgCBxxqGEQ7eWDX6yPYNBbVfBttIgNCGhWaVaW99nDAc2T7gJTmdbz4Hbfc4WpF5YYjzRSs4pKwfjnUePLFwKPYC8/5pFzZYuxqGSW2gHFs6D3A1iZKv8nHX7j8EJx0GJ8NAhknX5bMzkdvf/4IHnM2seQ/1GIlVwomKz5HWgo6EFAbuC9b2cZXh/A07a9MCz3fECzwzzjGYh/qUr1jAVvxomJ3n/Kaw/U3Jd4jU6WealWSKci+Jy0SS3dON9S95w4krzFNX+Je94ekhcH8u2ULtdOxHx8cbAZhzr8NI0h+b8y4ZJy91oKhkew2Mv2z7/Hfc2XP77kFDDj9IwoGBaHr7Bc9w2rhwWep4ySQEafOPYALDp+41nziCA9d7XQs61b1PGQs8f+c/ucziguN/mpGe3v8HI43l8QvRhfDRG/jZqhYsE0jX2nuzoF+cHcsHRzi/oJT7q3HwlzGYlx8sq3qGLsTBet/LSYTJXPPadu2Z2eGZRh7cLix0xcQLrpUTbrlTxACYp49HNByETKrG3lFOpMKKnOfOVdITtRQfxmD+91YWLN8GVsGWta6CIi+eGYSeXXQuDrKoWvFLHnCg/XjpPiOTQzoKCfy+zPOyTyH9HpiYpwIjzIJ+hRMcDeenHRp2srl84R2O/xabm5ZSnjGHXh3FCHGoR6nqwX6ZePoHY1dDHUPMHKQjMwlyY30eZ96cP31733O44BPP1x5gsNr+0Ia6YJUnWv/eCY6emk/DSOffyAnma2YCHz2XvvxoweHLpykW/5VXhbiXlmAePiGumfhjLnKasaE/guMVuSohl68a9T8PwNf5uNEeajVjdnmTil9Tfo6UyRd/Kr0r9eiMtwC/PYrqCGcDYOg58RW7qYXt9vIhfPqWJV/B4gA+93PmrTzD/2S3niZHZucfVCwi8vnLLtjsmj8vm+A0bI1jkxQ5FcO6cIfwbk2H98WAL9w6DdF3IMRxRJFaX8Ca9NDHdlL/xMKDoLWGSbwaFsBmtacggHt5rO7hg/NjddgMdzasjoSwkFYidT1mED8CtId8g6wEKBKroqyxsThCtGi1jZCXVPJcmZOXvnqLBFvZ1d4DhqOeVRoei+Gzy7C9wkv/G+0Io30yP3mfOOYk4TTcBy1dceJLn8fBr9qk/9QqBTqKvuEOrMtJIsmFNj4xpIobrz1rPqZkGjyNh6u6q8jx2YmWfe0xrptHLnqg97XgZcT9VIwg8CAnZtwOtrzh70TZ2eBdkizsDxfjtRfPLXtvWh3fREGHNR+wyd/HUHAAirP3l/opnYDhFZz+qtXh+0U0OSY57AvdVjbOn3JSz/GmN9zA6S8yaVnjOXygug4HJtSo9BODbct1a2icgbV8kkBwfyJhtt4iqWD4S+cyXzoCz+5C1SDyYbh35mH995bbvtcpBG4K71rsNCQhTj4qTpaG4bK+dGY8cQB9GVfGnyexF+vBMHFw4z1WhtZqUWD1WZ0FvTnBZt89TyQ5oQ3VtI2wl+LwYknGjDF4EokNT+j/poiVXrkvoh4JkqaeEeAvn2h86Vr0b/iy2RDjQ8vj1WsLH/01fywLenHbynny6bIsxgIVwXMf64JRyG+c4R/dnOIT0x68AMNeA4tjILc9PDh5UjxqULi06UYEt6dvovaDF7WgDzUljP/JX7STsRYdGrB4ct17KvaM+1M4NH/LG/60YbkDLNZWA/CSQ4yja8wxnfcfAWA6XJQFPRVBaY818U5QUoJUH/hPbk6/ZHa91DmmUbrT1M2Lg77hRiTJHugjjZe5qgG1FZLJp/H40nE9bEkEtKpf8d3gpBLJZ0FnmyQzczm6DMb+vUcGYcHw7ywU622v8KIV56/1A86JqNmnAz1cFRMKUlngsqCdmt0Eic305kLqxXHLR2ZXDhdY3Aif2ETHjZXYttxx4ln5sOHr7pRJkl67m4f7MRycu1kjXjAY/OCQqTcJBmjv6dqU9sFEm1rRymiRzLT0hhniMhgP9UIe5EV/M+30a1P7Khps0Nd50Ap6Nlrm7aK/0T6SBU2xrPrS0x1QjnkBEnDIo6IQD4AXDNyr6AW852LeVRidprgPjmfVmnecTtH7Wi7txgZ9957YLcM61eqKRKfd01nQJ3siDDRwYuZ/I5zBox2tlPiC32nFuxzVJJgobCULmK+udim/g+jIR6BPdZyWmFLQMWtxrPPBde5XANjfnnNS4x/d38nFYkXr5wNrwRq9dsHFXFWRtXiFHAlx+G9Jo7aJFnSfyfpku4wi0Vw74qLtDJ+5jwFxHUk4rjy08S6ExXZA4qjXiZxT0NjD7aZdCkSbUf3gpjtvSXqdIKXLvmTVXeFt+PRyxRx6KnBVdCu9pq+1/958yxcIBX5ZN7PpYFiM5hlmbOWTb1LqWMv5vICiWfjVODCREJLSGDr60E9NxvhxZP8BUeyrRGVb22l6NRKTjMZIGg3U22Wv3U3RcghWym80rQZJztJJh7i6lp7dKWg1CP1QYVURQWDm3okhaIfb+oR7QjJeSB5PUPeEePXUOz4S8Pd7wPCBe7QNNNGlI0izp+el6jiW1SKdezkQFvhhD9jtxxdv6AEkfmsrKcdIv9gvPAPDF7jCwMrjecu6Zvxgs1W1f2da0M1Lc9KdxnUz6dDgi54jMoEsc4mKfB7U+2oenc2Lw7OCaXp1oDTxGiYWzRi46D4zA4y4Jx2nTaDjpZLxrPBO2eVr/7IQBw6N0oO+Gq/A0DsTod8BwHZdpJcT7ke4PVz9W//WVF8Ifr+erPBgrN4foowYfdJNA7JsAJ7s7ZKMBAy3LNxb/2LbjAuRyLAA7/gARe8uzi+YUKuNWu39hOzWDEdZS4gFR1soUjnPRkM4fXCRgHzB8Be5xcPl8/q60HBcQCPx+8fH6ynoVmG/5UQaQu1VIhALi/Lr9sV/rvsnGoP4/AR4hoIbqFH6nt6ZSDjpvHpk7c94MpAWM0EkOvHGkWa/ek8eFk1xWTK9C151E/d5xb5WyoMEUgvwBMyDtd4oa97ToWnPjO5ZzZnsRv/5ANGj4WsT4nB50e7uu3eeVCg85p9dt+k8R3Qd5rTOXduRJrDj36az33G40RiOjuhPMyRvyoJWoblUo5lfs3OfwvCLdj9/rsHwyVTwV+ydkY0vDkZcwGZLz+zRQ5RV/yW3SUZGriRO8FQpLeiSKPjkuA8fI18yEDvE/NzEHf4rosMQexw6jQthYnPs/moKmq2HFAihMNkq4d9pa/YPucK8MvpOLTj8xLX80X7AMycUr/wetzq/D5DO7Cneh3MgOh7JfvnlmVTzQfNBTPdbMnLpgBN+IBro5WHuFV+/KM03j4KyZlpTHjksCKRKoJKyPUj2GCvjx8TaxxT0gjT/hHjgk1kaBcMf3FgbZ93uZTkohLveWftXhDheXC/tyxVec0uX6VlcfdpLb9TBvO4nMHjGRshjlH/Jo2XXZxpAahYGScESniJAY6PuoCSfXpf0Z7Kgs0fCtM59n0NibFnKRhBDnXLT1yCIhGVOugvqTOlN+bn92CQNe6yDPcmL9knRvOTv47nBfOVkeRW8+UF+jUMZ/WQOgy2TFoT2bAEp/QoAeTdr+R4KminODeF4BV2+VTNB0Vi98iVJQ2ve8EWnxWse1AmP4T1+cFwjwGP0dbTHHh3tjRZsFvQeEmbESdFqb44XwnCaLM2Zv/qypwDdkSKZwOwLOyaLvg9DzVPZI9c2zos2rjB/PpHwH7bZ2jibRBAOMfZqcnquZJdnb/If6QdsFhRc/GsPp1O99Kae+BkrAhocB0Hx5Gm/A4anyhu2OJ7zLOhsSjPBwBoPsqCRXkzGSD8Pw8hnTSq4EUyik9/Ms6mk9zqmQCuXpgn21BgK2+1LLWisaKYxNcyLRsHwb8HwW6+FSaclmPnMf0qIQ/NEj2p+1pX6IM278TF+ASdWoFlnXxx2UPSZD7bhwKnTTtKtz/Zii0npi2mR4FkMlDfiALDNgs5FOZTXtZIFDdKaTQNtJgP2F9waMQuiLGjORsdTlyDbAnLkWOd9A5EKAIKkLjRZiYxcvLePQchFQ/HYUV60Hu2JUkfw468b7WeYsKtynl+S5Dy/fhwSE+QPc2udHGPvHL66QubdHnAoUYsBkp2SPNBVhi+/dYtu69ErWT7t0QlzjTf8OT/YuzjeLaaxKIcbJOMsaOv4ah8a0xR6vmjWDLZ9yCHvmYF9cLo53xGpZ6lpw6xPs358IO0Ng8klUcMTJDjM63yTf/bnfWH9WA97R1ct4tuc0t4wvTcN7/alz4jfOyDeBy04qV2H5zWcvwGGQYSD72QrdeAWR5s3UKBsZcSY1OkHoREO/E2cetZWiGMwLvUZGTqjIrz8J4uAXX5yV79q1P0SBW1dH7TwecNRFlF53zOUc+ZjLI9VMPyejfKVftmQ1Xnma5aCK/rF2+wNFDQf8GOZCY+/D370Grh/aVPbp/Vpr8iLfo6UfvXd9noJw5oTxBS0qzOHe+EWlFaDhMDPC9BXwmCs3YMLx40bPRwiD2J3mZ8ctJ1z7kQwiPfegiB+9AVMsqCxzWfuw3jjsh2Hvb3DMv9ZM/BGdkO9w+3so9G+EF4Bnnl+3yNJe10RbZgkjouWxFHI0fzDE1/JU0H196Pvmz3ggyHat4o7v+EHrzh/S5OKL7iwz3YmP+oHz18YnynSeoFIkFZ1q9w4Z5sFHZS3OtlhC3eJHzwvAhrrZuQf5jAneD/hU1PIs/f9xwJdFiNSfvYnsf4rtjqx/sj8O8795QU6hGcNtVamXiVkvYsVo6MVME88F6GLOoDhV5XKfA6Ao4WTdXkSx1OA33ZFV8BY1KTh6Kw+lReNU+qp74fhOfSuZEEnL1QzAPEgZIfBVk6T/na2DQpJusikWjtclgW9kMod7kqmWdC78GN/cc2iOqGgg+TlrWsvK8/MZ0FDgn2mBe25EBdTnPe1XIThwtFf83qWNKdptqP9K0IcIjHRtpfa2ComIE67lCtIa1r1/J3BlZluAc2FSb/ClTTpxbzoQ0nRp7/onNu0TsQlLO4oCzpGX0Tub0fcbZluOpSjBs9oioZ76SHgGhRehb7Zg43lCvKO2sOoGS+LQfHRqxxlQWOTtN7v90YwE7NZGNQVCFa6a0FjV5RG2KDQtQqNCOeMlP4uDD6X88znT4tr7wCr4cofuH/Ldy0VmX2LvTELOtbP5fZP4PGmhq9XO7huM2j31wv9Ci/xhk+UCH+BN3zUD7Z5N5ynXykKGpqxdx7YngqFJAs6oaAF+zrKB35q7QhVNTkZxIe0bxcEbOiMqj2Phpb0gxsF/dh7jRXNVGmDZDLSKw4SqVa84X/WXu4Hf+hu8xg4ovysvyrE0eqamfHsTP97w/34BFjqRnwaht+2JYsn5zIFbWK6stUdxnu/Le6LoOkCpR3u6aUDFg5w4657ejMQBlef9t3Qdy3YbhR1gWjbtcJeHNIWyzyLJgjCmSjdhsSBYZsFHchu/FMwfGG6Mv7STRnvNhHNrJfau4Q4NrlYYmY8+Kg9cfJHHta1vJTnio+zxy4p+oRSxxgLXgW6c8LZv2NcH0TlA+qfXAZWmH29BybhmvbYolX4ncHFy9NO6aoufaSSfbPh9wJ1LjAYvTnTHlZpIh2bvAZYq+dARou4P0GtJcL7CLbqGSLj+kE4Q/VmdHnR0GrSNgvaaUFnpLS7ny9cmc6i/gLhHCegHKWXsw5XuPoXfcXijpFP/PsecPB7Hn5wpAP7Ow7xJSvvV3vDX+YHGwpaLh8h+kL/TbrPoIn7buDauGiRBR06li/0nJD4dEjZCY6mWP7i2Fas9VhUrnArxPL5Khz8AcfaJmFYQZeT9SBCnBfNK1nQC95wRAX9Ac+v/ODZRBtC8l8A4BV8xWwz8iu2khS9EAkOuLKfheHwt2AZeiGgxzPPlPcA3ryfxm12vaSNebaB3mw4sma1Of2N1iFeb8YL1dRgBomXFq2HMezZCDdx2WwNg+xa8RilbX8jfw3D1x3RDJUNBQ1XtF0w/F2wmmypl/ACenf3iFFg1rFy2OMnjD69unFeYO/Xgh50J2Te7++yYuzrhsvJDVGcFE10PC9aN1ZbyVVOvsgPTrzmRs32XxPO2WaxRU0JFfOMafsjUE/zQZMtFBigEFS4ZTsp3RsRjoqD/XTn46NnF6zo+s/ZOvCaQH1eiOCeuMjMHqgXtLTnTayjiTfv/7zRzA/CmYjAUmja8MyOi37oefTR/rgrLLocBrOGAzUbYDiu37Ian+oJCFz3RVif0fxc6aYJp7BtvUnZjg6zWzLrI83uX1XC41+loOPd/eznMT53U2jupB7e7j3hDR/ckq81Rnxv9H2S/zJMvILzcohNnWjW/kh6wBv6NsENUpyzcix7xFenDvVxHKdLJhtvC+dvXrmPYfCSHNA6sS1aPe7X25Oft+2RYClaZlxIOEd7LOvXerHoZDJOFDTxz6SHvv+XhkLuSyMcQa6k8obTlPqOtYaZCqqP/j4F7fyEUMudFxBafopfuojxJQmxSzUSE5GNC2H449Ab+sFRVK+/MxPiSP4V+8V0J9g76Jhq4JhhGqVMK0aaT07ole5GQdIzntaCZh32NmnPhi1ImQCSDVwlEve4L8O+0ANG50XHGe8hDGMJhhH0wvodGF65sEt24e+7A6eG7KLWGw+oI1f9dnbKnrIPUtBMinBTLdjEMaGX2D6rTnWqE+DhUUuBZvHzqs6BRO04nznlJz37/WEMXuk2KNFLYq1/Z1WIg1yqDpMg4HfJw75wdyc13BKJmDEgPouBlttFNw9HnFK/VeDjX6kkLTKG8EEAw+s/q+xtEp6vehcExiNPenuxS9i0U8aEsyOltx+rc54fI8F1MLSzikmFqdtx8xjUK8Wil+jlI8kAE1+Th1/9eqn8SxYYnrGKrB+72EJSSw3mP0dBM4W7D+kEQ3F7LLbzBnR57CXgLa4wXbVTjr3hqc/9ouaD///2vi3JdRxWEnD0Yu5e52O2NkuYlTjvh0QST5Lyq6p8gOg44VbJ8ktSEolE4jfkwZPOTsa0GTSloIOx7eIWM/wp2Q8Dngi17FnLVxOL1959gilNnK3JrsAwlO9m6nWJSV8Ui5ZrDtTLg97o5DO3QUl+1cVBN9q0AzjOhs2ZuVMwejSD/A15MD/9Kf4WIR/ihfW34QCJ5YwTPDn25hdlwEdT3yG26JNGlgv7TenWzy66dpLUhZ2kbVWMp7Vc7e59ucHkYysYJG8sWqH5/81G0UVJsG5WAXXNLXmVrMho5euI1DYmpwIrd7hb+QtJo+WZP++d2Pz1bXZrX5s9xWSPf7bs9qecc5LUbkf62rLW9j/Uctl2KfSktVnkaSvOQJwVZ7ob2fD6kjHJ8+594PXX0UuO8xlLmReixnyNt/mxcxVRrL2S8PwlACyNOAiNSRKd+5OPa2ZRfRCJeScBfiUMAzw7yOMw/GuWLDkFzRySXSq5YT/QVy1hxxaRQmGIn8cW6BFJ1rOutdAMldbogg3tKvl901PW5zxecCtdoEhnhPWiQPyggmjGgbVK8EyDUj6BsN3muP2p/ZR8Wnscfj00UUFbI45dGObgg04qO70M/WK35D2OjZ+5a2UVz6hmzy+6N77268EDB8g4ZN7Y4fPdwD9ixEFECJyKooRo/lX+EDnCD3DFa2Z4yzzvr5hshFiVfRvSdZHd/5InG0PTKxr9vh1WD2GtU0Fb6FXSnoh5du1Jb77/XvJxSGgAACAASURBVCIBrcIRD9/ttN4qIgBCYkATGFY9DmvmPMTPY9xFNAQpJJw9C+K6xp38StUX+OJYJCs6+0E+6aXQ/skbCL/yHWP/JXvzAeYY/IOA8t/HTiXMSC8o5in/pgUv3czuhq4GwZL8jV/mI0nqMhveM897JBv+kRx3RUpPmn3J/e9E8xx1KLFVQfepABKPM7srfb9OP5Z2uIzy6fBH3rqbB6OQnNQQz563juwWFyf7a9USy/Z3FzajIJG7EnkLycPJsj0YL37aSjZBFssJSHx2Dx+etnG/b5QNM0NfVtIUk+0ZmFL+z33zbwWtnclID6wh+C0I8PANBoKogukv8jtT9HcsMfhrjTjmlJrfbTYnOFVBf37A7btg2EsxecHOvNhk4zl2yRLqUXHXkyMhKW0U0Q1uWc8+mneLdpqBlNpZWnPkTj06OVaOTp6C3lpDN3DDYUixDcbBgl0h3/avtiyx8JSgRtc1nwMH5cThEMkElHab6NNuWsihpb0HJIxLDD5PkCaqnsGwl0nLy8oZiUCdfMnX8wrW/wWQjAf25DWyLkcW4tK7fPe9ZxSlcus5i8SI/vAzFPR/7z9remKqqkj5oggtIdYXtW5AErcRY6Xy2Pjdn4Hhx5yt+PJL/848eLLotD1IS08GY3plnQuPjWYQXtPldl5UUKPsukhnzC+uccbRV3aAWH+whsUYffdldzDVP24UkkiFyV1se8fUa61euj1RuA33bQ+US1abvnDmOG3sQ68H0ygYox2OJzAs7LFGNtwvK0eUSYzJ1jR8mQ/9XSD9Qv+svdP0jSt/9GSXx+pokrZhyWt/+M753yfPC+ib06CdB3r2OdzDZe6UgNi5K8ENgX/4srgMw88YTO7A8LvPJ6wJLl6RYJyQ0p6RHo0rrYtXoaweacdCCz2e0vNm4Q5NxG5A4aClWodSZnPHgYPMVRg2JpQSEIOFSgrDFzylr2TDTMsKR5AKa0dIItPEK1D3/J8zu2WFwayakSX0DsfKdmwLw+JLmMCwzYk4ODPnItHPgPGWumqFvs96d7zqpOL4Gpq3uUFQTKbvrx0BgQxCqhdkf1s7nQJ/Sv5QleHnKOieEGsYHug7uEPXjdULxheQ8DfC8LOWGkvHgA99CdaKhjfuEW4fjmTPZtogB6gsLj4hyBo4qlpLDQxrClpUL1mVcgcFzUZhJOQ8i+593vsiLQyfRdAgHXvxr7rMWjofxWkNicViWdC0w5tZOz+fnxDHbZDPB2hdEeJfPi2imzt20HoUwrBb3TIsNLTn5ZcVpyvLn8j6ljnuem7gI2CMh5YduPgyPL52m4+ybx8CpZ4b6k4UKyZZ166o6QOESgDfQkH3LiPRuKdNr1iKP/pIBnGxoF3XQLdw7x2HvQdxhf2/DIZf1MsbVIuDK+O9rj0zQ6t4ZyyetaCg0ShlvUXakw7LSYm+GQz3HieBxyNLxmK4AtMahvni2WOJaMbb7wpmdu8ciYOisDwjWUOZVV/1FLhDr8Dg85GVh8ESzjkMY1w4Hob95Rh8te2QexfRm6i3B2zs+PnDPtSS9CAM51eMzXpb4ttH2YIiwB7KZ9lr07YzxQO9WWKwwvjvoKBbEzASI44Ow2Ltf+zc6QyjujrvrlANhe2yHa/YZ3T/Ihh+i6VGv8G9dImO6xfzSj/ID2qe2c84sqS0LgYHoNuZZ9JdSUaHBdXzGcwZzCD2HdpJg8RR0zze8JLzFEcWYYduiXvVddhKts5g7yMZQO84GtuBaNLmg9YwzMQUwDBpiZa5OAKFc0RT8+7lgKfvG+94Cn/mRneJkd7L7uNlb4NPTO9eyjJaIfFWr/Tfp6DProGTc1KJsLinRO1JenexOOp4rDmlw2dHvqLAbOhs+xoaXRn+xfnS+Yp6+QpNvaGAfkUfwCvyYI4trjLCGQkY9zzYaqHZtB6xbz0aPUg6CZbPcrroQAVtyGrEbaYvppQ+tHS0XlyB7YZkmGHBGCTF0oqCbj+wxuBWC5b3BSh2ATSHYbkAP2FYQy9M/xQZCtornC1Njd2r5C1uVnuX51OuGk/otl6T6VwcBg+d+7rb9lS6MEf3r6CgvQr6kFRpRXTvPuBzrSwVV4cqAwQ47ZVtQFIL3tF4OKpOn2lVitp5r3LU+/kxPqvc27GJ542LfJdwTqFXbRkqaJC0ekjR15HS5FqMaByHnSm0Hftjv4E/N8vdCpGkG6XUSKufBurGa5gYJXWWFLSv/iYYTKPaJLZoGB6ZrhVbgYIk+PzZEVLQafcELkjbfvB3//FT7lnlCT965rrBAQE1zdGPyD/6xf33yV9Gyq/UZTV00ZT4zoIC/YdHX/8n0j4GgOpQeO/X7gwm3wTD8pO8MT/aQJRw4sbsCFESzJ5wJmessaKg2fpvCKQXYwYMDIdDGhiWquBkfLitBCOytk7JjofWh/yGCxSLc6+bOc+S4zMj5n4ZCBwccmbzwHYoclN5NFhuvUqn4DoknGMYlvTyqDLANCzNaOqdGvlfg15++83+CTTV/utqJLdRKRut1vnEoXaGPLX9HFt9ZWLu/v0nATjs/Y0Eld5hwx+n1+e1NSyH/gHZSYZgyfuWT24teK6wQPsmG/jwyLAZGDPPCbFgHgM7DM6rvyLTVXmwp6ChmpHYjs3RMDx8E4VZh7DvsBZXoGyjhiSlsubZ/VtjcNibtMk5PZ21RITrKAWprLcho5Mx2eGDhBn0ouM0o+mtYnP0IPfdgOGAXh56MP+ekyWxTaZ/aeyooH9D9ozlY42sPruF+RMr+0nXaUiBEQfr43yyB4l+cB5w2M7QkgtpxAFvxGGS6XPRoszeefcMGFz4zzLSD+fHRDF19polMB46iIO6JQxHLDSnXPQ+BU1kxiLZWr50h1awyd3SUumiKfbrDj4LXNILaxWy+t6ZHr7vs2zRepZCDNwre3FX5IvBKlCnvaNzN8PgbrvRNc/nY5JbhmmlBN0pDM8y2pimRrCgx8JK6scz41+VB1+FYSSPKcJamQf7+ZsqgRYtRnBJMMzxNQz/fQDWE8ZiC8mj7itnlEUwzOFhNQw7ylqZyyaZ96f8K98Pw5fA+Hno5RUFTdNpg0TaqUphrTHWmGCwQlwik/JK9DUzkdjCcJDXsu307Vmy45UDGzuoD/jszDNOYOPq5Rie79DeGfo7D/DYNKkfPQssTK/c+2zeVdITK1ZBN8AlTilo9PrwPgyH9DLM2cV6kpJeYRj89r/qz5pk8Uee8tg7w8ZiUX1vyq3OwXBjlZ3zzEk4Q8/pPg/SKK+zT8ldl/j8euRjFLTn0yBUFqqR7zTd5pEN8+glHo3CfrqZpmox2iIky/UeAmX/NEfeuTu9OFKvqw+siC8yV17hn0wbZIPKGdbGjhy9DCzqwWPATvxADE0i1YM03KF9XmsVVaJC7GA4+Fpey1hm97Ld6b/N5pGEIfO5TOhTE0SnkF6rzpto5ZpWGj43FbRGegQY3B0qfSfSAL4G9DPQNVvc8gXZYgLm0/KmcPrSpYfX318ffcoHmqXYmoWEOIfJDq7oK2x4+g+ceEFzmEkHRhzRnegbAPgo64gHerqo1FaeiW+b/Hn0IHU5NJoXR0JBU9j2p2vP6LPDd1ypX3bew58KzLvPwkscNR6+2W++z4X/MzyjalqPeO68wdrxippD1KCdbVdSS17HA2NOqeXQpN2h/WQF22I0YDibdvYuDJ7cYq54QQ+Vcoc7CKMM0b03QFQxUB6K2vQEY/g8eov7uN/OKlsDDWl9FVHQGsc3YZjsyCal1k7MOkgPbYiWHbh6SX7Ml/7S7g++n+gGdflEDYdbckAs2+osSw9LZccjSAoY6RYSpjr6349QGB+ZB6wn2pi2aJFuQFEKyFgFP5UVHNqVxW+mTzWVRTJ8oPD+WGsKgjnBHyHM1+82mJsb5o7QU36hdxBzjThhg6MpvyIHHcg6R1+m8cSoGUkMTSI5W3A12ll+tPRuiL305yqrnNzUkKfm8f03XEZEqb+yLjFycRKzIFfNYLZsL/aRiyRd1z+MQplkDnOMDUa8RZ2EahQ029YyTJs/4ynRHAzRWt0O+W1dpvwjLPQDd6fEtBwO/8StvmMHSHcTgZTSMUQHI6IWTBfGMRU8gb5EBd3PbqO0aL7rzZpD/Qyia0gbWCoHj9MMq2+yFDTNmsrxU9KDLWer8CzHg/fo8A287ikp4Rw8nUPL6LS4KwXSgfDKc9GyuSiC4bFb0gpMdiTD8NUyn8zNnCdx/A8xj7tXICZTQPNpgyYpPMuyLe3j5tTYMta+29J1cmiedZU34qzECsdw2Ost0CdclAcftxhl6Lo1i1CfCIam3lxR/bE28Tfk45OZRVrDDNcgNOA5TaY5UEEHx9dZNV5yj/1NFHSEe9ILGkqn1eu+cocOsmA+eemOzOOxHh1qb0G2DDAIcDZj2D6C0I9wkvz6LojXgTG7W04KwzrLNHjMJOYoWC5a9v6y4aJ3Kego5bIjks5MS+mWKcl11JJdLALS2S4TJLas7MUGpA0kJkk4T+6Izguqoy4J6G3QzoJaJjfAN3adHCYbkl7OzLCaitpS0DkMSwstK7xiGm2ixKq1Kv91lJQafunCMfTi3wDaJxYXmC5N0ScMahgGKRPKgB/VbcRmhpL6jWQ3cDIi6W9nwFCjSHT9p18mfI5R6R5y0DcmVbiV6S93c0pd/ekLVdjfe1yx5pbnd/hVp7W3FPhR6I0g1pYBokqw4o8iPyxR7kX7Gd3wQbLzGDRXGVLQRAv0FSMLLcUqYXikvKK7NypgP3zVvA+DWbhhIINoQSCdciqt2yLt/Cy9JUlO+6XEddKuynvpWHcDU+PI+qVKuzAcNjn0j0Gih4phUvf4d1s7dUyul1/p3fHOG9UakqFpZ4S1ZHbJcUcKNjXKkfs2DAbaHaEfHDx6hUOckgn3V2XAENbmEkelB5b/YbrwKvLrOFsCu1Cjd96fK9xEHpCC64tvdm8/wbdqLy8RSycjeynMABAUPo3sWdzOOMZgbXEVcNEk7Th0ujxqw8x2y4KCTmvDJGrP4iOw6FbS6TLx41TH2zAYPjkNOF85iViNR5C6LYgDcKOj2qiy8eBMNZPBR2LGIaVvR2emudgKY2Swe5a8BUGcdwHaTlE17wRbaJ5/fQPxB8DYPogs8rvJEoy3Bg8VlTbiECpo0xPM06UPDwraloc/WSH4hAr6GIVEqtarrCVZZMCsTGD7PODxY/RUWJDGYD1qAXrmgsltETHiho7mB0Vw15pr+UWn9kv3X1hneqF+QDhzmAUy0n3YkNLp7CM2U7d54kmZqaBXFHRqE21x12TwrN85SyXaU7/2jMzEM+cPE81LryLPJWG90dXSkLN1dbdDG7qQOj/39mHShPPaDMvCsE5ke1Kenc7KCDqu7CCuq1joxXyBZY+SEHL0h+rBF1N56O+cvFJZNux2CmsqJ1N43GlqMYVQ7SnuFNKTUv0iXg79PRmw54cEvKEPK9N2VG3ugiz9DvQ9//UlW+ibCLdBKZLo1v7ugs/mhIZ7/+LwAz/2Q64aQc49J6UNBU16WK8GWrtlZrjhOo5obGRK3KFVrdf1IAkDSwrnBEfsdK8iE6zSO7Dxovd0AL+BpJEpb0+UZeoW2GSQrfGSd36eDF0YmC1MNk5hpsLgYxYLYwrD4RbxnpT9gOaoOyOviQe5rpjYZokXWl1Tv9O743ES5dKTmCboqzyf7fQxiQgCyMO0+JQ0DzwmffBBR/PIBmDsoOmzOqxPGXHoumpb/Z6u7szN+g/EPEhpRUEDYMh/yeqf7Voe8jfAaSvA8S1srL4ju8w/DMPbjbwrGOaVtzNHnPOMcFZposFRss1r1vRKfDQ2RhxklFa+yyXoeBl4bKDUyptZu1zZ7+TtZ8vrhXg8YEq61pFs5CWlsDIPhMkGS/14Br2t1qvukbrQrNse1Co+ySWtXSaklZWBYWGmycA0x1U0tfyY4imCQt/TPCO55D/p3fHJpNkzz1BmkIA1j5Taq1N+pR4MPPY6Zxh5MwJvHQnwGO2pPHLoL/WCJotvepBPM9XgE2U7L9WsdXggMTGMRZ1PX09Gqi9UmbUdB1kVtJyDdl0X/UyiiU/cuR921fDX0FTkzAHnHBHO3qBDDfolyknpsEnUyLIoSoIHzyz6TUerIHtwdfJm+f4/XDN6jAm8AMYMiWBnUtsss2ydmMUyV/cgCNlUhsHaZCNKfydiqy0Y7i9EpqbeVlIxa+39fDiemCQZ8n5rWXzBoIsuVC9bn/Pua70ViaXqipxbpJqmwKoeTPoB9QKwfopc5ED6vCvbCZjRSbqsRTJF/vsUtPGCZlHx6f/y6aNA3NQb2oey208CQ9sse8Ughg2OCpFIgjv0HlcONVuuSOGCb2vSw3rpsEdBM00GDmrFcgDnnnCmQDsdTRukAFZXYOxnM5DsUwp6gmXLL9k5huadwCXxiCtKz3Ej/NGTpF89NK5YFr2/J1ANjfJo7yc9k1tBaYzBzufZl4GnmmcxFkle9uEW80BYVnM0nVC3C+fY3AYe8q7mmWHHIF7CzScbH5bnJT//KhuWM9DUtHCDdf5z0QCGnqqqBLpLrgYYQyTEgJYZ9QkNAndbbx1/kHH4MS9o+RX3q3dQ0EflR1xnve9oPDjT4b6GHqzZuTwaq01Ba4GHiwALtswqsOQS/vcC8mtdNbBHQcd+T5zrrSa13oSU9nwyBaOQlA6LAqtn96+cx8Aahq1ca7QdSyMOnRknmmdXn6aHsXk7/3nenkVXduWkz2abQTTSUwo0z6IjqV1EwmQj7kQipbbob6KXVxMYxoBCDbryydMx2Yh9oC3h7LJej4jMF0alTATYG/j9PBi/AYZDNytTSYVNfwNemnRCJbNhLbmSGwEe2fAJtyxYaMM/M/ysQyucpu9qQ7KSK1NpEl9NMwETw5EOe0E9NVDCMHM3wxqiDdVuAPHDm2nf3BTTiFXQpm/hgVN+g/L9oM0kAq1ykshGHwQLNtsqZZDQ1BMwJue8ERWAKTTGknOQDOHsAVtZc3immq1qOsp0I+gNZ40GSPwyGH4tFx2jr+GWB3HFgdV7K/YQxEW0pKClGRbZmo+BYZYzDR0Mm3Q8treCO7WVLtqrly3hbHz3wOGPhPAqcsz21VX1Ax7UGWYiv1s9kA37RiOPvt74Ihu9MCBZ663UIEKRzioM7kjsnCapEddjkEOmhf5OCjqEZPMfmiALx1fJBnQlDPNZD7azwrkTzp35Fu9H9CNJZUaAuD4h/s48GCsYzkTOk/UEUiMO3s+M4a05olqvyTutpbAy8Qi7kogmui3mnEI3H9anv/6CfjEMX4Jkudxckt8ZDJ/EtNI8C9dJGq46KQYLww25fGbhUSUvRTkSWNLLHoZJ3nBY5lq6MVE6dQyktyDKeoHo5gQTUuiNGpCcQvv67/gAjz29Pc/Or8swzIGto6lFScVy3xNmnJGenQDT+Cv+qqq/LI04hn8WOvHVk73xKqoUHWTn30pBY7DBerKvqv4e62Q6VVeHD+WxDubWrdSajFVe3RatwudV2QpIGGY5oCmkoIcdD/8kBl+UNK8TcaSTB4OBMGvkjr04WJ/aajE6gV4zfxCTtNgOD2bvDn3uw7Sy5qDgAdnZAOSlZB+zsHtSlKNRzXA/LF3aG0AGMCxQVA1NkkONJFSrTl8xIlTc4eMhaZEtJUVVXgnDbkKa1TwnY4PV8jEEY0M456OC2dzNraeI9B5J0tB1w4/gsfkZ17UrYJPNFiRtaqEeQHHLJyLKAjAc2wxIVO5bGMqpQ/UgqSPITDf0oWyY3dEXEO/2m7ygw+KSXKIeuHZ+RwMCWThNOvRFw0E0ew/rkAIN/VJBOZx5AunzioJ+7vaHrSmEvHXJPJoHYzLulymUINg7Ea8SaJ7Qs0yBUjqA3t7OomrPkVI6EV4FhHOcBMddSSLbjjRfrqnpg7zV06vzQfxC+zC3k59687y23RiZ5lBHW9FyMOVXaC6FKkOIpfsaWKTfbEtHad1XwbA9iJSUUWqhRQp63aUKlRrNCGfVoSSdIQLJNgd3E6jZyevzaU99LXP3p2E4gCgYDlnvI0f2Ekn0havUSg+sgb4DleWDAc+Rglr0B6M1GoGd34rzuaVv84KGmMEdGnE0SdTZuN/uBz0VZjbyq+MBSAxjbZDc/m0Qq0Z+0qC13UKWx3zTOQWtRCWv/pn2ctwH8mBewzBvQPWUYaZE0kzGkYNde5IzUg5U0BegN5tkF1PQ0CQ2pBe0UGDBjvFW2TaZ3kZ+ybXzfrol0TiIS/b0glYPms6ZaSTKKww2/YcczWM4uS3ALoWHM90ShlvXv1ZBDwh1ua/63DzJg9M1OJzhXsBaR91SHHJP3NcAF+8Y87xtVAquwfASlRVnG1PQo9lX37Fl5goNn7ANwTb3dVmywWBdUe6dRU0R7ZcIsJz5l1DQPftkscrrcokTLg+4PbnlxkcdHh1nQ7BLgk9clM0PNIBZeEErusc5Yw67rSFvMISzXLzrBkd9i3xSxY89MdQT+yR/Yl6UfolCWPUUNGb9wZY9dk+JoddYcwSzkqY5LmW6aDH0V7UnMU9q1bOUYNYoRbQahTRh/D5c9fCd74aLNsMcfOdAWPT1VwhbitbmxydK6/7iFIbBlJC5fiBSNLOB2GuejcmGhTB/WArUW86pA8HbZPtWVMqKnZLSetRpqx88xrRwZOwculyx+qtp9iU5oagnu3r6LzRXLNJfgcoShtlrr0Sd2MuhyXU6jbH0+Jwb5QcyYCmbYhZIjPHJh45y4DE6xQU+rbA6U9Ussc5FOsytwIy4gmYVhLiyueUN5ZfseQyM+FTNS3U9PlhUQTbG7OnOXXI2FxHEcnhxX2KYw2R3Ug/WPhukMoxU8GxJ6bgiG8xE0rpor4g2NDW7vDbDeC1sXv3cbND3ARh+ElCvWrsFMDwmI5ED47NyDGr5sMPgeABwkIhnjUYrGM5cnf2yFjxFM7sPs/WX9u3C8ikcFIMDrphHxqArQAqGQ5oaz8Bw9+e+UiVGhMoIKWiNzWpcICnzZ+U9Ka9kMb5Xo3tLYcnBcNyJBFkVBptXgcFgMs1LX0JBk3LPUJN4aaS8bbV7tjMcX9YoDWkKup1hg7GCuDDHr6VfNbynHBPPRG//icBCRdIWAnn6a3Uf9ISVNNZp7uU8OJkMOGOP9yho2vLZ0PvD4XdmSInksBnDPKeghzKLU7MOsoOHA5j3XPcq/fU3mZdUcp9C4iezYV85lijfMFgnxHRB80xpphvAMJNkrQWZrF2d3Ro5FHQYpfTCqYMjwhlhHhxsafyTtLu0OXXwAQaHtyrzLxjpDRjmKeEcPYAxm2RnGNkrshqbIXFXkcwNreVUHgnDCQWtMmZW+CpU0+gYDJMQfxEF3YeWMPurGkr8zN2Io69ZQJ2CvgvJ8o0YjDvxjQDmO+EmcLCroGW2m2CwuNblnAY1sMGroyEsZ39oijC2MmPOuOidp2PuOhkc0Ds5kzbrUAJms09EOF+A3oyCtpiqjxNyyHFD0WIm8oOF13cNAF6DcTCFN/CoMie/cKwkiZ+doRI20t3Dw7FDLW/uyo0Y2jdhWJ6dMAYa0QTDE8cwEU6P6YsBBS1hVbHSDtiWlh+yZTLXerL9qxg69bKbxxRredHpS91gUpWEVfW3j/IVdDS8fuo+asB0Z62rYousCQUNyDuRsMoSEBvfsPBFRhxmEtHIWVvBtzc7MFhc9zzmNWj/jZN8PrLhO9NNyurGpafHn0AkxKMMLHr15RwYuKnl8dDUPu5FSj/eAsar2jAz7RhomC3LziKe16fZnaocmWFxMAbY5cGwzHYMvZNy7zIPDklgKOnIGoOjMvPrMfjddV9PSktddFhN0VeBagJmks6UKRcdUdDqxQVcb/X72hQvmyEoNM8BZvnDRsJpb6DhfywFupyAbgDMCrvk1YKgAPEUDOf57gSMIbXB9mLVoGucNzQYj/ZfNfsoyl9Fd++dkKGvEnAlFDSx2k7irXYwBkWd+1+lgpa1WYO+B+PMrflQcNGHLSUwZidAw/D9SIIJoPPxnehGuBPfEFLQQ2otFVhMSiSpTGnT9HeIUEJd9EcT4icT2ceekjlTroyifMLqHaS3zDouUtAe9a3Yyq7qM4qNOKtn04vA+JOpcFRw1lwxTVqVxF+pwbJ2dSYMAw1NQTszLAHXy35fp3DOTagCCy3HFceHHVYBoYGGXTPt5L7BPopdgRtxGNV0X5gNz/PgterKuFwJWFUUdIdeVcGXpLFSQRMrGFY5cZoNBxQ0iUZh6v7PcurRYKSRZi1/noKGW1caCpoMBd2/mqNErGZLdS9oagORTq2WAFrwCcZkiD2oeQwSnfVYpr7CH4Rzc/+ZuUavCsNBi+Erk+MlIu6CcaCLdluY1zAcp6fiJPcHCSyuPPSSkTQnzlmSC+OI/dYJLltsdlIszr//n7dIe4l7gLfm0MywURLHqwg4DBaF1ZY6xy9Enb4e3iBCu9v27I7TtloUNRpZCy2PhXZihBlIYQ00oDiwCIZ1WTeAYS9xDhqbMEnv337+cMQ8cwDGCQZrpypSCStZvDR5MO5W/AwJw3cCqEOyIJxZOl5BZLfDdVIptOXVy/TpJmD6pAoa6n/bxdCuUFkJlrN5+2wKHv6zaggSjAXHyQcf9eA76Ba5w4K1NkwOEGYznNsCcysN7WGwMuLSRNATMMyb25fSZb8PFkDr14iSiF7MH3RGHJxB7zIP9iMZojyY/LRg1w2VLR00wKspEf5fO7jpJ0H3HVY+4wJufLNNgi3kkhx41tuBTwOPrJQy+hBMfnyClujhb8PEzRBhNmmryX3XMOxLxQKG2wVxaqBE6TvQPNsXsqMeglT48zDMq/OKPTFkxwiSUzVL22eYqUdSe2XMNCzhjPyBl1kpLFcYzHLiL4jMFv0R+JXjzH4HBS2sOMTgI30+sbhqhWGWlKuxxDOnoOvTjTCUXiBJSgsMhiz/ssivH8jcggAAIABJREFUHWEupCgsjThIlqCCwjAhmtFmDXfwMm9LvgbGmwyzg173lJEjhtlwlMKKMlpKSvPFPNjcJHjPrMPAs2lotiwb6bVChMSfH6ayBcmPgXGQoao6MZOp7I6L1FNcpPoKJadtD2KUkWpJYcxAxlJYCq690ex0XuE+DJNTL3fLn2xeYQjDS0b6Z7PhaJYRGZdmClB2OXohYoa1lZVD37uYB2yT4J4Ks6n+2jqxEj+TQeVus2XR92usKIXmn8l0ozaSVkwhPJoKGN0qp88PRlvN3oHbyTCfv+Kd+MZKgTUeNGmDxOA7iAk3Nv16HIpTpEpE3yk8Kd3N+kT/sPZqD64dvpIfL11qHqgHg0IvDleXjTNgxypPsl4ne84ehDOAKbbWMk/hGFnZgWU4ammnoYg/tD5+Xo3FL76OpYOGcmqVMippXzVJkcPqskxthwiDlWFWZCeZpq0pR53AcMfC2Czal2NPRyFMFjHqxrAjira3i1dFJnImP0bQ5biGf05Xod3fatC8UH1BQ3UFknCrLCQPiB0731k7b4h/JR7DU9DtMdoFrClocd9pbCu+KgN2Kuh+CUJ6ZB0dgdzIJ26W75KmRisENYYZotbbH3Sg7YvpQ5NFDaf7WzqAXNHL6szn4HMEgwsh5p4qVA5gmMV4RMNah/lxfBbwBvTu+EV7MVTMOXPyJ46hlBNUZjsWxXQcZXQuQrvWHQwO8mC5hcZ6l+Un2m3n/SQMv49sfAiG04ENAmhjDLbNa/qig5RBtxkKJ4ndzKI3YFipKR1HTRaGkQqp5jCseqMVSx1hMPF+b5K+a77jppxDL/xsEfPAYbC2mdQKZzK1XjKIe4LinSLmmZT86k7CvZIz82eFuxaDA1JaqrUBY83xFTXg5vLY5c1Cl3WIrM4LVU4nJGm40Uw5TjXdebJjIDE1RfSAXjljaYAxmOksDB8YzETNB/O0BjEc+ELHPOYgysLw2VCgYBhqFCN5LYvv8d80nd7Jg2kqew5dmn3iG81K4gkHGx1WNfvuAeo6IZagmExQoFgF7UjpeYL7UzD8WvR9hWpbIGvHYKFgdtdOZ6cTZlsoeUcWy6LSqmeqZDDcM1LT2CQbki0MJ2OREhg2MxmgbMJIJbv25NlrEdYL7Ocmkm8gcairWlaCc8J5aJ6V9gqR4NlMU3AFYMc8dxhWSTAhk0nLdqOhdg4p6D4nmK7YhP0JChpy5J8vY8hrlUWHAg9X58MhCydvDGK+E4j4RgTCnduDdvb2lqQTaJtHx7GcvmP8KSCGx8gF5uGA1aVWyR2ElMumgWEpzlINTuOanRMI0iLATkV7C13l1EmcjUhCWspNeekw8TVkeOguadhjUjOGyTs+RqAT21F5WVa86OGXfNXRz0pqqv2Lcly8k5SmOJcFRW4eZG03suvITFBzqCzRk4N9uM8dULMU1RY/O8mMmkg+pGgajq069ft/BheRq4E4OSU5ppcDtpnySYKzwYLk+otgjJ074Uyksl4KBM8abnvjr57EcFd135h27o9pTkEPrNUV3/eXb34yAyZoDB6Ozc6OQ/97Kp8b4vYsWZxzwAG03B404VXHYG7QeyewLANTKwODvAscRM1edDCHEi0/HMaMLh82sezHs5B181jfrMWwl8DUFu/6GRMCiw2qKdQMq8iw2apMkdk5Z2X9Uelzg7FIedqKVaY7cQa91HRpHF1mGHxFIZ8t1aMf7CkwXgsjpNpB+kUzBPuqbTcywjaYQBx0IslSsd6nfZdsh59BKJiduwdnD+IvF/RODN79yaIzW5HJ5GzgVY6LsPVIYzCUkWTKPEPyzxKM1RaLuND8s0h5KVBB31nitDXJEsluhsFaGia/xg/rnz8HwDlrO5C4tfvKrwCCDTyUWSOfbFz2SUH3viONwQfiSuhVcmhuFLToeOI2jHhostryPXB410tpi74ahpWhdOR+t0M4u7s2YiR4KV3FKyT2UuSVLnr5IG5JCjLpzC+askamHIYR1MdyGGaih1Y8EaXopug80ajGW0k7HibQMyQOIUps6Sro1HVyCYS2E8mJq/s+YnSxZYYhpNM8R/0Zjmoamz4BxrxxWXLqV0XR/4beM76v1ymcdR5sCGdR6zV5sBx2pGcOau1VWAC2MIx7lAp3oIW+p1Mv94Z/Nd/kF1lRiqX9WdYhQUZrnIPoTRAU9FkMujHdwTfGHXRjup9oeicQnw8kBkMjrnzANKWgxZ0Guj+b2tgGFo3M4tOMAo669kb1ty/cSfjcaVJ5zD/vzVptfaKk48kHYCI3x+kRn+E54Uy5IzS2io98DY/V8Xn3aBylrY5Uf3/X0CbhHE+Gp1l5Yjc9yrnKlyypiSwhNIHtPmtwYLCUUmvNcGICS6QHJ8GvAyL8k0LuNAu/vpS6Vo+brI04p4jzI0Bcn5lfVWayMZM6C4ZZpL+Wc+7oS6G1pK4H+9xX0tEincWdw9Yjhb4QCa5GXxgyXGa9egBDT4t7ARj4Kgp62D8KL2glyVKelIqy0hT0sFln6xzcRjIoDB6Iy3wD0b09EP3BkX0dy5lN5j7epzSJtYOZMCHcPFxly3ZkLWCY5dGbzEu/giO0I9jhZ73+kaS8u/jNOVt2EYajtqj4aGFSG8JwePx3YjCN/h1HOPvxc9jACb7EVSJ91hJ353lzWNDdgTDLFQ87TCmcXj+Ac8bIgfzngwMPzXZnA5J9xHbEJ4Bgld1BgASDxR0VoaGVrP5CUNBe9iyUz5B2V3ruAozYyqKvKABDF4AN80wu05XiasU823G/IMnVyx6kr6Kgm3Zw3HSEJAvhHAMIL4s+Arjt3D2u6H6eT3fmjrgxBhPfbkTQ3cDjRzlyYnmvBNuB3k2QJVcVAoZJSrxpKLYMHyXIapHpkm6WIBL3IwvDrYoVGscHd3yLy1fBeIpe18cSPwfDtFJB+wJzbuks/82S7HfjcUY4K0rj6TIhplzlg2D8WJYwa7VnX6/t4ogl9MreBU9BjUT5l4CxR9ZJV66hLjjLazHrL0r55IXaOTB21mBMY/SQsaOSfpMSm3vdd0ZB350t5V1x0epfV/FV6Avyo38bDMcdwN+lgnY9CRZvh83UkfnejrmDrRX4doieT/6Zz3YS4Ma3O4iYbnS/U4DBjDuYcf6JT1QmJj6mP9zEuXo/NM/iIu2lX1Z9y6OQD0EPQjjWNJSNMlLbZgx1hbG/SVsYDoB5WAHpzmNpoTMGUIgpMQrdNdftcTqwv9fg0WR1g99wSyl7tLEQyxcEEfCng6eMF/fksDpXMyYI+WdvZuL9+/T+TaacH9URiAS7gpRwxqTMvNQ8227uWfHP8pnqjg+T/sIQnuy2xHhj9vGOBwiSPI7SvsVLu3UZZ0nkIw/azxe4syJc4iijKFCUcXo+GZFyKv8S4lIxoi88burV799khGrcnKSgw2mDFMAqBd6TsLhrYXgQ0RaDb4NwBgM35UBpVFcqGybtPRnAcFRu/9sAnGPw0Ec3xMWN+d63EN3o6DeiG/GdDwymM/0lIsIBrYTbje+gG3AH30B34IbT8aq3E3dRl1BaHWBMjP57Hf979gd36lco2J1MuqOLgGGZTNvl/pgYo2ymo/QnYraTunUrS/s1PqtRaAqG4yS7+49ByESDDylh2GIw9QIn3HolAEszwNyDdD7qUdghyFMqWNKoDEyflhat5w9IT/aQr6jsFEw5X9QRJJTxjHDetN1CnqRCExERDANxndgjAVwShpjn5Ji4RkyTwiKcOAh4+kLJS4OnSPYg+iJJW709MkIM1jV4wB+HY5I5h3YERV9WzGrUX4Sk6CvevzWYhEZiPVMhN71SebAvAGsuWpZ+71H6a+Y0HF0uZ25981poz0Wji7F7mgtyRhz0ZW1I5NowJjWqG9F9tN13SKYbDgw+gVFBNd+Vb4cTPx8IChCIwR1uj7RRsdCdBtMwfFJiGoZJ+VVbhFKa58DSw9x9I5NK0ac4YFjfsONnybpyT0eXMDzY7FMsJtVyUuYdwHDvpBqoiV42ELOo3OxkjZox7EmMpA0wdk+3ya4/Lc2SkDYe6M+oprdaGNZLHMEZqCJHdF0gxdiNPNjf1neyYQcPPutCgBb2hZCWHCRMxhmthWfKX8hsYQch64z/mWxYz2+fpKccQ+/6E6W/mhNeuR/RDu69kgeb1l5twWEmCSYdR27eEVnjql4ARmhCOcdgupkcF2Ij4gTX/WcR2jMlX0JB9/uQng50aoM7+dyoukY4k5yDcGLwDRSky0ykcmYmHoQz4UYk676jOZiJcezAd+6/1Lhhnr+OAChAFY8lDPcZTt2OR2ZMKgcbY45t8bjfrxN4wchrmayzXlzoEjZ8ajC4FIud+CmSueHc09JQtGFwCoYFaw2FwebvXsXdC/yiZC6s83kLX0k+S3zrmgcW03U4mNAlzkZ9kMVh+/tv2W4Iw5pp8N+/vHVmFWi+qMMiOWl8n3DOMt3tB/kYOwPG0+yQHKDuYlWC2UGivGC2E654yh4vH4ifPc56k6UD5cxETK0j2gHT0m8yxFcNC4JywrIWV2ILWd8rypLgRPPsdVjqwU0D502j7y2hoHsSbPRWbDmbb6kBq4RDaD6ZlBd0l0jL2yPUMOB+Mh06LDqwWWIwiMB3gEEE5nu3sDx3b8wztfy4dwCflDDD9gSLum/fX+a74yCdlIYBZpFNxvmKBDQ3rim+B7ccKoVh55dlYVguxPt0GyMNMzzqyK3PxksSYmyaU7g+hZUDITHEeipj5m5Vuk8RC+TuWywb0Q6WvsnoIHoL9bXIaINRqjoD7RaG1fef2/Q/LO1J7tqhJsuTlhS6rVzGYOQgGvRR2z2TJ+68evQshD2vGzx2zBWvCec5oHJS/fXPneizQr20n1NkFiim0ShmoW1rr7e4Igm0Ql2llc/e/DmG4bv2nrxzhMftAUlMvSn9cyelrQ5LdwCr8UeBYgBfQ0ELaQn6uTt64zkWhurWWpnDiGox3YnolEOT7uW5E/hGBOaOxycjDTrBmE5T6JYw3vsPxI2mJkc4d5A+jZ6HHazxsYYGZlrCMGE0XcGNa8wIZ6xgmHwzRtNZQ5Uqe6aL8LAGhrl/GZ21XmEkq3RYJbU2YyYhKe8YPBiUDYo44MNJdL9BStSkSZn6IPog7bBtDp1Yi3D0RYVjNnoOJJahr4HeGQxjNqPQk6KhC//1hNi3YC6Y4R2cfhB9E/Z4M5Pez78v5sEIywTZm5nr0TzhzCnhHDHPESTn7pKUOG+IZBdeAu0mBg4Yvi9JaQa5bJhul5Ng8nVin+N8nREHVM1rKELju6tqFG59RyEGC3U0kRPf3FvK21yxcG9kMoOGSuvY0sVWTbrVxFl0wC2ftjt0PL0fhwUpTYqFBo++xGBL2HslksnUhNLt0xlr06Bs8ENCu2RdSQ9MjbbYdMVZHY0uEOeRaW1CxMT0tBUkcBlxLVfwB9FrDpdxxpMh5+NVndhttCiwkt2ORaDeslBNjbGNjJejLyjKaE3bqFV+qns6HKTB8cYbbC2bZ+UkMKsEcbf0a3hj3lNNP15RxnxeENHm+28j4kmLzDkD3Swj9+iLEGX1A7VP1AEM3ebrtixVV2TdNjIYvgc8s6Kme5X30Dzb4q4u/aqEOOgJ1rYbZhLDJ5vTPqyCFiIcgcHUh3kJlLkRAXTn/r+Mhrsn4dwmA4NwOGTh3GfgIIhwTl9ggIb86kz5pCDLwXBPdklmwwcAnBKtru06t5zSrWPt0F2t+xZqBz8zoIYeeqBh9630I8qZFI8q2H0zvk1uocRgr9HPovIqxsKIV6SOxCzU1iOd5WgREI2sGR+HN2RF2rJCy7qdfYkRVTGFI861DF1bhvmyO7uUWn0iMai9LRjN19K2ROMmycyiJXIC+p3Lai6H1sahM2/CNA9zrCzZlpttnnamUrZOCJyaMb0LhjUQji28/UIrkMvFawKzbe08SnPnUvCAUp7lwXF/EUHjbr7FFH2DNqQdGB7mGwaDoTXP4l7cYPVm/0TODjo2vWKPvt+oglZpi+EhmWQpkHwljlVLKt06JHe9NBEx3wg4NNJ0YDPhJH1F05FGXJy3v0E4T2C4Z8at1Nexls+PxiNRVlkvOi89ZpqKWaQshMduC7HFYN/jJIREY+JhL1kKtFIpZO9mHWNqJPSSAu0OQqzSYtUVS2MZ1ey602lxCEePR7mvm37hFN7kUs9MHG62oH9RQ8KtRHHOmjv4IWQKKyxm7NcyJA8ahhG1iveRefs3AGwR0RyIs6Ie0xS0smYbu+WBbDI7CAe86HbaiuUnsjD84CfCNc6ZNohrWqmp/YoqZpgRMswTL47z3qm/fD1Y0JDSiMVWF2HYF3od+ioaOUxtrTJLJ8EBDJN4QF+sgpYeTgN6m2NDhsGd8ZXU9A2Mpo4e2iuiO9OtTQkGzhHPNMRFJNqCuXnDC8JZIG4IwycdfYpuhvzqTHaBE6HPY56SrjaCjRsiDsEvYjIZEUfNGY+QDUrqPS8mhxZpn8jk+rDFTUZawHPGSNstbEhRwWxHzxKrBtFY3Bt+NPQuyHCfVZMelKERvb+TjEy2U+QhnxJ8db3K3l4Iivp1qwM2JcgVj80bsKzT6qhnVIlyQ43PVHDk4CRKKC+39jIwF3ZlmWu+zzLZ3X5vLl/fkl9ZZjjKm5GN6SXZKTQ9SMgnJ3vaarGduJA5TSYaq9CIYwrDgfyKnOrKaamMClpvuan2pL668iYw/oGtyPx5FTRJJZIZx9C950j1vwzjKTIeyic2d8IZSgXNYOBAaPDt+HlPKY2ATBxQeuQxt57dAsqU48yMB/Ryq/5C4G4HXTJPbPf/1vndZuT5sUiaTBYLjnDqjHqW1U1LU+p4Yqk3APH0rBFPK46Xx0jVCGhHtmoqwdqSSU+KDdJrucUx243PZ42yyzej338IvfIpHuODziXhpUqGDOfBKHS9tIBVuHbuQJ/H+zMmEf8/Z7rImDL1DTYJEq9sPRIbYQWB2xktMho8I715tY+W+06K3E+1HTsumnxT0DyL9V4iSodMoWu0y24x0UV7GBZV4USB5bjoDqiUZr1aBa1gOEp8acwudICqVdAej+3OEeFMqvE3LMx/iQpaDicgY/JA3ZpA66Ihxg45oyE2Q/xuzNDoi9YVArShVt3QqvcanQkujt8rJpxBoJuA3gNcSe7G0tODJDBT26HhbsueuadEzEzGplTjsbHySCRaUkIMgQoUeEJ5k5CYsBXDlGydVNZZGc73AQLJkAiRVMK6SLgjZru1j8u0dJ6CT7Ne/4lS6GWNwU2sHei6tIStM9JylQ0hTjNbnhrvjHgJ7/RZ/gaUloRpg30N1Mie8FRgsMcVJ0+ZS8N4q+4L2rLWmgiY1+9/o3doyVr7feC1bI6U9jMVVGuvpql9+2/ovEEi5SXX70uB8jn0vQorviJ7FkmwAt2bK9kqV6xcbyVBlx36MtZ801+moPVwgpN7JuEeheHWx01jddRxwUBXQRuymlKrrdtBRJ+dSO300TDcEly0BzcownnMFgWJPLg9l6BI6Z4rcx8I365NsCSl6UR0Od2Ye4rH4nvp8i5qyMQNmVj0www+uvd7tfzMgo4eeigP2xpbx1FbEdkN6AWNBdSYecDa10HNFzKD/8bMCbBKt9yDky+AwEr0buR+crF5M3IfUPCsdmvl+KXd0CeOJx+rhbI/TraYDrbQYozjxVIw4jKQfr2JZVLcmxTAXnDnCihrN002BbClrJofKjZHh8UGviLlDBA0Wc2l0ZEqLZoeuDyI+gIRUdYR+iJGYrUngtFGFBLOA4aJCDswHHYlSYgl3V/EatJw55mdzhmiqXeCvoAAbG16hcA29XvakPTMBbnadxbBMHP9lCDr1ghnEI0HJzq2ZFekvJD14EYInmfWmS6PbLg9OLFWE85NBS0MLNEqxP0gHRF70aENeBnQ27TPjZQeW8blDIG+49zgcfmkWxS8tXI7pMGh2o3jw1pTXj0GeAJIwbC78RS0jzk7LHe99nS3+POav2Lz/bd1oMQR9Vb7yWPoW9HbZERTwVcxaAA3HyHnBRbNURMYTpHc02tx6xEH1WIDtGkySrmkWXx9SDFSs9NZsstTpTFvlIoF6oOWFpJJzdgy7ULG5f9EEy6aFsePS8ImT1WjLDKHZ7h1zLz0G/hvRDAMmUOH6a+efUS6Nkym0UiSzJSg6UE1K9y18xUCuGXJc2jVlbpffFENGKbwKHWt4x4mMTglnLWHUgMpJoW+96H2HcnxTWTDTQQFncgeF9pIgkXWSywSXBoJ9ImsEp4bvcuNTDfQO9BOg3GEu+fUJzVNK9hibvcsVo0k7KrIgbE9rBzxYifbA/tDA6MMOEo3j3quxOCd40fgGoO0SJG1fkg+UMookRmyOAjaQYIt4m7J4XhEf9gFrsIoMR+RQ4fEP1zq7ZsuwDC5svGzXJRddwqrpPuLeKqpnkDvCw+7mM0HZzKVziOKhVRBOy9yZI16vVJZFgK5+ELnnBhMGiH0NgxHzhu6SzjxwyLd40t6C60fhHnwxlMC9LWTrL6LgoaeV9B6MYfXhrCIiCCZhN1hSzgORhkkioNEwpMyzYbRhhx1UrobZrFMgnWv0amoYpL6rKGu6kgsCGeRjPqsV0MvSxASaCQzY5Mrc5zkhWi9BGO4fdRsPDg8c8hn8yt2HPWputPlxYFz3PdRS5D2ngx1HJLJaTreMt0U3SFpdnGbYn0Q0ssIsYqESR3l8dVh90hp20DFl+BXZd8JES13SMyi4TwigjyYrptyTPjkuba5b9n0ao4I8NjFYm1bsVQm75R+1/ZVydtbHYSXuBtM8M1IaTnvKDDiyGFYkdJSseVyYjI4HRZoM+sMvSVoRhr5blYJVppnMAz5DPqaPmBNRIOjuwuEFCuGXh4++BDqKho12oPOOFJh98DBMMktp1qop2Jndouzw5tkfxEP1pp6NkytYEwkaOqG382owhDOAQVtOFVNOIuKm0JinyByp5dZVjpYFctY36h5CLf6mAALY00616cMMjvA8y+kMn5TJGYD27xKN4MtGt01RrBOwcUMqBiJ7T6OoxZ0urq3C6fVAICj3DcqHjsw5Usl4YmA0/X7AnkebCc0uDw4Lh4nDb67Mw+ifPRay2/soJn23oSHneXBjualufMG5aXcyT6ZAisA42BIlJ2mQA9NOtLPjWvDWhctu4RtV5Ip8Q78g3JspiX02h6k84u6maNBY3DgvBG3HjH9gA7rQ17Q0ogylOGq/DdNf0mMih9m/aKtwz5gCcynTLqdAhCjs9CazzsAH8WQkdGeZ2Z3oOTBWvdEmUgnwYRu3yGhayizBBiHNKwjnIPSr6SvY466aXXjMq1Aa3UcnSgzOY7aP0heiA0SZzVjtQOYfLrpYViDLjSZPAwrxVNsFuuWL0OcsMdRU8hIh2SyQPdghxkMLz2vfCE2+at7T1afBbP8j6u87A57ifh9pri7NgNRy5FlJXVjLn1UfJ1hsNondotUbanZPhHfEPYE59LoTQra574UuT17W0rhPRmR0iw6swUpPX7QPLWNULmX1pJmJIpmC9qjxeirT3vQ9xhxeBhuTkNkBhSqFg/S3k3nqPLRmMQDYalJpt2Dpn9Ft6Vs/TQqGya5HY2RhqSXiWSp2JLSI6Nt+XHHclLPGlmsyHpZKH3YErCCtdYCJSY2IBeVh02WGRLX0DVUJq/pJbBlmCP2O3oh91m84iFAYsU2q0/H0TtnkQqThjoMKhgq/YsWE36dYbd00kKc3XqSgv6AanVilcg7XPTyPoCYZM6IKFMMjuhQ/TXFeGBLxcvxBstuH9ro343SzYikFZK0fVGx8eLIxMkh0mcK54mxdgzwmEGyS3MpdBrRTUSU+3LMRg0Gzs/enUOpoMmroAXsdTmMmoIwSX8p6RrKSWmyW/rNeoDxAGknFXTr5a8QYQnPhj7XXie7ULUNHpRno5kzwlnCsNxzcNT97IBgVTz6jjyYRu7b24vb9L+ucG4IStJwVCR5g80mQW7rtNWhb8ZCs61T+KNRrg2mkCU2ODdNRjcP4gFVb+Hl/rPcWgJb97f2RVwJtNotEhR3Sdk8mJ3gyy812KS5nc63oAuf7PIs/fXvZynY4tW9gpNZFyGZ7O7pWR006f2Fgx/MnBQ5zKc32mr5Ibii3PTRDhGiwEtkkomapcZkRu+OqGo16HfCbC+yXss/O4dnnw17dw7zLIPBEnEFHlveWBVro336aSAntCt1dHZMqAKwSna15YLhe5j2rrm/KMIiDcOqhxVK7mNguPktNHTtjn4ahvvfDQzT0bMkri3XnnTCs0XiLpNuzDGaHX9EHQ9AFcmxB2PPG9vdiJaC5xSDY0U0dkBuH0fjVHW+zxz1zbrBqr3gq6Qci6SMWkqeVPDHDw6rD5jIp9VsiOgb4BhfJVFPUbV4kdYmu/BOVXhRKjbEdeBJKYEw1k5PEDEwHw6BzabUoRTrMgC75DUYdIiVuspVbZNZ9zMMXhSkE0Z9kiInS4pEkIXcmiOWaIXVYtnyK0qqY5KVyTjlFm1EBQvAgpRWhAprb9HJU0g9sDsI6lul3Unl5WtqwO1ksVZBzRta2GPJ5Njoplu5VxDOBob7EeQDQS+frxnqsIg0NT3+A41k+nwt0znT/4VLeYX4yCErQpDW9DLYkskRdaySXY56bPKy6yrpZAcSDaWwj76Ll57tA8OHJ1qipMlYyNbCtxcQxcD0Y7LNOX33lG5GijLaZJ9FHnw1x13Uhn3qDJcBWENKy84naiz3rBRKLfsdt1HtI+UEsR5UJk9e+tI+Ez6cvIfG8rtaSLRCNZkdPsi0qgQjTpe17YZLN3XxlWR/keaHKVJXkaGOg33UGjyjsu1xJH4DbLJe4EfSX/q4Cjq1hia5HOYxqbaT1sOZycGwEFsN78POOXPLXxsYn55KR3arih6dplYYPDimhqydl5b/9oMLAGbSDUjcuVBYaVJIU6dbQs6ZxuIgVTnlZPUd+2dAAAAP0UlEQVQWlO6kv/MEGimhzWEpVNh8hhVW6bOZo/tQ33OCbdHngrylsaG1kb0luehxMmYkuSsmFVvaQOr1E5ClwhS4OseZMU38n5d14pR9lbYv8dBijlRLWdIc4DHS2i0nfsvuS1gaQ9rOqIwPzyno0AsFs8Jzoj5L8l3/pyDHzS274ZxVTL4bsMHy2g7ANUuOSaazbjdQRCynB9d7Gh3WD8wf/HgGjPEbhoNtExgeu3CDTw/DbWMXW/XXCyq71DEbEn1PwXMHXRI1Y4owmFqR2KCveCzT4naGMClmReTN4xTdRt/HyOQ9IEyLvjtl4DhPjYDW9SB5wjbOdPNk14Cie/M5lucwPCxj4reUZdWc0L3Jxf4cABMF8Dl7hUCr5Vt+4/eFnI5GkpFb5XDaBTuTW08OMj1mMjF3UpCO0vrY7pGm9iO0GiA44//X/cfTvuFFW7PRZIECFboXt/sxGz67tUJlssOpDGWtuehgCxGi7faYpvbsdlC9bSpTz/Lg78qARTIR9RV5GJaVYB6stYNhsRFiCE+36ZCVjZBMhgDas+LsSWkij8eAsNccKK7TUOmTrBRY3oDC0dq00lstxVC4iJ1zZlicyauMcydvFnrmKQyrbMS1+gR63pxz1q2h5i1NaGrkH4rDDx6qo3izuHvRFPoC9OYKT8Tpf5pne+oYFJsYJM9Kk8VrFLT/UDsqaJqJsGinMfpBAbNCvpiW2KkuU9I8NqWgvdWJ1zzb3QbDrD/jJKcMhg4ZCYaH7WCLk0cFxLWXUG0cJzS9+gno/XQNWNRzzcU5h2ExLkhlw0oFjTY3oHkvQw60kTKrjHCmKeFMCndldqu2iOdSm/J+1qePtw91lkorCT+uwNGbYH2QJQZPyNhp2qo7bmMExUxCHBT1QpkxaIPrHiCnX5fjaQds0lO3kmCO019MyXNOMmZEWK5fKMm2A9DEq6+7CdYG+8Qe0eFxwDpvzjNgRGbUSLhx6FNqNjYxkiXnrxgIlROkRPCWopUBKM13w086yf6DVDuk91ekOjm2QE4VjL9JLdQKp1mYKgD51m2XvwZw6LFQ/2+U+7p9PL1sXpeikrA5GjnZ808VgD+TAffJb/I259sxAhiGKcSpEeaNh6YzCz5H+0EM89NbBm8CmRYPMJ4QzqJeK/dEs8QSoGtg+Byjdy4XrImj8HywWlww3C1zSPyYKK3gWuTLvZmYYi8Ilr9blkYjf0pUZNX8llMhzehub3wR5O7ups1JXRnxR6BRtqegOI2UbdY3ddaFXn9Fv2Tw0cO1YezuA6JwhlLAZk/4Vc9jY4W1FM91sD/AvBhsrxtHX0fFV0x5bP8mU1csQ5usCXAOFq1Tph2Tg3gpnOnAC81HMwyzzK1nvK3AOCKlI1BXTyHtH5nnrAEx7szUFkCeZb28LAr93Qy42T/bzwmz7jPTkEgPWh0u0C01bvKr3q0EkWa5LQA0L2PoZY7T4gGow984yI9zGGYSeNx++W4cQWTcmnrmT97gULttsINV63g8reDqpRGF0iSFqRnyUWCdxFPSdWMfBLcUT/lyim0ySZuqoJ99FmjPYJLdhc5vvdCNqHgTm/MtoHhllGRpK2Z457USPnlFibvFxGIf0Jaa2n6FWH0P2T6Pcd2zT7QQa5BXGwX1fm+JnG3xnWDO6YIipwtQpkOWLR/iDbNbUuhhbXAVssuE84KV+iIKGuxuTP6cttxdsqXnx93riqMcNwDjocNSV0YAn5xlxv0WIgVc8nMBGoMNFmJksQSdPIzrHvYGDUeEqhOJrXM+okoqLBIYEtWhmnV9SpNgcUe0HVDRYd26fJEN9zOJKe6gTcrPbHnHZGBRtIVDRnr63CBJjDuAPrfGDu77y1w5BcjsaIlEeQrkwc+PVd48B29MP2/AQicN0Nh4S8T5p0jU5khPhWwGALBeJCGgUqOUOrRYsQm0kS478jk2ACcyVHN2NKQwaUzhXVIerQlskZicwtkRzrHtxg/C8PspaHe1mLxrDAOIsmFyZh19WPwQZ3U+ujcGSQk/FCPd0mCB1hrrMZJ1qXAO/pVAKzLdLBXWFR5VBvZ9LO3Vo3eofIk9EejLihzCMJFD/QClkGMtJ2BvDSmjUzoYCpTPCGJySihKup7EX5nCxe5S6jVeNOGoMMHgmWfzT13joMULIwVjpAn0dFmxnUwHmLojUNoBJ8xXGJz+MOtXSX5I5JxG9ixk1ZEQaBcHSS4GXinsLDJ5phrWKtl9Xjg/ILAbopW5P5KzYjbJhLP1iYeL8CTHRf7+aeWJ8xUUtKzNyaqeK/S53HeYWWpg7t66J3hD6nMHihodlkzUOhZH2bBE4pAH7ojA8OAqLhqE4266+nr0z8ADjHrPrBAaMcMYoQJiHg0B+5XcOAO40todjvL1ZJ8pqu3QwrSlKIYdCJjBvPtpGGHKx/PlgpP4xGCYrhXeg7zYwPxVh5JdQ2bp4MUt0fnLW9Rrlg6myXdCHWdKqxDJsFxDOSUh5rfE5M3QKg9+7DjI3l4KY8l3tSK3t44TeUCujxzUpTYI58lqIwPdr7KidFy0vpKllYKG4VG25ZEl919F+FnCGn0I3bQknCNZU3CtCOgN81oiVYuFqry6LR7mdf7t9+EYgIbDoipg6zsA0vs+kzsbk3xupUZAlm4m+yACsOk9csFvby9bI4H0egWQQmz8zjkD8n0MftNVj+2XQfIZdnLfFPDYLsFW0Lggn2Np2KVFgGd4ZlQktvLXTU4mXzREHXj5qmX5/WdH82l69o3FhrQZoU3BQj4c88dBrwXxEh3d+oOjkyEgtLGgN/jNl98vyYDVPZ+D9ai6PcMOTj1O0NFI3G/EoyWpnZkKhk+UGt+4Jpxd+ssOg8EC5jyZLOAMbJsD3BaEC3HpaDBeJQDJ/iXBZKv+1pQtv/PS41TWSzu4gqmwyAAVNosVi1sXb08J4jyL4e2lxip3f3yKyo8R0ctvYfmZ8spoyJPss/B5NXd+lkRgyRtvZjFFCpc/OGNrjZItA3ln0ZOuEDFLhUFZm5mdeeKeGww+i36joKcwp8HjxB2z4wdiUYopa3LNXTPa4ysBOM59Kb7I4RMcYeonq8VyWdSmHCJOgqnPu8Uy/c1vwUB+2jdltCSK2xaePstKoDFN7OAZ6YDUw9yaYQOGwdlyHavb+4xJ5h3CfAUgU3p8B3byy272Zi5mw48h8c/Eyrd6N41ePOsaACdfKnYWLDuE7S7DPP3JsfdVrJYyuPCsK/wPeI3uAeu7ShCNq0aUVoZtDzm9nL4WwMtFz/S1ksUTrpyEfz4DTgTPs0uOww0s1NRQrGJQTYIG/yylw/Se4fptMEWvRiazuJUh5H31mQJFHbdDYZF3YH2vB1+FqIgZvtwfx5sJ9OawgUlpdeeGjEuZyJWvaJah/LpsGA+8qrt54cJzL1ETF3//jYUbriwXdlPhfEGAh35LzNPZ3beNtKyw1Fzw6lqf2Kim/uH5Zwm1UfNPGpjdrH5ini6zrp4SfzwD1qsYTM9qzu6r8HCu82q2TcYaKjEvbWK2NkV2jSSATcIrAzuJI5J1LXg/3YxehWfnGx4CrWdTz4dOeCw4R969zz301wQKfpy7+niWDFzb/6VrjZ1S6P5vyxfeGDZ4j0sHnJ50GxcJ7y5+1yM6tsAJ66yRNxYTKUyGK1jM3anA6zUyVmu1f4OC5jS3vZD7Tk9VDmGe/X0TVxHCnRHg5bNgsmXmjfsWYgUQrizL/ZvZXpRjh8G4mBTS6zjYzNzxSUzFp97M3w88s+54MRgDjzzrkZfeeCE8cGS869u7Ury/cGTscAkzZng7s18cZHvKCK3ezD9GQV+/v2mljV598cYJjTyTfe52jCX7hfB+wVdfl3HlzeGJ3wRP/3648tO+4Gziy+fTq+Honw7+8QPiBT8Cv3DPyzCMj31Xm0t3vvjpspswX/yg/NC6h3/qh/6LAPzQx8OEjtihangPd3D5st/D+2APvvhS+MwJghfs8fBV/KtSvN+BRfSFX9Mv/5L4bWfHz3wP77pz4DOfjh/8+vFHr8v3AjAA5n/tLlVRUVFRUbGx4ABQ30JFRUVFRcWH41ZfQUVFRUVFRQFwRUVFRUVFAXBFRUVFRUVFAXBFRUVFRUUBcEVFRUVFRUUBcEVFRUVFRQFwRUVFRUVFRQFwRUVFRUVFAXBFRUVFRUVFAXBFRUVFRUUBcEVFRUVFRQFwRUVFRUVFRQFwRUVFRUVFAXBFRUVFRUVFAXBFRUVFRUUBcEVFRUVFRUUBcEVFRUVFRQFwRUVFRUVFRQFwRUVFRUVFAXBFRUVFRUUBcEVFRUVFRUUBcEVFRUVFRQFwRUVFRUVFRQFwRUVFRUVFAXBFRUVFRUVFAXBFRUVFRUUBcEVFRUVFRUUBcEVFRUVFRQFwRUVFRUVFAXBFRUVFRUVFAXBFRUVFRUUBcEVFRUVFRUUBcEVFRUVFRQFwRUVFRUVFRQFwRUVFRUVFAXBFRUVFRUVFAXBFRUVFRUUBcEVFRUVFRQFwRUVFRUVFRQFwRUVFRUVFAXBFRUVFRUVFAXBFRUVFRUUBcEVFRUVFRUUBcEVFRUVFRQFwRUVFRUVFRQFwRUVFRUVFAXBFRUVFRUUBcEVFRUVFRUUBcEVFRUVFRQFwRUVFRUVFRQFwRUVFRUVFAXBFRUVFRUVFAXBFRUVFRUUBcEVFRUVFRUUBcEVFRUVFRQFwRUVFRUVFAXBFRUVFRUVFAXBFRUVFRUUBcEVFRUVFRUUBcEVFRUVFRQFwRUVFRUVFxdX470+/e2aun7CioqLi3wwABcA/Gf/zf/8fETETEdqDA5vRHpy/FBPR+Kvbn3D8te2W7N82xvuPvxJxvj8Rcb4/ETExoT1I9ieIv7r9CWNxwvn+8vvx+8+/T/nVgfj8BsDo3waYiACm8+UYIPHY7EPiCOc+7cjH4/DIx2Nz5HP/6Mjn/vrIf/79i7+qLcfv6PfU29W7irb3z2L3dNvHp0i2+/f5998/9V9t/O/5U4qrdexJ5rniRx/7twtu84AQz905IPSbEXew6IDu040DjhvO7NMtD2g+3fKAIKLb//n/fx2/ioKuqKioqKgoAK6oqKioqCgArqioqKioqCgArqioqKioKACuqKioqKioKACuqKioqKgoAK6oqKioqKgoAK6oqKioqPh9wX/aSaScsCoqKir+2SgnrPoBKioqKioqAbscRUFXVFRUVFQUAFdUVFRUVBQAV1RUVFRUVLwpuGqoFRUVFRUVlQFXVFRUVFT8E/G3VdBdBVd5fEVFRcW/FgcE/N37/+1Pf/UAjq++GoIrKioq/kH0/dPxDRR0pb8VFRUV/1p8wZ2/asAVFRUVFRUFwBUVFRUVFQXAFRUVFRUVFQXAFRUVFRUVBcC/KUoCXVFRUVHx5+IP9wEDqD7gioqKioo/Gv8L5kR+ADY6iBgAAAAASUVORK5CYII='>"
      ],
      "text/plain": [
       "<IPython.core.display.HTML object>"
      ]
     },
     "execution_count": 21,
     "metadata": {},
     "output_type": "execute_result"
    }
   ],
   "source": [
    "figTemp = glucifer.Figure()\n",
    "figTemp.append( glucifer.objects.Surface(mesh, temperatureField))\n",
    "#figTemp.append( glucifer.objects.Mesh(mesh))\n",
    "#figTemp.save_database('test.gldb')\n",
    "figTemp.show()"
   ]
  },
  {
   "cell_type": "markdown",
   "metadata": {
    "collapsed": true
   },
   "source": []
  },
  {
   "cell_type": "code",
   "execution_count": 22,
   "metadata": {
    "collapsed": false
   },
   "outputs": [],
   "source": [
    "# Get the actual sets \n",
    "#\n",
    "#  HJJJJJJH\n",
    "#  I      I\n",
    "#  I      I\n",
    "#  I      I\n",
    "#  HJJJJJJH\n",
    "#  \n",
    "#  Note that H = I & J \n",
    "\n",
    "# Note that we use operator overloading to combine sets\n",
    "# send boundary condition information to underworld\n",
    "IWalls = mesh.specialSets[\"MinI_VertexSet\"] + mesh.specialSets[\"MaxI_VertexSet\"]\n",
    "JWalls = mesh.specialSets[\"MinJ_VertexSet\"] + mesh.specialSets[\"MaxJ_VertexSet\"]\n",
    "TWalls = mesh.specialSets[\"MaxJ_VertexSet\"]\n",
    "BWalls = mesh.specialSets[\"MinJ_VertexSet\"]"
   ]
  },
  {
   "cell_type": "code",
   "execution_count": null,
   "metadata": {
    "collapsed": true
   },
   "outputs": [],
   "source": []
  },
  {
   "cell_type": "code",
   "execution_count": 233,
   "metadata": {
    "collapsed": false
   },
   "outputs": [],
   "source": [
    "# Now setup the dirichlet boundary condition\n",
    "# Note that through this object, we are flagging to the system \n",
    "# that these nodes are to be considered as boundary conditions. \n",
    "# Also note that we provide a tuple of sets.. One for the Vx, one for Vy.\n",
    "freeslipBC = uw.conditions.DirichletCondition(     variable=velocityField, \n",
    "                                              indexSetsPerDof=(IWalls + TWalls, JWalls) )\n",
    "\n",
    "# also set dirichlet for temp field\n",
    "tempBC = uw.conditions.DirichletCondition(     variable=temperatureField, \n",
    "                                              indexSetsPerDof=(JWalls,) )"
   ]
  },
  {
   "cell_type": "markdown",
   "metadata": {},
   "source": [
    "##Add Random 125 K temp perturbation\n"
   ]
  },
  {
   "cell_type": "markdown",
   "metadata": {
    "collapsed": true
   },
   "source": [
    "tempNump = temperatureField.data\n",
    "\n",
    "#In gerneral we only want to do this on the initial setup, not restarts\n",
    "\n",
    "if not checkpointLoad:\n",
    "    for index, coord in enumerate(mesh.data):\n",
    "        pertCoeff = (0.05*(np.random.rand(1)[0] - 0.5)) #this should create values between [-0.5,0.5] from uniform dist.\n",
    "        ict = tempNump[index]\n",
    "        tempNump[index] = ict + pertCoeff"
   ]
  },
  {
   "cell_type": "markdown",
   "metadata": {},
   "source": [
    "##Reset bottom Dirichlet conds."
   ]
  },
  {
   "cell_type": "code",
   "execution_count": 163,
   "metadata": {
    "collapsed": false
   },
   "outputs": [],
   "source": [
    "# Set temp boundaries \n",
    "# on the boundaries\n",
    "for index in mesh.specialSets[\"MinJ_VertexSet\"]:\n",
    "    temperatureField.data[index] = ndp.TB\n",
    "for index in mesh.specialSets[\"MaxJ_VertexSet\"]:\n",
    "    temperatureField.data[index] = ndp.TS"
   ]
  },
  {
   "cell_type": "code",
   "execution_count": 164,
   "metadata": {
    "collapsed": false
   },
   "outputs": [],
   "source": [
    "#checkdirs"
   ]
  },
  {
   "cell_type": "code",
   "execution_count": null,
   "metadata": {
    "collapsed": true
   },
   "outputs": [],
   "source": []
  },
  {
   "cell_type": "markdown",
   "metadata": {},
   "source": [
    "# Particles"
   ]
  },
  {
   "cell_type": "code",
   "execution_count": 165,
   "metadata": {
    "collapsed": false
   },
   "outputs": [],
   "source": [
    "###########\n",
    "#Material Swarm and variables\n",
    "###########\n",
    "\n",
    "gSwarm = uw.swarm.Swarm(mesh=mesh)\n",
    "materialVariable = gSwarm.add_variable( dataType=\"char\", count=1 )\n",
    "rockIntVar = gSwarm.add_variable( dataType=\"double\", count=1 )\n",
    "airIntVar = gSwarm.add_variable( dataType=\"double\", count=1 )\n",
    "lithIntVar = gSwarm.add_variable( dataType=\"double\", count=1 )\n",
    "\n",
    "varlist = [materialVariable, rockIntVar, airIntVar, lithIntVar]\n",
    "varnames = ['materialVariable', 'rockIntVar', 'airIntVar', 'lithIntVar']"
   ]
  },
  {
   "cell_type": "code",
   "execution_count": 166,
   "metadata": {
    "collapsed": false
   },
   "outputs": [],
   "source": [
    "###########\n",
    "#Swarms for surface intragrals when using Sticky air\n",
    "###########\n",
    "\n",
    "snum = 1000.\n",
    "dx = (mesh.data[:,0].max()- mesh.data[:,0].min())/snum\n",
    "yp = 0.9947 #1. - yelsize/2. at res = 96\n",
    "\n",
    "mesh.data[:,0].max()\n",
    "xps = np.linspace(mesh.data[:,0].min(),mesh.data[:,0].max(), snum)\n",
    "yps = [yp for i in xps]\n",
    "\n",
    "surfintswarm = uw.swarm.Swarm( mesh=mesh )\n",
    "dumout = surfintswarm.add_particles_with_coordinates(np.array((xps,yps)).T)\n",
    "\n",
    "yps = [ 1.- yp  for i in xps]\n",
    "\n",
    "baseintswarm = uw.swarm.Swarm( mesh=mesh)\n",
    "dumout = baseintswarm.add_particles_with_coordinates(np.array((xps,yps)).T)"
   ]
  },
  {
   "cell_type": "markdown",
   "metadata": {},
   "source": [
    "#Initialise swarm variables, or Swarm checkpoint load"
   ]
  },
  {
   "cell_type": "code",
   "execution_count": 167,
   "metadata": {
    "collapsed": false
   },
   "outputs": [],
   "source": [
    "mantleIndex = 0\n",
    "lithosphereIndex = 1\n",
    "crustIndex = 2\n",
    "airIndex = 3\n",
    "\n",
    "\n",
    "if checkpointLoad:\n",
    "    checkpointLoadDir = natsort.natsorted(checkdirs)[-1]\n",
    "    temperatureField.load(os.path.join(checkpointLoadDir, \"temperatureField\" + \".hdf5\"))\n",
    "    pressureField.load(os.path.join(checkpointLoadDir, \"pressureField\" + \".hdf5\"))\n",
    "    velocityField.load(os.path.join(checkpointLoadDir, \"velocityField\" + \".hdf5\"))\n",
    "    gSwarm.load(os.path.join(checkpointLoadDir, \"swarm\" + \".h5\"))\n",
    "    for ix in range(len(varlist)):\n",
    "        varb = varlist[ix]\n",
    "        varb.load(os.path.join(checkpointLoadDir,varnames[ix] + \".h5\"))\n",
    "\n",
    "else:\n",
    "\n",
    "    # Layouts are used to populate the swarm across the whole domain\n",
    "    # Create the layout object\n",
    "    layout = uw.swarm.layouts.PerCellRandomLayout(swarm=gSwarm, particlesPerCell=ppc)\n",
    "    # Now use it to populate.\n",
    "    gSwarm.populate_using_layout( layout=layout )\n",
    "\n",
    "    # Lets initialise the 'materialVariable' data to represent different materials\n",
    "    # Set the material to heavy everywhere via the numpy array\n",
    "    materialVariable.data[:] = mantleIndex\n",
    "    \n",
    "    \n",
    "    #Set initial air and crust materials (allow the graph to take care of lithsophere)\n",
    "    #########\n",
    "    #This initial material setup will be model dependent\n",
    "    #########\n",
    "    for particleID in range(gSwarm.particleCoordinates.data.shape[0]):\n",
    "        if (1. - gSwarm.particleCoordinates.data[particleID][1]) < 0:\n",
    "                 materialVariable.data[particleID] = airIndex\n",
    "        elif (1. - gSwarm.particleCoordinates.data[particleID][1]) < MANTLETOCRUST:\n",
    "                 materialVariable.data[particleID] = crustIndex\n"
   ]
  },
  {
   "cell_type": "markdown",
   "metadata": {},
   "source": [
    "#Material Graphs"
   ]
  },
  {
   "cell_type": "code",
   "execution_count": 168,
   "metadata": {
    "collapsed": false
   },
   "outputs": [],
   "source": [
    "##############\n",
    "#Important: This is a quick fix for a bug that arises in parallel runs\n",
    "##############\n",
    "material_list = [0,1,2,3]\n"
   ]
  },
  {
   "cell_type": "code",
   "execution_count": 169,
   "metadata": {
    "collapsed": false
   },
   "outputs": [
    {
     "name": "stdout",
     "output_type": "stream",
     "text": [
      "unique values after swarm has loaded:[0 2 3]\n"
     ]
    }
   ],
   "source": [
    "print( \"unique values after swarm has loaded:\" + str(np.unique(materialVariable.data[:])))\n"
   ]
  },
  {
   "cell_type": "code",
   "execution_count": 170,
   "metadata": {
    "collapsed": false
   },
   "outputs": [],
   "source": [
    "\n",
    "\n",
    "#All depth conditions are given as (km/D) where D is the length scale, \n",
    "#note that 'model depths' are used, e.g. 1-z, where z is the vertical Underworld coordinate\n",
    "#All temp conditions are in dimensionless temp. [0. - 1.]\n",
    "\n",
    "#######Graph object\n",
    "DG = nx.DiGraph(field=\"Depth\")\n",
    "\n",
    "#######Nodes\n",
    "#Note that the order of materials, deepest to shallowest is important \n",
    "DG.add_node(0, mat='mantle')\n",
    "DG.add_node(1, mat='lithosphere')\n",
    "DG.add_node(2, mat='crust')\n",
    "DG.add_node(3, mat='air')\n",
    "\n",
    "\n",
    "labels=dict((n,d['mat']) for n,d in DG.nodes(data=True))\n",
    "pos=nx.spring_layout(DG) \n",
    "\n",
    "\n",
    "#######Edges\n",
    "#anything to air\n",
    "DG.add_edges_from([(0,3),(1,3), (2,3)])\n",
    "DG[0][3]['depthcondition'] = -1*TOPOHEIGHT\n",
    "DG[1][3]['depthcondition'] = -1*TOPOHEIGHT\n",
    "DG[2][3]['depthcondition'] = -1*TOPOHEIGHT\n",
    "\n",
    "\n",
    "#Anything to mantle\n",
    "DG.add_edges_from([(2,0), (3,0), (1,0)])\n",
    "DG[3][0]['depthcondition'] = TOPOHEIGHT\n",
    "DG[2][0]['depthcondition'] = CRUSTTOMANTLE\n",
    "DG[1][0]['depthcondition'] = LITHTOMANTLE #This means we're going to kill lithosphere at the 660.\n",
    "\n",
    "\n",
    "#Anything to lithsphere\n",
    "DG.add_edges_from([(0,1),(3,1)])\n",
    "DG[0][1]['depthcondition'] = MANTLETOLITH\n",
    "DG[0][1]['avgtempcondition'] = 0.75*AVGTEMP #definition of thermal lithosphere\n",
    "\n",
    "\n",
    "#Anything to crust\n",
    "DG.add_edges_from([(0,2), (1,2)])\n",
    "DG[0][2]['depthcondition'] = MANTLETOCRUST\n",
    "DG[1][2]['depthcondition'] = MANTLETOCRUST"
   ]
  },
  {
   "cell_type": "code",
   "execution_count": 171,
   "metadata": {
    "collapsed": false
   },
   "outputs": [
    {
     "data": {
      "text/plain": [
       "[0, 1, 2, 3]"
      ]
     },
     "execution_count": 171,
     "metadata": {},
     "output_type": "execute_result"
    }
   ],
   "source": [
    "DG.nodes()"
   ]
  },
  {
   "cell_type": "code",
   "execution_count": 172,
   "metadata": {
    "collapsed": false
   },
   "outputs": [],
   "source": [
    "remove_nodes = []\n",
    "for node in DG.nodes():\n",
    "    if not node in material_list:\n",
    "        remove_nodes.append(node)\n",
    "        \n",
    "for rmnode in remove_nodes:\n",
    "    DG.remove_node(rmnode)"
   ]
  },
  {
   "cell_type": "code",
   "execution_count": 173,
   "metadata": {
    "collapsed": false
   },
   "outputs": [
    {
     "data": {
      "text/plain": [
       "[0, 1, 2, 3]"
      ]
     },
     "execution_count": 173,
     "metadata": {},
     "output_type": "execute_result"
    }
   ],
   "source": [
    "DG.nodes()"
   ]
  },
  {
   "cell_type": "code",
   "execution_count": 174,
   "metadata": {
    "collapsed": true
   },
   "outputs": [],
   "source": [
    "#A Dictionary to map strings in the graph (e.g. 'depthcondition') to particle data arrays\n",
    "\n",
    "particledepths = 1. - gSwarm.particleCoordinates.data[:,1]\n",
    "particletemps = temperatureField.evaluate(gSwarm)[:,0]\n",
    "\n",
    "conditionmap = {}\n",
    "\n",
    "conditionmap['depthcondition'] = {}\n",
    "conditionmap['depthcondition']['data'] = particledepths\n",
    "conditionmap['avgtempcondition'] = {}\n",
    "conditionmap['avgtempcondition']['data'] = particletemps"
   ]
  },
  {
   "cell_type": "code",
   "execution_count": 175,
   "metadata": {
    "collapsed": true
   },
   "outputs": [],
   "source": [
    "def update_swarm(graph, particleIndex):\n",
    "    \"\"\"\n",
    "    This function takes the materials graph (networkx.DiGraph), and a particle index,\n",
    "    then determines if a material update is required \n",
    "    and if so, returns the new materialindex\n",
    "    Args:\n",
    "        graph (networkx.DiGraph): Directed multigraph representing the transformation of material types\n",
    "        particleIndex (int): the particle index as corressponding to the index in the swarm data arrays\n",
    "    Returns:\n",
    "        if update is required the function returns the the new material variable (int) \n",
    "        else returns None\n",
    "    Raises:\n",
    "        TypeError: not implemented\n",
    "        ValueError: not implemented\n",
    "    \"\"\"\n",
    "    ##Egde gives links to other materials, we then query the conditions to see if we should change materials\n",
    "    matId = materialVariable.data[particleIndex][0]\n",
    "    innerchange = False\n",
    "    outerchange = False\n",
    "    for edge in graph[matId]:\n",
    "        if outerchange:\n",
    "            break\n",
    "        for cond in graph[matId][edge].keys():\n",
    "            outerchange = False\n",
    "            if innerchange: #found a complete transition, break inner loop\n",
    "                break\n",
    "            currentparticlevalue = conditionmap[cond]['data'][particleIndex]\n",
    "            crossover = graph[matId][edge][cond]\n",
    "            if ((matId > edge) and (currentparticlevalue > crossover)):\n",
    "                innerchange = False # continue on, \n",
    "                if graph[matId][edge].keys()[-1] == cond:\n",
    "                    outerchange = True\n",
    "                    innerchange = edge\n",
    "                    break\n",
    "            elif ((matId < edge) and (currentparticlevalue < crossover)):\n",
    "                innerchange = False\n",
    "                if graph[matId][edge].keys()[-1] == cond:\n",
    "                    outerchange = True\n",
    "                    innerchange = edge\n",
    "                    break\n",
    "            else:\n",
    "                #condition not met, break outer loop, go to next edge, outerchange should still be False\n",
    "                break\n",
    "    if type(innerchange) == int:\n",
    "        return innerchange"
   ]
  },
  {
   "cell_type": "code",
   "execution_count": 176,
   "metadata": {
    "collapsed": false
   },
   "outputs": [],
   "source": [
    "#Cleanse the swarm of its sins\n",
    "#For some Material Graphs, the graph may have to be treaversed more than once\n",
    "\n",
    "check = -1\n",
    "number_updated = 1\n",
    "\n",
    "while number_updated != 0:\n",
    "    number_updated = 0\n",
    "    for particleID in range(gSwarm.particleCoordinates.data.shape[0]):\n",
    "                check = update_swarm(DG, particleID)\n",
    "                if check > -1:\n",
    "                    number_updated += 1\n",
    "                    materialVariable.data[particleID] = check"
   ]
  },
  {
   "cell_type": "markdown",
   "metadata": {},
   "source": [
    "##Set the values for the masking swarms"
   ]
  },
  {
   "cell_type": "code",
   "execution_count": 177,
   "metadata": {
    "collapsed": false
   },
   "outputs": [],
   "source": [
    "#Setup up a masking Swarm variable for the integrations.\n",
    "#These should be rebuilt at same frequency as the metric calcualtions\n",
    "\n",
    "rockIntVar.data[:] = 0.\n",
    "notair = np.where(materialVariable.data != airIndex)\n",
    "rockIntVar.data[notair] = 1.\n",
    "\n",
    "airIntVar.data[:] = 0.\n",
    "notrock = np.where(materialVariable.data == airIndex)\n",
    "airIntVar.data[notrock] = 1.\n",
    "\n",
    "lithIntVar.data[:] = 0.\n",
    "islith = np.where((materialVariable.data == lithosphereIndex) | (materialVariable.data == crustIndex))\n",
    "lithIntVar.data[islith] = 1.\n"
   ]
  },
  {
   "cell_type": "markdown",
   "metadata": {
    "collapsed": false
   },
   "source": [
    "#Material properties\n"
   ]
  },
  {
   "cell_type": "code",
   "execution_count": 178,
   "metadata": {
    "collapsed": false
   },
   "outputs": [],
   "source": [
    "#Make variables required for plasticity\n",
    "\n",
    "# The yeilding of the upper slab is dependent on the strain rate.\n",
    "strainRate_2ndInvariant = fn.tensor.second_invariant( \n",
    "                            fn.tensor.symmetric( \n",
    "                            velocityField.fn_gradient ))\n",
    "\n",
    "\n",
    "coordinate = fn.input()\n",
    "depth = 1. - coordinate[1]\n",
    "depthField = uw.mesh.MeshVariable( mesh=mesh,   nodeDofCount=1 )\n",
    "depthField.data[:] = depth.evaluate(mesh)\n",
    "depthField.data[np.where(depthField.data[:] < 0.)[0]] = 0."
   ]
  },
  {
   "cell_type": "code",
   "execution_count": 179,
   "metadata": {
    "collapsed": false
   },
   "outputs": [],
   "source": [
    "##Basic mantle viscosity Functions\n",
    "viscosityl2 = newvisc*fn.math.exp((math.log(ndp.etaT)*-1*temperatureField) + (depthField*math.log(ndp.etaY)))\n",
    "viscosityFn1 = viscosityl2 #This one always gets passed to the first velcotity solve\n",
    "\n",
    "#Von Mises effective viscosity\n",
    "viscosityp = ndp.eta0 + ndp.cohesion/(strainRate_2ndInvariant/math.sqrt(0.5)) #extra factor to account for underworld second invariant form\n",
    "viscosityFn2 = 2./(1./viscosityl2 + 1./viscosityp)\n",
    "\n",
    "\n",
    "##Now setup rheolgy for models with crust rheology;\n",
    "\n",
    "viscreduct = 0.1\n",
    "crustviscosityp = viscreduct*ndp.eta0+ ((viscreduct*ndp.cohesion)/(strainRate_2ndInvariant/math.sqrt(0.5))) #extra factor to account for underworld second invariant form\n",
    "crustviscosityFn2 = 2./(1./viscosityl2 + 1./crustviscosityp)"
   ]
  },
  {
   "cell_type": "markdown",
   "metadata": {},
   "source": [
    "Set up simulation parameters and functions\n",
    "====\n",
    "\n",
    "Here the functions for density, viscosity etc. are set. These functions and/or values are preserved for the entire simulation time. "
   ]
  },
  {
   "cell_type": "code",
   "execution_count": 180,
   "metadata": {
    "collapsed": false
   },
   "outputs": [],
   "source": [
    "# Here we set a viscosity value of '1.' for both materials\n",
    "viscosityMapFn = fn.branching.map( fn_key = materialVariable,\n",
    "                         mapping = {airIndex:AIRVISCOSITY, \n",
    "                                    lithosphereIndex:viscosityFn2, \n",
    "                                    crustIndex:crustviscosityFn2,\n",
    "                                    mantleIndex:viscosityFn2} )\n",
    "\n",
    "densityMapFn = fn.branching.map( fn_key = materialVariable,\n",
    "                         mapping = {airIndex:AIRDENSITY, \n",
    "                                    lithosphereIndex:ndp.RA*temperatureField, \n",
    "                                    crustIndex:ndp.RA*temperatureField, \n",
    "                                    mantleIndex:ndp.RA*temperatureField} )\n",
    "\n",
    "# Define our gravity using a python tuple (this will be automatically converted to a function)\n",
    "gravity = ( 0.0, 1.0 )\n",
    "\n",
    "buoyancyFn = gravity*densityMapFn"
   ]
  },
  {
   "cell_type": "markdown",
   "metadata": {},
   "source": [
    "Build the Stokes system, solvers, advection-diffusion\n",
    "------\n",
    "\n",
    "Setup linear Stokes system to get the initial velocity."
   ]
  },
  {
   "cell_type": "code",
   "execution_count": 181,
   "metadata": {
    "collapsed": false
   },
   "outputs": [],
   "source": [
    "#We first set up a l\n",
    "stokesPIC = uw.systems.Stokes(velocityField=velocityField, \n",
    "                              pressureField=pressureField,\n",
    "                              conditions=[freeslipBC,],\n",
    "#                              viscosityFn=viscosityFn1, \n",
    "                              fn_viscosity=fn.exception.SafeMaths(viscosityFn1), \n",
    "                              fn_bodyforce=buoyancyFn)"
   ]
  },
  {
   "cell_type": "markdown",
   "metadata": {},
   "source": [
    "We do one solve with linear viscosity to get the initial strain rate invariant. This solve step also calculates a 'guess' of the the velocity field based on the linear system, which is used later in the non-linear solver."
   ]
  },
  {
   "cell_type": "code",
   "execution_count": 184,
   "metadata": {
    "collapsed": false
   },
   "outputs": [],
   "source": [
    "if not checkpointLoad:\n",
    "    solver = uw.systems.Solver(stokesPIC)\n",
    "    solver.solve() "
   ]
  },
  {
   "cell_type": "code",
   "execution_count": 185,
   "metadata": {
    "collapsed": false
   },
   "outputs": [],
   "source": [
    "#Switch particle escape on, this will also trigger the inflow population control \n",
    "gSwarm.particleEscape = True"
   ]
  },
  {
   "cell_type": "code",
   "execution_count": 186,
   "metadata": {
    "collapsed": false
   },
   "outputs": [],
   "source": [
    "# Setup the Stokes system again, now with linear or nonlinear visocity viscosity.\n",
    "\n",
    "if PIC_integration:\n",
    "    swarm = gSwarm\n",
    "else:\n",
    "    swarm = False\n",
    "\n",
    "stokesPIC2 = uw.systems.Stokes(velocityField=velocityField, \n",
    "                              pressureField=pressureField,\n",
    "                              conditions=[freeslipBC,],\n",
    "                              fn_viscosity=fn.exception.SafeMaths(viscosityMapFn), \n",
    "                              fn_bodyforce=buoyancyFn, swarm = swarm)"
   ]
  },
  {
   "cell_type": "markdown",
   "metadata": {
    "collapsed": false
   },
   "source": [
    "solver = uw.systems.Solver(stokesPIC2) # altered from PIC2\n",
    "\n",
    "\n",
    "\n",
    "#Set more advanced solver option\n",
    "solver.options.main.Q22_pc_type='uw'\n",
    "solver.options.A11.ksp_rtol=1e-5\n",
    "solver.options.scr.ksp_rtol=1e-5\n",
    "#solver.options.A11.ksp_type=\"cg\"\n",
    "solver.options.scr.use_previous_guess = True\n",
    "solver.options.scr.ksp_set_min_it_converge = 1\n",
    "\n",
    "solver.options.mg.levels = 3\n",
    "\n",
    "#solver.options.A11.ksp_monitor=''\n",
    "#solver.options.A11.ksp_converged_reason='"
   ]
  },
  {
   "cell_type": "code",
   "execution_count": 187,
   "metadata": {
    "collapsed": true
   },
   "outputs": [],
   "source": [
    "solver = uw.systems.Solver(stokesPIC2) # altered from PIC2\n",
    "\n",
    "#Set more advanced solver option\n",
    "solver.options.main.Q22_pc_type='gkgdiag'\n",
    "#solver.options.A11.ksp_rtol=1e-2\n",
    "#solver.options.scr.ksp_rtol=1e-3\n",
    "#solver.options.A11.ksp_type=\"cg\"\n",
    "solver.options.scr.use_previous_guess = True\n",
    "#solver.options.scr.ksp_set_min_it_converge = 1\n",
    "#solver.options.main.penalty=10.0\n",
    "\n",
    "#solver.options.mg.levels = 3\n",
    "#solver.options.main.remove_constant_pressure_null_space=True\n",
    "#solver.options.main.penalty = 1e2\n",
    "\n",
    "solver.options.A11.ksp_rtol=1e-4\n",
    "solver.options.scr.ksp_rtol=1e-4\n",
    "\n",
    "solver.options.A11.ksp_monitor=''\n",
    "solver.options.A11.ksp_converged_reason=''"
   ]
  },
  {
   "cell_type": "markdown",
   "metadata": {},
   "source": [
    "Solve for initial pressure and velocity using a quick non-linear Picard iteration\n"
   ]
  },
  {
   "cell_type": "code",
   "execution_count": 188,
   "metadata": {
    "collapsed": false
   },
   "outputs": [],
   "source": [
    "solver.solve(nonLinearIterate=True)"
   ]
  },
  {
   "cell_type": "markdown",
   "metadata": {},
   "source": [
    "Create an advective-diffusive system\n",
    "=====\n",
    "\n",
    "Setup the system in underworld by flagging the temperature and velocity field variables."
   ]
  },
  {
   "cell_type": "code",
   "execution_count": null,
   "metadata": {
    "collapsed": false
   },
   "outputs": [],
   "source": []
  },
  {
   "cell_type": "code",
   "execution_count": 189,
   "metadata": {
    "collapsed": false
   },
   "outputs": [],
   "source": [
    "#Create advdiff system\n",
    "\n",
    "\n",
    "\n",
    "advDiff = uw.systems.AdvectionDiffusion( phiField       = temperatureField, \n",
    "                                         phiDotField    = temperatureDotField, \n",
    "                                         velocityField  = velocityField, \n",
    "                                         fn_diffusivity = 1.0, \n",
    "                                         conditions     = [tempBC,] )\n",
    "\n",
    "\n",
    "\n",
    "advector = uw.systems.SwarmAdvector( swarm         = gSwarm, \n",
    "                                     velocityField = velocityField, \n",
    "                                     order         = 1)"
   ]
  },
  {
   "cell_type": "markdown",
   "metadata": {},
   "source": [
    "Metrics for benchmark\n",
    "=====\n",
    "\n",
    "Define functions to be used in the time loop. For cases 1-4, participants were asked to report a number of diagnostic quantities to be measured after reaching steady state:\n",
    "\n",
    "* Average temp... $$  \\langle T \\rangle  = \\int^1_0 \\int^1_0 T \\, dxdy $$\n",
    "* Top and bottom Nusselt numbers... $$N = \\int^1_0 \\frac{\\partial T}{\\partial y} \\rvert_{y=0/1} \\, dx$$\n",
    "* RMS velocity over the whole domain, surface and max velocity at surface\n",
    "* max and min viscosity over the whole domain\n",
    "* average rate of work done against gravity...$$\\langle W \\rangle = \\int^1_0 \\int^1_0 T u_y \\, dx dy$$\n",
    "* and the average rate of viscous dissipation...$$\\langle \\Phi \\rangle = \\int^1_0 \\int^1_0 \\tau_{ij} \\dot \\epsilon_{ij} \\, dx dy$$\n",
    "\n",
    "* In steady state, if thermal energy is accurately conserved, the difference between $\\langle W \\rangle$ and $\\langle \\Phi \\rangle / Ra$ must vanish, so also reported is the percentage error: \n",
    "\n",
    "$$ \\delta = \\frac{\\lvert \\langle W \\rangle - \\frac{\\langle \\Phi \\rangle}{Ra} \\rvert}{max \\left(  \\langle W \\rangle,  \\frac{\\langle \\Phi \\rangle}{Ra}\\right)} \\times 100% $$"
   ]
  },
  {
   "cell_type": "code",
   "execution_count": 190,
   "metadata": {
    "collapsed": false
   },
   "outputs": [],
   "source": [
    "#Setup some Integrals. We want these outside the main loop...\n",
    "tempVariable = gSwarm.add_variable( dataType=\"double\", count=1 )\n",
    "tempVariable.data[:] = temperatureField.evaluate(gSwarm)[:]\n",
    "tempint = uw.utils.Integral((tempVariable*rockIntVar), mesh)\n",
    "\n",
    "\n",
    "areaint = uw.utils.Integral((1.*rockIntVar),mesh)\n",
    "\n",
    "v2int = uw.utils.Integral(fn.math.dot(velocityField,velocityField)*rockIntVar, mesh)\n",
    "\n",
    "\n",
    "dwint = uw.utils.Integral(temperatureField*velocityField[1]*rockIntVar, mesh)\n",
    "\n",
    "\n",
    "sinner = fn.math.dot(strainRate_2ndInvariant,strainRate_2ndInvariant)\n",
    "vdint = uw.utils.Integral((4.*viscosityMapFn*sinner)*rockIntVar, mesh)\n",
    "vdintair = uw.utils.Integral((4.*viscosityMapFn*sinner)*airIntVar, mesh)\n",
    "vdintlith = uw.utils.Integral((4.*viscosityMapFn*sinner)*lithIntVar, mesh)"
   ]
  },
  {
   "cell_type": "code",
   "execution_count": 191,
   "metadata": {
    "collapsed": false
   },
   "outputs": [
    {
     "name": "stdout",
     "output_type": "stream",
     "text": [
      "2400.86705819\n",
      "2380.11710952\n",
      "4710356.47604\n",
      "4441.63644563\n",
      "100.824884263\n",
      "80.0749355883\n"
     ]
    }
   ],
   "source": [
    "#These should differ if the the map function assigns different properties to bulk mantle\n",
    "\n",
    "print(uw.utils.Integral((4.*viscosityFn2*sinner)*rockIntVar, mesh).evaluate()[0])\n",
    "print(uw.utils.Integral((4.*viscosityMapFn*sinner)*rockIntVar, mesh).evaluate()[0])\n",
    "\n",
    "print(uw.utils.Integral((4.*viscosityFn2*sinner)*airIntVar, mesh).evaluate()[0])\n",
    "print(uw.utils.Integral((4.*viscosityMapFn*sinner)*airIntVar, mesh).evaluate()[0])\n",
    "\n",
    "print(uw.utils.Integral((4.*viscosityFn2*sinner)*lithIntVar, mesh).evaluate()[0])\n",
    "print(uw.utils.Integral((4.*viscosityMapFn*sinner)*lithIntVar, mesh).evaluate()[0])"
   ]
  },
  {
   "cell_type": "markdown",
   "metadata": {},
   "source": [
    "\\begin{equation}  \\langle T \\rangle  = \\int^1_0 \\int^1_0 T \\, dxdy \\end{equation}"
   ]
  },
  {
   "cell_type": "code",
   "execution_count": 192,
   "metadata": {
    "collapsed": false
   },
   "outputs": [],
   "source": [
    "def avg_temp():\n",
    "    return tempint.evaluate()[0]/areaint.evaluate()[0]\n",
    "\n",
    "#This one gets cleaned up when Surface integrals are available\n",
    "def nusselt(tempfield, swarm, dx):\n",
    "    #Update the swarm variable\n",
    "    tempgrad = tempfield.fn_gradient\n",
    "    valcheck = tempgrad[1].evaluate(swarm)\n",
    "    if valcheck is None:\n",
    "        vals = np.array(0, dtype='float64')\n",
    "    else:\n",
    "        vals = valcheck.sum()*dx\n",
    "    return vals\n",
    "\n",
    "def rms():\n",
    "    return math.sqrt(v2int.evaluate()[0]/areaint.evaluate()[0])\n",
    "\n",
    "#This one gets cleaned up when Surface integrals are available\n",
    "def rms_surf(swarm, dx):\n",
    "    rmsmaxfn = fn.math.dot(velocityField,velocityField)\n",
    "    rmscheck = rmsmaxfn.evaluate(swarm)\n",
    "    if rmscheck is None:\n",
    "        #print \"watch out\"\n",
    "        rmsvals = np.array(0, dtype='float64')\n",
    "    else:\n",
    "        rmsvals = np.sqrt(rmscheck.sum()*dx)\n",
    "        #print \"okay\"\n",
    "    return rmsvals\n",
    "\n",
    "def max_vx_surf(velfield, swarm):\n",
    "    check = velfield[0].evaluate(swarm)\n",
    "    if check is None:\n",
    "        return 0.\n",
    "    else:\n",
    "        return check.max()\n",
    "\n",
    "\n",
    "#def max_vy_surf(velfield, swarm):\n",
    "#    surfvelxmaxfn = fn.view.min_max(velfield[1])\n",
    "#    surfvelxmaxfn.evaluate(swarm)\n",
    "#    return surfvelxmaxfn.max_global()\n",
    "\n",
    "def gravwork(workfn):\n",
    "    return workfn.evaluate()[0]\n",
    "\n",
    "def viscdis(vdissfn):\n",
    "    return vdissfn.evaluate()[0]\n",
    "\n",
    "def visc_extr(viscfn):\n",
    "    vuviscfn = fn.view.min_max(viscfn)\n",
    "    vuviscfn.evaluate(gSwarm)\n",
    "    return vuviscfn.max_global(), vuviscfn.min_global()"
   ]
  },
  {
   "cell_type": "code",
   "execution_count": 193,
   "metadata": {
    "collapsed": false
   },
   "outputs": [],
   "source": [
    "#Fields for saving data / fields\n",
    "\n",
    "rmsField = uw.mesh.MeshVariable( mesh=mesh,   nodeDofCount=1)\n",
    "rmsfn = fn.math.sqrt(fn.math.dot(velocityField,velocityField))\n",
    "rmsdata = rmsfn.evaluate(mesh)\n",
    "rmsField.data[:] = rmsdata \n",
    "\n",
    "viscField = uw.mesh.MeshVariable( mesh=mesh,   nodeDofCount=1)\n",
    "viscdata = viscosityFn2.evaluate(mesh)\n",
    "viscField.data[:] = viscdata\n",
    "\n",
    "\n",
    "strainrateField = uw.mesh.MeshVariable( mesh=mesh,   nodeDofCount=1)\n",
    "srtdata = fn.tensor.second_invariant( \n",
    "                    fn.tensor.symmetric( \n",
    "                        velocityField.fn_gradient ))\n",
    "rostfield = srtdata.evaluate(mesh)\n",
    "strainrateField.data[:] = rostfield\n",
    "\n",
    "viscVariable = gSwarm.add_variable( dataType=\"float\", count=1 )\n",
    "viscVariable.data[:] = viscosityMapFn.evaluate(gSwarm)\n"
   ]
  },
  {
   "cell_type": "code",
   "execution_count": 194,
   "metadata": {
    "collapsed": false
   },
   "outputs": [],
   "source": [
    "#Images\n",
    "figEta = glucifer.Figure()\n",
    "figEta.append( glucifer.objects.Points(gSwarm,viscVariable, logScale=True))\n",
    "\n",
    "\n",
    "figMat = glucifer.Figure()\n",
    "figMat.append( glucifer.objects.Points(gSwarm,materialVariable, colours='brown white blue red'))\n",
    "figMat.append( glucifer.objects.Mesh(mesh))\n",
    "\n",
    "\n",
    "figStrainRate = glucifer.Figure()\n",
    "figStrainRate.append( glucifer.objects.Surface(mesh, strainRate_2ndInvariant, logScale=True))\n",
    "\n",
    "\n",
    "figVelocityMag = glucifer.Figure()\n",
    "figVelocityMag.append( glucifer.objects.Surface(mesh, fn.math.dot(velocityField,velocityField))\n",
    ")\n",
    "figTemp = glucifer.Figure()\n",
    "figTemp.append( glucifer.objects.Surface(mesh, temperatureField))\n",
    "\n",
    "\n",
    "\n",
    "#Pack some stuff into a database as well\n",
    "figDb = glucifer.Figure()\n",
    "figDb.append( glucifer.objects.Points(gSwarm,viscVariable, logScale=True, colours='brown white blue'))\n",
    "figDb.append( glucifer.objects.Points(gSwarm,materialVariable, colours='brown white blue red'))\n",
    "figDb.append( glucifer.objects.Mesh(mesh))\n",
    "figDb.append( glucifer.objects.VectorArrows(mesh,velocityField, arrowHead=0.2, scaling=0.01))\n",
    "figDb.append( glucifer.objects.Surface(mesh, strainRate_2ndInvariant, logScale=True, colours='brown white blue'))\n",
    "figDb.append( glucifer.objects.Surface(mesh, temperatureField))\n",
    "                           "
   ]
  },
  {
   "cell_type": "code",
   "execution_count": 195,
   "metadata": {
    "collapsed": true
   },
   "outputs": [],
   "source": [
    "\n",
    "pics = uw.swarm.PICIntegrationSwarm(gSwarm)"
   ]
  },
  {
   "cell_type": "code",
   "execution_count": 196,
   "metadata": {
    "collapsed": false
   },
   "outputs": [],
   "source": [
    "def checkpoint1(step, checkpointPath,filename, filewrites):\n",
    "    path = checkpointPath + str(step) \n",
    "    os.mkdir(path)\n",
    "    ##Write and save the file, if not already a writing step\n",
    "    if not step % filewrites == 0:\n",
    "        filename.write((13*'%-15s ' + '\\n') % (realtime, Viscdis, float(Nu0glob), float(Nu1glob), Avg_temp, \n",
    "                                              Rms,Rmsurfglob,Max_vx_surf,Gravwork, etamax, etamin, Viscdisair, Viscdislith))\n",
    "    filename.close()\n",
    "    shutil.copyfile(os.path.join(outputPath, outputFile), os.path.join(path, outputFile))\n",
    "\n",
    "\n",
    "def checkpoint2(step, checkpointPath, swarm, filename, varlist = [materialVariable], varnames = ['materialVariable']):\n",
    "    path = checkpointPath + str(step) \n",
    "    velfile = \"velocityField\" + \".hdf5\"\n",
    "    tempfile = \"temperatureField\" + \".hdf5\"\n",
    "    pressfile = \"pressureField\" + \".hdf5\"\n",
    "    velocityField.save(os.path.join(path, velfile))\n",
    "    temperatureField.save(os.path.join(path, tempfile))\n",
    "    pressureField.save(os.path.join(path, pressfile))\n",
    "    swarm.save(os.path.join(path, \"swarm.h5\") ) \n",
    "    for ix in range(len(varlist)):\n",
    "        varb = varlist[ix]\n",
    "        varb.save(os.path.join(path,varnames[ix] + \".h5\"))\n",
    "        \n",
    "    "
   ]
  },
  {
   "cell_type": "code",
   "execution_count": 197,
   "metadata": {
    "collapsed": false
   },
   "outputs": [],
   "source": [
    "###########\n",
    "#Open file for writing metrics\n",
    "###########\n",
    "\n",
    "if checkpointLoad:\n",
    "    if uw.rank() == 0:\n",
    "        shutil.copyfile(os.path.join(checkpointLoadDir, outputFile), outputPath+outputFile)\n",
    "    comm.Barrier()\n",
    "    #os.rename(os.path.join(checkpointLoadDir, outputFile), outputPath+outputFile)\n",
    "    f_o = open(os.path.join(outputPath, outputFile), 'a')\n",
    "    prevdata = np.genfromtxt(os.path.join(outputPath, outputFile), skip_header=0, skip_footer=0)\n",
    "    realtime = prevdata[prevdata.shape[0]-1, 0]\n",
    "    step = int(checkpointLoadDir.split('/')[-1])\n",
    "    timevals = [0.]\n",
    "else:\n",
    "    f_o = open(outputPath+outputFile, 'w')\n",
    "    realtime = 0.\n",
    "    step = 0\n",
    "    timevals = [0.]"
   ]
  },
  {
   "cell_type": "markdown",
   "metadata": {},
   "source": [
    "Main simulation loop\n",
    "=======\n",
    "\n",
    "The main time stepping loop begins here. Before this the time and timestep are initialised to zero and the output statistics arrays are set up. Also the frequency of outputting basic statistics to the screen is set in steps_output.\n"
   ]
  },
  {
   "cell_type": "code",
   "execution_count": 55,
   "metadata": {
    "collapsed": false
   },
   "outputs": [
    {
     "name": "stdout",
     "output_type": "stream",
     "text": [
      "0\n",
      "1\n",
      "2\n",
      "3\n",
      "4\n",
      "5\n",
      "6\n",
      "7\n",
      "8\n",
      "9\n",
      "10\n",
      "11\n",
      "12\n",
      "13\n",
      "14\n",
      "15\n",
      "16\n",
      "17\n",
      "18\n",
      "19\n",
      "20\n",
      "21\n",
      "22\n",
      "23\n",
      "24\n"
     ]
    }
   ],
   "source": [
    "# initialise timer for computation\n",
    "startMain = time.clock()\n",
    "# Perform steps\n",
    "while realtime < 0.05:\n",
    "#while step < 1:\n",
    "    #Enter non-linear loop\n",
    "    print step\n",
    "    solver.solve(nonLinearIterate=True)\n",
    "    dt = advDiff.get_max_dt()\n",
    "    if step == 0:\n",
    "        dt = 0.\n",
    "    #start = time.clock()\n",
    "    advDiff.integrate(dt)\n",
    "    #machine_time = (time.clock()-start)\n",
    "    #print(\"total advDiff time is: \" + str(machine_time))\n",
    "    # Advect swarm using this timestep size\n",
    "    #start = time.clock()\n",
    "    advector.integrate(dt)\n",
    "    #machine_time = (time.clock()-start)\n",
    "    #print(\"total advector time is: \" + str(machine_time))\n",
    "    # Increment\n",
    "    realtime += dt\n",
    "    step += 1\n",
    "    timevals.append(realtime)\n",
    "    \n",
    "    ################\n",
    "    #Update temperature field in the air region\n",
    "    ################\n",
    "    if (step % sticky_air_temp == 0):\n",
    "        for index, coord in enumerate(mesh.data):\n",
    "            if coord[1] >= 1.:\n",
    "                temperatureField.data[index] = 0.\n",
    " \n",
    "    ################\n",
    "    #Particle update\n",
    "    ###############\n",
    "    if (step % swarm_update == 0) or (step % metric_output == 0): #These updates should be done before any metric output\n",
    "        #These swarm variables get updated first, as they are used to determine material changes\n",
    "        particledepths = 1. - gSwarm.particleCoordinates.data[:,1]\n",
    "        particletemps = temperatureField.evaluate(gSwarm)[:,0]\n",
    "        conditionmap['depthcondition']['data'] = particledepths\n",
    "        conditionmap['avgtempcondition']['data'] = particletemps\n",
    "        ################\n",
    "        number_updated = 0\n",
    "        for particleID in range(gSwarm.particleCoordinates.data.shape[0]):\n",
    "            check = update_swarm(DG, particleID)\n",
    "            if check > -1:\n",
    "                number_updated += 1\n",
    "                #if check == 0:\n",
    "                #    print \"from \" + str(materialVariable.data[particleID]) + \" to \" + str(check)\n",
    "                materialVariable.data[particleID] = check\n",
    "            else:\n",
    "                pass\n",
    "        #Also update those integration swarms\n",
    "        rockIntVar.data[:] = 0.\n",
    "        notair = np.where(materialVariable.data != airIndex)\n",
    "        rockIntVar.data[notair] = 1.\n",
    "        airIntVar.data[:] = 0.\n",
    "        notrock = np.where(materialVariable.data == airIndex)\n",
    "        airIntVar.data[notrock] = 1.\n",
    "        lithIntVar.data[:] = 0.\n",
    "        islith = np.where((materialVariable.data == lithosphereIndex) | (materialVariable.data == crustIndex))\n",
    "        lithIntVar.data[islith] = 1.\n",
    "\n",
    "    ################            \n",
    "    # Calculate the Metrics, only on 1 of the processors:\n",
    "    ################\n",
    "    if (step % metric_output == 0):\n",
    "        ###############\n",
    "        #Swarm - based Metrics\n",
    "        ###############\n",
    "        tempVariable.data[:] = temperatureField.evaluate(gSwarm)[:]\n",
    "        Avg_temp = avg_temp()\n",
    "        Rms = rms()\n",
    "        Gravwork = gravwork(dwint)\n",
    "        Viscdis = viscdis(vdint)\n",
    "        Viscdisair = viscdis(vdintair)\n",
    "        Viscdislith = viscdis(vdintlith)\n",
    "        etamax, etamin = visc_extr(viscosityMapFn)\n",
    "        #These are the ones that need mpi4py treatment\n",
    "        Nu0loc = nusselt(temperatureField, baseintswarm, dx)\n",
    "        Nu1loc = nusselt(temperatureField, surfintswarm, dx)\n",
    "        Rmsurfloc = rms_surf(surfintswarm, dx)\n",
    "        Max_vx_surfloc = np.array(max_vx_surf(velocityField, surfintswarm),'d') #This float needed to be an array to play with mpi4py\n",
    "        #Setup the global output arrays\n",
    "        dTp = Nu0loc.dtype\n",
    "        Nu0glob = np.array(0, dtype=dTp)\n",
    "        dTp = Nu1loc.dtype\n",
    "        Nu1glob = np.array(0, dtype=dTp)\n",
    "        dTp = Rmsurfloc.dtype\n",
    "        Rmsurfglob = np.array(0, dtype=dTp)\n",
    "        dTp = Max_vx_surfloc.dtype\n",
    "        Max_vx_surfglob = np.array(0.0,dtype=dTp)   \n",
    "        #Do global operation ... sum, or max\n",
    "        comm.Allreduce(Nu0loc, Nu0glob, op=MPI.SUM)\n",
    "        comm.Allreduce(Nu1loc, Nu1glob, op=MPI.SUM)\n",
    "        comm.Allreduce(Rmsurfloc, Rmsurfglob, op=MPI.SUM)\n",
    "        comm.Allreduce([Max_vx_surfloc, MPI.DOUBLE],[Max_vx_surfglob, MPI.DOUBLE],op=MPI.MAX)      \n",
    "        # output to summary text file\n",
    "        if uw.rank()==0:\n",
    "            f_o.write((13*'%-15s ' + '\\n') % (realtime, Viscdis, float(Nu0glob), float(Nu1glob), Avg_temp, \n",
    "                                              Rms,Rmsurfglob,Max_vx_surfglob,Gravwork, etamax, etamin, Viscdisair, Viscdislith))\n",
    "        #test = max_vx_surf(velocityField, surfintswarm)    \n",
    "        #if uw.rank()==0:\n",
    "         #   print(Rmsurfglob,MRms_surf, Max_vx_surfglob, MMax_vx_surf, etamax, Metamax)\n",
    "        #print(Rmsurfloc, test)\n",
    "    ################\n",
    "    #Gldb output\n",
    "    ################ \n",
    "    if (step % gldbs_output == 0) & (writeFiles == True):\n",
    "        #Rebuild any necessary swarm variables\n",
    "        viscVariable.data[:] = viscosityMapFn.evaluate(gSwarm)\n",
    "        #Write gldbs\n",
    "        fnamedb = \"dbFig\" + \"_\" + str(ModIt) + \"_\" + str(step) + \".gldb\"\n",
    "        fullpath = os.path.join(outputPath + \"gldbs/\" + fnamedb)\n",
    "        figDb.show()\n",
    "        figDb.save_database(fullpath)\n",
    "    ################\n",
    "    #Also repopulate entire swarm periodically\n",
    "    ################\n",
    "    if step % swarm_repop == 0:\n",
    "        pics.repopulate()\n",
    "    ################\n",
    "    #Checkpoint\n",
    "    ################\n",
    "    if step % checkpoint_every == 0:\n",
    "        if uw.rank() == 0:\n",
    "            checkpoint1(step, checkpointPath,f_o, metric_output)           \n",
    "        checkpoint2(step, checkpointPath, gSwarm, f_o, varlist = varlist, varnames = varnames)\n",
    "        f_o = open(os.path.join(outputPath, outputFile), 'a') #is this line supposed to be here?\n",
    "     \n",
    "    \n",
    "f_o.close()\n",
    "#print 'step =',step, '; dt =', dt, '; CPU time =', time.clock()-startMain"
   ]
  },
  {
   "cell_type": "code",
   "execution_count": 61,
   "metadata": {
    "collapsed": false
   },
   "outputs": [],
   "source": [
    "#figEta = glucifer.Figure(figsize=(1024,384))\n",
    "#figEta.append( glucifer.objects.Points(gSwarm,viscVariable, logScale=True))\n",
    "#figEta.save_database('test.gldb')\n",
    "#figEta.show()\n",
    "\n"
   ]
  },
  {
   "cell_type": "code",
   "execution_count": 142,
   "metadata": {
    "collapsed": false
   },
   "outputs": [
    {
     "data": {
      "text/html": [
       "<img src='data:image/png;base64,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'>"
      ],
      "text/plain": [
       "<IPython.core.display.HTML object>"
      ]
     },
     "execution_count": 142,
     "metadata": {},
     "output_type": "execute_result"
    }
   ],
   "source": [
    "\n",
    "#figMat = glucifer.Figure()\n",
    "#figMat.append( glucifer.objects.Points(gSwarm,materialVariable, colours='brown white blue red'))\n",
    "#figMat.append( glucifer.objects.Points(surfintswarm,materialVariable, pointSize= 5.))\n",
    "#figMat.append( glucifer.objects.Mesh(mesh))\n",
    "#figMat.save_database('test.gldb')\n",
    "#figMat.show()\n",
    "\n",
    " "
   ]
  },
  {
   "cell_type": "code",
   "execution_count": 61,
   "metadata": {
    "collapsed": false
   },
   "outputs": [
    {
     "data": {
      "text/plain": [
       "0.5257324838925858"
      ]
     },
     "execution_count": 61,
     "metadata": {},
     "output_type": "execute_result"
    }
   ],
   "source": [
    "#avg_temp()"
   ]
  },
  {
   "cell_type": "code",
   "execution_count": null,
   "metadata": {
    "collapsed": false
   },
   "outputs": [],
   "source": []
  },
  {
   "cell_type": "code",
   "execution_count": 63,
   "metadata": {
    "collapsed": false
   },
   "outputs": [
    {
     "data": {
      "text/html": [
       "<img src='data:image/png;base64,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'>"
      ],
      "text/plain": [
       "<IPython.core.display.HTML object>"
      ]
     },
     "execution_count": 63,
     "metadata": {},
     "output_type": "execute_result"
    }
   ],
   "source": [
    "#figStrainRate = glucifer.Figure()\n",
    "#figStrainRate.append( glucifer.objects.Surface(mesh, strainRate_2ndInvariant, logScale=True))\n",
    "#figStrainRate.show()\n",
    "#figStrainRate.save_database('test.gldb')\n"
   ]
  },
  {
   "cell_type": "code",
   "execution_count": null,
   "metadata": {
    "collapsed": false
   },
   "outputs": [],
   "source": [
    "machine_time = (time.clock()-startMain)\n",
    "print(\"total time is: \" + str(machine_time))"
   ]
  },
  {
   "cell_type": "code",
   "execution_count": 119,
   "metadata": {
    "collapsed": false
   },
   "outputs": [
    {
     "data": {
      "text/plain": [
       "75.121393265864967"
      ]
     },
     "execution_count": 119,
     "metadata": {},
     "output_type": "execute_result"
    }
   ],
   "source": [
    "velocityField.evaluate(IWalls)[:,0].max()"
   ]
  },
  {
   "cell_type": "code",
   "execution_count": 120,
   "metadata": {
    "collapsed": false
   },
   "outputs": [
    {
     "data": {
      "text/plain": [
       "0.0"
      ]
     },
     "execution_count": 120,
     "metadata": {},
     "output_type": "execute_result"
    }
   ],
   "source": [
    "velocityField.evaluate(TWalls)[:,0].max()"
   ]
  },
  {
   "cell_type": "code",
   "execution_count": null,
   "metadata": {
    "collapsed": true
   },
   "outputs": [],
   "source": []
  }
 ],
 "metadata": {
  "kernelspec": {
   "display_name": "Python 2",
   "language": "python",
   "name": "python2"
  },
  "language_info": {
   "codemirror_mode": {
    "name": "ipython",
    "version": 2
   },
   "file_extension": ".py",
   "mimetype": "text/x-python",
   "name": "python",
   "nbconvert_exporter": "python",
   "pygments_lexer": "ipython2",
   "version": "2.7.11"
  }
 },
 "nbformat": 4,
 "nbformat_minor": 0
}
