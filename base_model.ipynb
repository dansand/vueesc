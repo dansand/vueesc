{
 "cells": [
  {
   "cell_type": "markdown",
   "metadata": {
    "collapsed": true
   },
   "source": [
    "\n",
    "Viscoplastic thermal convection in a 2-D square box\n",
    "=======\n",
    "\n",
    "Benchmarks from Tosi et al. 2015\n",
    "--------\n",
    "\n"
   ]
  },
  {
   "cell_type": "markdown",
   "metadata": {
    "collapsed": true
   },
   "source": [
    "This notebook generates models from the <a name=\"ref-1\"/>[(Tosi et al., 2015)](#cite-tosi2015community) in Underworld2. The Underworld2 results are compared to the model run on Fenics. Input files for the Fenics models were provided by Petra Maierova.\n",
    "\n",
    "This example uses the RT PIC solver with classic and nearest neighbour\n",
    "\n",
    "\n",
    "References\n",
    "====\n",
    "\n",
    "<a name=\"cite-tosi2015community\"/><sup>[^](#ref-1) </sup>Tosi, Nicola and Stein, Claudia and Noack, Lena and H&uuml;ttig, Christian and Maierov&aacute;, Petra and Samuel, Henri and Davies, DR and Wilson, CR and Kramer, SC and Thieulot, Cedric and others. 2015. _A community benchmark for viscoplastic thermal convection in a 2-D square box_.\n",
    "\n"
   ]
  },
  {
   "cell_type": "code",
   "execution_count": 370,
   "metadata": {
    "collapsed": false
   },
   "outputs": [],
   "source": [
    "#pwd"
   ]
  },
  {
   "cell_type": "markdown",
   "metadata": {},
   "source": [
    "Load python functions needed for underworld. Some additional python functions from os, math and numpy used later on."
   ]
  },
  {
   "cell_type": "code",
   "execution_count": 371,
   "metadata": {
    "collapsed": false
   },
   "outputs": [],
   "source": [
    "import underworld as uw\n",
    "import math\n",
    "from underworld import function as fn\n",
    "import glucifer\n",
    "#import matplotlib.pyplot as pyplot\n",
    "import time\n",
    "import numpy as np\n",
    "import os\n",
    "import sys\n",
    "\n",
    "from mpi4py import MPI\n",
    "comm = MPI.COMM_WORLD\n",
    "rank = comm.Get_rank()"
   ]
  },
  {
   "cell_type": "code",
   "execution_count": 372,
   "metadata": {
    "collapsed": false
   },
   "outputs": [],
   "source": [
    "############\n",
    "#Need to manually set these two\n",
    "############\n",
    "Model = \"T\"\n",
    "ModNum = 4\n",
    "\n",
    "if len(sys.argv) == 1:\n",
    "    ModIt = \"Base\"\n",
    "elif sys.argv[1] == '-f':\n",
    "    ModIt = \"Base\"\n",
    "else:\n",
    "    ModIt = str(sys.argv[1])\n"
   ]
  },
  {
   "cell_type": "code",
   "execution_count": null,
   "metadata": {
    "collapsed": true
   },
   "outputs": [],
   "source": []
  },
  {
   "cell_type": "markdown",
   "metadata": {},
   "source": [
    "Set physical constants and parameters, including the Rayleigh number (*RA*). "
   ]
  },
  {
   "cell_type": "code",
   "execution_count": 373,
   "metadata": {
    "collapsed": true
   },
   "outputs": [],
   "source": [
    "#Do you want to write hdf5 files - Temp, RMS, viscosity, stress?\n",
    "writeFiles = True\n",
    "loadTemp = False\n",
    "refineMesh = False"
   ]
  },
  {
   "cell_type": "code",
   "execution_count": 374,
   "metadata": {
    "collapsed": false
   },
   "outputs": [],
   "source": [
    "ETA_T = 1e5\n",
    "newvisc= math.exp(math.log(ETA_T)*0.53)\n"
   ]
  },
  {
   "cell_type": "code",
   "execution_count": 375,
   "metadata": {
    "collapsed": false
   },
   "outputs": [
    {
     "data": {
      "text/plain": [
       "446.6835921509633"
      ]
     },
     "execution_count": 375,
     "metadata": {},
     "output_type": "execute_result"
    }
   ],
   "source": [
    "newvisc"
   ]
  },
  {
   "cell_type": "code",
   "execution_count": 376,
   "metadata": {
    "collapsed": false
   },
   "outputs": [],
   "source": [
    "###########\n",
    "#Constants\n",
    "###########\n",
    "RA  = 1e2*newvisc       # Rayleigh number\n",
    "TS  = 0          # surface temperature\n",
    "TB  = 1          # bottom boundary temperature (melting point)\n",
    "ETA_T = 1e5\n",
    "ETA_Y = 10\n",
    "ETA0 = 1e-3*newvisc\n",
    "RES = 40\n",
    "YSTRESS = 1.*newvisc\n",
    "D = 2890.\n",
    "\n",
    "MINX = -1.\n",
    "ALPHA = 11.\n",
    "\n",
    "stickyAir = False"
   ]
  },
  {
   "cell_type": "code",
   "execution_count": 377,
   "metadata": {
    "collapsed": false
   },
   "outputs": [],
   "source": [
    "\n",
    "    \n",
    "if MINX == 0.:\n",
    "    squareModel = True\n",
    "else: \n",
    "    squareModel = False\n"
   ]
  },
  {
   "cell_type": "code",
   "execution_count": 378,
   "metadata": {
    "collapsed": false
   },
   "outputs": [],
   "source": [
    "##########\n",
    "#variables, these can be defined with STDIN,\n",
    "##########\n",
    "#The == '-f': check is just to check if we're running a notebook - careful, haven't tested\n",
    "    \n",
    "#Watch the type assignemnt on sys.argv[1]\n",
    "\n",
    "DEFAULT = 128\n",
    "ModIt   = str(DEFAULT)\n",
    "    \n",
    "    \n",
    "if len(sys.argv) == 1:\n",
    "    RES = DEFAULT\n",
    "elif sys.argv[1] == '-f':\n",
    "    RES = DEFAULT\n",
    "else:\n",
    "    RES = int(sys.argv[1])\n",
    "    "
   ]
  },
  {
   "cell_type": "code",
   "execution_count": 379,
   "metadata": {
    "collapsed": true
   },
   "outputs": [],
   "source": [
    "outputPath = str(Model) + \"/\" + str(ModNum) + \"/\"\n",
    "imagePath = outputPath + 'images/'\n",
    "filePath = outputPath + 'files/'\n",
    "checkpointPath = outputPath + 'checkpoint/'\n",
    "dbPath = outputPath + 'gldbs/'\n",
    "outputFile = 'results_model' + Model + '_' + str(ModNum) + '_' + str(ModIt) + '.dat'\n",
    "\n",
    "if uw.rank()==0:\n",
    "    # make directories if they don't exist\n",
    "    if not os.path.isdir(outputPath):\n",
    "        os.makedirs(outputPath)\n",
    "    if not os.path.isdir(checkpointPath):\n",
    "        os.makedirs(checkpointPath)\n",
    "    if not os.path.isdir(imagePath):\n",
    "        os.makedirs(imagePath)\n",
    "    if not os.path.isdir(dbPath):\n",
    "        os.makedirs(dbPath)\n",
    "    if not os.path.isdir(filePath):\n",
    "        os.makedirs(filePath)"
   ]
  },
  {
   "cell_type": "code",
   "execution_count": 380,
   "metadata": {
    "collapsed": false
   },
   "outputs": [],
   "source": [
    "dim = 2          # number of spatial dimensions\n",
    "\n",
    "\n",
    "if MINX == 0.:\n",
    "    Xres = RES\n",
    "else:\n",
    "    Xres = 2*RES\n",
    "    \n",
    "if stickyAir:\n",
    "    Yres = RES + 8\n",
    "    MAXY = float(Yres)/RES\n",
    "    \n",
    "else:\n",
    "    Yres = RES\n",
    "    MAXY = 1.\n",
    "    "
   ]
  },
  {
   "cell_type": "code",
   "execution_count": 381,
   "metadata": {
    "collapsed": false
   },
   "outputs": [
    {
     "data": {
      "text/plain": [
       "1.0"
      ]
     },
     "execution_count": 381,
     "metadata": {},
     "output_type": "execute_result"
    }
   ],
   "source": [
    "MAXY"
   ]
  },
  {
   "cell_type": "code",
   "execution_count": 382,
   "metadata": {
    "collapsed": false
   },
   "outputs": [
    {
     "data": {
      "text/plain": [
       "(256, 128)"
      ]
     },
     "execution_count": 382,
     "metadata": {},
     "output_type": "execute_result"
    }
   ],
   "source": [
    "Xres, Yres"
   ]
  },
  {
   "cell_type": "code",
   "execution_count": 383,
   "metadata": {
    "collapsed": false
   },
   "outputs": [
    {
     "data": {
      "text/plain": [
       "(1.0, 0.0078125, 22.578125)"
      ]
     },
     "execution_count": 383,
     "metadata": {},
     "output_type": "execute_result"
    }
   ],
   "source": [
    "yelsize = MAXY/Yres\n",
    "MAXY, yelsize, yelsize*D"
   ]
  },
  {
   "cell_type": "markdown",
   "metadata": {},
   "source": [
    "Select which case of viscosity from Tosi et al (2015) to use. Adjust the yield stress to be =1 for cases 1-4, or between 3.0 and 5.0 (in increments of 0.1) in case 5."
   ]
  },
  {
   "cell_type": "markdown",
   "metadata": {},
   "source": [
    "Set output file and directory for results"
   ]
  },
  {
   "cell_type": "markdown",
   "metadata": {},
   "source": [
    "Create mesh objects. These store the indices and spatial coordiates of the grid points on the mesh."
   ]
  },
  {
   "cell_type": "code",
   "execution_count": 384,
   "metadata": {
    "collapsed": false
   },
   "outputs": [],
   "source": [
    "elementMesh = uw.mesh.FeMesh_Cartesian( elementType=(\"Q1/dQ0\"), \n",
    "                                         elementRes=(Xres, Yres), \n",
    "                                           minCoord=(MINX,0.), \n",
    "                                           maxCoord=(1.,MAXY), periodic=[True,False] )\n",
    "linearMesh   = elementMesh\n",
    "constantMesh = elementMesh.subMesh "
   ]
  },
  {
   "cell_type": "markdown",
   "metadata": {},
   "source": [
    "Create Finite Element (FE) variables for the velocity, pressure and temperature fields. The last two of these are scalar fields needing only one value at each mesh point, while the velocity field contains a vector of *dim* dimensions at each mesh point."
   ]
  },
  {
   "cell_type": "code",
   "execution_count": 385,
   "metadata": {
    "collapsed": true
   },
   "outputs": [],
   "source": [
    "velocityField    = uw.fevariable.FeVariable( feMesh=linearMesh,   nodeDofCount=dim )\n",
    "pressureField    = uw.fevariable.FeVariable( feMesh=constantMesh, nodeDofCount=1 )\n",
    "temperatureField = uw.fevariable.FeVariable( feMesh=linearMesh,   nodeDofCount=1 )"
   ]
  },
  {
   "cell_type": "markdown",
   "metadata": {},
   "source": [
    "Create some dummy fevariables for doing top and bottom boundary calculations."
   ]
  },
  {
   "cell_type": "markdown",
   "metadata": {},
   "source": [
    "##Refine mesh"
   ]
  },
  {
   "cell_type": "code",
   "execution_count": 386,
   "metadata": {
    "collapsed": true
   },
   "outputs": [],
   "source": [
    "if refineMesh:\n",
    "    alpha=ALPHA\n",
    "    newys = []\n",
    "    newxs = []\n",
    "    for index, coord in enumerate(linearMesh.data):\n",
    "        y0 = coord[1]\n",
    "        x0 = abs(coord[0])\n",
    "        if y0 >= 1.0:\n",
    "            newy = y0\n",
    "        else:\n",
    "            newy = (math.log(alpha*y0 + math.e) - 1)*(1/(math.log(alpha + math.e) - 1))\n",
    "        newx = (math.log((alpha/2.)*x0 + math.e) - 1)*(1/(math.log((alpha/2.) + math.e) - 1))\n",
    "        if coord[0] <= 0:\n",
    "            newx = -1.*newx\n",
    "        newys.append(newy)\n",
    "        newxs.append(newx)\n",
    "        \n",
    "    with linearMesh.deform_mesh():\n",
    "        linearMesh.data[:,1] = newys\n",
    "        linearMesh.data[:,0] = newxs"
   ]
  },
  {
   "cell_type": "markdown",
   "metadata": {
    "collapsed": false
   },
   "source": [
    "#THis one for the rectangular mesh\n",
    "\n",
    "if refineMesh:\n",
    "    alpha = ALPHA\n",
    "    newys = []\n",
    "    newxs = []\n",
    "    for index, coord in enumerate(linearMesh.data):\n",
    "        y0 = coord[1]\n",
    "        x0 = abs(coord[0])\n",
    "        if y0 >= 1.0:\n",
    "            newy = y0\n",
    "        else:\n",
    "            newy = (math.log(alpha*y0 + math.e) - 1)*(1/(math.log(alpha + math.e) - 1))\n",
    "        if coord[0] > 0:\n",
    "            newx = (math.e**(x0*(math.log((alpha/2.) + math.e) - 1) + 1 ) - math.e)/(alpha/2.)     \n",
    "        else:\n",
    "            newx = -1.*(math.e**(x0*(math.log((alpha/2.) + math.e) - 1) + 1 ) - math.e)/(alpha/2.)\n",
    "        newys.append(newy)\n",
    "        newxs.append(newx)\n",
    "        #print y0,newy\n",
    "        \n",
    "    with linearMesh.deform_mesh():\n",
    "            linearMesh.data[:,1] = newys\n",
    "            linearMesh.data[:,0] = newxs"
   ]
  },
  {
   "cell_type": "markdown",
   "metadata": {},
   "source": [
    "#ICs and BCs"
   ]
  },
  {
   "cell_type": "code",
   "execution_count": 387,
   "metadata": {
    "collapsed": false
   },
   "outputs": [],
   "source": [
    "# Initialise data.. Note that we are also setting boundary conditions here\n",
    "velocityField.data[:] = [0.,0.]\n",
    "pressureField.data[:] = 0.\n",
    "temperatureField.data[:] = 0.\n",
    "\n",
    "# Setup temperature initial condition via numpy arrays\n",
    "A = 0.01\n",
    "#Note that width = height = 1\n",
    "tempNump = temperatureField.data\n",
    "for index, coord in enumerate(linearMesh.data):\n",
    "    pertCoeff = (1- coord[1]) + A*math.cos( math.pi * abs(1. - coord[0]) ) * math.sin( math.pi * coord[1] )\n",
    "    tempNump[index] = pertCoeff;\n",
    "    if coord[1] > 1:\n",
    "        tempNump[index] = 0."
   ]
  },
  {
   "cell_type": "code",
   "execution_count": null,
   "metadata": {
    "collapsed": false
   },
   "outputs": [],
   "source": []
  },
  {
   "cell_type": "code",
   "execution_count": 388,
   "metadata": {
    "collapsed": false
   },
   "outputs": [],
   "source": [
    "#For notebook runs\n",
    "#ModIt = \"96\""
   ]
  },
  {
   "cell_type": "code",
   "execution_count": 389,
   "metadata": {
    "collapsed": false
   },
   "outputs": [],
   "source": [
    "########################################\n",
    "#No sticky air, square models\n",
    "########################################\n",
    "\n",
    "if (loadTemp == True) and (refineMesh == False) and (squareModel == True) and (stickyAir == False):\n",
    "    if ModIt == str(96):\n",
    "        temperatureField.load('temp_ics/1.0_96_init_temp.hdf5')\n",
    "    elif ModIt == str(128):\n",
    "        temperatureField.load('temp_ics/1.0_128_init_temp.hdf5')\n",
    "    elif ModIt == str(144):\n",
    "        temperatureField.load('temp_ics/1.0_144_init_temp.hdf5')\n",
    "    elif ModIt == str(192):\n",
    "        temperatureField.load('temp_ics/1.0_192_init_temp.hdf5')\n",
    "    elif ModIt == str(256):\n",
    "        temperatureField.load('temp_ics/1.0_256_init_temp.hdf5')\n",
    "elif (loadTemp == True) and (refineMesh == True) and (squareModel == True) and (stickyAir == False):\n",
    "    if ModIt == str(96):\n",
    "        temperatureField.load('temp_ics/r11_1.0_96_init_temp.hdf5')\n",
    "    elif ModIt == str(128):\n",
    "        temperatureField.load('temp_ics/r11_1.0_128_init_temp.hdf5')\n",
    "    elif ModIt == str(144):\n",
    "        temperatureField.load('temp_ics/r11_1.0_144_init_temp.hdf5')\n",
    "    elif ModIt == str(192):\n",
    "        temperatureField.load('temp_ics/r11_1.0_192_init_temp.hdf5')\n",
    "    elif ModIt == str(256):\n",
    "        temperatureField.load('temp_ics/r11_1.0_256_init_temp.hdf5') "
   ]
  },
  {
   "cell_type": "code",
   "execution_count": 390,
   "metadata": {
    "collapsed": false
   },
   "outputs": [],
   "source": [
    "########################################\n",
    "#Sticky air, square models\n",
    "########################################\n",
    "if (loadTemp == True) and (refineMesh == False) and (squareModel == True) and (stickyAir == True):\n",
    "    print \"True\"\n",
    "    if ModIt == str(96):\n",
    "        temperatureField.load('temp_ics/sqa_96_init_temp.hdf5')\n",
    "    elif ModIt == str(128):\n",
    "        temperatureField.load('temp_ics/sqa_128_init_temp.hdf5')\n",
    "    elif ModIt == str(144):\n",
    "        temperatureField.load('temp_ics/sqa_144_init_temp.hdf5')\n",
    "    elif ModIt == str(192):\n",
    "        temperatureField.load('temp_ics/sqa_192_init_temp.hdf5')\n",
    "    elif ModIt == str(256):\n",
    "        temperatureField.load('temp_ics/sqa_256_init_temp.hdf5')\n",
    "elif (loadTemp == True) and (refineMesh == True) and (squareModel == True) and (stickyAir == True):\n",
    "    print \"True\"\n",
    "    if ModIt == str(96):\n",
    "        temperatureField.load('temp_ics/r11_sqa_96_init_temp.hdf5')\n",
    "    elif ModIt == str(128):\n",
    "        temperatureField.load('temp_ics/r11_sqa_128_init_temp.hdf5')\n",
    "    elif ModIt == str(144):\n",
    "        temperatureField.load('temp_ics/r11_sqa_144_init_temp.hdf5')\n",
    "    elif ModIt == str(192):\n",
    "        temperatureField.load('temp_ics/r11_sqa_192_init_temp.hdf5')\n",
    "    elif ModIt == str(256):\n",
    "        temperatureField.load('temp_ics/r11_sqa_256_init_temp.hdf5') "
   ]
  },
  {
   "cell_type": "code",
   "execution_count": 391,
   "metadata": {
    "collapsed": false
   },
   "outputs": [
    {
     "data": {
      "text/plain": [
       "'128'"
      ]
     },
     "execution_count": 391,
     "metadata": {},
     "output_type": "execute_result"
    }
   ],
   "source": [
    "ModIt"
   ]
  },
  {
   "cell_type": "code",
   "execution_count": 392,
   "metadata": {
    "collapsed": false
   },
   "outputs": [],
   "source": [
    "########################################\n",
    "#Sticky air, rectangular models\n",
    "########################################\n",
    "\n",
    "if (loadTemp == True) and (refineMesh == False) and (squareModel == False) and (stickyAir == True):\n",
    "    print \"True\"\n",
    "    if ModIt == str(96):\n",
    "        temperatureField.load('temp_ics/sa_96_init_temp.hdf5')\n",
    "    elif ModIt == str(128):\n",
    "        temperatureField.load('temp_ics/sa_128_init_temp.hdf5')\n",
    "    elif ModIt == str(144):\n",
    "        temperatureField.load('temp_ics/sa_144_init_temp.hdf5')\n",
    "    elif ModIt == str(192):\n",
    "        temperatureField.load('temp_ics/sa_192_init_temp.hdf5')\n",
    "    elif ModIt == str(256):\n",
    "        temperatureField.load('temp_ics/sa_256_init_temp.hdf5')\n",
    "elif (loadTemp == True) and (refineMesh == True) and (squareModel == False) and (stickyAir == True):\n",
    "    print \"True\"\n",
    "    if ModIt == str(96):\n",
    "        temperatureField.load('temp_ics/r11_sa_96_init_temp.hdf5')\n",
    "    elif ModIt == str(128):\n",
    "        temperatureField.load('temp_ics/r11_sa_128_init_temp.hdf5')\n",
    "    elif ModIt == str(144):\n",
    "        temperatureField.load('temp_ics/r11_sa_144_init_temp.hdf5')\n",
    "    elif ModIt == str(192):\n",
    "        temperatureField.load('temp_ics/r11_sa_192_init_temp.hdf5')\n",
    "    elif ModIt == str(256):\n",
    "        temperatureField.load('temp_ics/r11_sa_256_init_temp.hdf5')"
   ]
  },
  {
   "cell_type": "markdown",
   "metadata": {
    "collapsed": true
   },
   "source": [
    "dres = 96\n",
    "dummyelementMesh = uw.mesh.FeMesh_Cartesian( elementType = (\"Q1/dQ0\"), \n",
    "                                         elementRes = (dres, dres), \n",
    "                                           minCoord = (0., 0.), \n",
    "                                           maxCoord = (1., 1.))\n",
    "\n",
    "dummytemperatureMesh = dummyelementMesh \n",
    "dummytemperatureField = uw.fevariable.FeVariable( feMesh=dummytemperatureMesh, nodeDofCount=1 )\n",
    "dummytemperatureField.load('temp_ics/temperatureField_4_10200.hdf5')\n",
    "\n",
    "for index, coord in enumerate(linearMesh.data):\n",
    "    #This bit determines whether you see a reflected image or not\n",
    "    xpos, ypos = (1.- abs(coord[0])), coord[1]\n",
    "    #xpos, ypos = (abs(coord[0])), coord[1]\n",
    "    if ypos >= 1:\n",
    "        temperatureField.data[index] = 0.\n",
    "    else:\n",
    "        #print(dummytemperatureField.evaluate((xpos, ypos)))\n",
    "        #randpert = np.random.rand(1)[0]*(50./2500)\n",
    "        randpert = 0.\n",
    "        #Don't know mesh partitions in advance, and possible diferent between 'real' and 'dummy' mesh\n",
    "        try:\n",
    "            temperatureField.data[index] = dummytemperatureField.evaluate((xpos, ypos))  + randpert\n",
    "        except:\n",
    "            pass\n",
    "            \n",
    "temperatureField.save('temp_ics/r11_sa_144_init_temp.hdf5')"
   ]
  },
  {
   "cell_type": "markdown",
   "metadata": {
    "collapsed": true
   },
   "source": []
  },
  {
   "cell_type": "code",
   "execution_count": 393,
   "metadata": {
    "collapsed": false
   },
   "outputs": [],
   "source": [
    "#icfnam= \"R(11)_\" + \"2_\" + str(RES) + \"_init_temp.hdf5\"\n",
    "#icpath = \"temp_ics/\" + icfnam \n",
    "#icfnam= str(Model) + str(ModIt) + \"_init_temp.hdf5\"\n",
    "#temperatureField.save(icpath)\n",
    "#icfnam\n",
    "#icpath"
   ]
  },
  {
   "cell_type": "code",
   "execution_count": 394,
   "metadata": {
    "collapsed": false
   },
   "outputs": [],
   "source": [
    "# Get the actual sets \n",
    "#\n",
    "#  HJJJJJJH\n",
    "#  I      I\n",
    "#  I      I\n",
    "#  I      I\n",
    "#  HJJJJJJH\n",
    "#  \n",
    "#  Note that H = I & J \n",
    "\n",
    "# Note that we use operator overloading to combine sets\n",
    "IWalls = linearMesh.specialSets[\"MinI_VertexSet\"] + linearMesh.specialSets[\"MaxI_VertexSet\"]\n",
    "JWalls = linearMesh.specialSets[\"MinJ_VertexSet\"] + linearMesh.specialSets[\"MaxJ_VertexSet\"]\n",
    "TWalls = linearMesh.specialSets[\"MaxJ_VertexSet\"]\n",
    "BWalls = linearMesh.specialSets[\"MinJ_VertexSet\"]"
   ]
  },
  {
   "cell_type": "code",
   "execution_count": null,
   "metadata": {
    "collapsed": true
   },
   "outputs": [],
   "source": []
  },
  {
   "cell_type": "code",
   "execution_count": 395,
   "metadata": {
    "collapsed": true
   },
   "outputs": [],
   "source": [
    "# Now setup the dirichlet boundary condition\n",
    "# Note that through this object, we are flagging to the system \n",
    "# that these nodes are to be considered as boundary conditions. \n",
    "# Also note that we provide a tuple of sets.. One for the Vx, one for Vy.\n",
    "freeslipBC = uw.conditions.DirichletCondition(     variable=velocityField, \n",
    "                                              nodeIndexSets=(None, JWalls) )\n",
    "\n",
    "# also set dirichlet for temp field\n",
    "tempBC = uw.conditions.DirichletCondition(     variable=temperatureField, \n",
    "                                              nodeIndexSets=(JWalls,) )"
   ]
  },
  {
   "cell_type": "markdown",
   "metadata": {},
   "source": [
    "##Add Random 125 K temp perturbation\n"
   ]
  },
  {
   "cell_type": "code",
   "execution_count": 397,
   "metadata": {
    "collapsed": true
   },
   "outputs": [],
   "source": [
    "tempNump = temperatureField.data\n",
    "for index, coord in enumerate(linearMesh.data):\n",
    "    pertCoeff = (0.05*np.random.rand(1)[0])\n",
    "    ict = tempNump[index]\n",
    "    tempNump[index] = ict + pertCoeff"
   ]
  },
  {
   "cell_type": "markdown",
   "metadata": {},
   "source": [
    "##Reset bottom Dirichlet conds."
   ]
  },
  {
   "cell_type": "code",
   "execution_count": 396,
   "metadata": {
    "collapsed": false
   },
   "outputs": [],
   "source": [
    "# Set temp boundaries \n",
    "# on the boundaries\n",
    "for index in linearMesh.specialSets[\"MinJ_VertexSet\"]:\n",
    "    temperatureField.data[index] = TB\n",
    "for index in linearMesh.specialSets[\"MaxJ_VertexSet\"]:\n",
    "    temperatureField.data[index] = TS"
   ]
  },
  {
   "cell_type": "markdown",
   "metadata": {},
   "source": [
    "#Particles"
   ]
  },
  {
   "cell_type": "code",
   "execution_count": 233,
   "metadata": {
    "collapsed": false
   },
   "outputs": [],
   "source": [
    "# We create swarms of particles which can advect, and which may determine 'materials'\n",
    "gSwarm = uw.swarm.Swarm( feMesh=elementMesh )\n",
    "\n",
    "# Now we add a data variable which will store an index to determine material\n",
    "materialVariable = gSwarm.add_variable( dataType=\"char\", count=1 )\n",
    "tempVariableVis = gSwarm.add_variable( dataType=\"float\", count=1 )\n",
    "rockIntVar = gSwarm.add_variable( dataType=\"double\", count=1 )\n",
    "airIntVar = gSwarm.add_variable( dataType=\"double\", count=1 )\n",
    "lithIntVar = gSwarm.add_variable( dataType=\"double\", count=1 )\n",
    "\n",
    "\n",
    "# Layouts are used to populate the swarm across the whole domain\n",
    "# Create the layout object\n",
    "#layout = uw.swarm.layouts.GlobalSpaceFillerLayout( swarm=gSwarm, particlesPerCell=20)\n",
    "layout = uw.swarm.layouts.PerCellRandomLayout(swarm=gSwarm, particlesPerCell=15)\n",
    "# Now use it to populate.\n",
    "gSwarm.populate_using_layout( layout=layout )\n",
    "\n",
    "\n",
    "# Lets initialise the 'materialVariable' data to represent different materials.\n",
    "\n",
    "temp = temperatureField.evaluate(gSwarm)\n",
    "tempVariableVis.data[:] = temp[:]\n",
    "\n",
    "\n",
    "\n",
    "mantleIndex = 0\n",
    "lithosphereIndex = 1\n",
    "crustIndex = 2\n",
    "airIndex = 3\n",
    "\n",
    "\n",
    "# Set the material to heavy everywhere via the numpy array\n",
    "materialVariable.data[:] = mantleIndex\n"
   ]
  },
  {
   "cell_type": "markdown",
   "metadata": {},
   "source": [
    "#Material Graphs"
   ]
  },
  {
   "cell_type": "code",
   "execution_count": null,
   "metadata": {
    "collapsed": true
   },
   "outputs": [],
   "source": []
  },
  {
   "cell_type": "code",
   "execution_count": 234,
   "metadata": {
    "collapsed": false
   },
   "outputs": [],
   "source": [
    "##############\n",
    "#Important: This is a quick fix for a bug that arises in parallel runs\n",
    "##############\n",
    "material_list = [0,1,2,3]\n"
   ]
  },
  {
   "cell_type": "code",
   "execution_count": 235,
   "metadata": {
    "collapsed": true
   },
   "outputs": [],
   "source": [
    "#All depth conditions are given as (km/D) where D is the length scale, \n",
    "#note that 'model depths' are used, e.g. 1-z, where z is the vertical Underworld coordinate\n",
    "#All temp conditions are in dimensionless temp. [0. - 1.]\n",
    "\n",
    "#A few paramters defining lengths scales\n",
    "\n",
    "Crust = 27.\n",
    "CrustM = Crust/D\n",
    "\n",
    "#Set initial air and crust materials (allow the graph to take care of lithsophere)\n",
    "\n",
    "#########\n",
    "#This initial material setup will be model dependent\n",
    "#########\n",
    "for particleID in range(gSwarm.particleCoordinates.data.shape[0]):\n",
    "    if (1. - gSwarm.particleCoordinates.data[particleID][1]) < 0:\n",
    "             materialVariable.data[particleID] = airIndex\n",
    "    elif (1. - gSwarm.particleCoordinates.data[particleID][1]) < CrustM:\n",
    "             materialVariable.data[particleID] = crustIndex\n",
    "\n",
    "\n",
    "\n",
    "#######Setup some variables which help define condtions\n",
    "#rock-air topography limits\n",
    "dz = 50./D\n",
    "\n",
    "avgtemp = 0.5"
   ]
  },
  {
   "cell_type": "code",
   "execution_count": 236,
   "metadata": {
    "collapsed": true
   },
   "outputs": [],
   "source": [
    "import networkx as nx\n",
    "\n",
    "#######Graph object\n",
    "DG = nx.DiGraph(field=\"Depth\")\n",
    "\n",
    "#######Nodes\n",
    "#Note that the order of materials, deepest to shallowest is important \n",
    "DG.add_node(0, mat='mantle')\n",
    "DG.add_node(1, mat='lithosphere')\n",
    "DG.add_node(2, mat='crust')\n",
    "DG.add_node(3, mat='air')\n",
    "\n",
    "\n",
    "labels=dict((n,d['mat']) for n,d in DG.nodes(data=True))\n",
    "pos=nx.spring_layout(DG) \n",
    "\n",
    "\n",
    "#######Edges\n",
    "#anything to air\n",
    "DG.add_edges_from([(0,3),(1,3), (2,3)])\n",
    "DG[0][3]['depthcondition'] = -1*dz\n",
    "DG[1][3]['depthcondition'] = -1*dz\n",
    "DG[2][3]['depthcondition'] = -1*dz\n",
    "\n",
    "\n",
    "#Anything to mantle\n",
    "DG.add_edges_from([(2,0), (3,0), (1,0)])\n",
    "DG[3][0]['depthcondition'] = dz\n",
    "DG[2][0]['depthcondition'] = (300./D)\n",
    "DG[1][0]['depthcondition'] = (660./D) #This means we're going to kill lithosphere at the 660.\n",
    "\n",
    "\n",
    "#Anything to lithsphere\n",
    "DG.add_edges_from([(0,1),(3,1)])\n",
    "DG[0][1]['depthcondition'] = 200./D\n",
    "DG[0][1]['avgtempcondition'] = 0.75*avgtemp #definition of thermal lithosphere\n",
    "\n",
    "\n",
    "#Anything to crust\n",
    "DG.add_edges_from([(0,2), (1,2)])\n",
    "DG[0][2]['depthcondition'] = CrustM\n",
    "DG[1][2]['depthcondition'] = CrustM"
   ]
  },
  {
   "cell_type": "code",
   "execution_count": 237,
   "metadata": {
    "collapsed": false
   },
   "outputs": [
    {
     "data": {
      "text/plain": [
       "[0, 1, 2, 3]"
      ]
     },
     "execution_count": 237,
     "metadata": {},
     "output_type": "execute_result"
    }
   ],
   "source": [
    "DG.nodes()"
   ]
  },
  {
   "cell_type": "code",
   "execution_count": 238,
   "metadata": {
    "collapsed": false
   },
   "outputs": [],
   "source": [
    "remove_nodes = []\n",
    "for node in DG.nodes():\n",
    "    if not node in material_list:\n",
    "        remove_nodes.append(node)\n",
    "        \n",
    "for rmnode in remove_nodes:\n",
    "    DG.remove_node(rmnode)"
   ]
  },
  {
   "cell_type": "code",
   "execution_count": 239,
   "metadata": {
    "collapsed": false
   },
   "outputs": [
    {
     "data": {
      "text/plain": [
       "[0, 1, 2, 3]"
      ]
     },
     "execution_count": 239,
     "metadata": {},
     "output_type": "execute_result"
    }
   ],
   "source": [
    "DG.nodes()"
   ]
  },
  {
   "cell_type": "code",
   "execution_count": 240,
   "metadata": {
    "collapsed": false
   },
   "outputs": [],
   "source": [
    "#remove_nodes = []\n",
    "#for node in DG.nodes_iter():\n",
    "#    if not node in material_list:\n",
    "#        remove_nodes.append(node)\n",
    "        \n",
    "#for rmnode in remove_nodes:\n",
    "#    DG.remove_node(rmnode)"
   ]
  },
  {
   "cell_type": "code",
   "execution_count": 241,
   "metadata": {
    "collapsed": true
   },
   "outputs": [],
   "source": [
    "#A Dictionary to map strings in the graph (e.g. 'depthcondition') to particle data arrays\n",
    "\n",
    "particledepths = 1. - gSwarm.particleCoordinates.data[:,1]\n",
    "particletemps = temperatureField.evaluate(gSwarm)[:,0]\n",
    "\n",
    "conditionmap = {}\n",
    "\n",
    "conditionmap['depthcondition'] = {}\n",
    "conditionmap['depthcondition']['data'] = particledepths\n",
    "conditionmap['avgtempcondition'] = {}\n",
    "conditionmap['avgtempcondition']['data'] = particletemps"
   ]
  },
  {
   "cell_type": "code",
   "execution_count": 242,
   "metadata": {
    "collapsed": true
   },
   "outputs": [],
   "source": [
    "def update_swarm(graph, particleIndex):\n",
    "    \"\"\"\n",
    "    This function takes the materials graph (networkx.DiGraph), and a particle index,\n",
    "    then determines if a material update is required \n",
    "    and if so, returns the new materialindex\n",
    "    Args:\n",
    "        graph (networkx.DiGraph): Directed multigraph representing the transformation of material types\n",
    "        particleIndex (int): the particle index as corressponding to the index in the swarm data arrays\n",
    "    Returns:\n",
    "        if update is required the function returns the the new material variable (int) \n",
    "        else returns None\n",
    "    Raises:\n",
    "        TypeError: not implemented\n",
    "        ValueError: not implemented\n",
    "    \"\"\"\n",
    "    ##Egde gives links to other materials, we then query the conditions to see if we should change materials\n",
    "    matId = materialVariable.data[particleIndex][0]\n",
    "    innerchange = False\n",
    "    outerchange = False\n",
    "    for edge in graph[matId]:\n",
    "        if outerchange:\n",
    "            break\n",
    "        for cond in graph[matId][edge].keys():\n",
    "            outerchange = False\n",
    "            if innerchange: #found a complete transition, break inner loop\n",
    "                break\n",
    "            currentparticlevalue = conditionmap[cond]['data'][particleIndex]\n",
    "            crossover = graph[matId][edge][cond]\n",
    "            if ((matId > edge) and (currentparticlevalue > crossover)):\n",
    "                innerchange = False # continue on, \n",
    "                if graph[matId][edge].keys()[-1] == cond:\n",
    "                    outerchange = True\n",
    "                    innerchange = edge\n",
    "                    break\n",
    "            elif ((matId < edge) and (currentparticlevalue < crossover)):\n",
    "                innerchange = False\n",
    "                if graph[matId][edge].keys()[-1] == cond:\n",
    "                    outerchange = True\n",
    "                    innerchange = edge\n",
    "                    break\n",
    "            else:\n",
    "                #condition not met, break outer loop, go to next edge, outerchange should still be False\n",
    "                break\n",
    "    if type(innerchange) == int:\n",
    "        return innerchange"
   ]
  },
  {
   "cell_type": "markdown",
   "metadata": {},
   "source": [
    "for particleID in range(gSwarm.particleCoordinates.data.shape[0]):\n",
    "                check = update_swarm(DG, particleID)\n",
    "                #print check\n",
    "                if check > -1:\n",
    "                    #number_updated += 1\n",
    "                    materialVariable.data[particleID] = check"
   ]
  },
  {
   "cell_type": "code",
   "execution_count": 243,
   "metadata": {
    "collapsed": false
   },
   "outputs": [],
   "source": [
    "#Cleanse the swarm of its sins\n",
    "#For some Material Graphs, the graph may have to be treaversed more than once\n",
    "\n",
    "check = -1\n",
    "number_updated = 1\n",
    "\n",
    "while number_updated != 0:\n",
    "    number_updated = 0\n",
    "    for particleID in range(gSwarm.particleCoordinates.data.shape[0]):\n",
    "                check = update_swarm(DG, particleID)\n",
    "                if check > -1:\n",
    "                    number_updated += 1\n",
    "                    materialVariable.data[particleID] = check"
   ]
  },
  {
   "cell_type": "code",
   "execution_count": 244,
   "metadata": {
    "collapsed": false
   },
   "outputs": [],
   "source": [
    "#figtemp = plt.Figure()\n",
    "#tempminmax = fn.view.min_max(temperatureField)\n",
    "#figtemp.Surface(temperatureField, linearMesh)\n",
    "#figtemp.VectorArrows(velocityField, linearMesh, lengthScale=0.5/velmax, arrowHeadSize=0.2 )\n",
    "#figtemp.Points( swarm=gSwarm, colourVariable=materialVariable , pointSize=1.0)\n",
    "#figtemp.Mesh(linearMesh, colourBar=False)\n",
    "#figtemp.show()\n",
    "#figtemp.save_database('test.gldb')"
   ]
  },
  {
   "cell_type": "markdown",
   "metadata": {},
   "source": [
    "##Set the values for the masking swarms"
   ]
  },
  {
   "cell_type": "code",
   "execution_count": 245,
   "metadata": {
    "collapsed": false
   },
   "outputs": [],
   "source": [
    "#Setup up a masking Swarm variable for the integrations.\n",
    "#Two possible problems? \n",
    "#does it work in parallel,\n",
    "#How do we mange advecting this swarm?\n",
    "#(might be best to just rebuild it every timestep, that way we only focus on advecting the material swarm)\n",
    "\n",
    "rockIntVar.data[:] = 0.\n",
    "notair = np.where(materialVariable.data != airIndex)\n",
    "rockIntVar.data[notair] = 1.\n",
    "\n",
    "airIntVar.data[:] = 0.\n",
    "notrock = np.where(materialVariable.data == airIndex)\n",
    "airIntVar.data[notrock] = 1.\n",
    "\n",
    "lithIntVar.data[:] = 0.\n",
    "islith = np.where((materialVariable.data == lithosphereIndex) | (materialVariable.data == crustIndex))\n",
    "lithIntVar.data[islith] = 1."
   ]
  },
  {
   "cell_type": "markdown",
   "metadata": {
    "collapsed": true
   },
   "source": [
    "##Set up a swarm for surface integrations¶\n"
   ]
  },
  {
   "cell_type": "code",
   "execution_count": 246,
   "metadata": {
    "collapsed": false
   },
   "outputs": [
    {
     "data": {
      "text/plain": [
       "24.0"
      ]
     },
     "execution_count": 246,
     "metadata": {},
     "output_type": "execute_result"
    }
   ],
   "source": [
    "np.floor(10.*156/64)"
   ]
  },
  {
   "cell_type": "code",
   "execution_count": 247,
   "metadata": {
    "collapsed": false
   },
   "outputs": [],
   "source": [
    "snum = 1000.\n",
    "dx = (linearMesh.data[:,0].max()- linearMesh.data[:,0].min())/snum\n",
    "yp = 0.9947 #1. - yelsize/2. at res = 96\n",
    "\n",
    "linearMesh.data[:,0].max()\n",
    "xps = np.linspace(linearMesh.data[:,0].min(),linearMesh.data[:,0].max(), snum)\n",
    "yps = [yp for i in xps]\n",
    "\n",
    "surfintswarm = uw.swarm.Swarm( feMesh=elementMesh )\n",
    "dumout = surfintswarm.add_particles_with_coordinates(np.array((xps,yps)).T)\n",
    "\n",
    "yps = [ 1.- yp  for i in xps]\n",
    "\n",
    "baseintswarm = uw.swarm.Swarm( feMesh=elementMesh )\n",
    "dumout = baseintswarm.add_particles_with_coordinates(np.array((xps,yps)).T)"
   ]
  },
  {
   "cell_type": "code",
   "execution_count": 248,
   "metadata": {
    "collapsed": false
   },
   "outputs": [],
   "source": [
    "# visualise\n",
    "#fig1 = plt.Figure()\n",
    "#fig1.Points( swarm=surfintswarm, pointSize=10.0)\n",
    "#fig1.Points( swarm=baseintswarm, pointSize=10.0)\n",
    "#fig1.Points( swarm=gSwarm,colourVariable=rockIntVar)\n",
    "#fig1.VectorArrows(velocityField, linearMesh, lengthScale=0.0002)\n",
    "#fig1.Surface(temperatureField, linearMesh)\n",
    "#\n",
    "#fig1.Mesh(linearMesh, colourBar=False)\n",
    "#fig1.show()"
   ]
  },
  {
   "cell_type": "markdown",
   "metadata": {
    "collapsed": false
   },
   "source": [
    "#Material properties\n"
   ]
  },
  {
   "cell_type": "code",
   "execution_count": null,
   "metadata": {
    "collapsed": true
   },
   "outputs": [],
   "source": []
  },
  {
   "cell_type": "code",
   "execution_count": 249,
   "metadata": {
    "collapsed": false
   },
   "outputs": [],
   "source": [
    "#Make variables required for plasticity\n",
    "\n",
    "secinvCopy = fn.tensor.second_invariant( \n",
    "                    fn.tensor.symmetric( \n",
    "                        velocityField.gradientFn ))\n",
    "\n",
    "coordinate = fn.input()\n",
    "\n",
    "depth = 1. - coordinate[1]\n"
   ]
  },
  {
   "cell_type": "code",
   "execution_count": 250,
   "metadata": {
    "collapsed": false
   },
   "outputs": [],
   "source": [
    "depthField = uw.fevariable.FeVariable( feMesh=linearMesh,   nodeDofCount=1 )\n",
    "\n",
    "depthField.data[:] = depth.evaluate(linearMesh)\n",
    "depthField.data[np.where(depthField.data[:] < 0.)[0]] = 0.\n",
    "#depthdata = depth.evaluate(linearMesh)"
   ]
  },
  {
   "cell_type": "code",
   "execution_count": null,
   "metadata": {
    "collapsed": false
   },
   "outputs": [],
   "source": [
    "\n"
   ]
  },
  {
   "cell_type": "code",
   "execution_count": 251,
   "metadata": {
    "collapsed": false
   },
   "outputs": [],
   "source": [
    "\n",
    "viscosityl2 = newvisc*fn.math.exp((math.log(ETA_T)*-1*temperatureField) + (depthField*math.log(ETA_Y)))\n",
    "\n",
    "viscosityFn1 = viscosityl2 #This one always gets passed to the first velcotity solve\n",
    "\n",
    "#Von Mises effective viscosity\n",
    "viscosityp = ETA0 + YSTRESS/(secinvCopy/math.sqrt(0.5)) #extra factor to account for underworld second invariant form\n",
    "\n",
    "\n",
    "viscosityFn2 = 2./(1./viscosityl2 + 1./viscosityp)\n"
   ]
  },
  {
   "cell_type": "code",
   "execution_count": 252,
   "metadata": {
    "collapsed": false
   },
   "outputs": [],
   "source": [
    "#Compositional Rayligh number of rock-water \n",
    "\n",
    "g = 9.81\n",
    "rho = 3300\n",
    "a = 1.25*10**-5\n",
    "kappa = 10**-6\n",
    "dT = 2500\n",
    "eta0 = rho*g*a*dT*((D*1e3)**3)/(RA*kappa)\n",
    "#Composisitional Rayleigh number\n",
    "Rc = (3300*g*(D*1000)**3)/(eta0*kappa)\n"
   ]
  },
  {
   "cell_type": "code",
   "execution_count": 253,
   "metadata": {
    "collapsed": true
   },
   "outputs": [],
   "source": [
    "CompRAfact = Rc/RA\n",
    "\n",
    "airviscosity = 0.001\n",
    "airdensity = RA*CompRAfact"
   ]
  },
  {
   "cell_type": "code",
   "execution_count": 254,
   "metadata": {
    "collapsed": true
   },
   "outputs": [],
   "source": [
    "##This block sets up rheolgoy for models with crust rheology;\n",
    "\n",
    "viscreduct = 0.1\n",
    "\n",
    "#Von Mises effective viscosity\n",
    "crustviscosityp = viscreduct*ETA0 + ((viscreduct*YSTRESS)/(secinvCopy/math.sqrt(0.5))) #extra factor to account for underworld second invariant form\n",
    "crustviscosityFn2 = 2./(1./viscosityl2 + 1./crustviscosityp)\n"
   ]
  },
  {
   "cell_type": "markdown",
   "metadata": {},
   "source": [
    "Set up simulation parameters and functions\n",
    "====\n",
    "\n",
    "Here the functions for density, viscosity etc. are set. These functions and/or values are preserved for the entire simulation time. "
   ]
  },
  {
   "cell_type": "code",
   "execution_count": 255,
   "metadata": {
    "collapsed": true
   },
   "outputs": [],
   "source": [
    "# Here we set a viscosity value of '1.' for both materials\n",
    "viscosityMapFn = fn.branching.map( keyFunc = materialVariable,\n",
    "                         mappingDict = {airIndex:airviscosity, lithosphereIndex:viscosityFn2, crustIndex:viscosityFn2,mantleIndex:viscosityFn2} )\n",
    "\n",
    "densityMapFn = fn.branching.map( keyFunc = materialVariable,\n",
    "                         mappingDict = {airIndex:airdensity, lithosphereIndex:RA*temperatureField, crustIndex:RA*temperatureField, mantleIndex:RA*temperatureField} )\n",
    "\n",
    "# Define our gravity using a python tuple (this will be automatically converted to a function)\n",
    "gravity = ( 0.0, 1.0 )\n",
    "\n",
    "buoyancyFn = gravity*densityMapFn"
   ]
  },
  {
   "cell_type": "markdown",
   "metadata": {},
   "source": [
    "Build the Stokes system, solvers, advection-diffusion\n",
    "------\n",
    "\n",
    "Setup linear Stokes system to get the initial velocity."
   ]
  },
  {
   "cell_type": "code",
   "execution_count": 256,
   "metadata": {
    "collapsed": false
   },
   "outputs": [],
   "source": [
    "#We first set up a l\n",
    "stokesPIC = uw.systems.Stokes(velocityField=velocityField, \n",
    "                              pressureField=pressureField,\n",
    "                              conditions=[freeslipBC,],\n",
    "#                              viscosityFn=viscosityFn1, \n",
    "                              viscosityFn=fn.exception.SafeMaths(viscosityFn1), \n",
    "                              bodyForceFn=buoyancyFn)"
   ]
  },
  {
   "cell_type": "markdown",
   "metadata": {},
   "source": [
    "We do one solve with linear viscosity to get the initial strain rate invariant. This solve step also calculates a 'guess' of the the velocity field based on the linear system, which is used later in the non-linear solver."
   ]
  },
  {
   "cell_type": "code",
   "execution_count": 257,
   "metadata": {
    "collapsed": false
   },
   "outputs": [],
   "source": [
    "stokesPIC.solve()"
   ]
  },
  {
   "cell_type": "code",
   "execution_count": 258,
   "metadata": {
    "collapsed": false
   },
   "outputs": [],
   "source": [
    "#Switch particle escape on, this will also trigger the inflow population control \n",
    "gSwarm.particleEscape = True"
   ]
  },
  {
   "cell_type": "code",
   "execution_count": 259,
   "metadata": {
    "collapsed": false
   },
   "outputs": [],
   "source": [
    "# Setup the Stokes system again, now with linear or nonlinear visocity viscosity.\n",
    "stokesPIC2 = uw.systems.Stokes(velocityField=velocityField, \n",
    "                              pressureField=pressureField,\n",
    "                              conditions=[freeslipBC,],\n",
    "                              viscosityFn=fn.exception.SafeMaths(viscosityMapFn), \n",
    "                              bodyForceFn=buoyancyFn, swarm = gSwarm)"
   ]
  },
  {
   "cell_type": "code",
   "execution_count": 260,
   "metadata": {
    "collapsed": false
   },
   "outputs": [],
   "source": [
    "solver = uw.systems.Solver(stokesPIC2) # altered from PIC2\n",
    "\n",
    "solver.options.main.Q22_pc_type='uwscale'  # also try 'gtkg', 'gkgdiag' and 'uwscale'\n",
    "solver.options.main.penalty = 1.0\n",
    "solver.options.A11.ksp_rtol=1e-6\n",
    "solver.options.scr.ksp_rtol=1e-5\n",
    "solver.options.scr.use_previous_guess = True\n",
    "solver.options.scr.ksp_set_min_it_converge = 1\n",
    "solver.options.scr.ksp_set_max_it = 100\n",
    "solver.options.mg.levels = 4\n",
    "solver.options.mg.mg_levels_ksp_type = 'chebyshev'\n",
    "solver.options.mg_accel.mg_accelerating_smoothing = True\n",
    "solver.options.mg_accel.mg_accelerating_smoothing_view = False\n",
    "solver.options.mg_accel.mg_smooths_to_start = 1"
   ]
  },
  {
   "cell_type": "markdown",
   "metadata": {},
   "source": [
    "Solve for initial pressure and velocity using a quick non-linear Picard iteration\n"
   ]
  },
  {
   "cell_type": "code",
   "execution_count": 261,
   "metadata": {
    "collapsed": false
   },
   "outputs": [],
   "source": [
    "solver.solve(nonLinearIterate=True)"
   ]
  },
  {
   "cell_type": "markdown",
   "metadata": {},
   "source": [
    "Create an advective-diffusive system\n",
    "=====\n",
    "\n",
    "Setup the system in underworld by flagging the temperature and velocity field variables."
   ]
  },
  {
   "cell_type": "code",
   "execution_count": 262,
   "metadata": {
    "collapsed": false
   },
   "outputs": [],
   "source": [
    "#Create advdiff system\n",
    "advDiff = uw.systems.AdvectionDiffusion( temperatureField, velocityField, diffusivity=1., conditions=[tempBC,] )\n",
    "\n",
    "advector = uw.systems.SwarmAdvector( swarm=gSwarm, velocityField=velocityField, order=1)"
   ]
  },
  {
   "cell_type": "markdown",
   "metadata": {},
   "source": [
    "Metrics for benchmark\n",
    "=====\n",
    "\n",
    "Define functions to be used in the time loop. For cases 1-4, participants were asked to report a number of diagnostic quantities to be measured after reaching steady state:\n",
    "\n",
    "* Average temp... $$  \\langle T \\rangle  = \\int^1_0 \\int^1_0 T \\, dxdy $$\n",
    "* Top and bottom Nusselt numbers... $$N = \\int^1_0 \\frac{\\partial T}{\\partial y} \\rvert_{y=0/1} \\, dx$$\n",
    "* RMS velocity over the whole domain, surface and max velocity at surface\n",
    "* max and min viscosity over the whole domain\n",
    "* average rate of work done against gravity...$$\\langle W \\rangle = \\int^1_0 \\int^1_0 T u_y \\, dx dy$$\n",
    "* and the average rate of viscous dissipation...$$\\langle \\Phi \\rangle = \\int^1_0 \\int^1_0 \\tau_{ij} \\dot \\epsilon_{ij} \\, dx dy$$\n",
    "\n",
    "* In steady state, if thermal energy is accurately conserved, the difference between $\\langle W \\rangle$ and $\\langle \\Phi \\rangle / Ra$ must vanish, so also reported is the percentage error: \n",
    "\n",
    "$$ \\delta = \\frac{\\lvert \\langle W \\rangle - \\frac{\\langle \\Phi \\rangle}{Ra} \\rvert}{max \\left(  \\langle W \\rangle,  \\frac{\\langle \\Phi \\rangle}{Ra}\\right)} \\times 100% $$"
   ]
  },
  {
   "cell_type": "code",
   "execution_count": 263,
   "metadata": {
    "collapsed": false
   },
   "outputs": [],
   "source": [
    "#Setup some Integrals. We want these outside the main loop...\n",
    "tempVariable = gSwarm.add_variable( dataType=\"double\", count=1 )\n",
    "tempVariable.data[:] = temperatureField.evaluate(gSwarm)[:]\n",
    "tempint = uw.utils.Integral((tempVariable*rockIntVar), linearMesh)\n",
    "\n",
    "\n",
    "areaint = uw.utils.Integral((1.*rockIntVar),linearMesh)\n",
    "\n",
    "v2int = uw.utils.Integral(fn.math.dot(velocityField,velocityField)*rockIntVar, linearMesh)\n",
    "\n",
    "\n",
    "dwint = uw.utils.Integral(temperatureField*velocityField[1]*rockIntVar, linearMesh)\n",
    "\n",
    "secinv = fn.tensor.second_invariant(\n",
    "                    fn.tensor.symmetric(\n",
    "                        velocityField.gradientFn ))\n",
    "\n",
    "sinner = fn.math.dot(secinv,secinv)\n",
    "vdint = uw.utils.Integral((4.*viscosityFn2*sinner)*rockIntVar, linearMesh)\n",
    "vdintair = uw.utils.Integral((4.*viscosityFn2*sinner)*airIntVar, linearMesh)\n",
    "vdintlith = uw.utils.Integral((4.*viscosityFn2*sinner)*lithIntVar, linearMesh)"
   ]
  },
  {
   "cell_type": "code",
   "execution_count": 264,
   "metadata": {
    "collapsed": false
   },
   "outputs": [],
   "source": [
    "def avg_temp():\n",
    "    return tempint.evaluate()[0]\n",
    "\n",
    "#This one gets cleaned up when Surface integrals are available\n",
    "def nusselt(tempfield, swarm, dx):\n",
    "    #Update the swarm variable\n",
    "    tempgrad = tempfield.gradientFn\n",
    "    valcheck = tempgrad[1].evaluate(swarm)\n",
    "    if valcheck is None:\n",
    "        vals = np.array(0, dtype='float64')\n",
    "    else:\n",
    "        vals = valcheck.sum()*dx\n",
    "    return vals\n",
    "\n",
    "def rms():\n",
    "    return math.sqrt(v2int.evaluate()[0])\n",
    "\n",
    "#This one gets cleaned up when Surface integrals are available\n",
    "def rms_surf(swarm, dx):\n",
    "    rmsmaxfn = fn.math.sqrt(fn.math.dot(velocityField,velocityField))\n",
    "    rmscheck = rmsmaxfn.evaluate(swarm)\n",
    "    if rmscheck is None:\n",
    "        rmsvals = np.array(0, dtype='float64')\n",
    "    else:\n",
    "        rmsvals = rmscheck.sum()*dx\n",
    "    return rmsvals\n",
    "\n",
    "def max_vx_surf(velfield, swarm):\n",
    "    surfvelxmaxfn = fn.view.min_max(velfield[0])\n",
    "    surfvelxmaxfn.evaluate(swarm)\n",
    "    return surfvelxmaxfn.max_global()\n",
    "\n",
    "def max_vy_surf(velfield, swarm):\n",
    "    surfvelxmaxfn = fn.view.min_max(velfield[1])\n",
    "    surfvelxmaxfn.evaluate(swarm)\n",
    "    return surfvelxmaxfn.max_global()\n",
    "\n",
    "def gravwork(workfn):\n",
    "    return workfn.evaluate()[0]\n",
    "\n",
    "def viscdis(vdissfn):\n",
    "    return vdissfn.evaluate()[0]\n",
    "\n",
    "def visc_extr(viscfn):\n",
    "    vuviscfn = fn.view.min_max(viscfn)\n",
    "    vuviscfn.evaluate(linearMesh)\n",
    "    return vuviscfn.max_global(), vuviscfn.min_global()"
   ]
  },
  {
   "cell_type": "code",
   "execution_count": 265,
   "metadata": {
    "collapsed": false
   },
   "outputs": [
    {
     "data": {
      "text/plain": [
       "<glucifer._glucifer.Figure at 0x11d6db1d0>"
      ]
     },
     "execution_count": 265,
     "metadata": {},
     "output_type": "execute_result"
    }
   ],
   "source": [
    "#Fields for saving data / fields\n",
    "\n",
    "rmsField = uw.fevariable.FeVariable( feMesh=linearMesh,   nodeDofCount=1)\n",
    "rmsfn = fn.math.sqrt(fn.math.dot(velocityField,velocityField))\n",
    "rmsdata = rmsfn.evaluate(linearMesh)\n",
    "rmsField.data[:] = rmsdata \n",
    "\n",
    "viscField = uw.fevariable.FeVariable( feMesh=linearMesh,   nodeDofCount=1)\n",
    "viscdata = viscosityFn2.evaluate(linearMesh)\n",
    "viscField.data[:] = viscdata\n",
    "\n",
    "\n",
    "stressField = uw.fevariable.FeVariable( feMesh=linearMesh,   nodeDofCount=1)\n",
    "srtdata = fn.tensor.second_invariant( \n",
    "                    fn.tensor.symmetric( \n",
    "                        velocityField.gradientFn ))\n",
    "rostfield = srtdata.evaluate(linearMesh)\n",
    "stressinv = 2*viscdata*rostfield[:]\n",
    "stressField.data[:] = stressinv\n",
    "\n",
    "\n",
    "\n",
    "##Gldbs:\n",
    "\n",
    "viscVariable = gSwarm.add_variable( dataType=\"float\", count=1 )\n",
    "viscVariable.data[:] = viscosityMapFn.evaluate(gSwarm)\n",
    "figEta = glucifer.Figure()\n",
    "figEta + glucifer.objects.Points(gSwarm,materialVariable, colours='brown white red blue')\n",
    "figEta + glucifer.objects.Points(gSwarm,viscVariable)\n",
    "\n",
    "\n",
    "\n"
   ]
  },
  {
   "cell_type": "markdown",
   "metadata": {},
   "source": [
    "Main simulation loop\n",
    "=======\n",
    "\n",
    "The main time stepping loop begins here. Before this the time and timestep are initialised to zero and the output statistics arrays are set up. Also the frequency of outputting basic statistics to the screen is set in steps_output.\n"
   ]
  },
  {
   "cell_type": "code",
   "execution_count": 266,
   "metadata": {
    "collapsed": true
   },
   "outputs": [],
   "source": [
    "pics = uw.swarm.PICIntegrationSwarm(gSwarm)"
   ]
  },
  {
   "cell_type": "code",
   "execution_count": 267,
   "metadata": {
    "collapsed": false
   },
   "outputs": [],
   "source": [
    "realtime = 0.\n",
    "step = 0\n",
    "timevals = [0.]\n",
    "steps_end = 5\n",
    "steps_display_info = 20\n",
    "swarm_update = 10\n",
    "swarm_repop = 100\n",
    "files_output = 400\n",
    "gldbs_output = 1e6\n",
    "checkpoint_every = 10000\n",
    "metric_output = np.floor(10.*RES/64)"
   ]
  },
  {
   "cell_type": "code",
   "execution_count": 268,
   "metadata": {
    "collapsed": true
   },
   "outputs": [],
   "source": [
    "def checkpoint(step, path):\n",
    "    velfile = \"velocityField\" + str(step) + \".hdf5\"\n",
    "    tempfile = \"temperatureField\" + str(step) + \".hdf5\"\n",
    "    pressfile = \"pressureField\" + str(step) + \".hdf5\"\n",
    "    swarmfile = \"materialSwarm\" + str(step) + \".hdf5\"\n",
    "    velocityField.save(os.path.join(path, velfile))\n",
    "    temperatureField.save(os.path.join(path, tempfile))\n",
    "    pressureField.save(os.path.join(path, pressfile))\n",
    "    gSwarm.save(os.path.join(path, swarmfile))"
   ]
  },
  {
   "cell_type": "code",
   "execution_count": 269,
   "metadata": {
    "collapsed": false
   },
   "outputs": [],
   "source": [
    "# initialise timer for computation\n",
    "start = time.clock()\n",
    "# setup summary output file (name above)\n",
    "f_o = open(outputPath+outputFile, 'w')\n",
    "# Perform steps\n",
    "#while realtime < 0.05:\n",
    "while step < 5:\n",
    "    #Enter non-linear loop\n",
    "    print step\n",
    "    solver.solve(nonLinearIterate=True)\n",
    "    dt = advDiff.get_max_dt()\n",
    "    if step == 0:\n",
    "        dt = 0.\n",
    "    advDiff.integrate(dt)\n",
    "    # Advect swarm using this timestep size\n",
    "    advector.integrate(dt)\n",
    "    # Increment\n",
    "    realtime += dt\n",
    "    step += 1\n",
    "    timevals.append(realtime)\n",
    "    #Update any swarm variables and temperature field in the air region\n",
    "    tempVariable.data[:] = temperatureField.evaluate(gSwarm)[:]\n",
    "    for index, coord in enumerate(linearMesh.data):\n",
    "        if coord[1] >= 1.:\n",
    "            temperatureField.data[index] = 0.   \n",
    "    # Calculate the Metrics, only on 1 of the processors:\n",
    "    if (step % metric_output == 0):\n",
    "        tempVariable.data[:] = temperatureField.evaluate(gSwarm)[:]\n",
    "        Avg_temp = avg_temp()\n",
    "        Rms = rms()\n",
    "        Max_vx_surf = max_vx_surf(velocityField, surfintswarm)\n",
    "        Gravwork = gravwork(dwint)\n",
    "        Viscdis = viscdis(vdint)\n",
    "        Viscdisair = viscdis(vdintair)\n",
    "        Viscdislith = viscdis(vdintlith)\n",
    "        etamax, etamin = visc_extr(viscosityFn2)\n",
    "        #These are the ones that need mpi4py treatment\n",
    "        Nu0loc = nusselt(temperatureField, baseintswarm, dx)\n",
    "        Nu1loc = nusselt(temperatureField, surfintswarm, dx)\n",
    "        Rmsurfloc = rms_surf(surfintswarm, dx)\n",
    "        #Setup the global output arrays\n",
    "        dTp = Nu0loc.dtype\n",
    "        Nu0glob = np.array(0, dtype=dTp)\n",
    "        dTp = Nu1loc.dtype\n",
    "        Nu1glob = np.array(0, dtype=dTp)\n",
    "        dTp = Rmsurfloc.dtype\n",
    "        Rmsurfglob = np.array(0, dtype=dTp)\n",
    "        #Do global sum\n",
    "        comm.Allreduce(Nu0loc, Nu0glob, op=MPI.SUM)\n",
    "        comm.Allreduce(Nu1loc, Nu1glob, op=MPI.SUM)\n",
    "        comm.Allreduce(Rmsurfloc, Rmsurfglob, op=MPI.SUM)\n",
    "        # output to summary text file\n",
    "        if uw.rank()==0:\n",
    "            f_o.write((13*'%-15s ' + '\\n') % (realtime, Viscdis, float(Nu0glob), float(Nu1glob), Avg_temp, \n",
    "                                              Rms,Rmsurfglob,Max_vx_surf,Gravwork, etamax, etamin, Viscdisair, Viscdislith))\n",
    "    #if step %  steps_display_info == 0:\n",
    "    # output image to file\n",
    "    if (step % files_output == 0) & (writeFiles == True):\n",
    "        ##Files to save\n",
    "        fnametemp = \"temperatureField\" + \"_\" + str(ModIt) + \"_\" + str(step) + \".hdf5\"\n",
    "        fullpath = os.path.join(outputPath + \"files/\" + fnametemp)\n",
    "        temperatureField.save(fullpath)\n",
    "        #RMS\n",
    "        fnamerms = \"rmsField\" + \"_\" + str(ModIt) + \"_\" + str(step) + \".hdf5\"\n",
    "        fullpath = os.path.join(outputPath + \"files/\" + fnamerms)\n",
    "        rmsField.save(fullpath)\n",
    "     \n",
    "    if (step % gldbs_output == 0) & (writeFiles == True):\n",
    "        #Rebuild any necessary swarm variables\n",
    "        viscVariable.data[:] = viscosityMapFn.evaluate(gSwarm)\n",
    "        #Write gldbs\n",
    "        fnamedb = \"viscFig\" + \"_\" + str(ModIt) + \"_\" + str(step) + \".gldb\"\n",
    "        fullpath = os.path.join(outputPath + \"gldbs/\" + fnamedb)\n",
    "        figEta.save_database(fullpath)\n",
    "    ################\n",
    "    #Particle update\n",
    "    ###############\n",
    "    particledepths = 1. - gSwarm.particleCoordinates.data[:,1]\n",
    "    particletemps = temperatureField.evaluate(gSwarm)[:,0]\n",
    "    conditionmap['depthcondition']['data'] = particledepths\n",
    "    conditionmap['avgtempcondition']['data'] = particletemps\n",
    "    if step % swarm_update == 0:\n",
    "        number_updated = 0\n",
    "        for particleID in range(gSwarm.particleCoordinates.data.shape[0]):\n",
    "            check = update_swarm(DG, particleID)\n",
    "            if check > -1:\n",
    "                number_updated += 1\n",
    "                #if check == 0:\n",
    "                #    print \"from \" + str(materialVariable.data[particleID]) + \" to \" + str(check)\n",
    "                materialVariable.data[particleID] = check\n",
    "            else:\n",
    "                pass\n",
    "        #Also update those integration swarms\n",
    "        rockIntVar.data[:] = 0.\n",
    "        notair = np.where(materialVariable.data != airIndex)\n",
    "        rockIntVar.data[notair] = 1.\n",
    "        airIntVar.data[:] = 0.\n",
    "        notrock = np.where(materialVariable.data == airIndex)\n",
    "        airIntVar.data[notrock] = 1.\n",
    "        lithIntVar.data[:] = 0.\n",
    "        islith = np.where((materialVariable.data == lithosphereIndex) | (materialVariable.data == crustIndex))\n",
    "        lithIntVar.data[islith] = 1.\n",
    "    #Also repopulate\n",
    "    if step % swarm_repop == 0:\n",
    "        pics.repopulate()\n",
    "        \n",
    "f_o.close()\n",
    "#checkpoint(step, checkpointPath)"
   ]
  },
  {
   "cell_type": "code",
   "execution_count": 270,
   "metadata": {
    "collapsed": false
   },
   "outputs": [],
   "source": [
    "#viscVariable = gSwarm.add_variable( dataType=\"float\", count=1 )\n",
    "#viscVariable.data[:] = viscosityMapFn.evaluate(gSwarm)\n",
    "#figEta = glucifer.Figure()\n",
    "#figEta + glucifer.objects.Points(gSwarm,viscVariable,colours='white yellow red green blue black')\n",
    "#figEta + glucifer.objects.VectorArrows(linearMesh,velocityField, arrowHeadSize=0.002,lengthScale=0.0000002)\n",
    "#figEta + glucifer.objects.Points(gSwarm,materialVariable, colours='brown white blue')\n",
    "#figEta + glucifer.objects.Points(gSwarm,rockIntVar, colours='red black')\n",
    "#figEta + glucifer.objects.Points( swarm=surfintswarm,  pointSize=2.0)\n",
    "\n",
    "#figEta + glucifer.objects.Mesh(linearMesh)\n",
    "#figEta.save_database('test_mesh_refine.gldb')\n",
    "\n",
    "\n",
    "\n",
    "\n",
    "#figEta.Points(gSwarm,materialVariable)\n",
    "#figEta.show()"
   ]
  },
  {
   "cell_type": "code",
   "execution_count": 271,
   "metadata": {
    "collapsed": true
   },
   "outputs": [],
   "source": [
    "#figEta.save_database('test.gldb')"
   ]
  },
  {
   "cell_type": "code",
   "execution_count": 398,
   "metadata": {
    "collapsed": false
   },
   "outputs": [
    {
     "data": {
      "text/html": [
       "<img src='data:image/png;base64,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'>"
      ],
      "text/plain": [
       "<IPython.core.display.HTML object>"
      ]
     },
     "execution_count": 398,
     "metadata": {},
     "output_type": "execute_result"
    }
   ],
   "source": [
    "\n",
    "fig3 = glucifer.Figure()\n",
    "velmagfield = uw.function.math.sqrt( uw.function.math.dot(velocityField,velocityField) )\n",
    "fig3 + glucifer.objects.VectorArrows( elementMesh, velocityField, arrowHead=0.3, scaling=0.05, glyphs=3, )\n",
    "fig3 + glucifer.objects.Surface(elementMesh, temperatureField)\n",
    "fig3.show()\n",
    "#fig3.save_database('test.gldb')\n",
    " "
   ]
  },
  {
   "cell_type": "code",
   "execution_count": 278,
   "metadata": {
    "collapsed": false
   },
   "outputs": [
    {
     "name": "stdout",
     "output_type": "stream",
     "text": [
      "total time is: 318.839703\n"
     ]
    }
   ],
   "source": [
    "machine_time = (time.clock()-start)\n",
    "print(\"total time is: \" + str(machine_time))"
   ]
  },
  {
   "cell_type": "code",
   "execution_count": 279,
   "metadata": {
    "collapsed": false
   },
   "outputs": [
    {
     "name": "stdout",
     "output_type": "stream",
     "text": [
      "velocity max on horizontal bounds is: 0.00197625188933\n"
     ]
    }
   ],
   "source": [
    "print(\"velocity max on horizontal bounds is: \" + str(velocityField[0].evaluate(IWalls).max()))\n"
   ]
  },
  {
   "cell_type": "code",
   "execution_count": 281,
   "metadata": {
    "collapsed": false
   },
   "outputs": [],
   "source": [
    "#velocityField[0].evaluate(IWalls)"
   ]
  }
 ],
 "metadata": {
  "kernelspec": {
   "display_name": "Python 2",
   "language": "python",
   "name": "python2"
  },
  "language_info": {
   "codemirror_mode": {
    "name": "ipython",
    "version": 2
   },
   "file_extension": ".py",
   "mimetype": "text/x-python",
   "name": "python",
   "nbconvert_exporter": "python",
   "pygments_lexer": "ipython2",
   "version": "2.7.10"
  }
 },
 "nbformat": 4,
 "nbformat_minor": 0
}
