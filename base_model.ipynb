{
 "cells": [
  {
   "cell_type": "markdown",
   "metadata": {
    "collapsed": true
   },
   "source": [
    "\n",
    "Viscoplastic thermal convection in a 2-D square box\n",
    "=======\n",
    "\n",
    "Benchmarks from Tosi et al. 2015\n",
    "--------\n",
    "\n"
   ]
  },
  {
   "cell_type": "markdown",
   "metadata": {
    "collapsed": true
   },
   "source": [
    "This notebook generates models from the <a name=\"ref-1\"/>[(Tosi et al., 2015)](#cite-tosi2015community) in Underworld2. The Underworld2 results are compared to the model run on Fenics. Input files for the Fenics models were provided by Petra Maierova.\n",
    "\n",
    "This example uses the RT PIC solver with classic and nearest neighbour\n",
    "\n",
    "\n",
    "References\n",
    "====\n",
    "\n",
    "<a name=\"cite-tosi2015community\"/><sup>[^](#ref-1) </sup>Tosi, Nicola and Stein, Claudia and Noack, Lena and H&uuml;ttig, Christian and Maierov&aacute;, Petra and Samuel, Henri and Davies, DR and Wilson, CR and Kramer, SC and Thieulot, Cedric and others. 2015. _A community benchmark for viscoplastic thermal convection in a 2-D square box_.\n",
    "\n"
   ]
  },
  {
   "cell_type": "code",
   "execution_count": 1,
   "metadata": {
    "collapsed": false
   },
   "outputs": [],
   "source": [
    "#pwd"
   ]
  },
  {
   "cell_type": "markdown",
   "metadata": {},
   "source": [
    "Load python functions needed for underworld. Some additional python functions from os, math and numpy used later on."
   ]
  },
  {
   "cell_type": "code",
   "execution_count": 2,
   "metadata": {
    "collapsed": false
   },
   "outputs": [],
   "source": [
    "import underworld as uw\n",
    "import math\n",
    "from underworld import function as fn\n",
    "import glucifer\n",
    "#import matplotlib.pyplot as pyplot\n",
    "import time\n",
    "import numpy as np\n",
    "import os\n",
    "import sys\n",
    "import natsort\n",
    "import shutil\n",
    "\n",
    "from mpi4py import MPI\n",
    "comm = MPI.COMM_WORLD\n",
    "rank = comm.Get_rank()"
   ]
  },
  {
   "cell_type": "code",
   "execution_count": 3,
   "metadata": {
    "collapsed": false
   },
   "outputs": [],
   "source": [
    "############\n",
    "#Need to manually set these two\n",
    "############\n",
    "Model = \"T\"\n",
    "ModNum = 5\n",
    "\n",
    "if len(sys.argv) == 1:\n",
    "    ModIt = \"Base\"\n",
    "elif sys.argv[1] == '-f':\n",
    "    ModIt = \"Base\"\n",
    "else:\n",
    "    ModIt = str(sys.argv[1])\n"
   ]
  },
  {
   "cell_type": "code",
   "execution_count": null,
   "metadata": {
    "collapsed": true
   },
   "outputs": [],
   "source": []
  },
  {
   "cell_type": "markdown",
   "metadata": {},
   "source": [
    "Set physical constants and parameters, including the Rayleigh number (*RA*). "
   ]
  },
  {
   "cell_type": "code",
   "execution_count": 4,
   "metadata": {
    "collapsed": true
   },
   "outputs": [],
   "source": [
    "#Do you want to write hdf5 files - Temp, RMS, viscosity, stress?\n",
    "writeFiles = True\n",
    "loadTemp = True\n",
    "refineMesh = True"
   ]
  },
  {
   "cell_type": "code",
   "execution_count": 5,
   "metadata": {
    "collapsed": false
   },
   "outputs": [],
   "source": [
    "ETA_T = 1e5\n",
    "newvisc= math.exp(math.log(ETA_T)*0.53)\n"
   ]
  },
  {
   "cell_type": "code",
   "execution_count": 6,
   "metadata": {
    "collapsed": false
   },
   "outputs": [
    {
     "data": {
      "text/plain": [
       "446.6835921509633"
      ]
     },
     "execution_count": 6,
     "metadata": {},
     "output_type": "execute_result"
    }
   ],
   "source": [
    "newvisc"
   ]
  },
  {
   "cell_type": "code",
   "execution_count": 7,
   "metadata": {
    "collapsed": false
   },
   "outputs": [],
   "source": [
    "###########\n",
    "#Constants\n",
    "###########\n",
    "RA  = 1e2*newvisc       # Rayleigh number\n",
    "TS  = 0          # surface temperature\n",
    "TB  = 1          # bottom boundary temperature (melting point)\n",
    "ETA_T = 1e5\n",
    "ETA_Y = 10\n",
    "ETA0 = 1e-3*newvisc\n",
    "YSTRESS = 1.*newvisc\n",
    "D = 2890.\n",
    "\n",
    "MINX = -1.\n",
    "ALPHA = 11.\n",
    "\n",
    "stickyAir = True"
   ]
  },
  {
   "cell_type": "code",
   "execution_count": 8,
   "metadata": {
    "collapsed": false
   },
   "outputs": [],
   "source": [
    "\n",
    "    \n",
    "if MINX == 0.:\n",
    "    squareModel = True\n",
    "else: \n",
    "    squareModel = False\n"
   ]
  },
  {
   "cell_type": "code",
   "execution_count": 9,
   "metadata": {
    "collapsed": false
   },
   "outputs": [],
   "source": [
    "##########\n",
    "#variables, these can be defined with STDIN,\n",
    "##########\n",
    "#The == '-f': check is just to check if we're running a notebook - careful, haven't tested\n",
    "    \n",
    "#Watch the type assignemnt on sys.argv[1]\n",
    "\n",
    "DEFAULT = 96\n",
    "ModIt   = str(DEFAULT)\n",
    "    \n",
    "    \n",
    "if len(sys.argv) == 1:\n",
    "    RES = DEFAULT\n",
    "elif sys.argv[1] == '-f':\n",
    "    RES = DEFAULT\n",
    "else:\n",
    "    RES = int(sys.argv[1])\n",
    "    "
   ]
  },
  {
   "cell_type": "code",
   "execution_count": 10,
   "metadata": {
    "collapsed": true
   },
   "outputs": [],
   "source": [
    "outputPath = \"results\" + \"/\" +  str(Model) + \"/\" + str(ModNum) + \"/\"\n",
    "imagePath = outputPath + 'images/'\n",
    "filePath = outputPath + 'files/'\n",
    "checkpointPath = outputPath + 'checkpoint/'\n",
    "dbPath = outputPath + 'gldbs/'\n",
    "outputFile = 'results_model' + Model + '_' + str(ModNum) + '_' + str(ModIt) + '.dat'\n",
    "\n",
    "if uw.rank()==0:\n",
    "    # make directories if they don't exist\n",
    "    if not os.path.isdir(outputPath):\n",
    "        os.makedirs(outputPath)\n",
    "    if not os.path.isdir(checkpointPath):\n",
    "        os.makedirs(checkpointPath)\n",
    "    if not os.path.isdir(imagePath):\n",
    "        os.makedirs(imagePath)\n",
    "    if not os.path.isdir(dbPath):\n",
    "        os.makedirs(dbPath)\n",
    "    if not os.path.isdir(filePath):\n",
    "        os.makedirs(filePath)"
   ]
  },
  {
   "cell_type": "code",
   "execution_count": 11,
   "metadata": {
    "collapsed": false
   },
   "outputs": [],
   "source": [
    "dim = 2          # number of spatial dimensions\n",
    "\n",
    "\n",
    "if MINX == 0.:\n",
    "    Xres = RES\n",
    "else:\n",
    "    Xres = 2*RES\n",
    "    \n",
    "if stickyAir:\n",
    "    Yres = RES + 8\n",
    "    MAXY = float(Yres)/RES\n",
    "    \n",
    "else:\n",
    "    Yres = RES\n",
    "    MAXY = 1.\n",
    "    "
   ]
  },
  {
   "cell_type": "code",
   "execution_count": 12,
   "metadata": {
    "collapsed": false
   },
   "outputs": [
    {
     "data": {
      "text/plain": [
       "1.0833333333333333"
      ]
     },
     "execution_count": 12,
     "metadata": {},
     "output_type": "execute_result"
    }
   ],
   "source": [
    "MAXY"
   ]
  },
  {
   "cell_type": "code",
   "execution_count": 13,
   "metadata": {
    "collapsed": false
   },
   "outputs": [
    {
     "data": {
      "text/plain": [
       "(192, 104)"
      ]
     },
     "execution_count": 13,
     "metadata": {},
     "output_type": "execute_result"
    }
   ],
   "source": [
    "Xres, Yres"
   ]
  },
  {
   "cell_type": "code",
   "execution_count": 14,
   "metadata": {
    "collapsed": false
   },
   "outputs": [
    {
     "data": {
      "text/plain": [
       "(1.0833333333333333, 0.010416666666666666, 30.104166666666664)"
      ]
     },
     "execution_count": 14,
     "metadata": {},
     "output_type": "execute_result"
    }
   ],
   "source": [
    "yelsize = MAXY/Yres\n",
    "MAXY, yelsize, yelsize*D"
   ]
  },
  {
   "cell_type": "markdown",
   "metadata": {},
   "source": [
    "Select which case of viscosity from Tosi et al (2015) to use. Adjust the yield stress to be =1 for cases 1-4, or between 3.0 and 5.0 (in increments of 0.1) in case 5."
   ]
  },
  {
   "cell_type": "markdown",
   "metadata": {},
   "source": [
    "Set output file and directory for results"
   ]
  },
  {
   "cell_type": "markdown",
   "metadata": {},
   "source": [
    "Create mesh objects. These store the indices and spatial coordiates of the grid points on the mesh."
   ]
  },
  {
   "cell_type": "code",
   "execution_count": 15,
   "metadata": {
    "collapsed": false
   },
   "outputs": [],
   "source": [
    "elementMesh = uw.mesh.FeMesh_Cartesian( elementType=(\"Q1/dQ0\"), \n",
    "                                         elementRes=(Xres, Yres), \n",
    "                                           minCoord=(MINX,0.), \n",
    "                                           maxCoord=(1.,MAXY), periodic=[True,False] )\n",
    "linearMesh   = elementMesh\n",
    "constantMesh = elementMesh.subMesh "
   ]
  },
  {
   "cell_type": "markdown",
   "metadata": {},
   "source": [
    "Create Finite Element (FE) variables for the velocity, pressure and temperature fields. The last two of these are scalar fields needing only one value at each mesh point, while the velocity field contains a vector of *dim* dimensions at each mesh point."
   ]
  },
  {
   "cell_type": "code",
   "execution_count": 16,
   "metadata": {
    "collapsed": false
   },
   "outputs": [],
   "source": [
    "velocityField    = uw.fevariable.FeVariable( feMesh=linearMesh,   nodeDofCount=dim )\n",
    "pressureField    = uw.fevariable.FeVariable( feMesh=constantMesh, nodeDofCount=1 )\n",
    "temperatureField = uw.fevariable.FeVariable( feMesh=linearMesh,   nodeDofCount=1 )\n",
    "temperatureDotField = uw.fevariable.FeVariable( feMesh=linearMesh,      nodeDofCount=1 )"
   ]
  },
  {
   "cell_type": "markdown",
   "metadata": {},
   "source": [
    "Create some dummy fevariables for doing top and bottom boundary calculations."
   ]
  },
  {
   "cell_type": "markdown",
   "metadata": {},
   "source": [
    "##Refine mesh"
   ]
  },
  {
   "cell_type": "markdown",
   "metadata": {
    "collapsed": true
   },
   "source": [
    "if refineMesh:\n",
    "    alpha=ALPHA\n",
    "    newys = []\n",
    "    newxs = []\n",
    "    for index, coord in enumerate(linearMesh.data):\n",
    "        y0 = coord[1]\n",
    "        x0 = abs(coord[0])\n",
    "        if y0 >= 1.0:\n",
    "            newy = y0\n",
    "        else:\n",
    "            newy = (math.log(alpha*y0 + math.e) - 1)*(1/(math.log(alpha + math.e) - 1))\n",
    "        newx = (math.log((alpha/2.)*x0 + math.e) - 1)*(1/(math.log((alpha/2.) + math.e) - 1))\n",
    "        if coord[0] <= 0:\n",
    "            newx = -1.*newx\n",
    "        newys.append(newy)\n",
    "        newxs.append(newx)\n",
    "        \n",
    "    with linearMesh.deform_mesh():\n",
    "        linearMesh.data[:,1] = newys\n",
    "        linearMesh.data[:,0] = newxs"
   ]
  },
  {
   "cell_type": "code",
   "execution_count": 17,
   "metadata": {
    "collapsed": true
   },
   "outputs": [],
   "source": [
    "#THis one for the rectangular mesh\n",
    "\n",
    "if refineMesh:\n",
    "    alpha = ALPHA\n",
    "    newys = []\n",
    "    newxs = []\n",
    "    for index, coord in enumerate(linearMesh.data):\n",
    "        y0 = coord[1]\n",
    "        x0 = abs(coord[0])\n",
    "        if y0 >= 1.0:\n",
    "            newy = y0\n",
    "        else:\n",
    "            newy = (math.log(alpha*y0 + math.e) - 1)*(1/(math.log(alpha + math.e) - 1))\n",
    "        if coord[0] > 0:\n",
    "            newx = (math.e**(x0*(math.log((alpha/2.) + math.e) - 1) + 1 ) - math.e)/(alpha/2.)     \n",
    "        else:\n",
    "            newx = -1.*(math.e**(x0*(math.log((alpha/2.) + math.e) - 1) + 1 ) - math.e)/(alpha/2.)\n",
    "        newys.append(newy)\n",
    "        newxs.append(newx)\n",
    "        #print y0,newy\n",
    "        \n",
    "    with linearMesh.deform_mesh():\n",
    "            linearMesh.data[:,1] = newys\n",
    "            linearMesh.data[:,0] = newxs"
   ]
  },
  {
   "cell_type": "markdown",
   "metadata": {},
   "source": [
    "#Check if starting from checkpoint"
   ]
  },
  {
   "cell_type": "code",
   "execution_count": 18,
   "metadata": {
    "collapsed": false
   },
   "outputs": [
    {
     "name": "stdout",
     "output_type": "stream",
     "text": [
      "results/T/5/checkpoint/ is empty\n"
     ]
    }
   ],
   "source": [
    "checkdirs = []\n",
    "for dirpath, dirnames, files in os.walk(checkpointPath):\n",
    "    if files:\n",
    "        print dirpath, 'has files'\n",
    "        checkpointLoad = True\n",
    "        checkdirs.append(dirpath)\n",
    "    if not files:\n",
    "        print dirpath, 'is empty'\n",
    "        checkpointLoad = False"
   ]
  },
  {
   "cell_type": "markdown",
   "metadata": {},
   "source": [
    "#ICs and BCs"
   ]
  },
  {
   "cell_type": "code",
   "execution_count": 19,
   "metadata": {
    "collapsed": false
   },
   "outputs": [],
   "source": [
    "# Initialise data.. Note that we are also setting boundary conditions here\n",
    "velocityField.data[:] = [0.,0.]\n",
    "pressureField.data[:] = 0.\n",
    "temperatureField.data[:] = 0.\n",
    "temperatureDotField.data[:] = 0.\n",
    "\n",
    "# Setup temperature initial condition via numpy arrays\n",
    "A = 0.01\n",
    "#Note that width = height = 1\n",
    "tempNump = temperatureField.data\n",
    "for index, coord in enumerate(linearMesh.data):\n",
    "    pertCoeff = (1- coord[1]) + A*math.cos( math.pi * abs(1. - coord[0]) ) * math.sin( math.pi * coord[1] )\n",
    "    tempNump[index] = pertCoeff;\n",
    "    if coord[1] > 1:\n",
    "        tempNump[index] = 0."
   ]
  },
  {
   "cell_type": "code",
   "execution_count": 20,
   "metadata": {
    "collapsed": false
   },
   "outputs": [],
   "source": [
    "#For notebook runs\n",
    "#ModIt = \"96\""
   ]
  },
  {
   "cell_type": "code",
   "execution_count": 21,
   "metadata": {
    "collapsed": false
   },
   "outputs": [],
   "source": [
    "if checkdirs:\n",
    "    print 'not'"
   ]
  },
  {
   "cell_type": "code",
   "execution_count": 22,
   "metadata": {
    "collapsed": false
   },
   "outputs": [],
   "source": [
    "########################################\n",
    "#No sticky air, square models\n",
    "########################################\n",
    "\n",
    "if (loadTemp == True) and (refineMesh == False) and (squareModel == True) and (stickyAir == False) and (checkdirs == False):\n",
    "    print \"True\"\n",
    "    if ModIt == str(96):\n",
    "        temperatureField.load('temp_ics/1.0_96_init_temp.hdf5')\n",
    "    elif ModIt == str(128):\n",
    "        temperatureField.load('temp_ics/1.0_128_init_temp.hdf5')\n",
    "    elif ModIt == str(144):\n",
    "        temperatureField.load('temp_ics/1.0_144_init_temp.hdf5')\n",
    "    elif ModIt == str(192):\n",
    "        temperatureField.load('temp_ics/1.0_192_init_temp.hdf5')\n",
    "    elif ModIt == str(256):\n",
    "        temperatureField.load('temp_ics/1.0_256_init_temp.hdf5')\n",
    "elif (loadTemp == True) and (refineMesh == False) and (squareModel == True) and (stickyAir == False) and (checkdirs == False):\n",
    "    print \"True\"\n",
    "    if ModIt == str(96):\n",
    "        temperatureField.load('temp_ics/r11_1.0_96_init_temp.hdf5')\n",
    "    elif ModIt == str(128):\n",
    "        temperatureField.load('temp_ics/r11_1.0_128_init_temp.hdf5')\n",
    "    elif ModIt == str(144):\n",
    "        temperatureField.load('temp_ics/r11_1.0_144_init_temp.hdf5')\n",
    "    elif ModIt == str(192):\n",
    "        temperatureField.load('temp_ics/r11_1.0_192_init_temp.hdf5')\n",
    "    elif ModIt == str(256):\n",
    "        temperatureField.load('temp_ics/r11_1.0_256_init_temp.hdf5') "
   ]
  },
  {
   "cell_type": "code",
   "execution_count": 23,
   "metadata": {
    "collapsed": false
   },
   "outputs": [],
   "source": [
    "########################################\n",
    "#Sticky air, square models\n",
    "########################################\n",
    "if (loadTemp == True) and (refineMesh == False) and (squareModel == True) and (stickyAir == False) and (checkdirs == False):\n",
    "    print \"True\"\n",
    "    if ModIt == str(96):\n",
    "        temperatureField.load('temp_ics/sqa_96_init_temp.hdf5')\n",
    "    elif ModIt == str(128):\n",
    "        temperatureField.load('temp_ics/sqa_128_init_temp.hdf5')\n",
    "    elif ModIt == str(144):\n",
    "        temperatureField.load('temp_ics/sqa_144_init_temp.hdf5')\n",
    "    elif ModIt == str(192):\n",
    "        temperatureField.load('temp_ics/sqa_192_init_temp.hdf5')\n",
    "    elif ModIt == str(256):\n",
    "        temperatureField.load('temp_ics/sqa_256_init_temp.hdf5')\n",
    "elif (loadTemp == True) and (refineMesh == False) and (squareModel == True) and (stickyAir == False) and (checkdirs == False):\n",
    "    print \"True\"\n",
    "    if ModIt == str(96):\n",
    "        temperatureField.load('temp_ics/r11_sqa_96_init_temp.hdf5')\n",
    "    elif ModIt == str(128):\n",
    "        temperatureField.load('temp_ics/r11_sqa_128_init_temp.hdf5')\n",
    "    elif ModIt == str(144):\n",
    "        temperatureField.load('temp_ics/r11_sqa_144_init_temp.hdf5')\n",
    "    elif ModIt == str(192):\n",
    "        temperatureField.load('temp_ics/r11_sqa_192_init_temp.hdf5')\n",
    "    elif ModIt == str(256):\n",
    "        temperatureField.load('temp_ics/r11_sqa_256_init_temp.hdf5') "
   ]
  },
  {
   "cell_type": "code",
   "execution_count": 24,
   "metadata": {
    "collapsed": false
   },
   "outputs": [],
   "source": [
    "########################################\n",
    "#Sticky air, rectangular models\n",
    "########################################\n",
    "\n",
    "if (loadTemp == True) and (refineMesh == False) and (squareModel == True) and (stickyAir == False) and (checkdirs == False):\n",
    "    print \"True\"\n",
    "    if ModIt == str(96):\n",
    "        temperatureField.load('temp_ics/sa_96_init_temp.hdf5')\n",
    "    elif ModIt == str(128):\n",
    "        temperatureField.load('temp_ics/sa_128_init_temp.hdf5')\n",
    "    elif ModIt == str(144):\n",
    "        temperatureField.load('temp_ics/sa_144_init_temp.hdf5')\n",
    "    elif ModIt == str(192):\n",
    "        temperatureField.load('temp_ics/sa_192_init_temp.hdf5')\n",
    "    elif ModIt == str(256):\n",
    "        temperatureField.load('temp_ics/sa_256_init_temp.hdf5')\n",
    "elif (loadTemp == True) and (refineMesh == False) and (squareModel == True) and (stickyAir == False) and (checkdirs == False):\n",
    "    print \"True\"\n",
    "    if ModIt == str(96):\n",
    "        temperatureField.load('temp_ics/r11_sa_96_init_temp.hdf5')\n",
    "    elif ModIt == str(128):\n",
    "        temperatureField.load('temp_ics/r11_sa_128_init_temp.hdf5')\n",
    "    elif ModIt == str(144):\n",
    "        temperatureField.load('temp_ics/r11_sa_144_init_temp.hdf5')\n",
    "    elif ModIt == str(192):\n",
    "        temperatureField.load('temp_ics/r11_sa_192_init_temp.hdf5')\n",
    "    elif ModIt == str(256):\n",
    "        temperatureField.load('temp_ics/r11_sa_256_init_temp.hdf5')"
   ]
  },
  {
   "cell_type": "markdown",
   "metadata": {
    "collapsed": true
   },
   "source": [
    "dres = 96\n",
    "dummyelementMesh = uw.mesh.FeMesh_Cartesian( elementType = (\"Q1/dQ0\"), \n",
    "                                         elementRes = (dres, dres), \n",
    "                                           minCoord = (0., 0.), \n",
    "                                           maxCoord = (1., 1.))\n",
    "\n",
    "dummytemperatureMesh = dummyelementMesh \n",
    "dummytemperatureField = uw.fevariable.FeVariable( feMesh=dummytemperatureMesh, nodeDofCount=1 )\n",
    "dummytemperatureField.load('temp_ics/temperatureField_4_10200.hdf5')\n",
    "\n",
    "for index, coord in enumerate(linearMesh.data):\n",
    "    #This bit determines whether you see a reflected image or not\n",
    "    #xpos, ypos = (1.- abs(coord[0])), coord[1]\n",
    "    xpos, ypos = (abs(coord[0])), coord[1]\n",
    "    if ypos >= 1:\n",
    "        temperatureField.data[index] = 0.\n",
    "    else:\n",
    "        #print(dummytemperatureField.evaluate((xpos, ypos)))\n",
    "        #randpert = np.random.rand(1)[0]*(50./2500)\n",
    "        randpert = 0.\n",
    "        #Don't know mesh partitions in advance, and possible diferent between 'real' and 'dummy' mesh\n",
    "        try:\n",
    "            temperatureField.data[index] = dummytemperatureField.evaluate((xpos, ypos))  + randpert\n",
    "        except:\n",
    "            pass\n",
    "            \n",
    "temperatureField.save('temp_ics/r11_1.0_144_init_temp.hdf5')"
   ]
  },
  {
   "cell_type": "markdown",
   "metadata": {
    "collapsed": true
   },
   "source": []
  },
  {
   "cell_type": "code",
   "execution_count": null,
   "metadata": {
    "collapsed": true
   },
   "outputs": [],
   "source": []
  },
  {
   "cell_type": "code",
   "execution_count": 77,
   "metadata": {
    "collapsed": false
   },
   "outputs": [],
   "source": [
    "#icfnam= \"R(11)_\" + \"2_\" + str(RES) + \"_init_temp.hdf5\"\n",
    "#icpath = \"temp_ics/\" + icfnam \n",
    "#icfnam= str(Model) + str(ModIt) + \"_init_temp.hdf5\"\n",
    "#temperatureField.save(icpath)\n",
    "#icfnam\n",
    "#icpath"
   ]
  },
  {
   "cell_type": "code",
   "execution_count": 78,
   "metadata": {
    "collapsed": false
   },
   "outputs": [],
   "source": [
    "# Get the actual sets \n",
    "#\n",
    "#  HJJJJJJH\n",
    "#  I      I\n",
    "#  I      I\n",
    "#  I      I\n",
    "#  HJJJJJJH\n",
    "#  \n",
    "#  Note that H = I & J \n",
    "\n",
    "# Note that we use operator overloading to combine sets\n",
    "IWalls = linearMesh.specialSets[\"MinI_VertexSet\"] + linearMesh.specialSets[\"MaxI_VertexSet\"]\n",
    "JWalls = linearMesh.specialSets[\"MinJ_VertexSet\"] + linearMesh.specialSets[\"MaxJ_VertexSet\"]\n",
    "TWalls = linearMesh.specialSets[\"MaxJ_VertexSet\"]\n",
    "BWalls = linearMesh.specialSets[\"MinJ_VertexSet\"]"
   ]
  },
  {
   "cell_type": "code",
   "execution_count": null,
   "metadata": {
    "collapsed": true
   },
   "outputs": [],
   "source": []
  },
  {
   "cell_type": "code",
   "execution_count": 79,
   "metadata": {
    "collapsed": true
   },
   "outputs": [],
   "source": [
    "# Now setup the dirichlet boundary condition\n",
    "# Note that through this object, we are flagging to the system \n",
    "# that these nodes are to be considered as boundary conditions. \n",
    "# Also note that we provide a tuple of sets.. One for the Vx, one for Vy.\n",
    "freeslipBC = uw.conditions.DirichletCondition(     variable=velocityField, \n",
    "                                              nodeIndexSets=(TWalls, JWalls) )\n",
    "\n",
    "# also set dirichlet for temp field\n",
    "tempBC = uw.conditions.DirichletCondition(     variable=temperatureField, \n",
    "                                              nodeIndexSets=(JWalls,) )"
   ]
  },
  {
   "cell_type": "markdown",
   "metadata": {},
   "source": [
    "##Add Random 125 K temp perturbation\n"
   ]
  },
  {
   "cell_type": "code",
   "execution_count": 80,
   "metadata": {
    "collapsed": true
   },
   "outputs": [],
   "source": [
    "tempNump = temperatureField.data\n",
    "for index, coord in enumerate(linearMesh.data):\n",
    "    pertCoeff = (0.05*np.random.rand(1)[0])\n",
    "    ict = tempNump[index]\n",
    "    tempNump[index] = ict + pertCoeff"
   ]
  },
  {
   "cell_type": "markdown",
   "metadata": {},
   "source": [
    "##Reset bottom Dirichlet conds."
   ]
  },
  {
   "cell_type": "code",
   "execution_count": 81,
   "metadata": {
    "collapsed": false
   },
   "outputs": [],
   "source": [
    "# Set temp boundaries \n",
    "# on the boundaries\n",
    "for index in linearMesh.specialSets[\"MinJ_VertexSet\"]:\n",
    "    temperatureField.data[index] = TB\n",
    "for index in linearMesh.specialSets[\"MaxJ_VertexSet\"]:\n",
    "    temperatureField.data[index] = TS"
   ]
  },
  {
   "cell_type": "code",
   "execution_count": 195,
   "metadata": {
    "collapsed": false
   },
   "outputs": [
    {
     "data": {
      "text/plain": [
       "['results/T/5/checkpoint/10',\n",
       " 'results/T/5/checkpoint/15',\n",
       " 'results/T/5/checkpoint/20',\n",
       " 'results/T/5/checkpoint/5']"
      ]
     },
     "execution_count": 195,
     "metadata": {},
     "output_type": "execute_result"
    }
   ],
   "source": [
    "checkdirs"
   ]
  },
  {
   "cell_type": "code",
   "execution_count": null,
   "metadata": {
    "collapsed": true
   },
   "outputs": [],
   "source": []
  },
  {
   "cell_type": "markdown",
   "metadata": {},
   "source": [
    "#Particles"
   ]
  },
  {
   "cell_type": "code",
   "execution_count": 84,
   "metadata": {
    "collapsed": false
   },
   "outputs": [],
   "source": [
    "gSwarm = uw.swarm.Swarm( feMesh=elementMesh )\n",
    "materialVariable = gSwarm.add_variable( dataType=\"char\", count=1 )\n",
    "rockIntVar = gSwarm.add_variable( dataType=\"double\", count=1 )\n",
    "airIntVar = gSwarm.add_variable( dataType=\"double\", count=1 )\n",
    "lithIntVar = gSwarm.add_variable( dataType=\"double\", count=1 )\n",
    "\n",
    "varlist = [materialVariable, rockIntVar, airIntVar, lithIntVar]\n",
    "varnames = ['materialVariable', 'rockIntVar', 'airIntVar', 'lithIntVar']"
   ]
  },
  {
   "cell_type": "markdown",
   "metadata": {},
   "source": [
    "#Swarm checkpoint load"
   ]
  },
  {
   "cell_type": "code",
   "execution_count": 85,
   "metadata": {
    "collapsed": true
   },
   "outputs": [],
   "source": [
    "mantleIndex = 0\n",
    "lithosphereIndex = 1\n",
    "crustIndex = 2\n",
    "airIndex = 3\n",
    "\n",
    "#All depth conditions are given as (km/D) where D is the length scale, \n",
    "#note that 'model depths' are used, e.g. 1-z, where z is the vertical Underworld coordinate\n",
    "#All temp conditions are in dimensionless temp. [0. - 1.]\n",
    "\n",
    "#A few paramters defining lengths scales\n",
    "\n",
    "Crust = 27.\n",
    "CrustM = Crust/D\n",
    "\n",
    "#######Setup some variables which help define condtions\n",
    "#rock-air topography limits\n",
    "dz = 50./D\n",
    "\n",
    "avgtemp = 0.5"
   ]
  },
  {
   "cell_type": "code",
   "execution_count": 193,
   "metadata": {
    "collapsed": false
   },
   "outputs": [
    {
     "name": "stderr",
     "output_type": "stream",
     "text": [
      "Exception RuntimeError: RuntimeError(\"Can't decrement id ref count (Can't close file, there are objects still open)\",) in 'h5py._objects.ObjectID.__dealloc__' ignored\n"
     ]
    },
    {
     "ename": "RuntimeError",
     "evalue": "Swarm appears to already have particles. \nLayouts can only be used with empty swarms.",
     "output_type": "error",
     "traceback": [
      "\u001b[0;31m---------------------------------------------------------------------------\u001b[0m",
      "\u001b[0;31mRuntimeError\u001b[0m                              Traceback (most recent call last)",
      "\u001b[0;32m<ipython-input-193-61fc8549b3e9>\u001b[0m in \u001b[0;36m<module>\u001b[0;34m()\u001b[0m\n\u001b[1;32m     16\u001b[0m     \u001b[0mlayout\u001b[0m \u001b[0;34m=\u001b[0m \u001b[0muw\u001b[0m\u001b[0;34m.\u001b[0m\u001b[0mswarm\u001b[0m\u001b[0;34m.\u001b[0m\u001b[0mlayouts\u001b[0m\u001b[0;34m.\u001b[0m\u001b[0mPerCellRandomLayout\u001b[0m\u001b[0;34m(\u001b[0m\u001b[0mswarm\u001b[0m\u001b[0;34m=\u001b[0m\u001b[0mgSwarm\u001b[0m\u001b[0;34m,\u001b[0m \u001b[0mparticlesPerCell\u001b[0m\u001b[0;34m=\u001b[0m\u001b[0;36m15\u001b[0m\u001b[0;34m)\u001b[0m\u001b[0;34m\u001b[0m\u001b[0m\n\u001b[1;32m     17\u001b[0m     \u001b[0;31m# Now use it to populate.\u001b[0m\u001b[0;34m\u001b[0m\u001b[0;34m\u001b[0m\u001b[0m\n\u001b[0;32m---> 18\u001b[0;31m     \u001b[0mgSwarm\u001b[0m\u001b[0;34m.\u001b[0m\u001b[0mpopulate_using_layout\u001b[0m\u001b[0;34m(\u001b[0m \u001b[0mlayout\u001b[0m\u001b[0;34m=\u001b[0m\u001b[0mlayout\u001b[0m \u001b[0;34m)\u001b[0m\u001b[0;34m\u001b[0m\u001b[0m\n\u001b[0m\u001b[1;32m     19\u001b[0m \u001b[0;34m\u001b[0m\u001b[0m\n\u001b[1;32m     20\u001b[0m     \u001b[0;31m# Lets initialise the 'materialVariable' data to represent different materials\u001b[0m\u001b[0;34m\u001b[0m\u001b[0;34m\u001b[0m\u001b[0m\n",
      "\u001b[0;32m/Users/dansandiford/Documents/programming/checkpoint/underworld2/underworld/swarm/_swarmabstract.pyc\u001b[0m in \u001b[0;36mpopulate_using_layout\u001b[0;34m(self, layout)\u001b[0m\n\u001b[1;32m    167\u001b[0m         \"\"\"\n\u001b[1;32m    168\u001b[0m         \u001b[0;32mif\u001b[0m \u001b[0mself\u001b[0m\u001b[0;34m.\u001b[0m\u001b[0mparticleLocalCount\u001b[0m \u001b[0;34m>\u001b[0m \u001b[0;36m0\u001b[0m\u001b[0;34m:\u001b[0m\u001b[0;34m\u001b[0m\u001b[0m\n\u001b[0;32m--> 169\u001b[0;31m             \u001b[0;32mraise\u001b[0m \u001b[0mRuntimeError\u001b[0m\u001b[0;34m(\u001b[0m\u001b[0;34m\"Swarm appears to already have particles. \\nLayouts can only be used with empty swarms.\"\u001b[0m\u001b[0;34m)\u001b[0m\u001b[0;34m\u001b[0m\u001b[0m\n\u001b[0m\u001b[1;32m    170\u001b[0m         \u001b[0;32mif\u001b[0m \u001b[0;32mnot\u001b[0m \u001b[0misinstance\u001b[0m\u001b[0;34m(\u001b[0m \u001b[0mlayout\u001b[0m\u001b[0;34m,\u001b[0m \u001b[0muw\u001b[0m\u001b[0;34m.\u001b[0m\u001b[0mswarm\u001b[0m\u001b[0;34m.\u001b[0m\u001b[0mlayouts\u001b[0m\u001b[0;34m.\u001b[0m\u001b[0m_ParticleLayout\u001b[0m \u001b[0;34m)\u001b[0m\u001b[0;34m:\u001b[0m\u001b[0;34m\u001b[0m\u001b[0m\n\u001b[1;32m    171\u001b[0m             \u001b[0;32mraise\u001b[0m \u001b[0mTypeError\u001b[0m\u001b[0;34m(\u001b[0m\u001b[0;34m\"Provided layout does not appear to be a subclass of ParticleLayout\"\u001b[0m\u001b[0;34m)\u001b[0m\u001b[0;34m\u001b[0m\u001b[0m\n",
      "\u001b[0;31mRuntimeError\u001b[0m: Swarm appears to already have particles. \nLayouts can only be used with empty swarms."
     ]
    }
   ],
   "source": [
    "if checkpointLoad:\n",
    "    checkpointLoadDir = natsort.natsort(checkdirs)[-1]\n",
    "    temperatureField._oldload(os.path.join(checkpointLoadDir, \"temperatureField\" + \".hdf5\"))\n",
    "    pressureField._oldload(os.path.join(checkpointLoadDir, \"pressureField\" + \".hdf5\"))\n",
    "    velocityField._oldload(os.path.join(checkpointLoadDir, \"velocityField\" + \".hdf5\"))\n",
    "    gSwarm.load(os.path.join(checkpointLoadDir, \"swarm\" + \".h5\"))\n",
    "    for ix in range(len(varlist)):\n",
    "        varb = varlist[ix]\n",
    "        varb.save(os.path.join(checkpointLoadDir,varnames[ix] + \".h5\"), \"swarm.h5\")\n",
    "\n",
    "else:\n",
    "\n",
    "    # Layouts are used to populate the swarm across the whole domain\n",
    "    # Create the layout object\n",
    "    #layout = uw.swarm.layouts.GlobalSpaceFillerLayout( swarm=gSwarm, particlesPerCell=20)\n",
    "    layout = uw.swarm.layouts.PerCellRandomLayout(swarm=gSwarm, particlesPerCell=15)\n",
    "    # Now use it to populate.\n",
    "    gSwarm.populate_using_layout( layout=layout )\n",
    "\n",
    "    # Lets initialise the 'materialVariable' data to represent different materials\n",
    "    # Set the material to heavy everywhere via the numpy array\n",
    "    materialVariable.data[:] = mantleIndex\n",
    "    \n",
    "    \n",
    "    #Set initial air and crust materials (allow the graph to take care of lithsophere)\n",
    "    #########\n",
    "    #This initial material setup will be model dependent\n",
    "    #########\n",
    "    for particleID in range(gSwarm.particleCoordinates.data.shape[0]):\n",
    "        if (1. - gSwarm.particleCoordinates.data[particleID][1]) < 0:\n",
    "                 materialVariable.data[particleID] = airIndex\n",
    "        elif (1. - gSwarm.particleCoordinates.data[particleID][1]) < CrustM:\n",
    "                 materialVariable.data[particleID] = crustIndex\n"
   ]
  },
  {
   "cell_type": "markdown",
   "metadata": {},
   "source": [
    "#Material Graphs"
   ]
  },
  {
   "cell_type": "code",
   "execution_count": 87,
   "metadata": {
    "collapsed": false
   },
   "outputs": [],
   "source": [
    "##############\n",
    "#Important: This is a quick fix for a bug that arises in parallel runs\n",
    "##############\n",
    "material_list = [0,1,2,3]\n"
   ]
  },
  {
   "cell_type": "code",
   "execution_count": null,
   "metadata": {
    "collapsed": true
   },
   "outputs": [],
   "source": [
    "\n",
    "\n",
    "\n",
    "\n",
    "\n",
    "\n"
   ]
  },
  {
   "cell_type": "code",
   "execution_count": 88,
   "metadata": {
    "collapsed": true
   },
   "outputs": [],
   "source": [
    "import networkx as nx\n",
    "\n",
    "#######Graph object\n",
    "DG = nx.DiGraph(field=\"Depth\")\n",
    "\n",
    "#######Nodes\n",
    "#Note that the order of materials, deepest to shallowest is important \n",
    "DG.add_node(0, mat='mantle')\n",
    "DG.add_node(1, mat='lithosphere')\n",
    "DG.add_node(2, mat='crust')\n",
    "DG.add_node(3, mat='air')\n",
    "\n",
    "\n",
    "labels=dict((n,d['mat']) for n,d in DG.nodes(data=True))\n",
    "pos=nx.spring_layout(DG) \n",
    "\n",
    "\n",
    "#######Edges\n",
    "#anything to air\n",
    "DG.add_edges_from([(0,3),(1,3), (2,3)])\n",
    "DG[0][3]['depthcondition'] = -1*dz\n",
    "DG[1][3]['depthcondition'] = -1*dz\n",
    "DG[2][3]['depthcondition'] = -1*dz\n",
    "\n",
    "\n",
    "#Anything to mantle\n",
    "DG.add_edges_from([(2,0), (3,0), (1,0)])\n",
    "DG[3][0]['depthcondition'] = dz\n",
    "DG[2][0]['depthcondition'] = (300./D)\n",
    "DG[1][0]['depthcondition'] = (660./D) #This means we're going to kill lithosphere at the 660.\n",
    "\n",
    "\n",
    "#Anything to lithsphere\n",
    "DG.add_edges_from([(0,1),(3,1)])\n",
    "DG[0][1]['depthcondition'] = 200./D\n",
    "DG[0][1]['avgtempcondition'] = 0.75*avgtemp #definition of thermal lithosphere\n",
    "\n",
    "\n",
    "#Anything to crust\n",
    "DG.add_edges_from([(0,2), (1,2)])\n",
    "DG[0][2]['depthcondition'] = CrustM\n",
    "DG[1][2]['depthcondition'] = CrustM"
   ]
  },
  {
   "cell_type": "code",
   "execution_count": 89,
   "metadata": {
    "collapsed": false
   },
   "outputs": [
    {
     "data": {
      "text/plain": [
       "[0, 1, 2, 3]"
      ]
     },
     "execution_count": 89,
     "metadata": {},
     "output_type": "execute_result"
    }
   ],
   "source": [
    "DG.nodes()"
   ]
  },
  {
   "cell_type": "code",
   "execution_count": 90,
   "metadata": {
    "collapsed": false
   },
   "outputs": [],
   "source": [
    "remove_nodes = []\n",
    "for node in DG.nodes():\n",
    "    if not node in material_list:\n",
    "        remove_nodes.append(node)\n",
    "        \n",
    "for rmnode in remove_nodes:\n",
    "    DG.remove_node(rmnode)"
   ]
  },
  {
   "cell_type": "code",
   "execution_count": 91,
   "metadata": {
    "collapsed": false
   },
   "outputs": [
    {
     "data": {
      "text/plain": [
       "[0, 1, 2, 3]"
      ]
     },
     "execution_count": 91,
     "metadata": {},
     "output_type": "execute_result"
    }
   ],
   "source": [
    "DG.nodes()"
   ]
  },
  {
   "cell_type": "code",
   "execution_count": 92,
   "metadata": {
    "collapsed": false
   },
   "outputs": [],
   "source": [
    "#remove_nodes = []\n",
    "#for node in DG.nodes_iter():\n",
    "#    if not node in material_list:\n",
    "#        remove_nodes.append(node)\n",
    "        \n",
    "#for rmnode in remove_nodes:\n",
    "#    DG.remove_node(rmnode)"
   ]
  },
  {
   "cell_type": "code",
   "execution_count": 93,
   "metadata": {
    "collapsed": true
   },
   "outputs": [],
   "source": [
    "#A Dictionary to map strings in the graph (e.g. 'depthcondition') to particle data arrays\n",
    "\n",
    "particledepths = 1. - gSwarm.particleCoordinates.data[:,1]\n",
    "particletemps = temperatureField.evaluate(gSwarm)[:,0]\n",
    "\n",
    "conditionmap = {}\n",
    "\n",
    "conditionmap['depthcondition'] = {}\n",
    "conditionmap['depthcondition']['data'] = particledepths\n",
    "conditionmap['avgtempcondition'] = {}\n",
    "conditionmap['avgtempcondition']['data'] = particletemps"
   ]
  },
  {
   "cell_type": "code",
   "execution_count": 94,
   "metadata": {
    "collapsed": true
   },
   "outputs": [],
   "source": [
    "def update_swarm(graph, particleIndex):\n",
    "    \"\"\"\n",
    "    This function takes the materials graph (networkx.DiGraph), and a particle index,\n",
    "    then determines if a material update is required \n",
    "    and if so, returns the new materialindex\n",
    "    Args:\n",
    "        graph (networkx.DiGraph): Directed multigraph representing the transformation of material types\n",
    "        particleIndex (int): the particle index as corressponding to the index in the swarm data arrays\n",
    "    Returns:\n",
    "        if update is required the function returns the the new material variable (int) \n",
    "        else returns None\n",
    "    Raises:\n",
    "        TypeError: not implemented\n",
    "        ValueError: not implemented\n",
    "    \"\"\"\n",
    "    ##Egde gives links to other materials, we then query the conditions to see if we should change materials\n",
    "    matId = materialVariable.data[particleIndex][0]\n",
    "    innerchange = False\n",
    "    outerchange = False\n",
    "    for edge in graph[matId]:\n",
    "        if outerchange:\n",
    "            break\n",
    "        for cond in graph[matId][edge].keys():\n",
    "            outerchange = False\n",
    "            if innerchange: #found a complete transition, break inner loop\n",
    "                break\n",
    "            currentparticlevalue = conditionmap[cond]['data'][particleIndex]\n",
    "            crossover = graph[matId][edge][cond]\n",
    "            if ((matId > edge) and (currentparticlevalue > crossover)):\n",
    "                innerchange = False # continue on, \n",
    "                if graph[matId][edge].keys()[-1] == cond:\n",
    "                    outerchange = True\n",
    "                    innerchange = edge\n",
    "                    break\n",
    "            elif ((matId < edge) and (currentparticlevalue < crossover)):\n",
    "                innerchange = False\n",
    "                if graph[matId][edge].keys()[-1] == cond:\n",
    "                    outerchange = True\n",
    "                    innerchange = edge\n",
    "                    break\n",
    "            else:\n",
    "                #condition not met, break outer loop, go to next edge, outerchange should still be False\n",
    "                break\n",
    "    if type(innerchange) == int:\n",
    "        return innerchange"
   ]
  },
  {
   "cell_type": "markdown",
   "metadata": {},
   "source": [
    "for particleID in range(gSwarm.particleCoordinates.data.shape[0]):\n",
    "                check = update_swarm(DG, particleID)\n",
    "                #print check\n",
    "                if check > -1:\n",
    "                    #number_updated += 1\n",
    "                    materialVariable.data[particleID] = check"
   ]
  },
  {
   "cell_type": "code",
   "execution_count": 95,
   "metadata": {
    "collapsed": false
   },
   "outputs": [],
   "source": [
    "#Cleanse the swarm of its sins\n",
    "#For some Material Graphs, the graph may have to be treaversed more than once\n",
    "\n",
    "check = -1\n",
    "number_updated = 1\n",
    "\n",
    "while number_updated != 0:\n",
    "    number_updated = 0\n",
    "    for particleID in range(gSwarm.particleCoordinates.data.shape[0]):\n",
    "                check = update_swarm(DG, particleID)\n",
    "                if check > -1:\n",
    "                    number_updated += 1\n",
    "                    materialVariable.data[particleID] = check"
   ]
  },
  {
   "cell_type": "code",
   "execution_count": 96,
   "metadata": {
    "collapsed": false
   },
   "outputs": [],
   "source": [
    "#figtemp = plt.Figure()\n",
    "#tempminmax = fn.view.min_max(temperatureField)\n",
    "#figtemp.Surface(temperatureField, linearMesh)\n",
    "#figtemp.VectorArrows(velocityField, linearMesh, lengthScale=0.5/velmax, arrowHeadSize=0.2 )\n",
    "#figtemp.Points( swarm=gSwarm, colourVariable=materialVariable , pointSize=1.0)\n",
    "#figtemp.Mesh(linearMesh, colourBar=False)\n",
    "#figtemp.show()\n",
    "#figtemp.save_database('test.gldb')"
   ]
  },
  {
   "cell_type": "markdown",
   "metadata": {},
   "source": [
    "##Set the values for the masking swarms"
   ]
  },
  {
   "cell_type": "code",
   "execution_count": 97,
   "metadata": {
    "collapsed": false
   },
   "outputs": [],
   "source": [
    "#Setup up a masking Swarm variable for the integrations.\n",
    "#Two possible problems? \n",
    "#does it work in parallel,\n",
    "#How do we mange advecting this swarm?\n",
    "#(might be best to just rebuild it every timestep, that way we only focus on advecting the material swarm)\n",
    "\n",
    "rockIntVar.data[:] = 0.\n",
    "notair = np.where(materialVariable.data != airIndex)\n",
    "rockIntVar.data[notair] = 1.\n",
    "\n",
    "airIntVar.data[:] = 0.\n",
    "notrock = np.where(materialVariable.data == airIndex)\n",
    "airIntVar.data[notrock] = 1.\n",
    "\n",
    "lithIntVar.data[:] = 0.\n",
    "islith = np.where((materialVariable.data == lithosphereIndex) | (materialVariable.data == crustIndex))\n",
    "lithIntVar.data[islith] = 1."
   ]
  },
  {
   "cell_type": "markdown",
   "metadata": {
    "collapsed": true
   },
   "source": [
    "##Set up a swarm for surface integrations¶\n"
   ]
  },
  {
   "cell_type": "code",
   "execution_count": 98,
   "metadata": {
    "collapsed": false
   },
   "outputs": [
    {
     "data": {
      "text/plain": [
       "24.0"
      ]
     },
     "execution_count": 98,
     "metadata": {},
     "output_type": "execute_result"
    }
   ],
   "source": [
    "np.floor(10.*156/64)"
   ]
  },
  {
   "cell_type": "code",
   "execution_count": 99,
   "metadata": {
    "collapsed": false
   },
   "outputs": [],
   "source": [
    "snum = 1000.\n",
    "dx = (linearMesh.data[:,0].max()- linearMesh.data[:,0].min())/snum\n",
    "yp = 0.9947 #1. - yelsize/2. at res = 96\n",
    "\n",
    "linearMesh.data[:,0].max()\n",
    "xps = np.linspace(linearMesh.data[:,0].min(),linearMesh.data[:,0].max(), snum)\n",
    "yps = [yp for i in xps]\n",
    "\n",
    "surfintswarm = uw.swarm.Swarm( feMesh=elementMesh )\n",
    "dumout = surfintswarm.add_particles_with_coordinates(np.array((xps,yps)).T)\n",
    "\n",
    "yps = [ 1.- yp  for i in xps]\n",
    "\n",
    "baseintswarm = uw.swarm.Swarm( feMesh=elementMesh )\n",
    "dumout = baseintswarm.add_particles_with_coordinates(np.array((xps,yps)).T)"
   ]
  },
  {
   "cell_type": "code",
   "execution_count": 100,
   "metadata": {
    "collapsed": false
   },
   "outputs": [],
   "source": [
    "# visualise\n",
    "#fig1 = plt.Figure()\n",
    "#fig1.Points( swarm=surfintswarm, pointSize=10.0)\n",
    "#fig1.Points( swarm=baseintswarm, pointSize=10.0)\n",
    "#fig1.Points( swarm=gSwarm,colourVariable=rockIntVar)\n",
    "#fig1.VectorArrows(velocityField, linearMesh, lengthScale=0.0002)\n",
    "#fig1.Surface(temperatureField, linearMesh)\n",
    "#\n",
    "#fig1.Mesh(linearMesh, colourBar=False)\n",
    "#fig1.show()"
   ]
  },
  {
   "cell_type": "code",
   "execution_count": null,
   "metadata": {
    "collapsed": false
   },
   "outputs": [],
   "source": [
    "\n"
   ]
  },
  {
   "cell_type": "markdown",
   "metadata": {
    "collapsed": false
   },
   "source": [
    "#Material properties\n"
   ]
  },
  {
   "cell_type": "code",
   "execution_count": null,
   "metadata": {
    "collapsed": true
   },
   "outputs": [],
   "source": []
  },
  {
   "cell_type": "code",
   "execution_count": 101,
   "metadata": {
    "collapsed": false
   },
   "outputs": [],
   "source": [
    "#Make variables required for plasticity\n",
    "\n",
    "secinvCopy = fn.tensor.second_invariant( \n",
    "                    fn.tensor.symmetric( \n",
    "                        velocityField.gradientFn ))\n",
    "\n",
    "coordinate = fn.input()\n",
    "\n",
    "depth = 1. - coordinate[1]\n"
   ]
  },
  {
   "cell_type": "code",
   "execution_count": 102,
   "metadata": {
    "collapsed": false
   },
   "outputs": [],
   "source": [
    "depthField = uw.fevariable.FeVariable( feMesh=linearMesh,   nodeDofCount=1 )\n",
    "\n",
    "depthField.data[:] = depth.evaluate(linearMesh)\n",
    "depthField.data[np.where(depthField.data[:] < 0.)[0]] = 0.\n",
    "#depthdata = depth.evaluate(linearMesh)"
   ]
  },
  {
   "cell_type": "code",
   "execution_count": null,
   "metadata": {
    "collapsed": false
   },
   "outputs": [],
   "source": [
    "\n"
   ]
  },
  {
   "cell_type": "code",
   "execution_count": 103,
   "metadata": {
    "collapsed": false
   },
   "outputs": [],
   "source": [
    "\n",
    "viscosityl2 = newvisc*fn.math.exp((math.log(ETA_T)*-1*temperatureField) + (depthField*math.log(ETA_Y)))\n",
    "\n",
    "viscosityFn1 = viscosityl2 #This one always gets passed to the first velcotity solve\n",
    "\n",
    "#Von Mises effective viscosity\n",
    "viscosityp = ETA0 + YSTRESS/(secinvCopy/math.sqrt(0.5)) #extra factor to account for underworld second invariant form\n",
    "\n",
    "\n",
    "viscosityFn2 = 2./(1./viscosityl2 + 1./viscosityp)\n"
   ]
  },
  {
   "cell_type": "code",
   "execution_count": 104,
   "metadata": {
    "collapsed": false
   },
   "outputs": [],
   "source": [
    "#Compositional Rayligh number of rock-water \n",
    "\n",
    "g = 9.81\n",
    "rho = 3300\n",
    "a = 1.25*10**-5\n",
    "kappa = 10**-6\n",
    "dT = 2500\n",
    "eta0 = rho*g*a*dT*((D*1e3)**3)/(RA*kappa)\n",
    "#Composisitional Rayleigh number\n",
    "Rc = (3300*g*(D*1000)**3)/(eta0*kappa)\n"
   ]
  },
  {
   "cell_type": "code",
   "execution_count": 105,
   "metadata": {
    "collapsed": true
   },
   "outputs": [],
   "source": [
    "CompRAfact = Rc/RA\n",
    "\n",
    "airviscosity = 0.001\n",
    "airdensity = RA*CompRAfact"
   ]
  },
  {
   "cell_type": "code",
   "execution_count": 106,
   "metadata": {
    "collapsed": true
   },
   "outputs": [],
   "source": [
    "##This block sets up rheolgoy for models with crust rheology;\n",
    "\n",
    "viscreduct = 0.1\n",
    "\n",
    "#Von Mises effective viscosity\n",
    "crustviscosityp = viscreduct*ETA0 + ((viscreduct*YSTRESS)/(secinvCopy/math.sqrt(0.5))) #extra factor to account for underworld second invariant form\n",
    "crustviscosityFn2 = 2./(1./viscosityl2 + 1./crustviscosityp)\n"
   ]
  },
  {
   "cell_type": "markdown",
   "metadata": {},
   "source": [
    "Set up simulation parameters and functions\n",
    "====\n",
    "\n",
    "Here the functions for density, viscosity etc. are set. These functions and/or values are preserved for the entire simulation time. "
   ]
  },
  {
   "cell_type": "code",
   "execution_count": 107,
   "metadata": {
    "collapsed": false
   },
   "outputs": [],
   "source": [
    "# Here we set a viscosity value of '1.' for both materials\n",
    "viscosityMapFn = fn.branching.map( fn_key = materialVariable,\n",
    "                         mapping = {airIndex:airviscosity, lithosphereIndex:viscosityFn2, crustIndex:crustviscosityFn2,mantleIndex:viscosityFn2} )\n",
    "\n",
    "densityMapFn = fn.branching.map( fn_key = materialVariable,\n",
    "                         mapping = {airIndex:airdensity, lithosphereIndex:RA*temperatureField, crustIndex:RA*temperatureField, mantleIndex:RA*temperatureField} )\n",
    "\n",
    "# Define our gravity using a python tuple (this will be automatically converted to a function)\n",
    "gravity = ( 0.0, 1.0 )\n",
    "\n",
    "buoyancyFn = gravity*densityMapFn"
   ]
  },
  {
   "cell_type": "markdown",
   "metadata": {},
   "source": [
    "Build the Stokes system, solvers, advection-diffusion\n",
    "------\n",
    "\n",
    "Setup linear Stokes system to get the initial velocity."
   ]
  },
  {
   "cell_type": "code",
   "execution_count": 108,
   "metadata": {
    "collapsed": false
   },
   "outputs": [],
   "source": [
    "#We first set up a l\n",
    "stokesPIC = uw.systems.Stokes(velocityField=velocityField, \n",
    "                              pressureField=pressureField,\n",
    "                              conditions=[freeslipBC,],\n",
    "#                              viscosityFn=viscosityFn1, \n",
    "                              viscosityFn=fn.exception.SafeMaths(viscosityFn1), \n",
    "                              bodyForceFn=buoyancyFn)"
   ]
  },
  {
   "cell_type": "markdown",
   "metadata": {},
   "source": [
    "We do one solve with linear viscosity to get the initial strain rate invariant. This solve step also calculates a 'guess' of the the velocity field based on the linear system, which is used later in the non-linear solver."
   ]
  },
  {
   "cell_type": "code",
   "execution_count": 109,
   "metadata": {
    "collapsed": false
   },
   "outputs": [],
   "source": [
    "stokesPIC.solve()"
   ]
  },
  {
   "cell_type": "code",
   "execution_count": 110,
   "metadata": {
    "collapsed": false
   },
   "outputs": [],
   "source": [
    "#Switch particle escape on, this will also trigger the inflow population control \n",
    "gSwarm.particleEscape = True"
   ]
  },
  {
   "cell_type": "code",
   "execution_count": 111,
   "metadata": {
    "collapsed": false
   },
   "outputs": [],
   "source": [
    "# Setup the Stokes system again, now with linear or nonlinear visocity viscosity.\n",
    "stokesPIC2 = uw.systems.Stokes(velocityField=velocityField, \n",
    "                              pressureField=pressureField,\n",
    "                              conditions=[freeslipBC,],\n",
    "                              viscosityFn=fn.exception.SafeMaths(viscosityMapFn), \n",
    "                              bodyForceFn=buoyancyFn, swarm = gSwarm)"
   ]
  },
  {
   "cell_type": "markdown",
   "metadata": {
    "collapsed": false
   },
   "source": [
    "solver = uw.systems.Solver(stokesPIC2) # altered from PIC2\n",
    "\n",
    "solver.options.main.Q22_pc_type='uwscale'  # also try 'gtkg', 'gkgdiag' and 'uwscale'\n",
    "solver.options.main.penalty = 1.0\n",
    "solver.options.A11.ksp_rtol=1e-6\n",
    "solver.options.scr.ksp_rtol=1e-5\n",
    "solver.options.scr.use_previous_guess = True\n",
    "solver.options.scr.ksp_set_min_it_converge = 1\n",
    "solver.options.scr.ksp_set_max_it = 100\n",
    "solver.options.mg.levels = 4\n",
    "solver.options.mg.mg_levels_ksp_type = 'chebyshev'\n",
    "solver.options.mg_accel.mg_accelerating_smoothing = True\n",
    "solver.options.mg_accel.mg_accelerating_smoothing_view = False\n",
    "solver.options.mg_accel.mg_smooths_to_start = 1"
   ]
  },
  {
   "cell_type": "code",
   "execution_count": 112,
   "metadata": {
    "collapsed": true
   },
   "outputs": [],
   "source": [
    "solver = uw.systems.Solver(stokesPIC2) # altered from PIC2\n"
   ]
  },
  {
   "cell_type": "markdown",
   "metadata": {},
   "source": [
    "Solve for initial pressure and velocity using a quick non-linear Picard iteration\n"
   ]
  },
  {
   "cell_type": "code",
   "execution_count": 113,
   "metadata": {
    "collapsed": false
   },
   "outputs": [],
   "source": [
    "solver.solve(nonLinearIterate=True)"
   ]
  },
  {
   "cell_type": "markdown",
   "metadata": {},
   "source": [
    "Create an advective-diffusive system\n",
    "=====\n",
    "\n",
    "Setup the system in underworld by flagging the temperature and velocity field variables."
   ]
  },
  {
   "cell_type": "code",
   "execution_count": 114,
   "metadata": {
    "collapsed": false
   },
   "outputs": [],
   "source": [
    "#Create advdiff system\n",
    "advDiff = uw.systems.AdvectionDiffusion( temperatureField, temperatureDotField, velocityField, diffusivity=1., conditions=[tempBC,] )\n",
    "\n",
    "advector = uw.systems.SwarmAdvector( swarm=gSwarm, velocityField=velocityField, order=1)"
   ]
  },
  {
   "cell_type": "markdown",
   "metadata": {},
   "source": [
    "Metrics for benchmark\n",
    "=====\n",
    "\n",
    "Define functions to be used in the time loop. For cases 1-4, participants were asked to report a number of diagnostic quantities to be measured after reaching steady state:\n",
    "\n",
    "* Average temp... $$  \\langle T \\rangle  = \\int^1_0 \\int^1_0 T \\, dxdy $$\n",
    "* Top and bottom Nusselt numbers... $$N = \\int^1_0 \\frac{\\partial T}{\\partial y} \\rvert_{y=0/1} \\, dx$$\n",
    "* RMS velocity over the whole domain, surface and max velocity at surface\n",
    "* max and min viscosity over the whole domain\n",
    "* average rate of work done against gravity...$$\\langle W \\rangle = \\int^1_0 \\int^1_0 T u_y \\, dx dy$$\n",
    "* and the average rate of viscous dissipation...$$\\langle \\Phi \\rangle = \\int^1_0 \\int^1_0 \\tau_{ij} \\dot \\epsilon_{ij} \\, dx dy$$\n",
    "\n",
    "* In steady state, if thermal energy is accurately conserved, the difference between $\\langle W \\rangle$ and $\\langle \\Phi \\rangle / Ra$ must vanish, so also reported is the percentage error: \n",
    "\n",
    "$$ \\delta = \\frac{\\lvert \\langle W \\rangle - \\frac{\\langle \\Phi \\rangle}{Ra} \\rvert}{max \\left(  \\langle W \\rangle,  \\frac{\\langle \\Phi \\rangle}{Ra}\\right)} \\times 100% $$"
   ]
  },
  {
   "cell_type": "code",
   "execution_count": 115,
   "metadata": {
    "collapsed": false
   },
   "outputs": [],
   "source": [
    "#Setup some Integrals. We want these outside the main loop...\n",
    "tempVariable = gSwarm.add_variable( dataType=\"double\", count=1 )\n",
    "tempVariable.data[:] = temperatureField.evaluate(gSwarm)[:]\n",
    "tempint = uw.utils.Integral((tempVariable*rockIntVar), linearMesh)\n",
    "\n",
    "\n",
    "areaint = uw.utils.Integral((1.*rockIntVar),linearMesh)\n",
    "\n",
    "v2int = uw.utils.Integral(fn.math.dot(velocityField,velocityField)*rockIntVar, linearMesh)\n",
    "\n",
    "\n",
    "dwint = uw.utils.Integral(temperatureField*velocityField[1]*rockIntVar, linearMesh)\n",
    "\n",
    "secinv = fn.tensor.second_invariant(\n",
    "                    fn.tensor.symmetric(\n",
    "                        velocityField.gradientFn ))\n",
    "\n",
    "sinner = fn.math.dot(secinv,secinv)\n",
    "vdint = uw.utils.Integral((4.*viscosityFn2*sinner)*rockIntVar, linearMesh)\n",
    "vdintair = uw.utils.Integral((4.*viscosityFn2*sinner)*airIntVar, linearMesh)\n",
    "vdintlith = uw.utils.Integral((4.*viscosityFn2*sinner)*lithIntVar, linearMesh)"
   ]
  },
  {
   "cell_type": "code",
   "execution_count": 116,
   "metadata": {
    "collapsed": false
   },
   "outputs": [],
   "source": [
    "def avg_temp():\n",
    "    return tempint.evaluate()[0]\n",
    "\n",
    "#This one gets cleaned up when Surface integrals are available\n",
    "def nusselt(tempfield, swarm, dx):\n",
    "    #Update the swarm variable\n",
    "    tempgrad = tempfield.gradientFn\n",
    "    valcheck = tempgrad[1].evaluate(swarm)\n",
    "    if valcheck is None:\n",
    "        vals = np.array(0, dtype='float64')\n",
    "    else:\n",
    "        vals = valcheck.sum()*dx\n",
    "    return vals\n",
    "\n",
    "def rms():\n",
    "    return math.sqrt(v2int.evaluate()[0])\n",
    "\n",
    "#This one gets cleaned up when Surface integrals are available\n",
    "def rms_surf(swarm, dx):\n",
    "    rmsmaxfn = fn.math.sqrt(fn.math.dot(velocityField,velocityField))\n",
    "    rmscheck = rmsmaxfn.evaluate(swarm)\n",
    "    if rmscheck is None:\n",
    "        rmsvals = np.array(0, dtype='float64')\n",
    "    else:\n",
    "        rmsvals = rmscheck.sum()*dx\n",
    "    return rmsvals\n",
    "\n",
    "def max_vx_surf(velfield, swarm):\n",
    "    surfvelxmaxfn = fn.view.min_max(velfield[0])\n",
    "    surfvelxmaxfn.evaluate(swarm)\n",
    "    return surfvelxmaxfn.max_global()\n",
    "\n",
    "def max_vy_surf(velfield, swarm):\n",
    "    surfvelxmaxfn = fn.view.min_max(velfield[1])\n",
    "    surfvelxmaxfn.evaluate(swarm)\n",
    "    return surfvelxmaxfn.max_global()\n",
    "\n",
    "def gravwork(workfn):\n",
    "    return workfn.evaluate()[0]\n",
    "\n",
    "def viscdis(vdissfn):\n",
    "    return vdissfn.evaluate()[0]\n",
    "\n",
    "def visc_extr(viscfn):\n",
    "    vuviscfn = fn.view.min_max(viscfn)\n",
    "    vuviscfn.evaluate(linearMesh)\n",
    "    return vuviscfn.max_global(), vuviscfn.min_global()"
   ]
  },
  {
   "cell_type": "code",
   "execution_count": 117,
   "metadata": {
    "collapsed": false
   },
   "outputs": [
    {
     "data": {
      "text/plain": [
       "<glucifer._glucifer.Figure at 0x10fcd7510>"
      ]
     },
     "execution_count": 117,
     "metadata": {},
     "output_type": "execute_result"
    }
   ],
   "source": [
    "#Fields for saving data / fields\n",
    "\n",
    "rmsField = uw.fevariable.FeVariable( feMesh=linearMesh,   nodeDofCount=1)\n",
    "rmsfn = fn.math.sqrt(fn.math.dot(velocityField,velocityField))\n",
    "rmsdata = rmsfn.evaluate(linearMesh)\n",
    "rmsField.data[:] = rmsdata \n",
    "\n",
    "viscField = uw.fevariable.FeVariable( feMesh=linearMesh,   nodeDofCount=1)\n",
    "viscdata = viscosityFn2.evaluate(linearMesh)\n",
    "viscField.data[:] = viscdata\n",
    "\n",
    "\n",
    "stressField = uw.fevariable.FeVariable( feMesh=linearMesh,   nodeDofCount=1)\n",
    "srtdata = fn.tensor.second_invariant( \n",
    "                    fn.tensor.symmetric( \n",
    "                        velocityField.gradientFn ))\n",
    "rostfield = srtdata.evaluate(linearMesh)\n",
    "stressinv = 2*viscdata*rostfield[:]\n",
    "stressField.data[:] = stressinv\n",
    "\n",
    "\n",
    "\n",
    "##Gldbs:\n",
    "\n",
    "viscVariable = gSwarm.add_variable( dataType=\"float\", count=1 )\n",
    "viscVariable.data[:] = viscosityMapFn.evaluate(gSwarm)\n",
    "figEta = glucifer.Figure()\n",
    "figEta + glucifer.objects.Points(gSwarm,materialVariable, colours='brown white red blue')\n",
    "figEta + glucifer.objects.Points(gSwarm,viscVariable)\n",
    "\n",
    "\n",
    "\n"
   ]
  },
  {
   "cell_type": "markdown",
   "metadata": {},
   "source": [
    "Main simulation loop\n",
    "=======\n",
    "\n",
    "The main time stepping loop begins here. Before this the time and timestep are initialised to zero and the output statistics arrays are set up. Also the frequency of outputting basic statistics to the screen is set in steps_output.\n"
   ]
  },
  {
   "cell_type": "code",
   "execution_count": 118,
   "metadata": {
    "collapsed": true
   },
   "outputs": [],
   "source": [
    "pics = uw.swarm.PICIntegrationSwarm(gSwarm)"
   ]
  },
  {
   "cell_type": "code",
   "execution_count": 119,
   "metadata": {
    "collapsed": false
   },
   "outputs": [],
   "source": [
    "steps_end = 5\n",
    "steps_display_info = 20\n",
    "swarm_update = 10\n",
    "swarm_repop = 100\n",
    "files_output = 400\n",
    "gldbs_output = 1e6\n",
    "checkpoint_every = 5\n",
    "metric_output = 1"
   ]
  },
  {
   "cell_type": "code",
   "execution_count": 190,
   "metadata": {
    "collapsed": false
   },
   "outputs": [],
   "source": [
    "def checkpoint1(step, checkpointPath,filename, filewrites):\n",
    "    path = checkpointPath + str(step) \n",
    "    velfile = \"velocityField\" + \".hdf5\"\n",
    "    tempfile = \"temperatureField\" + \".hdf5\"\n",
    "    pressfile = \"pressureField\" + \".hdf5\"\n",
    "    swarmfile = \"materialSwarm\" + \".hdf5\"\n",
    "    os.mkdir(path)\n",
    "    ##Write and save the file, if not already a writing step\n",
    "    if not step % filewrites == 0:\n",
    "        filename.write((13*'%-15s ' + '\\n') % (realtime, Viscdis, float(Nu0glob), float(Nu1glob), Avg_temp, \n",
    "                                              Rms,Rmsurfglob,Max_vx_surf,Gravwork, etamax, etamin, Viscdisair, Viscdislith))\n",
    "    filename.close()\n",
    "    shutil.copyfile(os.path.join(outputPath, outputFile), os.path.join(path, outputFile))\n",
    "\n",
    "\n",
    "def checkpoint2(step, checkpointPath, swarm, filename, varlist = [materialVariable], varnames = ['materialVariable']):\n",
    "    path = checkpointPath + str(step) \n",
    "    velfile = \"velocityField\" + \".hdf5\"\n",
    "    tempfile = \"temperatureField\" + \".hdf5\"\n",
    "    pressfile = \"pressureField\" + \".hdf5\"\n",
    "    velocityField.save(os.path.join(path, velfile))\n",
    "    temperatureField.save(os.path.join(path, tempfile))\n",
    "    pressureField.save(os.path.join(path, pressfile))\n",
    "    swarm.save(os.path.join(path, \"swarm.h5\") ) \n",
    "    for ix in range(len(varlist)):\n",
    "        varb = varlist[ix]\n",
    "        varb.save(os.path.join(path,varnames[ix] + \".h5\"), \"swarm.h5\")\n",
    "        \n",
    "    "
   ]
  },
  {
   "cell_type": "code",
   "execution_count": 122,
   "metadata": {
    "collapsed": false
   },
   "outputs": [],
   "source": [
    "#checkpoint(step, checkpointPath, gSwarm, f_o, varlist = varlist, varnames = varnames)\n",
    "#dirnames"
   ]
  },
  {
   "cell_type": "code",
   "execution_count": 128,
   "metadata": {
    "collapsed": false
   },
   "outputs": [
    {
     "name": "stdout",
     "output_type": "stream",
     "text": [
      "0\n"
     ]
    },
    {
     "ename": "TypeError",
     "evalue": "Expected 'swarmfilename' to be provided as a string",
     "output_type": "error",
     "traceback": [
      "\u001b[0;31m---------------------------------------------------------------------------\u001b[0m",
      "\u001b[0;31mTypeError\u001b[0m                                 Traceback (most recent call last)",
      "\u001b[0;32m<ipython-input-128-44940164a645>\u001b[0m in \u001b[0;36m<module>\u001b[0;34m()\u001b[0m\n\u001b[1;32m    120\u001b[0m         \u001b[0;32mif\u001b[0m \u001b[0muw\u001b[0m\u001b[0;34m.\u001b[0m\u001b[0mrank\u001b[0m\u001b[0;34m(\u001b[0m\u001b[0;34m)\u001b[0m \u001b[0;34m==\u001b[0m \u001b[0;36m0\u001b[0m\u001b[0;34m:\u001b[0m\u001b[0;34m\u001b[0m\u001b[0m\n\u001b[1;32m    121\u001b[0m             \u001b[0mcheckpoint1\u001b[0m\u001b[0;34m(\u001b[0m\u001b[0mstep\u001b[0m\u001b[0;34m,\u001b[0m \u001b[0mcheckpointPath\u001b[0m\u001b[0;34m,\u001b[0m\u001b[0mf_o\u001b[0m\u001b[0;34m)\u001b[0m\u001b[0;34m\u001b[0m\u001b[0m\n\u001b[0;32m--> 122\u001b[0;31m         \u001b[0mcheckpoint2\u001b[0m\u001b[0;34m(\u001b[0m\u001b[0mstep\u001b[0m\u001b[0;34m,\u001b[0m \u001b[0mcheckpointPath\u001b[0m\u001b[0;34m,\u001b[0m \u001b[0mgSwarm\u001b[0m\u001b[0;34m,\u001b[0m \u001b[0mf_o\u001b[0m\u001b[0;34m,\u001b[0m \u001b[0mvarlist\u001b[0m \u001b[0;34m=\u001b[0m \u001b[0mvarlist\u001b[0m\u001b[0;34m,\u001b[0m \u001b[0mvarnames\u001b[0m \u001b[0;34m=\u001b[0m \u001b[0mvarnames\u001b[0m\u001b[0;34m)\u001b[0m\u001b[0;34m\u001b[0m\u001b[0m\n\u001b[0m\u001b[1;32m    123\u001b[0m         \u001b[0mf_o\u001b[0m \u001b[0;34m=\u001b[0m \u001b[0mopen\u001b[0m\u001b[0;34m(\u001b[0m\u001b[0mos\u001b[0m\u001b[0;34m.\u001b[0m\u001b[0mpath\u001b[0m\u001b[0;34m.\u001b[0m\u001b[0mjoin\u001b[0m\u001b[0;34m(\u001b[0m\u001b[0moutputPath\u001b[0m\u001b[0;34m,\u001b[0m \u001b[0moutputFile\u001b[0m\u001b[0;34m)\u001b[0m\u001b[0;34m,\u001b[0m \u001b[0;34m'a'\u001b[0m\u001b[0;34m)\u001b[0m\u001b[0;34m\u001b[0m\u001b[0m\n\u001b[1;32m    124\u001b[0m \u001b[0;34m\u001b[0m\u001b[0m\n",
      "\u001b[0;32m<ipython-input-120-d85cc079e657>\u001b[0m in \u001b[0;36mcheckpoint2\u001b[0;34m(step, checkpointPath, swarm, filename, varlist, varnames)\u001b[0m\n\u001b[1;32m     24\u001b[0m     \u001b[0;32mfor\u001b[0m \u001b[0mix\u001b[0m \u001b[0;32min\u001b[0m \u001b[0mrange\u001b[0m\u001b[0;34m(\u001b[0m\u001b[0mlen\u001b[0m\u001b[0;34m(\u001b[0m\u001b[0mvarlist\u001b[0m\u001b[0;34m)\u001b[0m\u001b[0;34m)\u001b[0m\u001b[0;34m:\u001b[0m\u001b[0;34m\u001b[0m\u001b[0m\n\u001b[1;32m     25\u001b[0m         \u001b[0mvarb\u001b[0m \u001b[0;34m=\u001b[0m \u001b[0mvarlist\u001b[0m\u001b[0;34m[\u001b[0m\u001b[0mix\u001b[0m\u001b[0;34m]\u001b[0m\u001b[0;34m\u001b[0m\u001b[0m\n\u001b[0;32m---> 26\u001b[0;31m         \u001b[0mvarb\u001b[0m\u001b[0;34m.\u001b[0m\u001b[0msave\u001b[0m\u001b[0;34m(\u001b[0m\u001b[0mos\u001b[0m\u001b[0;34m.\u001b[0m\u001b[0mpath\u001b[0m\u001b[0;34m.\u001b[0m\u001b[0mjoin\u001b[0m\u001b[0;34m(\u001b[0m\u001b[0mpath\u001b[0m\u001b[0;34m,\u001b[0m\u001b[0mvarnames\u001b[0m\u001b[0;34m[\u001b[0m\u001b[0mix\u001b[0m\u001b[0;34m]\u001b[0m \u001b[0;34m+\u001b[0m \u001b[0;34m\".hdf5\"\u001b[0m\u001b[0;34m)\u001b[0m\u001b[0;34m,\u001b[0m \u001b[0;34m\"swarm.hdf5\"\u001b[0m\u001b[0;34m)\u001b[0m\u001b[0;34m\u001b[0m\u001b[0m\n\u001b[0m\u001b[1;32m     27\u001b[0m \u001b[0;34m\u001b[0m\u001b[0m\n\u001b[1;32m     28\u001b[0m \u001b[0;34m\u001b[0m\u001b[0m\n",
      "\u001b[0;32m/Users/dansandiford/Documents/programming/checkpoint/underworld2/underworld/swarm/_swarmvariable.pyc\u001b[0m in \u001b[0;36msave\u001b[0;34m(self, filename, swarmfilepath)\u001b[0m\n\u001b[1;32m    271\u001b[0m \u001b[0;34m\u001b[0m\u001b[0m\n\u001b[1;32m    272\u001b[0m             \u001b[0;32mif\u001b[0m \u001b[0;32mnot\u001b[0m \u001b[0mos\u001b[0m\u001b[0;34m.\u001b[0m\u001b[0mpath\u001b[0m\u001b[0;34m.\u001b[0m\u001b[0mexists\u001b[0m\u001b[0;34m(\u001b[0m\u001b[0mswarmfilepath\u001b[0m\u001b[0;34m)\u001b[0m\u001b[0;34m:\u001b[0m\u001b[0;34m\u001b[0m\u001b[0m\n\u001b[0;32m--> 273\u001b[0;31m                 \u001b[0;32mraise\u001b[0m \u001b[0mTypeError\u001b[0m\u001b[0;34m(\u001b[0m\u001b[0;34m\"Expected 'swarmfilename' to be provided as a string\"\u001b[0m\u001b[0;34m)\u001b[0m\u001b[0;34m\u001b[0m\u001b[0m\n\u001b[0m\u001b[1;32m    274\u001b[0m             \u001b[0;31m# path trickery to create external\u001b[0m\u001b[0;34m\u001b[0m\u001b[0;34m\u001b[0m\u001b[0m\n\u001b[1;32m    275\u001b[0m             \u001b[0;34m(\u001b[0m\u001b[0mdirname\u001b[0m\u001b[0;34m,\u001b[0m \u001b[0mswarmfile\u001b[0m\u001b[0;34m)\u001b[0m \u001b[0;34m=\u001b[0m \u001b[0mos\u001b[0m\u001b[0;34m.\u001b[0m\u001b[0mpath\u001b[0m\u001b[0;34m.\u001b[0m\u001b[0msplit\u001b[0m\u001b[0;34m(\u001b[0m\u001b[0mswarmfilepath\u001b[0m\u001b[0;34m)\u001b[0m\u001b[0;34m\u001b[0m\u001b[0m\n",
      "\u001b[0;31mTypeError\u001b[0m: Expected 'swarmfilename' to be provided as a string"
     ]
    }
   ],
   "source": [
    "# initialise timer for computation\n",
    "start = time.clock()\n",
    "# setup summary output file (name above)\n",
    "if checkpointLoad:\n",
    "    shutil.copyfile(os.path.join(checkpointLoadDir, outputFile), outputPath+outputFile)\n",
    "    #os.rename(os.path.join(checkpointLoadDir, outputFile), outputPath+outputFile)\n",
    "    f_o = open(os.path.join(outputPath, outputFile), 'a')\n",
    "    prevdata = np.genfromtxt(os.path.join(outputPath, outputFile), skip_header=0, skip_footer=0)\n",
    "    realtime = prevdata[prevdata.shape[0]-1, 0]\n",
    "    step = int(checkpointLoadDir.split('/')[-1])\n",
    "    timevals = [0.]\n",
    "else:\n",
    "    f_o = open(outputPath+outputFile, 'w')\n",
    "    realtime = 0.\n",
    "    step = 0\n",
    "    timevals = [0.]\n",
    "# Perform steps\n",
    "#while realtime < 0.4:\n",
    "while step < 10:\n",
    "    #Enter non-linear loop\n",
    "    print step\n",
    "    solver.solve(nonLinearIterate=True)\n",
    "    dt = advDiff.get_max_dt()\n",
    "    if step == 0:\n",
    "        dt = 0.\n",
    "    advDiff.integrate(dt)\n",
    "    # Advect swarm using this timestep size\n",
    "    advector.integrate(dt)\n",
    "    # Increment\n",
    "    realtime += dt\n",
    "    step += 1\n",
    "    timevals.append(realtime)\n",
    "    #Update any swarm variables and temperature field in the air region\n",
    "    tempVariable.data[:] = temperatureField.evaluate(gSwarm)[:]\n",
    "    for index, coord in enumerate(linearMesh.data):\n",
    "        if coord[1] >= 1.:\n",
    "            temperatureField.data[index] = 0.   \n",
    "    # Calculate the Metrics, only on 1 of the processors:\n",
    "    if (step % metric_output == 0):\n",
    "        tempVariable.data[:] = temperatureField.evaluate(gSwarm)[:]\n",
    "        Avg_temp = avg_temp()\n",
    "        Rms = rms()\n",
    "        Max_vx_surf = max_vx_surf(velocityField, surfintswarm)\n",
    "        Gravwork = gravwork(dwint)\n",
    "        Viscdis = viscdis(vdint)\n",
    "        Viscdisair = viscdis(vdintair)\n",
    "        Viscdislith = viscdis(vdintlith)\n",
    "        etamax, etamin = visc_extr(viscosityFn2)\n",
    "        #These are the ones that need mpi4py treatment\n",
    "        Nu0loc = nusselt(temperatureField, baseintswarm, dx)\n",
    "        Nu1loc = nusselt(temperatureField, surfintswarm, dx)\n",
    "        Rmsurfloc = rms_surf(surfintswarm, dx)\n",
    "        #Setup the global output arrays\n",
    "        dTp = Nu0loc.dtype\n",
    "        Nu0glob = np.array(0, dtype=dTp)\n",
    "        dTp = Nu1loc.dtype\n",
    "        Nu1glob = np.array(0, dtype=dTp)\n",
    "        dTp = Rmsurfloc.dtype\n",
    "        Rmsurfglob = np.array(0, dtype=dTp)\n",
    "        #Do global sum\n",
    "        comm.Allreduce(Nu0loc, Nu0glob, op=MPI.SUM)\n",
    "        comm.Allreduce(Nu1loc, Nu1glob, op=MPI.SUM)\n",
    "        comm.Allreduce(Rmsurfloc, Rmsurfglob, op=MPI.SUM)\n",
    "        # output to summary text file\n",
    "        if uw.rank()==0:\n",
    "            f_o.write((13*'%-15s ' + '\\n') % (realtime, Viscdis, float(Nu0glob), float(Nu1glob), Avg_temp, \n",
    "                                              Rms,Rmsurfglob,Max_vx_surf,Gravwork, etamax, etamin, Viscdisair, Viscdislith))\n",
    "    #if step %  steps_display_info == 0:\n",
    "    # output image to file\n",
    "    if (step % files_output == 0) & (writeFiles == True):\n",
    "        ##Files to save\n",
    "        fnametemp = \"temperatureField\" + \"_\" + str(ModIt) + \"_\" + str(step) + \".hdf5\"\n",
    "        fullpath = os.path.join(outputPath + \"files/\" + fnametemp)\n",
    "        temperatureField.save(fullpath)\n",
    "        #RMS\n",
    "        fnamerms = \"rmsField\" + \"_\" + str(ModIt) + \"_\" + str(step) + \".hdf5\"\n",
    "        fullpath = os.path.join(outputPath + \"files/\" + fnamerms)\n",
    "        rmsField.save(fullpath)\n",
    "     \n",
    "    if (step % gldbs_output == 0) & (writeFiles == True):\n",
    "        #Rebuild any necessary swarm variables\n",
    "        viscVariable.data[:] = viscosityMapFn.evaluate(gSwarm)\n",
    "        #Write gldbs\n",
    "        fnamedb = \"viscFig\" + \"_\" + str(ModIt) + \"_\" + str(step) + \".gldb\"\n",
    "        fullpath = os.path.join(outputPath + \"gldbs/\" + fnamedb)\n",
    "        figEta.save_database(fullpath)\n",
    "    ################\n",
    "    #Particle update\n",
    "    ###############\n",
    "    particledepths = 1. - gSwarm.particleCoordinates.data[:,1]\n",
    "    particletemps = temperatureField.evaluate(gSwarm)[:,0]\n",
    "    conditionmap['depthcondition']['data'] = particledepths\n",
    "    conditionmap['avgtempcondition']['data'] = particletemps\n",
    "    if step % swarm_update == 0:\n",
    "        number_updated = 0\n",
    "        for particleID in range(gSwarm.particleCoordinates.data.shape[0]):\n",
    "            check = update_swarm(DG, particleID)\n",
    "            if check > -1:\n",
    "                number_updated += 1\n",
    "                #if check == 0:\n",
    "                #    print \"from \" + str(materialVariable.data[particleID]) + \" to \" + str(check)\n",
    "                materialVariable.data[particleID] = check\n",
    "            else:\n",
    "                pass\n",
    "        #Also update those integration swarms\n",
    "        rockIntVar.data[:] = 0.\n",
    "        notair = np.where(materialVariable.data != airIndex)\n",
    "        rockIntVar.data[notair] = 1.\n",
    "        airIntVar.data[:] = 0.\n",
    "        notrock = np.where(materialVariable.data == airIndex)\n",
    "        airIntVar.data[notrock] = 1.\n",
    "        lithIntVar.data[:] = 0.\n",
    "        islith = np.where((materialVariable.data == lithosphereIndex) | (materialVariable.data == crustIndex))\n",
    "        lithIntVar.data[islith] = 1.\n",
    "    #Also repopulate\n",
    "    if step % swarm_repop == 0:\n",
    "        pics.repopulate()\n",
    "        \n",
    "    if step % checkpoint_every == 0:\n",
    "        if uw.rank() == 0:\n",
    "            checkpoint1(step, checkpointPath,f_o, metric_output)           \n",
    "        checkpoint2(step, checkpointPath, gSwarm, f_o, varlist = varlist, varnames = varnames)\n",
    "        f_o = open(os.path.join(outputPath, outputFile), 'a')\n",
    "\n",
    "        \n",
    "        \n",
    "#checkpoint(step, checkpointPath, gSwarm, f_o, varlist = varlist, varnames = varnames)\n",
    "f_o.close()\n",
    "#checkpoint(step, checkpointPath)"
   ]
  },
  {
   "cell_type": "code",
   "execution_count": 313,
   "metadata": {
    "collapsed": false
   },
   "outputs": [
    {
     "data": {
      "text/html": [
       "<img src='data:image/png;base64,iVBORw0KGgoAAAANSUhEUgAAAoAAAAHgCAIAAAC6s0uzAAAgAElEQVR42uz9W7YkN44EisJcNZk72zuzM6FW2PlwJ2h4kB5bKmV36hBdq5Zalbl3hDuJh8FgAEk7duzYsWPHjv1au84jOHbs2LFjx04APnbs2LFjx04APnbs2LFjx46dAHzs2LFjx46dAHzs2LFjx44dOwH42LFjx44dOwH42LFjx44dO3YC8LFjx44dO3YC8LFjx44dO3bsBOBjx44dO3bsBOBjx44dO3bsBOBjx44dO3bs2AnAx44dO3bs2AnAx44dO3bs2LETgI8dO3bs2LETgI8dO3bs2LFjJwAfO3bs2LFjJwAfO3bs2LFjx04APnbs2LFjx04APnbs2LFjx04APnbs2LFjx46dAHzs2LFjx46dAHzs2LFjx44dOwH42LFjx44dOwH42LFjx44dO3YC8LFjx44dO3YC8LFjx44dO3bsBOBjx44dO3bsBOBjx44dO3bsBOBjx44dO3bs2AnAx44dO3bs2AnAx44dO3bs2LETgI8dO3bs2LETgI8dO3bs2LFjJwAfO3bs2LFjJwAfO3bs2LFjx04APnbs2LFjx04APnbs2LFjx04APnbs2LFjx46dAHzs2LFjx46dAHzs2LFjx44dOwH42LFjx44dOwH42LFjx44dO3YC8LFjx44dO3YC8LFjx44dO3bsBOBjx44dO3bsBOBjx44dO3bsBOBjx44dO3bs2AnAx44dO3bs2AnAx44dO3bs2LETgI8dO3bs2LETgI8dO3bs2LFjJwAfO3bs2LFjJwAfO3bs2LFjx04APnbs2LFjx04APnbs2LFjx04APnbs2LFjx46dAHzs2LFjx46dAHzs2LFjx44dOwH42LFjx44dOwH42LFjx44dO3YC8LFjx44dO3YC8LFjx44dO3bsBOBjx44dO3bsBOBjx44dO3bsBOBjx44dO3bs2AnAx44dO3bs2AnAx44dO3bs2LETgI8dO3bs2LETgI8dO3bs2LFjJwAfO3bs2LFjJwAfO3bs2LFjx04APnbs2LFjx04APnbs2LFjx04APnbs2LFjx46dAHzs2LFjx46dAHzs2LFjx44dOwH42LFjx44dOwH42LFjx44dO3YC8LFjx44dO3YC8LFjx44dO3bsBOBjx44dO3bsBOBjx44dO3bsBOBjx44dO3bs2AnAx44dO3bs2AnAx44dO3bs2LETgI8dO3bs2LETgI8dO3bs2LFjJwAfO3bs2LFjJwAfO3bs2LFjx04APnbs2LFjx04APnbs2LFjx46dAHzs2LFjx46dAHzs2LFjx479f8T+80//AgDnKR87duzYsd/OSP7GARjA/+/////8Y48G8Xfxp3/ly7/1+5+h9KDMjOdqHTt27NhrCPtHY/AvqIA5amD/GvgL3whmhhkvyfu5zB91xxWEP9OHotcwHEMU2h/1TWEfP0n+1vWxlE+7+rG7P4PxkeVps4vBOQz/E1BFerCkGZuUZ/+r2+fw/mnZ/uNf+Arvb+SnP+efSbP+W5+E6Q+Q6I9Z+pn6YvldYvvzd5Q/PP/iy8X2X/3gYf63z1j7lGira/53j+XqZ35/qcshxD93UJNH3Z/e6ue/+Pz4Lz7P/xMB+LpYvjbbgPR6yu9L7gGGfFyDP+g72EvIz698xGy278Y/ocdyv1n+58mfhV45DdQX7P9eH0s6x9X1dydy/lX6kYTBaJi/mUR64PrtvvpG65sVc6D2Mjz/8ATg+8Wp/8Lu1t0/v01fdp+c/vL+opd8fdp/2bcCP/ZNr89/PuG/lQRwPNjgyPyWkc2nuM+wvhE+/zedWv/5u3e0f1P1vbfH4y+H3p9mXVj8jL980oBFAE53XH7lN6/+28eC7k2NV1ndWn8euQuBXx3Uxi3UX0159ZCju/wkX3x+/5m/KBL/4wE4fu0Q4eRLrqpDfR8EUmgxwMjnP+nUaJpz/zEzuy4b0ZfuVhIkq9H3/iEk5B9yiYx3Z0H/DP7f49OyKxNRUeL0V5oDy/FfnI9IfvWdefhzRip0fgrFJ5eRX9/4sOnVP1//fmX2BOPnna7DsN/Y9Jar32/CknsuvjjdDpnfBu7nSm+Kuv0Pj3+XjUtdRdn6czQHaouD+42Ms8cvUavxhMOVac6hhwU8sRThAe68nkYUQOGg4BM6V0jgPsdmHP9t6YS8Q0RtPNbDFl2BKYznPwpfRPnnR8XsTRIa1sj3/Jv7a9IfLWektBt4gPuWFmLUn4zmzcw0yLoPE9/Rtyn71jVqGH7+WLwNI5FDf4+gLxm1U8vhab3g4TdgzzgzD/D8CwhMvwKCXqV4eqbHiV97eSnstKzEc6iRQNcbve9+qV3XRxBsKsKm3hzYXON5QHH/9jUU5smX+D58mSLHA8AdhIcn9N6e6PlQI3W4rvtpeelPzvjBLyAaeGI4bi69KTBTCi96/A7d8RUmKchwFS9Pon6qcNPuA4MYVNqw/bwmGp//XuYxmC90/okS20a6408Jhp/diO+AWbBkOT1sE1O6/PS0YFp9c8WQ/AZBzo/mTyTL7wKnB8cX321enpx5zDB8H2S0mcd03DAYcT2/nStIZhmGDbaC1xG+Kc0w8bxx9jBjYIgWxObtQ/LCkTQ/4B5r+PKLZiMOl0pmXq5R2WCBGLVlO+ev491IoMf83QFuHAXBeVP4dtTnjZ5XWFGNkkg5NFi/nRS74RAuynFu8iT5mf94CfwLAvDmn1nrm00Yllg+IVqJwcvI11al16XV82x01Risjp7s6nJPhn8WhpdVThPvvwAPxZ1BAUD30QCvy4EHLjFBa5FqjAgGzVtnMU0ST4tgHnr3NQhfDe64GD7tN5lcewkF1ecyDDduBcUpeyx6UHJidjThZZacuFkGYQM+fh2juSqdkbohbTfBQZp0Sp9H5+9qceQ095cYPKGa4ukkGzOQqZDa+AT2znQUlF4Naxju7tSIhDBc9AyJOYxBPxjkT6Uc9/5/P8/fk3YVZiPsfkTuEJ4L5UVb14tpjsJ1/x3w+dT5O8qH5Sw/ruh5xkFlvFxa/DX5Jeq5t1GzkNMZYuOssl81udGjUOdL6hmeFeK/jOlyAK7bnldCtuPDLM+W+MLp2S+Y4PmlELQV+k/oRI63N67zqpL2hiJjDG7QiQEyM3pq/1sjchAEYwxmRZuty6A4j8vIBZj7KLBAUVn2w5BhqbdCvPHz1524xVgTswrmn8aSwcAWryxEnugI/NLFhIj5p7nrHS7seSX68DcXoKXIOVnRI0ebdWnhQuZE2IEUeHF5+7e7OLkPEqaTSQ79KeCufP/rL1oB17BaQoU+ugfIFdg34OJ4axbn0FEiT19IjU8Kk8LwwCbiWpNzvD8qFojfC+Z/0wJAI/xQWAId6k0cgA/8FCCdjfGBYfrlmb9kdDkXbrpC6nBR0bUU8FoodZ+MaC2xL7bGk5klK55/Ycb7W4+zIWmvnnbAo/jyw9x/Fo8zzP3UBNIvkQ0YjeM9bggifRKJ6l9LGE4YWGidFGDw9S3879qvhKDZIkLSFaVUTMbGgYYfcl9ThHT6q3bmOFtwnAT43HkkgRV4DnE8N2pEatYQ4nE+pqFh09Aoamhj8ZjA6vAnr3on6Xo6UQp3+VuE5SfWZwClgBXCzsSx5mPJPi7fiTv7eTIFbbjEf+hduSPPegm57svHtgL3LV7OAlhf6zgPXiVLy23W9CUMC1b5Be18pgBEwJkVzsmfHAIArsrvcG788zx3ivmcsDhrKj4QSo0IF90XKt/EFVUK86CM+n6WUJyBoRT0/j3uspsOLWGg9x4qHbsCUaFH9OkM4PCHp1CQTAXxiKLA/pWuxgkSaK0YwnBz5tldec5CZbSD4nXmk8ikXkkofzOa8jCwPt6AR8hOy9m4j2VuvXP0rZdtVOb+eyycPNuaboTrNnNF+Kl/g2/hP0LW/LcFYOtoTeUpjqJR07y3HzJO2ATd5M/Q/6cVsi1hmDAYeNU3DT0PNnv743Dw9Wgg8xeah4ByCUIVM4Gj/Z2sBV+CCvogu8pXMqLrQVbIHhBwrMsIgCX+Oh7oU2De1WlbrDdXJtArWhePBEfX/sLstfKLFnSDm3HCpOwDHq5QG8XadN1Z6PIPP/Md+te34pZJVapQ54vmdEYryK5wiBbPtjaMUt+0RciwD8MVKyY9QI6bLoViBPBzodZ0amtz9O4xY0eCW+KxTYyfR64NwxUP5xpSeA/DHDCOvwjcXfbMLW0aMSi1acDM9GgANJpj9bBZ2Niqb1Kd8ABkBr0mQh/dw1w3Zcxw8a3Nq9ef5P+OYNQv7QE3J5SW/MvipIUpIO9o1nInoccOco5IvEVvE70w1EpUGCRhLCuYWogPbDvfOT2+/1fmiyis5vEM+HCd0SIumVHZc2I3Eef2gOMyK9lqAO2MbgX+NevrCGTajp8ZaiAd+N5UwHtS8f2LFOR4C8M/PtL+cmcNziYoesvQLBAO0nnepJs11jKXpt7eHbmMTu7J869YyyQvtLCw89MTsh1ObNtU2qAObHOGC2b43KlDLpc78tnTZwGVCD0icWAn3HjyTJ3XrqlAmunfU9ORV6QNFbUJAw45R0SuSkc0uibUvsTAYqNkgFLQ9lLOhsePz4e26YBKPy72Xxy4NmcPKJ5f3F0amduNJGFwarB6rB2N8ykJNt5j00v8X4CsfxEELZwFdNl3419qKyXPAAS3gi7vhnem+EKKr//AgAZ3UcC5D476mn36q9cgLYW162QT2DsrCVK7If8KC4H/ri7DAJIjSCsVkHzFGcFRY27Tq2+Yz9sSh3aicEQM3vOdO9EdxkX6Kj5lRm9a6Q9twnAs1LAqZZ6KkA0oog+Eqd/NUEJNPBMN53/B3nyyOyXB0X+ahmHmL+/YYJKmAdocZjHUPA4YscRansLndYw1djDQDVgqSuTo8VPHC0OblAbVyAIBu8zsouQ3Wm3faAlHkjKPqoRVtNW8TLNY1PzhNrft7lHT+2CfbPEZlxeAyEGm9Nq6JN4Cdx2jjg5hXmpmMtcARcnn1cXbNZ4022GnRX7meRK5yFjahgu6qsmQE4WMGmL9wPQMfD9k9VsF4MgLX+ePq8GANv8hanYfIa8HW+bjK97SG6wwwJmw7VWZEDtqi1+yLt0ed4eeobx8XJL6VYzOOLJhPI5JqYrpb+Gt+cSmkYz1ey8MAGhiRHGj9Q9DhW82GHYsMpRUvwnDmn0XkmCATH3G9BXXYYi5DbPLQWkg0/4X7M0Zk0Yiqf12rjqN+vyrsEbnvrCpQihTxHVSGgWo/AEw1rVibs97zeF1gRnl5NaE8sLzp8KzvTnCypQ2ne9pmhrleMzedkOnADcZd+k9aSmba4YnoUE4ugomx8eLjS97PJ+xvnpoM4HP/WMObfxpELoZ2tg9hizdBWggRo8D1/ZWgaA1B27bfNvBE47We+rU8deE4V/RA7YVOdNd1HfCddpRCOykikPk8MnqMlb+zoQpbQPmir3Pwe7Lk3v+F5n6TRUwtMh6Ho2L2mbtznDfR68Y3fiTIEziiaZ/q0gfMiHIncm1F2wHkw74wYleLaya/3scikn3QEPKawi0kjM/lZv+x9a6RfXVTxgz1bnx/DykjzAHgpxdPzDEAxFKgav33yx067/ViQtvpK/BJIDuQvDyyF0XqbxbLqGJHdLHN5SWT9gYGcp9boOHvRNGn88d0ztybYxe9pFENxDtA4OwOGBWy/lmIoVLiAu13u2LtZT5hPM8o2YYksyP7ZKYySZRvun6igNXLb/WPZIvc+24aNt+d60u3/5gznrbZ2s6shH0YTJFsWGxvdBl4nwBkXGs3zsArwWNswoj8faXSkY5HSILP7IFRals1ZlZs4dMiCkshRQbMVHkND1fOtkFA1BAiqkBnanUyxo6wz2OzU4AG4X10/Z+scHTfGpIYCmQuxvlwZtjrv8jjjUMzvat7oDdssDxaJvHY3BE4qTPish8KszaujFf1zpGWTOn+UmuBxuNFVhpP0RSaJmm0wHZRiooVQHasUvhOqd+/Lsp/aTwcJZkr2IGb9QbucuiZEGZOB/fNXQ0TdsbT4H8lHGe/iIgr8xZnjeDH8asXiXW77WZ62XJ7DJzOIh7dT4q0kvj4HUmDTTXeQw+tuy29GE6hUWipYSwph3xaUj1oP6A4VHKGHrCySWzL2UrmpaT0iyINo+xxdBmS0KVCvgORp/RHXuk+n5NL/gXVcDfYdTC8/wmDMeEUQJgnwQEsNpbjHwOL62Tr2nDcKka6qftYPbeXSWMlT9QZu5b6fCKq9VwB987IS1aOFgvlqgb23aBw76zmRp4Ge+9NGrRUj5u/DqPKyLDn5sjmy3j4wtZ5lk9qLBHbVhchH3Fva+etOV1SxjuZjn0sWD3nV7ZZvz+qk6H3yjnvB7dqp3yfF9BXMLGFCH3IucVnMMI49E9SZinC2kCJyEtjKhmq1m9lYlegzkFK9bbzZ6SAhGm1Rb+CFFYDHGFjCKzM8KH2Wi58DVVsq7DFcqFJgzPkSVK8jS/PjVAckdoVXbqy5aaQMJ9ARSFgO29HhJgv4PkN+0BQ5DJDtgprSaUpKnC1DK27x2a7JEDcDrhPRUr9vHzidK9U9IR6m2l+HQIyi4MJx5pXUTzBdrcHESVEqwyfl2vhQvkLJ5vSnfpGxlkr89KOVK5HugR+wQbUGvpoW3pv8KUb2IB2dulQXPuFjsHJP69ENIC7+wldXwNw5VJ/lVLdRtbsdkP80WATooHqpbVAIaLExHkPhZS5GWquwREZPnKoY4R6XUZArK3D8Mf3TRmMXAZl4K2JSk8MpUEYYKuxnRB0e0R+kLLV9JZKUXo+n7c7Dw102uvT6Ad4W1A3XrZhs8cjYYeDVWqZpP8iUipWdBtYBF4+K5/h3p/BxZt+BcE4OsyBRFhUZEm5CnKmpoqS1419ZGDE6xJNzAjpmCNvgH85HdqU6X9hgaL6imnq9EXacywg1B+GIErVh+W2wjFYxWHyq+bgnwph8ai0ips6aFe388nFNhBUTs4zAhvaLOpDrWvqk4WflU7+Y4IHi61MqZ3Y4NbJBBBwvBK73Mfhn9SeBWUb3VUtMsVQ6bK8O4FclVCciR5loj3tmmF2lIOL14rytBLO1VHJufOKJ0IW/KhypmJ6Zpo3mwq+KKvNz3JE/u5JP9E1+F9snl0EWK0TJxLdKnn5+7WtzQLpmdCJh/Iof3IXVqvGaT8yDiDCHSCl1FWuw2R3e7aVcXfYXgyw7bZowCVIpmS44sw/NtXwN4e0xo40sQzVoCQvV4IpfM6DM9htG5KWBuXzQiQpgV96wWrUlj7gop/mjWZ6E7fPNOAoSyMv4OHhDAcGcK2WBXcHX3O3H5TWHDl76K059suJk2OorJdBPJQkPwqAVEhrF7uVXVF2l2QzkKK6CtmAh7Gj9b0S7yF4f6xfNue6OCN0Iocn78RhsJGOYETCJnKTTSL058/QbhX31FIkGEfXxvWiwL0y5Du6jvuM4PXOlhj5xwGG/9QX36/HY8eulE6LKEOTtoGedp7VQRoGEbUGHga/DE6NnvPbjeLtpOmF2A3ryXYYXxlGb0PQIgrzYVyPwrifLlJENr59/NQ7+/vD0ErJ75tXHmwyXorBcrOqxdWDF7klDC8rdSdAPPFZtLdxatHuS5bwERLNvyy1KA+mZGgVah2SeRF5XKqNIE/lkmz/HKrObrZ9wVjpasVEJVEF9GliEt5Z4KqbTLuT1Bpx6zCGaMCzRKEhaoDysHrAcB2BEJIAOyqfwuYymqJLyxCpi+y9aVeXVUJdZpgORKDPcoNJCm/+I1EjDOHCBcaJV7RP+O677jKU5EcP16R4yUEAVYv/5dabHMtkvCIU0M3qqRKK/1LrLs0g1TMlW2g7RjbKrbfYF3LFqv3f0IBvZKZrGhQ7mQlYqxvqRnjWK5Qe4MtY5CBqAMRYRGLRZS9q9MeMguHMKnPWs/ozhYP+00D8ONuNAwnP1USf1SUL3Y3kUqWTSEQ9zdMDFanNQMoaqiNLkFptt4hrmkK/2PJ75Y4cPniomvzzRPnroUZVoDNgvgb+LENxmEkCTufnvr0S/AZfVMKsZ+XMC7Enrxoio85UZ86Udan/qG5zwq+3K4StU00Jt+b8daTk+f47Ji2KZ2LjXDBW6XLd+GzxbrTVm4mgbpEfAVc52khDGOZWOQBfZZGCDJZH5Zn+Mg3MAD18c+n+jdrnZpNaqUxg3QiSC0SuM3wO20OI08x1/I1dcKKL4hIOaiwpbcBcxjWqqHnr/gIc3qlMwbfjihOriuoIWvW3mTIUMkcmRU09KuRGQKU+g2jrf7bB+ALAV0um0cXEFC3cybhwygoyrKY1B1nUgqTwQFoGJYEj7N0Lh+GuzCcTuFySHwXhs2+RNV6598BrVN1NeLS9sXCJRRdfIQRQ2w+JPCuCl6KlC8R+6Ksa3Pbg4UVt4IHhpc+pyWfrvOUpGWoznsC9jsOvJ4A44rQUkuHpqzMg91KSFuXmT8T6qsAr3k22c96PsPX97K9suMBQe0SzFVW0lhvcEwl98qAvmZF2zpY7njpNfz9kmMThs120ugtdBZEFEbWCxQ6VixviDDo3P9GcF1OrPZ6gF8s043VcAHAdHJbOjUaiYUoLejnuL+L3djlwydJrJvgTAamfX/m75USv38FPLWUgeq25nr3imciy8desiSLWxB61WYwMKhq+DDg7DLKkFJsGeY/8+ZyVzihnpI+4K3VImBfddgk4UazH5fdXY9yP7X/MbIErR9XCnI7z/6tAvOMcztozqlAASHj2HNegIQ5uW9olG/BqcfAVcfoq2P3rYsqtfX3vyPvMPdzbCrYvQDGPUpWdW589VFf47UPVfnGq/ejWx5CATonFhVFi8Jq8LQHZcAZyGnEnM1umI+lpYL1quaXp1N/dX0KbPxDvNKd8vHyd2baf1Nmo+XN1VK8/gvBePl2KMh5OH3E5Ra4Vu66qbzKwEqZJ/M2j6BkIREFfz7BXdc+g76ArbsdxK9R4vjnA3Bb5idHnMDpDSOn0BbIVQwIg9jjECPtX3OHTZnTCLPCjlk+f3sFA/birC2fshvG4GaWE9vwVhs3bJZA0PIEfcEoYxhOErV5MSoXiNYbWbdyr3ajVsu9hKrgiFSNMSoeLNqEXJ4rf8vcDzmzqmFqebXIULJfVtcc1SXZnpZFvNR3PqJvuxwiAOA2hAfCfoiefvI1Iyks1kTSXfgmX4l5r80cHd2QWJvYhe3u4l0qBwXf7Ij0pM07FHCZvHVSwaLXvVgwwMA/STvfShMB9p1Wr0KDq22YeUkwyd1Ln3xak7ap7VT7Zq+q2bftZAyOrJlD52UOjcoG8Ta5ZXujrcy6Rer7rMDQ9X4W+6d/vwC86A4VdzyKk90y5S5lCwKtWILVAvNO8c8gHReUYZFG+AcZwFpB9jbbeMX6yo4zfl1z9EpbVf+IAbBNH7s4M2TgOifLuAsmxt/Fn7rpgoLkNh7e8L2wX502NaU9DAuyguUoSM7xM0O7aXXZrjGW8hm+lMMTWkQUUzS2jkwIqLkKlMcyKo3QWM5DWbbYBTQQEMcK3r51+41YkaeAeZY8BFkdao0HLG4Tc9oWwFUyt0XRQXE/8Lbj8SKo1VrU6axA2hLVFQgdaefbIsyk4YiNAPWixp2hF8TrHUYLS/BryaRxS6hi8JPx5HwsumCDPLniIRuNUfYHjJs+TN8T3FZUv18AVjk0lTiXfdE9DIvlJHU9Vb3UGOcB9VSL30SFpfAbM4Zb1mwFvbeg577a4iDBfRXRq3DBzFawXus72zV5ym1dt0+9P2+Tz8mupDBgLyNMmwnIXltnAYPRSSeQiiByqkw3FOQ1WUx1hmWWMvGu0jClIhMLl2kEQvYTtJPcKOl7xwzngh81tS/uTpjLJMlfnGjfa8siCgLjrWgvgDzahNjStLEtOo4xnapcemkh5qFSNjgOYhohACS2TlV8FINUaZrecu1LzqmEuT13hZeEMEygawazJtFZETB9I++Qvux7nfxTx0QWfJaSaPI7zeeVi85nKa4wZbwIYwDVbzRXez7I3SqUJtkNlB5uQJSE3sN+wRjwLwvA5kun0zaY8tbFa2KxHKkMHXJfcj9i/V9E3w3FbrGly9U/8saCxWuGxkHUBejN8tQYhuPvhpc6q61EU0IfPVmURZEKgVcVShWfFlDpMC5w5qmhAVZA8t13hDiWwrC7IRedlusme0vBtihV17lBIOJrTRAube5bjWG4yUiwAeRbxf/a3Uipj2d7EoZTv2LfiX9m7Xxh2KInu0cjqt5CIX7XzAoNx7lFsG67Ni2e7reGA6zI9rV2FYFXzx40RzjbLJmrr2Nm1Wl/uo/SicwoeQ7GWu+ySI6+DMmgS/UCvEJ7a9zWjg/eWgltiwfFb3sk1h6wiEAwXTTEgdUln4BRcNHKk60I3HK5CPdLKX6fABwOxNM16ZDhdF9Y2hhtRKSt93JlnIKLlp2FDRvtyetdUpRPq3tDu79VWzpd3R/Wkc5xZKb+ER1Pr2P70rMpsbw7vIjfSOcXn4UzUxAfcxOULKUpY/hxZ4sUcIt6C8sUnoxM1/n5Kl7inwT9lfO5T3yxRC9OIrYulTHVq5IUKgBoUQ2m0NSTsiMXJ7pbz1B0coFFrhX2SYRN7j2ItAiwDCP34S14hv1x9Xx0LjF9VCzbBN8wwxj3SEYtnaW2xtQfDoksmytD6RFcTXuCQ0QD7WY9/e6+esESK65vfKTj3aoJLVxkEEbGTC5Qw3DdDhL8Y1KyzkjevCCrHkeZ+2nbCh1MVb3VTu0LiUHP8ovKb5Q1BF8fud+mAuYktSBlqXVFz5hQjKJub5cPk+tY6u+h4aDDGVCUQRcigWkN7QQSG/mtGbSSlkiTEpRCodnjgBSN4hCh79AtVQ7LqGQ+mnHYvHNd9/a+JgxL7ilCXQWnHQ8ZMQbzwlzwIwMAL5vbm6uLuWjdWCSfkfsRrZ5DGiuqa19bAEEnEXWz4vPqryGNqdtk5X2DVpbA7vzR0ZUAACAASURBVGQ6tulmCaCPQpmGz4Zv5f8DOUXUPXeaQaNxbLmAjVKGGUuMV4/gvWGGTPQC9DVTnzSgqQ4rnh8DCVuArdZPWPQ/RWTz+fCiwmYdUT4kNHEKsGQvEz5q8GjkmWmqmH6/3JerbsNcAzpXZwaWXIEPHFMqu2YCMVORgDnirNDxhBVZ+yodVlQFFKK0S8Ya21O02kDj2ymxQzLs2znJ3yYAX0NmlIPKj7SP2tpZHcxwaN9MrTwzQpRh7YF9ysAPG+kGLcQdW7XR9ZShRLbo19yYHSeLUmxFe2fCydhsQBvbsuiReI3BZL/pq9ytkcBlgnlN9smgJNEyvdC0/Z4WWRk9vMOwb1b30Rfdcb7Jc4U26Uva57gRFj2C0MRd4CKpJ7KBw1vEj37g8My7p4xkyPvBB93Cz4W9yN1hU4+yZAnZx0fynfdHTTjk2AenjF2VoEiWzC+Vc4+m7kNsZYtVpqfSregYNDvkLUxPXtlAZUkZnmxvVgN+Q8joQ0CNooQqCxTXGW2zaCQy0nwkw7JkNBIW4onUSiE1h6XSFtW1Gc9CX1RkLtTE3osLSv51/j62uDTgJXrBfHQLuRgrBJEg9Tqefzi0zG07xu3w6H84o2hSczKjHshvXgHHfmwB0DrcydfdvzupcO4FNH1kBTWhi7TADgrL9RlcvmNsXbea/yIJzGHh77M6Mcq2V+yf4extykRQ03UrcWsuNAvA7/wYnDra1tQUCbpBIwc2KtTnYTWdg+viiAFPKb+VH2k6g2yDRLPkihIg3+Paxl4nAWVJ8H3yCq4zBh7A4HUBe4cQuRx0A5Zd/BomEUEaIWHgCwxTEDmEjXI+FN9TMeIwksIwopbK/teVwj0WVepgp//HYjOPeBW8NlAR8NHxgUMM5gD8OYZV2UK4XaWeId/7ZIwBp9e7AJlNQth9+7g4VNFs35SsG9KsGaeM6iizse3PdwyPROFrjcHTcaLFljn0lptlPPVsR72HsWV1xMsyh4SsrbbSIJ21PgsD8Sth/N8pANuQOFgJRmxO3MTKmJbKLdXa5vj2aL05HkhqE1g3vctKQwhj9sEdH1A6aDIvF+J2CuVY9Le3/XLNAZUaNnyZrwTwXvAOjEJODQvMpYeQcZwOO3ymnfyS4qHrt9cecNdlHG0noi2GfJI+5lWqvbDMBccH4V+7Zu/qA5lGm58/luXX1mXszk3LVZzRTlu2nTT3txd5Xo8yvGtlN0aPor+2G/p/wfwe12Oai+1hefSowke19B798RSDx7z47EDFO9CTG5C3ws0jPMVTC+Sgen2BFJmIDWUuIAXXTc7HAr9rMqI5zsq9gxMKNMvjf9mNLFfH5sVxq5WRuy2T23qGA0oIq6a9TWnEz+7e//0KWJ8emBWYc+YVshPHf+lQgW13hGXJJ9Gfpg3RXSHj53yHTQUyYBMJwzWN0K/iu8P+cv5EXYysgKFLqiYVLQbYFrsw3KE9MxMfs2HWjRPUB6Vwt5PFghqRkIcRF5YtNcJG9KL01IL7LmrvEc6dj+n+OLrLqNFYT9Mye9yJuy1r/R8OxM5GKbGNCtx8CqadNkQTzyYhhuIUiQqy/QAeYFwJVQXpJmfV9ZyZR8Z/HIarO3UG0+5FBSpVA1CHoztR/MnEETBIN6WG8naxPgsI2wqSNmXDS0BY45BeKwqZXC44vDD04PIN+z3/BGeKtJ4QSoVZ5veIUnQ9MA99qjMjZ9D0RqMgNK4euFT+Waib1ALhboaGvczTo8J+ZQz+ZUIc6itbDDOlut9p8iGAgDWRi9DKzY/FZmcAv2jF7ZQXUWiuaW69FsdzoGRRcIhEBp3kceebaAZUWsWo9id30hyvi9jYvNQbKUDQXFZKYepm6cbOlrwu+kfoIpZ1fF5m0JXFERbnmx4Uuo5d6EVdPvUUehYlO8Gk2XQ8/qQBglKONVNTky33XUPGR2w5189uIPVNdZh7zbMkomzEQ55kiwzr5ZWC2eKxryLx8vIyHiHOAZ75QZGj7/pE5QaKYKDlVRZKXTNRFkpCHaAC4qT/XBEYLkKkZItS8tfoRRo6d8B8nP/AiGdbsLLWTXMr0zxosEKVYuQJoqb4k41cAPNG1SR4+La4b4AQd00ShoVTCdgvtl8qRVmLPGyRkCXQ1LfhwRVoBou0igqKftEIC4Jt60+MVP0DtluK2RASsmKbTVXddYOw93BcyCUOBezsDBHa2+9D63GDTV+EFQrodfm+R1u2vpSPjYJicY5w0NjmejJOkGQTQl3OqPrKt9wXRlxzEoQ6gCHDbLPlyayJgfpkwDidstjPsdkW16L3PVKdMfRY+e1HS70xqjE4nhD4hidh4JaPs9CEoq35XO9Klh0ykUi/X6Qg6DrTfMbqxjVoFHJA9Pm6NKGF58gtQJV9zwQSmTwemlm+dR3RSJI1Bx9lhaJ1wDLje2O3OGcTEmc1zIlYVqJMk51nVdLYigptxFQQzdWH1MJ7den5jwfkXxKAd3yHINMWJ1xfllPqKmy9hmxD7BXaByvtrdUeLlWpbeZ91w5iqelhvcBP700XdQDXSHdUJIcIgvUAPrqEQ7OTFdNSOZxraIGF1M1cV5XX2MUec8K5rPLbKRP2U32lUtFGyTf6N4+OKQYlJLPoHeP1saucQFWyetS1QHue31ZBG78EzuDadHPRm2156TIl85DsVsodqXGzpHpwmTfGZek9GvGCYJtD4B6D8/azNhj3KUiUMZi0Xlutsmj0SYBQCrwKr+7/Pa2fz4StmSZILrd+3+Bx5zww2/GwUo/sG2/9A/E5VcYY3FTtTHlj0VUTuIu6xsGnH0cmGPXIFmfnXyJFGbk/a63zpBcYKQnt1NcDCrUA9hzDCxDQ9bAUYvsKoYuDutagAawyst2J+LBW8auZmbAts6iZUtTzrVlS1D5VWGy5eSHIXvB5h5FaEOPMvlbvZCsNvQx+Ul5w/RyySEUVhuUGGtBI/PKVXfNdz8aaiRw4AbNsHTje8w9j+1ZmmFuj5pg0Kcdf6lsgTXmRAYHmyTQ/LHHdFu0hP2YPdjXm9clVkyZ8kKs51+H8h/Rl5jEdSCMth4V2iHZn2F1BAvbWbVmGkNVqkF1m0RfZeGvypPPZA/Mv0L08h80G4vqlrB7LJb9t0yF8rdAeOehngjThM1F+jgUvsdID9P++YGP8bQovmuVjnLM6zR3/BduQfiZ6Loto5qnhkqNxQVplD4MX1o3VqWxWJM/Kr05/0fsu2zbbenQygX5YZh6yvmel+yW8G5bdXKu6VrnT5nScDMqtlx6iLrXGKG6SQG1tcm0bBxUUFddr/O7w1+ffZDlflUorT2pzjfTuZ0rPAL7W5cnZGBkJaf27Fog6RimbFrEBgRrPK/UsX+TPI2UhqfqnQSBGxAXUe8SSEbVXHvmEZOj+tXWVG6uVyb+at7BIYC7shL9YWpTpFVqnY5We70KbGlOWAH13Cw3e0Zz2dkZjLWq0SPEav+1zIVyWtp2mEBUNrr/FU6IRhlcSRoioCwz2CRlf92UHQ4jNU+2IkKIx8K/YhnRho+X4tv+Hb2pBGL9ChNZA01UwLSKknLfmhlcUdD02bt2m9Ar4+H3ppHyiLir2A7LjL17UoerVX3GizP2LLn9QLYDW3fZCiewZNVl08h0XyZHjctBw+40WuR22sNsbxhh0N5umJaqzbrWfJKKRk8xc661KitFzVmLw7jE2NC8RPLDIVeba2ZbEq+8+zLEZ2DVdK8h9njQcwjPiV5K5ddwNeQAKDi8XTd3/nn6ILNHzD1oIDNR0P0OyEL+/CsO76rMOasZUL3C2aQuKIHfvUWQ3uL9ZCqp0bo1chuHdN72qm/q8vXS6hk9FdEL6PcVz7Ndg0L9wHeFa5BZftEFeL4niGJtLhSKWtGdjz/qA2Dvf+vcT4OPFHVvx40LFZGWO5G2XfpccfCyS/JImI8CbjQLUz0vGkiPHniKw7Uu4MqIyHPdTnssdrqRy8VrSDb5ayJF/M6q7X81lwVVURRbLuH6qwAIwmIK6ILci3s1AVgxDaVNIpM40o+cWekHL7oM3R7pZA1vrnd/8OWT6a7M3ri5ybjojNdyExWV6LFz0WXE1hO48f+bPOGYSdNeh/bxySstPlan7HnQXfyIBtDTV7Hsar9Dnz3e0qR27SHuFyQjX29SR/SLXwYb41E8wM+IiWNYV8xJk8lD1JJMh/m+DoDfBGG9dSbJP1Z48DkPYtlkW2V+vStA1nVzEd3eyk4XqQDPIBGeDkAvLcSZh82JIA0NVsqN6c6u1HnY8BMwzavVtduHsgUz96yt9hubnzi+OyN2dUiGORW/WsKRJo7QqOJdN9SMzeCzVOZnvap+ozdcnEx0zDH+X0NQbcXm8GkUnO5B2zkcyf84gMxrXWWq13cPS5TtOKc2+5R7HWurPVHWcud8nB8HLQvOpe+6pM4KFF4ckH+OgUKM9RzBKVSDr2h82BToi0zsqLKYUvAeatnLojLgabTn0sFvIHSjTNH5GkBwy16r83B7KKqmd1UOjMNZc62thZWrTbS3dnygRuOnFpY+HbWC2b35WC3P+AjnoX1gBd64zZ7LYlpn58am06CRwmogMfA8uTXJHymc3G2hs0YHrfjJlUU5bdAYFWiWptvmpTHqo599EiFqUN+1kW0IO79lI96Cwe9cG2T/sAtEuJZKr0vVqLDhkh0UY5mTDomQnFD00X2K4EX5ZQCD+3EIY3hRE+II2j4ueaCEqOevyae33zkn39dHFRj9offWArfJU6siye0c62mpYbs6Zij2uIY59Z2RT0FgzMaGT3B3eNnn2y7Ptg1s1DDNKdpoBu07ct9ULwLdKXcd04/CE+MdxZjxGrXrhXM4+pD2zJko4nr2OMDz1LcALS4i+LpnYNzUqZXIVg7km6/2v26+RonxhkZCmyuoDTw6EHi5hzFhVRvA+zITZ+xiltSoNsLDVienzk65Nyki7+eKa6eG7wAA/uYRmncpBQ+RRqdtON5hYAZh4pWOqjEE7wDBLD3iTr3NdSR7olRfqwzm2HbGgNQtxG14QZd1GGLBGGzRgcVH0okMWZMFlEGUdwPNcssWu8NQ4i4gsZiz2SkZ2ztCVrzAX4GzOPPaF0zJkLHfvtAPx/GFJgfLquegLxPCOVxdEmQ1fR1/rBurCxWeHhzMt8RR4tsr1WFNSp+u8fY7MRVvbFGuaQRnafntuspBzuTGMSogDfDOYjz8uIaTaFkwCPlwnjllIpD9HZaQ4DW6sQOZfFZ9/UQUMrK+9By/ax8/ueKo+8XtHNnLetpk7i0LLauJYx+7wJSwRDjcTr89kACBsWlLpISadqeWB9wYJQFx6SGhYUrFzB3c97LtEGDNvmNYsjUHS3l4pRk3XwLwXaDaqyzMYVCMTQln8DJDNemhVwJEVcrUCmbuemt4wkieWAivhjR00P/eozJVTsyumPbE+fqh4AkKhL/qjdbfHSFSBmCFSctlB6AF4aaFfvXvVhS0Enma6jNjgQVzCMNxmJMvKm7XE+yZr6D7ylqOQ/HWUGfHFJYn/NRMFX3vyhOG0xLP52gvRFWwQZloTiUtXJkL/wy76Co38y9BoEJaEo8uikMuhy2XZObdU86uIX1egFgBcZWrfurVRzSMNIIBVbm49h/JvgKAb+Vmkt8I5Vuu4BYbc0OCFjknWuRENr7dwh3Wv4AsuDlm7azZyF4mSDvObGOw36Jbdob1QwdMBVS+zrGJqsUfN4t/6LlGLeAEhpqxCdSqs3eltPZFNf5E1WnE1MWjXBIVx3ezz8+ONkjp5Z188P7po+R4CDoLYeVHWumGROPOyamK12j2l+Q7fexj2dt9NLr2uidQ3D3qx+bytzue88UKvALs6enP12Lf0dEyf/MsuEoLmgE1IxG7vyKzEw5icqiu7DjnDPjuNxPXWcxOGwRVYQb6BB1xsnsNal+YL1kszP923h560z4SQqIIdX8w4zLewoF/lXo8teSzt7jsiioVTSjV+RXv5HQLwMm+SB6aAQx3EHKt2TZlJzyk33wHMbrAPXGAdPVa7uIqNVlRa5gy7nN+8QF+va/qXwWtd1uBpDe2+ru1UfOewHttbtoiyW1aIzJ9EbhfwiizhZQs6MiDfdaDZjBVSfWXg6eaxqEDW3YMgs32sO6EF62SqqzwGd5Kcgn3XfC4ec5Ee5JTq/GJOBrpCTjZdjq15DfMg5yGceULdrMWQQ/jI5lQzLVAhS0E8WWJc6lTErCqt3L7/zBWoes292FXmWuzRXngdYbQxTHsb9zFjt6ipPijMxWuO8BGrAeOv2lu0IIjdg4IdmCyYom5uivIuX7j0oHV5a/BL5Y3a4dqix2t4PNXoxArr34YnkcXVeYZfUQ3/AiUsxqVdlLlpyISA2RC3Yrtk0Pcp6eIu+sTB3BWWuc1se0v+3GGR5qeZl2wNWAJC4Z+vLLOVgrGEYeNmGR2Km0xNrARJooshdVmfBUmN5RfpU/Xw/NkpVrIrogAdHdz9ItX4xKrys9n9JF8X+iFEGNOtFjUFTLu+fWbj1igNW16aV+AFsVkjBcP4HVOSFXg9cVegs7JTSt/dEXFM0KV4zlbpUw1f0yDdHMxA7kSmkAKnMNzKUg6S7VjiKn52G4MZQXWErIiC8A9hux5Un5Ui100LoO421eyBsp5+STWoyUc3YWprIVhIBhQTS66v6nIfFBJ/BintxFY7CFGI3dYDCAvk21tmqNAU2LzoHvtGFABe0bu7BTyhPnpdSxpD+lho3uWVvysELV5pKqpIm+3x0piNkxrt5rSJx+DxL2Q7/Vinh4zesEM2zBE+WcPXcee+wkwCwgMt5nI49dX0vTPFGssDbV0N14MlmDntZb59cTMt90THnpLuYRr7Lh1zHxE7OJ2++rvtjWl5QCujGqvZcZFIw1aOPxdeIzQBoR3GFbNQ8VJvQ4xNrRqDiYLEzNNCP8/oVEo365+dDp2yitcDHJNF+ApO/fwuExTCsF40nezFbDxR9sW+S0xo+aRhuPCK0e3e0Ws467keVOQeMMcLtLMMRd1mpMXJHPHSGUxToqST42RcjL3LPFk+zNYH+HW+8IZ175CYyfWIRy5PJKJJZVO5RJknjr6lZfjH7SYq5vT6uZGLrhmGf3cI+quRLi9FPRhv/CPCEmwylobq167ZE03bCfKjp+hPyz8rpVllMbmHNaSFnHSwGbdgWhh4fYPxLbQJR+1CGedZSM3ZfmXB16+SkyEEY8AlbDMoi9RPeAGFdOHsc4Uo4wy9UwvqvmFQR0ZKIkjYAcFvIxBtqylK2WFkEM+nDoBtWIc3SYiZVTIkypO7qSkOilh6UldI6yZfN1yhLIRPxZlZHDu5ud+XjAstZBCQOwyLreqoDzYsrsnbwmB72vYLFdz9z0Kk7wdaNAWq4Vc3uvxPHBsvsOgXgd9c3LLNvnRGa6melxWuM1r7QeNJ2JRsg2LSJB+QDErzRv6K7wYtDcG2cvi+Zzp12/95PtY/L0V5vXT1GfZFMizv3JQpI07Ph8+4hbsMM/hIj8IqXIRh7WToVL7T6ve70YC6So1l/656Xb7ebK3IFWF2ZR8q93WR2Lc1AH4Shk2RAxE9trWSBxBZ4/tx6jkJTa3nnj5/3jtW93zM5x9wpKwMGiWzWH/Csk3Q4Kiy9TYOa4Jziw5tJkis3NF5Dzj1lu+JWBh1hc0qDMcPmZdtiQwyc7IoSsW68wch5ir3Liyrj5G7mSrVwmLKUO4Xf6tGZkF9swbzUjq/zgTiNafaaDjgGwBpKswQtkSAuRjaD9Nmdf4S3zaM+rNRxqvW4ncNntTqTNX7m8MwwvyhreZKNQzb4kNHJXHA7OI1HPdwg9vp+7fXyhKGf/8KGIu+WXJkLlk8HuImLE1t3qG47UhrOCI1DHuAqlo3EnsZbjuaDeq2p1Kn8X9GV+VDSmF9/Tf5bNgqIVM2k+fylJDUaVdyR3GkJBr4+szq/E7vRRO5OqwoXqdYrYbXeCOVj7aghFAms+dzQ/2TxXU3M6Csva6Ovo9ORnGsyA1Cmw1xNCxYd6XiGRHLNvJVMZH6Zzal4gIGI4cwyARK7B+Xl3mga3X+gWUjo1RjXCKEL2F4kb6/DRk3vfm2W8Y3ktH606bHIi3Fhi6+2Qs32xxWtXS+AhdbAn+V0cb6JVaYRDtEu2oYJQx3+7xDc7orN6w9HhBYfqb1N8U1heE3DaVv3M+/oALuKAkG+7iUohzNfhoOu0JzuoyA34QqdytHuREkCrs1wsT9N/gEVy2SUCcsV0Nr8aYDM57QpD1r/iNQdQxsLIKZ8wnYO5M6MEaqEgms301LvAFuPpTrXKENLs7YVlfgfe2V+vcAixWeBZi6x/mQ3JmDoZM22QzRzi6gZwwtPBn+AW/rgJ5RlqKihljD51zhoqUhGi0q8lqePkd77tTkOVrapZjZDNhLLiTU4XWK/xv2gv1I/aYD6rhi4L8M5+iTQ30sqWPLlYp1LqSx4Av/5DsWToO90NDfAHMyR7XGUYQuYG4PeZf4i2En9l0KLh2t7rIZeoYvGWGTXr9Myv12ELQKdnbz1BEVrgceLYqqWXy7Nc+YWZBphiD6JWKZMxfgTpOsbvvY6oYyp8tUrKPLK5nDcOnPedgV6LVqa6u3BVVzebs+CB2hjDFxRQok68fg5VPq0RZwe64I1mvr8oqS+6JLhXLE9btplpbvBnjWds0wFb0byvIWKLTNIhqbKpJ9A77uUbhoadpl0uoRF4k3cmcrXA/tAgNMVeYcDHox5xgN4pNU9O9mayWwoZJt1HODW6rtRv5scXQ3k0JTEJrRceus80z1xv+3537oW5vNDtnhpzR16zHeJqTHx8J1y7ZDobeF8k+CsSJ2T8UUcaMp/SsHPm2SFfrFXMHKt8BfPjwXOmLOFQgQW2pttcIt7bYx4N8SgCdZMadFJXx2Isl8hWSxAhW1eYXkR77W5hVhI524v4NYEOYt516Ir69+pZUhTEWz1Bl3Ku07RloVZi7KBmKiqDCsFnhBP9h1yYj2kBqwMoz/BTLWK7imNtXku2e3/FCRdQMDubsz1BninNv2KsGbMKzr+ciUfbNvsCC5pI5ExixnmGaTSOhQqoFY5Kt+2jf+Nw9hM4Xh3HeLmt0BJ5RVmzKgP+bQlUmHAhEEmU/YW+hc1sH49i6HV7lSOUYYV5tBorYAtiGN7XKzNDWwvjKNMmvSH8F71HwpDL7R5bXc459NQtQQd28UDW4WJYu1uQoEP946WgYXGXOp4FtKe3E1s7j8GP+GZQyy4yJ/T5m42HVEbE2N1rnJ1GHVF7OSNNLdKG+5ZK2fBVladA2Ry2WUBd6pv7JIX2arWKekEArPlFmI7F7HAl3t3A6fyie0BNyeOe5fSxKnZpAtmnKwC7pcqAOyNtzXJbU2Qfe+asndwY4epsc4NU1d+8zivjaNimPJ8F0aLoW3XUjbZEhdaZzUJXilYIrL+PrgtW7BLAVya/d0bM7Q+zunlfAoV0j3euXgSrD/Nhh/ARh+sV2NpT+S1ApdBueRaJDD8uLuJgE+wl1pNVmr/JX+luaIXqn/hdu3n76rt6Z1a0OXUGoL/CAKjMcyq2oRRUC67FHI8z2XSo7CCyR8g3Uj+71vv9v/9QBsjjwmyDTIXOwJZ+jE6/WCyhzwMskNS85lGar8TGK9rGOlm5FYoCUMM4VhssLRueol0+GggiX3WCRQNZlSl9p8YNoJOC162aXksbGHJAsctgTuZ1K3tX9RPPiZs9g7AFrWWWSDUoaVWrV/SUYNDXWs8SnB5kYmgbubJiyXjSjWREPK4hmiXH2rbT8303YCCLWUhyTqz7c/Qw3D+hwweG8QIZH5glVwMWXMEbiyAlOv3jds03XmFwGpIdKXTd5Pm4hx3eJS4Tnvvn3miQarTmhuNC4/5jIMA9/CpFhCRKslsNzkZ6qT47CI/fVEnKq+oG62RF9uivt1Lj7rltpfwSIMe5+b9itWMvyKCtiGLM8mOvZKPQvMpI45jNLQBRyeV5gAT++2OvcYDZ62zBzZyIL3mVT74V1Z8PnAy+hBV/R19pQeMj21fagTagyVvIoHvUyaU1sozERwqvTbEJYa1Qbbd0zd6Wf4nTTxT2AidHgyQz8qc5fqe4T7CO0Xuld1NIK0KboXOoJhwTN22wxXDZKZQzjMOVQLF18bK6i06gpBUNOcCBa/FVZ2sfQjZsPe95NksneoS3IdHHYWMSLlOxT6rwKG3PjxKVUY6eBkp4q8DfkD3I5TXmYr4MG6mVqnwQFffeV02ICvMtpFW+pJSLPrQCaFJGo9MnwSNpGrKpFIKtX23/bKvIA6hfu3cQtQ3sbvXwHfzzczMiZBYcUb+vKH65lo8JzKudV6u6So7xo3BtEiXgyPro8Fk64qudJ35XKIftHgQXew2GH1u22iUaEsN+20ra5YzWgP6uMN2IM1o9ttuepDaD89+GuxIe1HIAYPzBVN0ltg2FleYS5PiZS57kA9ijT343Anr4d/8RulsIPC/9r4zeyURZ8zbgJtlhgO5e0wAXwhXCJmWlsr981taRXpM85kfYMDWxbrPrB9/7TDOkgbsNNQvTX74cySR/OQrja9hl0YTjV0lc7+GodfuQGd9y3In2/PDosXLaZfXaqam3qaHFwXXTmL5J3VydwB35r64WXVvn6FqXd36+KXGuy/TQAuVb9mc+xe/w+Oy00RWoHZLecWaMMYV10xS50czvHKUtBQxHgtrE+nhzHXSmqAjmVHuegVv20uygkfudevyw6LUltjiiOaMoGnBoi0ijdhGJa1TtL9VZI21tnM1ndYe982rYRWiqRUOeFo1a5VYQOE33TBDJ9IpvurAdh6xi9kiWE8SCFDhS5HHvh7dXaz8fEcHFeNDZ2RvHfSVqXhHivSCyzl+/01r6VIKrmY1UZ4Ke2uobk/Gwmf278dhp5u57K+CsbdNGDt0PnXyc8NRfDyvwSYRu8HdWJBnyoOhlic9EWYVveSYAAAIABJREFUT2PyZqnDFcPwXQffiY5Cm0wLSXNewHr+X+CN7UNIGuy/bQAGVtyz0NtYUGDeuwjd88WmEWJlPmdBgNrgyZGbFHFFbXX76OTs2jo++XB5nC2K9rBuEVd8syTn74MoQJ8iwHSWoK6P0DAcPy1pyyZWIGnX9tVPyke2AMPbT/ima7gEvsgX/zsHNhYs3B+VL5UUGmW0M+yRNp+PR+24RxaHgVTITximEgnnH1BQMfPRkAIMbCOfkpM2Sd0W4Vzns/tjYC4uZXXHc/ugFkdOt0SgzSTaV79hlqyPrtVdexl5Rl3Yg7/ZuUSzqFvFgiTNDrSJbs6tLmprMzamvowXVFoKQ8g7sC6myKd9XlCCV3/YlgCCzvlvG4DXc2bzYTV1kL0gQildjYq4zcaCL1n7r24OScVStw82nL1+Au/+5oDhGmXVWHK8kDPVVDHBnvkvtND3mmWtlwE1xEpUbMpGWCNeUG4dvE3wPaSTOBr/xWbMV7DBCxgDaxUb1o2D+C0arH7Tbng/k2jvW0Aj2uaffipF+SrHx3lS0NmTruwLsOTsN7ELe/YGt+pPmPgD+tux/PxSNjXDp68d3BYF2eDe3TTB8mOvjmIrxdw1IuQfmvn5L9wz98hEysZ2HyN+kga+0swMCEKVXV7lOD/q1rP2F9Xz31Zc+y/hJIxfsxL4V7Cg/ca9DXwVHGP3rq12bUcnxWiZILyADX/gqackU5xxZLnzpeWQx6KGrPEzzDNHT4ZzEOVILByBtXPDO73W2A6oZUSzhff5RR+04ukNUyaJKyF9zlTzbSYjW7Dkv4jH/PwA7LSiVmlNxcN1hjgxEv7GYMmcCPf0X29H5MCvni3aBCgmB0v5/jR2nOJrgcRfhsULBPrSY1qEN5na5aRn/81DorW+2ZJjXA/816e9z/+WFXPTmPj+kGN7orBQffkmIUi4SJQxGKfRBci+gTmXv2iSNvL53ybTzY0On/YX7EL6FRB0SU1kTGJQOrkSW65kTStLKuOWq7n1G1b33wFFor9+4kKiSSP/CIPkVobNbU4ZouMBOi42Gc4iUm9U0Lep5stGtlh/6v0ff9cbe3XiiPXHBsHe7SaZVCIXsQsG5eCuMaytR1vSzZKsxbtXCsEg6kL+KPSWvxWiy2ubtgjTB1DxJ31HW28xmvzBBMGl6Ft/QkuytS8GP1q4Mv7kJZt68426H7hFQdDv1ypnxmRoppZNP3a0td5tmx31wHerTre/J+Mc+HofUYTcls888K0KhMDWM7SPYj9Ckn7Rj7DJ9z/ztEPyYe6lB9Prix0GzL0x/2Xg7X8vADdYGa/47R/xnC5DrJUXUnTk2M4qyuJzq4M1m9EZ4xDWEFD4NwmLnesLqDuJFSvbXN09spTlumIYTlxlgHlRoxbPfHbXLyiF2CPAP0iz+ucJ+6JxWx9dGsSUOV3fqovXmzk1jOJyb3+Mqw9W5rC/iveLZ8Km82I/1uO1bovR4nS969uYyDKLOu8L6LZpoi+qxgIYxI1A7ej8V5x/MKbkaGP5THH+trDCeqwLguc3JLi/M+6xINNhiSTPHVh54yoX9W5VvEmO0ZsOdRlH4YG/wAZ1wFoPQ8ZNv8iMFrksG5nW/GsVwpuKIr7MuErd/RsCcHy71IqUgxQid+Y1UDHERd9k6OtnLAuA+vNlU7/Vf67ihSbncG4T0Pxuj3L/CGYsrYyvwrD/3XmqnjaOcaxL6nSmMrxWVhHkve67ZEImeTykfh+GrSh6wtEwhNtVOOHv+3BgCajYfbAuKZSR37YQjwO70dcw1GQ5WcB3F8qS5N4XRfz6SgZW/FdB6k1h6gusHurf7cvluy2EiLEJkrtDtfqJIiVMpBZVT6cKIBn2GFINw1tENB9pveB7OIo+4efyEcOFQlRPdKjhR8cGDw5Bv378eV2xAM/KLiaBOGvesNsuz7ymusHn80OA6OS73uHQawD+HesI3yO0L7GI3PZQdNZXDi+ezVUZMYly6lvGX77GxiqOOzQw/z4Rg7H7f8ugORL6/XLoIlEikkdmw2qxqDeyoL3qlfI3LLpxRVv67imOBVKFt1KXiJcVivPXadnaZ9DQ5WUPkbEtUnedi7YT75om3eikrlIJy4hkT5yZAZ9brZu2qm7WwghRdCytFXBd5MXySoarP1ensSW+pqL8kfeosPYE45iCaTpGabxKuaVhrfNfHcJYQe7NG8+OO0BWDPqatpRglj3TDRy9lDWp5xzZ86dcf0DrA/xqwEvx4LZescX3vgknGgo/G3dzYdW41e4bdYm4Tm1kFT6ZwGYKikzLs0BMsHKkLIYvNIi4jL5Mue1EhmGdhBw1mcU6Dpf1wzM5nmPwvF+pYKbIUta/PwRtbwNqPnwP2V06+7pZNCBqfhaBZk7JBeMipfdAJXtmdp/N9opOEeec66QZFPNzKqdJgOwqN9fjG/6EO6A6586+o14xKNgHs5Z8jt2nSiWbyjb18HJtGapyzaaDO/Sinv/UJ/xNBjfv5x7E5VzdKGrtiAgUnxh8PyyifpiF56ZnL6aywAzwyNdFQJiyHq63y1xv184WgKYsV/9IeYba8uS2LmxGWohUSr4WqbEfPFHThnWhsictTrDJhmYBLwsiuz983wVdLM3aHixnO32SR0WT45LSd2LAGlEUzerwlm02f0aBhOfKDH7p/XVXYRisq4fnj2YDdNDrmWfw1uhLS6OjcMfybATxJ8kvQgAylkcpQsG4PeZ+rhc/Y17TonI/DfgYaBfro3uLO/d8kTp/zmViv2wP4S8MwB28sPyeFz8j15lYnu6+HYcvbJGPPt1STdNvRA19eKxCr8XVO6+R43p0fJ7K3uIOXQaI5NHzpaZ3GoZnNo22v5m0PsziJkzZmTPiMT3vu+w+wWjRiOWqHizDcJkfbUvSZ+hSL2TnlhWpZPtJZgpVl3z4yWBgty1aGPRQFd7R2xrpCx+W7AD0GPyFV0KBzxpBbEWt4XLinuVVlmIqtaUiGJlJuwZuOZbKJPi852wvhm34zdwzLYfhZfOyA37bPshTuYYYPFSd8z5kLMrTh8f49Fbpddt9fxuVJlfZkf/ed15y3ylMOswP7722G8kq9ze87eVDllZxemXPDwZ948K9a/0OdfMDXo9O1GgLGV4JI5AbN9HNWYl6GM7f6LLPWPMhdRdvWV1+7PLPqVs88XUwatHFf08AbtOQyz4hhk2GDQV8CN7oyYbkfcdNQFYCpF5mC1XKyKduHzpXfpYo+wpHK2/FI9xlkQH73P8MXAuTKwArdyLvaa9GheY6QTAVF7a7Q6kj+kh6g4ThA1zP1QrX+JlAj11Nv66BTinLr++8mdBdE1zuLmUKgWahOtGSCSNUI+QBXuQOzbvIXsQngUkdhqFpDp4X95mzDAKo2ALYLEdi1HNKvOUCSI9Jm6P0JmvtK5JGxdXjYJ/nWKna86W/ttxA97I1MxJielheu0VtRou0pom1KWPK9TFNu0kdTwy11GqBFTrEUyLx7MggyHtZXqHoXt/X2D4KYtCWE7qjVVL23re0q5yZdDYeRzA3Zd25O1h/V8unw5yaHHOUY20zZ078dDc8ZfmYXWYfs/GPNp5AAIphfVE+TyaDi35A9acVQOHVyNNjU0BDkhIz+/C6E/7PKIWxVbKtuWf7StrX93sH4CL+XkAJm5o0kF2vxLwMsM9oY4yMCU0OOLA6Vdyr93NktZI3hnqRLfrFwrtg6dSmHTTdBDtnN0JHl9WT89Hg42Ufo232lVObaekJD0ycnhx2fZHWR8hDmCNi5WOE+UpK2BzYdAacUz4xEmFqvZv/GO9EeO4iHVvuBjmFuaTGgKdob0rCnTj1fDUSRNnqPAf3aA5tRXXjZYtaH8KFObdFQ/vBtWGVQiKkVot+DF3qYHmBNjZw/iwQK9upDcAtSpTaNNa3OcB8sh2YX1aSl6Ymm/L6aXYRkq9QqlgK5ItAH3gSng+eDU9j45PNKRvsglDMd9LcvFAima9wRSggMYns3y9blaznxjz6e9W7Ydz6EPCQ6pycUszrIbemHy0ZRUU4Wgu6IALBli1p6y7kPAwnj2HdiemrC0sbGWn2V9c8/Z8LwKMOa5+F0SoooWxwYfg8J94DkldvFbXIS9863qD5juGnkIOG4ZlpWjdP/BXFYPfvplTlJNY0aCCHf7l63DC4OS5WTddEj/Hyp5JFUwoYcTcFMn7eXLBJU06pq7gSf87eSvBtCJgbg8xon5hdjdBCPhudHGmCJzBe99/1TegSMXzl9GUVnJjeLUIjHmgD2S0dgxQzgbemH3P4DMBkrxxRT4wp1orxoGTneb2AV1NzdZlqhFL3RJsWGKjH8sKGezd1p7VWxkSvFgsVm8Ri0zMej/1+UADlPsbXQUGPoGH46cbOWBjAhheysRSy4Vh+IfTCfGDYNG/yvrfctVn4MS91HHI3z1tSWqA9VAnYGV62pStOgsBr38nA25AP8BzHB08lctrBiMun6E5K+4dsNijx3xCA/+CfJjpYoboXbDb58TsDpSI8MuQITQBvX7xIdhTOKNAXHbANS31sVm/+dhNrAcsrsYy5zIDivLQ+0VTrqldOQVxtzBZTwayh1acPRHMmAVKn4ulwXpwwkWo8tCnIZSqoOQeGQkrEpXac56e8EXKG7IraSZrFMDrEcYTPp7i5nO+GTLS3DQtvpHopY7BUKmVQKzUOkPlupXNJPaiB8TLW23fV5MZPM1d9X88z9n6Z1EJhsaN3GYDrZ27/AELvn4KTzQrbTCX+bROJV3wa5O1LzgB1ziMTXP/4gWcfsE0EDpkQam9wy2gA+Zdi3oapQ+u0BeTeeZqETIyiYkCGGZZYdW1DXkj+YfyQwJVom4uqIx9j6FDH+qAJS5KT4GUB3EogtpnRrpBy3N3iwKa8HYDFubHnp12a0sljueyXNoL/8QD8nzsAz3ELxGjEgS5lBvBDB7C5FoqP2jKghZKIxa/uvJLuEtnBfyfNpsRkH8LjL/pq30nag5oZg0/uhoiypFJ+KlqxFruzKe6pb04vH1jy8tYhHbqXjmWMK/5bPgitdMWh0hzVrAaeCM0kYATZiEuEirOmyZcXuGQXQXifg4+1LB14qKbDdGm17AuGwdR8GrjM3ftDakkijc6YipLfbJElOCnPnH5cqVnFfjqXbcvqh04E9dQy9ig+l+dVtLb180UA5lvqkFOigYhq9+f20FqwL9hyzP8eiTyhSqH3BaEze/0QaQye/FAOfQqOcopfLLuDAKqYLkVuHfswHGEkshvTC3LGAIvan8Z5RRCbY5yQEv75TBEuiYmqaxEKmJLjescNjH3Y4e2HsAGFgDYmSvxf0nDh8+Elq8jtzpNkmBKlkJk/TbbfQAEw5evx3xCAP39SIAyHXFj2B2zCsI0m/Z14fnBhk+V2XgqWduvosCND/7HvXjwQHRLhazEO07KmAZ0RlCPOzwqzgjjl2HLmzPIE+6UO9CpTGnfGyJHIp/8ogaiJEN6J57ruVwTOseLiE73Vq919dj8yvrL5vwZKO1JexcqWMtjHEzBuaqYNWsjZifQYzIyQe6jQxtUz/8zJHFz3C6bnoM9d1tKKa0qwOilb8Z2+DMZpGZHTlx4u5CRh1F+NBWMBsxip4jaWcCATiFi7D97GRRtXeySgtFRVmUlSwbvhcs23wzbDuPh5kjAKpLSvfae2LLXXxlgLhDG22TOfRx6LUhIJHxYRkEyAopl9TO6+HssRnKx5CyErnKOy9VHLYRgKa9IBGXPn0xMK+CixNvo9RUzvf/jY5TH4M3TGxtDI4+jS+68/ZzbFqLDWLP9++wA8BEUc16HSHe9Xd2N9o8Kwh8UqwkP3zX+CgQ+zViCUi9ArFcZlYVDOn/4K1KJieWlSjBkM9Ff+fCP/l8FbMO5nef7lNcc8J1bMsPQPWpBNt+En+TnYiS6Yw5/DvARIfOyCTWewLl5eEPJ00EudXAD1kNno//BRx8NujTYscNBTxm0tx0dWAq96q8sKFROHtPHoPvepRB2CC6Xcg8zTPthljKGB6E6HpSPFTg1IvpTq7KUGdmqhhSi4VSEp7H3Z9OahkA33IqeSuZatueZDkGLkvVuT9QrZmbl70kZiRMAzLtPMQCmGrl46BiEWxh9S5ArARbMg1oiyi1i+jk56S90cGEncJGEe61pEcMTB4QQoYzzdSnFAzqTfvNFs7ggumMXNrHs5oakbK579VwceMA4YKo6NQsK454Hv2U+0tbvSSNkmhRg1yf0JP7ierwD+G1jQf+K6qTE1d5t1m9NcP5/731xzBjyIDF0jcSXs01QhZh2z2ifDnOMn4V/GYbX3pKWMbD3FyC4bho7leXodnw+uYZbdGdxF3GTgA1fmCV4HFiGAnl477soDz1cufKQ/izWwB37RMqy1KPfRNvatMXtIFATdKoQ19rsKbYr8AgP05XsWcSo2e02DZDuG1IMPSg4ccrZ7kyefO0bo3H6+TLtZWDPJK2D9Dskj5X3hQi1qL6WY9Qkrtk2UyQOPE00szl10MbohBRq1l4P0pB2DtLUWyqpFWkvzTVl8MTXJKZ0LtPyADy7feTF+n45FUxSEscrq/ZV6SKJsxkAMwwIbUmqFmWSnyYVc6y/AYm9YjTCsb5NVc8q/7/3rLn6EZ1whccYvqEQKZXe6/PCcLJWnOTM2vxceHf2XDSVghnVyucH8sdlZBuMIYkj+YOCHuP68rh/ulfq/GoD/5/rjziYu1jD8FHkfs2tkv5d97HPzEnHdzX8U9iY/RlwAB1eWNYXskLFAf7j11B6mkdc0zTlVPCdkpxu10Dm6wcmyjqwimRRNdSGF7svB7sNw8SEMJ/puBAxZGstsE8AWM0/l2qBA58a2RURxISaVdz5zK7IJs0TQizMGLrg4gYHaKlvSZbX3Awn6QdI7I9kD3p+8qDsMTxq9s6lFl4mqwYL34UKdDfMgUCHEwapr0Pf4uLRmY4ZSWdg9tDU8XpFzltqrX/P7PDpOVy204aFtGN33RbPtKEgzCsypLreYj+AmDbWpwknbxuA5AkfmMCwFKCZ50xYgULhl5HxrlsKwvKzqcNC8CNqC7pDyvKQnn7F6TvjHI5bryIO85+ZTHZygY8HnHg05TRrE0bl7tNEUg7Nx8bRz7CNh2IobmgGbzf8Ou7snT/bUM+1pF+xjn4vXB2D6Rb9jAK5p+WVmsZNkLnowXvX1RMcxU3q/obmMY2RhNupgzl0EqR2iHocPAR8DYbjP4OcDGHEN2bM0l0tXM06Vcb0VTDsqR/JIOWpeeeOaKSRw92g9M8AzHOFwXFXifPrHnrvpRE3ocySNt5mKMoHkOsWQsD7/RUTCkDnlL4ra88VJpKIZcbGQY2r7UMJYaS4ITb2MFIcJooJCTyUdKwgttYqlRlPf0geG1tdsMIML3QNxoM5HRSfdV3UG2KjIyKhxR6TAXCuhKOhUfRICbaUlpjUeod/PLMHyXL22qhu//nPP9zxeftCdLkcXST/6La9ZX5Y0jK5P81hERow3Xdk471rEa6PKAwJwHXjpsqkWNPvgqmutNAxL83I5EDUYCaovxFHBzebaSvlrFU09jW7h7srbytST+Xu7N5qEK6GVL5ZJBvTNhDM2sTHMOa7r80nsis8YeRtjUQa7B34zTX1Ig4G4vIy9XaqC4T5Y1VGOQhi+aB/wYpdD/X4BWAB9BMENhpk/b474Luj5Fx/ZmdEqmK2bi/yPfZ7/adaXKDEytz1uKAkcCuN2d/UtBJ6mthiuj4lrI/59dGPvkzSbiKTFyZabRzCv8ax9P+Dc70QR4OSUmAp37aJLlHQUMG5aYpMFHuZuR3GixaWjr91IjMtfTGql902FO/1Ix30K18aimr4sm5rp+Zy2tJtT9gkxGLkOGKdlevLLmEhhNQzXqOxUm1rfo9Do2kJkaFL728wLHGJz5P59UyA3E+C7gTgCd5I0PowxvI450U5ruqdWxGTSZBvj3AEoYRidZNi4Sp+xrNXD2+XrzrloVPdw+N1/v0pp67MmD7UHpIfhVg0v3N/CB3YVlYsfUbTj50kfoRx3DcMXORgMzsiw9O18eli/7/X5eEnqxcaK1LUanAtylRWGQoMozOGIdtpNG2fsc0GzXgKMiANjtqDLwGi47t7rKKk9b/vg+txTyxylU5jTCxg1CeLzeVI03TD+uRh7LvswLA3rXyBN+SuEOPxJJQha5WaS+/ORU/VuocEz4MD7Dv/xmbLdSjct5HXjQ4q9oYzCi+ugGy2PnAARKmDNKiYU5jjYjMHeQQkx+On8c7C+bwzg84S051GEYBxSWoZqeAXcEetpVMJgF/mBUyJlMybDDL6ECstlxPjPR56/azPB+DHA7GOAXZ/4kSbOlqXiYWU4W2OwLdHvpK85XZd+fqZqmEmICiKA2kvk+Of1gIRSZKd2ncRCaJJ6v8E7fZfy0dLWkBqMxx+4zO5jwz8SXdleCNhtJIYMgsUwPKHaix9TMnAJeFdPK7D6/FfkQWnBAnemeCOE6UU8gl73YXvC8GqHEmL4n9AU5lAfZrrwgV1yWyU3kn0+H7PLLjPeU1veLTJw1ZtXhrk9YfjSKnCDwPdhmIsex1jeuAjDH5NpvdBPIRKNueN5YMVetEUCoV/hA7t4GT7GO1//3BI6162l4/XS4HwofD0uzhAPAD/Po7tMVNnvqibyZWx1tml4ldT+bQLwLcQhJ6OpJGpHqh5Tr4SoY695VJK9F9Ya6FFDfZLN4nFaqVzWTklHOwyx4YmZYxPYpBc90ejehXeHPVz8fHANUVP62sQHljLOPQ3Wr+5JMJcJsB+mX+7mzRMqwmTzs6FhgYPl1hctjQBp/XoNaZSnnTMIpBcJ+58P8cF1YTyJiaFRSU1tv9S5kqURWLbt0OJbY/yPdaPhofMnUzeC68ZN4WgIMs0Hl/Ye3N+ZoSGNUKlmplt+MsrNXuRVoe9Bd5/CYcn33UVeqDINFUtAfLqU8mf0zYOidJp0WHCAWkkyZTrct1WciZFPf+7p0hWEPCg1rng0nKmlz49+5kAERoL+bFWRzjQ+H+J6NhPQyqZE9+0ciwQCea7iyQADC3BEQMJuLRpkqDeFB5ZhrY0iAuepu6E/iPh8CqWuCb+RH0mnPa7yznck4W9QhH885gcpukizP0lcgJJtkacMHs/ygYH8gzR3pPwQ1weAXXeIt9mSm6taHC4SSmYc3frdA/B/Pn+qqB643BwZRA861kzSTaxaxnutA3etOodT2tXL+ZQqopS7mDEGz2Ejlc+naDk9ucif92Kiy0jiAxD403DJFpSHL0YEXj528rceye6Kf4Baz3P42HVnmgrgDA6CDHoJBNpX0jSneg21+rhWdXS770bTBwQ/MP7n8z+JTCFbJJkZtkG8hbCgc5dBS8n0o0dkL8fJwgGTYldxGlm+BlVqUEig6dJNGRd//nPkdIgwc3N2lYdVvZ60Y2GTpRWlN2djHSkMK+mv9I8t8vUpWuJEEpDpVvZWZx0ZfLDSLg3VJ3kfmCtPvv15ER98Lu3ytJkoWXouGVRXHNUT/am/hsvs418btAv80NkOxKLE0/0Sj5dHmPsNMjN4FG+iSnRPaUYcpBRWaRaNWobhIf81AmpixEMBdEzxAEuHv7zcThQzzBQx8kYEZwp7JzzjUY8ECkuj8lfGvlX+8fmTwGX44HMBxHX7n3v6WSA0n/TiNSla36nf/FYB+H8eP05JoDgho/oar7fmd8WH5xHA23LfGIa7xHyRNi9HjTWr3SxNssUNwS35do9UjhpUUBfXZ4lZGRJRZo2zXXhobx6GL+PN9LPRMnRF+Keu8jq4I2g80hx3Y+b++ZxDBVNNYYxr3Fqhj5C9XfcMA8j/8H/a2iiJhPvgja6GQcmG0jmQIJFH+KNePHPkjsttnBaA2I93Cc9ZdrQojmD5N4iql/uaUtuZI7bp+QWyD5MGb6Aiqx7DaIpRw/AkuTyVSmRHAoms14gcQeWrIUten5p43RrgRvv4llYA7cL14efSWwNHhkfOVsIw+hJtAh0VeExrSDg7H2hU9MhVgIyQygMWgdKhYF7W6WGYWJYlKerI+YeQsNqBzwamtsk9rqWISGdxkp8v2Z67WPagrzm1Gif/LjWARwUwgbdep8irgqJDN8KwCtPy4pOfPWHYnjA8x0ZUYo9JdbgnA/2WAfhR16S+vAHlcdUO2W1uiP8qsE8v3mQXDPVBtMRFKUKIdke1WdaT6kkcKdb1eGwuYtjEmAnBPcJJ1zWnISeFzTr5giRRFbtovB6SJS/gc5NTdbF2bBvPGYOhAsFXeXuo0LeDk5hjvM1DSKOfIfDck9lQqbMpN+ZKWgG/QlAom8wDxjS/W9ieOR1+N9P5QdhkiQhYTQzQVQCjB7nFhz4OZ26IEYkSge02WVgG3ZP+UVolhAlChgEEXaU6ws/TbmO/UD7pUDGN/z07D0SNtwbgtTKlCiTZUOZ5tnym3V9h7ATd8+GCFjf6BoR1M7uETNh1TRmu8sXFK2LbmwhT0ex1OpOmvRk+umrrVgq9i7ywMftlJcbYs4LY1ItwklMeRVwHsuFjU2372mHipq8zMUhkwxVSMeb0l7EngQgqfuMOCh8RzG2me4HNHzeseI+6KGYwIuzjHOJOxNf1xr9PAL6lSu4ZG5ZBPWdc1QnFPsNi2mI+T4Xv4n1OlYXqbdRmgaLVh+G+qNLlHsl9OzW5rVQCTM1GQ8BFbjnwIA4ajlJL1uSUshTFQif1lnTxMMy4EEIFY1UXQFe3Y7VIts6rzA+KNZhWwrCQc+GMFYe0G+rxAwUHTE3eUYJnOWfVmjSr1JQfcdBBXnsq/QkxXmVKJ0cOSc3jmW39zAD8YL9X29nFIFN9EYZ77lMU6JanZC6vnjVkOHvm8A3cCJzhEP+Qh5oSNEWhvzUBmGwudQid5ruoxwY9pJ0iNGWXcTPAswjDEDlJEVvkoI/N82N65OJ9YNuKMmG8a5BNCqyUQXakrF5FAAAgAElEQVSZtAgZ6lxO8FyAmws2S80hXYE8oJw+pZKrqbp4Zl1fTzmAZZrRkjzWKgLQEZeB6uUwDJ/xxJTgHu3qMRk6AScHw0s+5wwbE5fI/3ycYV7Q+GZSQNd1/CsC8N0kH3t1HqlVhsyrCMnG9tN44qPnPvtOrJrpj1JB9AIWxyg9DENF0nZbXJpi3crMXxxIHzNpRfpA4+50XjYXQlAIX3WRVKJ9ID7AxssIXhseMsuoEoJH8M1l5I4/s4C82KoggYmyhMgFc5mh58ZRkIgZv4cUEZ1AMlrDqIPF98CSUDnmq2/wyTFjM/mx87b7hLEORDUFkEhhpRL/opmSZVbULd7SNI+AJWXAml00w/r2tfUZm3bJWBo9BmopOc3UTYssjbAFXR67A31z10rfs5efH75T6PBRWtvS9htcmtCO5YZcUuHZij+F7eBxIfFsnQJt37OIXYti5w7GYH2MtXDXPQQcaMqU7OWUcvPevIZhl72ECE75z3e6eF5M55oCWIvVk/swLDobt/j2qJ5dcYhIlENYUJqOfsLSp00idAmHl0x38dkaTWysSAy/XwAOZdpYCD1hLsuK9j4LQjjd5iEEcBRHCEoZAT6Keg5zaeQ8n52yucommDU1l4V3nMWWnVSnW8Acu9EV6/a2EwbPbBWcaZxicGFuh/EnPVXr0BiosLp1sfCrEUJKFCf5ALoR7B59EdptCwlYGp7eaHqrHK4F9DiMvjw4rnNxx6e8J7swxLSf6a/hPXtHPCUnIUoliGV7Yko3OkS+f7fbofbVlfY2JNRB5Dnjpu7c//jdHsBZeKE2VZIKm6ZErsyQDuHHLrlKWC3CoAVhV0szNmj4AT6AiHyozKzfVzGqLKQkWIEHn7pphVxizzoNiXKPS4QBS75XVUlVI49yIDC9QrQejuLzzGTCRewv+/zBP3XrgO73vAuHW5Yg1+WwECMX28NQhPELAWeievWvP3PbPnpXGmotAeL6yOYk9L+/lLNEfdougIemIPm9A3DKOrXQumi2aPdyLN8Y0ZejxMHodgChmzM4Jg+xJcxMTME1QVbVd2RANTbgoSxchBc5sl3oTkuEdd8fjyneiYz9swV7g8nj0NJi2jgdOyXmbbL8udsUk2OwKV2zi4bC3Da7x+TBD55pkPGqOFRBzONi1taWCjiNqLZhuG3zPfSlZ+w7hWEOYSN85myod5I+WaYYWZwDeUE3WnXiEn1nLEnryiu54ZtIrErxeR1v3JUb5phttzGpFtFo+W8C7oel7uNSItFVtNJyrz3XsuodfkkKtS5UEUQPOlNjFUEJVZD2phOvr1VUyazJ/mEaqPo4zMrge3uXDpAxCAbEZyW1xHwVOQyXCQtRUKezpuY4/oPhG65HhCDULXz2hTwh9lHos7D2IGjg5ObabNL1Gf8iqqHZUfExaxd3Chsk5ImTwKzrbi3OK+q2u5VOySClR3LnvwCCvkurtKeMshvp4npqbcS+2UVwzl5YLSZrZEZmeDHIkM5OBoO2eCI4IAgGwWRP0BxjH+WRk0wGxqRz7nPKeBCCBvllLLRBz9+yVevURex0f1bZMPoE7yx5OtPvZp9xKul0soWWKhEOnOcD461OALs+djl36b7Gf1BKakA9bFKd1A3h7YD4jJKYrF2thqfo2MCZXbzkBlI+doF8ysmhrFZgz3cQJy3Q6DDVqXbkO4/1z7iqTGU5YLtHKMwih+w2RKCqzftdEdz400zNm4UE5kUqr8nv1GUfHzPjvV1Fd9N9GYOl1+AKMR5hWj7jqLQYmfNM1bxHlJa4PsN/mEDFVDoMm1v6LcjhGDgg3CWa7pEEAiVDGM4aGlqjxxGM5zB8FD65F/aN83PxYyIVoL76g8s1CeZXmItyEx0sPf+MeGob8lH+Hqs6vizYUqCM2vKz6SBsD/P3PsQEbSKnk+FSjj/KfhHYv2Eb0kALw5YbbZPANSaRXsPTujNvr7paN9OrkkQRcY6LcxWVnteZ6TDsvX8YhVLlCk1Of14m/bvU5azWhpzZQzXTap8pj6sgVy4v0GnEO3IeRpCHRqNHeiUrZQB8ZORPlMJkJyZZu1mqTlFG/sE/vbJs4TWPuKlvkASt6mNZle0hNgRRG9bxcXhPfdka9LjKt187yYMNv2yROZnA7M4wX+z+y8QcVlpVFO+Y0oNsNLRXYknvy48XCZAJ4TFRyr3GUjhhKguuZ6jeAQAJ9Cnz2HDTbvqYqZQ68lqnGfMo0cWaPMST+/F1LO17T8JM8gXuGbxBp+fUYM+6e+KRXAYZgninMJwKSsloZ0PqP8J7oBTqnBzjSn5+BEmMo4MQX5l+R1G3qT2dDHFPV1OG2gXwhwt6pz6uFx4u0IuJrAzoXRdiMm5AyQ9qAid1NU4V9v83BWCLMSO64Pu4JCWjpEIFae0+mskP882lInP/Zi6pn59DW7YpGzBLW0sRh2KhI5so1CdRPRS+IUpXg7UPh93IDy0AaHm1DtM8Euxz0VLZ1A1KjgRoYAxPGI7LhSjou6jUPn/uj3tPQ+BJNZ5UJZ3n+9X65g3z6duuRW439xiLynEqa68Fuay2byNn8r3zoi0PFx/dL3FU8gcn9D11MJNCiHrz+6xqWKph+MvI1//LR5FCWyHxRzMr+DndrJ5A2w7WVwrVSj5vRQ6SfQFzD53qPbHwSRysgllQAJXE8Qo5QQjDLovY8basyvbFxcayfQSTG+E8rhiGzeqEhaWdEHNTiH5ORjc6SvwwKKXrzNOLUJfrZL4yRNT0HBHnHdQNDvc+thOKN0xbC01lZQe/hhZGBbTD6JSU8KAYegdxlt1aTuvv3QO2IhFQwNWn0fUZey+SSrCuEpp1GJmSMu/tKWsptjFVNC1ssAKXdOXkdmlYTf4pysrA2kKHsa+iS4gaIqony0dZvlL+/E+DxKfbmLov4VJyAPkTvVEtyOuejJrT23d7KUxLYzqI3pW33I2MMZaypl8oa7Vr8BJO9r7+PSwNfZio8r1gi9CdzkcUt5goQsvIockip3BV6KTa3OuXZmwU+v7R990sk4hcG3oy8RT3salRkeS6KWQ+Oqy0LPLs7GYX0KbQ97s0usdIsl8BlpgfhpONjVx2m7VKTDMZmqVwJx+RaQQEtU08sPHnEYXdp65iO3PrOt2AWdDMJuBKLEzIC6pYPjed1COCIKgemyOY9U4qfxKqEXgwA4an0nTGf9LK1MnxdobP1EuwqAfMuUY97rFOagEeXNIC5n9FD9hFVueMJ0MpwNkbG9ol0KGRlpOy9O9C27sPnw64D71lZB4KzYyrO5a4062TUufF8cXVNXzsfbtkLA0f6GkqNrjCHQctnKVwL03B51fPfdeuVq8IMxI8rgJPol8zUAqzi/BGkcUdiNZe3OHpJkMbaY/3nPO7HCfr5Kxtjgk5C90jwezh5xGC2GuIeRAT1LzpUEZiFOpuu7ZppYM1j+I3GhLcpv+dKnjdapxSkzRR1tbBYVXJviscQHAoNNXOODVFRtwl6cDWPD++STAstA9qZWYKwGRStN5xWACxaEa7NYG96XsPQ+rM8tO90v2FI7qAIiwZNLD8llICAFNK5FXac/vyLtsnsZutrecLjjY2pVhMgs/t7CTmYvqdDqjfiGd3hIWY6ilxUwvl/zy9NwszeyHEpwZxSYhdv8EY13H7+rVZlsTxCr/yjgJCdtN9ABZtxCGw8yB/Fz8izG5JnOBf0QM2kvHmxDFK5aDeePUFX0cF2qXdPl8lVPgvtMVsyaN9/7itD3EBwaGH/kyBsMwCaav9LYlDAfGGl33wuV0V+Cz3uPhSDGub2ZeaDqQdUy+cYbojLHmVun+0Qb1o4722JXoThBgMI+wj21vlVI6a7DJ+eEuthhw3JrlNGL7zH/dE3SnnIJA/zusjFefsTw/9qeHdfG5n4uMlDLtkVRqtSm15rGhCKj/ZvUK++DwDiQv8WAjD60BoINuNDU0pFpGnciybMKzN+1r0QNvtZWtbvXpheSVzILT6q5+15/c8m/dsEjGTdRh07uwSZbFUpkOmZi2oJ85VWpfHe1cDQm0qmVVswHPhIGotjMi0yNjMbom3JwxD648hXUCThbjU6Bsw2+ewX/ZpJ7vCBHaTWDVowSWklpkGeXNquKzBP/etqWkMnXFsT1d+sU37chgeL1dhvOcKgIP8Nvlxo5YLnXVvIT9jEbw+SMfenBYwVfEfgQprKTi/eQUs24ekGuYUMMIcAHg2zvLmreB+dgRkpggjLYqAg19ssjLdnZjwGcMy981X/FDTLquTnYvuXQYrsGiEm31umUk+C7PmhM1bKzF4/DKgVlmgIX17Uuw7LF0fRX0sslhdLB4GyTMbgWu/nkMdhXbpXIiZtfxSV5YY2ySDW0Wplp4VSQ+dOWkgqIKxzuqMXX5D2dp5kSp6rECxDFH6GTO0+w0xxxvuQ5je+UvKPCRiaACvh3Fjl8KwoTc2dwPzrW3cI8aeMbik1F/s/lLxWWy/YIi7um6PGc3C8Kp3Dhc6ym3zwuVRb56/VORTXVUrRUFWRg73CALNrlOANw0dhG4t4VmVxeaiMPnJNfv6wz4fI+16Pg/wBP7nONnU4vYwHBD+lJQL1SAeiCvsDhnissLDiLF5LmeMRaePFQxqGDUGN6flogK+eQQgM7dXlBFZ3iA6MFl2qRlqikIcf/DZf3o/7c8tWm+Jp4DhKupIzr+iBzw9aVmSg5oWsRNpk+dBqMQf0c2EqCBGIACPIZw/yM94K2Zh8bW0GNlMJZLxDIV/YFlUkuyPe24Vn7tw9BUfq9CNct8YP0kabNAJ1PTh/yBJXvh8pP6+EhtzFNQM1B6uFroZ73v+geGjgSAKCye/+2wq5OcDjO2eAW+cc7epKGWY+0TTnqSX+GMWRZSSAmNgMi9mSIHsKKQw11Kj17MF5CV0fWDMudKTFFzPCrWbBOQEwwBgBOTf8vKJppShtbLSCvRw0YT+gpzMyScz2GZ+LpX8tvyNIC/aB1PPzP3v5aTx/kWbKjakjUAm6/ls/Ek8UErMO5OQzqLlLBlA/pc6lq0tT86ei374exnln/dK7LytWQjkeolKRkJrdLlzkTcEjgcloAz+WdS9kl0gNHGDj0Q6LugCgy23LvEG5WpzIaXfaafMni2DZPum0MlJ3rPWEIaL1wcMSa0wKzeR618QgNV3NROoVZJmSmQIg4Ii0M9nr87TOUBsvk4CkV8/0bHSTh6ioChLq6OvaxdvDKF8CgciiV1cZrxb4wI3LZSoc10+EZcwipmfZxuGjWPMoINZZD0qIeQvCLubBZ4dg09/WuGFJqepDKaPXVfYdZHWOK5Js5GXp99RpGIhBEifCQ0bvOesZ69D+hnTY4MY0pyCxVrNXeocJI3GV4itUgTlcOGalvCJXmuliAIyZDayaxJp3KZmWF08TapB/VBVWJ6RC6AEff/BPy+q6HQMQiUMO9K7/u6zF+jfxcNw+CEjsaBoD1hcQ940uRnTqTUJ37+4zy8AMwwzb8VAi2xVEWboUmyjdcniJFUzbhxZibKltr3vRn4Ukf68smI3dXeLRLKFH5OzRjQ1g/ab5cF2o/dvYTjdJw/DyF9z8ktosP8N+8+vib2PJMJYDLCatIZss5HUFPq3ilx7HHAqkcx3SrdOfPI5H7J/TEW98S8QdKeOZtFHr0TqEFo+s8WijJ7sOGMvDZHT0A0u9eK6GQ/fHNhJsg00Ig6B0AkGhW/NxbgIZBWSCOlZB/hjtnI7OUDmSaSqxPtoiXw+XuAW5QpOCBrNYohJwMFUVLtfgIvQbm5/aszHP9gDbivUV3qKtDiO7BN3HKpPDPh4kO+X+ti3DQb8lmGmC7ZbKMuHRIBNLqpHwis2JHV0mwJ2wFj+Gi4pKzJsSQJisR8+jKMYms4ULErcjDGYh/q06nPTapfH07g6uq0ZC5FDlC7t9lI4E8i7LXDWEUUzRIfZfE94b6oCC5CnF59zScrkZwW3kM44V3sMkHbSqGRCuB/drLw+BF/tFSZGiHa0RP0ey/26X72EYfzqSPwL1hGacm6971vev65m48oZyZICixkVx/YSLiJf5bA8//TJ40nmrRcMIFOXwqZAi0RXyXh4xABNCELDoes6MMSOqW4vCbPQ9BEVdIhnHGNPpDNnGscFq6+Nj5FIWSgcy9x214zcqUcFSrZIMk91gk4koZb46Sc/ipiYtQULYadupFUn+8zFQbfw3FOen3yquCO5dMssEqK4YXEF9U1j6u2ROptmqpcu+nt0HVUXnTCJd7yCxlAm0HIekqcxeBn/+HwSEtDsZo4BmLg+LweM6fnHUNGLVH+SnPhYX5Gj7hapeLLSScT19hDi3aKFlExw2uFJsu7b7OpEyQ5RGlg03ffEAhRHREtcAnWtsiyoPZZU/c6ah3E5TzhS86crj/YkxL1G0J1jOpYt874WdHadI5adfxrIZq6OQ6DRpPz26beS5b3HdjB/b3rQ9W+pgOeuKeqeIu2x15LoI/DVhc9AFx/C3uRvBXiLa2yiX4Eyhshwk3In7gGkMOz/kMHhbptNFIuILet5ICcHV3ndETOcotd5Z9k213tQuNGtu/i5mT6D7wMDPyTweZjVY66pqrOuHCXjPqIpaBDZSakSXoQYWmDNhG08uSmw5svUeQkPw9Yuh+jkt3SHkhkvuziHmqY62KTWMz+WFO8lKndDR6J0uhQezisYeYWZ+BmGZ4/A1z3N8mVkdIyadCk9HDcreLTxpgcL/UmkL96qpTR9tmhhGPLp/r8XGWGvQxC1UUbPEFwkgKsJw4Gss+xTWjljQ7tdoakcehVmH0f9Y7gbjaZyylaZJUFEbwLfhhUFhG1UrvHGSxGWRUIqbDf2XqdjOTfaz48FpNCrJzLAGOON0LXFNugIZitwVKWDtq1r6zqlkRk1ZFmnnFXEKjxU5q5i/uTWuGD8mF28DAQ/12f4ebs+ZJnv+D0D8J3pVDzKujUy/n6f5RhjRs2K7ICio+ybA9xnvSIeCdoF+3yelmFSckHdWzDPK8q6teZX++ymKQjbUJdrGIj9oUAx66EeyEAzXVL2jsEXPh9eMpo6uH9jD6CjZmHTdYelTieLmBx7s49sPtUzPhGETaSha1NIMS6sFX0fVnS6iJ803Jk6LZbkcmrxereOPvPTXrMla0nSIb44RC0FNirNOpGsJ38ua8o0m6h0lqVpvOFtooG+3MGAUVLro1Cy1niF8M9JWRHCBwAnzf6g6vupxAsTS+BmHn2Uc5TvCfThRrkGEY0QHbrLjM/0FPSqZnGStIuXgaftkL53na6J1SOvfUmPc+AMo7q4R6o+CU+WkleWcj65C/RGTAWoefuiAnP2dygt/7R1YH5SjcTOS9VyKIw8s/ObKwhaeCTeVgiD43EKUfN1SUNFOpcR2B5vDTKQHdb3sghls5O8ddiQz4piGq9xEi7jfz6fD/gBPj2q/bsF4P98/ow9h6e8mapj4+wHD8W8kS3sfY9UY5Tw8N1yXy8Qjc+s7hC1ZCLhWd1hJ0o0EiF6KHKqF10OoTMnd0HnRbepkzVgr9QbQmo/GpYfuz5wgdy+9Rjnbns8p61qvXpW3HyF9D0u4PP/cvdlW3IkuY6Ea/7/i6cc8+BmJLiYR6jutG6n+sxSXS1lRvhiJEEsNOAmVPCnHheZjfUJi9s90NnG/fic2MpBE1BXjytuAnnr0AtJ22yoeHM30Oh29b9y2nHkZXy+a5lJq09mWbhk+yG0LlM38U53LoevW+qX+AZxFUYgiJ5fBO+9bsumckPHriyu9rTBtqw9ezpeK0NNvGiq40o42QhHWmpwEzp30mjf9kTTED3NDeIGitJcZWb62znEgvm9SDtX9PVyaJMq7MQmsxvjIqx7uSQN1VHUkTTfrdeEmGbUGuzmGJ7+65V1exvUzbBac8inWqK+5xgS4kiwdpgMahimArF2I+wfu2C4QPJ+tCH/575v3H8AiP7PF2D+X7+JDHNxeK6RYlwvZbjsfl7AUhxyH8dZGNwhS1upHH/xjlKq61h9UZdY3tsEbLuMNQBpPYs8WQyHcvpTxzJ8xrqtbz6i6bvt2cBtP8X8ClXXwPTKmE2L4mB4jAbrL+iDbwd/2V3CIVCILXOcgCdccIdiodSk34Bn1i94NPg+8RhryjdXUJrmW4yAdv72zOR/VGsr2MAAq89npXRl9K+oTp1RP2hqObwUOXjRDSa3lWkRNaUkd07cigYkBBjuGeyR69WXebtzACdndHeLUcp0SB78OSxWguia0Zqd4LPg5/gK5ku5WOWXC2efE/8XyaZUS087LU15g3S4IrG6nEJKd7EcDEULV8Vp5zN8w8RL7+V8+Dlt7VVhHo6XbrqkYeO8EgmXJcl0soG9DQ2vTS+7xVdY/dh3C3iZPEhehon7ochcduP+vz++AF+kstT8beHj5kyJyC1vnNw/LRunacya7OxUd+t6mGKcJNyK0n6FtbrnW1FsV7M9236asw9pCS7t4HY+L7wMv7jgjlVZPDUMtF9LcspnW8ah9sPjjbNfo6jlUOIi+OuW5NTB97FJJdpHDTvJbI+uLxxGVh3TZWneeCdzYIJCYkOBXiuoq5VdtlzLfqQZQev9FXiezcxIdY3Z1TA9pS3pVo7gbVKYYznAVEUIFdd2JsTGkrdxU2HyH9LlsiiLLjlNvrtD/IN/ELhaN3UAKfagUqyHyGHxegxeYORka07azgcF0cHVJFXKUdBmp1E4G0HM8guXG3Q9gjIQk7Fz83GsP3nk/4dR7YZ2r0gQb4BcgI7sUuNZDv7Cm2PTOiL8qkp7MeHZkBTPtRWTLiplAGNcARx7/FR9fYy5gYsXYTeftT3F6iNoJRywqh9KwhILk0q12DvRjoRY5r62+c+5+zgCsJY3BEFSANNIgf1JfPVZqfYZZMOogyoCROHarTOpmKtZyN2h5tW9DL/X3TG3gGbE5T4BmzS0TtvkBENOjhaWeZX2uOjduPjQuHYJAPmLNxWVRE8l6P7sPQu5JdpmlbNQRjfdd3vjbAhrpdDAieXdS1xc+CuNS/RR9AzKLHyUfRkb/ap15a2Ns2T7cO4U0gVJzs/FisEmKafbaDNyA90Dq1HsbdG34F5p2ZVsOuyYPJkR8IdbperR1e6gm6joBFPWvMmtqLduV7D82JYmSOHf8gwikKnjO6VTII+sdTMdsmpGRjr6dRNkxdUcpOGiXeGV6/GF9fTXlyJDApR1ua9Vd1e1jtDFLdM3IlilEkpWyBYeYf6yAFIwX+4n/D2t+cHt86vYbNPH3GPlnqI69PxU9+7hbJzMlAy4b+LaxpeXYmeQD0z+AUHSn0hD8vBGlvgyplMoaUXykn8GnDfMOwo/LCcMbGykM2zp4FaRvQbdaplq7cysqTyW9IJ402qqiuxU9hU5leGgh7ypLbvBbyzSHmTsaQS2+ug+HkLjPEen6gBmt/G268a1eUZGPAfiPyZMloZgg0rbwgm3qNSzPuIndFX8tpAsatmtTweYXXpe5UCJz0NbITv+mUhGU48/Hlj0eOCY297v7JAOUgIiOXSiT791Cm6ysuOXa2jFndSGeVTztYZHlxSz0YL+MntE5x5dxFS5SbDRO+myW7oIM8LsPWnqi4w5ybxKfL1pYaSeHaDZ2VWx4Cu3PJbcg9+11hw1QtQ0rHP6wGKS4yMvbjzlJcQFviN/TCUDRtIynNbJ3HT3V0pzjBIhPZc9SMUwxtk60V+CBLDJ1byne4nwgN7fSL02XzqGHf12Fye1kK+NfLefWoCT34WabVSW+ZRZm7fodQgOmLeQYJCGpbwyMmsePac5yfY5E1wSJv5qNQNJe469B8lJQ+E4GE2z2nNKSLjlbMs2jJyUeWD0lUO7MKUIcNg85Xfy4pJoQJOLIpLWwXrnQeS1kY40WQTeENq2L249WbQ4TZklcAopdSL/KSpxWm0pUX1OyqFPT7/ZJ53Gkc7S5MauinlJnoFiWWhD9WW5CCNb1aZ1OF2M/aKcRlHfxko1FSTtDql4vlABPFCWUzb7aMUD1xsJc2LZTirDy5tLl7+058RfH2VRSLU/eofFYwymKVeowgm9F0mCTeGkYYWaqIJqgBUZnAaOlnge12M5JFRKUVBo6vsuZVi8Pi45v6pZikNW7tbAl6cMMTiGBNEbMpiVdK5xTZlUGIXTl01fp7LiNaUP6yVoUg+c9R3Jnrs1BXn95AlYvrPV/IyMqJGDlQGaX0qdEpDcQv3BSnZRlTKCfMRXWkEF/SAteX3F3gxYqnNT2+Rgj1a0kjUPvXQ9WN7qK1QZPgkwn1toBf8EMB4+pssz3AYJZjWSWeWnYlVdrj/lGBwc4RWANcumH+MbiCKkGbnHWuUyu2oydndFytAUShKic+8eymvKF/nEBUtL0/p0cgx1LNVLOeQv/G9k05aGZudOlyWn842RVFfOzUtZVxgFxhiPt8WNooXxtbhv+r17RsYbVxHQs53Vo5/zaG9pqs2N3XZYLeq5gSqGqCKuAsY6Nen56Nfa+6JyOX0n4G929EIE73LaKAk8aifQoiPMrRh20WLCXuIAYTHujZ0UztNvNtGkW8IkDONwfssDr9sTCzkybDxC45bd/hpKIDHzimNlUAnA4zc5MdLnr/fTSViWXRXtYL1tsXP/ZHE34DDzcyEC948b9e7mc+taa/zdJ+jp9EmP45GgcCEwh7N40kKy7G4l9Wi4tl2lbq1aO0pgdQaNUyxMBB/6YMpooqDtr2W4NlXvd4Q60IwGDtUdhWM3dTBLUab9mDQldW5KPuBl921XKsPScSczsk9LhJkEfmQ5tE/7yUCvZEX3vK9Mo7UPqUf54jfmV53U0UiU5sHTg4nbYsNuuRco+KQ6MGi2LktGSnfIUclfQGMYOgCvG5WNi/fcjULT1awF85X5LnYXbwxGTvDLSJ9u90bctYLtOUVy3KwnWmAIxMxwhjuuRPejjryPW8Dxq2O7i3vyw7pzSjn84EoWgcrXhhYU/ZAmQAkAACAASURBVOYBv7GRfjhXCQkdFi6RxJv+iQDg/4UC7DyN0z7f16UT708LuRYh3GiHbD3TKcqGtzZu2B4t3qSCKmn7iA+gltmrcVV/hqUMu+AxaQF7YEtZBdm0vSsR9Izln7jkh+NPYh5yY6SosDCV+RKL/O5lsZt9J2m+K5itRYQG3EgWy7oDhLgdinIs2jiVFq8Ga7yhi7cmEa39t0yKy6yUK3lURZlq3VXu3f5Y7A+MX8xALg1jTzf6S9QmAQ5tho0prKnP3RjBFQd7EH252iZZNbenjYVvOj+tkCo66IEf7qnkkYVPG+bItmRXhYJZo5ph3cJJVBW3L6ylQz9YC/BT9+yPjQbNMpxBFi0w47GIVUiRDGzjtkaKHjqY9GmHV4vJP6DHFubbYXeksYxRHwMLrLWYJblkKYuEjP+Ykp56SqWAlUyP+njD2lG/QFRdSup1wmlt5+WByfDyryjAdlMN38c5n0+HeJVUIveYfc6Pi2q2ENHW5TbIFn2RaSCMgI9vkRU5Y6gaBv9qX+kWvk/Pdu3rTAKnMuzrC1UrlnT0ESCpnQ2Ho3mUYEoqSPow7g7UtrMhImnLZOzFwLoIF29flk2EIBu9QlPClS8p3PVpKgzut758BF0xdrJdKzjtsFBcVrHPW3mBt/xqZ8dsYGCVoW7G1MfoDWXnQyR9Y5mB3nGVQ3UUZQtbWrMpa6fH4WGFvaerrWer40Px/ropqWRXj4FC+UbHJ1MCDJDdPpJENSY7/WyKuF6538p8bgouWWxFnssiVuQFP2NqQzE03dg5mDHtlj2Ilcl1422B9dIKek+8Q7h1gVaiteJe9F48b3CQ3iDLnmVsZ6xCyG2ASV8gLZWeUOR9dNehYl9/N7wlsptm/6UFuhPcoEzYnLNqUGY+wv4EBfrPTMA3I+m0uNNo94THT2U7yGTmBTZfJqyG3ewNuQzr2Rd+jXxpf041OFkTQMtw3zB596TxgmhtV9+Ov5Th+n8yivBNakcKL2v2lvE1JZEpaRXS+XVqX8oPlAAJ7EEKj+793mpNvLK7me9jlN6M7B3K8I6zvP213aczJs+gMZhBvClWXbrsBnnbffG6AT6Wivsn6+q3+P3azqMdv7KqPixD0IFeNgJh6YMgJCuIKI5SyH3fX09uV4v7sCujwPPyqiksoQiK2WNkv97f60mHrqEXPPY99YBUO+sJnULuVC4PY0iPrjo+LjzZstG504uv0yIrYT3FpgBz6HJ+fu4txwenbFDq0ZfACROa56U9w4elQLEZTTWY+Ywqzi02hbI/cgm6GRKaLJuzM9Ih+zm6sefQ3onsFzG+/fnkVsd4Z45Pa5o4hg8t/uCKU/YXmjvOn78DvnF9JqRski0jfr5shqO1vIErbWtUCoZe/rXTFPY/9oDeA+dXOc/W3gPGQ62UHjfGGRspEUzeFTKKVV3u9ICzZcSfBJvg+xBsdi8OyIL3BgdjW1EmHo+4KTaK0aRvRvd5cFOSKDmwxghzOOQx/Xz+BuvRZp0aPX+v7WN7V8P9+GGX8S78zJruhwY4s9g6FpbZL6PZffO6cV+4WITCJ9qGZud6sVtWCTyvtbbOZ7Tql0ukBpnP7KDCs5I5MUXQsVRomL5R6xi6wxQWE9DFm7fhurhsXyAhlShuxtP81pyqnTRUnL/Mx0vumyKPrq6cOFVUPYz1E1H/zGX34wXsDyrFIJ3Ny3PV+3vpfLhsVpN9VWUSxFQcDweMWYif5nY1LRlb7aYwZFseIbEr3LcZgxTQ31bqRTCMD+Hhk+A0ns+OHzK0Y1vnekBkUNI2AX1PMHRCoqVc2pcYqSQgQLhxRFcNI+yvKMBfTvRYalsQl+WVnk4PdJUbxFKuQkoVBi+NpDMbg+LEoCtcu2jFHrQKEqbuiSvteAjemcowgvs3n0u+hvGHmeF5IWvpsQxL13uHVA7il8nBxWZnctkbyuTJqSDWj3VfKg8aawBa6oqixeyvygD+y4G1Dou1arzSKUuxaEbClsMQZ8MYIneR6ENiYTY+xpnGHz1X5pc9AfL3XYfvdNcqXz7gWrO0qvzwUlgqv80Akkk5GlyYpwS6rHnTraeMDaTMwpoqtj7fL6bczBPPy6oCtWt/J+GVdferCPCAGuhtUzbHxfC84Hc8uqaCv/PUyNSSoHaCEIuSyKpDYhpkrdcGK27FbjR61TtmtfHY0CpEucfrFLXLNxgvaNvskENZI+G02S2l0ePDC07Wn/yhXW6RLJq7lCM3fO22rrwI3sTFTF0+pNvIpnjxWrzlxjX8McgLeanxswvwPw9ppW3FXpAUP8HTxoJQevDtcRrPjTwzTrsQPgFWop0D7TI6a8ixcUPtLj9lIQxgb39n1Fh8hMdjDbMffY8eQpjOSx7RYRpGxIDgBhSrvBrMkl7d3FFK8is8cw3PZwMUvfkGML+C0lnw8Fg6zzIYEd5Wv6D2u3xicJFJyGNEh034tQ3A3HI6oQYxPQX74kxoWDXYsYQk39T8iQ9vRGRe8Q3CjVGYjy553xFb/SyMpi6DzZfYWo76C930261Hs42cfnXWJLUVQJRGEnbvqCmjQy/yRoD3NeLJB2RCHIj9v8490LXDoRFu4ZimYW+974J1izFzJnVvlQ22S4ZG8eoGvTQob48NOb2/n/dWoyVOojh4DeZscXPoccoLEqSnTTevO7Kug0r+cdsPuDhOq2Prdbz1bGXYdwBxzj836P4Lwhi8gXonkjjh370rsrQuMkPqToicbP+kwsXM4f/XnyGt+vIcxPPxcFtv0OyD7UH51ZnKND+meGvMjbaQ+QVwy8Gq1GRR6YkvUBhNALCcKEv74o4UHMwTOOPtuXjfK0ntuksrrcdHJOu4xWNefrWFm6cNq9dxeif3olelwGwQrlLgNHFlNy5+VU0i9SQzdTqM2qB2upQSPGX3xaoHS79iOvmnAC68nG/Pg3rdJi5gpuoOHM7Z8xP4YS6P/+oCaPDk3zf+0p608bE732z68OwI9xSxky4W64nQ13YdGVnN8UN0m/hiLpYCDfe+ACofUKy7tNohwE9hXOAkpGtZAqeGfr6ZLm8oq7RKaUalvJh9I8vhwIH6AuxUBk/6i+S4yunSu+Sdos9G6oSqNcqN/uNFKenjH3Egvv20AvyL90c+vWUpKtMCSVbBkafL5n+UXjB/uAXuM/WDZRAhh+nKtyJZzni75zmzTL6+AMnA9J5ssqZerP5b97r3kCYtw6YNpCYZlJkD5P0YOEsPif7lK1XBLCd/SSMRkpanrtx2Xwr5Fk8Dfz26ZSCYKF6tGFupwbkMPxShXUcbXTjZ4yVNV9omOClMngEYuz9X3eEJ2+jwZCdfiIvUh6GUYfRpkBkwxDGNUaesJZ2KYSuMhTGeZf0oh71XZYghtxq9Usrwx/m4qdJx/t18K8OmpoHJC8UaCVEnb1BjLQI5qFA/oi30WsglUMw41kq2fcrwNeglVh5UINu+f91skPJSZnc/cgyKsBphebiAO0iypxTrjmlvu4UEPjHYe+R54VDNIe3F0o76ldNuTv07MlGN2t9b9fel0vRGAQiSsq56MupGfzTD+ZETsDiblNtfVu8yj3YqqcOt6X3lp86sAI8awH7o1hnC81uyfkORksjDNsg0c/iluhCMlIOx1erJtXCWNbdUH9CKiCzxtLCBvcnrhjJxWE7hEv3bzy+rZLGtDjBcrFnoBWZML5LYuPquNxO+mFJVRro4Cs6276ojkzaZTuRolJTACitgyWF5X3W9o+A/bQnFf1zXK1bWjzX+aOcKdckZBr6uJpxvAnPmZ9kHj9x8myJW6OBpoON8MqrheQie0HWO3GOkIJ+qPijol3pBRK5Z/qPScbNgY0824iUMxNvm8G9Lbsk9HW+BMffBaUsBdlWKO+bpSvfemvjlGgFFO2erZAoHdtBIhut8KbOvwNqeoFHtE3Q/AxsD1JFkcahVYLZmsyKvyNaUZFI25+aSZl36wWqNQn25OrNMNfE/ugBHsLPFTHnxVucEAgVtfzgvuk28cS2+z37T+/7SmuuSd3NYtJQ7OAUnVwfyovFJzFireLOdweK3RD1LR9P/lG86d5FrPt4UmE/+EunMqnLYZMigp8z6IffFRyii2YirqD+KmmfF9QwX13xMDx9vs9OfK3BRNK/PXW6SO/AV/fYzUaILBheqan89lAhlXaXHgvBFYsWZkZWhk1PSXSRq7cfHgsPXwC88EAuq15DYwUYpF1fkcLDBgXw9G7t+6JhdurP65tuubMdomvwYaXj7xCNwLhIpB7cYiVx8Ek8W7ba2g2egvmw9kNdSz+fX7qR1nIth99w4YLZeOiwF9MjhEzOrXUhRGRbFC+pUpxKy9UsXT1SbnAai7i7EEySa0oEG3nJtYwWvQw4tGSxzYmCEwzY0IrDkik689309HvqINfuU/uiWtFDt/hgtX1yr2+H+/QsUZthym/iO93S8lHyRn12AuxGo6OVvBBuON642UD6GbcEglEQ83Fx1IrdaEJvd9Z/lXhSl9AZ5+eMoBv56v6/lsGEF1ij2zud7GRTfNOokNoJyHXdSKtBMahiGmNsJmHx8jtJXiGNUNYW7gTDem8ZJpDPr+fDXvV51u2nXlATWgeAneXTLMdc78Fxw2nXbfXG57vm12hcKL+U9JaVvIlFvUNLp1zfB2QhCAI4Uo5uP70zoIwoLOdpqFvGD5edhV1/iiA9SleLaLcWfVbvjUobHW/9eiTWo4N0m8wqqGor9iCXOEcsSbsgerT7466/fTuxHgv4ucj62x6+WBdZ+lO/IQprhAm8q6VIYN/r47It/peDREEn3mEJk0nR9LBsOROlBmTzJ7RIjWuzpIkypgvTEqet0zn7axHce1sXbukLX4l6ryL5b5VcAg6XRT0uctg9OxOQu+Ok+IeWR23luTPaaGnizSPJI2ZYexINQkoBP/ua2kbA0AULemp9fgAecJCrKes7WdoQkblwajBzPDQhej7j93oMFQzQ2TTla6lapv27cZtdlt4XPAKxNsacYOCs6F4mFcUPwG+GyP2OTpr0sd4qI0zOQsMdcS2Jo8NXRfjnvFKka7tD6Hv7i4Fi5pfHE8pe42DhNHFD0FM/yi7wRpkj77dr/QL3ai7c1FrCaepu1vCcPfb/yT6MluOUbcXcyEefOiGOsi7KBlzRknf2hyHba6k1BHnEsF7KCJTcGah011s6PeRBM/pqUfC1QLSfHms3s2Lr9rgFeT2tVDsR+PtdjFEprTVu1q4xceLcJm1eOaijx1LYsf3q408+7ea1db/brtiyNKVWKJXzhMNtzIg2hDoW5P8va+oRLxbm3Pn+PlUQB1ahJtlBanKcEYhqO04ZlIenOkuF0wR+/x02SSWD+sHfvLzUNl3ypjn3qKZdu6/60l0j5qV31JlQGUYY74sLHdW16eGOT2/fL/gbO/UwS1n33o1tbHl2E3MsvO3VJng8G+2eRocIDAdW5gzaJskX5KSUngYqwN8wzYZUPLgcTnsbzLR73pcudJvICKbWErs0NUxduOuW284uPTqsJM9kqhCBweaa0RSsx2O5PWOjGoi0YmrI7R2S8J8AvLHw2BHftJvTm5UAlpE3e270buDSwxU4xsesDpWKWl6Zc4svNIrmTY+LzkWj6+tUEZVE1oVpt7pfXxhXdzOdn1VEcJwmmIfWFZT8uZZ9G3kqRKxkhbk/RKAsnMN/p/hKC4SY5V9oqujSrmaSmIzjNxVQdfGojTIc8nFRPOjPrrXeFEv0AwBLw/jLuCKCIQy3Pdtg4J2Q4FTYli8lmmjha7KbKR5FNRa+jf2wxda8FDi9Fb9MKWl1txsZmb8FzoSXGZitAddg5bq7xA/TJxXGJU5mMJt695pSUg0wmDvC862GJiw2nvWfe2DZkI8zug8piw+3FB2H2AKLScP0lVpS/+M/0BsXpeTGI5xfuxdrNh6NnMz/v0hUsgDSw7ny3SBATPIQNDYcq7JRkOB61ZsUofDEnTdrn4t2Dlx0C7cYW0UYUif+QuzvOZLE5S2yUrxsp9mHlYT2vorcBCm7waQn1XEhKJ6LaBBKxInvu68P4xb6/AlSixNenxWeCWdU+zyc3Nqt35rP+No5SDZaQ87Q+9LmBqQbT3PmJsUn67sWchN287kGiESbpfZvc6jGLO0n2dz1cTIb/jD9vOJVhJWmj8Ogukry7D8iarVtiVRGkNgwsrRVDEtbLcLGkYCcE2L71JlSj7dCzTlVedqM5ecXW9FlP5iUiWlQYEb79Gig7vuRpOvQL5ZyPQwH20RA7mQI2uGqrbNLZgUJfq1zIFj1CqfevtFaW0Og96ky8kJFUWDMcYRcTwemkO7cB1rZCzEROa13bw67/pOpT4S5aD155GcnwQgX/Ii/ouYypC24yeRuYflufTrcxHMNfw7p3q9qz9/rdppbqw5wAEAzJVtukzW57DLPiXqZuS9Ush3vpudzhKixvRl9eRl1g6QYmCWYKNp+r74D60gz2ixNBseuDvDATzCMkt8en9O814xp1lq3WEOmL77aKVXERHAKzTjMu4LLEpLgE07fLzZQrhk4/iykiTxwj0lzC0VcYs0LHxyPI034GwVr0HvOJbIMWM7lMCwsUSSbm1iinMMQ5RzLlPut8anWYOL0LzvwSUH0swyWnIdPdb1NtAsUza+t8rsn5hMqnQjlIEF6zzjeUFGrPrn8vXev0l4FVLcT1XfO7s5kZSmBlE1atodCdehlD+xB7lc+xOG68q87PHg82F7pEh/x32IGcrFfksiX8A3DvFX5xHehGXeOzrTW1ESUm/JyMOyjxM7t+E9m47W/wgh6fyctuqK4uWJ1CLp3u3xdRMBZGiQJfhMvYgZhXXFJ9QEZWTzln75dpELT1xYwE/x0+LRW+M/UC1EEhhXpOcupkvtqSHVAxoNHD6zGOeXLTmlB1spuXFxKcVBsiV1rLGCbLpZeU71qq4wTJLar2JWNacN/JUTLRZM6DyErFrjKMKpEtoiiqdEtM91KDLUl6Pg/NeTdZmT4l8i/+BMyaC8Gws09PnfpKUmTiEEqOvDP4eIO80WW2tSnBPq8Tz9ovUkZwBhp+/lI1f2ybMVIDlvyJrSxiCB7m/jwSCCOJIG6JzOZWeE6TLTkoLSrbOStrE/dskrbxVlQlZGRoZkIA68a5pUx0n03F4Bc8+04gsepqW6wnUlBn6tevIi4fsm7aRf6yf8LVgOX47bqSumnWX1efT6bguOxZRk83z9S28Qj6E6mE//ECHM2XGBc8//AkzLiIE9n6eHVmHCeM9Diw8Q8vT/PW01bg5WQwm4Zp1BuQnNGSAHTvlkYNTC3D6awsIMHDGxDznPxiB4RFTCzTqT+t14tTtgS7ofyRHAuogkcd3PjYS/DlHoWBXz1tz21aPyWTF3fWPxwWnP3JiXUm5f+1EtZbUGsPFBJLbj0ziKkMH8GJj8B1uS/JrzlqsDVtdCwsZVeXp5NQCyEeXWHEi72fmqVPswAxrLYpm2pmL50nFREv8Ga50ToKdy56t7VCfAD2RnNi56rcizjw8poOjILn68AwUC5KGaYIhcLqQZtjwai3+XZmC7Ayq3OKC+V88yQMi3jiAwmgJ2HMUKXV7UOFBDqwIPPp7bUQdhNahvNW6PniV7FGCT1IBvPA6eCjv3cbmU+HwBa8+U08Zbr/BQU4+vdqIQA4doTrthu8rkUsYW5s2SLJdlvYfmyhA3CHKUiIPIvlSsZYN76asmKO8/e4LeCZxTD+LKQJOPlu6jkF+ltqZh9yozMlZ5tBYmSWWXN9qmY2zIqN+j/QDrRV5C4G3+AZnKJNS9teznc3CMxxim3cD7f1Smfbnp2ysVtcTUZcppgToliRzYANe0t+gpSrP1GWUbJk8eS7Em+LI3oUMJViCD5onOgWxHqchcFTWsHC2tagn8ulSfJM+miIMfQrvVwpmbz41exhtzidFZhmbmvKfQwPvmndOK668PGRmyYHjzJLPzLFX+KSfY2HqadetQO8KEZGitZ6+KArLHIQx+Z51NEaCT9Xtl1eWikyvxPSerqDfLgbl3stG689hllOEaTjl/emGRZr8bKjwmmzs+owNBIb6RkT5QI6+fTn74BXk4iYuHo//UyTW71zrQsqHVxOjE8uqeWODGDgRi+TwdZ+Xe+zo5GV9vN8WMwzOuo787H6ZNHnEYJrdcpOn78JW42TzwAK9iJsVwtXpgh64uRlOcEVzJeRmXs5zBwCM1Ah9xKa0oGn8OYXtjDPgSguGPXVo8tsKOFFS7mPFYdGLWU6O567rpTQwuNNF4UJw+nCufS47roCyCicJzHEBlM2CMWrjykjz8drEyltwPuurayjxpundOT3raeHzi7kxInrvazTlvyIDwvK+BbB8ns+tlIj7Vzgb7tgu62KxAs1XNIMN06Pk9AdHeNFLAuskcyhpjrhc1LlilceOnf2AHTtnX4yB2IdE4NCF2lqnNd55gOWm8pesOQitTCz2TFdpXj+n/brXgPuhj7Zlso7K+ny2y7eiDTjdvPYAFGPPyKYusxhzScnzlNLLiZ5zt9Bwkoyg+prI6PVymxnvevLralszh1Y2Ra7xx1MsiAXmeBOOX28cvhayXJyVQA+MwiMMv0pN7XV5WMNTuNCcSOy3zTTzxaMfvZkZ9AeGyd+M08Cq0YgjEWuCeqFLKQDpcBudkwaKKpj5HWixJqKarhgfekHytF9gcZ7S6eoqvypDN8lEzMB7CLOLOQabUWuQ4O3c0/R8mLDkGER77McWZ9kGq79B6LlZZhMcbqzAxso1WAPCZg9gwo/NjUhYCrD8UwraEE7O3hvSQgiQ0WCqul2eEnQuBIqb1pfahYsjXiOd+cSizdT9H13dCrBkjRBPszCHNu0DC+HG3ZLO8tsozHjj03tGjmGj0667kqY2jjm2MTe9COT/OvbynrdBNStyQ0yIu/lPTARqXZV3HfzKcOLlTzZHCmonmqwGXmLgzcGhJE+9C+3CfdFt2TnsDkVcjWuZf7/NxRgblKELIGaU3bSC6K6Kj4IJ1e8vKhvWRfmv3fJ6AY095hzme4pM2wuw/Qc6iBlo4ayeXt/9pt1Zga38L00nvPwPWhJQfEyD0MMKagNhY7kePdtcLUY0rqsMIw4NT15m/40m/sddlAOFTBoayf2MaJsW/P+j7W6p63bgo9XDNxjjrYPuL1/ykt09/wqMyslVGJMHAow8IBbQGYIm2yELyN5b18t0C5Cy9Uq1faEACBFCxS7xwqQitpyMq1bjMZly6rOmpxXZUhAtLgQySQGFtpz3BRZY68oMAnbeP5hwYmKjsrUYjTukK5EVw53i0Wf3CbMTw+CMLpCMk1ZKn/nvkVGpEd8ESgOiSGa377ndY1OyYTQ2THBy91fyJKOKkmEkdluYrAnYx7R/OKWzQAOG5/+tIgeI6zUfUd2ZecQayYE211uRfzuMSDV8vJ0ZXVTgDkStGqDhv65peuRMXWfDcVB5K6ttuviKr0X/yoIuq7k0FeVvtDlShrwl0e57kngOElIh/WzPwexb19kQTfkunlyQWAKxA3bDfNY+8cG+Qm6Uo5Mcf7Tmm3bEJXAVGIy4nr4ZBgmToVZApmlCO69h1gPJo+72834EctWAaQLl0QPhXYFR2MTbDNLJ1K9LVBRF+hs8g/nrats2TQxuQx8JShXWLhJ7ppNIhmez47n4yg3Q15XrykB0MbFK+g60TN+gHAa5OPweePe+eSZQMjlaXztAjyNrVDrEX37nJPErY50J/RYkLZAXxtxdWwEWJFsq4t972mobhjetIo4Wmcv719tG63skWWNg792GT4sSuobzRNXi7SGQ+oPvHLn1Dlpc9sPyRh/MMJgM6XlGqqbSqZUCCFDUKWIH9SjSIef/wnJqGsi8tBvdaBqNK4dWREbivSoh0EHp5Qn9Z0uAWFVeRyvhdTgZdWwRZRPUM0+Bx244MX7+iL9+ocU4JBeFUMq6/NccEefwoYeUZCBYXsTAIxEMA9bXuufsBblGYH2W+u6QFOB4L2K0irDXa7T850uux/HqEziEK7Q/C0ajtRs7inCukhg3Od+hxxfD4vwayXDuFUcgpJEB1IXS9wNmwAb9c0ZmiBllFxtgMhpia4Pqvu5vjuwt5idZ5Y6iRMSU4mb7NL5parjSmGI292aYlAcSsTmwcKcAbYN5Y/RfTBe920P0RQXGY4x7cXYOICQzjwlbL19Ns1tqesd19rboSjdUCql1c0TwBtRekN/nxLXpQzrUytUI8Lu51x9jtlf4XM5k91CwD5xJwPgjQ8RLayA1d8uC4UjBur1X5DLrTlaaGUszqrs6NdpBLTktXmtYwDLaAKodK1/dbCram57mFxl/FCAM5TcQADvkyc8ERtdL8ODogH7ZACYy/PIi6ZIuxEen3ZjB9XIcQoPBPrpBbhdu/RKY9rV+1g5UauCPJmlvQbjFOKMupDefT9nD5evAqjBOgQ/IOWeDdGDiU7o8YPYrMherz88WBK+xsAr7rqdYM11+omXVLerAycuXyjoAkwpQsEFdbStGe4M0ql9oBWzJJnHWUD1AsrlrZ6Bwzml8+FlHPb6ZzXUhyfBvdtWpMdG9E0jjgpfaZ/pB6hGHqq7GOQ+0vl0VUYNULZxfvwXbwO2DbKSAdGwzWTHhZqIyTYgvoBPN5yauhb0VzJ1YYE7O1N6t461MUpeyuW21/XqKtlXdtpwtgcksbQ6jgFt3uJ4Wd5Pj1F6K8scP+5bxcqhC9w4OIPX/ramsRrT6AlLevWqG92Eou+/LwJxxAsXWnGNFi0/mYGGAI/PEu16eFjH7nAxtJ5/uDjsth4vrQt2877s2g9nqBis3GfFCF3yvqxzL26u0oGn8ZML8ItDAs9lBRHai+g0BWvdHTrMNOxTtX09CfWR7920khuOlpL5sasIuHVXo3+eYNEbVVpq4nFTvvDzrFy4dSo9I1oYIQTkzShbv792nPuDOR+hJ7dkDPreEVNHlwAAIABJREFUVwlkNrugdaKmHIj+MX3UyV8JSsmp+XHJI1nwSVjd1VmnTVp1AQuwpIn3t1OSbS0IcSAqCx4gX3PP7IHM5/OaddznVEuUe7wOEWsZnY+39lPvNS0cX7Ecbg+30Q3Om6a8WWFWGJDVXjjdsx0NQumpwPuqFyelja19hJcKVn8l8+jAZICDGNy3V6hSNTc4z4go7elhvnrcq8FZVp4zuUdKGjIa0dOTrrwkgh5fndQZq6RMUqkGlmVNNjzFAvhbSVKxwR+wJSxZ1HL0iwlTkKyGguR94sNEuR7sEEEbzN+dSvjoP/PGtWqw2W237WifkA/QeaZvL4pPw/u3cUey/Aknjj/khNVT68fOfQTWQpWRbn8geCklTW0rJNOKsTta7wCelIgpdZyvrQOqmSLThG12MTxAUiUGT9qYJlc4eXssul55WEWR0h19MwAgtsCvQLdDq+okPBhOOXpp7avRedul1CcrdyqPxpI4dO3J1ldGcJRk8czpAUsIOcsYuls0qsRF43Aw27/IeL0xvaRDYvFOiRoy4JBo0ySRlI73bZfZ7eFgqwzb0k12XRo/QVBXKRrNLuZYhueHPweeZ/JCOCn6Uib04jdSoJNZy9iQPHYb9e5r252buqCmwyMlQHe6fUbhbTI1Zngv9N5iI2uYt8jviNRmp6PMYnovzIZLN5tdBJWrWaRxWMxRU5YmrdeVD5B0ZGAcj9BsGCI1ksk+s/JdzI2W9sikvIaL9+XmYjBloiFTbSxHUDzY4W247LoXj8REk6aKD8iT9vaOXGQ+lP41PP/fVIC12c8bwYGk017vvJVJkC+78swNLNcfWCw7ilfLZmO6vQ+7x06oPI8MpWpGw4aVWWgHwbQYc3jtFd201NLKkcTEwoU0wovbNXbl9A7m5k5N6M/YKHPSoyHkZECm10KB5ViSBclweV1PvvzaqtA9kSmWnAP0J+YETm5Sac2+VlQTEESwo1nQA5HtrkzIXIeHeds9F8Ac4z9w3iRPyqv4OhdXc/9INcpKuHceow2IM5mQOTjKisjPHA60oZmm1I2CXWd84TIacT+JtpLZuld8dKNAF6qyWkzkRgrV9ErXUiZ54B5ukmJYuEl410J0mfLWHNvcLQ4B9WYv3eON64Dg+ei2Y5pyghBenQ4xzCZehsvvSSBEdclQ4isSamVvVqDuaiFMb3M1h3Q7+6QtIYDWnOcvsniL7nWVJ7GmTZZbFqIRLasVNnCTwHUT46EK8tBcFEj6qQIoGWt/AwvauxWrgHDNXrbGwjfeqOY7FODXrfk0JjOejIcnt9GkhUmYFXJ10b+kkICs9usPazuYFHsKTxzIamyd8OSAFGGaZ5qtj18LiD49XukL10r7ivIWsrZHFbaDYmRR9xJIkjeLHjhzGyqb92QzoZ9Wd5A8B60fmjMSp1J3xciQnrF5ilpIyb2jO5LKXB3heyTGM+7T3YPzCmM849BwHo0X9FNM/xhhsPtidFppTTiBRaMd6Xr13D+t3Rpmevz7i1xmkQNiv0RDF3zutSQwOou/Y3/C+dzE5Oie3xFXo2l4lM9eRLHJYe2TNBQc4ZIV2YXPX7qe3mimqlBWAHfmSZnG6BqgXtUeb1V/jje09vL83zlwWbgCKfmb8hBWxFk4FFmgyDQawlPY4ccC3Gy9vW4P2ZvqQLAfiOn0YKNJVnpzPGO/loUGpMCbTZ6/oeHW1Q0Z+ZQUEQDtLzHi6AjtKQ9mM/TQeuq7LJ8suUiqXwQFiK4hS5uF7vIjj5kMR7oCyLyXYQx0ieq7ORxqvJNjr80eqsjMtNK2gHXqEljv3jrIa6evCcy7xY/c/+94bV9u6N7SPVmlUoa/2poP4qLiMj9xYepK+7QO2GYXPJVzqyf1+ivgvWNE00ZqZM/tX1StQ084bQXedyUwUTGpRrn8rODPZ4MaT1x/2SOUV2+4wpRkHvzme813tlo0RszcopEu3mEbSqaC1ewOcVjsZVg8Nf2vT5ZqKYzoY5RC2J6Qm2ROVncU5vRnTmsafWDdJVFpuusKXCQViMOHjYD3W8Oz3h7jSGWKn1A4FBr5Z556rv9HnYCd53XSk4D31ZjbI2xjU05ay7qmb/Z+WRXo80UloO21mMAheEL2kQ7yk3bAPYCWtWc1N/o7QQXMbBbLauwwxSo0gp1YDtfyu1OSmw8gNdwobeRrTHp+69Kw2NRT6gJvEuhr+bVswoDswTg7OLJQupZa9CJsNAnR2PkET83WIn0SEYca9RBIQ8ndnPkyDhYmEqgeN9tsgVQNavRq2cwymBcmBrCNdjD1fKZoSA5eRE3/3mGY+cfy+9fA5cOPWjd5wZ+s3GhhasgUIbDRTbBuK44wY/N6dB8DKAXpAwFcdnIIk67ymN1+rDn8aHPcJAIbSUYc2Obnbhc1Lcshi89NNWL2GZSIinIrZmj9DAUFKGrkr0cvTiA6tvwdu0eOWHyH3FmolYTplvTGzuo6c2RegKtx/tPNT/l4WNntPqeixn6wtBY9ii0bQQPvrVtPPWdtjQq6w1Ofp6SyfXfnfAWkI5AidEx/6wMg9GMKsHPVq50CiKtcwQIz9p917zeT28kEqQyv3Qw8N+xZ+SwfQbhCFq6roY1WzxkP8dMcZ8oLkyoDyWPdDanlBMw7M5EGFmoPW9tRyk8fJp439uJW7L5RirrtFD22YhpN2vL7yfQ2bZN9VsbtCitZs2WDWVN+sjj2NalKzla6J2QypsPGdNW3UX/o87RMOY/R5m92xhKYdtfSFypT+oyIieqy2+5NBEPiBJWZdpd9/yQMjXfu3txf7JU/FQ/hXudfNzUO77UCi/y9sDEy1ciWOVe2Pj1QMAtXYv23beFGRy+Ln2tmg7O/v0LAWQCbTs+YV0sl5akE2jPJx8lfz/PPS9Csty4maZqDJg7EVzaqVhCtO/z+6CUP81/20NigPwyw2xO1adf9SHRU2lsmYLn4GfZTUPdN5zJ3+YxdIxL14bgPNCPPZbiItbCtTVSgDKvX5D/PwfrPF2BP79myPgrP5Tk1rrbR+SDBvEP1BUxaWw/loC8yvAxvnTeCzUTiUIbdyiz0TjiRUywlaGIvJTfWHUMnk/8DLfvylHO8Nevn/m5AayNJfoZ5j6RW8RH8CC8/EFAaFNb7eIG4wDsJnaunqxymeSLhaT2MPXk3rGk7IilDng1PsyJ/bQW1T8+ZmINDftl3pyOc5cKLN4x39uVg3s4hq+zWHiElSecafCZ8anUB7TLe9kg5ipqguIKXYpmqr8QWpcwixG+51eLq/Di5HeYaeR1zeCShVybgWNiA11WOEmULVZMVdv7Ww8esx8NEtXhi9WTpim+qYwqs9M2rBTLsTHvSmu/btwdwdhMUvlqkaWK7qa/1+RK8bQ2hl+Fe/iqrfyrDb5M6591NhLjnBAHWDJKSTIv3MtxfhLpZ2K9P2Yf+7B0wWAz/NlGGyny5+MYdXS5Ie235HL6XMHvWQxMW0WdkSdu2y3xTBM5klpJJcHhF4dzLrZGyf/JrD2GQtfOVSpkw53zCbk0Lhwk9PiCgHE2/WF4wsxTJIsdNVeXj8ide8kRvChU9nc7noyo7+d0XriWTx31vJyvUdHSi2sh9buvyitZuALQL101euJs3wdPa13WGrz1G0xOKeuE2XJucrM693I2FnbERDOu4tGF65DH38qA2HjTpnjmxvbSkVuLLK+d+IQgOWU75uLYHva92GHLkkyWqGxps9U5+VDzbW1xV8Xpnj/+517AYWSxzAyqeo9v8fHVOysx4izNBolxo1eJs6E2dyK3lJ5rpmM/zrsoy97hyFUfHofO1BNOsH7/2qg3lk7h1X7iM94MM/bL7jjJ8vbcp9BWAv1qzUp1o/7V4oayBp1rBJM9tTbSzvL/zOKwxxDPfjueMpbdWNy/naP8NE3CGlym+jyYY0cUnobnOl0x7zodiE8/N81cufVSfC1qOwvDy3Tu87fOU7IjLqRenpMrqXttlylILi3ismAZqC+K1OR3SYC6x4D8IqzloGZZHh/uEujYAANHFpzqXYTLcdtO2I6bAExCxku/zDn1IQe1ycANv2HXhHoeAlH/HcQbNBJqFelwderwNwP10axxwBF7xnruFJA5LpTV/bALtdT8mPvaQk11lrnD3N8Z+KS82TN88cWGrX2QrEeBKDNCgTJzD1LtHx/G7hSeUTRHF2fQG9xKHXN0+ovzwS7Qo+XfSec+DJdpvniV39JZh5z7/tHjKF6Fpb5bTF+E5GzTA4eUez56D2S+CIcK3aWcuyGJYbak3zMHe/QcKsSzRJHWiGLs+Zi/x0hOQfmDGI7ebj2uNEUG2osaQD8HAVujlO3AhuhYM77I4GuUZCWZIZbjVYEuC3WwzIKelEcSFzAyoHA4qrm5m1x+Yff9oAZZF3Z22W+v/f0qpv+flHXXT/CUueHgWj3/YU4OX2D9csYjRxpP6cFbSihqepfhuMb385rZsxet2MCa3OreePVttigQnCq3Qnn0MrpWNRcDDJHZ9Fa6Q2/1Dy7C1Olf68Wcs2u4EV/KqhAKeYFblzxyHstuz41ayrXaJoykLU6rSSvOG4ZoOaPRm2wfmy/I3svaN4rHcCPaG6W5c2AP99oIQPXr39D7MwXEjNi1LGamBT4g4Fml+MsV7ed5HqIN/bUYCvJ37KXEvf9JbH9+iq645Dn/LqiuLKxFikh9nky/Pvnu9BWYH+KRTMm2pq/39Soj0sQy7Ex9k+fHhCNgOzOai9iLu8Of5ssWOvrLPDEoOxLDQ1T1OfQY6nVUZA2GFCSotwL2x3Wfm6cC5KVr1h9Akam1YIzLNo/lmaBAIXFvsrAJcqQxPo45MSjc6KE0YAAlNOWK0FvMS4Kbc119RgDUQ6EnwbJuMZ8ij5MVu5b5J1hfiZyz8+n7Wyzd48frIVbYQL5kNrN2+3ECONI+Mvt/pj5BZmuifx//QZf6N91oaVwgaF5J/axme6h9t/bUrxF15I1IUgGvIXvWGc4bMBjCeI6i3/3t6htpQRYwufZEzwGe5OeBZpiJ+QNC9IfsUkGM/h/9cwdQNv+uxlgR66SdFPBj3nsWPv6tkwfaYr82LXtibP2FTVk+U4b3EMbeS+Nj+DkGHYkXkIYbEEw+2+wwS9s+Obg3uKJqInX0foe4iQi1g+l+RXgfJ0fD427TxFYJCskmaZeX+psjSP7qfUH2nWE05c7zSZM9XHlYwqdlKgDVKh/f8gnvzRZ5/QMtsLnGrFqGZ0OyzgFIOZxrDosTIIZTCkhtKefFNdEtx1dC0GxxB5qK4yBeQ9rS221OLydqv5anLBy2nUGHPIHwLbiPsoOx4WLYPxmFLqHnvcLzrxxfg6/FIEVG8WPdBkwV3QSVxkWkuERuB5RqIuOv3tXMl8YlJIVwDmcwy7Jxo6BpKEHs72GBe+hmhPqyFQtN8Qm9uu54ARUR45+nE1WnpH26jgJj2WkyTvD+8eJOP+0lIEVKaLJe7Kke/TKKY0mkZ3jeRxS83oZprI6mKWOSeF31blumpDZVLXmIYAEPxP3AyURk+yuePEQR2EPCgbVIoeajg9ph8Fu+we8E2gj+g+yfE8ywwNUVI+soAOuV9iYWqL0qx3VrWFuLibeZbBOanF5G8pW73gky6HziyqROS4aEIXFjflzUbAap1Ed/B5qKV6l2SCe1ffWv8B9JZVKkAr1tM68NfGcR0EJER0KOFn09y7d1jiruw/GB78110dKfbzfQoyoKbyiAJpieifjGndxQHcohBAjpSdUi/ToKLXL1XGd4OZiO/5BBTkyzRWpzrumjXyYRisQoYCx3YRh9/PAmLtyIkjEKzrIRQc+DpWAdzJZBXtKMZNw6hAq3fWWz/0/ireKBo9UIUsSu46v+Mg4ec/wMLw+QsEk8QbkFv+FgagLIluj9N37fPrAk9rmVYw1PuXxRgkwOr0+9pSd9UJLZnUQROHiWTAzIW3r1JXXrGvSk4vCm+glaGD0jUU4ahbjBDjk1mS/ooTEm7bmVJCBAM5YZnw3kZNl4rG022J+CRtW4lga4kJX7MaJgo3GEKqGXY3NAb2yBzgBA3POAM0jRvyZFdHeBQDCvygDhQi9VWc085SnQ4XKgoWjUq6IxVGCLg4xuEfALktQNke2Xi3Vll2BuXwTYy+MwLT6ov2jwDjOJySxNFBjNSSS/eF75e9T/Xy3AOmZ5sB/o3Ap2A4muOssyKHislm6k5NiH4WHfwvse1fVtLhyWt/RVOWLccDBF3STHetZpTBrG9Z+7FbMrMaUU0L3W0GFwrdkon7Or2iDAHdTVqIKtPHouPMpkLEwwHLQaRj+seUucWoT8c7RGHDvEvUBh1v0IRa6JjQTmXToxegZ6sNy9jGrdinBXQgnb6DyVDkIJyKfqlksFaGcSpaZuMl0N6oRrT7H31Cde1lRkFW0UcLU9RDDuxAIw9IbKl/76dmwNwgpa7zMzXPTxd8aKZbIgo0XWrDKO6h9I02iT1QCEkys0xbUboOdBhckkWSq2lnYtLOfnWnUARpoBXXtT8laMh0uXG0cSktT7fyhdXeQHDB5q0dufpFj+gzwF25swHSM//bpXcnPZOJS3iT/SscWhix0a7vehhB5P7M2KYlZn45UhNmA1gwBGBEHOusRPl++OnWqxvdpo/YgKmWQ2xQwBsaxh1oZtsWy2lz6RTwDbwhmLXUPL1iETA84iFi20vG87Nchox5BoSVrVjzynxopzHPhND8NArE/i9JqYTHyaaSRwUBY5bKbOKteaYB2um1GEo/7BPrItihDiGCibnzU21+FTXHGm6c6ukCsie7McB9NMxKJaI/WJnRLfqWSJg+LfK8EIRIazOgE6DRSykn+wUz48LlI/12I4kHMztUdKytg3RhoIyVWt1clIO1deMmVadLVXq0yO1p/3v6CcvpY/ZpwXSpFUozWDlOniuQVrWvN5WJjliNm8dgmbnp0XW2h/KcGt3hh+1AYY5jLl0wEijts6ygWP7IXftVYhv3gI5yPGfsSFg3AKcQjI1Glw6V8HhIZvB/LyVhfEpwDs3fC4V4PQ68GVjiHbE/fQJuOwwJGtI5fOoZv1eht3TGcWVW+K+Cycz5SIIdpUWM3wG2TwExEPk7mrJyY4JcqGO1NSHtYe1UUCtf9NYZY/bAmUz1jeePoRhvNDO40RpRqmh6mJ2guAO/q5xwiKh8ajWoWea4tTw1g8zQ9Dx/OTZTzg1OdDJhm3W2/44c1tETAthqO4m4JK4GKS2juNZw++r7yikyeMgz/Kh+njX9USK2abra8QUDLls3NMivFzJgTD/CuSq/37Q/fzhlM82eBpbP8F/73gdDEDiaUExke2J3fxu4C76+FMmqb/t21BoHu8q1mED1B+QgBIPVsv1SCgfx/iYhrdTwHwsMBuDjoTT4aDeA1gsYftt/Vg4+/wQXLpJ0/j+ZtG+6Lt/RAFWEkrqfvSmpaOTaWNQrwTHtvGUqdcIzFaes9MHTrcvtAQxmGdXN0JbblSYRXQQ36SoH1+p/NOgCj+ZJNj6xGeZVwwXT4fy7DLTnn71+M0bB+q+T0/PcvaVrpRpLNEiVDqzZLeUpqhY0k/Pz/hStZTMErR8bzdPFReWh+2GhbP11nEhDkoz8B9VVtTnLR006UhFAQz78nsMqpuoD1ZatqFKHHRfAzYLsSYqrV7flWb5+zbA7+yn35jyqUu/zHETYQzPRzaL8fCnV8+XiBU7oWxC07ONJvfgl7/qvL6ZGA3jPqsKDiEO6lZazF2G+ycR7wQi+dBbRabRATJTj0hL88PsIhdbvhFw5jcPyAy886wdG5H5P/efP6QDpgwourcQ7C+oNF7TxL3x2KCcLFJhA+5ZKjVx7ILDmUXQa618UoFYKK/qXI4BFLIvYjZOtlPMZTisB5FB07INHSQS6fywoWYXM55+aseXBK2tr0pUzim6sbQkHAplwaNOFgfqEswtxuYBGTxFcqUSG2DsDVNKTnMtXcwpZ1ddN0C7LOcwPmW4UIraF2TbMYf9CPXd8eouuOr78zQ+ls9/rrnk2NFvSvGpYaUHZFJtEvWxrTYPiPlrJaYgV9mf0h/IfhmHX4BPUGRvera3iGlaj0JsCfjtAT4NEZig788fKcow64+liGvNvdLdWsRqJphZttVLJ6HYitXROhfTCoBVYVje8A6wzR1Ora0L/PLpyHM2XlvJ+l3kb8L+wAb4j3hBl56OhT6QckqYlnBag987x/P+P2O0tVPD6+uWYo4sT13yHOMddX9dzv32KIziuiyjMGK7WUA57zozMWEOV4lplbqE7Xjg9sEIQ96wvcvRFDMoaanoYpjAMsIcaEqKEivYl6UtcWeGnK8/gigHNap8EONbPHegNlMaTYEluKLxonHvfRedcGvbiXRcxqgEsiB7w/jkMSOaqvO1i+chRvAgk0z3wl4uJNrDz/C9RJh+ZCmO1EVFs/BF9U3jCzLgjyAOvGymooOw163QKTWvGyXuTgtVxjQoX+09Vut3tlTFfzEOgQg7iQTrIPmjLYqUF/0KP3BqA+xwGcu76SeSeipwmllPE+rL7iDhEKxc1OG2Yrzg21f1b4Cgr0kqg6nt1T3/1KbS+nDwATV6z9SLbeh55zSvky1Tug4vbVAKcNzqdSuDZj53cK7IgHnZZaadojAMt8jWS87mrhJp/1co3DxsEOOkS2VAEx2OK5w6wXewol7bJDJxM1Fi2BVJ2tj6M6Iu4AF9kt9NtZaUELoNZ0UUXnmE1xe/r6f6kkw5UXUv+zrrTMGU4nNfLNa/zAD410sv9T5wnougWSfnluwAfVhCJ7MaZWjXQnWLmWhBLPiC9OKk8VNZHlqvq7eVL31Ae5yqt/yAbViidtpXSZACznWdVa44ZpFMsP7lE00RdFHZ32tp7aYyiIl/2GeXLEzrWSYkhqXskjgCo3JsfBGSiXl/6qbtA6e7X25S+Xh7tce/IozhlAQe+GdrB3m2/cdQn+t0xdcBF+2vCFITjyPGeuMLzrJaG76d81PwctpmZKxY9JWNzhl+twJwmU26jkmYEnoDbDMTL8NT567NxxjfzDZjhYJ+ep3g4GqDoN/acFncpshuscRigcYOvdLA0D5stpS9cpczu16ZhVP/c9uFumsswD4OLWLVX4YAE0ptKzYU/9Mj47UMl7ZJxTA2luFICz5KYOebG7UAZV6RkJKNv2bTnrfxqLpbMKOofLsYaK9Yr7uZ81+tY45AaNKtoskCUxXMC4X9Wi2zzDJO1DJMYfxtiX8x1GNrYMcPQDn9UlWmCIT7p92/HRLairzCSI+ZVQm1FX1B9RZGKcN2mATyNTRmQ9NHmPOe3PUzJ2CWpjICgpB9EvA+yOI1u7Ai2vsNOx/CFDy8lwGbSt3HdUTybea8cGrncu0iBwh3Alv6I/W+7kBzVl2CT+x8eIvJ8ZhjuNPQ3cSvsjfVtTG/OWma5L7+rGZ1byBkNtsKa6p8MensM6sCQRMDCx7u7CFDPiDGe+rw1i8isGaOGfkQzcXr9w3O6u7lsLPe8pDo/oI4MT8P27J/l3DnbQ4FtRugC2ytwdcsVrlGtH622jJDfcpwMuoJbbcnHKdlZK2jKJgqcILfi76/fUpAEHUUHdpwWjALGPwVeLnowIT9CmicNCP5SatOnCHxZ2ZFsX2x+dbX94KNkZNstaJ2FqGpWhj1JTNefnsJp0IM8KX55tkj0zRl0hoX7O8w4hjY53r5tifWdUKUf+elPdEaxUZ62A27+qjiRS+V/iPcLRAcgHGoOizbkrS2I6vWgNbTd2dBrc8fAKaHd+Wlv8OkFTrSCUPmYI7vknbpZXn29SLQXhzmLGGmmoKVLeAbJpCXFN1e2MIBcvhstznH75Aqiq8CsHmYEQ0NMMxzzIk7kf39kxSe07Br9p33k6ART9tWTanGXc8BJU6KA6ssQi38MM06dCdt6xeFln1a+gKIgn7nhRdalG7dClSLjIkEytInx5+8BQ/PXnWtBvvgXryg36cUnSrSfNIYWeW14uQ2/1J6FYdQ/Eb1I3kiKpOomizhywMfhfI221nbwdsknG69rRdXmZ+/A/ajnG873efNuer+IOaM32hGcLSdqeAG5I3flRioK8yxn6ixZwRPe2uoFcf3JCyOmqKBrFRG9gnpavG5h5WADFA1sne6zCp+pVpotdA0gucqrmaYB6bqqBIGv1FYhrkV3VUiKaOoWaRJQTVCgrL53WXYXpa4Rh1uZtOiI73l0EtZO+U/shSn67Y3auoZlT9JNg/ES/VNEiAZN2X7AOIlnk97ptsy5fVdet6xB6sCWcv26XVTkyN9Sk3rz0aiPbR3ysl0aS47l2HHjW6L4o9KOc42p+kcwoc+CR/OTw7EiMDmRyda9oWLlOFBhN0f1LZ+LtvikHrzQ99mQ252lnOMI3vDWZIiEUb8CRL0nzLi0Fd0IkRsu2xe2brIL8F9chL40tei2pvGGxDXPMGtrLPCXBhileiH8TGA+svSO5jJJUMPtZvprEUe8nqTA8YImO9NsFx/EueNbFluWwKcU7f9sk6OkLoBPMogeUMIH1Bu0k5wKnXpqMzXlnWSaz+KaexUaA3RYR1u5QN/uytIKQxXSv7m+zNMy3WRb0v6lwY190ZgGNrMZ5ai92dTlPiHmKzC4c61D6c8MU5LAVhzgntpMhI7TOc7VhbnhED0JQjnFiEdaIk0UM+39YLE3r6U4eaWoyYbapCeVfLUEIXUXo/TTgut7/07puufQN28wgtRCZmc8zWdkMN3zFAfAnF0ASpsexsJcIXjnqiPIt78ndZ2p33QWKd++gQsHVaIZCoatmvwo+EjenFlpLNVHJVtjur3iC91WT6DNWe791qJ+hD/z5sVTj/cXlGvAqLysG0y0faUxpYI/NCvf4k8Goscy2/IOXQRGg9rTmdSVMRZ7NTlVH5sBuUC6J7wpQrLCi+dfN0j6LnGSnP9/oYTNgB9KKOVrNLnQEa6Ca9HmpRJnTV/AAAgAElEQVQdAc6L3nIdIJAHYZX0NLfRrHri9FNhTQdSdA3ePx76LJbVD9voX0eiqXERWQ6t7SCHazLudBofeAQwg5QLdZjPbmIV+A38nGoSp9wzdZ5vKLK18IlAztn6bA6ppQeXLQ6rt7RmwglZxHQX0MkTHk9udmc1wdOd3c9Tfdl114mhDwM4AJ8vy7i5iEgv9S/2nv/lE3CEmqBqWJlfsMUDMg6RUrbTh97K8AmRE+OkFxzUspGFvdfgrB/6PfMUHg96D+8dgK/32cgvZlbd6Iyb9b/oGt9VhpkSAF/UEazbseATqrs/PpbhU/+EVjjHMuztdwO65UWFjPrTpvOLG9RQChrPlfulEjfOtk5J1ReTcxOpGeZ1ZNQhGLNHUQuCbCT/fkEOHnMmoxE05TgWbDDk+hGz/IzHEHNZddYu2q5qhAGi+qL+HHaD0oN7pRrzzbbVETYASTxDDcWySt/S/bTlZIKOoufHTzKgzGKCjeINdY9vT/GbzwQ1eUI9k87uIJzK4T2bZ+wxxzXxqmDcbJn7sou0O85mTpjcyVHrvIwTeVuGu4iXvvWHT8CannHcJG3zd6AdseuJjBDAw4Qhh5HElAZKuCcHTn5s+vtOEzBPQDSENTgKiTB21YfVb/7V9VXUJPPJUU+ll8jtcXLn8azfA+aWrC5L+5mae+h0VOmvbs/5YlLvXsotWPT8DqQdmNKp2Ndybq+Beu05dsp47Zyakhis2rChVR+epbRZoCVJ6l3aDybeCv0mvg4HbLYx45Oc2AY8HWpDH8A6HKNmbBMz9LmYR+yb9ZdYPXsC+7QM57v2glKW3Ew/EyDdDFABpGxZLPfrqqsI0uXsONHL54avhkxPKqwRKkj0hSBC52ekCnM5bKDTXW485310jz6j27tKaxtakBEz/Sac/w2dyeGJgrfZddFurHehyf3RFkLMeBFPCSAtrJiHjfjfUIBrGc67qJ501OXkmhiD4qY77tiLg0Th59lMwBu5cx0Bk1qVD02zun4pZV4PMr4GA5cjr7aO8YsZ0wAKBls+s/EF1W7EUWLEymhp4GGTtjqHE6KvYDcs1LOSYW3R3t0keaxgV/42YpW1D8MzVDb2ztYZbW3lAB6hy7wU4GEQ/7isib94I7JvsPmxlxS74I6iKtJzSNXMHWSdpQLmvkondMk32kI17OMTbxN/jMXppod6e3okq460QvO7DM9+pYFNKGAO5m1GFgeCfERlo71ds3eN1odpH3XNu232U37+4ZalqDzvZCR8Mz9phLgvormevdl9yDDKovErE5T+0stuRQc47QjiLO0jzC7GbCtd4Da7slexHsvXR2p9vf6IqzSZPdD+Py0T/5sg6KH8dZTaGyye/E4V8ERStpVJOrP4VrPMynyW/+q836uRUGXzNneObl76uj+zZCy+3Qk0jKi2jZTrtqLHZj3AJ+C05LQfFqz9OEicsuIL5m0mqJ+tlmF3TUjnuwwTYdo8lWG0MlxhSVS2qoXR4zz22ccXbEQ+ax8F++bNbw3cvzEhvZ5FNY24bM3xVy45LBE90uy3MjyETjJ8g9efvxYJBlcZu7e8KkIeWawa7GVdUyxZ+L5lQ/agTnA6Jf/xcO/QRtjUYOGp4hfh3Nfd0DjIjMpEyZaoDYGlETcN5NUUvS/LLLbITpMYDzSgvli9jgZbOKd48XO5EhjpvQzL+bwgDduxzbSwIRK7UOaln/YuNpdh45USD/VC3U/TI0AgXvUvVDXEBE8KK/1P1eA/NAF3xULDZJj9oifayCbccYRKBJlMGeCJgDqCwOx3opxTnhGs4QcWujGTdHD4qYUJOMpPUkoGLBD0rknefIBtN4rk9DljvEVlwcPo6wyJ4KAdoqgEAl1IdjD4xVXALKEKsLtlUvbIPzrq5W/miwDmkONUDQGQ0WgrjKq6KT8dl49Sjhzyj3mq8A0Sn2MkGppa6xZI2hXpA0gkLAyKbSdKK0eRL0/LvgP7XOO9vL5zNqUXDFqRJ6nl5KBb61jry4pH2BXcJhQ1cug3k5JTpPEGaS63qVYwgMop7u/TCehulPnJLnTc5lox7vB4XdjgXD0CYw1CC1HDNwk/DwcK0S4Tg3yRdIEvMJ2VO0Z67Qqxz08mYG8s5KgsxeKPMjw/j+Tclim9NOW10c9SKLBGFCtu+m2r8pMmYCvG+oESdXckL5OIBh66nRLKz0uiGZmGUra949GZbL7+OYwasoSAIIE9x5MYNogaHAQ1Z5OvlmBeN/QI9C8FDb1NVyhePG+BiAtUhBIs+YoxBqKLhp7VqCWXFbLM/E6O1XskyaMT8XWEUmSRJ9M8LQJPPRfB5lU9M2xVIIZ1Niqt+cTsq17wDDU4Bh0OM25aWTl7aHteB728mrXcRZzh4IRM9jk/LQv9o13k3TYqHFJFB7D9RUZ5lE4VGsQ+CHYNTpUv811Tso9GvCjZe6gT3MHZ/l32CsNJKWi5fq+eNqGDxcIMqH3S4BY5oTuYramqCwBegvp0s8bBkm8qwFQ45NbQarjpZcRYs50t2TRe9CvQHVZYb+KA10XTmS9zxzjdVpNsbU2G97Nx/edcduL38ar/zgn43VifbQHswAmiwlE9tnuc6mmaQYml+/r66kZ5sGQ7WC/QqLLOU8xnaVp5sQOmKf02ahuLoUEOr3Xb7eplkkLXqxH9sW/aNrt2f2ywRKsDDEEFIYdVkrYzRad8HqfoYPu0YIIcRxB+b8QZ8CP9VbXRjcHywXGIMNtDYeQiTJ3Wh2k4TrIRx74rOGnFwm1tQFtGJCudav2ia/ic5Dd+n9Nwj/NTbX1bMfGTM1FpPvjMEmBYU+5xZJkUb6TBkUNwTx/XSm6mj8gSLtouwqkMI3dUzpZap1AR+MrR55DR1sgixF1MHAXBpWvTKfgZNl/sdmcP4t3X4jnu7pb3sPnVstTQzINXLouJC8p6/vGkhNEmWm5prXiAHMoq6n5LpXP2Fq/sIYcBQ32FZH7iBHxPxuLpLaVuZvfxx50rFjpwcPQnHVyU0lkTlOCTPVvFyqZGUurZpNGMhR8xk2nBt50QRywGxpTLt5mWoq0ujvykJdt89+ivAvPf3Eh+tJiGWMkUPnMdfWSjTwurzpRMl+u3M5jHhZZDW8jhkdZDeA7fGvlxwDkt4Mn0JUAxjTmrBp+feK0vGgKzNdIR9l0ebfW7YI1K5c6YCxNvb3qsPP/kp96fD+iEt71aQV3bHpHWLV2V8Uwb8wc93gpoVmLN1HcYo3dyLbcKbtz8M/+VGDFTj7Kz6D04KLtQ9cf7OaSu1H7uV3D1EyTQ9OjMBGATWyA0n8XNlrBEMkcLTs8rjIWr7y3T67tO42Xn3miXYe4t9SejIQWBqc+kmADw1MpMSY7WBgPgbCPnk/yajKWHPhSsP/efP5mGhBmJ0gDPulWK/Q3t2keCO/coTXrwmbN4kDHBFx2hLdihdlipQNLAvR4rdEQNwR6OKqSXHYGicxwKij/O3gRfTzeK/dt3IDwxqUBUknQQhX4EMF6A2dSHcMixrbV/qoWJO11Mi/iBwuTH1l1sFhgZPYUpak2DMSyDDXVl+3ywjVjc3GQTGlAKVSVeatojWjCtfcoMLxlcglsyrWKF/nZqr4hvIsqz49rraACDoYXQQbHHbIghGUSgddUhWNf0urJ5w7EXpGS+ZkDl3qZtd5JsDWo0SSww0zIcp30mVz939i7xyhvFqZQ8be5zo+/YXfJYQyIxxNLllMmW5NTnfdwI0fXIv2pH5YSc6t3d0xt7Y00BNZulDN9pCgPUbHF8NM9O2azlfv2yBsU4X+yPKZH+1+IIE1qy02Ps4Db3kB5pFzKElS6TSF+CvexJOOX0NxYb2OpSOCRq0S1ePep1A0rsluKHtAa6asjR4XW/Wfq9SRP1NKa4VyBsNKTcH48ZXC8ZC+AXITnvNfj0F/UUPcFc2gSUMhwpoYKaHwx7XsoBwYc2aYnaNozyrJ3DsQahsahi11ByzodPlScVBgVk3J6+3JSZMwWB+OT5gVXa1xHVOHsI8yVqDO2cV9/grI8akuD2qoIvZTgvnVuY4FsPQTO7thfE0XjLtcXD4sdyZJY7xO0bnQnCai2Cg2nF2d2lfrW4hpxUITEZF9E33s/YvILJe+UxoCU9muj7lD3P21ZD1INl4tuSlZdPZMA5G0p/6En9AmpgZRIVHoq42KOmoQs1P/Ev2QFbCzMxK4MRBb3skrCnBvNCRgwx7VHqJEo7+ODzsls7NuJjpt/2i1/w1PXu3pfHOEoGNXzwZ8k0yk/zVIZhdm1ILPqJs87B35NvjZ+aknUcEuuwDrv9kHLP37dGG9ZVE/5cYACu8WJ/45u2oGLTPYlwjN5bB+nIyGAxCdnHLba9c3A5WdHUhJVtVJXJG4h9zfG+jkpWb2XjK8TRSOgLAYnLV0ry2nFKPj7JfQdwWQ39S0tqJLZ7ubxm2adbnBUaWMVKE7E5QFApBS4lINKznTlun7Wk1+KjhcCGisHtvt8lF87NfO+ivgGjhlTy9dxBNRQZg0374/iaQcIYlFqvtIB5Bz+VsRTR/dZcTsbioy+VYlp5yV2Tv3TiMivOiC4b0WXODeuyMj8A/wYrSo45lzTb3HEfW+9Me0O63Igtx6ZkVFtwyyZBpv71CdlG/jOBXsrfGwkC5XsZM9xUrMMbfmTKwo8NaC6NUweN8hw9KsZEL6z2FdNmzhUCfUdSFfTqHJJfokryli+2eBY3iQ1XvL7STOaC1TQ3RTus3RUmwE0pHqZSzmBTY5vzVVfmlPbD08xXNTMM3NWqD8vpBF9DEspU2sw0iOORndLCmzdQTHpLYk4wYA8KOTl+HTN6zJlUFV+tSYnRxlPpAOLxniHxrPFnawCyzpUdwcq2g0Oj3CEl/5O3v6TA+Af6zEDwTrBHkby3pyVj3TaK0GY8Ka02URriMMrAJi9nY1jfvZzsuHvW9WCPmu/y+N5tDgQL+gjrf0NgIGdBc6BDZ7LCnMcldJOWsWi0/L/m8R0PfCUEvaM2D38FCasQDbvj5rUP1Qt4wL17TYZIeII6JRXufqWbT91WNlVGGZ7E+8J2E4uPfetLXG79MyxluOB57wqB+oggRsKUqZeLGA6meo0jlinhFJmTZoRxML2O99yZ1XsM/WdYEE/DN9YxkWw1RxQfZ+5uNkmY2NQ768mABoIhTrtDGZ57sE/Q37CRecaXBJfVeQJjjKy2+O3ETFkNgd/F9w1F5m7Fgmy1L/6uKMSBPIzEBcNEEWAAnlBkforofcNmBypsd9oJrS4mHyUXoZWMWn2PeE/ofd19moIPJCxPw3X70F+6M0z6CVEXnxC0OOd1wde0p06QzmNL07A2iOxY8ZSU03OchmhCKcOW3eB56LimOjCNwsxep2peNHaMzXOa7hFoKfEFqydOTcmfc6D8cwX4HDyALQyVllz+IdmSh8+DMQEvxQXJpkVvua8YvE7orVNoHjD5G6e2dJFzf8MNYMe6TY/ZJ2wKeunS39pMK2op8jIzSwVRvpB3oylfgXXrk+xBqd23Uisnm7fX/ixSzcAzFvpygQJIYDFMzrA2NBs4kQOe4zg3VUhCsMOtQd4mz9HF+ZgDbxmCxxMklWF1cINEQ+9A1h13mAE3xPbB4WjI4ZiJCcNROAZj9zBB7IEy7XvIbOBRT9cpGXBeerCPwh8B5Jft9V4hpNfRlaRAd9OWWphyyIgexKgkaQwTlRh8oKEmtOCUBDhf3DyO+4Lc4ot8CRNWz2GKYM2p49RBDgEkzQqwCSKYr8gtpw1mAGP0d5MGU7rtgwzVay2xC81hq8gPBesnF+DQabAkfPtOor1m0dG7btIC6IEjbOXNSrQUTic40uxyKEi0t1c6lWffW5ffdRI5hnTI5jXJp0KjnWa4ychl2c8l7zX2fe4MllQ/leG3QTP2nqGxQOSdv5B6GKV7pMTvMjzOXi92ppJwItFWOOmCTOAnLWwaiLab9d3t8XSyMzN3oFuM9nzpc3IjW8kzHz2Cpy3rDgHcsgu2YbZsMsfcudlCRzdEyZvqC1sm0rVPip5tQbNMRSwemM1VirWlm/ut7NLDurkUs/ee5/rhHI3AoKoqIrI8lHLJp4WRLsXysEgz656VdpHVs0IKzPaushIfl/jklVBdT6S0mIPAAV8Zkjsjx/K4AP+yEg872m+nv9XA/NbQNzJgKgRbz84EAhVr7uItXnz4mYlFnw/F9/3jz5qAL2mQOE1+RFKY1f4LtWsGNPSici+HlPLaYmNudjJJ742f0tPtMTQBOGXV/f5q4ZR1Y87TTdYWC3lho6DziNYAOWfm7I8xxNKpraaNbPYSj3EYXIjD25jGx37vqjfecZHDppTIOIqSuW6KmZ94VxXAkEXFqLwYHt95dWm4D623Dp0z3fS0VuyQH2oaro0DYmslFVSUsyzcDFyBGq5jeeJ02xdOo3DtYDDxcr94Ah0Y8xoMfgGfUBOoSvJ4PhYk83dcGI2BbBZmVZXjsVy+hevgz/G1hY4oPSe4Vao0nTjFuJVFLCTU1GKl935d6AxEVFAnL4/H4LppjOGRxt/3cWGbH+g91d5STx4pGUlbP/yurwvwn5uG/5gRx7CGVHdihWU4U/LqfdqmE9BHZMSmOFDPMaesTidmPw5yxhtShtBAMR2nMXx3d/npX6JoDAb//zaHdQbsA6dz2w40cWQ9kfkbX6EdpqtpOEQPAfY7ChkJRPTyP86gAy/dwiq8XrUTsBl2Y8E5wbDH3XR3zsqdoRS2pqTSiMX3YPA5OZiBfOP1kx/nk54eDL6om3uEInDbLuHW/hmpzylitcbhYEeS8H4y6sKlLFahuKVYaqQNcQ60eO1PIrXlqGqqnjMmFvEvfwvbYsi5qFKGPSLcF5c5/6qM8ThajlTfdTSW78GiXH9wKop2VI0msFOnedocoIlMpvMxgBkFyRuxW62etQmTt+aDjnFoNNeUjxFY+nkF+OLt6TEc2FLQ/G5mAFHyQiegGNDO+zyqQp5RyeeiHfJfD1ML66QLVxkOdg0fEWbf9+ClzGQ0mNOhkBbkL+JISpbUvhCJ2awRE4XOizQ1BuAI9Zf4tgwjleGO3rNm6B6N7ig7ezcFWJUPIx6OFB8nLRqrBjRXyEpdyXkVRQEpzmjE+Az8fmddd6iYIkNGUPf9Z6U2NG0fKkiwJ/uqGFM/4hWYiC4cz/EkLNyfieEs/I+x+qq3/kIsJnb/hi+vNv6XXZVOVPoHkX5n10bNHV5RT9XowiMqLv6vqwzHcgfZKZyq3nTtU47ESMBesy4nNhX8BBfnyqfNzU51Oxh2hr+QpkkKlQxdrVD/NqYJKkpyyoNasMztGYXygW+wpzG+sJ114fLzJ+DL/tk0kNmD/srRcZTscfWLOeAkbxm3LXsd0m7amANxOKxKIazuvtM0fPqxRWuBMCI4ekjhGN0zUcbKsTKsNza9/MxUhE2kx0EBshfR/I1esQFN+fzdwN2XZThFu2+P9XUBNr+3oAGdtMJphfFhTwYhh2f7EeUd8QAD4IUo8F6GD86Qg8nMqeYe7kbduMuFQulX5rV6df+CvSpBJT692IWyG8CV18pnHcju8ZqEm8/rTtx7/L1s6CbDyqZIqpiEqWFQ/+IP9oXL2HsZRpSgVYaBtNSA2lSI+2ZBXPrVTmoieERKHWdxVnYpSZYpnGkydkZ18ZPznH0UNul+RjQLUzjo9tmO1chjU7hXnxxhP+ZtMe3sav6zC3C0LYwkhZbSBTSL86lyJNzVVLX2tjPXngntrLFOM7YwNMBce9qpp+0nZ1RwiNTenB3kffaps+ZJ71hW29lsIT3cbDxbeS6T2UUVC9TQNJPuGzhVfIzIvJ3Uli9Vorl1YDjZU01doUzIxi/5joPJp4/lasOzQLrZpCoOXW/89nUwzoUTYAjF05D3o4HeD5CAFVlwdhTCCcwnZaeDAnugvZIafwL+3lptKLR4a9/vYh/ROpj+jhUPB8/0XCJypu1p78WPrfPu8wAcs7f5oc3h625yBkgEZldlZlLnLnkbBY2DDbWw7Ls/j093iSWfB6H1WxEu1X2Adh2pZC75GK30ERyRPGZDmwez960HQUaKV8QKsAR3aqFB68tzUtPfUIBVtwqZdVKWOGUQfOMoaUo2mZNf2aUdqcYjIGimuK8kAkvyjLZatgHNOCHG80vI/mr5zoMnqbRASe+txj5ST1k0eVIthBG/UGDsrkZkJnFs3SxqOmlZDOpUWGxZJp/XTh1OpCUeL4rtSS3DjrdbpD20Y9JFtW3nTVN1BVPMMy0iIQWHCItRtBb7QxnO1SzRbk9leMyH0VvPmNg+nCa+DgQShi1sRI6KmrqZ+UBeGIl1xZ69K82TtQ7bs8xpaYkmBVIiT8HpUebgZFNakjx91zNFa3+gznL6hhyyCGe7t9tqL7KKlkN612bFQKyyMOSd/wZghXRIfvrD5NsMZinz8QHAJSQN05qjbCG9xCtyfhlulGFpczXQvKnbipDW7PlOgYk/cgK23P4hIXjUpPDt3lYWn3X+CzDZPAWe9jIkBlW07Eusu3mkMky+IEs8/yo7bm3nWSRhL+hrj5ov2DzEOTbO53Px9I109R7stuLtlZoeB+WIIyKHriGKci5YIj6NvzwNizXrqXwnvjstwzi4quXTUMUP/fPLPyRPYByeyQ/w7B4soqEsXw2jwX2WjWJJVSHd7Xn5uMZFX/Ajf38kJFEkuVeJwWttx5SLVYKxiRr4cyTQyWOk/+YNOtLVqJnIg5DNyWsGX74jvfHrniQ55uu9DA997XkU7jZ/7orDOM7WgfhoHwobPz+396cjWq9wORtZ3Ew4nX5nHbZaxnrsAXJ5GGebT6V/uPU85Swdn//YDP6R+ffPOGHVh28QZzz3A8I1H9DJDTijRYxVg5tUzc2y77RlCGK+x1OdnLUQB/e+Hj5oA7lnnI2yP/hcVGjorpAfJ5D8OshVGqfX29EjgNMm2IUnCsrNgQSin1d+4+euGinpqM7NNmS2rEt9SfnVv9JZJxiSl3DYLOjqcT62xBP7RYbdgZC+Uq101n4m1H+Tcgv83MGeyjEx5r65BcnvN/m9lCaPduadqrayGCkcLJOa9WCfV0q9Vx9ZxCBT/Iq1WShhgrGRGeGfvSXKi4sU3L2FWjht6msTWQaAScczJTXJ9iQJluH+gndj88KGdMjyNcW1lMf5pCL8b4DcQrySDTqkyWfCsd1M+2PnYkcDtTLVfHBZ5/Fph+EvmIAljhC9f6eamkYZbodr1r8yVTIWE1qHqZlCRZw8uklNmDZA+u5FXpEb+4wsj2MU8VHqOj4BwuZJypBWiTlM4KfC/rJTt1dyk4VpNV+f/dC5M+f3Ic0qnmEAoVR822JugP7GqetSSrPgkDI5wbLxRXnPS/TepMqNn8AS593ecNSFRb/yZ8AgkduzUiJHJr+oTVB31RuIJya/KdjXZRh1brNi13x6LDco2pvvnhAqi6aKc4RJ7HpPAGbmYDwGe5lS24jUGHSg+xhTIVh9Zo/JcOwj8HmOp4LgQ2RQnQptWifF9iT/urWI3e/DjfPUiqGSFV/x4ozUeyRoHR5jH1eIp55clIOiLdxwzOjEdJK2J4pFM/mBWQkcyzn+8yPwn5yA08yAfFHAVIZH9NXyYfo+6vk+zr36NmdvxyGgy2DGwAG8cCjaafhBAvIBsw7WXsRUywvZLmnz7sfrLfiCdjvIKPFdgXSeiOT3URJJLGyqz1LdePm38wRTDe60c7d4OqJ/mO1f1JgWNpB4Tx19KcMsp9gX9uBFJTkozWAdUifs40SSL3i5QZThKeXDRAGLgVJ1bQdkDw2+Uwv+vtDpPi0vZi8Bw8vCZV0PLIMIRZjHYNddkFxSclrKvF3VtEcAPXyw7bPUXI0H2S9nzVV+YPI3sg84KsUXAdbjtrIHC+yriE+klC0e05exA95CY/3y2Ac5FCOdhTnboz1FwfH2tst3PaMLkzCuzyHDU2phdtD84QUYw+oU0p+2hwn4BPOeyglVGzvNH0Q6h4tjpXe/JU/bVaaW84Y/ltcXNN7OTluzwDczDJlGw4p+4zxzU4rfyGIxO6SufuNjpwrO3LP7bu+KHGQxaZK5dls0s8AS6bNdAqGH8eEOprWvuwcUb9BPqqeBOdUsBbLH0xSGmWpwb/YpJARCfEJQO562GYV9cdeKmpdZzBZ/SkI4esV6gY6tb3/imzqG/aRiIEyZy1nBYIO3hhX6HEt7hxf02MadxbltrX232maljL9EqWVWomPW08soPMnV1PSz731ekoCTtQ6sGrSdJvJXdJYJR+lH7rb1X4SDfIDbW8gBDks9tI7zjOcJ8I66fPmN0xkDeMO/wgmLzfRkeftl83r2Vdbx2qEqNz/OAXzH09KIIDl2UvhcR84MX43BNR9GZq0o5+jflFltYYfTS2Nt8cZjaJmCmjXXRpx4QIXT2NZa3WvTP9idry11agVBXFQDSLoz32PC55Lx0hFncyhKfkZK7OABhx+3zuKn8Z34uJ+YmUWfwUxXaMwTcH+QecQFJ9RYtRwj8vlGP6ls8KAMq84UBtJGHd0B2WMBbHMztJqklBGpyHs0FtiJpasMQxti21EolHXJ7FR11BC2OUjtI2gzjz2UYJNK3izT3zqM18twntvGpSrFO2jWHOT0PXH5XUvAbjlAz+br+WgHj/2cx5JeAcb3Jfqx8Al1qywTlUv0Grzhh+Q+XqLhrEFTnxuBP56H9Gcg6NaEEtKu4m2HOZ8jai6DliPWFwBWuSp7BzxsCLyVPRq6iyHgdmgrd7PQIk/DYibQ9u0K03EzY5U1jXGyL3jxoLCDWmaCoGnfG24UV6OIBMBNu4y3wTODNYaPJRxCBguzxkrtjg0vWRpsiOtUR0va+0f0fszElJaIaaV2WEBMZmdMRLxWQprTf5yzA4PpYwXOiw4m/NIvGnLG7hmZ9GzYls2+CRh+XpMp16Eu0W8DjFczd9WMQancjlTCal8AACAASURBVBvEhv+UAoT5rJCXqCyY7ZW+d2rx9aCbFl5qgpiXNYA8AUwfTx0m0ppifkjjUaz01VlGz2Ov0NPkyhskQ0U+fz7l/fWALB402UKQpCaZekfI7N3Ediz/i/3pjy3AqYMbkDANdP8C3pyq1EcbhIHhHBvn/pBtc1t4pLm1Ive66pBC/f7VMKCOQwaFpuahQkPj76Vk6c1/IB3wQwidTRDiRxxptLx2tDmn1tIMd4taYywmd6Li4DTKFFxKmX0hCbBtPhjMUoZ7oepfw6cvz4bXhZET5vqXlPGsCax+uy/OTs5V1zjVvrcMxfdp3mbpFAXhb2Vm/o5yGYlp3iFYZE3FaMk/0W3Ehau9HN0Bu4Q6hMfwq64ER9M62rCpPB8vo+4we1AMwLgKvbJvNlCpy7TEe3CHSm+6wWpBD9a+v6QLZ2Za+sp8xWLMBtJDyro59GjV6PT0ZOLDARtgQ273uYfiEmjxTXIl/uQY/AfSkNT7iwqOoAIDX9Tg0kbBYwrz+3acgcaSxGxJUdNevt8l5E7fXk3wK97SqREtlRpfeN1VDfuBclF9J9oFyVhQ2UkPPxG68sR8ClW82oUoEIKGpTkMHkU2ghyx4EBdcedfD2zEkm9mKf5X7uO3OcGt9V+ySVdPERFxIwI6w4LxDVdmYnUjs8ODWZhqR+uxPp0cYwN2/MkALZwQe4YXWmXi5omLZfQZpOUrrdlyZMvYSRAFucj8YrZBln0MHSTHb+DBdO6sXlDWtomqdiJ85Sga1h2ZZfiKI9w4ncDTRFSMfnHe3eZ835I+zL4Cs34HzmV4PlTa/D3+jHzxGT4TvpYOdYYO8TUpRyQy4J+qxH9iAs6iFEVBlwlZB0PYqmRCMuu22HWoxeqTrS1Hw6GqJFEhoIMcDd+B5OXPvy+2i38ecqiIjZvaM02An9YvO8EC5BzWVPEfWJ7E057JNbLsKffziAYZ/hIljMOiNO7yeMzZjp3XEms24JkD8H5qhJcJYhoKX3YSfPn3Zaj85Khcmq/bfF/+jTay3EsyrXEP4unyLVgBVr53n0irGztayYYNrSLnLDY8LgRC4iMNiZATDlxETWqpz0YQzjqLFEeIk4/36VJMYyJVIEUZbXGGjPPXuS3ZD42mFyOeMcZteaOhBx3t6ILAcWsmlXgehUmIduNzC8vqMwvVyOAcYp17Gm3KfUWCRe9bh8NLR1IQAuMf8MH6w0Ycub9j1sKzmvRG0paJc7fNyUJLdVRzuQ8QClBhw/qZ3d+8TwMIFcrnmdgOGSkYpPAMb7n499H1T7YMx2Bd7TnYXJDy6lS70LGHKCemLgxT3RV6UKrB7OWQ1mYO9sV27bhZnFvCYL1cB7ycmCeIpFkTI/G5PwBZX8G8Qxz1GSMhLVesMRTLU9Oba9s3uPQJfFIl+v84XSB3YzlsgNJvUnYW628VWsBAsi3ti2IqDQ3od485k0A8TL49fsc0IfQyVvidczQWMg7/EfV9WdKd87bZ4bcxAtkOOWyVmybXzVJtjsErZZgekJXylBHDYl5KtPg8v+4Bgx3mmjXgA7SFP8jF+l/QAQ9lWI1htyrBt4D1cTmGgVEi5RuY66AWYPWwfv3kv+el8DnqekDM/FcsR+jxlCx+8aXE2plsQg+ypkTBONYKKwlsKB9MNresZTixOYKn03ZAoQnLZ1AP0avBGA09VtCSnt8pobk4uAk67dxeQEWUEQoiMq6sTnX0/yraWZLrB8ztYPNSI1GP8ZyZEjzvgt41fXU8UGneBzO/4Y2QyzI4ji1xvlJe641R55kFSCzyMT65ljbWHmQ6L9l60nMrtX5eor95Hdcv2eV/ze7Dgpnsmgs32IjxdKYRdFqMfOVMcT3X6RlZPJ1U01Kj0GzrfExFlbqnj1CUgeHEo54VNhG1lPPcBzDv7rid4B7pqzgA4n+zDP+JAswzV8ISai84sJq7DQMcz9vP0UVMK0dqgmyeKpK/P14toPl7nXIT/LDghQnjLeA835MqGrmx/gvcNsT+3Lks49xLJpAUOb0q0MIqG31xjWCZPs9tUN1QgZpwcm9FNC3OsnEp4GX4DBqrxRFTB9CB3k3m42Eys2kqzbUQdeGC+q2Zp2aazZ3A2Te7LHf44UanogpFHW2OBy308mLl9j6rzf+mZ2zsxTxKguSoxz8slawGfyGf5rwL7k6MBY9HnIN2GtPnp90Jz/vUKlvrQozIvGLdLLTMMcE8js635/fO5tAClD2O2nSoH3t5ZvyuXtO2hJLpUo6OE+cU6UZXr6GxBd8Kt5JSin+Fav2gAsx/SgzwVHuSvfCS5ccA0pkG6Jm+WaDuyXrW5+/noeGrcYuyM4ylDMMNjWsZ3myhEWFGWrpMOxfrZxtzOCsn2k3lC0VKo7+m7iJ19LrqS2g7sDfqkORhU1b4maUkvMm7+TY8zDFHzH7rOxB111DiGnFdvK5RYfMlHUMrYjuwxb5vgCEbxgBNszXXZFN9NpT8bgeDER4KMI+nKstOYL4UkSHWVxjpGcuPsWQ5nOCc5vHesmAxJRwzIZl0S5YRzxiA3OorF/mbKcSCZMyjZrPH4ku8B2GffQxTfAh1SZsBISoRMlGyp317gfeIM3Ph3eS5oIAexRYpf9maDeWxaR3bdCT6yhcc4J7xZBj7g/yvkw0u536CRShVKgnx1xTgi/dTMpsVSzci90pDZmL+BNhhX0fNpbEKZ6E+mufYnNP6SkeRG2nIvvKj5k+7x1YOCbIHer16LoKDEf9E3GAs1ZqjNWXvCIml65FwAxiONJmNFK0kBzxFgpu6cLwsR+s2iG9lOKEmLJ9/odAAt8CUZxnFWc2SGX0TyVl/DGQFieNyg1VnRmUC6dEZa/UVNm4zHWEECZF2B29r6YZ5DBGHeltHJgFyZyG8OcjDMIcnjmP9hFuMWQUqwS+c8+5fOFPM4oeTKaXN3Z1q7kavwePTbpbz6flZAKOHHaduLuirbsb2sif+BkodXBDOm5GgbsAylJKL9L7vjQ7Jk29aPqM+bN+ndMWC2bjyrATg1u+1yWJ9hceXU+vHQdD3hmUg3iVpWbVhLnET9tIahGCcVz6WjeytSvODCHDvJp0j0RxvuK43lR5JubX6fjScaX/hN0InAI95rgWy7wTyJLVaDXuvBWWAFa45qrJ+2BE8d40Shcu5nMSHWde24LGsEfcf3ysRirzkK/PFotZTsx4dgnmUL789nlCrsiupMA1AU4Zb2dyxRrLU6k51QQIyPTU5fCUXM+I8r3zxbtbd/0gOl7ANHOiHhfO/MgqX15UuOOuYaF9I9ZrVTMrB9BjBPrvIRN5HzyjD6EnAwg7ru8kZNmgHUQorB142dJimxiMNmI0LaRPP9LsynOWX1hIj7dSjJb5FJgCy5D82f4xDL7I9Ske3H35IWsa0vQCFbICTgJuyPZEe58zw+mEFWIc/RN6oooJAjMgIIyF4qBtBuxh/bOes2V12qxPghcRxIs3+sWTlDx5PJbPBguNtPuMUtihPyVL+iAd1PPKT7kOw/PPjd1EySXUzYi8MMo0bG8sP8fgQbQ4qcU12Y8Us4o42o8PvOL45/ORGW30x8z5S0k/XxWpluKR+KmdVKaqwShp6wEk3F7voFV3WE20bO3i5i+oGfTKTY0i10VFw6M/vfBh99ntpV5sYhnGjUihoWAWV1MgdeSZxAPrq89MwsIwKfkCj5ExfsYDsKFoPfgZpl2I/HFYSxARvwIrhXc5HeCvDtZQZOZduyRKoRSJ1jYJoI+mKMa6yRjNLdnJ1ibjWSgwN/vriP42EzwxWWRL6T7QeNfDroxEO7EOwByyyVIQsHB/3UDij2j+6AMt1onJiMzSsTF0tw4Tx4r2jjaIM69/eMJ0plJflXMisJPjgiOQ8PCKTxRA1IVjfKAQK6J3LsLbe6T2fDGHxfnlFNlO/kawYFTq74RGQh9Mc2/2AuB5QdyrD+W9JUk39XymOCPnifPl6Y1peMJL7wLBe9oUwx/gsxDWJ3kU9frMz4r3v+f1cbOKK541d+mIj5fgkWa7YYxyX9KAw8rI1hr64x/EdvmOiziXNjw2d69Ze77CEK+yScTq95ufHG4geFsI56nh4ubYf11A1OeKTz/dcvqdm4DGAhHbcJVvn5bY1zbxZG9TG+Y/tEWOY8CoXE9us5v+192VZkuQ4khDrPszcdT7manOEuUibzIcpSawkLSozKj0KeP2yoyLcbVGlYhEAIgnrKj1hV/KgOXwo/iPhp6/nF7wMw5veQRhXRvay5Ny/h6HjSil7iwq4fAZgNycZ6ptM6fSPCcAT9x04MBFrA3OC1k7ea9B+rjC8clWqtX1zkB1F6pC9WUdhAmWyyEvB7X3kCt6vD0PehW5znKSH8bAqN1Tz8TwqTseoPEgoZ/dDeUaOUWGMAjFpT1bvQfB/nuyHpLysCJ8VAcRGAkUBj35M/aiTyNh3KHmgJCFgyKoTpTukcDDAaJKLpskkHlIIDsJMLdxmeg3TfcZl9EdvMa2DdV4ANZDF5/cwgpkjlinvYRxrSnfKJ0wlYkhS1MD55KjChgQmDfyTMvazDkfIUrCPq1ZpC13R5igCeVdf+o4+RCBv8sUl9RF1wFYSUGeEiZKgKBlsPbc4W6XIKeRY4eGSlOMqe9QqxEb9CQHkWAqMB3ZoH2+ckB9WzWJ4uNfRswPn+aClQwwmzoMNJY4ipM6YXog6DCORANEP1kYrh+Yt/6gAvPqCohKi+fcv1W1b2mSrCNCbwfiIT67WwlhEmapb8C3+JZnyLBs8mSCmtAK42DySMDy0r8dYirxB+cQkv2qfNWE95iTiZi/tpiBu2P/t2Y4pPXwnHibyWpyzwtZ1a3CAsZ5AaMawUZ9VRMRxASMB6VBhW8r1+1G7macng0JmQC6QWiRkakrs3E1x20P41IU2Pn1Agre8BPbg2W3vsZNdOUdDCgEzBQPiFaesBgiPmNN4xJt6oj5itjPYYUyUvvXe14BwMjQ7SbzWVIMaMH70fJ/QhamckDtEPcqLMWiwVsYSShMvdw95v4QPeMOsCjfeRnS362LGRatcfxSBBq636gQch6GofFRoq49lMKzRTjU+vUBdp8+mukxqLUn942IcCtCugQPVG33OwGBgTqb/shh8M2xTlC7PXFDkPstW9l0LyUJTseGYtdghv0WI8DcF4CTBhxaR+6TGL+JNAfniQgbnQv1bLZg+HjDDTCh4fbJdgUQHN2tfHYYVBAQsneelsJF8HUgIw7HtAkLkQDqozsczvjtfiTUUYsZcF1R0uPiz5n5nwiPfPRbPHbFYPR+YGsXQlk9IKv4d+pWbhBUQCzvVogmKXS2C20tSiki8wxr5g9EeXu1nLBgGMz4prz3GEfB6JN4+sKfadfxcf/JF4P3JZ/AqGvDlHRloBJIRgTF0Rjhk0snWimSKMeN3iLBrq3PW0Y9Itu3r4S+lyfG5CJ9DYsIwFOFnKXjgiJTnMsmeW3Tcx/dLSEV84UiBhnOYQw9XYdhrDT0QyszAbnXd4QFbUY5yCXTSD/e6lV+zt4GkABg5GdQRyZfxQlKo0G+kq5SnleLvY7AoIRDqeQ24zqBWt7R51UQ49JDX9sAgbVT/yAD8edgsjdDMnF4CCt+jxn2JvD/SY2ULdjLSjVugZyDB90dNlgQrKFXmeBcnukJToc+Mj2kgsVVjuj4rohakitNG99hPIkpFeJGwE6yOEhXgZYRsP+RW0HSecdTi9HiULRYnmm3TgvfTyOej5JrUo8xn1wMSbZSIEFhTtLcaHQoOAatXZENbW566YTHntqiXcFdTfDmbNVXPOVLEJZi41CNfzyHkB/bMBqffg+7tpfF82ATLalQkveSAakLtwz3Mt3NCXoESgYVfu2AD6iJu0Yzk9X+er88X/XTMoalPtUasRiwRxi+Sie5YuZqZGiTN7IhG2njJsGP9efhnt3Whr4E0N5xeJR06cpjjRDozsWfNi4nRVLKAMrS8CecGCczqVKrAkfa/JeuD5B974oZ2S55pO1YCerwAS63MtGbRc42KBKs3XQMntEqXwetVVVg4zXVhfF/ypwfg//o8q1ZbTXm8N/Gy7Z+38JXyfD4P7UPEAVstac7z//mEduxi50S2P7NYL9u6kzGzvQJ98ZBMqpl9ulQ1RDX2Jb5RosuHJ0FQ/qKeHJ0DqFRS6oEkKwbmIFKR9FRyJVQFSM/q6111sgNTBCNiHNIWvkyZ4beAnrG1B6EdCKcZ012wxwIYHi0QROEBu+So2lDCB/bAADMfl/eak4MDJBiYZ3abXvIeQ22MeLKOvrNXclVYcDLVyEhyjaq0mxlGCAbQXVIF9o8H5CU0MzVUa5QOkLgpID75CpKESYJqvegp9KeH6Dml01hi4XFDXG408RiQmJS3PIVAP5Hv/WB4CKzU1RZc3kFSTCyUZ+SldEH23usn7q3mNDQ2K5ERxX3OtMAYOZ6mCT/qs/nNAk4EafgoLxtWQfQqDHvAYGDtRv/RID1Tt3TKgEpkBp13GfIWiPwBFfDrSZbfnyeHPmWEmyNfPafRoostwZe8RzsiBRNgWm4ZlhK4vCmmf/kAR1ATA+liHNZc4mHpvg7JTKvS0KMyIwJ2Uqd6B84LNQZrdjNOJrt/8BzGRmPBI2+x0DJCO0GYjDEui/Dzf70SPC1maeOwGQhxtnvHxM3aMkcUUHJ4+Vztfwaewdcn/CxgUA/wzxT6jROyt/Bk2CmSOUzOSQsgTHJBbo7XrCNfyx0zpUCaU6DEwJmyWmqRBT5w4FhS8HlYBEW30Cu3ZetqAeheFd5zap1EVsllwzicm/x+6tM3QUwYDuCBv5If1Ocl7zdfgjc/zMczbKWC6H5IJZkiJgG8PwefqQtyHH/JkXjP8whDOhFPAiVJcPVBApIhFMrukTegiKKJfhbUnI/aRHEXhmsC49TbR5SNGYWn6HmLMS/8wyHoMbeyllhOz+SElFUPYPUtHrhfMUpSjYSseWNuOg2rIfBxMu9xL1K2PzOYE/3pbJB4RSYjAXfUoDX8w5pEA7uAl1C30WT5NFp6SIvySvRbXAnriAwzDSKqIVXkQkuUY7vOjZLk+XhJn/RxOg+2+SnRVu/fg5CVhlLk4jDfZI5Ag4/kWRACqdgKGQhWIyetZrpWe8ZcK9bFGDMewl1IHW5DuKIpPdekDYzEgOd1DONCoYrVoGgZ+7NvUYn90SFepeuwl9ohrjBMe8juTszstWBXfHYGm/FEpmDGU/YXKpMNe0r8kX+8B1+0x6hHqytqQUZ5TXlOaXLmI4GJlyVW7CJQQ4si2TiIIjvS5OCwFacuT/WF3/Mh0TYf5y4i51C4Yj6h7ayHy5xhLTgMNPysAKy4+p8KQpcLsb3g0Z4FCE/XbzdqKckE7RpeSMPwFHHT/UvxUBgDNaGTGjMnw4XhpVIwHpugs30Iw1nvZYA3QLxu9gqoy6X3T+g47hHQMUKPJAXl7dF+WvNinl1hAqCLX/5rNMeuIijHHahKcrVH6G4jsNaBDOaBVOXXIMLV/YK91gPg4mHGMqCXUL3xOYUEtYZkfLcKwxL2oecdfYsZNQuBrRA4smT6n1ACuyCE0DgceL+YGGDp+2MzaDNjdUUBmLBvWggxUI8lmevr0WUBHeRhdgFtjGEUvYcYGG2i2nrkwtS4tWenhRl0i2bK6s2UlKpVMXkVkWh1GIT3/ThQKR2IviNwIQq6PRd12BZZCu2BcRPyHj2G+yBp30oC7Y+pg2Hp8vVwmRr7UNefyLjTfQD6Aypg0ghDQpcmldJR/K/eE6b4lK+Ed8ap3VXDug/EVIV7wSZe69s4IxOGZwloq8PJ6ryp3sLfkGkWuBGJYsCCskv6YCxZ78Vty4EBqV4zNFkMwxhwg2mUHoDTGxyyBnQ9jq0cvxGbg7msycTK1zcoVAy84AJUswjgHNoZSZbbFJdMSDxSJ4qfT62B+hqBYJCJkERlaxEQYoyu6TAcIvF11vWd74sQYmzWSrVYohvhjDxm5aJq+fGyUUE6psYKF8maUDBg0yI2Meir0bu1Y8A5xsD35iEq2mSOC9rQxJpHm/nSFaKS4ESPVWctQB15FZxB0EsMLR9w8XpopW/BTmnjpwXg4eWBSRGKtQRZEAJITLTFNA/I5GekBLV08ujR4weu1F2BI/qxjRbuG4whWZe0Xmm7Z+WXZTmGf9rjEk4QDU1xS684H3Hg9AYpBqpUoHsoIqiUS+r+XHkF9IPE0PqSKsCYkUgies/PuaAmDA6ybuU94r6bXtxenedR53SYatW6l25GfmBZHWhH0obfUxDcV/HPhiXTAvCdtYLpUPwK+O6M78lDymvLMVlIXZAlAc/SdEumwmLXctKJtoFHWM4cjWz7t9D3T38SZA8gEyUMPVbCWMjqJMCwpc7MLaNkQ56Q8RSJ3cw8MkkG5zreS+fgWexAHoAdDEMNMSZtspjmh5m4dV6RpWhVlCkUPP8IPWCxBT4g5Es+YwXLgTIGEo0jKWEw0NJZwBLc+1uoK55wg6Fx8iJnDD2ntZ4RkFW1/p+Qo9NSsunkerMpGPcEoMOwrUjWQQ2TTIytGg34u2lvq/ybJDTyjH3qaBgFXF1XG4aawkRK/ZDAf4CkxElZb6LT1zQOM/tJXKziF8zKKUpkPsH2wMcwzOz1F+IsTkqXerRkSAKs/aiMOdIiyYytHDJTLK9iMMSIqodzjiy6vkcTWVx2GD5n1OS+93o0a86m8LV/1vOyGw4H5zMSINd0xBCBBrNpLVgTU4ZbNGmTQR9mg/DDynqGh1HcHMbsQOvg548lq9EE79ZsAkqtCCmO7ss2556W86fIxoTkE8rVMIuQg+GhOjKPQEwxodpqtnHGzE3sQZc/ogK2uf+n4nyN/87rWcRgte0zed+mEhk8YmDmjcapoKnekjxLkAK3vgJWwVgNeeYvwimRaxYogyoI5Y54RbPLwoiKh2ep2Mrfj4mq6R6jokazy29D0dh2xELsfI7JkOXMrVluRzEz2URKTqy9uWWrLswQeIjPvRNlG+Hh410gIvk3WgpuXNpRZqTQXL2ZeJLbwpH5RXumz5hNzx0xYfFjuum8DFNkpUxT1oiWpJxxUneMiBIwhBl6YvC1yHF1NWSeKpamTTEXrhQ+h0DrXUS+UE1KaLTXIlf6rfWST/LxKmTV5OjerTmNKZf+Mg3DYugn30sexTPA87rX4Kog//GsbxSarn/ZdEeOeP1u+z0QdNVBoXgJZr0XEacHk8jnPF3B816k4haOzDCKHMidO4nh61GHW9UlFbv4ZFwVs/2H4NEmsS1rJlM3YiAZHli5OZroFsVrs+uz+jcGa1Kf1oKFk/hJawLBd9NhFB5zJODtkImCMswlZPFFPm/+ekHPia+U3E1aqoust2NLQQWFJQP1cBFCDE668Im/q/w1skFWVgrH3O01cZOeWmkEyQioPTwLT8P9lG0E5YpZerRlCU1F4Wa4PLOG3nFHAjxGiAum744qKZFkKMESfJKFFK5UbLKwPeOs253w1KohZ7JsE1QdLud4cdzZsB2uscn+VDsxLk4Ecz6TYX7wVHrWXUC97kE1Bc2tVtU/xf77N7+fXUfhIFSJ4Zl2cGZWrbQ7ET4HlLT2mpvag3KBRRtKsq15rbEbYi7dUU1SXSYyqEpn9BiG44yAbYoD9teTST9xglw+DNuPQO6a0G6EYe0HPl/ULfsbmpGhp6TDsObglbV8DIrd9GfEmjRVho9aVomVKVYri/sFWGcREgiZlXSj2Zgc82Uvi0CuOVWt0OWiY7zLJTvgGns4h2FbwBlZw0nHGekKQ3maI0ORB81SLUZQ1/4rFfwA0XoCWznFpGlHp30d2qvBMxBJP5VqEt4naoMkAqwRKY16qaHfwDs2hYD805p/S1TyBouhz3Saxql7r94Qr4SDbF3rw/ARIFkx2JyZkVXTCX3SsncZ7pRNzSbqR0u2jrWVwSnrKaYov8JX/sAAfFK6ydf+nBrMCChINbfFSltXBEyKMpS5CEgKU6gYk4tjX+GQ4rifZmKhvxTNVIhIIctgtu5WR3aFFYa+nZUfYlZZIjZQCzTVeGdd6a5gbMZSCC1DtuiW5tC4qoM5buJSloyFTjg2nLAJqvLXz57YVQnFA+UDU0bCoJHNoVkwaSmNf9flGlicjThc5nUjnDpsEYaRLXHqzdHFVrnUdc0McxVjUtySggx5lqW7mK2OKPJtLUuHQp06f0Cxq5JzViz6fXexq6ua4FWnWW9bSaWr3nkuG4bC8kkUztVW9+iR9XQnBDQZ2CK9e49FwVzykoXMmnIdkIKaI3NxS9lIyZlIyo8R3MIu6LoOMQmrGpj/HhxfUdyT/CeF4d9UAS+EgrR+MlFvN8MjNDSNU5xUY00rLbS1MWiYn02DZCcuCcf4UeS/7+X9eIG8Z/84MZOFsEON8a/pLZlUaizUPAZrpqbWA7OGZWTzMTPBEaG8RbEk5aM5E815L/Ced08NWMMqvZsqPGVXtzC15JugK3tZSimKOoQI98vWaqaYZCgyzLVdQodp3qma8HZla4mD0Zdcbgr95ugF3NWgPEutz1CubNd2V5boikI4BF7HoQxRzJuC8AW0eOQWm2PJGKrt2u+kMCT1xWTa+4Dh54zRi+ayDSZ2qNkoN4kSG50TSF6df0ReOHsNJ/o0Pec7JQ+n2fsfPKz+LsBMpfhML05Y65qHDzXpTO2mrt0j+v4U7nZI7MJTDiyN0PS//jvSc/oSKGSYeOng/oAADKfol/lreoXtdZ4U/DjRGzrezufp5KJombS9SitpyNbZMFyBNIh8yw7wAcusfIOoOSHcyYVqc0i6ztnwzZOJwRcApzCc5cJrM0qSRWPIdRhONqAy303lwrCJwfOz8Um2JnZgw/CKWzK2I5GhVsHDhZbtLMoXT5BXAma2UyjvecNg71dO6kOrDVcEtrFETi+sOUf5xj7fOi+QA0wKG4HyJVQsveHXEP6aockNJSkIZ+iJniDLUwAAIABJREFUmZaJh29Ac7UVRmG7yHZrdlNrLo9QDE/4GQ+YXEpjSGt1FT44UvH1RP5kCbqHJin5JJHvT6jDcyFhbrSaTLf0KYq3erSlg94BrRscZ4Ovj0LUHIgOyDYVJ9IM9bBNPXfNNGQCj1YuqgaOlYeEzu9TmqsoKvlmUYzLVlmBa3mAlm5o9u/nBxqPrt5U5gZ8TdGgn14BY4NgaIFYBy3CLSDaMCyGcHLtwcyBFqwuDlecI3wYDh9xKlC6ERvDRuiJVNzTWE4XFNdiKIZrSnH11EPxH06fN6aYnh1rrPWMqe2W9JhTpx8J5HRI5V1nAcKw75F2Xwx3R6W5OMTq9FqlAyqf2wqtVD99CosuQAiNjhBjiprRzGHlPakX5E0RyIsfnQcPmNfsoZvBy8lslGg7UoXhGy8Bv6GxHUhZW+YfmabBuK6GTGFTsrmwhAVFOGRVZuCRVd8tki1w3EJxSU8B1zN0AbwzD42SZNDEuJfnGZKoKurosiOtuuk3Y6X+n30PzMfzuThrcE3RRyA0y/UpW/pKY6p0SDuqz2cTU82oDiPJ9fmLR5bxow/5UBWBFaalddiS5QVzGKYaitasU7JmVA4Mkk51h/Zi6kWX0pfehxzZ/2s0XAiMMAzu+oOq2bgQ/j9BjOG9zc3BZMCHuyyIk49yDzCaLBU2d6ZL2dMwyZtdT15yySAk71ycc27hb6lTgOIpOYkhQ1OmiyGjI6xGCH1OSS9/I4fSd+aVg/z2GtGZEBSnRO6S1hFZszUzU1qz3/S+deYc/0VyQPRvWzjBvGsZlXWjejgj2G1QRbozyfjmKDjeIFYrXvxmc0zzgypUDIaTTHtJ3ipapJU5KbQ3jCLDoE0IPbBkCnqghZa2nU6L16VZHD7x6TWJacLjs3S4xu4+czIcVxtKq5UBOYtUbuVpQ6WypcLw44vV3HlN5TN7s6ajSfWvaVbK5ytzFJqfCcRNRKGSGXA3aE43Q5HYmz6+jATiE++TNp+okgFD73L4woer318HIvEkturNRkZHRmWrozXnMd3QPC0SI7G7iSmY/FlkIKmbPprlGOv6Py2tQlQqma6VayHnf3gAviEMSkb9sj4A9LOETWs1uVUuS2YRLMz22Ck7K8cTGBocNOXsPJt4eNYhimAkqYegFoRMrzYrr4u+9UN+a2EkuNWvy5Tvg/KEMCwZYGCbojI3KR5XrmQSOJ7KgaKPaDOK0bfzvW5MYyAByBziTL03JP5DYPg9R8kWIbbbPdStBEVlmrJ5J3g+zD1IQBQaMBPTESdsM+FAKqqCRZrhMFIMuo5iP2pWpx7ZQeh6qh2UZypwKDy6jTV+lCLUSLlemHvCsC226HrhYT4I6nmISZXYSbRBIEDShmHuGpBjY1kNAUxaig045DaLOBJPOQumMQhLLaw1tMFpMkSPETJ3r2OmD0MRcsiog8jBHgVYmmGIMAjpu0xQfg8Mo+BDjRMVOMcnvRhgvnF0s7oI8Mb6HzMMf6bH092Xl6R9mT+gAs75R3yYulnUQqa2bJjcFG9EXK6Aymzq0SoTc/XS7R7cC19wCqQ/kp7I0gQ7wOxrYaR8yC4GFxA3Qvtn3Q7OR3w+BotqDHd0MFDKu3PyAsiIbEgP6GEiwVwlkRqgUHigxxaxpWimWaP0oX/1iLYH7ONZXqPGHKtr8D1kIC+/1PScvYTqUKahN03cHg81pmbItBoId2othI1VobUYI9SNw+URs9OsKhl1d+G/ha9m1jYczEB4ZPdcTZOn4BYO4D1Hc1SLZhHaJCyY4spl08861b6IANYUnQBBeS38c+A2oeldl+arlh/7VJxNYpzQNVbd0ewHIm+aXd2jemqm3PocH/MNdtVmzrNGEU3e84yUrrqZCRsSLUjNAsP7/PxLZU66mIYFw0NO8HQNuaQBIr/91TryzwvAhaxYcoyOSmNXvYEZ76huNTzSffeBDeVCQvmTFd1IapgHV0N4rvBMahDlc2UuzEwyYGNwQBHXqFrtDpTTtCOUN0dPI7uiOnwIj03CiqBAIdWqD1z4erMiu/E3PVA7HTZ9fbr9yjSrU9JQUXDCsZ8mhYv5wPaO6OvjioBsSekJv1zpydVhHjgw4ehO1KDC/kqy+BlsTtRESdw8/tY5aPRyoB48skVDzVI5MAN3Tine1hTxcp1UsRRUqmG0R8g1NgEtF0WzhPTF9kH0FMlYWpLLulXPWRJ8QOms40ZTGJSHoXh+q2aicyuEpGruMGw1ggvgkQlr5pJBG3H5ch77hwbgLQRNq/PnjwhZPzisqxCLx1i88vpjx3avXddPeXSYIrBiFopU7Jo0qSxGK2W38UYlCug+LpLXrMNwRCb1tWVxC7hpAITQu27l9M5aJcvA7AtByL/2zsfl7jqGYeFh/T+54+mvDOVF344VPUedxnV1rZTWpiXvNCeQD1cI77fE5k+9RJG2JP4qPxVi60WmPOq+VMzDMAwsnAS8DL2kuxRhhdPoyzqV5ZsRjepbIz9PPuVOOemQzGjBkauvDuVQtqVt0YYwjMJHsXKqzo9RkkGk+GmfyZoHdMEuQy3aVSpX5dn5SL6RheQ7mv3+LYg/1AnFsKzrJQxHgiReFfu7k/OPDsDHzFrM+I8BJXCqfWmHqWAhEH0L8UvIAspPa1PfAut2Ph90wLIWb1DwGU8ogobh9Oy294AmToH7r2mQyQWg1yPs0LQ8envB1AF+8mHM6RitOretMtYUrIAVv+3PoNgoBQ/wjJ+Nr/IY6jpYl9XkJvVBvCN6EdvGb2T+H+Er8PYwcx9689ijKg8C6RBG8qT4MBxudEzd1hZdohEI1XM1tDOMDa8s31bqtWtRgklfYBu84Y+HIqtEBnsI81GRwkuwiLnUOt9OwbicVqF/7mYYjufcpzabzviJQMOUnLVbS/4VyXKzLLDh2WFCTnCdZgk2DK9BNscxGgt6/J4N4d9HRXkBJU3gyUwDBhpfrdRl7p5bHT9+mF0Nd8Y2TRhGgf6RPhNEir2TXmupuFbIUpGop7neGvm3q1CKnId4i3DSbJn46Bt92RggTn9FI1FjPfevS/sS4dFN4EkOGAtnjDihLUVXC0VHxp3pFOWbDHvqo+DmNm2Q+eNFgI68pMg3kF1gJsb2amMcDBNjFDZL4H0bLIPCg5or+8R4GoVv09t2TfpP7cgc77HQ9/h1Bewpjm6a6X3rSzQUku/JqlcIZAl7jxHCsEs3/Xg5DwXUKQZ7hPl4VELBUtD/HSUu42cze96TT5GnkdM/ZA/YkZPNdULsJ6HgJ0XNrzi1AQ3XoCKZCanO5qENKoebT6s7/14bEbGK8h/PtBIjx2w6TIYcEUiqtwqiRQDytLPTC5r7MgurYs5TGYtsPx4GBQyMoIumSR4uZVPE6palTdadmi9zNC8lr8fkOdq+TpVo2yLb17VwMCMU8/lKTXiZd2TnnzdFMLPJjO0ygvm0Ab0gDkkP9Z64Y4IgVzhM+hfV1wFSrZU4BKc9gB5r/2i3Ec8grjpgCTA7/gBH3TdD75wHHrzNqzXjwrDzLRooQtEZgSRymDqzXxu02cm0Xwp566X+dTuLl29gHzIF7v5ahWHUQ7tMfmuVaYwZ87/L/vv3v6Ue092MXIHU9WLxK1wb3TZZTqe9GEQJcAFgws50RjxpU0lcIJnwUolSKC2JZ3qsw/BFCseNSpUa+fWBS5MR0D3z2aIeM9R9cdEh70oYhGiWy8fd+Ilg5fNfiQSWa4a5uQEUc4JMooWV7KgGeTbQtxNht/vEc3sdqSimmHmr8CnHCX4ZASvZ7L8WD6xqUPLQ2xuNNqfeWh5CFEWMycK5pBg4SdSZjwXpl1ObUZHjOuUs8/YiCbzJl8h7wZgewIMTMn8Ic1ZPSAK0oMFw+/HgPKGOLjoMMy0+Lc7zMn8tlByFju+lE7aLzRHfAsM2S85gpg1lUAZ0529S+2HqXjs2Mux/Tg+YxX6q5RDYzctFMTlav8kUQI6l8KylmGmCqt9TBLuMiRXoOmqJzrv+YLYpnTd5zcSZRdjU5otZZDDNbxq6mZub4tIUA7POy+Q5giw1qxj2+neRiygKhRldUnr0RZyUjgUwNHgy9HWF/FgBUxyJYfCz9uIznXIpuid5Vcd9urDyLR2GXU8R4cMwT/XX7woVYLuWvwm1ms/h9FmXKHaSTsf33XfjQoyoYtjuZIIbRMNctNfcfIuUtLEc1LOEzCReMpdigw/08XhTXljUD1mqR4ShB7Gj63BuKmsJLMpbO1oRW1rV9XNrni/yZb9vygyFcKQ3Om3iuVIpRVMma9zUTb2ydeKHAFIkTTu3l5hVaSjUkWMAktm3+T3V8d8egJkpKVdeLHVkBtEqVvfggbsCjHoeXZ/7GMTH/2uFvy7ga0qazUaR3VFbysCb+zqY2UptKKq2CrNOHjbo5da3PXEOaRhmytcJR0JLUvD6xGDI2/mtxa0QRYokDCIi0I64XsO5Va8IcRbdz7P4Ad+gygr3iR2KocQqthXzqSLyiES4zSivoal6inoMKleUVFI+E/jkmFwZK7bPd3ktgU4/mBMXKdO4ojPFTIA204iwKtFVLni4VnpiS6o0On4QiX0S/YyMDWUcswALs3lOFUl60lh0E3ehKATpSbla7Ocs+QgkHN+TzQYQ8vVkYOsgZV+QOXhTA79BiIUbp4PirWU3tGid4dRa/2IC0YCpq3CiP/+4a3j9jABsd29sNFOQ2of0YhLRZgCFlyz3j/Gc+s3XTw1moVY7A5im9nCqTBxWeXQmuWIDre8jUvc3i3OmyJgRijOGcB4+HmL1v58Ap59u0O2SD+FdUJqzYV7Rz+IlfBOvjH5Ebp8TE3OhSMQofqYDB6Ce5h4NxHI1Mta2KSKiONsbShtj5RM5j7vdWYp8Dvw6DJvzD5uDqr3wAAuN8/YCSbwtoD5HHTEiuiXuP6cO2V1bj+FrEE5BRfeMlrXMcLF/rxV49rruo5QcvDE2ocXqyw6FCGYEkzHzthu3lN3YHaWGuPVuKjKSJojHPVB9pMHXZXf0NXBElwatUhipVsHuRq8nMbrrrNdjhmZt+LzMvdyD759fWw174NAOrJnHZ6SqaoGTx/ToxwTgl11s1ys0DHAf5horjWKuC71Cxoo5YnT5shqWmHfoUE44yCStKJBjuK32WZ2QEQBwp7OaBkL2aAl13EuOWtrUSQFtURdZ0smakQYxlOZVl66EiczXVXkIYopum14uE1JzNCTzpMM++O7/lqfIRnkNmEnGxH7qHIMJB/03wcrPhsSC3o1m0q7c0H2RAMGFSPwkDx/sNG1PgJPEjHSj3cJDPwNwT7Huo7/mtJTy9TLSnXRB/KiZvuabalBUvNi2m9zRB2uJRbyUTNBNcRZOID2dGa7ATKwUQXBXFPqzikV7QXVxycHjRq3NarozusnETbc1/ku2OmF97xny1HgGTm0yyfZHoOivaQ8AdHsFi4A3CDnIpLgR8uYQ/qQA/F+xN6aGViom1Rkmh/qHL39lEYGu5y1dNleUofLG5Dz3Iw8zxpDT7yDusyYE5Zkn/erObVAXuMeb5cjITd8XawABq2pPH4yRotKGgdjxus9embX8gGSCOr8salPrxCDoI82eZw3ZNE2MnFwhyfZKgG/vMrOxhuP1pM39V25Uf3jtOF+LrYk4XT0vO4AdNosQhlXCzZeVLqB+wMdRRGiv8OCydVGH3SylqmxmNaz1pTn5pBdfuvm08Rsl+VR6DWnEzaqARgWq0aet0f+Ydt6E1uZ3nBLjkzBv5VM2Bs8uj2gmvlP1z+w0aMhnTkHf08W4MsbkdtvjrZ0SU9BUfVh96jBYLfXPZMPhfwIEXZ1Oyvl+qwdVbyKO62VmDtXzvFAvrVTGUTrY/5qtAIXnTJ6aIF/zDbmaP3/EF1BbFDF1MqJ3LSureFYlNPF1YH1iyHkDr8Kgqh7cw5JmLZx7DqgnlrcFrhpl3LWbYOeYogTrpvUF0/gworURHE4poo6LuayJWo/QAnUwwGmdV/E9Q+IeahLOkZFbOc+ILIlJn/dXBhjOwsUElRP9SwqK0vdf6IukWeUn66SwKsDUw/czWcRaareSIgHWyKbw/ORKRZ3xMnW64aCVkvzcRCa1ErKCr1o6oKVxjutI3CPwSivbQAuRkx9FSU0zJ+8LUz/v4s5bEKiFAjly6D/trZDzWKbNtT+nB/xiMpgodpLisiikboOpYRm/aQ5IUcSICxWBJRxKS5hTGLj8bLHzBBMeshvLIrHdfP1cMvubIUMk8X/MQ6UtZx3YyKTktfTRqoR4OsFkeE96PDkGPGxJjs1aqrnL2BaNUpB5+9aU5840OQoVEW5wxKWakJwnsPK501AnAWXk5mmdl6QZrdAOXc2tkrIPEoAh/8raMdvNVMQPzDTey2EXpYCa9kSS8WYYyTlsGwcIpP9ALuUmiviQjpgdCQsbArNVcWHusjR3EwuEye7mlQOJ24dxt1ZXb1HmR1dHX9dh2fNloD7/5YjlEEaEXlqEGOEs/ilrSIjEVWTKVxxLpbhqEvqpVvqtrOqSA+gIz2IlXYBM2yzB4jC0oqZuhBCxe1Q9X2oPUiomp412YnERdi2WMCSc8sOZLUwzdWb9mpGfM99o4zGrYKwFCSypHtyYj35r1rVvWgdnOIHnh0G9Ynfw/HVEqU77LFLll0bbAtnZPKiRV87HVLqCQ8PO7ocZJ6UVzWYK25D45nrF7sxGfxNeIA/MijnnbeosxE5xl/Khpp1vRo22Yfj0UOezSDddpxtU0p32byKxcd20oNuxC+MeOiRO+OsWXvxGsax/cPgl7QrtV78lEv8HV8BP14eewNZRxXpmC8+4nfCMCxE6wW4a2ahRzSaQLFF1rUWvixsHcl547SKGiR3cpbhFOeSZ70WSu2fZ8N5AFI1BwiNdgatwrENWkdupBQyZo2eiJN0SiaNiWfq/vyZIIXQfS+grM675g5KIw9OF0vsT2Jc9egRmYSWbhHKNhlyDC984pjS8pbULD4MIbkIHui5hFNVZHtzrYYBjAaEaPtBK8smdBzPkQHdbXd6seTSfP4Qdm7U9iDU6BBsFkMKkWy4Isy4V91btFLFz/Sr246hDVQHFe/ZfXCBnx3/MLvjjYCGDiuUCqIN4iUMnM7kBw6HRR3/8TeMyRxrG6RDFXXaZ3/yECnjs3lQddUpCZZ6tzcG63og7Pf/kVNsI5DGGmvSAcCyYXIDbfpQx7uCLY70JoFDmdrmDiFKvzWOZu1LSsRQEVYpbYhzv6FRbhQkpsU+DOEHtteHlvQC36Os1uPRILHPNqluwgckUtBOB5oFOC1p0eqC37xA0VqQpT+U9GZblAsy0BmJu990aZUrvCz8RVnFMOomedW1cE2eLisvYk4F9rDL9x6KmqYMKQsoF0wdceYODBChLZTYhuaJsYFLqiZZCC03Ski7tmme7cFpv5kvYQ1/2NfRqx7hoE/QKiFYTkEe1mJm3bpsj1gloggE/5S81SBP5STwErW69xOmHUK9I1tn84QHYkPihuBmL10KP5NG0a0A7URR6M2u0byWeLHf7ELhkkaE3vN74XgF1U6l4JRMzwsAjf5JUMTt/Jz3XPcKKZpjM0W+Nnkk9SQe1CqzA8Y+gJ9NkgVXucvYx1KvyCuuutvJpQACri3K8jzDKofJpbEeYUdQOz2YYiue6wbQwrJo9vvW8aR6DLUDOrWyi+GpDnIdFbMFUg8RUJXW2CpGwG7oB4ItupVKYps3BVvCD2gt4C1wYljgf4LzzInM+wOdabTce1EJdStWCYyD01/qSmDriavckIQtSEmvUE2hVGlaclqp3XamSIEu4oecGT72SsoUXqSMMMMaUmdG4aP7tk1i/ZQqatMKMaWM8I3RVLZMhBYM13ECTuOWjfc+Jnxzua7mIPnNnpgG3ii6lD54MOeuNNJpMcMNgzNjtB/2wmCXGw7H5keCWhuxuQ59rJ8bUShwPvu65/nFImwX6nYQARUPwjZuhFgGcSc9n+wWhJcnrktSC6padmv5nRC0TJ7LnZERj94JCkZAka+EDf9ETajhAbvSO7How5xOqhnej50ZCGqxoEZFVkAw6WkbRUhJyq3C853YnfdhbHuQlD3XM256RyObmJ34NZBpAq+y2kjv0wuY0D3vMRFrm8yvm7Spx+iWqIvVsVHQ+Cv7hHS1zDMOJjAv2eDh9ck8mcunx+hq9APuPc8GfzKFEWJ4WqBv9e4rg37WGRFnlq5QTd24AlUk1yTlgH9pXsL0TuubnjAsMfN8LWcrGKgGqaUZQGPij1deBUZ3xDMYlelM+Ggj8SqelusAjqPuJNuGwQLQHGPWWiF6OlFL64TPcT32hLPpdRlGrB2NPPwqe3vykmeJGd+w+ZPp6KAY+mubkw+JVapPtjYce2KoE6qv9CtAjAyNxGmk1A3NVUtxg0cwqb4rpNQQ2dW7xwwXwckn+mq/gNcX8Z6Xl5q0BkiEUraQpwDE6k+FqjDRVDPcYDi8FXgybCXShnab74AglQmenUiixvDZmHw8G73muLcVC6JoNBkmbzNajkEuBUeeo96lYNu5uAy8DxHUeYlhLWcmye87Dg7jya0eauR2p0mFYUzf+KT3gtUlJs7mXjomHKTjFvzil3xB9hO5xZusHDGEYtKEIbr5XIxkLOCL0yrE6iUiGsXZYTeZGDfIoBR6OAwQXNL4TlU0aFkkL+EimkJEqYQT/rq//ZCZ80LMjY5QmJZXBW+uS+R0WZj85bB384WB5fVoSgBTjjruoM8VjQz8ibl7a/GwFA1cRXCJcmxm9GyWfGIP14MXx1pcxWDWMOGabCEt4aDXFPu8EMhVCVkurYPZGk45UP4kczHm6M2WuvMml0uuoZmGLu+IImfUqY8xKcVpJgI3yMSeYssFURIlvxQku6vm1Dmr3mGzym+2N5v0ZSzc1wjiInwbfOMnXPQ6cNf6YXXDUYVhzQvwJEHQKlUBtWlMS4DEWGif0JtmklpDxwYqTaE+hcT7UpZVeYo6DoM63noAaT9XkOIHFT5RYjjfIqan3uCRDg2BGeR1C67djkUH66tNj799hYCFWa3luQwkWwUd4sLeMHx6bnukfFi/xQ8qYNZBUfrOR57ID/FlYSsI4wt0fiRHqlOJiJF50pwD7Zmrq4xz5bbrnk95oqnklUDD1K5AcVFBPDORfDweulPT6L3IrFcYDiFKgSjr3hR3XS8l0YPsaD/vsULkvZqGZPSnAVleqEhffooyhqoFXxZ5XCL5G5KNMPK4/AiNX4dK2EoWBMDRlXS2aa7tWyL1gEb7/15Tb8scGYJ8eanmyxMkhdlaMOrdv0lKCerXDo4O9xjOsJ7Pm6FclhBTHO90gqEGc6EXQs9rXYCqOiN+xhydzg0zbTm55N0qMmf3mIsuDH8p1IW5CsttiS5cXVX4a4729b8zaVLM7hoUPF1r3S9RN1UCvOLahUvK55yqbFX8xA/ySfPJP3oP0m5rZ43PPFcfAjDG2z7JU3d0iuGe1cIJ5SY3wK3M4LhaUCTOKP67wHaRDGLbkVtBj+QOCxiZ38e0tBaHZrZX1sjNizS6Do7y+QyM04Y84rTwL8hOSbV1nlQZUdkKD8qvaWq9HhPg9OaUlNPIk6b75EEuoPiBzd2ed+U4tyqfImqZ8VvynWQhQ5KD2kbhoXrPM/tMrYNc+1Ff2JbkYaUXem9Cx1mmN3uTbC7DH5/IQhh3GnrTZAgRX/brhOTBh2MVIO2iAcpCngPdjeKuRJSY/QOeq1t/w7gDgjD5p7g5u9uvNWmf6aQ8VQ05Apq+/zlzAQ/qcsAJxJ8y8touP405ZJSTFLZtQpPjNistxkt1IGs+ZlsOZMFtQYgYtZQoPwSfT8GH4VL6Mff3pKk3jH8LNs1txULgIER/DQcShCnFFp8zvKKXgJEADLDT2UzM5xVN2CLday6cFoL6dJslRokBiY7MPgUCVqNk2QUg947OjmZy3oHR0dDMG/4ulML754R8JQdvUjGH/tbruZva0nNf1oIT5VxfIHTDFPH7wdJMO5H9UkDmq7ZRs1TLyg6ewoRoyZHk6rXfYIJCyicHRVYntzW/HOqq50Bnq9BR69QlTvVJRdbAVoFwnKnJ4iRVBSmDVL5/DgjTUN6zzl7W7vsf3uhl71mQjuuuMu7hbfC8cifU3Gnmf7vBmfcQ3y7+B4F8rSi0GKpyBR8YYTKxRLLPWbAlTXVRe3D+C+hRRSlSdKRVaniKMdvMFd40G4gy/hFv68EWwfqykVmdflQ2PZUDVckqegZmT8eaA/av4s3wxhvGTA7DkOqlr2GyzbO7GOBwPot/iAtIjEFTq9IDVZ88EPNYE9DXuZpjI7O0lWKWk46Z6moMZ7bh4TmC3NrxW/RL65W35fiRCQlQim0pesR2av0sgI1Rrf9od7J8iLclnL5Q5UXMPKuGnVBmhnvdJhWvkiIeGewrXcgN3o6e8dzE51hLbPQHr0zhNTu5xEaHVMD0cSROZKdUoiBVXDsJmrymQUxzjcVCRJ5e0qRkXT4WSStK0KoEZLbJ62VxKr97RIkVnX49s5FtckcE5bQa3HOXulO6hzDDsNF38H3RAtbqfHucLXCIIfZzCQ7tbozImOyASJF52XNMsDsMvPb+/XwzpdwXg/IpwzQFp9aEN8VimSgTPVQu7dmPmk3VA1QOcWseQG0SunOtLCllI2JGIPTbT/qRn6Yu1cuQEdt4hLvunCO1xhzi0ADUasaBgKs+FQ4WUbAnHxc1j8EnZEyOephbGHM+ppnGG2WMx1LA7J3KDjsClRxex5CIfNxSVWV0C06yz5AMqGCGnoNrDvYuH0uUr0C3YrAZihUMu9iU1Jr0OPM86AQ7HyFatDFRjJp4ZVF4QJJVMkcdtCwAE37Pyv5DWSRpDW4T8BTAKD/uDl9Sg0Qno6AtbZ+ssGW4JLkRZjy2RAZ0sU1X1tA5XrJAesISgPbE8Ss4afE1q9I3A9z8/ALv7yRU19V6y/oXTAAAgAElEQVSup4pNnS9NTKF90sBAji+6WwNDNgVavl9dnqWhMXwePWO12VWveVy1upnNJzQDhn2MAxTs50Q+TyWzdyaWUhMSzPx84lxCM1tNa4kzo+qVINM7t4QBzySXhoHEkScZN1T8mQXPGsB2a8EiJuB+TulroJmElbiziQN3DSrDj23hnx2x7RZ0TxL/GoFcRNwyV94nNW8cbGGabNmjrnb/dHm35uoZ/Snj80IkdLBYO9RCt4p206sr2ivxeOsWmBPolMhBUQJikEKWdBAU4CW0zdQQFDe4hfEMmgzLlAo2QIrl0mflrwhEl+Wr+ZVbcXfl7TZEpuu1EoRkrRqgp7UZp2w8IkelTs06zKqdVzi6ogRakMhdA+RHBGCa+TlLhKwLRGKrb6owwzmtrJmk1kAdA5eNBcfcFNIzqUA+XHSJ/m6SG+GrMBwxGbdNr2KmmeZARq6kvKcfV6bFPSFGt8FIUjuFnGs5CKf1qImgGcLwATwg3O1AXfXZi5DAXPpsSMZsrBe+101UApTxGwVcK1+7DXz6rPlViHMh983zX7uecUfGEHpy61H5Ylv5YnFPxNyCiLOy6Zo+s3kZrOpnuT1aCNVzIQW6fJQUxu6VMjZpROxKkLlspGHYzOXOtG+8L3meKshnpz3FOmVFX7eNiQ0gl1x/ULOFahH0Rf3IkI9l8ZioOyOTWBCxbOXqYXnuBrXXkF40PZAIsZulaf/FLX4jZIFWC2BN4fwhesCDAcPTmcLfNuX0WKpnWIQZqrAQS8w/hBly506nhqFS37vdcwWzMH5+vUCFAwOcYsPw523NBwZZQH8cR/f09XlKAX4qoVA3zhg82sWM5DH3/U6XtjMNw9WYhskkiA0olEC4dJmDrrxzyVULe0S1wUxkPgH3XK+kqPKNE6f1bsc+a5HEGzxJirEdf0fw8GgNimMs2fahippG8VD4LX2bdMLIvU5K5EJVijHKe9AMMsgdvZccya6nP4UD3nP5dpgSf48SLUbcJcilAwGNaoUU05ebAWAVxhb9iObvlMGtCzlwR6joy1EKr7Gn1zpdQyXuKgU0qk2SsUxrH7UOxoeZZz13DzqXnKhdlsqiKNhiSnbaxhVpZgn2G03Gf3IANg5e8bB/jbLHfbWktFIQipaqhacscGWuIYs4Do6qipOTkzY8kzmrgCk4LiawLfMAsfORI3GdODFpmSmTeU4JIYe40xMuky2FlbmvfMGvVAqkq5Uyl+tS+a9MZHoRh7jBPGSyhid3vzTpU4yr3IbKP7/7wuVSQPA7sF2MJEhQMSZitvcqL78lF1vCYqxFuGxx4fWRQsZTKbrPp5RHJzD+6mr3bDytwuouJygZLIty5jpCEpbBeLUe82zaW+VzQ4LgGy6KCMxhYKUE4fKNtuJBokX9wCYMxcrmyWUIxkl243dVMPlycDGKWGMJesjxHFK0rCeKJdhNRP9xELReCuIaqOW577hT6s4qWuVEKfRaPVBTRBV1quxaShVA98zyyOoRhnXGYqoeVjUsEZRgRGGT3R563GXW1ibI532UsCORTcpcHe1RQI8wLOW3FlfxbC+4povytY5SckBSWpXxnhHL3j5vmeDaIUk39R88VbXByuDVDUpEOENx1IRqfGRgYvBmHt7GnU0YTruYmoYC2Ra7T3TqyaZJQHGcusJS7Y530w5hYD2t9nnPX9m+bH5Z6Popbk+Mh01FuEiohI0tymZkxOfoPsI53E0jO/nkwcKWk3BR97eApEzIe7Qrub0oHVMizj37Y07nsLyi01uvX8X3Mni3C/CTK2BTezC/oN/uXEq2HuDGcmBHGTlwOWzn3rA9MEizP4VjM0CINfWog3FkL/+VTngmIxPKXmkCmDR1QhgurvyByX09DYxibul0W9Fsc5PL9KyNdjLTzWPLbu+LIZKVe67YIWAiGyI+Jmj2DMPh86+2oThyN+wKQb/my5hbcLAegqf2iptNkxJLiBDvarDR+miNcmdkF5ucgEV8tKS+GWvWBaltEbb9FzLXPyjiMXw+7qUGcvl6jgHQ+tGHdyZW8yd7rKhmg0WP0QDwJ6Ha5ZW4DHaql5Sei+NA004qyV6JkxIa3QicP8kJHp5lZp7JQKSUXviD1JDEVWP5XJbc3F2bcFUNobEz5/PxbzU1M5w2VX42+A62obeOY7gBW2LcYlbU3ucxm3dEASVtGkLi5sp1F8vSbuyBo3qiJHFwcZOk/vyhdRf3XKuF70KmXk6DVRFZzi+s5RHcuD1XzkYybdXOXz3otNY8J74nXTbio6e73lbpFijM3MTguPnKCvTaPJXMGbCr85O4kQQ7mtuJc7VYU4dqGldLqB5WH4mLZ3ANyT9YmqGQxIGSgra9qnkn/dV7qeRiswh+XJ2SLd8cVez2TGeaFZwDKJsbCla7LCAaVlomW56OeLiE48GLpt7vrIN/GwQttuehmDf41atpX48d1hFaUKGRswdKQneH6V9S1miJvJ/ymh7M+TIcqm0IJrzklnZj1oC03gSUfQnOgCIG9jirZIO7+azpc+cEkKcomhOe1Az6Gy0XSzicwVdKlwbk8SIviS5HygYk0TcbuzWbGNzd350sR5ir34Vh8Td0sxava27m7J68C3brsm/YaiDyxmcRVvSo3Pqtte0FkWR97tieSDNyPW8YWS9Qfz9U19OP9Bsgm2GnznsGeJVJ2GIetQ/AGGV0YXhm90grjeTzUycLet8qacznwPhaNwj8QwkPl4cyVcM5QhSRht1FX9C4heij3FdOn3e1jOzUuIPQbQqMfSMA9Y8OwOljY5lgcVsfxoenpiNOn2e5Wo3PYLG0N8y19RjV7qTYFyyy8kUIMDHVeKIydvI1b/X8wfLE4DA6ob/gTGiQX8ktCJWsqM6eIFblOmbiuKk+M1SjKATVpbNOE3f5bNDscPQRzBM4tc/jZAUOs7t2jmGLjCXcQ2HqMHET9nraudyYzG2nsnEDCM2fffGJW+/FJExTpcHWwZJPq1W9amaSQXoT1K4alw2gUufDPNF+lQC1eo9j1oMg3V/c7ALom+PCcHpLquUC3XEbnx/vwJGDk3O2tzsXYKtK57HSKRw04JSdFqnRD9W9Qt/UWoTbEziFFEBouMXLBw1eQhpyigil4g8ZwtqyME44BPlC3slRRP0+2RKZWCYBJnWIx83yD8+6YlU8WF8AGnZS9EPdWnHHMigjRcV4LBLYgjTAl5ijjcQaV4i0l+Hawl4PwvbOJsOAQ+1uGZhH0sYAar3GgsbkIamQSbHQPaOgupo2gtk1V3RpiinXMV5F6ZEy6blr3FgqU24SzbTXI6qkjszbCsL1yDzvENQKss4JIxOx911CUN21Qxh+3mZ9o6qP4z2VnlZbxTpZP0H5/VXo61Im4P56mhnRGYZjKuk3rbM/qE1MvrieaOc6WERfN2Iivvd62BPB5AVzaxgeKzLvwxynzEojFjtkpwaZjRo1rP+E4D9iDSlOYEqWxM2xQ532s5R+TwNDPgGxhX/JOidFTZVccpAOcpEL7roKqFR76Vtgc1w9DCK/SsIS6tUWy4cgz0rnjjAvkHlX6RKGXdmHQAXIr9H0J81nupuDXa1tNYsoEHlRZKj98qQeQ0tozAAwuO1AYWAtfdJkTLX2GXp53uXHHq+Oc+97rpSsrbjIOJXLMdefY8o1G+CXbWGffQdSgJcKw0UNbSAiqGEfbNtJCyQAMjRihGGDw2pyPaZNJYc0ZLpt+bQ8M5+ArBnvkjapR0p9GM4YMA51cMjGWGrGwehhMLxsuSh/7vKMMJwWYz4IIvyMI8ZbuPfMP4LQpWXduYNR0xbSd3pWPwqClsCdtoaTTd7hueNxglAY7heyhLca04/5e9UvkbDWtpC1tcd+IF7eiV8y4e2TGvDR5L44gzEeNqhSkGwUImmBW0qT4PTjy9IMx3JQdomZ1D2vC1dYX6B0yIWZh4OLqLsdsbHUUWbLGcX4T0pbn/gg41imEBZQXoR8gGiX0q1CZIxc+Os/Wg/u+tv6Uo0011mRYSRMpaw/93rRRYV6btE2AbviEoZ+XP8X8xuJpdZhnse4xeVKXDZKmzCQbKjQawZ+sVU3xs6JyUHqljs02AmlFNNtEVr2rR/q1eGAwH21uoLQTUANcxqObhuRYfuPcq3QFS7Ckm0nErGZPyIAxxtGZtxpXqjOjhRGafF0FHnBJkiaber5AVYzIPE4qgkfM9aSpmfRWcsxkBTU/I6tjQXemJRE3AGcJfCb9bbDaiX3vaIEvynkf7KhoUUdiqA9lUIImrNQkwlgbX6TqombXxYlviB2bFK/tW1Qccaw9/PIEkaA1nWsmHd/k4Oq2nRM0cWy4MBuAGwt30/Ghur6w873SnER0nfUakKSAaT2kstORjN7i4KCv3wcOEghtaOH1J9fSpB0k/5SC3MprquUf0fXGxXCEW8evynDdHScm5YgWfYpROuJSU3V5+aJK33PL2swt6ptQTgg3g5kSOqOZLD4GafsVN3Ecuv9ZwXgiOaZbHqNwpqyKYThxH0nObiUCpTiVzWMbhpDS0kKWXiE2nHzXmJHkaVIskKE4cu2EpnlB2H5QTZjA7Afxskl3XUTS4fo1MiPiKUWwnIYV7JikXlnTgZvRThqcAtqZcbksqitpTXvhnAT1aWeVCsQkdcnqo13fOkf0AMfqZefPKAmYEgsQC/BgF1VasNwwtg8rj+vLkJOWknVLt3I7/Ain+Ap5qVwvT3bGGMRcNEXlF9aSUgbLst10BbQsCvc6W59+kkscLpNqE/OducMVfhBOIpIPkk6KJen4F99YAjLO66eX4dNSkbtwhSf395WRyKd3sQ/ZA84jDVSkeXSl01QhDJBmj6KrgeEak7K6TGZpMT0v5Kxg97cReY6Yp5cbXF8hyRroo6wUg00M3uGIHqzA+cpLJ4ryLAQl2/dfOwltEg7Kn7H+TVfyQdmMvMY6YIjGSSPvYYqZlmRcOuGWHUiymNmGsDPd+SUnKLBDJdLIksei30fhKHqOEXf7Ybuy8BsIvKZT3YqQEw5qlJK5x1LkcS+0QGrrPhSuGu4rHSFirNY6Its3VxQC1S/OFbmwDwPRANrmm/KVEuEcDR7KKv1hFd2BbjtXontl6V1ZZxo4XBHdGLkfkRubSJhre1t9RPlC4alLcaeKSom3K7583uLiivPE/cAf34AJpGjByudYVDETmWf3e2XwCip4ReJ++bZesPq5H2FN8DoC/FTA2U7IfbGrnk0qiRLY5Uv28KsoJgYjEO6yquHoe52fEaLlbgrGOa27MWcsw9rCulQDT9sPXTzKVXBEZFVC/iPsZXBwZI8YIHScmXBLlcLiQ5majI4t5i1D75zNOQOnLuveKqrJwJ5q6BOCp4wHKfwSKl2gUhc8/SiwFrNQf0XvBuyNgezDJhiFqKQMBLbcp+311zs1E/M87IVZN9KR01XiToM67I7/cX5QDEwnCOsUM5LQaMnZnbtYff41TRy3ofKW/ikXD8gR9eXVLFkxLgkDRAXkNLXEeEfXQHrzYTABrBOinaWCTZCRa9jElr7OEEHsLo3MBfm5qw8eHT9WSR2MyDVaqbTh3e1L0Pvec40v3Mh1bgSwM2efrZQCAvqluMnI2MQPthvBHwYWfijhKL3WmkMrguOImkoVkpUEuaEj/Qe0aa2q/bIZ3YyA5t3u7DowXch2QKQl0Fqt98y0ab35/+/bRiuAEykVaxhFy2X77mb1Ft8TMg6LN9grSzQEe15GAEDZi2YamYzvUUIibiDECRjBbEtpKiBFkthutoetoNRbWTNA/8SeacqI9p7RL1CgEVeZRoTLvoGZJv1CTnC+xgbZbE/KFlTI4/uoSnAOgZDvuNF/nkQtEhkpzIjErO1ugBPg43ACWisgQ7IEfzIhnBU+B5cfawjnIOe4NAPPjp1uvwKJemghnLJ3RoIpR/5G/3glRLmWSczTzTDwawTzUi5ls5Nr/akEcazYQszMmXpZ7EpznbE22Nmyg0A8xC3Jm7CshXqaziHtbrEGbcP3tSfeQZxPIYQBcpvXE8aYKhjAtKgi8MnB1c3gK8Rgd56jCjhIIhqu6aFQVthpJcXdQdRstqR9eMW2z28u56xtNVrsjYGay6b0/oYkz4CVFbBKZIcWdzD7FiRQ3jlFZqWtgnDcXVWx2BNDbQ7jeNsMEgyM2DvftWbRhqE48FiQbVUEo5OVRUaZoMPvWDGwHUA5zWeTIOhpjn974y8vxeCFjN76Zgajb7zzIypuEuyS2wmDIMGzuJRqXdiEqby/Rfxaa9tQiyHbvHMJRwdz+hzRMxTpAR+DMySK4Gg2pU2CsVYSINLWALZOlkm/WvKVVJeybJ7lzfEaHWUwVo5mKUbzIXYcremex1pumDdikbnCu+PCve3QGUCb/IyMK/PmwQdBNA4w2rXbNJc0/4v4bt0XlYYO8mf8oQX9nG4kgi0kxDuNfW8yFeuMZ/JUOkRk+VvsYtOdkHZVvyEHwuAZv0cQ4JUSrgWh180anV8P1w7hG0ohHpes3DjVHSK6gFP6cm6rCFqnurparQsqX2IDM/BKKdMZ4T2hHicL07YoCy6XBPEEHpA6Tjxu7HznwRBS2jfujUh6j34NAxbb840oXZuQS3IXnbVbsYgVVKWO750BIyhXlHiHsxHVBQbWw2zbNDMwdAxqbJU0Z9Ip+Uj2T4aeayXO/mHUPEYVwG7AxOeobCCeFPxrE0M9z2eYXs9HMtt1pgOom+KMLr/IlaoGpw/A3Q3mx67n4nUCepEvbItCx7i2aQJTCiCpciEbpng7Iii7NocuArAST43fIsipq5JTqkBD7f7QD2Ea1PZMSQoBZDLAEEfUkfPaZd410BpYmQYicw15qwvYRSrzLxOn9/IksLLZlBNp89inpl2grt0oMQ1x1QWNg4G6u0b/dbEQc/4Rwdgn6OV2BSF+gSrVNQgMQfgLp7fYlz2vhBhzg5dBq276P7SrHWSBLGsZY7cwdplf164VSRd2mwuF4sIXulDQAw7/w3HrOdMMGhb2IYtCCjgSi76TjDVALn5qlYXSCoiKgevZVgl00sbJnqwKFYLFojtNUuxMnps3aaWOWzgCnYflkAjIinMvk3QbP86xB4fimwd08/cVlu21VOTE2DpZK9sEyTjvpEr0a0tiNdEA+OEKE0RxrQpE8IeB8MP6/43smR03dekcMzG1L0TcP42nbBOtBFtIuP2Ata1hah24xrcSJnI5rU0woV0vn4wvTC7mHpfX7+1KEXI7ydy/+kQ9ObBMzkUbSyxEAFRnDOpZU/MbPlETmO/6y7992szvxiGM5ElqAyuyHBnNAjPq+HcoaRYvHoppvwd8RuJzvSZh0Oflmbc2g72MJpLftmO8YFn4qULwBySErxMpEExA9c8IfNFoFrFKMlm6XiWFJ2yxv9Fz/zHTnyZCkhKOwCHA/kYExSWwoOlh/PVtWBEK8LOG7cSxeQ50u4KdVS3dfylkUDgCXGJVLJryXHNNCAp3eJbAzZ0uzdyYdZAZfO5QqQEQckwrRVV4HPsHBFCBsJCMUpU+7LXdU7SvInaZNDZnx2IUGQvfFFh0UAi+Mv41bS3Me6Rz1QaxXKAu7RDD/MOnzkWUtSFwu+qg//2APw6JWvFQJCPwXIa60j+JuNZQ3bMiUMBB529xpnh76thCQ8SlvhOCMMTdZlKx+E5pUW2K7555F859Ia5lTN14Wp1on3+HDiMaB2KoKwEWdXmyfr8CnjmF/UrW2qXHPiAusVxsIi55/FCpZZOOVnscZ8f22uroVQ3IqRFRXIXbGe/c5i9PlGSBTNY0skUn0ENwxD7Itho4GiB99k90bUvrmF5s1TNEIMrBFVf/zGSyIClJaj7OIycU0WA2MFszRgjh4FhD/+kgOLGvXg8PVRB9n7GDIM2XQ6EhMiaU0HhTdRF+PzVawo3DUE5AepFcLNF7X9mN4WuHiuKlV2S0b+HRi/kd7FB/44KeIeiWqRCF0ljYPjB9TfSfhsanZdqLTH/eazaMXsZZMWoc6NmsT3PRpmPAgY3QU1gjtqxBqxYNxclZ7Jk4iNQlpu0jjCBDwArF2wWFRj6T5o/Us+gIfATllPBKovYrE6l6P2cIa/GJv0Aukm21iyJOCLlNboBDThLDn5a6UnVZmaeLE2HyNGzCJMlCPNo7iJANRJE1niunbJB1jJOjiCN2OsQ7zLCl9gMKTPFvp+L4MM6w9YsMoXXbb2dMq1G9aQ0+rplG7UWQFun1brutp22RqBtm8Nff7dGAaScPAenmqQgBiGvfpE5GFD2vnxeEEiy3NV2MdilmCzvLGS0eOfULbKrLeLJ+uFvKzV33lQiMP3O34VB/5YKmMIMXM1isElyZxiGa/dzq6mZ+u5wbB0GuB9BD+pGi7sq0oA4bMbBanm9YqmP9ZI8s6EhqFgC08IztMauRYpAIgYWPjJOaMXulI7xYegMCbvyXByizjdlrTxiWwevMZclM05uYnb8tGLFXF3eZXzx8LTKg9jvol5Wh+G0Lqmom5/Sc66vlCCtm8uFTo5YlHrPz816gHDR3XEMZZ2j1Y9QKqrrLHHkOf52Y8sDk54o6gcEDPMysOnT3Zb0jrprjfumaLZ6X180lzTtzLravtlguIkyxox4dM36srpQfq4igdwzIRbkbFCwGkRagAgKT+YGtkyb0KO3OwnyhLrd87zVa5TCfjs8+k+9PcjFrWvwUgaAvRBH16o2PrDgDwjAfGoehpHmLYhkh9kYcKRtgl0pJdR1M7w02VZvazPZFdpO1LlnZGAWyRinmYegU/Yadp8K4dWod53gOeJUx9cvaA9knpaM/tNUlUvCiAiH4SU3XDkL0dB6RBsWBT3SPJjWck1jjqrW90Mp8rSsEiIhKkpdWsb/8yrOXL5UWGWhdTpf/CEWVcPj+WMFi/nfDeflrZy0xGOSaVn0bkt3VZFF64joCHxcWvkX4HOiVTx9U0OPK3NQuMw/uEdVRSOiwBUiBKqZhypSevOgMXn0PJlPAbCl7sXG+ZHUAv7TW8B8E4ato3BJ6rzdbhRcowqGScmgD9rbKA6G5+d1Ux+MEH6Ygs4lFL94Qn4GBG36P5TrZQI/7MPw98V6t+1k8CLYL5d8OYOOu/tTiomOg75nhRW7nUzgm7Rsl0BcfH644lc9UXRsfMz3Rqr/OqreBDUNnwXZFBhs2exRLwlYn08sMoxaI+SSDcAnEtHDdXLQsGyYSaqGxGd5lJMNQvIVGl9Mf2aKLI2zdv0bvotjQ8eDLttpieRCydw7z49ayRRtHWvCLmep0I5wLIvWjztjhbfhnnx4//hrXSaMswEXAGx5rXMOcystd150JnKtQ5D+k1bD1HSUKB+iVRSbHky4I5r7rMKoYDbEZLO1QkMOzS0E7ZiCdB1MXCDwfwIELbZzk84cljyI9AR/tl2adc18GA542i5GPh0GVm3b+uMd63Kk7NYZFaJV3y0pMngVjHFEAvLlBzMcm2GMsuOb3fyXNgxXFbwEEQuDx2q5mwA56DC86icYSgTGT2X580ipNAnM3Z+CbrWWwzFRgmCua0MLXKjQG+mTTNUQz0/UE9uEDUbHTf9chOIJwrS96g8DwJNgHOJnYyGDODEk8lvYOT2ikmjPQS8+YXG3PyjORCzuHAVhWkZc+JFlwRfxJKDpZZHstiLLhO5KHZoGlqpn4RBsWlYrOzC3VT2eUKhkw4A6sTMM3sbRrfFJRCFk82pKAs0uINggUpAY/WYqrN9RAVvmClY/I4H5UzYYV7oxGrY8L/ld7Z5+jRXnzzCv7lyg+0HB4mSTDD/xu61ov3ZG1edXG02Q4vrHIdtbyoVEeDypUfz28Iqgz/sZPZzIuEuaUKSuPwMrPTyutdyek7HzyJ52ncot4k4qNd+ELrSQkXUZEbMxdZxYh+EN8y1ypKQc4zh85UwXOQ2EifpN5JDX+pG7c45Yx8fWj4jdcYfVRdaHMNDvcCvrmcPdurU8ORfjkLAVAtFvzaCIulHnvX8eHZ5F+4BitYHX+N2G7GjzaL8q/QkbhjPokDNP1S4eTJ4nN7LjQu9Ne+jP2QPWX5tFiHUlHTPxLIvsqcrY0Nc/EycUVmJSDPCI53wBzr2xu8rGP3sfRmXZzNmnUUruIa+0Mr6kTUjTSY4BcrfpaJSAASbiEDvYwG3vpW051xfU1QZqPoZKGiinJXKYbeDPy16cCaGxhRDddeDFA/KSNxeBEihXPEmRjzP3JlTSv1egdOqhdpiLY5xNHyEHX7PsIT1e33HAYbupv3n+eCG9hJnbjblyd5dfK4teVMluDCqJN1IsyAc8fA1XARyniMg1vl8qp9+0ORjcQsj+M5UWTlDGK8ZC03UW9EEySEg07Oz6MjUDnTkngS3gqY9hsUcLDj23yGUDX8lQ/k4U+m8PwAzacMh+JoVV/QLlhOMYvOwaz2C6cBL6PaouBT6a6qJZ5rPVSSlChShhB6hnnjpXJPEIau6KI9/7QRhHPrqSnFM3T4mO8XwyhKQuI3rzdNw3cllUwK93EFZTbHo9UYw24eHalZ4pZgibHVLNPI85aUgZpRQyJoFnKrvVrJEeNTAPrqls7tMaBL69NN8NAmNmAyB1hWMm3/iySnkwajb4pNDxTYO7gEroeRmx0sX+2Uw44j29By+GThTXW46fzZxgzuu+g/jEsexLngL9TDlku2YXQMyrxAui+60ePf9P21GS2QjXg8r6mfIc/oC8J4k7Ck8b6igthcLMXSCwb7rmCFnOwGv1tnCeWdc8Znx1uu7fEIl/RwWczrz4Q2MnDJE/4RTLPAytE/DhPFPb3Ju3kyCG+gkGL5H1UGX0C7W/UL0jxTPLuW5jpFHMBBI31fBd7RuBtYgJH4mUS0RCw9SMb7To247zbhbQfISepB4AVgQIq4lLtfZT0VCnDYtaUmBs2WqhNy2AsOmcjw6sllRMQy+LpgxDzPt8t0HlrcTBLhBO7Zrzzk5KOCoeS4FrukUAAA5iSURBVLI33aDWpzCWcHLFPgHiXGv6OrRx/YJsIQnDaiT7HiuWjOlCX+EPccRrRGJujzsCS1Q+KW2Wau6cK/MWmCJq1WgAtdwZbHqn5FEMgxuY9Ps/r/uCvMd/M3rbpU9D5jtdE+LytcdovXPbOKt6Ipvq4sRhfKm59UMCMO7+0vdCLjBeKQWCIMxhpwUWjeRRL8hqdoV1aO4+jGuQWK73T5Edph8TZK6IYd+EYRbV77dnymBNxe9MnhMG9tZimJYSSLDWpuq88oXLG3c2T1aQtfckkMGqiT/qmQGyAr4WhKvAGM1OFUeyd2c+RyzpXP/oda0JoIKdRc0MG742FXbSMAy3PCbJ+lx2CCVrvSXDvSxOp3pATs2RVEN0UQb7ZxM3LTAF78dVvH2KgawAfdfoWtKULULvPv9FzVGzGXuumOZ8ZGIIbHpzLT6uae2kfGZQB99VXHP/uPaos8pPJwmOe243cSRj/ir3NH9cBbzBOZX8so/B97lHwcYnxcywcWakT04X+TlcPLjRfrArv2ZBHjY4bqZI7GAUrq6k/xBTAImbJDEtX2w9Xy9W219RHFB3skjiHw4UPivNuyXR+AnONHocK7jmCdSQopHGF4gl4NTLn1ShTrbXVkrJYJuiwNNmhWpSMzZSVYqqTQMThv0euaJYKu5USIaybqx/4njKvGniHwvtyfMKjXs2yUPItDtwMwy7qpQ8bTQoMhQIIXjriJK20hiUnZh5pI1boJyfLOtR43QkqlkNmq5TfBLN9l4h28UwACF27zbCkAntVw7AJejx4p49gwTnmoWWS8ULuvxhFbB3nXrBTs8Jb0MOt+DqFn8WwxNnmWadW2TdusYZlKbdIxKc3Yo794ae8y7jGePBPKd/W6FWiuxGwUOCucaGLnB7t2bgtQhh5NzUkg+QpSk+rVGbTjsg4TiCEaUk4UvMg9xW/L6udGamzT54hdZkdQK76d1LAYxypSbH9pQner8rDADfLA7QR+RQBMsNy0eq68AsXaNfDRAgRW5v3BEmnzN9N+smSdUPyGTeeA0169lmT+fSE5KKRG7L5CU1998uwaUOb0DqxBIiFFU51OANhuJxjpklXM00irSX7qggHYokJycfRZFaLzVJa7fo908MwOnNSoAjTStYbAZ7gJBpuuSPrgdg9aif2woYB2UphsZxDGYxJmPOqjiZN70HQV6E5fprKcbyVqEXdQyOHBrf5lUIGs80ur1I56No6gGiIB9eZNE0gxVcCqOmh/sqldtDyfJMJ2l6VGzuozs8MCx6MgVYYr61Cb2SEYEV7mOIvdOnHRzz/uNOP28HozUrniZBAZtiu4MzO0Hiv0L41XxXzJUwbxquCUB9Sg0VqK7o3LcuKEhspkM63z0Lei537M3jmOdB8kVK1nWblu5Rt/5cDXOlrQIOpjkvOZAMva6BxMKFKrFNMxwHaMbHw/2/XBBwmH8eYGv+5lfaTzEeKUm1v0Ac/+kBmPPMg8Vx1Fjruv28GNK1jy3V4MbMilEm36J1L1bdALyEb8tnppcrsHgqkH9ZnUVc7ennL6JHHHmYNppfGS+Q8syR3aAoX8XglLwNq7G3WqyZNKLolUEN4gmNKoPVZV1z5K9P9B3BjkmdpIfkw9MOxR857i81teG2jvKU7hw1FFRAZe7IodCyQcbpfdCOGM8p8lIWZ5Yie9bRF1HYlZL2Z2NvuPrWatJQS90STslRNerp0Zy45RkPIE/hUKs1wEGIJSS2OuryFryE76Rcp5ORvsxEqdZjWOhMhsHSENdQd3xU2kfBnjwcMWSqtPcVki4nGC12TpBhd4BZ6mBZvuNjyK+HQLPES41SP1qaDBg5lfLK3CgDSxVNYM08nsRpf2YFrOZs5u2Eo9bzWKsdG6lOQMiCoKrbRKkeCqAVo3tjGEq1ejQzGuR0/dxBJbJRfq9DoCdtXuvn+YlYA4uzn00I+FIxWK4/wC8WxB8SuRl6o16bbheoi8sld0pLjiFJHHhKwVFzPHsqnuWsetLG+01ElySeGeNnihWDZv8GuVes9ZNt0KZLUqzVLbpaPkJfddmX7CB9IutrFF7rWwRvtRp2+8W0gstMKhyY4hQ7tG6ge1g/wXjNienCVV8mfO2X3YOGXWkFNUxIDBoXLKUXjfgq8vakNk3kTKHCsOImxhEodquLWghENrocYiaYuD+jtl0KpT6kKNiSyU3TCR5h+MZR2E6EUWnjN7XvRV0X7ryd0JNnQP3zJSsAXP1OmBzFHxCADZ1SNunCa+o4h53KVsBu7zsn3+/nD2/g5XcJlFJkep4X5zfDoOLt6crlsya7oXwx9hyZR+4/By4eYKTFmdK2I02qFD8h/oJnD1Wa78D6Y/eSOhDKWnO6udgMiPp12gyfERB33SlF0Dv6hfQHVVX6Sz/pfHKkvstyQQNyzxOSah5+K6zA0E66xrZdPkw8vSbur8zmjmSX0So13nx4xx6QXn975fituxsRkEuJsnxa42PLa0ex+d3st3IccYd72J2FLDAr4H1c1Dce8KxqevALv/jzAvDuVvEkK4YL6crjEakbbKqrpFIBP9sjR5EqilzJTDBU7imbYNYCx9GRqsCA2OD5V3Oo8A2qKWIWpZZ72vFXHHNHx06zQXFKWUIqvEVxYgq+6s5UU5a/9ETcOP1q/HAz1x2myI+fk/ilE8J/+Zjdvy+/udruh7nQMvzS588TB5uz8hhdNgJV2F7bDR7G7dlQ2kYLuuXpE+LXPcYNRFqGxvKK4dotDIyE2Gfk+OUv+6/YS/6NFqZleMxEcZGt4pdvuSkof+1M8Sv3Ac986SSpqZzFFo/xExOXHaz9VzxpMi4/TXMHweLr/Nrz+q98I6mvrRRZBS5Oz6dr/ZbZk8bGP1afvxJRr5+I5EYzEJ/FO8KrSYDTZ0sSTOLbQ4W/IAlzX+d4wPSx5P58b69/NiGANLPRfeTkTaqpq+IQqs13o2Ot9wyPW0w0pzd/Wu/BkqOjcN+R32dm7tKxftlz1BjTGfX/geeX/ZkVMDPMgYc8MmKKanJKD+Bd/MwmBqvRhAO0MVc9uD/sEHwzPaeFPja/dr//qztwcyzrX8uReJGNmqkT5imCVK38m1uWXn97oi7wqezRVBqu14D/Woni5T2Knx9msA6bx4F3tdeXd2T3oO3xm/TRm+w5EASVIHOjaZ8RpykrdgB+m3R+V2/TAUxpQ/OEh1dzbPtfc94mXqjjIcyOt2qfzMt78I3JM3Izh3yDFZ++41/gf44vi6xupxkN+s7B/glrSMShAL3Z4KsyrG9/5uKT4KYUu3DQ3+coQESTfjUMn8v9X3gMvv38v/DZeFcKb17neBPr4uNLb54N2FG+/vzxre/AX/wVd0R+4bTw++t/fOTT639xHX55h86X8l+9L48QwS95m5tDeHV58fVb/1Vn41uP+mv+5+ZlEQCA45THb1YCHonk37ztBEDa2tra2tp+mv3t8ZFkX+W2tra2trbfbK++BG1tbW1tbR2A29ra2traOgC3tbW1tbW1dQBua2tra2vrANzW1tbW1tbWAbitra2tra0DcFtbW1tbW1sH4La2tra2tg7AbW1tbW1tbR2A29ra2traOgC3tbW1tbV1AG5ra2tra2vrANzW1tbW1tYBuK2tra2tra0DcFtbW1tbWwfgtra2tra2tg7AbW1tbW1tHYDb2tra2traOgC3tbW1tbV1AG5ra2tra+sA3NbW1tbW1tYBuK2tra2trQNwW1tbW1tbWwfgtra2tra2DsBtbW1tbW1tHYDb2tra2to6ALe1tbW1tbV1AG5ra2tra+sA3NbW1tbW1gG4ra2tra2trQNwW1tbW1tbB+C2tra2tra2DsBtbW1tbW0dgNva2tra2to6ALe1tbW1tXUAbmtra2tra+sA3NbW1tbW1gG4ra2tra2tA3BbW1tbW1tbB+C2tra2trYOwG1tbW1tbW0dgNva2tra2joAt7W1tbW1tXUAbmtra2tr6wDc1tbW1tbW1gG4ra2tra2tA3BbW1tbW1sH4La2tra2trYOwG1tbW1tbR2A29ra2tra2joAt7W1tbW1dQBua2tra2tr6wDc1tbW1tbWAbitra2tra2tA3BbW1tbW1sH4La2tra2tg7AbW1tbW1tbR2A29ra2traOgC3tbW1tbW1dQBua2tra2vrANzW1tbW1tbWAbitra2tra0DcFtbW1tbW1sH4La2tra2tg7AbW1tbW1tHYDb2tra2traOgC3tbW1tbV1AG5ra2tra2v7i+2/f/SnB9C3sK2tre0/00h2AP532v/6P/9XRAAR4fjDJzZz/OG5UxCR9a/h54Wffx0/Vvz8+Mv859e/iqD+eRFB/fMiAoFw/KH4eaH61/DzwpWcoP55fX3iz++vp750FDxXgOC8GoSIkJDn7UCK+rP7GVGv8PzMeOXPn9NX/vzZvfLz89krPz9vX/nHf371r+ZvPvcx/qT9e/Opsr+f38X/ZPj79S2Kv4+f8+d/fpl3bf3P51aqp3X9pLjfVTd9/fx44C5fkOp3b16Q9sMoD5a9YPh26wWXw9l9u+MLum93fEGKyOt//7+fHr8agm5ra2tra+sA3NbW1tbW1gG4ra2tra2trQNwW1tbW1tbB+C2tra2tra2DsBtbW1tbW0dgNva2tra2to6ALe1tbW1tf3zDD+aSaSZsNra2tr+Y62ZsPoGtLW1tbV1Afa1NQTd1tbW1tbWAbitra2tra0DcFtbW1tbW9vfZOgealtbW1tbW1fAX6YPQA9Ct7W1tf2HVpA/3P+/fvSlJ0myY3BbW1tbR98OwG1tbW1tbX+7/QH90w7AbW1tbW1tHYDb2tra2to6ALe1tbW1tbX9TfaDqSjn+FVvUrW1tbW1/TjrPeC2tra2trZ/gzUE3dbW1tbW1gG4ra2tra3tP8P+P667u4w6zIozAAAAAElFTkSuQmCC'>"
      ],
      "text/plain": [
       "<IPython.core.display.HTML object>"
      ]
     },
     "execution_count": 313,
     "metadata": {},
     "output_type": "execute_result"
    }
   ],
   "source": [
    "\n",
    "#fig3 = glucifer.Figure()\n",
    "#velmagfield = uw.function.math.sqrt( uw.function.math.dot(velocityField,velocityField) )\n",
    "#fig3 + glucifer.objects.VectorArrows( elementMesh, velocityField, arrowHead=0.3, scaling=0.05, glyphs=3, )\n",
    "#fig3 + glucifer.objects.Points(gSwarm,materialVariable, colours='brown white blue red')\n",
    "#fig3 + glucifer.objects.Surface(elementMesh, temperatureField)\n",
    "#fig3 + glucifer.objects.Mesh(linearMesh)\n",
    "#fig3.show()\n",
    "#fig3.save_database('test.gldb')\n",
    " "
   ]
  },
  {
   "cell_type": "code",
   "execution_count": null,
   "metadata": {
    "collapsed": false
   },
   "outputs": [],
   "source": [
    "machine_time = (time.clock()-start)\n",
    "print(\"total time is: \" + str(machine_time))"
   ]
  },
  {
   "cell_type": "code",
   "execution_count": null,
   "metadata": {
    "collapsed": false
   },
   "outputs": [],
   "source": [
    "#print(\"velocity max on horizontal bounds is: \" + str(velocityField[0].evaluate(IWalls).max()))\n"
   ]
  },
  {
   "cell_type": "code",
   "execution_count": null,
   "metadata": {
    "collapsed": false
   },
   "outputs": [],
   "source": [
    "#velocityField[0].evaluate(IWalls)"
   ]
  }
 ],
 "metadata": {
  "kernelspec": {
   "display_name": "Python 2",
   "language": "python",
   "name": "python2"
  },
  "language_info": {
   "codemirror_mode": {
    "name": "ipython",
    "version": 2
   },
   "file_extension": ".py",
   "mimetype": "text/x-python",
   "name": "python",
   "nbconvert_exporter": "python",
   "pygments_lexer": "ipython2",
   "version": "2.7.10"
  }
 },
 "nbformat": 4,
 "nbformat_minor": 0
}
