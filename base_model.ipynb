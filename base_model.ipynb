{
 "cells": [
  {
   "cell_type": "markdown",
   "metadata": {
    "collapsed": true
   },
   "source": [
    "\n",
    "Viscoplastic thermal convection in a 2-D square box\n",
    "=======\n",
    "\n",
    "Benchmarks from Tosi et al. 2015\n",
    "--------\n",
    "\n"
   ]
  },
  {
   "cell_type": "markdown",
   "metadata": {
    "collapsed": true
   },
   "source": [
    "This notebook generates models from the <a name=\"ref-1\"/>[(Tosi et al., 2015)](#cite-tosi2015community) in Underworld2. The Underworld2 results are compared to the model run on Fenics. Input files for the Fenics models were provided by Petra Maierova.\n",
    "\n",
    "This example uses the RT PIC solver with classic and nearest neighbour\n",
    "\n",
    "\n",
    "References\n",
    "====\n",
    "\n",
    "<a name=\"cite-tosi2015community\"/><sup>[^](#ref-1) </sup>Tosi, Nicola and Stein, Claudia and Noack, Lena and H&uuml;ttig, Christian and Maierov&aacute;, Petra and Samuel, Henri and Davies, DR and Wilson, CR and Kramer, SC and Thieulot, Cedric and others. 2015. _A community benchmark for viscoplastic thermal convection in a 2-D square box_.\n",
    "\n"
   ]
  },
  {
   "cell_type": "markdown",
   "metadata": {},
   "source": [
    "Load python functions needed for underworld. Some additional python functions from os, math and numpy used later on."
   ]
  },
  {
   "cell_type": "code",
   "execution_count": 1,
   "metadata": {
    "collapsed": false
   },
   "outputs": [],
   "source": [
    "#!pip install natsort\n",
    "#!pip install networkx"
   ]
  },
  {
   "cell_type": "code",
   "execution_count": 2,
   "metadata": {
    "collapsed": false
   },
   "outputs": [],
   "source": [
    "import networkx as nx\n",
    "import underworld as uw\n",
    "import math\n",
    "from underworld import function as fn\n",
    "import glucifer\n",
    "#import matplotlib.pyplot as pyplot\n",
    "import time\n",
    "import numpy as np\n",
    "import os\n",
    "import sys\n",
    "import natsort\n",
    "import shutil\n",
    "from easydict import EasyDict as edict\n",
    "import slippy2 as sp\n",
    "\n",
    "\n",
    "\n",
    "from mpi4py import MPI\n",
    "comm = MPI.COMM_WORLD\n",
    "rank = comm.Get_rank()"
   ]
  },
  {
   "cell_type": "code",
   "execution_count": 3,
   "metadata": {
    "collapsed": false
   },
   "outputs": [
    {
     "name": "stdout",
     "output_type": "stream",
     "text": [
      "/Users/dansandiford/Documents/programming/earthsci_code/python/vueesc\r\n",
      "\u001b[1m\u001b[34mA\u001b[m\u001b[m                analysis.ipynb   \u001b[1m\u001b[34mmagnus_scripts\u001b[m\u001b[m   \u001b[1m\u001b[34mtemp_ics\u001b[m\u001b[m\r\n",
      "R0.py            base_model.ipynb \u001b[1m\u001b[34mmetrics_test\u001b[m\u001b[m     test.gldb\r\n",
      "R1.py            base_model.py    \u001b[1m\u001b[34mmodels\u001b[m\u001b[m\r\n",
      "README.md        \u001b[1m\u001b[34mcrust_resolution\u001b[m\u001b[m \u001b[1m\u001b[34mresults\u001b[m\u001b[m\r\n",
      "\u001b[1m\u001b[34mT\u001b[m\u001b[m                \u001b[1m\u001b[34mhpc_scripts\u001b[m\u001b[m      \u001b[1m\u001b[34mspeedtest\u001b[m\u001b[m\r\n"
     ]
    }
   ],
   "source": [
    "#Display working directory info if in nb mode\n",
    "if (len(sys.argv) > 1):\n",
    "    if (sys.argv[1] == '-f'):\n",
    "        !pwd && ls"
   ]
  },
  {
   "cell_type": "code",
   "execution_count": 4,
   "metadata": {
    "collapsed": false
   },
   "outputs": [],
   "source": [
    "############\n",
    "#Model name.  \n",
    "############\n",
    "Model = \"R\"\n",
    "ModNum = 0\n",
    "\n",
    "if len(sys.argv) == 1:\n",
    "    ModIt = \"Base\"\n",
    "elif sys.argv[1] == '-f':\n",
    "    ModIt = \"Base\"\n",
    "else:\n",
    "    ModIt = str(sys.argv[1])\n"
   ]
  },
  {
   "cell_type": "code",
   "execution_count": 5,
   "metadata": {
    "collapsed": true
   },
   "outputs": [],
   "source": [
    "###########\n",
    "#Standard output directory setup\n",
    "###########\n",
    "\n",
    "\n",
    "outputPath = \"results\" + \"/\" +  str(Model) + \"/\" + str(ModNum) + \"/\" + str(ModIt) + \"/\"\n",
    "imagePath = outputPath + 'images/'\n",
    "filePath = outputPath + 'files/'\n",
    "checkpointPath = outputPath + 'checkpoint/'\n",
    "dbPath = outputPath + 'gldbs/'\n",
    "outputFile = 'results_model' + Model + '_' + str(ModNum) + '_' + str(ModIt) + '.dat'\n",
    "\n",
    "if uw.rank()==0:\n",
    "    # make directories if they don't exist\n",
    "    if not os.path.isdir(outputPath):\n",
    "        os.makedirs(outputPath)\n",
    "    if not os.path.isdir(checkpointPath):\n",
    "        os.makedirs(checkpointPath)\n",
    "    if not os.path.isdir(imagePath):\n",
    "        os.makedirs(imagePath)\n",
    "    if not os.path.isdir(dbPath):\n",
    "        os.makedirs(dbPath)\n",
    "    if not os.path.isdir(filePath):\n",
    "        os.makedirs(filePath)\n",
    "        \n",
    "comm.Barrier() #Barrier here so not procs run the check in the next cell too early "
   ]
  },
  {
   "cell_type": "code",
   "execution_count": 6,
   "metadata": {
    "collapsed": false
   },
   "outputs": [
    {
     "name": "stdout",
     "output_type": "stream",
     "text": [
      "results/R/1/Base/checkpoint/ is empty\n",
      "results/R/1/Base/checkpoint/100 has files\n",
      "results/R/1/Base/checkpoint/120 has files\n",
      "results/R/1/Base/checkpoint/140 has files\n",
      "results/R/1/Base/checkpoint/160 has files\n",
      "results/R/1/Base/checkpoint/180 has files\n",
      "results/R/1/Base/checkpoint/20 has files\n",
      "results/R/1/Base/checkpoint/200 has files\n",
      "results/R/1/Base/checkpoint/220 has files\n",
      "results/R/1/Base/checkpoint/240 has files\n",
      "results/R/1/Base/checkpoint/260 has files\n",
      "results/R/1/Base/checkpoint/280 has files\n",
      "results/R/1/Base/checkpoint/300 has files\n",
      "results/R/1/Base/checkpoint/320 has files\n",
      "results/R/1/Base/checkpoint/340 has files\n",
      "results/R/1/Base/checkpoint/40 has files\n",
      "results/R/1/Base/checkpoint/60 has files\n",
      "results/R/1/Base/checkpoint/80 has files\n"
     ]
    }
   ],
   "source": [
    "###########\n",
    "#Check if starting from checkpoint\n",
    "###########\n",
    "\n",
    "checkdirs = []\n",
    "for dirpath, dirnames, files in os.walk(checkpointPath):\n",
    "    if files:\n",
    "        print dirpath, 'has files'\n",
    "        checkpointLoad = True\n",
    "        checkdirs.append(dirpath)\n",
    "    if not files:\n",
    "        print dirpath, 'is empty'\n",
    "        checkpointLoad = False\n",
    "        \n",
    "\n",
    "        "
   ]
  },
  {
   "cell_type": "markdown",
   "metadata": {},
   "source": [
    "Set physical constants and parameters, including the Rayleigh number (*RA*). "
   ]
  },
  {
   "cell_type": "code",
   "execution_count": 7,
   "metadata": {
    "collapsed": false
   },
   "outputs": [],
   "source": [
    "###########\n",
    "#Physical parameters\n",
    "###########\n",
    "\n",
    "#The Slippy rheology class will contain dimensional and nondimensional values, linked in a self-consistent way by scaling paramters\n",
    "#lowermantle.nondimensional['cohesion']\n",
    "#Where lowermantle is a material class (generated within a rheology class); and non dimensional is a dictionary\n",
    "\n",
    "#UW naming conventions: \n",
    "#module_name, package_name, ClassName, function_name, method_name, \n",
    "#ExceptionName, propertyName GLOBAL_CONSTANT_NAME, globalVarName, instanceVarName, functionParameterName, localVarName\n",
    "###########\n",
    "\n",
    "\n",
    "newvisc= math.exp(math.log(1e5)*0.53) #A factor that appears because I rescale the reference viscosity, compared to the one used in Tosi et al.\n",
    "#Where 1e5 = ETAT, and 0.53 is the steady state average temp of the system \n",
    "\n",
    "#dimensional parameter dictionary\n",
    "dp = edict({'LS':2890.*1e3,\n",
    "           'rho':3300,\n",
    "           'g':9.81, \n",
    "           'kappa':10**-6,\n",
    "           'alpha':1.25*10**-5, \n",
    "           'deltaT':2500,\n",
    "           'StALS': 150e3})\n",
    "\n",
    "#non-dimensional parameter dictionary\n",
    "ndp = edict({'RA':1e2*newvisc, \n",
    "              'LS':1., \n",
    "              'etaT':1e5, \n",
    "              'etaY':10., \n",
    "              'eta0':1e-3*newvisc,\n",
    "              'StAeta0':1e-2,\n",
    "              'TS':0.,\n",
    "              'TB':1., \n",
    "              'cohesion':1.*newvisc}) #4.6 is the transistion from periodic to stagnant lid.\n",
    "\n",
    "\n",
    "#dimsional values used in this model\n",
    "D = dp.LS\n",
    "g = dp.g\n",
    "rho = dp.rho\n",
    "a = dp.alpha\n",
    "kappa = dp.kappa\n",
    "dT = dp.deltaT\n",
    "\n",
    "#nondimensional values used in this model\n",
    "#RA  = nondim.RA      # Rayleigh number\n",
    "#TS  = nondim.TS          # surface temperature\n",
    "#TB  = nondim.TB           # bottom boundary temperature (melting point)\n",
    "#ETA_T = nondim.etaT\n",
    "#ETA_Y = nondim.etaY\n",
    "#ETA0 = nondim.eta0\n",
    "#YSTRESS = nondim.cohesion\n",
    "\n",
    "#A few paramters defining lengths scales, affects materal transistions etc.\n",
    "MANTLETOCRUST = (18.*1e3)/D #Crust depth\n",
    "CRUSTTOMANTLE = (300.*1e3)/D\n",
    "LITHTOMANTLE = (660.*1e3)/D\n",
    "MANTLETOLITH = (200.*1e3)/D\n",
    "TOPOHEIGHT = (10.*1e3)/D #rock-air topography limits\n",
    "AVGTEMP = 0.53 #Used to define lithosphere\n",
    "\n",
    "\n",
    "\n",
    "#Compositional Rayliegh number of rock-air\n",
    "ETAREF = rho*g*a*dT*((D*1e3)**3)/(ndp.RA*kappa) #equivalent dimesnional reference viscosity\n",
    "RC = (3300*g*(D*1000)**3)/(ETAREF *kappa) #Composisitional Rayleigh number for rock-air buoyancy force\n",
    "COMP_RA_FACT = RC/ndp.RA\n",
    "\n",
    "\n",
    "#Additional dimensionless paramters\n",
    "AIRVISCOSITY = 0.001\n",
    "AIRDENSITY = ndp.RA*COMP_RA_FACT\n",
    "\n",
    "ndp[\"StA\"] = ndp.RA*COMP_RA_FACT\n",
    "\n"
   ]
  },
  {
   "cell_type": "code",
   "execution_count": 8,
   "metadata": {
    "collapsed": false
   },
   "outputs": [
    {
     "data": {
      "text/plain": [
       "44668.35921509633"
      ]
     },
     "execution_count": 8,
     "metadata": {},
     "output_type": "execute_result"
    }
   ],
   "source": [
    "ndp.RA"
   ]
  },
  {
   "cell_type": "code",
   "execution_count": 9,
   "metadata": {
    "collapsed": false
   },
   "outputs": [],
   "source": [
    "###########\n",
    "#Model setup parameters\n",
    "###########\n",
    "\n",
    "stickyAir = True\n",
    "\n",
    "MINX = -1.\n",
    "MINY = 0.\n",
    "MAXX = 1.0\n",
    "\n",
    "#MAXY = 1.035\n",
    "MAXY = 1.\n",
    "\n",
    "if MINX == 0.:\n",
    "    squareModel = True\n",
    "else: \n",
    "    squareModel = False\n",
    "    \n",
    "    \n",
    "dim = 2          # number of spatial dimensions\n",
    "\n",
    "\n",
    "#MESH STUFF\n",
    "\n",
    "RES = 96\n",
    "\n",
    "\n",
    "if MINX == 0.:\n",
    "    Xres = RES\n",
    "else:\n",
    "    Xres = 2*RES\n",
    "\n",
    "if stickyAir:\n",
    "    Yres = RES\n",
    "    MAXY = 1. + dp.StALS/dp.LS #150km\n",
    "    \n",
    "else:\n",
    "    Yres = RES\n",
    "    MAXY = 1.\n",
    "\n",
    "\n",
    "periodic = [True, False]\n",
    "elementType = \"Q1/dQ0\"\n",
    "#elementType =\"Q2/DPC1\"\n",
    "\n",
    "refineMesh = True\n",
    "\n",
    "\n",
    "#System/Solver stuff\n",
    "\n",
    "PIC_integration=True\n",
    "ppc = 25"
   ]
  },
  {
   "cell_type": "code",
   "execution_count": 10,
   "metadata": {
    "collapsed": false
   },
   "outputs": [],
   "source": [
    "###########\n",
    "#Model Runtime parameters\n",
    "###########\n",
    "\n",
    "swarm_update = 10\n",
    "swarm_repop = 10\n",
    "files_output = 1e6\n",
    "gldbs_output = 10\n",
    "images_output = 1e6\n",
    "checkpoint_every = 20\n",
    "metric_output = 10\n",
    "sticky_air_temp = 1e6\n",
    "\n",
    "comm.Barrier() #Barrier here so not procs run the check in the next cell too early \n",
    "\n",
    "#assert metric_output <= checkpoint_every, 'Checkpointing should run less or as ofen as metric output'\n",
    "#assert (metric_output >= swarm_update), 'Swarm update is needed before checkpointing'\n",
    "#assert metric_output >= sticky_air_temp, 'Sticky air temp should be updated more frequently that metrics'\n"
   ]
  },
  {
   "cell_type": "code",
   "execution_count": 11,
   "metadata": {
    "collapsed": false
   },
   "outputs": [],
   "source": [
    "###########\n",
    "#Model output parameters\n",
    "###########\n",
    "\n",
    "#Do you want to write hdf5 files - Temp, RMS, viscosity, stress?\n",
    "writeFiles = True\n",
    "loadTemp = True\n",
    "\n",
    "    "
   ]
  },
  {
   "cell_type": "code",
   "execution_count": 12,
   "metadata": {
    "collapsed": false
   },
   "outputs": [],
   "source": [
    "mesh = uw.mesh.FeMesh_Cartesian( elementType = elementType,\n",
    "                                 elementRes  = (Xres, Yres), \n",
    "                                 minCoord    = (MINX,MINY), \n",
    "                                 maxCoord=(MAXX,MAXY), periodic=periodic)\n",
    "\n",
    "\n",
    "\n",
    "velocityField       = uw.mesh.MeshVariable( mesh=mesh,         nodeDofCount=dim )\n",
    "pressureField       = uw.mesh.MeshVariable( mesh=mesh.subMesh, nodeDofCount=1 )\n",
    "temperatureField    = uw.mesh.MeshVariable( mesh=mesh,         nodeDofCount=1 )\n",
    "temperatureDotField = uw.mesh.MeshVariable( mesh=mesh,         nodeDofCount=1 )"
   ]
  },
  {
   "cell_type": "code",
   "execution_count": 13,
   "metadata": {
    "collapsed": false
   },
   "outputs": [
    {
     "data": {
      "text/plain": [
       "(192, -1.0, [True, False], 'Q1/dQ0')"
      ]
     },
     "execution_count": 13,
     "metadata": {},
     "output_type": "execute_result"
    }
   ],
   "source": [
    "Xres, MINX, periodic, elementType"
   ]
  },
  {
   "cell_type": "markdown",
   "metadata": {},
   "source": [
    "Create Finite Element (FE) variables for the velocity, pressure and temperature fields. The last two of these are scalar fields needing only one value at each mesh point, while the velocity field contains a vector of *dim* dimensions at each mesh point."
   ]
  },
  {
   "cell_type": "markdown",
   "metadata": {},
   "source": [
    "Create some dummy fevariables for doing top and bottom boundary calculations."
   ]
  },
  {
   "cell_type": "markdown",
   "metadata": {},
   "source": [
    "## Refine mesh"
   ]
  },
  {
   "cell_type": "code",
   "execution_count": 14,
   "metadata": {
    "collapsed": false
   },
   "outputs": [
    {
     "name": "stdout",
     "output_type": "stream",
     "text": [
      "Min\n",
      "(192, 0.0052093750000000924, 1.5002000000000015, 0.99960000000002935)\n",
      "('edges', 192)\n",
      "-- iteration 0 --\n",
      "| F( p_n ) |^2: 5.53616016077e-05\n",
      "| p_n+1 - p_n |^2: 1.60109555606\n",
      "-- iteration 1 --\n",
      "| F( p_n ) |^2: 5.94558647957e-31\n",
      "Min, Max element width: \n",
      "0.00521\n",
      "0.01562\n"
     ]
    }
   ],
   "source": [
    "#X-Axis\n",
    "\n",
    "if refineMesh:\n",
    "    mesh.reset()\n",
    "    axis = 0\n",
    "    origcoords = np.linspace(mesh.minCoord[axis], mesh.maxCoord[axis], mesh.elementRes[axis] + 1)\n",
    "    edge_rest_lengths = np.diff(origcoords)\n",
    "\n",
    "    deform_lengths = edge_rest_lengths.copy()\n",
    "    min_point =  (abs(mesh.maxCoord[axis]) - abs(mesh.minCoord[axis]))/2.\n",
    "    el_reduction = 0.5001\n",
    "    dx = mesh.maxCoord[axis] - min_point\n",
    "\n",
    "    deform_lengths = deform_lengths - \\\n",
    "                                    ((1.-el_reduction) *deform_lengths[0]) + \\\n",
    "                                    abs((origcoords[1:] - min_point))*((0.5*deform_lengths[0])/dx)\n",
    "\n",
    "    #print(edge_rest_lengths.shape, deform_lengths.shape)\n",
    "\n",
    "    sp.deform_1d(deform_lengths, mesh,axis = 'x',norm = 'Min', constraints = [])"
   ]
  },
  {
   "cell_type": "code",
   "execution_count": 15,
   "metadata": {
    "collapsed": false
   },
   "outputs": [],
   "source": [
    "axis = 1\n",
    "orgs = np.linspace(mesh.minCoord[axis], mesh.maxCoord[axis], mesh.elementRes[axis] + 1)\n",
    "\n",
    "value_to_constrain = 1.\n",
    "\n",
    "\n",
    "yconst = [(sp.find_closest(orgs, value_to_constrain), np.array([1.,0]))]\n"
   ]
  },
  {
   "cell_type": "code",
   "execution_count": 16,
   "metadata": {
    "collapsed": false
   },
   "outputs": [
    {
     "name": "stdout",
     "output_type": "stream",
     "text": [
      "Min\n",
      "(96, 0.0054797577854670369, 0.78629319492502869, 1.0206484210525981)\n",
      "('edges', 96)\n",
      "-- iteration 0 --\n",
      "| F( p_n ) |^2: 0.000111158433665\n",
      "| p_n+1 - p_n |^2: 0.712674895822\n",
      "-- iteration 1 --\n",
      "| F( p_n ) |^2: 4.61506217681e-05\n",
      "| p_n+1 - p_n |^2: 6.77379509652e-28\n",
      "Min, Max element width: \n",
      "0.00580\n",
      "0.01618\n"
     ]
    }
   ],
   "source": [
    "#Y-Axis\n",
    "if refineMesh:\n",
    "    #Y-Axis\n",
    "    axis = 1\n",
    "    origcoords = np.linspace(mesh.minCoord[axis], mesh.maxCoord[axis], mesh.elementRes[axis] + 1)\n",
    "    edge_rest_lengths = np.diff(origcoords)\n",
    "\n",
    "    deform_lengths = edge_rest_lengths.copy()\n",
    "    min_point =  (mesh.maxCoord[axis])\n",
    "    el_reduction = 0.5001\n",
    "    dx = mesh.maxCoord[axis]\n",
    "\n",
    "    deform_lengths = deform_lengths - \\\n",
    "                                    ((1.-el_reduction)*deform_lengths[0]) + \\\n",
    "                                    abs((origcoords[1:] - min_point))*((0.5*deform_lengths[0])/dx)\n",
    "\n",
    "    #print(edge_rest_lengths.shape, deform_lengths.shape)\n",
    "\n",
    "    sp.deform_1d(deform_lengths, mesh,axis = 'y',norm = 'Min', constraints = [])"
   ]
  },
  {
   "cell_type": "code",
   "execution_count": null,
   "metadata": {
    "collapsed": true
   },
   "outputs": [],
   "source": []
  },
  {
   "cell_type": "markdown",
   "metadata": {},
   "source": [
    "# ICs and BCs"
   ]
  },
  {
   "cell_type": "code",
   "execution_count": 17,
   "metadata": {
    "collapsed": true
   },
   "outputs": [],
   "source": [
    "# Initialise data.. Note that we are also setting boundary conditions here\n",
    "velocityField.data[:] = [0.,0.]\n",
    "pressureField.data[:] = 0.\n",
    "temperatureField.data[:] = 0.\n",
    "temperatureDotField.data[:] = 0.\n"
   ]
  },
  {
   "cell_type": "markdown",
   "metadata": {},
   "source": [
    "## Temp ICs"
   ]
  },
  {
   "cell_type": "code",
   "execution_count": 18,
   "metadata": {
    "collapsed": true
   },
   "outputs": [],
   "source": [
    "\n",
    "# Setup temperature initial condition via numpy arrays\n",
    "A = 0.01\n",
    "#Note that width = height = 1\n",
    "tempNump = temperatureField.data\n",
    "for index, coord in enumerate(mesh.data):\n",
    "    pertCoeff = (1- coord[1]) + A*math.cos( math.pi * abs(1. - coord[0]) ) * math.sin( math.pi * coord[1] )\n",
    "    tempNump[index] = pertCoeff;\n",
    "    if coord[1] > 1:\n",
    "        tempNump[index] = 0."
   ]
  },
  {
   "cell_type": "code",
   "execution_count": 19,
   "metadata": {
    "collapsed": false
   },
   "outputs": [],
   "source": [
    "dummymesh = uw.mesh.FeMesh_Cartesian( elementType = (\"Q1/dQ0\"),\n",
    "                                 elementRes  = (128, 64), \n",
    "                                 minCoord    = (-1.,0.), \n",
    "                                 maxCoord=(1.,1.), periodic=False, partitioned=False)\n",
    "\n",
    "    \n",
    "dummytemperatureField = uw.mesh.MeshVariable(mesh=dummymesh, nodeDofCount=1 )\n",
    "\n",
    "dummytemperatureField.load(\"crust_resolution/8100/temperatureField.hdf5\")"
   ]
  },
  {
   "cell_type": "code",
   "execution_count": 20,
   "metadata": {
    "collapsed": false
   },
   "outputs": [
    {
     "data": {
      "text/plain": [
       "True"
      ]
     },
     "execution_count": 20,
     "metadata": {},
     "output_type": "execute_result"
    }
   ],
   "source": [
    "checkpointLoad"
   ]
  },
  {
   "cell_type": "code",
   "execution_count": 21,
   "metadata": {
    "collapsed": true
   },
   "outputs": [],
   "source": [
    "if not checkpointLoad:\n",
    "    temperatureDotField.data[:] = 0.\n",
    "    for index, coord in enumerate(mesh.data):\n",
    "        if coord[1] > 1.:\n",
    "            temperatureField.data[index] = 0.\n",
    "        #Don't know mesh partitions in ad vance, and possible diferent between 'real' and 'dummy' mesh\n",
    "        else:\n",
    "            temperatureField.data[index] = dummytemperatureField.evaluate([coord[0], coord[1]])"
   ]
  },
  {
   "cell_type": "code",
   "execution_count": 22,
   "metadata": {
    "collapsed": false
   },
   "outputs": [],
   "source": [
    "#figTemp = glucifer.Figure()\n",
    "#figTemp.append( glucifer.objects.Surface(mesh, temperatureField))\n",
    "#figTemp.append( glucifer.objects.Mesh(mesh))\n",
    "#figTemp.save_database('test.gldb')\n",
    "#figTemp.show()"
   ]
  },
  {
   "cell_type": "markdown",
   "metadata": {
    "collapsed": true
   },
   "source": []
  },
  {
   "cell_type": "code",
   "execution_count": 23,
   "metadata": {
    "collapsed": false
   },
   "outputs": [],
   "source": [
    "# Get the actual sets \n",
    "#\n",
    "#  HJJJJJJH\n",
    "#  I      I\n",
    "#  I      I\n",
    "#  I      I\n",
    "#  HJJJJJJH\n",
    "#  \n",
    "#  Note that H = I & J \n",
    "\n",
    "# Note that we use operator overloading to combine sets\n",
    "# send boundary condition information to underworld\n",
    "IWalls = mesh.specialSets[\"MinI_VertexSet\"] + mesh.specialSets[\"MaxI_VertexSet\"]\n",
    "JWalls = mesh.specialSets[\"MinJ_VertexSet\"] + mesh.specialSets[\"MaxJ_VertexSet\"]\n",
    "TWalls = mesh.specialSets[\"MaxJ_VertexSet\"]\n",
    "BWalls = mesh.specialSets[\"MinJ_VertexSet\"]"
   ]
  },
  {
   "cell_type": "code",
   "execution_count": null,
   "metadata": {
    "collapsed": true
   },
   "outputs": [],
   "source": []
  },
  {
   "cell_type": "code",
   "execution_count": 24,
   "metadata": {
    "collapsed": false
   },
   "outputs": [],
   "source": [
    "# Now setup the dirichlet boundary condition\n",
    "# Note that through this object, we are flagging to the system \n",
    "# that these nodes are to be considered as boundary conditions. \n",
    "# Also note that we provide a tuple of sets.. One for the Vx, one for Vy.\n",
    "freeslipBC = uw.conditions.DirichletCondition(     variable=velocityField, \n",
    "                                              indexSetsPerDof=(TWalls, JWalls) )\n",
    "\n",
    "# also set dirichlet for temp field\n",
    "tempBC = uw.conditions.DirichletCondition(     variable=temperatureField, \n",
    "                                              indexSetsPerDof=(JWalls,) )"
   ]
  },
  {
   "cell_type": "markdown",
   "metadata": {},
   "source": [
    "##Add Random 125 K temp perturbation\n"
   ]
  },
  {
   "cell_type": "markdown",
   "metadata": {
    "collapsed": true
   },
   "source": [
    "tempNump = temperatureField.data\n",
    "\n",
    "#In gerneral we only want to do this on the initial setup, not restarts\n",
    "\n",
    "if not checkpointLoad:\n",
    "    for index, coord in enumerate(mesh.data):\n",
    "        pertCoeff = (0.05*(np.random.rand(1)[0] - 0.5)) #this should create values between [-0.5,0.5] from uniform dist.\n",
    "        ict = tempNump[index]\n",
    "        tempNump[index] = ict + pertCoeff"
   ]
  },
  {
   "cell_type": "markdown",
   "metadata": {},
   "source": [
    "##Reset bottom Dirichlet conds."
   ]
  },
  {
   "cell_type": "code",
   "execution_count": 25,
   "metadata": {
    "collapsed": false
   },
   "outputs": [],
   "source": [
    "# Set temp boundaries \n",
    "# on the boundaries\n",
    "for index in mesh.specialSets[\"MinJ_VertexSet\"]:\n",
    "    temperatureField.data[index] = ndp.TB\n",
    "for index in mesh.specialSets[\"MaxJ_VertexSet\"]:\n",
    "    temperatureField.data[index] = ndp.TS"
   ]
  },
  {
   "cell_type": "code",
   "execution_count": 26,
   "metadata": {
    "collapsed": false
   },
   "outputs": [],
   "source": [
    "#checkdirs"
   ]
  },
  {
   "cell_type": "code",
   "execution_count": null,
   "metadata": {
    "collapsed": true
   },
   "outputs": [],
   "source": []
  },
  {
   "cell_type": "markdown",
   "metadata": {},
   "source": [
    "# Particles"
   ]
  },
  {
   "cell_type": "code",
   "execution_count": 27,
   "metadata": {
    "collapsed": false
   },
   "outputs": [],
   "source": [
    "###########\n",
    "#Material Swarm and variables\n",
    "###########\n",
    "\n",
    "gSwarm = uw.swarm.Swarm(mesh=mesh)\n",
    "materialVariable = gSwarm.add_variable( dataType=\"char\", count=1 )\n",
    "rockIntVar = gSwarm.add_variable( dataType=\"double\", count=1 )\n",
    "airIntVar = gSwarm.add_variable( dataType=\"double\", count=1 )\n",
    "lithIntVar = gSwarm.add_variable( dataType=\"double\", count=1 )\n",
    "\n",
    "varlist = [materialVariable, rockIntVar, airIntVar, lithIntVar]\n",
    "varnames = ['materialVariable', 'rockIntVar', 'airIntVar', 'lithIntVar']"
   ]
  },
  {
   "cell_type": "code",
   "execution_count": 28,
   "metadata": {
    "collapsed": false
   },
   "outputs": [],
   "source": [
    "###########\n",
    "#Swarms for surface intragrals when using Sticky air\n",
    "###########\n",
    "\n",
    "snum = 1000.\n",
    "dx = (mesh.data[:,0].max()- mesh.data[:,0].min())/snum\n",
    "yp = 0.9947 #1. - yelsize/2. at res = 96\n",
    "\n",
    "mesh.data[:,0].max()\n",
    "xps = np.linspace(mesh.data[:,0].min(),mesh.data[:,0].max(), snum)\n",
    "yps = [yp for i in xps]\n",
    "\n",
    "surfintswarm = uw.swarm.Swarm( mesh=mesh )\n",
    "dumout = surfintswarm.add_particles_with_coordinates(np.array((xps,yps)).T)\n",
    "\n",
    "yps = [ 1.- yp  for i in xps]\n",
    "\n",
    "baseintswarm = uw.swarm.Swarm( mesh=mesh)\n",
    "dumout = baseintswarm.add_particles_with_coordinates(np.array((xps,yps)).T)"
   ]
  },
  {
   "cell_type": "markdown",
   "metadata": {},
   "source": [
    "#Initialise swarm variables, or Swarm checkpoint load"
   ]
  },
  {
   "cell_type": "code",
   "execution_count": 29,
   "metadata": {
    "collapsed": false
   },
   "outputs": [],
   "source": [
    "mantleIndex = 0\n",
    "lithosphereIndex = 1\n",
    "crustIndex = 2\n",
    "airIndex = 3\n",
    "\n",
    "\n",
    "if checkpointLoad:\n",
    "    checkpointLoadDir = natsort.natsorted(checkdirs)[-1]\n",
    "    temperatureField.load(os.path.join(checkpointLoadDir, \"temperatureField\" + \".hdf5\"))\n",
    "    pressureField.load(os.path.join(checkpointLoadDir, \"pressureField\" + \".hdf5\"))\n",
    "    velocityField.load(os.path.join(checkpointLoadDir, \"velocityField\" + \".hdf5\"))\n",
    "    gSwarm.load(os.path.join(checkpointLoadDir, \"swarm\" + \".h5\"))\n",
    "    for ix in range(len(varlist)):\n",
    "        varb = varlist[ix]\n",
    "        varb.load(os.path.join(checkpointLoadDir,varnames[ix] + \".h5\"))\n",
    "\n",
    "else:\n",
    "\n",
    "    # Layouts are used to populate the swarm across the whole domain\n",
    "    # Create the layout object\n",
    "    layout = uw.swarm.layouts.PerCellRandomLayout(swarm=gSwarm, particlesPerCell=ppc)\n",
    "    # Now use it to populate.\n",
    "    gSwarm.populate_using_layout( layout=layout )\n",
    "\n",
    "    # Lets initialise the 'materialVariable' data to represent different materials\n",
    "    # Set the material to heavy everywhere via the numpy array\n",
    "    materialVariable.data[:] = mantleIndex\n",
    "    \n",
    "    \n",
    "    #Set initial air and crust materials (allow the graph to take care of lithsophere)\n",
    "    #########\n",
    "    #This initial material setup will be model dependent\n",
    "    #########\n",
    "    for particleID in range(gSwarm.particleCoordinates.data.shape[0]):\n",
    "        if (1. - gSwarm.particleCoordinates.data[particleID][1]) < 0:\n",
    "                 materialVariable.data[particleID] = airIndex\n",
    "        elif (1. - gSwarm.particleCoordinates.data[particleID][1]) < MANTLETOCRUST:\n",
    "                 materialVariable.data[particleID] = crustIndex\n"
   ]
  },
  {
   "cell_type": "markdown",
   "metadata": {},
   "source": [
    "#Material Graphs"
   ]
  },
  {
   "cell_type": "code",
   "execution_count": 30,
   "metadata": {
    "collapsed": false
   },
   "outputs": [],
   "source": [
    "##############\n",
    "#Important: This is a quick fix for a bug that arises in parallel runs\n",
    "##############\n",
    "material_list = [0,1,2,3]\n"
   ]
  },
  {
   "cell_type": "code",
   "execution_count": 31,
   "metadata": {
    "collapsed": false
   },
   "outputs": [
    {
     "name": "stdout",
     "output_type": "stream",
     "text": [
      "unique values after swarm has loaded:[0 1 2 3]\n"
     ]
    }
   ],
   "source": [
    "print( \"unique values after swarm has loaded:\" + str(np.unique(materialVariable.data[:])))\n"
   ]
  },
  {
   "cell_type": "code",
   "execution_count": 32,
   "metadata": {
    "collapsed": false
   },
   "outputs": [],
   "source": [
    "\n",
    "\n",
    "#All depth conditions are given as (km/D) where D is the length scale, \n",
    "#note that 'model depths' are used, e.g. 1-z, where z is the vertical Underworld coordinate\n",
    "#All temp conditions are in dimensionless temp. [0. - 1.]\n",
    "\n",
    "#######Graph object\n",
    "DG = nx.DiGraph(field=\"Depth\")\n",
    "\n",
    "#######Nodes\n",
    "#Note that the order of materials, deepest to shallowest is important \n",
    "DG.add_node(0, mat='mantle')\n",
    "DG.add_node(1, mat='lithosphere')\n",
    "DG.add_node(2, mat='crust')\n",
    "DG.add_node(3, mat='air')\n",
    "\n",
    "\n",
    "labels=dict((n,d['mat']) for n,d in DG.nodes(data=True))\n",
    "pos=nx.spring_layout(DG) \n",
    "\n",
    "\n",
    "#######Edges\n",
    "#anything to air\n",
    "DG.add_edges_from([(0,3),(1,3), (2,3)])\n",
    "DG[0][3]['depthcondition'] = -1*TOPOHEIGHT\n",
    "DG[1][3]['depthcondition'] = -1*TOPOHEIGHT\n",
    "DG[2][3]['depthcondition'] = -1*TOPOHEIGHT\n",
    "\n",
    "\n",
    "#Anything to mantle\n",
    "DG.add_edges_from([(2,0), (3,0), (1,0)])\n",
    "DG[3][0]['depthcondition'] = TOPOHEIGHT\n",
    "DG[2][0]['depthcondition'] = CRUSTTOMANTLE\n",
    "DG[1][0]['depthcondition'] = LITHTOMANTLE #This means we're going to kill lithosphere at the 660.\n",
    "\n",
    "\n",
    "#Anything to lithsphere\n",
    "DG.add_edges_from([(0,1),(3,1)])\n",
    "DG[0][1]['depthcondition'] = MANTLETOLITH\n",
    "DG[0][1]['avgtempcondition'] = 0.75*AVGTEMP #definition of thermal lithosphere\n",
    "\n",
    "\n",
    "#Anything to crust\n",
    "DG.add_edges_from([(0,2), (1,2)])\n",
    "DG[0][2]['depthcondition'] = MANTLETOCRUST\n",
    "DG[1][2]['depthcondition'] = MANTLETOCRUST"
   ]
  },
  {
   "cell_type": "code",
   "execution_count": 33,
   "metadata": {
    "collapsed": false
   },
   "outputs": [
    {
     "data": {
      "text/plain": [
       "[0, 1, 2, 3]"
      ]
     },
     "execution_count": 33,
     "metadata": {},
     "output_type": "execute_result"
    }
   ],
   "source": [
    "DG.nodes()"
   ]
  },
  {
   "cell_type": "code",
   "execution_count": 34,
   "metadata": {
    "collapsed": false
   },
   "outputs": [],
   "source": [
    "remove_nodes = []\n",
    "for node in DG.nodes():\n",
    "    if not node in material_list:\n",
    "        remove_nodes.append(node)\n",
    "        \n",
    "for rmnode in remove_nodes:\n",
    "    DG.remove_node(rmnode)"
   ]
  },
  {
   "cell_type": "code",
   "execution_count": 35,
   "metadata": {
    "collapsed": false
   },
   "outputs": [
    {
     "data": {
      "text/plain": [
       "[0, 1, 2, 3]"
      ]
     },
     "execution_count": 35,
     "metadata": {},
     "output_type": "execute_result"
    }
   ],
   "source": [
    "DG.nodes()"
   ]
  },
  {
   "cell_type": "code",
   "execution_count": 36,
   "metadata": {
    "collapsed": true
   },
   "outputs": [],
   "source": [
    "#A Dictionary to map strings in the graph (e.g. 'depthcondition') to particle data arrays\n",
    "\n",
    "particledepths = 1. - gSwarm.particleCoordinates.data[:,1]\n",
    "particletemps = temperatureField.evaluate(gSwarm)[:,0]\n",
    "\n",
    "conditionmap = {}\n",
    "\n",
    "conditionmap['depthcondition'] = {}\n",
    "conditionmap['depthcondition']['data'] = particledepths\n",
    "conditionmap['avgtempcondition'] = {}\n",
    "conditionmap['avgtempcondition']['data'] = particletemps"
   ]
  },
  {
   "cell_type": "code",
   "execution_count": 37,
   "metadata": {
    "collapsed": true
   },
   "outputs": [],
   "source": [
    "def update_swarm(graph, particleIndex):\n",
    "    \"\"\"\n",
    "    This function takes the materials graph (networkx.DiGraph), and a particle index,\n",
    "    then determines if a material update is required \n",
    "    and if so, returns the new materialindex\n",
    "    Args:\n",
    "        graph (networkx.DiGraph): Directed multigraph representing the transformation of material types\n",
    "        particleIndex (int): the particle index as corressponding to the index in the swarm data arrays\n",
    "    Returns:\n",
    "        if update is required the function returns the the new material variable (int) \n",
    "        else returns None\n",
    "    Raises:\n",
    "        TypeError: not implemented\n",
    "        ValueError: not implemented\n",
    "    \"\"\"\n",
    "    ##Egde gives links to other materials, we then query the conditions to see if we should change materials\n",
    "    matId = materialVariable.data[particleIndex][0]\n",
    "    innerchange = False\n",
    "    outerchange = False\n",
    "    for edge in graph[matId]:\n",
    "        if outerchange:\n",
    "            break\n",
    "        for cond in graph[matId][edge].keys():\n",
    "            outerchange = False\n",
    "            if innerchange: #found a complete transition, break inner loop\n",
    "                break\n",
    "            currentparticlevalue = conditionmap[cond]['data'][particleIndex]\n",
    "            crossover = graph[matId][edge][cond]\n",
    "            if ((matId > edge) and (currentparticlevalue > crossover)):\n",
    "                innerchange = False # continue on, \n",
    "                if graph[matId][edge].keys()[-1] == cond:\n",
    "                    outerchange = True\n",
    "                    innerchange = edge\n",
    "                    break\n",
    "            elif ((matId < edge) and (currentparticlevalue < crossover)):\n",
    "                innerchange = False\n",
    "                if graph[matId][edge].keys()[-1] == cond:\n",
    "                    outerchange = True\n",
    "                    innerchange = edge\n",
    "                    break\n",
    "            else:\n",
    "                #condition not met, break outer loop, go to next edge, outerchange should still be False\n",
    "                break\n",
    "    if type(innerchange) == int:\n",
    "        return innerchange"
   ]
  },
  {
   "cell_type": "code",
   "execution_count": 38,
   "metadata": {
    "collapsed": false
   },
   "outputs": [],
   "source": [
    "#Cleanse the swarm of its sins\n",
    "#For some Material Graphs, the graph may have to be treaversed more than once\n",
    "\n",
    "check = -1\n",
    "number_updated = 1\n",
    "\n",
    "while number_updated != 0:\n",
    "    number_updated = 0\n",
    "    for particleID in range(gSwarm.particleCoordinates.data.shape[0]):\n",
    "                check = update_swarm(DG, particleID)\n",
    "                if check > -1:\n",
    "                    number_updated += 1\n",
    "                    materialVariable.data[particleID] = check"
   ]
  },
  {
   "cell_type": "markdown",
   "metadata": {},
   "source": [
    "##Set the values for the masking swarms"
   ]
  },
  {
   "cell_type": "code",
   "execution_count": 39,
   "metadata": {
    "collapsed": false
   },
   "outputs": [],
   "source": [
    "#Setup up a masking Swarm variable for the integrations.\n",
    "#These should be rebuilt at same frequency as the metric calcualtions\n",
    "\n",
    "rockIntVar.data[:] = 0.\n",
    "notair = np.where(materialVariable.data != airIndex)\n",
    "rockIntVar.data[notair] = 1.\n",
    "\n",
    "airIntVar.data[:] = 0.\n",
    "notrock = np.where(materialVariable.data == airIndex)\n",
    "airIntVar.data[notrock] = 1.\n",
    "\n",
    "lithIntVar.data[:] = 0.\n",
    "islith = np.where((materialVariable.data == lithosphereIndex) | (materialVariable.data == crustIndex))\n",
    "lithIntVar.data[islith] = 1.\n"
   ]
  },
  {
   "cell_type": "markdown",
   "metadata": {
    "collapsed": false
   },
   "source": [
    "#Material properties\n"
   ]
  },
  {
   "cell_type": "code",
   "execution_count": 40,
   "metadata": {
    "collapsed": false
   },
   "outputs": [],
   "source": [
    "#Make variables required for plasticity\n",
    "\n",
    "# The yeilding of the upper slab is dependent on the strain rate.\n",
    "strainRate_2ndInvariant = fn.tensor.second_invariant( \n",
    "                            fn.tensor.symmetric( \n",
    "                            velocityField.fn_gradient ))\n",
    "\n",
    "\n",
    "coordinate = fn.input()\n",
    "depth = 1. - coordinate[1]\n",
    "depthField = uw.mesh.MeshVariable( mesh=mesh,   nodeDofCount=1 )\n",
    "depthField.data[:] = depth.evaluate(mesh)\n",
    "depthField.data[np.where(depthField.data[:] < 0.)[0]] = 0."
   ]
  },
  {
   "cell_type": "code",
   "execution_count": 41,
   "metadata": {
    "collapsed": false
   },
   "outputs": [],
   "source": [
    "##Basic mantle viscosity Functions\n",
    "viscosityl2 = newvisc*fn.math.exp((math.log(ndp.etaT)*-1*temperatureField) + (depthField*math.log(ndp.etaY)))\n",
    "viscosityFn1 = viscosityl2 #This one always gets passed to the first velcotity solve\n",
    "\n",
    "#Von Mises effective viscosity\n",
    "viscosityp = ndp.eta0 + ndp.cohesion/(strainRate_2ndInvariant/math.sqrt(0.5)) #extra factor to account for underworld second invariant form\n",
    "viscosityFn2 = 2./(1./viscosityl2 + 1./viscosityp)\n",
    "\n",
    "\n",
    "##Now setup rheolgy for models with crust rheology;\n",
    "\n",
    "viscreduct = 0.1\n",
    "crustviscosityp = viscreduct*ndp.eta0+ ((viscreduct*ndp.cohesion)/(strainRate_2ndInvariant/math.sqrt(0.5))) #extra factor to account for underworld second invariant form\n",
    "crustviscosityFn2 = 2./(1./viscosityl2 + 1./crustviscosityp)"
   ]
  },
  {
   "cell_type": "markdown",
   "metadata": {},
   "source": [
    "Set up simulation parameters and functions\n",
    "====\n",
    "\n",
    "Here the functions for density, viscosity etc. are set. These functions and/or values are preserved for the entire simulation time. "
   ]
  },
  {
   "cell_type": "code",
   "execution_count": 42,
   "metadata": {
    "collapsed": false
   },
   "outputs": [],
   "source": [
    "# Here we set a viscosity value of '1.' for both materials\n",
    "viscosityMapFn = fn.branching.map( fn_key = materialVariable,\n",
    "                         mapping = {airIndex:AIRVISCOSITY, \n",
    "                                    lithosphereIndex:viscosityFn2, \n",
    "                                    crustIndex:crustviscosityFn2,\n",
    "                                    mantleIndex:viscosityFn2} )\n",
    "\n",
    "densityMapFn = fn.branching.map( fn_key = materialVariable,\n",
    "                         mapping = {airIndex:AIRDENSITY, \n",
    "                                    lithosphereIndex:ndp.RA*temperatureField, \n",
    "                                    crustIndex:ndp.RA*temperatureField, \n",
    "                                    mantleIndex:ndp.RA*temperatureField} )\n",
    "\n",
    "# Define our gravity using a python tuple (this will be automatically converted to a function)\n",
    "gravity = ( 0.0, 1.0 )\n",
    "\n",
    "buoyancyFn = gravity*densityMapFn"
   ]
  },
  {
   "cell_type": "markdown",
   "metadata": {},
   "source": [
    "Build the Stokes system, solvers, advection-diffusion\n",
    "------\n",
    "\n",
    "Setup linear Stokes system to get the initial velocity."
   ]
  },
  {
   "cell_type": "code",
   "execution_count": 43,
   "metadata": {
    "collapsed": false
   },
   "outputs": [],
   "source": [
    "#We first set up a l\n",
    "stokesPIC = uw.systems.Stokes(velocityField=velocityField, \n",
    "                              pressureField=pressureField,\n",
    "                              conditions=[freeslipBC,],\n",
    "#                              viscosityFn=viscosityFn1, \n",
    "                              fn_viscosity=fn.exception.SafeMaths(viscosityFn1), \n",
    "                              fn_bodyforce=buoyancyFn)"
   ]
  },
  {
   "cell_type": "markdown",
   "metadata": {},
   "source": [
    "We do one solve with linear viscosity to get the initial strain rate invariant. This solve step also calculates a 'guess' of the the velocity field based on the linear system, which is used later in the non-linear solver."
   ]
  },
  {
   "cell_type": "code",
   "execution_count": 44,
   "metadata": {
    "collapsed": false
   },
   "outputs": [],
   "source": [
    "if not checkpointLoad:\n",
    "    solver = uw.systems.Solver(stokesPIC)\n",
    "    solver.solve() "
   ]
  },
  {
   "cell_type": "code",
   "execution_count": 45,
   "metadata": {
    "collapsed": false
   },
   "outputs": [],
   "source": [
    "#Switch particle escape on, this will also trigger the inflow population control \n",
    "gSwarm.particleEscape = True"
   ]
  },
  {
   "cell_type": "code",
   "execution_count": 46,
   "metadata": {
    "collapsed": false
   },
   "outputs": [],
   "source": [
    "# Setup the Stokes system again, now with linear or nonlinear visocity viscosity.\n",
    "\n",
    "if PIC_integration:\n",
    "    swarm = gSwarm\n",
    "else:\n",
    "    swarm = False\n",
    "\n",
    "stokesPIC2 = uw.systems.Stokes(velocityField=velocityField, \n",
    "                              pressureField=pressureField,\n",
    "                              conditions=[freeslipBC,],\n",
    "                              fn_viscosity=fn.exception.SafeMaths(viscosityMapFn), \n",
    "                              fn_bodyforce=buoyancyFn, swarm = swarm)"
   ]
  },
  {
   "cell_type": "markdown",
   "metadata": {
    "collapsed": false
   },
   "source": [
    "solver = uw.systems.Solver(stokesPIC2) # altered from PIC2\n",
    "\n",
    "\n",
    "\n",
    "#Set more advanced solver option\n",
    "solver.options.main.Q22_pc_type='uw'\n",
    "solver.options.A11.ksp_rtol=1e-5\n",
    "solver.options.scr.ksp_rtol=1e-5\n",
    "#solver.options.A11.ksp_type=\"cg\"\n",
    "solver.options.scr.use_previous_guess = True\n",
    "solver.options.scr.ksp_set_min_it_converge = 1\n",
    "\n",
    "solver.options.mg.levels = 3\n",
    "\n",
    "#solver.options.A11.ksp_monitor=''\n",
    "#solver.options.A11.ksp_converged_reason='"
   ]
  },
  {
   "cell_type": "code",
   "execution_count": 47,
   "metadata": {
    "collapsed": true
   },
   "outputs": [],
   "source": [
    "solver = uw.systems.Solver(stokesPIC2) # altered from PIC2\n",
    "\n",
    "#Set more advanced solver option\n",
    "solver.options.main.Q22_pc_type='gkgdiag'\n",
    "#solver.options.A11.ksp_rtol=1e-2\n",
    "#solver.options.scr.ksp_rtol=1e-3\n",
    "#solver.options.A11.ksp_type=\"cg\"\n",
    "solver.options.scr.use_previous_guess = True\n",
    "#solver.options.scr.ksp_set_min_it_converge = 1\n",
    "#solver.options.main.penalty=10.0\n",
    "\n",
    "#solver.options.mg.levels = 3\n",
    "#solver.options.main.remove_constant_pressure_null_space=True\n",
    "#solver.options.main.penalty = 1e2\n",
    "\n",
    "solver.options.A11.ksp_rtol=1e-4\n",
    "solver.options.scr.ksp_rtol=1e-4\n",
    "\n",
    "solver.options.A11.ksp_monitor=''\n",
    "solver.options.A11.ksp_converged_reason=''"
   ]
  },
  {
   "cell_type": "markdown",
   "metadata": {},
   "source": [
    "Solve for initial pressure and velocity using a quick non-linear Picard iteration\n"
   ]
  },
  {
   "cell_type": "code",
   "execution_count": 48,
   "metadata": {
    "collapsed": false
   },
   "outputs": [],
   "source": [
    "solver.solve(nonLinearIterate=True)"
   ]
  },
  {
   "cell_type": "markdown",
   "metadata": {},
   "source": [
    "Create an advective-diffusive system\n",
    "=====\n",
    "\n",
    "Setup the system in underworld by flagging the temperature and velocity field variables."
   ]
  },
  {
   "cell_type": "code",
   "execution_count": null,
   "metadata": {
    "collapsed": false
   },
   "outputs": [],
   "source": []
  },
  {
   "cell_type": "code",
   "execution_count": 49,
   "metadata": {
    "collapsed": false
   },
   "outputs": [],
   "source": [
    "#Create advdiff system\n",
    "\n",
    "\n",
    "\n",
    "advDiff = uw.systems.AdvectionDiffusion( phiField       = temperatureField, \n",
    "                                         phiDotField    = temperatureDotField, \n",
    "                                         velocityField  = velocityField, \n",
    "                                         fn_diffusivity = 1.0, \n",
    "                                         conditions     = [tempBC,] )\n",
    "\n",
    "\n",
    "\n",
    "advector = uw.systems.SwarmAdvector( swarm         = gSwarm, \n",
    "                                     velocityField = velocityField, \n",
    "                                     order         = 1)"
   ]
  },
  {
   "cell_type": "markdown",
   "metadata": {},
   "source": [
    "Metrics for benchmark\n",
    "=====\n",
    "\n",
    "Define functions to be used in the time loop. For cases 1-4, participants were asked to report a number of diagnostic quantities to be measured after reaching steady state:\n",
    "\n",
    "* Average temp... $$  \\langle T \\rangle  = \\int^1_0 \\int^1_0 T \\, dxdy $$\n",
    "* Top and bottom Nusselt numbers... $$N = \\int^1_0 \\frac{\\partial T}{\\partial y} \\rvert_{y=0/1} \\, dx$$\n",
    "* RMS velocity over the whole domain, surface and max velocity at surface\n",
    "* max and min viscosity over the whole domain\n",
    "* average rate of work done against gravity...$$\\langle W \\rangle = \\int^1_0 \\int^1_0 T u_y \\, dx dy$$\n",
    "* and the average rate of viscous dissipation...$$\\langle \\Phi \\rangle = \\int^1_0 \\int^1_0 \\tau_{ij} \\dot \\epsilon_{ij} \\, dx dy$$\n",
    "\n",
    "* In steady state, if thermal energy is accurately conserved, the difference between $\\langle W \\rangle$ and $\\langle \\Phi \\rangle / Ra$ must vanish, so also reported is the percentage error: \n",
    "\n",
    "$$ \\delta = \\frac{\\lvert \\langle W \\rangle - \\frac{\\langle \\Phi \\rangle}{Ra} \\rvert}{max \\left(  \\langle W \\rangle,  \\frac{\\langle \\Phi \\rangle}{Ra}\\right)} \\times 100% $$"
   ]
  },
  {
   "cell_type": "code",
   "execution_count": 50,
   "metadata": {
    "collapsed": false
   },
   "outputs": [],
   "source": [
    "#Setup some Integrals. We want these outside the main loop...\n",
    "tempVariable = gSwarm.add_variable( dataType=\"double\", count=1 )\n",
    "tempVariable.data[:] = temperatureField.evaluate(gSwarm)[:]\n",
    "tempint = uw.utils.Integral((tempVariable*rockIntVar), mesh)\n",
    "\n",
    "\n",
    "areaint = uw.utils.Integral((1.*rockIntVar),mesh)\n",
    "\n",
    "v2int = uw.utils.Integral(fn.math.dot(velocityField,velocityField)*rockIntVar, mesh)\n",
    "\n",
    "\n",
    "dwint = uw.utils.Integral(temperatureField*velocityField[1]*rockIntVar, mesh)\n",
    "\n",
    "\n",
    "sinner = fn.math.dot(strainRate_2ndInvariant,strainRate_2ndInvariant)\n",
    "vdint = uw.utils.Integral((4.*viscosityMapFn*sinner)*rockIntVar, mesh)\n",
    "vdintair = uw.utils.Integral((4.*viscosityMapFn*sinner)*airIntVar, mesh)\n",
    "vdintlith = uw.utils.Integral((4.*viscosityMapFn*sinner)*lithIntVar, mesh)"
   ]
  },
  {
   "cell_type": "code",
   "execution_count": 51,
   "metadata": {
    "collapsed": false
   },
   "outputs": [
    {
     "name": "stdout",
     "output_type": "stream",
     "text": [
      "983414.981651\n",
      "768402.549584\n",
      "14672752.5364\n",
      "15015.2134592\n",
      "327207.544615\n",
      "112195.112547\n"
     ]
    }
   ],
   "source": [
    "#These should differ if the the map function assigns different properties to bulk mantle\n",
    "\n",
    "print(uw.utils.Integral((4.*viscosityFn2*sinner)*rockIntVar, mesh).evaluate()[0])\n",
    "print(uw.utils.Integral((4.*viscosityMapFn*sinner)*rockIntVar, mesh).evaluate()[0])\n",
    "\n",
    "print(uw.utils.Integral((4.*viscosityFn2*sinner)*airIntVar, mesh).evaluate()[0])\n",
    "print(uw.utils.Integral((4.*viscosityMapFn*sinner)*airIntVar, mesh).evaluate()[0])\n",
    "\n",
    "print(uw.utils.Integral((4.*viscosityFn2*sinner)*lithIntVar, mesh).evaluate()[0])\n",
    "print(uw.utils.Integral((4.*viscosityMapFn*sinner)*lithIntVar, mesh).evaluate()[0])"
   ]
  },
  {
   "cell_type": "markdown",
   "metadata": {},
   "source": [
    "\\begin{equation}  \\langle T \\rangle  = \\int^1_0 \\int^1_0 T \\, dxdy \\end{equation}"
   ]
  },
  {
   "cell_type": "code",
   "execution_count": 52,
   "metadata": {
    "collapsed": false
   },
   "outputs": [],
   "source": [
    "def avg_temp():\n",
    "    return tempint.evaluate()[0]/areaint.evaluate()[0]\n",
    "\n",
    "#This one gets cleaned up when Surface integrals are available\n",
    "def nusselt(tempfield, swarm, dx):\n",
    "    #Update the swarm variable\n",
    "    tempgrad = tempfield.fn_gradient\n",
    "    valcheck = tempgrad[1].evaluate(swarm)\n",
    "    if valcheck is None:\n",
    "        vals = np.array(0, dtype='float64')\n",
    "    else:\n",
    "        vals = valcheck.sum()*dx\n",
    "    return vals\n",
    "\n",
    "def rms():\n",
    "    return math.sqrt(v2int.evaluate()[0]/areaint.evaluate()[0])\n",
    "\n",
    "#This one gets cleaned up when Surface integrals are available\n",
    "def rms_surf(swarm, dx):\n",
    "    rmsmaxfn = fn.math.dot(velocityField,velocityField)\n",
    "    rmscheck = rmsmaxfn.evaluate(swarm)\n",
    "    if rmscheck is None:\n",
    "        #print \"watch out\"\n",
    "        rmsvals = np.array(0, dtype='float64')\n",
    "    else:\n",
    "        rmsvals = np.sqrt(rmscheck.sum()*dx)\n",
    "        #print \"okay\"\n",
    "    return rmsvals\n",
    "\n",
    "def max_vx_surf(velfield, swarm):\n",
    "    check = velfield[0].evaluate(swarm)\n",
    "    if check is None:\n",
    "        return 0.\n",
    "    else:\n",
    "        return check.max()\n",
    "\n",
    "\n",
    "#def max_vy_surf(velfield, swarm):\n",
    "#    surfvelxmaxfn = fn.view.min_max(velfield[1])\n",
    "#    surfvelxmaxfn.evaluate(swarm)\n",
    "#    return surfvelxmaxfn.max_global()\n",
    "\n",
    "def gravwork(workfn):\n",
    "    return workfn.evaluate()[0]\n",
    "\n",
    "def viscdis(vdissfn):\n",
    "    return vdissfn.evaluate()[0]\n",
    "\n",
    "def visc_extr(viscfn):\n",
    "    vuviscfn = fn.view.min_max(viscfn)\n",
    "    vuviscfn.evaluate(gSwarm)\n",
    "    return vuviscfn.max_global(), vuviscfn.min_global()"
   ]
  },
  {
   "cell_type": "code",
   "execution_count": 53,
   "metadata": {
    "collapsed": false
   },
   "outputs": [],
   "source": [
    "#Fields for saving data / fields\n",
    "\n",
    "rmsField = uw.mesh.MeshVariable( mesh=mesh,   nodeDofCount=1)\n",
    "rmsfn = fn.math.sqrt(fn.math.dot(velocityField,velocityField))\n",
    "rmsdata = rmsfn.evaluate(mesh)\n",
    "rmsField.data[:] = rmsdata \n",
    "\n",
    "viscField = uw.mesh.MeshVariable( mesh=mesh,   nodeDofCount=1)\n",
    "viscdata = viscosityFn2.evaluate(mesh)\n",
    "viscField.data[:] = viscdata\n",
    "\n",
    "\n",
    "strainrateField = uw.mesh.MeshVariable( mesh=mesh,   nodeDofCount=1)\n",
    "srtdata = fn.tensor.second_invariant( \n",
    "                    fn.tensor.symmetric( \n",
    "                        velocityField.fn_gradient ))\n",
    "rostfield = srtdata.evaluate(mesh)\n",
    "strainrateField.data[:] = rostfield\n",
    "\n",
    "viscVariable = gSwarm.add_variable( dataType=\"float\", count=1 )\n",
    "viscVariable.data[:] = viscosityMapFn.evaluate(gSwarm)\n"
   ]
  },
  {
   "cell_type": "code",
   "execution_count": 54,
   "metadata": {
    "collapsed": false
   },
   "outputs": [],
   "source": [
    "#Images\n",
    "figEta = glucifer.Figure()\n",
    "figEta.append( glucifer.objects.Points(gSwarm,viscVariable, logScale=True))\n",
    "\n",
    "\n",
    "figMat = glucifer.Figure()\n",
    "figMat.append( glucifer.objects.Points(gSwarm,materialVariable, colours='brown white blue red'))\n",
    "figMat.append( glucifer.objects.Mesh(mesh))\n",
    "\n",
    "\n",
    "figStrainRate = glucifer.Figure()\n",
    "figStrainRate.append( glucifer.objects.Surface(mesh, strainRate_2ndInvariant, logScale=True))\n",
    "\n",
    "\n",
    "figVelocityMag = glucifer.Figure()\n",
    "figVelocityMag.append( glucifer.objects.Surface(mesh, fn.math.dot(velocityField,velocityField))\n",
    ")\n",
    "figTemp = glucifer.Figure()\n",
    "figTemp.append( glucifer.objects.Surface(mesh, temperatureField))\n",
    "\n",
    "\n",
    "\n",
    "#Pack some stuff into a database as well\n",
    "figDb = glucifer.Figure()\n",
    "figDb.append( glucifer.objects.Points(gSwarm,viscVariable, logScale=True, colours='brown white blue'))\n",
    "figDb.append( glucifer.objects.Points(gSwarm,materialVariable, colours='brown white blue red'))\n",
    "figDb.append( glucifer.objects.Mesh(mesh))\n",
    "figDb.append( glucifer.objects.VectorArrows(mesh,velocityField, arrowHead=0.2, scaling=0.01))\n",
    "figDb.append( glucifer.objects.Surface(mesh, strainRate_2ndInvariant, logScale=True, colours='brown white blue'))\n",
    "figDb.append( glucifer.objects.Surface(mesh, temperatureField))\n",
    "                           "
   ]
  },
  {
   "cell_type": "code",
   "execution_count": 55,
   "metadata": {
    "collapsed": true
   },
   "outputs": [],
   "source": [
    "\n",
    "pics = uw.swarm.PICIntegrationSwarm(gSwarm)"
   ]
  },
  {
   "cell_type": "code",
   "execution_count": 56,
   "metadata": {
    "collapsed": false
   },
   "outputs": [],
   "source": [
    "def checkpoint1(step, checkpointPath,filename, filewrites):\n",
    "    path = checkpointPath + str(step) \n",
    "    os.mkdir(path)\n",
    "    ##Write and save the file, if not already a writing step\n",
    "    if not step % filewrites == 0:\n",
    "        filename.write((13*'%-15s ' + '\\n') % (realtime, Viscdis, float(Nu0glob), float(Nu1glob), Avg_temp, \n",
    "                                              Rms,Rmsurfglob,Max_vx_surf,Gravwork, etamax, etamin, Viscdisair, Viscdislith))\n",
    "    filename.close()\n",
    "    shutil.copyfile(os.path.join(outputPath, outputFile), os.path.join(path, outputFile))\n",
    "\n",
    "\n",
    "def checkpoint2(step, checkpointPath, swarm, filename, varlist = [materialVariable], varnames = ['materialVariable']):\n",
    "    path = checkpointPath + str(step) \n",
    "    velfile = \"velocityField\" + \".hdf5\"\n",
    "    tempfile = \"temperatureField\" + \".hdf5\"\n",
    "    pressfile = \"pressureField\" + \".hdf5\"\n",
    "    velocityField.save(os.path.join(path, velfile))\n",
    "    temperatureField.save(os.path.join(path, tempfile))\n",
    "    pressureField.save(os.path.join(path, pressfile))\n",
    "    swarm.save(os.path.join(path, \"swarm.h5\") ) \n",
    "    for ix in range(len(varlist)):\n",
    "        varb = varlist[ix]\n",
    "        varb.save(os.path.join(path,varnames[ix] + \".h5\"))\n",
    "        \n",
    "    "
   ]
  },
  {
   "cell_type": "code",
   "execution_count": 57,
   "metadata": {
    "collapsed": false
   },
   "outputs": [],
   "source": [
    "###########\n",
    "#Open file for writing metrics\n",
    "###########\n",
    "\n",
    "if checkpointLoad:\n",
    "    if uw.rank() == 0:\n",
    "        shutil.copyfile(os.path.join(checkpointLoadDir, outputFile), outputPath+outputFile)\n",
    "    comm.Barrier()\n",
    "    #os.rename(os.path.join(checkpointLoadDir, outputFile), outputPath+outputFile)\n",
    "    f_o = open(os.path.join(outputPath, outputFile), 'a')\n",
    "    prevdata = np.genfromtxt(os.path.join(outputPath, outputFile), skip_header=0, skip_footer=0)\n",
    "    realtime = prevdata[prevdata.shape[0]-1, 0]\n",
    "    step = int(checkpointLoadDir.split('/')[-1])\n",
    "    timevals = [0.]\n",
    "else:\n",
    "    f_o = open(outputPath+outputFile, 'w')\n",
    "    realtime = 0.\n",
    "    step = 0\n",
    "    timevals = [0.]"
   ]
  },
  {
   "cell_type": "markdown",
   "metadata": {},
   "source": [
    "Main simulation loop\n",
    "=======\n",
    "\n",
    "The main time stepping loop begins here. Before this the time and timestep are initialised to zero and the output statistics arrays are set up. Also the frequency of outputting basic statistics to the screen is set in steps_output.\n"
   ]
  },
  {
   "cell_type": "code",
   "execution_count": 222,
   "metadata": {
    "collapsed": false
   },
   "outputs": [
    {
     "name": "stdout",
     "output_type": "stream",
     "text": [
      "0\n",
      "1\n"
     ]
    }
   ],
   "source": [
    "# initialise timer for computation\n",
    "startMain = time.clock()\n",
    "# Perform steps#\n",
    "while realtime < 0.05:\n",
    "#while step < 8:\n",
    "    #Enter non-linear loop\n",
    "    print step\n",
    "    solver.solve(nonLinearIterate=True)\n",
    "    dt = advDiff.get_max_dt()\n",
    "    if step == 0:\n",
    "        dt = 0.\n",
    "    #start = time.clock()\n",
    "    advDiff.integrate(dt)\n",
    "    #machine_time = (time.clock()-start)\n",
    "    #print(\"total advDiff time is: \" + str(machine_time))\n",
    "    # Advect swarm using this timestep size\n",
    "    #start = time.clock()\n",
    "    advector.integrate(dt)\n",
    "    #machine_time = (time.clock()-start)\n",
    "    #print(\"total advector time is: \" + str(machine_time))\n",
    "    # Increment\n",
    "    realtime += dt\n",
    "    step += 1\n",
    "    timevals.append(realtime)\n",
    "    \n",
    "    ################\n",
    "    #Update temperature field in the air region\n",
    "    ################\n",
    "    if (step % sticky_air_temp == 0):\n",
    "        for index, coord in enumerate(mesh.data):\n",
    "            if coord[1] >= 1.:\n",
    "                temperatureField.data[index] = 0.\n",
    " \n",
    "    ################\n",
    "    #Particle update\n",
    "    ###############\n",
    "    if (step % swarm_update == 0) or (step % metric_output == 0): #These updates should be done before any metric output\n",
    "        #These swarm variables get updated first, as they are used to determine material changes\n",
    "        particledepths = 1. - gSwarm.particleCoordinates.data[:,1]\n",
    "        particletemps = temperatureField.evaluate(gSwarm)[:,0]\n",
    "        conditionmap['depthcondition']['data'] = particledepths\n",
    "        conditionmap['avgtempcondition']['data'] = particletemps\n",
    "        ################\n",
    "        number_updated = 0\n",
    "        for particleID in range(gSwarm.particleCoordinates.data.shape[0]):\n",
    "            check = update_swarm(DG, particleID)\n",
    "            if check > -1:\n",
    "                number_updated += 1\n",
    "                #if check == 0:\n",
    "                #    print \"from \" + str(materialVariable.data[particleID]) + \" to \" + str(check)\n",
    "                materialVariable.data[particleID] = check\n",
    "            else:\n",
    "                pass\n",
    "        #Also update those integration swarms\n",
    "        rockIntVar.data[:] = 0.\n",
    "        notair = np.where(materialVariable.data != airIndex)\n",
    "        rockIntVar.data[notair] = 1.\n",
    "        airIntVar.data[:] = 0.\n",
    "        notrock = np.where(materialVariable.data == airIndex)\n",
    "        airIntVar.data[notrock] = 1.\n",
    "        lithIntVar.data[:] = 0.\n",
    "        islith = np.where((materialVariable.data == lithosphereIndex) | (materialVariable.data == crustIndex))\n",
    "        lithIntVar.data[islith] = 1.\n",
    "\n",
    "    ################            \n",
    "    # Calculate the Metrics, only on 1 of the processors:\n",
    "    ################\n",
    "    if (step % metric_output == 0):\n",
    "        ###############\n",
    "        #Swarm - based Metrics\n",
    "        ###############\n",
    "        tempVariable.data[:] = temperatureField.evaluate(gSwarm)[:]\n",
    "        Avg_temp = avg_temp()\n",
    "        Rms = rms()\n",
    "        Gravwork = gravwork(dwint)\n",
    "        Viscdis = viscdis(vdint)\n",
    "        Viscdisair = viscdis(vdintair)\n",
    "        Viscdislith = viscdis(vdintlith)\n",
    "        etamax, etamin = visc_extr(viscosityMapFn)\n",
    "        #These are the ones that need mpi4py treatment\n",
    "        Nu0loc = nusselt(temperatureField, baseintswarm, dx)\n",
    "        Nu1loc = nusselt(temperatureField, surfintswarm, dx)\n",
    "        Rmsurfloc = rms_surf(surfintswarm, dx)\n",
    "        Max_vx_surfloc = np.array(max_vx_surf(velocityField, surfintswarm),'d') #This float needed to be an array to play with mpi4py\n",
    "        #Setup the global output arrays\n",
    "        dTp = Nu0loc.dtype\n",
    "        Nu0glob = np.array(0, dtype=dTp)\n",
    "        dTp = Nu1loc.dtype\n",
    "        Nu1glob = np.array(0, dtype=dTp)\n",
    "        dTp = Rmsurfloc.dtype\n",
    "        Rmsurfglob = np.array(0, dtype=dTp)\n",
    "        dTp = Max_vx_surfloc.dtype\n",
    "        Max_vx_surfglob = np.array(0.0,dtype=dTp)   \n",
    "        #Do global operation ... sum, or max\n",
    "        comm.Allreduce(Nu0loc, Nu0glob, op=MPI.SUM)\n",
    "        comm.Allreduce(Nu1loc, Nu1glob, op=MPI.SUM)\n",
    "        comm.Allreduce(Rmsurfloc, Rmsurfglob, op=MPI.SUM)\n",
    "        comm.Allreduce([Max_vx_surfloc, MPI.DOUBLE],[Max_vx_surfglob, MPI.DOUBLE],op=MPI.MAX)      \n",
    "        # output to summary text file\n",
    "        if uw.rank()==0:\n",
    "            f_o.write((13*'%-15s ' + '\\n') % (realtime, Viscdis, float(Nu0glob), float(Nu1glob), Avg_temp, \n",
    "                                              Rms,Rmsurfglob,Max_vx_surfglob,Gravwork, etamax, etamin, Viscdisair, Viscdislith))\n",
    "        #test = max_vx_surf(velocityField, surfintswarm)    \n",
    "        #if uw.rank()==0:\n",
    "         #   print(Rmsurfglob,MRms_surf, Max_vx_surfglob, MMax_vx_surf, etamax, Metamax)\n",
    "        #print(Rmsurfloc, test)\n",
    "    ################\n",
    "    #Gldb output\n",
    "    ################ \n",
    "    if (step % gldbs_output == 0) & (writeFiles == True):\n",
    "        #Rebuild any necessary swarm variables\n",
    "        viscVariable.data[:] = viscosityMapFn.evaluate(gSwarm)\n",
    "        #Write gldbs\n",
    "        fnamedb = \"dbFig\" + \"_\" + str(ModIt) + \"_\" + str(step) + \".gldb\"\n",
    "        fullpath = os.path.join(outputPath + \"gldbs/\" + fnamedb)\n",
    "        figDb.show()\n",
    "        figDb.save_database(fullpath)\n",
    "    ################\n",
    "    #Also repopulate entire swarm periodically\n",
    "    ################\n",
    "    if step % swarm_repop == 0:\n",
    "        pics.repopulate()\n",
    "    ################\n",
    "    #Checkpoint\n",
    "    ################\n",
    "    if step % checkpoint_every == 0:\n",
    "        if uw.rank() == 0:\n",
    "            checkpoint1(step, checkpointPath,f_o, metric_output)           \n",
    "        checkpoint2(step, checkpointPath, gSwarm, f_o, varlist = varlist, varnames = varnames)\n",
    "        f_o = open(os.path.join(outputPath, outputFile), 'a') #is this line supposed to be here?\n",
    "     \n",
    "    \n",
    "f_o.close()\n",
    "#print 'step =',step, '; dt =', dt, '; CPU time =', time.clock()-startMain"
   ]
  },
  {
   "cell_type": "code",
   "execution_count": null,
   "metadata": {
    "collapsed": false
   },
   "outputs": [],
   "source": [
    "#figEta = glucifer.Figure(figsize=(1024,384))\n",
    "#figEta.append( glucifer.objects.Points(gSwarm,viscVariable, logScale=True))\n",
    "#figEta.save_database('test.gldb')\n",
    "#figEta.show()\n",
    "\n"
   ]
  },
  {
   "cell_type": "code",
   "execution_count": null,
   "metadata": {
    "collapsed": false
   },
   "outputs": [],
   "source": [
    "\n",
    "#figMat = glucifer.Figure()\n",
    "#figMat.append( glucifer.objects.Points(gSwarm,materialVariable, colours='brown white blue red'))\n",
    "#figMat.append( glucifer.objects.Points(surfintswarm,materialVariable, pointSize= 5.))\n",
    "#figMat.append( glucifer.objects.Mesh(mesh))\n",
    "#figMat.save_database('test.gldb')\n",
    "#figMat.show()\n",
    "\n",
    " "
   ]
  },
  {
   "cell_type": "code",
   "execution_count": null,
   "metadata": {
    "collapsed": false
   },
   "outputs": [],
   "source": [
    "#avg_temp()"
   ]
  },
  {
   "cell_type": "code",
   "execution_count": null,
   "metadata": {
    "collapsed": false
   },
   "outputs": [],
   "source": []
  },
  {
   "cell_type": "code",
   "execution_count": 63,
   "metadata": {
    "collapsed": false
   },
   "outputs": [
    {
     "data": {
      "text/html": [
       "<img src='data:image/png;base64,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'>"
      ],
      "text/plain": [
       "<IPython.core.display.HTML object>"
      ]
     },
     "execution_count": 63,
     "metadata": {},
     "output_type": "execute_result"
    }
   ],
   "source": [
    "#figStrainRate = glucifer.Figure()\n",
    "#figStrainRate.append( glucifer.objects.Surface(mesh, strainRate_2ndInvariant, logScale=True))\n",
    "#figStrainRate.show()\n",
    "#figStrainRate.save_database('test.gldb')\n"
   ]
  },
  {
   "cell_type": "code",
   "execution_count": null,
   "metadata": {
    "collapsed": false
   },
   "outputs": [],
   "source": [
    "machine_time = (time.clock()-startMain)\n",
    "print(\"total time is: \" + str(machine_time))"
   ]
  },
  {
   "cell_type": "code",
   "execution_count": 61,
   "metadata": {
    "collapsed": false
   },
   "outputs": [
    {
     "data": {
      "text/plain": [
       "17.138831881665546"
      ]
     },
     "execution_count": 61,
     "metadata": {},
     "output_type": "execute_result"
    }
   ],
   "source": [
    "velocityField.evaluate(IWalls)[:,0].max()"
   ]
  },
  {
   "cell_type": "code",
   "execution_count": 62,
   "metadata": {
    "collapsed": false
   },
   "outputs": [
    {
     "data": {
      "text/plain": [
       "0.0"
      ]
     },
     "execution_count": 62,
     "metadata": {},
     "output_type": "execute_result"
    }
   ],
   "source": [
    "velocityField.evaluate(TWalls)[:,0].max()"
   ]
  },
  {
   "cell_type": "code",
   "execution_count": null,
   "metadata": {
    "collapsed": true
   },
   "outputs": [],
   "source": []
  }
 ],
 "metadata": {
  "kernelspec": {
   "display_name": "Python 2",
   "language": "python",
   "name": "python2"
  },
  "language_info": {
   "codemirror_mode": {
    "name": "ipython",
    "version": 2
   },
   "file_extension": ".py",
   "mimetype": "text/x-python",
   "name": "python",
   "nbconvert_exporter": "python",
   "pygments_lexer": "ipython2",
   "version": "2.7.11"
  }
 },
 "nbformat": 4,
 "nbformat_minor": 0
}
