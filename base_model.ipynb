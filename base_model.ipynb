{
 "cells": [
  {
   "cell_type": "markdown",
   "metadata": {
    "collapsed": true
   },
   "source": [
    "\n",
    "Viscoplastic thermal convection in a 2-D square box\n",
    "=======\n",
    "\n",
    "Benchmarks from Tosi et al. 2015\n",
    "--------\n",
    "\n"
   ]
  },
  {
   "cell_type": "markdown",
   "metadata": {
    "collapsed": true
   },
   "source": [
    "This notebook generates models from the <a name=\"ref-1\"/>[(Tosi et al., 2015)](#cite-tosi2015community) in Underworld2. The Underworld2 results are compared to the model run on Fenics. Input files for the Fenics models were provided by Petra Maierova.\n",
    "\n",
    "This example uses the RT PIC solver with classic and nearest neighbour\n",
    "\n",
    "\n",
    "References\n",
    "====\n",
    "\n",
    "<a name=\"cite-tosi2015community\"/><sup>[^](#ref-1) </sup>Tosi, Nicola and Stein, Claudia and Noack, Lena and H&uuml;ttig, Christian and Maierov&aacute;, Petra and Samuel, Henri and Davies, DR and Wilson, CR and Kramer, SC and Thieulot, Cedric and others. 2015. _A community benchmark for viscoplastic thermal convection in a 2-D square box_.\n",
    "\n"
   ]
  },
  {
   "cell_type": "markdown",
   "metadata": {},
   "source": [
    "Load python functions needed for underworld. Some additional python functions from os, math and numpy used later on."
   ]
  },
  {
   "cell_type": "code",
   "execution_count": 311,
   "metadata": {
    "collapsed": false
   },
   "outputs": [],
   "source": [
    "#!pip install natsort\n",
    "#!pip install networkx"
   ]
  },
  {
   "cell_type": "code",
   "execution_count": 312,
   "metadata": {
    "collapsed": false
   },
   "outputs": [],
   "source": [
    "import networkx as nx\n",
    "import underworld as uw\n",
    "import math\n",
    "from underworld import function as fn\n",
    "import glucifer\n",
    "#import matplotlib.pyplot as pyplot\n",
    "import time\n",
    "import numpy as np\n",
    "import os\n",
    "import sys\n",
    "import natsort\n",
    "import shutil\n",
    "from easydict import EasyDict as edict\n",
    "import slippy2 as sp\n",
    "\n",
    "\n",
    "\n",
    "from mpi4py import MPI\n",
    "comm = MPI.COMM_WORLD\n",
    "rank = comm.Get_rank()"
   ]
  },
  {
   "cell_type": "code",
   "execution_count": 313,
   "metadata": {
    "collapsed": false
   },
   "outputs": [
    {
     "name": "stdout",
     "output_type": "stream",
     "text": [
      "/Users/dansandiford/Documents/programming/earthsci_code/python/vueesc\r\n",
      "\u001b[1m\u001b[34mA\u001b[m\u001b[m                analysis.ipynb   \u001b[1m\u001b[34mhpc_scripts\u001b[m\u001b[m      \u001b[1m\u001b[34mresults\u001b[m\u001b[m\r\n",
      "R0.py            base_model.ipynb \u001b[1m\u001b[34mmagnus_scripts\u001b[m\u001b[m   \u001b[1m\u001b[34mspeedtest\u001b[m\u001b[m\r\n",
      "README.md        base_model.py    \u001b[1m\u001b[34mmetrics_test\u001b[m\u001b[m     \u001b[1m\u001b[34mtemp_ics\u001b[m\u001b[m\r\n",
      "\u001b[1m\u001b[34mT\u001b[m\u001b[m                \u001b[1m\u001b[34mcrust_resolution\u001b[m\u001b[m \u001b[1m\u001b[34mmodels\u001b[m\u001b[m           test.gldb\r\n"
     ]
    }
   ],
   "source": [
    "#Display working directory info if in nb mode\n",
    "if (len(sys.argv) > 1):\n",
    "    if (sys.argv[1] == '-f'):\n",
    "        !pwd && ls"
   ]
  },
  {
   "cell_type": "code",
   "execution_count": 314,
   "metadata": {
    "collapsed": false
   },
   "outputs": [],
   "source": [
    "############\n",
    "#Model name.  \n",
    "############\n",
    "Model = \"R\"\n",
    "ModNum = 1\n",
    "\n",
    "if len(sys.argv) == 1:\n",
    "    ModIt = \"Base\"\n",
    "elif sys.argv[1] == '-f':\n",
    "    ModIt = \"Base\"\n",
    "else:\n",
    "    ModIt = str(sys.argv[1])\n"
   ]
  },
  {
   "cell_type": "code",
   "execution_count": 315,
   "metadata": {
    "collapsed": true
   },
   "outputs": [],
   "source": [
    "###########\n",
    "#Standard output directory setup\n",
    "###########\n",
    "\n",
    "\n",
    "outputPath = \"results\" + \"/\" +  str(Model) + \"/\" + str(ModNum) + \"/\" + str(ModIt) + \"/\"\n",
    "imagePath = outputPath + 'images/'\n",
    "filePath = outputPath + 'files/'\n",
    "checkpointPath = outputPath + 'checkpoint/'\n",
    "dbPath = outputPath + 'gldbs/'\n",
    "outputFile = 'results_model' + Model + '_' + str(ModNum) + '_' + str(ModIt) + '.dat'\n",
    "\n",
    "if uw.rank()==0:\n",
    "    # make directories if they don't exist\n",
    "    if not os.path.isdir(outputPath):\n",
    "        os.makedirs(outputPath)\n",
    "    if not os.path.isdir(checkpointPath):\n",
    "        os.makedirs(checkpointPath)\n",
    "    if not os.path.isdir(imagePath):\n",
    "        os.makedirs(imagePath)\n",
    "    if not os.path.isdir(dbPath):\n",
    "        os.makedirs(dbPath)\n",
    "    if not os.path.isdir(filePath):\n",
    "        os.makedirs(filePath)\n",
    "        \n",
    "comm.Barrier() #Barrier here so not procs run the check in the next cell too early "
   ]
  },
  {
   "cell_type": "code",
   "execution_count": 316,
   "metadata": {
    "collapsed": false
   },
   "outputs": [
    {
     "name": "stdout",
     "output_type": "stream",
     "text": [
      "results/R/20/Base/checkpoint/ is empty\n"
     ]
    }
   ],
   "source": [
    "###########\n",
    "#Check if starting from checkpoint\n",
    "###########\n",
    "\n",
    "checkdirs = []\n",
    "for dirpath, dirnames, files in os.walk(checkpointPath):\n",
    "    if files:\n",
    "        print dirpath, 'has files'\n",
    "        checkpointLoad = True\n",
    "        checkdirs.append(dirpath)\n",
    "    if not files:\n",
    "        print dirpath, 'is empty'\n",
    "        checkpointLoad = False\n",
    "        \n",
    "\n",
    "        "
   ]
  },
  {
   "cell_type": "markdown",
   "metadata": {},
   "source": [
    "Set physical constants and parameters, including the Rayleigh number (*RA*). "
   ]
  },
  {
   "cell_type": "code",
   "execution_count": 317,
   "metadata": {
    "collapsed": false
   },
   "outputs": [],
   "source": [
    "###########\n",
    "#Physical parameters\n",
    "###########\n",
    "\n",
    "#The Slippy rheology class will contain dimensional and nondimensional values, linked in a self-consistent way by scaling paramters\n",
    "#lowermantle.nondimensional['cohesion']\n",
    "#Where lowermantle is a material class (generated within a rheology class); and non dimensional is a dictionary\n",
    "\n",
    "#UW naming conventions: \n",
    "#module_name, package_name, ClassName, function_name, method_name, \n",
    "#ExceptionName, propertyName GLOBAL_CONSTANT_NAME, globalVarName, instanceVarName, functionParameterName, localVarName\n",
    "###########\n",
    "\n",
    "\n",
    "newvisc= math.exp(math.log(1e5)*0.53) #A factor that appears because I rescale the reference viscosity, compared to the one used in Tosi et al.\n",
    "#Where 1e5 = ETAT, and 0.53 is the steady state average temp of the system \n",
    "\n",
    "#dimensional parameter dictionary\n",
    "dp = edict({'LS':2890.*1e3,\n",
    "           'rho':3300,\n",
    "           'g':9.81, \n",
    "           'kappa':10**-6,\n",
    "           'alpha':1.25*10**-5, \n",
    "           'deltaT':2500,\n",
    "           'StALS': 150e3})\n",
    "\n",
    "#non-dimensional parameter dictionary\n",
    "ndp = edict({'RA':1e2*newvisc, \n",
    "              'LS':1., \n",
    "              'etaT':1e5, \n",
    "              'etaY':10., \n",
    "              'eta0':1e-3*newvisc,\n",
    "              'StAeta0':1e-2,\n",
    "              'TS':0.,\n",
    "              'TB':1., \n",
    "              'cohesion':1.*newvisc}) #4.6 is the transistion from periodic to stagnant lid.\n",
    "\n",
    "\n",
    "#dimsional values used in this model\n",
    "D = dp.LS\n",
    "g = dp.g\n",
    "rho = dp.rho\n",
    "a = dp.alpha\n",
    "kappa = dp.kappa\n",
    "dT = dp.deltaT\n",
    "\n",
    "#nondimensional values used in this model\n",
    "#RA  = nondim.RA      # Rayleigh number\n",
    "#TS  = nondim.TS          # surface temperature\n",
    "#TB  = nondim.TB           # bottom boundary temperature (melting point)\n",
    "#ETA_T = nondim.etaT\n",
    "#ETA_Y = nondim.etaY\n",
    "#ETA0 = nondim.eta0\n",
    "#YSTRESS = nondim.cohesion\n",
    "\n",
    "#A few paramters defining lengths scales, affects materal transistions etc.\n",
    "MANTLETOCRUST = (18.*1e3)/D #Crust depth\n",
    "CRUSTTOMANTLE = (300.*1e3)/D\n",
    "LITHTOMANTLE = (660.*1e3)/D\n",
    "MANTLETOLITH = (200.*1e3)/D\n",
    "TOPOHEIGHT = (10.*1e3)/D #rock-air topography limits\n",
    "AVGTEMP = 0.53 #Used to define lithosphere\n",
    "\n",
    "\n",
    "\n",
    "#Compositional Rayliegh number of rock-air\n",
    "ETAREF = rho*g*a*dT*((D*1e3)**3)/(ndp.RA*kappa) #equivalent dimesnional reference viscosity\n",
    "RC = (3300*g*(D*1000)**3)/(ETAREF *kappa) #Composisitional Rayleigh number for rock-air buoyancy force\n",
    "COMP_RA_FACT = RC/ndp.RA\n",
    "\n",
    "\n",
    "#Additional dimensionless paramters\n",
    "AIRVISCOSITY = 0.001\n",
    "AIRDENSITY = ndp.RA*COMP_RA_FACT\n",
    "\n",
    "ndp[\"StA\"] = ndp.RA*COMP_RA_FACT\n",
    "\n"
   ]
  },
  {
   "cell_type": "code",
   "execution_count": 318,
   "metadata": {
    "collapsed": false
   },
   "outputs": [
    {
     "data": {
      "text/plain": [
       "44668.35921509633"
      ]
     },
     "execution_count": 318,
     "metadata": {},
     "output_type": "execute_result"
    }
   ],
   "source": [
    "ndp.RA"
   ]
  },
  {
   "cell_type": "code",
   "execution_count": 319,
   "metadata": {
    "collapsed": false
   },
   "outputs": [],
   "source": [
    "###########\n",
    "#Model setup parameters\n",
    "###########\n",
    "\n",
    "stickyAir = True\n",
    "\n",
    "MINX = -1.\n",
    "MINY = 0.\n",
    "MAXX = 1.0\n",
    "\n",
    "#MAXY = 1.035\n",
    "MAXY = 1.\n",
    "\n",
    "if MINX == 0.:\n",
    "    squareModel = True\n",
    "else: \n",
    "    squareModel = False\n",
    "    \n",
    "    \n",
    "dim = 2          # number of spatial dimensions\n",
    "\n",
    "\n",
    "#MESH STUFF\n",
    "\n",
    "RES = 96\n",
    "\n",
    "\n",
    "if MINX == 0.:\n",
    "    Xres = RES\n",
    "else:\n",
    "    Xres = 2*RES\n",
    "\n",
    "if stickyAir:\n",
    "    Yres = RES\n",
    "    MAXY = 1. + dp.StALS/dp.LS #150km\n",
    "    \n",
    "else:\n",
    "    Yres = RES\n",
    "    MAXY = 1.\n",
    "\n",
    "\n",
    "periodic = [True, False]\n",
    "elementType = \"Q1/dQ0\"\n",
    "#elementType =\"Q2/DPC1\"\n",
    "\n",
    "refineMesh = True\n",
    "\n",
    "\n",
    "#System/Solver stuff\n",
    "\n",
    "PIC_integration=True\n",
    "ppc = 25"
   ]
  },
  {
   "cell_type": "code",
   "execution_count": 320,
   "metadata": {
    "collapsed": false
   },
   "outputs": [],
   "source": [
    "###########\n",
    "#Model Runtime parameters\n",
    "###########\n",
    "\n",
    "swarm_update = 2\n",
    "swarm_repop = 10\n",
    "files_output = 1e6\n",
    "gldbs_output = 2\n",
    "images_output = 1e6\n",
    "checkpoint_every = 2\n",
    "metric_output = 2\n",
    "sticky_air_temp = 1e6\n",
    "\n",
    "comm.Barrier() #Barrier here so not procs run the check in the next cell too early \n",
    "\n",
    "#assert metric_output <= checkpoint_every, 'Checkpointing should run less or as ofen as metric output'\n",
    "#assert (metric_output >= swarm_update), 'Swarm update is needed before checkpointing'\n",
    "#assert metric_output >= sticky_air_temp, 'Sticky air temp should be updated more frequently that metrics'\n"
   ]
  },
  {
   "cell_type": "code",
   "execution_count": 321,
   "metadata": {
    "collapsed": false
   },
   "outputs": [],
   "source": [
    "###########\n",
    "#Model output parameters\n",
    "###########\n",
    "\n",
    "#Do you want to write hdf5 files - Temp, RMS, viscosity, stress?\n",
    "writeFiles = True\n",
    "loadTemp = True\n",
    "\n",
    "    "
   ]
  },
  {
   "cell_type": "code",
   "execution_count": 322,
   "metadata": {
    "collapsed": false
   },
   "outputs": [],
   "source": [
    "mesh = uw.mesh.FeMesh_Cartesian( elementType = elementType,\n",
    "                                 elementRes  = (Xres, Yres), \n",
    "                                 minCoord    = (MINX,MINY), \n",
    "                                 maxCoord=(MAXX,MAXY), periodic=periodic)\n",
    "\n",
    "\n",
    "\n",
    "velocityField       = uw.mesh.MeshVariable( mesh=mesh,         nodeDofCount=dim )\n",
    "pressureField       = uw.mesh.MeshVariable( mesh=mesh.subMesh, nodeDofCount=1 )\n",
    "temperatureField    = uw.mesh.MeshVariable( mesh=mesh,         nodeDofCount=1 )\n",
    "temperatureDotField = uw.mesh.MeshVariable( mesh=mesh,         nodeDofCount=1 )"
   ]
  },
  {
   "cell_type": "code",
   "execution_count": 323,
   "metadata": {
    "collapsed": false
   },
   "outputs": [
    {
     "data": {
      "text/plain": [
       "(128, -1.0, [False, False], 'Q1/dQ0')"
      ]
     },
     "execution_count": 323,
     "metadata": {},
     "output_type": "execute_result"
    }
   ],
   "source": [
    "Xres, MINX, periodic, elementType"
   ]
  },
  {
   "cell_type": "markdown",
   "metadata": {},
   "source": [
    "Create Finite Element (FE) variables for the velocity, pressure and temperature fields. The last two of these are scalar fields needing only one value at each mesh point, while the velocity field contains a vector of *dim* dimensions at each mesh point."
   ]
  },
  {
   "cell_type": "markdown",
   "metadata": {},
   "source": [
    "Create some dummy fevariables for doing top and bottom boundary calculations."
   ]
  },
  {
   "cell_type": "markdown",
   "metadata": {},
   "source": [
    "## Refine mesh"
   ]
  },
  {
   "cell_type": "code",
   "execution_count": 324,
   "metadata": {
    "collapsed": false
   },
   "outputs": [
    {
     "name": "stdout",
     "output_type": "stream",
     "text": [
      "Min\n",
      "(128, 0.0078140624999999998, 1.5001999999999998, 0.99960000000000093)\n",
      "('edges', 128)\n",
      "-- iteration 0 --\n",
      "| F( p_n ) |^2: 0.000125834660797\n",
      "| p_n+1 - p_n |^2: 1.06884342198\n",
      "-- iteration 1 --\n",
      "| F( p_n ) |^2: 4.05552698039e-31\n",
      "Min, Max element width: \n",
      "0.00781\n",
      "0.02344\n"
     ]
    }
   ],
   "source": [
    "#X-Axis\n",
    "\n",
    "if refineMesh:\n",
    "    mesh.reset()\n",
    "    axis = 0\n",
    "    origcoords = np.linspace(mesh.minCoord[axis], mesh.maxCoord[axis], mesh.elementRes[axis] + 1)\n",
    "    edge_rest_lengths = np.diff(origcoords)\n",
    "\n",
    "    deform_lengths = edge_rest_lengths.copy()\n",
    "    min_point =  (abs(mesh.maxCoord[axis]) - abs(mesh.minCoord[axis]))/2.\n",
    "    el_reduction = 0.5001\n",
    "    dx = mesh.maxCoord[axis] - min_point\n",
    "\n",
    "    deform_lengths = deform_lengths - \\\n",
    "                                    ((1.-el_reduction) *deform_lengths[0]) + \\\n",
    "                                    abs((origcoords[1:] - min_point))*((0.5*deform_lengths[0])/dx)\n",
    "\n",
    "    #print(edge_rest_lengths.shape, deform_lengths.shape)\n",
    "\n",
    "    sp.deform_1d(deform_lengths, mesh,axis = 'x',norm = 'Min', constraints = [])"
   ]
  },
  {
   "cell_type": "code",
   "execution_count": 325,
   "metadata": {
    "collapsed": false
   },
   "outputs": [],
   "source": [
    "axis = 1\n",
    "orgs = np.linspace(mesh.minCoord[axis], mesh.maxCoord[axis], mesh.elementRes[axis] + 1)\n",
    "\n",
    "value_to_constrain = 1.\n",
    "\n",
    "\n",
    "yconst = [(sp.find_closest(orgs, value_to_constrain), np.array([1.,0]))]\n"
   ]
  },
  {
   "cell_type": "code",
   "execution_count": 326,
   "metadata": {
    "collapsed": false
   },
   "outputs": [
    {
     "name": "stdout",
     "output_type": "stream",
     "text": [
      "Min\n",
      "(64, 0.0078140624999999998, 0.74619374999999988, 1.0313396825396834)\n",
      "('edges', 64)\n",
      "-- iteration 0 --\n",
      "| F( p_n ) |^2: 0.000125895187329\n",
      "| p_n+1 - p_n |^2: 0.550178754655\n",
      "-- iteration 1 --\n",
      "| F( p_n ) |^2: 3.77079027518e-31\n",
      "Min, Max element width: \n",
      "0.00781\n",
      "0.02344\n"
     ]
    }
   ],
   "source": [
    "#Y-Axis\n",
    "if refineMesh:\n",
    "    #Y-Axis\n",
    "    axis = 1\n",
    "    origcoords = np.linspace(mesh.minCoord[axis], mesh.maxCoord[axis], mesh.elementRes[axis] + 1)\n",
    "    edge_rest_lengths = np.diff(origcoords)\n",
    "\n",
    "    deform_lengths = edge_rest_lengths.copy()\n",
    "    min_point =  (mesh.maxCoord[axis])\n",
    "    el_reduction = 0.5001\n",
    "    dx = mesh.maxCoord[axis]\n",
    "\n",
    "    deform_lengths = deform_lengths - \\\n",
    "                                    ((1.-el_reduction)*deform_lengths[0]) + \\\n",
    "                                    abs((origcoords[1:] - min_point))*((0.5*deform_lengths[0])/dx)\n",
    "\n",
    "    #print(edge_rest_lengths.shape, deform_lengths.shape)\n",
    "\n",
    "    sp.deform_1d(deform_lengths, mesh,axis = 'y',norm = 'Min', constraints = yconst)"
   ]
  },
  {
   "cell_type": "code",
   "execution_count": null,
   "metadata": {
    "collapsed": true
   },
   "outputs": [],
   "source": []
  },
  {
   "cell_type": "markdown",
   "metadata": {},
   "source": [
    "# ICs and BCs"
   ]
  },
  {
   "cell_type": "code",
   "execution_count": 327,
   "metadata": {
    "collapsed": true
   },
   "outputs": [],
   "source": [
    "# Initialise data.. Note that we are also setting boundary conditions here\n",
    "velocityField.data[:] = [0.,0.]\n",
    "pressureField.data[:] = 0.\n",
    "temperatureField.data[:] = 0.\n",
    "temperatureDotField.data[:] = 0.\n"
   ]
  },
  {
   "cell_type": "markdown",
   "metadata": {},
   "source": [
    "## Temp ICs"
   ]
  },
  {
   "cell_type": "code",
   "execution_count": 328,
   "metadata": {
    "collapsed": true
   },
   "outputs": [],
   "source": [
    "\n",
    "# Setup temperature initial condition via numpy arrays\n",
    "A = 0.01\n",
    "#Note that width = height = 1\n",
    "tempNump = temperatureField.data\n",
    "for index, coord in enumerate(mesh.data):\n",
    "    pertCoeff = (1- coord[1]) + A*math.cos( math.pi * abs(1. - coord[0]) ) * math.sin( math.pi * coord[1] )\n",
    "    tempNump[index] = pertCoeff;\n",
    "    if coord[1] > 1:\n",
    "        tempNump[index] = 0."
   ]
  },
  {
   "cell_type": "code",
   "execution_count": 329,
   "metadata": {
    "collapsed": false
   },
   "outputs": [],
   "source": [
    "dummymesh = uw.mesh.FeMesh_Cartesian( elementType = (\"Q1/dQ0\"),\n",
    "                                 elementRes  = (128, 64), \n",
    "                                 minCoord    = (-1.,0.), \n",
    "                                 maxCoord=(1.,1.), periodic=False, partitioned=False)\n",
    "\n",
    "    \n",
    "dummytemperatureField = uw.mesh.MeshVariable(mesh=dummymesh, nodeDofCount=1 )\n",
    "\n",
    "dummytemperatureField.load(\"crust_resolution/8100/temperatureField.hdf5\")"
   ]
  },
  {
   "cell_type": "code",
   "execution_count": 330,
   "metadata": {
    "collapsed": false
   },
   "outputs": [
    {
     "data": {
      "text/plain": [
       "False"
      ]
     },
     "execution_count": 330,
     "metadata": {},
     "output_type": "execute_result"
    }
   ],
   "source": [
    "checkpointLoad"
   ]
  },
  {
   "cell_type": "code",
   "execution_count": 335,
   "metadata": {
    "collapsed": true
   },
   "outputs": [],
   "source": [
    "if not checkpointLoad:\n",
    "    temperatureDotField.data[:] = 0.\n",
    "    for index, coord in enumerate(mesh.data):\n",
    "        if coord[1] > 1.:\n",
    "            temperatureField.data[index] = 0.\n",
    "        #Don't know mesh partitions in ad vance, and possible diferent between 'real' and 'dummy' mesh\n",
    "        else:\n",
    "            temperatureField.data[index] = dummytemperatureField.evaluate([coord[0], coord[1]])"
   ]
  },
  {
   "cell_type": "code",
   "execution_count": 337,
   "metadata": {
    "collapsed": false
   },
   "outputs": [
    {
     "data": {
      "text/html": [
       "<img src='data:image/png;base64,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'>"
      ],
      "text/plain": [
       "<IPython.core.display.HTML object>"
      ]
     },
     "execution_count": 337,
     "metadata": {},
     "output_type": "execute_result"
    }
   ],
   "source": [
    "#figTemp = glucifer.Figure()\n",
    "#figTemp.append( glucifer.objects.Surface(mesh, temperatureField))\n",
    "#figTemp.append( glucifer.objects.Mesh(mesh))\n",
    "#figTemp.save_database('test.gldb')\n",
    "#figTemp.show()"
   ]
  },
  {
   "cell_type": "markdown",
   "metadata": {
    "collapsed": true
   },
   "source": []
  },
  {
   "cell_type": "code",
   "execution_count": 334,
   "metadata": {
    "collapsed": false
   },
   "outputs": [],
   "source": [
    "# Get the actual sets \n",
    "#\n",
    "#  HJJJJJJH\n",
    "#  I      I\n",
    "#  I      I\n",
    "#  I      I\n",
    "#  HJJJJJJH\n",
    "#  \n",
    "#  Note that H = I & J \n",
    "\n",
    "# Note that we use operator overloading to combine sets\n",
    "# send boundary condition information to underworld\n",
    "IWalls = mesh.specialSets[\"MinI_VertexSet\"] + mesh.specialSets[\"MaxI_VertexSet\"]\n",
    "JWalls = mesh.specialSets[\"MinJ_VertexSet\"] + mesh.specialSets[\"MaxJ_VertexSet\"]\n",
    "TWalls = mesh.specialSets[\"MaxJ_VertexSet\"]\n",
    "BWalls = mesh.specialSets[\"MinJ_VertexSet\"]"
   ]
  },
  {
   "cell_type": "code",
   "execution_count": null,
   "metadata": {
    "collapsed": true
   },
   "outputs": [],
   "source": []
  },
  {
   "cell_type": "code",
   "execution_count": 188,
   "metadata": {
    "collapsed": false
   },
   "outputs": [],
   "source": [
    "# Now setup the dirichlet boundary condition\n",
    "# Note that through this object, we are flagging to the system \n",
    "# that these nodes are to be considered as boundary conditions. \n",
    "# Also note that we provide a tuple of sets.. One for the Vx, one for Vy.\n",
    "freeslipBC = uw.conditions.DirichletCondition(     variable=velocityField, \n",
    "                                              indexSetsPerDof=(TWalls, JWalls) )\n",
    "\n",
    "# also set dirichlet for temp field\n",
    "tempBC = uw.conditions.DirichletCondition(     variable=temperatureField, \n",
    "                                              indexSetsPerDof=(JWalls,) )"
   ]
  },
  {
   "cell_type": "markdown",
   "metadata": {},
   "source": [
    "##Add Random 125 K temp perturbation\n"
   ]
  },
  {
   "cell_type": "markdown",
   "metadata": {
    "collapsed": true
   },
   "source": [
    "tempNump = temperatureField.data\n",
    "\n",
    "#In gerneral we only want to do this on the initial setup, not restarts\n",
    "\n",
    "if not checkpointLoad:\n",
    "    for index, coord in enumerate(mesh.data):\n",
    "        pertCoeff = (0.05*(np.random.rand(1)[0] - 0.5)) #this should create values between [-0.5,0.5] from uniform dist.\n",
    "        ict = tempNump[index]\n",
    "        tempNump[index] = ict + pertCoeff"
   ]
  },
  {
   "cell_type": "markdown",
   "metadata": {},
   "source": [
    "##Reset bottom Dirichlet conds."
   ]
  },
  {
   "cell_type": "code",
   "execution_count": 189,
   "metadata": {
    "collapsed": false
   },
   "outputs": [],
   "source": [
    "# Set temp boundaries \n",
    "# on the boundaries\n",
    "for index in mesh.specialSets[\"MinJ_VertexSet\"]:\n",
    "    temperatureField.data[index] = ndp.TB\n",
    "for index in mesh.specialSets[\"MaxJ_VertexSet\"]:\n",
    "    temperatureField.data[index] = ndp.TS"
   ]
  },
  {
   "cell_type": "code",
   "execution_count": 190,
   "metadata": {
    "collapsed": false
   },
   "outputs": [],
   "source": [
    "#checkdirs"
   ]
  },
  {
   "cell_type": "code",
   "execution_count": null,
   "metadata": {
    "collapsed": true
   },
   "outputs": [],
   "source": []
  },
  {
   "cell_type": "markdown",
   "metadata": {},
   "source": [
    "# Particles"
   ]
  },
  {
   "cell_type": "code",
   "execution_count": 191,
   "metadata": {
    "collapsed": false
   },
   "outputs": [],
   "source": [
    "###########\n",
    "#Material Swarm and variables\n",
    "###########\n",
    "\n",
    "gSwarm = uw.swarm.Swarm(mesh=mesh)\n",
    "materialVariable = gSwarm.add_variable( dataType=\"char\", count=1 )\n",
    "rockIntVar = gSwarm.add_variable( dataType=\"double\", count=1 )\n",
    "airIntVar = gSwarm.add_variable( dataType=\"double\", count=1 )\n",
    "lithIntVar = gSwarm.add_variable( dataType=\"double\", count=1 )\n",
    "\n",
    "varlist = [materialVariable, rockIntVar, airIntVar, lithIntVar]\n",
    "varnames = ['materialVariable', 'rockIntVar', 'airIntVar', 'lithIntVar']"
   ]
  },
  {
   "cell_type": "code",
   "execution_count": 192,
   "metadata": {
    "collapsed": false
   },
   "outputs": [],
   "source": [
    "###########\n",
    "#Swarms for surface intragrals when using Sticky air\n",
    "###########\n",
    "\n",
    "snum = 1000.\n",
    "dx = (mesh.data[:,0].max()- mesh.data[:,0].min())/snum\n",
    "yp = 0.9947 #1. - yelsize/2. at res = 96\n",
    "\n",
    "mesh.data[:,0].max()\n",
    "xps = np.linspace(mesh.data[:,0].min(),mesh.data[:,0].max(), snum)\n",
    "yps = [yp for i in xps]\n",
    "\n",
    "surfintswarm = uw.swarm.Swarm( mesh=mesh )\n",
    "dumout = surfintswarm.add_particles_with_coordinates(np.array((xps,yps)).T)\n",
    "\n",
    "yps = [ 1.- yp  for i in xps]\n",
    "\n",
    "baseintswarm = uw.swarm.Swarm( mesh=mesh)\n",
    "dumout = baseintswarm.add_particles_with_coordinates(np.array((xps,yps)).T)"
   ]
  },
  {
   "cell_type": "markdown",
   "metadata": {},
   "source": [
    "#Initialise swarm variables, or Swarm checkpoint load"
   ]
  },
  {
   "cell_type": "code",
   "execution_count": 193,
   "metadata": {
    "collapsed": false
   },
   "outputs": [],
   "source": [
    "mantleIndex = 0\n",
    "lithosphereIndex = 1\n",
    "crustIndex = 2\n",
    "airIndex = 3\n",
    "\n",
    "\n",
    "if checkpointLoad:\n",
    "    checkpointLoadDir = natsort.natsorted(checkdirs)[-1]\n",
    "    temperatureField.load(os.path.join(checkpointLoadDir, \"temperatureField\" + \".hdf5\"))\n",
    "    pressureField.load(os.path.join(checkpointLoadDir, \"pressureField\" + \".hdf5\"))\n",
    "    velocityField.load(os.path.join(checkpointLoadDir, \"velocityField\" + \".hdf5\"))\n",
    "    gSwarm.load(os.path.join(checkpointLoadDir, \"swarm\" + \".h5\"))\n",
    "    for ix in range(len(varlist)):\n",
    "        varb = varlist[ix]\n",
    "        varb.load(os.path.join(checkpointLoadDir,varnames[ix] + \".h5\"))\n",
    "\n",
    "else:\n",
    "\n",
    "    # Layouts are used to populate the swarm across the whole domain\n",
    "    # Create the layout object\n",
    "    layout = uw.swarm.layouts.PerCellRandomLayout(swarm=gSwarm, particlesPerCell=ppc)\n",
    "    # Now use it to populate.\n",
    "    gSwarm.populate_using_layout( layout=layout )\n",
    "\n",
    "    # Lets initialise the 'materialVariable' data to represent different materials\n",
    "    # Set the material to heavy everywhere via the numpy array\n",
    "    materialVariable.data[:] = mantleIndex\n",
    "    \n",
    "    \n",
    "    #Set initial air and crust materials (allow the graph to take care of lithsophere)\n",
    "    #########\n",
    "    #This initial material setup will be model dependent\n",
    "    #########\n",
    "    for particleID in range(gSwarm.particleCoordinates.data.shape[0]):\n",
    "        if (1. - gSwarm.particleCoordinates.data[particleID][1]) < 0:\n",
    "                 materialVariable.data[particleID] = airIndex\n",
    "        elif (1. - gSwarm.particleCoordinates.data[particleID][1]) < MANTLETOCRUST:\n",
    "                 materialVariable.data[particleID] = crustIndex\n"
   ]
  },
  {
   "cell_type": "markdown",
   "metadata": {},
   "source": [
    "#Material Graphs"
   ]
  },
  {
   "cell_type": "code",
   "execution_count": 194,
   "metadata": {
    "collapsed": false
   },
   "outputs": [],
   "source": [
    "##############\n",
    "#Important: This is a quick fix for a bug that arises in parallel runs\n",
    "##############\n",
    "material_list = [0,1,2,3]\n"
   ]
  },
  {
   "cell_type": "code",
   "execution_count": 195,
   "metadata": {
    "collapsed": false
   },
   "outputs": [
    {
     "name": "stdout",
     "output_type": "stream",
     "text": [
      "unique values after swarm has loaded:[0 2 3]\n"
     ]
    }
   ],
   "source": [
    "print( \"unique values after swarm has loaded:\" + str(np.unique(materialVariable.data[:])))\n"
   ]
  },
  {
   "cell_type": "code",
   "execution_count": 196,
   "metadata": {
    "collapsed": false
   },
   "outputs": [],
   "source": [
    "\n",
    "\n",
    "#All depth conditions are given as (km/D) where D is the length scale, \n",
    "#note that 'model depths' are used, e.g. 1-z, where z is the vertical Underworld coordinate\n",
    "#All temp conditions are in dimensionless temp. [0. - 1.]\n",
    "\n",
    "#######Graph object\n",
    "DG = nx.DiGraph(field=\"Depth\")\n",
    "\n",
    "#######Nodes\n",
    "#Note that the order of materials, deepest to shallowest is important \n",
    "DG.add_node(0, mat='mantle')\n",
    "DG.add_node(1, mat='lithosphere')\n",
    "DG.add_node(2, mat='crust')\n",
    "DG.add_node(3, mat='air')\n",
    "\n",
    "\n",
    "labels=dict((n,d['mat']) for n,d in DG.nodes(data=True))\n",
    "pos=nx.spring_layout(DG) \n",
    "\n",
    "\n",
    "#######Edges\n",
    "#anything to air\n",
    "DG.add_edges_from([(0,3),(1,3), (2,3)])\n",
    "DG[0][3]['depthcondition'] = -1*TOPOHEIGHT\n",
    "DG[1][3]['depthcondition'] = -1*TOPOHEIGHT\n",
    "DG[2][3]['depthcondition'] = -1*TOPOHEIGHT\n",
    "\n",
    "\n",
    "#Anything to mantle\n",
    "DG.add_edges_from([(2,0), (3,0), (1,0)])\n",
    "DG[3][0]['depthcondition'] = TOPOHEIGHT\n",
    "DG[2][0]['depthcondition'] = CRUSTTOMANTLE\n",
    "DG[1][0]['depthcondition'] = LITHTOMANTLE #This means we're going to kill lithosphere at the 660.\n",
    "\n",
    "\n",
    "#Anything to lithsphere\n",
    "DG.add_edges_from([(0,1),(3,1)])\n",
    "DG[0][1]['depthcondition'] = MANTLETOLITH\n",
    "DG[0][1]['avgtempcondition'] = 0.75*AVGTEMP #definition of thermal lithosphere\n",
    "\n",
    "\n",
    "#Anything to crust\n",
    "DG.add_edges_from([(0,2), (1,2)])\n",
    "DG[0][2]['depthcondition'] = MANTLETOCRUST\n",
    "DG[1][2]['depthcondition'] = MANTLETOCRUST"
   ]
  },
  {
   "cell_type": "code",
   "execution_count": 197,
   "metadata": {
    "collapsed": false
   },
   "outputs": [
    {
     "data": {
      "text/plain": [
       "[0, 1, 2, 3]"
      ]
     },
     "execution_count": 197,
     "metadata": {},
     "output_type": "execute_result"
    }
   ],
   "source": [
    "DG.nodes()"
   ]
  },
  {
   "cell_type": "code",
   "execution_count": 198,
   "metadata": {
    "collapsed": false
   },
   "outputs": [],
   "source": [
    "remove_nodes = []\n",
    "for node in DG.nodes():\n",
    "    if not node in material_list:\n",
    "        remove_nodes.append(node)\n",
    "        \n",
    "for rmnode in remove_nodes:\n",
    "    DG.remove_node(rmnode)"
   ]
  },
  {
   "cell_type": "code",
   "execution_count": 199,
   "metadata": {
    "collapsed": false
   },
   "outputs": [
    {
     "data": {
      "text/plain": [
       "[0, 1, 2, 3]"
      ]
     },
     "execution_count": 199,
     "metadata": {},
     "output_type": "execute_result"
    }
   ],
   "source": [
    "DG.nodes()"
   ]
  },
  {
   "cell_type": "code",
   "execution_count": 200,
   "metadata": {
    "collapsed": true
   },
   "outputs": [],
   "source": [
    "#A Dictionary to map strings in the graph (e.g. 'depthcondition') to particle data arrays\n",
    "\n",
    "particledepths = 1. - gSwarm.particleCoordinates.data[:,1]\n",
    "particletemps = temperatureField.evaluate(gSwarm)[:,0]\n",
    "\n",
    "conditionmap = {}\n",
    "\n",
    "conditionmap['depthcondition'] = {}\n",
    "conditionmap['depthcondition']['data'] = particledepths\n",
    "conditionmap['avgtempcondition'] = {}\n",
    "conditionmap['avgtempcondition']['data'] = particletemps"
   ]
  },
  {
   "cell_type": "code",
   "execution_count": 201,
   "metadata": {
    "collapsed": true
   },
   "outputs": [],
   "source": [
    "def update_swarm(graph, particleIndex):\n",
    "    \"\"\"\n",
    "    This function takes the materials graph (networkx.DiGraph), and a particle index,\n",
    "    then determines if a material update is required \n",
    "    and if so, returns the new materialindex\n",
    "    Args:\n",
    "        graph (networkx.DiGraph): Directed multigraph representing the transformation of material types\n",
    "        particleIndex (int): the particle index as corressponding to the index in the swarm data arrays\n",
    "    Returns:\n",
    "        if update is required the function returns the the new material variable (int) \n",
    "        else returns None\n",
    "    Raises:\n",
    "        TypeError: not implemented\n",
    "        ValueError: not implemented\n",
    "    \"\"\"\n",
    "    ##Egde gives links to other materials, we then query the conditions to see if we should change materials\n",
    "    matId = materialVariable.data[particleIndex][0]\n",
    "    innerchange = False\n",
    "    outerchange = False\n",
    "    for edge in graph[matId]:\n",
    "        if outerchange:\n",
    "            break\n",
    "        for cond in graph[matId][edge].keys():\n",
    "            outerchange = False\n",
    "            if innerchange: #found a complete transition, break inner loop\n",
    "                break\n",
    "            currentparticlevalue = conditionmap[cond]['data'][particleIndex]\n",
    "            crossover = graph[matId][edge][cond]\n",
    "            if ((matId > edge) and (currentparticlevalue > crossover)):\n",
    "                innerchange = False # continue on, \n",
    "                if graph[matId][edge].keys()[-1] == cond:\n",
    "                    outerchange = True\n",
    "                    innerchange = edge\n",
    "                    break\n",
    "            elif ((matId < edge) and (currentparticlevalue < crossover)):\n",
    "                innerchange = False\n",
    "                if graph[matId][edge].keys()[-1] == cond:\n",
    "                    outerchange = True\n",
    "                    innerchange = edge\n",
    "                    break\n",
    "            else:\n",
    "                #condition not met, break outer loop, go to next edge, outerchange should still be False\n",
    "                break\n",
    "    if type(innerchange) == int:\n",
    "        return innerchange"
   ]
  },
  {
   "cell_type": "code",
   "execution_count": 202,
   "metadata": {
    "collapsed": false
   },
   "outputs": [],
   "source": [
    "#Cleanse the swarm of its sins\n",
    "#For some Material Graphs, the graph may have to be treaversed more than once\n",
    "\n",
    "check = -1\n",
    "number_updated = 1\n",
    "\n",
    "while number_updated != 0:\n",
    "    number_updated = 0\n",
    "    for particleID in range(gSwarm.particleCoordinates.data.shape[0]):\n",
    "                check = update_swarm(DG, particleID)\n",
    "                if check > -1:\n",
    "                    number_updated += 1\n",
    "                    materialVariable.data[particleID] = check"
   ]
  },
  {
   "cell_type": "markdown",
   "metadata": {},
   "source": [
    "##Set the values for the masking swarms"
   ]
  },
  {
   "cell_type": "code",
   "execution_count": 203,
   "metadata": {
    "collapsed": false
   },
   "outputs": [],
   "source": [
    "#Setup up a masking Swarm variable for the integrations.\n",
    "#These should be rebuilt at same frequency as the metric calcualtions\n",
    "\n",
    "rockIntVar.data[:] = 0.\n",
    "notair = np.where(materialVariable.data != airIndex)\n",
    "rockIntVar.data[notair] = 1.\n",
    "\n",
    "airIntVar.data[:] = 0.\n",
    "notrock = np.where(materialVariable.data == airIndex)\n",
    "airIntVar.data[notrock] = 1.\n",
    "\n",
    "lithIntVar.data[:] = 0.\n",
    "islith = np.where((materialVariable.data == lithosphereIndex) | (materialVariable.data == crustIndex))\n",
    "lithIntVar.data[islith] = 1.\n"
   ]
  },
  {
   "cell_type": "markdown",
   "metadata": {
    "collapsed": false
   },
   "source": [
    "#Material properties\n"
   ]
  },
  {
   "cell_type": "code",
   "execution_count": 204,
   "metadata": {
    "collapsed": false
   },
   "outputs": [],
   "source": [
    "#Make variables required for plasticity\n",
    "\n",
    "# The yeilding of the upper slab is dependent on the strain rate.\n",
    "strainRate_2ndInvariant = fn.tensor.second_invariant( \n",
    "                            fn.tensor.symmetric( \n",
    "                            velocityField.fn_gradient ))\n",
    "\n",
    "\n",
    "coordinate = fn.input()\n",
    "depth = 1. - coordinate[1]\n",
    "depthField = uw.mesh.MeshVariable( mesh=mesh,   nodeDofCount=1 )\n",
    "depthField.data[:] = depth.evaluate(mesh)\n",
    "depthField.data[np.where(depthField.data[:] < 0.)[0]] = 0."
   ]
  },
  {
   "cell_type": "code",
   "execution_count": 205,
   "metadata": {
    "collapsed": false
   },
   "outputs": [],
   "source": [
    "##Basic mantle viscosity Functions\n",
    "viscosityl2 = newvisc*fn.math.exp((math.log(ndp.etaT)*-1*temperatureField) + (depthField*math.log(ndp.etaY)))\n",
    "viscosityFn1 = viscosityl2 #This one always gets passed to the first velcotity solve\n",
    "\n",
    "#Von Mises effective viscosity\n",
    "viscosityp = ndp.eta0 + ndp.cohesion/(strainRate_2ndInvariant/math.sqrt(0.5)) #extra factor to account for underworld second invariant form\n",
    "viscosityFn2 = 2./(1./viscosityl2 + 1./viscosityp)\n",
    "\n",
    "\n",
    "##Now setup rheolgy for models with crust rheology;\n",
    "\n",
    "viscreduct = 0.1\n",
    "crustviscosityp = viscreduct*ndp.eta0+ ((viscreduct*ndp.cohesion)/(strainRate_2ndInvariant/math.sqrt(0.5))) #extra factor to account for underworld second invariant form\n",
    "crustviscosityFn2 = 2./(1./viscosityl2 + 1./crustviscosityp)"
   ]
  },
  {
   "cell_type": "markdown",
   "metadata": {},
   "source": [
    "Set up simulation parameters and functions\n",
    "====\n",
    "\n",
    "Here the functions for density, viscosity etc. are set. These functions and/or values are preserved for the entire simulation time. "
   ]
  },
  {
   "cell_type": "code",
   "execution_count": 206,
   "metadata": {
    "collapsed": false
   },
   "outputs": [],
   "source": [
    "# Here we set a viscosity value of '1.' for both materials\n",
    "viscosityMapFn = fn.branching.map( fn_key = materialVariable,\n",
    "                         mapping = {airIndex:AIRVISCOSITY, \n",
    "                                    lithosphereIndex:viscosityFn2, \n",
    "                                    crustIndex:crustviscosityFn2,\n",
    "                                    mantleIndex:viscosityFn2} )\n",
    "\n",
    "densityMapFn = fn.branching.map( fn_key = materialVariable,\n",
    "                         mapping = {airIndex:AIRDENSITY, \n",
    "                                    lithosphereIndex:ndp.RA*temperatureField, \n",
    "                                    crustIndex:ndp.RA*temperatureField, \n",
    "                                    mantleIndex:ndp.RA*temperatureField} )\n",
    "\n",
    "# Define our gravity using a python tuple (this will be automatically converted to a function)\n",
    "gravity = ( 0.0, 1.0 )\n",
    "\n",
    "buoyancyFn = gravity*densityMapFn"
   ]
  },
  {
   "cell_type": "markdown",
   "metadata": {},
   "source": [
    "Build the Stokes system, solvers, advection-diffusion\n",
    "------\n",
    "\n",
    "Setup linear Stokes system to get the initial velocity."
   ]
  },
  {
   "cell_type": "code",
   "execution_count": 207,
   "metadata": {
    "collapsed": false
   },
   "outputs": [],
   "source": [
    "#We first set up a l\n",
    "stokesPIC = uw.systems.Stokes(velocityField=velocityField, \n",
    "                              pressureField=pressureField,\n",
    "                              conditions=[freeslipBC,],\n",
    "#                              viscosityFn=viscosityFn1, \n",
    "                              fn_viscosity=fn.exception.SafeMaths(viscosityFn1), \n",
    "                              fn_bodyforce=buoyancyFn)"
   ]
  },
  {
   "cell_type": "markdown",
   "metadata": {},
   "source": [
    "We do one solve with linear viscosity to get the initial strain rate invariant. This solve step also calculates a 'guess' of the the velocity field based on the linear system, which is used later in the non-linear solver."
   ]
  },
  {
   "cell_type": "code",
   "execution_count": 208,
   "metadata": {
    "collapsed": false
   },
   "outputs": [],
   "source": [
    "if not checkpointLoad:\n",
    "    solver = uw.systems.Solver(stokesPIC)\n",
    "    solver.solve() "
   ]
  },
  {
   "cell_type": "code",
   "execution_count": 209,
   "metadata": {
    "collapsed": false
   },
   "outputs": [],
   "source": [
    "#Switch particle escape on, this will also trigger the inflow population control \n",
    "gSwarm.particleEscape = True"
   ]
  },
  {
   "cell_type": "code",
   "execution_count": 210,
   "metadata": {
    "collapsed": false
   },
   "outputs": [],
   "source": [
    "# Setup the Stokes system again, now with linear or nonlinear visocity viscosity.\n",
    "\n",
    "if PIC_integration:\n",
    "    swarm = gSwarm\n",
    "else:\n",
    "    swarm = False\n",
    "\n",
    "stokesPIC2 = uw.systems.Stokes(velocityField=velocityField, \n",
    "                              pressureField=pressureField,\n",
    "                              conditions=[freeslipBC,],\n",
    "                              fn_viscosity=fn.exception.SafeMaths(viscosityMapFn), \n",
    "                              fn_bodyforce=buoyancyFn, swarm = swarm)"
   ]
  },
  {
   "cell_type": "markdown",
   "metadata": {
    "collapsed": false
   },
   "source": [
    "solver = uw.systems.Solver(stokesPIC2) # altered from PIC2\n",
    "\n",
    "\n",
    "\n",
    "#Set more advanced solver option\n",
    "solver.options.main.Q22_pc_type='uw'\n",
    "solver.options.A11.ksp_rtol=1e-5\n",
    "solver.options.scr.ksp_rtol=1e-5\n",
    "#solver.options.A11.ksp_type=\"cg\"\n",
    "solver.options.scr.use_previous_guess = True\n",
    "solver.options.scr.ksp_set_min_it_converge = 1\n",
    "\n",
    "solver.options.mg.levels = 3\n",
    "\n",
    "#solver.options.A11.ksp_monitor=''\n",
    "#solver.options.A11.ksp_converged_reason='"
   ]
  },
  {
   "cell_type": "code",
   "execution_count": 211,
   "metadata": {
    "collapsed": true
   },
   "outputs": [],
   "source": [
    "solver = uw.systems.Solver(stokesPIC2) # altered from PIC2\n",
    "\n",
    "#Set more advanced solver option\n",
    "solver.options.main.Q22_pc_type='gkgdiag'\n",
    "#solver.options.A11.ksp_rtol=1e-2\n",
    "#solver.options.scr.ksp_rtol=1e-3\n",
    "#solver.options.A11.ksp_type=\"cg\"\n",
    "solver.options.scr.use_previous_guess = True\n",
    "#solver.options.scr.ksp_set_min_it_converge = 1\n",
    "#solver.options.main.penalty=10.0\n",
    "\n",
    "#solver.options.mg.levels = 3\n",
    "#solver.options.main.remove_constant_pressure_null_space=True\n",
    "#solver.options.main.penalty = 1e2\n",
    "\n",
    "solver.options.A11.ksp_rtol=1e-4\n",
    "solver.options.scr.ksp_rtol=1e-4\n",
    "\n",
    "solver.options.A11.ksp_monitor=''\n",
    "solver.options.A11.ksp_converged_reason=''"
   ]
  },
  {
   "cell_type": "markdown",
   "metadata": {},
   "source": [
    "Solve for initial pressure and velocity using a quick non-linear Picard iteration\n"
   ]
  },
  {
   "cell_type": "code",
   "execution_count": 212,
   "metadata": {
    "collapsed": false
   },
   "outputs": [],
   "source": [
    "solver.solve(nonLinearIterate=True)"
   ]
  },
  {
   "cell_type": "markdown",
   "metadata": {},
   "source": [
    "Create an advective-diffusive system\n",
    "=====\n",
    "\n",
    "Setup the system in underworld by flagging the temperature and velocity field variables."
   ]
  },
  {
   "cell_type": "code",
   "execution_count": null,
   "metadata": {
    "collapsed": false
   },
   "outputs": [],
   "source": []
  },
  {
   "cell_type": "code",
   "execution_count": 213,
   "metadata": {
    "collapsed": false
   },
   "outputs": [],
   "source": [
    "#Create advdiff system\n",
    "\n",
    "\n",
    "\n",
    "advDiff = uw.systems.AdvectionDiffusion( phiField       = temperatureField, \n",
    "                                         phiDotField    = temperatureDotField, \n",
    "                                         velocityField  = velocityField, \n",
    "                                         fn_diffusivity = 1.0, \n",
    "                                         conditions     = [tempBC,] )\n",
    "\n",
    "\n",
    "\n",
    "advector = uw.systems.SwarmAdvector( swarm         = gSwarm, \n",
    "                                     velocityField = velocityField, \n",
    "                                     order         = 1)"
   ]
  },
  {
   "cell_type": "markdown",
   "metadata": {},
   "source": [
    "Metrics for benchmark\n",
    "=====\n",
    "\n",
    "Define functions to be used in the time loop. For cases 1-4, participants were asked to report a number of diagnostic quantities to be measured after reaching steady state:\n",
    "\n",
    "* Average temp... $$  \\langle T \\rangle  = \\int^1_0 \\int^1_0 T \\, dxdy $$\n",
    "* Top and bottom Nusselt numbers... $$N = \\int^1_0 \\frac{\\partial T}{\\partial y} \\rvert_{y=0/1} \\, dx$$\n",
    "* RMS velocity over the whole domain, surface and max velocity at surface\n",
    "* max and min viscosity over the whole domain\n",
    "* average rate of work done against gravity...$$\\langle W \\rangle = \\int^1_0 \\int^1_0 T u_y \\, dx dy$$\n",
    "* and the average rate of viscous dissipation...$$\\langle \\Phi \\rangle = \\int^1_0 \\int^1_0 \\tau_{ij} \\dot \\epsilon_{ij} \\, dx dy$$\n",
    "\n",
    "* In steady state, if thermal energy is accurately conserved, the difference between $\\langle W \\rangle$ and $\\langle \\Phi \\rangle / Ra$ must vanish, so also reported is the percentage error: \n",
    "\n",
    "$$ \\delta = \\frac{\\lvert \\langle W \\rangle - \\frac{\\langle \\Phi \\rangle}{Ra} \\rvert}{max \\left(  \\langle W \\rangle,  \\frac{\\langle \\Phi \\rangle}{Ra}\\right)} \\times 100% $$"
   ]
  },
  {
   "cell_type": "code",
   "execution_count": 214,
   "metadata": {
    "collapsed": false
   },
   "outputs": [],
   "source": [
    "#Setup some Integrals. We want these outside the main loop...\n",
    "tempVariable = gSwarm.add_variable( dataType=\"double\", count=1 )\n",
    "tempVariable.data[:] = temperatureField.evaluate(gSwarm)[:]\n",
    "tempint = uw.utils.Integral((tempVariable*rockIntVar), mesh)\n",
    "\n",
    "\n",
    "areaint = uw.utils.Integral((1.*rockIntVar),mesh)\n",
    "\n",
    "v2int = uw.utils.Integral(fn.math.dot(velocityField,velocityField)*rockIntVar, mesh)\n",
    "\n",
    "\n",
    "dwint = uw.utils.Integral(temperatureField*velocityField[1]*rockIntVar, mesh)\n",
    "\n",
    "\n",
    "sinner = fn.math.dot(strainRate_2ndInvariant,strainRate_2ndInvariant)\n",
    "vdint = uw.utils.Integral((4.*viscosityMapFn*sinner)*rockIntVar, mesh)\n",
    "vdintair = uw.utils.Integral((4.*viscosityMapFn*sinner)*airIntVar, mesh)\n",
    "vdintlith = uw.utils.Integral((4.*viscosityMapFn*sinner)*lithIntVar, mesh)"
   ]
  },
  {
   "cell_type": "code",
   "execution_count": 215,
   "metadata": {
    "collapsed": false
   },
   "outputs": [
    {
     "name": "stdout",
     "output_type": "stream",
     "text": [
      "1319831.70655\n",
      "1306065.05381\n",
      "139271100.967\n",
      "151487.186313\n",
      "152735.924969\n",
      "138969.272227\n"
     ]
    }
   ],
   "source": [
    "#These should differ if the the map function assigns different properties to bulk mantle\n",
    "\n",
    "print(uw.utils.Integral((4.*viscosityFn2*sinner)*rockIntVar, mesh).evaluate()[0])\n",
    "print(uw.utils.Integral((4.*viscosityMapFn*sinner)*rockIntVar, mesh).evaluate()[0])\n",
    "\n",
    "print(uw.utils.Integral((4.*viscosityFn2*sinner)*airIntVar, mesh).evaluate()[0])\n",
    "print(uw.utils.Integral((4.*viscosityMapFn*sinner)*airIntVar, mesh).evaluate()[0])\n",
    "\n",
    "print(uw.utils.Integral((4.*viscosityFn2*sinner)*lithIntVar, mesh).evaluate()[0])\n",
    "print(uw.utils.Integral((4.*viscosityMapFn*sinner)*lithIntVar, mesh).evaluate()[0])"
   ]
  },
  {
   "cell_type": "markdown",
   "metadata": {},
   "source": [
    "\\begin{equation}  \\langle T \\rangle  = \\int^1_0 \\int^1_0 T \\, dxdy \\end{equation}"
   ]
  },
  {
   "cell_type": "code",
   "execution_count": 216,
   "metadata": {
    "collapsed": false
   },
   "outputs": [],
   "source": [
    "def avg_temp():\n",
    "    return tempint.evaluate()[0]/areaint.evaluate()[0]\n",
    "\n",
    "#This one gets cleaned up when Surface integrals are available\n",
    "def nusselt(tempfield, swarm, dx):\n",
    "    #Update the swarm variable\n",
    "    tempgrad = tempfield.fn_gradient\n",
    "    valcheck = tempgrad[1].evaluate(swarm)\n",
    "    if valcheck is None:\n",
    "        vals = np.array(0, dtype='float64')\n",
    "    else:\n",
    "        vals = valcheck.sum()*dx\n",
    "    return vals\n",
    "\n",
    "def rms():\n",
    "    return math.sqrt(v2int.evaluate()[0]/areaint.evaluate()[0])\n",
    "\n",
    "#This one gets cleaned up when Surface integrals are available\n",
    "def rms_surf(swarm, dx):\n",
    "    rmsmaxfn = fn.math.dot(velocityField,velocityField)\n",
    "    rmscheck = rmsmaxfn.evaluate(swarm)\n",
    "    if rmscheck is None:\n",
    "        #print \"watch out\"\n",
    "        rmsvals = np.array(0, dtype='float64')\n",
    "    else:\n",
    "        rmsvals = np.sqrt(rmscheck.sum()*dx)\n",
    "        #print \"okay\"\n",
    "    return rmsvals\n",
    "\n",
    "def max_vx_surf(velfield, swarm):\n",
    "    check = velfield[0].evaluate(swarm)\n",
    "    if check is None:\n",
    "        return 0.\n",
    "    else:\n",
    "        return check.max()\n",
    "\n",
    "\n",
    "#def max_vy_surf(velfield, swarm):\n",
    "#    surfvelxmaxfn = fn.view.min_max(velfield[1])\n",
    "#    surfvelxmaxfn.evaluate(swarm)\n",
    "#    return surfvelxmaxfn.max_global()\n",
    "\n",
    "def gravwork(workfn):\n",
    "    return workfn.evaluate()[0]\n",
    "\n",
    "def viscdis(vdissfn):\n",
    "    return vdissfn.evaluate()[0]\n",
    "\n",
    "def visc_extr(viscfn):\n",
    "    vuviscfn = fn.view.min_max(viscfn)\n",
    "    vuviscfn.evaluate(gSwarm)\n",
    "    return vuviscfn.max_global(), vuviscfn.min_global()"
   ]
  },
  {
   "cell_type": "code",
   "execution_count": 217,
   "metadata": {
    "collapsed": false
   },
   "outputs": [],
   "source": [
    "#Fields for saving data / fields\n",
    "\n",
    "rmsField = uw.mesh.MeshVariable( mesh=mesh,   nodeDofCount=1)\n",
    "rmsfn = fn.math.sqrt(fn.math.dot(velocityField,velocityField))\n",
    "rmsdata = rmsfn.evaluate(mesh)\n",
    "rmsField.data[:] = rmsdata \n",
    "\n",
    "viscField = uw.mesh.MeshVariable( mesh=mesh,   nodeDofCount=1)\n",
    "viscdata = viscosityFn2.evaluate(mesh)\n",
    "viscField.data[:] = viscdata\n",
    "\n",
    "\n",
    "strainrateField = uw.mesh.MeshVariable( mesh=mesh,   nodeDofCount=1)\n",
    "srtdata = fn.tensor.second_invariant( \n",
    "                    fn.tensor.symmetric( \n",
    "                        velocityField.fn_gradient ))\n",
    "rostfield = srtdata.evaluate(mesh)\n",
    "strainrateField.data[:] = rostfield\n",
    "\n",
    "viscVariable = gSwarm.add_variable( dataType=\"float\", count=1 )\n",
    "viscVariable.data[:] = viscosityMapFn.evaluate(gSwarm)\n"
   ]
  },
  {
   "cell_type": "code",
   "execution_count": 218,
   "metadata": {
    "collapsed": false
   },
   "outputs": [],
   "source": [
    "#Images\n",
    "figEta = glucifer.Figure()\n",
    "figEta.append( glucifer.objects.Points(gSwarm,viscVariable, logScale=True))\n",
    "\n",
    "\n",
    "figMat = glucifer.Figure()\n",
    "figMat.append( glucifer.objects.Points(gSwarm,materialVariable, colours='brown white blue red'))\n",
    "figMat.append( glucifer.objects.Mesh(mesh))\n",
    "\n",
    "\n",
    "figStrainRate = glucifer.Figure()\n",
    "figStrainRate.append( glucifer.objects.Surface(mesh, strainRate_2ndInvariant, logScale=True))\n",
    "\n",
    "\n",
    "figVelocityMag = glucifer.Figure()\n",
    "figVelocityMag.append( glucifer.objects.Surface(mesh, fn.math.dot(velocityField,velocityField))\n",
    ")\n",
    "figTemp = glucifer.Figure()\n",
    "figTemp.append( glucifer.objects.Surface(mesh, temperatureField))\n",
    "\n",
    "\n",
    "\n",
    "#Pack some stuff into a database as well\n",
    "figDb = glucifer.Figure()\n",
    "figDb.append( glucifer.objects.Points(gSwarm,viscVariable, logScale=True, colours='brown white blue'))\n",
    "figDb.append( glucifer.objects.Points(gSwarm,materialVariable, colours='brown white blue red'))\n",
    "figDb.append( glucifer.objects.Mesh(mesh))\n",
    "figDb.append( glucifer.objects.VectorArrows(mesh,velocityField, arrowHead=0.2, scaling=0.01))\n",
    "figDb.append( glucifer.objects.Surface(mesh, strainRate_2ndInvariant, logScale=True, colours='brown white blue'))\n",
    "figDb.append( glucifer.objects.Surface(mesh, temperatureField))\n",
    "                           "
   ]
  },
  {
   "cell_type": "code",
   "execution_count": 219,
   "metadata": {
    "collapsed": true
   },
   "outputs": [],
   "source": [
    "\n",
    "pics = uw.swarm.PICIntegrationSwarm(gSwarm)"
   ]
  },
  {
   "cell_type": "code",
   "execution_count": 220,
   "metadata": {
    "collapsed": false
   },
   "outputs": [],
   "source": [
    "def checkpoint1(step, checkpointPath,filename, filewrites):\n",
    "    path = checkpointPath + str(step) \n",
    "    os.mkdir(path)\n",
    "    ##Write and save the file, if not already a writing step\n",
    "    if not step % filewrites == 0:\n",
    "        filename.write((13*'%-15s ' + '\\n') % (realtime, Viscdis, float(Nu0glob), float(Nu1glob), Avg_temp, \n",
    "                                              Rms,Rmsurfglob,Max_vx_surf,Gravwork, etamax, etamin, Viscdisair, Viscdislith))\n",
    "    filename.close()\n",
    "    shutil.copyfile(os.path.join(outputPath, outputFile), os.path.join(path, outputFile))\n",
    "\n",
    "\n",
    "def checkpoint2(step, checkpointPath, swarm, filename, varlist = [materialVariable], varnames = ['materialVariable']):\n",
    "    path = checkpointPath + str(step) \n",
    "    velfile = \"velocityField\" + \".hdf5\"\n",
    "    tempfile = \"temperatureField\" + \".hdf5\"\n",
    "    pressfile = \"pressureField\" + \".hdf5\"\n",
    "    velocityField.save(os.path.join(path, velfile))\n",
    "    temperatureField.save(os.path.join(path, tempfile))\n",
    "    pressureField.save(os.path.join(path, pressfile))\n",
    "    swarm.save(os.path.join(path, \"swarm.h5\") ) \n",
    "    for ix in range(len(varlist)):\n",
    "        varb = varlist[ix]\n",
    "        varb.save(os.path.join(path,varnames[ix] + \".h5\"))\n",
    "        \n",
    "    "
   ]
  },
  {
   "cell_type": "code",
   "execution_count": 221,
   "metadata": {
    "collapsed": false
   },
   "outputs": [],
   "source": [
    "###########\n",
    "#Open file for writing metrics\n",
    "###########\n",
    "\n",
    "if checkpointLoad:\n",
    "    if uw.rank() == 0:\n",
    "        shutil.copyfile(os.path.join(checkpointLoadDir, outputFile), outputPath+outputFile)\n",
    "    comm.Barrier()\n",
    "    #os.rename(os.path.join(checkpointLoadDir, outputFile), outputPath+outputFile)\n",
    "    f_o = open(os.path.join(outputPath, outputFile), 'a')\n",
    "    prevdata = np.genfromtxt(os.path.join(outputPath, outputFile), skip_header=0, skip_footer=0)\n",
    "    realtime = prevdata[prevdata.shape[0]-1, 0]\n",
    "    step = int(checkpointLoadDir.split('/')[-1])\n",
    "    timevals = [0.]\n",
    "else:\n",
    "    f_o = open(outputPath+outputFile, 'w')\n",
    "    realtime = 0.\n",
    "    step = 0\n",
    "    timevals = [0.]"
   ]
  },
  {
   "cell_type": "markdown",
   "metadata": {},
   "source": [
    "Main simulation loop\n",
    "=======\n",
    "\n",
    "The main time stepping loop begins here. Before this the time and timestep are initialised to zero and the output statistics arrays are set up. Also the frequency of outputting basic statistics to the screen is set in steps_output.\n"
   ]
  },
  {
   "cell_type": "code",
   "execution_count": 222,
   "metadata": {
    "collapsed": false
   },
   "outputs": [
    {
     "name": "stdout",
     "output_type": "stream",
     "text": [
      "0\n",
      "1\n"
     ]
    }
   ],
   "source": [
    "# initialise timer for computation\n",
    "startMain = time.clock()\n",
    "# Perform steps#\n",
    "while realtime < 0.05:\n",
    "#while step < 8:\n",
    "    #Enter non-linear loop\n",
    "    print step\n",
    "    solver.solve(nonLinearIterate=True)\n",
    "    dt = advDiff.get_max_dt()\n",
    "    if step == 0:\n",
    "        dt = 0.\n",
    "    #start = time.clock()\n",
    "    advDiff.integrate(dt)\n",
    "    #machine_time = (time.clock()-start)\n",
    "    #print(\"total advDiff time is: \" + str(machine_time))\n",
    "    # Advect swarm using this timestep size\n",
    "    #start = time.clock()\n",
    "    advector.integrate(dt)\n",
    "    #machine_time = (time.clock()-start)\n",
    "    #print(\"total advector time is: \" + str(machine_time))\n",
    "    # Increment\n",
    "    realtime += dt\n",
    "    step += 1\n",
    "    timevals.append(realtime)\n",
    "    \n",
    "    ################\n",
    "    #Update temperature field in the air region\n",
    "    ################\n",
    "    if (step % sticky_air_temp == 0):\n",
    "        for index, coord in enumerate(mesh.data):\n",
    "            if coord[1] >= 1.:\n",
    "                temperatureField.data[index] = 0.\n",
    " \n",
    "    ################\n",
    "    #Particle update\n",
    "    ###############\n",
    "    if (step % swarm_update == 0) or (step % metric_output == 0): #These updates should be done before any metric output\n",
    "        #These swarm variables get updated first, as they are used to determine material changes\n",
    "        particledepths = 1. - gSwarm.particleCoordinates.data[:,1]\n",
    "        particletemps = temperatureField.evaluate(gSwarm)[:,0]\n",
    "        conditionmap['depthcondition']['data'] = particledepths\n",
    "        conditionmap['avgtempcondition']['data'] = particletemps\n",
    "        ################\n",
    "        number_updated = 0\n",
    "        for particleID in range(gSwarm.particleCoordinates.data.shape[0]):\n",
    "            check = update_swarm(DG, particleID)\n",
    "            if check > -1:\n",
    "                number_updated += 1\n",
    "                #if check == 0:\n",
    "                #    print \"from \" + str(materialVariable.data[particleID]) + \" to \" + str(check)\n",
    "                materialVariable.data[particleID] = check\n",
    "            else:\n",
    "                pass\n",
    "        #Also update those integration swarms\n",
    "        rockIntVar.data[:] = 0.\n",
    "        notair = np.where(materialVariable.data != airIndex)\n",
    "        rockIntVar.data[notair] = 1.\n",
    "        airIntVar.data[:] = 0.\n",
    "        notrock = np.where(materialVariable.data == airIndex)\n",
    "        airIntVar.data[notrock] = 1.\n",
    "        lithIntVar.data[:] = 0.\n",
    "        islith = np.where((materialVariable.data == lithosphereIndex) | (materialVariable.data == crustIndex))\n",
    "        lithIntVar.data[islith] = 1.\n",
    "\n",
    "    ################            \n",
    "    # Calculate the Metrics, only on 1 of the processors:\n",
    "    ################\n",
    "    if (step % metric_output == 0):\n",
    "        ###############\n",
    "        #Swarm - based Metrics\n",
    "        ###############\n",
    "        tempVariable.data[:] = temperatureField.evaluate(gSwarm)[:]\n",
    "        Avg_temp = avg_temp()\n",
    "        Rms = rms()\n",
    "        Gravwork = gravwork(dwint)\n",
    "        Viscdis = viscdis(vdint)\n",
    "        Viscdisair = viscdis(vdintair)\n",
    "        Viscdislith = viscdis(vdintlith)\n",
    "        etamax, etamin = visc_extr(viscosityMapFn)\n",
    "        #These are the ones that need mpi4py treatment\n",
    "        Nu0loc = nusselt(temperatureField, baseintswarm, dx)\n",
    "        Nu1loc = nusselt(temperatureField, surfintswarm, dx)\n",
    "        Rmsurfloc = rms_surf(surfintswarm, dx)\n",
    "        Max_vx_surfloc = np.array(max_vx_surf(velocityField, surfintswarm),'d') #This float needed to be an array to play with mpi4py\n",
    "        #Setup the global output arrays\n",
    "        dTp = Nu0loc.dtype\n",
    "        Nu0glob = np.array(0, dtype=dTp)\n",
    "        dTp = Nu1loc.dtype\n",
    "        Nu1glob = np.array(0, dtype=dTp)\n",
    "        dTp = Rmsurfloc.dtype\n",
    "        Rmsurfglob = np.array(0, dtype=dTp)\n",
    "        dTp = Max_vx_surfloc.dtype\n",
    "        Max_vx_surfglob = np.array(0.0,dtype=dTp)   \n",
    "        #Do global operation ... sum, or max\n",
    "        comm.Allreduce(Nu0loc, Nu0glob, op=MPI.SUM)\n",
    "        comm.Allreduce(Nu1loc, Nu1glob, op=MPI.SUM)\n",
    "        comm.Allreduce(Rmsurfloc, Rmsurfglob, op=MPI.SUM)\n",
    "        comm.Allreduce([Max_vx_surfloc, MPI.DOUBLE],[Max_vx_surfglob, MPI.DOUBLE],op=MPI.MAX)      \n",
    "        # output to summary text file\n",
    "        if uw.rank()==0:\n",
    "            f_o.write((13*'%-15s ' + '\\n') % (realtime, Viscdis, float(Nu0glob), float(Nu1glob), Avg_temp, \n",
    "                                              Rms,Rmsurfglob,Max_vx_surfglob,Gravwork, etamax, etamin, Viscdisair, Viscdislith))\n",
    "        #test = max_vx_surf(velocityField, surfintswarm)    \n",
    "        #if uw.rank()==0:\n",
    "         #   print(Rmsurfglob,MRms_surf, Max_vx_surfglob, MMax_vx_surf, etamax, Metamax)\n",
    "        #print(Rmsurfloc, test)\n",
    "    ################\n",
    "    #Gldb output\n",
    "    ################ \n",
    "    if (step % gldbs_output == 0) & (writeFiles == True):\n",
    "        #Rebuild any necessary swarm variables\n",
    "        viscVariable.data[:] = viscosityMapFn.evaluate(gSwarm)\n",
    "        #Write gldbs\n",
    "        fnamedb = \"dbFig\" + \"_\" + str(ModIt) + \"_\" + str(step) + \".gldb\"\n",
    "        fullpath = os.path.join(outputPath + \"gldbs/\" + fnamedb)\n",
    "        figDb.show()\n",
    "        figDb.save_database(fullpath)\n",
    "    ################\n",
    "    #Also repopulate entire swarm periodically\n",
    "    ################\n",
    "    if step % swarm_repop == 0:\n",
    "        pics.repopulate()\n",
    "    ################\n",
    "    #Checkpoint\n",
    "    ################\n",
    "    if step % checkpoint_every == 0:\n",
    "        if uw.rank() == 0:\n",
    "            checkpoint1(step, checkpointPath,f_o, metric_output)           \n",
    "        checkpoint2(step, checkpointPath, gSwarm, f_o, varlist = varlist, varnames = varnames)\n",
    "        f_o = open(os.path.join(outputPath, outputFile), 'a') #is this line supposed to be here?\n",
    "     \n",
    "    \n",
    "f_o.close()\n",
    "#print 'step =',step, '; dt =', dt, '; CPU time =', time.clock()-startMain"
   ]
  },
  {
   "cell_type": "code",
   "execution_count": null,
   "metadata": {
    "collapsed": false
   },
   "outputs": [],
   "source": [
    "#figEta = glucifer.Figure(figsize=(1024,384))\n",
    "#figEta.append( glucifer.objects.Points(gSwarm,viscVariable, logScale=True))\n",
    "#figEta.save_database('test.gldb')\n",
    "#figEta.show()\n",
    "\n"
   ]
  },
  {
   "cell_type": "code",
   "execution_count": null,
   "metadata": {
    "collapsed": false
   },
   "outputs": [],
   "source": [
    "\n",
    "#figMat = glucifer.Figure()\n",
    "#figMat.append( glucifer.objects.Points(gSwarm,materialVariable, colours='brown white blue red'))\n",
    "#figMat.append( glucifer.objects.Points(surfintswarm,materialVariable, pointSize= 5.))\n",
    "#figMat.append( glucifer.objects.Mesh(mesh))\n",
    "#figMat.save_database('test.gldb')\n",
    "#figMat.show()\n",
    "\n",
    " "
   ]
  },
  {
   "cell_type": "code",
   "execution_count": null,
   "metadata": {
    "collapsed": false
   },
   "outputs": [],
   "source": [
    "#avg_temp()"
   ]
  },
  {
   "cell_type": "code",
   "execution_count": null,
   "metadata": {
    "collapsed": false
   },
   "outputs": [],
   "source": []
  },
  {
   "cell_type": "code",
   "execution_count": 63,
   "metadata": {
    "collapsed": false
   },
   "outputs": [
    {
     "data": {
      "text/html": [
       "<img src='data:image/png;base64,iVBORw0KGgoAAAANSUhEUgAAAoAAAAHgCAIAAAC6s0uzAAAgAElEQVR42uy9y44cybItZss9sopk97kHEHAhQF9w71S/KP2UvkMCNNBYgwtNztndu1mVGWFLA3+ZPyIysoqsJrndmiiQ1VWZkRHuvsyWmS0DSZk2bdq0adOmfay5eQumTZs2bdq0CcDTpk2bNm3aBOBp06ZNmzZt2gTgadOmTZs2bQLwtGnTpk2bNm0C8LRp06ZNmzYBeNq0adOmTZs2AXjatGnTpk2bADxt2rRp06ZNmwA8bdq0adOmTQCeNm3atGnTJgBPmzZt2rRp0yYAT5s2bdq0aROAp02bNm3atGkTgKdNmzZt2rQJwNOmTZs2bdq0CcDTpk2bNm3aBOBp06ZNmzZt2gTgadOmTZs2bQLwtGnTpk2bNgF42rRp06ZNmzYBeNq0adOmTZsAPG3atGnTpk2bADxt2rRp06ZNAJ42bdq0adOmTQCeNm3atGnTJgBPmzZt2rRp0yYAT5s2bdq0aROAp02bNm3atAnA06ZNmzZt2rQJwNOmTZs2bdoE4GnTpk2bNm3aBOBp06ZNmzZtAvC0adOmTZs2bQLwtGnTpk2bNgF42rRp06ZNmzYBeNq0adOmTZsAPG3atGnTpk0AnjZt2rRp06ZNAJ42bdq0adMmAE+bNm3atGnTJgBPmzZt2rRpE4CnTZs2bdq0aROAp02bNm3atAnA06ZNmzZt2rQJwNOmTZs2bdoE4GnTpk2bNm0C8LRp06ZNmzZtAvC0adOmTZs2AXjatGnTpk2bNgF42rRp06ZNmwA8bdq0adOmTZsAPG3atGnTpk0AnjZt2rRp06ZNAJ42bdq0adMmAE+bNm3atGkTgKdNmzZt2rRpE4CnTZs2bdq0CcDTpk2bNm3atAnA06ZNmzZt2gTgadOmTZs2bdoE4GnTpk2bNm0C8LRp06ZNmzZtAvC0adOmTZs2AXjatGnTpk2bADxt2rRp06ZNmwA8bdq0adOmTQCeNm3atGnTpk0AnjZt2rRp0yYAT5s2bdq0adMmAE+bNm3atGkTgKdNmzZt2rRpE4CnTZs2bdq0CcDTpk2bNm3aBOBp06ZNmzZt2gTgadOmTZs2bQLwtGnTpk2bNm0C8LRp06ZNmzYBeNq0adOmTZs2AXjatGnTpk2bADxt2rRp06ZNmwA8bdq0adOmTQCeNm3atGnTJgBPmzZt2rRp0yYAT5s2bdq0aROAp02bNm3atGkTgKdNmzZt2rRfxZbv/QYA5l2eNm3atGk/nZH8iQEYwP/1v/2vKuJEFqpXLlRHeqGKKKCASkRoRzqhIx0pIhRswObcBmyAiEDEk56avwpFAZqXUoACQlQAIShO6Bn+6AZscPnnKbKQjtzCrwMqAhGQXuhIT1Kwwm0AIRRQxJELCWG4JKGE/1URC/mzSPw4N+duzt/grs7dnFPBQi7U52170u1ZN0cqEK5wBVbnKAKR/HEoCG/qGa5NnTB85C39IiFg/AhOBGS+CS5+ZbpR8ZUp4slF1acbFe8/sAKruR5F+ZxOxJEwq5OAhv9HgTDfjnL9wRWrF3S4JMRLFYioIDyO8KFUIBBQ4nOXeIXh3cNlhGcXl5y5RemdQJHwaivc6twKEMivEL6KMF9teNBxySkv1IW6qCpAgCIUCR/HkRCGW7QhrtX8pECB0JEENvgNfoOjACJPuj5v67Ouz3oLd6Dd+fXFOHNLIRI+UXmj+POi+TIE4bvhTmraROGqXFoVSA8rfBDEl02rmentIFtaaXmpw9zw8M/4XIThyuOTFYLmQyH+y6Wf9+m3+tVSFgYZ1oYirb20QyG8waUn68Kvx2tH/gTlOsNR4MLHYHVX81IkoOlSme6eCpyYNUO6dPMRdoyEK5d0EI1N08vmu5v3Zn7N/Ap5X5czlbQPDulwC+fJolyoYUfc4FbnbnArEB5E+L/h0FOY1ZIeK/JlhKchCD8WricfbnbBULACN+dWOAVA8aKL6oVcVEVkdfHuhdsIije3EXEhVZ8onc/pmIpPjUs6+RFPS3dzLry7pgdkfia8bnwFDVteSHP6hTdNAFGWYliB//P//n//9BHwRVUhKrjBbY5KOKqTctBn5GI4NeJJIozHnwqc5Kckks4RCMULL6piADgvJmdOwHychVfJP0yIioB8UoVEZELZVAGABY4Qd4NjeZz0yoXp7GM8WTTtZPQ7ilRVdVhIVTqIp1rQZYKmjCsF2ihh0cDAW3wXMJ8xEFXCxUUsaA5ZFrQLZ+oGe54LKGnvMbh+T8BFZIWuzq1kcgvS6RZdIk2uItKWDps9/0j0HSz0Ij1fR3EUL+FAjEePEyjhDQAXNGJcHzRHarAtnREQbkIvDPs8vZVAojcWvpWfTrgzCSHCfxFfw62jQY7ovYWTMJ5HsqiGG5WgzmUYC8elUz5zU2CDz3jA/LlEROJ5lPeCefTSgFlARAg2cRuQHmBcnPFnwg8JF3IJMFz7iAVv0mvmLROeIyUtOAooF1EVeII1tKB7EulyJDi7Lnwalp9KS4ga3yI8oQFVxog4dIAkzFjTUZvxOxzNoipOlHBgBLnO6UN2QciFmrAz3r3wNCFUCiBKUUBIJxKe+A2OyDBsNjgEaWNJ/V7txxFxYTmRRNy9hGxEXg8uBQDhMUJ0kxg5RE4xbvxwW0FhWCkUENT0mTwJVXECQTo6hADJGDMwnpPhTMvXHF6n7Bqy/zjhkYXo46JcyBXc8s2JHrOKCNXRRcxrl58FYHNcx32XFrq5n6zXMBdVcRCVDQgn8ApQHKVapwaDw28Jg5+V3i6fKnFHUz+Guf0gAI4ekODqnCMyAOcAMd9aA7HmLjMeiwWGzYb15EU3AhvgiQ0u+/vWqzJPL/hWILCJAk5FfYDh5BGnB0NF3O5QCY522M9h8yxKT03YUBzbdLJH3xYiqlRHpapicdTk03lqDjuq+ICstzGX4q7QetyIfmsMKEv4a6IHZ/5Oc6tDSNHAsE+xY76ShVyhK9xGrogRZP6ZGG6GR0y6FHI1Z1H173SfCwSmO6aAEuGrT4GImKAzuUHCAvMGhgHCOVKpWzjIJOzzFFHle2VWYHF3DEpkhiM7FKwfU76e8GpPVGpwQSLXojFKjp9uUXVcTexoDrvoZSHemXDkITnxxpGKOE0AAigk+J0uX5iWUystZtKRw61uuQekN4Ugw7DEs1iEERjywrTHW3NCw6yfcG1Aev30A0pxoDI6WNi5PEZeRBBO2BRL3eCIuImcpigwsBQCJRUZ0sKLo32yIl6ZPMjKAQjoCwR3BEo6CQgnW3hrJzl2j35tfA/Kzmexrkl+LpakiYdSQEeikEPJvU6OXYZGOgHI9IxAslkGIsHRh33TBEhIMCy+2kiWvsr3Q9DttYTBwYfjE7cUQ8dIGoXH1QCKms5PKR48zXmb3h3pKiCbMDoQMuYUHGVJ3F50QYAVEGnTn+FnHEUQLlLtWYQaidx3Jp8/CIApEtZNiBvCkbSo2rMPcWnSHqM6ctilXsFlRadIK8VL4WjMXE0KAUkR2aA5TDHhnFQnY+ZayYuoUzoQoDOrp3hMQiiZnG6iXGQ+2p65LdSFfnH0dAqET1To9IArJeJpo4oEV2mNBlc93FgKAU1ea4l90xGfgubii9gzkoKbAylUEaeiLjpG8ScRLvIiutIFAN6c0551j/y2BFaf5SGykG/Iz4cVzxm9+eoQTFFycQhSWJmY9rSHHYlIYMQ3DXdYJbNM6ikb4MMpxsjr2ji4PnSEFUqVPZmo8ng9wXnyEMZ8h7oYvnNLyyzQX07oULiffFiHAEoJSAz1QjxKlsvwhnh0IipUOBPZkLHaIgMaKTGlkv5Xw8zvH2k1hnhW0YnEXWw3YvRpzL4I0RspKTKrN1cgf2O0SjhI70vBHo7pXSL3GB40YT2kyHBoDO9ymqn+sGXhWR8lOvjJo0JCXOOWMdEVjLE1y9qAidcz6LjuEGe3wJJLl9AmRCYxeyUgQV5SAiU4duHdMhleBTAxDKBEj5PRs0DwtstiiAskeTiUNgmSyRvrbLEL7AuXK8LMMVbPOpyf8BCXzs+crQibgumMIqI3Gr4fYjYw/FfDSiIONRH+4Z6Ej+kyO1CvZU38f/jYrpBA1YmYnJhfowgr0C2CNRO/og7OUQMHm3kwMegKuhg3mwWdqN1IPzpWt+zgJMnpihzhZRgmEkRF8GS3XRMMUx3CM0Z91hR0jAkGjikoRz7rtlAXuC1mZUQShxYOg3SL4nnA7hVyNjd4i/mUyX+ps3rVPkfF/daUGUUFq3OiQkeXYscCwyJe6LftAl0dNrqc1BnCsAuse0rJZ+5CJX7Tek+SUunOJNRtpA4TLhReN1BY6YEslBB/p2M3McaZtRNeSHLLpxjrPHSDSMwUaFrJ8ewLyeMQZKQcYch6+OCAxQw9HOFAB7cBKwDAkSrUkHaql20g3DRhsIQ0SlpeziS/nYgGF8CJikMi3gNEOjA5ghH5AuuY4sj4jGgP1lGlJJMDFEhRJwpzoily+kVsAC3dKZazBi24J+cvOh/o9gyZs3RIu5SJQE5ujcnIZCwMO5Et7dnc7PxHumMkMfrpEUgGYNoMSCJRI5VqSREgLljLr+QEVr7zmpIaNN6Aja0RSaYSyVi2IPtkUlPHrL12zenjAMCJ6shHNEZFCMhpKVETphsuAaKEgpofHvOaicwuEiP4xM3B+biJ4vv5khJKAUwo+UhpZhc2GlMIwZ3oLjslkm4AY3LdrkyXgkDNjpQJbOx6IET5iwBwCkwpihBpORdOPXVP3LwB4AAqQnGQ4OSGxJ7GiCkuHVsF4MoOS+VHoy3XZDJA+vCGGHimw3IYEXGiT1ot7tptCM9S3W4OKEchW3NsxadOsREta/ezAmBD2DKvqqZuRUwZAqu6D0o42TqaJUWujlRGZ9yTJsfHhVw2UWiulrIFGg0MM34NR2Hg9MKjDPm/mFzLFVCpti1tdZSziihkaa7BccIQKQbX2aUjQ2p+WCVFWkJQLulEspiLEVvI+mjOhUJI0QlThjIeo5CQYSEYnDYvWIVOnJNYM6KkkkpVuux7VVGFiAv1UyIufWpv8p0xOM7lcCKKQAHE0BIpd5vTzUwFhpr4BkeCKjF7QnO8tu5zejqBFA0gHtdPgOGyf9PaC7dFy60jRzuicJQxex2j/oIMOfphpgTCO8vCANCF88y5/PDpnejC8aaGoZHs808he8N/0LEFYMUghRFANy9gmEAqVSwiXHX2jZACUzWJ/0gqhK1nFrPnZri5Ki0Ku4e70yxsxsxKZHdcCqPDYeyU3RovZrXkLD5TfVZYYIhlTczENKtcvhc6zSu30Hih1CtX0jAlX8Jnz66qzZVYlzGU64atB6GDqedKHyFsfDW/HniUkvwlvbmZH9a6890B2Key5xvoRD1dBAyJXyOs1nSBp4JwgCtUQzwgXLqhKnAxdxZLLp+oG+BRyjWJviyCoF27sXKKhVtr1+6ilFQRwBjADbzpjr2rKj/ihixptir3kCsRlCHRJVqqXfIhgZC1DUdEWKeO0WtEPj66DHooaDT0eMwhZuLapj7FOKgWAll/OFA84pre2mC2uBqSHfxUoSZtybrUdd0Rh5kiQhv12oMmuyCokzes+wcyw1GCadjYS6o6DekTeFV+En2amDH3poBLx7ei+q2FIS0FOEllgIKwekvmJacQEWASEJf/kkogmAklkYUaA3wnorLCJT+VtOU2Jh4N99yBTL5LKnArfp7PHAagufDHVsoIvSbqhVDQ+r+Sc9ihmJmRaTGequTibbto1NQwJkcEmwueRXzcF9WFSiYqGBlria5sonlYjU9dlXqkaLsK1lHcHIr4WEPHLZU4ZAY41mGVGBYsGcyq0psROQoGO1WJJKrk6tw2chBKfI44zhvkYy0fAkz1AC45iwSUFUNm7hK6wKPQGNmnt86xY2QaQt0GIab431bIg112PBMbkXdOCQttPYw2qIjpRdKDnvSOHlhTyUUurTLVqbT120hefymFQfymTwwc+UEg/AEATEKgm4cudDdXcgBEqWst5ScpQIvsCukAB9NNYRj8Qh+n/I1nqcIP6K65iKDbnNn5zcU1uRHCblWILuRFY/CQ6/IJS1VX/Qw1BOckp6XWWjcz7FkvFA0OGsnK35SqDggaYiMAps4op9+Ylr0E9ob04X/FnZ+KW1PPRnVaUeyhibgHcwzNJthNDS/twVASh7GKu4JpU4ge22l8aprK9CcxPjdt/YXLz61QhWjC21QMDdb1PmpeMtQDgLupn+yZgAXK83s4c2/jjTVEJAIMh5J+KanI9HBZn4QxGZ7rgEIeL3ZoFJYMoCwSq+ohGnJmmtdw5kXtSZq83kgeICcpChKFsjuSGvn9GthyXMLY0THMlzOVVZclJ7ZxLyWVSpZESqdKhHBQZIULCzn4N4tq6ApjHVajzkM3O5E7OW5b7QFDNTf0Vk67LqTtNMttZq5EnrDsvaXfCtea4mBBrNNE8lcSDKPhw9M6b/Nf6LiKlBjoABuxTiAlH0onIRoaCG3GOvn9JgY1VEVkCEL1Ndsssr1UGq6yiuBZ8tX5E+ZUlFkqrPMRAnKhrnSrc7HyUaBwmQi14VTK0dCl9LAaeDZV0CHKEsdfBYC10K1h52RCnw3R16T7wyoB6UQ3wpmORnusuEy9QETgGBtbaTB4lOViTojGrAyqJAcjvZbjSyxKz42moEwBdmfTuJaFLQxbhw7VGRe3ZfDkquLblHXLub2Qv0klKszbW3KJY8wnRtT3IYDIHCXrskzjADV1T8nHKRxd/hi2Tqo9i+s+TumynlpwPXzeukBGud/NsdvvMeAdE6VPlpwuq2RnyBiFZLGMGnPR1LGiqdKIrVvljfpK6Ri2Nre6qYiDobiDVxoL1uIiTG1voZM+HiILNRQlaaGXoqOGmBK2h6kwFVjYaCYzol5Kd/iQ18nlC05CKmdQuWbhj6yC4LpEMbKLjKdnYLCSX0gBYrP7mncB5aJ6UW3aY9DlE1gX9LWPk51HTrrRZzFZWzrikusSqu7V5i1gUqW55hlSYXDg8yIGIzuF6XihLQQPrWJ19qTCly5rlonudDxGFtoF2iD1vCYKPV5wXQ8N1vUQOX5oiWvTPdFvUXYSALBebX5GJR3Z18FUjcLI9DlkoS5b6TvYoFsgVg0Mo2Thc9l2cd2K15gvYpgW/xkB2C5xF+mF5FYDwpBGigFxXiVoQIv08QyKBZChIAOle8xk7tBTTEiOZJtvDjvfEQo6Qk32jCwMaO6xC/SEMyeIdlV/Ow0VqVEgo7Cp3uw1ASS6sSiVLhBPtZBs2bzib3Y0V96/9idZ18eKIcNDZNlsPC2hsXFMc3qwLien3b3xsVbRRt5RuUjPVj3cpRDZxabHu6Ukhm1hF0RN/59CVsAJQht+Lm+JgVhg/Mn+kaG+sBWD4ruGw1ATE0ByHsH0Zqj6uoC/0DNCI7dSAncGsRTD0NiIIjgZIVYzwTq22HNkyz6bZgzpmi+r4mSkHll7+ILSUPcBOfr6jOLH5MJXBj9bQEWuijCCGGGfhkI/MT1QwzRzVcg3SmdABqxvBiwxWMuWNa/woMvCsMdGU9leNmbJYccXjN939mwh61xV72uwTXpFcrHC4MBCW8bZ0XhCHG4uYZ9R6946OToD+RHbAmrPrjEYRzotnrWxoC42jsYi3HSvmQAjn+26EcFUnNgbS0Lk1fmb8zRs2oWbZ24kKOEc5EPi349pQxKpKn/ChgtyDaHGPJSPCtUZDK4ecKwyL1UDzIW+bNSU2J296ZRPif1YrGHaSIM3qrkJMwcusbm2DW3D9qAJavOWxn73WCKmch8QG2GNqjCFhWqkaWOMnXO5lb5ivirHhTm3XvHYu5tnVD1HGp9XE/+cPBFz6o3aaJmcSkZCNZCmrAODoveUaFWTf0FpT+vpxLoQQ/qicXMupGxcisdsZM+0NhGVpGJtmDMnVNrwddAzPBNVV0Cdo3FELLMdqOmcTLEcY3Il49peWBY297sMwFhVIJTN4ZpUgeLhnqqxcgm3S0XCBIuaR1t/ZsVvrHdVKydEJyB7qJYQYu2a5BquFibtmgluelBikdTgB8M2xbr63DJr6xIO3P8KIEspX/O/eL+elO2nMnwAdkmZKt+csg/FpZNCutAhdEjHlnrWa6yunOodAuMJlSYIQ1xz0DyPulR450VKLZUcBBumZKzBYNdw2qlwmuZky8ozsQirvFyC4VBLmHyj/i674vcoqnJdgXClW4Wvbgk6gyJyUfek20U3l86ewAAdn+Q/WQTMOkEIo6GyCcTBkaSSzufONqNgA8OfIMqJVb00MY8itL6kZUHZVehIaqSzayvktBJbYttUyrF7VFzNEhiNT0paebz2V5rkNKK2VKrVTt02abHSa/VOozgx+gc00k7H5O0odiz9FQEGAgynsLw9BCxWSdXZjIRDyPXMjZ+UI2ZbDUvz70aLsY5wICaR2a/AsOpcUp5jkxy1TduxWMlpQAKpNPMyqVVW2rA4U3VzuSqkKGyABEqbiEolLFW1radKkzOiPAkI45VscLeQCRttCokpSRUCTiCKkHwVZ8KqvpeOGCX402cP7H0pA0QlYxJzqxCgwHDvoUZMDY3O9QEa45RKerZe0joqZa9Y8Kqwo/KY08YEz+2IvQV/sB0bOtqlKMKS2HlHp9K6Ko8jHeYNYHgsa8ru0jAiiY9fZPzZ7IXRlIL3ka5loWCj4SoDE3PYpmU5S43Egj5NvB04iFZjnSBtv2I87Rfopm4BV5FXt2zAE3SFu7gAw5oJR5VQFP3zA/CLX1ScKQ7EBq/iWWiliBK20WJ1l6zKEAqJXvxzKmwODRVcdLWStp7bRVdLOFx4dVwzeaUCiOYG8KRTCFYEWsl7xbgtnS254OLmnq/uOUuMmvC0bKeFV7SnTM4xh3IG9UkUKfZWlfJsE0QGWZ/0l1f3SbGkqiuB6X3PfTKLXuuN5TZ4E2gK4VhPwUJVeiICubknFddUBeeGxUowOeU4n7eXL9ufNtC2IqDh5zcshCsfk6JYrOiriF54BW24QOObU0RueL65Z5u5/Lz9ddGr1G27fUrMavQQ/uae8hOM7Fcu3wNUsPC26OYQu35Bbs7TaIyLyIZLStmWB5f1N1bEOnwrOg1G3dMtAclFb6KbrWm4wq/kAmzkpvC9nkOMF9ImiorlfoVb4Te41fmre9pwcUnWA+SFr143b/R+NywmeQYKL7x5qqcL+jCK5eo+SZVfAOFM9odfl09Xd1FTG/Fl/broVgCY9FwTU0VHufD2aftawWcUZC3lFxs8xcP8lsIlDM5yvlWtjMJd3ZP11Z70+mX90965DZcVF2dU2BROQw9LLlii1iycQBQGaB3V8wbpKCBjr/7T1T3b7zxvL4uRQsu3x6YhFV6NIParu3xdPmeKGMKLrhddq0Ocm+dmN7D23RD1Erri8p/4twodHZ2rjqxP2+uT3vp8Aau8mtqV79KxVhcYNnQRs35+eogwYnmhYd2z7hGV2s+mQMWbA4qO6ril/5XrY9RVDauhet+rLIrl5hxkjRoILtxJZSyDcJRfIgL+yy8Kx7DEIxb6DcuGZRPfFKqE+ikn3HBZseTTTYFX//zin1/8s8YSRF10vei6cAvPddHtwtuit0W3oBa06PWiL0/6ClnDvgU1YnBCYsaNl+sdgqC5Ltyyx5CnF4RHeHNPL/7Ti/tyc0+03XumQu/C68LroldUkT8SIQyIeq7hT3ars79vi4NM1hCv/nJ1n1/dZ8IjJrAdBQl1AOrC66K3DMMKt2FRLBGG4+HlKaaDOjawl+138083d7m6J5qsTvGi0qFP5E8kz9vL77d//L7+4/P6l9lLLEMORDZ3Ccdf9q5UfLi8rEVw4eui4dblWJDhQAyXseLp1X95TfdfRD5t//yy/fnb+ufCW8tFw9SkpDjeCVX8zT3d3PMNT6n9P2xXlaQFv+jtSW9Pel24OgrADaHe0mex8fBxVlz6cCQr9aT0hJXo2xw16KhswJPenvX2tF0X2Wh+/SYudllQi3J/t8U0VQvfnLu5ZY1jP/wNy80939xzcNpAXhh3hOdmAHjZ4DXJHF54C0soA/Cre3r1n6/uk8RMRIArn3mql+XTX8unv5bPN7cEDP6yvnxZv35ZX7xuKc25hdUe0kYX3j5vXz9vXz/p1xS/YoVfncuix+naotPmyHCMpPMkLGYXUDnLvF/d09U/Xd1TuF0Xff19/eO32x+ft3+m9XO5ueeb+7RhCRi8SZiTsbDMJAjng5occDg6NNH+uvDmefO61s24NAD8+av/7a/lt5t7ygD8afv6aXtx3FAKPx1NJ4KKV3iFDx/w6i7/vHz55/LlZYn3/6Lr83Z90tuSYHjR9cJ10TVTCwoXHlOfrQhXeMXTf+D3/3S//wO/RewEvaf3mthZ+bS9ftm+/rZ9vSQYzpIjOYhNZ6lKiiJ8OIR5Y3VysKtkpsSZBxIOYYozaTen4tOTbWjEHJY4wqu4DMBhgUE2o68e1IU1l5GHj7A6H/6EukuHdRV1cBBRoQO3pNf08wPwclGEm+XSV7+GreUuG5bse5pyf1lx2bCsuGzusuKicBmAX/zTq38OEXDC4HXRzXO76C38WeI3bxe+POnrRV8u+hoWfdhFGYkT+hYvbAliVdwW1YWqSdMut83c8PTiw58vL+7z6i6W6Qmr4aLXhdeFt0WvF14TCZqyLQgRfwDgm+fqw7XZfLYYGaM0ZeXqnl7dJcKw/xy2bjo1EHT9IgDz6vW68EZx+SALMBwiYI1fc0in4eZInN30dPOXq3u6uaebuzQPKJdFMOlNUuRZIwD/fvvj327/eN6+5qRpKnYLR+plxWXDJZAcimUTr/HyvAgXvQYMvvC66C1cVSq4U5A39/zqP726T6/+y6v7vLrLp+2v39Y/v2x/fFn//LL+mXxw9BVhWmJ3d3OXm7tc8XRzz6u7SDpK0jnLheuTXvOfRbcAD6uLUSaB+FnCcrJz4NYAACAASURBVHWXppG4xNZVGWd5F8gmIle93fT2jOU54r1aFBdB5mD3hJ0kArC/OXcN6Ov8zS3h69U93/CJ8Bd9vTBuhwtfPXXDskm8+RsWC8ALrxe9KZYXv7y6CMM3BA/YK5wiHpEv/vmvy+e/ls9fl09/LZ9X+M/r14TBX7+sL/lwTDC8XfT2efv6afsrwPCzvigQY/fo5bjgnG24bG5ZsYREeV63mk9tOI2hsFO4q79c3VOA4Zu7POn1t9s/flv/+H3947f1j0/rX6u73NynK54DDCv8Bp+iAr/Bp0kP6uLZzXC+Q9RJODqCP3FbePN6W3jz3HoMfvWfAgCHr6u7fNpenrevn7aXgMRxNk2oEUxIHG9shGGXAfify5e/Ll9e/NNF1+ft9rRdn/X6tN0Wbj4eg7eLroEXjDmU5K80zTzCEAH//p/u9//Av/0nfv/TfXGg9+q8ehdhOAPwl+3rl/XrJZ5RTD5x0ETS+Ceeqwx+ycLbojfPNddZouwC+wp5BFb87CGcyOCqoamlrhUIUtnh/6r48Pe8xjxXx9UF3cmg4JaemqkTIoQrnHOAwAmcyoobYnNTqJ/BrwDA/++X/8WROQgOYKzwGy4BFVZcYFuQICJYGUD6suKyuWXD4sBX//zin16W51f/vMI7akLfNZHPXHTNMCwijltw+S/6euFL0o0rG8kIyIU5cbzoulB9gmERrPC1doRbsbz4Ly/+84v78uI/m1ri0tPmuS68ZiR21Iy+ecsZAF69bmHCYKYrxQzSCjHcJv7qnkIQ/Oo/X91zHjmRYTgQ4ItG+Ad1o9OEwRuWoF2YnaG0P8PG0OCreurqQoz4dPWX1V1sHiHVWKXPEuXv4Z6232//SDD8jyfcXKa9GR3eTZYUBy8bFi+0Mfomy6Yu3jd9XXh13CK1kC7PgXT+1X9+8V9e3edX/0XpLtv1y/pHiIM/b386sMVgFiIhpoohIZtww/PNPW2ylHM2fAUXWZ/0+rTdAgZH6jgwvS7OFtzcpaxVlD4jmjYtOz/DhXO8wPCm4rxuAX2f9fas1wtXSDU+JBAYtWJre0Co4FbQ14uQ4q/u+eY+3dzz1X1ScZ63C1/Djlh4pWCDT8vDU5yjXniL64dXkCuWV5futvsSkvLpfPcKR+Dqnv7yn/7yn/9aPn/1n/7j6d8/ba8BfT+vXz9tVxV4buFw9NzCn8/b18/bX5+2r5+3vxauDPMiE5e+wW3moNiwpOmc4STxFFfFT2HUIxki4Jt/urrLBu8+/deAvgGJPbc1cgOfws1JRJFPZICXMkwlnBUhvItHuRMlZducLwB8W7B5qAWJje6Kp69LwWASl+32rC+ftq/P28vz9uIcLQanOD5EwNHPWMX/E5//cl/+iS//9F9W792iFoO900XWgL4XrovepBAVyKGwLVkQykr3FZ9f3KcXfPoTv13lIhAP9S5iMBZeuP62fv2yfQ1I7LEluccIqEoXVnJA33DKZb9k4c2HfreU5zJT0srrRKbBOFLXbdnEl6fssHi1hHN4QS2umLe0ouPquaaiGY3nRvpLyvoRwo1+0fVJb5dAd3G98JYKNinyf/70APz//Pt/d9x8mPcXDn0E99YpfDizMtOYw6yVfhW/0ofAQrE4EI6IMPy8Ou+oV2qEYV0hWWKNGYBDoOa5Xvj6pC+mljU6R2KrAwUIfE70KNVHAF5Wt6zOq2Q5a1Bwc5cAwAKYKsdKuCpEEgtvmasxLl78GjFYt3QwxeY8KeFazAlt4jbxG/3VPWcAzg3rRM4n0YmGMxSqG6F0m0QYFgCODkyX4Uzha9gkQaZbPfXmLjf3dHNLPHATPRjltEJReQJgVfx/7n9altvvtz9+X/5xwW1x2+LUpdEsyiBcl4JytzihF3XQTRaF38Sv9Kt6VQQYdtzIVASZANg5dZ7qlhAEb3QkVN3T9vLb9sfn9Z95tVTZIyYiOhSChcEQwM093/C8iWdSEc4A7Jx6l0PhWz4yNrgNboXPLkgkbGQhRVlV6iS4Zz53vKiFYRWoOKXzXJ+327PeLnK7cL1wlVJ85AJR3FYtdQVHKi4CMOmoXnQTHzA4oSYW3jIAh4+QAdinmObC68KbUANDe8MluDsi8KJeNhFJYUpaA+krRL4uzy/L81/r65f10/N2TdUbGYaDu6mLbp+3vz5vXwNvEYSMciZb4TZD4ZiDIobCOQeksbIBObS6+aerewqOyz+e/svC22/rH7/d/giaVipuw3J1n27uOaujqYSbvCSuUuLBbdorQhxMlZv6dfOqiDCM9eJ1cZuPmVQq3aZuo3t1z1/9b3/530ioAxVP/vq8fX3WVwc6R+eYo8CshRXjYHFKUOW2LS94enFPq3gK/pTPHvos1ye5LqLO0190kW3R28LVrpAAwFVlRkg2K6jwog70UC8adjFXT2ooe93gXtzTn/j8RV6+yNcFW/iArrjULpwtEYMlTYIQLrx5Xb2sPkwjjBWlpdk9pd4i229g2F235aqXAMPBNbksuizbsqgUWcq4zQIGGxXnSC5SJCzOcHS4eOaHmDhe5Ua30m3in/R22W5PXC9ye5I1ecD/x88PwP/lv7l0mjtuseQhYHD8i687rCkiAX3jV3p1HqAD4cSB4mSF94n3eKV6bpE4SAeKky3JL8TvLFyN8k8UBulLWyL6BhjmSsHqlhXLzfnVLYGhohQYvrqnKPYvAquOxTJUYOGaWZrAbgV3r6RqwATAmmBYWQrEIgZv4sNyCX+u7gnx/wtSvJcAOMJwjIDplNjolF6chOZPFyAKfT0k8ykc/rK6i8aMZrxgZgyOemURgFWhDv/D/9fL9voktyUcSV4XtwU15nCgxK/wTuigXjT8ZRO/ql/Vr3SbelVx3KIgbkpgOdB5dY7e0Tld/UXpwyRJVSjxvH11kR2nC5KPpZEyFWyium+hVC1+nCgMTzh6aDgfneOFt+Q4S4ZhFkojTLdMAKzxdYq4UFob4ZM60XD2GQDGJk7FhYWXMfjCWzhGt4hJEYZZ1DTR65WkPsj4BJ1oTvckZhIhUZdz+SGOdNWj30Cu4jfEVXdzFxHnZfOiCYZhXySBcSxb/bp8+rpEAE7/y1EkA3Bgei9681ybxHZCX6fwm7gNHllwvxRA5A2SFJiLRikzcxB25H88/ftFr56bpt1HwVoVbcUktzQl7qUQPek1MQLwuvmbeioWrIvbFr8tTi9+c1Cl2+g2dSsDDH8KnllYl+rlSa/OMWNw3oyGaYKKIyUub+K2XVb4vCP+lM8h8nZQDwYCeZG1OdaCOFRTlxhWadgyPqppMmxqVZA+Dx3d8Omrf/4Tnxeod1v+CuEmTsNcFnEhGrbjNIX0srlweU5dnMCezqw8qC2utxKiXLflul1et+W6Xa7bYgF48duyqKQoxRRpVv1hLvgTsZ0BoaQ0HImp+E4hEh7NJm6jV+Ki65PcLhK//goU9D8u/w5zEHhuEpvrvSYPN+vgpq0lG53F4E1ciGnSV3FQ0kVUE9XYYSrlQMSlORxNM5wp2wsqApnXo7jIY685sN7gV+dXLDe3rG7J0Jth2EAvYQSGjQBQ1CJIj1/j3CQDw6mGUD23AMaGHk+lWGGtiN/EreJVfNCJAMRqLuVDKmsBbgWAo2p/kAF1GYnrYkMvGoKncEmpAcmZP/FoSAAc8Vg3F2D45n77S+Cgi1Pvt8Xp4jXUGypDxBwHGnqEhxiHdpNY1a3qN/Urnaorc6rSXsugGCLUtOEQnPq/3KdQVAJIXDMYYbDEW5dvoGSXglG2L75LgmGUkz0u136NhV+Pp5tRP8txcCBgfDgLoOmkcMU1EXiqxWAvW/JZY1yYMqCSaZISojF3fYTFtmVATSgY4+Cv+Eypgtck+h9wcXNBCoPY4Nfg9oWFCvXURTQgsaT7oOZuRFH9UKXlnzNXrJmqyTAv6sogMlbRmwQiOuSDnfEvS3m87bAwyRTCSDTn6uVbqDyIPHbcgHW5XqDCaEt2ITRqiZEwU8XN+dUnDCYceHHbEv6E1U6EIDg4lLYjQIkX9+wdkRczyoxDGGUKVSjiclLNEX5cpTfx0LCJGL96bRUuunxFbLZx4WWhChdnrjPvtUhHpAkfr+7pBnqnvsCwkpKXbgDjbXOWAgTo4w5SBzoEGM76MPFwy5GJix6/u7nl1V2ubrm6y0rvnS7YFujitotT59R6Wnkz1uLukdbOqc/Ulcdw4ET9tYDBdBtDLpkxCJbbrwDAqVSvgFYCLI39lMhZCVu9gtzU2Qgd5A7taoL9OeUwGvGH3FkYSi1si57CXd3CKEvDLfkKGXgkAk+6JKSgqh6bU8u3RiFSIjmJaSaupd/jZPVm6mGphYYZ7tsifRbv2CLFE/M04VKj953gQeiQeNrshtvuCFaPLB6muS7UhUkBRc07duk5bCkUjiLNKoD4bV8mI0COE/qiwAIHqqPToMkZYazo24Y3ZYh6k4QtxDmq1CKuWY2+NExV1cTNrSurQ84WYZRceJG3EwcqxKUzCPlUjaNaKu3ZnMJAkT4lRZR+gzpxECbGNdd/opqpXqY+s23cMJP6jKpf7SnW4UPoSnJEBmBa3U4kSrxvCgVSKiQuodDphx1hIabdFIQZ0Dwa01Kc7l48ScIWAtALNCWBmDDlsEiDWGFnEsoylcRquUTlVorLKq7lDucy3TCBAHDiw3DJpDqz5WJb3SLNS1hGJLt3zBKcOSGaRWVLN1RY55JgUtL8w5RSiS4+wxuR4oOaAeqe55qDqYDYzOGmGVETY4nkoSZvNeSBgFDeXyQNokJD4By3zW0b0mgR0tOHOZ0STg+68GGLVoFEIdJQDwWEpFJqllNHODcQMmDb0JWevjnE8qdMiyWE4U7iEEUA4p2mmXEhVeqvR6rwPxcAc2vaMcVoB4ZELFOvbcl3MjW/ctR1zjLTJiX2YFtletxlPaaQCckYBtCLSwXrTNWqssHTIeBxwWAJjLGkfKHkCDgfNQYjwqQENY3/UcsCyQGkVcRNB3J4i0ZzOSknOwPDtD1+dsWwLsmM216gLD+mIdGJhL7ZDY+oGefb08wgYIRhMo66d2rkTsIPe9KFcYbmkai4rRIFGBQQMU61N8sjTfDOxRs2moznoFbevXOiWlYBxIxUqvqWi8RLinc7tYQy+eIR2RmaJSosgS8kExWmnQO08+NgOq+STJCKU+GWyz4RaWQWvzYFf0zneD1BcqjckA7I4m9ENd6kJxhTzoYS0CLNGjpAIXWjiwxaNvNGQ+ME15lsK2AT4UBjkb+joNMEQdpTVfyavxnVv3rhy4SdDMSpHY0mJuo0HkVTDafZCUj9Ec7Ri4aRxuFxb2mSvUYfMfu+CYC17FkyPwZJSpGQSiUGUa41vZRpexSj/RNh2HvjDokJqYsjyEpExEY9eZZl2oAWhmMeEESE4WquNkBoTP0A2MLEdYQhUOKjylJUgA38nMuSz2mTbPBKt8FtzlUwHGJop8CpEKsc+yhBnNUNUjhXXHoA9FCEKDkkmMT/CgCcW9PYDCKoN1VgA8pGzVVNA8kx5BFWaVwomDZjJuUOz8dyFqiIAxhasYvOcR7g49KUkpi0Tj4Bijo5rWS1OT+iQp+V3Wk05IqcS6G3skYSXa8dmUZltbCQ39qyrPaf8VeK912dd4GzitqzIeAS2Dcq6nX5NlMcRKkOLk5MSFPf8wzuolESDyNnISp7sDRiV0nhuKh8wKgmM82cz0dJGQnYhGFSSDy08j4RC63HJEeinPX2RpXCiL5X9yzy1/KOJkNRTYMnepmhkLTbkM+CoiZmkilWRWTQIcwyCpqsxsbC1uMk9WHk0CnvEY0RrWFECNSetMJh8NZo4xLzMPLpjqT5G9s+bKKVrdjL8Wmbw6E0iRF5yHGrhxM3fvlEMogLoSzjDGB62fMrxAcY5d1ahWRlSZ1EpC/1IVkOLpckMfPcZWUaOg2DW4D+WAtPL8BwDv2B7H3Cas0B1T1EN8Ai+wQGgxNfgyQchlzUFVkyF8cuBnVDJBc5EZ+QQAxlDXhXFOUL7UGH6CcBdGmWNaTo6kpWJEYR1rLb3koPmbGkkRtkRaiZyUvFH8OvMQ3p6DQzn9nSVpkbQcfQ1gcN4vmCUu3SxjAngpcgyOLEkSqo8BKxNhJmfRxBe9HkgJkZVxJRsNPN0opgIzFLo8bKdoTBWKC0QV/SYnBJ0IZYMJZKKarQedkCBY3SsTcmD2w000n+FmcicxWZq5ehW1RPRG8RunLYWL+5DOlTmwOAtKORjG73znuhErbO9zylrVghsVT71p5lkXyrJmDVKsL2fOVgoWqq8FJCZW8GjsDSCrVYJsSKkIDdrOvmFVAqB3PafLzkQn2pk1BLmPUEeYDB4y2T1PfVpO9gnmC/ZNiKswnGD6LE9QM+rNovO6qLiE55rXCZdtNY/DUSY9ara4ZZAOKgmudWOp7R/Q/455BpaTTJlAE9m3IdWfr3OHbMeRwxYvtDFMqyISZpDzZX60ITF/Mwk0hVpn+LkdtsF0zIegT6If5J7gKz29RHZDufqNs0aURYL/GBfoP/9ACcOZXB2Tk8UFF2SPRXkgeasxEDlxZD2lkOCMSi456YWk2DuvITKoxomu+2hxAtJLAa5V4ccrRy7gNv9iB0oNGz5OBgsjVEGf8aGM5UWIBhloZ4uSzqnJQRD2kUws493FGVlY4+59BvQA2grZztWFEbu9eBI1g+fnBgyblJmAJo8beVODIFBJbpQgnHUUfAZd3mMY/oD4lRhm4LhUt1Fa6tVmKpQzCqX6nnEna6KjFy6SrXySjgi6Ra96acsPJcBQ5qAv7HMbi6A+U2oIiYjkMRc58rGDYTlcdaCnY7xwm9LX9QRgAyZQX6gSykbasRO6xXNS6A9BY23SmEuAAiMbXZV0FWSTu77IAm3GO9wPqBTMmRT6MtM9NRsiSodhHMMylJExsED8jesoBpQgjnWKpEEx0oLDSnShKyqrd8mBgSU1FFbTw+3Txx1Zw3sqNRDe6fCMe5pY8Zh/RREfDoQMRdzfJ0JmT6LjuDxQtLRXpjJ7aEouMTWUOXCso/i6+QwupMWGkdCw4/DSuaA2WM7giDxwPUTHqmeJexyizTs1VMbNFXNQ9aNJyzyVgHgkdS/k5VmGLi8Mc7NhjcL1m0N5Rl/6Z5jgX4TdXJDqBSbCq9iukzty2t9wIeh8KJjTyVjxg/BAx3LKUe9leFSNX8BZN77iGsGXlgQSj5MIhKLK7Gb+Ozp9yNySMPmR/kkUg7GGymX5RwDvXhiIrpiVwrgJKnQP0o7kJvfqbZTa9IHVsJODocexhm9Wg6csWsm/qVKy8wTxZgJKh6hqY638nmkurEfsnAmd9EmIklObEwXKhAXVKA2kGwDBFKiFIOBMlzl/IY1xTmhpaDGGo05REt+h4c1azTyUg1WaZ6K2Nw9gnKc9H6xMs30xDNuYwsl7ywvlmU4/D+dNr44+0DxhHiCK86iiAjawh8gUANj4ZkmyekGIyrk0wdNzxdh8Eln2MuCqVwUoqKJM9MpilThCG7GLy3ji2lbc4LVPnd5FxneDNoF3v7bK+CDX+do3e6XDQ2/CmSD27OAlY5qJ0aVjHDnVHGibOtb7LFn21RUIgGjr2knGelHEvEDULhR6eKYVAjVDwBcC831MRb6XSTnqvPRT1I57tJaVWFEp1Lz+Gb5pDGVEETteLBPe+4Sgw3HOMBZ1BvdOz5kXsnoWlYkkZqszzobv/yXjScgIv2ntm8z/7UoyoYJBnKiHKFXl3niIrETgFxxU5BnGTXoJC6MGHr+LbVWy+EkqoSC4dk8LWBbVWxaaacSc4YnD5Xrr1iRzLRFjHED21T9TsclXMiaqd6DfNOA+K44e3sC+SUXB7W3nS/22buptSonMD3/EL+egB8vP0xIA4sDBOCkE4Y3ajSBTi8fanbR6TP2XBITPXVXiXJwu6MGNLtBWmD/wya6XN21vH+Cij1Rabgy3ZqcXgG2ZBXcot9Tv2aHyApXuidPl1UFc5p6kRKLnnJvh/A4vAWJAQwE1BS9Wbxx8Voj4UOhjQ36ESaavT5Ofw7j1ckm4PDbmq0Y8dz/t4A5wiGTWzXwngDoqwUyLCHsuwOliESNwlgaaXZILjzIOusdDq8qhq8IZ+POuTdC74H122Km9pR7mWpAB0XW20BdDBspln2xQYJJnM/z8Bry9F8NZzaDp43NczWxTKXTdiSjwTDbW1g3cR/h1xzLm5eyyFb7KyuPsNw6hM3xVMCinMN0NpxmplurKhHu6pT7eQYjAGG17e3t0NL1FNGy4qyhSyZQIoV6eXjxyVNlCrEY35yLysxONX5i1HQ3Se8NwE74VYQDdyJOlK1Ezm8iagyWAeJwMJw7iSNxh/h4OpbDDZ5lf35ZfWngEkxZhgWO3E4NyfkWDM04KpiS3xy4uMMPIeyGSUBZRRej23y1UgydniFu89YTAZZWlIOynw8pcEbTiFRqEYOma5q83SzyHHWgYUc/BJ7Mrn6peax7s+AZ0fXDx46Tu/xfNKmQwv1a+YqlyoBPKxMOLgn4z2GtsjfstDlKCwpRO6NZBa2WXyToR6tLhQXuye+9mgPu9lR56eYN3sJgjF8lUDKMtUqp+xSy0Lb3VdfBdgNR6pgLIfCdZJ1kFFBfbvLYYjj9V4/L5PVDoCN/LlKT8aI3uaxi7tzDFJqH7QisVOJt21/6GgVNF9h+k7KTgzjxavN2Dp7w2KruzTth4XCf2MVtNxZPSGRUNUU925vJnjtSjlMre9zyMf08uPDqVoiqTiswr33avJzXchb0VyVHqThn9c1Y7CDSBBujARdEniKEhxJi8NK8aHUwQjljlNyFkLSdo6iBOX/uMB+l2IiHGHw983Z4Ii1oTRKEfdOwG+6i0tVUahRoK14IkZoasuRTLZg+Bwhjz/QOj0ZE3vpNNy/jR0MW5UMGbAGNr36UPbBQC8NH55ZYgr3X6VkgOvKgyZKK0w70WfWSt/tqEsDkCEXBlOOlnJBMc41tX0t5JCjED5Fic1TS2i+U4Gyc2F3T8V8o0xWflz2URJy0pRf3dmPZuG1GAxpKgB+rHTvDwfAZa7OPTAeb9s7LgzuLZ23PIxHYZilsIXNMXpMFZgOd9BeMG0fRW6KKM64UkjZFNvqtgDAiiAS65xK0p70SX7Wpeb6WmuGUneF7N9zPHbrKEwKQYErJFWcOJfLl0wC/n0wPPiZentjLyqW9rM1p11+rN8WaG0t8TFXZkpnWAfqbDB7n4KCSb5YGAbfBsYlXMSQkKhiX46ex9F7dAuCeCiH14RZZTex6/pkJUMwPCiawouGpkaXh8Thkj6xJCRLi6RElynA65JaiUBPLeeN9IDskT6DhwXsPvGek7f/BO48k+ZF2gdkGbXaP7SUjMkWZMb0rYfDrwrAPNpdGK8EljIW0+c+ZBXQZf3OEsXfCXTrHElmDFFHJLt3ibVP3SgYJxgr4jhMud5QuG+a52LEGdS8VARAFjdGJQHPVPLGjge770L1j2IvayjmmA95YlWBQEs4HGm6MzB8dwvdCVHv5ra74rAafcupdheD3wDSxx8wQV6IN4kdELPdOENSrqhQ1apGd27EcI+kgp7m06LbR40iz/EZPVSceHz/NmFWJx5Xw7DpJi6O2ih11R0R6Pt5iP16q778uNwiFoWpnH7ItHiDwT045RJQ1CKB6HIuBzXExzBsXobDLPrxBuwuu47jB115ppxGbPa4ZL3Cdjhu4v2h4uCPq4JukyH3D7/M03Dkm/apWd4FzpqSGv7Mfh6Su/82TXUwjeZVcWbXILG/mc0dM1OASvFIdMAFVbFV7ugV8V6z/Gm4njy9wEc6OkJvHIsE1oNm3/e0a/+0cgiiVKTAidPQBfh2/whdBxp2oqqT77FbF2dTHPfB6Cz0Hq+H9zDVzV8ya727N3GnOnTYCdY6SV2JIrqMbUllnrjxo42Mx33iXnflgH3qYLhbPTbda/TUSul4hgOr/liJQQ5AiMNaaKO8mzhpcPiUzeOI/3IuOv+isM1y+TKaKWoV6VYngE/BMEoTd6rLL67hueaR5lhm2yBfivJMi2Hqwkixb1ySx3mQfzkKui7ulT7HLm3Fiq17GXYs9UydbTO4uwkHG5s8EbVzD6ZowLg6mExLaIHhHse7MhNT/EzTg2R02NPsnTBWzKmRDoLIsqgFYAvD9T9LhWGSwraUz3sAsjTy2hZ+QJyIIoxvDUnolpXC+brrd8MwzkBBacpNgadUoSVO4O44Bv0OR0SvjLEXFLAvzB0Kq0SQQG49Pk7l9Cz6DvS+h4g622C2t82rHh7cIbcPLga1SpqIiCvuVemFtbLMeUk1pfLYoffzYIMkxN2fgbbjKoOSgLlzyS5x5EFETYlbi8HjgPUIhjNpkPnLx+j3Vv+/PZVZuYRVIrhoxZrZWG/kOD8IuD+Ugm4r6sZ3B3upnjIb61DvhnuIuctHDX8evBcpWdEAczaVGgEDD2HN1Cmy8VtXDelSq0iyVBFHznnbYtlziINFxFWTCShCG/Kar5KC4EQ+R66s2sTvNRSF9+Lsu6hkGO6GS1oE7wP7AQzzIUb61FIuGFyazDnG4AMKZS/Le6Zi8xTnjioexR0mvg9/cfduH4WS1dphA714cFUd8Fhv/pVB2e0h93Pc2DauG8ohryl+Flv/3K3eA562EM2UagUGRjpxwEkpXdBmS9pPl6+tnsi5dxP4ABLD1HdVdCAefdzs2hxQ+SVJShzW1Y+xL3YK7//lIuCegqbcy87v7Ilm0NBp7B+5AtwlpS0Dxb01idOn2z4Mtxdpaz7rRG+Kd6O0RSGlKZu69eZDwXPQKwxjq+2WzgGoFdyBVfAc1F6JrSkctk0bbScc3aekb5LUvsPYMlGaIu98Zv3ghNE7nZF7q2UQOB7WDYxfoupFv8N1Z5F6Iw71tojhOKDh9wmC95v5um116q3flILJjOvA+zQP0Uqh4aGwsmsGK+n/bzdvKQAAIABJREFUyMXk3Zol+O4kWpAHLZSuhzgypAzK+eE2Y+9gDh3iOAKtKT74Mc+W7w/Ag36DAQzfowdb6LUjZ86wBzz0fwffqVnDpn8TpIXhLMJn6/rqEoMWhmWv86yZqh61AlKlpRW3EqHGOaO6udvqdYPEWQvbsuiybEa8k7Wyue1BZDOfp5qN2D7ETgD2HgYn2s2COcTRsQwDbfhR4B5TTPlJ7YzjuAfDj2+9apxn00VdV0GLFas5z0UcZnOtCwj5FuWQ+289Kt3gYFs9AMOPYbAMqlyk7kFCexbu5IPvXKGtbyqN4UlBt2Fn2yC4fq+cCS6Fxkb14m2Mxd8AxiYNbFc/a2qBx67v213MH56CbqBX+sFkdxZ/JSTWg26lMcZj7LUaWjXhzPsUdMXOGhiuiuFL3cERDO97Bt0Q3+RGV9rOBZXLCyihWg0xXJbNexoA5jAartmBnvDh0TPFwU+w6oEYMWNAh8FneNCTtVVVgXAVSbwh0Dl3HHzDVxwPLzkGjnbAhU2H9I/ZjH2sZnXXeHzyzDp4SE3G9H0ejMjdOJi9bBY+xm9DJwXUUNBDwrn9rXtUgRnfnFa1mSGT3qLo3o5V20BUQxesp/1I+dV3Sve8YdN1HWWPZ6B/uQh4sFe7ksuhDhtYyea+wR8nx/EH6xCzr34a7PN6/6KBYQzIELkHw10C2GgsGk3UdtBCLbshIt5rZqoV9GFssSNcLnVOY3ZhB3y+C13uepOo1AmNUjCr+e+GEzPk2El07PWw+skcpjizOt1kjPcnapx7fRX7iT9uq+/0RO2ctVKpMNRlSTBVGuPqyKYXrnkRHu35ftTVN2A1uMOwyShf+73aTrD7L+zcIZxi60bOYrO2TaFREQDJdU9JNX2QBu6D4G8U6aIhGpgvaX9vvm+113qc9TDp8cP5EWH4A4cxQAYFpzg1s6zSnHxcn6U6GIdHCWswHgm4VwcwaGHY9oJj5HbtwXDj19t2oyYCrscKtUgcap5FRNU5r96pd+rKlBXmSdoGjE9uvFbp9+xWRDtJzbTTMs/ra+IxYPd42j2rRzCca924B8PDaNuk7CrZjZ2tPkCXe93e3xuPZf/E7SWD244THGBhO42AI2arq1jdxRm86Ui8K+c+VKk8w/+ffFg4yG5hF4b7ILh7qdrpNHpSHX+QY11DOOfVHj3B0iW8r5HMHnrx7tRv81QzY3nkIr8DiZszH2YD7IzfO4kXv1oEPPARG0jux7q1EceD/Zfjm2uTm9UEyqoecpewyt+Oyz2V2yVZtUhBY8x+jGC43RTWM6ipZtSThRouGmSoat68D82+mkSeWWaK2UywKXqyqd/zsfA9Ne96J9OOCe7a9AcUCc/v8/5b5elYBaUOhgdu4VucbnwnDH60Cvr4HTlyc7IKh9TDp63IYp8VGKZpeKKl4ZvEwSM25n4O797w1xNqKvfiV3QwbEYM8fzrlGae+ufNyM9S9pUyczT1R4NamZ2PwxOI+3YN3iM3Yq+BDVXB/P3J67Y7xo4GRsVT/bDFnR/ThoSztMuRZ/8WDN4VrymBZjWfpwJjHgVdRI6xaGcNFoVT9JFumyjpOfNG/arH2qy5oWG2IOi9ZkksppKroOxo6q1yEMx6znw7HgBHIuwNA9tikwwq1ftKkDKMsd1guBttjAMGaQZH0AbiZSQWLZ3SRyQ7X9+24L8hBu+9zp6eWpZIOt6JDfPEeiBr8/c7ZzJb4pe7ctoPhboPzkvnqTu5x9Dfe8szNHJpw8c5nBumJw29huGOyOOBxzBcD1U88D0gTYxeLqmaDYwPQYnR4V70xjunuBp1wzLUsivQqfyZHw2JP6AKuvfuvgXx8I442Ioqm+E8FfRyFGGhPnCQpwewxeChxzeQ++AAj61OXpR3VgvDQXgSVCGhsaeW3qtqxJVa64rNGJakgBMrRNAp4WNn+nJD3I4cTFuPCaMn2qQphw7vcBLCTpUt2p9AN4+ANQxXpdbYHee3G/SN+K5uIMEbQ6uTMHyOL610CO46xM3wj4Pyu/tIbGNi7hLRg+viOyIvHnn2dp7d4NaNk7g8E/5ip4V72N07VEUeATnbExPc+UQwi7CbeWCptjqYPuANrFjmaEIivz8MF6WXJnQB9qGg5LVgRdlsgY4Vtf/R8sB/4zhCvP8VH3Vp6r6jejReEwezTSlVZVOIuZg83XdvQs64ClXqy6g9g27SGbqRR0KVAMMu9QcrxZmqK4u+aAafpe1UfPPQjMS9Q58y8nrQDhgre6IMDMizn9DxUiYOHpzvOLsAYI6qZtNaPXcxkx7uhSCDeOiASj2DwfKN6rNOxsFntuHeX3opwlMZslFB/E6qj+85N96A1eNS2DF7fCc5ebeAuRFbPlKa3HvZwyxp1uWQLIBp0wJ5jHPhInCgrns0MBF3wvTvbTm3vXu3q5KS0YOm0SbH+bkfvz4FfTSY5btfTNP72yJxjkQLJFdypjGzmHTecuJlB4O7Boz0YpROO7NJAA8CmxC8uny1DFRzGiyIJuQtVVeVLK00CvQVmD3Ivg46X6SmoNvvJ3XMhiqwzRJ8SLuZgxhi72esc437ieefoN24R/cDvD+HvhjIAY9ufaNmU7f2HchfvGkK2UHg+CZHZnisHzW+4d53LPS2meAHXrZfqMPfGiZxquWduB/saZYNiHe+N/uyvxMfygRXr7OvuXbf/bXTgcF3xG4/LwW90/7fxzDDpJR8sxWxi8ENEjegKJS6jgf5ewmRkwqp4aJH24yHmvI9+hbBjSbkBASOQpIIopJ11FtJbSStK9rRpDKeEs93O0FssjZllCmLfqGpY2rYM57UrKHgYRjmqTgG+JnQ9y4M7zF9+44vHo0wLfqWLVP9Wi8D+YYGY1RL5OyPn6ATGvTFiQbn7gzrdRzRkdJ3l9bbipWOfwv1A9m/Q10j/j11zPqcfBcM04hJ7jl7D8QCuzECzq/qX5+CllMlIZBHJGofdn1rDDZfzQAiEVuzk0pikBkfjjB49C5dUXQNvQP0zT/XDjuLwWMMfIOwc6e24UwFlkgryiOV8A2HCbBHVXuHQXDE4NAmW6bHVF2p5E7B5+HReR+GKfv9qIPTxMDwzxcKy1uVn3coaFSqNbt3wbI4zTi5A/mL92zkdqDJu2pcux7JexT04XfazsqzoN4vwkcjxfswfIr9bq//zA3EXcrqHgw3uSq+o0pI5LFRLpOCPo2V+6OJKLnbrJ+yMBafI03Nsz19qi7hBkyQVyftVPQ4sPjUWVBN/+ZgQAVrhoS5ijjpezSUSydxRcs8S9PbBzt4nVJ1H7UXcqhLf9RPWVVBG6Ig+TED9uy47II8C8Mj3f8672vLpHEnCD74yw9knWPxVgq6iujaB07DMLNbrgP2qBtNxrd8FuydCY9wiBhhxqPoO+oj4uA1m5d6a+XtGRje2zX2hu/JYJ1kDfDmq/0WfuujLzKcCSv/8lrQeA8YU8aVJ+2TYU8vY/Cduta1L4c2ddFg07aSPk5e9rloMaWCGcWQeGd1g+guHzJC4vyeCYPb4yBXMo9g2BQ51xicBSdqsfgu1KkKifdgmKMjzlDQ+cZ0M2WHGayen+il5ck7MDx4We6IetQU4k+GvvdgeJdtbP7SFy3vuGFk7fiOkLhKBos8UCi2rz1nyaIQLB07vIO3bLCwf74NE3sUqrZtcN2owebt+Lb18wAMdwGn5ZdOvtEu9LZuxLie6f0wbJvs38aW7BZk/agw/KNQ0CL3FQi7wvnya7yDvsgHh1VXlroc2mSzUlgcn2IlrZQo1FhkJwVbIGYc4UHoyD4mrknp8a9iNFbMYq2M0XdYigmrw2y+YujXjEUs7jjXIwp6gMFHMW5d4Xm41SsYHrzs6APsUNA8Rt8fF4lPHHg7sW9NxgwJeI5OYI5JKelma8q3iIOZ2w8EVfvco4RaqwN0Hn07KO1LmboXea/K4xkYtvesaNbjDe+O8wpSowfwTaLh9w/OEtmFYcgPVAb9g1RBdyUKuHNwPFSiNax+oqk9ps2/pibgCsXrmuem+q7+56EOeXdeVCO1IaVvHFXRtewPCCqIK810Tw5PjTz7KMT7thmpDyDGTdxFNrlRvcsMQGzBQ5adlBIHSyVe054RewILfS/1oPWxavkb6R2C344h+/lgeExB1/2RjfM6SMqMiJI8u1pY/YrIA4MQ2pb0fXXfMS2BNvYdSF+jJ6JPjgjs5xPcCbIf6d6+f36iizcGO0L2t+sdwuE+DJ/gLh6rebY/07vm3xCGhz7iD+JGf2AV9A4zNshCwU64Q+3U3R2RcwTDlPynlFkVV512BK+RysrCxrDaK206NqMviZEOKQ9WfoFhJLg1W6qaINxlLtNozyoCllICzUFLX/iEDRHfcdGDbqWaGTaFD4wCHEm0O00oLbcqd0T0MFyD6NFhYFXGhjR1jHMrBr9bHn0lLX4dMOa9xONuAtgOJuGdXcZhEMzB2AYrtFKnJ4/4TDEDblu+pUdf22pzj/vdCWR7xD8ApLG80NhF+KYyLKnlcXdHDFiy0wiGYw0cnFh6d5mqYb/+AIO7aPhbB633WLd/MQq6k0y1emi9FC12QuF7SMyqqJgma1XJQNZBsEnyRgVKO/ioKb0rw36aXXCiQrWNhi3PvPMRK3mNGASL6UEaDEGz3cgjB4dSk+V7pRmFdS/yAKYGQnqGMHdwJbnWXGZ+Jw4u7PGe4E8utrKncI3oHAQpbzxofn54vk9BQ4bdAVUQDA4GCIMcT0/q/r53t8sYDSuksAfDO0VVY6WnJjIGHnv0owa2o/UzavZ714NDHcVJ1zhwb7Xfj4PfTZg/DMN9YebdHNN33CAfmyr+caqgx4fiKBN0R7S2qYIe6wnQSAOzOXFQ5LGkxtSBDNT5EU0PruC6pFEOai9r9G2Y5yG3jHrME0oL52NMJ9tTsfqLqRyrqHpajby9Tds/tWEzw/GLDCisI1LuzK4DHmFdvs9WwoeT5129VdNcYGaHiM3slJLG5owDTn2i3QLmXD/YFUZgQCmPByE8lNe/P8S32a3fgnze886H3+k56r9VcOLEW6NyrHOBXd3F8A1guGHa3hMf/4QU9FuqoMfjNKs5vl1l5wh9m3JNsHzNBVljt3131xQlUhialWdHUB8WONQyCl1d5T6fNlJwbYagsUtNRQq6/8CPrNVdJay6AX4wSajvINyD4X7Tlp858yK47/X3//cNYPw3kknf9ufPn68Rd83mkpzHieiLEVldD4yEnel5f+sUjQs0ylN9Ay4x8l/3offUoz8Sctlnj3G3NOTEEboHwwcctXxrKfJHltY5GG4x+FTF5aMYLD9kpukHqoLuvoMd77uTzeNuEGxnsO3CPKVCX6MCbXMSRWRjMAkdZlbYexZ6S/v254h0jj/2YbiJBiwhlhuwqjX9rsFVd8AYPQa/XXagpbDe8CLnYXVnjs1PzFq/GZK7nnE0FDRLZiejLziqrLeZnRqDwW67jiZk2C3AYwp6NF3g7IN+hHAeI8R7J2KRd2G4u4YPImzPhaT3jsasmYOq4vIem/UGevmHg+Hlb9r/d08EDAbfnI8rd9/vqGq6oO/eO5j2JRlmeI8mf/Fg3B4GtZ+t47BX0jkYY2I5ul35fmJQdcWHTw1KYZXzEKQiC5/HIo3nkr4Thvl+sdmHT+SfT6Kyu/omETsQdpZOqNUIcbT9e6mKwoyvDoNDUvM9+yEl1czWep8h08vSSSRyd3r8uLPo7GO9eyj3vSvWCRgSzgek9BuOSjNfD80bcVeO8zEYfrOjcFcSZ4/fqnV2U03NPX0e/kLtC8vHHwHjJdz9SqUL/01CjEQ916PsJfa+lpPikW7FIXrdK4Aczh/F0GO8U9I5GuRZjrCadjaNOm0CeO+DmF/fc7fZurBlMmmLwTUq21HhxzDcpxseyvu+zeE9x0z+iCcBd/Wc20rZvua5b6C3kWYN3mZ2p91EGY/FgHG+o4kQYSpp7AqP63JM2F1QibsN/9KrbUB2AHv/sd4H4x2NE1t4OGrke9M6bJ5gW5I2zqAfcNTvCXZ5r+//FAzT+hC1F2NU9OTeHp8A/O1D4XaH1+j7fRiVlK+q1yr31m3LhVVj2M4MTsPIrT6Q2MMxBd21G5WgFgdUWCuRsIe+zfd5JEJpShnTCV2NB+6+Uxc/HjT/sfFr8EiL4fegoH+utqWdOPgYfSGj0ZxdYbOpqDB1FXlupiRPt55UmTsI8ooYX2BVcmVlzMcK3iMGbf/IfttjHaEv90qu9hr53nZO2uMp+7IHoPu2A/MAsM+87H0YRtQPaO4Su5v8rZJK/+oAvKfhziMkHrce1Y58X+E8mpLWyAJEVz377Cn2Jdo8fwjZDLXV8tDo41fuDY44w5XJQK/HdArtqgrsDTRnL03QUNBNUu9u7uq4FBNmBmk+MnKHcPFuWYS0rZyJHEtZNS1N5zv9z8ceJ7WFf+am4btOyWhW2GDJNP1IkWRhPce60NG2+a0NTAeEMwbfiZ5oO91LOjHRfiD3fQ2N+9nf+uwZ7tkh9Mq3myFTK8qw+Xh367O+WcjyJnQfCcQ2R+4HEUo/VCb4o8cR9og7kuaQloI+hOHGf99DXwOxECPHUf5SinpaHqx6z5qKGxBiAy76gCvrq53rfHD9k3uCAIWFpuGZOVDVkLZZsGP/eo5SdtW7DD0lIqaBs+KTRn+pSWkp9eRdZ0Wzfc7kfZv195j63OMtWT+Z3Z+7fIo8SBhsdOWKu2hhuCh9GJ045PnTaAdRt/sFTW7YTPdqeWYOfVMr5dKVYj0AxoMiZ/ZcUbfR+C44JPaOkzxXvIXhvj7lm8TBd9H9TnA82K1vZ6p+DRj+yCroMf175/nh3PDwmj3jbo4VR3Fw6hhrnk2/+XGUlNqd6HeGK2t/C2OV2gNVgXiF7DWteMiJ3VMM4B0YLjrZ5iy4g8F1heceDA8D0HuNCn30wbPRyC8txLEHsUNyb6BAab5y9PMFdKUKgnPbAICOaBF0k7s6ptcMtK4Veg46jo7lqx6Ng88UOWNnc72rOYLdSm5JNLKG4VqH45thzIk8VLvBT8JwPyHtXwSGfxwKeiDEwQfnaHVnSs+VDePgfkiDmeWDbvNXx8E4EpVTAnhnhHj6jBcHzNiIE0PLKZhENys+8eTE6z0YZnUcMEly5jLXPB0sD4tqt+h3h+Fm0T26sB7hKv9OTJW3jBwn5WD2J4+QGHUQjNxPbyno8NWjQu84LhNsFvmgqLCub7C+rxVzRv+U98dYnZk3sK8NspevGdzvc+DHu95f+Ez7E8mK8hv6y8HJM/nbwPAZDBYzGrzG4HtCHL9cJvjjhTjun3K90uRDLEorGW++U0EvcxyMXjkG3Qa20+yHwWhHf8ko+bSDo/su2GHiiju+ua2CHk5FbgdCDQ7d/RKPrihKxKJposYSDDNKUKZZjhGVzV/uwvAuDxY3ZO9f31fzeCwG+VHB+H7N837Aurt3mlXQ/aUUZ5kaxAZ3Vet/UpwZlxnc2Rj7omox6keJtE3tptpf9vQmdwo374HxEUlyl3Cu0f/9YNyB86DpiQ1HzdFkym/F8gwo6NGkyxqDj9/NRPPnhThG+/cnReW/mYI+czQejXN4kGfb5d9K44SlbpoUVPgOq4gWu6Fqv733FWh5Nw4++JWGguvbfOuTxQTx/ebgIwWQvMNI22A4jWVoZjZkt/4IhuVehef39pR/vTh4+JyH4nGym+tBeVxEmYNUwXBE4lD/ToIqdGV0ZtBEzQNFBH1ah52ClQHmvU3UCWOJnJoSeCYOPlHkTHy7OHg02qobPWRoHewJCpw9kx+MfVtfvE82Vd75SWLtDX0NP2lwvHzUoXC01Fvx4p3AlwcCGvtz06rvlzi4I6rSY+7m2DPDW8+Jya4ApAzLlbtQmPd88y7bhB3ymeaauwFHwhqDKcdiHXe/yR2Oq4PhMr3VzGww0x3bEwa5hckyjBiUVbXYnLVw2R7KeHNiaXxG49Q59aPC8xkhTqkD4Uod3Y4tYU1B5z+WY0x/MeRSFwcLysQRNCFvJXR1dqNZN7oHo8Mk7kgbpOYQRhIc/ejj88uAd8H4LotM64E0KncHTNCb8LjB+GZQ2zCFNOTSGi33Uew7gmEeXedPB8MfXQV9EAezDvfGFHQ9ZJQ8E7eYqSwZhuM/Y+DbszZlypAdN9RNH5L9fJXspHv3NGlPxNBdFAuxieuKEMx6k9VitHP6Wt3Ou/1/Q/wzp1MXpKLAMMtcm7YjtPX10QQS3VuDe1dSSkKrsoBvo+MyyCw8dlo98L/4IZVgPPn/8vONsxYaGI6gqwQVmguvpGoyM3+qkdUGiauBIkDd+Cu29ahszPEewX76AHtdQ+ZD7qIUR7CzI4nFt3ljHOyIR7kaCr97KSEyD9JvC1oYxoHrnCvHcCitM5B/PyY1f6JGwQ8V4jiIg3n6zlEGUnn35qZJ6Y4w/mE1jrAbhlXP1mUipRugPVJgbk6HkxT0EDAqLLd/SflV9P+LdsSvDM4XDoLgu+fF+d7/QU43y3AYmo79UjCDXdJRYuJgSnmZdm83+xHH0Dt04PCNCqXfEwd/wPA1ngFjNhicQLeCYcleLQUkVFE/g+hsQZjzvmZoJmvE7cPfLkPcRsMnt9WdQYGH1VXVohlBMo+9pzctBr7rN77X2kETCXUTY3J2qWTNhxkl42nzYRje2bY/nUrl35gDbtB3l4KuEfdeuab9OkbidqRddUygGmxi5+w2LRBd0WZfKjLmkw96lmRv2h0OTw125dlsqrGkEbn+hup0p2AYwqZMutyplLqyzk+F3C1M9xt7zEgXCP/Gm/Z7o+933oe9rueeaHGC2I4xSQrPFQyzjBRrNled7gUhNCOrRXo1t3oauJHmMKT0Qe8fRp8Hu4Hvjhb66MZxeB93S7c+bBkMsI1ddP8II31ichMattts2LYtyh4Ce0hM5GrNIxi+pw//k8HwR1dBj55uP3zwRPnAoC8Cd3+FHK4sphQlk6seaLGS/c17HnsRqjR43AT2fTS8WzJdr+6R01GTxtXXPqhl36R0dlSLzZ0e0LinYLgWzBKRuts6OtK0VZFseOydjf3gvLZB7P7unO6Zc/ZvhWTcAeMj8biMtW1prYXhNIgwvoiJbpH8WoY9ZUDXTBW0njaMQ27l59B2AMuJRl7sbSJpPQvsC9GMWWiRPqeDfcz6ZgsAh4tZOvW4vVzPIcDiHEY3rvad3XpGR28oNGvlo0+NaflpYPhv14LuwOUEDB/UWJkCziYUvkPulHnxiCneRJodBLgmosXRUtijoPdI6QG03+1qOIqD9zDggXJNu7u+HwwntvkIhlnQesB1n6Rw8VHz2n5UQy+ANsrgtDVGXftAU1qRE8BpeifonIiIc+IgLvi1EYzb4udBECxN//3Ia0gfCEeE850Ff45/rmos5LvNHzzFJeLUYj6o3uJBz3FhR0Rw9N5No9Epp3mso1fXTt+Vj/5VYHj5m0+BHbjlfSZkb2m2RYudXnRf8p77VtM/C13W1HqM0bcnok9R0CLHA8BPzimS4cBVNizcHfw+rD2pA+LDPP0YdLmLjgWG0chkDGFYbLFzU7X15nlth0h8v57yR6553ikZbcYRykGhOLvKvyyvUYm4jPpXTekikeJklKa+kvdtuKVurlfNLaGWaIUMOJ7xmN47i/+Agh44LKOo9+MWwyMw/NbF30tcDt67bzTKWoKV01xXZPXtEgN9nk4+ukHcXwCGl49ZJ+MjHXfCYvJRGD7KZtVjFGpnELbZwXTQ1p0P99jjcRHWHQr6cOsOizOHx0f9VQYtRjwRB/MOGB+s9zs88ChIrSS0Ku2OHobb7dZWZhkW4My8tmaxfSsOGWdyZ6cZ4m+6+04pP++Ix6V07yD8HRd35DxOyuaYKmihRDwuYDkc+dVtX94FVGDfiyXvwe3uONJOguQwCH5j/fPbH/D9AQyPsNbjN2k6EAYw3MN/RWbnvbvvi48x+C58/tQw/PdWQR+ib0dK3z1HBvuOYvXu2HYS2BknRQGgdErsqPDIQIF5/Cl35qbxJDMmJwYFtp92iL7fKA4+KNM4lY4dM1R7EloWhqXqcpBUN7mHozyS8vge8eu7XoffF4ZlR6V1+DNDDK6qoJsR2qGdLxQ4s5ppA7FNR0RmnlHJ2tR1jnYUkp05xmYm2ACG8cAmGv1luBmH7vzbUznfL51wFPu+L1wuu2wgnUw5GsoyYhzHvviRhNYZseifFIb/XiWsBzhqOTdXriKcu0lqeRTp/pyffFjks0N6pZARBd0i8Z7Oc0tBQw6HiVZeee+e51qSiiJjf3bcF8Y7w0LvhsUPwrD92DsSWj0M1z3Cd6uga8L8DOH296Dv4Sn56NWe15t88wa2A8SaI9K2EhhVyLyhAu1MmN1oNa0sEkszA3RnJljPA+9JNNe52+4vPILehwjnvyslcX+F78Dwo0hcJ4wGjHRPONvxaDu++B0JraFY9Jth+MfB4I+koB9hp8+97NhbPw/suKsLQtlRxTsX9fIQfe9QWH1E25U0DxJ0bRDMfaDl2Tj42DfC4zB8nBhuYJgPM9tVPzAM42Fe5B08MN+5FXDnp94aqbBDyu+9mQ2rRDgRFavnnH3ZJHRlBGTANthtkNiS0s0QzxN5nEPByF1SWna2zDsJ5w+D5FP5FJ7+Fey9ftqbA1Xqs4Rzv3+H7mbFUe+IRb8Bhn+cUPj7R8BHpbN4zznQ1znvVUH3hVidSIsdvZC1AmjkAto9Xzy7nRlq+xQ0Oxg+KM6UnZLmWt9KGlX2k1XQb5aMHzFL52D4Lnw2MNyzXieY7Z7S7UsxP5oHRkvlfC/C8LtAbw+5QQI662FlZVHHAMM1k0SxYGyj2/EgwjPjxShDtD6il4e1VPXP8K4z+jcTzu8Kgg+dAw5ntu9QMgbCGnIrklcPNAoWSizqIcmdceMnI91TMPyvQkEPnam97+QghUcrf//gYWFDqr+Yf2HUuAfYxFUo8Mv+AAAgAElEQVQtCLCvodGpBwyg+oArOy7O7OQku+QWR4fOPfQ90rx9B216F4ZPRrFy1K1UoWzVjHRUJCJmXht49gN9c/Q9jakcKBi/jT///9l70y1HlhVp1Kk+7//E9yu7PxQDM7hHKKTMXbl67a6TKcXouIEBBjB1dVqIY9ZvtuhLR973KL8iTTgPv1rCNb0sj+Ojr6GOnClGlVjNmrf6EXheS7j43zLjFkYqd0Nc7X2GEnsR20h88T1qwhzh/NXq0B8A4Bx6hfErHnEKjBXe7v/Y2xOH7mvlXQ16L/CRNZ3si8xbLyR43H/XihyjrShZiO0tUhIFDC+USUcwzM4qGWbvAwaG1WRVegyGxwIM3259yIHZEeKQo7KH+49tzuQ2X1Ki7yFCuZdHqwjYCt1oI2JVyKGnEBkC5oPgsUIddaCXbt5I37XAZkefDVdSo8r7jrQnODysq9TRgOHvxOAHhzFMgjE0yhgwxgzdpqozYfmHHWWP+sxJDQ1XVcPML9JzA8NEVCXQozcLTMNwvUeoR0/1TDFPS54mzK8Hw+pqNteYXTb05eqxqYGf8BiTqx4UnpcEAexL1ogmJ33QPvLomH20EdGCWDo1Jk0QLAcAM/SF/nc62dcLgs2yh08vR/UTI8gHRXI3c2CMO8G4OW7QGtHsdk3eFMQGfEquuF23weuwxqxSB6+2lNesw2XvSf0XKeheKJwKoffW4TA9+SdXCZcrhlGmdZkxi75aVcNM7TU1zxgjqM8cQW+in39aQt/pHcHiWnCQBF3uguGhfuM1OClfRddDPyJd33xQfqTy/qE2peINFpbQJmUD849jNhHU6tedvgx9RYugpsaa/UW6W9ZX1ZgXbf1IHNxTbG7J5ixEzK26jUp2YwRV0LQxKAFH3eoS1oy5Dpftc+MqfP8pAH4M6F+yeDLyAUG0q3FMVbMIA/StM1UKSpWLzX4JP/9qSpoLGE7LT6zZ0tqOMA/DsxC7Tlg5X9GOsgPjE3HF/TCMkvobH4Zh+MoUYoynlYHkjXyMiD50Ofyedf5qiAqXYAJ9c54ZN1DQ5cjeB9aPa60mKfN2GM7rNjL56K03wtetdDG4BcONOOFTMPxkH/CHKXhSj1gPUUEEwy4L2wmLvX3EbDdbS6vfg5gIOxfCtnD3kSrw7edJEDXzUB9dJmDY0lx1VZcmPhTgOjWeS5vmqs1Swhl8FoZHDMNIGCY2j13N/T3kJ/XjJmsOg0IXVgXMCeHcg2FX9w1FkXOPlJ57unThTVHnqEfaphGs5PF9aZtDzjFzYdjIRxPOEmgrA+ArdQxvpIqBYZp77I8PEv7lETCxtw31iEEqfj1w2mOY/XlnGR57u7vcbmyAO4zyDgiWms788d5stVZ/xSyPauPjDrr0JxrpLmFvs0BNOOvm0ouM9KrrjKJszSaG38FIw38KSAhPE3ZpXZoh0XcnnFVrX1BaBd9vdoxoBnSdlLBHOCO3kboB6Zk4uOcqIl3t3dC2DI4bE0g1DBv5aD4RWGvTIqGgPRieCoU//vMLAVh0GR0vm4zWLLnqGaH2pCVykrpor+lIEs4oZCOlO4cmFdahoF3ovXk7AAYV6PIOwnn40tCKcK5rthewbgmGO1fyED3VWQj88uhkoTn0Mj3XI7GiKOjt83zYETugTAlTGKDARsP+P+D/aYxLHUd3QS/da3c3rTFi9otlGC5mrqivgJUz+zIAIQWtvPOgPutfFfTTpPTZ6YtznmgZMY+h238V9GpKOQ+CBcQO08/hoa+ruTGjqtGbreazZyOOm9HaSijiqCnguCalOfyvmFhRCkE7Wv0uTV2HCtXO1dppUYx4c9vXH4ThpmWZkkNe50+73NU+mOGkoInFZYJwJlZmlcluOI0QuswC6klbsZp+UKt7y6fBGONeMG5xNUTJFdTEdcBaTzFVDgx79DITe9cTSFkATaBRVUqPUcGwV9j7LwK+jXA+HSY+EKvsxSFj6qYKOqtwVh698a/HiOYUVfRybxrSGPMUdBCt1Zmqhsd9SaVyVKOTXMLZlQsYceF0HLbOl28sEM7VeVkn5eNZqaq7bx/JTBKGIWb3kuhHOtbb3mIQ6Nu4y5WGUxJBNm0cmlXHiFbj4DHqMov74+DWIjTFkrP2uy727gnNVqPP9hosr2tx7wc5m1gC73yM+fqsz8pSfikAdx6H0n8/qu4B0itJyiD5S1+WkHhctA+9An0Dh5rOqUxim8hbhvrzgAXGoKCgL+4IjS6IRZXKILSN8kY+4awuMXLJBTzDj1kSnmYJhu1YmAyGIzWDj3q4p2FtejYbV6nn+Cr03esqlL46XGk5AcMUrMazsgMt9O0Z0eRvbqCgb3kbd8PwnfbbHn0Gtk8nYtEvVgVq7HcRhX8xDH8XAF+5fzWyai+nI4+SgWs0LFbSciBxhbPDjFHZVAlHSzLiflvjCA3hJjCsvUe47AwlNkoU7zfrZiwnxjt5I4dKN+VWDuhS9pVIjZ5iOdRWAWr5WBpReJT9ehp9OTNOL8krPot3B929353B8OD/MJZlMztWaou3CgeDRpDIYMHlkxcI51FndnAdjKn9zWYVdIuCbrDWC10MUZk0g+HNxEN6WUhMg7ZEMa/xaJDhgf67pKn/RcAX8NjOmfLT7yHuKjLZjCD1JCpdZixihh2cRobZpVblcAq+zmg7NdS6iqSOg3Upsj30CgyrQNDmjaKnlFsgvxanajreNCvWuoghaBWGhZpuA4MfyxnTGYwc9Tpw6icEDIO114uWv9FWUN+gHcag4JhVHvu+LQ6+ucJxtAuYFwLZhXD5xroNoQ+/S3ck9DKXmKZdeXZXVKLAqGslzn8U9O1bg55XdVbX2YSa0YkcOqc1DAVdLvpI0CoSH8DojTPrUNBUW+ud5YBBKbIO+Vdh2CesxoXizFxcfjQPm2aKYa5/GYZF4XETg436Tx3Xqs4Bd5MCC3vPK4McamTp5bRbT4hhmfQNwSOE1H+x0pUUoyaF7uk09N4+hmHKbPumdyMMm37fKY4aKq4dlcQ0GdEtF4m/GYZ/rRCHjX01+pLhV0nCGKvGpICjUPUjehfQzDAPi1VDBYZDkAecM8Jdg2I/ILDRe3Ty7AhVj6PuklpC5tkbEjyWijPV9eUcdRRSdxgakh6IB6g0C8NmvlcBxtNTx0lpW0UwPECQr4SEt3qEuQJT4fqvxqNxTNWu7QN3y+xMQ5pGnggV9GIJjHtV0E3E7XpWK1XQNWtdJ4wGr9voNQ2zLO8w9PIIJKb1cPFXdCzyeaSEtEpg+kdBXyDEejA8/Coq828yNSBkUrOk6GWMuNl/Z8ZAEnSjGub+bwJVgZaL/L71xqerYtKbNm3EQtV5uTizjGtnB/FSFkTkgIoODIOg66J3wdwpDJ4GY01nc2RmZalgtLBgj/yxCmc5NClDczxjsbZJubZw5dOjCWNLeZzb4uDbQ+E5rbr3l1/phFHR77sIw1Zi2iG62bgIPicxr5x4fiLZ7wHgF+H8cveOLSbtAEPi7OhcL4kkHqUUrmbGYDLBMNsHdOF04Z5rqFbBbnePGFmB9HteU7AXjEQv2ufBwMvnot0hl5+9HYanWOtZGHZ+I8QfrxZnWQaaXrpEm1Y6n91JvN1gqKpGQUQP25UUTdROap59BXUIIyIU/NBSK8FYq5D4yOjfZdO7wlov1G3MNw1rGO6iezjmYaTONPDopviLIuADNYOaZ0aPmFrTvtRzUKsJgcqyKWI4DYiQMgPwBqUZ1hqhey4zoshaI+Di7nvlYRx6eRgo0XiZ82Ak9l2n7zpUgZ+ilzul1LlJ3w3DrAfIY+EvFkg7ueAj6OanNo0AJ1vhxMFOZZY/4MSsWKIxgsyuRyYNbmhrVdDOOEJ0wNgYJqbN6jpyFwnOIEO0wFqnCaORNhrdB8Odw9qQOiCiVRvxPwBucct9wtkD15SCHmceyyWcQzrLoC+Bm6jXCjwaIhvVlLSxVK75zOCPDoVr8NIXbeZ/JTOa1OfBRjaO7cAxTF3/fHy8DMMk1AwUEIaSIXe1Ku3zfXn460w1JxodCtrO93QU1z031+Z3nFwPbK6noqCxRkGPBQp6fNrQujz2csJo2OEo74mG6WCVF2E4cr7/UdARe1yoevYlxzSFm1DQoTmBPF+JIPYFb9CK0sbT6pJJvRWFeAmFHv06TKrFwep9ZMbaM10L0q6zNnzoTrEDORHCNCetL6haheUbXBxkUHmPIxIAkX8I2yjP1qmjB4OSeW3WfNJ/CP04q28jtrhoRfGELpvdGynbREIcrkTr+V8c9nXmcUYs7BoUZCCucxxxbURjtAlugOEkRLs3kg7dYsCs7expoFag4njpmx6YCKVrVhuNzLLABwybVZgd9oOC6z8mAvbeXguGFeGcBMERpczZs+NluehI4gp4jGv2EZjdAY5O3siKOUcs1qGJaCrkJOuSzjfxZhh5RMpvReZ6CRk5Cx96ZURNXlDDd2f3A+rUfjJdFV46T4YyRAdGPjZVCvudon00nHltCY00BcYsP8AjnGhGBWx/kSxd1PM9jcAcrKOpcJd5t3sJNML170Av1GpI7C5cl6Pv7+I2g1oztCZfGB4E1q20j4jEUFdGTok/s3Yybq1yjCXSU3PQ3WF4IAvdgsM6p/Ze2GP54O+loE3sW8NwjLXFynMyu5SXREXCzoiYsWF6IVwKeri1V0DCjDVp6m+Jgx32WMcf2lHVxY0KjOEHtWdngvBfaCoOFqdGFSgPV7vDFQAZjenlhkyTY1PPztzz8/y/sU3hKFr0KqU14cxNL9q1szIrXpklFStVrofSwmZ6GZcOgl0+2WLwsEM/lVgNtQjnRq7njmbSJ+Lg2BKThaoPIWdjHQ+ZzTgSCaPEWo+V4Xu0MDBsY1wbB3uH9Tg2d1t4Ikp+DoCXqPZasXNq1FQJvUUYyt6rxmA4SanhFSeXuJ4QYonODt0KvW9+rZuS8NRh83pOt4DTE4W3YNut+SzTyVMCICOa12aSKDKq0jrnvYGnwgXQ/UwOSDMMPsggbnqOshwi6B16sNjBbjhrO5qgQKYojnqI2GnSc2cULkDv9+2fLUsc6QDg0ankaKdj5fR1o3wOUCYfzXIlPZktZVZj+NPBK7f+F0XAb4XhyQg7L8WChDeYyTvhiAUjKYgYhlEyww6ywqNWlY/fppdvWWr9g0BOO8nYzMSM7eIISjFPg7T7b0upICuufiMMa4V6m4MN66LVdJLYjiB1s4zwBzFXCa7DCsFENuJgB4atGxqULqsGpMKXBZruqdtuMBEHz+Z9njK0Ke6qb4yhOccwrIzIs9YhRDa0wK2pcsCggf4oCOKnjqkvVNTp76Gg3wTDE2enioI2XrbtL5IUllfSjFKgp4yJLXu2WAX9VmOeevidlom+pIar+OFhoYl9W4NiCpGBd8Gwo1CfYLB/2H1u4JAzDZE1OFkObpN79iYXOEFlHgdr9JVqWW6WxxJOogGpw1pFZYzuvE6aNJkv7P29cRMu42MKtOoojnQ9a9ULNRhIKioNZycyBfq4Jg5uib3/cABuroB3jJHyhq54c9BkzaSrCeDFx0Wzvzgy9OTVHnuG6ztCI/vbdYges/zmtypNyjtguBoOsQzD5gHLeih2sRyDnb1JwTZTh9ZATmeMK6Zo85yzHsPqs5BiGHY8xNM2HVnEleVXwhgJXQqatNrrJdT8oKG9zxI/BcMuOtoB2BR41cJbjQun7WeifgqH9njKrfp8EdYFGA5htXdevxjOEsvD8b4NEc2AOQ58xdfJLPH4WxX04j17BCZcmZLmuhGGS2YbvpJlSC+PHk3tbDGzFPo0DPuE80keR/GBDZ1tzTMH45fCPev0pR3u5EBmWzQBPTGQwiGezj/S2Fc4vqLPHlX1ojHPeRuJ2s8eNrSprWzBEjtmNebrNiggnEc2anDYAdg5DPOlYXsWRK0WnKLuYIjMb6egV5jJW6dVuIrw4cRAByOtjHMw61eGs+aw8OYzFRT0t8TBDa5mRQly3gEffs3wDeVXgciAnmA4PavcheEpDB5Sb77A4KPXKcVgBp/gAW23Cno0S7GMAFYyOwRDOr5HHEwtClrY7PX5Rd8bB+OqJbYwdbJiKxaEd0cNilkLowHDGmi9cuswLHY2sQ9kE76oDemBoVEkvTqflRK1HtZuTTODoshqgEwosrTN1zfmlWzFreMImzA8R9he58HGUuF0CMOTzHYThqWMhCgt8Xi8swmYFa3oiKF0Pctu4NFrtbfBkur99SnoACNVv2/iECfiM7IBwXJUEzha+rgPG9p9ljhyY1zwbleNER3BLH61s3nfUc1GU5I4vxCASxneZRi+xNioM8Khv4bJ7I5UYcMR4oGZ6+JwbjY3XEEvVvaImE+7gQsjFA8bgexJIcjs8WBjlvW9MCpxyOEQHWZ7clb5GOnuxjem3ckn0hg88vbfBTBWqGnIHf2S5dgSiF9qsckxfNAdUicOhSqWN/dT2VpOU9d8Mrqh86ShYWqPwq2WmBhjctUds+obY9xopMd+D6+QsAnD9vpLSZz/SgRcE85v0+csRw9JQSs0meGOAq0rCOBFugtc2Yfj4JI4jSoMW/5WyWPfUTgd09RzzPas79/cpwDs8045Bs8JcTQxONqMsi37gF6FtSTHipD2QZ1gFyZQRjnCCHp3ha2vXKGgvyEOvkk70ZYiFxuH4x3eVD7Jq/1GUMM1VBPRUQt4wbvtSOL8VyjoW3beTrSdfCysVYZirkwgm+4RSTGI8AAQB8HpHTWGkrq29xlmrDdwvmbGbofhkqbuVG8uw/Ds7uZFvecXQL7P4M4rVPRyc6ZnsoBIw/D5MsmzrMOR0Ogrx5ko5bhhZFxHIVZTzx+c+k0DWd9oaLfDcJO4blUwzBsjHVOOeiaTw7A7+iwUaQ+aAD/y8+EccIt1vL2NvVHBQWyVWPpIMcalsLPlymzonIleLYg2o6srS7W5Lnr2yPcmdJmxcjF0WN8pZptz1AUM2y2y9v0nhsAgnCkiK5x3cMYuGHSkk6OZwaLY6pSonMz7WhZ62PnZm9fAZeNcQxPOrk3lwkTMqMQmOQx3CpgXipyfMLQFRKfyxSE1xpKp6ptVxv0s9fIeMMxuRrmgRVG0+8jxX66CvpGCbmZo0uZ9t5bKUMfVbMEWcY38RJdckNnZahe96SWf3WHGMK7P+7sksHdw1HUvo419a9+/WZ/VwmDVJczbk45JSvxo+kSsC4THEi1tV9tKQIaMkX1Hllsiq/vWMCsJ/YF5Ggr6F8TBd9nmaPQF0E0Jo5r7WZTU8MYRm0Aon0V4yzb7CwH4ridCoZ8D1yyrcuWIVc7I55IroxmuzLOiunb6g6Y+C8OciTbGP6l98R6d22UYnqzP0sq3vLGSF2QNida0z0oCU8N2pqsOTUEPEx9HpTYUzMXVa5sUq1RXOHf+IUNhz6wQBMGTQNuZkrQWyH49DN+fMKq5n5i7ipxXEtE8jVTIfXg6z58aA/wcADsWTFMriNZWXWBRQ6lqjCjLa/slMA/DcMPr1rfmFANgmTc/mB4tWnjZ1EdMYfnvfoqm7nPUb9W5lTzeBAz3N51I+ZaJy58FWTZiJjmv0JcQkv2aMIO0G96LhV7V5lsJXen3Dood2UYVtJsMii3iPsI5coIra72BlG4Szg3zpCmOesEY+5GuQx2TOY50CLmigivkbu6wmo76ayPgmaar20cFeAP+Ak85G6LQjWJbtdNp6Nwg1W8mru/zvexlNZpuY7q1X0r9PoG9BnvswPCC758o39KOwvsffAw+5hVaGBZxtrf5KmejGQd740zEP/yRR5UGTuF9RmaF+4U4PLj7hjh4pY/VmGfHNlcSRjRPODtB8CaXqmVwDj+LnOmK5mo9mho2cfLgz59PsiPvX6jEBvQy100zS2Sj5Bn0dS2Thluuic6Q0esB6PdoxBPqd08dKb3qsO5++pYsxvxqJji7P6VcEWX6UCOKIL3HhVGqrZFFU3FHREVBVvmoyVyGJw/pFDCTmLHtBtBjBK23q7zbD/25ZUudtk1aMiIC7ILvyILmeQFyiheKO6IBezG/JwIuJkvj/uPPfNJyxfYfC7rt4W8INwDkzx3AkrvtNzVaFIHsBwMRr1vp4i3bWUbBdKNGjFSKrtM11orPJlIzFTqv5/llv1SB1fRB3xc036Lq9JRtzrUOQl4IzZhVe+z3r4+Ab4lLLp6RHG8ROfou0VPC26J3biU/1sFfiIa/fNVV0XDct11Og09voREQN2IkukTIoUMdJ+h77Qk8s5n8i4bvh+GpaNj3DtO99+E7+moAluTSG11UMi+SNo4iY4Z7Jc3Qf4UaD6w5xuiwJk2FynWoN/TRWrvPbWS9CADVNtdioRvzXDEm3V4yXyEvi1EoqMCvipdQpNeMrSrS+qYAsYLBozG9X1rsLDPaYJgmzFAbEcv4Mm1X9l+WqY0dEZg+e9u2VDUXlPb7TkP7dhhesk3zrKCP81qBUyMgSxjeijB0+Y6xREBZFjlp+/IzD/08QEHbxfqWyccUzHa0F0BmT3SsF5HHDcMnF+MIx2SldLReKSbMnVuzf8I0/UWTtt6wcxrR0/RcWvOVojjzXFFxcWbUhuhFc1PlmvvBz2JiO/Ioblw8la1AjYKseGYDiDUf7bVX9h+6KNouuV3sgDrv3ANC3mVw/DWcdBKZXmKShOnmgrlSrNsMDfNm9d4qaCzaZqqF7vcs+P0/rm2Oui/gZUZIhdxJxUIeKa+F2z81juEjfcDeKMYbDpisRwPzXq5+qurK7DinNEf8lWYxV2eP6JggbjXy1h4w1e87WiNcJoozrYK7hLGRyC+7LvmYKNc8VhbsptOHYffUeVE0g+HtzFsnEutWOsYoHXoYEQybO6pvOcZU70/AcG0nsRFPbC6RWG8aWk+I4xZDuxi61BsgJr/RypIudjGongXbRu/HTrOjk0YoB6vTwfEMtH0Zfq4O+jEATor16cbDUgfJ0DLCwoytHHTFeiUSlTN7hBeqvWFHoGvfwiQMV9Ihcz0Sw1PzeJ+4vH4CwWA1BcNkuiYoU//xVJ2hGjOEdoftVmJtxFucUMKwWodqEHpmMjCxKVQEDMk/F72/Mfr6Qhypoa34uB1Du0sVi1bsbrrY0LPWRRiuLPEGGA65K0pGdPfA2O9X+h0UNErovct/jNY6bH6ivEhnTwm6RAZGn16Ojtahwpp7hOHBphhm3MVFU48ZE0sBCzxYy5F/k6pt8pUmDLdHx6SqzoV2h5J5ljCsouEsUUEuxHpAaFe7QVMzbbBEzSyffcHQelrQK4Y2Acb3hdD+YqZZa+2IRcN4t+5BrEWkhuYPFqRB/g0eq/0y4Ww59V9IQeMd1E0OJBdm/DWi4Rnz7uhFX4mDrzNjdPPrqJkxeiMPNt6talt+5S4Ybqk6u6nisZ17oxhAQ8GwEsyKR8WWYo2WcLarXY0z6imoY7igXlLQnzO0b5PESTKcibUueLdxqljwUh3tjqGqE+DbXW+qII91NeGM252gH0JBv4kjdSpLx4wMrP8B1z03VHZd9VfG4uZDjSxUfZA3Ye0tzNiNPNhYVbXFUzCMmcNqySoIDLYbk4PBjny0hWHsj4nAEmwpI5cMMlHWgew3AZ8s/qfK9VRV0NF+U+WDOzayYq1f9FMVGrnWWppnzzYdGC6NkSrCOXrFxeCW0xGm0c2a/VwK+l6ptjmBG2mZmAiCM1IaC1zxTK8LIj863ghaPFioFkQT726USzw7FL2XB/OosH7h9AoMG8I823R48rUJw+50wkTbz8XgoU+9wTDOZ8FLtPqMnAOWvg+KsFMg4ZM1pw07CbSespCtRpRgfMnQqO12Pw/DHe7HI2yF6fVsc6pwWhtjSTgnppc+A3GcT5VAPxMB37zaesUR5luYIKPCrv962uAlonsm6q2f89JB5gB1Wl4qWOnXeTDPB58rnLbouHDX3SaKBgwXnUhxqsz9jAvDdMTDwlWdrcxIhvIqk4E/Pzvlk7nSr/yfaFVczoQHaw1CbzW0t8ZF6AwpptA8e7aZlCunxuhVbCWDjKg7PMSJlT/4vv43fsgPTYZoOVeckkgdwtmlnq4mnAJjxi08GH3KjF3DvpsHGzeJyzdh+ErhdBOGX2XL8q/H7/xWYzvBcOgC5mN3Yw9MMnKeqF8BQn5JM/yg0x3AYEzPhqpMBVqib8PQWv7ELYTzz5KJnYJh/hDmbXMChkevcNolnEuaerQR/ZcA8E33FPe/z6grGx0Ac5GYqKKMSKdSZGN0hwHbpb1QM/J2cmKlfLDRCu7uDmS5NEMSwn6KFmE4ekzX+5cSGI5nKwmRjeFVddEu5kGi5lPNJNeX7zF7nTg4qMCyyx5JvAsKTa/gmSYNLdxMjKGtcVTfPx74gv1Kg52xzQUYDseAonX9ti56Gox/EQDfr3CNi7rt1Mz9lIQzRtkaWHPdaFFhvTiY/x29Qa4f9bQQwBgVrzJSspBf0cxZNZ9Yo+MxRNSOEX0rDB+SVUrTgLdsydIqH4ZZzSd8JD5v78qECJ3HizQ0RpbxDWunKYTSKUOLrLVQDlgztNmt/Jmtv8r7tgzW6d+j3DajKofEGP0aRiuX4Qbiw6mL/l5P6MdQ0GMpqRN9wGuf8FmvkRLOadkzqMdfVehbYvyv48HmyzXvU/Ypuibumj2cCOydl3nWSZFi/7o8tuws8lJf4MGNKyTU4U6M8ORQ/fdR+Ku/EpgeZfZbJoM61nqboX2t9d0yFqy01iCFZGHYNUa3YotGUTh9qS76HwC/C3o78zTiuTSICKsx6tpLqvo0UlHZCQqLfojxvwOGhyMw+U4Ynulc7MOwEtiTea+jTorD8Hw6eZyJ3+wDjOvrrcBkmic8r3d4Yh2JxZnPoCtoNWWtCz17v8rQ3mOt1INh1aliLHHIcmtyxWtLwvnjud6PATAlYgxYf/dzn0GFkfBjYqOSgyI8RTq8YfBykowHyx+WlwjHLXvEA9tKq//B3HdCU3zenSkAACAASURBVEdVIbfAsG2ZKFSr5mFYXX8Fw5QF0MOmk5l3guBqpaD0yitNX7BAVrjNAqbmWQGnV3WV9DXQurW+xdCoKZF+wVrvbQucstZVGFYvq+wtJE7PkL9PiIRLdDtf5Tw9FQHf0WlFLUd1re0Hs4TV0m+mnfHVAs7fxoP5pl7YuX2g0zAcTe32mg6ztiIXhq3AXgXDp4CGpemCdPJw5a+HKrceE4Wj2QJDQQJJ9PXiV1hL8aWekzh49OjlWQX1ryKcAy+HlmohL1nrKgzP2uapeolk8zde8pfHwc9S0G0YvuJUZn3081zxTdBbV1GNVgHnL6HC7oHhhp2PVnGmC8NZSO01HYImYdgK7FUSWjhGrZlSUmgYzkdB2M0IsxDcNMaqgPmAWHgRc2CM7cFioyfRerWu802wurDD5hrs+EoYnrVN4pFzRDJR9ZlWrcPPB2CKBZjuCXzRbKjtSK4jp7Cmme3OHtHlwVBKtxe1353njkf3mM4UhPpGDEc9U5w5lKnrUkyqYVimsGqRDWezaElo7S1IfByheCxSYDLQoC5IOdxq74hcSUtKy0i3SOUsThuc8nqjp7ESGywpYV3ABKzEPpVCVsRaF3NNXPO8apupZvn5CTQeIz218X1DBDy9UU+v9VI8vdTQeCcF3YmDR2eSxA+Og3ulVWOsMKLzxZn2HeCqgEBP62oKhu1gQe9ilMAkyfkzhHeScktmdZRJQ7GI1OKo6rlJ8Qdq07udmXs2FA4PiPr6Ux67RztNcVcL2jtGuzL+THHXH46DPwDAU2uUGg9uRsq4U408N7xh7Te0lNn9MvfoQgj9IRgei+mo22D4WreSENlQAxMgUE3qPFuq238brZ6NqewPDQ9ipbQkBZa4Kl/TBWN687ZGX2y5OanIeewma92E4VnbHOGI304lx7gAxr8FgCm935vYmHqae9H2BzfQrGsmqUFhzcbBVC2MxX5ozLyaVZOe23TmdeH7CLEAwz1VW3vj1IfhK7OHDQyLUmASB/F0nqG3Xzh7XCnEWdtvXO7ElSYh9/gJ04sGb0/lesjdOhYMDa3KrM4O9gkHOrkuLLDWJU3d5ag9b45ak1oyZ8NV8/jsz8co6FtCwLv6g6/40dcOOz6lqkF3H2d5qldXkPbyNN8ShtcKp72L8WCY6pKQeRgeFt0NDHNEFVsWRUFwWkraxpgIUycI57FEQZeG1szsrEa9PyMULt3mGda6NrQr1koCdKkdzWsP01Xz+OUAvIYfnTnY06Jxj0LvmP3Nj4PeCxzXEgzfknzq7Q4LxZk1DFfi8ksw7KC7d8usNivYnpzrRt0qSrXpRZKT40quhy6Z1Vt2tu+fgNR1b5csulGE8UQpdRile/bruksPv8f/PfFyb4yDAwJvLlbuMMMdUqtbFz3MYfNNYbrZf5lwpntf5xzH5QVlcaVubpD5t9znIyW01lRtfRg2Y1OT7t51GE4ltJwrAWymRnVOuVdP+VoNHnpafoVLuR6qB2b7hkZLNiI+4AuVoEL9aaWtj4TCWLJoVBvRFEc9rtHU9qqTjwCff/iPTUP62XFwYGMLfHLpsD/X7E9PGfZF/3pZpXIUbRVjpFUh11Rth6tadSMMNyS0RlUUysODIA4OLrBnm3YnLVr7+mQyzRnayqDuNYbv54bCPe6qM+Xzhri2e5zC088Om1RmPfYSH8gB31XuO5tzalrLWuJ2zP9mGuN/FND+XBi+TdV2tMTlb4Bh3gLZU3WGCgudp21EtWndEscoy51aPm6Hgp5s7V2F3t8EtD8dhmEju8v9FJ96mw9oQU/j8dU4GPNxcLdc2SpIp1cLrJ36TYTzaIlOr2P5quJtkc5B4947Mw3fBsNitUuBgHrMg8TTjJRbGK7g0HGycDpwYtF8p5FtksF9urb+qSFN8zVgPA/VuEoQovF2sHBwqi3eNNLSRfttlFIPv2Vh1EZ0NVj8lRHwrXHwSrP8LZVW9C72+8fEwauiMoUTe0sNyLhcihnDsLg8i445DEeSAi7eO8MVchi222XRaZQ1UF63xKVcz+JswVExZAum97VxcM9G5m0TKGG4bqN/yn7XYt/Pvs3HcsBj4cHd/q27SppL217Tm/0pQPs2GP7ZpZilWHQeDY9GcbUzXKGCYf8xsrrod8QDj/X+PWlo3885N3jgpffag+Gijb5tv0LDed5+Z3Hhs1MZvigCdlY53hMHrxLOJddUCjuvuRdU8S13Ec50916wsFSQHqyjwNUcnTRNWFXjCJszGwIYHgaGKfL9+91K0T0eMHz5NT6W61mcsjC3D2FhbTf8dbypChprR1vrUAjvgig+nMtRj0reAxYIWmRyISVQj0j6hQBMl777w+Lgpd/8R731GSd9pYarHJ20RlgFHUHTo5PK+MDUPNdDD70TZfe4tKSfj4PHWJ2y8FvrpG4Nja7STgOY5KhHUwBkiMxOQyc1vaFyTvBvjYC/GnpX0etbhJ3/S6WYizB8e+F0hI7pnLV1GHaHHo5YdoMLaHS8/uu7z32CdMXyXmtAuGV7+aFzPx+C4ZVUcffUCF9EUO01L4prNeZ+UQQMPGDe9j1cBeMG4Ry0OOP+vaAnUXsD4YzHd5lFo83uhgLfWR3jYuH0ho5tDVshL2VVbeNJD+7Qw1GNGtySvGX2i27dcXrz++ZzPfNqNhNpGszbJqaM6N1Mw7venGdWo4LhVtk81cMRklp9BC4BzT/R2TLp/0oE/A1x8MKqpQ9J3vzgOHjRd64debqp8HJc6F8ijpeiI681cCmftnT0+y7PGaRdDwxEzxjsvzj498XHK9a6UtUVvYVS32yF7nrsRf9v/Pt5z6P/l3/6OAx/eNa22UqopuDmrp/GwAAt1HV7NNVdMHyrjZTzs0FvsN9/xvsNMPwmSZB4z/+N84Df7Up0KO4LMTGu2SQWiJFv9rJpyXA/AcOXDPKtGDxaMHy5jdL7TK59S3cnIPrplV72pABjur3d4JvA+IHLWBLSuaOG620wPHn7/yjoXxcH/+cf46dg+Aa/+NnHoi74JjUD57zAlwV4t8TB77Bf+metdwTHH4Th73/d//vJywXveMr03S+PfqZhPyLBswLDbQmeNHa8Q0JreDXP5vrnJjJhNVy+Hk1RvW47OFqsf/oPm9XvhOE3lIN8888PqIK+H4zRbWAvqqDn28HvLSujmZ2r/xzesSt1BDQmrpAm5KMvwbCMHe8ao5YUW/XKpH3tDqVraR2Yj9R8UksNwx/ewP+ZmedaZmfFfuslSvPLfNHQbt9aia5d0vpMQ3VTWHtcjeLqWbLlXwT8lji4XGF3xcH/yp7f4G6vEVZLMFz51mvalt5gwepqUXQr8W+JjqXJq32reX55HPxfD4UbtNNNFn2D/PtHr/8fAK/LX5Tfui1I/Ye+b4dhmjXjLgzHBMedMAzKtDtiGD6/Ud5jzFF3VxMWV+A09K71Dv0r1/jJMExv2RZuuv7fAMDPmEdHVWMJaxkzhu7Xp265z4zdY1dfDO0rNPUGalcleLzBbYgVAG6DYUKm3SFvkh0ENMYAWdqWovdNiO6lsSpo1XrW4uB2XTTNC9JNfv5z0I4PjETDLRcwx2NfIJzzz+JnuGX/CQr6sTj4sZFH/6mf55XwolTSrUPFM+2OUVRsYcdUAsWxb/rcJuJg+MLKH4yD/7X/fsbQ3hOA3sf64se9xv998E3Pot99zxVfbYT0Hs+b6EOtbj8VhqOvPCChFX3Gzl6lPe0rQ0gqnYkx+xBWNrd3kTkLXvi/n0e3nw/D8I/B4EeqoOcprFnWa0oGuRUQY/qwd+4/76oEoEG3kzO4bO+37g7twumGxPSlwunhqUMPtyh6CYbFNwARP1tp6NCsJgpH4d/jNexsZHYWxAYfy+zQLV8Bnjn100dulDSvnzpD9x/jkD0yjnCBwoqycE/5Nl/hQb0JhomWbf5t0cz7PWXjkr+rjbg6jAeol0JqmfhKR7w5ZjXx/L8nrPiX6PlZIfVbIPGOYquP//x57B1wV5eaFY8YJHeU32d4SKptg3uGH4dMPhsiu3axbl/XYRjTK2rNaIHJ48AmMm0Cksr0P5yv5L+xT8X5zJj7wGFWF5//M2RJ8Ki/yn5vST7TTweS5qu8/yaNRf+sn/89aXXkTyvLRmGV8QXdsRHQ55DnOP9sHsuLXOZ9TRMNL5Ux0PKTvyUant7pvWj4othsXDg9tLZEQS931TzGvMhGot0RPbYrc+0JKyshyhB53cDfsvPek3V8PzX12SfmVfjfGg1/xEn8egCud88EN+hzj+ZhSF4bB/1NMNx/QjfD8NppFAxfFBCIC6fHiGueIxiOts7kOL2D2HtslV/dGnXiull9YdXVbSbzXRmid2yPT6vB3L913Pfz56vunBofoC8zuSgKcW/JcOrVEeJfqivB5FdCy/+KV/3kW8T8laEspHc56vwYLfbYPc70QXppDRnLEt5kNNPL4ptrnjEur57/xk9noX4zGP2YCHi+O77+y9Xi5He6vU4ga3tHBs1HulQ+XjNPx3fm6I79he5Z5N/BawT1WdX2inyh3lg4PXKGucdRj7SUOrqjXM3jPaQRxn+gzOrntax+ATp8my/1qyLgn+s4ugFoHg2XoXAfmFFMHCY7khhf9DK+JhpuVHPQ/Oy8VjTceL4r5VdLQfbHXw/9l2DpXzT8zUHwPwD+lF/ypW+reWo0PoU7zoXvftErW/k9MIzyK2sU3CJH/a0wTJ8zmR+N8fSvEeu3/HyXFOXBcaHsEW4c5N0AULNnmNhA+3sitSpI72Se0+N0aGnc+gro2gU3LuieacT1V+Jy5RkJrc5ngsqv/nnfhpeoD455i2ibHqXshb8wGpvA7c8t2W06+al/P/9RACaUgHrbt35oHPxbZGwfy2p9pkz6fTC8gLJ3wfDCYX9THPyjf+ijb+3fzy0/TwlxLFVR3ld7+U7XPQkgKGvWXN4qevnjJc6ZFrLFHVqaHnn8K8+1MY2vRUpP8zSNUxNAuCy70SClFw77VSiIhsweWhZRrX+aPsi4KVNT7jb/4t1/EXCxhBb1LoqiyFsrcy/HYn4VNLIPtBgkr5SacwRxQ7B9UigxmExP8MIuSis7LZ6PWG6JhiMMzjfoVjQM5ADTj4btky6D7A9Ejlj7EvVMJmsccL+mRTZaTfPOQa4/y2i3+cboHP+8gW+KgO8wStzxmYcuTofutBLFlqXUwyuB7uFldWqiD1VKf6y+5K5ouHHYWttyIYp9U1XXN9lZC4YXevFRzZjwQ2HqHGRKn/SnP/5/P78WgJO1R+9Zn3T54uiNMNzYUOrKlfzURCB60zv7B8PfA8OLhPP7cICuL7lbYJiegWH/QRJdf/z/ssLf//N1QhyjZiEt4WaZvKt1OoeQwZo2JLsscmsiHQo6LbB0MVgSxeIhtIuDaGSFzWPH4EZhJxbfaXzYj20fE6T0zL7ZGYNIQQSWGVRbiCPZoPvrPBcSuQdT79BouUJKGwNJyeRW1qYyNPucGpqUDfnelU2seDmfo5d/X577f194TatlorfCMMkVjJ7JF2Cc7w5kdodizb3QkRzt4fLp5cZP1eW7+8Uo94vmE6Sfsw59VL6hcBrTqeKnap5XvrX2Xj8Hw/VBImOs8LKTKp6F4fJhvwOG//3c8vO9FHSrTNRhYnq6FLNm3JqCVhNN0A6Cmbi4JB9dHsS7mGkKLropHQ1cJq6/Ksv1UTUPLFjEMzXPK99ae693tBI0Senpg3gwnCdusKZVN29WLXm+fz//IuA7nOCHAif4nLJ7vZmcMJwveHwzog/UQQmFUtCFa28p9PIot7jt3x8Nz6dSbomG/TGI/8VoeCZmXYuGW5HuHdFwv3D6XzT8D4Cv7VyYTkfNhZZ3RLo9xQ9KPxwRtpTtpMhmwxlOug29YL+h7Ivnw4e9VaB6A94MPk2qryDoXBPUQzh9afawc7hi9sNCqng0ssXXO5rctYTZl7AAwwF1nK/t1lZDbk1GZTJV/zeq9Q9nhdBtZpU2Sn0nDH/qepSrhOfmwj0WAb9NguepkTp94YsSiVkcrMNbSnZuqncTbLp0IoBGy5Ena+5UWgXcPbx05OuHfYOn/2UkzXR8vMb9lN/qq1ROGaMz9rj52t6QGEZj6dZfifH++Mw96/9CY/HFw/6LhtOg8Ynt5FkK+qNz3t8GvV70WByL3E3x5idLgwYAmgid/TrdDvsdPjQKWPd/MLxj1i0VW18Cw09pInafC82RXEG7AQNlz2puWf+rMEyTRvQPhudc5B8PwFFtcgPmdGU/ked1guVdN9Ws01f1zuXZYhNlqbUDRfeHUaePb4He1NyXWevWbov8RO77byhz2a+g6Q/d7W3dDsPtVHF1pw4MX08VX4JhWlvQdOvbalRujPpJxdB76/qngIKOaepI3m5Wvct97Dei8psA/k09UY858U9VQVNtdlWt5raAKDAZMv8d3erl24Jn5Pc3PcWH1GilsoQSch6TUyDt/RKDMC+74RdVUn6ilnZu48HSmwiiuzRc3lE43Xtw4hm3WwkKY1zT91h7mnfv1NSq/q0bB3w7Ktf/mF//HV2OTil1eZBFG//385Mi4J/DODTAoPjM3UOcbtiR/zFLn/p5UzTcXjl06UpuiobXsgK0kE7+1gXw7+ffz68GYK+n56oEVg3DlLvcbUzt0z6YPCPeAcbUGpOMmXf26Fb1/J74ORhe6V9qwvBKsdXk019U5ppaqLewl73BwzS7LHGHjbRu8CcNfV17ZbQS0zwUt3y3FnRH8JCPDThez1XTQnVWXLilG/r9rQ15StStrereD4wlQYPHgnR8z0Lu7J7A5SO31DyoWebFPv898tHuldyyUHumR9cP61HZN8w07CWVpseuPNml8w5LpLeZ7I+PgF8OjnjBjiTFWVWxOdbEHCOAiPAa4kaic5ewloCh1AYoDcajfWIvO0T0shE3GmYLBixZnvgvlO0DyRg6vw7F+xypwtFk03myTHp8rlL6Td1KY0kkxNMafaqAOXgBuPRcF/B1uvg3XMm8pRtondp5F+c78XQAmjZiyqTpUNJF/Cq2rbH/7ju6m98f2WF1af0oAF4YhWPb+h1EBm2VxUe9peHcGAZLqoVqNKUQjDH9wkg/CdolEYQCwCxe+k8b2XaN4T6pIQ2wWTg9BpB1dl8oE8WEZUR3i0n1ri8LhdG5F6Ir6D4FwzdjM5ivdhtRQXPnbn+pNXHZBg/VqXf1dAij0fjcSiUQUuV2wk4VRjBMpHeBz8Mw3cAANb+L+476kyNgDyyyeA/nuiG3PnobZk6leWeMKPxAOewNIe+v+jL4sAcMk4khz0Kaw40GXh/enguSw9LpBLt+ti+EeWYByZPR8h6Rq28Q91OW4vgNK+kNk/laNq07kYnMhn4HDD9UA4XRsM17HRvFabW2eLv+8zjYeqYwp6Zjae6RLvnaO56AjyXfCiyknwvDH8KeXxMBvzeQhld5RXxzylETbkbMnLEYh7A3KKuOQ7j8tt/pR9X0hH5bJYiF1/YaaEe/wNU/6XHyxy8D+eSkNHogmU5ICMGS674Fhr9KcXoFhrF7XNlXGrpJ1Ylu56jLOoDFc1EdUl/rTGykh4g9cSy+aXJHo4nww4dh1a4Zw/AIil1OGJ5gFX4tDP90AKb1G5m0wJ1fJTfas/SyA73JLlAOORmD/opTUAbDQ9BO6UMCB8bwM6ePTSAWiJsIdYuPqYR78JjeeZIx6UVMHsDkesl4+JkMr7vvF2K5waZMdiOtTO3HDEY0qeJlGEZqtTkMoxro3PrierE+ReQWFpiPRnnbqCagsXwQwhOA+bXJGGj2BeB82Xb9E/m4TwyyQd6sB0DBsOe7XJ3J+DuA80dFwPcJRZbFmsiht/cb538GmM33I7DBwSdD23OC4Rycc86wVug+GDr94jMn5cr3HOpXFDRSvEozNmmxhLZHSizSadhRROvPqIF+FzTmVPrSy2oFx+PHTWTqwvAlDF6OhhG4rbfHwQrJghRSD2fhDvHtaTITYyju2R4hXHbYwo2sVkuio5OwU/Dpc92NXBhEWey/n48C8FqaDX1Lm/lr/hsfhikLgsHC3JedQ0M18YhcbYVqZUMRaBCZ4hEmdMGNnQR3BOVp764EaC/4eP0/azCvFwcWnZOL1CLG1rJ/e377zHJFoFuqUkeTE2l1M/uhMPxDwwc4mZ3wN/ZKkE31qjYBb+4vqUUdk9QJFTxUSQNUwAp1kf7qtYXusGfReZxzr4BzYSTBWMOwGNNCOQyvrX/vIP8Upz8TAcc17j2GaqYiNqTCCuilAob3LG8Qfm6xL+GIgMnwz6T3oFPLetPPor2im3ha+FjE0dpVpC0xGCaBzXQyvHTY7laUQeSYx8vbxeZEACTPJfzvAHp56TlBGWFNOMsn8A+Gvx10qxH3CDXaXegl40JOlGdH0Js5fG4wp96/Hsxw/E9dwqzXKgIQoozDMMhqug+Y/B4FR7GiHseYlikYnhU6uh2G6f5F+pAD+tkIeJtEMHvnz8TBMMla/YEDfcOuCcL2sQ1Enej5WPieNy6Ow74+sCEkmYjZrmMW+x7K06DjNzjOf5RZ0dgQePOKX0BLgYdBZ/KJF1LpjLEAUUNB04AzCTEnnBtm/CQM/xdCYcx/oCHA4vBANvOiv0LFV3Kg5QdpbRGQMz29Ambb6cAKmOO1Sg6LC1EyijwOZoWe2qy4MR6pqkQY9yzSnIFhVmeKK2XSTRh+E5Wdm/BT822fi4DrO1uD3r7B9wlnDMJpKz5yv0YX2Ks9YmUM+rvrsB9lzxh62i4wABIOMs4j4JzttFvRAcYkNhYibgyv8RMbjm7x68vM9qLoUwCEl0m7xi7R3Rrt6wpUOspBR2aB2K/tKLKm5qpfJ6X/sV43u/zIzGoktqOMpYZh5qYxMod8UNclF+aqiMonsFUAk2bIlYgAQYb0/N8Q6nyaPZbO6GBFkWI3GCLFtHcMEs55MwCjoG2upyOygb1kE4Hn7dnv2etBV0eo1jAMIh7v38VClcd5zMl+goKOsjw14Uy0sEGACp4qIZz3SyQQ6XQrdJTM6w7BkZWB6F/WoKySwdsRQEJAE3TEwSS3HTpCaEYFbwBMZ6C8h78ciVnoiUEDLzZY9CNRtTxxCwxvVV1gCWmZODt3KOpVfjVg+GGn9llobGkWNkYiuQ3gub8rmJAaeu1nTLUUhVdFAVlFnNCW/m50a94zxBmb+qgvr+/Q/oGstGCEE39IEiN5CkasdjLLPgIK6Gt3cj0nDBfdvYcpIh25urHxAISN+7Ddj1xrGN6VDfvwmax+zMDwL4mAGW8yN5Tzljg4CnyTaPhcRcSr9WFUKc5w2TLMHIbPk4I0cf36LzZzfkEY9mj4cAPUP15sN22qvPt/X0j8gl6AXle386p0+ti0afm+qqApNPhNxsSgmILhIxl2WKjcsmTCis7K6khSIKvQnoHhq4z0v58Js3KhjkoKumOMjscs7Q4Wnqlp4/qwf9X+QKIigSCRdf+NLbkgzhupfzDW1652tuxpWNvcCzdwSmoEuR6SLnINw3RgeSytM2jPRBHzUa6XVpUwfEtpmAtCn00qPUNBbzkDiB6HZRZ7Aowrpiv2F7BfrDD+0/U7yOromLSnWzEyd9W6emcBMvHN50XG7KVQwMs6yQldQIDMB9NhPAjVI3X7SaRxf/LYkad1kGU9n4qCswydLWsQVk9JaP2n+OdeI9B0PmgsSW5xIgdHLeFZArjjgahMECCBjB4///Rn/GVxpLPgVXXkrl0jWhLMY9YFldSYDEb9B62cTJPSfasr9jUVzv5t0wVG+qcDsGYdvdWPa/vFmuhV57oRXwB5N0Tnn4L9fMdBx/d6/WkrjNqC3UNoa+wYvFs6vXxRcoWr6WS3If0CKJyzfhLfdKbs6vRRHFlb5C82dMzHXPkGw++YcyvX0CdguKGLSE+c5RIYu+rrhbWuiV8eYu/bcsUAL1s+4z1oD9JrauAwvB/QL51UewKH3hOPEVGeGfpyU8zBeGI6h7O/4j2r1yS2K19qau9tLGcqYbg80MMw/LQUZcxQTTGEVIH95Tg43r+h/691NLWf78GupHMkEh8R8IHE2CPkl9gksFVQ7K4NuTCsHxoxfnvSLEX6agfpLCA+NLv9gGDRv25Euufznp1/8HEY/s44eNyhQ4kytJ0E40PsfV+H28vCqX0Gp26IJ5YGjbgDQsFAEgcPdvCoPcGF4dEdsz0DwxRgEx5YS9TH4PcsZLpy2w/D8JMAnM1FRraiVChFWZFQ1b8fFD+zs5PGDlvVZZuJXLv98yqIwvjr9y+9wJVMkSYkVJ8A/IfG2JkxgI6EDw38Af5sGpR66RMrFZHx8RGngxeY7BsSdl8ezSVJuqAqYB715DW4MRH7Oq4stTtWroDhT9ZuNKYTvi/8LY8JY4zeeYkvdyh7MMGo+qs2WFUwdR6EF3CJGslXYHw2KZzTFgh6h4G/qveeRF4rTQf/TCcMayjC0YMvBHDApy5AdW6CvPhSehTnZ5SLrP7htR4Zt1UkmF2vWpd6OMfZcm2XzKQnbPmzazve3wfs6+JRgz1xqiv50RAL9I+G+LPoiyDyy/+ZSw53hClr1cUgBJLIfzCwrUYdnbO87668ETgYtO82f8bf8edsWzrSTq/UL2XoeGSNGfidhsT6KPYqrXP0OroMMCffKOElWFv/QZVTPA26EyusQLXMDRQwHMlHO+2bF5A+gV4Dw8sjrhdqnitf1h/iGdsv+0dY5Ezqf7Kee2PIJ4jSwR0PplJ3GvvOGcMbcYLdHCGHfdHQ7VGvOsfNhX79m8MwzorIozBq3za2SuWtNWBXljybFrCrwRqI1bsogY/gdnlgXUtxlk86i4wao5POnQuFBrs7zWXKTGdg+B8A3xAHhzUHJsb1+086nLPSx0DgbmtmjMjWVe5dtlsPL8gZXrZD+AbDkGB02AFr84W3dM8CS6IT7t2WxOGVLxMGjb9sOwQFc09ukwAAIABJREFU7JlAX5hhghrwkPld7Z4EYh92YXgWX+dFhKv4ssNIv4m1toe9EA1f7/2NGCzEtJblqGy5spK7UTp0+6In6AYE0UqkjmPF7Hb2aEdi3VHFRdUJcEngPQh+NSP82dCXwzDRXg5Jm3N8kOS79s0GuHufPo6CSQhpGw3DUndDaGNE0GtF6MhT1VLoXsLwwvSFTrn1LSf6B8Cl3dKCqU99stSuI7baTwsRa/uVMnVWC/GyaGzwvOVl5d3xdS8UKyEX1d/dcaZsByfd/BDhE/b9aYuMZYgMKTiiLuWoJYEqKvFEc8FVJWln5FrhKRqBqeADnS8ZMc4ZgLkF2C4zw5NXO5YNZ6EeougR8qJqyDSlEbRKo944HfvycHFilKavjoSRgN5zQbH4eCOit7f3F3+UE3y28TDk5C+BJA3GtgPiklSmilAIOpL/sMQ63gvHxg7VAQlL/jQo+yrzEsWAkiRfdbpxIh+Db8oT94Zq0Hzdya+JgCn/31jGaRWqlkESGpWDpKZgnpJzh+AE3IHeZ/XHjh3BBD0ccpX2EZy3gFSDBCIaZluaS/KeyLoTYiPENkZHiwj+6Ljwhv+RE3Z7LyJN6OpQm7u95iFTsUoSHn4ShqfWODAWsH9uFyCXzS+6VwLUziwi7aOVRhIWXjDbrAjn+HTJRdJRqrzL0JxadZuW3LmiwVhlbi5cBgcvdukUt7EcleKiWHWFNI2ObDL/5E7MIukF2FsjQDlV2IlBJ9apPx+rc5sJDN+FwUe1Xdbf+cUc9Wcj4DHW6pOjU2Rql7PthmyZMXVYyBEjNonyJ2DbhjS2pBn8APDGRSp3IYW3IeJmn9z2MRJyo0WDdpjsQAi+wloth0oqB9NrQFfc2DvY40dqQua6ABpxcOXmDgq+VcfKCdCWihlZcbIeUnTGk9gkdHbm+WxHOvvywE0NHIbp799XBEyHxtxenDFElMzk1oUQx/r6kcrtie9N7JaW4OVE9DlhZ6e3p3Q1Oj0L41ob8Z4uoAqG/3sAPO7oXujsEa5zd6Q5iBCY8dHIQ5FKyNGSDxrtSd4YIx5/FAc6h2dObRAhpByvxtcogjyLn5M3QCV17M6A93YZ39dpPNUGVQIPpuidK/zqCdAAWMwrSs7maNyiJHWFQgq1usIOwwyfFWNk6ZkZOtECJ3/7qqt4fWoTqQFIF06yPAmNs/j4VHDFqUxHbHPYSSMcnYMkBl7vMAw+/oRnf05tHCZLKW0K58e0bw24y1sNWTEeORThFLvdEWuFd4eNatZCVxp6TDRHdMzqg/zzoxEwsgpP8UBLZmw+XvBkFznEAnxGrhs7HuX75TU4g38n17TpfEC5NIzWpVl7pP/qpcdL5xEz+fmp7sa6NtJrCKnXiH12eZBKmUkGGVCeMACahHNSwIz+Y/OZipYRheO/nPOQ4XXILiNUVR0dYtm/CsjWwK1K4pjitWEwH1fAmw5IvhnidcUQi1sUiOz7Eu0fPQ8ncdETw4I6F50dB54Z4sRyg53Gp4T+bkCMwTBJqIwLI9QAAaa23D6B3IZhWUzej9uP3REtQxqP1HM8FgHXhjdD2y3H04dXqFwB1iyEUVG41MIJdyeZ67Ufvkwdqv1bu8Dq8Xpq7+6Uw1uHZk6D8Z2eaBQH09qdlAe5wGP3HPaCYZ7VgPNtk/IA1x17UJxrRobd9/xO6N1ViTnvZVpPsyoEMu4mGJwaABMsUWJ6koWWyu9qUDcqNggmx+TsAKw9KeiBdKLqtAfN0wy4YjLvguExw1pzR/m6oPRPo6DTafYuvXD1dDMCDqVyYeQ7UAyWllW7gi4ur5twxaQ+A+08WnbL2B5uIW9n6OXP8EB2T4GvHII5Z4SIRyprbiVSB+Kd7nJ2bVhCepyiGaIuegQiPAhKx0re+xi+qc3H2JCQRifZgpO01JOf5XXD3zwizPYTNN4MyfQTiy4oV7kxB80XfFlKptLAa9nccvqvu96cMWibZGBERxZzHZKRIT8+Aoavlqg2rjnU9P8k+8ysoH84/iggXigoBYwMZJsIdipf6LEmpBv72L5GB+MFqh5pR1d2EtdcSBp5B7Z8iJigTSfglhofLj6DwDkgf2reNPJBbWE0VrqRvW0lZglozRg7TxuOdzZBJntjs814LzXyj7+FqttKV196KW0llcpt31fhENgG3gUss2mI1J7PXC+Xutw3/fOSTsEpjmRIQU6PHrJYouoWmx6wyCPHNc/eKgx2RTk2bS1sLawwqVM7ttDErAIYftT9f1qIgw2zjbbp2SbgqMZ9nEO7xFyBWb1Zr1wwY2LOsq99WotZeQcwb0oyJDXjSRT1gVB5G374frEUMIPhDk30zqitw4TVn4FH7i0nOLC2WySuari23+giNz+AFWs9sTavgj4f3dlyhRL1o9+kGAwlicP9t2NaylH/cYzs3ZCORGPTsOwxqzvB8HcOyLay/TqzyuRg0rbdUX1h6lFgvALjjqHpWBlK0QSnWPe4p+aZZYJBDTMRIi3lo/tVRVh/SbYH6JqsQ6Hphrs+2mzCEYEDUgrVnSublAtC7Qim7FYvetW/4aq0qxZeQJUABN1BpvjZSe2wpilkJBiaeNk/yOh0w9wALkwvJTtCxl5QGIJQ9/rU9GYX3ysRTesamnQmdZhhe/2iqoZy0pvUSqqm8tT2yOciqFmVfAg8YneWbRSQNiVUc+TTIuOMihInuULJ9tccwjV/cEg6D6FJE1yhqmceWpkHrATMllapw7pd+wE3YW2C9zW5FjE3nz3PKNFgkcCurrkXmEsMjijMui5aTtEwal/RGhVCnhEMD4znNaXfD8DjzyuaOzBYrhc6tKgqheGmnGGcg9nX5S7HKDBJqT1QcXz1GW+wCc7lYtNU2nhkw4Q6P+mIFmO4qTPEiLHemzgfwmJ2t+6NpIxncPT17ILT+MLHBK+UPL64QzlplDSqc1pGgUAETL4rUDcXQGGMPQJlHo3by4WeKo4lRYWmyrlO/wrpKNeRUj4xcB5VEY0gJy4TGm1Wr5qQ+S8nDOtieiLWRKR3ALU/AOzWmAy7smhq9OwNUwitdoAglxA2H85QIu6K0MKC4vGbhGIZaEUFWTkWWOX/wYawcS3uiESh1YTR90fAf9T2BdHAQLtF4qX+RneIjibHGWf74F8k+Or5nvFn4uljSFpmh9PH4fjCpUHWTUrXGcqlhVkE1lzt80qUPOsjUP1HPrTOAiplx9ymQ1KfxUsC4jFfV+xgcELzJo+YpsutE2t1YPj89F8qnTB3oiWyxSnDf5clAmVRvt+Mq1haPsIkMxZEBotKqCh1Z/0jYG7xL4i+Dby7RXisSpqcdOM2LxpHYG3yCF3P8mcDsOSEHd5sr2nYxMkDEhjuIuarmfmeCJSVhmxjd9kbydsEnqD6TBQHp+V0GLrEP1OxoNDDfbRg+EacJ/HsrtVaA7Ykp2mo0RPm82Wlh4yRMrT7tLZuy5Nf2Ut6ZEjgFlHygaPwGGMGg2nghpfieaXxkqZtC8jfFqKl6BOzMM4u8vpkgu8fG8PEDCfcuKPZ4It6W0FB9qwyZFEDyPX87l0wLDgeyBKbb/p5OwD/f3/+j3BOBIp3Xi+2S6zFNryfA3w2DPaeNswUIGcJEkwRPyoMljBM8abjmmiGbSgopg/BcNNuO+Jlzj64EAifvi26N9LsjkqPqw9zgKId66Rg2KkTMaIWfKzeCPO+YVeusxl5MNz51kj33CZa/MFf4cpoahR/vFdMTrDrs68Ux81koj3qgh/SWoAWD+yScMHXr8LwnPkd14wr+0AIvS29KqrzGmHRLjWKB+kUQ5z67m8A4P9H/6PXBE+coqk7SYepXdGUOB36MrsHPU5RNy+PK7Xi/KiBDce1BFfAMpFTAVFT2d6WgZxJW/JVOxi5MGsTXcOesWQ0Cy8pqDCGKDWvUZ9m6qR790kgJpjkw7AtCXPrilUcPPzPDDu/z81mxd29hOArt9AdZEoU/+wzMWX8XjXUoWCSY/N0PWmvHLK4Z1Df3CbrEm51kSfj4Itx6kQ3hE93ORNIXaBdFXk+7Kg5qoceLMV6qAqaTsnyrarQn8C1a1GpGNQPeSExFefQveEXXJiveLpriZ6q3QiidU9+qYVjFmWTwF0iFXZsS9xr5MFzKGDdKTNaiIOLWmxOOFMkelQIVkJ+KigYwSBdsqA/AzGlCLRNygM7NHhw3HMRKFF5PCJjbxJfeHCEwHx+kW7x8ODgrjBJmGwiagxWok6aN0LGBlP8mWE+4xYsUFuufBb35p75PJzS20DYQzUqNyu35a+GYaJZgblk+Ka9Bj5B8ibn8wsAmLaMCbFCdPwZf0/t8mNg7Ra88hm02swcC5SK5/uhrIobNzCjyBrAcKShmghSksxpdWYHjaRPoAXD1EdoudywZO7u3wPVJngxaivKLr6iCGeK6Pt4z3P88izkDmyfBs5i3E2BSeoWs/2DlUqPYIh9n6xTXwftYy6Jkztw2GYiu3r40aixPsmXLJZ4JkounN844a+jm5gflrG4CLklKyqZes8xzKHbsBdlr3CJrMoc9YaOqdq1CDdt73OXS9WIyTsict9q4EThQpRNpBGfIKjfL8QB0F6H+XcQEf3F30F/xvj7B+PPOOe987Ehg3XUDdk2pyxfSpkfXwfBKTMuols4n4m7bLMGGDGqDL5KZXLqyYADLI5BV+VoNZaGeyXOvkb5t/oFPkQBGMPt2NHL77wYyiJkjFimnCcOFfvJ6irPSQH7P4ZTVM3ZtOnhRc7eIXa0F/q+5vFZCkIoIQSK6Gq+zhZms9Z5S9s69YY8SSQrdfVvyNE95g6xThKbDNHwkkQ1Be0yT5aC5q4MGRhbZqQvgoybFAtdKMvDibEhYctZ83JnOBMlUoQHao9F7++ue2QrThilhE3q7HdEwH8GjsZWnDPEBpsgds7qIl3ArHK9sKWJ7jA+YhDo+MKQ24dbmQmnDFIVbVazic5AXKnG58H09DBd44w2NbXnHOAg3qawAx4n7JCT6J0y21NALSq5hAfXoifQCXsNfLpUNgnOGpTvOLT3H/Kmw/IDEVcGJRPC/gtDQR8vHhRP/CVnuK/YCvf4mA/746pDaaLUTMozhqanhWKQ3z4gYlzKIu/CgsygsAyc+DRukGkCdPodeswF+x7ui62IuQS7FEw2IVgEA5tlsmGPGC5lRxnfhn1ChvI1QlruLtyF7+WT/p+kCyx2GD7HvKuOeWIZox8PwP+H//e6t1MbWbmTQwSvSQsv+QIx0jiJbfnwx550HFWTqROlM2FvbrB/o916esEU0eWnL9p8pSqPoEv2ghQIjUaYKAS0ieBdjN9fvZkjmW1N/UL/vhBG3lV64B1WSV+5jb9Vmy/4xD0rJcDVH8OYIFZyxR7cnIOiaRw7F78lgr/muVDR5mpHnbXs1KdLBGC5OScdkg31WvlYIeoURsyvYZo36MbZi8MC9+0B5JH7VSv56Cacgrub6oYg80yM3jjO/8iqaHIX4W8CYOJehmBo+RwwjD8Deabdes1DVR2LmJB27fRGZIlpCScamF9Xb4ThwGKeceaadnKVTWo9xUP7zvXAh8P/0u7Kw/PQk9adYqruMctDHjbSJE9h2A3NXxhPYzihrXv9WoHZxaojZzT44F2QIed7c3IEGHfzfCcRSGM+O9Op/wdnbcUN0kzb9lt/JvYFrIPdHX54fEkUmTMDuoXsb1xFYczz5dLRWcCp1zop6o5+SRHW/+EvR99j3+Ep0t013iTf/vgaGnvtNM55I143LUjitPiHvwrOlLNPLgUsNwvuQk+zwwZ79cnLRHQ83S1wrG9tSBBOFjMA0G1H729bvMiZbbFeR+AwusmQEGUEdEAcRI3U7RDS9v4HFANsQ2G7W41zWiS9qq72pO8YZxX0Lvt6lm0ThPQ5WUbumFlC/h4ESUGdVDdjgB1ZDFXhfKCva7/DGT4PQ2iPoaupdbl1ZHpamBtC/nP4fYO1wkavogIpL+ut3vmDkGfoxRwXa1ZRed4pTbOnSWNgpugoB9YeifUYykmq2UR7Z7+KgpPSxIs3iS/VP3oL+9EATKeUuS7OJDno/vw/wHJFXOJqz63C1iVyuyVRYj1s1yUj0BDJO1cwLJlOGHIzZ796gXh/WII3y40c925i45hwusm32znRhsjVgPBfy9AJMhHB7H3A780+QOIY+b6rhR9a7RodO+OOaLCs7Wn7/B8B+qr5NDjGDxxlBXihL9HgDBMd/6a/RDrO2BOGkDojW1HMizHanVHOVx1FGGfDAiAAdQhhDSWuLpgqrpODUMjCGScg7AtW3yrJJXlGRC6nmxhgYtp9a2oY4Fy8q6y+2R2xpz4Ps7LfIgToqpoC5jR06CCcBljXvMvZEIJuDaJmUL4Z2r7I2TCrY9SsPinGn98zjvAP/ioOShL1IggWyCrLK/gHeEFW2GuLoY8Z6zYzDB6F3rL9jaO2Y5IRgVFlIq4TddHOJsIOAga998uNO/4t6qgd89rNxyQcKmqt6Rw8rZ3co8NE1MEYrwmSYCXgrLUWGNlxlDcfn476aN6tRLL1FCIg5vXI5z/ORqMdfR0M3kLe7a8bDB+BPUmgOgrCjiIe2p3dU+IGwlT3WbmiaZDXGyKTTJez60dYVJF9RhkIfCxPxaJd/5gyqwfVK7zGzKWOXNiDSB8ClJJrw6NAxsjzxLxMWpfz0+ClkcnNObey+7mb+ChZ+z0GMocCMWcdNVHe7yt35t1zHVLhTjGDIHoGg58DYMGkafsEaTpaK28wHNX++EjVAARse2tBCmMF6rJoIrFvDF21DTQ+0wmOoTmaYCzTRUqYZnYQhVkTRWKml1YHnlbi9OjywRCNNMx7doRRvbkrG0xiH94sDyuZTAqoQw2jm2/wGiWLY0A2m+G27SzYRD3c1bNjKu01FpJz3oPg8/+20P6spSbbQfu6HxyGxuRdT4LKQ19IDGYGTv7gBNElT24Bfw7A2v3V0wbn8kEdA++kh6rMDgKiaMxIrp11y3ZkpSCiRfefIIEa/sNuIWcZvB3FaMyq8HGUCqmOuE+nE0eRduivG+/0nMEUCr6a7WvvgDhoMVBWS/ETARjcLMDdFZwmykugPUkp1Rm8U2FeQRZfH5yCDipyJPpKjisC2tIyKSvCrJB1rhas4LRVTwLuLPJamWBPbjyQZnqo0t2iYeUecZoizGfgX/8W3ZJ3fgu9JrzOmDh3HvHGjols8r7p7Eh8dD6NMer+DfrLhDiCQRFCsfUYecvEcHatOsEwD9kNaKJhjakwqnN82xNGPaJOP4HZbLoff2WAOuAYEbBloV5p2i30bXDRKhkUhtROETT8hepBeFa4VSSqyWv8OIAW5MSTwqzs4+J95xRp1slD72awjeghguf0v0orBL2kdF5NCpnOmbSmvPFMNNFZrvRrIuB4vUIA8B8dqoLFsmLjYOSYX0Enm3GDsfamtd92GC+AsXuQBp+M+bxsR582wb/pENbYK5YlddiM1ILMJc1QZRy1hk1GkxGchmCpaumnmUvoJaUvjZSpN3NsRdmHfhj7PNNeAykX4sDwmkIl+pr//vUAmIWzJhM8Bs8cwRRVGFkM1R/s6K4j0YiWADy8sfP1WM8sAYSuwU4LcfjJIJD5jJkIDr1g5EKlTnpIhokOo06HLZKDwdopOBFVmV4jTdX4gGq/H7qtAbItnrcbqOuHnoRLO8lMmu3aiaVfREHvwuuuBhxpDP77wmBrGIelndB7RLcHc+Ch+zAC0Romfd3alEBGi6EiZNwXVQmiW1SgKV3aGY+tz0pxbNotco6GfDMx5myEAEkOL+KonVHbzEM7aqKhPjAazdMQ8QedQwePXJTWjpajhdX+D+G/7CIKrOUHu+wHqXDplPHYggU6q1QPmQHhzUnFmz1+/QMQ/qqo988A4S+vzHCbC3hmR1PQh+lJGTuVKNHJYxdxpXk6UjY+BnfXtidpdyH7k5LSR2MzDUQsNCdsombgQyxzz8hYeXdyeF2IFIxLEI9zhIiDwcqBP4JfBKbH/cej1d4xT1kwim3pn23ovGCbBbU4TJDOvEzhmA6eAB7uxM89YvtNEXBOtHA56D+qrtJw0dqzBm8mdk2CKVJ5JZcWhhWPFKrWYVQDSof9ZB9fJ0ZnU0YwuBcJLximjASGK4861S5XsNbwoj9n5WjWOuKoKUg17zo3QqSCmHIFAcVTHXxXIx6R7BsEv9etKpugJYxZhvdVDvqaHc4aE8EzcFwdA8fW9tqe/g7C+EOD/m6/IS00OMiGvCfu7uQTD4XJDDiRhYpixJkJeVWBhV8YoYw9FMw6CWd/jKmZ8ZCt6riF787sj7fRYaQTgc4wlZzLIZvQgB/QK17qFCJtNhUjClCF6RGTPQfbKm0eZ69pYKX+lG8PshiClYMdMxtOd3xPN+GobWCOhiEMdRAMk9gOe1Z/OgCnkRHzqcU0X3gTFDSfvC/fsPrJCDt7VZTeVAaPcHaIsogNpozgqgNcN2D0CKs6Ata6E6pCutpHWLMCXcHg0dKiS2GY+F5ZsF4Uu318aJH/wpBIZoJRcKA95CMCQNjU7I4FCx4NHzBMW43XseG+HP9XzRf9fUEb7bhGkGKUZzHFvq/R34ETg4nUsF1sQjd/GcQOAvhv/hwpXimuTkpXFT6CenAbmarzS1dd0kVim3WyZVyEIlNTdtIvZH+ojWy+7gR42SSlDrFPQTGQBnEaLk6vLCWMdKKHqhPxjQayFVDTy6K6ipiWDbhqB/sWfx5HLiScDKbRl47gmFil4UMY/EQfcGfdq2opa8mJv0ypPrMnGW9kZhMVDu9GLDnm3lonhF2AYSPoWkhdRFq4vjB16e57OwdN2/L0lGKnYoXInfaj2KqwPgR8X9HGzx+OUW00bRdEMkLYxc9pd96xCcwST1mZbPXp12P8efFgGH9Z9aooYmZa1nt0SH8HQH8I9NdbNSR5JjcaNnNNhmpSSOhicowxHLowonknpVlVW4qx8e5x7sjvNMwB6cxgRGvb3zUj0WyR1ThWK9WjEzKp9vDadOW1PBGjzE3HMQbr76fBg99xdBsdWZ6YQuMZmRe9xWs7XDfH86deK/3vU0JYDw1jkJm8HWtNUiOkd0z/PtIco6+ykNDUnxZqbLnNVNpiKKTeJYTzMQmi64au71xPa/o5K8VpV9iUAUikwUKzDwtNj9iU3I7eM6QN5bH2X//BAI2/w45j2PU9znES+D8AA38H0fjDva6T1WYlVH8OjMTRW3/qVUmFOOe2vUFhUfcHHEZqceXg2ktn1dREUzA81Wv37i2F9hhXauzzeJDetBHNkgVBCybOcv+oOuSoeSTBq5Oc6zWUYp0k7vJS6sEb/W7W//6mCNhopJ3FyZoSdl5WFvXGaAQ7CkMWcWAhl/M2eJ2w6sS8F0r3Ihiufe8OJfdlMIxAoDMSxjKtTSSwscG0k6zTmqUCjqDwCIhB5385M3jGCsD/Dfxluq171EUqWctV52jv/R2yuYBMd5B9ShUMI4Lhawi0WHoPpc42B8NZsgaTTjPHiRufA6Q9Xi8mcvUgcdsLE25o4IxKJ5JdAqQC62l6GLw8bNfPHAyKOYtPKrtBT8nnvx+APXhjlczCRHlyniAHNiBkqOSJnDKQHcB5Dyh7i+k8dtXdn5Fpk9zy6g6Cd2xV1wUjhyksbob0QaVnsxpL1WoK2YodKPV1CfJXlkIdS4gr4e2utDPE0LuSE3ePf/O5R/s+cMYAJAubmRAHTipv21FYYehLWu8UkhT9Uf+n+ve84gmh76gb7hUSazLZUb8qaqlMMliblUV0z2QqhTiqCxo8U61cIeqIyLasFD4pPS9SR+WJUgXyvkd+TtFtk3RcxvkUg9SeK68Jp92HlEpz7PrpLPQiUZLtSUYLrZ1T7u0UdeXy7MJa5aS+n09Bs8I/a0uq3oyDmhqpy32TwdqQLFjaksvjmava6SETw1SiqTxjBsDo1F7KlPNM2/zijLYLn0cgnOt/BiuzvT1hLSi6mGKrJ91sycnScFf2+3ptN6/X6eu0Gwln4LwaRjef1dd7FxPOUmmHJ90OcjSxgOhV5yUHnJAOv6B6nkCSkZJN5zBeL3iqSKV4dUEGopnZQtczkpxzQZccc+N/ylGWlUaj2Enjug1/vid1jWg+DoynJrRgmDwOJiskpDi6d9f/KciaX4lwXo3UcuDI7EkZEDjzlM6K2LoAiAB/DPYG+2eH41nJ+OfFJLGuguPC/m7zjX/LMIYRsFhWQ4Oi0UbQ1RPB9BJde2nXmlEMcJglcjSZh6cEOxcBk6MPEArsdSivCQ7pJibDa7EtPjNHuhZeva6qgBtF2RMZ+XjnokjIdrqXY6HXHFbXPDOdvM1R35JOrCWDTQiXg0sd5QMcm87LabSiV8iXwemJjhF1+mFI3StJLEUw7MzePqHUbfkd/oQxzzDdBoQyWlXkFgosnBdvv8AYt2cHds0qFaLyYnTtwDbWPxpjXQWfK4sQXGzXNksSGv1nZQrBxzbX4QTvMzF8ht9nQ5ZI6fFrwwnDv4SCVjlX1SMYLlP488gMfg9vZhkyeirueQidYu1x+yOYzLdKg0ceId5VCn/rcQqmuaS8ujp5pA94HrmnJE1uaGFqOLfDCqWOLBgx0GtBV/5GXi3vJwL5hyV2DLCkzDlAEKKd0XZ9IFv/I1OucLXWHZ2NQHlDwrllvCRL7CR3yOOczdaR+2jGbQVmoDe2cbzZGNNBJrVZUY9hku6OGQv98oC8PntwFRrrE+ze49ZKNxzxVTmOl4zqIW2jDl/pleM4wgTFFEXWd7C30W8DS0wnsUoGSTEtaXr4NUVYRx+wB8PJQG+e+h0jIKwi5rmTLXZGmJmlyfxot9U9tiF/pHtH571P2fYD4HFvViO7SJo7SDlBtTgsps/rlsfo3Y3tEazlX9g/VOmMy5Wp2IMtuSMYxrajQWtBb7vP9pmzeoj2JLSS1msAsOBy5KgDbX1mTrbV2Qh+4xJIYZfUTfgVAAAgAElEQVTwMFwxuZFxQEcHRGrHWpEe/LbwIyKT57qQl6Tm5OAT6h/29Y4iwpkz237N1EnqarkbDeqiRkeWVOzr/yi+cno0ZNffmeLZfkPHpK+DZ9qKDTfW+pXTwa5RexjaS9/md+SAx98RurSgjLhWDcEpNcRJMw9cKZ54T4VEhk9rVzEl8kHCBQA3xvuhdnknuLUZW2/UV7VGrony+PB2SlKawrzAUL3OaZGMFbVWXNkRfQrUdg/L2xmdSOpU+9189iElFt3k8aGrAD5qImiOZPcMzwukipFWYa6ZsqDnAFoY9thgX7Q5ZJil4xiIlCIKXh0AzqQ5ZnI9MzuzrRRpwfAVP5wahHN52H1cbrBJb/VRPj0ONlLTlbvhGGwMfC/NokOtY+8lEPSy2rePfoMtEt5iaOL5GhJTT16mB8Jpqdh/g8nKtS+moOF37uZ1/4737VFJQfSZCcyOnjaIa700WcbsnAgLQfDwBnZTXoMd+CilWd/Qf44VwUpSrA+3ru1mSd81VF+/s72Q8ZdpolUL+4XJnK6e6wKve44yKvHYYnYk3gg3Pgrp6Jk4TinaJnbycJuXJP0MXsTCkTgqhNbaVZoBgqqI1GJYfmZHWGs89BPWO6cuTxYbUcvQ5jal9yWAylTU6GloJLAa+bHhYTP+iYZMH5BDoRBx3TfDNhv7PScP7r0GYnIU750Hk12XMLxvFUeu2jZuiqrGoYSsj2EtCJqvfiAAD7h+aEGKIgezqT201ULwqZ9eIEtugHL5ht7SiEtT8xkuPBbH+67kKTE8AbBgVYkaqhlxBdpHyhzqVyi/zgtEiA16Ox8EOXUnbmDjlx9CsfVqFLcHP1Ji6aB2qxKKIWqtRZ5gDzfIKuqE6DsLvZ/Ud7lz33QZOzy9h1Fz49DJ3nNSQ68PygyIIV1OoYSnD5k51uF3+K1gvb7GfA/hLTYfYuxB8/iDMQbepGTysQjYtZC0qEGVaSCmknokEho6kbOkz32WjqL0R3CXckFOcMernHPXMb4ThtsaArMwzB3q3osVQ0e7G8r5frjgD2VAfnRM7BktBcMgUe6l/YSKh3REO7esTaoxp+T+Uc0v8lhucUoxTkLbZl69kceLHwFjmt0o6JJpfgiGRzQMbYQzNrfNX0yA6Oy5u6/JV9pOK0tmiGV2h+yyJyM9d0Cs8JLpqLo4B5KNc+zmE4/1fx9ZoI1OvsGnhMqNptWB4LzWtglQQ3PtPWwVV17zFyhXZ/t0QF9H4W0YhpOdoullZgqpdIe+kGCGftkRxOoPWEkB2KouMcx818pwCpztGYmHrAyGxfgNPZ8i5DApXfZ83EICe14yZYxYecPvyOdzzwcNM1swkLiZ3mRmlWeWLZr6VpIuy7VNdQGGre9YeZO1HUqlVYvKp7wGQUnLWUbn3OuJWLLmlE9X03/PiHeYmcD8oESOsewdfa+up1cCmDou4E8DYGR5zSQONjI6znxvCeoj6NyPhgE7RUNOfaYNr1tamB5st7NBDcEdfA6AMcdgr/HlcLeP4U5FDCmE6tRSg4j3AfIOcCQ076lf5fVcnkodZ4r3sAs2zZWNIpVIfMqEYJM3IH8wpLhdf0xstuQOVZy4EY5sTpelkIeeRKTGqAhagDvivKZ6mKpsWop0ba1s4yuTvBaWvsUd0+VT05UNWZyp0uCikcaC4LUMyQVapFXEtfJMx1Al2NEIn13m+Qi1ifcajK3a+Rg76M1J3Au1gIFeo/nPo6CTll9e60jZQncFNNKBfSZEsDXGsTq8DdD98s5yvKBTd4h5wiD4n1Qd8K2vdvQEgpYukob3wo4RKaMgmLmAe97aQZ4f5gnaw5ufPlRzpCdXAlXtySeKH7ocLP4mEepyIcqtr4PG8AJ03hiF3g5ChlJ2vNVAdVVmjmEKpnRqOTFeM04UNGMjSY/DzEFyEFzQpKucgOU9Hn3AjrsP9snDaNKtFF4JyPeLYbdKz4ZYVuIVkvLCaYcokpL+zL7E1GzRazBODNa698RHa7MazV8CwCPo0x82M5KS0m6lpQvAwRxQxHiWzQCPaS5HA6lBaq2QY6UhfKbwRDCKeOMpnDd4lnhY9LWErfPXLDgmJimwx8WBpIAbVphZg4wtMxWjvOdyb0l0n++RNhXNTXLCgxhoPgFFnkB0kpe1YhdRPnhkk0ADo6vppZUKZ682baGEAgHXNcPkTGwG74qDh5hL3bsQZEHySEexCSkM82dSVQ44Pc6htTOGbL07L58OaTmmiz4YsXXwZ9h17zDYJ/euv2bh/Y8BYCbE4fu/GGm3nwm3yOnbHiOakhR1/XvePcVEtOtr+3p+LXREw6xQsV7fBMMX9giZEJ2hszu1iqlSx7kjUPecNl815Fxe88cNM44JDgj541FIJpw9Ehpo0VsGnapynusxqKklHsngGQ/bTXHWKCQyUM0rRITcml6iVUObgOG5Slm8y/SoRTaHEThWVHQUiXuAXPARGiYnYq7/rJU62oB5Zodh895cgHMXoOMDinBiy5UPXcKphfVioUSm9MnU3jPDGGw86r50KI8yoJcRJW5tV2LGCTtaAVGUDNd3ppgOokUatjXIhR608W68TvlORa2D9NuQ9eyilGWONiK+8hBoIxTaHeeItEDedverBx39vuRS6Ow4TIOH4Iq+naH8PrzYep2mN7muPTRzGipm2ANgVTUdFme1+ORStdGrmUBmvz246fmyaBDX87Y6Uf+f89zC96SUyOZqb5h6DmRg2J4GIJX+FdkVvrDZKG7hrW5TusfR9s5oqg1HDylKCboyDD76iRnXfYw5GUjntvzwCHhiN6/p5TDf7w5ZsjoWVFPQmc3ENMVCNDz/GeDrGpovx8G+3z7NfnsIHiwW2WKLmSCDhsk/Za6DymG5FHo82SmcVSzECcjxU5fWWCx3ZcwT3hyFwFo7Qhxdhjkgkyk9yGgp3sxb6+3dEKsd/vAFH0eoEteOg9sGEgXB3oSSwEuioYsqcKjQnNNDaejJ1hsPdUznjAajcdMiznXLzM5jbOITVdCm8L1DDdUFnIv1h7GqVLbOamNuqEfe9kj/6z+xghdypSs12fsYMBq1hZx9R0PNNzVDhYdKL58JlqiJSIkVDCYgMNEAHVax9kwMoVnJASfh8IZEy11exhfpY6xJfDx6hQirHO4mvxrNhFn+Vw88CBeqq5nKXUr7LXVphwwHbJUkmJgseRd5uhrcb41Fe34LAO/yAp4N1CocDfthbSOUk1pjlKScTO+HrOcoCK5dwP8mO6fHZnOsDDewj5XKFbGw0KPDIo43oy7GA4bZrO9ga5CfkV2MPBF7jiwHqT1r+/9/TILqPOy+OZwaPcQ5MX+18M6r5gLxgkWEbJOmeflvmpt/1QHxYdDlxbMh5/VBJJ6F4WNbpdZjQB+GS14qx2AFw+BqbCMLuDUMnxhMOgUguGcbm8ug7pzP/dsB+HiCqgU7gsASI9M4OB6y1n6+ByPR386cC562nO8MMun9p6Hl5Y7i/SoxumB7lUIcIxXVshui1e5IPGunceIUCRAR9l6ylWlYKg9gEocQlSK6pqfi4EkfDU3q61OQzBjIb/yZgmFMWC/dDsOjEglxCUgb5jisJAwGy+AEPBsDlZ+iBJgCUbxf0wd88AK83BQTbRIj0pu1oSfJbY494iE5t5K+piAQF9og5iBUXXN1y+WEcCq/RUv0lDoR1mWie3XF2QbiIIpoYCD7LNwGxKJA6qi/ODLB8u3Q8SjoHJlKdkO0DNuZVEtrrcTwQfmV/aK3TcUTEBijcOI7wANnVCWi8uDIrFJXY0Cp9qtg2lrEVWtFZmX5pPAROCUUJeKfCpvs+rdPwG0lmHKS+PKWiQ1Id1mZK6dt+PXIB2W3aEhTHGx8obdW98qpbcbR0I0H2+hCHP+1O2cwJYYOOY9q/fxAAAYrWRukpWVneB63BkTBsNpGhXKWPbXZeoJNxL+SiBnWZdUNSOxA8kwAAW/Tn/rKsnwtRlgSXLgIdp/VoEgRaapPyFIAYXWmkMfgo8pkdrSTwVWhcO5GH7XQ59SjoKibaxRI1PPkZdb946E0xg2BLH0zZVaxTxwCWDBJ0FOJ9601mdpJDQ849hVarv/haU4zM9deE3/5CfxT7tumm7V8dXoTIFPPRRTtVTBFEPrh2KYAGmzspiaQDyvDpmm1dfQ6cLPNCbNbhFmzYnQbpsa2/hAA/nN0LzrsA2jWhTRWzWH48MKgfDfLnrWKJLPIkhq1pmNR1LvMYTfjYMwupWB++Hs0cot9gUZe/krpaUV903B7xZidC833rfoycdHSQqozZEkeHWQcnxd1s+mqg7DQX1S+dKfIuVDDCOqi51U1POXnuqQ5762nUYvGN+PgrPziaId5Kg5e94qduDQ6PpnyHHLdYpJcU0wtsNZb6zSYpgBZuwHvK2OPb3dxK3Nk2o6sAyCnC59XjIzEpf+xAOzGENFfKVE29Jgxlco/wV6qgevEMJLNq9Di6EftDTssCefuF8vzrm0KU9+aSaFlng38ISvDNV3mOnsFSrCFkmqXhuzXf+EKxXcDL2AX+j4KjKO60CPLe9i6FKB0HD7THLlAjURlz6rmuVoD8H1QKRw9iiIs5J5u7Z37MAwTB68CHaFhINPFEssZA88zmHj3RYvH2Y2DQUFgK+r+bOR8OqZwzstKFLOaZ7GmeeE0yDOInUM6L4T7qATp5Zq88Nl98KExUw9R0Pnycx1nePWfvIHbXae0u02xjLPXvAjXFWwhU6dEeWYX6MsYpXEwkoh2LQ5ufIsu7SzOdCLvgUjLD9xz9kY5wZVGE2erYhA+HcXtLIMrkUS+Ab88iqtG2+3bJoJd8lMqh6zzK17brqtzjgSBEqXoyPRylohy0K1dBJ0PnnosxeSYIoa/PQ5OURM0JkU0s/IoNgrQ9dOI+JAhNzvh2C+UrDul3sypvCpGDeoFuYthnY1JQ4ms8y/sarDcCTi3BegyjgeLZx+qghabTrrpU9wSTgHx5ayUmrPCgsc9QU9djYNx0TI/Ewdjau2GBAD8gd8BzLmsNYbLDAdOAM4lQJkABgsPYmm9MaJhTcIiSF3ta3+wFS7plr+8U3gaMlVdtJMRsAlUDcCVWE1wounYlxqHfUN4ejXIvhoHz6WZCnPgbegUcD+HbBba9rsNOyDpjXmhMCl9dTh+PSuKpnOgWG4w+8StTf1qE9XSm3mnX/nnU9DRwpDaP3Qi90yAaBx2G2C4s4loBreahVUdPnkp5z+dD37yh+7ov/L42+zxRoBNSDKBbtZW1HMi7l5gn9FXQrv0nhzJkNHjx6nZjRFCj5CQhPHthdB00coYNMHgdDyRUxrt3MpSSXOnvzG3xERQ4kM/tdRco16jSut49cxDL+9duZFC8RcyVdMcKa2hRY/azt4mpjBJsN3+O7gm7w7HtKW9FhJS55w3RvySCFjRC2W5GZ01FOT8UUtGp6dz6G8TuSaarmhIFtSASlnMeNGtxgVibfqgFER1C9zAwerOxBYla31Qj2B8bXGLEPSahWH/OUiu+KijAoTynkPmCzCGJsyNtLVdwCBRqs16OPqh02SbXEb8Bvlgn8KNTA+eMZbmUBO//fWPOfbrCVjtnhat28y6BoTrd3CW9hAsPgYCeSW2mg0dchY+ckOzLxFC3NJkr0mThaQmkxH82Jo4TNNRAkbyQT6pB/1EBFwavLNCGPD+ySqWvTzx/liBrJTW/Dr3mnXXL3pBxz3iz8VZ6EY+zWNmw8vG5b1oMmLuxsGswrkTOpxlBwaGT8Y58szMTJdTLQ89HauDMCdnbcNbisBZrqoqyYLIZX7VzdK8NFBFn57p4YN8cpb96UtJfDwOpsohdtnAfDiR3/p8DiMKLRaOUymf7TGeM1X/7fPAfELJyGvvGQYP4tCOYwgYpIf9OwC4TK/a5D6i3SdfVc4rBydp4A8vQjOORBWnPI++I0590Lu56LskhO4irqE7DOYKcSwFrQi3mN1iQfAur8HUrIr3nuh7KDAgR1Xq1LQmaxCYW2yd2Hf4dctFzHAqFMn1Ss3c5Y3jhqqLHB6P+mnoXVj/a342KiUs5FlSCmAYrE4WXAyyehlKArZcvRkzd8bBEC3ALJJgIw5/BQATYkxSsYo0HDFb8JqxkSZd1LS1jBo9OcXQsaAitl7iZu+DSOS0QYdayCPv6H6ntwPv4SS21y7PlsvK9w3PViIXhoFgHQrCjUWz58zAovdjSPEw9RAypUkSm046/suxrMXYNwZjTyl6cbU7XD3RZfPB2qmDB4vxzlrZU2GR6IIfQB3ebF30LlN+3mGYuYVOphGREqQ4BaGRlaekd5DUsz1GAg9dzglhW78BgGMbMKSED5xURbqlj5/rzFXB+4uNpN1lqhQAvs5NtqPtOg+z+Zk6g4tHOeopZ18uNLnFcxiuCDfiOScx+BSwOO08IkQiG34cbB8/NYtvpqJhoP+VuJXAvxqMdFzGG2F40QPwfBE80K+yYQ/xvtd7SoRgkn5jJSmdKz9nBBIE/1kUzqUx99nLu0lrdZACm44WfXS++gMUNErH7NWJdSZhz7UACWndkopCXg69AUSyNi5/HXS5ceiaI78wxSglK7sI2pllhjHGxWyxC8MNS7N5L1OdgaMBduuTUOPi8xGBDG4FBotp5zJdHqHsIYeJVs9Jzy+d709Vrfbk+83+aSpiuVC5WTWr2sRoRc2tduWtGsx7PGg4BQqtkBSGrNKzFzyHqajtYHdNTRg+2vcgyE8xa0SOCoW5fL/jX78ar8cpmjZLKhCjgceHvT5AQReWxnSs/nqhKUxfb3eYnUywz9ktpcswb6y64JzOFt/hsgvrixBNTgwsP9AdMIWUQ3GHETVIJ6e6JFfz4LuTL/J8foFkOHcyN+zW95TS1othUfH8/SHKE8aYjuL0IjY1ItrBJ59PwzDQX+pZBXXhvlWtxsvm2SLtEayft8GwKTRJLeKYKdL30ENrhVqyUggkGVlhWbj9xelqJwKHXKhPsClIfkzEKWvTDeUU6h89TsqDeAyGH42AKQ7UDkh7wfAkWJazxwtpwGVD/aYC5jvD67tb0bsitkFVSAHDvdgdPTUPl6XDiMNfNiLcAwZWA8jqldVI67NihWL5aFdxOolR7gj4LF7eFQ3PB+X1+snk0Ndhb2J5r5kzXX1NmUVARHvXrFUMgzid10yPy5nXaUzP1AEN1tY3VP0GdyiSGq5kWGcwRo/es6N+PAI21JMJHoka5UsXt35kSIwlq7vr8mjRFt/mJ6UwduOJpsaO3gLDTifGqLULrOKO9bhfcZBTTEinXD2X0XDItcErsUpY1WhNtTvRMM/gxYgePM+iaczXRfuqODH8B+vHnQqKm/au5iTPqTrHyCLe3kqwZM7weEeFoK+x1XNVaYahghyOYr0Hw2RtjabEvFqgkry2b/bMfkoB6l8SAbNdw9H/craqfN1DmbhTlRC5/2hRXg88eqr+gBt3iqIoP3JXKprXY2sweTEtrYOETO7DcH7eqo0SjHBLMTiuIznGGcnuhxHIzKBBEEbtwktiiphCQUFKzwXBKD+M3CgCvzkU4aLnLFp3iPXUbLow3OTwylaC1Z6FxHndmt+Hf2qzxBQ5JJ1OV5xciqUfjQPOktnKiQYFtm98RO7IfqJ89iElLPM/KY+66gMayUA5ER1RHByv8SwOfnhKRkcQYOr5T7NPKKSG6Zzfoxr8RjZFYN4HD8jkORjunLf1mfRE1H6zUU6zNYaZVVbHiIvVVZctDBnXmiFjrTC35fgG6tBRByrSreZZqzWFZiX7jMloeMWIFrM2LRjOoyXaJC9O7QvHMzt69nQl4xmhslkRGMfniMw8bemFUPXwwSes/EYAtvZgRtU26308S/YlAzG/y5TDgJ+Q596Xl9ABvkVNo3v9RJbrqd4I4SYOrbp+ukhKX4BhqBOp9oVO5wPXE2BBEuUeWEvvk7J8Sv1g0fchWjXGSccq1dI6GUJPyOXTp3ZUncinSjzIu1LHoCyBt9ZnP0kX1TBMWXcfBkvO7A0FZMPWs3IqbsYzsyJgLuS8OltHbaF98EapURVh/I4I2L7HZIwdoTRXptxr/PSpTeTqvTCqh866zelxaIcaGOJNZXmJ1Nc//HqERiYv2/AaJh0qBlStio/BsLF1ONWnswE0xfOUmu2ex5Dg5aUuuu3QX6pHARo5utDUX5Nd33TIQtYyV9doGm4MJ1hiodCIfoMBjEhe37zZexlc3DVxL+vZsa1ZItg1N0SNCgavngvkjr7j3U07bZQBzVBpnecoz+ci4AwP9nmFnfXE+x8PF4jMS3VGx/hnpzfUfRErS+hWUfIahLMaZ0RrC+96J5nH+xa3ZsLZnoHh64RbDcMBoF7gsXHMUI2bj1UBV2sgXd6oc/Rh0PKCV/XzoHfsYEk/yQUYHs386/ymvMBtvokOXSmemMHgoKM4dvWE/8iGZE9VUQkY7uxr8CsDVXnjWzc09fPn8+i7/08CuA9CtYIHyFPqIPFdHPOWY18Ntw3KBVxPoU3rwY4+REQcPP6Dz9VoozWFcUrfe191jZoDqk5k9VY7OlPHCFJ7UzGJAvNUwMt/+P8N+W/3We5zP0Gr6Bs+tO2xIFrbq9vcksgzUcMtKSLOVeaJ5m+KbjLw4gbXJNKCQ0xb31CFt2jMepcmww2Nzp28SEESwmdEh2EC9FuUsCZe8M7sjZnOeqebO6Av8kmCd+gm6uvHW55f3QX3O3/elGruRcPT1HdrRTFmzCr7KMKtH9G2EaCesHnVovUzuN6Y+w7KBw8vuXWu5+4bvGMz9OPgchq34idsojc3GUgSqN1h4Zdcezv5E2/96WEMkel6YiitQEcGnFdN95Y5ChSGwXTNONdD0ieh+v2laretxim8XMtAd558OQA8LaQApZtie/2D3veutEXj+lHPreOGdCa9b8lNBqYRDL/xBqMy2MgiprRpCe5fhXbHpuLMQmHV4eLghZFPJ9a5EU5CVBWjeOvib/18jII2L9uhXeg9trDMOb/rMbzVxd9tBne4KPtxrk4oeiygmPUOO8/Iiz4LUrqzIJ2aYSzQ49qgqEFo3sU/l9KwJUPYcu8UYdA73gODEy7sAPTR0yPZKGglkHFjpJOs9pKLpN1WLwXD4fb1Gc4V78lHm09RGclhEzGf+nlSirLTYeYqdbxrtb3frqp22pXbpPmH7GiiLl0AOXTFTf3Kd3j0GFcXD3X9+qVouLk40TgIteXb3vNe/CUUVTzdLaW2F+xMug3R5SGSEb15ueK+TeBmUkqlOTAibUnyGmznteLPimSKnnaUglGFeCchzVReoe+dDAzzaPhTAPEIAJORqq/WIN+DrtZGIY6iM8Emuiqami7Aztq16om22JWvXfJvcfsnzSh7nE/efIs34+YyEDS1zaD+IALlhf0hxFkIyERRW1/QXlqEK/rSLIJOxWc0eRBKKkvDQYh3mDZrGZcTpWiPYCiS1LjuHPT6Jrw9gWo+Vs5imXuA4lWiu0V4+H8zJOcjde2qC3etc7bgNqp1NKrx3dZ2/tWkBNq7tqwK4s9e8SOnE/ow3OTG3vTzDAWNMUk90YXiZJXSWJlEhoXZgnhbyVXkmzfbqLxB6fXp9Lek8uSrlpDgYz+VS2He+adk1xiDICmscFVQbsauqC/1lre6PMwuOVkz3K/QRrKlbs0Fb1+Xr8LR88YdojhdVN/0w6+fFjoO+AMvl+WnAuKDarZJ1pwhI+3dOy+atAmIL20V8qeg4eYkvg6FeB/ujGU7rv9Y/AQFJRRg0/x4sR8RAedUXnnH1aRJP0OgPKnJ6GeNgstvsHWz8jNsqtsWxToUiifVSxfWEb9+UW4NcWG4fR3MMh5MQj0bk8D/sS0AypsdOqPim/c0XULLRryNsRK4Z5BwVxKUQt1pJNyl2Yvv5dhus+h7cuFVG/pHfpLBmtEn3ZW810np1Bociz54BBpyaNhZPpU67P2l6y1LOqLq3o2LxDP9lmlIUzXi8zAMuUmRP6HhHQ80JtMQ+Vr5QSx8wiHHYEJhhWHHsOvb3IuLfSTRu7f1iEyNpIt/hLEy1506IftFD2YBhrHfkSB1pU7QYnoy2cuWouS41x01O0W9Y3Y56knhuVDNG6mZNg51PMmeAtfNwe7kGO9L+zadgJVbNCkYdrc+Kh0aptSRmjaOtr5dLxaeETVmyT8SBz9UBd0h5Ro91KhbNdDIAdPK6pSWpmcBUYOapGTraPNQnD5KTwjvb1dM3T+vPKx/YaUKUadIm3+mV9Td5eLewfSUldL1EU5SV5nA1eDsLpGBOD9ap5yCZWzNqnOpFFthcCWYkYlMLcLuEuiW0lNwzWtrUn8r3ShC2O76Hec6R/DQLQ/nuvVEguvL5olZpY5crGlXmBlDdiWUi+pXjSM0jARdvOFjXMCVvt6eQJ33rdN7IjXoNVqx8zWCYzRlOXXsa1k+wvyRZSwSHTk7bHxtWQigCizL9NuqNOBibLsW9yNj6RpvYZ8Dc7eHwAVA5pfndn/vUEWlg8JpHnnLkjQGOSqK1ORsWJeq5w1EkatuCqBS0Ck3RrqwRLv7T+D6YOY61ReyUsTunpZuy6dSR+EznO+R+MCGnuzX4bW8r3rxMwDcwlp0++tpYbsxh53K0xxVPEf20RnRQ/fqRFLrE/DqFcnBsLlJ7fCU+Wh6d8iZOM/uaQpl3Qce9+Rk7gLNb0AlpegWa2Li9WeTSqenTCo8QQUC/nFIP7Y3uDSTdkQzKVxbacgdCkidJvI29wba0T1Wj/fsGz4ZiNXDKr0hULz1d2HYJW/G3OxeMTolO7kqw6b3cWOfBuA+PK+1USbqfYtBiNnpVBviaiOsViSd5z1IBKpged84wfm3u0WxUdXeSK/eNlGq6qhWPCptHr3AyEuG1VfOSogWu0csTLWD40V7wU07/YxouXt/a/eENIhZuI9O1AXVzwoZzm+ONR2ywa+9WHWtoMocYcGbtIfFmKo/agIncPv99akAAA8JSURBVLrpNMb4u8/j23kX/x1QzwsEmbDnloTRa1bhFXCBj/G8cWAfO4z/IgBHXk8Gw8fjMltSXE+v2Cc0t3IZPPhqABFEeetJhac654cG1HkthyQHL5OH9xPOEK/gN/MKC8s/kjrntVHC2KMHEJ4wMspRQN1iqJ52yhfB8CRSIYwSJi6Gqnui1Sc2NQrT+wqVXtrZx6qp5j2t9Fqle0KXTA3RpqbkoPE5mMfGgQS5/kkZrtm1jnpS5PpEQLmPkfH+MXiL1OZh0KuBVo4Hkt4BHM493LvpCp9+G5NiV/sOK24XXy+R//MBeEZdGT40UshaUCGwTmaXROrWKbaKOAyHsN3oTBWxGh2Nm5AxLkWojHMjEKlTaD6HSjqaBlIAdkVwMvM68jk7d3QUhuRHq83J4DaIQkkdyCCcev44JuJg9CIa/2jkO1tu6UrTi2oJUdHpSg6vlhC901DDQ2qKF3Jdk/OZoYiVHfN31VIV1azJVxwx8At+XkhJIF39x12ZrQQJrCqFRAQP+a39mCfyETakJjsI7hwCel6J60jRJq6MxBNV7iDOwxInfl4H8ST6D/sioUIltjvvvF5nWneU5HDUaZpD2feQl+SeIFe75/o8LKb77RFwSSlMtogJhmtnlmyjbbKrnVlXUydi5lwhU7QBU+8Db1Gns07VWn5A5CqbITjhL7nuqpsB5RpvEsLHyNhdu6e+hNVBA4wr2LyTQtrGeYMkjqxeKSr2kgL1uek4b44y9Z5RqW1Jnggaeqogc6EwKYX6K9H1usrp4JZ47pJ0hFy1/LguAyYKXF5ZzrP7vntvKo764SNMtKfYto6XnapAis1dY3Y3BjvaAX60tZuBWNhJe8fssQnglKogeNb62r6o2sfka6ajBnmLy0F7DMBr2rirQgTQS14K8kRajgNDoTI4YTDdjnxmZ5HfoNhS9td6MgTkFNn5wq7/KOg3MRKqTC7b8aFJJ7uBU7wtYq+k87vylZ977hqTtaVlKLkPrMbw1i6s2+jVO2ATBiL76IStyiNj/Bl0eM2ggT8AnZWMYA44IsLjoBlI8IZOYTV12d/3cVwXWWothNIAeExSyHacpas9kh8wkiux30JMmxBvJWAXBxoEQtv9EZUfFMfMwqjJIXu3zN8Jfvu+TUdaVL2RF1xxK8yYs3EIUOw2fswGoLhymo6kLK+M9PMzFC1+OC8Pf7DH+qdGxnYl+8M0Zkb7ZFfa9pOtfZR5167A3KoemHhHHQzuGJ2cYPtJyZT/vX9/IrdDt7GdLT6X5iR2NFodIhhOffyu0MFWc/9a6DBTu2hmkZ2JpXycIljTpABOAJbz4TD8F382NoyIPUKlMgcYJmDPYNFu1RsMH9sFGQeFK9Fs6wfDpvb9YfWzU3JSwnZOlGGRwkLjtBOBb1++GH42oSlQhji5TkZSg6LnzGFYGAf8GKXHlAw5MdYzapC1cQHDjEKlPbP75/gt+wRxU8onI8vlSZs/z4hfhATssUu4DVdujth+hMvYHlNTNxhWCYi9EGn3b8S73iN0JgS9XRs2Mj9o4qFewY2CDN0XZOp+XI4wEZdmMDzGRyfjfXMEjPf7Ji2dLNNuFPmYdN/90Rj4W1UFQwSGr9/8cV0NAeiybIz4ijW89xl0Eg5pN1FCue1QDMv1tW1H+//bu7c0xW0gAKNVmllM9pqHbC1LyEISVx6sS0kq2YaGhu7+z8N8DLgNFsiluzZNSUxlq2FYSzbSVVeCSZItXARnXaq7tQynU/d/Vw20q9/b8nZwbxi+OwPYIzLFreuEzkPNfRnXolDqU1ijIsjdxYhWtgvPUbebjduuuy6bKUlNRCz11dNa+7WhuVvHHOG7nMaanJ20gtqYLdv/XDzU5cTfqes4x8/+imq2sjzs2I8Kzr3Ne4nEynvubX1qtQRem830QhPOutpWKrtu4ehu3E/bPLhV2du/LmVO8uwLK8GfFoDtWvPgA4okdTb3TTdBO9zeJ2pQ0jCIrW+E0avaVSCtrz3Yomhrwd1HXfr2679bbSXrSqXD3a5OusiVbzO3ZrqJyabJNG2qJrppkrxsTW5S9qusWPd5hnXYt2RJzZLm3u6hllxCdusYm4bJtcEgebbIpRU/FwUZuzM+2bracRwnjmvnqwbc91hW+PbluiVYM9jGSqEeBdHxr5ZTdMLhkEdbNHbfhO/ldW+jY16r5Untm5W1ZKJWk3Z7OQy9PO3JktH2MrGqaZA+wZx+tfmW2g1CDBc703nNkD28dXXjoBTqup9MSwzO1d2aA7txGTpkMs2HxTtIhjsy+Sm5Q++4S0n17WS1nWAoYN1aAvjMpbw/ezOG1Q3IjlcvuDcM33izGEPjcMvVIVjqyYw9i1uJ1TeC+MFN5UHqeoEXjTl9hGthOA8eaWsIlP1ApmWEfSubH/ZZM3D7Q5VNddO05RicxO1q4nO729IkGCmWxJJtapZs24d7zOmfO6JKDF5tw1F75zQKjqet0G7M6vmo7q7rzY4XNjlZ5nc13GlR3+zGustt7eEHDSfnZ7Brp7olDM9naHXEqyXduPknHsp3MJWzL/u2uqmNw+KWMyM0SFHdukykPtBGUwTzAKGSg8ZxlH27yngTUDfy2qYBUPuw6lR7jfsG8zqMS9uuQcOCQkEniNUWrxr2ysRcG1tzx/6I1uWt8eJTvikrOKCfAbycFBM1S9xdgvwmmzEcZm09aG953PvpfcdbPy8id5OujomivkXl7rDYPkxJmsf3T2/U5xXfriXDLMYhmlr0k3R/ornpZvirGn03TZskU03dAZvGA7C7t1KzpFsyU9v2YBxmHj92epU3pm2axMfTfmiPHcVgs7Pte2zawfRgnMGVdYCDH8ii2dfs6qioD2XI55f29Wpeu1CSnibUhVsfHp4zDMCl6WgYFXi+tnyXidQ0R+Kw2Xm4KJ8ru7kP3W1haA8vL3ZjjrsW75YxS0fP3GVTtnytAySv/Yw1Ny62GNyGaJgcLZh/1ItfOo8fvHhwFEpf3+/7ggA8zFufm+DtY0OuTFcVjnvuX1NZ2Pq9rnS15FbtAjFZTYHoJx3VPgwdt83q7gI2NnRrm5phbkiZlUpwNxWybq5cr2LTdNy2uYmKJv+HmuNlrrBsZUvg0sGie4lbLB4RXd/3P/m1qSVTM9tUk7UwPLb1HU37i0cIt/0JXVvL9S9+rhqutitvo7jlhgno9907ojkbx4PDbt557OO7Q57naA1yrv/9H4S0KHn7raJcJpJoj9vhtFtd5Uq7nHuwb50NS6yvVivUbnLtsDlb18iZc6aam1nb2pO6K/JVarfHgG9zzq2v+3Bk13xm42lr09GmuodPzRVMU7u5FtifMx5259vhdX0Pn/Lawc/H5p6LqBhxUGAa5q93Pyd/K/4GATi3QbkYPLemmEYVxPlLWhZn98EEasuvuJTepN/r0dZr9+SJet0mkWU+z+Eek/vAAdNxT8Cwmpu7LsYewijw9GG4Jmsd8dD+U3fE1tzRM60UZqJpc83Ufg8va/FSczeVtskJv2zbcrR3MwjLlaa2kMg8MFtVbK89/5t+J9uSpU22pGlvlw7DcDcQbBmDZQjDtXO5PdBuLMzRAN3aw1SGeXddULpslvDfvlwYuKvX2ocuhN5uhkw/kkBvDZ6+9V5P6kPLZoCyAsLhPG/X2WHRRBUtg223fWjhUI/qs23Np2XggOsriKpWtv+8y+hf1faVxROZdGzgGXpthkq576d0dTj3g9x/nrnQrLUXc4iX0t5OXHnXr7zRfUAV36BsQ5RJrQ3M2spcZYyj6pgCQ5ftuljcBnMFvT8afWHR2iPdiLb1j03b1sJ+ra1a/rCz7hX/y9AwDH+TGvA+kE4AAMBUsTRSAQCAT5ZIAgAACMAAABCAAQAAARgAAAIwAAAgAAMAQAAGAAAEYAAACMAAAIAADAAAARgAAAIwAAAgAAMAQAAGAAAEYAAACMAAAIAADAAAARgAABCAAQAgAAMAQAAGAAAEYAAACMAAAIAADAAAARgAABCAAQAgAAMAAAIwAAAEYAAACMAAAIAADAAAARgAABCAAQAgAAMAAAIwAAAEYAAAQAAGAIAADAAAARgAABCAAQAgAAMAAAIwAAAEYAAAQAAGAIAADAAACMAAABCAAQAgAAMAAAIwAAAEYAAAQAAGAIAADAAACMAAABCAAQAAARgAAAIwAAAEYAAAQAAGAIAADAAACMAAABCAAQDArX5/6U+vqnyFAPAzmRkB+JX++OtvEVEVESsP9ths5UH+plRE2qvT8WL7q+WwxfHlyfj49qqIro8XEV0fLyIqKlYeLI4Xc69Ox4u1womuj/fpMx9/nJ4+6Uw0p4Cp1dQwFREzlfx2aibu8XCMuDPkY8qZ98fhmffHw5nz8dGZ8/H9mb/853evds/s3+N8ZP9896mi5+u1jEdOz7erWDw/f86v//mlfmvtv/mrdLm1HSnD37ovvR1fMtzFE5r72ysntP7DuDtYdMLp6toJ2w3n6OpOTzhc3ekJTUTSn/989fhFEzQAAARgAAAIwAAAgAAMAAABGAAAEIABACAAAwAAAjAAAO9Hv/RKIqyEBQA/Fith8QUAOC8rk1VJaipgA5qgAQAgAAMAQAAGAABPQscMAADUgAEA+BnecRR0HdsW1s7DV/cn52euPAngqRnZZzr/JNnwNPWu3wMfeLP95PvkwZXWA550pQ88/zcJwDUtVHVOl/DV8IHP8AdPAnieMJeR9W4tu4ThKrxD3h35XnWfPJ1K9JC5RgcX9dq5TOlrZd351SH5jstu5HwAX7TgMrxqZtdvaKsw8/L75MPf66Yrfbn0E361p00cAJ5XxZlLyaxh94xEfkjCruo2r7quuRH0UVcqb9AU+h0C8HE3yRsmOvDTKnND1+/egkriPDDcWnF3wvo/fIdKy+pG/agrfYdA8Pt7/ByHdDzoICH6Ap9cMvb3yuFJMuPHK6n+39OYehBW/fMvHytzcDmPvVIC8NOrxW/VqAIAT73jhbe+r1jWqXds//kfcqVDLH9V+qT3T/rrP7thIF94QkrcwKuysG81pfr7jNB7a+do+B29yUVV4sadPepKw/NTA45bq2peDV8NE3fVCsFUYODzY7DPvzRE3ZeSF++B1+9s/ut4n/USTktmD7zSl/sf5eIl/wKX8D4AAAAASUVORK5CYII='>"
      ],
      "text/plain": [
       "<IPython.core.display.HTML object>"
      ]
     },
     "execution_count": 63,
     "metadata": {},
     "output_type": "execute_result"
    }
   ],
   "source": [
    "#figStrainRate = glucifer.Figure()\n",
    "#figStrainRate.append( glucifer.objects.Surface(mesh, strainRate_2ndInvariant, logScale=True))\n",
    "#figStrainRate.show()\n",
    "#figStrainRate.save_database('test.gldb')\n"
   ]
  },
  {
   "cell_type": "code",
   "execution_count": null,
   "metadata": {
    "collapsed": false
   },
   "outputs": [],
   "source": [
    "machine_time = (time.clock()-startMain)\n",
    "print(\"total time is: \" + str(machine_time))"
   ]
  },
  {
   "cell_type": "code",
   "execution_count": 119,
   "metadata": {
    "collapsed": false
   },
   "outputs": [
    {
     "data": {
      "text/plain": [
       "75.121393265864967"
      ]
     },
     "execution_count": 119,
     "metadata": {},
     "output_type": "execute_result"
    }
   ],
   "source": [
    "velocityField.evaluate(IWalls)[:,0].max()"
   ]
  },
  {
   "cell_type": "code",
   "execution_count": 120,
   "metadata": {
    "collapsed": false
   },
   "outputs": [
    {
     "data": {
      "text/plain": [
       "0.0"
      ]
     },
     "execution_count": 120,
     "metadata": {},
     "output_type": "execute_result"
    }
   ],
   "source": [
    "velocityField.evaluate(TWalls)[:,0].max()"
   ]
  },
  {
   "cell_type": "code",
   "execution_count": null,
   "metadata": {
    "collapsed": true
   },
   "outputs": [],
   "source": []
  }
 ],
 "metadata": {
  "kernelspec": {
   "display_name": "Python 2",
   "language": "python",
   "name": "python2"
  },
  "language_info": {
   "codemirror_mode": {
    "name": "ipython",
    "version": 2
   },
   "file_extension": ".py",
   "mimetype": "text/x-python",
   "name": "python",
   "nbconvert_exporter": "python",
   "pygments_lexer": "ipython2",
   "version": "2.7.11"
  }
 },
 "nbformat": 4,
 "nbformat_minor": 0
}
